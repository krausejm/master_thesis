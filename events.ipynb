{
 "cells": [
  {
   "cell_type": "code",
   "execution_count": 5,
   "id": "precise-sheep",
   "metadata": {},
   "outputs": [],
   "source": [
    "sigma = 1e-6*1e-24 #convert 1 mub to sq cm\n",
    "acceptance=0.5\n",
    "f=6e6/4 #flow\n",
    "br=0.022 # branching ratio\n",
    "rho_h=0.0708 #g/cm^3\n",
    "l=5#cm\n",
    "na=6.022e23#mol^-1\n",
    "mm=1.00794 #g/mol\n",
    "n_t=rho_h*l*na/mm"
   ]
  },
  {
   "cell_type": "code",
   "execution_count": 6,
   "id": "physical-packaging",
   "metadata": {},
   "outputs": [],
   "source": [
    "rate=sigma*acceptance*f*br*n_t*3600#"
   ]
  },
  {
   "cell_type": "code",
   "execution_count": 7,
   "id": "fatal-theory",
   "metadata": {},
   "outputs": [
    {
     "name": "stdout",
     "output_type": "stream",
     "text": [
      "Expect 12.563069944639556 events per hour\n",
      "Expect 11884.66416762902 events in all beamtimes\n"
     ]
    }
   ],
   "source": [
    "print('Expect',rate,'events per hour')\n",
    "print('Expect',rate*(39*24+10),'events in all beamtimes')"
   ]
  },
  {
   "cell_type": "code",
   "execution_count": null,
   "id": "modified-newcastle",
   "metadata": {},
   "outputs": [],
   "source": []
  }
 ],
 "metadata": {
  "kernelspec": {
   "display_name": "Python 3",
   "language": "python",
   "name": "python3"
  },
  "language_info": {
   "codemirror_mode": {
    "name": "ipython",
    "version": 3
   },
   "file_extension": ".py",
   "mimetype": "text/x-python",
   "name": "python",
   "nbconvert_exporter": "python",
   "pygments_lexer": "ipython3",
   "version": "3.9.8"
  }
 },
 "nbformat": 4,
 "nbformat_minor": 5
}
