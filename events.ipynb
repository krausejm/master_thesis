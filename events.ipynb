{
 "cells": [
  {
   "cell_type": "code",
   "execution_count": 2,
   "id": "precise-sheep",
   "metadata": {},
   "outputs": [],
   "source": [
    "sigma = 1e-6*1e-24 #convert 1 mub to sq cm\n",
    "sigma_pi0 = 5e-6*1e-24\n",
    "#sigma_pi0eta=\n",
    "acceptance=0.5\n",
    "f=6e6/4 #flow\n",
    "br=0.022 # branching ratio\n",
    "br_pi0=0.96\n",
    "rho_h=0.0708 #g/cm^3\n",
    "l=5#cm\n",
    "na=6.022e23#mol^-1\n",
    "mm=1.00794 #g/mol\n",
    "n_t=rho_h*l*na/mm"
   ]
  },
  {
   "cell_type": "code",
   "execution_count": 3,
   "id": "physical-packaging",
   "metadata": {},
   "outputs": [],
   "source": [
    "rate=sigma*acceptance*f*br*n_t*3600#\n",
    "pi0_rate=sigma_pi0*acceptance*f*br_pi0*n_t*3600#"
   ]
  },
  {
   "cell_type": "code",
   "execution_count": 4,
   "id": "fatal-theory",
   "metadata": {},
   "outputs": [
    {
     "name": "stdout",
     "output_type": "stream",
     "text": [
      "Expect 12.563069944639556 events per hour\n",
      "Expect 11884.66416762902 events in all beamtimes\n",
      "Expect 2741.033442466813 2pi0 events per hour\n",
      "Expect 2593017.6365736052 2pi0 events in all beamtimes\n"
     ]
    }
   ],
   "source": [
    "print('Expect',rate,'events per hour')\n",
    "print('Expect',rate*(39*24+10),'events in all beamtimes')\n",
    "\n",
    "print('Expect',pi0_rate,'2pi0 events per hour')\n",
    "print('Expect',pi0_rate*(39*24+10),'2pi0 events in all beamtimes')"
   ]
  },
  {
   "cell_type": "code",
   "execution_count": 5,
   "id": "modified-newcastle",
   "metadata": {},
   "outputs": [
    {
     "data": {
      "text/plain": [
       "2376.8"
      ]
     },
     "execution_count": 5,
     "metadata": {},
     "output_type": "execute_result"
    }
   ],
   "source": [
    "0.2*11884"
   ]
  },
  {
   "cell_type": "code",
   "execution_count": 6,
   "id": "bb9380f8",
   "metadata": {},
   "outputs": [
    {
     "data": {
      "text/plain": [
       "0.0009163067900030004"
      ]
     },
     "execution_count": 6,
     "metadata": {},
     "output_type": "execute_result"
    }
   ],
   "source": [
    "2376/2593018"
   ]
  },
  {
   "cell_type": "code",
   "execution_count": 3,
   "id": "a5ce7b03",
   "metadata": {},
   "outputs": [
    {
     "data": {
      "text/plain": [
       "218.1818181818182"
      ]
     },
     "execution_count": 3,
     "metadata": {},
     "output_type": "execute_result"
    }
   ],
   "source": [
    "5e-6*1e-24*0.96/(1e-6*1e-24*0.022)"
   ]
  },
  {
   "cell_type": "code",
   "execution_count": null,
   "id": "d93fecd3",
   "metadata": {},
   "outputs": [],
   "source": []
  }
 ],
 "metadata": {
  "kernelspec": {
   "display_name": "Python 3 (ipykernel)",
   "language": "python",
   "name": "python3"
  },
  "language_info": {
   "codemirror_mode": {
    "name": "ipython",
    "version": 3
   },
   "file_extension": ".py",
   "mimetype": "text/x-python",
   "name": "python",
   "nbconvert_exporter": "python",
   "pygments_lexer": "ipython3",
   "version": "3.10.4"
  }
 },
 "nbformat": 4,
 "nbformat_minor": 5
}
