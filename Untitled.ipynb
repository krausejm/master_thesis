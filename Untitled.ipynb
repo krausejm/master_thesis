{
 "cells": [
  {
   "cell_type": "code",
   "execution_count": 2,
   "id": "nearby-screw",
   "metadata": {},
   "outputs": [],
   "source": [
    "for i in range(5):\n",
    "    for j in range(1,6):\n",
    "        for k in range (5):\n",
    "            for l in range (1,6):\n",
    "                if(k==i or k==j or l==i or l==j):\n",
    "                    continue\n",
    "                for m in range (5):\n",
    "                    for n in range (1,6):\n",
    "                        if(m==i or m==j or n==i or n==j or m==k or m==l or n==k or n==l):\n",
    "                            continue  \n",
    "                            print(i,j,k,l,m,n)"
   ]
  },
  {
   "cell_type": "code",
   "execution_count": null,
   "id": "blessed-marketplace",
   "metadata": {},
   "outputs": [],
   "source": []
  }
 ],
 "metadata": {
  "kernelspec": {
   "display_name": "Python 3",
   "language": "python",
   "name": "python3"
  },
  "language_info": {
   "codemirror_mode": {
    "name": "ipython",
    "version": 3
   },
   "file_extension": ".py",
   "mimetype": "text/x-python",
   "name": "python",
   "nbconvert_exporter": "python",
   "pygments_lexer": "ipython3",
   "version": "3.9.8"
  }
 },
 "nbformat": 4,
 "nbformat_minor": 5
}
