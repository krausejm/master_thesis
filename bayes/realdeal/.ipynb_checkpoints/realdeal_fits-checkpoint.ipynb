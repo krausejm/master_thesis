{
 "cells": [
  {
   "cell_type": "code",
   "execution_count": 1,
   "id": "b1d444f9",
   "metadata": {},
   "outputs": [
    {
     "name": "stdout",
     "output_type": "stream",
     "text": [
      "Welcome to JupyROOT 6.24/06\n"
     ]
    }
   ],
   "source": [
    "import nest_asyncio\n",
    "nest_asyncio.apply()\n",
    "import cmdstanpy as sp\n",
    "import numpy as np\n",
    "from scipy.optimize import curve_fit\n",
    "import pandas as pd\n",
    "import matplotlib.pyplot as plt\n",
    "plt.ioff()\n",
    "from cycler import cycler\n",
    "import matplotlib.patches as mpatches\n",
    "import seaborn as sns\n",
    "import arviz as az\n",
    "import scipy.stats as stats\n",
    "import ROOT as r\n",
    "import time\n",
    "plt.rcParams[\"xtick.minor.visible\"] =  True\n",
    "plt.rcParams[\"ytick.minor.visible\"] =  True\n",
    "plt.rcParams[\"mathtext.fontset\"]=\"cm\"\n",
    "plt.rcParams['errorbar.capsize'] = 3\n",
    "plt.rcParams['mathtext.rm'] = 'serif'\n",
    "plt.rcParams['font.family']='serif'\n",
    "plt.rcParams['font.size']=22\n",
    "plt.rcParams['axes.grid'] = True\n",
    "plt.rcParams['grid.linestyle']=':'\n",
    "plt.rcParams['grid.color']='black'\n",
    "plt.rcParams['axes.prop_cycle'] = cycler(color=['black', 'red', 'blue', 'green'])\n",
    "\n",
    "import arviz as az\n",
    "import warnings\n",
    "warnings.filterwarnings('ignore')\n",
    "%jsroot on"
   ]
  },
  {
   "cell_type": "code",
   "execution_count": 2,
   "id": "d63ca249",
   "metadata": {},
   "outputs": [
    {
     "data": {
      "image/png": "[encoded data removed]",
      "text/plain": [
       "<Figure size 432x288 with 1 Axes>"
      ]
     },
     "metadata": {
      "needs_background": "light"
     },
     "output_type": "display_data"
    }
   ],
   "source": [
    "final_df=pd.read_csv('eta_data.csv')\n",
    "i=8\n",
    "j=0\n",
    "x=final_df['phi']\n",
    "dx=1/2*final_df['bin_phi']\n",
    "y=final_df[f'A_{i,j}']\n",
    "dy=final_df[f'dA_{i,j}']\n",
    "fig, ax = plt.subplots()\n",
    "ax.errorbar(x,y,xerr=dx,yerr=dy,fmt='.')\n",
    "ax.set_xlabel(\"$\\phi$ / deg\")\n",
    "ax.set_ylabel(\"$A(\\phi)$\")\n",
    "ax.set_ylim([-1.4,1.4])\n",
    "plt.show()"
   ]
  },
  {
   "cell_type": "code",
   "execution_count": 3,
   "id": "46675d3f",
   "metadata": {},
   "outputs": [],
   "source": [
    "#this is my framework for bayesian fits and pretty plots\n",
    "class bayesian_fit():\n",
    "    def __init__(self,data,stanfile,nsamples=1000):\n",
    "        self.data=data\n",
    "        self.stan_data={'n':len(self.data['x'].values),\n",
    "             'x':list(self.data['x'].values),\n",
    "             'y':list(self.data['y'].values),\n",
    "           'dy':list(self.data['dy'].values)}\n",
    "        self.stanfile=stanfile\n",
    "        self.x=self.data['x']\n",
    "        self.y=self.data['y']\n",
    "        self.dy=self.data['dy']\n",
    "        self.model = sp.CmdStanModel(stan_file=stanfile)\n",
    "        self.fitobj = self.model.sample(data=self.stan_data,iter_sampling=nsamples)\n",
    "    #funtion w/o phase\n",
    "    def f(self,x,a):\n",
    "            return a*np.cos(2*np.pi/180.*(-45-x))\n",
    "    #function with phase\n",
    "    def f1(self,x,a,b,c):\n",
    "            return a*np.cos(x+c)+b\n",
    "    #chi2 parameters of fitted data\n",
    "    def get_chisqpars(self,function):\n",
    "            popt, pcov = curve_fit(function,self.data['x'].values,self.data['y'].values,\n",
    "                                   sigma=self.data['dy'].values)\n",
    "            return popt,pcov\n",
    "    #print stan code\n",
    "    def stan_code(self):\n",
    "        return self.model.code()\n",
    "    #get pd dataframe of samples\n",
    "    def samples_df(self):\n",
    "        return self.fitobj.draws_pd()\n",
    "    #calculate waic for given samples and log likelihoods\n",
    "    def waic(self):\n",
    "        samples=self.fitobj.draws_pd()\n",
    "        pwaic=np.array([np.var(samples[f'log_lik[{i+1}]'], ddof=1)for i in range(len(self.data['x']))])\n",
    "        lpd=np.array([np.log(np.mean(np.exp(samples[f'log_lik[{i+1}]'])))for i in range(len(self.data['x']))])\n",
    "        elpd=lpd-pwaic\n",
    "        se=np.sqrt(len(self.x)*np.var(elpd,ddof=1))\n",
    "        return sum(elpd), se, elpd\n",
    "    #single method for pvalue\n",
    "    def pval(self):\n",
    "        samples=self.fitobj.draws_pd()\n",
    "        y_arr=[samples[f'y_tilde[{i+1}]']for i in range(len(self.data['x']))]\n",
    "        pvalue=[len([y for y in y_arr[i] if y>=self.data['y'][i]])/len(y_arr[i])for i in range(len(self.data['x']))]\n",
    "        return pvalue\n",
    "    #plot posterior predictive distributions\n",
    "    def plot_ppd(self,save,i,j,display,fitfunc,width=.5):\n",
    "        samples=self.fitobj.draws_pd()\n",
    "        #cosmetics\n",
    "        fig, (ax, ax1)=plt.subplots(nrows=2,sharex=True,dpi=1000,gridspec_kw={'height_ratios': [4, 1]},num=1,clear=True)\n",
    "        ax.set_ylabel('$p(A_{rep}|A)$')\n",
    "        ax.set_xlim([-180,180])\n",
    "        ax.xaxis.set_ticks_position(\"top\")\n",
    "        ax.grid(which='minor',color='grey',lw='.4')\n",
    "        #get results from chisq fit and plot them\n",
    "        xx=np.linspace(np.min(self.data['x']),np.max(self.data['x']),200)\n",
    "        params=self.get_chisqpars(fitfunc)[0]\n",
    "        yfit=fitfunc(xx,*params)\n",
    "        ax.errorbar(x=self.data['x'],y=self.data['y'],yerr=self.data['dy'],fmt='.',label='Data points')\n",
    "        #ax.plot(data['x'],data['y'],'x',label='Data points')\n",
    "        ax.plot(xx,yfit,'r-',label='$\\chi^2$ fit',color='r')\n",
    "        #violinplot for the replicated samples\n",
    "        vp=ax.violinplot([samples[f'y_tilde[{i+1}]']for i in range(len(self.data['x']))],np.array(self.x),\n",
    "                         showmeans=False, showextrema=False, showmedians=False,widths=width)\n",
    "        #cosmetics\n",
    "        for b in vp['bodies']:\n",
    "            # get the center\n",
    "            m = np.mean(b.get_paths()[0].vertices[:, 0])\n",
    "            # modify the paths to not go further right than the center\n",
    "            b.get_paths()[0].vertices[:, 0] = np.clip(b.get_paths()[0].vertices[:, 0], m, np.inf)\n",
    "            b.set_alpha(.5)\n",
    "            b.set_color('red')\n",
    "\n",
    "        #compute p value as measure of goodness of fit\n",
    "        y_arr=[samples[f'y_tilde[{i+1}]']for i in range(len(self.data['x']))]\n",
    "        pvalue=[len([y for y in y_arr[i] if y>=self.data['y'][i]])/len(y_arr[i])\n",
    "                for i in range(len(self.data['x']))]\n",
    "        pvalue_upper=[len([y for y in y_arr[i] if y-self.data['dy'][i]>=self.data['y'][i]])/len(y_arr[i])\n",
    "                for i in range(len(self.data['x']))]\n",
    "        pvalue_lower=[len([y for y in y_arr[i] if y+self.data['dy'][i]>=self.data['y'][i]])/len(y_arr[i])\n",
    "                for i in range(len(self.data['x']))]\n",
    "        pval_errors=[pvalue_lower,pvalue_upper]\n",
    "        #plot pvalue\n",
    "        #ax1.grid(which='minor',color='grey',lw='.4')\n",
    "        ax1.errorbar(x=self.data['x'],y=pvalue,yerr=pval_errors,fmt='.')\n",
    "        ax1.axhline(y=0.5, color='b', linestyle='--',label='optimal value')\n",
    "        ax1.set_xlabel('$\\phi$')\n",
    "        ax1.set_ylabel('$T(A_{rep}>A)$')\n",
    "        ax1.set_ylim([-0.1,1.1])\n",
    "        #cosmetics and legend\n",
    "        plt.subplots_adjust(wspace=0, hspace=0)\n",
    "        lines,labels = ax.get_legend_handles_labels() \n",
    "        patch = mpatches.Patch(color='red', label='$y_{rep}$',alpha=.5)\n",
    "        lines.append(patch)\n",
    "        lines1,labels1=ax1.get_legend_handles_labels()\n",
    "        lines+=lines1\n",
    "        tmp=lines[0]\n",
    "        lines[0]=lines[1]\n",
    "        lines[1]=tmp\n",
    "        plt.legend(handles=lines,bbox_to_anchor=(1,2))\n",
    "        fig.suptitle(f'${1130+i*60}\\leq E_\\gamma <{1190+i*60},{-1+j/6:.2f}\\leq\\cos\\\\theta_{{\\eta}}^{{\\mathrm{{CMS}}}}<{-1+(j+1)/6:.2f}$',y=1.1)\n",
    "        if (save==True):\n",
    "            plt.savefig(f'./ppd_checks_alt/ebin{i}costbin{j}.pdf',format='pdf',bbox_inches='tight')\n",
    "        if (display==True):\n",
    "            plt.show()\n",
    "    # plot posterior distributions of desired parameters, indicate chi2 fit value(s) and error(s)\n",
    "    def plot_posterior(self,params,func,save=False):\n",
    "        samples=self.fitobj.draws_pd()\n",
    "        chi2pars=self.get_chisqpars(function=func)\n",
    "        fig, (ax)=plt.subplots(ncols=1,nrows=len(params)+1,dpi=1000)\n",
    "        #print(len(params))\n",
    "        for i in range(len(params)):\n",
    "            #cosmetics\n",
    "            ax[i].set_xlabel(params[i],fontsize=10)\n",
    "            ax[i].set_ylabel('Frequency',fontsize=10)\n",
    "            ax[i].tick_params(axis='y', which='both',left=False,right=False,labelleft=False)\n",
    "            ax[i].tick_params(axis='x', which='both',labelsize=10)\n",
    "            #plot data\n",
    "            ax[i].errorbar(x=chi2pars[0][i],y=0,xerr=np.sqrt(chi2pars[1][i,i]),label='$\\chi^2$-fit',color='blue')\n",
    "            #plot posterior kde distribution bc pretty\n",
    "            sns.distplot(samples[params[i]],hist=True,kde=True,ax=ax[i],kde_kws={'bw':0.35})\n",
    "            kde_curve = ax[i].lines[0]\n",
    "            x = np.array(kde_curve.get_xdata())\n",
    "            y = np.array(kde_curve.get_ydata())\n",
    "            maxpos = y.argmax()\n",
    "            maxx=x[maxpos]\n",
    "            counts, bins = np.histogram(samples[params[i]],bins=20)\n",
    "            mean=np.mean(samples[params[i]])\n",
    "            sd=np.std(samples[params[i]])\n",
    "            #mids = 0.5*(bins[1:] + bins[:-1])\n",
    "            #probs = counts / np.sum(counts)\n",
    "    \n",
    "            #mean = np.sum(probs * mids)  \n",
    "            #sd = np.sqrt(np.sum(probs * (mids - mean)**2))\n",
    "            #indicate chi2 values\n",
    "            ax[i].axvline(x=maxx,ymin=0,ymax=1,linewidth='.5',label='MPV',color='red')\n",
    "            ax[i].axvline(x=mean,ymin=0,ymax=1,linewidth='.5',label='$\\mu\\pm 1\\sigma$',color='red',linestyle='dashed')\n",
    "            ax[i].axvline(x=mean-sd,ymin=0,ymax=1,linewidth='.5',color='red',linestyle='dashed')\n",
    "            ax[i].axvline(x=mean+sd,ymin=0,ymax=1,linewidth='.5',color='red',linestyle='dashed')\n",
    "            #cosmetics and legend\n",
    "            plt.legend(bbox_to_anchor=(1,2),fontsize=10)\n",
    "            plt.subplots_adjust(hspace=1)\n",
    "        if(save):\n",
    "            fig.savefig(f'./posterior_{len(params)}_params.pdf',format='pdf',dpi=1000)\n",
    "\n",
    "    # function to plot the posterior distributions as is     \n",
    "    def plot_trace(self,params,save=False):\n",
    "        samples=self.fitobj.draws_pd()\n",
    "        fig, (ax)=plt.subplots(ncols=2,nrows=len(params),dpi=1000)\n",
    "        #print(ax.shape)\n",
    "        ls=['solid','dotted','dashed','dashdot']\n",
    "        for i in range(len(params)):\n",
    "            ax[i][0].grid(visible=False,axis='y')\n",
    "            ax[i][0].set_xlabel(params[i],fontsize=10)\n",
    "            ax[i][0].set_ylabel('Frequency',fontsize=10)\n",
    "            ax[i][1].set_xlabel('iteration',fontsize=10)\n",
    "            ax[i][1].set_ylabel(params[i],fontsize=10)\n",
    "            for k in range(4):\n",
    "                sns.kdeplot(samples[params[i]][k*1000:(k+1)*1000],ax=ax[i][0],linestyle=ls[k],color='black',\n",
    "                            linewidth=.5,bw=0.35)\n",
    "                ax[i][1].plot(np.arange(0,len(samples[params[i]])/4),\n",
    "                              samples[params[i]][k*1000:(k+1)*1000],ls=ls[k],color='black',alpha=.7,linewidth=.5)\n",
    "                for j in (0,1):\n",
    "                    ax[i][j].tick_params(axis='y', which='both',left=False,right=False,labelleft=False)\n",
    "                    #ax[i][j].set_title(params[i])\n",
    "                    ax[i][j].tick_params(axis='both', which='major', labelsize=10)\n",
    "        plt.subplots_adjust(hspace=1)\n",
    "        #fig.set_size_inches(8.29,1*len(params))\n",
    "def find_y_for_x(x, y, value):\n",
    "    for i in range(len(x)):\n",
    "        if x[i]<= value and x[i+1]>= value:\n",
    "            return y[i]\n",
    "            break\n",
    "        \n",
    "#calculate savage dickey density ratio = Bayes factor\n",
    "def plot_sddr(samples,fixpar,saveas):#this is the model with one parameter more\n",
    "    fig, ax =plt.subplots(dpi=1000)\n",
    "    #define prior data and get posterior using kde\n",
    "    x=np.linspace(-.5,.5,1000)\n",
    "    def prior(x):\n",
    "        return stats.norm.pdf(x,0,np.pi)\n",
    "    priorval=prior(fixpar)\n",
    "    sns.distplot(samples,hist=True,kde=True,ax=ax,kde_kws={'bw':0.35},label='$p(c|y,M_1)$')\n",
    "    kde_curve = ax.lines[0]\n",
    "    xx = kde_curve.get_xdata()\n",
    "    y = kde_curve.get_ydata()\n",
    "    postval=find_y_for_x(xx,y,fixpar)\n",
    "    #plot\n",
    "    ax.plot(x,prior(x),label='$\\pi(c|M_1)$')\n",
    "    ax.vlines(fixpar,0,np.max(y),linestyle='--',color='peachpuff',label='BF={:.2f}'.format(postval/priorval))\n",
    "    ax.legend(bbox_to_anchor=(1,1))\n",
    "    fig.savefig(saveas,format='pdf',dpi=1000,bbox_inches='tight')\n",
    "def elpd_diff(fit,fit1):\n",
    "    elpd=np.array(fit.waic()[2])\n",
    "    elpd1=np.array(fit1.waic()[2])\n",
    "    return np.abs(sum(elpd)-sum(elpd1)),np.sqrt(len(fit.x)*np.var(elpd-elpd1))"
   ]
  },
  {
   "cell_type": "code",
   "execution_count": 4,
   "id": "3f849d20",
   "metadata": {},
   "outputs": [
    {
     "name": "stderr",
     "output_type": "stream",
     "text": [
      "INFO:cmdstanpy:found newer exe file, not recompiling\n",
      "INFO:cmdstanpy:CmdStan start procesing\n"
     ]
    },
    {
     "data": {
      "application/vnd.jupyter.widget-view+json": {
       "model_id": "fee0879d1f41440c9f65d2a74c433843",
       "version_major": 2,
       "version_minor": 0
      },
      "text/plain": [
       "chain 1 |          | 00:00 Status"
      ]
     },
     "metadata": {},
     "output_type": "display_data"
    },
    {
     "data": {
      "application/vnd.jupyter.widget-view+json": {
       "model_id": "9a9965ce53994883b28b8506bc2d7d38",
       "version_major": 2,
       "version_minor": 0
      },
      "text/plain": [
       "chain 2 |          | 00:00 Status"
      ]
     },
     "metadata": {},
     "output_type": "display_data"
    },
    {
     "data": {
      "application/vnd.jupyter.widget-view+json": {
       "model_id": "d873798733974835b670b5e8254d4769",
       "version_major": 2,
       "version_minor": 0
      },
      "text/plain": [
       "chain 3 |          | 00:00 Status"
      ]
     },
     "metadata": {},
     "output_type": "display_data"
    },
    {
     "data": {
      "application/vnd.jupyter.widget-view+json": {
       "model_id": "30f50341efb54975a2c0e466641e4182",
       "version_major": 2,
       "version_minor": 0
      },
      "text/plain": [
       "chain 4 |          | 00:00 Status"
      ]
     },
     "metadata": {},
     "output_type": "display_data"
    },
    {
     "name": "stdout",
     "output_type": "stream",
     "text": [
      "                                                                                                                                                                                                                                                                                                                                "
     ]
    },
    {
     "name": "stderr",
     "output_type": "stream",
     "text": [
      "INFO:cmdstanpy:CmdStan done processing.\n"
     ]
    },
    {
     "name": "stdout",
     "output_type": "stream",
     "text": [
      "\n"
     ]
    },
    {
     "data": {
      "image/png": "[encoded data removed]",
      "text/plain": [
       "<Figure size 432x288 with 2 Axes>"
      ]
     },
     "metadata": {
      "needs_background": "light"
     },
     "output_type": "display_data"
    }
   ],
   "source": [
    "sigma_list_list=[]\n",
    "chi2_sigma_llist=[]\n",
    "chi2_sigma_err_llist=[]\n",
    "pvalue_list=[]\n",
    "rhat_list=[]\n",
    "median_list=[]\n",
    "mcse_list=[]\n",
    "for i in range(0,1):# 11 energy bins\n",
    "    #fig, ax = plt.subplots(3,4,sharex='col',sharey='row')\n",
    "    plt.subplots_adjust(hspace=0,wspace=0)\n",
    "    sigma_list=[]\n",
    "    chi2_sigma_list=[]\n",
    "    chi2_sigma_err_list=[]\n",
    "    for j in range(0,1): # 12 bins in costheta\n",
    "        df_tmp=final_df[['phi',f'A_{i,j}',f'dA_{i,j}']]\n",
    "        df_tmp=df_tmp.rename(columns={'phi': 'x', f'A_{i,j}': 'y', f'dA_{i,j}': 'dy'})\n",
    "        #print(df_tmp.head())\n",
    "        fit=bayesian_fit(data=df_tmp,stanfile='stan_file.stan',nsamples=1000)\n",
    "        sigma=fit.samples_df()['a']\n",
    "        sigma_list.append(sigma)\n",
    "        popt, pcov = fit.get_chisqpars(fit.f)\n",
    "        chi2_sigma_list.append(popt[0])\n",
    "        chi2_sigma_err_list.append(np.sqrt(pcov[0][0]))\n",
    "        #get fit diagnostics, i.e. pvalue\n",
    "        pvalue=fit.pval()\n",
    "        #get mcmc diagnostics, i.e. r_hat and median+mcse\n",
    "        summary=fit.fitobj.summary()\n",
    "        median_list.append(summary['50%']['a'])\n",
    "        mcse_list.append(az.mcse(np.transpose(fit.fitobj.draws(concat_chains=False)[:,:,7]),method='median'))\n",
    "        rhat_list.append(summary['R_hat']['a'])\n",
    "        for k in range(len(pvalue)):\n",
    "            pvalue_list.append(pvalue[k])\n",
    "        #fit.plot_posterior(params=['a'],func=fit.f,save=False)\n",
    "        fit.plot_ppd(save=True,i=i,j=j,display=True,fitfunc=fit.f,width=50)\n",
    "    sigma_list_list.append(sigma_list)\n",
    "    chi2_sigma_llist.append(chi2_sigma_list)\n",
    "    chi2_sigma_err_llist.append(chi2_sigma_err_list)\n",
    "\n"
   ]
  },
  {
   "cell_type": "code",
   "execution_count": 5,
   "id": "1de99fe2",
   "metadata": {},
   "outputs": [
    {
     "ename": "ValueError",
     "evalue": "'x' and 'y' must have the same size",
     "output_type": "error",
     "traceback": [
      "\u001b[0;31m---------------------------------------------------------------------------\u001b[0m",
      "\u001b[0;31mValueError\u001b[0m                                Traceback (most recent call last)",
      "Input \u001b[0;32mIn [5]\u001b[0m, in \u001b[0;36m<module>\u001b[0;34m\u001b[0m\n\u001b[1;32m     16\u001b[0m ax[i][j]\u001b[38;5;241m.\u001b[39mset_ylim([\u001b[38;5;241m-\u001b[39m\u001b[38;5;241m1.5\u001b[39m,\u001b[38;5;241m1.5\u001b[39m])\n\u001b[1;32m     17\u001b[0m \u001b[38;5;28;01mif\u001b[39;00m(counter\u001b[38;5;241m<\u001b[39m\u001b[38;5;241m11\u001b[39m):\n\u001b[0;32m---> 18\u001b[0m     \u001b[43max\u001b[49m\u001b[43m[\u001b[49m\u001b[43mi\u001b[49m\u001b[43m]\u001b[49m\u001b[43m[\u001b[49m\u001b[43mj\u001b[49m\u001b[43m]\u001b[49m\u001b[38;5;241;43m.\u001b[39;49m\u001b[43merrorbar\u001b[49m\u001b[43m(\u001b[49m\u001b[43mx\u001b[49m\u001b[38;5;241;43m=\u001b[39;49m\u001b[43mnp\u001b[49m\u001b[38;5;241;43m.\u001b[39;49m\u001b[43marange\u001b[49m\u001b[43m(\u001b[49m\u001b[38;5;241;43m-\u001b[39;49m\u001b[38;5;241;43m1\u001b[39;49m\u001b[43m,\u001b[49m\u001b[38;5;241;43m1\u001b[39;49m\u001b[43m,\u001b[49m\u001b[38;5;241;43m2\u001b[39;49m\u001b[38;5;241;43m/\u001b[39;49m\u001b[38;5;241;43m12\u001b[39;49m\u001b[43m)\u001b[49m\u001b[43m,\u001b[49m\u001b[43my\u001b[49m\u001b[38;5;241;43m=\u001b[39;49m\u001b[43mchi2_sigma_llist\u001b[49m\u001b[43m[\u001b[49m\u001b[43mcounter\u001b[49m\u001b[43m]\u001b[49m\u001b[43m,\u001b[49m\n\u001b[1;32m     19\u001b[0m \u001b[43m                      \u001b[49m\u001b[43myerr\u001b[49m\u001b[38;5;241;43m=\u001b[39;49m\u001b[43mchi2_sigma_err_llist\u001b[49m\u001b[43m[\u001b[49m\u001b[43mcounter\u001b[49m\u001b[43m]\u001b[49m\u001b[43m,\u001b[49m\u001b[43mfmt\u001b[49m\u001b[38;5;241;43m=\u001b[39;49m\u001b[38;5;124;43m'\u001b[39;49m\u001b[38;5;124;43m.\u001b[39;49m\u001b[38;5;124;43m'\u001b[39;49m\u001b[43m,\u001b[49m\u001b[43mlabel\u001b[49m\u001b[38;5;241;43m=\u001b[39;49m\u001b[38;5;124;43m'\u001b[39;49m\u001b[38;5;124;43m$\u001b[39;49m\u001b[38;5;124;43m\\\u001b[39;49m\u001b[38;5;124;43mchi^2 - fit$\u001b[39;49m\u001b[38;5;124;43m'\u001b[39;49m\u001b[43m)\u001b[49m\n\u001b[1;32m     20\u001b[0m     ax[i][j]\u001b[38;5;241m.\u001b[39merrorbar(x\u001b[38;5;241m=\u001b[39mnp\u001b[38;5;241m.\u001b[39marange(\u001b[38;5;241m-\u001b[39m\u001b[38;5;241m1\u001b[39m,\u001b[38;5;241m1\u001b[39m,\u001b[38;5;241m2\u001b[39m\u001b[38;5;241m/\u001b[39m\u001b[38;5;241m12\u001b[39m),y\u001b[38;5;241m=\u001b[39mfarahs_data[\u001b[38;5;124m'\u001b[39m\u001b[38;5;124msigma\u001b[39m\u001b[38;5;124m'\u001b[39m][counter\u001b[38;5;241m*\u001b[39m\u001b[38;5;241m12\u001b[39m:counter\u001b[38;5;241m*\u001b[39m\u001b[38;5;241m12\u001b[39m\u001b[38;5;241m+\u001b[39m\u001b[38;5;241m12\u001b[39m],\n\u001b[1;32m     21\u001b[0m                       yerr\u001b[38;5;241m=\u001b[39mfarahs_data[\u001b[38;5;124m'\u001b[39m\u001b[38;5;124mstat_error\u001b[39m\u001b[38;5;124m'\u001b[39m][counter\u001b[38;5;241m*\u001b[39m\u001b[38;5;241m12\u001b[39m:counter\u001b[38;5;241m*\u001b[39m\u001b[38;5;241m12\u001b[39m\u001b[38;5;241m+\u001b[39m\u001b[38;5;241m12\u001b[39m],fmt\u001b[38;5;241m=\u001b[39m\u001b[38;5;124m'\u001b[39m\u001b[38;5;124m.\u001b[39m\u001b[38;5;124m'\u001b[39m,color\u001b[38;5;241m=\u001b[39m\u001b[38;5;124m'\u001b[39m\u001b[38;5;124mgreen\u001b[39m\u001b[38;5;124m'\u001b[39m,label\u001b[38;5;241m=\u001b[39m\u001b[38;5;124m'\u001b[39m\u001b[38;5;124mFarahs results\u001b[39m\u001b[38;5;124m'\u001b[39m)\n\u001b[1;32m     22\u001b[0m     vp\u001b[38;5;241m=\u001b[39max[i][j]\u001b[38;5;241m.\u001b[39mviolinplot(sigma_list_list[counter],np\u001b[38;5;241m.\u001b[39marange(\u001b[38;5;241m-\u001b[39m\u001b[38;5;241m1\u001b[39m,\u001b[38;5;241m1\u001b[39m,\u001b[38;5;241m2\u001b[39m\u001b[38;5;241m/\u001b[39m\u001b[38;5;241m12\u001b[39m),\n\u001b[1;32m     23\u001b[0m                  showmeans\u001b[38;5;241m=\u001b[39m\u001b[38;5;28;01mFalse\u001b[39;00m, showextrema\u001b[38;5;241m=\u001b[39m\u001b[38;5;28;01mFalse\u001b[39;00m, showmedians\u001b[38;5;241m=\u001b[39m\u001b[38;5;28;01mFalse\u001b[39;00m,widths\u001b[38;5;241m=\u001b[39m\u001b[38;5;241m0.3\u001b[39m)\n",
      "File \u001b[0;32m~/.local/lib/python3.10/site-packages/matplotlib/__init__.py:1412\u001b[0m, in \u001b[0;36m_preprocess_data.<locals>.inner\u001b[0;34m(ax, data, *args, **kwargs)\u001b[0m\n\u001b[1;32m   1409\u001b[0m \u001b[38;5;129m@functools\u001b[39m\u001b[38;5;241m.\u001b[39mwraps(func)\n\u001b[1;32m   1410\u001b[0m \u001b[38;5;28;01mdef\u001b[39;00m \u001b[38;5;21minner\u001b[39m(ax, \u001b[38;5;241m*\u001b[39margs, data\u001b[38;5;241m=\u001b[39m\u001b[38;5;28;01mNone\u001b[39;00m, \u001b[38;5;241m*\u001b[39m\u001b[38;5;241m*\u001b[39mkwargs):\n\u001b[1;32m   1411\u001b[0m     \u001b[38;5;28;01mif\u001b[39;00m data \u001b[38;5;129;01mis\u001b[39;00m \u001b[38;5;28;01mNone\u001b[39;00m:\n\u001b[0;32m-> 1412\u001b[0m         \u001b[38;5;28;01mreturn\u001b[39;00m \u001b[43mfunc\u001b[49m\u001b[43m(\u001b[49m\u001b[43max\u001b[49m\u001b[43m,\u001b[49m\u001b[43m \u001b[49m\u001b[38;5;241;43m*\u001b[39;49m\u001b[38;5;28;43mmap\u001b[39;49m\u001b[43m(\u001b[49m\u001b[43msanitize_sequence\u001b[49m\u001b[43m,\u001b[49m\u001b[43m \u001b[49m\u001b[43margs\u001b[49m\u001b[43m)\u001b[49m\u001b[43m,\u001b[49m\u001b[43m \u001b[49m\u001b[38;5;241;43m*\u001b[39;49m\u001b[38;5;241;43m*\u001b[39;49m\u001b[43mkwargs\u001b[49m\u001b[43m)\u001b[49m\n\u001b[1;32m   1414\u001b[0m     bound \u001b[38;5;241m=\u001b[39m new_sig\u001b[38;5;241m.\u001b[39mbind(ax, \u001b[38;5;241m*\u001b[39margs, \u001b[38;5;241m*\u001b[39m\u001b[38;5;241m*\u001b[39mkwargs)\n\u001b[1;32m   1415\u001b[0m     auto_label \u001b[38;5;241m=\u001b[39m (bound\u001b[38;5;241m.\u001b[39marguments\u001b[38;5;241m.\u001b[39mget(label_namer)\n\u001b[1;32m   1416\u001b[0m                   \u001b[38;5;129;01mor\u001b[39;00m bound\u001b[38;5;241m.\u001b[39mkwargs\u001b[38;5;241m.\u001b[39mget(label_namer))\n",
      "File \u001b[0;32m~/.local/lib/python3.10/site-packages/matplotlib/axes/_axes.py:3337\u001b[0m, in \u001b[0;36mAxes.errorbar\u001b[0;34m(self, x, y, yerr, xerr, fmt, ecolor, elinewidth, capsize, barsabove, lolims, uplims, xlolims, xuplims, errorevery, capthick, **kwargs)\u001b[0m\n\u001b[1;32m   3335\u001b[0m x, y \u001b[38;5;241m=\u001b[39m np\u001b[38;5;241m.\u001b[39matleast_1d(x, y)  \u001b[38;5;66;03m# Make sure all the args are iterable.\u001b[39;00m\n\u001b[1;32m   3336\u001b[0m \u001b[38;5;28;01mif\u001b[39;00m \u001b[38;5;28mlen\u001b[39m(x) \u001b[38;5;241m!=\u001b[39m \u001b[38;5;28mlen\u001b[39m(y):\n\u001b[0;32m-> 3337\u001b[0m     \u001b[38;5;28;01mraise\u001b[39;00m \u001b[38;5;167;01mValueError\u001b[39;00m(\u001b[38;5;124m\"\u001b[39m\u001b[38;5;124m'\u001b[39m\u001b[38;5;124mx\u001b[39m\u001b[38;5;124m'\u001b[39m\u001b[38;5;124m and \u001b[39m\u001b[38;5;124m'\u001b[39m\u001b[38;5;124my\u001b[39m\u001b[38;5;124m'\u001b[39m\u001b[38;5;124m must have the same size\u001b[39m\u001b[38;5;124m\"\u001b[39m)\n\u001b[1;32m   3339\u001b[0m \u001b[38;5;28;01mif\u001b[39;00m \u001b[38;5;28misinstance\u001b[39m(errorevery, Integral):\n\u001b[1;32m   3340\u001b[0m     errorevery \u001b[38;5;241m=\u001b[39m (\u001b[38;5;241m0\u001b[39m, errorevery)\n",
      "\u001b[0;31mValueError\u001b[0m: 'x' and 'y' must have the same size"
     ]
    }
   ],
   "source": [
    "fig,ax = plt.subplots(4,3,sharex='col',sharey='row',dpi=1000,figsize=(10,7))\n",
    "plt.subplots_adjust(wspace=0, hspace=0)\n",
    "fig.delaxes(ax[3,2]) #The indexing is zero-based here\n",
    "ax[2,2].get_xaxis().set_visible(True)\n",
    "ax[2,2].xaxis.set_tick_params(which='both', labelbottom=True)\n",
    "farahs_data=pd.read_csv('./Sigma_eta_datapoints_final_newsyserrorcalc.txt',sep=' ',header=None)\n",
    "farahs_data.columns=['W','egamma','costheta','sigma','stat_error','sys_error','idk']\n",
    "counter=0\n",
    "for i in range(4):\n",
    "    for j in range(3):\n",
    "        if(j==0 and i==0):\n",
    "            ax[i][j].set_ylabel('$\\Sigma$')\n",
    "        if(j>0 and (i==2 or i==3)):\n",
    "            ax[i][j].set_xlabel('$\\cos\\\\theta_{\\eta}^{\\mathrm{CMS}}$')\n",
    "        ax[i][j].set_xlim([-1.2,1.2])\n",
    "        ax[i][j].set_ylim([-1.5,1.5])\n",
    "        if(counter<11):\n",
    "            ax[i][j].errorbar(x=np.arange(-1,1,2/12),y=chi2_sigma_llist[counter],\n",
    "                              yerr=chi2_sigma_err_llist[counter],fmt='.',label='$\\chi^2 - fit$')\n",
    "            ax[i][j].errorbar(x=np.arange(-1,1,2/12),y=farahs_data['sigma'][counter*12:counter*12+12],\n",
    "                              yerr=farahs_data['stat_error'][counter*12:counter*12+12],fmt='.',color='green',label='Farahs results')\n",
    "            vp=ax[i][j].violinplot(sigma_list_list[counter],np.arange(-1,1,2/12),\n",
    "                         showmeans=False, showextrema=False, showmedians=False,widths=0.3)\n",
    "            ax[i][j].text(0,-1,f'${1130+counter*60}$ MeV $\\leq E_\\gamma < {1130+(counter+1)*60}$ MeV',fontsize=14,ha='center',va='center')\n",
    "        #cosmetics\n",
    "        for b in vp['bodies']:\n",
    "            # get the center\n",
    "            m = np.mean(b.get_paths()[0].vertices[:, 0])\n",
    "            # modify the paths to not go further right than the center\n",
    "            b.get_paths()[0].vertices[:, 0] = np.clip(b.get_paths()[0].vertices[:, 0], m, np.inf)\n",
    "            b.set_alpha(.5)\n",
    "            b.set_color('red')\n",
    "        counter+=1\n",
    "lines,labels = ax[0][0].get_legend_handles_labels() \n",
    "patch = mpatches.Patch(color='red', label='bayesian fit',alpha=.5)\n",
    "lines.append(patch)\n",
    "plt.legend(handles=lines,bbox_to_anchor=(2.2,0.4))        \n",
    "plt.show()\n",
    "fig.savefig(f'./sigma_eta_alt.pdf',format='pdf',bbox_inches='tight',dpi=1000)\n"
   ]
  },
  {
   "cell_type": "code",
   "execution_count": null,
   "id": "f453ad48",
   "metadata": {},
   "outputs": [],
   "source": [
    "fig, ax = plt.subplots()\n",
    "ax.plot(np.arange(len(rhat_list)),rhat_list,'.')\n",
    "ax.set_xlabel('Fit Nr.')\n",
    "ax.set_ylabel('$\\hat{R}$')\n",
    "plt.show()\n",
    "plt.savefig('rhat_alt.pdf')"
   ]
  },
  {
   "cell_type": "code",
   "execution_count": null,
   "id": "abca99f2",
   "metadata": {},
   "outputs": [],
   "source": [
    "fig, ax = plt.subplots()\n",
    "ax.errorbar(x=np.arange(len(rhat_list)),y=median_list,yerr=mcse_list,fmt='.')\n",
    "ax.set_xlabel('Fit Nr.')\n",
    "ax.set_ylabel('Median of $p(\\Sigma|y)$')\n",
    "plt.show()\n",
    "plt.savefig('median_mcse_alt.pdf')"
   ]
  },
  {
   "cell_type": "code",
   "execution_count": null,
   "id": "9f3afc77",
   "metadata": {},
   "outputs": [],
   "source": [
    "farahs_data=pd.read_csv('./Sigma_eta_datapoints_final_newsyserrorcalc.txt',sep=' ',header=None)\n",
    "farahs_data.columns=['W','egamma','costheta','sigma','stat_error','sys_error','idk']"
   ]
  },
  {
   "cell_type": "code",
   "execution_count": null,
   "id": "e3176410",
   "metadata": {},
   "outputs": [],
   "source": [
    "farahs_data['sigma'][24:24+12]"
   ]
  },
  {
   "cell_type": "code",
   "execution_count": null,
   "id": "fb784224",
   "metadata": {},
   "outputs": [],
   "source": []
  }
 ],
 "metadata": {
  "kernelspec": {
   "display_name": "Python 3 (ipykernel)",
   "language": "python",
   "name": "python3"
  },
  "language_info": {
   "codemirror_mode": {
    "name": "ipython",
    "version": 3
   },
   "file_extension": ".py",
   "mimetype": "text/x-python",
   "name": "python",
   "nbconvert_exporter": "python",
   "pygments_lexer": "ipython3",
   "version": "3.10.2"
  }
 },
 "nbformat": 4,
 "nbformat_minor": 5
}
