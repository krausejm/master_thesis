{
 "cells": [
  {
   "cell_type": "code",
   "execution_count": 1,
   "id": "a625cf0c",
   "metadata": {},
   "outputs": [],
   "source": [
    "import nest_asyncio\n",
    "nest_asyncio.apply()\n",
    "import cmdstanpy as sp\n",
    "import numpy as np\n",
    "from scipy.optimize import curve_fit\n",
    "import pandas as pd\n",
    "import matplotlib.pyplot as plt\n",
    "from cycler import cycler\n",
    "import matplotlib.patches as mpatches\n",
    "import seaborn as sns\n",
    "import scipy.stats as stats\n",
    "plt.rcParams[\"xtick.minor.visible\"] =  True\n",
    "plt.rcParams[\"ytick.minor.visible\"] =  True\n",
    "plt.rcParams[\"mathtext.fontset\"]=\"cm\"\n",
    "plt.rcParams['errorbar.capsize'] = 3\n",
    "plt.rcParams['mathtext.rm'] = 'serif'\n",
    "plt.rcParams['font.family']='serif'\n",
    "plt.rcParams['font.size']=22\n",
    "plt.rcParams['axes.grid'] = True\n",
    "plt.rcParams['grid.linestyle']=':'\n",
    "plt.rcParams['grid.color']='black'\n",
    "plt.rcParams['axes.prop_cycle'] = cycler(color=['black', 'red', 'blue', 'green'])\n",
    "\n",
    "import arviz as az\n",
    "import warnings\n",
    "warnings.filterwarnings('ignore')"
   ]
  },
  {
   "cell_type": "code",
   "execution_count": 2,
   "id": "ef54f693",
   "metadata": {},
   "outputs": [],
   "source": [
    "#generate data\n",
    "def true_f(x):\n",
    "    return 1*np.cos(x)+1\n",
    "def f(x,a,b):\n",
    "    return a*np.cos(x)+b"
   ]
  },
  {
   "cell_type": "code",
   "execution_count": 3,
   "id": "adb26c37",
   "metadata": {},
   "outputs": [],
   "source": [
    "#generate data\n",
    "x=np.linspace(0,10,15)\n",
    "y=true_f(x)\n",
    "dy=np.random.normal(0.25,0.05,len(y))\n",
    "noise=np.random.normal(0,dy,len(y))\n",
    "y+=noise\n",
    "df=pd.DataFrame(data={'x':x,'y':y,'dy':dy})\n",
    "df.to_csv('./noisy_data.csv',index=False)\n",
    "\n"
   ]
  },
  {
   "cell_type": "code",
   "execution_count": 4,
   "id": "4f506d6a",
   "metadata": {},
   "outputs": [],
   "source": [
    "noisy_data=pd.read_csv('noisy_data.csv')"
   ]
  },
  {
   "cell_type": "code",
   "execution_count": 5,
   "id": "48004683",
   "metadata": {},
   "outputs": [
    {
     "data": {
      "text/plain": [
       "[<matplotlib.lines.Line2D at 0x7f8514eac790>]"
      ]
     },
     "execution_count": 5,
     "metadata": {},
     "output_type": "execute_result"
    },
    {
     "data": {
      "image/png": "[encoded data removed]",
      "text/plain": [
       "<Figure size 432x288 with 1 Axes>"
      ]
     },
     "metadata": {
      "needs_background": "light"
     },
     "output_type": "display_data"
    }
   ],
   "source": [
    "plt.errorbar(x=noisy_data['x'],y=noisy_data['y'],yerr=noisy_data['dy'],fmt='.',label='generated noise')\n",
    "plt.plot(np.linspace(0,10,100),true_f(np.linspace(0,10,100)),label='true function')"
   ]
  },
  {
   "cell_type": "code",
   "execution_count": 51,
   "id": "808a67bb",
   "metadata": {},
   "outputs": [],
   "source": [
    "class bayesian_fit():\n",
    "    def __init__(self,data,stanfile,nsamples=1000):\n",
    "        self.data=data\n",
    "        self.stan_data={'n':len(self.data['x'].values),\n",
    "             'x':list(self.data['x'].values),\n",
    "             'y':list(self.data['y'].values),\n",
    "           'dy':list(self.data['dy'].values)}\n",
    "        self.stanfile=stanfile\n",
    "        self.x=self.data['x']\n",
    "        self.y=self.data['y']\n",
    "        self.dy=self.data['dy']\n",
    "        self.model = sp.CmdStanModel(stan_file=stanfile)\n",
    "        self.fitobj = self.model.sample(data=self.stan_data,iter_sampling=nsamples)\n",
    "    #funtion w/o phase\n",
    "    def f(self,x,a,b):\n",
    "            return a*np.cos(x)+b\n",
    "    #function with phase\n",
    "    def f1(self,x,a,b,c):\n",
    "            return a*np.cos(x+c)+b\n",
    "    #chi2 parameters of fitted data\n",
    "    def get_chisqpars(self,function):\n",
    "            popt, pcov = curve_fit(function,self.data['x'].values,self.data['y'].values,\n",
    "                                   sigma=self.data['dy'].values)\n",
    "            return popt,pcov\n",
    "    #print stan code\n",
    "    def stan_code(self):\n",
    "        return self.model.code()\n",
    "    #get pd dataframe of samples\n",
    "    def samples_df(self):\n",
    "        return self.fitobj.draws_pd()\n",
    "    #calculate waic for given samples and log likelihoods\n",
    "    def waic(self):\n",
    "        samples=self.fitobj.draws_pd()\n",
    "        pwaic=np.array([np.var(samples[f'log_lik[{i+1}]'], ddof=1)for i in range(len(self.data['x']))])\n",
    "        lpd=np.array([np.log(np.mean(np.exp(samples[f'log_lik[{i+1}]'])))for i in range(len(self.data['x']))])\n",
    "        elpd=lpd-pwaic\n",
    "        se=np.sqrt(len(self.x)*np.var(elpd,ddof=1))\n",
    "        return sum(elpd), se, elpd\n",
    "    #plot posterior predictive distributions\n",
    "    def plot_ppd(self,save,fitfunc,width=.5):\n",
    "        samples=self.fitobj.draws_pd()\n",
    "        #cosmetics\n",
    "        fig, (ax, ax1)=plt.subplots(nrows=2,sharex=True,dpi=1000,gridspec_kw={'height_ratios': [4, 1]})\n",
    "        ax.set_ylabel('$p(y_{rep}|y)$')\n",
    "        ax.xaxis.set_ticks_position(\"top\")\n",
    "        ax.grid(which='minor',color='grey',lw='.4')\n",
    "        #get results from chisq fit and plot them\n",
    "        xx=np.linspace(np.min(self.data['x']),np.max(self.data['x']),200)\n",
    "        params=self.get_chisqpars(fitfunc)[0]\n",
    "        yfit=fitfunc(xx,*params)\n",
    "        ax.errorbar(x=self.data['x'],y=self.data['y'],yerr=self.data['dy'],fmt='.',label='Data points')\n",
    "        #ax.plot(data['x'],data['y'],'x',label='Data points')\n",
    "        ax.plot(xx,yfit,'r-',label='$\\chi^2$ fit',color='r')\n",
    "        #violinplot for the replicated samples\n",
    "        vp=ax.violinplot([samples[f'y_tilde[{i+1}]']for i in range(len(self.data['x']))],np.array(self.x),\n",
    "                         showmeans=False, showextrema=False, showmedians=False,widths=width)\n",
    "        #cosmetics\n",
    "        for b in vp['bodies']:\n",
    "            # get the center\n",
    "            m = np.mean(b.get_paths()[0].vertices[:, 0])\n",
    "            # modify the paths to not go further right than the center\n",
    "            b.get_paths()[0].vertices[:, 0] = np.clip(b.get_paths()[0].vertices[:, 0], m, np.inf)\n",
    "            b.set_alpha(.5)\n",
    "            b.set_color('red')\n",
    "\n",
    "        #compute p value as measure of goodness of fit\n",
    "        y_arr=[samples[f'y_tilde[{i+1}]']for i in range(len(self.data['x']))]\n",
    "        pvalue=[len([y for y in y_arr[i] if y>=self.data['y'][i]])/len(y_arr[i])for i in range(len(self.data['x']))]\n",
    "        #plot pvalue\n",
    "        #ax1.grid(which='minor',color='grey',lw='.4')\n",
    "        ax1.plot(self.data['x'],pvalue,'.')\n",
    "        ax1.axhline(y=0.5, color='b', linestyle='--',label='optimal value')\n",
    "        ax1.set_xlabel('x')\n",
    "        ax1.set_ylabel('$T(y_{rep}>y)$')\n",
    "        ax1.set_ylim([0,1])\n",
    "        #cosmetics and legend\n",
    "        plt.subplots_adjust(wspace=0, hspace=0)\n",
    "        lines,labels = ax.get_legend_handles_labels() \n",
    "        patch = mpatches.Patch(color='red', label='$y_{rep}$',alpha=.5)\n",
    "        lines.append(patch)\n",
    "        lines1,labels1=ax1.get_legend_handles_labels()\n",
    "        lines+=lines1\n",
    "        tmp=lines[0]\n",
    "        lines[0]=lines[1]\n",
    "        lines[1]=tmp\n",
    "        plt.legend(handles=lines,bbox_to_anchor=(1,2))\n",
    "        if (save==True):\n",
    "            plt.savefig(f'./ppd_{len(params)}_params.pdf',format='pdf',bbox_inches='tight',dpi=1000)\n",
    "    # plot posterior distributions of desired parameters, indicate chi2 fit value(s) and error(s)\n",
    "    def plot_posterior(self,params,func,save=False):\n",
    "        samples=self.fitobj.draws_pd()\n",
    "        chi2pars=self.get_chisqpars(function=func)\n",
    "        fig, (ax)=plt.subplots(ncols=1,nrows=len(params),dpi=1000)\n",
    "        #print(len(params))\n",
    "        for i in range(len(params)):\n",
    "            #cosmetics\n",
    "            ax[i].set_xlabel(params[i],fontsize=10)\n",
    "            ax[i].set_ylabel('Frequency',fontsize=10)\n",
    "            ax[i].tick_params(axis='y', which='both',left=False,right=False,labelleft=False)\n",
    "            ax[i].tick_params(axis='x', which='both',labelsize=10)\n",
    "            #plot data\n",
    "            ax[i].errorbar(x=chi2pars[0][i],y=0,xerr=np.sqrt(chi2pars[1][i,i]),label='$\\chi^2$-fit',color='blue')\n",
    "            #plot posterior kde distribution bc pretty\n",
    "            sns.distplot(samples[params[i]],hist=True,kde=True,ax=ax[i],kde_kws={'bw':0.35})\n",
    "            kde_curve = ax[i].lines[0]\n",
    "            x = np.array(kde_curve.get_xdata())\n",
    "            y = np.array(kde_curve.get_ydata())\n",
    "            maxpos = y.argmax()\n",
    "            maxx=x[maxpos]\n",
    "            counts, bins = np.histogram(samples[params[i]],bins=20)\n",
    "            mean=np.mean(samples[params[i]])\n",
    "            sd=np.std(samples[params[i]])\n",
    "            #mids = 0.5*(bins[1:] + bins[:-1])\n",
    "            #probs = counts / np.sum(counts)\n",
    "    \n",
    "            #mean = np.sum(probs * mids)  \n",
    "            #sd = np.sqrt(np.sum(probs * (mids - mean)**2))\n",
    "            #indicate chi2 values\n",
    "            ax[i].axvline(x=maxx,ymin=0,ymax=1,linewidth='.5',label='MPV',color='red')\n",
    "            ax[i].axvline(x=mean,ymin=0,ymax=1,linewidth='.5',label='$\\mu\\pm 1\\sigma$',color='red',linestyle='dashed')\n",
    "            ax[i].axvline(x=mean-sd,ymin=0,ymax=1,linewidth='.5',color='red',linestyle='dashed')\n",
    "            ax[i].axvline(x=mean+sd,ymin=0,ymax=1,linewidth='.5',color='red',linestyle='dashed')\n",
    "            #cosmetics and legend\n",
    "            plt.legend(bbox_to_anchor=(1,2),fontsize=10)\n",
    "            plt.subplots_adjust(hspace=1)\n",
    "        if(save):\n",
    "            fig.savefig(f'./posterior_{len(params)}_params.pdf',format='pdf',dpi=1000)\n",
    "\n",
    "    # function to plot the posterior distributions as is     \n",
    "    def plot_trace(self,params,save=False):\n",
    "        samples=self.fitobj.draws_pd()\n",
    "        fig, (ax)=plt.subplots(ncols=2,nrows=len(params),dpi=1000)\n",
    "        #print(ax.shape)\n",
    "        ls=['solid','dotted','dashed','dashdot']\n",
    "        for i in range(len(params)):\n",
    "            ax[i][0].grid(visible=False,axis='y')\n",
    "            ax[i][0].set_xlabel(params[i],fontsize=10)\n",
    "            ax[i][0].set_ylabel('Frequency',fontsize=10)\n",
    "            ax[i][1].set_xlabel('iteration',fontsize=10)\n",
    "            ax[i][1].set_ylabel(params[i],fontsize=10)\n",
    "            for k in range(4):\n",
    "                sns.kdeplot(samples[params[i]][k*1000:(k+1)*1000],ax=ax[i][0],linestyle=ls[k],color='black',\n",
    "                            linewidth=.5,bw=0.35)\n",
    "                ax[i][1].plot(np.arange(0,len(samples[params[i]])/4),\n",
    "                              samples[params[i]][k*1000:(k+1)*1000],ls=ls[k],color='black',alpha=.7,linewidth=.5)\n",
    "                for j in (0,1):\n",
    "                    ax[i][j].tick_params(axis='y', which='both',left=False,right=False,labelleft=False)\n",
    "                    #ax[i][j].set_title(params[i])\n",
    "                    ax[i][j].tick_params(axis='both', which='major', labelsize=10)\n",
    "        plt.subplots_adjust(hspace=1)\n",
    "        #fig.set_size_inches(8.29,1*len(params))\n",
    "def find_y_for_x(x, y, value):\n",
    "    for i in range(len(x)):\n",
    "        if x[i]<= value and x[i+1]>= value:\n",
    "            return y[i]\n",
    "            break\n",
    "        \n",
    "#calculate savage dickey density ratio = Bayes factor\n",
    "def plot_sddr(samples,fixpar,saveas):#this is the model with one parameter more\n",
    "    fig, ax =plt.subplots(dpi=1000)\n",
    "    #define prior data and get posterior using kde\n",
    "    x=np.linspace(-.5,.5,1000)\n",
    "    def prior(x):\n",
    "        return stats.norm.pdf(x,0,np.pi)\n",
    "    priorval=prior(fixpar)\n",
    "    sns.distplot(samples,hist=True,kde=True,ax=ax,kde_kws={'bw':0.35},label='$p(c|y,M_1)$')\n",
    "    kde_curve = ax.lines[0]\n",
    "    xx = kde_curve.get_xdata()\n",
    "    y = kde_curve.get_ydata()\n",
    "    postval=find_y_for_x(xx,y,fixpar)\n",
    "    #plot\n",
    "    ax.plot(x,prior(x),label='$\\pi(c|M_1)$')\n",
    "    ax.vlines(fixpar,0,np.max(y),linestyle='--',color='peachpuff',label='BF={:.2f}'.format(postval/priorval))\n",
    "    ax.legend(bbox_to_anchor=(1,1))\n",
    "    fig.savefig(saveas,format='pdf',dpi=1000,bbox_inches='tight')\n",
    "def elpd_diff(fit,fit1):\n",
    "    elpd=np.array(fit.waic()[2])\n",
    "    elpd1=np.array(fit1.waic()[2])\n",
    "    return np.abs(sum(elpd)-sum(elpd1)),np.sqrt(len(fit.x)*np.var(elpd-elpd1))"
   ]
  },
  {
   "cell_type": "code",
   "execution_count": 52,
   "id": "7cbb68ed",
   "metadata": {},
   "outputs": [
    {
     "name": "stderr",
     "output_type": "stream",
     "text": [
      "INFO:cmdstanpy:found newer exe file, not recompiling\n",
      "INFO:cmdstanpy:CmdStan start procesing\n"
     ]
    },
    {
     "data": {
      "application/vnd.jupyter.widget-view+json": {
       "model_id": "44c9c4545bd342228305b703eccb0c3d",
       "version_major": 2,
       "version_minor": 0
      },
      "text/plain": [
       "chain 1 |          | 00:00 Status"
      ]
     },
     "metadata": {},
     "output_type": "display_data"
    },
    {
     "data": {
      "application/vnd.jupyter.widget-view+json": {
       "model_id": "ae577492a1ae42f6ad7ef71f93f4ed84",
       "version_major": 2,
       "version_minor": 0
      },
      "text/plain": [
       "chain 2 |          | 00:00 Status"
      ]
     },
     "metadata": {},
     "output_type": "display_data"
    },
    {
     "data": {
      "application/vnd.jupyter.widget-view+json": {
       "model_id": "91fffbda70504c3aa60fd84b79a7a2ec",
       "version_major": 2,
       "version_minor": 0
      },
      "text/plain": [
       "chain 3 |          | 00:00 Status"
      ]
     },
     "metadata": {},
     "output_type": "display_data"
    },
    {
     "data": {
      "application/vnd.jupyter.widget-view+json": {
       "model_id": "c8ca56e48e9645158f912cdf8d3098fb",
       "version_major": 2,
       "version_minor": 0
      },
      "text/plain": [
       "chain 4 |          | 00:00 Status"
      ]
     },
     "metadata": {},
     "output_type": "display_data"
    },
    {
     "name": "stdout",
     "output_type": "stream",
     "text": [
      "                                                                                                                                                                                                                                                                                                                                "
     ]
    },
    {
     "name": "stderr",
     "output_type": "stream",
     "text": [
      "INFO:cmdstanpy:CmdStan done processing.\n",
      "INFO:cmdstanpy:found newer exe file, not recompiling\n",
      "INFO:cmdstanpy:CmdStan start procesing\n"
     ]
    },
    {
     "name": "stdout",
     "output_type": "stream",
     "text": [
      "\n"
     ]
    },
    {
     "data": {
      "application/vnd.jupyter.widget-view+json": {
       "model_id": "f10a3126e5fb4b0399ba3e99031a51fd",
       "version_major": 2,
       "version_minor": 0
      },
      "text/plain": [
       "chain 1 |          | 00:00 Status"
      ]
     },
     "metadata": {},
     "output_type": "display_data"
    },
    {
     "data": {
      "application/vnd.jupyter.widget-view+json": {
       "model_id": "0cf3f2f1ab394749a91762c017c39408",
       "version_major": 2,
       "version_minor": 0
      },
      "text/plain": [
       "chain 2 |          | 00:00 Status"
      ]
     },
     "metadata": {},
     "output_type": "display_data"
    },
    {
     "data": {
      "application/vnd.jupyter.widget-view+json": {
       "model_id": "1d4d673a18d4404fb7cff0869233e957",
       "version_major": 2,
       "version_minor": 0
      },
      "text/plain": [
       "chain 3 |          | 00:00 Status"
      ]
     },
     "metadata": {},
     "output_type": "display_data"
    },
    {
     "data": {
      "application/vnd.jupyter.widget-view+json": {
       "model_id": "25231be32d3a4d29b2bc3ec002b1db19",
       "version_major": 2,
       "version_minor": 0
      },
      "text/plain": [
       "chain 4 |          | 00:00 Status"
      ]
     },
     "metadata": {},
     "output_type": "display_data"
    },
    {
     "name": "stdout",
     "output_type": "stream",
     "text": [
      "                                                                                                                                                                                                                                                                                                                                "
     ]
    },
    {
     "name": "stderr",
     "output_type": "stream",
     "text": [
      "INFO:cmdstanpy:CmdStan done processing.\n"
     ]
    },
    {
     "name": "stdout",
     "output_type": "stream",
     "text": [
      "\n"
     ]
    }
   ],
   "source": [
    "fit=bayesian_fit(data=noisy_data,stanfile='stan_file.stan',nsamples=1000)\n",
    "fit1=bayesian_fit(data=noisy_data,stanfile='stan_file1.stan',nsamples=1000)\n",
    "samples=fit.samples_df()\n",
    "samples1=fit1.samples_df()"
   ]
  },
  {
   "cell_type": "code",
   "execution_count": 53,
   "id": "8a1d223a",
   "metadata": {},
   "outputs": [],
   "source": [
    "#plot_sddr(samples=samples1['c'],fixpar=0,saveas='./sddr_m0.pdf')"
   ]
  },
  {
   "cell_type": "code",
   "execution_count": 54,
   "id": "f4b4b74e",
   "metadata": {},
   "outputs": [],
   "source": [
    "#fit.plot_ppd(save=False,fitfunc=fit.f,width=.75)\n",
    "#fit1.plot_ppd(save=True,fitfunc=fit.f1,width=.75)"
   ]
  },
  {
   "cell_type": "code",
   "execution_count": 55,
   "id": "5837ee2f",
   "metadata": {},
   "outputs": [
    {
     "data": {
      "text/plain": [
       "(-1.3183325070852443,\n",
       " 2.2704577849544627,\n",
       " array([-0.1320149 ,  0.15402424,  0.18441002, -0.32375704,  0.28589829,\n",
       "        -0.89535324,  0.07188002,  0.36824659, -0.1037698 ,  0.31166752,\n",
       "        -1.8505909 , -0.07509462,  0.36034999,  0.19361938,  0.13215193]))"
      ]
     },
     "execution_count": 55,
     "metadata": {},
     "output_type": "execute_result"
    }
   ],
   "source": [
    "fit.waic()"
   ]
  },
  {
   "cell_type": "code",
   "execution_count": 56,
   "id": "39efd8bd",
   "metadata": {},
   "outputs": [
    {
     "data": {
      "text/plain": [
       "(-1.6955432346287982,\n",
       " 2.779878529325327,\n",
       " array([-0.13786055, -0.06111697,  0.18897782,  0.04192144,  0.34051427,\n",
       "        -0.5103562 , -0.17470331,  0.43995993, -0.61329732,  0.32120425,\n",
       "        -2.45604007,  0.26737863,  0.30463659,  0.12480932,  0.22842892]))"
      ]
     },
     "execution_count": 56,
     "metadata": {},
     "output_type": "execute_result"
    }
   ],
   "source": [
    "fit1.waic()"
   ]
  },
  {
   "cell_type": "code",
   "execution_count": 57,
   "id": "91528221",
   "metadata": {},
   "outputs": [
    {
     "data": {
      "text/plain": [
       "(0.3772107275435539, 1.0716349048052498)"
      ]
     },
     "execution_count": 57,
     "metadata": {},
     "output_type": "execute_result"
    }
   ],
   "source": [
    "elpd_diff(fit,fit1)"
   ]
  },
  {
   "cell_type": "code",
   "execution_count": null,
   "id": "pressed-medium",
   "metadata": {},
   "outputs": [],
   "source": [
    "#fit1.plot_posterior(params=['a','b','c'],func=fit1.f1,save=True)\n",
    "#fit.plot_posterior(params=['a','b'],func=fit.f,save=True)\n",
    "#fit.get_chisqpars(function=fit.f)\n",
    "#fit.plot_trace(params=['a','b'])\n",
    "#fit1.plot_trace(params=['a','b','c'])"
   ]
  },
  {
   "cell_type": "code",
   "execution_count": null,
   "id": "34ce7832",
   "metadata": {},
   "outputs": [],
   "source": [
    "a=np.array([i for i in range(50)])\n",
    "b=np.array([i for i in range(50)])"
   ]
  },
  {
   "cell_type": "code",
   "execution_count": null,
   "id": "146aaafb",
   "metadata": {},
   "outputs": [],
   "source": [
    "sum(b)"
   ]
  },
  {
   "cell_type": "code",
   "execution_count": null,
   "id": "7b1dcf08",
   "metadata": {},
   "outputs": [],
   "source": []
  }
 ],
 "metadata": {
  "kernelspec": {
   "display_name": "Python 3 (ipykernel)",
   "language": "python",
   "name": "python3"
  },
  "language_info": {
   "codemirror_mode": {
    "name": "ipython",
    "version": 3
   },
   "file_extension": ".py",
   "mimetype": "text/x-python",
   "name": "python",
   "nbconvert_exporter": "python",
   "pygments_lexer": "ipython3",
   "version": "3.10.1"
  }
 },
 "nbformat": 4,
 "nbformat_minor": 5
}
