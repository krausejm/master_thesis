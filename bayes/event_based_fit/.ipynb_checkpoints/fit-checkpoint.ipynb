{
 "cells": [
  {
   "cell_type": "code",
   "execution_count": 1,
   "id": "292b525a",
   "metadata": {},
   "outputs": [
    {
     "name": "stdout",
     "output_type": "stream",
     "text": [
      "Welcome to JupyROOT 6.24/06\n"
     ]
    }
   ],
   "source": [
    "import nest_asyncio\n",
    "nest_asyncio.apply()\n",
    "import cmdstanpy as sp\n",
    "import numpy as np\n",
    "from scipy.optimize import curve_fit\n",
    "import pandas as pd\n",
    "import matplotlib.pyplot as plt\n",
    "plt.ioff()\n",
    "from cycler import cycler\n",
    "import matplotlib.patches as mpatches\n",
    "import seaborn as sns\n",
    "import arviz as az\n",
    "import scipy.stats as stats\n",
    "import ROOT as r\n",
    "import time\n",
    "plt.rcParams[\"xtick.minor.visible\"] =  True\n",
    "plt.rcParams[\"ytick.minor.visible\"] =  True\n",
    "plt.rcParams[\"mathtext.fontset\"]=\"cm\"\n",
    "plt.rcParams['errorbar.capsize'] = 3\n",
    "plt.rcParams['mathtext.rm'] = 'serif'\n",
    "plt.rcParams['font.family']='serif'\n",
    "plt.rcParams['font.size']=22\n",
    "plt.rcParams['axes.grid'] = True\n",
    "plt.rcParams['grid.linestyle']=':'\n",
    "plt.rcParams['grid.color']='black'\n",
    "plt.rcParams['axes.prop_cycle'] = cycler(color=['black', 'red', 'blue', 'green'])\n",
    "\n",
    "import arviz as az\n",
    "import warnings\n",
    "warnings.filterwarnings('ignore')\n",
    "%jsroot on\n",
    "\n",
    "\n",
    "\n"
   ]
  },
  {
   "cell_type": "code",
   "execution_count": 2,
   "id": "40b8d746",
   "metadata": {},
   "outputs": [
    {
     "name": "stderr",
     "output_type": "stream",
     "text": [
      "INFO:cmdstanpy:found newer exe file, not recompiling\n",
      "INFO:cmdstanpy:found newer exe file, not recompiling\n",
      "INFO:cmdstanpy:CmdStan start procesing\n"
     ]
    },
    {
     "data": {
      "application/vnd.jupyter.widget-view+json": {
       "model_id": "8ba9571edce74c8c9cfe2dad7d68b0e2",
       "version_major": 2,
       "version_minor": 0
      },
      "text/plain": [
       "chain 1 |          | 00:00 Status"
      ]
     },
     "metadata": {},
     "output_type": "display_data"
    },
    {
     "data": {
      "application/vnd.jupyter.widget-view+json": {
       "model_id": "db4053cfe8b742709c7776a510336f78",
       "version_major": 2,
       "version_minor": 0
      },
      "text/plain": [
       "chain 2 |          | 00:00 Status"
      ]
     },
     "metadata": {},
     "output_type": "display_data"
    },
    {
     "data": {
      "application/vnd.jupyter.widget-view+json": {
       "model_id": "ec5d4f0051c74b4e827f4dfa8e025f44",
       "version_major": 2,
       "version_minor": 0
      },
      "text/plain": [
       "chain 3 |          | 00:00 Status"
      ]
     },
     "metadata": {},
     "output_type": "display_data"
    },
    {
     "data": {
      "application/vnd.jupyter.widget-view+json": {
       "model_id": "057810400b0447a08ead6c4d0bd23c2e",
       "version_major": 2,
       "version_minor": 0
      },
      "text/plain": [
       "chain 4 |          | 00:00 Status"
      ]
     },
     "metadata": {},
     "output_type": "display_data"
    },
    {
     "name": "stdout",
     "output_type": "stream",
     "text": [
      "                                                                                                                                                                                                                                                                                                                                "
     ]
    },
    {
     "name": "stderr",
     "output_type": "stream",
     "text": [
      "INFO:cmdstanpy:CmdStan done processing.\n"
     ]
    },
    {
     "name": "stdout",
     "output_type": "stream",
     "text": [
      "\n"
     ]
    }
   ],
   "source": [
    "cols=[f'ebin{i:02d}costbin{j:02d}' for i in range(11) for j in range(12)]\n",
    "diagnostics_df=pd.DataFrame(columns=cols,index=['sigma_median','mcse','rhat'])\n",
    "sigma_df=pd.DataFrame(columns=cols)\n",
    "\n",
    "for i in range(1):#no. of energy bins\n",
    "    for j in range(1):#no. of angle bins\n",
    "        #read data\n",
    "        df=pd.read_csv(f\"ebin{i:02d}/ebin{i:02d}costbin{j:02d}.txt\",sep=\"\\t\")\n",
    "        df.columns=['pol','phi','weight']\n",
    "        #these are prompt peak events\n",
    "        prmpt=df.loc[df['weight']==1]\n",
    "        prmpt=prmpt.reset_index(drop=True)\n",
    "        #sideband\n",
    "        side=df.loc[df['weight']!=1]\n",
    "        side=side.reset_index(drop=True)\n",
    "        nprmpt=len(prmpt)\n",
    "        total_nside=(len(side))\n",
    "        #weights used in the data, including 1--> exterminate 1\n",
    "        weights=pd.unique(df['weight'].values)\n",
    "        weights=np.array(weights[weights!=1])\n",
    "        #sideband events are identified by the corresponding weights\n",
    "        nside=np.array([len(df.loc[df['weight']==weights[i]])for i in range(7)])\n",
    "        #fraction of signal in prompt peak, note that the weights are already negative (TO BE CHECKED W/ FARAHS DATA!)\n",
    "        f=(nprmpt+np.sum(nside*weights))/nprmpt\n",
    "        #print(f)\n",
    "        stan_data={\n",
    "            'N':nprmpt, #no. of prompt peak events and corresponding pol and phi values\n",
    "            'phi_prmpt':list(prmpt['phi'].values),\n",
    "            'pol_prmpt':list(prmpt['pol'].values),\n",
    "            'M':total_nside,#no. of sideband events and..\n",
    "            'phi_side':list(side['phi'].values),\n",
    "            'pol_side':list(side['pol'].values),\n",
    "            'f':f #fraction of signal in prmpt peak\n",
    "        }\n",
    "        #now the stan model and mcmc\n",
    "        model=sp.CmdStanModel(stan_file='toyMC_stan.stan')\n",
    "        model.compile()\n",
    "        fitobj=model.sample(data=stan_data,iter_sampling=1000,inits=0)\n",
    "        summary=fitobj.summary()\n",
    "        samples=fitobj.draws_pd()\n",
    "        #get mcmc diagnostics\n",
    "        median=summary['50%']['sigma']\n",
    "        mcse=(az.mcse(np.transpose(fitobj.draws(concat_chains=False)[:,:,7]),method='median'))\n",
    "        rhat=(summary['R_hat']['sigma'])\n",
    "        tmp_list=[median,mcse,rhat]\n",
    "        currbin=f\"ebin{i:02d}costbin{j:02d}\"\n",
    "        diagnostics_df[currbin]=tmp_list\n",
    "        sigma_df[currbin]=samples['sigma']\n",
    "        \n"
   ]
  },
  {
   "cell_type": "code",
   "execution_count": 3,
   "id": "ed43b617",
   "metadata": {},
   "outputs": [
    {
     "name": "stdout",
     "output_type": "stream",
     "text": [
      "             ebin00costbin00 ebin00costbin01 ebin00costbin02 ebin00costbin03  \\\n",
      "sigma_median             NaN             NaN             NaN             NaN   \n",
      "mcse                     NaN             NaN             NaN             NaN   \n",
      "rhat                     NaN             NaN             NaN             NaN   \n",
      "\n",
      "             ebin00costbin04 ebin00costbin05 ebin00costbin06 ebin00costbin07  \\\n",
      "sigma_median             NaN             NaN             NaN             NaN   \n",
      "mcse                     NaN             NaN             NaN             NaN   \n",
      "rhat                     NaN             NaN             NaN             NaN   \n",
      "\n",
      "             ebin00costbin08 ebin00costbin09  ... ebin10costbin03  \\\n",
      "sigma_median             NaN             NaN  ...             NaN   \n",
      "mcse                     NaN             NaN  ...             NaN   \n",
      "rhat                     NaN             NaN  ...             NaN   \n",
      "\n",
      "             ebin10costbin04 ebin10costbin05 ebin10costbin06 ebin10costbin07  \\\n",
      "sigma_median             NaN             NaN             NaN             NaN   \n",
      "mcse                     NaN             NaN             NaN             NaN   \n",
      "rhat                     NaN             NaN             NaN             NaN   \n",
      "\n",
      "             ebin10costbin08 ebin10costbin09 ebin10costbin10 ebin10costbin11  \\\n",
      "sigma_median             NaN             NaN             NaN             NaN   \n",
      "mcse                     NaN             NaN             NaN             NaN   \n",
      "rhat                     NaN             NaN             NaN             NaN   \n",
      "\n",
      "             ebin00/ebin00costbin00  \n",
      "sigma_median              -0.038000  \n",
      "mcse                       0.005352  \n",
      "rhat                       1.000000  \n",
      "\n",
      "[3 rows x 133 columns]\n"
     ]
    }
   ],
   "source": [
    "print(diagnostics_df)"
   ]
  },
  {
   "cell_type": "code",
   "execution_count": 4,
   "id": "d75d7253",
   "metadata": {},
   "outputs": [
    {
     "name": "stdout",
     "output_type": "stream",
     "text": [
      "     ebin00costbin00 ebin00costbin01 ebin00costbin02 ebin00costbin03  \\\n",
      "0                NaN             NaN             NaN             NaN   \n",
      "1                NaN             NaN             NaN             NaN   \n",
      "2                NaN             NaN             NaN             NaN   \n",
      "3                NaN             NaN             NaN             NaN   \n",
      "4                NaN             NaN             NaN             NaN   \n",
      "...              ...             ...             ...             ...   \n",
      "3995             NaN             NaN             NaN             NaN   \n",
      "3996             NaN             NaN             NaN             NaN   \n",
      "3997             NaN             NaN             NaN             NaN   \n",
      "3998             NaN             NaN             NaN             NaN   \n",
      "3999             NaN             NaN             NaN             NaN   \n",
      "\n",
      "     ebin00costbin04 ebin00costbin05 ebin00costbin06 ebin00costbin07  \\\n",
      "0                NaN             NaN             NaN             NaN   \n",
      "1                NaN             NaN             NaN             NaN   \n",
      "2                NaN             NaN             NaN             NaN   \n",
      "3                NaN             NaN             NaN             NaN   \n",
      "4                NaN             NaN             NaN             NaN   \n",
      "...              ...             ...             ...             ...   \n",
      "3995             NaN             NaN             NaN             NaN   \n",
      "3996             NaN             NaN             NaN             NaN   \n",
      "3997             NaN             NaN             NaN             NaN   \n",
      "3998             NaN             NaN             NaN             NaN   \n",
      "3999             NaN             NaN             NaN             NaN   \n",
      "\n",
      "     ebin00costbin08 ebin00costbin09  ... ebin10costbin03 ebin10costbin04  \\\n",
      "0                NaN             NaN  ...             NaN             NaN   \n",
      "1                NaN             NaN  ...             NaN             NaN   \n",
      "2                NaN             NaN  ...             NaN             NaN   \n",
      "3                NaN             NaN  ...             NaN             NaN   \n",
      "4                NaN             NaN  ...             NaN             NaN   \n",
      "...              ...             ...  ...             ...             ...   \n",
      "3995             NaN             NaN  ...             NaN             NaN   \n",
      "3996             NaN             NaN  ...             NaN             NaN   \n",
      "3997             NaN             NaN  ...             NaN             NaN   \n",
      "3998             NaN             NaN  ...             NaN             NaN   \n",
      "3999             NaN             NaN  ...             NaN             NaN   \n",
      "\n",
      "     ebin10costbin05 ebin10costbin06 ebin10costbin07 ebin10costbin08  \\\n",
      "0                NaN             NaN             NaN             NaN   \n",
      "1                NaN             NaN             NaN             NaN   \n",
      "2                NaN             NaN             NaN             NaN   \n",
      "3                NaN             NaN             NaN             NaN   \n",
      "4                NaN             NaN             NaN             NaN   \n",
      "...              ...             ...             ...             ...   \n",
      "3995             NaN             NaN             NaN             NaN   \n",
      "3996             NaN             NaN             NaN             NaN   \n",
      "3997             NaN             NaN             NaN             NaN   \n",
      "3998             NaN             NaN             NaN             NaN   \n",
      "3999             NaN             NaN             NaN             NaN   \n",
      "\n",
      "     ebin10costbin09 ebin10costbin10 ebin10costbin11 ebin00/ebin00costbin00  \n",
      "0                NaN             NaN             NaN               0.130809  \n",
      "1                NaN             NaN             NaN              -0.187721  \n",
      "2                NaN             NaN             NaN               0.253734  \n",
      "3                NaN             NaN             NaN              -0.325758  \n",
      "4                NaN             NaN             NaN              -0.013149  \n",
      "...              ...             ...             ...                    ...  \n",
      "3995             NaN             NaN             NaN              -0.982380  \n",
      "3996             NaN             NaN             NaN              -0.981418  \n",
      "3997             NaN             NaN             NaN              -0.991476  \n",
      "3998             NaN             NaN             NaN               0.746038  \n",
      "3999             NaN             NaN             NaN               0.339347  \n",
      "\n",
      "[4000 rows x 133 columns]\n"
     ]
    }
   ],
   "source": [
    "print(sigma_df)"
   ]
  },
  {
   "cell_type": "code",
   "execution_count": 5,
   "id": "44c90d4d",
   "metadata": {},
   "outputs": [
    {
     "ename": "NameError",
     "evalue": "name 'farahs_data' is not defined",
     "output_type": "error",
     "traceback": [
      "\u001b[0;31m---------------------------------------------------------------------------\u001b[0m",
      "\u001b[0;31mNameError\u001b[0m                                 Traceback (most recent call last)",
      "Input \u001b[0;32mIn [5]\u001b[0m, in \u001b[0;36m<module>\u001b[0;34m\u001b[0m\n\u001b[1;32m      4\u001b[0m curr_e\u001b[38;5;241m=\u001b[39m\u001b[38;5;241m1130\u001b[39m\u001b[38;5;241m+\u001b[39m(i\u001b[38;5;241m+\u001b[39m\u001b[38;5;241m1\u001b[39m)\u001b[38;5;241m*\u001b[39m\u001b[38;5;241m60\u001b[39m\u001b[38;5;241m-\u001b[39m\u001b[38;5;241m30\u001b[39m\n\u001b[1;32m      5\u001b[0m curr_ct\u001b[38;5;241m=\u001b[39m\u001b[38;5;241m-\u001b[39m\u001b[38;5;241m1\u001b[39m\u001b[38;5;241m+\u001b[39m(j\u001b[38;5;241m+\u001b[39m\u001b[38;5;241m1\u001b[39m)\u001b[38;5;241m*\u001b[39m\u001b[38;5;241m1\u001b[39m\u001b[38;5;241m/\u001b[39m\u001b[38;5;241m6\u001b[39m\u001b[38;5;241m-\u001b[39m\u001b[38;5;241m1\u001b[39m\u001b[38;5;241m/\u001b[39m\u001b[38;5;241m12\u001b[39m\n\u001b[0;32m----> 6\u001b[0m curr_sigma\u001b[38;5;241m=\u001b[39m\u001b[43mfarahs_data\u001b[49m\u001b[38;5;241m.\u001b[39mloc[(farahs_data[\u001b[38;5;124m'\u001b[39m\u001b[38;5;124megamma\u001b[39m\u001b[38;5;124m'\u001b[39m]\u001b[38;5;241m==\u001b[39mcurr_e) \u001b[38;5;241m&\u001b[39m (farahs_data[\u001b[38;5;124m'\u001b[39m\u001b[38;5;124mcostheta\u001b[39m\u001b[38;5;124m'\u001b[39m]\u001b[38;5;241m==\u001b[39m\u001b[38;5;241m-\u001b[39m\u001b[38;5;241m0.75\u001b[39m)]\n\u001b[1;32m      7\u001b[0m \u001b[38;5;28mprint\u001b[39m(curr_sigma)\n",
      "\u001b[0;31mNameError\u001b[0m: name 'farahs_data' is not defined"
     ]
    }
   ],
   "source": [
    "i=5\n",
    "j=1\n",
    "\n",
    "curr_e=1130+(i+1)*60-30\n",
    "curr_ct=-1+(j+1)*1/6-1/12\n",
    "curr_sigma=farahs_data.loc[(farahs_data['egamma']==curr_e) & (farahs_data['costheta']==-0.75)]\n",
    "print(curr_sigma)"
   ]
  },
  {
   "cell_type": "code",
   "execution_count": null,
   "id": "7d8b9b23",
   "metadata": {},
   "outputs": [],
   "source": [
    "plt.hist(samples['sigma'])\n",
    "plt.errorbar(x=curr_sigma['sigma'],y=100,yerr=0,xerr=curr_sigma['stat_error'])\n",
    "plt.show()"
   ]
  },
  {
   "cell_type": "code",
   "execution_count": null,
   "id": "693e7cd0",
   "metadata": {},
   "outputs": [],
   "source": [
    "\n"
   ]
  }
 ],
 "metadata": {
  "kernelspec": {
   "display_name": "Python 3 (ipykernel)",
   "language": "python",
   "name": "python3"
  },
  "language_info": {
   "codemirror_mode": {
    "name": "ipython",
    "version": 3
   },
   "file_extension": ".py",
   "mimetype": "text/x-python",
   "name": "python",
   "nbconvert_exporter": "python",
   "pygments_lexer": "ipython3",
   "version": "3.10.2"
  }
 },
 "nbformat": 4,
 "nbformat_minor": 5
}
