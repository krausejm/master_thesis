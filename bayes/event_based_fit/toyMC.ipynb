{
 "cells": [
  {
   "cell_type": "code",
   "execution_count": 1,
   "id": "b6caff36",
   "metadata": {},
   "outputs": [
    {
     "name": "stdout",
     "output_type": "stream",
     "text": [
      "Welcome to JupyROOT 6.26/00\n"
     ]
    }
   ],
   "source": [
    "import nest_asyncio\n",
    "nest_asyncio.apply()\n",
    "import cmdstanpy as sp\n",
    "import numpy as np\n",
    "from scipy.optimize import curve_fit\n",
    "import pandas as pd\n",
    "import matplotlib.pyplot as plt\n",
    "plt.ioff()\n",
    "from cycler import cycler\n",
    "import matplotlib.patches as mpatches\n",
    "import seaborn as sns\n",
    "import arviz as az\n",
    "import scipy.stats as stats\n",
    "import ROOT as r\n",
    "import time\n",
    "plt.rcParams[\"xtick.minor.visible\"] =  True\n",
    "plt.rcParams[\"ytick.minor.visible\"] =  True\n",
    "plt.rcParams[\"mathtext.fontset\"]=\"cm\"\n",
    "plt.rcParams['errorbar.capsize'] = 3\n",
    "plt.rcParams['mathtext.rm'] = 'serif'\n",
    "plt.rcParams['font.family']='serif'\n",
    "plt.rcParams['font.size']=22\n",
    "plt.rcParams['axes.grid'] = True\n",
    "plt.rcParams['grid.linestyle']=':'\n",
    "plt.rcParams['grid.color']='black'\n",
    "plt.rcParams['axes.prop_cycle'] = cycler(color=['black', 'red', 'blue', 'green'])\n",
    "\n",
    "import arviz as az\n",
    "import warnings\n",
    "warnings.filterwarnings('ignore')\n",
    "%jsroot on"
   ]
  },
  {
   "cell_type": "code",
   "execution_count": 2,
   "id": "78318ce8",
   "metadata": {},
   "outputs": [],
   "source": [
    "def fit(nsamples,nbins):\n",
    "    cols=[f'toybin{i:02d}' for i in range(nbins)]\n",
    "    diagnostics_df=pd.DataFrame(columns=cols,index=['sigma_median','mcse','rhat'])\n",
    "    sigma_df=pd.DataFrame(columns=cols)\n",
    "    for i in range(nbins):#no. of toy bins\n",
    "        #read data\n",
    "        df=pd.read_csv(f\"toybins/toybin{i:02d}.txt\",sep=\"\\t\")\n",
    "        #df=pd.read_csv(f\"new_toy_MC.txt\",sep=\"\\t\")\n",
    "        df.columns=['pol','phi','weight']\n",
    "        #these are prompt peak events\n",
    "        prmpt=df.loc[df['weight']==1]\n",
    "        prmpt=prmpt.reset_index(drop=True)\n",
    "        #sideband\n",
    "        side=df.loc[df['weight']!=1]\n",
    "        side=side.reset_index(drop=True)\n",
    "        nprmpt=len(prmpt)\n",
    "        total_nside=(len(side))\n",
    "        #weights used in the data, including 1--> exterminate 1\n",
    "        weights=pd.unique(df['weight'].values)\n",
    "        weights=np.array(weights[weights!=1])\n",
    "        #sideband events are identified by the corresponding weights\n",
    "        nside=np.array([len(df.loc[df['weight']==weights[i]])for i in range(len(weights))])\n",
    "        #fraction of signal in prompt peak, note that the weights are already negative (TO BE CHECKED W/ FARAHS DATA!)\n",
    "        f=(nprmpt+np.sum(nside*weights))/nprmpt\n",
    "        print(f)\n",
    "        stan_data={\n",
    "            'N':nprmpt, #no. of prompt peak events and corresponding pol and phi values\n",
    "            'phi_prmpt':list(prmpt['phi'].values),\n",
    "            'pol_prmpt':list(prmpt['pol'].values),\n",
    "            'M':total_nside,#no. of sideband events and..\n",
    "            'phi_side':list(side['phi'].values),\n",
    "            'pol_side':list(side['pol'].values),\n",
    "            'f':f #fraction of signal in prmpt peak\n",
    "        }\n",
    "        print(nprmpt, total_nside)\n",
    "        #now the stan model and mcmc\n",
    "        model=sp.CmdStanModel(stan_file='toyMC_stan.stan')\n",
    "        model.compile()\n",
    "        fitobj=model.sample(data=stan_data,iter_sampling=nsamples,inits=0)\n",
    "        summary=fitobj.summary()\n",
    "        samples=fitobj.draws_pd()\n",
    "        #get mcmc diagnostics\n",
    "        median=summary['50%']['sigma']\n",
    "        mcse=(az.mcse(np.transpose(fitobj.draws(concat_chains=False)[:,:,7]),method='median'))\n",
    "        rhat=(summary['R_hat']['sigma'])\n",
    "        tmp_list=[median,mcse,rhat]\n",
    "        currbin=f\"toybin{i:02d}\"\n",
    "        diagnostics_df[currbin]=tmp_list\n",
    "        sigma_df[currbin]=samples['sigma']\n",
    "    return diagnostics_df, sigma_df, summary"
   ]
  },
  {
   "cell_type": "code",
   "execution_count": 3,
   "id": "489bfcac",
   "metadata": {},
   "outputs": [
    {
     "name": "stderr",
     "output_type": "stream",
     "text": [
      "INFO:cmdstanpy:found newer exe file, not recompiling\n",
      "INFO:cmdstanpy:found newer exe file, not recompiling\n",
      "INFO:cmdstanpy:CmdStan start procesing\n"
     ]
    },
    {
     "name": "stdout",
     "output_type": "stream",
     "text": [
      "0.9497152507198229\n",
      "1806 2373\n"
     ]
    },
    {
     "data": {
      "application/vnd.jupyter.widget-view+json": {
       "model_id": "ae9dcb7205644cab8969286fb66650cb",
       "version_major": 2,
       "version_minor": 0
      },
      "text/plain": [
       "chain 1 |          | 00:00 Status"
      ]
     },
     "metadata": {},
     "output_type": "display_data"
    },
    {
     "data": {
      "application/vnd.jupyter.widget-view+json": {
       "model_id": "a9644057637e4c2dae638a25631af83d",
       "version_major": 2,
       "version_minor": 0
      },
      "text/plain": [
       "chain 2 |          | 00:00 Status"
      ]
     },
     "metadata": {},
     "output_type": "display_data"
    },
    {
     "data": {
      "application/vnd.jupyter.widget-view+json": {
       "model_id": "5cf3a060205b4d199f34bd1705759c76",
       "version_major": 2,
       "version_minor": 0
      },
      "text/plain": [
       "chain 3 |          | 00:00 Status"
      ]
     },
     "metadata": {},
     "output_type": "display_data"
    },
    {
     "data": {
      "application/vnd.jupyter.widget-view+json": {
       "model_id": "175ca70b19cf4e3a9f0aba2c53e0b668",
       "version_major": 2,
       "version_minor": 0
      },
      "text/plain": [
       "chain 4 |          | 00:00 Status"
      ]
     },
     "metadata": {},
     "output_type": "display_data"
    },
    {
     "name": "stdout",
     "output_type": "stream",
     "text": [
      "                                                                                                                                                                                                                                                                                                                                "
     ]
    },
    {
     "name": "stderr",
     "output_type": "stream",
     "text": [
      "INFO:cmdstanpy:CmdStan done processing.\n",
      "INFO:cmdstanpy:found newer exe file, not recompiling\n",
      "INFO:cmdstanpy:found newer exe file, not recompiling\n",
      "INFO:cmdstanpy:CmdStan start procesing\n"
     ]
    },
    {
     "name": "stdout",
     "output_type": "stream",
     "text": [
      "\n",
      "0.9494358544463569\n",
      "1743 2303\n"
     ]
    },
    {
     "data": {
      "application/vnd.jupyter.widget-view+json": {
       "model_id": "a8e90c5ccf4b4970b6cb9bcc64d2ded4",
       "version_major": 2,
       "version_minor": 0
      },
      "text/plain": [
       "chain 1 |          | 00:00 Status"
      ]
     },
     "metadata": {},
     "output_type": "display_data"
    },
    {
     "data": {
      "application/vnd.jupyter.widget-view+json": {
       "model_id": "cfd4f40f640f441cb1ae5918b83c5b78",
       "version_major": 2,
       "version_minor": 0
      },
      "text/plain": [
       "chain 2 |          | 00:00 Status"
      ]
     },
     "metadata": {},
     "output_type": "display_data"
    },
    {
     "data": {
      "application/vnd.jupyter.widget-view+json": {
       "model_id": "105f54dcea3445328cc12d20366ba080",
       "version_major": 2,
       "version_minor": 0
      },
      "text/plain": [
       "chain 3 |          | 00:00 Status"
      ]
     },
     "metadata": {},
     "output_type": "display_data"
    },
    {
     "data": {
      "application/vnd.jupyter.widget-view+json": {
       "model_id": "7b29751a38bf4faa9f83492cbfa76871",
       "version_major": 2,
       "version_minor": 0
      },
      "text/plain": [
       "chain 4 |          | 00:00 Status"
      ]
     },
     "metadata": {},
     "output_type": "display_data"
    },
    {
     "name": "stdout",
     "output_type": "stream",
     "text": [
      "                                                                                                                                                                                                                                                                                                                                "
     ]
    },
    {
     "name": "stderr",
     "output_type": "stream",
     "text": [
      "INFO:cmdstanpy:CmdStan done processing.\n",
      "INFO:cmdstanpy:found newer exe file, not recompiling\n",
      "INFO:cmdstanpy:found newer exe file, not recompiling\n",
      "INFO:cmdstanpy:CmdStan start procesing\n"
     ]
    },
    {
     "name": "stdout",
     "output_type": "stream",
     "text": [
      "\n",
      "0.9495985219047619\n",
      "1785 2352\n"
     ]
    },
    {
     "data": {
      "application/vnd.jupyter.widget-view+json": {
       "model_id": "20ea671312804143967d24bb86835bdc",
       "version_major": 2,
       "version_minor": 0
      },
      "text/plain": [
       "chain 1 |          | 00:00 Status"
      ]
     },
     "metadata": {},
     "output_type": "display_data"
    },
    {
     "data": {
      "application/vnd.jupyter.widget-view+json": {
       "model_id": "b9fb8e09b75149dab7c6ff415dd7a05d",
       "version_major": 2,
       "version_minor": 0
      },
      "text/plain": [
       "chain 2 |          | 00:00 Status"
      ]
     },
     "metadata": {},
     "output_type": "display_data"
    },
    {
     "data": {
      "application/vnd.jupyter.widget-view+json": {
       "model_id": "ace8891150b34108b86df7462032b6c4",
       "version_major": 2,
       "version_minor": 0
      },
      "text/plain": [
       "chain 3 |          | 00:00 Status"
      ]
     },
     "metadata": {},
     "output_type": "display_data"
    },
    {
     "data": {
      "application/vnd.jupyter.widget-view+json": {
       "model_id": "78dd2622accf4f8484592c247e1d10b2",
       "version_major": 2,
       "version_minor": 0
      },
      "text/plain": [
       "chain 4 |          | 00:00 Status"
      ]
     },
     "metadata": {},
     "output_type": "display_data"
    },
    {
     "name": "stdout",
     "output_type": "stream",
     "text": [
      "                                                                                                                                                                                                                                                                                                                                "
     ]
    },
    {
     "name": "stderr",
     "output_type": "stream",
     "text": [
      "INFO:cmdstanpy:CmdStan done processing.\n",
      "INFO:cmdstanpy:found newer exe file, not recompiling\n",
      "INFO:cmdstanpy:found newer exe file, not recompiling\n",
      "INFO:cmdstanpy:CmdStan start procesing\n"
     ]
    },
    {
     "name": "stdout",
     "output_type": "stream",
     "text": [
      "\n",
      "0.9497152507198229\n",
      "1806 2373\n"
     ]
    },
    {
     "data": {
      "application/vnd.jupyter.widget-view+json": {
       "model_id": "e70bf636bf514c2ca01c6a3e8c1046c0",
       "version_major": 2,
       "version_minor": 0
      },
      "text/plain": [
       "chain 1 |          | 00:00 Status"
      ]
     },
     "metadata": {},
     "output_type": "display_data"
    },
    {
     "data": {
      "application/vnd.jupyter.widget-view+json": {
       "model_id": "1c169011670643aeaedae2d93e12438a",
       "version_major": 2,
       "version_minor": 0
      },
      "text/plain": [
       "chain 2 |          | 00:00 Status"
      ]
     },
     "metadata": {},
     "output_type": "display_data"
    },
    {
     "data": {
      "application/vnd.jupyter.widget-view+json": {
       "model_id": "818eca84e0ae4d98ab5ada48a5715056",
       "version_major": 2,
       "version_minor": 0
      },
      "text/plain": [
       "chain 3 |          | 00:00 Status"
      ]
     },
     "metadata": {},
     "output_type": "display_data"
    },
    {
     "data": {
      "application/vnd.jupyter.widget-view+json": {
       "model_id": "596d7aa4ae7b40b581287f7a5991db6b",
       "version_major": 2,
       "version_minor": 0
      },
      "text/plain": [
       "chain 4 |          | 00:00 Status"
      ]
     },
     "metadata": {},
     "output_type": "display_data"
    },
    {
     "name": "stdout",
     "output_type": "stream",
     "text": [
      "                                                                                                                                                                                                                                                                                                                                "
     ]
    },
    {
     "name": "stderr",
     "output_type": "stream",
     "text": [
      "INFO:cmdstanpy:CmdStan done processing.\n",
      "INFO:cmdstanpy:found newer exe file, not recompiling\n",
      "INFO:cmdstanpy:found newer exe file, not recompiling\n",
      "INFO:cmdstanpy:CmdStan start procesing\n"
     ]
    },
    {
     "name": "stdout",
     "output_type": "stream",
     "text": [
      "\n",
      "0.9497199841078601\n",
      "1743 2291\n"
     ]
    },
    {
     "data": {
      "application/vnd.jupyter.widget-view+json": {
       "model_id": "d18fa57594f949338a7b8bd187d9196c",
       "version_major": 2,
       "version_minor": 0
      },
      "text/plain": [
       "chain 1 |          | 00:00 Status"
      ]
     },
     "metadata": {},
     "output_type": "display_data"
    },
    {
     "data": {
      "application/vnd.jupyter.widget-view+json": {
       "model_id": "ff6ff631421c4323b6971974ea237f7e",
       "version_major": 2,
       "version_minor": 0
      },
      "text/plain": [
       "chain 2 |          | 00:00 Status"
      ]
     },
     "metadata": {},
     "output_type": "display_data"
    },
    {
     "data": {
      "application/vnd.jupyter.widget-view+json": {
       "model_id": "4766bfbc42c3482abf58e2ce5bddba27",
       "version_major": 2,
       "version_minor": 0
      },
      "text/plain": [
       "chain 3 |          | 00:00 Status"
      ]
     },
     "metadata": {},
     "output_type": "display_data"
    },
    {
     "data": {
      "application/vnd.jupyter.widget-view+json": {
       "model_id": "510cba5f6607443c962ec11070af51b3",
       "version_major": 2,
       "version_minor": 0
      },
      "text/plain": [
       "chain 4 |          | 00:00 Status"
      ]
     },
     "metadata": {},
     "output_type": "display_data"
    },
    {
     "name": "stdout",
     "output_type": "stream",
     "text": [
      "                                                                                                                                                                                                                                                                                                                                "
     ]
    },
    {
     "name": "stderr",
     "output_type": "stream",
     "text": [
      "INFO:cmdstanpy:CmdStan done processing.\n",
      "INFO:cmdstanpy:found newer exe file, not recompiling\n",
      "INFO:cmdstanpy:found newer exe file, not recompiling\n",
      "INFO:cmdstanpy:CmdStan start procesing\n"
     ]
    },
    {
     "name": "stdout",
     "output_type": "stream",
     "text": [
      "\n",
      "0.9499390351735914\n",
      "1757 2299\n"
     ]
    },
    {
     "data": {
      "application/vnd.jupyter.widget-view+json": {
       "model_id": "28a2f674431849bda99dbfc807f6d2a1",
       "version_major": 2,
       "version_minor": 0
      },
      "text/plain": [
       "chain 1 |          | 00:00 Status"
      ]
     },
     "metadata": {},
     "output_type": "display_data"
    },
    {
     "data": {
      "application/vnd.jupyter.widget-view+json": {
       "model_id": "0d29c03144174fa686caeec93ff6c5f8",
       "version_major": 2,
       "version_minor": 0
      },
      "text/plain": [
       "chain 2 |          | 00:00 Status"
      ]
     },
     "metadata": {},
     "output_type": "display_data"
    },
    {
     "data": {
      "application/vnd.jupyter.widget-view+json": {
       "model_id": "1fc6bf242d3049a4b6b1dee211e97862",
       "version_major": 2,
       "version_minor": 0
      },
      "text/plain": [
       "chain 3 |          | 00:00 Status"
      ]
     },
     "metadata": {},
     "output_type": "display_data"
    },
    {
     "data": {
      "application/vnd.jupyter.widget-view+json": {
       "model_id": "5cd839f3c158402e8c2e0a0ca93b3c60",
       "version_major": 2,
       "version_minor": 0
      },
      "text/plain": [
       "chain 4 |          | 00:00 Status"
      ]
     },
     "metadata": {},
     "output_type": "display_data"
    },
    {
     "name": "stdout",
     "output_type": "stream",
     "text": [
      "                                                                                                                                                                                                                                                                                                                                "
     ]
    },
    {
     "name": "stderr",
     "output_type": "stream",
     "text": [
      "INFO:cmdstanpy:CmdStan done processing.\n",
      "INFO:cmdstanpy:found newer exe file, not recompiling\n",
      "INFO:cmdstanpy:found newer exe file, not recompiling\n",
      "INFO:cmdstanpy:CmdStan start procesing\n"
     ]
    },
    {
     "name": "stdout",
     "output_type": "stream",
     "text": [
      "\n",
      "0.949933081296615\n",
      "1743 2281\n"
     ]
    },
    {
     "data": {
      "application/vnd.jupyter.widget-view+json": {
       "model_id": "63c7fc41d22043099496eeda728a5a61",
       "version_major": 2,
       "version_minor": 0
      },
      "text/plain": [
       "chain 1 |          | 00:00 Status"
      ]
     },
     "metadata": {},
     "output_type": "display_data"
    },
    {
     "data": {
      "application/vnd.jupyter.widget-view+json": {
       "model_id": "194987e6af6b483d881d2616b9123edf",
       "version_major": 2,
       "version_minor": 0
      },
      "text/plain": [
       "chain 2 |          | 00:00 Status"
      ]
     },
     "metadata": {},
     "output_type": "display_data"
    },
    {
     "data": {
      "application/vnd.jupyter.widget-view+json": {
       "model_id": "b14538dcabfa42e685231f13be6f2415",
       "version_major": 2,
       "version_minor": 0
      },
      "text/plain": [
       "chain 3 |          | 00:00 Status"
      ]
     },
     "metadata": {},
     "output_type": "display_data"
    },
    {
     "data": {
      "application/vnd.jupyter.widget-view+json": {
       "model_id": "69ce1d709622477386a15e47e76f5e16",
       "version_major": 2,
       "version_minor": 0
      },
      "text/plain": [
       "chain 4 |          | 00:00 Status"
      ]
     },
     "metadata": {},
     "output_type": "display_data"
    },
    {
     "name": "stdout",
     "output_type": "stream",
     "text": [
      "                                                                                                                                                                                                                                                                                                                                "
     ]
    },
    {
     "name": "stderr",
     "output_type": "stream",
     "text": [
      "INFO:cmdstanpy:CmdStan done processing.\n",
      "INFO:cmdstanpy:found newer exe file, not recompiling\n",
      "INFO:cmdstanpy:found newer exe file, not recompiling\n",
      "INFO:cmdstanpy:CmdStan start procesing\n"
     ]
    },
    {
     "name": "stdout",
     "output_type": "stream",
     "text": [
      "\n",
      "0.9498706306442577\n",
      "1785 2339\n"
     ]
    },
    {
     "data": {
      "application/vnd.jupyter.widget-view+json": {
       "model_id": "57ed3e733d3c4629b2dd022443065eb3",
       "version_major": 2,
       "version_minor": 0
      },
      "text/plain": [
       "chain 1 |          | 00:00 Status"
      ]
     },
     "metadata": {},
     "output_type": "display_data"
    },
    {
     "data": {
      "application/vnd.jupyter.widget-view+json": {
       "model_id": "72ec7b0e597e40c4a5858d95fbdd7d62",
       "version_major": 2,
       "version_minor": 0
      },
      "text/plain": [
       "chain 2 |          | 00:00 Status"
      ]
     },
     "metadata": {},
     "output_type": "display_data"
    },
    {
     "data": {
      "application/vnd.jupyter.widget-view+json": {
       "model_id": "8b64778f11f54b2c94c7d3fd9d9ab3b9",
       "version_major": 2,
       "version_minor": 0
      },
      "text/plain": [
       "chain 3 |          | 00:00 Status"
      ]
     },
     "metadata": {},
     "output_type": "display_data"
    },
    {
     "data": {
      "application/vnd.jupyter.widget-view+json": {
       "model_id": "c686082246ab48ffab1d65c721a488fd",
       "version_major": 2,
       "version_minor": 0
      },
      "text/plain": [
       "chain 4 |          | 00:00 Status"
      ]
     },
     "metadata": {},
     "output_type": "display_data"
    },
    {
     "name": "stdout",
     "output_type": "stream",
     "text": [
      "                                                                                                                                                                                                                                                                                                                                "
     ]
    },
    {
     "name": "stderr",
     "output_type": "stream",
     "text": [
      "INFO:cmdstanpy:CmdStan done processing.\n",
      "INFO:cmdstanpy:found newer exe file, not recompiling\n",
      "INFO:cmdstanpy:found newer exe file, not recompiling\n",
      "INFO:cmdstanpy:CmdStan start procesing\n"
     ]
    },
    {
     "name": "stdout",
     "output_type": "stream",
     "text": [
      "\n",
      "0.9498461446712018\n",
      "1764 2313\n"
     ]
    },
    {
     "data": {
      "application/vnd.jupyter.widget-view+json": {
       "model_id": "a7bdb474635e4707ac1dab4fd282c364",
       "version_major": 2,
       "version_minor": 0
      },
      "text/plain": [
       "chain 1 |          | 00:00 Status"
      ]
     },
     "metadata": {},
     "output_type": "display_data"
    },
    {
     "data": {
      "application/vnd.jupyter.widget-view+json": {
       "model_id": "5579b863eb784c7abd3c5d74b7c9cb5a",
       "version_major": 2,
       "version_minor": 0
      },
      "text/plain": [
       "chain 2 |          | 00:00 Status"
      ]
     },
     "metadata": {},
     "output_type": "display_data"
    },
    {
     "data": {
      "application/vnd.jupyter.widget-view+json": {
       "model_id": "353b3674a8c34ba9a5069c236177a73e",
       "version_major": 2,
       "version_minor": 0
      },
      "text/plain": [
       "chain 3 |          | 00:00 Status"
      ]
     },
     "metadata": {},
     "output_type": "display_data"
    },
    {
     "data": {
      "application/vnd.jupyter.widget-view+json": {
       "model_id": "8c2e50d8014d4e65bbf379f99826d52d",
       "version_major": 2,
       "version_minor": 0
      },
      "text/plain": [
       "chain 4 |          | 00:00 Status"
      ]
     },
     "metadata": {},
     "output_type": "display_data"
    },
    {
     "name": "stdout",
     "output_type": "stream",
     "text": [
      "                                                                                                                                                                                                                                                                                                                                "
     ]
    },
    {
     "name": "stderr",
     "output_type": "stream",
     "text": [
      "INFO:cmdstanpy:CmdStan done processing.\n",
      "INFO:cmdstanpy:found newer exe file, not recompiling\n",
      "INFO:cmdstanpy:found newer exe file, not recompiling\n",
      "INFO:cmdstanpy:CmdStan start procesing\n"
     ]
    },
    {
     "name": "stdout",
     "output_type": "stream",
     "text": [
      "\n",
      "0.9498299477324263\n",
      "1764 2313\n"
     ]
    },
    {
     "data": {
      "application/vnd.jupyter.widget-view+json": {
       "model_id": "6ff3fec7d30a450f98e75164a4600cbe",
       "version_major": 2,
       "version_minor": 0
      },
      "text/plain": [
       "chain 1 |          | 00:00 Status"
      ]
     },
     "metadata": {},
     "output_type": "display_data"
    },
    {
     "data": {
      "application/vnd.jupyter.widget-view+json": {
       "model_id": "45c892544dba46d2a2a79552880425db",
       "version_major": 2,
       "version_minor": 0
      },
      "text/plain": [
       "chain 2 |          | 00:00 Status"
      ]
     },
     "metadata": {},
     "output_type": "display_data"
    },
    {
     "data": {
      "application/vnd.jupyter.widget-view+json": {
       "model_id": "c654eb29587d4a449cf9912b455bc863",
       "version_major": 2,
       "version_minor": 0
      },
      "text/plain": [
       "chain 3 |          | 00:00 Status"
      ]
     },
     "metadata": {},
     "output_type": "display_data"
    },
    {
     "data": {
      "application/vnd.jupyter.widget-view+json": {
       "model_id": "f0529a84e9244438a28ff3a1654a4612",
       "version_major": 2,
       "version_minor": 0
      },
      "text/plain": [
       "chain 4 |          | 00:00 Status"
      ]
     },
     "metadata": {},
     "output_type": "display_data"
    },
    {
     "name": "stdout",
     "output_type": "stream",
     "text": [
      "                                                                                                                                                                                                                                                                                                                                "
     ]
    },
    {
     "name": "stderr",
     "output_type": "stream",
     "text": [
      "INFO:cmdstanpy:CmdStan done processing.\n"
     ]
    },
    {
     "name": "stdout",
     "output_type": "stream",
     "text": [
      "\n"
     ]
    }
   ],
   "source": [
    "dfs=fit(nsamples=1000,nbins=10)\n",
    "diagnostics=dfs[0]\n",
    "sigma=dfs[1]\n",
    "diagnostics.to_csv('toy_diagnostics.csv')\n",
    "sigma.to_csv('toy_sigma.csv')"
   ]
  },
  {
   "cell_type": "code",
   "execution_count": 2,
   "id": "213117dd",
   "metadata": {},
   "outputs": [],
   "source": [
    "sigma_df=pd.read_csv('toy_sigma.csv',index_col=0)\n",
    "diagnostics_df=pd.read_csv('toy_diagnostics.csv',index_col=0)"
   ]
  },
  {
   "cell_type": "code",
   "execution_count": 3,
   "id": "5b3d0a45",
   "metadata": {},
   "outputs": [
    {
     "data": {
      "text/html": [
       "<div>\n",
       "<style scoped>\n",
       "    .dataframe tbody tr th:only-of-type {\n",
       "        vertical-align: middle;\n",
       "    }\n",
       "\n",
       "    .dataframe tbody tr th {\n",
       "        vertical-align: top;\n",
       "    }\n",
       "\n",
       "    .dataframe thead th {\n",
       "        text-align: right;\n",
       "    }\n",
       "</style>\n",
       "<table border=\"1\" class=\"dataframe\">\n",
       "  <thead>\n",
       "    <tr style=\"text-align: right;\">\n",
       "      <th></th>\n",
       "      <th>toybin00</th>\n",
       "      <th>toybin01</th>\n",
       "      <th>toybin02</th>\n",
       "      <th>toybin03</th>\n",
       "      <th>toybin04</th>\n",
       "      <th>toybin05</th>\n",
       "      <th>toybin06</th>\n",
       "      <th>toybin07</th>\n",
       "      <th>toybin08</th>\n",
       "      <th>toybin09</th>\n",
       "      <th>...</th>\n",
       "      <th>toybin90</th>\n",
       "      <th>toybin91</th>\n",
       "      <th>toybin92</th>\n",
       "      <th>toybin93</th>\n",
       "      <th>toybin94</th>\n",
       "      <th>toybin95</th>\n",
       "      <th>toybin96</th>\n",
       "      <th>toybin97</th>\n",
       "      <th>toybin98</th>\n",
       "      <th>toybin99</th>\n",
       "    </tr>\n",
       "  </thead>\n",
       "  <tbody>\n",
       "    <tr>\n",
       "      <th>sigma_median</th>\n",
       "      <td>0.630000</td>\n",
       "      <td>0.600000</td>\n",
       "      <td>0.570000</td>\n",
       "      <td>0.340000</td>\n",
       "      <td>0.470000</td>\n",
       "      <td>0.640000</td>\n",
       "      <td>0.490000</td>\n",
       "      <td>0.550000</td>\n",
       "      <td>0.470000</td>\n",
       "      <td>0.300000</td>\n",
       "      <td>...</td>\n",
       "      <td>0.600000</td>\n",
       "      <td>0.390000</td>\n",
       "      <td>0.490000</td>\n",
       "      <td>0.620000</td>\n",
       "      <td>0.340000</td>\n",
       "      <td>0.520000</td>\n",
       "      <td>0.680000</td>\n",
       "      <td>0.590000</td>\n",
       "      <td>0.39000</td>\n",
       "      <td>0.740000</td>\n",
       "    </tr>\n",
       "    <tr>\n",
       "      <th>mcse</th>\n",
       "      <td>0.002066</td>\n",
       "      <td>0.002075</td>\n",
       "      <td>0.001668</td>\n",
       "      <td>0.001962</td>\n",
       "      <td>0.002053</td>\n",
       "      <td>0.002133</td>\n",
       "      <td>0.002194</td>\n",
       "      <td>0.001785</td>\n",
       "      <td>0.001577</td>\n",
       "      <td>0.002223</td>\n",
       "      <td>...</td>\n",
       "      <td>0.001653</td>\n",
       "      <td>0.002146</td>\n",
       "      <td>0.001576</td>\n",
       "      <td>0.002041</td>\n",
       "      <td>0.002155</td>\n",
       "      <td>0.001886</td>\n",
       "      <td>0.002372</td>\n",
       "      <td>0.002163</td>\n",
       "      <td>0.00205</td>\n",
       "      <td>0.001762</td>\n",
       "    </tr>\n",
       "    <tr>\n",
       "      <th>rhat</th>\n",
       "      <td>1.000000</td>\n",
       "      <td>1.000000</td>\n",
       "      <td>1.000000</td>\n",
       "      <td>1.000000</td>\n",
       "      <td>1.000000</td>\n",
       "      <td>1.000000</td>\n",
       "      <td>1.000000</td>\n",
       "      <td>1.000000</td>\n",
       "      <td>1.000000</td>\n",
       "      <td>1.000000</td>\n",
       "      <td>...</td>\n",
       "      <td>1.000000</td>\n",
       "      <td>1.000000</td>\n",
       "      <td>1.000000</td>\n",
       "      <td>1.000000</td>\n",
       "      <td>1.000000</td>\n",
       "      <td>1.000000</td>\n",
       "      <td>1.000000</td>\n",
       "      <td>1.000000</td>\n",
       "      <td>1.00000</td>\n",
       "      <td>1.000000</td>\n",
       "    </tr>\n",
       "  </tbody>\n",
       "</table>\n",
       "<p>3 rows × 100 columns</p>\n",
       "</div>"
      ],
      "text/plain": [
       "              toybin00  toybin01  toybin02  toybin03  toybin04  toybin05  \\\n",
       "sigma_median  0.630000  0.600000  0.570000  0.340000  0.470000  0.640000   \n",
       "mcse          0.002066  0.002075  0.001668  0.001962  0.002053  0.002133   \n",
       "rhat          1.000000  1.000000  1.000000  1.000000  1.000000  1.000000   \n",
       "\n",
       "              toybin06  toybin07  toybin08  toybin09  ...  toybin90  toybin91  \\\n",
       "sigma_median  0.490000  0.550000  0.470000  0.300000  ...  0.600000  0.390000   \n",
       "mcse          0.002194  0.001785  0.001577  0.002223  ...  0.001653  0.002146   \n",
       "rhat          1.000000  1.000000  1.000000  1.000000  ...  1.000000  1.000000   \n",
       "\n",
       "              toybin92  toybin93  toybin94  toybin95  toybin96  toybin97  \\\n",
       "sigma_median  0.490000  0.620000  0.340000  0.520000  0.680000  0.590000   \n",
       "mcse          0.001576  0.002041  0.002155  0.001886  0.002372  0.002163   \n",
       "rhat          1.000000  1.000000  1.000000  1.000000  1.000000  1.000000   \n",
       "\n",
       "              toybin98  toybin99  \n",
       "sigma_median   0.39000  0.740000  \n",
       "mcse           0.00205  0.001762  \n",
       "rhat           1.00000  1.000000  \n",
       "\n",
       "[3 rows x 100 columns]"
      ]
     },
     "execution_count": 3,
     "metadata": {},
     "output_type": "execute_result"
    }
   ],
   "source": [
    "diagnostics_df"
   ]
  },
  {
   "cell_type": "code",
   "execution_count": 4,
   "id": "56b3af6c",
   "metadata": {},
   "outputs": [
    {
     "data": {
      "image/png": "[encoded data removed]",
      "text/plain": [
       "<Figure size 432x288 with 1 Axes>"
      ]
     },
     "metadata": {
      "needs_background": "light"
     },
     "output_type": "display_data"
    }
   ],
   "source": [
    "\n",
    "medians=[(diagnostics_df[f'toybin{i:02d}']['sigma_median']) for i in range(100)]\n",
    "plt.hist(medians)\n",
    "plt.show()"
   ]
  },
  {
   "cell_type": "code",
   "execution_count": 21,
   "id": "03241d09",
   "metadata": {},
   "outputs": [],
   "source": [
    "all_sigmas=[]\n",
    "for i in range(100):\n",
    "    all_sigmas.extend((np.array(sigma_df[f'toybin{i:02d}'].values)-0.5)/np.std(sigma_df[f'toybin{i:02d}'].values,ddof=1))"
   ]
  },
  {
   "cell_type": "code",
   "execution_count": 22,
   "id": "3dec651e",
   "metadata": {},
   "outputs": [],
   "source": [
    "def gaus(x,a,x0,sigma):\n",
    "    return a*exp(-(x-x0)**2/(2*sigma**2))\n",
    "mu=np.mean(all_sigmas)\n",
    "sigma=np.std(all_sigmas)"
   ]
  },
  {
   "cell_type": "code",
   "execution_count": 23,
   "id": "17030c68",
   "metadata": {},
   "outputs": [
    {
     "data": {
      "image/png": "[encoded data removed]",
      "text/plain": [
       "<Figure size 432x288 with 1 Axes>"
      ]
     },
     "metadata": {
      "needs_background": "light"
     },
     "output_type": "display_data"
    }
   ],
   "source": [
    "plt.hist(all_sigmas,bins=20)\n",
    "plt.show()"
   ]
  },
  {
   "cell_type": "code",
   "execution_count": 24,
   "id": "d7781dbc",
   "metadata": {},
   "outputs": [
    {
     "name": "stderr",
     "output_type": "stream",
     "text": [
      "Warning in <TROOT::Append>: Replacing existing TH1: h (Potential memory leak).\n"
     ]
    }
   ],
   "source": [
    "h=r.TH1D(\"h\",\"h\",100,-5,5)\n",
    "for i in range(len(all_sigmas)):\n",
    "    h.Fill(all_sigmas[i])\n",
    "    "
   ]
  },
  {
   "cell_type": "code",
   "execution_count": 27,
   "id": "2269c634",
   "metadata": {},
   "outputs": [
    {
     "data": {
      "text/plain": [
       "<cppyy.gbl.TFitResultPtr object at 0x5602156639a0>"
      ]
     },
     "execution_count": 27,
     "metadata": {},
     "output_type": "execute_result"
    },
    {
     "name": "stdout",
     "output_type": "stream",
     "text": [
      " FCN=2821.59 FROM MIGRAD    STATUS=CONVERGED      53 CALLS          54 TOTAL\n",
      "                     EDM=2.56948e-09    STRATEGY= 1      ERROR MATRIX ACCURATE \n",
      "  EXT PARAMETER                                   STEP         FIRST   \n",
      "  NO.   NAME      VALUE            ERROR          SIZE      DERIVATIVE \n",
      "   1  Constant     1.11026e+04   2.09624e+01   4.57020e-01   3.33851e-07\n",
      "   2  Mean        -1.64949e-02   2.33054e-03   5.90452e-05  -1.18306e-02\n",
      "   3  Sigma        1.42809e+00   1.47434e-03   7.33834e-06   2.21703e-01\n",
      "/usr/include/c++/11.2.0/bits/shared_ptr_base.h:979: std::__shared_ptr_access<_Tp, _Lp, <anonymous>, <anonymous> >::element_type& std::__shared_ptr_access<_Tp, _Lp, <anonymous>, <anonymous> >::operator*() const [with _Tp = TFitResult; __gnu_cxx::_Lock_policy _Lp = __gnu_cxx::_S_atomic; bool <anonymous> = false; bool <anonymous> = false; std::__shared_ptr_access<_Tp, _Lp, <anonymous>, <anonymous> >::element_type = TFitResult]: Assertion '_M_get() != nullptr' failed.\n",
      "/usr/include/c++/11.2.0/bits/shared_ptr_base.h:979: std::__shared_ptr_access<_Tp, _Lp, <anonymous>, <anonymous> >::element_type& std::__shared_ptr_access<_Tp, _Lp, <anonymous>, <anonymous> >::operator*() const [with _Tp = TFitResult; __gnu_cxx::_Lock_policy _Lp = __gnu_cxx::_S_atomic; bool <anonymous> = false; bool <anonymous> = false; std::__shared_ptr_access<_Tp, _Lp, <anonymous>, <anonymous> >::element_type = TFitResult]: Assertion '_M_get() != nullptr' failed.\n",
      "/usr/include/c++/11.2.0/bits/shared_ptr_base.h:979: std::__shared_ptr_access<_Tp, _Lp, <anonymous>, <anonymous> >::element_type& std::__shared_ptr_access<_Tp, _Lp, <anonymous>, <anonymous> >::operator*() const [with _Tp = TFitResult; __gnu_cxx::_Lock_policy _Lp = __gnu_cxx::_S_atomic; bool <anonymous> = false; bool <anonymous> = false; std::__shared_ptr_access<_Tp, _Lp, <anonymous>, <anonymous> >::element_type = TFitResult]: Assertion '_M_get() != nullptr' failed.\n",
      "/usr/include/c++/11.2.0/bits/shared_ptr_base.h:979: std::__shared_ptr_access<_Tp, _Lp, <anonymous>, <anonymous> >::element_type& std::__shared_ptr_access<_Tp, _Lp, <anonymous>, <anonymous> >::operator*() const [with _Tp = TFitResult; __gnu_cxx::_Lock_policy _Lp = __gnu_cxx::_S_atomic; bool <anonymous> = false; bool <anonymous> = false; std::__shared_ptr_access<_Tp, _Lp, <anonymous>, <anonymous> >::element_type = TFitResult]: Assertion '_M_get() != nullptr' failed.\n",
      "/usr/include/c++/11.2.0/bits/shared_ptr_base.h:979: std::__shared_ptr_access<_Tp, _Lp, <anonymous>, <anonymous> >::element_type& std::__shared_ptr_access<_Tp, _Lp, <anonymous>, <anonymous> >::operator*() const [with _Tp = TFitResult; __gnu_cxx::_Lock_policy _Lp = __gnu_cxx::_S_atomic; bool <anonymous> = false; bool <anonymous> = false; std::__shared_ptr_access<_Tp, _Lp, <anonymous>, <anonymous> >::element_type = TFitResult]: Assertion '_M_get() != nullptr' failed.\n",
      "/usr/include/c++/11.2.0/bits/shared_ptr_base.h:979: std::__shared_ptr_access<_Tp, _Lp, <anonymous>, <anonymous> >::element_type& std::__shared_ptr_access<_Tp, _Lp, <anonymous>, <anonymous> >::operator*() const [with _Tp = TFitResult; __gnu_cxx::_Lock_policy _Lp = __gnu_cxx::_S_atomic; bool <anonymous> = false; bool <anonymous> = false; std::__shared_ptr_access<_Tp, _Lp, <anonymous>, <anonymous> >::element_type = TFitResult]: Assertion '_M_get() != nullptr' failed.\n",
      "/usr/include/c++/11.2.0/bits/shared_ptr_base.h:979: std::__shared_ptr_access<_Tp, _Lp, <anonymous>, <anonymous> >::element_type& std::__shared_ptr_access<_Tp, _Lp, <anonymous>, <anonymous> >::operator*() const [with _Tp = TFitResult; __gnu_cxx::_Lock_policy _Lp = __gnu_cxx::_S_atomic; bool <anonymous> = false; bool <anonymous> = false; std::__shared_ptr_access<_Tp, _Lp, <anonymous>, <anonymous> >::element_type = TFitResult]: Assertion '_M_get() != nullptr' failed.\n",
      "/usr/include/c++/11.2.0/bits/shared_ptr_base.h:979: std::__shared_ptr_access<_Tp, _Lp, <anonymous>, <anonymous> >::element_type& std::__shared_ptr_access<_Tp, _Lp, <anonymous>, <anonymous> >::operator*() const [with _Tp = TFitResult; __gnu_cxx::_Lock_policy _Lp = __gnu_cxx::_S_atomic; bool <anonymous> = false; bool <anonymous> = false; std::__shared_ptr_access<_Tp, _Lp, <anonymous>, <anonymous> >::element_type = TFitResult]: Assertion '_M_get() != nullptr' failed.\n",
      "/usr/include/c++/11.2.0/bits/shared_ptr_base.h:979: std::__shared_ptr_access<_Tp, _Lp, <anonymous>, <anonymous> >::element_type& std::__shared_ptr_access<_Tp, _Lp, <anonymous>, <anonymous> >::operator*() const [with _Tp = TFitResult; __gnu_cxx::_Lock_policy _Lp = __gnu_cxx::_S_atomic; bool <anonymous> = false; bool <anonymous> = false; std::__shared_ptr_access<_Tp, _Lp, <anonymous>, <anonymous> >::element_type = TFitResult]: Assertion '_M_get() != nullptr' failed.\n",
      "/usr/include/c++/11.2.0/bits/shared_ptr_base.h:979: std::__shared_ptr_access<_Tp, _Lp, <anonymous>, <anonymous> >::element_type& std::__shared_ptr_access<_Tp, _Lp, <anonymous>, <anonymous> >::operator*() const [with _Tp = TFitResult; __gnu_cxx::_Lock_policy _Lp = __gnu_cxx::_S_atomic; bool <anonymous> = false; bool <anonymous> = false; std::__shared_ptr_access<_Tp, _Lp, <anonymous>, <anonymous> >::element_type = TFitResult]: Assertion '_M_get() != nullptr' failed.\n",
      "/usr/include/c++/11.2.0/bits/shared_ptr_base.h:979: std::__shared_ptr_access<_Tp, _Lp, <anonymous>, <anonymous> >::element_type& std::__shared_ptr_access<_Tp, _Lp, <anonymous>, <anonymous> >::operator*() const [with _Tp = TFitResult; __gnu_cxx::_Lock_policy _Lp = __gnu_cxx::_S_atomic; bool <anonymous> = false; bool <anonymous> = false; std::__shared_ptr_access<_Tp, _Lp, <anonymous>, <anonymous> >::element_type = TFitResult]: Assertion '_M_get() != nullptr' failed.\n"
     ]
    },
    {
     "name": "stderr",
     "output_type": "stream",
     "text": [
      "Error in <TFitResultPtr>: TFitResult is empty - use the fit option S\n",
      " *** Break *** abort\n",
      " Generating stack trace...\n",
      " 0x00007fd333aa04b8 in raise at :? from /usr/lib/libc.so.6\n",
      " 0x00007fd333a8a534 in abort at :? from /usr/lib/libc.so.6\n",
      " 0x00007fd2c73260be in TFitResultPtr::operator*() const + 0x5e from /usr/lib/root/libHist.so\n",
      " 0x00007fd2cc67a024 in <unknown function>\n",
      " 0x00007fd2df0b7f47 in <unknown> from /usr/lib/root/libcppyy_backend3_10.so\n",
      " 0x00007fd2df0b9534 in Cppyy::CallR(long, void*, unsigned long, void*) + 0x34 from /usr/lib/root/libcppyy_backend3_10.so\n",
      " 0x00007fd2df17b9e4 in <unknown> from /usr/lib/python3.10/site-packages/libcppyy3_10.so\n",
      " 0x00007fd2df1612a6 in <unknown> from /usr/lib/python3.10/site-packages/libcppyy3_10.so\n",
      " 0x00007fd2df163dc0 in CPyCppyy::CPPMethod::ExecuteProtected(void*, long, CPyCppyy::CallContext*) + 0x120 from /usr/lib/python3.10/site-packages/libcppyy3_10.so\n",
      " 0x00007fd2df1624ef in CPyCppyy::CPPMethod::Execute(void*, long, CPyCppyy::CallContext*) + 0x2f from /usr/lib/python3.10/site-packages/libcppyy3_10.so\n",
      " 0x00007fd2df162841 in CPyCppyy::CPPMethod::Call(CPyCppyy::CPPInstance*&, _object*, _object*, CPyCppyy::CallContext*) + 0xb1 from /usr/lib/python3.10/site-packages/libcppyy3_10.so\n",
      " 0x00007fd2df1677e7 in <unknown> from /usr/lib/python3.10/site-packages/libcppyy3_10.so\n",
      " 0x00007fd333db27cb in _PyObject_MakeTpCall + 0x2ab from /usr/lib/libpython3.10.so.1.0\n",
      " 0x00007fd333db81eb in <unknown> from /usr/lib/libpython3.10.so.1.0\n",
      " 0x00007fd333e83a2b in PyObject_CallMethodObjArgs + 0xfb from /usr/lib/libpython3.10.so.1.0\n",
      " 0x00007fd2df1907e9 in <unknown> from /usr/lib/python3.10/site-packages/libcppyy3_10.so\n",
      " 0x00007fd333db7d27 in <unknown> from /usr/lib/libpython3.10.so.1.0\n",
      " 0x00007fd2df171a8a in <unknown> from /usr/lib/python3.10/site-packages/libcppyy3_10.so\n",
      " 0x00007fd333db27cb in _PyObject_MakeTpCall + 0x2ab from /usr/lib/libpython3.10.so.1.0\n",
      " 0x00007fd333e094cf in <unknown> from /usr/lib/libpython3.10.so.1.0\n",
      " 0x00007fd333e8185e in <unknown> from /usr/lib/libpython3.10.so.1.0\n",
      " 0x00007fd333e18e6c in <unknown> from /usr/lib/libpython3.10.so.1.0\n",
      " 0x00007fd333db8b81 in <unknown> from /usr/lib/libpython3.10.so.1.0\n",
      " 0x00007fd333db8940 in <unknown> from /usr/lib/libpython3.10.so.1.0\n",
      " 0x00007fd333da8769 in _PyEval_EvalFrameDefault + 0x349 from /usr/lib/libpython3.10.so.1.0\n",
      " 0x00007fd333db873c in _PyFunction_Vectorcall + 0x7c from /usr/lib/libpython3.10.so.1.0\n",
      " 0x00007fd333da8769 in _PyEval_EvalFrameDefault + 0x349 from /usr/lib/libpython3.10.so.1.0\n",
      " 0x00007fd333db873c in _PyFunction_Vectorcall + 0x7c from /usr/lib/libpython3.10.so.1.0\n",
      " 0x00007fd333dab225 in _PyEval_EvalFrameDefault + 0x2e05 from /usr/lib/libpython3.10.so.1.0\n",
      " 0x00007fd333db873c in _PyFunction_Vectorcall + 0x7c from /usr/lib/libpython3.10.so.1.0\n",
      " 0x00007fd333dab225 in _PyEval_EvalFrameDefault + 0x2e05 from /usr/lib/libpython3.10.so.1.0\n",
      " 0x00007fd333db1a68 in _PyObject_FastCallDictTstate + 0xd8 from /usr/lib/libpython3.10.so.1.0\n",
      " 0x00007fd333dc160d in _PyObject_Call_Prepend + 0x6d from /usr/lib/libpython3.10.so.1.0\n",
      " 0x00007fd333e996a2 in <unknown> from /usr/lib/libpython3.10.so.1.0\n",
      " 0x00007fd333db27cb in _PyObject_MakeTpCall + 0x2ab from /usr/lib/libpython3.10.so.1.0\n",
      " 0x00007fd333dade28 in _PyEval_EvalFrameDefault + 0x5a08 from /usr/lib/libpython3.10.so.1.0\n",
      " 0x00007fd333db873c in _PyFunction_Vectorcall + 0x7c from /usr/lib/libpython3.10.so.1.0\n",
      " 0x00007fd333da8a9b in _PyEval_EvalFrameDefault + 0x67b from /usr/lib/libpython3.10.so.1.0\n",
      " 0x00007fd333db873c in _PyFunction_Vectorcall + 0x7c from /usr/lib/libpython3.10.so.1.0\n",
      " 0x00007fd333da8a9b in _PyEval_EvalFrameDefault + 0x67b from /usr/lib/libpython3.10.so.1.0\n",
      " 0x00007fd333db1a68 in _PyObject_FastCallDictTstate + 0xd8 from /usr/lib/libpython3.10.so.1.0\n",
      " 0x00007fd333dc160d in _PyObject_Call_Prepend + 0x6d from /usr/lib/libpython3.10.so.1.0\n",
      " 0x00007fd333e996a2 in <unknown> from /usr/lib/libpython3.10.so.1.0\n",
      " 0x00007fd333db27cb in _PyObject_MakeTpCall + 0x2ab from /usr/lib/libpython3.10.so.1.0\n",
      " 0x00007fd333e66def in <unknown> from /usr/lib/libpython3.10.so.1.0\n",
      " 0x00007fd333dab97a in _PyEval_EvalFrameDefault + 0x355a from /usr/lib/libpython3.10.so.1.0\n",
      " 0x00007fd333da7392 in <unknown> from /usr/lib/libpython3.10.so.1.0\n",
      " 0x00007fd333e5fc14 in PyEval_EvalCode + 0x94 from /usr/lib/libpython3.10.so.1.0\n",
      " 0x00007fd333e67671 in <unknown> from /usr/lib/libpython3.10.so.1.0\n",
      " 0x00007fd333db8940 in <unknown> from /usr/lib/libpython3.10.so.1.0\n",
      " 0x00007fd333da8769 in _PyEval_EvalFrameDefault + 0x349 from /usr/lib/libpython3.10.so.1.0\n",
      " 0x00007fd333de3940 in <unknown> from /usr/lib/libpython3.10.so.1.0\n",
      " 0x00007fd333da9aae in _PyEval_EvalFrameDefault + 0x168e from /usr/lib/libpython3.10.so.1.0\n",
      " 0x00007fd333de3940 in <unknown> from /usr/lib/libpython3.10.so.1.0\n",
      " 0x00007fd333da9aae in _PyEval_EvalFrameDefault + 0x168e from /usr/lib/libpython3.10.so.1.0\n",
      " 0x00007fd333de3940 in <unknown> from /usr/lib/libpython3.10.so.1.0\n",
      " 0x00007fd333e7ea1a in <unknown> from /usr/lib/libpython3.10.so.1.0\n",
      " 0x00007fd333dc202b in <unknown> from /usr/lib/libpython3.10.so.1.0\n",
      " 0x00007fd333da8a9b in _PyEval_EvalFrameDefault + 0x67b from /usr/lib/libpython3.10.so.1.0\n",
      " 0x00007fd333db873c in _PyFunction_Vectorcall + 0x7c from /usr/lib/libpython3.10.so.1.0\n",
      " 0x00007fd333da8769 in _PyEval_EvalFrameDefault + 0x349 from /usr/lib/libpython3.10.so.1.0\n",
      " 0x00007fd333db873c in _PyFunction_Vectorcall + 0x7c from /usr/lib/libpython3.10.so.1.0\n",
      " 0x00007fd333da8a9b in _PyEval_EvalFrameDefault + 0x67b from /usr/lib/libpython3.10.so.1.0\n",
      " 0x00007fd333dc3fc4 in <unknown> from /usr/lib/libpython3.10.so.1.0\n",
      " 0x00007fd333dc4a66 in PyObject_Call + 0x156 from /usr/lib/libpython3.10.so.1.0\n",
      " 0x00007fd333dab225 in _PyEval_EvalFrameDefault + 0x2e05 from /usr/lib/libpython3.10.so.1.0\n",
      " 0x00007fd333dc3fc4 in <unknown> from /usr/lib/libpython3.10.so.1.0\n",
      " 0x00007fd333da97d9 in _PyEval_EvalFrameDefault + 0x13b9 from /usr/lib/libpython3.10.so.1.0\n",
      " 0x00007fd333de3940 in <unknown> from /usr/lib/libpython3.10.so.1.0\n",
      " 0x00007fd333da9aae in _PyEval_EvalFrameDefault + 0x168e from /usr/lib/libpython3.10.so.1.0\n",
      " 0x00007fd333de3940 in <unknown> from /usr/lib/libpython3.10.so.1.0\n",
      " 0x00007fd333da9aae in _PyEval_EvalFrameDefault + 0x168e from /usr/lib/libpython3.10.so.1.0\n",
      " 0x00007fd333de3940 in <unknown> from /usr/lib/libpython3.10.so.1.0\n",
      " 0x00007fd333da9aae in _PyEval_EvalFrameDefault + 0x168e from /usr/lib/libpython3.10.so.1.0\n",
      " 0x00007fd333de3940 in <unknown> from /usr/lib/libpython3.10.so.1.0\n",
      " 0x00007fd333da9aae in _PyEval_EvalFrameDefault + 0x168e from /usr/lib/libpython3.10.so.1.0\n",
      " 0x00007fd333de3940 in <unknown> from /usr/lib/libpython3.10.so.1.0\n",
      " 0x00007fd332cbbad2 in <unknown> from /usr/lib/python3.10/lib-dynload/_asyncio.cpython-310-x86_64-linux-gnu.so\n",
      " 0x00007fd333db7d27 in <unknown> from /usr/lib/libpython3.10.so.1.0\n",
      " 0x00007fd333e62d31 in <unknown> from /usr/lib/libpython3.10.so.1.0\n",
      " 0x00007fd333d680cd in <unknown> from /usr/lib/libpython3.10.so.1.0\n",
      " 0x00007fd333db092f in <unknown> from /usr/lib/libpython3.10.so.1.0\n",
      " 0x00007fd333dae59b in _PyEval_EvalFrameDefault + 0x617b from /usr/lib/libpython3.10.so.1.0\n",
      " 0x00007fd333db873c in _PyFunction_Vectorcall + 0x7c from /usr/lib/libpython3.10.so.1.0\n",
      " 0x00007fd333da8a9b in _PyEval_EvalFrameDefault + 0x67b from /usr/lib/libpython3.10.so.1.0\n",
      " 0x00007fd333db873c in _PyFunction_Vectorcall + 0x7c from /usr/lib/libpython3.10.so.1.0\n",
      " 0x00007fd333da8a9b in _PyEval_EvalFrameDefault + 0x67b from /usr/lib/libpython3.10.so.1.0\n",
      " 0x00007fd333db873c in _PyFunction_Vectorcall + 0x7c from /usr/lib/libpython3.10.so.1.0\n",
      " 0x00007fd333da8a9b in _PyEval_EvalFrameDefault + 0x67b from /usr/lib/libpython3.10.so.1.0\n",
      " 0x00007fd333db873c in _PyFunction_Vectorcall + 0x7c from /usr/lib/libpython3.10.so.1.0\n",
      " 0x00007fd333da8a9b in _PyEval_EvalFrameDefault + 0x67b from /usr/lib/libpython3.10.so.1.0\n",
      " 0x00007fd333db873c in _PyFunction_Vectorcall + 0x7c from /usr/lib/libpython3.10.so.1.0\n",
      " 0x00007fd333da8a9b in _PyEval_EvalFrameDefault + 0x67b from /usr/lib/libpython3.10.so.1.0\n",
      " 0x00007fd333dc3fc4 in <unknown> from /usr/lib/libpython3.10.so.1.0\n",
      " 0x00007fd333dad4f1 in _PyEval_EvalFrameDefault + 0x50d1 from /usr/lib/libpython3.10.so.1.0\n",
      " 0x00007fd333da7392 in <unknown> from /usr/lib/libpython3.10.so.1.0\n",
      " 0x00007fd333e5fc14 in PyEval_EvalCode + 0x94 from /usr/lib/libpython3.10.so.1.0\n",
      " 0x00007fd333e67671 in <unknown> from /usr/lib/libpython3.10.so.1.0\n",
      " 0x00007fd333db8940 in <unknown> from /usr/lib/libpython3.10.so.1.0\n",
      " 0x00007fd333da8769 in _PyEval_EvalFrameDefault + 0x349 from /usr/lib/libpython3.10.so.1.0\n",
      " 0x00007fd333db873c in _PyFunction_Vectorcall + 0x7c from /usr/lib/libpython3.10.so.1.0\n",
      " 0x00007fd333da8769 in _PyEval_EvalFrameDefault + 0x349 from /usr/lib/libpython3.10.so.1.0\n",
      " 0x00007fd333db873c in _PyFunction_Vectorcall + 0x7c from /usr/lib/libpython3.10.so.1.0\n",
      " 0x00007fd333e84d68 in <unknown> from /usr/lib/libpython3.10.so.1.0\n",
      " 0x00007fd333e7d120 in Py_RunMain + 0x200 from /usr/lib/libpython3.10.so.1.0\n",
      " 0x00007fd333e5069d in Py_BytesMain + 0x3d from /usr/lib/libpython3.10.so.1.0\n",
      " 0x00007fd333a8b310 in <unknown> from /usr/lib/libc.so.6\n",
      " 0x00007fd333a8b3c1 in __libc_start_main at :? from /usr/lib/libc.so.6\n",
      " 0x000056020cc3e04e in _start + 0x2e from /usr/bin/python\n",
      "Error in <TFitResultPtr>: TFitResult is empty - use the fit option S\n",
      " *** Break *** abort\n",
      " Generating stack trace...\n",
      " 0x00007fd333aa04b8 in raise at :? from /usr/lib/libc.so.6\n",
      " 0x00007fd333a8a534 in abort at :? from /usr/lib/libc.so.6\n",
      " 0x00007fd2c73260be in TFitResultPtr::operator*() const + 0x5e from /usr/lib/root/libHist.so\n",
      " 0x00007fd2cc67a024 in <unknown function>\n",
      " 0x00007fd2df0b7f47 in <unknown> from /usr/lib/root/libcppyy_backend3_10.so\n",
      " 0x00007fd2df0b9534 in Cppyy::CallR(long, void*, unsigned long, void*) + 0x34 from /usr/lib/root/libcppyy_backend3_10.so\n",
      " 0x00007fd2df17b9e4 in <unknown> from /usr/lib/python3.10/site-packages/libcppyy3_10.so\n",
      " 0x00007fd2df1612a6 in <unknown> from /usr/lib/python3.10/site-packages/libcppyy3_10.so\n",
      " 0x00007fd2df163dc0 in CPyCppyy::CPPMethod::ExecuteProtected(void*, long, CPyCppyy::CallContext*) + 0x120 from /usr/lib/python3.10/site-packages/libcppyy3_10.so\n",
      " 0x00007fd2df1624ef in CPyCppyy::CPPMethod::Execute(void*, long, CPyCppyy::CallContext*) + 0x2f from /usr/lib/python3.10/site-packages/libcppyy3_10.so\n",
      " 0x00007fd2df162841 in CPyCppyy::CPPMethod::Call(CPyCppyy::CPPInstance*&, _object*, _object*, CPyCppyy::CallContext*) + 0xb1 from /usr/lib/python3.10/site-packages/libcppyy3_10.so\n",
      " 0x00007fd2df1677e7 in <unknown> from /usr/lib/python3.10/site-packages/libcppyy3_10.so\n",
      " 0x00007fd333db27cb in _PyObject_MakeTpCall + 0x2ab from /usr/lib/libpython3.10.so.1.0\n",
      " 0x00007fd333db81eb in <unknown> from /usr/lib/libpython3.10.so.1.0\n",
      " 0x00007fd333e83a2b in PyObject_CallMethodObjArgs + 0xfb from /usr/lib/libpython3.10.so.1.0\n",
      " 0x00007fd2df1907e9 in <unknown> from /usr/lib/python3.10/site-packages/libcppyy3_10.so\n",
      " 0x00007fd333db7d27 in <unknown> from /usr/lib/libpython3.10.so.1.0\n",
      " 0x00007fd2df171a8a in <unknown> from /usr/lib/python3.10/site-packages/libcppyy3_10.so\n",
      " 0x00007fd333db27cb in _PyObject_MakeTpCall + 0x2ab from /usr/lib/libpython3.10.so.1.0\n",
      " 0x00007fd333e094cf in <unknown> from /usr/lib/libpython3.10.so.1.0\n",
      " 0x00007fd333e8185e in <unknown> from /usr/lib/libpython3.10.so.1.0\n",
      " 0x00007fd333e18e6c in <unknown> from /usr/lib/libpython3.10.so.1.0\n",
      " 0x00007fd333db8b81 in <unknown> from /usr/lib/libpython3.10.so.1.0\n",
      " 0x00007fd333db8940 in <unknown> from /usr/lib/libpython3.10.so.1.0\n",
      " 0x00007fd333da8769 in _PyEval_EvalFrameDefault + 0x349 from /usr/lib/libpython3.10.so.1.0\n",
      " 0x00007fd333db873c in _PyFunction_Vectorcall + 0x7c from /usr/lib/libpython3.10.so.1.0\n",
      " 0x00007fd333da8769 in _PyEval_EvalFrameDefault + 0x349 from /usr/lib/libpython3.10.so.1.0\n",
      " 0x00007fd333db873c in _PyFunction_Vectorcall + 0x7c from /usr/lib/libpython3.10.so.1.0\n",
      " 0x00007fd333dab225 in _PyEval_EvalFrameDefault + 0x2e05 from /usr/lib/libpython3.10.so.1.0\n",
      " 0x00007fd333db873c in _PyFunction_Vectorcall + 0x7c from /usr/lib/libpython3.10.so.1.0\n",
      " 0x00007fd333dab225 in _PyEval_EvalFrameDefault + 0x2e05 from /usr/lib/libpython3.10.so.1.0\n",
      " 0x00007fd333db873c in _PyFunction_Vectorcall + 0x7c from /usr/lib/libpython3.10.so.1.0\n",
      " 0x00007fd333db1b1d in _PyObject_FastCallDictTstate + 0x18d from /usr/lib/libpython3.10.so.1.0\n",
      " 0x00007fd333dc160d in _PyObject_Call_Prepend + 0x6d from /usr/lib/libpython3.10.so.1.0\n",
      " 0x00007fd333e996a2 in <unknown> from /usr/lib/libpython3.10.so.1.0\n",
      " 0x00007fd333db27cb in _PyObject_MakeTpCall + 0x2ab from /usr/lib/libpython3.10.so.1.0\n",
      " 0x00007fd333dae3b4 in _PyEval_EvalFrameDefault + 0x5f94 from /usr/lib/libpython3.10.so.1.0\n",
      " 0x00007fd333db873c in _PyFunction_Vectorcall + 0x7c from /usr/lib/libpython3.10.so.1.0\n",
      " 0x00007fd333da8a9b in _PyEval_EvalFrameDefault + 0x67b from /usr/lib/libpython3.10.so.1.0\n",
      " 0x00007fd333db873c in _PyFunction_Vectorcall + 0x7c from /usr/lib/libpython3.10.so.1.0\n",
      " 0x00007fd333da8a9b in _PyEval_EvalFrameDefault + 0x67b from /usr/lib/libpython3.10.so.1.0\n",
      " 0x00007fd333db1a68 in _PyObject_FastCallDictTstate + 0xd8 from /usr/lib/libpython3.10.so.1.0\n",
      " 0x00007fd333dc160d in _PyObject_Call_Prepend + 0x6d from /usr/lib/libpython3.10.so.1.0\n",
      " 0x00007fd333e996a2 in <unknown> from /usr/lib/libpython3.10.so.1.0\n",
      " 0x00007fd333db27cb in _PyObject_MakeTpCall + 0x2ab from /usr/lib/libpython3.10.so.1.0\n",
      " 0x00007fd333e66def in <unknown> from /usr/lib/libpython3.10.so.1.0\n",
      " 0x00007fd333dab97a in _PyEval_EvalFrameDefault + 0x355a from /usr/lib/libpython3.10.so.1.0\n",
      " 0x00007fd333da7392 in <unknown> from /usr/lib/libpython3.10.so.1.0\n",
      " 0x00007fd333e5fc14 in PyEval_EvalCode + 0x94 from /usr/lib/libpython3.10.so.1.0\n",
      " 0x00007fd333e67671 in <unknown> from /usr/lib/libpython3.10.so.1.0\n",
      " 0x00007fd333db8940 in <unknown> from /usr/lib/libpython3.10.so.1.0\n",
      " 0x00007fd333da8769 in _PyEval_EvalFrameDefault + 0x349 from /usr/lib/libpython3.10.so.1.0\n",
      " 0x00007fd333de3940 in <unknown> from /usr/lib/libpython3.10.so.1.0\n",
      " 0x00007fd333da9aae in _PyEval_EvalFrameDefault + 0x168e from /usr/lib/libpython3.10.so.1.0\n",
      " 0x00007fd333de3940 in <unknown> from /usr/lib/libpython3.10.so.1.0\n",
      " 0x00007fd333da9aae in _PyEval_EvalFrameDefault + 0x168e from /usr/lib/libpython3.10.so.1.0\n",
      " 0x00007fd333de3940 in <unknown> from /usr/lib/libpython3.10.so.1.0\n",
      " 0x00007fd333e7ea1a in <unknown> from /usr/lib/libpython3.10.so.1.0\n",
      " 0x00007fd333dc202b in <unknown> from /usr/lib/libpython3.10.so.1.0\n",
      " 0x00007fd333da8a9b in _PyEval_EvalFrameDefault + 0x67b from /usr/lib/libpython3.10.so.1.0\n",
      " 0x00007fd333db873c in _PyFunction_Vectorcall + 0x7c from /usr/lib/libpython3.10.so.1.0\n",
      " 0x00007fd333da8769 in _PyEval_EvalFrameDefault + 0x349 from /usr/lib/libpython3.10.so.1.0\n",
      " 0x00007fd333db873c in _PyFunction_Vectorcall + 0x7c from /usr/lib/libpython3.10.so.1.0\n",
      " 0x00007fd333da8a9b in _PyEval_EvalFrameDefault + 0x67b from /usr/lib/libpython3.10.so.1.0\n",
      " 0x00007fd333dc3fc4 in <unknown> from /usr/lib/libpython3.10.so.1.0\n",
      " 0x00007fd333dc4a66 in PyObject_Call + 0x156 from /usr/lib/libpython3.10.so.1.0\n",
      " 0x00007fd333dab225 in _PyEval_EvalFrameDefault + 0x2e05 from /usr/lib/libpython3.10.so.1.0\n",
      " 0x00007fd333dc3fc4 in <unknown> from /usr/lib/libpython3.10.so.1.0\n",
      " 0x00007fd333da97d9 in _PyEval_EvalFrameDefault + 0x13b9 from /usr/lib/libpython3.10.so.1.0\n",
      " 0x00007fd333de3940 in <unknown> from /usr/lib/libpython3.10.so.1.0\n",
      " 0x00007fd333da9aae in _PyEval_EvalFrameDefault + 0x168e from /usr/lib/libpython3.10.so.1.0\n",
      " 0x00007fd333de3940 in <unknown> from /usr/lib/libpython3.10.so.1.0\n",
      " 0x00007fd333da9aae in _PyEval_EvalFrameDefault + 0x168e from /usr/lib/libpython3.10.so.1.0\n",
      " 0x00007fd333de3940 in <unknown> from /usr/lib/libpython3.10.so.1.0\n",
      " 0x00007fd333da9aae in _PyEval_EvalFrameDefault + 0x168e from /usr/lib/libpython3.10.so.1.0\n",
      " 0x00007fd333de3940 in <unknown> from /usr/lib/libpython3.10.so.1.0\n",
      " 0x00007fd333da9aae in _PyEval_EvalFrameDefault + 0x168e from /usr/lib/libpython3.10.so.1.0\n",
      " 0x00007fd333de3940 in <unknown> from /usr/lib/libpython3.10.so.1.0\n",
      " 0x00007fd332cbbad2 in <unknown> from /usr/lib/python3.10/lib-dynload/_asyncio.cpython-310-x86_64-linux-gnu.so\n",
      " 0x00007fd333db7d27 in <unknown> from /usr/lib/libpython3.10.so.1.0\n",
      " 0x00007fd333e62d31 in <unknown> from /usr/lib/libpython3.10.so.1.0\n",
      " 0x00007fd333d680cd in <unknown> from /usr/lib/libpython3.10.so.1.0\n",
      " 0x00007fd333db092f in <unknown> from /usr/lib/libpython3.10.so.1.0\n",
      " 0x00007fd333dae59b in _PyEval_EvalFrameDefault + 0x617b from /usr/lib/libpython3.10.so.1.0\n",
      " 0x00007fd333db873c in _PyFunction_Vectorcall + 0x7c from /usr/lib/libpython3.10.so.1.0\n",
      " 0x00007fd333da8a9b in _PyEval_EvalFrameDefault + 0x67b from /usr/lib/libpython3.10.so.1.0\n",
      " 0x00007fd333db873c in _PyFunction_Vectorcall + 0x7c from /usr/lib/libpython3.10.so.1.0\n",
      " 0x00007fd333da8a9b in _PyEval_EvalFrameDefault + 0x67b from /usr/lib/libpython3.10.so.1.0\n",
      " 0x00007fd333db873c in _PyFunction_Vectorcall + 0x7c from /usr/lib/libpython3.10.so.1.0\n",
      " 0x00007fd333da8a9b in _PyEval_EvalFrameDefault + 0x67b from /usr/lib/libpython3.10.so.1.0\n",
      " 0x00007fd333db873c in _PyFunction_Vectorcall + 0x7c from /usr/lib/libpython3.10.so.1.0\n",
      " 0x00007fd333da8a9b in _PyEval_EvalFrameDefault + 0x67b from /usr/lib/libpython3.10.so.1.0\n",
      " 0x00007fd333db873c in _PyFunction_Vectorcall + 0x7c from /usr/lib/libpython3.10.so.1.0\n",
      " 0x00007fd333da8a9b in _PyEval_EvalFrameDefault + 0x67b from /usr/lib/libpython3.10.so.1.0\n",
      " 0x00007fd333dc3fc4 in <unknown> from /usr/lib/libpython3.10.so.1.0\n",
      " 0x00007fd333dad4f1 in _PyEval_EvalFrameDefault + 0x50d1 from /usr/lib/libpython3.10.so.1.0\n",
      " 0x00007fd333da7392 in <unknown> from /usr/lib/libpython3.10.so.1.0\n",
      " 0x00007fd333e5fc14 in PyEval_EvalCode + 0x94 from /usr/lib/libpython3.10.so.1.0\n",
      " 0x00007fd333e67671 in <unknown> from /usr/lib/libpython3.10.so.1.0\n",
      " 0x00007fd333db8940 in <unknown> from /usr/lib/libpython3.10.so.1.0\n",
      " 0x00007fd333da8769 in _PyEval_EvalFrameDefault + 0x349 from /usr/lib/libpython3.10.so.1.0\n",
      " 0x00007fd333db873c in _PyFunction_Vectorcall + 0x7c from /usr/lib/libpython3.10.so.1.0\n",
      " 0x00007fd333da8769 in _PyEval_EvalFrameDefault + 0x349 from /usr/lib/libpython3.10.so.1.0\n",
      " 0x00007fd333db873c in _PyFunction_Vectorcall + 0x7c from /usr/lib/libpython3.10.so.1.0\n",
      " 0x00007fd333e84d68 in <unknown> from /usr/lib/libpython3.10.so.1.0\n",
      " 0x00007fd333e7d120 in Py_RunMain + 0x200 from /usr/lib/libpython3.10.so.1.0\n",
      " 0x00007fd333e5069d in Py_BytesMain + 0x3d from /usr/lib/libpython3.10.so.1.0\n",
      " 0x00007fd333a8b310 in <unknown> from /usr/lib/libc.so.6\n",
      " 0x00007fd333a8b3c1 in __libc_start_main at :? from /usr/lib/libc.so.6\n",
      " 0x000056020cc3e04e in _start + 0x2e from /usr/bin/python\n",
      "Error in <TFitResultPtr>: TFitResult is empty - use the fit option S\n",
      " *** Break *** abort\n",
      " Generating stack trace...\n",
      " 0x00007fd333aa04b8 in raise at :? from /usr/lib/libc.so.6\n",
      " 0x00007fd333a8a534 in abort at :? from /usr/lib/libc.so.6\n",
      " 0x00007fd2c73260be in TFitResultPtr::operator*() const + 0x5e from /usr/lib/root/libHist.so\n",
      " 0x00007fd2cc67a024 in <unknown function>\n",
      " 0x00007fd2df0b7f47 in <unknown> from /usr/lib/root/libcppyy_backend3_10.so\n",
      " 0x00007fd2df0b9534 in Cppyy::CallR(long, void*, unsigned long, void*) + 0x34 from /usr/lib/root/libcppyy_backend3_10.so\n",
      " 0x00007fd2df17b9e4 in <unknown> from /usr/lib/python3.10/site-packages/libcppyy3_10.so\n",
      " 0x00007fd2df1612a6 in <unknown> from /usr/lib/python3.10/site-packages/libcppyy3_10.so\n",
      " 0x00007fd2df163dc0 in CPyCppyy::CPPMethod::ExecuteProtected(void*, long, CPyCppyy::CallContext*) + 0x120 from /usr/lib/python3.10/site-packages/libcppyy3_10.so\n",
      " 0x00007fd2df1624ef in CPyCppyy::CPPMethod::Execute(void*, long, CPyCppyy::CallContext*) + 0x2f from /usr/lib/python3.10/site-packages/libcppyy3_10.so\n",
      " 0x00007fd2df162841 in CPyCppyy::CPPMethod::Call(CPyCppyy::CPPInstance*&, _object*, _object*, CPyCppyy::CallContext*) + 0xb1 from /usr/lib/python3.10/site-packages/libcppyy3_10.so\n",
      " 0x00007fd2df1677e7 in <unknown> from /usr/lib/python3.10/site-packages/libcppyy3_10.so\n",
      " 0x00007fd333db27cb in _PyObject_MakeTpCall + 0x2ab from /usr/lib/libpython3.10.so.1.0\n",
      " 0x00007fd333db81eb in <unknown> from /usr/lib/libpython3.10.so.1.0\n",
      " 0x00007fd333e83a2b in PyObject_CallMethodObjArgs + 0xfb from /usr/lib/libpython3.10.so.1.0\n",
      " 0x00007fd2df1907e9 in <unknown> from /usr/lib/python3.10/site-packages/libcppyy3_10.so\n",
      " 0x00007fd333db7d27 in <unknown> from /usr/lib/libpython3.10.so.1.0\n",
      " 0x00007fd2df171a8a in <unknown> from /usr/lib/python3.10/site-packages/libcppyy3_10.so\n",
      " 0x00007fd333db27cb in _PyObject_MakeTpCall + 0x2ab from /usr/lib/libpython3.10.so.1.0\n",
      " 0x00007fd333e094cf in <unknown> from /usr/lib/libpython3.10.so.1.0\n",
      " 0x00007fd333e8185e in <unknown> from /usr/lib/libpython3.10.so.1.0\n",
      " 0x00007fd333e18e6c in <unknown> from /usr/lib/libpython3.10.so.1.0\n",
      " 0x00007fd333db8b81 in <unknown> from /usr/lib/libpython3.10.so.1.0\n",
      " 0x00007fd333db8940 in <unknown> from /usr/lib/libpython3.10.so.1.0\n",
      " 0x00007fd333da8769 in _PyEval_EvalFrameDefault + 0x349 from /usr/lib/libpython3.10.so.1.0\n",
      " 0x00007fd333db873c in _PyFunction_Vectorcall + 0x7c from /usr/lib/libpython3.10.so.1.0\n",
      " 0x00007fd333da8769 in _PyEval_EvalFrameDefault + 0x349 from /usr/lib/libpython3.10.so.1.0\n",
      " 0x00007fd333db873c in _PyFunction_Vectorcall + 0x7c from /usr/lib/libpython3.10.so.1.0\n",
      " 0x00007fd333dab225 in _PyEval_EvalFrameDefault + 0x2e05 from /usr/lib/libpython3.10.so.1.0\n",
      " 0x00007fd333db873c in _PyFunction_Vectorcall + 0x7c from /usr/lib/libpython3.10.so.1.0\n",
      " 0x00007fd333dab225 in _PyEval_EvalFrameDefault + 0x2e05 from /usr/lib/libpython3.10.so.1.0\n",
      " 0x00007fd333db1a68 in _PyObject_FastCallDictTstate + 0xd8 from /usr/lib/libpython3.10.so.1.0\n",
      " 0x00007fd333dc160d in _PyObject_Call_Prepend + 0x6d from /usr/lib/libpython3.10.so.1.0\n",
      " 0x00007fd333e996a2 in <unknown> from /usr/lib/libpython3.10.so.1.0\n",
      " 0x00007fd333db27cb in _PyObject_MakeTpCall + 0x2ab from /usr/lib/libpython3.10.so.1.0\n",
      " 0x00007fd333dad7bc in _PyEval_EvalFrameDefault + 0x539c from /usr/lib/libpython3.10.so.1.0\n",
      " 0x00007fd333db873c in _PyFunction_Vectorcall + 0x7c from /usr/lib/libpython3.10.so.1.0\n",
      " 0x00007fd333da8a9b in _PyEval_EvalFrameDefault + 0x67b from /usr/lib/libpython3.10.so.1.0\n",
      " 0x00007fd333db873c in _PyFunction_Vectorcall + 0x7c from /usr/lib/libpython3.10.so.1.0\n",
      " 0x00007fd333da8a9b in _PyEval_EvalFrameDefault + 0x67b from /usr/lib/libpython3.10.so.1.0\n",
      " 0x00007fd333db1a68 in _PyObject_FastCallDictTstate + 0xd8 from /usr/lib/libpython3.10.so.1.0\n",
      " 0x00007fd333dc160d in _PyObject_Call_Prepend + 0x6d from /usr/lib/libpython3.10.so.1.0\n",
      " 0x00007fd333e996a2 in <unknown> from /usr/lib/libpython3.10.so.1.0\n",
      " 0x00007fd333db27cb in _PyObject_MakeTpCall + 0x2ab from /usr/lib/libpython3.10.so.1.0\n",
      " 0x00007fd333e66def in <unknown> from /usr/lib/libpython3.10.so.1.0\n",
      " 0x00007fd333dab97a in _PyEval_EvalFrameDefault + 0x355a from /usr/lib/libpython3.10.so.1.0\n",
      " 0x00007fd333da7392 in <unknown> from /usr/lib/libpython3.10.so.1.0\n",
      " 0x00007fd333e5fc14 in PyEval_EvalCode + 0x94 from /usr/lib/libpython3.10.so.1.0\n",
      " 0x00007fd333e67671 in <unknown> from /usr/lib/libpython3.10.so.1.0\n",
      " 0x00007fd333db8940 in <unknown> from /usr/lib/libpython3.10.so.1.0\n",
      " 0x00007fd333da8769 in _PyEval_EvalFrameDefault + 0x349 from /usr/lib/libpython3.10.so.1.0\n",
      " 0x00007fd333de3940 in <unknown> from /usr/lib/libpython3.10.so.1.0\n",
      " 0x00007fd333da9aae in _PyEval_EvalFrameDefault + 0x168e from /usr/lib/libpython3.10.so.1.0\n",
      " 0x00007fd333de3940 in <unknown> from /usr/lib/libpython3.10.so.1.0\n",
      " 0x00007fd333da9aae in _PyEval_EvalFrameDefault + 0x168e from /usr/lib/libpython3.10.so.1.0\n",
      " 0x00007fd333de3940 in <unknown> from /usr/lib/libpython3.10.so.1.0\n",
      " 0x00007fd333e7ea1a in <unknown> from /usr/lib/libpython3.10.so.1.0\n",
      " 0x00007fd333dc202b in <unknown> from /usr/lib/libpython3.10.so.1.0\n",
      " 0x00007fd333da8a9b in _PyEval_EvalFrameDefault + 0x67b from /usr/lib/libpython3.10.so.1.0\n",
      " 0x00007fd333db873c in _PyFunction_Vectorcall + 0x7c from /usr/lib/libpython3.10.so.1.0\n",
      " 0x00007fd333da8769 in _PyEval_EvalFrameDefault + 0x349 from /usr/lib/libpython3.10.so.1.0\n",
      " 0x00007fd333db873c in _PyFunction_Vectorcall + 0x7c from /usr/lib/libpython3.10.so.1.0\n",
      " 0x00007fd333da8a9b in _PyEval_EvalFrameDefault + 0x67b from /usr/lib/libpython3.10.so.1.0\n",
      " 0x00007fd333dc3fc4 in <unknown> from /usr/lib/libpython3.10.so.1.0\n",
      " 0x00007fd333dc4a66 in PyObject_Call + 0x156 from /usr/lib/libpython3.10.so.1.0\n",
      " 0x00007fd333dab225 in _PyEval_EvalFrameDefault + 0x2e05 from /usr/lib/libpython3.10.so.1.0\n",
      " 0x00007fd333dc3fc4 in <unknown> from /usr/lib/libpython3.10.so.1.0\n",
      " 0x00007fd333da97d9 in _PyEval_EvalFrameDefault + 0x13b9 from /usr/lib/libpython3.10.so.1.0\n",
      " 0x00007fd333de3940 in <unknown> from /usr/lib/libpython3.10.so.1.0\n",
      " 0x00007fd333da9aae in _PyEval_EvalFrameDefault + 0x168e from /usr/lib/libpython3.10.so.1.0\n",
      " 0x00007fd333de3940 in <unknown> from /usr/lib/libpython3.10.so.1.0\n",
      " 0x00007fd333da9aae in _PyEval_EvalFrameDefault + 0x168e from /usr/lib/libpython3.10.so.1.0\n",
      " 0x00007fd333de3940 in <unknown> from /usr/lib/libpython3.10.so.1.0\n",
      " 0x00007fd333da9aae in _PyEval_EvalFrameDefault + 0x168e from /usr/lib/libpython3.10.so.1.0\n",
      " 0x00007fd333de3940 in <unknown> from /usr/lib/libpython3.10.so.1.0\n",
      " 0x00007fd333da9aae in _PyEval_EvalFrameDefault + 0x168e from /usr/lib/libpython3.10.so.1.0\n",
      " 0x00007fd333de3940 in <unknown> from /usr/lib/libpython3.10.so.1.0\n",
      " 0x00007fd332cbbad2 in <unknown> from /usr/lib/python3.10/lib-dynload/_asyncio.cpython-310-x86_64-linux-gnu.so\n",
      " 0x00007fd333db7d27 in <unknown> from /usr/lib/libpython3.10.so.1.0\n",
      " 0x00007fd333e62d31 in <unknown> from /usr/lib/libpython3.10.so.1.0\n",
      " 0x00007fd333d680cd in <unknown> from /usr/lib/libpython3.10.so.1.0\n",
      " 0x00007fd333db092f in <unknown> from /usr/lib/libpython3.10.so.1.0\n",
      " 0x00007fd333dae59b in _PyEval_EvalFrameDefault + 0x617b from /usr/lib/libpython3.10.so.1.0\n",
      " 0x00007fd333db873c in _PyFunction_Vectorcall + 0x7c from /usr/lib/libpython3.10.so.1.0\n",
      " 0x00007fd333da8a9b in _PyEval_EvalFrameDefault + 0x67b from /usr/lib/libpython3.10.so.1.0\n",
      " 0x00007fd333db873c in _PyFunction_Vectorcall + 0x7c from /usr/lib/libpython3.10.so.1.0\n",
      " 0x00007fd333da8a9b in _PyEval_EvalFrameDefault + 0x67b from /usr/lib/libpython3.10.so.1.0\n",
      " 0x00007fd333db873c in _PyFunction_Vectorcall + 0x7c from /usr/lib/libpython3.10.so.1.0\n",
      " 0x00007fd333da8a9b in _PyEval_EvalFrameDefault + 0x67b from /usr/lib/libpython3.10.so.1.0\n",
      " 0x00007fd333db873c in _PyFunction_Vectorcall + 0x7c from /usr/lib/libpython3.10.so.1.0\n",
      " 0x00007fd333da8a9b in _PyEval_EvalFrameDefault + 0x67b from /usr/lib/libpython3.10.so.1.0\n",
      " 0x00007fd333db873c in _PyFunction_Vectorcall + 0x7c from /usr/lib/libpython3.10.so.1.0\n",
      " 0x00007fd333da8a9b in _PyEval_EvalFrameDefault + 0x67b from /usr/lib/libpython3.10.so.1.0\n",
      " 0x00007fd333dc3fc4 in <unknown> from /usr/lib/libpython3.10.so.1.0\n",
      " 0x00007fd333dad4f1 in _PyEval_EvalFrameDefault + 0x50d1 from /usr/lib/libpython3.10.so.1.0\n",
      " 0x00007fd333da7392 in <unknown> from /usr/lib/libpython3.10.so.1.0\n",
      " 0x00007fd333e5fc14 in PyEval_EvalCode + 0x94 from /usr/lib/libpython3.10.so.1.0\n",
      " 0x00007fd333e67671 in <unknown> from /usr/lib/libpython3.10.so.1.0\n",
      " 0x00007fd333db8940 in <unknown> from /usr/lib/libpython3.10.so.1.0\n",
      " 0x00007fd333da8769 in _PyEval_EvalFrameDefault + 0x349 from /usr/lib/libpython3.10.so.1.0\n",
      " 0x00007fd333db873c in _PyFunction_Vectorcall + 0x7c from /usr/lib/libpython3.10.so.1.0\n",
      " 0x00007fd333da8769 in _PyEval_EvalFrameDefault + 0x349 from /usr/lib/libpython3.10.so.1.0\n",
      " 0x00007fd333db873c in _PyFunction_Vectorcall + 0x7c from /usr/lib/libpython3.10.so.1.0\n",
      " 0x00007fd333e84d68 in <unknown> from /usr/lib/libpython3.10.so.1.0\n",
      " 0x00007fd333e7d120 in Py_RunMain + 0x200 from /usr/lib/libpython3.10.so.1.0\n",
      " 0x00007fd333e5069d in Py_BytesMain + 0x3d from /usr/lib/libpython3.10.so.1.0\n",
      " 0x00007fd333a8b310 in <unknown> from /usr/lib/libc.so.6\n",
      " 0x00007fd333a8b3c1 in __libc_start_main at :? from /usr/lib/libc.so.6\n",
      " 0x000056020cc3e04e in _start + 0x2e from /usr/bin/python\n",
      "Error in <TFitResultPtr>: TFitResult is empty - use the fit option S\n",
      " *** Break *** abort\n",
      " Generating stack trace...\n",
      " 0x00007fd333aa04b8 in raise at :? from /usr/lib/libc.so.6\n",
      " 0x00007fd333a8a534 in abort at :? from /usr/lib/libc.so.6\n",
      " 0x00007fd2c73260be in TFitResultPtr::operator*() const + 0x5e from /usr/lib/root/libHist.so\n",
      " 0x00007fd2cc67a024 in <unknown function>\n",
      " 0x00007fd2df0b7f47 in <unknown> from /usr/lib/root/libcppyy_backend3_10.so\n",
      " 0x00007fd2df0b9534 in Cppyy::CallR(long, void*, unsigned long, void*) + 0x34 from /usr/lib/root/libcppyy_backend3_10.so\n",
      " 0x00007fd2df17b9e4 in <unknown> from /usr/lib/python3.10/site-packages/libcppyy3_10.so\n",
      " 0x00007fd2df1612a6 in <unknown> from /usr/lib/python3.10/site-packages/libcppyy3_10.so\n",
      " 0x00007fd2df163dc0 in CPyCppyy::CPPMethod::ExecuteProtected(void*, long, CPyCppyy::CallContext*) + 0x120 from /usr/lib/python3.10/site-packages/libcppyy3_10.so\n",
      " 0x00007fd2df1624ef in CPyCppyy::CPPMethod::Execute(void*, long, CPyCppyy::CallContext*) + 0x2f from /usr/lib/python3.10/site-packages/libcppyy3_10.so\n",
      " 0x00007fd2df162841 in CPyCppyy::CPPMethod::Call(CPyCppyy::CPPInstance*&, _object*, _object*, CPyCppyy::CallContext*) + 0xb1 from /usr/lib/python3.10/site-packages/libcppyy3_10.so\n",
      " 0x00007fd2df1677e7 in <unknown> from /usr/lib/python3.10/site-packages/libcppyy3_10.so\n",
      " 0x00007fd333db27cb in _PyObject_MakeTpCall + 0x2ab from /usr/lib/libpython3.10.so.1.0\n",
      " 0x00007fd333db81eb in <unknown> from /usr/lib/libpython3.10.so.1.0\n",
      " 0x00007fd333e83a2b in PyObject_CallMethodObjArgs + 0xfb from /usr/lib/libpython3.10.so.1.0\n",
      " 0x00007fd2df1907e9 in <unknown> from /usr/lib/python3.10/site-packages/libcppyy3_10.so\n",
      " 0x00007fd333db7d27 in <unknown> from /usr/lib/libpython3.10.so.1.0\n",
      " 0x00007fd2df171a8a in <unknown> from /usr/lib/python3.10/site-packages/libcppyy3_10.so\n",
      " 0x00007fd333db27cb in _PyObject_MakeTpCall + 0x2ab from /usr/lib/libpython3.10.so.1.0\n",
      " 0x00007fd333e094cf in <unknown> from /usr/lib/libpython3.10.so.1.0\n",
      " 0x00007fd333e8185e in <unknown> from /usr/lib/libpython3.10.so.1.0\n",
      " 0x00007fd333e18e6c in <unknown> from /usr/lib/libpython3.10.so.1.0\n",
      " 0x00007fd333db8b81 in <unknown> from /usr/lib/libpython3.10.so.1.0\n",
      " 0x00007fd333db8940 in <unknown> from /usr/lib/libpython3.10.so.1.0\n",
      " 0x00007fd333da8769 in _PyEval_EvalFrameDefault + 0x349 from /usr/lib/libpython3.10.so.1.0\n",
      " 0x00007fd333db873c in _PyFunction_Vectorcall + 0x7c from /usr/lib/libpython3.10.so.1.0\n",
      " 0x00007fd333da8769 in _PyEval_EvalFrameDefault + 0x349 from /usr/lib/libpython3.10.so.1.0\n",
      " 0x00007fd333db873c in _PyFunction_Vectorcall + 0x7c from /usr/lib/libpython3.10.so.1.0\n",
      " 0x00007fd333dab225 in _PyEval_EvalFrameDefault + 0x2e05 from /usr/lib/libpython3.10.so.1.0\n",
      " 0x00007fd333db873c in _PyFunction_Vectorcall + 0x7c from /usr/lib/libpython3.10.so.1.0\n",
      " 0x00007fd333dab225 in _PyEval_EvalFrameDefault + 0x2e05 from /usr/lib/libpython3.10.so.1.0\n",
      " 0x00007fd333db1a68 in _PyObject_FastCallDictTstate + 0xd8 from /usr/lib/libpython3.10.so.1.0\n",
      " 0x00007fd333dc160d in _PyObject_Call_Prepend + 0x6d from /usr/lib/libpython3.10.so.1.0\n",
      " 0x00007fd333e996a2 in <unknown> from /usr/lib/libpython3.10.so.1.0\n",
      " 0x00007fd333db27cb in _PyObject_MakeTpCall + 0x2ab from /usr/lib/libpython3.10.so.1.0\n",
      " 0x00007fd333dad7bc in _PyEval_EvalFrameDefault + 0x539c from /usr/lib/libpython3.10.so.1.0\n",
      " 0x00007fd333db873c in _PyFunction_Vectorcall + 0x7c from /usr/lib/libpython3.10.so.1.0\n",
      " 0x00007fd333da8a9b in _PyEval_EvalFrameDefault + 0x67b from /usr/lib/libpython3.10.so.1.0\n",
      " 0x00007fd333db873c in _PyFunction_Vectorcall + 0x7c from /usr/lib/libpython3.10.so.1.0\n",
      " 0x00007fd333da8a9b in _PyEval_EvalFrameDefault + 0x67b from /usr/lib/libpython3.10.so.1.0\n",
      " 0x00007fd333db1a68 in _PyObject_FastCallDictTstate + 0xd8 from /usr/lib/libpython3.10.so.1.0\n",
      " 0x00007fd333dc160d in _PyObject_Call_Prepend + 0x6d from /usr/lib/libpython3.10.so.1.0\n",
      " 0x00007fd333e996a2 in <unknown> from /usr/lib/libpython3.10.so.1.0\n",
      " 0x00007fd333db27cb in _PyObject_MakeTpCall + 0x2ab from /usr/lib/libpython3.10.so.1.0\n",
      " 0x00007fd333e66def in <unknown> from /usr/lib/libpython3.10.so.1.0\n",
      " 0x00007fd333dab97a in _PyEval_EvalFrameDefault + 0x355a from /usr/lib/libpython3.10.so.1.0\n",
      " 0x00007fd333da7392 in <unknown> from /usr/lib/libpython3.10.so.1.0\n",
      " 0x00007fd333e5fc14 in PyEval_EvalCode + 0x94 from /usr/lib/libpython3.10.so.1.0\n",
      " 0x00007fd333e67671 in <unknown> from /usr/lib/libpython3.10.so.1.0\n",
      " 0x00007fd333db8940 in <unknown> from /usr/lib/libpython3.10.so.1.0\n",
      " 0x00007fd333da8769 in _PyEval_EvalFrameDefault + 0x349 from /usr/lib/libpython3.10.so.1.0\n",
      " 0x00007fd333de3940 in <unknown> from /usr/lib/libpython3.10.so.1.0\n",
      " 0x00007fd333da9aae in _PyEval_EvalFrameDefault + 0x168e from /usr/lib/libpython3.10.so.1.0\n",
      " 0x00007fd333de3940 in <unknown> from /usr/lib/libpython3.10.so.1.0\n",
      " 0x00007fd333da9aae in _PyEval_EvalFrameDefault + 0x168e from /usr/lib/libpython3.10.so.1.0\n",
      " 0x00007fd333de3940 in <unknown> from /usr/lib/libpython3.10.so.1.0\n",
      " 0x00007fd333e7ea1a in <unknown> from /usr/lib/libpython3.10.so.1.0\n",
      " 0x00007fd333dc202b in <unknown> from /usr/lib/libpython3.10.so.1.0\n",
      " 0x00007fd333da8a9b in _PyEval_EvalFrameDefault + 0x67b from /usr/lib/libpython3.10.so.1.0\n",
      " 0x00007fd333db873c in _PyFunction_Vectorcall + 0x7c from /usr/lib/libpython3.10.so.1.0\n",
      " 0x00007fd333da8769 in _PyEval_EvalFrameDefault + 0x349 from /usr/lib/libpython3.10.so.1.0\n",
      " 0x00007fd333db873c in _PyFunction_Vectorcall + 0x7c from /usr/lib/libpython3.10.so.1.0\n",
      " 0x00007fd333da8a9b in _PyEval_EvalFrameDefault + 0x67b from /usr/lib/libpython3.10.so.1.0\n",
      " 0x00007fd333dc3fc4 in <unknown> from /usr/lib/libpython3.10.so.1.0\n",
      " 0x00007fd333dc4a66 in PyObject_Call + 0x156 from /usr/lib/libpython3.10.so.1.0\n",
      " 0x00007fd333dab225 in _PyEval_EvalFrameDefault + 0x2e05 from /usr/lib/libpython3.10.so.1.0\n",
      " 0x00007fd333dc3fc4 in <unknown> from /usr/lib/libpython3.10.so.1.0\n",
      " 0x00007fd333da97d9 in _PyEval_EvalFrameDefault + 0x13b9 from /usr/lib/libpython3.10.so.1.0\n",
      " 0x00007fd333de3940 in <unknown> from /usr/lib/libpython3.10.so.1.0\n",
      " 0x00007fd333da9aae in _PyEval_EvalFrameDefault + 0x168e from /usr/lib/libpython3.10.so.1.0\n",
      " 0x00007fd333de3940 in <unknown> from /usr/lib/libpython3.10.so.1.0\n",
      " 0x00007fd333da9aae in _PyEval_EvalFrameDefault + 0x168e from /usr/lib/libpython3.10.so.1.0\n",
      " 0x00007fd333de3940 in <unknown> from /usr/lib/libpython3.10.so.1.0\n",
      " 0x00007fd333da9aae in _PyEval_EvalFrameDefault + 0x168e from /usr/lib/libpython3.10.so.1.0\n",
      " 0x00007fd333de3940 in <unknown> from /usr/lib/libpython3.10.so.1.0\n",
      " 0x00007fd333da9aae in _PyEval_EvalFrameDefault + 0x168e from /usr/lib/libpython3.10.so.1.0\n",
      " 0x00007fd333de3940 in <unknown> from /usr/lib/libpython3.10.so.1.0\n",
      " 0x00007fd332cbbad2 in <unknown> from /usr/lib/python3.10/lib-dynload/_asyncio.cpython-310-x86_64-linux-gnu.so\n",
      " 0x00007fd333db7d27 in <unknown> from /usr/lib/libpython3.10.so.1.0\n",
      " 0x00007fd333e62d31 in <unknown> from /usr/lib/libpython3.10.so.1.0\n",
      " 0x00007fd333d680cd in <unknown> from /usr/lib/libpython3.10.so.1.0\n",
      " 0x00007fd333db092f in <unknown> from /usr/lib/libpython3.10.so.1.0\n",
      " 0x00007fd333dae59b in _PyEval_EvalFrameDefault + 0x617b from /usr/lib/libpython3.10.so.1.0\n",
      " 0x00007fd333db873c in _PyFunction_Vectorcall + 0x7c from /usr/lib/libpython3.10.so.1.0\n",
      " 0x00007fd333da8a9b in _PyEval_EvalFrameDefault + 0x67b from /usr/lib/libpython3.10.so.1.0\n",
      " 0x00007fd333db873c in _PyFunction_Vectorcall + 0x7c from /usr/lib/libpython3.10.so.1.0\n",
      " 0x00007fd333da8a9b in _PyEval_EvalFrameDefault + 0x67b from /usr/lib/libpython3.10.so.1.0\n",
      " 0x00007fd333db873c in _PyFunction_Vectorcall + 0x7c from /usr/lib/libpython3.10.so.1.0\n",
      " 0x00007fd333da8a9b in _PyEval_EvalFrameDefault + 0x67b from /usr/lib/libpython3.10.so.1.0\n",
      " 0x00007fd333db873c in _PyFunction_Vectorcall + 0x7c from /usr/lib/libpython3.10.so.1.0\n",
      " 0x00007fd333da8a9b in _PyEval_EvalFrameDefault + 0x67b from /usr/lib/libpython3.10.so.1.0\n",
      " 0x00007fd333db873c in _PyFunction_Vectorcall + 0x7c from /usr/lib/libpython3.10.so.1.0\n",
      " 0x00007fd333da8a9b in _PyEval_EvalFrameDefault + 0x67b from /usr/lib/libpython3.10.so.1.0\n",
      " 0x00007fd333dc3fc4 in <unknown> from /usr/lib/libpython3.10.so.1.0\n",
      " 0x00007fd333dad4f1 in _PyEval_EvalFrameDefault + 0x50d1 from /usr/lib/libpython3.10.so.1.0\n",
      " 0x00007fd333da7392 in <unknown> from /usr/lib/libpython3.10.so.1.0\n",
      " 0x00007fd333e5fc14 in PyEval_EvalCode + 0x94 from /usr/lib/libpython3.10.so.1.0\n",
      " 0x00007fd333e67671 in <unknown> from /usr/lib/libpython3.10.so.1.0\n",
      " 0x00007fd333db8940 in <unknown> from /usr/lib/libpython3.10.so.1.0\n",
      " 0x00007fd333da8769 in _PyEval_EvalFrameDefault + 0x349 from /usr/lib/libpython3.10.so.1.0\n",
      " 0x00007fd333db873c in _PyFunction_Vectorcall + 0x7c from /usr/lib/libpython3.10.so.1.0\n",
      " 0x00007fd333da8769 in _PyEval_EvalFrameDefault + 0x349 from /usr/lib/libpython3.10.so.1.0\n",
      " 0x00007fd333db873c in _PyFunction_Vectorcall + 0x7c from /usr/lib/libpython3.10.so.1.0\n",
      " 0x00007fd333e84d68 in <unknown> from /usr/lib/libpython3.10.so.1.0\n",
      " 0x00007fd333e7d120 in Py_RunMain + 0x200 from /usr/lib/libpython3.10.so.1.0\n",
      " 0x00007fd333e5069d in Py_BytesMain + 0x3d from /usr/lib/libpython3.10.so.1.0\n",
      " 0x00007fd333a8b310 in <unknown> from /usr/lib/libc.so.6\n",
      " 0x00007fd333a8b3c1 in __libc_start_main at :? from /usr/lib/libc.so.6\n",
      " 0x000056020cc3e04e in _start + 0x2e from /usr/bin/python\n",
      "Error in <TFitResultPtr>: TFitResult is empty - use the fit option S\n",
      " *** Break *** abort\n",
      " Generating stack trace...\n",
      " 0x00007fd333aa04b8 in raise at :? from /usr/lib/libc.so.6\n",
      " 0x00007fd333a8a534 in abort at :? from /usr/lib/libc.so.6\n",
      " 0x00007fd2c73260be in TFitResultPtr::operator*() const + 0x5e from /usr/lib/root/libHist.so\n",
      " 0x00007fd2cc67a024 in <unknown function>\n",
      " 0x00007fd2df0b7f47 in <unknown> from /usr/lib/root/libcppyy_backend3_10.so\n",
      " 0x00007fd2df0b9534 in Cppyy::CallR(long, void*, unsigned long, void*) + 0x34 from /usr/lib/root/libcppyy_backend3_10.so\n",
      " 0x00007fd2df17b9e4 in <unknown> from /usr/lib/python3.10/site-packages/libcppyy3_10.so\n",
      " 0x00007fd2df1612a6 in <unknown> from /usr/lib/python3.10/site-packages/libcppyy3_10.so\n",
      " 0x00007fd2df163dc0 in CPyCppyy::CPPMethod::ExecuteProtected(void*, long, CPyCppyy::CallContext*) + 0x120 from /usr/lib/python3.10/site-packages/libcppyy3_10.so\n",
      " 0x00007fd2df1624ef in CPyCppyy::CPPMethod::Execute(void*, long, CPyCppyy::CallContext*) + 0x2f from /usr/lib/python3.10/site-packages/libcppyy3_10.so\n",
      " 0x00007fd2df162841 in CPyCppyy::CPPMethod::Call(CPyCppyy::CPPInstance*&, _object*, _object*, CPyCppyy::CallContext*) + 0xb1 from /usr/lib/python3.10/site-packages/libcppyy3_10.so\n",
      " 0x00007fd2df1677e7 in <unknown> from /usr/lib/python3.10/site-packages/libcppyy3_10.so\n",
      " 0x00007fd333db27cb in _PyObject_MakeTpCall + 0x2ab from /usr/lib/libpython3.10.so.1.0\n",
      " 0x00007fd333db81eb in <unknown> from /usr/lib/libpython3.10.so.1.0\n",
      " 0x00007fd333e83a2b in PyObject_CallMethodObjArgs + 0xfb from /usr/lib/libpython3.10.so.1.0\n",
      " 0x00007fd2df1907e9 in <unknown> from /usr/lib/python3.10/site-packages/libcppyy3_10.so\n",
      " 0x00007fd333db7d27 in <unknown> from /usr/lib/libpython3.10.so.1.0\n",
      " 0x00007fd2df171a8a in <unknown> from /usr/lib/python3.10/site-packages/libcppyy3_10.so\n",
      " 0x00007fd333db27cb in _PyObject_MakeTpCall + 0x2ab from /usr/lib/libpython3.10.so.1.0\n",
      " 0x00007fd333e094cf in <unknown> from /usr/lib/libpython3.10.so.1.0\n",
      " 0x00007fd333e8185e in <unknown> from /usr/lib/libpython3.10.so.1.0\n",
      " 0x00007fd333e18e6c in <unknown> from /usr/lib/libpython3.10.so.1.0\n",
      " 0x00007fd333db8b81 in <unknown> from /usr/lib/libpython3.10.so.1.0\n",
      " 0x00007fd333db8940 in <unknown> from /usr/lib/libpython3.10.so.1.0\n",
      " 0x00007fd333da8769 in _PyEval_EvalFrameDefault + 0x349 from /usr/lib/libpython3.10.so.1.0\n",
      " 0x00007fd333db873c in _PyFunction_Vectorcall + 0x7c from /usr/lib/libpython3.10.so.1.0\n",
      " 0x00007fd333da8769 in _PyEval_EvalFrameDefault + 0x349 from /usr/lib/libpython3.10.so.1.0\n",
      " 0x00007fd333db873c in _PyFunction_Vectorcall + 0x7c from /usr/lib/libpython3.10.so.1.0\n",
      " 0x00007fd333dab225 in _PyEval_EvalFrameDefault + 0x2e05 from /usr/lib/libpython3.10.so.1.0\n",
      " 0x00007fd333db873c in _PyFunction_Vectorcall + 0x7c from /usr/lib/libpython3.10.so.1.0\n",
      " 0x00007fd333dab225 in _PyEval_EvalFrameDefault + 0x2e05 from /usr/lib/libpython3.10.so.1.0\n",
      " 0x00007fd333db1a68 in _PyObject_FastCallDictTstate + 0xd8 from /usr/lib/libpython3.10.so.1.0\n",
      " 0x00007fd333dc160d in _PyObject_Call_Prepend + 0x6d from /usr/lib/libpython3.10.so.1.0\n",
      " 0x00007fd333e996a2 in <unknown> from /usr/lib/libpython3.10.so.1.0\n",
      " 0x00007fd333db27cb in _PyObject_MakeTpCall + 0x2ab from /usr/lib/libpython3.10.so.1.0\n",
      " 0x00007fd333dad7bc in _PyEval_EvalFrameDefault + 0x539c from /usr/lib/libpython3.10.so.1.0\n",
      " 0x00007fd333db873c in _PyFunction_Vectorcall + 0x7c from /usr/lib/libpython3.10.so.1.0\n",
      " 0x00007fd333da8a9b in _PyEval_EvalFrameDefault + 0x67b from /usr/lib/libpython3.10.so.1.0\n",
      " 0x00007fd333db873c in _PyFunction_Vectorcall + 0x7c from /usr/lib/libpython3.10.so.1.0\n",
      " 0x00007fd333da8a9b in _PyEval_EvalFrameDefault + 0x67b from /usr/lib/libpython3.10.so.1.0\n",
      " 0x00007fd333db1a68 in _PyObject_FastCallDictTstate + 0xd8 from /usr/lib/libpython3.10.so.1.0\n",
      " 0x00007fd333dc160d in _PyObject_Call_Prepend + 0x6d from /usr/lib/libpython3.10.so.1.0\n",
      " 0x00007fd333e996a2 in <unknown> from /usr/lib/libpython3.10.so.1.0\n",
      " 0x00007fd333db27cb in _PyObject_MakeTpCall + 0x2ab from /usr/lib/libpython3.10.so.1.0\n",
      " 0x00007fd333e66def in <unknown> from /usr/lib/libpython3.10.so.1.0\n",
      " 0x00007fd333dab97a in _PyEval_EvalFrameDefault + 0x355a from /usr/lib/libpython3.10.so.1.0\n",
      " 0x00007fd333da7392 in <unknown> from /usr/lib/libpython3.10.so.1.0\n",
      " 0x00007fd333e5fc14 in PyEval_EvalCode + 0x94 from /usr/lib/libpython3.10.so.1.0\n",
      " 0x00007fd333e67671 in <unknown> from /usr/lib/libpython3.10.so.1.0\n",
      " 0x00007fd333db8940 in <unknown> from /usr/lib/libpython3.10.so.1.0\n",
      " 0x00007fd333da8769 in _PyEval_EvalFrameDefault + 0x349 from /usr/lib/libpython3.10.so.1.0\n",
      " 0x00007fd333de3940 in <unknown> from /usr/lib/libpython3.10.so.1.0\n",
      " 0x00007fd333da9aae in _PyEval_EvalFrameDefault + 0x168e from /usr/lib/libpython3.10.so.1.0\n",
      " 0x00007fd333de3940 in <unknown> from /usr/lib/libpython3.10.so.1.0\n",
      " 0x00007fd333da9aae in _PyEval_EvalFrameDefault + 0x168e from /usr/lib/libpython3.10.so.1.0\n",
      " 0x00007fd333de3940 in <unknown> from /usr/lib/libpython3.10.so.1.0\n",
      " 0x00007fd333e7ea1a in <unknown> from /usr/lib/libpython3.10.so.1.0\n",
      " 0x00007fd333dc202b in <unknown> from /usr/lib/libpython3.10.so.1.0\n",
      " 0x00007fd333da8a9b in _PyEval_EvalFrameDefault + 0x67b from /usr/lib/libpython3.10.so.1.0\n",
      " 0x00007fd333db873c in _PyFunction_Vectorcall + 0x7c from /usr/lib/libpython3.10.so.1.0\n",
      " 0x00007fd333da8769 in _PyEval_EvalFrameDefault + 0x349 from /usr/lib/libpython3.10.so.1.0\n",
      " 0x00007fd333db873c in _PyFunction_Vectorcall + 0x7c from /usr/lib/libpython3.10.so.1.0\n",
      " 0x00007fd333da8a9b in _PyEval_EvalFrameDefault + 0x67b from /usr/lib/libpython3.10.so.1.0\n",
      " 0x00007fd333dc3fc4 in <unknown> from /usr/lib/libpython3.10.so.1.0\n",
      " 0x00007fd333dc4a66 in PyObject_Call + 0x156 from /usr/lib/libpython3.10.so.1.0\n",
      " 0x00007fd333dab225 in _PyEval_EvalFrameDefault + 0x2e05 from /usr/lib/libpython3.10.so.1.0\n",
      " 0x00007fd333dc3fc4 in <unknown> from /usr/lib/libpython3.10.so.1.0\n",
      " 0x00007fd333da97d9 in _PyEval_EvalFrameDefault + 0x13b9 from /usr/lib/libpython3.10.so.1.0\n",
      " 0x00007fd333de3940 in <unknown> from /usr/lib/libpython3.10.so.1.0\n",
      " 0x00007fd333da9aae in _PyEval_EvalFrameDefault + 0x168e from /usr/lib/libpython3.10.so.1.0\n",
      " 0x00007fd333de3940 in <unknown> from /usr/lib/libpython3.10.so.1.0\n",
      " 0x00007fd333da9aae in _PyEval_EvalFrameDefault + 0x168e from /usr/lib/libpython3.10.so.1.0\n",
      " 0x00007fd333de3940 in <unknown> from /usr/lib/libpython3.10.so.1.0\n",
      " 0x00007fd333da9aae in _PyEval_EvalFrameDefault + 0x168e from /usr/lib/libpython3.10.so.1.0\n",
      " 0x00007fd333de3940 in <unknown> from /usr/lib/libpython3.10.so.1.0\n",
      " 0x00007fd333da9aae in _PyEval_EvalFrameDefault + 0x168e from /usr/lib/libpython3.10.so.1.0\n",
      " 0x00007fd333de3940 in <unknown> from /usr/lib/libpython3.10.so.1.0\n",
      " 0x00007fd332cbbad2 in <unknown> from /usr/lib/python3.10/lib-dynload/_asyncio.cpython-310-x86_64-linux-gnu.so\n",
      " 0x00007fd333db7d27 in <unknown> from /usr/lib/libpython3.10.so.1.0\n",
      " 0x00007fd333e62d31 in <unknown> from /usr/lib/libpython3.10.so.1.0\n",
      " 0x00007fd333d680cd in <unknown> from /usr/lib/libpython3.10.so.1.0\n",
      " 0x00007fd333db092f in <unknown> from /usr/lib/libpython3.10.so.1.0\n",
      " 0x00007fd333dae59b in _PyEval_EvalFrameDefault + 0x617b from /usr/lib/libpython3.10.so.1.0\n",
      " 0x00007fd333db873c in _PyFunction_Vectorcall + 0x7c from /usr/lib/libpython3.10.so.1.0\n",
      " 0x00007fd333da8a9b in _PyEval_EvalFrameDefault + 0x67b from /usr/lib/libpython3.10.so.1.0\n",
      " 0x00007fd333db873c in _PyFunction_Vectorcall + 0x7c from /usr/lib/libpython3.10.so.1.0\n",
      " 0x00007fd333da8a9b in _PyEval_EvalFrameDefault + 0x67b from /usr/lib/libpython3.10.so.1.0\n",
      " 0x00007fd333db873c in _PyFunction_Vectorcall + 0x7c from /usr/lib/libpython3.10.so.1.0\n",
      " 0x00007fd333da8a9b in _PyEval_EvalFrameDefault + 0x67b from /usr/lib/libpython3.10.so.1.0\n",
      " 0x00007fd333db873c in _PyFunction_Vectorcall + 0x7c from /usr/lib/libpython3.10.so.1.0\n",
      " 0x00007fd333da8a9b in _PyEval_EvalFrameDefault + 0x67b from /usr/lib/libpython3.10.so.1.0\n",
      " 0x00007fd333db873c in _PyFunction_Vectorcall + 0x7c from /usr/lib/libpython3.10.so.1.0\n",
      " 0x00007fd333da8a9b in _PyEval_EvalFrameDefault + 0x67b from /usr/lib/libpython3.10.so.1.0\n",
      " 0x00007fd333dc3fc4 in <unknown> from /usr/lib/libpython3.10.so.1.0\n",
      " 0x00007fd333dad4f1 in _PyEval_EvalFrameDefault + 0x50d1 from /usr/lib/libpython3.10.so.1.0\n",
      " 0x00007fd333da7392 in <unknown> from /usr/lib/libpython3.10.so.1.0\n",
      " 0x00007fd333e5fc14 in PyEval_EvalCode + 0x94 from /usr/lib/libpython3.10.so.1.0\n",
      " 0x00007fd333e67671 in <unknown> from /usr/lib/libpython3.10.so.1.0\n",
      " 0x00007fd333db8940 in <unknown> from /usr/lib/libpython3.10.so.1.0\n",
      " 0x00007fd333da8769 in _PyEval_EvalFrameDefault + 0x349 from /usr/lib/libpython3.10.so.1.0\n",
      " 0x00007fd333db873c in _PyFunction_Vectorcall + 0x7c from /usr/lib/libpython3.10.so.1.0\n",
      " 0x00007fd333da8769 in _PyEval_EvalFrameDefault + 0x349 from /usr/lib/libpython3.10.so.1.0\n",
      " 0x00007fd333db873c in _PyFunction_Vectorcall + 0x7c from /usr/lib/libpython3.10.so.1.0\n",
      " 0x00007fd333e84d68 in <unknown> from /usr/lib/libpython3.10.so.1.0\n",
      " 0x00007fd333e7d120 in Py_RunMain + 0x200 from /usr/lib/libpython3.10.so.1.0\n",
      " 0x00007fd333e5069d in Py_BytesMain + 0x3d from /usr/lib/libpython3.10.so.1.0\n",
      " 0x00007fd333a8b310 in <unknown> from /usr/lib/libc.so.6\n",
      " 0x00007fd333a8b3c1 in __libc_start_main at :? from /usr/lib/libc.so.6\n",
      " 0x000056020cc3e04e in _start + 0x2e from /usr/bin/python\n",
      "Error in <TFitResultPtr>: TFitResult is empty - use the fit option S\n",
      " *** Break *** abort\n",
      " Generating stack trace...\n",
      " 0x00007fd333aa04b8 in raise at :? from /usr/lib/libc.so.6\n",
      " 0x00007fd333a8a534 in abort at :? from /usr/lib/libc.so.6\n",
      " 0x00007fd2c73260be in TFitResultPtr::operator*() const + 0x5e from /usr/lib/root/libHist.so\n",
      " 0x00007fd2cc67a024 in <unknown function>\n",
      " 0x00007fd2df0b7f47 in <unknown> from /usr/lib/root/libcppyy_backend3_10.so\n",
      " 0x00007fd2df0b9534 in Cppyy::CallR(long, void*, unsigned long, void*) + 0x34 from /usr/lib/root/libcppyy_backend3_10.so\n",
      " 0x00007fd2df17b9e4 in <unknown> from /usr/lib/python3.10/site-packages/libcppyy3_10.so\n",
      " 0x00007fd2df1612a6 in <unknown> from /usr/lib/python3.10/site-packages/libcppyy3_10.so\n",
      " 0x00007fd2df163dc0 in CPyCppyy::CPPMethod::ExecuteProtected(void*, long, CPyCppyy::CallContext*) + 0x120 from /usr/lib/python3.10/site-packages/libcppyy3_10.so\n",
      " 0x00007fd2df1624ef in CPyCppyy::CPPMethod::Execute(void*, long, CPyCppyy::CallContext*) + 0x2f from /usr/lib/python3.10/site-packages/libcppyy3_10.so\n",
      " 0x00007fd2df162841 in CPyCppyy::CPPMethod::Call(CPyCppyy::CPPInstance*&, _object*, _object*, CPyCppyy::CallContext*) + 0xb1 from /usr/lib/python3.10/site-packages/libcppyy3_10.so\n",
      " 0x00007fd2df1677e7 in <unknown> from /usr/lib/python3.10/site-packages/libcppyy3_10.so\n",
      " 0x00007fd333db27cb in _PyObject_MakeTpCall + 0x2ab from /usr/lib/libpython3.10.so.1.0\n",
      " 0x00007fd333db81eb in <unknown> from /usr/lib/libpython3.10.so.1.0\n",
      " 0x00007fd333e83a2b in PyObject_CallMethodObjArgs + 0xfb from /usr/lib/libpython3.10.so.1.0\n",
      " 0x00007fd2df1907e9 in <unknown> from /usr/lib/python3.10/site-packages/libcppyy3_10.so\n",
      " 0x00007fd333db7d27 in <unknown> from /usr/lib/libpython3.10.so.1.0\n",
      " 0x00007fd2df171a8a in <unknown> from /usr/lib/python3.10/site-packages/libcppyy3_10.so\n",
      " 0x00007fd333db27cb in _PyObject_MakeTpCall + 0x2ab from /usr/lib/libpython3.10.so.1.0\n",
      " 0x00007fd333e094cf in <unknown> from /usr/lib/libpython3.10.so.1.0\n",
      " 0x00007fd333e8185e in <unknown> from /usr/lib/libpython3.10.so.1.0\n",
      " 0x00007fd333e18e6c in <unknown> from /usr/lib/libpython3.10.so.1.0\n",
      " 0x00007fd333db8b81 in <unknown> from /usr/lib/libpython3.10.so.1.0\n",
      " 0x00007fd333db8940 in <unknown> from /usr/lib/libpython3.10.so.1.0\n",
      " 0x00007fd333da8769 in _PyEval_EvalFrameDefault + 0x349 from /usr/lib/libpython3.10.so.1.0\n",
      " 0x00007fd333db873c in _PyFunction_Vectorcall + 0x7c from /usr/lib/libpython3.10.so.1.0\n",
      " 0x00007fd333da8769 in _PyEval_EvalFrameDefault + 0x349 from /usr/lib/libpython3.10.so.1.0\n",
      " 0x00007fd333db873c in _PyFunction_Vectorcall + 0x7c from /usr/lib/libpython3.10.so.1.0\n",
      " 0x00007fd333dab225 in _PyEval_EvalFrameDefault + 0x2e05 from /usr/lib/libpython3.10.so.1.0\n",
      " 0x00007fd333db873c in _PyFunction_Vectorcall + 0x7c from /usr/lib/libpython3.10.so.1.0\n",
      " 0x00007fd333dab225 in _PyEval_EvalFrameDefault + 0x2e05 from /usr/lib/libpython3.10.so.1.0\n",
      " 0x00007fd333db1a68 in _PyObject_FastCallDictTstate + 0xd8 from /usr/lib/libpython3.10.so.1.0\n",
      " 0x00007fd333dc160d in _PyObject_Call_Prepend + 0x6d from /usr/lib/libpython3.10.so.1.0\n",
      " 0x00007fd333e996a2 in <unknown> from /usr/lib/libpython3.10.so.1.0\n",
      " 0x00007fd333db27cb in _PyObject_MakeTpCall + 0x2ab from /usr/lib/libpython3.10.so.1.0\n",
      " 0x00007fd333dad7bc in _PyEval_EvalFrameDefault + 0x539c from /usr/lib/libpython3.10.so.1.0\n",
      " 0x00007fd333db873c in _PyFunction_Vectorcall + 0x7c from /usr/lib/libpython3.10.so.1.0\n",
      " 0x00007fd333da8a9b in _PyEval_EvalFrameDefault + 0x67b from /usr/lib/libpython3.10.so.1.0\n",
      " 0x00007fd333db873c in _PyFunction_Vectorcall + 0x7c from /usr/lib/libpython3.10.so.1.0\n",
      " 0x00007fd333da8a9b in _PyEval_EvalFrameDefault + 0x67b from /usr/lib/libpython3.10.so.1.0\n",
      " 0x00007fd333db1a68 in _PyObject_FastCallDictTstate + 0xd8 from /usr/lib/libpython3.10.so.1.0\n",
      " 0x00007fd333dc160d in _PyObject_Call_Prepend + 0x6d from /usr/lib/libpython3.10.so.1.0\n",
      " 0x00007fd333e996a2 in <unknown> from /usr/lib/libpython3.10.so.1.0\n",
      " 0x00007fd333db27cb in _PyObject_MakeTpCall + 0x2ab from /usr/lib/libpython3.10.so.1.0\n",
      " 0x00007fd333e66def in <unknown> from /usr/lib/libpython3.10.so.1.0\n",
      " 0x00007fd333dab97a in _PyEval_EvalFrameDefault + 0x355a from /usr/lib/libpython3.10.so.1.0\n",
      " 0x00007fd333da7392 in <unknown> from /usr/lib/libpython3.10.so.1.0\n",
      " 0x00007fd333e5fc14 in PyEval_EvalCode + 0x94 from /usr/lib/libpython3.10.so.1.0\n",
      " 0x00007fd333e67671 in <unknown> from /usr/lib/libpython3.10.so.1.0\n",
      " 0x00007fd333db8940 in <unknown> from /usr/lib/libpython3.10.so.1.0\n",
      " 0x00007fd333da8769 in _PyEval_EvalFrameDefault + 0x349 from /usr/lib/libpython3.10.so.1.0\n",
      " 0x00007fd333de3940 in <unknown> from /usr/lib/libpython3.10.so.1.0\n",
      " 0x00007fd333da9aae in _PyEval_EvalFrameDefault + 0x168e from /usr/lib/libpython3.10.so.1.0\n",
      " 0x00007fd333de3940 in <unknown> from /usr/lib/libpython3.10.so.1.0\n",
      " 0x00007fd333da9aae in _PyEval_EvalFrameDefault + 0x168e from /usr/lib/libpython3.10.so.1.0\n",
      " 0x00007fd333de3940 in <unknown> from /usr/lib/libpython3.10.so.1.0\n",
      " 0x00007fd333e7ea1a in <unknown> from /usr/lib/libpython3.10.so.1.0\n",
      " 0x00007fd333dc202b in <unknown> from /usr/lib/libpython3.10.so.1.0\n",
      " 0x00007fd333da8a9b in _PyEval_EvalFrameDefault + 0x67b from /usr/lib/libpython3.10.so.1.0\n",
      " 0x00007fd333db873c in _PyFunction_Vectorcall + 0x7c from /usr/lib/libpython3.10.so.1.0\n",
      " 0x00007fd333da8769 in _PyEval_EvalFrameDefault + 0x349 from /usr/lib/libpython3.10.so.1.0\n",
      " 0x00007fd333db873c in _PyFunction_Vectorcall + 0x7c from /usr/lib/libpython3.10.so.1.0\n",
      " 0x00007fd333da8a9b in _PyEval_EvalFrameDefault + 0x67b from /usr/lib/libpython3.10.so.1.0\n",
      " 0x00007fd333dc3fc4 in <unknown> from /usr/lib/libpython3.10.so.1.0\n",
      " 0x00007fd333dc4a66 in PyObject_Call + 0x156 from /usr/lib/libpython3.10.so.1.0\n",
      " 0x00007fd333dab225 in _PyEval_EvalFrameDefault + 0x2e05 from /usr/lib/libpython3.10.so.1.0\n",
      " 0x00007fd333dc3fc4 in <unknown> from /usr/lib/libpython3.10.so.1.0\n",
      " 0x00007fd333da97d9 in _PyEval_EvalFrameDefault + 0x13b9 from /usr/lib/libpython3.10.so.1.0\n",
      " 0x00007fd333de3940 in <unknown> from /usr/lib/libpython3.10.so.1.0\n",
      " 0x00007fd333da9aae in _PyEval_EvalFrameDefault + 0x168e from /usr/lib/libpython3.10.so.1.0\n",
      " 0x00007fd333de3940 in <unknown> from /usr/lib/libpython3.10.so.1.0\n",
      " 0x00007fd333da9aae in _PyEval_EvalFrameDefault + 0x168e from /usr/lib/libpython3.10.so.1.0\n",
      " 0x00007fd333de3940 in <unknown> from /usr/lib/libpython3.10.so.1.0\n",
      " 0x00007fd333da9aae in _PyEval_EvalFrameDefault + 0x168e from /usr/lib/libpython3.10.so.1.0\n",
      " 0x00007fd333de3940 in <unknown> from /usr/lib/libpython3.10.so.1.0\n",
      " 0x00007fd333da9aae in _PyEval_EvalFrameDefault + 0x168e from /usr/lib/libpython3.10.so.1.0\n",
      " 0x00007fd333de3940 in <unknown> from /usr/lib/libpython3.10.so.1.0\n",
      " 0x00007fd332cbbad2 in <unknown> from /usr/lib/python3.10/lib-dynload/_asyncio.cpython-310-x86_64-linux-gnu.so\n",
      " 0x00007fd333db7d27 in <unknown> from /usr/lib/libpython3.10.so.1.0\n",
      " 0x00007fd333e62d31 in <unknown> from /usr/lib/libpython3.10.so.1.0\n",
      " 0x00007fd333d680cd in <unknown> from /usr/lib/libpython3.10.so.1.0\n",
      " 0x00007fd333db092f in <unknown> from /usr/lib/libpython3.10.so.1.0\n",
      " 0x00007fd333dae59b in _PyEval_EvalFrameDefault + 0x617b from /usr/lib/libpython3.10.so.1.0\n",
      " 0x00007fd333db873c in _PyFunction_Vectorcall + 0x7c from /usr/lib/libpython3.10.so.1.0\n",
      " 0x00007fd333da8a9b in _PyEval_EvalFrameDefault + 0x67b from /usr/lib/libpython3.10.so.1.0\n",
      " 0x00007fd333db873c in _PyFunction_Vectorcall + 0x7c from /usr/lib/libpython3.10.so.1.0\n",
      " 0x00007fd333da8a9b in _PyEval_EvalFrameDefault + 0x67b from /usr/lib/libpython3.10.so.1.0\n",
      " 0x00007fd333db873c in _PyFunction_Vectorcall + 0x7c from /usr/lib/libpython3.10.so.1.0\n",
      " 0x00007fd333da8a9b in _PyEval_EvalFrameDefault + 0x67b from /usr/lib/libpython3.10.so.1.0\n",
      " 0x00007fd333db873c in _PyFunction_Vectorcall + 0x7c from /usr/lib/libpython3.10.so.1.0\n",
      " 0x00007fd333da8a9b in _PyEval_EvalFrameDefault + 0x67b from /usr/lib/libpython3.10.so.1.0\n",
      " 0x00007fd333db873c in _PyFunction_Vectorcall + 0x7c from /usr/lib/libpython3.10.so.1.0\n",
      " 0x00007fd333da8a9b in _PyEval_EvalFrameDefault + 0x67b from /usr/lib/libpython3.10.so.1.0\n",
      " 0x00007fd333dc3fc4 in <unknown> from /usr/lib/libpython3.10.so.1.0\n",
      " 0x00007fd333dad4f1 in _PyEval_EvalFrameDefault + 0x50d1 from /usr/lib/libpython3.10.so.1.0\n",
      " 0x00007fd333da7392 in <unknown> from /usr/lib/libpython3.10.so.1.0\n",
      " 0x00007fd333e5fc14 in PyEval_EvalCode + 0x94 from /usr/lib/libpython3.10.so.1.0\n",
      " 0x00007fd333e67671 in <unknown> from /usr/lib/libpython3.10.so.1.0\n",
      " 0x00007fd333db8940 in <unknown> from /usr/lib/libpython3.10.so.1.0\n",
      " 0x00007fd333da8769 in _PyEval_EvalFrameDefault + 0x349 from /usr/lib/libpython3.10.so.1.0\n",
      " 0x00007fd333db873c in _PyFunction_Vectorcall + 0x7c from /usr/lib/libpython3.10.so.1.0\n",
      " 0x00007fd333da8769 in _PyEval_EvalFrameDefault + 0x349 from /usr/lib/libpython3.10.so.1.0\n",
      " 0x00007fd333db873c in _PyFunction_Vectorcall + 0x7c from /usr/lib/libpython3.10.so.1.0\n",
      " 0x00007fd333e84d68 in <unknown> from /usr/lib/libpython3.10.so.1.0\n",
      " 0x00007fd333e7d120 in Py_RunMain + 0x200 from /usr/lib/libpython3.10.so.1.0\n",
      " 0x00007fd333e5069d in Py_BytesMain + 0x3d from /usr/lib/libpython3.10.so.1.0\n",
      " 0x00007fd333a8b310 in <unknown> from /usr/lib/libc.so.6\n",
      " 0x00007fd333a8b3c1 in __libc_start_main at :? from /usr/lib/libc.so.6\n",
      " 0x000056020cc3e04e in _start + 0x2e from /usr/bin/python\n",
      "Error in <TFitResultPtr>: TFitResult is empty - use the fit option S\n",
      " *** Break *** abort\n",
      " Generating stack trace...\n",
      " 0x00007fd333aa04b8 in raise at :? from /usr/lib/libc.so.6\n",
      " 0x00007fd333a8a534 in abort at :? from /usr/lib/libc.so.6\n",
      " 0x00007fd2c73260be in TFitResultPtr::operator*() const + 0x5e from /usr/lib/root/libHist.so\n",
      " 0x00007fd2cc67a024 in <unknown function>\n",
      " 0x00007fd2df0b7f47 in <unknown> from /usr/lib/root/libcppyy_backend3_10.so\n",
      " 0x00007fd2df0b9534 in Cppyy::CallR(long, void*, unsigned long, void*) + 0x34 from /usr/lib/root/libcppyy_backend3_10.so\n",
      " 0x00007fd2df17b9e4 in <unknown> from /usr/lib/python3.10/site-packages/libcppyy3_10.so\n",
      " 0x00007fd2df1612a6 in <unknown> from /usr/lib/python3.10/site-packages/libcppyy3_10.so\n",
      " 0x00007fd2df163dc0 in CPyCppyy::CPPMethod::ExecuteProtected(void*, long, CPyCppyy::CallContext*) + 0x120 from /usr/lib/python3.10/site-packages/libcppyy3_10.so\n",
      " 0x00007fd2df1624ef in CPyCppyy::CPPMethod::Execute(void*, long, CPyCppyy::CallContext*) + 0x2f from /usr/lib/python3.10/site-packages/libcppyy3_10.so\n",
      " 0x00007fd2df162841 in CPyCppyy::CPPMethod::Call(CPyCppyy::CPPInstance*&, _object*, _object*, CPyCppyy::CallContext*) + 0xb1 from /usr/lib/python3.10/site-packages/libcppyy3_10.so\n",
      " 0x00007fd2df1677e7 in <unknown> from /usr/lib/python3.10/site-packages/libcppyy3_10.so\n",
      " 0x00007fd333db27cb in _PyObject_MakeTpCall + 0x2ab from /usr/lib/libpython3.10.so.1.0\n",
      " 0x00007fd333db81eb in <unknown> from /usr/lib/libpython3.10.so.1.0\n",
      " 0x00007fd333e83a2b in PyObject_CallMethodObjArgs + 0xfb from /usr/lib/libpython3.10.so.1.0\n",
      " 0x00007fd2df1907e9 in <unknown> from /usr/lib/python3.10/site-packages/libcppyy3_10.so\n",
      " 0x00007fd333db7d27 in <unknown> from /usr/lib/libpython3.10.so.1.0\n",
      " 0x00007fd2df171a8a in <unknown> from /usr/lib/python3.10/site-packages/libcppyy3_10.so\n",
      " 0x00007fd333db27cb in _PyObject_MakeTpCall + 0x2ab from /usr/lib/libpython3.10.so.1.0\n",
      " 0x00007fd333e094cf in <unknown> from /usr/lib/libpython3.10.so.1.0\n",
      " 0x00007fd333e8185e in <unknown> from /usr/lib/libpython3.10.so.1.0\n",
      " 0x00007fd333e18e6c in <unknown> from /usr/lib/libpython3.10.so.1.0\n",
      " 0x00007fd333db8b81 in <unknown> from /usr/lib/libpython3.10.so.1.0\n",
      " 0x00007fd333db8940 in <unknown> from /usr/lib/libpython3.10.so.1.0\n",
      " 0x00007fd333da8769 in _PyEval_EvalFrameDefault + 0x349 from /usr/lib/libpython3.10.so.1.0\n",
      " 0x00007fd333db873c in _PyFunction_Vectorcall + 0x7c from /usr/lib/libpython3.10.so.1.0\n",
      " 0x00007fd333da8769 in _PyEval_EvalFrameDefault + 0x349 from /usr/lib/libpython3.10.so.1.0\n",
      " 0x00007fd333db873c in _PyFunction_Vectorcall + 0x7c from /usr/lib/libpython3.10.so.1.0\n",
      " 0x00007fd333dab225 in _PyEval_EvalFrameDefault + 0x2e05 from /usr/lib/libpython3.10.so.1.0\n",
      " 0x00007fd333db873c in _PyFunction_Vectorcall + 0x7c from /usr/lib/libpython3.10.so.1.0\n",
      " 0x00007fd333dab225 in _PyEval_EvalFrameDefault + 0x2e05 from /usr/lib/libpython3.10.so.1.0\n",
      " 0x00007fd333db1a68 in _PyObject_FastCallDictTstate + 0xd8 from /usr/lib/libpython3.10.so.1.0\n",
      " 0x00007fd333dc160d in _PyObject_Call_Prepend + 0x6d from /usr/lib/libpython3.10.so.1.0\n",
      " 0x00007fd333e996a2 in <unknown> from /usr/lib/libpython3.10.so.1.0\n",
      " 0x00007fd333db27cb in _PyObject_MakeTpCall + 0x2ab from /usr/lib/libpython3.10.so.1.0\n",
      " 0x00007fd333dad7bc in _PyEval_EvalFrameDefault + 0x539c from /usr/lib/libpython3.10.so.1.0\n",
      " 0x00007fd333db873c in _PyFunction_Vectorcall + 0x7c from /usr/lib/libpython3.10.so.1.0\n",
      " 0x00007fd333da8a9b in _PyEval_EvalFrameDefault + 0x67b from /usr/lib/libpython3.10.so.1.0\n",
      " 0x00007fd333db873c in _PyFunction_Vectorcall + 0x7c from /usr/lib/libpython3.10.so.1.0\n",
      " 0x00007fd333da8a9b in _PyEval_EvalFrameDefault + 0x67b from /usr/lib/libpython3.10.so.1.0\n",
      " 0x00007fd333db1a68 in _PyObject_FastCallDictTstate + 0xd8 from /usr/lib/libpython3.10.so.1.0\n",
      " 0x00007fd333dc160d in _PyObject_Call_Prepend + 0x6d from /usr/lib/libpython3.10.so.1.0\n",
      " 0x00007fd333e996a2 in <unknown> from /usr/lib/libpython3.10.so.1.0\n",
      " 0x00007fd333db27cb in _PyObject_MakeTpCall + 0x2ab from /usr/lib/libpython3.10.so.1.0\n",
      " 0x00007fd333e66def in <unknown> from /usr/lib/libpython3.10.so.1.0\n",
      " 0x00007fd333dab97a in _PyEval_EvalFrameDefault + 0x355a from /usr/lib/libpython3.10.so.1.0\n",
      " 0x00007fd333da7392 in <unknown> from /usr/lib/libpython3.10.so.1.0\n",
      " 0x00007fd333e5fc14 in PyEval_EvalCode + 0x94 from /usr/lib/libpython3.10.so.1.0\n",
      " 0x00007fd333e67671 in <unknown> from /usr/lib/libpython3.10.so.1.0\n",
      " 0x00007fd333db8940 in <unknown> from /usr/lib/libpython3.10.so.1.0\n",
      " 0x00007fd333da8769 in _PyEval_EvalFrameDefault + 0x349 from /usr/lib/libpython3.10.so.1.0\n",
      " 0x00007fd333de3940 in <unknown> from /usr/lib/libpython3.10.so.1.0\n",
      " 0x00007fd333da9aae in _PyEval_EvalFrameDefault + 0x168e from /usr/lib/libpython3.10.so.1.0\n",
      " 0x00007fd333de3940 in <unknown> from /usr/lib/libpython3.10.so.1.0\n",
      " 0x00007fd333da9aae in _PyEval_EvalFrameDefault + 0x168e from /usr/lib/libpython3.10.so.1.0\n",
      " 0x00007fd333de3940 in <unknown> from /usr/lib/libpython3.10.so.1.0\n",
      " 0x00007fd333e7ea1a in <unknown> from /usr/lib/libpython3.10.so.1.0\n",
      " 0x00007fd333dc202b in <unknown> from /usr/lib/libpython3.10.so.1.0\n",
      " 0x00007fd333da8a9b in _PyEval_EvalFrameDefault + 0x67b from /usr/lib/libpython3.10.so.1.0\n",
      " 0x00007fd333db873c in _PyFunction_Vectorcall + 0x7c from /usr/lib/libpython3.10.so.1.0\n",
      " 0x00007fd333da8769 in _PyEval_EvalFrameDefault + 0x349 from /usr/lib/libpython3.10.so.1.0\n",
      " 0x00007fd333db873c in _PyFunction_Vectorcall + 0x7c from /usr/lib/libpython3.10.so.1.0\n",
      " 0x00007fd333da8a9b in _PyEval_EvalFrameDefault + 0x67b from /usr/lib/libpython3.10.so.1.0\n",
      " 0x00007fd333dc3fc4 in <unknown> from /usr/lib/libpython3.10.so.1.0\n",
      " 0x00007fd333dc4a66 in PyObject_Call + 0x156 from /usr/lib/libpython3.10.so.1.0\n",
      " 0x00007fd333dab225 in _PyEval_EvalFrameDefault + 0x2e05 from /usr/lib/libpython3.10.so.1.0\n",
      " 0x00007fd333dc3fc4 in <unknown> from /usr/lib/libpython3.10.so.1.0\n",
      " 0x00007fd333da97d9 in _PyEval_EvalFrameDefault + 0x13b9 from /usr/lib/libpython3.10.so.1.0\n",
      " 0x00007fd333de3940 in <unknown> from /usr/lib/libpython3.10.so.1.0\n",
      " 0x00007fd333da9aae in _PyEval_EvalFrameDefault + 0x168e from /usr/lib/libpython3.10.so.1.0\n",
      " 0x00007fd333de3940 in <unknown> from /usr/lib/libpython3.10.so.1.0\n",
      " 0x00007fd333da9aae in _PyEval_EvalFrameDefault + 0x168e from /usr/lib/libpython3.10.so.1.0\n",
      " 0x00007fd333de3940 in <unknown> from /usr/lib/libpython3.10.so.1.0\n",
      " 0x00007fd333da9aae in _PyEval_EvalFrameDefault + 0x168e from /usr/lib/libpython3.10.so.1.0\n",
      " 0x00007fd333de3940 in <unknown> from /usr/lib/libpython3.10.so.1.0\n",
      " 0x00007fd333da9aae in _PyEval_EvalFrameDefault + 0x168e from /usr/lib/libpython3.10.so.1.0\n",
      " 0x00007fd333de3940 in <unknown> from /usr/lib/libpython3.10.so.1.0\n",
      " 0x00007fd332cbbad2 in <unknown> from /usr/lib/python3.10/lib-dynload/_asyncio.cpython-310-x86_64-linux-gnu.so\n",
      " 0x00007fd333db7d27 in <unknown> from /usr/lib/libpython3.10.so.1.0\n",
      " 0x00007fd333e62d31 in <unknown> from /usr/lib/libpython3.10.so.1.0\n",
      " 0x00007fd333d680cd in <unknown> from /usr/lib/libpython3.10.so.1.0\n",
      " 0x00007fd333db092f in <unknown> from /usr/lib/libpython3.10.so.1.0\n",
      " 0x00007fd333dae59b in _PyEval_EvalFrameDefault + 0x617b from /usr/lib/libpython3.10.so.1.0\n",
      " 0x00007fd333db873c in _PyFunction_Vectorcall + 0x7c from /usr/lib/libpython3.10.so.1.0\n",
      " 0x00007fd333da8a9b in _PyEval_EvalFrameDefault + 0x67b from /usr/lib/libpython3.10.so.1.0\n",
      " 0x00007fd333db873c in _PyFunction_Vectorcall + 0x7c from /usr/lib/libpython3.10.so.1.0\n",
      " 0x00007fd333da8a9b in _PyEval_EvalFrameDefault + 0x67b from /usr/lib/libpython3.10.so.1.0\n",
      " 0x00007fd333db873c in _PyFunction_Vectorcall + 0x7c from /usr/lib/libpython3.10.so.1.0\n",
      " 0x00007fd333da8a9b in _PyEval_EvalFrameDefault + 0x67b from /usr/lib/libpython3.10.so.1.0\n",
      " 0x00007fd333db873c in _PyFunction_Vectorcall + 0x7c from /usr/lib/libpython3.10.so.1.0\n",
      " 0x00007fd333da8a9b in _PyEval_EvalFrameDefault + 0x67b from /usr/lib/libpython3.10.so.1.0\n",
      " 0x00007fd333db873c in _PyFunction_Vectorcall + 0x7c from /usr/lib/libpython3.10.so.1.0\n",
      " 0x00007fd333da8a9b in _PyEval_EvalFrameDefault + 0x67b from /usr/lib/libpython3.10.so.1.0\n",
      " 0x00007fd333dc3fc4 in <unknown> from /usr/lib/libpython3.10.so.1.0\n",
      " 0x00007fd333dad4f1 in _PyEval_EvalFrameDefault + 0x50d1 from /usr/lib/libpython3.10.so.1.0\n",
      " 0x00007fd333da7392 in <unknown> from /usr/lib/libpython3.10.so.1.0\n",
      " 0x00007fd333e5fc14 in PyEval_EvalCode + 0x94 from /usr/lib/libpython3.10.so.1.0\n",
      " 0x00007fd333e67671 in <unknown> from /usr/lib/libpython3.10.so.1.0\n",
      " 0x00007fd333db8940 in <unknown> from /usr/lib/libpython3.10.so.1.0\n",
      " 0x00007fd333da8769 in _PyEval_EvalFrameDefault + 0x349 from /usr/lib/libpython3.10.so.1.0\n",
      " 0x00007fd333db873c in _PyFunction_Vectorcall + 0x7c from /usr/lib/libpython3.10.so.1.0\n",
      " 0x00007fd333da8769 in _PyEval_EvalFrameDefault + 0x349 from /usr/lib/libpython3.10.so.1.0\n",
      " 0x00007fd333db873c in _PyFunction_Vectorcall + 0x7c from /usr/lib/libpython3.10.so.1.0\n",
      " 0x00007fd333e84d68 in <unknown> from /usr/lib/libpython3.10.so.1.0\n",
      " 0x00007fd333e7d120 in Py_RunMain + 0x200 from /usr/lib/libpython3.10.so.1.0\n",
      " 0x00007fd333e5069d in Py_BytesMain + 0x3d from /usr/lib/libpython3.10.so.1.0\n",
      " 0x00007fd333a8b310 in <unknown> from /usr/lib/libc.so.6\n",
      " 0x00007fd333a8b3c1 in __libc_start_main at :? from /usr/lib/libc.so.6\n",
      " 0x000056020cc3e04e in _start + 0x2e from /usr/bin/python\n",
      "Error in <TFitResultPtr>: TFitResult is empty - use the fit option S\n",
      " *** Break *** abort\n",
      " Generating stack trace...\n",
      " 0x00007fd333aa04b8 in raise at :? from /usr/lib/libc.so.6\n",
      " 0x00007fd333a8a534 in abort at :? from /usr/lib/libc.so.6\n",
      " 0x00007fd2c73260be in TFitResultPtr::operator*() const + 0x5e from /usr/lib/root/libHist.so\n",
      " 0x00007fd2cc67a024 in <unknown function>\n",
      " 0x00007fd2df0b7f47 in <unknown> from /usr/lib/root/libcppyy_backend3_10.so\n",
      " 0x00007fd2df0b9534 in Cppyy::CallR(long, void*, unsigned long, void*) + 0x34 from /usr/lib/root/libcppyy_backend3_10.so\n",
      " 0x00007fd2df17b9e4 in <unknown> from /usr/lib/python3.10/site-packages/libcppyy3_10.so\n",
      " 0x00007fd2df1612a6 in <unknown> from /usr/lib/python3.10/site-packages/libcppyy3_10.so\n",
      " 0x00007fd2df163dc0 in CPyCppyy::CPPMethod::ExecuteProtected(void*, long, CPyCppyy::CallContext*) + 0x120 from /usr/lib/python3.10/site-packages/libcppyy3_10.so\n",
      " 0x00007fd2df1624ef in CPyCppyy::CPPMethod::Execute(void*, long, CPyCppyy::CallContext*) + 0x2f from /usr/lib/python3.10/site-packages/libcppyy3_10.so\n",
      " 0x00007fd2df162841 in CPyCppyy::CPPMethod::Call(CPyCppyy::CPPInstance*&, _object*, _object*, CPyCppyy::CallContext*) + 0xb1 from /usr/lib/python3.10/site-packages/libcppyy3_10.so\n",
      " 0x00007fd2df1677e7 in <unknown> from /usr/lib/python3.10/site-packages/libcppyy3_10.so\n",
      " 0x00007fd333db27cb in _PyObject_MakeTpCall + 0x2ab from /usr/lib/libpython3.10.so.1.0\n",
      " 0x00007fd333db81eb in <unknown> from /usr/lib/libpython3.10.so.1.0\n",
      " 0x00007fd333e83a2b in PyObject_CallMethodObjArgs + 0xfb from /usr/lib/libpython3.10.so.1.0\n",
      " 0x00007fd2df1907e9 in <unknown> from /usr/lib/python3.10/site-packages/libcppyy3_10.so\n",
      " 0x00007fd333db7d27 in <unknown> from /usr/lib/libpython3.10.so.1.0\n",
      " 0x00007fd2df171a8a in <unknown> from /usr/lib/python3.10/site-packages/libcppyy3_10.so\n",
      " 0x00007fd333db27cb in _PyObject_MakeTpCall + 0x2ab from /usr/lib/libpython3.10.so.1.0\n",
      " 0x00007fd333e094cf in <unknown> from /usr/lib/libpython3.10.so.1.0\n",
      " 0x00007fd333e8185e in <unknown> from /usr/lib/libpython3.10.so.1.0\n",
      " 0x00007fd333e18e6c in <unknown> from /usr/lib/libpython3.10.so.1.0\n",
      " 0x00007fd333db8b81 in <unknown> from /usr/lib/libpython3.10.so.1.0\n",
      " 0x00007fd333db8940 in <unknown> from /usr/lib/libpython3.10.so.1.0\n",
      " 0x00007fd333da8769 in _PyEval_EvalFrameDefault + 0x349 from /usr/lib/libpython3.10.so.1.0\n",
      " 0x00007fd333db873c in _PyFunction_Vectorcall + 0x7c from /usr/lib/libpython3.10.so.1.0\n",
      " 0x00007fd333da8769 in _PyEval_EvalFrameDefault + 0x349 from /usr/lib/libpython3.10.so.1.0\n",
      " 0x00007fd333db873c in _PyFunction_Vectorcall + 0x7c from /usr/lib/libpython3.10.so.1.0\n",
      " 0x00007fd333dab225 in _PyEval_EvalFrameDefault + 0x2e05 from /usr/lib/libpython3.10.so.1.0\n",
      " 0x00007fd333db873c in _PyFunction_Vectorcall + 0x7c from /usr/lib/libpython3.10.so.1.0\n",
      " 0x00007fd333dab225 in _PyEval_EvalFrameDefault + 0x2e05 from /usr/lib/libpython3.10.so.1.0\n",
      " 0x00007fd333db1a68 in _PyObject_FastCallDictTstate + 0xd8 from /usr/lib/libpython3.10.so.1.0\n",
      " 0x00007fd333dc160d in _PyObject_Call_Prepend + 0x6d from /usr/lib/libpython3.10.so.1.0\n",
      " 0x00007fd333e996a2 in <unknown> from /usr/lib/libpython3.10.so.1.0\n",
      " 0x00007fd333db27cb in _PyObject_MakeTpCall + 0x2ab from /usr/lib/libpython3.10.so.1.0\n",
      " 0x00007fd333dad7bc in _PyEval_EvalFrameDefault + 0x539c from /usr/lib/libpython3.10.so.1.0\n",
      " 0x00007fd333db873c in _PyFunction_Vectorcall + 0x7c from /usr/lib/libpython3.10.so.1.0\n",
      " 0x00007fd333da8a9b in _PyEval_EvalFrameDefault + 0x67b from /usr/lib/libpython3.10.so.1.0\n",
      " 0x00007fd333db873c in _PyFunction_Vectorcall + 0x7c from /usr/lib/libpython3.10.so.1.0\n",
      " 0x00007fd333da8a9b in _PyEval_EvalFrameDefault + 0x67b from /usr/lib/libpython3.10.so.1.0\n",
      " 0x00007fd333db1a68 in _PyObject_FastCallDictTstate + 0xd8 from /usr/lib/libpython3.10.so.1.0\n",
      " 0x00007fd333dc160d in _PyObject_Call_Prepend + 0x6d from /usr/lib/libpython3.10.so.1.0\n",
      " 0x00007fd333e996a2 in <unknown> from /usr/lib/libpython3.10.so.1.0\n",
      " 0x00007fd333db27cb in _PyObject_MakeTpCall + 0x2ab from /usr/lib/libpython3.10.so.1.0\n",
      " 0x00007fd333e66def in <unknown> from /usr/lib/libpython3.10.so.1.0\n",
      " 0x00007fd333dab97a in _PyEval_EvalFrameDefault + 0x355a from /usr/lib/libpython3.10.so.1.0\n",
      " 0x00007fd333da7392 in <unknown> from /usr/lib/libpython3.10.so.1.0\n",
      " 0x00007fd333e5fc14 in PyEval_EvalCode + 0x94 from /usr/lib/libpython3.10.so.1.0\n",
      " 0x00007fd333e67671 in <unknown> from /usr/lib/libpython3.10.so.1.0\n",
      " 0x00007fd333db8940 in <unknown> from /usr/lib/libpython3.10.so.1.0\n",
      " 0x00007fd333da8769 in _PyEval_EvalFrameDefault + 0x349 from /usr/lib/libpython3.10.so.1.0\n",
      " 0x00007fd333de3940 in <unknown> from /usr/lib/libpython3.10.so.1.0\n",
      " 0x00007fd333da9aae in _PyEval_EvalFrameDefault + 0x168e from /usr/lib/libpython3.10.so.1.0\n",
      " 0x00007fd333de3940 in <unknown> from /usr/lib/libpython3.10.so.1.0\n",
      " 0x00007fd333da9aae in _PyEval_EvalFrameDefault + 0x168e from /usr/lib/libpython3.10.so.1.0\n",
      " 0x00007fd333de3940 in <unknown> from /usr/lib/libpython3.10.so.1.0\n",
      " 0x00007fd333e7ea1a in <unknown> from /usr/lib/libpython3.10.so.1.0\n",
      " 0x00007fd333dc202b in <unknown> from /usr/lib/libpython3.10.so.1.0\n",
      " 0x00007fd333da8a9b in _PyEval_EvalFrameDefault + 0x67b from /usr/lib/libpython3.10.so.1.0\n",
      " 0x00007fd333db873c in _PyFunction_Vectorcall + 0x7c from /usr/lib/libpython3.10.so.1.0\n",
      " 0x00007fd333da8769 in _PyEval_EvalFrameDefault + 0x349 from /usr/lib/libpython3.10.so.1.0\n",
      " 0x00007fd333db873c in _PyFunction_Vectorcall + 0x7c from /usr/lib/libpython3.10.so.1.0\n",
      " 0x00007fd333da8a9b in _PyEval_EvalFrameDefault + 0x67b from /usr/lib/libpython3.10.so.1.0\n",
      " 0x00007fd333dc3fc4 in <unknown> from /usr/lib/libpython3.10.so.1.0\n",
      " 0x00007fd333dc4a66 in PyObject_Call + 0x156 from /usr/lib/libpython3.10.so.1.0\n",
      " 0x00007fd333dab225 in _PyEval_EvalFrameDefault + 0x2e05 from /usr/lib/libpython3.10.so.1.0\n",
      " 0x00007fd333dc3fc4 in <unknown> from /usr/lib/libpython3.10.so.1.0\n",
      " 0x00007fd333da97d9 in _PyEval_EvalFrameDefault + 0x13b9 from /usr/lib/libpython3.10.so.1.0\n",
      " 0x00007fd333de3940 in <unknown> from /usr/lib/libpython3.10.so.1.0\n",
      " 0x00007fd333da9aae in _PyEval_EvalFrameDefault + 0x168e from /usr/lib/libpython3.10.so.1.0\n",
      " 0x00007fd333de3940 in <unknown> from /usr/lib/libpython3.10.so.1.0\n",
      " 0x00007fd333da9aae in _PyEval_EvalFrameDefault + 0x168e from /usr/lib/libpython3.10.so.1.0\n",
      " 0x00007fd333de3940 in <unknown> from /usr/lib/libpython3.10.so.1.0\n",
      " 0x00007fd333da9aae in _PyEval_EvalFrameDefault + 0x168e from /usr/lib/libpython3.10.so.1.0\n",
      " 0x00007fd333de3940 in <unknown> from /usr/lib/libpython3.10.so.1.0\n",
      " 0x00007fd333da9aae in _PyEval_EvalFrameDefault + 0x168e from /usr/lib/libpython3.10.so.1.0\n",
      " 0x00007fd333de3940 in <unknown> from /usr/lib/libpython3.10.so.1.0\n",
      " 0x00007fd332cbbad2 in <unknown> from /usr/lib/python3.10/lib-dynload/_asyncio.cpython-310-x86_64-linux-gnu.so\n",
      " 0x00007fd333db7d27 in <unknown> from /usr/lib/libpython3.10.so.1.0\n",
      " 0x00007fd333e62d31 in <unknown> from /usr/lib/libpython3.10.so.1.0\n",
      " 0x00007fd333d680cd in <unknown> from /usr/lib/libpython3.10.so.1.0\n",
      " 0x00007fd333db092f in <unknown> from /usr/lib/libpython3.10.so.1.0\n",
      " 0x00007fd333dae59b in _PyEval_EvalFrameDefault + 0x617b from /usr/lib/libpython3.10.so.1.0\n",
      " 0x00007fd333db873c in _PyFunction_Vectorcall + 0x7c from /usr/lib/libpython3.10.so.1.0\n",
      " 0x00007fd333da8a9b in _PyEval_EvalFrameDefault + 0x67b from /usr/lib/libpython3.10.so.1.0\n",
      " 0x00007fd333db873c in _PyFunction_Vectorcall + 0x7c from /usr/lib/libpython3.10.so.1.0\n",
      " 0x00007fd333da8a9b in _PyEval_EvalFrameDefault + 0x67b from /usr/lib/libpython3.10.so.1.0\n",
      " 0x00007fd333db873c in _PyFunction_Vectorcall + 0x7c from /usr/lib/libpython3.10.so.1.0\n",
      " 0x00007fd333da8a9b in _PyEval_EvalFrameDefault + 0x67b from /usr/lib/libpython3.10.so.1.0\n",
      " 0x00007fd333db873c in _PyFunction_Vectorcall + 0x7c from /usr/lib/libpython3.10.so.1.0\n",
      " 0x00007fd333da8a9b in _PyEval_EvalFrameDefault + 0x67b from /usr/lib/libpython3.10.so.1.0\n",
      " 0x00007fd333db873c in _PyFunction_Vectorcall + 0x7c from /usr/lib/libpython3.10.so.1.0\n",
      " 0x00007fd333da8a9b in _PyEval_EvalFrameDefault + 0x67b from /usr/lib/libpython3.10.so.1.0\n",
      " 0x00007fd333dc3fc4 in <unknown> from /usr/lib/libpython3.10.so.1.0\n",
      " 0x00007fd333dad4f1 in _PyEval_EvalFrameDefault + 0x50d1 from /usr/lib/libpython3.10.so.1.0\n",
      " 0x00007fd333da7392 in <unknown> from /usr/lib/libpython3.10.so.1.0\n",
      " 0x00007fd333e5fc14 in PyEval_EvalCode + 0x94 from /usr/lib/libpython3.10.so.1.0\n",
      " 0x00007fd333e67671 in <unknown> from /usr/lib/libpython3.10.so.1.0\n",
      " 0x00007fd333db8940 in <unknown> from /usr/lib/libpython3.10.so.1.0\n",
      " 0x00007fd333da8769 in _PyEval_EvalFrameDefault + 0x349 from /usr/lib/libpython3.10.so.1.0\n",
      " 0x00007fd333db873c in _PyFunction_Vectorcall + 0x7c from /usr/lib/libpython3.10.so.1.0\n",
      " 0x00007fd333da8769 in _PyEval_EvalFrameDefault + 0x349 from /usr/lib/libpython3.10.so.1.0\n",
      " 0x00007fd333db873c in _PyFunction_Vectorcall + 0x7c from /usr/lib/libpython3.10.so.1.0\n",
      " 0x00007fd333e84d68 in <unknown> from /usr/lib/libpython3.10.so.1.0\n",
      " 0x00007fd333e7d120 in Py_RunMain + 0x200 from /usr/lib/libpython3.10.so.1.0\n",
      " 0x00007fd333e5069d in Py_BytesMain + 0x3d from /usr/lib/libpython3.10.so.1.0\n",
      " 0x00007fd333a8b310 in <unknown> from /usr/lib/libc.so.6\n",
      " 0x00007fd333a8b3c1 in __libc_start_main at :? from /usr/lib/libc.so.6\n",
      " 0x000056020cc3e04e in _start + 0x2e from /usr/bin/python\n",
      "Error in <TFitResultPtr>: TFitResult is empty - use the fit option S\n",
      " *** Break *** abort\n",
      " Generating stack trace...\n",
      " 0x00007fd333aa04b8 in raise at :? from /usr/lib/libc.so.6\n",
      " 0x00007fd333a8a534 in abort at :? from /usr/lib/libc.so.6\n",
      " 0x00007fd2c73260be in TFitResultPtr::operator*() const + 0x5e from /usr/lib/root/libHist.so\n",
      " 0x00007fd2cc67a024 in <unknown function>\n",
      " 0x00007fd2df0b7f47 in <unknown> from /usr/lib/root/libcppyy_backend3_10.so\n",
      " 0x00007fd2df0b9534 in Cppyy::CallR(long, void*, unsigned long, void*) + 0x34 from /usr/lib/root/libcppyy_backend3_10.so\n",
      " 0x00007fd2df17b9e4 in <unknown> from /usr/lib/python3.10/site-packages/libcppyy3_10.so\n",
      " 0x00007fd2df1612a6 in <unknown> from /usr/lib/python3.10/site-packages/libcppyy3_10.so\n",
      " 0x00007fd2df163dc0 in CPyCppyy::CPPMethod::ExecuteProtected(void*, long, CPyCppyy::CallContext*) + 0x120 from /usr/lib/python3.10/site-packages/libcppyy3_10.so\n",
      " 0x00007fd2df1624ef in CPyCppyy::CPPMethod::Execute(void*, long, CPyCppyy::CallContext*) + 0x2f from /usr/lib/python3.10/site-packages/libcppyy3_10.so\n",
      " 0x00007fd2df162841 in CPyCppyy::CPPMethod::Call(CPyCppyy::CPPInstance*&, _object*, _object*, CPyCppyy::CallContext*) + 0xb1 from /usr/lib/python3.10/site-packages/libcppyy3_10.so\n",
      " 0x00007fd2df1677e7 in <unknown> from /usr/lib/python3.10/site-packages/libcppyy3_10.so\n",
      " 0x00007fd333db27cb in _PyObject_MakeTpCall + 0x2ab from /usr/lib/libpython3.10.so.1.0\n",
      " 0x00007fd333db81eb in <unknown> from /usr/lib/libpython3.10.so.1.0\n",
      " 0x00007fd333e83a2b in PyObject_CallMethodObjArgs + 0xfb from /usr/lib/libpython3.10.so.1.0\n",
      " 0x00007fd2df1907e9 in <unknown> from /usr/lib/python3.10/site-packages/libcppyy3_10.so\n",
      " 0x00007fd333db7d27 in <unknown> from /usr/lib/libpython3.10.so.1.0\n",
      " 0x00007fd2df171a8a in <unknown> from /usr/lib/python3.10/site-packages/libcppyy3_10.so\n",
      " 0x00007fd333db27cb in _PyObject_MakeTpCall + 0x2ab from /usr/lib/libpython3.10.so.1.0\n",
      " 0x00007fd333e094cf in <unknown> from /usr/lib/libpython3.10.so.1.0\n",
      " 0x00007fd333e8185e in <unknown> from /usr/lib/libpython3.10.so.1.0\n",
      " 0x00007fd333e18e6c in <unknown> from /usr/lib/libpython3.10.so.1.0\n",
      " 0x00007fd333db8b81 in <unknown> from /usr/lib/libpython3.10.so.1.0\n",
      " 0x00007fd333db8940 in <unknown> from /usr/lib/libpython3.10.so.1.0\n",
      " 0x00007fd333da8769 in _PyEval_EvalFrameDefault + 0x349 from /usr/lib/libpython3.10.so.1.0\n",
      " 0x00007fd333db873c in _PyFunction_Vectorcall + 0x7c from /usr/lib/libpython3.10.so.1.0\n",
      " 0x00007fd333da8769 in _PyEval_EvalFrameDefault + 0x349 from /usr/lib/libpython3.10.so.1.0\n",
      " 0x00007fd333db873c in _PyFunction_Vectorcall + 0x7c from /usr/lib/libpython3.10.so.1.0\n",
      " 0x00007fd333dab225 in _PyEval_EvalFrameDefault + 0x2e05 from /usr/lib/libpython3.10.so.1.0\n",
      " 0x00007fd333db873c in _PyFunction_Vectorcall + 0x7c from /usr/lib/libpython3.10.so.1.0\n",
      " 0x00007fd333dab225 in _PyEval_EvalFrameDefault + 0x2e05 from /usr/lib/libpython3.10.so.1.0\n",
      " 0x00007fd333db1a68 in _PyObject_FastCallDictTstate + 0xd8 from /usr/lib/libpython3.10.so.1.0\n",
      " 0x00007fd333dc160d in _PyObject_Call_Prepend + 0x6d from /usr/lib/libpython3.10.so.1.0\n",
      " 0x00007fd333e996a2 in <unknown> from /usr/lib/libpython3.10.so.1.0\n",
      " 0x00007fd333db27cb in _PyObject_MakeTpCall + 0x2ab from /usr/lib/libpython3.10.so.1.0\n",
      " 0x00007fd333dad7bc in _PyEval_EvalFrameDefault + 0x539c from /usr/lib/libpython3.10.so.1.0\n",
      " 0x00007fd333db873c in _PyFunction_Vectorcall + 0x7c from /usr/lib/libpython3.10.so.1.0\n",
      " 0x00007fd333da8a9b in _PyEval_EvalFrameDefault + 0x67b from /usr/lib/libpython3.10.so.1.0\n",
      " 0x00007fd333db873c in _PyFunction_Vectorcall + 0x7c from /usr/lib/libpython3.10.so.1.0\n",
      " 0x00007fd333da8a9b in _PyEval_EvalFrameDefault + 0x67b from /usr/lib/libpython3.10.so.1.0\n",
      " 0x00007fd333db1a68 in _PyObject_FastCallDictTstate + 0xd8 from /usr/lib/libpython3.10.so.1.0\n",
      " 0x00007fd333dc160d in _PyObject_Call_Prepend + 0x6d from /usr/lib/libpython3.10.so.1.0\n",
      " 0x00007fd333e996a2 in <unknown> from /usr/lib/libpython3.10.so.1.0\n",
      " 0x00007fd333db27cb in _PyObject_MakeTpCall + 0x2ab from /usr/lib/libpython3.10.so.1.0\n",
      " 0x00007fd333e66def in <unknown> from /usr/lib/libpython3.10.so.1.0\n",
      " 0x00007fd333dab97a in _PyEval_EvalFrameDefault + 0x355a from /usr/lib/libpython3.10.so.1.0\n",
      " 0x00007fd333da7392 in <unknown> from /usr/lib/libpython3.10.so.1.0\n",
      " 0x00007fd333e5fc14 in PyEval_EvalCode + 0x94 from /usr/lib/libpython3.10.so.1.0\n",
      " 0x00007fd333e67671 in <unknown> from /usr/lib/libpython3.10.so.1.0\n",
      " 0x00007fd333db8940 in <unknown> from /usr/lib/libpython3.10.so.1.0\n",
      " 0x00007fd333da8769 in _PyEval_EvalFrameDefault + 0x349 from /usr/lib/libpython3.10.so.1.0\n",
      " 0x00007fd333de3940 in <unknown> from /usr/lib/libpython3.10.so.1.0\n",
      " 0x00007fd333da9aae in _PyEval_EvalFrameDefault + 0x168e from /usr/lib/libpython3.10.so.1.0\n",
      " 0x00007fd333de3940 in <unknown> from /usr/lib/libpython3.10.so.1.0\n",
      " 0x00007fd333da9aae in _PyEval_EvalFrameDefault + 0x168e from /usr/lib/libpython3.10.so.1.0\n",
      " 0x00007fd333de3940 in <unknown> from /usr/lib/libpython3.10.so.1.0\n",
      " 0x00007fd333e7ea1a in <unknown> from /usr/lib/libpython3.10.so.1.0\n",
      " 0x00007fd333dc202b in <unknown> from /usr/lib/libpython3.10.so.1.0\n",
      " 0x00007fd333da8a9b in _PyEval_EvalFrameDefault + 0x67b from /usr/lib/libpython3.10.so.1.0\n",
      " 0x00007fd333db873c in _PyFunction_Vectorcall + 0x7c from /usr/lib/libpython3.10.so.1.0\n",
      " 0x00007fd333da8769 in _PyEval_EvalFrameDefault + 0x349 from /usr/lib/libpython3.10.so.1.0\n",
      " 0x00007fd333db873c in _PyFunction_Vectorcall + 0x7c from /usr/lib/libpython3.10.so.1.0\n",
      " 0x00007fd333da8a9b in _PyEval_EvalFrameDefault + 0x67b from /usr/lib/libpython3.10.so.1.0\n",
      " 0x00007fd333dc3fc4 in <unknown> from /usr/lib/libpython3.10.so.1.0\n",
      " 0x00007fd333dc4a66 in PyObject_Call + 0x156 from /usr/lib/libpython3.10.so.1.0\n",
      " 0x00007fd333dab225 in _PyEval_EvalFrameDefault + 0x2e05 from /usr/lib/libpython3.10.so.1.0\n",
      " 0x00007fd333dc3fc4 in <unknown> from /usr/lib/libpython3.10.so.1.0\n",
      " 0x00007fd333da97d9 in _PyEval_EvalFrameDefault + 0x13b9 from /usr/lib/libpython3.10.so.1.0\n",
      " 0x00007fd333de3940 in <unknown> from /usr/lib/libpython3.10.so.1.0\n",
      " 0x00007fd333da9aae in _PyEval_EvalFrameDefault + 0x168e from /usr/lib/libpython3.10.so.1.0\n",
      " 0x00007fd333de3940 in <unknown> from /usr/lib/libpython3.10.so.1.0\n",
      " 0x00007fd333da9aae in _PyEval_EvalFrameDefault + 0x168e from /usr/lib/libpython3.10.so.1.0\n",
      " 0x00007fd333de3940 in <unknown> from /usr/lib/libpython3.10.so.1.0\n",
      " 0x00007fd333da9aae in _PyEval_EvalFrameDefault + 0x168e from /usr/lib/libpython3.10.so.1.0\n",
      " 0x00007fd333de3940 in <unknown> from /usr/lib/libpython3.10.so.1.0\n",
      " 0x00007fd333da9aae in _PyEval_EvalFrameDefault + 0x168e from /usr/lib/libpython3.10.so.1.0\n",
      " 0x00007fd333de3940 in <unknown> from /usr/lib/libpython3.10.so.1.0\n",
      " 0x00007fd332cbbad2 in <unknown> from /usr/lib/python3.10/lib-dynload/_asyncio.cpython-310-x86_64-linux-gnu.so\n",
      " 0x00007fd333db7d27 in <unknown> from /usr/lib/libpython3.10.so.1.0\n",
      " 0x00007fd333e62d31 in <unknown> from /usr/lib/libpython3.10.so.1.0\n",
      " 0x00007fd333d680cd in <unknown> from /usr/lib/libpython3.10.so.1.0\n",
      " 0x00007fd333db092f in <unknown> from /usr/lib/libpython3.10.so.1.0\n",
      " 0x00007fd333dae59b in _PyEval_EvalFrameDefault + 0x617b from /usr/lib/libpython3.10.so.1.0\n",
      " 0x00007fd333db873c in _PyFunction_Vectorcall + 0x7c from /usr/lib/libpython3.10.so.1.0\n",
      " 0x00007fd333da8a9b in _PyEval_EvalFrameDefault + 0x67b from /usr/lib/libpython3.10.so.1.0\n",
      " 0x00007fd333db873c in _PyFunction_Vectorcall + 0x7c from /usr/lib/libpython3.10.so.1.0\n",
      " 0x00007fd333da8a9b in _PyEval_EvalFrameDefault + 0x67b from /usr/lib/libpython3.10.so.1.0\n",
      " 0x00007fd333db873c in _PyFunction_Vectorcall + 0x7c from /usr/lib/libpython3.10.so.1.0\n",
      " 0x00007fd333da8a9b in _PyEval_EvalFrameDefault + 0x67b from /usr/lib/libpython3.10.so.1.0\n",
      " 0x00007fd333db873c in _PyFunction_Vectorcall + 0x7c from /usr/lib/libpython3.10.so.1.0\n",
      " 0x00007fd333da8a9b in _PyEval_EvalFrameDefault + 0x67b from /usr/lib/libpython3.10.so.1.0\n",
      " 0x00007fd333db873c in _PyFunction_Vectorcall + 0x7c from /usr/lib/libpython3.10.so.1.0\n",
      " 0x00007fd333da8a9b in _PyEval_EvalFrameDefault + 0x67b from /usr/lib/libpython3.10.so.1.0\n",
      " 0x00007fd333dc3fc4 in <unknown> from /usr/lib/libpython3.10.so.1.0\n",
      " 0x00007fd333dad4f1 in _PyEval_EvalFrameDefault + 0x50d1 from /usr/lib/libpython3.10.so.1.0\n",
      " 0x00007fd333da7392 in <unknown> from /usr/lib/libpython3.10.so.1.0\n",
      " 0x00007fd333e5fc14 in PyEval_EvalCode + 0x94 from /usr/lib/libpython3.10.so.1.0\n",
      " 0x00007fd333e67671 in <unknown> from /usr/lib/libpython3.10.so.1.0\n",
      " 0x00007fd333db8940 in <unknown> from /usr/lib/libpython3.10.so.1.0\n",
      " 0x00007fd333da8769 in _PyEval_EvalFrameDefault + 0x349 from /usr/lib/libpython3.10.so.1.0\n",
      " 0x00007fd333db873c in _PyFunction_Vectorcall + 0x7c from /usr/lib/libpython3.10.so.1.0\n",
      " 0x00007fd333da8769 in _PyEval_EvalFrameDefault + 0x349 from /usr/lib/libpython3.10.so.1.0\n",
      " 0x00007fd333db873c in _PyFunction_Vectorcall + 0x7c from /usr/lib/libpython3.10.so.1.0\n",
      " 0x00007fd333e84d68 in <unknown> from /usr/lib/libpython3.10.so.1.0\n",
      " 0x00007fd333e7d120 in Py_RunMain + 0x200 from /usr/lib/libpython3.10.so.1.0\n",
      " 0x00007fd333e5069d in Py_BytesMain + 0x3d from /usr/lib/libpython3.10.so.1.0\n",
      " 0x00007fd333a8b310 in <unknown> from /usr/lib/libc.so.6\n",
      " 0x00007fd333a8b3c1 in __libc_start_main at :? from /usr/lib/libc.so.6\n",
      " 0x000056020cc3e04e in _start + 0x2e from /usr/bin/python\n",
      "Error in <TFitResultPtr>: TFitResult is empty - use the fit option S\n",
      " *** Break *** abort\n",
      " Generating stack trace...\n",
      " 0x00007fd333aa04b8 in raise at :? from /usr/lib/libc.so.6\n",
      " 0x00007fd333a8a534 in abort at :? from /usr/lib/libc.so.6\n",
      " 0x00007fd2c73260be in TFitResultPtr::operator*() const + 0x5e from /usr/lib/root/libHist.so\n",
      " 0x00007fd2cc67a024 in <unknown function>\n",
      " 0x00007fd2df0b7f47 in <unknown> from /usr/lib/root/libcppyy_backend3_10.so\n",
      " 0x00007fd2df0b9534 in Cppyy::CallR(long, void*, unsigned long, void*) + 0x34 from /usr/lib/root/libcppyy_backend3_10.so\n",
      " 0x00007fd2df17b9e4 in <unknown> from /usr/lib/python3.10/site-packages/libcppyy3_10.so\n",
      " 0x00007fd2df1612a6 in <unknown> from /usr/lib/python3.10/site-packages/libcppyy3_10.so\n",
      " 0x00007fd2df163dc0 in CPyCppyy::CPPMethod::ExecuteProtected(void*, long, CPyCppyy::CallContext*) + 0x120 from /usr/lib/python3.10/site-packages/libcppyy3_10.so\n",
      " 0x00007fd2df1624ef in CPyCppyy::CPPMethod::Execute(void*, long, CPyCppyy::CallContext*) + 0x2f from /usr/lib/python3.10/site-packages/libcppyy3_10.so\n",
      " 0x00007fd2df162841 in CPyCppyy::CPPMethod::Call(CPyCppyy::CPPInstance*&, _object*, _object*, CPyCppyy::CallContext*) + 0xb1 from /usr/lib/python3.10/site-packages/libcppyy3_10.so\n",
      " 0x00007fd2df1677e7 in <unknown> from /usr/lib/python3.10/site-packages/libcppyy3_10.so\n",
      " 0x00007fd333db27cb in _PyObject_MakeTpCall + 0x2ab from /usr/lib/libpython3.10.so.1.0\n",
      " 0x00007fd333db81eb in <unknown> from /usr/lib/libpython3.10.so.1.0\n",
      " 0x00007fd333e83a2b in PyObject_CallMethodObjArgs + 0xfb from /usr/lib/libpython3.10.so.1.0\n",
      " 0x00007fd2df1907e9 in <unknown> from /usr/lib/python3.10/site-packages/libcppyy3_10.so\n",
      " 0x00007fd333db7d27 in <unknown> from /usr/lib/libpython3.10.so.1.0\n",
      " 0x00007fd2df171a8a in <unknown> from /usr/lib/python3.10/site-packages/libcppyy3_10.so\n",
      " 0x00007fd333db27cb in _PyObject_MakeTpCall + 0x2ab from /usr/lib/libpython3.10.so.1.0\n",
      " 0x00007fd333e094cf in <unknown> from /usr/lib/libpython3.10.so.1.0\n",
      " 0x00007fd333e8185e in <unknown> from /usr/lib/libpython3.10.so.1.0\n",
      " 0x00007fd333e18e6c in <unknown> from /usr/lib/libpython3.10.so.1.0\n",
      " 0x00007fd333db8b81 in <unknown> from /usr/lib/libpython3.10.so.1.0\n",
      " 0x00007fd333db8940 in <unknown> from /usr/lib/libpython3.10.so.1.0\n",
      " 0x00007fd333da8769 in _PyEval_EvalFrameDefault + 0x349 from /usr/lib/libpython3.10.so.1.0\n",
      " 0x00007fd333db873c in _PyFunction_Vectorcall + 0x7c from /usr/lib/libpython3.10.so.1.0\n",
      " 0x00007fd333da8769 in _PyEval_EvalFrameDefault + 0x349 from /usr/lib/libpython3.10.so.1.0\n",
      " 0x00007fd333db873c in _PyFunction_Vectorcall + 0x7c from /usr/lib/libpython3.10.so.1.0\n",
      " 0x00007fd333dab225 in _PyEval_EvalFrameDefault + 0x2e05 from /usr/lib/libpython3.10.so.1.0\n",
      " 0x00007fd333db873c in _PyFunction_Vectorcall + 0x7c from /usr/lib/libpython3.10.so.1.0\n",
      " 0x00007fd333dab225 in _PyEval_EvalFrameDefault + 0x2e05 from /usr/lib/libpython3.10.so.1.0\n",
      " 0x00007fd333db1a68 in _PyObject_FastCallDictTstate + 0xd8 from /usr/lib/libpython3.10.so.1.0\n",
      " 0x00007fd333dc160d in _PyObject_Call_Prepend + 0x6d from /usr/lib/libpython3.10.so.1.0\n",
      " 0x00007fd333e996a2 in <unknown> from /usr/lib/libpython3.10.so.1.0\n",
      " 0x00007fd333db27cb in _PyObject_MakeTpCall + 0x2ab from /usr/lib/libpython3.10.so.1.0\n",
      " 0x00007fd333dad7bc in _PyEval_EvalFrameDefault + 0x539c from /usr/lib/libpython3.10.so.1.0\n",
      " 0x00007fd333db873c in _PyFunction_Vectorcall + 0x7c from /usr/lib/libpython3.10.so.1.0\n",
      " 0x00007fd333da8a9b in _PyEval_EvalFrameDefault + 0x67b from /usr/lib/libpython3.10.so.1.0\n",
      " 0x00007fd333db873c in _PyFunction_Vectorcall + 0x7c from /usr/lib/libpython3.10.so.1.0\n",
      " 0x00007fd333da8a9b in _PyEval_EvalFrameDefault + 0x67b from /usr/lib/libpython3.10.so.1.0\n",
      " 0x00007fd333db1a68 in _PyObject_FastCallDictTstate + 0xd8 from /usr/lib/libpython3.10.so.1.0\n",
      " 0x00007fd333dc160d in _PyObject_Call_Prepend + 0x6d from /usr/lib/libpython3.10.so.1.0\n",
      " 0x00007fd333e996a2 in <unknown> from /usr/lib/libpython3.10.so.1.0\n",
      " 0x00007fd333db27cb in _PyObject_MakeTpCall + 0x2ab from /usr/lib/libpython3.10.so.1.0\n",
      " 0x00007fd333e66def in <unknown> from /usr/lib/libpython3.10.so.1.0\n",
      " 0x00007fd333dab97a in _PyEval_EvalFrameDefault + 0x355a from /usr/lib/libpython3.10.so.1.0\n",
      " 0x00007fd333da7392 in <unknown> from /usr/lib/libpython3.10.so.1.0\n",
      " 0x00007fd333e5fc14 in PyEval_EvalCode + 0x94 from /usr/lib/libpython3.10.so.1.0\n",
      " 0x00007fd333e67671 in <unknown> from /usr/lib/libpython3.10.so.1.0\n",
      " 0x00007fd333db8940 in <unknown> from /usr/lib/libpython3.10.so.1.0\n",
      " 0x00007fd333da8769 in _PyEval_EvalFrameDefault + 0x349 from /usr/lib/libpython3.10.so.1.0\n",
      " 0x00007fd333de3940 in <unknown> from /usr/lib/libpython3.10.so.1.0\n",
      " 0x00007fd333da9aae in _PyEval_EvalFrameDefault + 0x168e from /usr/lib/libpython3.10.so.1.0\n",
      " 0x00007fd333de3940 in <unknown> from /usr/lib/libpython3.10.so.1.0\n",
      " 0x00007fd333da9aae in _PyEval_EvalFrameDefault + 0x168e from /usr/lib/libpython3.10.so.1.0\n",
      " 0x00007fd333de3940 in <unknown> from /usr/lib/libpython3.10.so.1.0\n",
      " 0x00007fd333e7ea1a in <unknown> from /usr/lib/libpython3.10.so.1.0\n",
      " 0x00007fd333dc202b in <unknown> from /usr/lib/libpython3.10.so.1.0\n",
      " 0x00007fd333da8a9b in _PyEval_EvalFrameDefault + 0x67b from /usr/lib/libpython3.10.so.1.0\n",
      " 0x00007fd333db873c in _PyFunction_Vectorcall + 0x7c from /usr/lib/libpython3.10.so.1.0\n",
      " 0x00007fd333da8769 in _PyEval_EvalFrameDefault + 0x349 from /usr/lib/libpython3.10.so.1.0\n",
      " 0x00007fd333db873c in _PyFunction_Vectorcall + 0x7c from /usr/lib/libpython3.10.so.1.0\n",
      " 0x00007fd333da8a9b in _PyEval_EvalFrameDefault + 0x67b from /usr/lib/libpython3.10.so.1.0\n",
      " 0x00007fd333dc3fc4 in <unknown> from /usr/lib/libpython3.10.so.1.0\n",
      " 0x00007fd333dc4a66 in PyObject_Call + 0x156 from /usr/lib/libpython3.10.so.1.0\n",
      " 0x00007fd333dab225 in _PyEval_EvalFrameDefault + 0x2e05 from /usr/lib/libpython3.10.so.1.0\n",
      " 0x00007fd333dc3fc4 in <unknown> from /usr/lib/libpython3.10.so.1.0\n",
      " 0x00007fd333da97d9 in _PyEval_EvalFrameDefault + 0x13b9 from /usr/lib/libpython3.10.so.1.0\n",
      " 0x00007fd333de3940 in <unknown> from /usr/lib/libpython3.10.so.1.0\n",
      " 0x00007fd333da9aae in _PyEval_EvalFrameDefault + 0x168e from /usr/lib/libpython3.10.so.1.0\n",
      " 0x00007fd333de3940 in <unknown> from /usr/lib/libpython3.10.so.1.0\n",
      " 0x00007fd333da9aae in _PyEval_EvalFrameDefault + 0x168e from /usr/lib/libpython3.10.so.1.0\n",
      " 0x00007fd333de3940 in <unknown> from /usr/lib/libpython3.10.so.1.0\n",
      " 0x00007fd333da9aae in _PyEval_EvalFrameDefault + 0x168e from /usr/lib/libpython3.10.so.1.0\n",
      " 0x00007fd333de3940 in <unknown> from /usr/lib/libpython3.10.so.1.0\n",
      " 0x00007fd333da9aae in _PyEval_EvalFrameDefault + 0x168e from /usr/lib/libpython3.10.so.1.0\n",
      " 0x00007fd333de3940 in <unknown> from /usr/lib/libpython3.10.so.1.0\n",
      " 0x00007fd332cbbad2 in <unknown> from /usr/lib/python3.10/lib-dynload/_asyncio.cpython-310-x86_64-linux-gnu.so\n",
      " 0x00007fd333db7d27 in <unknown> from /usr/lib/libpython3.10.so.1.0\n",
      " 0x00007fd333e62d31 in <unknown> from /usr/lib/libpython3.10.so.1.0\n",
      " 0x00007fd333d680cd in <unknown> from /usr/lib/libpython3.10.so.1.0\n",
      " 0x00007fd333db092f in <unknown> from /usr/lib/libpython3.10.so.1.0\n",
      " 0x00007fd333dae59b in _PyEval_EvalFrameDefault + 0x617b from /usr/lib/libpython3.10.so.1.0\n",
      " 0x00007fd333db873c in _PyFunction_Vectorcall + 0x7c from /usr/lib/libpython3.10.so.1.0\n",
      " 0x00007fd333da8a9b in _PyEval_EvalFrameDefault + 0x67b from /usr/lib/libpython3.10.so.1.0\n",
      " 0x00007fd333db873c in _PyFunction_Vectorcall + 0x7c from /usr/lib/libpython3.10.so.1.0\n",
      " 0x00007fd333da8a9b in _PyEval_EvalFrameDefault + 0x67b from /usr/lib/libpython3.10.so.1.0\n",
      " 0x00007fd333db873c in _PyFunction_Vectorcall + 0x7c from /usr/lib/libpython3.10.so.1.0\n",
      " 0x00007fd333da8a9b in _PyEval_EvalFrameDefault + 0x67b from /usr/lib/libpython3.10.so.1.0\n",
      " 0x00007fd333db873c in _PyFunction_Vectorcall + 0x7c from /usr/lib/libpython3.10.so.1.0\n",
      " 0x00007fd333da8a9b in _PyEval_EvalFrameDefault + 0x67b from /usr/lib/libpython3.10.so.1.0\n",
      " 0x00007fd333db873c in _PyFunction_Vectorcall + 0x7c from /usr/lib/libpython3.10.so.1.0\n",
      " 0x00007fd333da8a9b in _PyEval_EvalFrameDefault + 0x67b from /usr/lib/libpython3.10.so.1.0\n",
      " 0x00007fd333dc3fc4 in <unknown> from /usr/lib/libpython3.10.so.1.0\n",
      " 0x00007fd333dad4f1 in _PyEval_EvalFrameDefault + 0x50d1 from /usr/lib/libpython3.10.so.1.0\n",
      " 0x00007fd333da7392 in <unknown> from /usr/lib/libpython3.10.so.1.0\n",
      " 0x00007fd333e5fc14 in PyEval_EvalCode + 0x94 from /usr/lib/libpython3.10.so.1.0\n",
      " 0x00007fd333e67671 in <unknown> from /usr/lib/libpython3.10.so.1.0\n",
      " 0x00007fd333db8940 in <unknown> from /usr/lib/libpython3.10.so.1.0\n",
      " 0x00007fd333da8769 in _PyEval_EvalFrameDefault + 0x349 from /usr/lib/libpython3.10.so.1.0\n",
      " 0x00007fd333db873c in _PyFunction_Vectorcall + 0x7c from /usr/lib/libpython3.10.so.1.0\n",
      " 0x00007fd333da8769 in _PyEval_EvalFrameDefault + 0x349 from /usr/lib/libpython3.10.so.1.0\n",
      " 0x00007fd333db873c in _PyFunction_Vectorcall + 0x7c from /usr/lib/libpython3.10.so.1.0\n",
      " 0x00007fd333e84d68 in <unknown> from /usr/lib/libpython3.10.so.1.0\n",
      " 0x00007fd333e7d120 in Py_RunMain + 0x200 from /usr/lib/libpython3.10.so.1.0\n",
      " 0x00007fd333e5069d in Py_BytesMain + 0x3d from /usr/lib/libpython3.10.so.1.0\n",
      " 0x00007fd333a8b310 in <unknown> from /usr/lib/libc.so.6\n",
      " 0x00007fd333a8b3c1 in __libc_start_main at :? from /usr/lib/libc.so.6\n",
      " 0x000056020cc3e04e in _start + 0x2e from /usr/bin/python\n",
      "Error in <TFitResultPtr>: TFitResult is empty - use the fit option S\n",
      " *** Break *** abort\n",
      " Generating stack trace...\n",
      " 0x00007fd333aa04b8 in raise at :? from /usr/lib/libc.so.6\n",
      " 0x00007fd333a8a534 in abort at :? from /usr/lib/libc.so.6\n",
      " 0x00007fd2c73260be in TFitResultPtr::operator*() const + 0x5e from /usr/lib/root/libHist.so\n",
      " 0x00007fd2cc67a024 in <unknown function>\n",
      " 0x00007fd2df0b7f47 in <unknown> from /usr/lib/root/libcppyy_backend3_10.so\n",
      " 0x00007fd2df0b9534 in Cppyy::CallR(long, void*, unsigned long, void*) + 0x34 from /usr/lib/root/libcppyy_backend3_10.so\n",
      " 0x00007fd2df17b9e4 in <unknown> from /usr/lib/python3.10/site-packages/libcppyy3_10.so\n",
      " 0x00007fd2df1612a6 in <unknown> from /usr/lib/python3.10/site-packages/libcppyy3_10.so\n",
      " 0x00007fd2df163dc0 in CPyCppyy::CPPMethod::ExecuteProtected(void*, long, CPyCppyy::CallContext*) + 0x120 from /usr/lib/python3.10/site-packages/libcppyy3_10.so\n",
      " 0x00007fd2df1624ef in CPyCppyy::CPPMethod::Execute(void*, long, CPyCppyy::CallContext*) + 0x2f from /usr/lib/python3.10/site-packages/libcppyy3_10.so\n",
      " 0x00007fd2df162841 in CPyCppyy::CPPMethod::Call(CPyCppyy::CPPInstance*&, _object*, _object*, CPyCppyy::CallContext*) + 0xb1 from /usr/lib/python3.10/site-packages/libcppyy3_10.so\n",
      " 0x00007fd2df1677e7 in <unknown> from /usr/lib/python3.10/site-packages/libcppyy3_10.so\n",
      " 0x00007fd333db27cb in _PyObject_MakeTpCall + 0x2ab from /usr/lib/libpython3.10.so.1.0\n",
      " 0x00007fd333db81eb in <unknown> from /usr/lib/libpython3.10.so.1.0\n",
      " 0x00007fd333e83a2b in PyObject_CallMethodObjArgs + 0xfb from /usr/lib/libpython3.10.so.1.0\n",
      " 0x00007fd2df1907e9 in <unknown> from /usr/lib/python3.10/site-packages/libcppyy3_10.so\n",
      " 0x00007fd333db7d27 in <unknown> from /usr/lib/libpython3.10.so.1.0\n",
      " 0x00007fd2df171a8a in <unknown> from /usr/lib/python3.10/site-packages/libcppyy3_10.so\n",
      " 0x00007fd333db27cb in _PyObject_MakeTpCall + 0x2ab from /usr/lib/libpython3.10.so.1.0\n",
      " 0x00007fd333e094cf in <unknown> from /usr/lib/libpython3.10.so.1.0\n",
      " 0x00007fd333e8185e in <unknown> from /usr/lib/libpython3.10.so.1.0\n",
      " 0x00007fd333e18e6c in <unknown> from /usr/lib/libpython3.10.so.1.0\n",
      " 0x00007fd333db8b81 in <unknown> from /usr/lib/libpython3.10.so.1.0\n",
      " 0x00007fd333db8940 in <unknown> from /usr/lib/libpython3.10.so.1.0\n",
      " 0x00007fd333da8769 in _PyEval_EvalFrameDefault + 0x349 from /usr/lib/libpython3.10.so.1.0\n",
      " 0x00007fd333db873c in _PyFunction_Vectorcall + 0x7c from /usr/lib/libpython3.10.so.1.0\n",
      " 0x00007fd333da8769 in _PyEval_EvalFrameDefault + 0x349 from /usr/lib/libpython3.10.so.1.0\n",
      " 0x00007fd333db873c in _PyFunction_Vectorcall + 0x7c from /usr/lib/libpython3.10.so.1.0\n",
      " 0x00007fd333dab225 in _PyEval_EvalFrameDefault + 0x2e05 from /usr/lib/libpython3.10.so.1.0\n",
      " 0x00007fd333db873c in _PyFunction_Vectorcall + 0x7c from /usr/lib/libpython3.10.so.1.0\n",
      " 0x00007fd333dab225 in _PyEval_EvalFrameDefault + 0x2e05 from /usr/lib/libpython3.10.so.1.0\n",
      " 0x00007fd333db1a68 in _PyObject_FastCallDictTstate + 0xd8 from /usr/lib/libpython3.10.so.1.0\n",
      " 0x00007fd333dc160d in _PyObject_Call_Prepend + 0x6d from /usr/lib/libpython3.10.so.1.0\n",
      " 0x00007fd333e996a2 in <unknown> from /usr/lib/libpython3.10.so.1.0\n",
      " 0x00007fd333db27cb in _PyObject_MakeTpCall + 0x2ab from /usr/lib/libpython3.10.so.1.0\n",
      " 0x00007fd333dad7bc in _PyEval_EvalFrameDefault + 0x539c from /usr/lib/libpython3.10.so.1.0\n",
      " 0x00007fd333db873c in _PyFunction_Vectorcall + 0x7c from /usr/lib/libpython3.10.so.1.0\n",
      " 0x00007fd333da8a9b in _PyEval_EvalFrameDefault + 0x67b from /usr/lib/libpython3.10.so.1.0\n",
      " 0x00007fd333db873c in _PyFunction_Vectorcall + 0x7c from /usr/lib/libpython3.10.so.1.0\n",
      " 0x00007fd333da8a9b in _PyEval_EvalFrameDefault + 0x67b from /usr/lib/libpython3.10.so.1.0\n",
      " 0x00007fd333db1a68 in _PyObject_FastCallDictTstate + 0xd8 from /usr/lib/libpython3.10.so.1.0\n",
      " 0x00007fd333dc160d in _PyObject_Call_Prepend + 0x6d from /usr/lib/libpython3.10.so.1.0\n",
      " 0x00007fd333e996a2 in <unknown> from /usr/lib/libpython3.10.so.1.0\n",
      " 0x00007fd333db27cb in _PyObject_MakeTpCall + 0x2ab from /usr/lib/libpython3.10.so.1.0\n",
      " 0x00007fd333e66def in <unknown> from /usr/lib/libpython3.10.so.1.0\n",
      " 0x00007fd333dab97a in _PyEval_EvalFrameDefault + 0x355a from /usr/lib/libpython3.10.so.1.0\n",
      " 0x00007fd333da7392 in <unknown> from /usr/lib/libpython3.10.so.1.0\n",
      " 0x00007fd333e5fc14 in PyEval_EvalCode + 0x94 from /usr/lib/libpython3.10.so.1.0\n",
      " 0x00007fd333e67671 in <unknown> from /usr/lib/libpython3.10.so.1.0\n",
      " 0x00007fd333db8940 in <unknown> from /usr/lib/libpython3.10.so.1.0\n",
      " 0x00007fd333da8769 in _PyEval_EvalFrameDefault + 0x349 from /usr/lib/libpython3.10.so.1.0\n",
      " 0x00007fd333de3940 in <unknown> from /usr/lib/libpython3.10.so.1.0\n",
      " 0x00007fd333da9aae in _PyEval_EvalFrameDefault + 0x168e from /usr/lib/libpython3.10.so.1.0\n",
      " 0x00007fd333de3940 in <unknown> from /usr/lib/libpython3.10.so.1.0\n",
      " 0x00007fd333da9aae in _PyEval_EvalFrameDefault + 0x168e from /usr/lib/libpython3.10.so.1.0\n",
      " 0x00007fd333de3940 in <unknown> from /usr/lib/libpython3.10.so.1.0\n",
      " 0x00007fd333e7ea1a in <unknown> from /usr/lib/libpython3.10.so.1.0\n",
      " 0x00007fd333dc202b in <unknown> from /usr/lib/libpython3.10.so.1.0\n",
      " 0x00007fd333da8a9b in _PyEval_EvalFrameDefault + 0x67b from /usr/lib/libpython3.10.so.1.0\n",
      " 0x00007fd333db873c in _PyFunction_Vectorcall + 0x7c from /usr/lib/libpython3.10.so.1.0\n",
      " 0x00007fd333da8769 in _PyEval_EvalFrameDefault + 0x349 from /usr/lib/libpython3.10.so.1.0\n",
      " 0x00007fd333db873c in _PyFunction_Vectorcall + 0x7c from /usr/lib/libpython3.10.so.1.0\n",
      " 0x00007fd333da8a9b in _PyEval_EvalFrameDefault + 0x67b from /usr/lib/libpython3.10.so.1.0\n",
      " 0x00007fd333dc3fc4 in <unknown> from /usr/lib/libpython3.10.so.1.0\n",
      " 0x00007fd333dc4a66 in PyObject_Call + 0x156 from /usr/lib/libpython3.10.so.1.0\n",
      " 0x00007fd333dab225 in _PyEval_EvalFrameDefault + 0x2e05 from /usr/lib/libpython3.10.so.1.0\n",
      " 0x00007fd333dc3fc4 in <unknown> from /usr/lib/libpython3.10.so.1.0\n",
      " 0x00007fd333da97d9 in _PyEval_EvalFrameDefault + 0x13b9 from /usr/lib/libpython3.10.so.1.0\n",
      " 0x00007fd333de3940 in <unknown> from /usr/lib/libpython3.10.so.1.0\n",
      " 0x00007fd333da9aae in _PyEval_EvalFrameDefault + 0x168e from /usr/lib/libpython3.10.so.1.0\n",
      " 0x00007fd333de3940 in <unknown> from /usr/lib/libpython3.10.so.1.0\n",
      " 0x00007fd333da9aae in _PyEval_EvalFrameDefault + 0x168e from /usr/lib/libpython3.10.so.1.0\n",
      " 0x00007fd333de3940 in <unknown> from /usr/lib/libpython3.10.so.1.0\n",
      " 0x00007fd333da9aae in _PyEval_EvalFrameDefault + 0x168e from /usr/lib/libpython3.10.so.1.0\n",
      " 0x00007fd333de3940 in <unknown> from /usr/lib/libpython3.10.so.1.0\n",
      " 0x00007fd333da9aae in _PyEval_EvalFrameDefault + 0x168e from /usr/lib/libpython3.10.so.1.0\n",
      " 0x00007fd333de3940 in <unknown> from /usr/lib/libpython3.10.so.1.0\n",
      " 0x00007fd332cbbad2 in <unknown> from /usr/lib/python3.10/lib-dynload/_asyncio.cpython-310-x86_64-linux-gnu.so\n",
      " 0x00007fd333db7d27 in <unknown> from /usr/lib/libpython3.10.so.1.0\n",
      " 0x00007fd333e62d31 in <unknown> from /usr/lib/libpython3.10.so.1.0\n",
      " 0x00007fd333d680cd in <unknown> from /usr/lib/libpython3.10.so.1.0\n",
      " 0x00007fd333db092f in <unknown> from /usr/lib/libpython3.10.so.1.0\n",
      " 0x00007fd333dae59b in _PyEval_EvalFrameDefault + 0x617b from /usr/lib/libpython3.10.so.1.0\n",
      " 0x00007fd333db873c in _PyFunction_Vectorcall + 0x7c from /usr/lib/libpython3.10.so.1.0\n",
      " 0x00007fd333da8a9b in _PyEval_EvalFrameDefault + 0x67b from /usr/lib/libpython3.10.so.1.0\n",
      " 0x00007fd333db873c in _PyFunction_Vectorcall + 0x7c from /usr/lib/libpython3.10.so.1.0\n",
      " 0x00007fd333da8a9b in _PyEval_EvalFrameDefault + 0x67b from /usr/lib/libpython3.10.so.1.0\n",
      " 0x00007fd333db873c in _PyFunction_Vectorcall + 0x7c from /usr/lib/libpython3.10.so.1.0\n",
      " 0x00007fd333da8a9b in _PyEval_EvalFrameDefault + 0x67b from /usr/lib/libpython3.10.so.1.0\n",
      " 0x00007fd333db873c in _PyFunction_Vectorcall + 0x7c from /usr/lib/libpython3.10.so.1.0\n",
      " 0x00007fd333da8a9b in _PyEval_EvalFrameDefault + 0x67b from /usr/lib/libpython3.10.so.1.0\n",
      " 0x00007fd333db873c in _PyFunction_Vectorcall + 0x7c from /usr/lib/libpython3.10.so.1.0\n",
      " 0x00007fd333da8a9b in _PyEval_EvalFrameDefault + 0x67b from /usr/lib/libpython3.10.so.1.0\n",
      " 0x00007fd333dc3fc4 in <unknown> from /usr/lib/libpython3.10.so.1.0\n",
      " 0x00007fd333dad4f1 in _PyEval_EvalFrameDefault + 0x50d1 from /usr/lib/libpython3.10.so.1.0\n",
      " 0x00007fd333da7392 in <unknown> from /usr/lib/libpython3.10.so.1.0\n",
      " 0x00007fd333e5fc14 in PyEval_EvalCode + 0x94 from /usr/lib/libpython3.10.so.1.0\n",
      " 0x00007fd333e67671 in <unknown> from /usr/lib/libpython3.10.so.1.0\n",
      " 0x00007fd333db8940 in <unknown> from /usr/lib/libpython3.10.so.1.0\n",
      " 0x00007fd333da8769 in _PyEval_EvalFrameDefault + 0x349 from /usr/lib/libpython3.10.so.1.0\n",
      " 0x00007fd333db873c in _PyFunction_Vectorcall + 0x7c from /usr/lib/libpython3.10.so.1.0\n",
      " 0x00007fd333da8769 in _PyEval_EvalFrameDefault + 0x349 from /usr/lib/libpython3.10.so.1.0\n",
      " 0x00007fd333db873c in _PyFunction_Vectorcall + 0x7c from /usr/lib/libpython3.10.so.1.0\n",
      " 0x00007fd333e84d68 in <unknown> from /usr/lib/libpython3.10.so.1.0\n",
      " 0x00007fd333e7d120 in Py_RunMain + 0x200 from /usr/lib/libpython3.10.so.1.0\n",
      " 0x00007fd333e5069d in Py_BytesMain + 0x3d from /usr/lib/libpython3.10.so.1.0\n",
      " 0x00007fd333a8b310 in <unknown> from /usr/lib/libc.so.6\n",
      " 0x00007fd333a8b3c1 in __libc_start_main at :? from /usr/lib/libc.so.6\n",
      " 0x000056020cc3e04e in _start + 0x2e from /usr/bin/python\n"
     ]
    },
    {
     "data": {
      "text/html": [
       "\n",
       "\n",
       "<div id=\"root_plot_1648486382661\"\n",
       "     style=\"width: 696px; height: 472px\">\n",
       "</div>\n",
       "<script>\n",
       "\n",
       "function display_root_plot_1648486382661(Core) {\n",
       "   let obj = Core.parse({\"_typename\":\"TCanvas\",\"fUniqueID\":0,\"fBits\":3342344,\"fLineColor\":1,\"fLineStyle\":1,\"fLineWidth\":1,\"fFillColor\":0,\"fFillStyle\":1001,\"fLeftMargin\":0.1,\"fRightMargin\":0.1,\"fBottomMargin\":0.1,\"fTopMargin\":0.1,\"fXfile\":2,\"fYfile\":2,\"fAfile\":1,\"fXstat\":0.99,\"fYstat\":0.99,\"fAstat\":2,\"fFrameFillColor\":0,\"fFrameLineColor\":1,\"fFrameFillStyle\":1001,\"fFrameLineStyle\":1,\"fFrameLineWidth\":1,\"fFrameBorderSize\":1,\"fFrameBorderMode\":0,\"fX1\":0,\"fY1\":0,\"fX2\":1,\"fY2\":1,\"fXtoAbsPixelk\":5e-5,\"fXtoPixelk\":5e-5,\"fXtoPixel\":696,\"fYtoAbsPixelk\":472.00005,\"fYtoPixelk\":472.00005,\"fYtoPixel\":-472,\"fUtoAbsPixelk\":5e-5,\"fUtoPixelk\":5e-5,\"fUtoPixel\":696,\"fVtoAbsPixelk\":472.00005,\"fVtoPixelk\":472,\"fVtoPixel\":-472,\"fAbsPixeltoXk\":0,\"fPixeltoXk\":0,\"fPixeltoX\":0.0014367816091954,\"fAbsPixeltoYk\":1,\"fPixeltoYk\":0,\"fPixeltoY\":-0.00211864406779661,\"fXlowNDC\":0,\"fYlowNDC\":0,\"fXUpNDC\":1,\"fYUpNDC\":1,\"fWNDC\":1,\"fHNDC\":1,\"fAbsXlowNDC\":0,\"fAbsYlowNDC\":0,\"fAbsWNDC\":1,\"fAbsHNDC\":1,\"fUxmin\":0,\"fUymin\":0,\"fUxmax\":1,\"fUymax\":1,\"fTheta\":30,\"fPhi\":30,\"fAspectRatio\":0,\"fNumber\":0,\"fTickx\":0,\"fTicky\":0,\"fLogx\":0,\"fLogy\":0,\"fLogz\":0,\"fPadPaint\":0,\"fCrosshair\":0,\"fCrosshairPos\":0,\"fBorderSize\":2,\"fBorderMode\":0,\"fModified\":true,\"fGridx\":false,\"fGridy\":false,\"fAbsCoord\":false,\"fEditable\":true,\"fFixedAspectRatio\":false,\"fPrimitives\":{\"_typename\":\"TList\",\"name\":\"TList\",\"arr\":[{\"_typename\":\"TH1D\",\"fUniqueID\":0,\"fBits\":8,\"fName\":\"h\",\"fTitle\":\"h\",\"fLineColor\":602,\"fLineStyle\":1,\"fLineWidth\":1,\"fFillColor\":0,\"fFillStyle\":1001,\"fMarkerColor\":1,\"fMarkerStyle\":1,\"fMarkerSize\":1,\"fNcells\":102,\"fXaxis\":{\"_typename\":\"TAxis\",\"fUniqueID\":0,\"fBits\":0,\"fName\":\"xaxis\",\"fTitle\":\"\",\"fNdivisions\":510,\"fAxisColor\":1,\"fLabelColor\":1,\"fLabelFont\":42,\"fLabelOffset\":0.005,\"fLabelSize\":0.035,\"fTickLength\":0.03,\"fTitleOffset\":1,\"fTitleSize\":0.035,\"fTitleColor\":1,\"fTitleFont\":42,\"fNbins\":100,\"fXmin\":-5,\"fXmax\":5,\"fXbins\":[],\"fFirst\":0,\"fLast\":0,\"fBits2\":0,\"fTimeDisplay\":false,\"fTimeFormat\":\"\",\"fLabels\":null,\"fModLabs\":null},\"fYaxis\":{\"_typename\":\"TAxis\",\"fUniqueID\":0,\"fBits\":0,\"fName\":\"yaxis\",\"fTitle\":\"\",\"fNdivisions\":510,\"fAxisColor\":1,\"fLabelColor\":1,\"fLabelFont\":42,\"fLabelOffset\":0.005,\"fLabelSize\":0.035,\"fTickLength\":0.03,\"fTitleOffset\":0,\"fTitleSize\":0.035,\"fTitleColor\":1,\"fTitleFont\":42,\"fNbins\":1,\"fXmin\":0,\"fXmax\":1,\"fXbins\":[],\"fFirst\":0,\"fLast\":0,\"fBits2\":0,\"fTimeDisplay\":false,\"fTimeFormat\":\"\",\"fLabels\":null,\"fModLabs\":null},\"fZaxis\":{\"_typename\":\"TAxis\",\"fUniqueID\":0,\"fBits\":0,\"fName\":\"zaxis\",\"fTitle\":\"\",\"fNdivisions\":510,\"fAxisColor\":1,\"fLabelColor\":1,\"fLabelFont\":42,\"fLabelOffset\":0.005,\"fLabelSize\":0.035,\"fTickLength\":0.03,\"fTitleOffset\":1,\"fTitleSize\":0.035,\"fTitleColor\":1,\"fTitleFont\":42,\"fNbins\":1,\"fXmin\":0,\"fXmax\":1,\"fXbins\":[],\"fFirst\":0,\"fLast\":0,\"fBits2\":0,\"fTimeDisplay\":false,\"fTimeFormat\":\"\",\"fLabels\":null,\"fModLabs\":null},\"fBarOffset\":0,\"fBarWidth\":1000,\"fEntries\":400000,\"fTsumw\":399973,\"fTsumw2\":399973,\"fTsumwx\":-11574.3197862284,\"fTsumwx2\":831377.878669308,\"fMaximum\":-1111,\"fMinimum\":-1111,\"fNormFactor\":0,\"fContour\":[],\"fSumw2\":[],\"fOption\":\"\",\"fFunctions\":{\"_typename\":\"TList\",\"name\":\"TList\",\"arr\":[{\"_typename\":\"TF1\",\"fUniqueID\":0,\"fBits\":1024,\"fName\":\"gaus\",\"fTitle\":\"gaus\",\"fLineColor\":2,\"fLineStyle\":1,\"fLineWidth\":2,\"fFillColor\":19,\"fFillStyle\":0,\"fMarkerColor\":1,\"fMarkerStyle\":1,\"fMarkerSize\":1,\"fXmin\":-5,\"fXmax\":5,\"fNpar\":3,\"fNdim\":1,\"fNpx\":100,\"fType\":0,\"fNpfits\":97,\"fNDF\":94,\"fChisquare\":2821.59112291836,\"fMinimum\":-1111,\"fMaximum\":-1111,\"fParErrors\":[20.9624322512347,0.00233053706573437,0.00147434055576146],\"fParMin\":[0,0,0],\"fParMax\":[0,0,14.4168279269107],\"fSave\":{\"$arr\":\"Float64\",\"len\":103,\"v\":[25.1829311486692,32.0748261789211,40.6530247426976,51.2733786985867,64.351922840004,80.3714195792778,99.8877589795505,123.535967123042,152.035528732002,186.194684035668,226.913317632267,275.184021471083,332.090888351763,398.805580000736,476.580218391935,566.736673948538,670.651872644306,789.738818243076,925.423127506838,1079.11500554143,1252.17674450764,1445.88600907657,1661.39537188573,1899.68877570761,2161.53581819319,2447.44497046323,2757.61704179398,3091.90037765159,3449.74941554582,3830.18831110925,4231.7813750138,4652.61202112432,5090.27181144921,5541.86099088502,6004.001635016,6472.86419186876,6944.20779224281,7413.43424580638,7875.65514805897,8325.77101613151,8758.56087112368,9168.78021440932,9551.26492826733,9901.03828928678,10213.4180357103,10484.1202929711,10709.357146139,10885.9247592526,11011.2791789219,11083.5973162526,11101.8210641027,11065.6830574898,10975.7132005606,10833.225737412,10640.2873076888,10399.6670722185,10114.770590945,9789.5596596003,9428.4607412306,9036.26494715735,8618.02271820633,8178.93642623209,7724.25405950059,7259.16698070369,6788.71446593228,6317.69736392962,5850.60277780947,5391.5411886702,4944.1969354812,4511.79246112217,4097.06625177003,3702.26395462219,3329.14177253471,2978.98091499439,2652.61164026531,2350.4452567549,2072.51236193142,1818.50558030523,1587.82511095823,1379.6255005198,1192.86220847123,1026.33671653961,878.739140921651,748.687523850521,634.763199262251,535.541837082936,449.619964620234,375.63693614117,312.292469170648,258.359986270241,212.696093515322,174.2465923658,142.049461979766,115.235266911228,93.0254437615552,74.7289032058476,59.7373544445116,47.5197209745526,37.6159728110766,29.6306537294125,23.2263351253032,-5,5]},\"fNormalized\":false,\"fNormIntegral\":0,\"fFormula\":{\"_typename\":\"TFormula\",\"fUniqueID\":0,\"fBits\":1024,\"fName\":\"gaus\",\"fTitle\":\"gaus\",\"fClingParameters\":[11102.5616372687,-0.0164949096913102,1.42808912668303],\"fAllParametersSetted\":true,\"fParams\":[{\"$pair\":\"pair<TString,int,TFormulaParamOrder>\",\"first\":\"Constant\",\"second\":0},{\"$pair\":\"pair<TString,int,TFormulaParamOrder>\",\"first\":\"Mean\",\"second\":1},{\"$pair\":\"pair<TString,int,TFormulaParamOrder>\",\"first\":\"Sigma\",\"second\":2}],\"fFormula\":\"[Constant]*exp(-0.5*((x-[Mean])\\/[Sigma])*((x-[Mean])\\/[Sigma]))\",\"fNdim\":1,\"fLinearParts\":[],\"fVectorized\":false},\"fParams\":null,\"fComposition\":null}],\"opt\":[\"\"]},\"fBufferSize\":0,\"fBuffer\":[],\"fBinStatErrOpt\":0,\"fStatOverflows\":2,\"fArray\":{\"$arr\":\"Float64\",\"len\":102,\"v\":[27,2,10,20,28,40,47,63,70,91,129,138,194,242,340,395,554,643,718,894,1188,1296,1582,1967,2099,2454,2798,3142,3640,4031,4570,5041,5495,5821,6470,7076,7361,7798,8267,8690,9190,9455,9656,9872,9989,10349,10497,10481,10543,10725,10730,10509,10423,10430,10043,10031,9564,9189,9020,8734,8522,8006,7595,7346,6832,6416,6177,5591,5134,4926,4454,4126,3644,3260,2965,2741,2432,2118,1910,1641,1384,1307,1090,975,803,703,623,542,469,389,309,210,152,106,71,64,50,56]}},{\"_typename\":\"TStyle\",\"fUniqueID\":0,\"fBits\":0,\"fName\":\"Modern\",\"fTitle\":\"Modern Style\",\"fLineColor\":1,\"fLineStyle\":1,\"fLineWidth\":1,\"fFillColor\":19,\"fFillStyle\":1001,\"fMarkerColor\":1,\"fMarkerStyle\":1,\"fMarkerSize\":1,\"fTextAngle\":0,\"fTextSize\":0.05,\"fTextAlign\":11,\"fTextColor\":1,\"fTextFont\":62,\"fXaxis\":{\"_typename\":\"TAttAxis\",\"fNdivisions\":510,\"fAxisColor\":1,\"fLabelColor\":1,\"fLabelFont\":42,\"fLabelOffset\":0.005,\"fLabelSize\":0.035,\"fTickLength\":0.03,\"fTitleOffset\":1,\"fTitleSize\":0.035,\"fTitleColor\":1,\"fTitleFont\":42},\"fYaxis\":{\"_typename\":\"TAttAxis\",\"fNdivisions\":510,\"fAxisColor\":1,\"fLabelColor\":1,\"fLabelFont\":42,\"fLabelOffset\":0.005,\"fLabelSize\":0.035,\"fTickLength\":0.03,\"fTitleOffset\":0,\"fTitleSize\":0.035,\"fTitleColor\":1,\"fTitleFont\":42},\"fZaxis\":{\"_typename\":\"TAttAxis\",\"fNdivisions\":510,\"fAxisColor\":1,\"fLabelColor\":1,\"fLabelFont\":42,\"fLabelOffset\":0.005,\"fLabelSize\":0.035,\"fTickLength\":0.03,\"fTitleOffset\":1,\"fTitleSize\":0.035,\"fTitleColor\":1,\"fTitleFont\":42},\"fBarWidth\":1,\"fBarOffset\":0,\"fColorModelPS\":0,\"fDrawBorder\":0,\"fOptLogx\":0,\"fOptLogy\":0,\"fOptLogz\":0,\"fOptDate\":0,\"fOptStat\":1111,\"fOptTitle\":1,\"fOptFile\":0,\"fOptFit\":0,\"fShowEventStatus\":0,\"fShowEditor\":0,\"fShowToolBar\":0,\"fNumberContours\":20,\"fAttDate\":{\"_typename\":\"TAttText\",\"fTextAngle\":0,\"fTextSize\":0.025,\"fTextAlign\":11,\"fTextColor\":1,\"fTextFont\":62},\"fDateX\":0.01,\"fDateY\":0.01,\"fEndErrorSize\":2,\"fErrorX\":0.5,\"fFuncColor\":2,\"fFuncStyle\":1,\"fFuncWidth\":2,\"fGridColor\":0,\"fGridStyle\":3,\"fGridWidth\":1,\"fLegendBorderSize\":1,\"fLegendFillColor\":0,\"fLegendFont\":42,\"fLegendTextSize\":0,\"fHatchesLineWidth\":1,\"fHatchesSpacing\":1,\"fFrameFillColor\":0,\"fFrameLineColor\":1,\"fFrameFillStyle\":1001,\"fFrameLineStyle\":1,\"fFrameLineWidth\":1,\"fFrameBorderSize\":1,\"fFrameBorderMode\":0,\"fHistFillColor\":0,\"fHistLineColor\":602,\"fHistFillStyle\":1001,\"fHistLineStyle\":1,\"fHistLineWidth\":1,\"fHistMinimumZero\":false,\"fHistTopMargin\":0.05,\"fCanvasPreferGL\":false,\"fCanvasColor\":0,\"fCanvasBorderSize\":2,\"fCanvasBorderMode\":0,\"fCanvasDefH\":500,\"fCanvasDefW\":700,\"fCanvasDefX\":10,\"fCanvasDefY\":10,\"fPadColor\":0,\"fPadBorderSize\":2,\"fPadBorderMode\":0,\"fPadBottomMargin\":0.1,\"fPadTopMargin\":0.1,\"fPadLeftMargin\":0.1,\"fPadRightMargin\":0.1,\"fPadGridX\":false,\"fPadGridY\":false,\"fPadTickX\":0,\"fPadTickY\":0,\"fPaperSizeX\":20,\"fPaperSizeY\":26,\"fScreenFactor\":1,\"fStatColor\":0,\"fStatTextColor\":1,\"fStatBorderSize\":1,\"fStatFont\":42,\"fStatFontSize\":0,\"fStatStyle\":1001,\"fStatFormat\":\"6.4g\",\"fStatX\":0.98,\"fStatY\":0.935,\"fStatW\":0.2,\"fStatH\":0.16,\"fStripDecimals\":true,\"fTitleAlign\":23,\"fTitleColor\":0,\"fTitleTextColor\":1,\"fTitleBorderSize\":0,\"fTitleFont\":42,\"fTitleFontSize\":0.05,\"fTitleStyle\":0,\"fTitleX\":0.5,\"fTitleY\":0.995,\"fTitleW\":0,\"fTitleH\":0,\"fLegoInnerR\":0.5,\"fLineStyles\":[\"\",\"  \",\" 12 12\",\" 4 8\",\" 12 16 4 16\",\" 20 12 4 12\",\" 20 12 4 12 4 12 4 12\",\" 20 20\",\" 20 12 4 12 4 12\",\" 80 20\",\" 80 40 4 40\",\"  \",\"  \",\"  \",\"  \",\"  \",\"  \",\"  \",\"  \",\"  \",\"  \",\"  \",\"  \",\"  \",\"  \",\"  \",\"  \",\"  \",\"  \",\"  \"],\"fHeaderPS\":\"\",\"fTitlePS\":\"\",\"fFitFormat\":\"5.4g\",\"fPaintTextFormat\":\"g\",\"fLineScalePS\":3,\"fJoinLinePS\":0,\"fCapLinePS\":0,\"fTimeOffset\":788918400,\"fImageScaling\":1}],\"opt\":[\"\",\"\"]},\"fExecs\":null,\"fName\":\"c1_n2\",\"fTitle\":\"c1_n2\",\"fNumPaletteColor\":0,\"fNextPaletteColor\":0,\"fDISPLAY\":\"$DISPLAY\",\"fDoubleBuffer\":0,\"fRetained\":true,\"fXsizeUser\":0,\"fYsizeUser\":0,\"fXsizeReal\":20,\"fYsizeReal\":14.28571,\"fWindowTopX\":0,\"fWindowTopY\":0,\"fWindowWidth\":0,\"fWindowHeight\":0,\"fCw\":696,\"fCh\":472,\"fCatt\":{\"_typename\":\"TAttCanvas\",\"fXBetween\":2,\"fYBetween\":2,\"fTitleFromTop\":1.2,\"fXdate\":0.2,\"fYdate\":0.3,\"fAdate\":1},\"kMoveOpaque\":true,\"kResizeOpaque\":true,\"fHighLightColor\":2,\"fBatch\":true,\"kShowEventStatus\":false,\"kAutoExec\":true,\"kMenuBar\":true});\n",
       "   Core.settings.HandleKeys = false;\n",
       "   Core.draw(\"root_plot_1648486382661\", obj, \"\");\n",
       "}\n",
       "\n",
       "function script_load_root_plot_1648486382661(src, on_error) {\n",
       "    let script = document.createElement('script');\n",
       "    script.src = src;\n",
       "    script.onload = function() { display_root_plot_1648486382661(JSROOT); };\n",
       "    script.onerror = function() { script.remove(); on_error(); };\n",
       "    document.head.appendChild(script);\n",
       "}\n",
       "\n",
       "if (typeof requirejs !== 'undefined') {\n",
       "\n",
       "    // We are in jupyter notebooks, use require.js which should be configured already\n",
       "    requirejs.config({\n",
       "       paths: { 'JSRootCore' : [ 'scripts/JSRoot.core', 'https://root.cern/js/6.1.1/scripts/JSRoot.core.min', 'https://jsroot.gsi.de/6.1.1/scripts/JSRoot.core.min' ] }\n",
       "    })(['JSRootCore'],  function(Core) {\n",
       "       display_root_plot_1648486382661(Core);\n",
       "    });\n",
       "\n",
       "} else if (typeof JSROOT !== 'undefined') {\n",
       "\n",
       "   // JSROOT already loaded, just use it\n",
       "   display_root_plot_1648486382661(JSROOT);\n",
       "\n",
       "} else {\n",
       "\n",
       "    // We are in jupyterlab without require.js, directly loading jsroot\n",
       "    // Jupyterlab might be installed in a different base_url so we need to know it.\n",
       "    try {\n",
       "        var base_url = JSON.parse(document.getElementById('jupyter-config-data').innerHTML).baseUrl;\n",
       "    } catch(_) {\n",
       "        var base_url = '/';\n",
       "    }\n",
       "\n",
       "    // Try loading a local version of requirejs and fallback to cdn if not possible.\n",
       "    script_load_root_plot_1648486382661(base_url + 'static/scripts/JSRoot.core.js', function(){\n",
       "        console.error('Fail to load JSROOT locally, please check your jupyter_notebook_config.py file');\n",
       "        script_load_root_plot_1648486382661('https://root.cern/js/6.1.1/scripts/JSRoot.core.min.js', function(){\n",
       "            document.getElementById(\"root_plot_1648486382661\").innerHTML = \"Failed to load JSROOT\";\n",
       "        });\n",
       "    });\n",
       "}\n",
       "\n",
       "</script>\n"
      ],
      "text/plain": [
       "<IPython.core.display.HTML object>"
      ]
     },
     "metadata": {},
     "output_type": "display_data"
    }
   ],
   "source": [
    "c=r.TCanvas()\n",
    "c.Draw(\"\")\n",
    "h.Draw(\"\")\n",
    "h.Fit(\"gaus\")"
   ]
  },
  {
   "cell_type": "code",
   "execution_count": null,
   "id": "1b78fd16",
   "metadata": {},
   "outputs": [],
   "source": []
  }
 ],
 "metadata": {
  "kernelspec": {
   "display_name": "Python 3 (ipykernel)",
   "language": "python",
   "name": "python3"
  },
  "language_info": {
   "codemirror_mode": {
    "name": "ipython",
    "version": 3
   },
   "file_extension": ".py",
   "mimetype": "text/x-python",
   "name": "python",
   "nbconvert_exporter": "python",
   "pygments_lexer": "ipython3",
   "version": "3.10.2"
  }
 },
 "nbformat": 4,
 "nbformat_minor": 5
}
