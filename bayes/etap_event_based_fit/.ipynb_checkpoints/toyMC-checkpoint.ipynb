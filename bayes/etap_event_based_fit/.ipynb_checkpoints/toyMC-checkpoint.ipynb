{
 "cells": [
  {
   "cell_type": "code",
   "execution_count": 1,
   "id": "7ba0a772",
   "metadata": {},
   "outputs": [
    {
     "name": "stdout",
     "output_type": "stream",
     "text": [
      "Welcome to JupyROOT 6.26/00\n"
     ]
    }
   ],
   "source": [
    "import nest_asyncio\n",
    "nest_asyncio.apply()\n",
    "import cmdstanpy as sp\n",
    "import numpy as np\n",
    "from scipy.optimize import curve_fit\n",
    "import pandas as pd\n",
    "import matplotlib.pyplot as plt\n",
    "plt.ioff()\n",
    "from cycler import cycler\n",
    "import matplotlib.patches as mpatches\n",
    "import seaborn as sns\n",
    "import arviz as az\n",
    "import scipy.stats as stats\n",
    "import ROOT as r\n",
    "import time\n",
    "plt.rcParams[\"xtick.minor.visible\"] =  True\n",
    "plt.rcParams[\"ytick.minor.visible\"] =  True\n",
    "plt.rcParams[\"mathtext.fontset\"]=\"cm\"\n",
    "plt.rcParams['errorbar.capsize'] = 3\n",
    "plt.rcParams['mathtext.rm'] = 'serif'\n",
    "plt.rcParams['font.family']='serif'\n",
    "plt.rcParams['font.size']=22\n",
    "plt.rcParams['axes.grid'] = True\n",
    "plt.rcParams['grid.linestyle']=':'\n",
    "plt.rcParams['grid.color']='black'\n",
    "plt.rcParams['axes.prop_cycle'] = cycler(color=['black', 'red', 'blue', 'green'])\n",
    "\n",
    "import arviz as az\n",
    "import warnings\n",
    "warnings.filterwarnings('ignore')\n",
    "%jsroot on"
   ]
  },
  {
   "cell_type": "code",
   "execution_count": 2,
   "id": "dc277de5",
   "metadata": {},
   "outputs": [],
   "source": [
    "def fit(nsamples,nbins,start): #define starting index\n",
    "    cols=[f'toybin{i:04d}' for i in range(start,start+nbins)]\n",
    "    diagnostics_df=pd.DataFrame(columns=cols,index=['sigma_median','mcse','rhat'])\n",
    "    sigma_df=pd.DataFrame(columns=cols)\n",
    "    for i in range(start,start+nbins):#no. of toy bins\n",
    "        print(f\"Fitting toy MC bin no.{i}\")\n",
    "        #read data\n",
    "        df=pd.read_csv(f\"toybins/toybin{i:04d}.txt\",sep=\"\\t\")\n",
    "        #df=pd.read_csv(f\"new_toy_MC.txt\",sep=\"\\t\")\n",
    "        df.columns=['pol','phi','weight']\n",
    "        #these are prompt peak events\n",
    "        prmpt=df.loc[df['weight']==1]\n",
    "        prmpt=prmpt.reset_index(drop=True)\n",
    "        #sideband\n",
    "        side=df.loc[df['weight']!=1]\n",
    "        side=side.reset_index(drop=True)\n",
    "        nprmpt=len(prmpt)\n",
    "        total_nside=(len(side))\n",
    "        #weights used in the data, including 1--> exterminate 1\n",
    "        weights=pd.unique(df['weight'].values)\n",
    "        weights=np.array(weights[weights!=1])\n",
    "        #sideband events are identified by the corresponding weights\n",
    "        nside=np.array([len(df.loc[df['weight']==weights[i]])for i in range(len(weights))])\n",
    "        #fraction of signal in prompt peak, note that the weights are already negative (TO BE CHECKED W/ FARAHS DATA!)\n",
    "        f=(nprmpt+np.sum(nside*weights))/nprmpt\n",
    "        print(f)\n",
    "        stan_data={\n",
    "            'N':nprmpt, #no. of prompt peak events and corresponding pol and phi values\n",
    "            'phi_prmpt':list(prmpt['phi'].values),\n",
    "            'pol_prmpt':list(prmpt['pol'].values),\n",
    "            'M':total_nside,#no. of sideband events and..\n",
    "            'phi_side':list(side['phi'].values),\n",
    "            'pol_side':list(side['pol'].values),\n",
    "            'f':f #fraction of signal in prmpt peak\n",
    "        }\n",
    "        print(nprmpt, total_nside)\n",
    "        #now the stan model and mcmc\n",
    "        model=sp.CmdStanModel(stan_file='toyMC_stan.stan')\n",
    "        model.compile()\n",
    "        fitobj=model.sample(data=stan_data,iter_sampling=nsamples,inits=0,output_dir='./stan_trash',show_progress=False)\n",
    "        summary=fitobj.summary()\n",
    "        samples=fitobj.draws_pd()\n",
    "        #get mcmc diagnostics\n",
    "        median=summary['50%']['sigma']\n",
    "        mcse=(az.mcse(np.transpose(fitobj.draws(concat_chains=False)[:,:,7]),method='median'))\n",
    "        rhat=(summary['R_hat']['sigma'])\n",
    "        tmp_list=[median,mcse,rhat]\n",
    "        currbin=f\"toybin{i:04d}\"\n",
    "        diagnostics_df[currbin]=tmp_list\n",
    "        sigma_df[currbin]=samples['sigma']\n",
    "    return diagnostics_df, sigma_df, summary\n",
    "\n",
    "def fit_bin(nsamples,binnr): #fit only one bin\n",
    "    #read data\n",
    "    df=pd.read_csv(f\"toybins/toybin{binnr:04d}.txt\",sep=\"\\t\")\n",
    "    df.columns=['pol','phi','weight']\n",
    "    #these are prompt peak events\n",
    "    prmpt=df.loc[df['weight']==1]\n",
    "    prmpt=prmpt.reset_index(drop=True)\n",
    "    #sideband\n",
    "    side=df.loc[df['weight']!=1]\n",
    "    side=side.reset_index(drop=True)\n",
    "    nprmpt=len(prmpt)\n",
    "    total_nside=(len(side))\n",
    "    #weights used in the data, including 1--> exterminate 1\n",
    "    weights=pd.unique(df['weight'].values)\n",
    "    weights=np.array(weights[weights!=1])\n",
    "    #sideband events are identified by the corresponding weights\n",
    "    nside=np.array([len(df.loc[df['weight']==weights[i]])for i in range(len(weights))])\n",
    "    #fraction of signal in prompt peak, note that the weights are already negative (TO BE CHECKED W/ FARAHS DATA!)\n",
    "    f=(nprmpt+np.sum(nside*weights))/nprmpt\n",
    "    print(f)\n",
    "    stan_data={\n",
    "        'N':nprmpt, #no. of prompt peak events and corresponding pol and phi values\n",
    "        'phi_prmpt':list(prmpt['phi'].values),\n",
    "        'pol_prmpt':list(prmpt['pol'].values),\n",
    "        'M':total_nside,#no. of sideband events and..\n",
    "        'phi_side':list(side['phi'].values),\n",
    "        'pol_side':list(side['pol'].values),\n",
    "        'f':f #fraction of signal in prmpt peak\n",
    "    }\n",
    "    print(nprmpt, total_nside)\n",
    "    #now the stan model and mcmc\n",
    "    model=sp.CmdStanModel(stan_file='toyMC_stan.stan')\n",
    "    model.compile()\n",
    "    fitobj=model.sample(data=stan_data,iter_sampling=nsamples,inits=0)\n",
    "    summary=fitobj.summary()\n",
    "    samples=fitobj.draws_pd()\n",
    "    return samples,summary"
   ]
  },
  {
   "cell_type": "code",
   "execution_count": 3,
   "id": "64a74456",
   "metadata": {},
   "outputs": [
    {
     "name": "stderr",
     "output_type": "stream",
     "text": [
      "INFO:cmdstanpy:found newer exe file, not recompiling\n",
      "INFO:cmdstanpy:found newer exe file, not recompiling\n",
      "INFO:cmdstanpy:created output directory: /home/jakob/Documents/Studium/master_thesis/bayes/etap_event_based_fit/stan_trash\n",
      "INFO:cmdstanpy:CmdStan start procesing\n",
      "INFO:cmdstanpy:Chain [1] start processing\n",
      "INFO:cmdstanpy:Chain [2] start processing\n",
      "INFO:cmdstanpy:Chain [3] start processing\n",
      "INFO:cmdstanpy:Chain [4] start processing\n"
     ]
    },
    {
     "name": "stdout",
     "output_type": "stream",
     "text": [
      "Fitting toy MC bin no.0\n",
      "0.9498891625615763\n",
      "406 313\n"
     ]
    },
    {
     "name": "stderr",
     "output_type": "stream",
     "text": [
      "INFO:cmdstanpy:Chain [1] done processing\n",
      "INFO:cmdstanpy:Chain [3] done processing\n",
      "INFO:cmdstanpy:Chain [4] done processing\n",
      "INFO:cmdstanpy:Chain [2] done processing\n",
      "INFO:cmdstanpy:found newer exe file, not recompiling\n",
      "INFO:cmdstanpy:found newer exe file, not recompiling\n",
      "INFO:cmdstanpy:CmdStan start procesing\n",
      "INFO:cmdstanpy:Chain [1] start processing\n",
      "INFO:cmdstanpy:Chain [2] start processing\n",
      "INFO:cmdstanpy:Chain [3] start processing\n",
      "INFO:cmdstanpy:Chain [4] start processing\n"
     ]
    },
    {
     "name": "stdout",
     "output_type": "stream",
     "text": [
      "Fitting toy MC bin no.1\n",
      "0.9500413223140496\n",
      "363 279\n"
     ]
    },
    {
     "name": "stderr",
     "output_type": "stream",
     "text": [
      "INFO:cmdstanpy:Chain [2] done processing\n",
      "INFO:cmdstanpy:Chain [1] done processing\n",
      "INFO:cmdstanpy:Chain [4] done processing\n",
      "INFO:cmdstanpy:Chain [3] done processing\n",
      "INFO:cmdstanpy:found newer exe file, not recompiling\n",
      "INFO:cmdstanpy:found newer exe file, not recompiling\n",
      "INFO:cmdstanpy:CmdStan start procesing\n",
      "INFO:cmdstanpy:Chain [1] start processing\n",
      "INFO:cmdstanpy:Chain [2] start processing\n",
      "INFO:cmdstanpy:Chain [3] start processing\n",
      "INFO:cmdstanpy:Chain [4] start processing\n"
     ]
    },
    {
     "name": "stdout",
     "output_type": "stream",
     "text": [
      "Fitting toy MC bin no.2\n",
      "0.9499127182044889\n",
      "401 309\n"
     ]
    },
    {
     "name": "stderr",
     "output_type": "stream",
     "text": [
      "INFO:cmdstanpy:Chain [1] done processing\n",
      "INFO:cmdstanpy:Chain [3] done processing\n",
      "INFO:cmdstanpy:Chain [4] done processing\n",
      "INFO:cmdstanpy:Chain [2] done processing\n",
      "INFO:cmdstanpy:found newer exe file, not recompiling\n",
      "INFO:cmdstanpy:found newer exe file, not recompiling\n",
      "INFO:cmdstanpy:CmdStan start procesing\n",
      "INFO:cmdstanpy:Chain [1] start processing\n",
      "INFO:cmdstanpy:Chain [2] start processing\n",
      "INFO:cmdstanpy:Chain [3] start processing\n",
      "INFO:cmdstanpy:Chain [4] start processing\n"
     ]
    },
    {
     "name": "stdout",
     "output_type": "stream",
     "text": [
      "Fitting toy MC bin no.3\n",
      "0.9499180327868852\n",
      "427 329\n"
     ]
    },
    {
     "name": "stderr",
     "output_type": "stream",
     "text": [
      "INFO:cmdstanpy:Chain [3] done processing\n",
      "INFO:cmdstanpy:Chain [4] done processing\n",
      "INFO:cmdstanpy:Chain [2] done processing\n",
      "INFO:cmdstanpy:Chain [1] done processing\n",
      "INFO:cmdstanpy:found newer exe file, not recompiling\n",
      "INFO:cmdstanpy:found newer exe file, not recompiling\n",
      "INFO:cmdstanpy:CmdStan start procesing\n",
      "INFO:cmdstanpy:Chain [1] start processing\n",
      "INFO:cmdstanpy:Chain [2] start processing\n",
      "INFO:cmdstanpy:Chain [3] start processing\n",
      "INFO:cmdstanpy:Chain [4] start processing\n"
     ]
    },
    {
     "name": "stdout",
     "output_type": "stream",
     "text": [
      "Fitting toy MC bin no.4\n",
      "0.9497803617571059\n",
      "387 299\n"
     ]
    },
    {
     "name": "stderr",
     "output_type": "stream",
     "text": [
      "INFO:cmdstanpy:Chain [1] done processing\n",
      "INFO:cmdstanpy:Chain [4] done processing\n",
      "INFO:cmdstanpy:Chain [3] done processing\n",
      "INFO:cmdstanpy:Chain [2] done processing\n",
      "INFO:cmdstanpy:found newer exe file, not recompiling\n",
      "INFO:cmdstanpy:found newer exe file, not recompiling\n",
      "INFO:cmdstanpy:CmdStan start procesing\n",
      "INFO:cmdstanpy:Chain [1] start processing\n",
      "INFO:cmdstanpy:Chain [2] start processing\n",
      "INFO:cmdstanpy:Chain [3] start processing\n",
      "INFO:cmdstanpy:Chain [4] start processing\n"
     ]
    },
    {
     "name": "stdout",
     "output_type": "stream",
     "text": [
      "Fitting toy MC bin no.5\n",
      "0.94984375\n",
      "416 321\n"
     ]
    },
    {
     "name": "stderr",
     "output_type": "stream",
     "text": [
      "INFO:cmdstanpy:Chain [2] done processing\n",
      "INFO:cmdstanpy:Chain [1] done processing\n",
      "INFO:cmdstanpy:Chain [4] done processing\n",
      "INFO:cmdstanpy:Chain [3] done processing\n",
      "INFO:cmdstanpy:found newer exe file, not recompiling\n",
      "INFO:cmdstanpy:found newer exe file, not recompiling\n",
      "INFO:cmdstanpy:CmdStan start procesing\n",
      "INFO:cmdstanpy:Chain [1] start processing\n",
      "INFO:cmdstanpy:Chain [2] start processing\n",
      "INFO:cmdstanpy:Chain [3] start processing\n",
      "INFO:cmdstanpy:Chain [4] start processing\n"
     ]
    },
    {
     "name": "stdout",
     "output_type": "stream",
     "text": [
      "Fitting toy MC bin no.6\n",
      "0.9500000000000001\n",
      "403 310\n"
     ]
    },
    {
     "name": "stderr",
     "output_type": "stream",
     "text": [
      "INFO:cmdstanpy:Chain [3] done processing\n",
      "INFO:cmdstanpy:Chain [4] done processing\n",
      "INFO:cmdstanpy:Chain [2] done processing\n",
      "INFO:cmdstanpy:Chain [1] done processing\n",
      "INFO:cmdstanpy:found newer exe file, not recompiling\n",
      "INFO:cmdstanpy:found newer exe file, not recompiling\n",
      "INFO:cmdstanpy:CmdStan start procesing\n",
      "INFO:cmdstanpy:Chain [1] start processing\n",
      "INFO:cmdstanpy:Chain [2] start processing\n",
      "INFO:cmdstanpy:Chain [3] start processing\n",
      "INFO:cmdstanpy:Chain [4] start processing\n"
     ]
    },
    {
     "name": "stdout",
     "output_type": "stream",
     "text": [
      "Fitting toy MC bin no.7\n",
      "0.9498521505376345\n",
      "372 287\n"
     ]
    },
    {
     "name": "stderr",
     "output_type": "stream",
     "text": [
      "INFO:cmdstanpy:Chain [3] done processing\n",
      "INFO:cmdstanpy:Chain [4] done processing\n",
      "INFO:cmdstanpy:Chain [2] done processing\n",
      "INFO:cmdstanpy:Chain [1] done processing\n",
      "INFO:cmdstanpy:found newer exe file, not recompiling\n",
      "INFO:cmdstanpy:found newer exe file, not recompiling\n",
      "INFO:cmdstanpy:CmdStan start procesing\n",
      "INFO:cmdstanpy:Chain [1] start processing\n",
      "INFO:cmdstanpy:Chain [2] start processing\n",
      "INFO:cmdstanpy:Chain [3] start processing\n",
      "INFO:cmdstanpy:Chain [4] start processing\n"
     ]
    },
    {
     "name": "stdout",
     "output_type": "stream",
     "text": [
      "Fitting toy MC bin no.8\n",
      "0.94984375\n",
      "416 321\n"
     ]
    },
    {
     "name": "stderr",
     "output_type": "stream",
     "text": [
      "INFO:cmdstanpy:Chain [3] done processing\n",
      "INFO:cmdstanpy:Chain [2] done processing\n",
      "INFO:cmdstanpy:Chain [1] done processing\n",
      "INFO:cmdstanpy:Chain [4] done processing\n",
      "INFO:cmdstanpy:found newer exe file, not recompiling\n",
      "INFO:cmdstanpy:found newer exe file, not recompiling\n",
      "INFO:cmdstanpy:CmdStan start procesing\n",
      "INFO:cmdstanpy:Chain [1] start processing\n",
      "INFO:cmdstanpy:Chain [2] start processing\n",
      "INFO:cmdstanpy:Chain [3] start processing\n",
      "INFO:cmdstanpy:Chain [4] start processing\n"
     ]
    },
    {
     "name": "stdout",
     "output_type": "stream",
     "text": [
      "Fitting toy MC bin no.9\n",
      "0.9499500000000001\n",
      "400 308\n"
     ]
    },
    {
     "name": "stderr",
     "output_type": "stream",
     "text": [
      "INFO:cmdstanpy:Chain [4] done processing\n",
      "INFO:cmdstanpy:Chain [1] done processing\n",
      "INFO:cmdstanpy:Chain [2] done processing\n",
      "INFO:cmdstanpy:Chain [3] done processing\n",
      "INFO:cmdstanpy:found newer exe file, not recompiling\n",
      "INFO:cmdstanpy:found newer exe file, not recompiling\n",
      "INFO:cmdstanpy:CmdStan start procesing\n",
      "INFO:cmdstanpy:Chain [1] start processing\n",
      "INFO:cmdstanpy:Chain [2] start processing\n",
      "INFO:cmdstanpy:Chain [3] start processing\n",
      "INFO:cmdstanpy:Chain [4] start processing\n"
     ]
    },
    {
     "name": "stdout",
     "output_type": "stream",
     "text": [
      "Fitting toy MC bin no.10\n",
      "0.9498958333333333\n",
      "384 296\n"
     ]
    },
    {
     "name": "stderr",
     "output_type": "stream",
     "text": [
      "INFO:cmdstanpy:Chain [4] done processing\n",
      "INFO:cmdstanpy:Chain [2] done processing\n",
      "INFO:cmdstanpy:Chain [1] done processing\n",
      "INFO:cmdstanpy:Chain [3] done processing\n",
      "INFO:cmdstanpy:found newer exe file, not recompiling\n",
      "INFO:cmdstanpy:found newer exe file, not recompiling\n",
      "INFO:cmdstanpy:CmdStan start procesing\n",
      "INFO:cmdstanpy:Chain [1] start processing\n",
      "INFO:cmdstanpy:Chain [2] start processing\n",
      "INFO:cmdstanpy:Chain [3] start processing\n",
      "INFO:cmdstanpy:Chain [4] start processing\n"
     ]
    },
    {
     "name": "stdout",
     "output_type": "stream",
     "text": [
      "Fitting toy MC bin no.11\n",
      "0.9501125\n",
      "400 307\n"
     ]
    },
    {
     "name": "stderr",
     "output_type": "stream",
     "text": [
      "INFO:cmdstanpy:Chain [4] done processing\n",
      "INFO:cmdstanpy:Chain [3] done processing\n",
      "INFO:cmdstanpy:Chain [2] done processing\n",
      "INFO:cmdstanpy:Chain [1] done processing\n",
      "INFO:cmdstanpy:found newer exe file, not recompiling\n",
      "INFO:cmdstanpy:found newer exe file, not recompiling\n",
      "INFO:cmdstanpy:CmdStan start procesing\n",
      "INFO:cmdstanpy:Chain [1] start processing\n",
      "INFO:cmdstanpy:Chain [2] start processing\n",
      "INFO:cmdstanpy:Chain [3] start processing\n",
      "INFO:cmdstanpy:Chain [4] start processing\n"
     ]
    },
    {
     "name": "stdout",
     "output_type": "stream",
     "text": [
      "Fitting toy MC bin no.12\n",
      "0.9498795180722891\n",
      "415 320\n"
     ]
    },
    {
     "name": "stderr",
     "output_type": "stream",
     "text": [
      "INFO:cmdstanpy:Chain [3] done processing\n",
      "INFO:cmdstanpy:Chain [2] done processing\n",
      "INFO:cmdstanpy:Chain [4] done processing\n",
      "INFO:cmdstanpy:Chain [1] done processing\n",
      "INFO:cmdstanpy:found newer exe file, not recompiling\n",
      "INFO:cmdstanpy:found newer exe file, not recompiling\n",
      "INFO:cmdstanpy:CmdStan start procesing\n",
      "INFO:cmdstanpy:Chain [1] start processing\n",
      "INFO:cmdstanpy:Chain [2] start processing\n",
      "INFO:cmdstanpy:Chain [3] start processing\n",
      "INFO:cmdstanpy:Chain [4] start processing\n"
     ]
    },
    {
     "name": "stdout",
     "output_type": "stream",
     "text": [
      "Fitting toy MC bin no.13\n",
      "0.9498921832884097\n",
      "371 286\n"
     ]
    },
    {
     "name": "stderr",
     "output_type": "stream",
     "text": [
      "INFO:cmdstanpy:Chain [4] done processing\n",
      "INFO:cmdstanpy:Chain [3] done processing\n",
      "INFO:cmdstanpy:Chain [2] done processing\n",
      "INFO:cmdstanpy:Chain [1] done processing\n",
      "INFO:cmdstanpy:found newer exe file, not recompiling\n",
      "INFO:cmdstanpy:found newer exe file, not recompiling\n",
      "INFO:cmdstanpy:CmdStan start procesing\n",
      "INFO:cmdstanpy:Chain [1] start processing\n",
      "INFO:cmdstanpy:Chain [2] start processing\n",
      "INFO:cmdstanpy:Chain [3] start processing\n",
      "INFO:cmdstanpy:Chain [4] start processing\n"
     ]
    },
    {
     "name": "stdout",
     "output_type": "stream",
     "text": [
      "Fitting toy MC bin no.14\n",
      "0.9497803617571059\n",
      "387 299\n"
     ]
    },
    {
     "name": "stderr",
     "output_type": "stream",
     "text": [
      "INFO:cmdstanpy:Chain [1] done processing\n",
      "INFO:cmdstanpy:Chain [2] done processing\n",
      "INFO:cmdstanpy:Chain [4] done processing\n",
      "INFO:cmdstanpy:Chain [3] done processing\n",
      "INFO:cmdstanpy:found newer exe file, not recompiling\n",
      "INFO:cmdstanpy:found newer exe file, not recompiling\n",
      "INFO:cmdstanpy:CmdStan start procesing\n",
      "INFO:cmdstanpy:Chain [1] start processing\n",
      "INFO:cmdstanpy:Chain [2] start processing\n",
      "INFO:cmdstanpy:Chain [3] start processing\n",
      "INFO:cmdstanpy:Chain [4] start processing\n"
     ]
    },
    {
     "name": "stdout",
     "output_type": "stream",
     "text": [
      "Fitting toy MC bin no.15\n",
      "0.9499208443271767\n",
      "379 292\n"
     ]
    },
    {
     "name": "stderr",
     "output_type": "stream",
     "text": [
      "INFO:cmdstanpy:Chain [4] done processing\n",
      "INFO:cmdstanpy:Chain [1] done processing\n",
      "INFO:cmdstanpy:Chain [3] done processing\n",
      "INFO:cmdstanpy:Chain [2] done processing\n",
      "INFO:cmdstanpy:found newer exe file, not recompiling\n",
      "INFO:cmdstanpy:found newer exe file, not recompiling\n",
      "INFO:cmdstanpy:CmdStan start procesing\n",
      "INFO:cmdstanpy:Chain [1] start processing\n",
      "INFO:cmdstanpy:Chain [2] start processing\n",
      "INFO:cmdstanpy:Chain [3] start processing\n",
      "INFO:cmdstanpy:Chain [4] start processing\n"
     ]
    },
    {
     "name": "stdout",
     "output_type": "stream",
     "text": [
      "Fitting toy MC bin no.16\n",
      "0.9498352941176471\n",
      "425 328\n"
     ]
    },
    {
     "name": "stderr",
     "output_type": "stream",
     "text": [
      "INFO:cmdstanpy:Chain [1] done processing\n",
      "INFO:cmdstanpy:Chain [3] done processing\n",
      "INFO:cmdstanpy:Chain [4] done processing\n",
      "INFO:cmdstanpy:Chain [2] done processing\n",
      "INFO:cmdstanpy:found newer exe file, not recompiling\n",
      "INFO:cmdstanpy:found newer exe file, not recompiling\n",
      "INFO:cmdstanpy:CmdStan start procesing\n",
      "INFO:cmdstanpy:Chain [1] start processing\n",
      "INFO:cmdstanpy:Chain [2] start processing\n",
      "INFO:cmdstanpy:Chain [3] start processing\n",
      "INFO:cmdstanpy:Chain [4] start processing\n"
     ]
    },
    {
     "name": "stdout",
     "output_type": "stream",
     "text": [
      "Fitting toy MC bin no.17\n",
      "0.9500243309002433\n",
      "411 316\n"
     ]
    },
    {
     "name": "stderr",
     "output_type": "stream",
     "text": [
      "INFO:cmdstanpy:Chain [1] done processing\n",
      "INFO:cmdstanpy:Chain [4] done processing\n",
      "INFO:cmdstanpy:Chain [2] done processing\n",
      "INFO:cmdstanpy:Chain [3] done processing\n",
      "INFO:cmdstanpy:found newer exe file, not recompiling\n",
      "INFO:cmdstanpy:found newer exe file, not recompiling\n",
      "INFO:cmdstanpy:CmdStan start procesing\n",
      "INFO:cmdstanpy:Chain [1] start processing\n",
      "INFO:cmdstanpy:Chain [2] start processing\n",
      "INFO:cmdstanpy:Chain [3] start processing\n",
      "INFO:cmdstanpy:Chain [4] start processing\n"
     ]
    },
    {
     "name": "stdout",
     "output_type": "stream",
     "text": [
      "Fitting toy MC bin no.18\n",
      "0.949925925925926\n",
      "405 312\n"
     ]
    },
    {
     "name": "stderr",
     "output_type": "stream",
     "text": [
      "INFO:cmdstanpy:Chain [3] done processing\n",
      "INFO:cmdstanpy:Chain [2] done processing\n",
      "INFO:cmdstanpy:Chain [1] done processing\n",
      "INFO:cmdstanpy:Chain [4] done processing\n",
      "INFO:cmdstanpy:found newer exe file, not recompiling\n",
      "INFO:cmdstanpy:found newer exe file, not recompiling\n",
      "INFO:cmdstanpy:CmdStan start procesing\n",
      "INFO:cmdstanpy:Chain [1] start processing\n",
      "INFO:cmdstanpy:Chain [2] start processing\n",
      "INFO:cmdstanpy:Chain [3] start processing\n",
      "INFO:cmdstanpy:Chain [4] start processing\n"
     ]
    },
    {
     "name": "stdout",
     "output_type": "stream",
     "text": [
      "Fitting toy MC bin no.19\n",
      "0.949925925925926\n",
      "405 312\n"
     ]
    },
    {
     "name": "stderr",
     "output_type": "stream",
     "text": [
      "INFO:cmdstanpy:Chain [1] done processing\n",
      "INFO:cmdstanpy:Chain [4] done processing\n",
      "INFO:cmdstanpy:Chain [3] done processing\n",
      "INFO:cmdstanpy:Chain [2] done processing\n",
      "INFO:cmdstanpy:found newer exe file, not recompiling\n",
      "INFO:cmdstanpy:found newer exe file, not recompiling\n",
      "INFO:cmdstanpy:CmdStan start procesing\n",
      "INFO:cmdstanpy:Chain [1] start processing\n",
      "INFO:cmdstanpy:Chain [2] start processing\n",
      "INFO:cmdstanpy:Chain [3] start processing\n",
      "INFO:cmdstanpy:Chain [4] start processing\n"
     ]
    },
    {
     "name": "stdout",
     "output_type": "stream",
     "text": [
      "Fitting toy MC bin no.20\n",
      "0.9499388753056234\n",
      "409 315\n"
     ]
    },
    {
     "name": "stderr",
     "output_type": "stream",
     "text": [
      "INFO:cmdstanpy:Chain [2] done processing\n",
      "INFO:cmdstanpy:Chain [4] done processing\n",
      "INFO:cmdstanpy:Chain [1] done processing\n",
      "INFO:cmdstanpy:Chain [3] done processing\n",
      "INFO:cmdstanpy:found newer exe file, not recompiling\n",
      "INFO:cmdstanpy:found newer exe file, not recompiling\n",
      "INFO:cmdstanpy:CmdStan start procesing\n",
      "INFO:cmdstanpy:Chain [1] start processing\n",
      "INFO:cmdstanpy:Chain [2] start processing\n",
      "INFO:cmdstanpy:Chain [3] start processing\n",
      "INFO:cmdstanpy:Chain [4] start processing\n"
     ]
    },
    {
     "name": "stdout",
     "output_type": "stream",
     "text": [
      "Fitting toy MC bin no.21\n",
      "0.9498815789473684\n",
      "380 293\n"
     ]
    },
    {
     "name": "stderr",
     "output_type": "stream",
     "text": [
      "INFO:cmdstanpy:Chain [1] done processing\n",
      "INFO:cmdstanpy:Chain [3] done processing\n",
      "INFO:cmdstanpy:Chain [2] done processing\n",
      "INFO:cmdstanpy:Chain [4] done processing\n",
      "INFO:cmdstanpy:found newer exe file, not recompiling\n",
      "INFO:cmdstanpy:found newer exe file, not recompiling\n",
      "INFO:cmdstanpy:CmdStan start procesing\n",
      "INFO:cmdstanpy:Chain [1] start processing\n",
      "INFO:cmdstanpy:Chain [2] start processing\n",
      "INFO:cmdstanpy:Chain [3] start processing\n",
      "INFO:cmdstanpy:Chain [4] start processing\n"
     ]
    },
    {
     "name": "stdout",
     "output_type": "stream",
     "text": [
      "Fitting toy MC bin no.22\n",
      "0.9498081534772183\n",
      "417 322\n"
     ]
    },
    {
     "name": "stderr",
     "output_type": "stream",
     "text": [
      "INFO:cmdstanpy:Chain [1] done processing\n",
      "INFO:cmdstanpy:Chain [4] done processing\n",
      "INFO:cmdstanpy:Chain [3] done processing\n",
      "INFO:cmdstanpy:Chain [2] done processing\n",
      "INFO:cmdstanpy:found newer exe file, not recompiling\n",
      "INFO:cmdstanpy:found newer exe file, not recompiling\n",
      "INFO:cmdstanpy:CmdStan start procesing\n",
      "INFO:cmdstanpy:Chain [1] start processing\n",
      "INFO:cmdstanpy:Chain [2] start processing\n",
      "INFO:cmdstanpy:Chain [3] start processing\n",
      "INFO:cmdstanpy:Chain [4] start processing\n"
     ]
    },
    {
     "name": "stdout",
     "output_type": "stream",
     "text": [
      "Fitting toy MC bin no.23\n",
      "0.949934725848564\n",
      "383 295\n"
     ]
    },
    {
     "name": "stderr",
     "output_type": "stream",
     "text": [
      "INFO:cmdstanpy:Chain [4] done processing\n",
      "INFO:cmdstanpy:Chain [3] done processing\n",
      "INFO:cmdstanpy:Chain [2] done processing\n",
      "INFO:cmdstanpy:Chain [1] done processing\n",
      "INFO:cmdstanpy:found newer exe file, not recompiling\n",
      "INFO:cmdstanpy:found newer exe file, not recompiling\n",
      "INFO:cmdstanpy:CmdStan start procesing\n",
      "INFO:cmdstanpy:Chain [1] start processing\n",
      "INFO:cmdstanpy:Chain [2] start processing\n",
      "INFO:cmdstanpy:Chain [3] start processing\n",
      "INFO:cmdstanpy:Chain [4] start processing\n"
     ]
    },
    {
     "name": "stdout",
     "output_type": "stream",
     "text": [
      "Fitting toy MC bin no.24\n",
      "0.9500243309002433\n",
      "411 316\n"
     ]
    },
    {
     "name": "stderr",
     "output_type": "stream",
     "text": [
      "INFO:cmdstanpy:Chain [2] done processing\n",
      "INFO:cmdstanpy:Chain [1] done processing\n",
      "INFO:cmdstanpy:Chain [3] done processing\n",
      "INFO:cmdstanpy:Chain [4] done processing\n",
      "INFO:cmdstanpy:found newer exe file, not recompiling\n",
      "INFO:cmdstanpy:found newer exe file, not recompiling\n",
      "INFO:cmdstanpy:CmdStan start procesing\n",
      "INFO:cmdstanpy:Chain [1] start processing\n",
      "INFO:cmdstanpy:Chain [2] start processing\n",
      "INFO:cmdstanpy:Chain [3] start processing\n",
      "INFO:cmdstanpy:Chain [4] start processing\n"
     ]
    },
    {
     "name": "stdout",
     "output_type": "stream",
     "text": [
      "Fitting toy MC bin no.25\n",
      "0.9499500000000001\n",
      "400 308\n"
     ]
    },
    {
     "name": "stderr",
     "output_type": "stream",
     "text": [
      "INFO:cmdstanpy:Chain [1] done processing\n",
      "INFO:cmdstanpy:Chain [3] done processing\n",
      "INFO:cmdstanpy:Chain [4] done processing\n",
      "INFO:cmdstanpy:Chain [2] done processing\n",
      "INFO:cmdstanpy:found newer exe file, not recompiling\n",
      "INFO:cmdstanpy:found newer exe file, not recompiling\n",
      "INFO:cmdstanpy:CmdStan start procesing\n",
      "INFO:cmdstanpy:Chain [1] start processing\n",
      "INFO:cmdstanpy:Chain [2] start processing\n",
      "INFO:cmdstanpy:Chain [3] start processing\n",
      "INFO:cmdstanpy:Chain [4] start processing\n"
     ]
    },
    {
     "name": "stdout",
     "output_type": "stream",
     "text": [
      "Fitting toy MC bin no.26\n",
      "0.9498300970873786\n",
      "412 318\n"
     ]
    },
    {
     "name": "stderr",
     "output_type": "stream",
     "text": [
      "INFO:cmdstanpy:Chain [2] done processing\n",
      "INFO:cmdstanpy:Chain [4] done processing\n",
      "INFO:cmdstanpy:Chain [1] done processing\n",
      "INFO:cmdstanpy:Chain [3] done processing\n",
      "INFO:cmdstanpy:found newer exe file, not recompiling\n",
      "INFO:cmdstanpy:found newer exe file, not recompiling\n",
      "INFO:cmdstanpy:CmdStan start procesing\n",
      "INFO:cmdstanpy:Chain [1] start processing\n",
      "INFO:cmdstanpy:Chain [2] start processing\n",
      "INFO:cmdstanpy:Chain [3] start processing\n",
      "INFO:cmdstanpy:Chain [4] start processing\n"
     ]
    },
    {
     "name": "stdout",
     "output_type": "stream",
     "text": [
      "Fitting toy MC bin no.27\n",
      "0.9498958333333333\n",
      "384 296\n"
     ]
    },
    {
     "name": "stderr",
     "output_type": "stream",
     "text": [
      "INFO:cmdstanpy:Chain [4] done processing\n",
      "INFO:cmdstanpy:Chain [1] done processing\n",
      "INFO:cmdstanpy:Chain [2] done processing\n",
      "INFO:cmdstanpy:Chain [3] done processing\n",
      "INFO:cmdstanpy:found newer exe file, not recompiling\n",
      "INFO:cmdstanpy:found newer exe file, not recompiling\n",
      "INFO:cmdstanpy:CmdStan start procesing\n",
      "INFO:cmdstanpy:Chain [1] start processing\n",
      "INFO:cmdstanpy:Chain [2] start processing\n",
      "INFO:cmdstanpy:Chain [3] start processing\n",
      "INFO:cmdstanpy:Chain [4] start processing\n"
     ]
    },
    {
     "name": "stdout",
     "output_type": "stream",
     "text": [
      "Fitting toy MC bin no.28\n",
      "0.9501562499999999\n",
      "416 319\n"
     ]
    },
    {
     "name": "stderr",
     "output_type": "stream",
     "text": [
      "INFO:cmdstanpy:Chain [1] done processing\n",
      "INFO:cmdstanpy:Chain [3] done processing\n",
      "INFO:cmdstanpy:Chain [2] done processing\n",
      "INFO:cmdstanpy:Chain [4] done processing\n",
      "INFO:cmdstanpy:found newer exe file, not recompiling\n",
      "INFO:cmdstanpy:found newer exe file, not recompiling\n",
      "INFO:cmdstanpy:CmdStan start procesing\n",
      "INFO:cmdstanpy:Chain [1] start processing\n",
      "INFO:cmdstanpy:Chain [2] start processing\n",
      "INFO:cmdstanpy:Chain [3] start processing\n",
      "INFO:cmdstanpy:Chain [4] start processing\n"
     ]
    },
    {
     "name": "stdout",
     "output_type": "stream",
     "text": [
      "Fitting toy MC bin no.29\n",
      "0.9498387096774195\n",
      "403 311\n"
     ]
    },
    {
     "name": "stderr",
     "output_type": "stream",
     "text": [
      "INFO:cmdstanpy:Chain [4] done processing\n",
      "INFO:cmdstanpy:Chain [3] done processing\n",
      "INFO:cmdstanpy:Chain [2] done processing\n",
      "INFO:cmdstanpy:Chain [1] done processing\n",
      "INFO:cmdstanpy:found newer exe file, not recompiling\n",
      "INFO:cmdstanpy:found newer exe file, not recompiling\n",
      "INFO:cmdstanpy:CmdStan start procesing\n",
      "INFO:cmdstanpy:Chain [1] start processing\n",
      "INFO:cmdstanpy:Chain [2] start processing\n",
      "INFO:cmdstanpy:Chain [3] start processing\n",
      "INFO:cmdstanpy:Chain [4] start processing\n"
     ]
    },
    {
     "name": "stdout",
     "output_type": "stream",
     "text": [
      "Fitting toy MC bin no.30\n",
      "0.9498661800486617\n",
      "411 317\n"
     ]
    },
    {
     "name": "stderr",
     "output_type": "stream",
     "text": [
      "INFO:cmdstanpy:Chain [4] done processing\n",
      "INFO:cmdstanpy:Chain [3] done processing\n",
      "INFO:cmdstanpy:Chain [1] done processing\n",
      "INFO:cmdstanpy:Chain [2] done processing\n",
      "INFO:cmdstanpy:found newer exe file, not recompiling\n",
      "INFO:cmdstanpy:found newer exe file, not recompiling\n",
      "INFO:cmdstanpy:CmdStan start procesing\n",
      "INFO:cmdstanpy:Chain [1] start processing\n",
      "INFO:cmdstanpy:Chain [2] start processing\n",
      "INFO:cmdstanpy:Chain [3] start processing\n",
      "INFO:cmdstanpy:Chain [4] start processing\n"
     ]
    },
    {
     "name": "stdout",
     "output_type": "stream",
     "text": [
      "Fitting toy MC bin no.31\n",
      "0.9499324324324325\n",
      "370 285\n"
     ]
    },
    {
     "name": "stderr",
     "output_type": "stream",
     "text": [
      "INFO:cmdstanpy:Chain [4] done processing\n",
      "INFO:cmdstanpy:Chain [3] done processing\n",
      "INFO:cmdstanpy:Chain [2] done processing\n",
      "INFO:cmdstanpy:Chain [1] done processing\n",
      "INFO:cmdstanpy:found newer exe file, not recompiling\n",
      "INFO:cmdstanpy:found newer exe file, not recompiling\n",
      "INFO:cmdstanpy:CmdStan start procesing\n",
      "INFO:cmdstanpy:Chain [1] start processing\n",
      "INFO:cmdstanpy:Chain [2] start processing\n",
      "INFO:cmdstanpy:Chain [3] start processing\n",
      "INFO:cmdstanpy:Chain [4] start processing\n"
     ]
    },
    {
     "name": "stdout",
     "output_type": "stream",
     "text": [
      "Fitting toy MC bin no.32\n",
      "0.9497803617571059\n",
      "387 299\n"
     ]
    },
    {
     "name": "stderr",
     "output_type": "stream",
     "text": [
      "INFO:cmdstanpy:Chain [3] done processing\n",
      "INFO:cmdstanpy:Chain [1] done processing\n",
      "INFO:cmdstanpy:Chain [2] done processing\n",
      "INFO:cmdstanpy:Chain [4] done processing\n",
      "INFO:cmdstanpy:found newer exe file, not recompiling\n",
      "INFO:cmdstanpy:found newer exe file, not recompiling\n",
      "INFO:cmdstanpy:CmdStan start procesing\n",
      "INFO:cmdstanpy:Chain [1] start processing\n",
      "INFO:cmdstanpy:Chain [2] start processing\n",
      "INFO:cmdstanpy:Chain [3] start processing\n",
      "INFO:cmdstanpy:Chain [4] start processing\n"
     ]
    },
    {
     "name": "stdout",
     "output_type": "stream",
     "text": [
      "Fitting toy MC bin no.33\n",
      "0.9500119047619048\n",
      "420 323\n"
     ]
    },
    {
     "name": "stderr",
     "output_type": "stream",
     "text": [
      "INFO:cmdstanpy:Chain [2] done processing\n",
      "INFO:cmdstanpy:Chain [3] done processing\n",
      "INFO:cmdstanpy:Chain [1] done processing\n",
      "INFO:cmdstanpy:Chain [4] done processing\n",
      "INFO:cmdstanpy:found newer exe file, not recompiling\n",
      "INFO:cmdstanpy:found newer exe file, not recompiling\n",
      "INFO:cmdstanpy:CmdStan start procesing\n",
      "INFO:cmdstanpy:Chain [1] start processing\n",
      "INFO:cmdstanpy:Chain [2] start processing\n",
      "INFO:cmdstanpy:Chain [3] start processing\n",
      "INFO:cmdstanpy:Chain [4] start processing\n"
     ]
    },
    {
     "name": "stdout",
     "output_type": "stream",
     "text": [
      "Fitting toy MC bin no.34\n",
      "0.9500115473441109\n",
      "433 333\n"
     ]
    },
    {
     "name": "stderr",
     "output_type": "stream",
     "text": [
      "INFO:cmdstanpy:Chain [1] done processing\n",
      "INFO:cmdstanpy:Chain [4] done processing\n",
      "INFO:cmdstanpy:Chain [2] done processing\n",
      "INFO:cmdstanpy:Chain [3] done processing\n",
      "INFO:cmdstanpy:found newer exe file, not recompiling\n",
      "INFO:cmdstanpy:found newer exe file, not recompiling\n",
      "INFO:cmdstanpy:CmdStan start procesing\n",
      "INFO:cmdstanpy:Chain [1] start processing\n",
      "INFO:cmdstanpy:Chain [2] start processing\n",
      "INFO:cmdstanpy:Chain [3] start processing\n",
      "INFO:cmdstanpy:Chain [4] start processing\n"
     ]
    },
    {
     "name": "stdout",
     "output_type": "stream",
     "text": [
      "Fitting toy MC bin no.35\n",
      "0.9499754901960784\n",
      "408 314\n"
     ]
    },
    {
     "name": "stderr",
     "output_type": "stream",
     "text": [
      "INFO:cmdstanpy:Chain [4] done processing\n",
      "INFO:cmdstanpy:Chain [1] done processing\n",
      "INFO:cmdstanpy:Chain [3] done processing\n",
      "INFO:cmdstanpy:Chain [2] done processing\n",
      "INFO:cmdstanpy:found newer exe file, not recompiling\n",
      "INFO:cmdstanpy:found newer exe file, not recompiling\n",
      "INFO:cmdstanpy:CmdStan start procesing\n",
      "INFO:cmdstanpy:Chain [1] start processing\n",
      "INFO:cmdstanpy:Chain [2] start processing\n",
      "INFO:cmdstanpy:Chain [3] start processing\n",
      "INFO:cmdstanpy:Chain [4] start processing\n"
     ]
    },
    {
     "name": "stdout",
     "output_type": "stream",
     "text": [
      "Fitting toy MC bin no.36\n",
      "0.9499870466321243\n",
      "386 297\n"
     ]
    },
    {
     "name": "stderr",
     "output_type": "stream",
     "text": [
      "INFO:cmdstanpy:Chain [2] done processing\n",
      "INFO:cmdstanpy:Chain [3] done processing\n",
      "INFO:cmdstanpy:Chain [4] done processing\n",
      "INFO:cmdstanpy:Chain [1] done processing\n",
      "INFO:cmdstanpy:found newer exe file, not recompiling\n",
      "INFO:cmdstanpy:found newer exe file, not recompiling\n",
      "INFO:cmdstanpy:CmdStan start procesing\n",
      "INFO:cmdstanpy:Chain [1] start processing\n",
      "INFO:cmdstanpy:Chain [2] start processing\n",
      "INFO:cmdstanpy:Chain [3] start processing\n",
      "INFO:cmdstanpy:Chain [4] start processing\n"
     ]
    },
    {
     "name": "stdout",
     "output_type": "stream",
     "text": [
      "Fitting toy MC bin no.37\n",
      "0.9498101265822785\n",
      "395 305\n"
     ]
    },
    {
     "name": "stderr",
     "output_type": "stream",
     "text": [
      "INFO:cmdstanpy:Chain [4] done processing\n",
      "INFO:cmdstanpy:Chain [3] done processing\n",
      "INFO:cmdstanpy:Chain [1] done processing\n",
      "INFO:cmdstanpy:Chain [2] done processing\n",
      "INFO:cmdstanpy:found newer exe file, not recompiling\n",
      "INFO:cmdstanpy:found newer exe file, not recompiling\n",
      "INFO:cmdstanpy:CmdStan start procesing\n",
      "INFO:cmdstanpy:Chain [1] start processing\n",
      "INFO:cmdstanpy:Chain [2] start processing\n",
      "INFO:cmdstanpy:Chain [3] start processing\n",
      "INFO:cmdstanpy:Chain [4] start processing\n"
     ]
    },
    {
     "name": "stdout",
     "output_type": "stream",
     "text": [
      "Fitting toy MC bin no.38\n",
      "0.9498891625615763\n",
      "406 313\n"
     ]
    },
    {
     "name": "stderr",
     "output_type": "stream",
     "text": [
      "INFO:cmdstanpy:Chain [1] done processing\n",
      "INFO:cmdstanpy:Chain [3] done processing\n",
      "INFO:cmdstanpy:Chain [2] done processing\n",
      "INFO:cmdstanpy:Chain [4] done processing\n",
      "INFO:cmdstanpy:found newer exe file, not recompiling\n",
      "INFO:cmdstanpy:found newer exe file, not recompiling\n",
      "INFO:cmdstanpy:CmdStan start procesing\n",
      "INFO:cmdstanpy:Chain [1] start processing\n",
      "INFO:cmdstanpy:Chain [2] start processing\n",
      "INFO:cmdstanpy:Chain [3] start processing\n",
      "INFO:cmdstanpy:Chain [4] start processing\n"
     ]
    },
    {
     "name": "stdout",
     "output_type": "stream",
     "text": [
      "Fitting toy MC bin no.39\n",
      "0.9500235849056604\n",
      "424 326\n"
     ]
    },
    {
     "name": "stderr",
     "output_type": "stream",
     "text": [
      "INFO:cmdstanpy:Chain [2] done processing\n",
      "INFO:cmdstanpy:Chain [1] done processing\n",
      "INFO:cmdstanpy:Chain [3] done processing\n",
      "INFO:cmdstanpy:Chain [4] done processing\n",
      "INFO:cmdstanpy:found newer exe file, not recompiling\n",
      "INFO:cmdstanpy:found newer exe file, not recompiling\n",
      "INFO:cmdstanpy:CmdStan start procesing\n",
      "INFO:cmdstanpy:Chain [1] start processing\n",
      "INFO:cmdstanpy:Chain [2] start processing\n",
      "INFO:cmdstanpy:Chain [3] start processing\n",
      "INFO:cmdstanpy:Chain [4] start processing\n"
     ]
    },
    {
     "name": "stdout",
     "output_type": "stream",
     "text": [
      "Fitting toy MC bin no.40\n",
      "0.9499874686716793\n",
      "399 307\n"
     ]
    },
    {
     "name": "stderr",
     "output_type": "stream",
     "text": [
      "INFO:cmdstanpy:Chain [2] done processing\n",
      "INFO:cmdstanpy:Chain [4] done processing\n",
      "INFO:cmdstanpy:Chain [1] done processing\n",
      "INFO:cmdstanpy:Chain [3] done processing\n",
      "INFO:cmdstanpy:found newer exe file, not recompiling\n",
      "INFO:cmdstanpy:found newer exe file, not recompiling\n",
      "INFO:cmdstanpy:CmdStan start procesing\n",
      "INFO:cmdstanpy:Chain [1] start processing\n",
      "INFO:cmdstanpy:Chain [2] start processing\n",
      "INFO:cmdstanpy:Chain [3] start processing\n",
      "INFO:cmdstanpy:Chain [4] start processing\n"
     ]
    },
    {
     "name": "stdout",
     "output_type": "stream",
     "text": [
      "Fitting toy MC bin no.41\n",
      "0.9498571428571428\n",
      "420 324\n"
     ]
    },
    {
     "name": "stderr",
     "output_type": "stream",
     "text": [
      "INFO:cmdstanpy:Chain [2] done processing\n",
      "INFO:cmdstanpy:Chain [1] done processing\n",
      "INFO:cmdstanpy:Chain [4] done processing\n",
      "INFO:cmdstanpy:Chain [3] done processing\n",
      "INFO:cmdstanpy:found newer exe file, not recompiling\n",
      "INFO:cmdstanpy:found newer exe file, not recompiling\n",
      "INFO:cmdstanpy:CmdStan start procesing\n",
      "INFO:cmdstanpy:Chain [1] start processing\n",
      "INFO:cmdstanpy:Chain [2] start processing\n",
      "INFO:cmdstanpy:Chain [3] start processing\n",
      "INFO:cmdstanpy:Chain [4] start processing\n"
     ]
    },
    {
     "name": "stdout",
     "output_type": "stream",
     "text": [
      "Fitting toy MC bin no.42\n",
      "0.9499762470308789\n",
      "421 324\n"
     ]
    },
    {
     "name": "stderr",
     "output_type": "stream",
     "text": [
      "INFO:cmdstanpy:Chain [1] done processing\n",
      "INFO:cmdstanpy:Chain [2] done processing\n",
      "INFO:cmdstanpy:Chain [4] done processing\n",
      "INFO:cmdstanpy:Chain [3] done processing\n",
      "INFO:cmdstanpy:found newer exe file, not recompiling\n",
      "INFO:cmdstanpy:found newer exe file, not recompiling\n",
      "INFO:cmdstanpy:CmdStan start procesing\n",
      "INFO:cmdstanpy:Chain [1] start processing\n",
      "INFO:cmdstanpy:Chain [2] start processing\n",
      "INFO:cmdstanpy:Chain [3] start processing\n",
      "INFO:cmdstanpy:Chain [4] start processing\n"
     ]
    },
    {
     "name": "stdout",
     "output_type": "stream",
     "text": [
      "Fitting toy MC bin no.43\n",
      "0.9500361445783132\n",
      "415 319\n"
     ]
    },
    {
     "name": "stderr",
     "output_type": "stream",
     "text": [
      "INFO:cmdstanpy:Chain [4] done processing\n",
      "INFO:cmdstanpy:Chain [2] done processing\n",
      "INFO:cmdstanpy:Chain [3] done processing\n",
      "INFO:cmdstanpy:Chain [1] done processing\n",
      "INFO:cmdstanpy:found newer exe file, not recompiling\n",
      "INFO:cmdstanpy:found newer exe file, not recompiling\n",
      "INFO:cmdstanpy:CmdStan start procesing\n",
      "INFO:cmdstanpy:Chain [1] start processing\n",
      "INFO:cmdstanpy:Chain [2] start processing\n",
      "INFO:cmdstanpy:Chain [3] start processing\n",
      "INFO:cmdstanpy:Chain [4] start processing\n"
     ]
    },
    {
     "name": "stdout",
     "output_type": "stream",
     "text": [
      "Fitting toy MC bin no.44\n",
      "0.9498795180722891\n",
      "415 320\n"
     ]
    },
    {
     "name": "stderr",
     "output_type": "stream",
     "text": [
      "INFO:cmdstanpy:Chain [1] done processing\n",
      "INFO:cmdstanpy:Chain [2] done processing\n",
      "INFO:cmdstanpy:Chain [3] done processing\n",
      "INFO:cmdstanpy:Chain [4] done processing\n",
      "INFO:cmdstanpy:found newer exe file, not recompiling\n",
      "INFO:cmdstanpy:found newer exe file, not recompiling\n",
      "INFO:cmdstanpy:CmdStan start procesing\n",
      "INFO:cmdstanpy:Chain [1] start processing\n",
      "INFO:cmdstanpy:Chain [2] start processing\n",
      "INFO:cmdstanpy:Chain [3] start processing\n",
      "INFO:cmdstanpy:Chain [4] start processing\n"
     ]
    },
    {
     "name": "stdout",
     "output_type": "stream",
     "text": [
      "Fitting toy MC bin no.45\n",
      "0.9498387096774195\n",
      "403 311\n"
     ]
    },
    {
     "name": "stderr",
     "output_type": "stream",
     "text": [
      "INFO:cmdstanpy:Chain [3] done processing\n",
      "INFO:cmdstanpy:Chain [2] done processing\n",
      "INFO:cmdstanpy:Chain [1] done processing\n",
      "INFO:cmdstanpy:Chain [4] done processing\n",
      "INFO:cmdstanpy:found newer exe file, not recompiling\n",
      "INFO:cmdstanpy:found newer exe file, not recompiling\n",
      "INFO:cmdstanpy:CmdStan start procesing\n",
      "INFO:cmdstanpy:Chain [1] start processing\n",
      "INFO:cmdstanpy:Chain [2] start processing\n",
      "INFO:cmdstanpy:Chain [3] start processing\n",
      "INFO:cmdstanpy:Chain [4] start processing\n"
     ]
    },
    {
     "name": "stdout",
     "output_type": "stream",
     "text": [
      "Fitting toy MC bin no.46\n",
      "0.9499500000000001\n",
      "400 308\n"
     ]
    },
    {
     "name": "stderr",
     "output_type": "stream",
     "text": [
      "INFO:cmdstanpy:Chain [1] done processing\n",
      "INFO:cmdstanpy:Chain [2] done processing\n",
      "INFO:cmdstanpy:Chain [4] done processing\n",
      "INFO:cmdstanpy:Chain [3] done processing\n",
      "INFO:cmdstanpy:found newer exe file, not recompiling\n",
      "INFO:cmdstanpy:found newer exe file, not recompiling\n",
      "INFO:cmdstanpy:CmdStan start procesing\n",
      "INFO:cmdstanpy:Chain [1] start processing\n",
      "INFO:cmdstanpy:Chain [2] start processing\n",
      "INFO:cmdstanpy:Chain [3] start processing\n",
      "INFO:cmdstanpy:Chain [4] start processing\n"
     ]
    },
    {
     "name": "stdout",
     "output_type": "stream",
     "text": [
      "Fitting toy MC bin no.47\n",
      "0.9498369565217392\n",
      "460 355\n"
     ]
    },
    {
     "name": "stderr",
     "output_type": "stream",
     "text": [
      "INFO:cmdstanpy:Chain [4] done processing\n",
      "INFO:cmdstanpy:Chain [1] done processing\n",
      "INFO:cmdstanpy:Chain [2] done processing\n",
      "INFO:cmdstanpy:Chain [3] done processing\n",
      "INFO:cmdstanpy:found newer exe file, not recompiling\n",
      "INFO:cmdstanpy:found newer exe file, not recompiling\n",
      "INFO:cmdstanpy:CmdStan start procesing\n",
      "INFO:cmdstanpy:Chain [1] start processing\n",
      "INFO:cmdstanpy:Chain [2] start processing\n",
      "INFO:cmdstanpy:Chain [3] start processing\n",
      "INFO:cmdstanpy:Chain [4] start processing\n"
     ]
    },
    {
     "name": "stdout",
     "output_type": "stream",
     "text": [
      "Fitting toy MC bin no.48\n",
      "0.9498387096774195\n",
      "403 311\n"
     ]
    },
    {
     "name": "stderr",
     "output_type": "stream",
     "text": [
      "INFO:cmdstanpy:Chain [3] done processing\n",
      "INFO:cmdstanpy:Chain [1] done processing\n",
      "INFO:cmdstanpy:Chain [2] done processing\n",
      "INFO:cmdstanpy:Chain [4] done processing\n",
      "INFO:cmdstanpy:found newer exe file, not recompiling\n",
      "INFO:cmdstanpy:found newer exe file, not recompiling\n",
      "INFO:cmdstanpy:CmdStan start procesing\n",
      "INFO:cmdstanpy:Chain [1] start processing\n",
      "INFO:cmdstanpy:Chain [2] start processing\n",
      "INFO:cmdstanpy:Chain [3] start processing\n",
      "INFO:cmdstanpy:Chain [4] start processing\n"
     ]
    },
    {
     "name": "stdout",
     "output_type": "stream",
     "text": [
      "Fitting toy MC bin no.49\n",
      "0.949925925925926\n",
      "405 312\n"
     ]
    },
    {
     "name": "stderr",
     "output_type": "stream",
     "text": [
      "INFO:cmdstanpy:Chain [2] done processing\n",
      "INFO:cmdstanpy:Chain [4] done processing\n",
      "INFO:cmdstanpy:Chain [3] done processing\n",
      "INFO:cmdstanpy:Chain [1] done processing\n",
      "INFO:cmdstanpy:found newer exe file, not recompiling\n",
      "INFO:cmdstanpy:found newer exe file, not recompiling\n",
      "INFO:cmdstanpy:CmdStan start procesing\n",
      "INFO:cmdstanpy:Chain [1] start processing\n",
      "INFO:cmdstanpy:Chain [2] start processing\n",
      "INFO:cmdstanpy:Chain [3] start processing\n",
      "INFO:cmdstanpy:Chain [4] start processing\n"
     ]
    },
    {
     "name": "stdout",
     "output_type": "stream",
     "text": [
      "Fitting toy MC bin no.50\n",
      "0.9499054373522459\n",
      "423 326\n"
     ]
    },
    {
     "name": "stderr",
     "output_type": "stream",
     "text": [
      "INFO:cmdstanpy:Chain [1] done processing\n",
      "INFO:cmdstanpy:Chain [4] done processing\n",
      "INFO:cmdstanpy:Chain [3] done processing\n",
      "INFO:cmdstanpy:Chain [2] done processing\n",
      "INFO:cmdstanpy:found newer exe file, not recompiling\n",
      "INFO:cmdstanpy:found newer exe file, not recompiling\n",
      "INFO:cmdstanpy:CmdStan start procesing\n",
      "INFO:cmdstanpy:Chain [1] start processing\n",
      "INFO:cmdstanpy:Chain [2] start processing\n",
      "INFO:cmdstanpy:Chain [3] start processing\n",
      "INFO:cmdstanpy:Chain [4] start processing\n"
     ]
    },
    {
     "name": "stdout",
     "output_type": "stream",
     "text": [
      "Fitting toy MC bin no.51\n",
      "0.9498958333333333\n",
      "384 296\n"
     ]
    },
    {
     "name": "stderr",
     "output_type": "stream",
     "text": [
      "INFO:cmdstanpy:Chain [2] done processing\n",
      "INFO:cmdstanpy:Chain [4] done processing\n",
      "INFO:cmdstanpy:Chain [1] done processing\n",
      "INFO:cmdstanpy:Chain [3] done processing\n",
      "INFO:cmdstanpy:found newer exe file, not recompiling\n",
      "INFO:cmdstanpy:found newer exe file, not recompiling\n",
      "INFO:cmdstanpy:CmdStan start procesing\n",
      "INFO:cmdstanpy:Chain [1] start processing\n",
      "INFO:cmdstanpy:Chain [2] start processing\n",
      "INFO:cmdstanpy:Chain [3] start processing\n",
      "INFO:cmdstanpy:Chain [4] start processing\n"
     ]
    },
    {
     "name": "stdout",
     "output_type": "stream",
     "text": [
      "Fitting toy MC bin no.52\n",
      "0.9500251256281408\n",
      "398 306\n"
     ]
    },
    {
     "name": "stderr",
     "output_type": "stream",
     "text": [
      "INFO:cmdstanpy:Chain [2] done processing\n",
      "INFO:cmdstanpy:Chain [1] done processing\n",
      "INFO:cmdstanpy:Chain [4] done processing\n",
      "INFO:cmdstanpy:Chain [3] done processing\n",
      "INFO:cmdstanpy:found newer exe file, not recompiling\n",
      "INFO:cmdstanpy:found newer exe file, not recompiling\n",
      "INFO:cmdstanpy:CmdStan start procesing\n",
      "INFO:cmdstanpy:Chain [1] start processing\n",
      "INFO:cmdstanpy:Chain [2] start processing\n",
      "INFO:cmdstanpy:Chain [3] start processing\n",
      "INFO:cmdstanpy:Chain [4] start processing\n"
     ]
    },
    {
     "name": "stdout",
     "output_type": "stream",
     "text": [
      "Fitting toy MC bin no.53\n",
      "0.9498926014319808\n",
      "419 323\n"
     ]
    },
    {
     "name": "stderr",
     "output_type": "stream",
     "text": [
      "INFO:cmdstanpy:Chain [4] done processing\n",
      "INFO:cmdstanpy:Chain [3] done processing\n",
      "INFO:cmdstanpy:Chain [1] done processing\n",
      "INFO:cmdstanpy:Chain [2] done processing\n",
      "INFO:cmdstanpy:found newer exe file, not recompiling\n",
      "INFO:cmdstanpy:found newer exe file, not recompiling\n",
      "INFO:cmdstanpy:CmdStan start procesing\n",
      "INFO:cmdstanpy:Chain [1] start processing\n",
      "INFO:cmdstanpy:Chain [2] start processing\n",
      "INFO:cmdstanpy:Chain [3] start processing\n",
      "INFO:cmdstanpy:Chain [4] start processing\n"
     ]
    },
    {
     "name": "stdout",
     "output_type": "stream",
     "text": [
      "Fitting toy MC bin no.54\n",
      "0.9500000000000001\n",
      "364 280\n"
     ]
    },
    {
     "name": "stderr",
     "output_type": "stream",
     "text": [
      "INFO:cmdstanpy:Chain [4] done processing\n",
      "INFO:cmdstanpy:Chain [3] done processing\n",
      "INFO:cmdstanpy:Chain [2] done processing\n",
      "INFO:cmdstanpy:Chain [1] done processing\n",
      "INFO:cmdstanpy:found newer exe file, not recompiling\n",
      "INFO:cmdstanpy:found newer exe file, not recompiling\n",
      "INFO:cmdstanpy:CmdStan start procesing\n",
      "INFO:cmdstanpy:Chain [1] start processing\n",
      "INFO:cmdstanpy:Chain [2] start processing\n",
      "INFO:cmdstanpy:Chain [3] start processing\n",
      "INFO:cmdstanpy:Chain [4] start processing\n"
     ]
    },
    {
     "name": "stdout",
     "output_type": "stream",
     "text": [
      "Fitting toy MC bin no.55\n",
      "0.950099150141643\n",
      "353 271\n"
     ]
    },
    {
     "name": "stderr",
     "output_type": "stream",
     "text": [
      "INFO:cmdstanpy:Chain [3] done processing\n",
      "INFO:cmdstanpy:Chain [1] done processing\n",
      "INFO:cmdstanpy:Chain [4] done processing\n",
      "INFO:cmdstanpy:Chain [2] done processing\n",
      "INFO:cmdstanpy:found newer exe file, not recompiling\n",
      "INFO:cmdstanpy:found newer exe file, not recompiling\n",
      "INFO:cmdstanpy:CmdStan start procesing\n",
      "INFO:cmdstanpy:Chain [1] start processing\n",
      "INFO:cmdstanpy:Chain [2] start processing\n",
      "INFO:cmdstanpy:Chain [3] start processing\n",
      "INFO:cmdstanpy:Chain [4] start processing\n"
     ]
    },
    {
     "name": "stdout",
     "output_type": "stream",
     "text": [
      "Fitting toy MC bin no.56\n",
      "0.9498218527315915\n",
      "421 325\n"
     ]
    },
    {
     "name": "stderr",
     "output_type": "stream",
     "text": [
      "INFO:cmdstanpy:Chain [3] done processing\n",
      "INFO:cmdstanpy:Chain [2] done processing\n",
      "INFO:cmdstanpy:Chain [1] done processing\n",
      "INFO:cmdstanpy:Chain [4] done processing\n",
      "INFO:cmdstanpy:found newer exe file, not recompiling\n",
      "INFO:cmdstanpy:found newer exe file, not recompiling\n",
      "INFO:cmdstanpy:CmdStan start procesing\n",
      "INFO:cmdstanpy:Chain [1] start processing\n",
      "INFO:cmdstanpy:Chain [2] start processing\n",
      "INFO:cmdstanpy:Chain [3] start processing\n",
      "INFO:cmdstanpy:Chain [4] start processing\n"
     ]
    },
    {
     "name": "stdout",
     "output_type": "stream",
     "text": [
      "Fitting toy MC bin no.57\n",
      "0.9499870466321243\n",
      "386 297\n"
     ]
    },
    {
     "name": "stderr",
     "output_type": "stream",
     "text": [
      "INFO:cmdstanpy:Chain [1] done processing\n",
      "INFO:cmdstanpy:Chain [4] done processing\n",
      "INFO:cmdstanpy:Chain [3] done processing\n",
      "INFO:cmdstanpy:Chain [2] done processing\n",
      "INFO:cmdstanpy:found newer exe file, not recompiling\n",
      "INFO:cmdstanpy:found newer exe file, not recompiling\n",
      "INFO:cmdstanpy:CmdStan start procesing\n",
      "INFO:cmdstanpy:Chain [1] start processing\n",
      "INFO:cmdstanpy:Chain [2] start processing\n",
      "INFO:cmdstanpy:Chain [3] start processing\n",
      "INFO:cmdstanpy:Chain [4] start processing\n"
     ]
    },
    {
     "name": "stdout",
     "output_type": "stream",
     "text": [
      "Fitting toy MC bin no.58\n",
      "0.9498477157360407\n",
      "394 304\n"
     ]
    },
    {
     "name": "stderr",
     "output_type": "stream",
     "text": [
      "INFO:cmdstanpy:Chain [4] done processing\n",
      "INFO:cmdstanpy:Chain [1] done processing\n",
      "INFO:cmdstanpy:Chain [2] done processing\n",
      "INFO:cmdstanpy:Chain [3] done processing\n",
      "INFO:cmdstanpy:found newer exe file, not recompiling\n",
      "INFO:cmdstanpy:found newer exe file, not recompiling\n",
      "INFO:cmdstanpy:CmdStan start procesing\n",
      "INFO:cmdstanpy:Chain [1] start processing\n",
      "INFO:cmdstanpy:Chain [2] start processing\n",
      "INFO:cmdstanpy:Chain [3] start processing\n",
      "INFO:cmdstanpy:Chain [4] start processing\n"
     ]
    },
    {
     "name": "stdout",
     "output_type": "stream",
     "text": [
      "Fitting toy MC bin no.59\n",
      "0.9498795180722891\n",
      "415 320\n"
     ]
    },
    {
     "name": "stderr",
     "output_type": "stream",
     "text": [
      "INFO:cmdstanpy:Chain [1] done processing\n",
      "INFO:cmdstanpy:Chain [2] done processing\n",
      "INFO:cmdstanpy:Chain [3] done processing\n",
      "INFO:cmdstanpy:Chain [4] done processing\n",
      "INFO:cmdstanpy:found newer exe file, not recompiling\n",
      "INFO:cmdstanpy:found newer exe file, not recompiling\n",
      "INFO:cmdstanpy:CmdStan start procesing\n",
      "INFO:cmdstanpy:Chain [1] start processing\n",
      "INFO:cmdstanpy:Chain [2] start processing\n",
      "INFO:cmdstanpy:Chain [3] start processing\n",
      "INFO:cmdstanpy:Chain [4] start processing\n"
     ]
    },
    {
     "name": "stdout",
     "output_type": "stream",
     "text": [
      "Fitting toy MC bin no.60\n",
      "0.9498854961832062\n",
      "393 303\n"
     ]
    },
    {
     "name": "stderr",
     "output_type": "stream",
     "text": [
      "INFO:cmdstanpy:Chain [2] done processing\n",
      "INFO:cmdstanpy:Chain [3] done processing\n",
      "INFO:cmdstanpy:Chain [1] done processing\n",
      "INFO:cmdstanpy:Chain [4] done processing\n",
      "INFO:cmdstanpy:found newer exe file, not recompiling\n",
      "INFO:cmdstanpy:found newer exe file, not recompiling\n",
      "INFO:cmdstanpy:CmdStan start procesing\n",
      "INFO:cmdstanpy:Chain [1] start processing\n",
      "INFO:cmdstanpy:Chain [2] start processing\n",
      "INFO:cmdstanpy:Chain [3] start processing\n",
      "INFO:cmdstanpy:Chain [4] start processing\n"
     ]
    },
    {
     "name": "stdout",
     "output_type": "stream",
     "text": [
      "Fitting toy MC bin no.61\n",
      "0.9498921832884097\n",
      "371 286\n"
     ]
    },
    {
     "name": "stderr",
     "output_type": "stream",
     "text": [
      "INFO:cmdstanpy:Chain [1] done processing\n",
      "INFO:cmdstanpy:Chain [2] done processing\n",
      "INFO:cmdstanpy:Chain [3] done processing\n",
      "INFO:cmdstanpy:Chain [4] done processing\n",
      "INFO:cmdstanpy:found newer exe file, not recompiling\n",
      "INFO:cmdstanpy:found newer exe file, not recompiling\n",
      "INFO:cmdstanpy:CmdStan start procesing\n",
      "INFO:cmdstanpy:Chain [1] start processing\n",
      "INFO:cmdstanpy:Chain [2] start processing\n",
      "INFO:cmdstanpy:Chain [3] start processing\n",
      "INFO:cmdstanpy:Chain [4] start processing\n"
     ]
    },
    {
     "name": "stdout",
     "output_type": "stream",
     "text": [
      "Fitting toy MC bin no.62\n",
      "0.9498218527315915\n",
      "421 325\n"
     ]
    },
    {
     "name": "stderr",
     "output_type": "stream",
     "text": [
      "INFO:cmdstanpy:Chain [4] done processing\n",
      "INFO:cmdstanpy:Chain [3] done processing\n",
      "INFO:cmdstanpy:Chain [2] done processing\n",
      "INFO:cmdstanpy:Chain [1] done processing\n",
      "INFO:cmdstanpy:found newer exe file, not recompiling\n",
      "INFO:cmdstanpy:found newer exe file, not recompiling\n",
      "INFO:cmdstanpy:CmdStan start procesing\n",
      "INFO:cmdstanpy:Chain [1] start processing\n",
      "INFO:cmdstanpy:Chain [2] start processing\n",
      "INFO:cmdstanpy:Chain [3] start processing\n",
      "INFO:cmdstanpy:Chain [4] start processing\n"
     ]
    },
    {
     "name": "stdout",
     "output_type": "stream",
     "text": [
      "Fitting toy MC bin no.63\n",
      "0.9498661800486617\n",
      "411 317\n"
     ]
    },
    {
     "name": "stderr",
     "output_type": "stream",
     "text": [
      "INFO:cmdstanpy:Chain [1] done processing\n",
      "INFO:cmdstanpy:Chain [4] done processing\n",
      "INFO:cmdstanpy:Chain [3] done processing\n",
      "INFO:cmdstanpy:Chain [2] done processing\n",
      "INFO:cmdstanpy:found newer exe file, not recompiling\n",
      "INFO:cmdstanpy:found newer exe file, not recompiling\n",
      "INFO:cmdstanpy:CmdStan start procesing\n",
      "INFO:cmdstanpy:Chain [1] start processing\n",
      "INFO:cmdstanpy:Chain [2] start processing\n",
      "INFO:cmdstanpy:Chain [3] start processing\n",
      "INFO:cmdstanpy:Chain [4] start processing\n"
     ]
    },
    {
     "name": "stdout",
     "output_type": "stream",
     "text": [
      "Fitting toy MC bin no.64\n",
      "0.9499204545454545\n",
      "440 339\n"
     ]
    },
    {
     "name": "stderr",
     "output_type": "stream",
     "text": [
      "INFO:cmdstanpy:Chain [2] done processing\n",
      "INFO:cmdstanpy:Chain [1] done processing\n",
      "INFO:cmdstanpy:Chain [4] done processing\n",
      "INFO:cmdstanpy:Chain [3] done processing\n",
      "INFO:cmdstanpy:found newer exe file, not recompiling\n",
      "INFO:cmdstanpy:found newer exe file, not recompiling\n",
      "INFO:cmdstanpy:CmdStan start procesing\n",
      "INFO:cmdstanpy:Chain [1] start processing\n",
      "INFO:cmdstanpy:Chain [2] start processing\n",
      "INFO:cmdstanpy:Chain [3] start processing\n",
      "INFO:cmdstanpy:Chain [4] start processing\n"
     ]
    },
    {
     "name": "stdout",
     "output_type": "stream",
     "text": [
      "Fitting toy MC bin no.65\n",
      "0.9498275862068964\n",
      "377 291\n"
     ]
    },
    {
     "name": "stderr",
     "output_type": "stream",
     "text": [
      "INFO:cmdstanpy:Chain [2] done processing\n",
      "INFO:cmdstanpy:Chain [3] done processing\n",
      "INFO:cmdstanpy:Chain [1] done processing\n",
      "INFO:cmdstanpy:Chain [4] done processing\n",
      "INFO:cmdstanpy:found newer exe file, not recompiling\n",
      "INFO:cmdstanpy:found newer exe file, not recompiling\n",
      "INFO:cmdstanpy:CmdStan start procesing\n",
      "INFO:cmdstanpy:Chain [1] start processing\n",
      "INFO:cmdstanpy:Chain [2] start processing\n",
      "INFO:cmdstanpy:Chain [3] start processing\n",
      "INFO:cmdstanpy:Chain [4] start processing\n"
     ]
    },
    {
     "name": "stdout",
     "output_type": "stream",
     "text": [
      "Fitting toy MC bin no.66\n",
      "0.9498618090452262\n",
      "398 307\n"
     ]
    },
    {
     "name": "stderr",
     "output_type": "stream",
     "text": [
      "INFO:cmdstanpy:Chain [3] done processing\n",
      "INFO:cmdstanpy:Chain [4] done processing\n",
      "INFO:cmdstanpy:Chain [2] done processing\n",
      "INFO:cmdstanpy:Chain [1] done processing\n",
      "INFO:cmdstanpy:found newer exe file, not recompiling\n",
      "INFO:cmdstanpy:found newer exe file, not recompiling\n",
      "INFO:cmdstanpy:CmdStan start procesing\n",
      "INFO:cmdstanpy:Chain [1] start processing\n",
      "INFO:cmdstanpy:Chain [2] start processing\n",
      "INFO:cmdstanpy:Chain [3] start processing\n",
      "INFO:cmdstanpy:Chain [4] start processing\n"
     ]
    },
    {
     "name": "stdout",
     "output_type": "stream",
     "text": [
      "Fitting toy MC bin no.67\n",
      "0.9497808219178082\n",
      "365 282\n"
     ]
    },
    {
     "name": "stderr",
     "output_type": "stream",
     "text": [
      "INFO:cmdstanpy:Chain [1] done processing\n",
      "INFO:cmdstanpy:Chain [4] done processing\n",
      "INFO:cmdstanpy:Chain [3] done processing\n",
      "INFO:cmdstanpy:Chain [2] done processing\n",
      "INFO:cmdstanpy:found newer exe file, not recompiling\n",
      "INFO:cmdstanpy:found newer exe file, not recompiling\n",
      "INFO:cmdstanpy:CmdStan start procesing\n",
      "INFO:cmdstanpy:Chain [1] start processing\n",
      "INFO:cmdstanpy:Chain [2] start processing\n",
      "INFO:cmdstanpy:Chain [3] start processing\n",
      "INFO:cmdstanpy:Chain [4] start processing\n"
     ]
    },
    {
     "name": "stdout",
     "output_type": "stream",
     "text": [
      "Fitting toy MC bin no.68\n",
      "0.9500115473441109\n",
      "433 333\n"
     ]
    },
    {
     "name": "stderr",
     "output_type": "stream",
     "text": [
      "INFO:cmdstanpy:Chain [3] done processing\n",
      "INFO:cmdstanpy:Chain [1] done processing\n",
      "INFO:cmdstanpy:Chain [4] done processing\n",
      "INFO:cmdstanpy:Chain [2] done processing\n",
      "INFO:cmdstanpy:found newer exe file, not recompiling\n",
      "INFO:cmdstanpy:found newer exe file, not recompiling\n",
      "INFO:cmdstanpy:CmdStan start procesing\n",
      "INFO:cmdstanpy:Chain [1] start processing\n",
      "INFO:cmdstanpy:Chain [2] start processing\n",
      "INFO:cmdstanpy:Chain [3] start processing\n",
      "INFO:cmdstanpy:Chain [4] start processing\n"
     ]
    },
    {
     "name": "stdout",
     "output_type": "stream",
     "text": [
      "Fitting toy MC bin no.69\n",
      "0.9499368686868687\n",
      "396 305\n"
     ]
    },
    {
     "name": "stderr",
     "output_type": "stream",
     "text": [
      "INFO:cmdstanpy:Chain [1] done processing\n",
      "INFO:cmdstanpy:Chain [3] done processing\n",
      "INFO:cmdstanpy:Chain [4] done processing\n",
      "INFO:cmdstanpy:Chain [2] done processing\n",
      "INFO:cmdstanpy:found newer exe file, not recompiling\n",
      "INFO:cmdstanpy:found newer exe file, not recompiling\n",
      "INFO:cmdstanpy:CmdStan start procesing\n",
      "INFO:cmdstanpy:Chain [1] start processing\n",
      "INFO:cmdstanpy:Chain [2] start processing\n",
      "INFO:cmdstanpy:Chain [3] start processing\n",
      "INFO:cmdstanpy:Chain [4] start processing\n"
     ]
    },
    {
     "name": "stdout",
     "output_type": "stream",
     "text": [
      "Fitting toy MC bin no.70\n",
      "0.9499874686716793\n",
      "399 307\n"
     ]
    },
    {
     "name": "stderr",
     "output_type": "stream",
     "text": [
      "INFO:cmdstanpy:Chain [2] done processing\n",
      "INFO:cmdstanpy:Chain [3] done processing\n",
      "INFO:cmdstanpy:Chain [1] done processing\n",
      "INFO:cmdstanpy:Chain [4] done processing\n",
      "INFO:cmdstanpy:found newer exe file, not recompiling\n",
      "INFO:cmdstanpy:found newer exe file, not recompiling\n",
      "INFO:cmdstanpy:CmdStan start procesing\n",
      "INFO:cmdstanpy:Chain [1] start processing\n",
      "INFO:cmdstanpy:Chain [2] start processing\n",
      "INFO:cmdstanpy:Chain [3] start processing\n",
      "INFO:cmdstanpy:Chain [4] start processing\n"
     ]
    },
    {
     "name": "stdout",
     "output_type": "stream",
     "text": [
      "Fitting toy MC bin no.71\n",
      "0.9498795180722891\n",
      "415 320\n"
     ]
    },
    {
     "name": "stderr",
     "output_type": "stream",
     "text": [
      "INFO:cmdstanpy:Chain [1] done processing\n",
      "INFO:cmdstanpy:Chain [2] done processing\n",
      "INFO:cmdstanpy:Chain [3] done processing\n",
      "INFO:cmdstanpy:Chain [4] done processing\n",
      "INFO:cmdstanpy:found newer exe file, not recompiling\n",
      "INFO:cmdstanpy:found newer exe file, not recompiling\n",
      "INFO:cmdstanpy:CmdStan start procesing\n",
      "INFO:cmdstanpy:Chain [1] start processing\n",
      "INFO:cmdstanpy:Chain [2] start processing\n",
      "INFO:cmdstanpy:Chain [3] start processing\n",
      "INFO:cmdstanpy:Chain [4] start processing\n"
     ]
    },
    {
     "name": "stdout",
     "output_type": "stream",
     "text": [
      "Fitting toy MC bin no.72\n",
      "0.9499616368286445\n",
      "391 301\n"
     ]
    },
    {
     "name": "stderr",
     "output_type": "stream",
     "text": [
      "INFO:cmdstanpy:Chain [3] done processing\n",
      "INFO:cmdstanpy:Chain [2] done processing\n",
      "INFO:cmdstanpy:Chain [1] done processing\n",
      "INFO:cmdstanpy:Chain [4] done processing\n",
      "INFO:cmdstanpy:found newer exe file, not recompiling\n",
      "INFO:cmdstanpy:found newer exe file, not recompiling\n",
      "INFO:cmdstanpy:CmdStan start procesing\n",
      "INFO:cmdstanpy:Chain [1] start processing\n",
      "INFO:cmdstanpy:Chain [2] start processing\n",
      "INFO:cmdstanpy:Chain [3] start processing\n",
      "INFO:cmdstanpy:Chain [4] start processing\n"
     ]
    },
    {
     "name": "stdout",
     "output_type": "stream",
     "text": [
      "Fitting toy MC bin no.73\n",
      "0.9500462962962963\n",
      "432 332\n"
     ]
    },
    {
     "name": "stderr",
     "output_type": "stream",
     "text": [
      "INFO:cmdstanpy:Chain [4] done processing\n",
      "INFO:cmdstanpy:Chain [2] done processing\n",
      "INFO:cmdstanpy:Chain [1] done processing\n",
      "INFO:cmdstanpy:Chain [3] done processing\n",
      "INFO:cmdstanpy:found newer exe file, not recompiling\n",
      "INFO:cmdstanpy:found newer exe file, not recompiling\n",
      "INFO:cmdstanpy:CmdStan start procesing\n",
      "INFO:cmdstanpy:Chain [1] start processing\n",
      "INFO:cmdstanpy:Chain [2] start processing\n",
      "INFO:cmdstanpy:Chain [3] start processing\n",
      "INFO:cmdstanpy:Chain [4] start processing\n"
     ]
    },
    {
     "name": "stdout",
     "output_type": "stream",
     "text": [
      "Fitting toy MC bin no.74\n",
      "0.9498926014319808\n",
      "419 323\n"
     ]
    },
    {
     "name": "stderr",
     "output_type": "stream",
     "text": [
      "INFO:cmdstanpy:Chain [4] done processing\n",
      "INFO:cmdstanpy:Chain [2] done processing\n",
      "INFO:cmdstanpy:Chain [3] done processing\n",
      "INFO:cmdstanpy:Chain [1] done processing\n",
      "INFO:cmdstanpy:found newer exe file, not recompiling\n",
      "INFO:cmdstanpy:found newer exe file, not recompiling\n",
      "INFO:cmdstanpy:CmdStan start procesing\n",
      "INFO:cmdstanpy:Chain [1] start processing\n",
      "INFO:cmdstanpy:Chain [2] start processing\n",
      "INFO:cmdstanpy:Chain [3] start processing\n",
      "INFO:cmdstanpy:Chain [4] start processing\n"
     ]
    },
    {
     "name": "stdout",
     "output_type": "stream",
     "text": [
      "Fitting toy MC bin no.75\n",
      "0.9499878640776699\n",
      "412 317\n"
     ]
    },
    {
     "name": "stderr",
     "output_type": "stream",
     "text": [
      "INFO:cmdstanpy:Chain [2] done processing\n",
      "INFO:cmdstanpy:Chain [1] done processing\n",
      "INFO:cmdstanpy:Chain [3] done processing\n",
      "INFO:cmdstanpy:Chain [4] done processing\n",
      "INFO:cmdstanpy:found newer exe file, not recompiling\n",
      "INFO:cmdstanpy:found newer exe file, not recompiling\n",
      "INFO:cmdstanpy:CmdStan start procesing\n",
      "INFO:cmdstanpy:Chain [1] start processing\n",
      "INFO:cmdstanpy:Chain [2] start processing\n",
      "INFO:cmdstanpy:Chain [3] start processing\n",
      "INFO:cmdstanpy:Chain [4] start processing\n"
     ]
    },
    {
     "name": "stdout",
     "output_type": "stream",
     "text": [
      "Fitting toy MC bin no.76\n",
      "0.9501089588377724\n",
      "413 317\n"
     ]
    },
    {
     "name": "stderr",
     "output_type": "stream",
     "text": [
      "INFO:cmdstanpy:Chain [1] done processing\n",
      "INFO:cmdstanpy:Chain [2] done processing\n",
      "INFO:cmdstanpy:Chain [4] done processing\n",
      "INFO:cmdstanpy:Chain [3] done processing\n",
      "INFO:cmdstanpy:found newer exe file, not recompiling\n",
      "INFO:cmdstanpy:found newer exe file, not recompiling\n",
      "INFO:cmdstanpy:CmdStan start procesing\n",
      "INFO:cmdstanpy:Chain [1] start processing\n",
      "INFO:cmdstanpy:Chain [2] start processing\n",
      "INFO:cmdstanpy:Chain [3] start processing\n",
      "INFO:cmdstanpy:Chain [4] start processing\n"
     ]
    },
    {
     "name": "stdout",
     "output_type": "stream",
     "text": [
      "Fitting toy MC bin no.77\n",
      "0.9499054373522459\n",
      "423 326\n"
     ]
    },
    {
     "name": "stderr",
     "output_type": "stream",
     "text": [
      "INFO:cmdstanpy:Chain [4] done processing\n",
      "INFO:cmdstanpy:Chain [3] done processing\n",
      "INFO:cmdstanpy:Chain [1] done processing\n",
      "INFO:cmdstanpy:Chain [2] done processing\n",
      "INFO:cmdstanpy:found newer exe file, not recompiling\n",
      "INFO:cmdstanpy:found newer exe file, not recompiling\n",
      "INFO:cmdstanpy:CmdStan start procesing\n",
      "INFO:cmdstanpy:Chain [1] start processing\n",
      "INFO:cmdstanpy:Chain [2] start processing\n",
      "INFO:cmdstanpy:Chain [3] start processing\n",
      "INFO:cmdstanpy:Chain [4] start processing\n"
     ]
    },
    {
     "name": "stdout",
     "output_type": "stream",
     "text": [
      "Fitting toy MC bin no.78\n",
      "0.9501162790697675\n",
      "387 297\n"
     ]
    },
    {
     "name": "stderr",
     "output_type": "stream",
     "text": [
      "INFO:cmdstanpy:Chain [4] done processing\n",
      "INFO:cmdstanpy:Chain [3] done processing\n",
      "INFO:cmdstanpy:Chain [2] done processing\n",
      "INFO:cmdstanpy:Chain [1] done processing\n",
      "INFO:cmdstanpy:found newer exe file, not recompiling\n",
      "INFO:cmdstanpy:found newer exe file, not recompiling\n",
      "INFO:cmdstanpy:CmdStan start procesing\n",
      "INFO:cmdstanpy:Chain [1] start processing\n",
      "INFO:cmdstanpy:Chain [2] start processing\n",
      "INFO:cmdstanpy:Chain [3] start processing\n",
      "INFO:cmdstanpy:Chain [4] start processing\n"
     ]
    },
    {
     "name": "stdout",
     "output_type": "stream",
     "text": [
      "Fitting toy MC bin no.79\n",
      "0.9499616368286445\n",
      "391 301\n"
     ]
    },
    {
     "name": "stderr",
     "output_type": "stream",
     "text": [
      "INFO:cmdstanpy:Chain [2] done processing\n",
      "INFO:cmdstanpy:Chain [3] done processing\n",
      "INFO:cmdstanpy:Chain [1] done processing\n",
      "INFO:cmdstanpy:Chain [4] done processing\n",
      "INFO:cmdstanpy:found newer exe file, not recompiling\n",
      "INFO:cmdstanpy:found newer exe file, not recompiling\n",
      "INFO:cmdstanpy:CmdStan start procesing\n",
      "INFO:cmdstanpy:Chain [1] start processing\n",
      "INFO:cmdstanpy:Chain [2] start processing\n",
      "INFO:cmdstanpy:Chain [3] start processing\n",
      "INFO:cmdstanpy:Chain [4] start processing\n"
     ]
    },
    {
     "name": "stdout",
     "output_type": "stream",
     "text": [
      "Fitting toy MC bin no.80\n",
      "0.9498891625615763\n",
      "406 313\n"
     ]
    },
    {
     "name": "stderr",
     "output_type": "stream",
     "text": [
      "INFO:cmdstanpy:Chain [1] done processing\n",
      "INFO:cmdstanpy:Chain [3] done processing\n",
      "INFO:cmdstanpy:Chain [2] done processing\n",
      "INFO:cmdstanpy:Chain [4] done processing\n",
      "INFO:cmdstanpy:found newer exe file, not recompiling\n",
      "INFO:cmdstanpy:found newer exe file, not recompiling\n",
      "INFO:cmdstanpy:CmdStan start procesing\n",
      "INFO:cmdstanpy:Chain [1] start processing\n",
      "INFO:cmdstanpy:Chain [2] start processing\n",
      "INFO:cmdstanpy:Chain [3] start processing\n",
      "INFO:cmdstanpy:Chain [4] start processing\n"
     ]
    },
    {
     "name": "stdout",
     "output_type": "stream",
     "text": [
      "Fitting toy MC bin no.81\n",
      "0.9499127182044889\n",
      "401 309\n"
     ]
    },
    {
     "name": "stderr",
     "output_type": "stream",
     "text": [
      "INFO:cmdstanpy:Chain [1] done processing\n",
      "INFO:cmdstanpy:Chain [3] done processing\n",
      "INFO:cmdstanpy:Chain [2] done processing\n",
      "INFO:cmdstanpy:Chain [4] done processing\n",
      "INFO:cmdstanpy:found newer exe file, not recompiling\n",
      "INFO:cmdstanpy:found newer exe file, not recompiling\n",
      "INFO:cmdstanpy:CmdStan start procesing\n",
      "INFO:cmdstanpy:Chain [1] start processing\n",
      "INFO:cmdstanpy:Chain [2] start processing\n",
      "INFO:cmdstanpy:Chain [3] start processing\n",
      "INFO:cmdstanpy:Chain [4] start processing\n"
     ]
    },
    {
     "name": "stdout",
     "output_type": "stream",
     "text": [
      "Fitting toy MC bin no.82\n",
      "0.9499154589371981\n",
      "414 319\n"
     ]
    },
    {
     "name": "stderr",
     "output_type": "stream",
     "text": [
      "INFO:cmdstanpy:Chain [1] done processing\n",
      "INFO:cmdstanpy:Chain [4] done processing\n",
      "INFO:cmdstanpy:Chain [3] done processing\n",
      "INFO:cmdstanpy:Chain [2] done processing\n",
      "INFO:cmdstanpy:found newer exe file, not recompiling\n",
      "INFO:cmdstanpy:found newer exe file, not recompiling\n",
      "INFO:cmdstanpy:CmdStan start procesing\n",
      "INFO:cmdstanpy:Chain [1] start processing\n",
      "INFO:cmdstanpy:Chain [2] start processing\n",
      "INFO:cmdstanpy:Chain [3] start processing\n",
      "INFO:cmdstanpy:Chain [4] start processing\n"
     ]
    },
    {
     "name": "stdout",
     "output_type": "stream",
     "text": [
      "Fitting toy MC bin no.83\n",
      "0.9498484848484848\n",
      "429 331\n"
     ]
    },
    {
     "name": "stderr",
     "output_type": "stream",
     "text": [
      "INFO:cmdstanpy:Chain [3] done processing\n",
      "INFO:cmdstanpy:Chain [2] done processing\n",
      "INFO:cmdstanpy:Chain [1] done processing\n",
      "INFO:cmdstanpy:Chain [4] done processing\n",
      "INFO:cmdstanpy:found newer exe file, not recompiling\n",
      "INFO:cmdstanpy:found newer exe file, not recompiling\n",
      "INFO:cmdstanpy:CmdStan start procesing\n",
      "INFO:cmdstanpy:Chain [1] start processing\n",
      "INFO:cmdstanpy:Chain [2] start processing\n",
      "INFO:cmdstanpy:Chain [3] start processing\n",
      "INFO:cmdstanpy:Chain [4] start processing\n"
     ]
    },
    {
     "name": "stdout",
     "output_type": "stream",
     "text": [
      "Fitting toy MC bin no.84\n",
      "0.9498186528497409\n",
      "386 298\n"
     ]
    },
    {
     "name": "stderr",
     "output_type": "stream",
     "text": [
      "INFO:cmdstanpy:Chain [4] done processing\n",
      "INFO:cmdstanpy:Chain [3] done processing\n",
      "INFO:cmdstanpy:Chain [1] done processing\n",
      "INFO:cmdstanpy:Chain [2] done processing\n",
      "INFO:cmdstanpy:found newer exe file, not recompiling\n",
      "INFO:cmdstanpy:found newer exe file, not recompiling\n",
      "INFO:cmdstanpy:CmdStan start procesing\n",
      "INFO:cmdstanpy:Chain [1] start processing\n",
      "INFO:cmdstanpy:Chain [2] start processing\n",
      "INFO:cmdstanpy:Chain [3] start processing\n",
      "INFO:cmdstanpy:Chain [4] start processing\n"
     ]
    },
    {
     "name": "stdout",
     "output_type": "stream",
     "text": [
      "Fitting toy MC bin no.85\n",
      "0.9498882681564246\n",
      "358 276\n"
     ]
    },
    {
     "name": "stderr",
     "output_type": "stream",
     "text": [
      "INFO:cmdstanpy:Chain [2] done processing\n",
      "INFO:cmdstanpy:Chain [3] done processing\n",
      "INFO:cmdstanpy:Chain [4] done processing\n",
      "INFO:cmdstanpy:Chain [1] done processing\n",
      "INFO:cmdstanpy:found newer exe file, not recompiling\n",
      "INFO:cmdstanpy:found newer exe file, not recompiling\n",
      "INFO:cmdstanpy:CmdStan start procesing\n",
      "INFO:cmdstanpy:Chain [1] start processing\n",
      "INFO:cmdstanpy:Chain [2] start processing\n",
      "INFO:cmdstanpy:Chain [3] start processing\n",
      "INFO:cmdstanpy:Chain [4] start processing\n"
     ]
    },
    {
     "name": "stdout",
     "output_type": "stream",
     "text": [
      "Fitting toy MC bin no.86\n",
      "0.950012285012285\n",
      "407 313\n"
     ]
    },
    {
     "name": "stderr",
     "output_type": "stream",
     "text": [
      "INFO:cmdstanpy:Chain [3] done processing\n",
      "INFO:cmdstanpy:Chain [1] done processing\n",
      "INFO:cmdstanpy:Chain [4] done processing\n",
      "INFO:cmdstanpy:Chain [2] done processing\n",
      "INFO:cmdstanpy:found newer exe file, not recompiling\n",
      "INFO:cmdstanpy:found newer exe file, not recompiling\n",
      "INFO:cmdstanpy:CmdStan start procesing\n",
      "INFO:cmdstanpy:Chain [1] start processing\n",
      "INFO:cmdstanpy:Chain [2] start processing\n",
      "INFO:cmdstanpy:Chain [3] start processing\n",
      "INFO:cmdstanpy:Chain [4] start processing\n"
     ]
    },
    {
     "name": "stdout",
     "output_type": "stream",
     "text": [
      "Fitting toy MC bin no.87\n",
      "0.949934725848564\n",
      "383 295\n"
     ]
    },
    {
     "name": "stderr",
     "output_type": "stream",
     "text": [
      "INFO:cmdstanpy:Chain [4] done processing\n",
      "INFO:cmdstanpy:Chain [3] done processing\n",
      "INFO:cmdstanpy:Chain [2] done processing\n",
      "INFO:cmdstanpy:Chain [1] done processing\n",
      "INFO:cmdstanpy:found newer exe file, not recompiling\n",
      "INFO:cmdstanpy:found newer exe file, not recompiling\n",
      "INFO:cmdstanpy:CmdStan start procesing\n",
      "INFO:cmdstanpy:Chain [1] start processing\n",
      "INFO:cmdstanpy:Chain [2] start processing\n",
      "INFO:cmdstanpy:Chain [3] start processing\n",
      "INFO:cmdstanpy:Chain [4] start processing\n"
     ]
    },
    {
     "name": "stdout",
     "output_type": "stream",
     "text": [
      "Fitting toy MC bin no.88\n",
      "0.9501666666666667\n",
      "390 299\n"
     ]
    },
    {
     "name": "stderr",
     "output_type": "stream",
     "text": [
      "INFO:cmdstanpy:Chain [4] done processing\n",
      "INFO:cmdstanpy:Chain [1] done processing\n",
      "INFO:cmdstanpy:Chain [3] done processing\n",
      "INFO:cmdstanpy:Chain [2] done processing\n",
      "INFO:cmdstanpy:found newer exe file, not recompiling\n",
      "INFO:cmdstanpy:found newer exe file, not recompiling\n",
      "INFO:cmdstanpy:CmdStan start procesing\n",
      "INFO:cmdstanpy:Chain [1] start processing\n",
      "INFO:cmdstanpy:Chain [2] start processing\n",
      "INFO:cmdstanpy:Chain [3] start processing\n",
      "INFO:cmdstanpy:Chain [4] start processing\n"
     ]
    },
    {
     "name": "stdout",
     "output_type": "stream",
     "text": [
      "Fitting toy MC bin no.89\n",
      "0.9499154589371981\n",
      "414 319\n"
     ]
    },
    {
     "name": "stderr",
     "output_type": "stream",
     "text": [
      "INFO:cmdstanpy:Chain [4] done processing\n",
      "INFO:cmdstanpy:Chain [1] done processing\n",
      "INFO:cmdstanpy:Chain [2] done processing\n",
      "INFO:cmdstanpy:Chain [3] done processing\n",
      "INFO:cmdstanpy:found newer exe file, not recompiling\n",
      "INFO:cmdstanpy:found newer exe file, not recompiling\n",
      "INFO:cmdstanpy:CmdStan start procesing\n",
      "INFO:cmdstanpy:Chain [1] start processing\n",
      "INFO:cmdstanpy:Chain [2] start processing\n",
      "INFO:cmdstanpy:Chain [3] start processing\n",
      "INFO:cmdstanpy:Chain [4] start processing\n"
     ]
    },
    {
     "name": "stdout",
     "output_type": "stream",
     "text": [
      "Fitting toy MC bin no.90\n",
      "0.9499388753056234\n",
      "409 315\n"
     ]
    },
    {
     "name": "stderr",
     "output_type": "stream",
     "text": [
      "INFO:cmdstanpy:Chain [3] done processing\n",
      "INFO:cmdstanpy:Chain [1] done processing\n",
      "INFO:cmdstanpy:Chain [2] done processing\n",
      "INFO:cmdstanpy:Chain [4] done processing\n",
      "INFO:cmdstanpy:found newer exe file, not recompiling\n",
      "INFO:cmdstanpy:found newer exe file, not recompiling\n",
      "INFO:cmdstanpy:CmdStan start procesing\n",
      "INFO:cmdstanpy:Chain [1] start processing\n",
      "INFO:cmdstanpy:Chain [2] start processing\n",
      "INFO:cmdstanpy:Chain [3] start processing\n",
      "INFO:cmdstanpy:Chain [4] start processing\n"
     ]
    },
    {
     "name": "stdout",
     "output_type": "stream",
     "text": [
      "Fitting toy MC bin no.91\n",
      "0.9498670212765957\n",
      "376 290\n"
     ]
    },
    {
     "name": "stderr",
     "output_type": "stream",
     "text": [
      "INFO:cmdstanpy:Chain [2] done processing\n",
      "INFO:cmdstanpy:Chain [1] done processing\n",
      "INFO:cmdstanpy:Chain [3] done processing\n",
      "INFO:cmdstanpy:Chain [4] done processing\n",
      "INFO:cmdstanpy:found newer exe file, not recompiling\n",
      "INFO:cmdstanpy:found newer exe file, not recompiling\n",
      "INFO:cmdstanpy:CmdStan start procesing\n",
      "INFO:cmdstanpy:Chain [1] start processing\n",
      "INFO:cmdstanpy:Chain [2] start processing\n",
      "INFO:cmdstanpy:Chain [3] start processing\n",
      "INFO:cmdstanpy:Chain [4] start processing\n"
     ]
    },
    {
     "name": "stdout",
     "output_type": "stream",
     "text": [
      "Fitting toy MC bin no.92\n",
      "0.9498831775700934\n",
      "428 330\n"
     ]
    },
    {
     "name": "stderr",
     "output_type": "stream",
     "text": [
      "INFO:cmdstanpy:Chain [3] done processing\n",
      "INFO:cmdstanpy:Chain [1] done processing\n",
      "INFO:cmdstanpy:Chain [4] done processing\n",
      "INFO:cmdstanpy:Chain [2] done processing\n",
      "INFO:cmdstanpy:found newer exe file, not recompiling\n",
      "INFO:cmdstanpy:found newer exe file, not recompiling\n",
      "INFO:cmdstanpy:CmdStan start procesing\n",
      "INFO:cmdstanpy:Chain [1] start processing\n",
      "INFO:cmdstanpy:Chain [2] start processing\n",
      "INFO:cmdstanpy:Chain [3] start processing\n",
      "INFO:cmdstanpy:Chain [4] start processing\n"
     ]
    },
    {
     "name": "stdout",
     "output_type": "stream",
     "text": [
      "Fitting toy MC bin no.93\n",
      "0.9500892857142857\n",
      "392 301\n"
     ]
    },
    {
     "name": "stderr",
     "output_type": "stream",
     "text": [
      "INFO:cmdstanpy:Chain [4] done processing\n",
      "INFO:cmdstanpy:Chain [1] done processing\n",
      "INFO:cmdstanpy:Chain [3] done processing\n",
      "INFO:cmdstanpy:Chain [2] done processing\n",
      "INFO:cmdstanpy:found newer exe file, not recompiling\n",
      "INFO:cmdstanpy:found newer exe file, not recompiling\n",
      "INFO:cmdstanpy:CmdStan start procesing\n",
      "INFO:cmdstanpy:Chain [1] start processing\n",
      "INFO:cmdstanpy:Chain [2] start processing\n",
      "INFO:cmdstanpy:Chain [3] start processing\n",
      "INFO:cmdstanpy:Chain [4] start processing\n"
     ]
    },
    {
     "name": "stdout",
     "output_type": "stream",
     "text": [
      "Fitting toy MC bin no.94\n",
      "0.9498702830188679\n",
      "424 327\n"
     ]
    },
    {
     "name": "stderr",
     "output_type": "stream",
     "text": [
      "INFO:cmdstanpy:Chain [4] done processing\n",
      "INFO:cmdstanpy:Chain [3] done processing\n",
      "INFO:cmdstanpy:Chain [2] done processing\n",
      "INFO:cmdstanpy:Chain [1] done processing\n",
      "INFO:cmdstanpy:found newer exe file, not recompiling\n",
      "INFO:cmdstanpy:found newer exe file, not recompiling\n",
      "INFO:cmdstanpy:CmdStan start procesing\n",
      "INFO:cmdstanpy:Chain [1] start processing\n",
      "INFO:cmdstanpy:Chain [2] start processing\n",
      "INFO:cmdstanpy:Chain [3] start processing\n",
      "INFO:cmdstanpy:Chain [4] start processing\n"
     ]
    },
    {
     "name": "stdout",
     "output_type": "stream",
     "text": [
      "Fitting toy MC bin no.95\n",
      "0.9498161764705881\n",
      "408 315\n"
     ]
    },
    {
     "name": "stderr",
     "output_type": "stream",
     "text": [
      "INFO:cmdstanpy:Chain [2] done processing\n",
      "INFO:cmdstanpy:Chain [3] done processing\n",
      "INFO:cmdstanpy:Chain [1] done processing\n",
      "INFO:cmdstanpy:Chain [4] done processing\n",
      "INFO:cmdstanpy:found newer exe file, not recompiling\n",
      "INFO:cmdstanpy:found newer exe file, not recompiling\n",
      "INFO:cmdstanpy:CmdStan start procesing\n",
      "INFO:cmdstanpy:Chain [1] start processing\n",
      "INFO:cmdstanpy:Chain [2] start processing\n",
      "INFO:cmdstanpy:Chain [3] start processing\n",
      "INFO:cmdstanpy:Chain [4] start processing\n"
     ]
    },
    {
     "name": "stdout",
     "output_type": "stream",
     "text": [
      "Fitting toy MC bin no.96\n",
      "0.9499738219895287\n",
      "382 294\n"
     ]
    },
    {
     "name": "stderr",
     "output_type": "stream",
     "text": [
      "INFO:cmdstanpy:Chain [1] done processing\n",
      "INFO:cmdstanpy:Chain [4] done processing\n",
      "INFO:cmdstanpy:Chain [2] done processing\n",
      "INFO:cmdstanpy:Chain [3] done processing\n",
      "INFO:cmdstanpy:found newer exe file, not recompiling\n",
      "INFO:cmdstanpy:found newer exe file, not recompiling\n",
      "INFO:cmdstanpy:CmdStan start procesing\n",
      "INFO:cmdstanpy:Chain [1] start processing\n",
      "INFO:cmdstanpy:Chain [2] start processing\n",
      "INFO:cmdstanpy:Chain [3] start processing\n",
      "INFO:cmdstanpy:Chain [4] start processing\n"
     ]
    },
    {
     "name": "stdout",
     "output_type": "stream",
     "text": [
      "Fitting toy MC bin no.97\n",
      "0.9498245614035088\n",
      "399 308\n"
     ]
    },
    {
     "name": "stderr",
     "output_type": "stream",
     "text": [
      "INFO:cmdstanpy:Chain [3] done processing\n",
      "INFO:cmdstanpy:Chain [1] done processing\n",
      "INFO:cmdstanpy:Chain [4] done processing\n",
      "INFO:cmdstanpy:Chain [2] done processing\n",
      "INFO:cmdstanpy:found newer exe file, not recompiling\n",
      "INFO:cmdstanpy:found newer exe file, not recompiling\n",
      "INFO:cmdstanpy:CmdStan start procesing\n",
      "INFO:cmdstanpy:Chain [1] start processing\n",
      "INFO:cmdstanpy:Chain [2] start processing\n",
      "INFO:cmdstanpy:Chain [3] start processing\n",
      "INFO:cmdstanpy:Chain [4] start processing\n"
     ]
    },
    {
     "name": "stdout",
     "output_type": "stream",
     "text": [
      "Fitting toy MC bin no.98\n",
      "0.95001312335958\n",
      "381 293\n"
     ]
    },
    {
     "name": "stderr",
     "output_type": "stream",
     "text": [
      "INFO:cmdstanpy:Chain [4] done processing\n",
      "INFO:cmdstanpy:Chain [3] done processing\n",
      "INFO:cmdstanpy:Chain [2] done processing\n",
      "INFO:cmdstanpy:Chain [1] done processing\n",
      "INFO:cmdstanpy:found newer exe file, not recompiling\n",
      "INFO:cmdstanpy:found newer exe file, not recompiling\n",
      "INFO:cmdstanpy:CmdStan start procesing\n",
      "INFO:cmdstanpy:Chain [1] start processing\n",
      "INFO:cmdstanpy:Chain [2] start processing\n",
      "INFO:cmdstanpy:Chain [3] start processing\n",
      "INFO:cmdstanpy:Chain [4] start processing\n"
     ]
    },
    {
     "name": "stdout",
     "output_type": "stream",
     "text": [
      "Fitting toy MC bin no.99\n",
      "0.9499746835443038\n",
      "395 304\n"
     ]
    },
    {
     "name": "stderr",
     "output_type": "stream",
     "text": [
      "INFO:cmdstanpy:Chain [3] done processing\n",
      "INFO:cmdstanpy:Chain [4] done processing\n",
      "INFO:cmdstanpy:Chain [1] done processing\n",
      "INFO:cmdstanpy:Chain [2] done processing\n",
      "INFO:cmdstanpy:found newer exe file, not recompiling\n",
      "INFO:cmdstanpy:found newer exe file, not recompiling\n",
      "INFO:cmdstanpy:CmdStan start procesing\n",
      "INFO:cmdstanpy:Chain [1] start processing\n",
      "INFO:cmdstanpy:Chain [2] start processing\n",
      "INFO:cmdstanpy:Chain [3] start processing\n",
      "INFO:cmdstanpy:Chain [4] start processing\n"
     ]
    },
    {
     "name": "stdout",
     "output_type": "stream",
     "text": [
      "Fitting toy MC bin no.100\n",
      "0.9499530516431925\n",
      "426 328\n"
     ]
    },
    {
     "name": "stderr",
     "output_type": "stream",
     "text": [
      "INFO:cmdstanpy:Chain [4] done processing\n",
      "INFO:cmdstanpy:Chain [2] done processing\n",
      "INFO:cmdstanpy:Chain [3] done processing\n",
      "INFO:cmdstanpy:Chain [1] done processing\n",
      "INFO:cmdstanpy:found newer exe file, not recompiling\n",
      "INFO:cmdstanpy:found newer exe file, not recompiling\n",
      "INFO:cmdstanpy:CmdStan start procesing\n",
      "INFO:cmdstanpy:Chain [1] start processing\n",
      "INFO:cmdstanpy:Chain [2] start processing\n",
      "INFO:cmdstanpy:Chain [3] start processing\n",
      "INFO:cmdstanpy:Chain [4] start processing\n"
     ]
    },
    {
     "name": "stdout",
     "output_type": "stream",
     "text": [
      "Fitting toy MC bin no.101\n",
      "0.9499388753056234\n",
      "409 315\n"
     ]
    },
    {
     "name": "stderr",
     "output_type": "stream",
     "text": [
      "INFO:cmdstanpy:Chain [1] done processing\n",
      "INFO:cmdstanpy:Chain [3] done processing\n",
      "INFO:cmdstanpy:Chain [2] done processing\n",
      "INFO:cmdstanpy:Chain [4] done processing\n",
      "INFO:cmdstanpy:found newer exe file, not recompiling\n",
      "INFO:cmdstanpy:found newer exe file, not recompiling\n",
      "INFO:cmdstanpy:CmdStan start procesing\n",
      "INFO:cmdstanpy:Chain [1] start processing\n",
      "INFO:cmdstanpy:Chain [2] start processing\n",
      "INFO:cmdstanpy:Chain [3] start processing\n",
      "INFO:cmdstanpy:Chain [4] start processing\n"
     ]
    },
    {
     "name": "stdout",
     "output_type": "stream",
     "text": [
      "Fitting toy MC bin no.102\n",
      "0.9498571428571428\n",
      "420 324\n"
     ]
    },
    {
     "name": "stderr",
     "output_type": "stream",
     "text": [
      "INFO:cmdstanpy:Chain [1] done processing\n",
      "INFO:cmdstanpy:Chain [4] done processing\n",
      "INFO:cmdstanpy:Chain [2] done processing\n",
      "INFO:cmdstanpy:Chain [3] done processing\n",
      "INFO:cmdstanpy:found newer exe file, not recompiling\n",
      "INFO:cmdstanpy:found newer exe file, not recompiling\n",
      "INFO:cmdstanpy:CmdStan start procesing\n",
      "INFO:cmdstanpy:Chain [1] start processing\n",
      "INFO:cmdstanpy:Chain [2] start processing\n",
      "INFO:cmdstanpy:Chain [3] start processing\n",
      "INFO:cmdstanpy:Chain [4] start processing\n"
     ]
    },
    {
     "name": "stdout",
     "output_type": "stream",
     "text": [
      "Fitting toy MC bin no.103\n",
      "0.9498300970873786\n",
      "412 318\n"
     ]
    },
    {
     "name": "stderr",
     "output_type": "stream",
     "text": [
      "INFO:cmdstanpy:Chain [1] done processing\n",
      "INFO:cmdstanpy:Chain [4] done processing\n",
      "INFO:cmdstanpy:Chain [3] done processing\n",
      "INFO:cmdstanpy:Chain [2] done processing\n",
      "INFO:cmdstanpy:found newer exe file, not recompiling\n",
      "INFO:cmdstanpy:found newer exe file, not recompiling\n",
      "INFO:cmdstanpy:CmdStan start procesing\n",
      "INFO:cmdstanpy:Chain [1] start processing\n",
      "INFO:cmdstanpy:Chain [2] start processing\n",
      "INFO:cmdstanpy:Chain [3] start processing\n",
      "INFO:cmdstanpy:Chain [4] start processing\n"
     ]
    },
    {
     "name": "stdout",
     "output_type": "stream",
     "text": [
      "Fitting toy MC bin no.104\n",
      "0.9499180327868852\n",
      "427 329\n"
     ]
    },
    {
     "name": "stderr",
     "output_type": "stream",
     "text": [
      "INFO:cmdstanpy:Chain [1] done processing\n",
      "INFO:cmdstanpy:Chain [4] done processing\n",
      "INFO:cmdstanpy:Chain [2] done processing\n",
      "INFO:cmdstanpy:Chain [3] done processing\n",
      "INFO:cmdstanpy:found newer exe file, not recompiling\n",
      "INFO:cmdstanpy:found newer exe file, not recompiling\n",
      "INFO:cmdstanpy:CmdStan start procesing\n",
      "INFO:cmdstanpy:Chain [1] start processing\n",
      "INFO:cmdstanpy:Chain [2] start processing\n",
      "INFO:cmdstanpy:Chain [3] start processing\n",
      "INFO:cmdstanpy:Chain [4] start processing\n"
     ]
    },
    {
     "name": "stdout",
     "output_type": "stream",
     "text": [
      "Fitting toy MC bin no.105\n",
      "0.9501044386422977\n",
      "383 294\n"
     ]
    },
    {
     "name": "stderr",
     "output_type": "stream",
     "text": [
      "INFO:cmdstanpy:Chain [2] done processing\n",
      "INFO:cmdstanpy:Chain [1] done processing\n",
      "INFO:cmdstanpy:Chain [3] done processing\n",
      "INFO:cmdstanpy:Chain [4] done processing\n",
      "INFO:cmdstanpy:found newer exe file, not recompiling\n",
      "INFO:cmdstanpy:found newer exe file, not recompiling\n",
      "INFO:cmdstanpy:CmdStan start procesing\n",
      "INFO:cmdstanpy:Chain [1] start processing\n",
      "INFO:cmdstanpy:Chain [2] start processing\n",
      "INFO:cmdstanpy:Chain [3] start processing\n",
      "INFO:cmdstanpy:Chain [4] start processing\n"
     ]
    },
    {
     "name": "stdout",
     "output_type": "stream",
     "text": [
      "Fitting toy MC bin no.106\n",
      "0.9499368686868687\n",
      "396 305\n"
     ]
    },
    {
     "name": "stderr",
     "output_type": "stream",
     "text": [
      "INFO:cmdstanpy:Chain [2] done processing\n",
      "INFO:cmdstanpy:Chain [3] done processing\n",
      "INFO:cmdstanpy:Chain [1] done processing\n",
      "INFO:cmdstanpy:Chain [4] done processing\n",
      "INFO:cmdstanpy:found newer exe file, not recompiling\n",
      "INFO:cmdstanpy:found newer exe file, not recompiling\n",
      "INFO:cmdstanpy:CmdStan start procesing\n",
      "INFO:cmdstanpy:Chain [1] start processing\n",
      "INFO:cmdstanpy:Chain [2] start processing\n",
      "INFO:cmdstanpy:Chain [3] start processing\n",
      "INFO:cmdstanpy:Chain [4] start processing\n"
     ]
    },
    {
     "name": "stdout",
     "output_type": "stream",
     "text": [
      "Fitting toy MC bin no.107\n",
      "0.9499234693877551\n",
      "392 302\n"
     ]
    },
    {
     "name": "stderr",
     "output_type": "stream",
     "text": [
      "INFO:cmdstanpy:Chain [4] done processing\n",
      "INFO:cmdstanpy:Chain [2] done processing\n",
      "INFO:cmdstanpy:Chain [1] done processing\n",
      "INFO:cmdstanpy:Chain [3] done processing\n",
      "INFO:cmdstanpy:found newer exe file, not recompiling\n",
      "INFO:cmdstanpy:found newer exe file, not recompiling\n",
      "INFO:cmdstanpy:CmdStan start procesing\n",
      "INFO:cmdstanpy:Chain [1] start processing\n",
      "INFO:cmdstanpy:Chain [2] start processing\n",
      "INFO:cmdstanpy:Chain [3] start processing\n",
      "INFO:cmdstanpy:Chain [4] start processing\n"
     ]
    },
    {
     "name": "stdout",
     "output_type": "stream",
     "text": [
      "Fitting toy MC bin no.108\n",
      "0.9499754901960784\n",
      "408 314\n"
     ]
    },
    {
     "name": "stderr",
     "output_type": "stream",
     "text": [
      "INFO:cmdstanpy:Chain [2] done processing\n",
      "INFO:cmdstanpy:Chain [4] done processing\n",
      "INFO:cmdstanpy:Chain [1] done processing\n",
      "INFO:cmdstanpy:Chain [3] done processing\n",
      "INFO:cmdstanpy:found newer exe file, not recompiling\n",
      "INFO:cmdstanpy:found newer exe file, not recompiling\n",
      "INFO:cmdstanpy:CmdStan start procesing\n",
      "INFO:cmdstanpy:Chain [1] start processing\n",
      "INFO:cmdstanpy:Chain [2] start processing\n",
      "INFO:cmdstanpy:Chain [3] start processing\n",
      "INFO:cmdstanpy:Chain [4] start processing\n"
     ]
    },
    {
     "name": "stdout",
     "output_type": "stream",
     "text": [
      "Fitting toy MC bin no.109\n",
      "0.9498571428571428\n",
      "420 324\n"
     ]
    },
    {
     "name": "stderr",
     "output_type": "stream",
     "text": [
      "INFO:cmdstanpy:Chain [2] done processing\n",
      "INFO:cmdstanpy:Chain [3] done processing\n",
      "INFO:cmdstanpy:Chain [4] done processing\n",
      "INFO:cmdstanpy:Chain [1] done processing\n",
      "INFO:cmdstanpy:found newer exe file, not recompiling\n",
      "INFO:cmdstanpy:found newer exe file, not recompiling\n",
      "INFO:cmdstanpy:CmdStan start procesing\n",
      "INFO:cmdstanpy:Chain [1] start processing\n",
      "INFO:cmdstanpy:Chain [2] start processing\n",
      "INFO:cmdstanpy:Chain [3] start processing\n",
      "INFO:cmdstanpy:Chain [4] start processing\n"
     ]
    },
    {
     "name": "stdout",
     "output_type": "stream",
     "text": [
      "Fitting toy MC bin no.110\n",
      "0.9498425196850393\n",
      "381 294\n"
     ]
    },
    {
     "name": "stderr",
     "output_type": "stream",
     "text": [
      "INFO:cmdstanpy:Chain [3] done processing\n",
      "INFO:cmdstanpy:Chain [2] done processing\n",
      "INFO:cmdstanpy:Chain [4] done processing\n",
      "INFO:cmdstanpy:Chain [1] done processing\n",
      "INFO:cmdstanpy:found newer exe file, not recompiling\n",
      "INFO:cmdstanpy:found newer exe file, not recompiling\n",
      "INFO:cmdstanpy:CmdStan start procesing\n",
      "INFO:cmdstanpy:Chain [1] start processing\n",
      "INFO:cmdstanpy:Chain [2] start processing\n",
      "INFO:cmdstanpy:Chain [3] start processing\n",
      "INFO:cmdstanpy:Chain [4] start processing\n"
     ]
    },
    {
     "name": "stdout",
     "output_type": "stream",
     "text": [
      "Fitting toy MC bin no.111\n",
      "0.9498484848484848\n",
      "429 331\n"
     ]
    },
    {
     "name": "stderr",
     "output_type": "stream",
     "text": [
      "INFO:cmdstanpy:Chain [3] done processing\n",
      "INFO:cmdstanpy:Chain [2] done processing\n",
      "INFO:cmdstanpy:Chain [1] done processing\n",
      "INFO:cmdstanpy:Chain [4] done processing\n",
      "INFO:cmdstanpy:found newer exe file, not recompiling\n",
      "INFO:cmdstanpy:found newer exe file, not recompiling\n",
      "INFO:cmdstanpy:CmdStan start procesing\n",
      "INFO:cmdstanpy:Chain [1] start processing\n",
      "INFO:cmdstanpy:Chain [2] start processing\n",
      "INFO:cmdstanpy:Chain [3] start processing\n",
      "INFO:cmdstanpy:Chain [4] start processing\n"
     ]
    },
    {
     "name": "stdout",
     "output_type": "stream",
     "text": [
      "Fitting toy MC bin no.112\n",
      "0.949909793814433\n",
      "388 299\n"
     ]
    },
    {
     "name": "stderr",
     "output_type": "stream",
     "text": [
      "INFO:cmdstanpy:Chain [4] done processing\n",
      "INFO:cmdstanpy:Chain [1] done processing\n",
      "INFO:cmdstanpy:Chain [2] done processing\n",
      "INFO:cmdstanpy:Chain [3] done processing\n",
      "INFO:cmdstanpy:found newer exe file, not recompiling\n",
      "INFO:cmdstanpy:found newer exe file, not recompiling\n",
      "INFO:cmdstanpy:CmdStan start procesing\n",
      "INFO:cmdstanpy:Chain [1] start processing\n",
      "INFO:cmdstanpy:Chain [2] start processing\n",
      "INFO:cmdstanpy:Chain [3] start processing\n",
      "INFO:cmdstanpy:Chain [4] start processing\n"
     ]
    },
    {
     "name": "stdout",
     "output_type": "stream",
     "text": [
      "Fitting toy MC bin no.113\n",
      "0.9499754901960784\n",
      "408 314\n"
     ]
    },
    {
     "name": "stderr",
     "output_type": "stream",
     "text": [
      "INFO:cmdstanpy:Chain [4] done processing\n",
      "INFO:cmdstanpy:Chain [1] done processing\n",
      "INFO:cmdstanpy:Chain [2] done processing\n",
      "INFO:cmdstanpy:Chain [3] done processing\n",
      "INFO:cmdstanpy:found newer exe file, not recompiling\n",
      "INFO:cmdstanpy:found newer exe file, not recompiling\n",
      "INFO:cmdstanpy:CmdStan start procesing\n",
      "INFO:cmdstanpy:Chain [1] start processing\n",
      "INFO:cmdstanpy:Chain [2] start processing\n",
      "INFO:cmdstanpy:Chain [3] start processing\n",
      "INFO:cmdstanpy:Chain [4] start processing\n"
     ]
    },
    {
     "name": "stdout",
     "output_type": "stream",
     "text": [
      "Fitting toy MC bin no.114\n",
      "0.9498300970873786\n",
      "412 318\n"
     ]
    },
    {
     "name": "stderr",
     "output_type": "stream",
     "text": [
      "INFO:cmdstanpy:Chain [1] done processing\n",
      "INFO:cmdstanpy:Chain [4] done processing\n",
      "INFO:cmdstanpy:Chain [3] done processing\n",
      "INFO:cmdstanpy:Chain [2] done processing\n",
      "INFO:cmdstanpy:found newer exe file, not recompiling\n",
      "INFO:cmdstanpy:found newer exe file, not recompiling\n",
      "INFO:cmdstanpy:CmdStan start procesing\n",
      "INFO:cmdstanpy:Chain [1] start processing\n",
      "INFO:cmdstanpy:Chain [2] start processing\n",
      "INFO:cmdstanpy:Chain [3] start processing\n",
      "INFO:cmdstanpy:Chain [4] start processing\n"
     ]
    },
    {
     "name": "stdout",
     "output_type": "stream",
     "text": [
      "Fitting toy MC bin no.115\n",
      "0.9499282296650717\n",
      "418 322\n"
     ]
    },
    {
     "name": "stderr",
     "output_type": "stream",
     "text": [
      "INFO:cmdstanpy:Chain [1] done processing\n",
      "INFO:cmdstanpy:Chain [4] done processing\n",
      "INFO:cmdstanpy:Chain [2] done processing\n",
      "INFO:cmdstanpy:Chain [3] done processing\n",
      "INFO:cmdstanpy:found newer exe file, not recompiling\n",
      "INFO:cmdstanpy:found newer exe file, not recompiling\n",
      "INFO:cmdstanpy:CmdStan start procesing\n",
      "INFO:cmdstanpy:Chain [1] start processing\n",
      "INFO:cmdstanpy:Chain [2] start processing\n",
      "INFO:cmdstanpy:Chain [3] start processing\n",
      "INFO:cmdstanpy:Chain [4] start processing\n"
     ]
    },
    {
     "name": "stdout",
     "output_type": "stream",
     "text": [
      "Fitting toy MC bin no.116\n",
      "0.9497576530612245\n",
      "392 303\n"
     ]
    },
    {
     "name": "stderr",
     "output_type": "stream",
     "text": [
      "INFO:cmdstanpy:Chain [2] done processing\n",
      "INFO:cmdstanpy:Chain [3] done processing\n",
      "INFO:cmdstanpy:Chain [1] done processing\n",
      "INFO:cmdstanpy:Chain [4] done processing\n",
      "INFO:cmdstanpy:found newer exe file, not recompiling\n",
      "INFO:cmdstanpy:found newer exe file, not recompiling\n",
      "INFO:cmdstanpy:CmdStan start procesing\n",
      "INFO:cmdstanpy:Chain [1] start processing\n",
      "INFO:cmdstanpy:Chain [2] start processing\n",
      "INFO:cmdstanpy:Chain [3] start processing\n",
      "INFO:cmdstanpy:Chain [4] start processing\n"
     ]
    },
    {
     "name": "stdout",
     "output_type": "stream",
     "text": [
      "Fitting toy MC bin no.117\n",
      "0.9498992443324937\n",
      "397 306\n"
     ]
    },
    {
     "name": "stderr",
     "output_type": "stream",
     "text": [
      "INFO:cmdstanpy:Chain [3] done processing\n",
      "INFO:cmdstanpy:Chain [2] done processing\n",
      "INFO:cmdstanpy:Chain [1] done processing\n",
      "INFO:cmdstanpy:Chain [4] done processing\n",
      "INFO:cmdstanpy:found newer exe file, not recompiling\n",
      "INFO:cmdstanpy:found newer exe file, not recompiling\n",
      "INFO:cmdstanpy:CmdStan start procesing\n",
      "INFO:cmdstanpy:Chain [1] start processing\n",
      "INFO:cmdstanpy:Chain [2] start processing\n",
      "INFO:cmdstanpy:Chain [3] start processing\n",
      "INFO:cmdstanpy:Chain [4] start processing\n"
     ]
    },
    {
     "name": "stdout",
     "output_type": "stream",
     "text": [
      "Fitting toy MC bin no.118\n",
      "0.9498866213151927\n",
      "441 340\n"
     ]
    },
    {
     "name": "stderr",
     "output_type": "stream",
     "text": [
      "INFO:cmdstanpy:Chain [4] done processing\n",
      "INFO:cmdstanpy:Chain [1] done processing\n",
      "INFO:cmdstanpy:Chain [2] done processing\n",
      "INFO:cmdstanpy:Chain [3] done processing\n",
      "INFO:cmdstanpy:found newer exe file, not recompiling\n",
      "INFO:cmdstanpy:found newer exe file, not recompiling\n",
      "INFO:cmdstanpy:CmdStan start procesing\n",
      "INFO:cmdstanpy:Chain [1] start processing\n",
      "INFO:cmdstanpy:Chain [2] start processing\n",
      "INFO:cmdstanpy:Chain [3] start processing\n",
      "INFO:cmdstanpy:Chain [4] start processing\n"
     ]
    },
    {
     "name": "stdout",
     "output_type": "stream",
     "text": [
      "Fitting toy MC bin no.119\n",
      "0.9499127182044889\n",
      "401 309\n"
     ]
    },
    {
     "name": "stderr",
     "output_type": "stream",
     "text": [
      "INFO:cmdstanpy:Chain [1] done processing\n",
      "INFO:cmdstanpy:Chain [3] done processing\n",
      "INFO:cmdstanpy:Chain [2] done processing\n",
      "INFO:cmdstanpy:Chain [4] done processing\n",
      "INFO:cmdstanpy:found newer exe file, not recompiling\n",
      "INFO:cmdstanpy:found newer exe file, not recompiling\n",
      "INFO:cmdstanpy:CmdStan start procesing\n",
      "INFO:cmdstanpy:Chain [1] start processing\n",
      "INFO:cmdstanpy:Chain [2] start processing\n",
      "INFO:cmdstanpy:Chain [3] start processing\n",
      "INFO:cmdstanpy:Chain [4] start processing\n"
     ]
    },
    {
     "name": "stdout",
     "output_type": "stream",
     "text": [
      "Fitting toy MC bin no.120\n",
      "0.9498186528497409\n",
      "386 298\n"
     ]
    },
    {
     "name": "stderr",
     "output_type": "stream",
     "text": [
      "INFO:cmdstanpy:Chain [2] done processing\n",
      "INFO:cmdstanpy:Chain [3] done processing\n",
      "INFO:cmdstanpy:Chain [1] done processing\n",
      "INFO:cmdstanpy:Chain [4] done processing\n",
      "INFO:cmdstanpy:found newer exe file, not recompiling\n",
      "INFO:cmdstanpy:found newer exe file, not recompiling\n",
      "INFO:cmdstanpy:CmdStan start procesing\n",
      "INFO:cmdstanpy:Chain [1] start processing\n",
      "INFO:cmdstanpy:Chain [2] start processing\n",
      "INFO:cmdstanpy:Chain [3] start processing\n",
      "INFO:cmdstanpy:Chain [4] start processing\n"
     ]
    },
    {
     "name": "stdout",
     "output_type": "stream",
     "text": [
      "Fitting toy MC bin no.121\n",
      "0.9499024390243902\n",
      "410 316\n"
     ]
    },
    {
     "name": "stderr",
     "output_type": "stream",
     "text": [
      "INFO:cmdstanpy:Chain [3] done processing\n",
      "INFO:cmdstanpy:Chain [2] done processing\n",
      "INFO:cmdstanpy:Chain [4] done processing\n",
      "INFO:cmdstanpy:Chain [1] done processing\n",
      "INFO:cmdstanpy:found newer exe file, not recompiling\n",
      "INFO:cmdstanpy:found newer exe file, not recompiling\n",
      "INFO:cmdstanpy:CmdStan start procesing\n",
      "INFO:cmdstanpy:Chain [1] start processing\n",
      "INFO:cmdstanpy:Chain [2] start processing\n",
      "INFO:cmdstanpy:Chain [3] start processing\n",
      "INFO:cmdstanpy:Chain [4] start processing\n"
     ]
    },
    {
     "name": "stdout",
     "output_type": "stream",
     "text": [
      "Fitting toy MC bin no.122\n",
      "0.9500135869565218\n",
      "368 283\n"
     ]
    },
    {
     "name": "stderr",
     "output_type": "stream",
     "text": [
      "INFO:cmdstanpy:Chain [1] done processing\n",
      "INFO:cmdstanpy:Chain [2] done processing\n",
      "INFO:cmdstanpy:Chain [3] done processing\n",
      "INFO:cmdstanpy:Chain [4] done processing\n",
      "INFO:cmdstanpy:found newer exe file, not recompiling\n",
      "INFO:cmdstanpy:found newer exe file, not recompiling\n",
      "INFO:cmdstanpy:CmdStan start procesing\n",
      "INFO:cmdstanpy:Chain [1] start processing\n",
      "INFO:cmdstanpy:Chain [2] start processing\n",
      "INFO:cmdstanpy:Chain [3] start processing\n",
      "INFO:cmdstanpy:Chain [4] start processing\n"
     ]
    },
    {
     "name": "stdout",
     "output_type": "stream",
     "text": [
      "Fitting toy MC bin no.123\n",
      "0.9499762470308789\n",
      "421 324\n"
     ]
    },
    {
     "name": "stderr",
     "output_type": "stream",
     "text": [
      "INFO:cmdstanpy:Chain [3] done processing\n",
      "INFO:cmdstanpy:Chain [1] done processing\n",
      "INFO:cmdstanpy:Chain [4] done processing\n",
      "INFO:cmdstanpy:Chain [2] done processing\n",
      "INFO:cmdstanpy:found newer exe file, not recompiling\n",
      "INFO:cmdstanpy:found newer exe file, not recompiling\n",
      "INFO:cmdstanpy:CmdStan start procesing\n",
      "INFO:cmdstanpy:Chain [1] start processing\n",
      "INFO:cmdstanpy:Chain [2] start processing\n",
      "INFO:cmdstanpy:Chain [3] start processing\n",
      "INFO:cmdstanpy:Chain [4] start processing\n"
     ]
    },
    {
     "name": "stdout",
     "output_type": "stream",
     "text": [
      "Fitting toy MC bin no.124\n",
      "0.9501237623762376\n",
      "404 310\n"
     ]
    },
    {
     "name": "stderr",
     "output_type": "stream",
     "text": [
      "INFO:cmdstanpy:Chain [2] done processing\n",
      "INFO:cmdstanpy:Chain [3] done processing\n",
      "INFO:cmdstanpy:Chain [4] done processing\n",
      "INFO:cmdstanpy:Chain [1] done processing\n",
      "INFO:cmdstanpy:found newer exe file, not recompiling\n",
      "INFO:cmdstanpy:found newer exe file, not recompiling\n",
      "INFO:cmdstanpy:CmdStan start procesing\n",
      "INFO:cmdstanpy:Chain [1] start processing\n",
      "INFO:cmdstanpy:Chain [2] start processing\n",
      "INFO:cmdstanpy:Chain [3] start processing\n",
      "INFO:cmdstanpy:Chain [4] start processing\n"
     ]
    },
    {
     "name": "stdout",
     "output_type": "stream",
     "text": [
      "Fitting toy MC bin no.125\n",
      "0.950060975609756\n",
      "410 315\n"
     ]
    },
    {
     "name": "stderr",
     "output_type": "stream",
     "text": [
      "INFO:cmdstanpy:Chain [4] done processing\n",
      "INFO:cmdstanpy:Chain [1] done processing\n",
      "INFO:cmdstanpy:Chain [3] done processing\n",
      "INFO:cmdstanpy:Chain [2] done processing\n",
      "INFO:cmdstanpy:found newer exe file, not recompiling\n",
      "INFO:cmdstanpy:found newer exe file, not recompiling\n",
      "INFO:cmdstanpy:CmdStan start procesing\n",
      "INFO:cmdstanpy:Chain [1] start processing\n",
      "INFO:cmdstanpy:Chain [2] start processing\n",
      "INFO:cmdstanpy:Chain [3] start processing\n",
      "INFO:cmdstanpy:Chain [4] start processing\n"
     ]
    },
    {
     "name": "stdout",
     "output_type": "stream",
     "text": [
      "Fitting toy MC bin no.126\n",
      "0.9498714652956298\n",
      "389 300\n"
     ]
    },
    {
     "name": "stderr",
     "output_type": "stream",
     "text": [
      "INFO:cmdstanpy:Chain [4] done processing\n",
      "INFO:cmdstanpy:Chain [2] done processing\n",
      "INFO:cmdstanpy:Chain [3] done processing\n",
      "INFO:cmdstanpy:Chain [1] done processing\n",
      "INFO:cmdstanpy:found newer exe file, not recompiling\n",
      "INFO:cmdstanpy:found newer exe file, not recompiling\n",
      "INFO:cmdstanpy:CmdStan start procesing\n",
      "INFO:cmdstanpy:Chain [1] start processing\n",
      "INFO:cmdstanpy:Chain [2] start processing\n",
      "INFO:cmdstanpy:Chain [3] start processing\n",
      "INFO:cmdstanpy:Chain [4] start processing\n"
     ]
    },
    {
     "name": "stdout",
     "output_type": "stream",
     "text": [
      "Fitting toy MC bin no.127\n",
      "0.9498795180722891\n",
      "415 320\n"
     ]
    },
    {
     "name": "stderr",
     "output_type": "stream",
     "text": [
      "INFO:cmdstanpy:Chain [3] done processing\n",
      "INFO:cmdstanpy:Chain [2] done processing\n",
      "INFO:cmdstanpy:Chain [1] done processing\n",
      "INFO:cmdstanpy:Chain [4] done processing\n",
      "INFO:cmdstanpy:found newer exe file, not recompiling\n",
      "INFO:cmdstanpy:found newer exe file, not recompiling\n",
      "INFO:cmdstanpy:CmdStan start procesing\n",
      "INFO:cmdstanpy:Chain [1] start processing\n",
      "INFO:cmdstanpy:Chain [2] start processing\n",
      "INFO:cmdstanpy:Chain [3] start processing\n",
      "INFO:cmdstanpy:Chain [4] start processing\n"
     ]
    },
    {
     "name": "stdout",
     "output_type": "stream",
     "text": [
      "Fitting toy MC bin no.128\n",
      "0.949925925925926\n",
      "405 312\n"
     ]
    },
    {
     "name": "stderr",
     "output_type": "stream",
     "text": [
      "INFO:cmdstanpy:Chain [4] done processing\n",
      "INFO:cmdstanpy:Chain [1] done processing\n",
      "INFO:cmdstanpy:Chain [2] done processing\n",
      "INFO:cmdstanpy:Chain [3] done processing\n",
      "INFO:cmdstanpy:found newer exe file, not recompiling\n",
      "INFO:cmdstanpy:found newer exe file, not recompiling\n",
      "INFO:cmdstanpy:CmdStan start procesing\n",
      "INFO:cmdstanpy:Chain [1] start processing\n",
      "INFO:cmdstanpy:Chain [2] start processing\n",
      "INFO:cmdstanpy:Chain [3] start processing\n",
      "INFO:cmdstanpy:Chain [4] start processing\n"
     ]
    },
    {
     "name": "stdout",
     "output_type": "stream",
     "text": [
      "Fitting toy MC bin no.129\n",
      "0.9499024390243902\n",
      "410 316\n"
     ]
    },
    {
     "name": "stderr",
     "output_type": "stream",
     "text": [
      "INFO:cmdstanpy:Chain [2] done processing\n",
      "INFO:cmdstanpy:Chain [3] done processing\n",
      "INFO:cmdstanpy:Chain [4] done processing\n",
      "INFO:cmdstanpy:Chain [1] done processing\n",
      "INFO:cmdstanpy:found newer exe file, not recompiling\n",
      "INFO:cmdstanpy:found newer exe file, not recompiling\n",
      "INFO:cmdstanpy:CmdStan start procesing\n",
      "INFO:cmdstanpy:Chain [1] start processing\n",
      "INFO:cmdstanpy:Chain [2] start processing\n",
      "INFO:cmdstanpy:Chain [3] start processing\n",
      "INFO:cmdstanpy:Chain [4] start processing\n"
     ]
    },
    {
     "name": "stdout",
     "output_type": "stream",
     "text": [
      "Fitting toy MC bin no.130\n",
      "0.9499024390243902\n",
      "410 316\n"
     ]
    },
    {
     "name": "stderr",
     "output_type": "stream",
     "text": [
      "INFO:cmdstanpy:Chain [1] done processing\n",
      "INFO:cmdstanpy:Chain [4] done processing\n",
      "INFO:cmdstanpy:Chain [2] done processing\n",
      "INFO:cmdstanpy:Chain [3] done processing\n",
      "INFO:cmdstanpy:found newer exe file, not recompiling\n",
      "INFO:cmdstanpy:found newer exe file, not recompiling\n",
      "INFO:cmdstanpy:CmdStan start procesing\n",
      "INFO:cmdstanpy:Chain [1] start processing\n",
      "INFO:cmdstanpy:Chain [2] start processing\n",
      "INFO:cmdstanpy:Chain [3] start processing\n",
      "INFO:cmdstanpy:Chain [4] start processing\n"
     ]
    },
    {
     "name": "stdout",
     "output_type": "stream",
     "text": [
      "Fitting toy MC bin no.131\n",
      "0.9498854961832062\n",
      "393 303\n"
     ]
    },
    {
     "name": "stderr",
     "output_type": "stream",
     "text": [
      "INFO:cmdstanpy:Chain [3] done processing\n",
      "INFO:cmdstanpy:Chain [4] done processing\n",
      "INFO:cmdstanpy:Chain [1] done processing\n",
      "INFO:cmdstanpy:Chain [2] done processing\n",
      "INFO:cmdstanpy:found newer exe file, not recompiling\n",
      "INFO:cmdstanpy:found newer exe file, not recompiling\n",
      "INFO:cmdstanpy:CmdStan start procesing\n",
      "INFO:cmdstanpy:Chain [1] start processing\n",
      "INFO:cmdstanpy:Chain [2] start processing\n",
      "INFO:cmdstanpy:Chain [3] start processing\n",
      "INFO:cmdstanpy:Chain [4] start processing\n"
     ]
    },
    {
     "name": "stdout",
     "output_type": "stream",
     "text": [
      "Fitting toy MC bin no.132\n",
      "0.9501369863013699\n",
      "438 336\n"
     ]
    },
    {
     "name": "stderr",
     "output_type": "stream",
     "text": [
      "INFO:cmdstanpy:Chain [3] done processing\n",
      "INFO:cmdstanpy:Chain [4] done processing\n",
      "INFO:cmdstanpy:Chain [1] done processing\n",
      "INFO:cmdstanpy:Chain [2] done processing\n",
      "INFO:cmdstanpy:found newer exe file, not recompiling\n",
      "INFO:cmdstanpy:found newer exe file, not recompiling\n",
      "INFO:cmdstanpy:CmdStan start procesing\n",
      "INFO:cmdstanpy:Chain [1] start processing\n",
      "INFO:cmdstanpy:Chain [2] start processing\n",
      "INFO:cmdstanpy:Chain [3] start processing\n",
      "INFO:cmdstanpy:Chain [4] start processing\n"
     ]
    },
    {
     "name": "stdout",
     "output_type": "stream",
     "text": [
      "Fitting toy MC bin no.133\n",
      "0.9498882681564246\n",
      "358 276\n"
     ]
    },
    {
     "name": "stderr",
     "output_type": "stream",
     "text": [
      "INFO:cmdstanpy:Chain [2] done processing\n",
      "INFO:cmdstanpy:Chain [3] done processing\n",
      "INFO:cmdstanpy:Chain [1] done processing\n",
      "INFO:cmdstanpy:Chain [4] done processing\n",
      "INFO:cmdstanpy:found newer exe file, not recompiling\n",
      "INFO:cmdstanpy:found newer exe file, not recompiling\n",
      "INFO:cmdstanpy:CmdStan start procesing\n",
      "INFO:cmdstanpy:Chain [1] start processing\n",
      "INFO:cmdstanpy:Chain [2] start processing\n",
      "INFO:cmdstanpy:Chain [3] start processing\n",
      "INFO:cmdstanpy:Chain [4] start processing\n"
     ]
    },
    {
     "name": "stdout",
     "output_type": "stream",
     "text": [
      "Fitting toy MC bin no.134\n",
      "0.9498352941176471\n",
      "425 328\n"
     ]
    },
    {
     "name": "stderr",
     "output_type": "stream",
     "text": [
      "INFO:cmdstanpy:Chain [2] done processing\n",
      "INFO:cmdstanpy:Chain [1] done processing\n",
      "INFO:cmdstanpy:Chain [3] done processing\n",
      "INFO:cmdstanpy:Chain [4] done processing\n",
      "INFO:cmdstanpy:found newer exe file, not recompiling\n",
      "INFO:cmdstanpy:found newer exe file, not recompiling\n",
      "INFO:cmdstanpy:CmdStan start procesing\n",
      "INFO:cmdstanpy:Chain [1] start processing\n",
      "INFO:cmdstanpy:Chain [2] start processing\n",
      "INFO:cmdstanpy:Chain [3] start processing\n",
      "INFO:cmdstanpy:Chain [4] start processing\n"
     ]
    },
    {
     "name": "stdout",
     "output_type": "stream",
     "text": [
      "Fitting toy MC bin no.135\n",
      "0.9498484848484848\n",
      "429 331\n"
     ]
    },
    {
     "name": "stderr",
     "output_type": "stream",
     "text": [
      "INFO:cmdstanpy:Chain [1] done processing\n",
      "INFO:cmdstanpy:Chain [2] done processing\n",
      "INFO:cmdstanpy:Chain [4] done processing\n",
      "INFO:cmdstanpy:Chain [3] done processing\n",
      "INFO:cmdstanpy:found newer exe file, not recompiling\n",
      "INFO:cmdstanpy:found newer exe file, not recompiling\n",
      "INFO:cmdstanpy:CmdStan start procesing\n",
      "INFO:cmdstanpy:Chain [1] start processing\n",
      "INFO:cmdstanpy:Chain [2] start processing\n",
      "INFO:cmdstanpy:Chain [3] start processing\n",
      "INFO:cmdstanpy:Chain [4] start processing\n"
     ]
    },
    {
     "name": "stdout",
     "output_type": "stream",
     "text": [
      "Fitting toy MC bin no.136\n",
      "0.9498992443324937\n",
      "397 306\n"
     ]
    },
    {
     "name": "stderr",
     "output_type": "stream",
     "text": [
      "INFO:cmdstanpy:Chain [1] done processing\n",
      "INFO:cmdstanpy:Chain [3] done processing\n",
      "INFO:cmdstanpy:Chain [4] done processing\n",
      "INFO:cmdstanpy:Chain [2] done processing\n",
      "INFO:cmdstanpy:found newer exe file, not recompiling\n",
      "INFO:cmdstanpy:found newer exe file, not recompiling\n",
      "INFO:cmdstanpy:CmdStan start procesing\n",
      "INFO:cmdstanpy:Chain [1] start processing\n",
      "INFO:cmdstanpy:Chain [2] start processing\n",
      "INFO:cmdstanpy:Chain [3] start processing\n",
      "INFO:cmdstanpy:Chain [4] start processing\n"
     ]
    },
    {
     "name": "stdout",
     "output_type": "stream",
     "text": [
      "Fitting toy MC bin no.137\n",
      "0.9498670212765957\n",
      "376 290\n"
     ]
    },
    {
     "name": "stderr",
     "output_type": "stream",
     "text": [
      "INFO:cmdstanpy:Chain [4] done processing\n",
      "INFO:cmdstanpy:Chain [2] done processing\n",
      "INFO:cmdstanpy:Chain [3] done processing\n",
      "INFO:cmdstanpy:Chain [1] done processing\n",
      "INFO:cmdstanpy:found newer exe file, not recompiling\n",
      "INFO:cmdstanpy:found newer exe file, not recompiling\n",
      "INFO:cmdstanpy:CmdStan start procesing\n",
      "INFO:cmdstanpy:Chain [1] start processing\n",
      "INFO:cmdstanpy:Chain [2] start processing\n",
      "INFO:cmdstanpy:Chain [3] start processing\n",
      "INFO:cmdstanpy:Chain [4] start processing\n"
     ]
    },
    {
     "name": "stdout",
     "output_type": "stream",
     "text": [
      "Fitting toy MC bin no.138\n",
      "0.9500000000000001\n",
      "429 330\n"
     ]
    },
    {
     "name": "stderr",
     "output_type": "stream",
     "text": [
      "INFO:cmdstanpy:Chain [4] done processing\n",
      "INFO:cmdstanpy:Chain [1] done processing\n",
      "INFO:cmdstanpy:Chain [3] done processing\n",
      "INFO:cmdstanpy:Chain [2] done processing\n",
      "INFO:cmdstanpy:found newer exe file, not recompiling\n",
      "INFO:cmdstanpy:found newer exe file, not recompiling\n",
      "INFO:cmdstanpy:CmdStan start procesing\n",
      "INFO:cmdstanpy:Chain [1] start processing\n",
      "INFO:cmdstanpy:Chain [2] start processing\n",
      "INFO:cmdstanpy:Chain [3] start processing\n",
      "INFO:cmdstanpy:Chain [4] start processing\n"
     ]
    },
    {
     "name": "stdout",
     "output_type": "stream",
     "text": [
      "Fitting toy MC bin no.139\n",
      "0.9498670212765957\n",
      "376 290\n"
     ]
    },
    {
     "name": "stderr",
     "output_type": "stream",
     "text": [
      "INFO:cmdstanpy:Chain [3] done processing\n",
      "INFO:cmdstanpy:Chain [4] done processing\n",
      "INFO:cmdstanpy:Chain [2] done processing\n",
      "INFO:cmdstanpy:Chain [1] done processing\n",
      "INFO:cmdstanpy:found newer exe file, not recompiling\n",
      "INFO:cmdstanpy:found newer exe file, not recompiling\n",
      "INFO:cmdstanpy:CmdStan start procesing\n",
      "INFO:cmdstanpy:Chain [1] start processing\n",
      "INFO:cmdstanpy:Chain [2] start processing\n",
      "INFO:cmdstanpy:Chain [3] start processing\n",
      "INFO:cmdstanpy:Chain [4] start processing\n"
     ]
    },
    {
     "name": "stdout",
     "output_type": "stream",
     "text": [
      "Fitting toy MC bin no.140\n",
      "0.9500724637681159\n",
      "414 318\n"
     ]
    },
    {
     "name": "stderr",
     "output_type": "stream",
     "text": [
      "INFO:cmdstanpy:Chain [4] done processing\n",
      "INFO:cmdstanpy:Chain [2] done processing\n",
      "INFO:cmdstanpy:Chain [3] done processing\n",
      "INFO:cmdstanpy:Chain [1] done processing\n",
      "INFO:cmdstanpy:found newer exe file, not recompiling\n",
      "INFO:cmdstanpy:found newer exe file, not recompiling\n",
      "INFO:cmdstanpy:CmdStan start procesing\n",
      "INFO:cmdstanpy:Chain [1] start processing\n",
      "INFO:cmdstanpy:Chain [2] start processing\n",
      "INFO:cmdstanpy:Chain [3] start processing\n",
      "INFO:cmdstanpy:Chain [4] start processing\n"
     ]
    },
    {
     "name": "stdout",
     "output_type": "stream",
     "text": [
      "Fitting toy MC bin no.141\n",
      "0.950060975609756\n",
      "410 315\n"
     ]
    },
    {
     "name": "stderr",
     "output_type": "stream",
     "text": [
      "INFO:cmdstanpy:Chain [1] done processing\n",
      "INFO:cmdstanpy:Chain [3] done processing\n",
      "INFO:cmdstanpy:Chain [2] done processing\n",
      "INFO:cmdstanpy:Chain [4] done processing\n",
      "INFO:cmdstanpy:found newer exe file, not recompiling\n",
      "INFO:cmdstanpy:found newer exe file, not recompiling\n",
      "INFO:cmdstanpy:CmdStan start procesing\n",
      "INFO:cmdstanpy:Chain [1] start processing\n",
      "INFO:cmdstanpy:Chain [2] start processing\n",
      "INFO:cmdstanpy:Chain [3] start processing\n",
      "INFO:cmdstanpy:Chain [4] start processing\n"
     ]
    },
    {
     "name": "stdout",
     "output_type": "stream",
     "text": [
      "Fitting toy MC bin no.142\n",
      "0.9498992443324937\n",
      "397 306\n"
     ]
    },
    {
     "name": "stderr",
     "output_type": "stream",
     "text": [
      "INFO:cmdstanpy:Chain [4] done processing\n",
      "INFO:cmdstanpy:Chain [2] done processing\n",
      "INFO:cmdstanpy:Chain [1] done processing\n",
      "INFO:cmdstanpy:Chain [3] done processing\n",
      "INFO:cmdstanpy:found newer exe file, not recompiling\n",
      "INFO:cmdstanpy:found newer exe file, not recompiling\n",
      "INFO:cmdstanpy:CmdStan start procesing\n",
      "INFO:cmdstanpy:Chain [1] start processing\n",
      "INFO:cmdstanpy:Chain [2] start processing\n",
      "INFO:cmdstanpy:Chain [3] start processing\n",
      "INFO:cmdstanpy:Chain [4] start processing\n"
     ]
    },
    {
     "name": "stdout",
     "output_type": "stream",
     "text": [
      "Fitting toy MC bin no.143\n",
      "0.9499282296650717\n",
      "418 322\n"
     ]
    },
    {
     "name": "stderr",
     "output_type": "stream",
     "text": [
      "INFO:cmdstanpy:Chain [3] done processing\n",
      "INFO:cmdstanpy:Chain [4] done processing\n",
      "INFO:cmdstanpy:Chain [1] done processing\n",
      "INFO:cmdstanpy:Chain [2] done processing\n",
      "INFO:cmdstanpy:found newer exe file, not recompiling\n",
      "INFO:cmdstanpy:found newer exe file, not recompiling\n",
      "INFO:cmdstanpy:CmdStan start procesing\n",
      "INFO:cmdstanpy:Chain [1] start processing\n",
      "INFO:cmdstanpy:Chain [2] start processing\n",
      "INFO:cmdstanpy:Chain [3] start processing\n",
      "INFO:cmdstanpy:Chain [4] start processing\n"
     ]
    },
    {
     "name": "stdout",
     "output_type": "stream",
     "text": [
      "Fitting toy MC bin no.144\n",
      "0.9498756218905473\n",
      "402 310\n"
     ]
    },
    {
     "name": "stderr",
     "output_type": "stream",
     "text": [
      "INFO:cmdstanpy:Chain [3] done processing\n",
      "INFO:cmdstanpy:Chain [2] done processing\n",
      "INFO:cmdstanpy:Chain [4] done processing\n",
      "INFO:cmdstanpy:Chain [1] done processing\n",
      "INFO:cmdstanpy:found newer exe file, not recompiling\n",
      "INFO:cmdstanpy:found newer exe file, not recompiling\n",
      "INFO:cmdstanpy:CmdStan start procesing\n",
      "INFO:cmdstanpy:Chain [1] start processing\n",
      "INFO:cmdstanpy:Chain [2] start processing\n",
      "INFO:cmdstanpy:Chain [3] start processing\n",
      "INFO:cmdstanpy:Chain [4] start processing\n"
     ]
    },
    {
     "name": "stdout",
     "output_type": "stream",
     "text": [
      "Fitting toy MC bin no.145\n",
      "0.9498926014319808\n",
      "419 323\n"
     ]
    },
    {
     "name": "stderr",
     "output_type": "stream",
     "text": [
      "INFO:cmdstanpy:Chain [1] done processing\n",
      "INFO:cmdstanpy:Chain [2] done processing\n",
      "INFO:cmdstanpy:Chain [4] done processing\n",
      "INFO:cmdstanpy:Chain [3] done processing\n",
      "INFO:cmdstanpy:found newer exe file, not recompiling\n",
      "INFO:cmdstanpy:found newer exe file, not recompiling\n",
      "INFO:cmdstanpy:CmdStan start procesing\n",
      "INFO:cmdstanpy:Chain [1] start processing\n",
      "INFO:cmdstanpy:Chain [2] start processing\n",
      "INFO:cmdstanpy:Chain [3] start processing\n",
      "INFO:cmdstanpy:Chain [4] start processing\n"
     ]
    },
    {
     "name": "stdout",
     "output_type": "stream",
     "text": [
      "Fitting toy MC bin no.146\n",
      "0.9499769585253457\n",
      "434 334\n"
     ]
    },
    {
     "name": "stderr",
     "output_type": "stream",
     "text": [
      "INFO:cmdstanpy:Chain [3] done processing\n",
      "INFO:cmdstanpy:Chain [2] done processing\n",
      "INFO:cmdstanpy:Chain [1] done processing\n",
      "INFO:cmdstanpy:Chain [4] done processing\n",
      "INFO:cmdstanpy:found newer exe file, not recompiling\n",
      "INFO:cmdstanpy:found newer exe file, not recompiling\n",
      "INFO:cmdstanpy:CmdStan start procesing\n",
      "INFO:cmdstanpy:Chain [1] start processing\n",
      "INFO:cmdstanpy:Chain [2] start processing\n",
      "INFO:cmdstanpy:Chain [3] start processing\n",
      "INFO:cmdstanpy:Chain [4] start processing\n"
     ]
    },
    {
     "name": "stdout",
     "output_type": "stream",
     "text": [
      "Fitting toy MC bin no.147\n",
      "0.9499234693877551\n",
      "392 302\n"
     ]
    },
    {
     "name": "stderr",
     "output_type": "stream",
     "text": [
      "INFO:cmdstanpy:Chain [4] done processing\n",
      "INFO:cmdstanpy:Chain [1] done processing\n",
      "INFO:cmdstanpy:Chain [2] done processing\n",
      "INFO:cmdstanpy:Chain [3] done processing\n",
      "INFO:cmdstanpy:found newer exe file, not recompiling\n",
      "INFO:cmdstanpy:found newer exe file, not recompiling\n",
      "INFO:cmdstanpy:CmdStan start procesing\n",
      "INFO:cmdstanpy:Chain [1] start processing\n",
      "INFO:cmdstanpy:Chain [2] start processing\n",
      "INFO:cmdstanpy:Chain [3] start processing\n",
      "INFO:cmdstanpy:Chain [4] start processing\n"
     ]
    },
    {
     "name": "stdout",
     "output_type": "stream",
     "text": [
      "Fitting toy MC bin no.148\n",
      "0.9497727272727272\n",
      "374 289\n"
     ]
    },
    {
     "name": "stderr",
     "output_type": "stream",
     "text": [
      "INFO:cmdstanpy:Chain [3] done processing\n",
      "INFO:cmdstanpy:Chain [1] done processing\n",
      "INFO:cmdstanpy:Chain [4] done processing\n",
      "INFO:cmdstanpy:Chain [2] done processing\n",
      "INFO:cmdstanpy:found newer exe file, not recompiling\n",
      "INFO:cmdstanpy:found newer exe file, not recompiling\n",
      "INFO:cmdstanpy:CmdStan start procesing\n",
      "INFO:cmdstanpy:Chain [1] start processing\n",
      "INFO:cmdstanpy:Chain [2] start processing\n",
      "INFO:cmdstanpy:Chain [3] start processing\n",
      "INFO:cmdstanpy:Chain [4] start processing\n"
     ]
    },
    {
     "name": "stdout",
     "output_type": "stream",
     "text": [
      "Fitting toy MC bin no.149\n",
      "0.950012285012285\n",
      "407 313\n"
     ]
    },
    {
     "name": "stderr",
     "output_type": "stream",
     "text": [
      "INFO:cmdstanpy:Chain [1] done processing\n",
      "INFO:cmdstanpy:Chain [2] done processing\n",
      "INFO:cmdstanpy:Chain [4] done processing\n",
      "INFO:cmdstanpy:Chain [3] done processing\n",
      "INFO:cmdstanpy:found newer exe file, not recompiling\n",
      "INFO:cmdstanpy:found newer exe file, not recompiling\n",
      "INFO:cmdstanpy:CmdStan start procesing\n",
      "INFO:cmdstanpy:Chain [1] start processing\n",
      "INFO:cmdstanpy:Chain [2] start processing\n",
      "INFO:cmdstanpy:Chain [3] start processing\n",
      "INFO:cmdstanpy:Chain [4] start processing\n"
     ]
    },
    {
     "name": "stdout",
     "output_type": "stream",
     "text": [
      "Fitting toy MC bin no.150\n",
      "0.9501044386422977\n",
      "383 294\n"
     ]
    },
    {
     "name": "stderr",
     "output_type": "stream",
     "text": [
      "INFO:cmdstanpy:Chain [4] done processing\n",
      "INFO:cmdstanpy:Chain [3] done processing\n",
      "INFO:cmdstanpy:Chain [1] done processing\n",
      "INFO:cmdstanpy:Chain [2] done processing\n",
      "INFO:cmdstanpy:found newer exe file, not recompiling\n",
      "INFO:cmdstanpy:found newer exe file, not recompiling\n",
      "INFO:cmdstanpy:CmdStan start procesing\n",
      "INFO:cmdstanpy:Chain [1] start processing\n",
      "INFO:cmdstanpy:Chain [2] start processing\n",
      "INFO:cmdstanpy:Chain [3] start processing\n",
      "INFO:cmdstanpy:Chain [4] start processing\n"
     ]
    },
    {
     "name": "stdout",
     "output_type": "stream",
     "text": [
      "Fitting toy MC bin no.151\n",
      "0.9498618090452262\n",
      "398 307\n"
     ]
    },
    {
     "name": "stderr",
     "output_type": "stream",
     "text": [
      "INFO:cmdstanpy:Chain [4] done processing\n",
      "INFO:cmdstanpy:Chain [3] done processing\n",
      "INFO:cmdstanpy:Chain [1] done processing\n",
      "INFO:cmdstanpy:Chain [2] done processing\n",
      "INFO:cmdstanpy:found newer exe file, not recompiling\n",
      "INFO:cmdstanpy:found newer exe file, not recompiling\n",
      "INFO:cmdstanpy:CmdStan start procesing\n",
      "INFO:cmdstanpy:Chain [1] start processing\n",
      "INFO:cmdstanpy:Chain [2] start processing\n",
      "INFO:cmdstanpy:Chain [3] start processing\n",
      "INFO:cmdstanpy:Chain [4] start processing\n"
     ]
    },
    {
     "name": "stdout",
     "output_type": "stream",
     "text": [
      "Fitting toy MC bin no.152\n",
      "0.9499282296650717\n",
      "418 322\n"
     ]
    },
    {
     "name": "stderr",
     "output_type": "stream",
     "text": [
      "INFO:cmdstanpy:Chain [1] done processing\n",
      "INFO:cmdstanpy:Chain [3] done processing\n",
      "INFO:cmdstanpy:Chain [2] done processing\n",
      "INFO:cmdstanpy:Chain [4] done processing\n",
      "INFO:cmdstanpy:found newer exe file, not recompiling\n",
      "INFO:cmdstanpy:found newer exe file, not recompiling\n",
      "INFO:cmdstanpy:CmdStan start procesing\n",
      "INFO:cmdstanpy:Chain [1] start processing\n",
      "INFO:cmdstanpy:Chain [2] start processing\n",
      "INFO:cmdstanpy:Chain [3] start processing\n",
      "INFO:cmdstanpy:Chain [4] start processing\n"
     ]
    },
    {
     "name": "stdout",
     "output_type": "stream",
     "text": [
      "Fitting toy MC bin no.153\n",
      "0.9499127182044889\n",
      "401 309\n"
     ]
    },
    {
     "name": "stderr",
     "output_type": "stream",
     "text": [
      "INFO:cmdstanpy:Chain [3] done processing\n",
      "INFO:cmdstanpy:Chain [4] done processing\n",
      "INFO:cmdstanpy:Chain [2] done processing\n",
      "INFO:cmdstanpy:Chain [1] done processing\n",
      "INFO:cmdstanpy:found newer exe file, not recompiling\n",
      "INFO:cmdstanpy:found newer exe file, not recompiling\n",
      "INFO:cmdstanpy:CmdStan start procesing\n",
      "INFO:cmdstanpy:Chain [1] start processing\n",
      "INFO:cmdstanpy:Chain [2] start processing\n",
      "INFO:cmdstanpy:Chain [3] start processing\n",
      "INFO:cmdstanpy:Chain [4] start processing\n"
     ]
    },
    {
     "name": "stdout",
     "output_type": "stream",
     "text": [
      "Fitting toy MC bin no.154\n",
      "0.9498777777777777\n",
      "450 347\n"
     ]
    },
    {
     "name": "stderr",
     "output_type": "stream",
     "text": [
      "INFO:cmdstanpy:Chain [2] done processing\n",
      "INFO:cmdstanpy:Chain [3] done processing\n",
      "INFO:cmdstanpy:Chain [1] done processing\n",
      "INFO:cmdstanpy:Chain [4] done processing\n",
      "INFO:cmdstanpy:found newer exe file, not recompiling\n",
      "INFO:cmdstanpy:found newer exe file, not recompiling\n",
      "INFO:cmdstanpy:CmdStan start procesing\n",
      "INFO:cmdstanpy:Chain [1] start processing\n",
      "INFO:cmdstanpy:Chain [2] start processing\n",
      "INFO:cmdstanpy:Chain [3] start processing\n",
      "INFO:cmdstanpy:Chain [4] start processing\n"
     ]
    },
    {
     "name": "stdout",
     "output_type": "stream",
     "text": [
      "Fitting toy MC bin no.155\n",
      "0.9498741418764303\n",
      "437 337\n"
     ]
    },
    {
     "name": "stderr",
     "output_type": "stream",
     "text": [
      "INFO:cmdstanpy:Chain [1] done processing\n",
      "INFO:cmdstanpy:Chain [4] done processing\n",
      "INFO:cmdstanpy:Chain [3] done processing\n",
      "INFO:cmdstanpy:Chain [2] done processing\n",
      "INFO:cmdstanpy:found newer exe file, not recompiling\n",
      "INFO:cmdstanpy:found newer exe file, not recompiling\n",
      "INFO:cmdstanpy:CmdStan start procesing\n",
      "INFO:cmdstanpy:Chain [1] start processing\n",
      "INFO:cmdstanpy:Chain [2] start processing\n",
      "INFO:cmdstanpy:Chain [3] start processing\n",
      "INFO:cmdstanpy:Chain [4] start processing\n"
     ]
    },
    {
     "name": "stdout",
     "output_type": "stream",
     "text": [
      "Fitting toy MC bin no.156\n",
      "0.9498926014319808\n",
      "419 323\n"
     ]
    },
    {
     "name": "stderr",
     "output_type": "stream",
     "text": [
      "INFO:cmdstanpy:Chain [2] done processing\n",
      "INFO:cmdstanpy:Chain [3] done processing\n",
      "INFO:cmdstanpy:Chain [4] done processing\n",
      "INFO:cmdstanpy:Chain [1] done processing\n",
      "INFO:cmdstanpy:found newer exe file, not recompiling\n",
      "INFO:cmdstanpy:found newer exe file, not recompiling\n",
      "INFO:cmdstanpy:CmdStan start procesing\n",
      "INFO:cmdstanpy:Chain [1] start processing\n",
      "INFO:cmdstanpy:Chain [2] start processing\n",
      "INFO:cmdstanpy:Chain [3] start processing\n",
      "INFO:cmdstanpy:Chain [4] start processing\n"
     ]
    },
    {
     "name": "stdout",
     "output_type": "stream",
     "text": [
      "Fitting toy MC bin no.157\n",
      "0.9499407582938388\n",
      "422 325\n"
     ]
    },
    {
     "name": "stderr",
     "output_type": "stream",
     "text": [
      "INFO:cmdstanpy:Chain [4] done processing\n",
      "INFO:cmdstanpy:Chain [3] done processing\n",
      "INFO:cmdstanpy:Chain [2] done processing\n",
      "INFO:cmdstanpy:Chain [1] done processing\n",
      "INFO:cmdstanpy:found newer exe file, not recompiling\n",
      "INFO:cmdstanpy:found newer exe file, not recompiling\n",
      "INFO:cmdstanpy:CmdStan start procesing\n",
      "INFO:cmdstanpy:Chain [1] start processing\n",
      "INFO:cmdstanpy:Chain [2] start processing\n",
      "INFO:cmdstanpy:Chain [3] start processing\n",
      "INFO:cmdstanpy:Chain [4] start processing\n"
     ]
    },
    {
     "name": "stdout",
     "output_type": "stream",
     "text": [
      "Fitting toy MC bin no.158\n",
      "0.94984375\n",
      "416 321\n"
     ]
    },
    {
     "name": "stderr",
     "output_type": "stream",
     "text": [
      "INFO:cmdstanpy:Chain [3] done processing\n",
      "INFO:cmdstanpy:Chain [1] done processing\n",
      "INFO:cmdstanpy:Chain [2] done processing\n",
      "INFO:cmdstanpy:Chain [4] done processing\n",
      "INFO:cmdstanpy:found newer exe file, not recompiling\n",
      "INFO:cmdstanpy:found newer exe file, not recompiling\n",
      "INFO:cmdstanpy:CmdStan start procesing\n",
      "INFO:cmdstanpy:Chain [1] start processing\n",
      "INFO:cmdstanpy:Chain [2] start processing\n",
      "INFO:cmdstanpy:Chain [3] start processing\n",
      "INFO:cmdstanpy:Chain [4] start processing\n"
     ]
    },
    {
     "name": "stdout",
     "output_type": "stream",
     "text": [
      "Fitting toy MC bin no.159\n",
      "0.9498992443324937\n",
      "397 306\n"
     ]
    },
    {
     "name": "stderr",
     "output_type": "stream",
     "text": [
      "INFO:cmdstanpy:Chain [3] done processing\n",
      "INFO:cmdstanpy:Chain [4] done processing\n",
      "INFO:cmdstanpy:Chain [1] done processing\n",
      "INFO:cmdstanpy:Chain [2] done processing\n",
      "INFO:cmdstanpy:found newer exe file, not recompiling\n",
      "INFO:cmdstanpy:found newer exe file, not recompiling\n",
      "INFO:cmdstanpy:CmdStan start procesing\n",
      "INFO:cmdstanpy:Chain [1] start processing\n",
      "INFO:cmdstanpy:Chain [2] start processing\n",
      "INFO:cmdstanpy:Chain [3] start processing\n",
      "INFO:cmdstanpy:Chain [4] start processing\n"
     ]
    },
    {
     "name": "stdout",
     "output_type": "stream",
     "text": [
      "Fitting toy MC bin no.160\n",
      "0.9499388753056234\n",
      "409 315\n"
     ]
    },
    {
     "name": "stderr",
     "output_type": "stream",
     "text": [
      "INFO:cmdstanpy:Chain [3] done processing\n",
      "INFO:cmdstanpy:Chain [1] done processing\n",
      "INFO:cmdstanpy:Chain [4] done processing\n",
      "INFO:cmdstanpy:Chain [2] done processing\n",
      "INFO:cmdstanpy:found newer exe file, not recompiling\n",
      "INFO:cmdstanpy:found newer exe file, not recompiling\n",
      "INFO:cmdstanpy:CmdStan start procesing\n",
      "INFO:cmdstanpy:Chain [1] start processing\n",
      "INFO:cmdstanpy:Chain [2] start processing\n",
      "INFO:cmdstanpy:Chain [3] start processing\n",
      "INFO:cmdstanpy:Chain [4] start processing\n"
     ]
    },
    {
     "name": "stdout",
     "output_type": "stream",
     "text": [
      "Fitting toy MC bin no.161\n",
      "0.9499425287356322\n",
      "435 335\n"
     ]
    },
    {
     "name": "stderr",
     "output_type": "stream",
     "text": [
      "INFO:cmdstanpy:Chain [1] done processing\n",
      "INFO:cmdstanpy:Chain [3] done processing\n",
      "INFO:cmdstanpy:Chain [2] done processing\n",
      "INFO:cmdstanpy:Chain [4] done processing\n",
      "INFO:cmdstanpy:found newer exe file, not recompiling\n",
      "INFO:cmdstanpy:found newer exe file, not recompiling\n",
      "INFO:cmdstanpy:CmdStan start procesing\n",
      "INFO:cmdstanpy:Chain [1] start processing\n",
      "INFO:cmdstanpy:Chain [2] start processing\n",
      "INFO:cmdstanpy:Chain [3] start processing\n",
      "INFO:cmdstanpy:Chain [4] start processing\n"
     ]
    },
    {
     "name": "stdout",
     "output_type": "stream",
     "text": [
      "Fitting toy MC bin no.162\n",
      "0.9497967479674797\n",
      "369 285\n"
     ]
    },
    {
     "name": "stderr",
     "output_type": "stream",
     "text": [
      "INFO:cmdstanpy:Chain [1] done processing\n",
      "INFO:cmdstanpy:Chain [4] done processing\n",
      "INFO:cmdstanpy:Chain [2] done processing\n",
      "INFO:cmdstanpy:Chain [3] done processing\n",
      "INFO:cmdstanpy:found newer exe file, not recompiling\n",
      "INFO:cmdstanpy:found newer exe file, not recompiling\n",
      "INFO:cmdstanpy:CmdStan start procesing\n",
      "INFO:cmdstanpy:Chain [1] start processing\n",
      "INFO:cmdstanpy:Chain [2] start processing\n",
      "INFO:cmdstanpy:Chain [3] start processing\n",
      "INFO:cmdstanpy:Chain [4] start processing\n"
     ]
    },
    {
     "name": "stdout",
     "output_type": "stream",
     "text": [
      "Fitting toy MC bin no.163\n",
      "0.9499628712871288\n",
      "404 311\n"
     ]
    },
    {
     "name": "stderr",
     "output_type": "stream",
     "text": [
      "INFO:cmdstanpy:Chain [3] done processing\n",
      "INFO:cmdstanpy:Chain [4] done processing\n",
      "INFO:cmdstanpy:Chain [1] done processing\n",
      "INFO:cmdstanpy:Chain [2] done processing\n",
      "INFO:cmdstanpy:found newer exe file, not recompiling\n",
      "INFO:cmdstanpy:found newer exe file, not recompiling\n",
      "INFO:cmdstanpy:CmdStan start procesing\n",
      "INFO:cmdstanpy:Chain [1] start processing\n",
      "INFO:cmdstanpy:Chain [2] start processing\n",
      "INFO:cmdstanpy:Chain [3] start processing\n",
      "INFO:cmdstanpy:Chain [4] start processing\n"
     ]
    },
    {
     "name": "stdout",
     "output_type": "stream",
     "text": [
      "Fitting toy MC bin no.164\n",
      "0.9498525798525798\n",
      "407 314\n"
     ]
    },
    {
     "name": "stderr",
     "output_type": "stream",
     "text": [
      "INFO:cmdstanpy:Chain [1] done processing\n",
      "INFO:cmdstanpy:Chain [3] done processing\n",
      "INFO:cmdstanpy:Chain [2] done processing\n",
      "INFO:cmdstanpy:Chain [4] done processing\n",
      "INFO:cmdstanpy:found newer exe file, not recompiling\n",
      "INFO:cmdstanpy:found newer exe file, not recompiling\n",
      "INFO:cmdstanpy:CmdStan start procesing\n",
      "INFO:cmdstanpy:Chain [1] start processing\n",
      "INFO:cmdstanpy:Chain [2] start processing\n",
      "INFO:cmdstanpy:Chain [3] start processing\n",
      "INFO:cmdstanpy:Chain [4] start processing\n"
     ]
    },
    {
     "name": "stdout",
     "output_type": "stream",
     "text": [
      "Fitting toy MC bin no.165\n",
      "0.9497982708933718\n",
      "347 268\n"
     ]
    },
    {
     "name": "stderr",
     "output_type": "stream",
     "text": [
      "INFO:cmdstanpy:Chain [2] done processing\n",
      "INFO:cmdstanpy:Chain [4] done processing\n",
      "INFO:cmdstanpy:Chain [1] done processing\n",
      "INFO:cmdstanpy:Chain [3] done processing\n",
      "INFO:cmdstanpy:found newer exe file, not recompiling\n",
      "INFO:cmdstanpy:found newer exe file, not recompiling\n",
      "INFO:cmdstanpy:CmdStan start procesing\n",
      "INFO:cmdstanpy:Chain [1] start processing\n",
      "INFO:cmdstanpy:Chain [2] start processing\n",
      "INFO:cmdstanpy:Chain [3] start processing\n",
      "INFO:cmdstanpy:Chain [4] start processing\n"
     ]
    },
    {
     "name": "stdout",
     "output_type": "stream",
     "text": [
      "Fitting toy MC bin no.166\n",
      "0.9499208443271767\n",
      "379 292\n"
     ]
    },
    {
     "name": "stderr",
     "output_type": "stream",
     "text": [
      "INFO:cmdstanpy:Chain [2] done processing\n",
      "INFO:cmdstanpy:Chain [4] done processing\n",
      "INFO:cmdstanpy:Chain [1] done processing\n",
      "INFO:cmdstanpy:Chain [3] done processing\n",
      "INFO:cmdstanpy:found newer exe file, not recompiling\n",
      "INFO:cmdstanpy:found newer exe file, not recompiling\n",
      "INFO:cmdstanpy:CmdStan start procesing\n",
      "INFO:cmdstanpy:Chain [1] start processing\n",
      "INFO:cmdstanpy:Chain [2] start processing\n",
      "INFO:cmdstanpy:Chain [3] start processing\n",
      "INFO:cmdstanpy:Chain [4] start processing\n"
     ]
    },
    {
     "name": "stdout",
     "output_type": "stream",
     "text": [
      "Fitting toy MC bin no.167\n",
      "0.9499530516431925\n",
      "426 328\n"
     ]
    },
    {
     "name": "stderr",
     "output_type": "stream",
     "text": [
      "INFO:cmdstanpy:Chain [2] done processing\n",
      "INFO:cmdstanpy:Chain [1] done processing\n",
      "INFO:cmdstanpy:Chain [3] done processing\n",
      "INFO:cmdstanpy:Chain [4] done processing\n",
      "INFO:cmdstanpy:found newer exe file, not recompiling\n",
      "INFO:cmdstanpy:found newer exe file, not recompiling\n",
      "INFO:cmdstanpy:CmdStan start procesing\n",
      "INFO:cmdstanpy:Chain [1] start processing\n",
      "INFO:cmdstanpy:Chain [2] start processing\n",
      "INFO:cmdstanpy:Chain [3] start processing\n",
      "INFO:cmdstanpy:Chain [4] start processing\n"
     ]
    },
    {
     "name": "stdout",
     "output_type": "stream",
     "text": [
      "Fitting toy MC bin no.168\n",
      "0.9499127182044889\n",
      "401 309\n"
     ]
    },
    {
     "name": "stderr",
     "output_type": "stream",
     "text": [
      "INFO:cmdstanpy:Chain [3] done processing\n",
      "INFO:cmdstanpy:Chain [2] done processing\n",
      "INFO:cmdstanpy:Chain [1] done processing\n",
      "INFO:cmdstanpy:Chain [4] done processing\n",
      "INFO:cmdstanpy:found newer exe file, not recompiling\n",
      "INFO:cmdstanpy:found newer exe file, not recompiling\n",
      "INFO:cmdstanpy:CmdStan start procesing\n",
      "INFO:cmdstanpy:Chain [1] start processing\n",
      "INFO:cmdstanpy:Chain [2] start processing\n",
      "INFO:cmdstanpy:Chain [3] start processing\n",
      "INFO:cmdstanpy:Chain [4] start processing\n"
     ]
    },
    {
     "name": "stdout",
     "output_type": "stream",
     "text": [
      "Fitting toy MC bin no.169\n",
      "0.9500115473441109\n",
      "433 333\n"
     ]
    },
    {
     "name": "stderr",
     "output_type": "stream",
     "text": [
      "INFO:cmdstanpy:Chain [2] done processing\n",
      "INFO:cmdstanpy:Chain [3] done processing\n",
      "INFO:cmdstanpy:Chain [1] done processing\n",
      "INFO:cmdstanpy:Chain [4] done processing\n",
      "INFO:cmdstanpy:found newer exe file, not recompiling\n",
      "INFO:cmdstanpy:found newer exe file, not recompiling\n",
      "INFO:cmdstanpy:CmdStan start procesing\n",
      "INFO:cmdstanpy:Chain [1] start processing\n",
      "INFO:cmdstanpy:Chain [2] start processing\n",
      "INFO:cmdstanpy:Chain [3] start processing\n",
      "INFO:cmdstanpy:Chain [4] start processing\n"
     ]
    },
    {
     "name": "stdout",
     "output_type": "stream",
     "text": [
      "Fitting toy MC bin no.170\n",
      "0.949909793814433\n",
      "388 299\n"
     ]
    },
    {
     "name": "stderr",
     "output_type": "stream",
     "text": [
      "INFO:cmdstanpy:Chain [4] done processing\n",
      "INFO:cmdstanpy:Chain [1] done processing\n",
      "INFO:cmdstanpy:Chain [2] done processing\n",
      "INFO:cmdstanpy:Chain [3] done processing\n",
      "INFO:cmdstanpy:found newer exe file, not recompiling\n",
      "INFO:cmdstanpy:found newer exe file, not recompiling\n",
      "INFO:cmdstanpy:CmdStan start procesing\n",
      "INFO:cmdstanpy:Chain [1] start processing\n",
      "INFO:cmdstanpy:Chain [2] start processing\n",
      "INFO:cmdstanpy:Chain [3] start processing\n",
      "INFO:cmdstanpy:Chain [4] start processing\n"
     ]
    },
    {
     "name": "stdout",
     "output_type": "stream",
     "text": [
      "Fitting toy MC bin no.171\n",
      "0.9498756218905473\n",
      "402 310\n"
     ]
    },
    {
     "name": "stderr",
     "output_type": "stream",
     "text": [
      "INFO:cmdstanpy:Chain [4] done processing\n",
      "INFO:cmdstanpy:Chain [3] done processing\n",
      "INFO:cmdstanpy:Chain [1] done processing\n",
      "INFO:cmdstanpy:Chain [2] done processing\n",
      "INFO:cmdstanpy:found newer exe file, not recompiling\n",
      "INFO:cmdstanpy:found newer exe file, not recompiling\n",
      "INFO:cmdstanpy:CmdStan start procesing\n",
      "INFO:cmdstanpy:Chain [1] start processing\n",
      "INFO:cmdstanpy:Chain [2] start processing\n",
      "INFO:cmdstanpy:Chain [3] start processing\n",
      "INFO:cmdstanpy:Chain [4] start processing\n"
     ]
    },
    {
     "name": "stdout",
     "output_type": "stream",
     "text": [
      "Fitting toy MC bin no.172\n",
      "0.9500000000000001\n",
      "364 280\n"
     ]
    },
    {
     "name": "stderr",
     "output_type": "stream",
     "text": [
      "INFO:cmdstanpy:Chain [2] done processing\n",
      "INFO:cmdstanpy:Chain [3] done processing\n",
      "INFO:cmdstanpy:Chain [4] done processing\n",
      "INFO:cmdstanpy:Chain [1] done processing\n",
      "INFO:cmdstanpy:found newer exe file, not recompiling\n",
      "INFO:cmdstanpy:found newer exe file, not recompiling\n",
      "INFO:cmdstanpy:CmdStan start procesing\n",
      "INFO:cmdstanpy:Chain [1] start processing\n",
      "INFO:cmdstanpy:Chain [2] start processing\n",
      "INFO:cmdstanpy:Chain [3] start processing\n",
      "INFO:cmdstanpy:Chain [4] start processing\n"
     ]
    },
    {
     "name": "stdout",
     "output_type": "stream",
     "text": [
      "Fitting toy MC bin no.173\n",
      "0.9497893258426966\n",
      "356 275\n"
     ]
    },
    {
     "name": "stderr",
     "output_type": "stream",
     "text": [
      "INFO:cmdstanpy:Chain [1] done processing\n",
      "INFO:cmdstanpy:Chain [4] done processing\n",
      "INFO:cmdstanpy:Chain [3] done processing\n",
      "INFO:cmdstanpy:Chain [2] done processing\n",
      "INFO:cmdstanpy:found newer exe file, not recompiling\n",
      "INFO:cmdstanpy:found newer exe file, not recompiling\n",
      "INFO:cmdstanpy:CmdStan start procesing\n",
      "INFO:cmdstanpy:Chain [1] start processing\n",
      "INFO:cmdstanpy:Chain [2] start processing\n",
      "INFO:cmdstanpy:Chain [3] start processing\n",
      "INFO:cmdstanpy:Chain [4] start processing\n"
     ]
    },
    {
     "name": "stdout",
     "output_type": "stream",
     "text": [
      "Fitting toy MC bin no.174\n",
      "0.9498275862068964\n",
      "377 291\n"
     ]
    },
    {
     "name": "stderr",
     "output_type": "stream",
     "text": [
      "INFO:cmdstanpy:Chain [4] done processing\n",
      "INFO:cmdstanpy:Chain [1] done processing\n",
      "INFO:cmdstanpy:Chain [3] done processing\n",
      "INFO:cmdstanpy:Chain [2] done processing\n",
      "INFO:cmdstanpy:found newer exe file, not recompiling\n",
      "INFO:cmdstanpy:found newer exe file, not recompiling\n",
      "INFO:cmdstanpy:CmdStan start procesing\n",
      "INFO:cmdstanpy:Chain [1] start processing\n",
      "INFO:cmdstanpy:Chain [2] start processing\n",
      "INFO:cmdstanpy:Chain [3] start processing\n",
      "INFO:cmdstanpy:Chain [4] start processing\n"
     ]
    },
    {
     "name": "stdout",
     "output_type": "stream",
     "text": [
      "Fitting toy MC bin no.175\n",
      "0.9498618090452262\n",
      "398 307\n"
     ]
    },
    {
     "name": "stderr",
     "output_type": "stream",
     "text": [
      "INFO:cmdstanpy:Chain [4] done processing\n",
      "INFO:cmdstanpy:Chain [3] done processing\n",
      "INFO:cmdstanpy:Chain [2] done processing\n",
      "INFO:cmdstanpy:Chain [1] done processing\n",
      "INFO:cmdstanpy:found newer exe file, not recompiling\n",
      "INFO:cmdstanpy:found newer exe file, not recompiling\n",
      "INFO:cmdstanpy:CmdStan start procesing\n",
      "INFO:cmdstanpy:Chain [1] start processing\n",
      "INFO:cmdstanpy:Chain [2] start processing\n",
      "INFO:cmdstanpy:Chain [3] start processing\n",
      "INFO:cmdstanpy:Chain [4] start processing\n"
     ]
    },
    {
     "name": "stdout",
     "output_type": "stream",
     "text": [
      "Fitting toy MC bin no.176\n",
      "0.9499754901960784\n",
      "408 314\n"
     ]
    },
    {
     "name": "stderr",
     "output_type": "stream",
     "text": [
      "INFO:cmdstanpy:Chain [3] done processing\n",
      "INFO:cmdstanpy:Chain [1] done processing\n",
      "INFO:cmdstanpy:Chain [4] done processing\n",
      "INFO:cmdstanpy:Chain [2] done processing\n",
      "INFO:cmdstanpy:found newer exe file, not recompiling\n",
      "INFO:cmdstanpy:found newer exe file, not recompiling\n",
      "INFO:cmdstanpy:CmdStan start procesing\n",
      "INFO:cmdstanpy:Chain [1] start processing\n",
      "INFO:cmdstanpy:Chain [2] start processing\n",
      "INFO:cmdstanpy:Chain [3] start processing\n",
      "INFO:cmdstanpy:Chain [4] start processing\n"
     ]
    },
    {
     "name": "stdout",
     "output_type": "stream",
     "text": [
      "Fitting toy MC bin no.177\n",
      "0.9498047722342734\n",
      "461 356\n"
     ]
    },
    {
     "name": "stderr",
     "output_type": "stream",
     "text": [
      "INFO:cmdstanpy:Chain [3] done processing\n",
      "INFO:cmdstanpy:Chain [4] done processing\n",
      "INFO:cmdstanpy:Chain [2] done processing\n",
      "INFO:cmdstanpy:Chain [1] done processing\n",
      "INFO:cmdstanpy:found newer exe file, not recompiling\n",
      "INFO:cmdstanpy:found newer exe file, not recompiling\n",
      "INFO:cmdstanpy:CmdStan start procesing\n",
      "INFO:cmdstanpy:Chain [1] start processing\n",
      "INFO:cmdstanpy:Chain [2] start processing\n",
      "INFO:cmdstanpy:Chain [3] start processing\n",
      "INFO:cmdstanpy:Chain [4] start processing\n"
     ]
    },
    {
     "name": "stdout",
     "output_type": "stream",
     "text": [
      "Fitting toy MC bin no.178\n",
      "0.9500681818181818\n",
      "440 338\n"
     ]
    },
    {
     "name": "stderr",
     "output_type": "stream",
     "text": [
      "INFO:cmdstanpy:Chain [1] done processing\n",
      "INFO:cmdstanpy:Chain [3] done processing\n",
      "INFO:cmdstanpy:Chain [2] done processing\n",
      "INFO:cmdstanpy:Chain [4] done processing\n",
      "INFO:cmdstanpy:found newer exe file, not recompiling\n",
      "INFO:cmdstanpy:found newer exe file, not recompiling\n",
      "INFO:cmdstanpy:CmdStan start procesing\n",
      "INFO:cmdstanpy:Chain [1] start processing\n",
      "INFO:cmdstanpy:Chain [2] start processing\n",
      "INFO:cmdstanpy:Chain [3] start processing\n",
      "INFO:cmdstanpy:Chain [4] start processing\n"
     ]
    },
    {
     "name": "stdout",
     "output_type": "stream",
     "text": [
      "Fitting toy MC bin no.179\n",
      "0.9499515738498789\n",
      "413 318\n"
     ]
    },
    {
     "name": "stderr",
     "output_type": "stream",
     "text": [
      "INFO:cmdstanpy:Chain [4] done processing\n",
      "INFO:cmdstanpy:Chain [2] done processing\n",
      "INFO:cmdstanpy:Chain [1] done processing\n",
      "INFO:cmdstanpy:Chain [3] done processing\n",
      "INFO:cmdstanpy:found newer exe file, not recompiling\n",
      "INFO:cmdstanpy:found newer exe file, not recompiling\n",
      "INFO:cmdstanpy:CmdStan start procesing\n",
      "INFO:cmdstanpy:Chain [1] start processing\n",
      "INFO:cmdstanpy:Chain [2] start processing\n",
      "INFO:cmdstanpy:Chain [3] start processing\n",
      "INFO:cmdstanpy:Chain [4] start processing\n"
     ]
    },
    {
     "name": "stdout",
     "output_type": "stream",
     "text": [
      "Fitting toy MC bin no.180\n",
      "0.9498186528497409\n",
      "386 298\n"
     ]
    },
    {
     "name": "stderr",
     "output_type": "stream",
     "text": [
      "INFO:cmdstanpy:Chain [1] done processing\n",
      "INFO:cmdstanpy:Chain [4] done processing\n",
      "INFO:cmdstanpy:Chain [3] done processing\n",
      "INFO:cmdstanpy:Chain [2] done processing\n",
      "INFO:cmdstanpy:found newer exe file, not recompiling\n",
      "INFO:cmdstanpy:found newer exe file, not recompiling\n",
      "INFO:cmdstanpy:CmdStan start procesing\n",
      "INFO:cmdstanpy:Chain [1] start processing\n",
      "INFO:cmdstanpy:Chain [2] start processing\n",
      "INFO:cmdstanpy:Chain [3] start processing\n",
      "INFO:cmdstanpy:Chain [4] start processing\n"
     ]
    },
    {
     "name": "stdout",
     "output_type": "stream",
     "text": [
      "Fitting toy MC bin no.181\n",
      "0.9497867298578199\n",
      "422 326\n"
     ]
    },
    {
     "name": "stderr",
     "output_type": "stream",
     "text": [
      "INFO:cmdstanpy:Chain [1] done processing\n",
      "INFO:cmdstanpy:Chain [3] done processing\n",
      "INFO:cmdstanpy:Chain [4] done processing\n",
      "INFO:cmdstanpy:Chain [2] done processing\n",
      "INFO:cmdstanpy:found newer exe file, not recompiling\n",
      "INFO:cmdstanpy:found newer exe file, not recompiling\n",
      "INFO:cmdstanpy:CmdStan start procesing\n",
      "INFO:cmdstanpy:Chain [1] start processing\n",
      "INFO:cmdstanpy:Chain [2] start processing\n",
      "INFO:cmdstanpy:Chain [3] start processing\n",
      "INFO:cmdstanpy:Chain [4] start processing\n"
     ]
    },
    {
     "name": "stdout",
     "output_type": "stream",
     "text": [
      "Fitting toy MC bin no.182\n",
      "0.9500115473441109\n",
      "433 333\n"
     ]
    },
    {
     "name": "stderr",
     "output_type": "stream",
     "text": [
      "INFO:cmdstanpy:Chain [4] done processing\n",
      "INFO:cmdstanpy:Chain [1] done processing\n",
      "INFO:cmdstanpy:Chain [2] done processing\n",
      "INFO:cmdstanpy:Chain [3] done processing\n",
      "INFO:cmdstanpy:found newer exe file, not recompiling\n",
      "INFO:cmdstanpy:found newer exe file, not recompiling\n",
      "INFO:cmdstanpy:CmdStan start procesing\n",
      "INFO:cmdstanpy:Chain [1] start processing\n",
      "INFO:cmdstanpy:Chain [2] start processing\n",
      "INFO:cmdstanpy:Chain [3] start processing\n",
      "INFO:cmdstanpy:Chain [4] start processing\n"
     ]
    },
    {
     "name": "stdout",
     "output_type": "stream",
     "text": [
      "Fitting toy MC bin no.183\n",
      "0.9498571428571428\n",
      "385 297\n"
     ]
    },
    {
     "name": "stderr",
     "output_type": "stream",
     "text": [
      "INFO:cmdstanpy:Chain [2] done processing\n",
      "INFO:cmdstanpy:Chain [3] done processing\n",
      "INFO:cmdstanpy:Chain [1] done processing\n",
      "INFO:cmdstanpy:Chain [4] done processing\n",
      "INFO:cmdstanpy:found newer exe file, not recompiling\n",
      "INFO:cmdstanpy:found newer exe file, not recompiling\n",
      "INFO:cmdstanpy:CmdStan start procesing\n",
      "INFO:cmdstanpy:Chain [1] start processing\n",
      "INFO:cmdstanpy:Chain [2] start processing\n",
      "INFO:cmdstanpy:Chain [3] start processing\n",
      "INFO:cmdstanpy:Chain [4] start processing\n"
     ]
    },
    {
     "name": "stdout",
     "output_type": "stream",
     "text": [
      "Fitting toy MC bin no.184\n",
      "0.9499180327868852\n",
      "427 329\n"
     ]
    },
    {
     "name": "stderr",
     "output_type": "stream",
     "text": [
      "INFO:cmdstanpy:Chain [2] done processing\n",
      "INFO:cmdstanpy:Chain [1] done processing\n",
      "INFO:cmdstanpy:Chain [3] done processing\n",
      "INFO:cmdstanpy:Chain [4] done processing\n",
      "INFO:cmdstanpy:found newer exe file, not recompiling\n",
      "INFO:cmdstanpy:found newer exe file, not recompiling\n",
      "INFO:cmdstanpy:CmdStan start procesing\n",
      "INFO:cmdstanpy:Chain [1] start processing\n",
      "INFO:cmdstanpy:Chain [2] start processing\n",
      "INFO:cmdstanpy:Chain [3] start processing\n",
      "INFO:cmdstanpy:Chain [4] start processing\n"
     ]
    },
    {
     "name": "stdout",
     "output_type": "stream",
     "text": [
      "Fitting toy MC bin no.185\n",
      "0.949934725848564\n",
      "383 295\n"
     ]
    },
    {
     "name": "stderr",
     "output_type": "stream",
     "text": [
      "INFO:cmdstanpy:Chain [4] done processing\n",
      "INFO:cmdstanpy:Chain [3] done processing\n",
      "INFO:cmdstanpy:Chain [2] done processing\n",
      "INFO:cmdstanpy:Chain [1] done processing\n",
      "INFO:cmdstanpy:found newer exe file, not recompiling\n",
      "INFO:cmdstanpy:found newer exe file, not recompiling\n",
      "INFO:cmdstanpy:CmdStan start procesing\n",
      "INFO:cmdstanpy:Chain [1] start processing\n",
      "INFO:cmdstanpy:Chain [2] start processing\n",
      "INFO:cmdstanpy:Chain [3] start processing\n",
      "INFO:cmdstanpy:Chain [4] start processing\n"
     ]
    },
    {
     "name": "stdout",
     "output_type": "stream",
     "text": [
      "Fitting toy MC bin no.186\n",
      "0.9498958333333333\n",
      "384 296\n"
     ]
    },
    {
     "name": "stderr",
     "output_type": "stream",
     "text": [
      "INFO:cmdstanpy:Chain [3] done processing\n",
      "INFO:cmdstanpy:Chain [2] done processing\n",
      "INFO:cmdstanpy:Chain [4] done processing\n",
      "INFO:cmdstanpy:Chain [1] done processing\n",
      "INFO:cmdstanpy:found newer exe file, not recompiling\n",
      "INFO:cmdstanpy:found newer exe file, not recompiling\n",
      "INFO:cmdstanpy:CmdStan start procesing\n",
      "INFO:cmdstanpy:Chain [1] start processing\n",
      "INFO:cmdstanpy:Chain [2] start processing\n",
      "INFO:cmdstanpy:Chain [3] start processing\n",
      "INFO:cmdstanpy:Chain [4] start processing\n"
     ]
    },
    {
     "name": "stdout",
     "output_type": "stream",
     "text": [
      "Fitting toy MC bin no.187\n",
      "0.9498714652956298\n",
      "389 300\n"
     ]
    },
    {
     "name": "stderr",
     "output_type": "stream",
     "text": [
      "INFO:cmdstanpy:Chain [3] done processing\n",
      "INFO:cmdstanpy:Chain [2] done processing\n",
      "INFO:cmdstanpy:Chain [1] done processing\n",
      "INFO:cmdstanpy:Chain [4] done processing\n",
      "INFO:cmdstanpy:found newer exe file, not recompiling\n",
      "INFO:cmdstanpy:found newer exe file, not recompiling\n",
      "INFO:cmdstanpy:CmdStan start procesing\n",
      "INFO:cmdstanpy:Chain [1] start processing\n",
      "INFO:cmdstanpy:Chain [2] start processing\n",
      "INFO:cmdstanpy:Chain [3] start processing\n",
      "INFO:cmdstanpy:Chain [4] start processing\n"
     ]
    },
    {
     "name": "stdout",
     "output_type": "stream",
     "text": [
      "Fitting toy MC bin no.188\n",
      "0.9497727272727272\n",
      "374 289\n"
     ]
    },
    {
     "name": "stderr",
     "output_type": "stream",
     "text": [
      "INFO:cmdstanpy:Chain [1] done processing\n",
      "INFO:cmdstanpy:Chain [2] done processing\n",
      "INFO:cmdstanpy:Chain [3] done processing\n",
      "INFO:cmdstanpy:Chain [4] done processing\n",
      "INFO:cmdstanpy:found newer exe file, not recompiling\n",
      "INFO:cmdstanpy:found newer exe file, not recompiling\n",
      "INFO:cmdstanpy:CmdStan start procesing\n",
      "INFO:cmdstanpy:Chain [1] start processing\n",
      "INFO:cmdstanpy:Chain [2] start processing\n",
      "INFO:cmdstanpy:Chain [3] start processing\n",
      "INFO:cmdstanpy:Chain [4] start processing\n"
     ]
    },
    {
     "name": "stdout",
     "output_type": "stream",
     "text": [
      "Fitting toy MC bin no.189\n",
      "0.9498773841961853\n",
      "367 283\n"
     ]
    },
    {
     "name": "stderr",
     "output_type": "stream",
     "text": [
      "INFO:cmdstanpy:Chain [1] done processing\n",
      "INFO:cmdstanpy:Chain [3] done processing\n",
      "INFO:cmdstanpy:Chain [2] done processing\n",
      "INFO:cmdstanpy:Chain [4] done processing\n",
      "INFO:cmdstanpy:found newer exe file, not recompiling\n",
      "INFO:cmdstanpy:found newer exe file, not recompiling\n",
      "INFO:cmdstanpy:CmdStan start procesing\n",
      "INFO:cmdstanpy:Chain [1] start processing\n",
      "INFO:cmdstanpy:Chain [2] start processing\n",
      "INFO:cmdstanpy:Chain [3] start processing\n",
      "INFO:cmdstanpy:Chain [4] start processing\n"
     ]
    },
    {
     "name": "stdout",
     "output_type": "stream",
     "text": [
      "Fitting toy MC bin no.190\n",
      "0.9498997134670487\n",
      "349 269\n"
     ]
    },
    {
     "name": "stderr",
     "output_type": "stream",
     "text": [
      "INFO:cmdstanpy:Chain [1] done processing\n",
      "INFO:cmdstanpy:Chain [3] done processing\n",
      "INFO:cmdstanpy:Chain [4] done processing\n",
      "INFO:cmdstanpy:Chain [2] done processing\n",
      "INFO:cmdstanpy:found newer exe file, not recompiling\n",
      "INFO:cmdstanpy:found newer exe file, not recompiling\n",
      "INFO:cmdstanpy:CmdStan start procesing\n",
      "INFO:cmdstanpy:Chain [1] start processing\n",
      "INFO:cmdstanpy:Chain [2] start processing\n",
      "INFO:cmdstanpy:Chain [3] start processing\n",
      "INFO:cmdstanpy:Chain [4] start processing\n"
     ]
    },
    {
     "name": "stdout",
     "output_type": "stream",
     "text": [
      "Fitting toy MC bin no.191\n",
      "0.9499483204134367\n",
      "387 298\n"
     ]
    },
    {
     "name": "stderr",
     "output_type": "stream",
     "text": [
      "INFO:cmdstanpy:Chain [2] done processing\n",
      "INFO:cmdstanpy:Chain [3] done processing\n",
      "INFO:cmdstanpy:Chain [4] done processing\n",
      "INFO:cmdstanpy:Chain [1] done processing\n",
      "INFO:cmdstanpy:found newer exe file, not recompiling\n",
      "INFO:cmdstanpy:found newer exe file, not recompiling\n",
      "INFO:cmdstanpy:CmdStan start procesing\n",
      "INFO:cmdstanpy:Chain [1] start processing\n",
      "INFO:cmdstanpy:Chain [2] start processing\n",
      "INFO:cmdstanpy:Chain [3] start processing\n",
      "INFO:cmdstanpy:Chain [4] start processing\n"
     ]
    },
    {
     "name": "stdout",
     "output_type": "stream",
     "text": [
      "Fitting toy MC bin no.192\n",
      "0.9499425287356322\n",
      "435 335\n"
     ]
    },
    {
     "name": "stderr",
     "output_type": "stream",
     "text": [
      "INFO:cmdstanpy:Chain [4] done processing\n",
      "INFO:cmdstanpy:Chain [1] done processing\n",
      "INFO:cmdstanpy:Chain [2] done processing\n",
      "INFO:cmdstanpy:Chain [3] done processing\n",
      "INFO:cmdstanpy:found newer exe file, not recompiling\n",
      "INFO:cmdstanpy:found newer exe file, not recompiling\n",
      "INFO:cmdstanpy:CmdStan start procesing\n",
      "INFO:cmdstanpy:Chain [1] start processing\n",
      "INFO:cmdstanpy:Chain [2] start processing\n",
      "INFO:cmdstanpy:Chain [3] start processing\n",
      "INFO:cmdstanpy:Chain [4] start processing\n"
     ]
    },
    {
     "name": "stdout",
     "output_type": "stream",
     "text": [
      "Fitting toy MC bin no.193\n",
      "0.9498728813559322\n",
      "354 273\n"
     ]
    },
    {
     "name": "stderr",
     "output_type": "stream",
     "text": [
      "INFO:cmdstanpy:Chain [2] done processing\n",
      "INFO:cmdstanpy:Chain [3] done processing\n",
      "INFO:cmdstanpy:Chain [1] done processing\n",
      "INFO:cmdstanpy:Chain [4] done processing\n",
      "INFO:cmdstanpy:found newer exe file, not recompiling\n",
      "INFO:cmdstanpy:found newer exe file, not recompiling\n",
      "INFO:cmdstanpy:CmdStan start procesing\n",
      "INFO:cmdstanpy:Chain [1] start processing\n",
      "INFO:cmdstanpy:Chain [2] start processing\n",
      "INFO:cmdstanpy:Chain [3] start processing\n",
      "INFO:cmdstanpy:Chain [4] start processing\n"
     ]
    },
    {
     "name": "stdout",
     "output_type": "stream",
     "text": [
      "Fitting toy MC bin no.194\n",
      "0.9498654708520179\n",
      "446 344\n"
     ]
    },
    {
     "name": "stderr",
     "output_type": "stream",
     "text": [
      "INFO:cmdstanpy:Chain [2] done processing\n",
      "INFO:cmdstanpy:Chain [3] done processing\n",
      "INFO:cmdstanpy:Chain [4] done processing\n",
      "INFO:cmdstanpy:Chain [1] done processing\n",
      "INFO:cmdstanpy:found newer exe file, not recompiling\n",
      "INFO:cmdstanpy:found newer exe file, not recompiling\n",
      "INFO:cmdstanpy:CmdStan start procesing\n",
      "INFO:cmdstanpy:Chain [1] start processing\n",
      "INFO:cmdstanpy:Chain [2] start processing\n",
      "INFO:cmdstanpy:Chain [3] start processing\n",
      "INFO:cmdstanpy:Chain [4] start processing\n"
     ]
    },
    {
     "name": "stdout",
     "output_type": "stream",
     "text": [
      "Fitting toy MC bin no.195\n",
      "0.9499603174603174\n",
      "378 291\n"
     ]
    },
    {
     "name": "stderr",
     "output_type": "stream",
     "text": [
      "INFO:cmdstanpy:Chain [4] done processing\n",
      "INFO:cmdstanpy:Chain [2] done processing\n",
      "INFO:cmdstanpy:Chain [3] done processing\n",
      "INFO:cmdstanpy:Chain [1] done processing\n",
      "INFO:cmdstanpy:found newer exe file, not recompiling\n",
      "INFO:cmdstanpy:found newer exe file, not recompiling\n",
      "INFO:cmdstanpy:CmdStan start procesing\n",
      "INFO:cmdstanpy:Chain [1] start processing\n",
      "INFO:cmdstanpy:Chain [2] start processing\n",
      "INFO:cmdstanpy:Chain [3] start processing\n",
      "INFO:cmdstanpy:Chain [4] start processing\n"
     ]
    },
    {
     "name": "stdout",
     "output_type": "stream",
     "text": [
      "Fitting toy MC bin no.196\n",
      "0.9499154589371981\n",
      "414 319\n"
     ]
    },
    {
     "name": "stderr",
     "output_type": "stream",
     "text": [
      "INFO:cmdstanpy:Chain [2] done processing\n",
      "INFO:cmdstanpy:Chain [4] done processing\n",
      "INFO:cmdstanpy:Chain [1] done processing\n",
      "INFO:cmdstanpy:Chain [3] done processing\n",
      "INFO:cmdstanpy:found newer exe file, not recompiling\n",
      "INFO:cmdstanpy:found newer exe file, not recompiling\n",
      "INFO:cmdstanpy:CmdStan start procesing\n",
      "INFO:cmdstanpy:Chain [1] start processing\n",
      "INFO:cmdstanpy:Chain [2] start processing\n",
      "INFO:cmdstanpy:Chain [3] start processing\n",
      "INFO:cmdstanpy:Chain [4] start processing\n"
     ]
    },
    {
     "name": "stdout",
     "output_type": "stream",
     "text": [
      "Fitting toy MC bin no.197\n",
      "0.9499054373522459\n",
      "423 326\n"
     ]
    },
    {
     "name": "stderr",
     "output_type": "stream",
     "text": [
      "INFO:cmdstanpy:Chain [1] done processing\n",
      "INFO:cmdstanpy:Chain [2] done processing\n",
      "INFO:cmdstanpy:Chain [3] done processing\n",
      "INFO:cmdstanpy:Chain [4] done processing\n",
      "INFO:cmdstanpy:found newer exe file, not recompiling\n",
      "INFO:cmdstanpy:found newer exe file, not recompiling\n",
      "INFO:cmdstanpy:CmdStan start procesing\n",
      "INFO:cmdstanpy:Chain [1] start processing\n",
      "INFO:cmdstanpy:Chain [2] start processing\n",
      "INFO:cmdstanpy:Chain [3] start processing\n",
      "INFO:cmdstanpy:Chain [4] start processing\n"
     ]
    },
    {
     "name": "stdout",
     "output_type": "stream",
     "text": [
      "Fitting toy MC bin no.198\n",
      "0.9498019801980199\n",
      "404 312\n"
     ]
    },
    {
     "name": "stderr",
     "output_type": "stream",
     "text": [
      "INFO:cmdstanpy:Chain [3] done processing\n",
      "INFO:cmdstanpy:Chain [4] done processing\n",
      "INFO:cmdstanpy:Chain [2] done processing\n",
      "INFO:cmdstanpy:Chain [1] done processing\n",
      "INFO:cmdstanpy:found newer exe file, not recompiling\n",
      "INFO:cmdstanpy:found newer exe file, not recompiling\n",
      "INFO:cmdstanpy:CmdStan start procesing\n",
      "INFO:cmdstanpy:Chain [1] start processing\n",
      "INFO:cmdstanpy:Chain [2] start processing\n",
      "INFO:cmdstanpy:Chain [3] start processing\n",
      "INFO:cmdstanpy:Chain [4] start processing\n"
     ]
    },
    {
     "name": "stdout",
     "output_type": "stream",
     "text": [
      "Fitting toy MC bin no.199\n",
      "0.9499878640776699\n",
      "412 317\n"
     ]
    },
    {
     "name": "stderr",
     "output_type": "stream",
     "text": [
      "INFO:cmdstanpy:Chain [2] done processing\n",
      "INFO:cmdstanpy:Chain [3] done processing\n",
      "INFO:cmdstanpy:Chain [4] done processing\n",
      "INFO:cmdstanpy:Chain [1] done processing\n",
      "INFO:cmdstanpy:found newer exe file, not recompiling\n",
      "INFO:cmdstanpy:found newer exe file, not recompiling\n",
      "INFO:cmdstanpy:CmdStan start procesing\n",
      "INFO:cmdstanpy:Chain [1] start processing\n",
      "INFO:cmdstanpy:Chain [2] start processing\n",
      "INFO:cmdstanpy:Chain [3] start processing\n",
      "INFO:cmdstanpy:Chain [4] start processing\n"
     ]
    },
    {
     "name": "stdout",
     "output_type": "stream",
     "text": [
      "Fitting toy MC bin no.200\n",
      "0.950012285012285\n",
      "407 313\n"
     ]
    },
    {
     "name": "stderr",
     "output_type": "stream",
     "text": [
      "INFO:cmdstanpy:Chain [2] done processing\n",
      "INFO:cmdstanpy:Chain [1] done processing\n",
      "INFO:cmdstanpy:Chain [3] done processing\n",
      "INFO:cmdstanpy:Chain [4] done processing\n",
      "INFO:cmdstanpy:found newer exe file, not recompiling\n",
      "INFO:cmdstanpy:found newer exe file, not recompiling\n",
      "INFO:cmdstanpy:CmdStan start procesing\n",
      "INFO:cmdstanpy:Chain [1] start processing\n",
      "INFO:cmdstanpy:Chain [2] start processing\n",
      "INFO:cmdstanpy:Chain [3] start processing\n",
      "INFO:cmdstanpy:Chain [4] start processing\n"
     ]
    },
    {
     "name": "stdout",
     "output_type": "stream",
     "text": [
      "Fitting toy MC bin no.201\n",
      "0.9498525798525798\n",
      "407 314\n"
     ]
    },
    {
     "name": "stderr",
     "output_type": "stream",
     "text": [
      "INFO:cmdstanpy:Chain [4] done processing\n",
      "INFO:cmdstanpy:Chain [3] done processing\n",
      "INFO:cmdstanpy:Chain [1] done processing\n",
      "INFO:cmdstanpy:Chain [2] done processing\n",
      "INFO:cmdstanpy:found newer exe file, not recompiling\n",
      "INFO:cmdstanpy:found newer exe file, not recompiling\n",
      "INFO:cmdstanpy:CmdStan start procesing\n",
      "INFO:cmdstanpy:Chain [1] start processing\n",
      "INFO:cmdstanpy:Chain [2] start processing\n",
      "INFO:cmdstanpy:Chain [3] start processing\n",
      "INFO:cmdstanpy:Chain [4] start processing\n"
     ]
    },
    {
     "name": "stdout",
     "output_type": "stream",
     "text": [
      "Fitting toy MC bin no.202\n",
      "0.9499445983379502\n",
      "361 278\n"
     ]
    },
    {
     "name": "stderr",
     "output_type": "stream",
     "text": [
      "INFO:cmdstanpy:Chain [3] done processing\n",
      "INFO:cmdstanpy:Chain [4] done processing\n",
      "INFO:cmdstanpy:Chain [2] done processing\n",
      "INFO:cmdstanpy:Chain [1] done processing\n",
      "INFO:cmdstanpy:found newer exe file, not recompiling\n",
      "INFO:cmdstanpy:found newer exe file, not recompiling\n",
      "INFO:cmdstanpy:CmdStan start procesing\n",
      "INFO:cmdstanpy:Chain [1] start processing\n",
      "INFO:cmdstanpy:Chain [2] start processing\n",
      "INFO:cmdstanpy:Chain [3] start processing\n",
      "INFO:cmdstanpy:Chain [4] start processing\n"
     ]
    },
    {
     "name": "stdout",
     "output_type": "stream",
     "text": [
      "Fitting toy MC bin no.203\n",
      "0.9498756218905473\n",
      "402 310\n"
     ]
    },
    {
     "name": "stderr",
     "output_type": "stream",
     "text": [
      "INFO:cmdstanpy:Chain [3] done processing\n",
      "INFO:cmdstanpy:Chain [2] done processing\n",
      "INFO:cmdstanpy:Chain [1] done processing\n",
      "INFO:cmdstanpy:Chain [4] done processing\n",
      "INFO:cmdstanpy:found newer exe file, not recompiling\n",
      "INFO:cmdstanpy:found newer exe file, not recompiling\n",
      "INFO:cmdstanpy:CmdStan start procesing\n",
      "INFO:cmdstanpy:Chain [1] start processing\n",
      "INFO:cmdstanpy:Chain [2] start processing\n",
      "INFO:cmdstanpy:Chain [3] start processing\n",
      "INFO:cmdstanpy:Chain [4] start processing\n"
     ]
    },
    {
     "name": "stdout",
     "output_type": "stream",
     "text": [
      "Fitting toy MC bin no.204\n",
      "0.9499054373522459\n",
      "423 326\n"
     ]
    },
    {
     "name": "stderr",
     "output_type": "stream",
     "text": [
      "INFO:cmdstanpy:Chain [1] done processing\n",
      "INFO:cmdstanpy:Chain [3] done processing\n",
      "INFO:cmdstanpy:Chain [2] done processing\n",
      "INFO:cmdstanpy:Chain [4] done processing\n",
      "INFO:cmdstanpy:found newer exe file, not recompiling\n",
      "INFO:cmdstanpy:found newer exe file, not recompiling\n",
      "INFO:cmdstanpy:CmdStan start procesing\n",
      "INFO:cmdstanpy:Chain [1] start processing\n",
      "INFO:cmdstanpy:Chain [2] start processing\n",
      "INFO:cmdstanpy:Chain [3] start processing\n",
      "INFO:cmdstanpy:Chain [4] start processing\n"
     ]
    },
    {
     "name": "stdout",
     "output_type": "stream",
     "text": [
      "Fitting toy MC bin no.205\n",
      "0.9498387096774195\n",
      "403 311\n"
     ]
    },
    {
     "name": "stderr",
     "output_type": "stream",
     "text": [
      "INFO:cmdstanpy:Chain [1] done processing\n",
      "INFO:cmdstanpy:Chain [2] done processing\n",
      "INFO:cmdstanpy:Chain [4] done processing\n",
      "INFO:cmdstanpy:Chain [3] done processing\n",
      "INFO:cmdstanpy:found newer exe file, not recompiling\n",
      "INFO:cmdstanpy:found newer exe file, not recompiling\n",
      "INFO:cmdstanpy:CmdStan start procesing\n",
      "INFO:cmdstanpy:Chain [1] start processing\n",
      "INFO:cmdstanpy:Chain [2] start processing\n",
      "INFO:cmdstanpy:Chain [3] start processing\n",
      "INFO:cmdstanpy:Chain [4] start processing\n"
     ]
    },
    {
     "name": "stdout",
     "output_type": "stream",
     "text": [
      "Fitting toy MC bin no.206\n",
      "0.9500251256281408\n",
      "398 306\n"
     ]
    },
    {
     "name": "stderr",
     "output_type": "stream",
     "text": [
      "INFO:cmdstanpy:Chain [1] done processing\n",
      "INFO:cmdstanpy:Chain [4] done processing\n",
      "INFO:cmdstanpy:Chain [3] done processing\n",
      "INFO:cmdstanpy:Chain [2] done processing\n",
      "INFO:cmdstanpy:found newer exe file, not recompiling\n",
      "INFO:cmdstanpy:found newer exe file, not recompiling\n",
      "INFO:cmdstanpy:CmdStan start procesing\n",
      "INFO:cmdstanpy:Chain [1] start processing\n",
      "INFO:cmdstanpy:Chain [2] start processing\n",
      "INFO:cmdstanpy:Chain [3] start processing\n",
      "INFO:cmdstanpy:Chain [4] start processing\n"
     ]
    },
    {
     "name": "stdout",
     "output_type": "stream",
     "text": [
      "Fitting toy MC bin no.207\n",
      "0.9498992443324937\n",
      "397 306\n"
     ]
    },
    {
     "name": "stderr",
     "output_type": "stream",
     "text": [
      "INFO:cmdstanpy:Chain [3] done processing\n",
      "INFO:cmdstanpy:Chain [2] done processing\n",
      "INFO:cmdstanpy:Chain [4] done processing\n",
      "INFO:cmdstanpy:Chain [1] done processing\n",
      "INFO:cmdstanpy:found newer exe file, not recompiling\n",
      "INFO:cmdstanpy:found newer exe file, not recompiling\n",
      "INFO:cmdstanpy:CmdStan start procesing\n",
      "INFO:cmdstanpy:Chain [1] start processing\n",
      "INFO:cmdstanpy:Chain [2] start processing\n",
      "INFO:cmdstanpy:Chain [3] start processing\n",
      "INFO:cmdstanpy:Chain [4] start processing\n"
     ]
    },
    {
     "name": "stdout",
     "output_type": "stream",
     "text": [
      "Fitting toy MC bin no.208\n",
      "0.9498618090452262\n",
      "398 307\n"
     ]
    },
    {
     "name": "stderr",
     "output_type": "stream",
     "text": [
      "INFO:cmdstanpy:Chain [1] done processing\n",
      "INFO:cmdstanpy:Chain [4] done processing\n",
      "INFO:cmdstanpy:Chain [2] done processing\n",
      "INFO:cmdstanpy:Chain [3] done processing\n",
      "INFO:cmdstanpy:found newer exe file, not recompiling\n",
      "INFO:cmdstanpy:found newer exe file, not recompiling\n",
      "INFO:cmdstanpy:CmdStan start procesing\n",
      "INFO:cmdstanpy:Chain [1] start processing\n",
      "INFO:cmdstanpy:Chain [2] start processing\n",
      "INFO:cmdstanpy:Chain [3] start processing\n",
      "INFO:cmdstanpy:Chain [4] start processing\n"
     ]
    },
    {
     "name": "stdout",
     "output_type": "stream",
     "text": [
      "Fitting toy MC bin no.209\n",
      "0.95001269035533\n",
      "394 303\n"
     ]
    },
    {
     "name": "stderr",
     "output_type": "stream",
     "text": [
      "INFO:cmdstanpy:Chain [4] done processing\n",
      "INFO:cmdstanpy:Chain [3] done processing\n",
      "INFO:cmdstanpy:Chain [2] done processing\n",
      "INFO:cmdstanpy:Chain [1] done processing\n",
      "INFO:cmdstanpy:found newer exe file, not recompiling\n",
      "INFO:cmdstanpy:found newer exe file, not recompiling\n",
      "INFO:cmdstanpy:CmdStan start procesing\n",
      "INFO:cmdstanpy:Chain [1] start processing\n",
      "INFO:cmdstanpy:Chain [2] start processing\n",
      "INFO:cmdstanpy:Chain [3] start processing\n",
      "INFO:cmdstanpy:Chain [4] start processing\n"
     ]
    },
    {
     "name": "stdout",
     "output_type": "stream",
     "text": [
      "Fitting toy MC bin no.210\n",
      "0.950012285012285\n",
      "407 313\n"
     ]
    },
    {
     "name": "stderr",
     "output_type": "stream",
     "text": [
      "INFO:cmdstanpy:Chain [4] done processing\n",
      "INFO:cmdstanpy:Chain [3] done processing\n",
      "INFO:cmdstanpy:Chain [2] done processing\n",
      "INFO:cmdstanpy:Chain [1] done processing\n",
      "INFO:cmdstanpy:found newer exe file, not recompiling\n",
      "INFO:cmdstanpy:found newer exe file, not recompiling\n",
      "INFO:cmdstanpy:CmdStan start procesing\n",
      "INFO:cmdstanpy:Chain [1] start processing\n",
      "INFO:cmdstanpy:Chain [2] start processing\n",
      "INFO:cmdstanpy:Chain [3] start processing\n",
      "INFO:cmdstanpy:Chain [4] start processing\n"
     ]
    },
    {
     "name": "stdout",
     "output_type": "stream",
     "text": [
      "Fitting toy MC bin no.211\n",
      "0.9499769585253457\n",
      "434 334\n"
     ]
    },
    {
     "name": "stderr",
     "output_type": "stream",
     "text": [
      "INFO:cmdstanpy:Chain [2] done processing\n",
      "INFO:cmdstanpy:Chain [3] done processing\n",
      "INFO:cmdstanpy:Chain [1] done processing\n",
      "INFO:cmdstanpy:Chain [4] done processing\n",
      "INFO:cmdstanpy:found newer exe file, not recompiling\n",
      "INFO:cmdstanpy:found newer exe file, not recompiling\n",
      "INFO:cmdstanpy:CmdStan start procesing\n",
      "INFO:cmdstanpy:Chain [1] start processing\n",
      "INFO:cmdstanpy:Chain [2] start processing\n",
      "INFO:cmdstanpy:Chain [3] start processing\n",
      "INFO:cmdstanpy:Chain [4] start processing\n"
     ]
    },
    {
     "name": "stdout",
     "output_type": "stream",
     "text": [
      "Fitting toy MC bin no.212\n",
      "0.9498525798525798\n",
      "407 314\n"
     ]
    },
    {
     "name": "stderr",
     "output_type": "stream",
     "text": [
      "INFO:cmdstanpy:Chain [4] done processing\n",
      "INFO:cmdstanpy:Chain [2] done processing\n",
      "INFO:cmdstanpy:Chain [3] done processing\n",
      "INFO:cmdstanpy:Chain [1] done processing\n",
      "INFO:cmdstanpy:found newer exe file, not recompiling\n",
      "INFO:cmdstanpy:found newer exe file, not recompiling\n",
      "INFO:cmdstanpy:CmdStan start procesing\n",
      "INFO:cmdstanpy:Chain [1] start processing\n",
      "INFO:cmdstanpy:Chain [2] start processing\n",
      "INFO:cmdstanpy:Chain [3] start processing\n",
      "INFO:cmdstanpy:Chain [4] start processing\n"
     ]
    },
    {
     "name": "stdout",
     "output_type": "stream",
     "text": [
      "Fitting toy MC bin no.213\n",
      "0.9499368686868687\n",
      "396 305\n"
     ]
    },
    {
     "name": "stderr",
     "output_type": "stream",
     "text": [
      "INFO:cmdstanpy:Chain [2] done processing\n",
      "INFO:cmdstanpy:Chain [1] done processing\n",
      "INFO:cmdstanpy:Chain [4] done processing\n",
      "INFO:cmdstanpy:Chain [3] done processing\n",
      "INFO:cmdstanpy:found newer exe file, not recompiling\n",
      "INFO:cmdstanpy:found newer exe file, not recompiling\n",
      "INFO:cmdstanpy:CmdStan start procesing\n",
      "INFO:cmdstanpy:Chain [1] start processing\n",
      "INFO:cmdstanpy:Chain [2] start processing\n",
      "INFO:cmdstanpy:Chain [3] start processing\n",
      "INFO:cmdstanpy:Chain [4] start processing\n"
     ]
    },
    {
     "name": "stdout",
     "output_type": "stream",
     "text": [
      "Fitting toy MC bin no.214\n",
      "0.9500977995110024\n",
      "409 314\n"
     ]
    },
    {
     "name": "stderr",
     "output_type": "stream",
     "text": [
      "INFO:cmdstanpy:Chain [2] done processing\n",
      "INFO:cmdstanpy:Chain [3] done processing\n",
      "INFO:cmdstanpy:Chain [1] done processing\n",
      "INFO:cmdstanpy:Chain [4] done processing\n",
      "INFO:cmdstanpy:found newer exe file, not recompiling\n",
      "INFO:cmdstanpy:found newer exe file, not recompiling\n",
      "INFO:cmdstanpy:CmdStan start procesing\n",
      "INFO:cmdstanpy:Chain [1] start processing\n",
      "INFO:cmdstanpy:Chain [2] start processing\n",
      "INFO:cmdstanpy:Chain [3] start processing\n",
      "INFO:cmdstanpy:Chain [4] start processing\n"
     ]
    },
    {
     "name": "stdout",
     "output_type": "stream",
     "text": [
      "Fitting toy MC bin no.215\n",
      "0.9498618090452262\n",
      "398 307\n"
     ]
    },
    {
     "name": "stderr",
     "output_type": "stream",
     "text": [
      "INFO:cmdstanpy:Chain [4] done processing\n",
      "INFO:cmdstanpy:Chain [3] done processing\n",
      "INFO:cmdstanpy:Chain [1] done processing\n",
      "INFO:cmdstanpy:Chain [2] done processing\n",
      "INFO:cmdstanpy:found newer exe file, not recompiling\n",
      "INFO:cmdstanpy:found newer exe file, not recompiling\n",
      "INFO:cmdstanpy:CmdStan start procesing\n",
      "INFO:cmdstanpy:Chain [1] start processing\n",
      "INFO:cmdstanpy:Chain [2] start processing\n",
      "INFO:cmdstanpy:Chain [3] start processing\n",
      "INFO:cmdstanpy:Chain [4] start processing\n"
     ]
    },
    {
     "name": "stdout",
     "output_type": "stream",
     "text": [
      "Fitting toy MC bin no.216\n",
      "0.9499024390243902\n",
      "410 316\n"
     ]
    },
    {
     "name": "stderr",
     "output_type": "stream",
     "text": [
      "INFO:cmdstanpy:Chain [1] done processing\n",
      "INFO:cmdstanpy:Chain [3] done processing\n",
      "INFO:cmdstanpy:Chain [4] done processing\n",
      "INFO:cmdstanpy:Chain [2] done processing\n",
      "INFO:cmdstanpy:found newer exe file, not recompiling\n",
      "INFO:cmdstanpy:found newer exe file, not recompiling\n",
      "INFO:cmdstanpy:CmdStan start procesing\n",
      "INFO:cmdstanpy:Chain [1] start processing\n",
      "INFO:cmdstanpy:Chain [2] start processing\n",
      "INFO:cmdstanpy:Chain [3] start processing\n",
      "INFO:cmdstanpy:Chain [4] start processing\n"
     ]
    },
    {
     "name": "stdout",
     "output_type": "stream",
     "text": [
      "Fitting toy MC bin no.217\n",
      "0.9498571428571428\n",
      "385 297\n"
     ]
    },
    {
     "name": "stderr",
     "output_type": "stream",
     "text": [
      "INFO:cmdstanpy:Chain [2] done processing\n",
      "INFO:cmdstanpy:Chain [3] done processing\n",
      "INFO:cmdstanpy:Chain [1] done processing\n",
      "INFO:cmdstanpy:Chain [4] done processing\n",
      "INFO:cmdstanpy:found newer exe file, not recompiling\n",
      "INFO:cmdstanpy:found newer exe file, not recompiling\n",
      "INFO:cmdstanpy:CmdStan start procesing\n",
      "INFO:cmdstanpy:Chain [1] start processing\n",
      "INFO:cmdstanpy:Chain [2] start processing\n",
      "INFO:cmdstanpy:Chain [3] start processing\n",
      "INFO:cmdstanpy:Chain [4] start processing\n"
     ]
    },
    {
     "name": "stdout",
     "output_type": "stream",
     "text": [
      "Fitting toy MC bin no.218\n",
      "0.9498866213151927\n",
      "441 340\n"
     ]
    },
    {
     "name": "stderr",
     "output_type": "stream",
     "text": [
      "INFO:cmdstanpy:Chain [1] done processing\n",
      "INFO:cmdstanpy:Chain [3] done processing\n",
      "INFO:cmdstanpy:Chain [4] done processing\n",
      "INFO:cmdstanpy:Chain [2] done processing\n",
      "INFO:cmdstanpy:found newer exe file, not recompiling\n",
      "INFO:cmdstanpy:found newer exe file, not recompiling\n",
      "INFO:cmdstanpy:CmdStan start procesing\n",
      "INFO:cmdstanpy:Chain [1] start processing\n",
      "INFO:cmdstanpy:Chain [2] start processing\n",
      "INFO:cmdstanpy:Chain [3] start processing\n",
      "INFO:cmdstanpy:Chain [4] start processing\n"
     ]
    },
    {
     "name": "stdout",
     "output_type": "stream",
     "text": [
      "Fitting toy MC bin no.219\n",
      "0.9498081534772183\n",
      "417 322\n"
     ]
    },
    {
     "name": "stderr",
     "output_type": "stream",
     "text": [
      "INFO:cmdstanpy:Chain [3] done processing\n",
      "INFO:cmdstanpy:Chain [4] done processing\n",
      "INFO:cmdstanpy:Chain [1] done processing\n",
      "INFO:cmdstanpy:Chain [2] done processing\n",
      "INFO:cmdstanpy:found newer exe file, not recompiling\n",
      "INFO:cmdstanpy:found newer exe file, not recompiling\n",
      "INFO:cmdstanpy:CmdStan start procesing\n",
      "INFO:cmdstanpy:Chain [1] start processing\n",
      "INFO:cmdstanpy:Chain [2] start processing\n",
      "INFO:cmdstanpy:Chain [3] start processing\n",
      "INFO:cmdstanpy:Chain [4] start processing\n"
     ]
    },
    {
     "name": "stdout",
     "output_type": "stream",
     "text": [
      "Fitting toy MC bin no.220\n",
      "0.9498618090452262\n",
      "398 307\n"
     ]
    },
    {
     "name": "stderr",
     "output_type": "stream",
     "text": [
      "INFO:cmdstanpy:Chain [3] done processing\n",
      "INFO:cmdstanpy:Chain [1] done processing\n",
      "INFO:cmdstanpy:Chain [4] done processing\n",
      "INFO:cmdstanpy:Chain [2] done processing\n",
      "INFO:cmdstanpy:found newer exe file, not recompiling\n",
      "INFO:cmdstanpy:found newer exe file, not recompiling\n",
      "INFO:cmdstanpy:CmdStan start procesing\n",
      "INFO:cmdstanpy:Chain [1] start processing\n",
      "INFO:cmdstanpy:Chain [2] start processing\n",
      "INFO:cmdstanpy:Chain [3] start processing\n",
      "INFO:cmdstanpy:Chain [4] start processing\n"
     ]
    },
    {
     "name": "stdout",
     "output_type": "stream",
     "text": [
      "Fitting toy MC bin no.221\n",
      "0.9498958333333333\n",
      "384 296\n"
     ]
    },
    {
     "name": "stderr",
     "output_type": "stream",
     "text": [
      "INFO:cmdstanpy:Chain [4] done processing\n",
      "INFO:cmdstanpy:Chain [3] done processing\n",
      "INFO:cmdstanpy:Chain [1] done processing\n",
      "INFO:cmdstanpy:Chain [2] done processing\n",
      "INFO:cmdstanpy:found newer exe file, not recompiling\n",
      "INFO:cmdstanpy:found newer exe file, not recompiling\n",
      "INFO:cmdstanpy:CmdStan start procesing\n",
      "INFO:cmdstanpy:Chain [1] start processing\n",
      "INFO:cmdstanpy:Chain [2] start processing\n",
      "INFO:cmdstanpy:Chain [3] start processing\n",
      "INFO:cmdstanpy:Chain [4] start processing\n"
     ]
    },
    {
     "name": "stdout",
     "output_type": "stream",
     "text": [
      "Fitting toy MC bin no.222\n",
      "0.9499640287769784\n",
      "417 321\n"
     ]
    },
    {
     "name": "stderr",
     "output_type": "stream",
     "text": [
      "INFO:cmdstanpy:Chain [3] done processing\n",
      "INFO:cmdstanpy:Chain [4] done processing\n",
      "INFO:cmdstanpy:Chain [1] done processing\n",
      "INFO:cmdstanpy:Chain [2] done processing\n",
      "INFO:cmdstanpy:found newer exe file, not recompiling\n",
      "INFO:cmdstanpy:found newer exe file, not recompiling\n",
      "INFO:cmdstanpy:CmdStan start procesing\n",
      "INFO:cmdstanpy:Chain [1] start processing\n",
      "INFO:cmdstanpy:Chain [2] start processing\n",
      "INFO:cmdstanpy:Chain [3] start processing\n",
      "INFO:cmdstanpy:Chain [4] start processing\n"
     ]
    },
    {
     "name": "stdout",
     "output_type": "stream",
     "text": [
      "Fitting toy MC bin no.223\n",
      "0.949946524064171\n",
      "374 288\n"
     ]
    },
    {
     "name": "stderr",
     "output_type": "stream",
     "text": [
      "INFO:cmdstanpy:Chain [2] done processing\n",
      "INFO:cmdstanpy:Chain [1] done processing\n",
      "INFO:cmdstanpy:Chain [4] done processing\n",
      "INFO:cmdstanpy:Chain [3] done processing\n",
      "INFO:cmdstanpy:found newer exe file, not recompiling\n",
      "INFO:cmdstanpy:found newer exe file, not recompiling\n",
      "INFO:cmdstanpy:CmdStan start procesing\n",
      "INFO:cmdstanpy:Chain [1] start processing\n",
      "INFO:cmdstanpy:Chain [2] start processing\n",
      "INFO:cmdstanpy:Chain [3] start processing\n",
      "INFO:cmdstanpy:Chain [4] start processing\n"
     ]
    },
    {
     "name": "stdout",
     "output_type": "stream",
     "text": [
      "Fitting toy MC bin no.224\n",
      "0.9499303944315546\n",
      "431 332\n"
     ]
    },
    {
     "name": "stderr",
     "output_type": "stream",
     "text": [
      "INFO:cmdstanpy:Chain [3] done processing\n",
      "INFO:cmdstanpy:Chain [4] done processing\n",
      "INFO:cmdstanpy:Chain [1] done processing\n",
      "INFO:cmdstanpy:Chain [2] done processing\n",
      "INFO:cmdstanpy:found newer exe file, not recompiling\n",
      "INFO:cmdstanpy:found newer exe file, not recompiling\n",
      "INFO:cmdstanpy:CmdStan start procesing\n",
      "INFO:cmdstanpy:Chain [1] start processing\n",
      "INFO:cmdstanpy:Chain [2] start processing\n",
      "INFO:cmdstanpy:Chain [3] start processing\n",
      "INFO:cmdstanpy:Chain [4] start processing\n"
     ]
    },
    {
     "name": "stdout",
     "output_type": "stream",
     "text": [
      "Fitting toy MC bin no.225\n",
      "0.9499303944315546\n",
      "431 332\n"
     ]
    },
    {
     "name": "stderr",
     "output_type": "stream",
     "text": [
      "INFO:cmdstanpy:Chain [2] done processing\n",
      "INFO:cmdstanpy:Chain [1] done processing\n",
      "INFO:cmdstanpy:Chain [4] done processing\n",
      "INFO:cmdstanpy:Chain [3] done processing\n",
      "INFO:cmdstanpy:found newer exe file, not recompiling\n",
      "INFO:cmdstanpy:found newer exe file, not recompiling\n",
      "INFO:cmdstanpy:CmdStan start procesing\n",
      "INFO:cmdstanpy:Chain [1] start processing\n",
      "INFO:cmdstanpy:Chain [2] start processing\n",
      "INFO:cmdstanpy:Chain [3] start processing\n",
      "INFO:cmdstanpy:Chain [4] start processing\n"
     ]
    },
    {
     "name": "stdout",
     "output_type": "stream",
     "text": [
      "Fitting toy MC bin no.226\n",
      "0.9499127182044889\n",
      "401 309\n"
     ]
    },
    {
     "name": "stderr",
     "output_type": "stream",
     "text": [
      "INFO:cmdstanpy:Chain [2] done processing\n",
      "INFO:cmdstanpy:Chain [1] done processing\n",
      "INFO:cmdstanpy:Chain [3] done processing\n",
      "INFO:cmdstanpy:Chain [4] done processing\n",
      "INFO:cmdstanpy:found newer exe file, not recompiling\n",
      "INFO:cmdstanpy:found newer exe file, not recompiling\n",
      "INFO:cmdstanpy:CmdStan start procesing\n",
      "INFO:cmdstanpy:Chain [1] start processing\n",
      "INFO:cmdstanpy:Chain [2] start processing\n",
      "INFO:cmdstanpy:Chain [3] start processing\n",
      "INFO:cmdstanpy:Chain [4] start processing\n"
     ]
    },
    {
     "name": "stdout",
     "output_type": "stream",
     "text": [
      "Fitting toy MC bin no.227\n",
      "0.9497727272727272\n",
      "374 289\n"
     ]
    },
    {
     "name": "stderr",
     "output_type": "stream",
     "text": [
      "INFO:cmdstanpy:Chain [2] done processing\n",
      "INFO:cmdstanpy:Chain [1] done processing\n",
      "INFO:cmdstanpy:Chain [4] done processing\n",
      "INFO:cmdstanpy:Chain [3] done processing\n",
      "INFO:cmdstanpy:found newer exe file, not recompiling\n",
      "INFO:cmdstanpy:found newer exe file, not recompiling\n",
      "INFO:cmdstanpy:CmdStan start procesing\n",
      "INFO:cmdstanpy:Chain [1] start processing\n",
      "INFO:cmdstanpy:Chain [2] start processing\n",
      "INFO:cmdstanpy:Chain [3] start processing\n",
      "INFO:cmdstanpy:Chain [4] start processing\n"
     ]
    },
    {
     "name": "stdout",
     "output_type": "stream",
     "text": [
      "Fitting toy MC bin no.228\n",
      "0.9499234693877551\n",
      "392 302\n"
     ]
    },
    {
     "name": "stderr",
     "output_type": "stream",
     "text": [
      "INFO:cmdstanpy:Chain [4] done processing\n",
      "INFO:cmdstanpy:Chain [2] done processing\n",
      "INFO:cmdstanpy:Chain [1] done processing\n",
      "INFO:cmdstanpy:Chain [3] done processing\n",
      "INFO:cmdstanpy:found newer exe file, not recompiling\n",
      "INFO:cmdstanpy:found newer exe file, not recompiling\n",
      "INFO:cmdstanpy:CmdStan start procesing\n",
      "INFO:cmdstanpy:Chain [1] start processing\n",
      "INFO:cmdstanpy:Chain [2] start processing\n",
      "INFO:cmdstanpy:Chain [3] start processing\n",
      "INFO:cmdstanpy:Chain [4] start processing\n"
     ]
    },
    {
     "name": "stdout",
     "output_type": "stream",
     "text": [
      "Fitting toy MC bin no.229\n",
      "0.9499500000000001\n",
      "400 308\n"
     ]
    },
    {
     "name": "stderr",
     "output_type": "stream",
     "text": [
      "INFO:cmdstanpy:Chain [1] done processing\n",
      "INFO:cmdstanpy:Chain [2] done processing\n",
      "INFO:cmdstanpy:Chain [4] done processing\n",
      "INFO:cmdstanpy:Chain [3] done processing\n",
      "INFO:cmdstanpy:found newer exe file, not recompiling\n",
      "INFO:cmdstanpy:found newer exe file, not recompiling\n",
      "INFO:cmdstanpy:CmdStan start procesing\n",
      "INFO:cmdstanpy:Chain [1] start processing\n",
      "INFO:cmdstanpy:Chain [2] start processing\n",
      "INFO:cmdstanpy:Chain [3] start processing\n",
      "INFO:cmdstanpy:Chain [4] start processing\n"
     ]
    },
    {
     "name": "stdout",
     "output_type": "stream",
     "text": [
      "Fitting toy MC bin no.230\n",
      "0.9498926014319808\n",
      "419 323\n"
     ]
    },
    {
     "name": "stderr",
     "output_type": "stream",
     "text": [
      "INFO:cmdstanpy:Chain [3] done processing\n",
      "INFO:cmdstanpy:Chain [1] done processing\n",
      "INFO:cmdstanpy:Chain [4] done processing\n",
      "INFO:cmdstanpy:Chain [2] done processing\n",
      "INFO:cmdstanpy:found newer exe file, not recompiling\n",
      "INFO:cmdstanpy:found newer exe file, not recompiling\n",
      "INFO:cmdstanpy:CmdStan start procesing\n",
      "INFO:cmdstanpy:Chain [1] start processing\n",
      "INFO:cmdstanpy:Chain [2] start processing\n",
      "INFO:cmdstanpy:Chain [3] start processing\n",
      "INFO:cmdstanpy:Chain [4] start processing\n"
     ]
    },
    {
     "name": "stdout",
     "output_type": "stream",
     "text": [
      "Fitting toy MC bin no.231\n",
      "0.95\n",
      "377 290\n"
     ]
    },
    {
     "name": "stderr",
     "output_type": "stream",
     "text": [
      "INFO:cmdstanpy:Chain [2] done processing\n",
      "INFO:cmdstanpy:Chain [3] done processing\n",
      "INFO:cmdstanpy:Chain [1] done processing\n",
      "INFO:cmdstanpy:Chain [4] done processing\n",
      "INFO:cmdstanpy:found newer exe file, not recompiling\n",
      "INFO:cmdstanpy:found newer exe file, not recompiling\n",
      "INFO:cmdstanpy:CmdStan start procesing\n",
      "INFO:cmdstanpy:Chain [1] start processing\n",
      "INFO:cmdstanpy:Chain [2] start processing\n",
      "INFO:cmdstanpy:Chain [3] start processing\n",
      "INFO:cmdstanpy:Chain [4] start processing\n"
     ]
    },
    {
     "name": "stdout",
     "output_type": "stream",
     "text": [
      "Fitting toy MC bin no.232\n",
      "0.9499870466321243\n",
      "386 297\n"
     ]
    },
    {
     "name": "stderr",
     "output_type": "stream",
     "text": [
      "INFO:cmdstanpy:Chain [1] done processing\n",
      "INFO:cmdstanpy:Chain [2] done processing\n",
      "INFO:cmdstanpy:Chain [3] done processing\n",
      "INFO:cmdstanpy:Chain [4] done processing\n",
      "INFO:cmdstanpy:found newer exe file, not recompiling\n",
      "INFO:cmdstanpy:found newer exe file, not recompiling\n",
      "INFO:cmdstanpy:CmdStan start procesing\n",
      "INFO:cmdstanpy:Chain [1] start processing\n",
      "INFO:cmdstanpy:Chain [2] start processing\n",
      "INFO:cmdstanpy:Chain [3] start processing\n",
      "INFO:cmdstanpy:Chain [4] start processing\n"
     ]
    },
    {
     "name": "stdout",
     "output_type": "stream",
     "text": [
      "Fitting toy MC bin no.233\n",
      "0.9500340136054422\n",
      "441 339\n"
     ]
    },
    {
     "name": "stderr",
     "output_type": "stream",
     "text": [
      "INFO:cmdstanpy:Chain [3] done processing\n",
      "INFO:cmdstanpy:Chain [1] done processing\n",
      "INFO:cmdstanpy:Chain [2] done processing\n",
      "INFO:cmdstanpy:Chain [4] done processing\n",
      "INFO:cmdstanpy:found newer exe file, not recompiling\n",
      "INFO:cmdstanpy:found newer exe file, not recompiling\n",
      "INFO:cmdstanpy:CmdStan start procesing\n",
      "INFO:cmdstanpy:Chain [1] start processing\n",
      "INFO:cmdstanpy:Chain [2] start processing\n",
      "INFO:cmdstanpy:Chain [3] start processing\n",
      "INFO:cmdstanpy:Chain [4] start processing\n"
     ]
    },
    {
     "name": "stdout",
     "output_type": "stream",
     "text": [
      "Fitting toy MC bin no.234\n",
      "0.9498854961832062\n",
      "393 303\n"
     ]
    },
    {
     "name": "stderr",
     "output_type": "stream",
     "text": [
      "INFO:cmdstanpy:Chain [4] done processing\n",
      "INFO:cmdstanpy:Chain [2] done processing\n",
      "INFO:cmdstanpy:Chain [1] done processing\n",
      "INFO:cmdstanpy:Chain [3] done processing\n",
      "INFO:cmdstanpy:found newer exe file, not recompiling\n",
      "INFO:cmdstanpy:found newer exe file, not recompiling\n",
      "INFO:cmdstanpy:CmdStan start procesing\n",
      "INFO:cmdstanpy:Chain [1] start processing\n",
      "INFO:cmdstanpy:Chain [2] start processing\n",
      "INFO:cmdstanpy:Chain [3] start processing\n",
      "INFO:cmdstanpy:Chain [4] start processing\n"
     ]
    },
    {
     "name": "stdout",
     "output_type": "stream",
     "text": [
      "Fitting toy MC bin no.235\n",
      "0.9498425196850393\n",
      "381 294\n"
     ]
    },
    {
     "name": "stderr",
     "output_type": "stream",
     "text": [
      "INFO:cmdstanpy:Chain [1] done processing\n",
      "INFO:cmdstanpy:Chain [3] done processing\n",
      "INFO:cmdstanpy:Chain [2] done processing\n",
      "INFO:cmdstanpy:Chain [4] done processing\n",
      "INFO:cmdstanpy:found newer exe file, not recompiling\n",
      "INFO:cmdstanpy:found newer exe file, not recompiling\n",
      "INFO:cmdstanpy:CmdStan start procesing\n",
      "INFO:cmdstanpy:Chain [1] start processing\n",
      "INFO:cmdstanpy:Chain [2] start processing\n",
      "INFO:cmdstanpy:Chain [3] start processing\n",
      "INFO:cmdstanpy:Chain [4] start processing\n"
     ]
    },
    {
     "name": "stdout",
     "output_type": "stream",
     "text": [
      "Fitting toy MC bin no.236\n",
      "0.9498387096774195\n",
      "403 311\n"
     ]
    },
    {
     "name": "stderr",
     "output_type": "stream",
     "text": [
      "INFO:cmdstanpy:Chain [4] done processing\n",
      "INFO:cmdstanpy:Chain [1] done processing\n",
      "INFO:cmdstanpy:Chain [2] done processing\n",
      "INFO:cmdstanpy:Chain [3] done processing\n",
      "INFO:cmdstanpy:found newer exe file, not recompiling\n",
      "INFO:cmdstanpy:found newer exe file, not recompiling\n",
      "INFO:cmdstanpy:CmdStan start procesing\n",
      "INFO:cmdstanpy:Chain [1] start processing\n",
      "INFO:cmdstanpy:Chain [2] start processing\n",
      "INFO:cmdstanpy:Chain [3] start processing\n",
      "INFO:cmdstanpy:Chain [4] start processing\n"
     ]
    },
    {
     "name": "stdout",
     "output_type": "stream",
     "text": [
      "Fitting toy MC bin no.237\n",
      "0.9498571428571428\n",
      "385 297\n"
     ]
    },
    {
     "name": "stderr",
     "output_type": "stream",
     "text": [
      "INFO:cmdstanpy:Chain [3] done processing\n",
      "INFO:cmdstanpy:Chain [4] done processing\n",
      "INFO:cmdstanpy:Chain [1] done processing\n",
      "INFO:cmdstanpy:Chain [2] done processing\n",
      "INFO:cmdstanpy:found newer exe file, not recompiling\n",
      "INFO:cmdstanpy:found newer exe file, not recompiling\n",
      "INFO:cmdstanpy:CmdStan start procesing\n",
      "INFO:cmdstanpy:Chain [1] start processing\n",
      "INFO:cmdstanpy:Chain [2] start processing\n",
      "INFO:cmdstanpy:Chain [3] start processing\n",
      "INFO:cmdstanpy:Chain [4] start processing\n"
     ]
    },
    {
     "name": "stdout",
     "output_type": "stream",
     "text": [
      "Fitting toy MC bin no.238\n",
      "0.9499885844748859\n",
      "438 337\n"
     ]
    },
    {
     "name": "stderr",
     "output_type": "stream",
     "text": [
      "INFO:cmdstanpy:Chain [1] done processing\n",
      "INFO:cmdstanpy:Chain [4] done processing\n",
      "INFO:cmdstanpy:Chain [3] done processing\n",
      "INFO:cmdstanpy:Chain [2] done processing\n",
      "INFO:cmdstanpy:found newer exe file, not recompiling\n",
      "INFO:cmdstanpy:found newer exe file, not recompiling\n",
      "INFO:cmdstanpy:CmdStan start procesing\n",
      "INFO:cmdstanpy:Chain [1] start processing\n",
      "INFO:cmdstanpy:Chain [2] start processing\n",
      "INFO:cmdstanpy:Chain [3] start processing\n",
      "INFO:cmdstanpy:Chain [4] start processing\n"
     ]
    },
    {
     "name": "stdout",
     "output_type": "stream",
     "text": [
      "Fitting toy MC bin no.239\n",
      "0.9498186528497409\n",
      "386 298\n"
     ]
    },
    {
     "name": "stderr",
     "output_type": "stream",
     "text": [
      "INFO:cmdstanpy:Chain [2] done processing\n",
      "INFO:cmdstanpy:Chain [3] done processing\n",
      "INFO:cmdstanpy:Chain [1] done processing\n",
      "INFO:cmdstanpy:Chain [4] done processing\n",
      "INFO:cmdstanpy:found newer exe file, not recompiling\n",
      "INFO:cmdstanpy:found newer exe file, not recompiling\n",
      "INFO:cmdstanpy:CmdStan start procesing\n",
      "INFO:cmdstanpy:Chain [1] start processing\n",
      "INFO:cmdstanpy:Chain [2] start processing\n",
      "INFO:cmdstanpy:Chain [3] start processing\n",
      "INFO:cmdstanpy:Chain [4] start processing\n"
     ]
    },
    {
     "name": "stdout",
     "output_type": "stream",
     "text": [
      "Fitting toy MC bin no.240\n",
      "0.9497799511002445\n",
      "409 316\n"
     ]
    },
    {
     "name": "stderr",
     "output_type": "stream",
     "text": [
      "INFO:cmdstanpy:Chain [1] done processing\n",
      "INFO:cmdstanpy:Chain [2] done processing\n",
      "INFO:cmdstanpy:Chain [3] done processing\n",
      "INFO:cmdstanpy:Chain [4] done processing\n",
      "INFO:cmdstanpy:found newer exe file, not recompiling\n",
      "INFO:cmdstanpy:found newer exe file, not recompiling\n",
      "INFO:cmdstanpy:CmdStan start procesing\n",
      "INFO:cmdstanpy:Chain [1] start processing\n",
      "INFO:cmdstanpy:Chain [2] start processing\n",
      "INFO:cmdstanpy:Chain [3] start processing\n",
      "INFO:cmdstanpy:Chain [4] start processing\n"
     ]
    },
    {
     "name": "stdout",
     "output_type": "stream",
     "text": [
      "Fitting toy MC bin no.241\n",
      "0.9499127182044889\n",
      "401 309\n"
     ]
    },
    {
     "name": "stderr",
     "output_type": "stream",
     "text": [
      "INFO:cmdstanpy:Chain [4] done processing\n",
      "INFO:cmdstanpy:Chain [3] done processing\n",
      "INFO:cmdstanpy:Chain [1] done processing\n",
      "INFO:cmdstanpy:Chain [2] done processing\n",
      "INFO:cmdstanpy:found newer exe file, not recompiling\n",
      "INFO:cmdstanpy:found newer exe file, not recompiling\n",
      "INFO:cmdstanpy:CmdStan start procesing\n",
      "INFO:cmdstanpy:Chain [1] start processing\n",
      "INFO:cmdstanpy:Chain [2] start processing\n",
      "INFO:cmdstanpy:Chain [3] start processing\n",
      "INFO:cmdstanpy:Chain [4] start processing\n"
     ]
    },
    {
     "name": "stdout",
     "output_type": "stream",
     "text": [
      "Fitting toy MC bin no.242\n",
      "0.9498958333333333\n",
      "384 296\n"
     ]
    },
    {
     "name": "stderr",
     "output_type": "stream",
     "text": [
      "INFO:cmdstanpy:Chain [2] done processing\n",
      "INFO:cmdstanpy:Chain [4] done processing\n",
      "INFO:cmdstanpy:Chain [3] done processing\n",
      "INFO:cmdstanpy:Chain [1] done processing\n",
      "INFO:cmdstanpy:found newer exe file, not recompiling\n",
      "INFO:cmdstanpy:found newer exe file, not recompiling\n",
      "INFO:cmdstanpy:CmdStan start procesing\n",
      "INFO:cmdstanpy:Chain [1] start processing\n",
      "INFO:cmdstanpy:Chain [2] start processing\n",
      "INFO:cmdstanpy:Chain [3] start processing\n",
      "INFO:cmdstanpy:Chain [4] start processing\n"
     ]
    },
    {
     "name": "stdout",
     "output_type": "stream",
     "text": [
      "Fitting toy MC bin no.243\n",
      "0.9499127182044889\n",
      "401 309\n"
     ]
    },
    {
     "name": "stderr",
     "output_type": "stream",
     "text": [
      "INFO:cmdstanpy:Chain [1] done processing\n",
      "INFO:cmdstanpy:Chain [3] done processing\n",
      "INFO:cmdstanpy:Chain [4] done processing\n",
      "INFO:cmdstanpy:Chain [2] done processing\n",
      "INFO:cmdstanpy:found newer exe file, not recompiling\n",
      "INFO:cmdstanpy:found newer exe file, not recompiling\n",
      "INFO:cmdstanpy:CmdStan start procesing\n",
      "INFO:cmdstanpy:Chain [1] start processing\n",
      "INFO:cmdstanpy:Chain [2] start processing\n",
      "INFO:cmdstanpy:Chain [3] start processing\n",
      "INFO:cmdstanpy:Chain [4] start processing\n"
     ]
    },
    {
     "name": "stdout",
     "output_type": "stream",
     "text": [
      "Fitting toy MC bin no.244\n",
      "0.9498245614035088\n",
      "399 308\n"
     ]
    },
    {
     "name": "stderr",
     "output_type": "stream",
     "text": [
      "INFO:cmdstanpy:Chain [3] done processing\n",
      "INFO:cmdstanpy:Chain [2] done processing\n",
      "INFO:cmdstanpy:Chain [1] done processing\n",
      "INFO:cmdstanpy:Chain [4] done processing\n",
      "INFO:cmdstanpy:found newer exe file, not recompiling\n",
      "INFO:cmdstanpy:found newer exe file, not recompiling\n",
      "INFO:cmdstanpy:CmdStan start procesing\n",
      "INFO:cmdstanpy:Chain [1] start processing\n",
      "INFO:cmdstanpy:Chain [2] start processing\n",
      "INFO:cmdstanpy:Chain [3] start processing\n",
      "INFO:cmdstanpy:Chain [4] start processing\n"
     ]
    },
    {
     "name": "stdout",
     "output_type": "stream",
     "text": [
      "Fitting toy MC bin no.245\n",
      "0.9498425196850393\n",
      "381 294\n"
     ]
    },
    {
     "name": "stderr",
     "output_type": "stream",
     "text": [
      "INFO:cmdstanpy:Chain [3] done processing\n",
      "INFO:cmdstanpy:Chain [1] done processing\n",
      "INFO:cmdstanpy:Chain [2] done processing\n",
      "INFO:cmdstanpy:Chain [4] done processing\n",
      "INFO:cmdstanpy:found newer exe file, not recompiling\n",
      "INFO:cmdstanpy:found newer exe file, not recompiling\n",
      "INFO:cmdstanpy:CmdStan start procesing\n",
      "INFO:cmdstanpy:Chain [1] start processing\n",
      "INFO:cmdstanpy:Chain [2] start processing\n",
      "INFO:cmdstanpy:Chain [3] start processing\n",
      "INFO:cmdstanpy:Chain [4] start processing\n"
     ]
    },
    {
     "name": "stdout",
     "output_type": "stream",
     "text": [
      "Fitting toy MC bin no.246\n",
      "0.9498815789473684\n",
      "380 293\n"
     ]
    },
    {
     "name": "stderr",
     "output_type": "stream",
     "text": [
      "INFO:cmdstanpy:Chain [3] done processing\n",
      "INFO:cmdstanpy:Chain [4] done processing\n",
      "INFO:cmdstanpy:Chain [2] done processing\n",
      "INFO:cmdstanpy:Chain [1] done processing\n",
      "INFO:cmdstanpy:found newer exe file, not recompiling\n",
      "INFO:cmdstanpy:found newer exe file, not recompiling\n",
      "INFO:cmdstanpy:CmdStan start procesing\n",
      "INFO:cmdstanpy:Chain [1] start processing\n",
      "INFO:cmdstanpy:Chain [2] start processing\n",
      "INFO:cmdstanpy:Chain [3] start processing\n",
      "INFO:cmdstanpy:Chain [4] start processing\n"
     ]
    },
    {
     "name": "stdout",
     "output_type": "stream",
     "text": [
      "Fitting toy MC bin no.247\n",
      "0.9499324324324325\n",
      "370 285\n"
     ]
    },
    {
     "name": "stderr",
     "output_type": "stream",
     "text": [
      "INFO:cmdstanpy:Chain [1] done processing\n",
      "INFO:cmdstanpy:Chain [4] done processing\n",
      "INFO:cmdstanpy:Chain [2] done processing\n",
      "INFO:cmdstanpy:Chain [3] done processing\n",
      "INFO:cmdstanpy:found newer exe file, not recompiling\n",
      "INFO:cmdstanpy:found newer exe file, not recompiling\n",
      "INFO:cmdstanpy:CmdStan start procesing\n",
      "INFO:cmdstanpy:Chain [1] start processing\n",
      "INFO:cmdstanpy:Chain [2] start processing\n",
      "INFO:cmdstanpy:Chain [3] start processing\n",
      "INFO:cmdstanpy:Chain [4] start processing\n"
     ]
    },
    {
     "name": "stdout",
     "output_type": "stream",
     "text": [
      "Fitting toy MC bin no.248\n",
      "0.9500243309002433\n",
      "411 316\n"
     ]
    },
    {
     "name": "stderr",
     "output_type": "stream",
     "text": [
      "INFO:cmdstanpy:Chain [2] done processing\n",
      "INFO:cmdstanpy:Chain [4] done processing\n",
      "INFO:cmdstanpy:Chain [3] done processing\n",
      "INFO:cmdstanpy:Chain [1] done processing\n",
      "INFO:cmdstanpy:found newer exe file, not recompiling\n",
      "INFO:cmdstanpy:found newer exe file, not recompiling\n",
      "INFO:cmdstanpy:CmdStan start procesing\n",
      "INFO:cmdstanpy:Chain [1] start processing\n",
      "INFO:cmdstanpy:Chain [2] start processing\n",
      "INFO:cmdstanpy:Chain [3] start processing\n",
      "INFO:cmdstanpy:Chain [4] start processing\n"
     ]
    },
    {
     "name": "stdout",
     "output_type": "stream",
     "text": [
      "Fitting toy MC bin no.249\n",
      "0.9498004694835681\n",
      "426 329\n"
     ]
    },
    {
     "name": "stderr",
     "output_type": "stream",
     "text": [
      "INFO:cmdstanpy:Chain [4] done processing\n",
      "INFO:cmdstanpy:Chain [2] done processing\n",
      "INFO:cmdstanpy:Chain [3] done processing\n",
      "INFO:cmdstanpy:Chain [1] done processing\n",
      "INFO:cmdstanpy:found newer exe file, not recompiling\n",
      "INFO:cmdstanpy:found newer exe file, not recompiling\n",
      "INFO:cmdstanpy:CmdStan start procesing\n",
      "INFO:cmdstanpy:Chain [1] start processing\n",
      "INFO:cmdstanpy:Chain [2] start processing\n",
      "INFO:cmdstanpy:Chain [3] start processing\n",
      "INFO:cmdstanpy:Chain [4] start processing\n"
     ]
    },
    {
     "name": "stdout",
     "output_type": "stream",
     "text": [
      "Fitting toy MC bin no.250\n",
      "0.9497941888619854\n",
      "413 319\n"
     ]
    },
    {
     "name": "stderr",
     "output_type": "stream",
     "text": [
      "INFO:cmdstanpy:Chain [2] done processing\n",
      "INFO:cmdstanpy:Chain [3] done processing\n",
      "INFO:cmdstanpy:Chain [4] done processing\n",
      "INFO:cmdstanpy:Chain [1] done processing\n",
      "INFO:cmdstanpy:found newer exe file, not recompiling\n",
      "INFO:cmdstanpy:found newer exe file, not recompiling\n",
      "INFO:cmdstanpy:CmdStan start procesing\n",
      "INFO:cmdstanpy:Chain [1] start processing\n",
      "INFO:cmdstanpy:Chain [2] start processing\n",
      "INFO:cmdstanpy:Chain [3] start processing\n",
      "INFO:cmdstanpy:Chain [4] start processing\n"
     ]
    },
    {
     "name": "stdout",
     "output_type": "stream",
     "text": [
      "Fitting toy MC bin no.251\n",
      "0.949909793814433\n",
      "388 299\n"
     ]
    },
    {
     "name": "stderr",
     "output_type": "stream",
     "text": [
      "INFO:cmdstanpy:Chain [2] done processing\n",
      "INFO:cmdstanpy:Chain [3] done processing\n",
      "INFO:cmdstanpy:Chain [1] done processing\n",
      "INFO:cmdstanpy:Chain [4] done processing\n",
      "INFO:cmdstanpy:found newer exe file, not recompiling\n",
      "INFO:cmdstanpy:found newer exe file, not recompiling\n",
      "INFO:cmdstanpy:CmdStan start procesing\n",
      "INFO:cmdstanpy:Chain [1] start processing\n",
      "INFO:cmdstanpy:Chain [2] start processing\n",
      "INFO:cmdstanpy:Chain [3] start processing\n",
      "INFO:cmdstanpy:Chain [4] start processing\n"
     ]
    },
    {
     "name": "stdout",
     "output_type": "stream",
     "text": [
      "Fitting toy MC bin no.252\n",
      "0.9499628712871288\n",
      "404 311\n"
     ]
    },
    {
     "name": "stderr",
     "output_type": "stream",
     "text": [
      "INFO:cmdstanpy:Chain [2] done processing\n",
      "INFO:cmdstanpy:Chain [4] done processing\n",
      "INFO:cmdstanpy:Chain [1] done processing\n",
      "INFO:cmdstanpy:Chain [3] done processing\n",
      "INFO:cmdstanpy:found newer exe file, not recompiling\n",
      "INFO:cmdstanpy:found newer exe file, not recompiling\n",
      "INFO:cmdstanpy:CmdStan start procesing\n",
      "INFO:cmdstanpy:Chain [1] start processing\n",
      "INFO:cmdstanpy:Chain [2] start processing\n",
      "INFO:cmdstanpy:Chain [3] start processing\n",
      "INFO:cmdstanpy:Chain [4] start processing\n"
     ]
    },
    {
     "name": "stdout",
     "output_type": "stream",
     "text": [
      "Fitting toy MC bin no.253\n",
      "0.9500573394495413\n",
      "436 335\n"
     ]
    },
    {
     "name": "stderr",
     "output_type": "stream",
     "text": [
      "INFO:cmdstanpy:Chain [4] done processing\n",
      "INFO:cmdstanpy:Chain [2] done processing\n",
      "INFO:cmdstanpy:Chain [3] done processing\n",
      "INFO:cmdstanpy:Chain [1] done processing\n",
      "INFO:cmdstanpy:found newer exe file, not recompiling\n",
      "INFO:cmdstanpy:found newer exe file, not recompiling\n",
      "INFO:cmdstanpy:CmdStan start procesing\n",
      "INFO:cmdstanpy:Chain [1] start processing\n",
      "INFO:cmdstanpy:Chain [2] start processing\n",
      "INFO:cmdstanpy:Chain [3] start processing\n",
      "INFO:cmdstanpy:Chain [4] start processing\n"
     ]
    },
    {
     "name": "stdout",
     "output_type": "stream",
     "text": [
      "Fitting toy MC bin no.254\n",
      "0.950035046728972\n",
      "428 329\n"
     ]
    },
    {
     "name": "stderr",
     "output_type": "stream",
     "text": [
      "INFO:cmdstanpy:Chain [2] done processing\n",
      "INFO:cmdstanpy:Chain [3] done processing\n",
      "INFO:cmdstanpy:Chain [4] done processing\n",
      "INFO:cmdstanpy:Chain [1] done processing\n",
      "INFO:cmdstanpy:found newer exe file, not recompiling\n",
      "INFO:cmdstanpy:found newer exe file, not recompiling\n",
      "INFO:cmdstanpy:CmdStan start procesing\n",
      "INFO:cmdstanpy:Chain [1] start processing\n",
      "INFO:cmdstanpy:Chain [2] start processing\n",
      "INFO:cmdstanpy:Chain [3] start processing\n",
      "INFO:cmdstanpy:Chain [4] start processing\n"
     ]
    },
    {
     "name": "stdout",
     "output_type": "stream",
     "text": [
      "Fitting toy MC bin no.255\n",
      "0.9498891625615763\n",
      "406 313\n"
     ]
    },
    {
     "name": "stderr",
     "output_type": "stream",
     "text": [
      "INFO:cmdstanpy:Chain [4] done processing\n",
      "INFO:cmdstanpy:Chain [1] done processing\n",
      "INFO:cmdstanpy:Chain [3] done processing\n",
      "INFO:cmdstanpy:Chain [2] done processing\n",
      "INFO:cmdstanpy:found newer exe file, not recompiling\n",
      "INFO:cmdstanpy:found newer exe file, not recompiling\n",
      "INFO:cmdstanpy:CmdStan start procesing\n",
      "INFO:cmdstanpy:Chain [1] start processing\n",
      "INFO:cmdstanpy:Chain [2] start processing\n",
      "INFO:cmdstanpy:Chain [3] start processing\n",
      "INFO:cmdstanpy:Chain [4] start processing\n"
     ]
    },
    {
     "name": "stdout",
     "output_type": "stream",
     "text": [
      "Fitting toy MC bin no.256\n",
      "0.9498245614035088\n",
      "399 308\n"
     ]
    },
    {
     "name": "stderr",
     "output_type": "stream",
     "text": [
      "INFO:cmdstanpy:Chain [1] done processing\n",
      "INFO:cmdstanpy:Chain [4] done processing\n",
      "INFO:cmdstanpy:Chain [2] done processing\n",
      "INFO:cmdstanpy:Chain [3] done processing\n",
      "INFO:cmdstanpy:found newer exe file, not recompiling\n",
      "INFO:cmdstanpy:found newer exe file, not recompiling\n",
      "INFO:cmdstanpy:CmdStan start procesing\n",
      "INFO:cmdstanpy:Chain [1] start processing\n",
      "INFO:cmdstanpy:Chain [2] start processing\n",
      "INFO:cmdstanpy:Chain [3] start processing\n",
      "INFO:cmdstanpy:Chain [4] start processing\n"
     ]
    },
    {
     "name": "stdout",
     "output_type": "stream",
     "text": [
      "Fitting toy MC bin no.257\n",
      "0.9498992443324937\n",
      "397 306\n"
     ]
    },
    {
     "name": "stderr",
     "output_type": "stream",
     "text": [
      "INFO:cmdstanpy:Chain [1] done processing\n",
      "INFO:cmdstanpy:Chain [2] done processing\n",
      "INFO:cmdstanpy:Chain [4] done processing\n",
      "INFO:cmdstanpy:Chain [3] done processing\n",
      "INFO:cmdstanpy:found newer exe file, not recompiling\n",
      "INFO:cmdstanpy:found newer exe file, not recompiling\n",
      "INFO:cmdstanpy:CmdStan start procesing\n",
      "INFO:cmdstanpy:Chain [1] start processing\n",
      "INFO:cmdstanpy:Chain [2] start processing\n",
      "INFO:cmdstanpy:Chain [3] start processing\n",
      "INFO:cmdstanpy:Chain [4] start processing\n"
     ]
    },
    {
     "name": "stdout",
     "output_type": "stream",
     "text": [
      "Fitting toy MC bin no.258\n",
      "0.9499208443271767\n",
      "379 292\n"
     ]
    },
    {
     "name": "stderr",
     "output_type": "stream",
     "text": [
      "INFO:cmdstanpy:Chain [1] done processing\n",
      "INFO:cmdstanpy:Chain [4] done processing\n",
      "INFO:cmdstanpy:Chain [3] done processing\n",
      "INFO:cmdstanpy:Chain [2] done processing\n",
      "INFO:cmdstanpy:found newer exe file, not recompiling\n",
      "INFO:cmdstanpy:found newer exe file, not recompiling\n",
      "INFO:cmdstanpy:CmdStan start procesing\n",
      "INFO:cmdstanpy:Chain [1] start processing\n",
      "INFO:cmdstanpy:Chain [2] start processing\n",
      "INFO:cmdstanpy:Chain [3] start processing\n",
      "INFO:cmdstanpy:Chain [4] start processing\n"
     ]
    },
    {
     "name": "stdout",
     "output_type": "stream",
     "text": [
      "Fitting toy MC bin no.259\n",
      "0.9498571428571428\n",
      "420 324\n"
     ]
    },
    {
     "name": "stderr",
     "output_type": "stream",
     "text": [
      "INFO:cmdstanpy:Chain [3] done processing\n",
      "INFO:cmdstanpy:Chain [2] done processing\n",
      "INFO:cmdstanpy:Chain [1] done processing\n",
      "INFO:cmdstanpy:Chain [4] done processing\n",
      "INFO:cmdstanpy:found newer exe file, not recompiling\n",
      "INFO:cmdstanpy:found newer exe file, not recompiling\n",
      "INFO:cmdstanpy:CmdStan start procesing\n",
      "INFO:cmdstanpy:Chain [1] start processing\n",
      "INFO:cmdstanpy:Chain [2] start processing\n",
      "INFO:cmdstanpy:Chain [3] start processing\n",
      "INFO:cmdstanpy:Chain [4] start processing\n"
     ]
    },
    {
     "name": "stdout",
     "output_type": "stream",
     "text": [
      "Fitting toy MC bin no.260\n",
      "0.9498654708520179\n",
      "446 344\n"
     ]
    },
    {
     "name": "stderr",
     "output_type": "stream",
     "text": [
      "INFO:cmdstanpy:Chain [4] done processing\n",
      "INFO:cmdstanpy:Chain [3] done processing\n",
      "INFO:cmdstanpy:Chain [1] done processing\n",
      "INFO:cmdstanpy:Chain [2] done processing\n",
      "INFO:cmdstanpy:found newer exe file, not recompiling\n",
      "INFO:cmdstanpy:found newer exe file, not recompiling\n",
      "INFO:cmdstanpy:CmdStan start procesing\n",
      "INFO:cmdstanpy:Chain [1] start processing\n",
      "INFO:cmdstanpy:Chain [2] start processing\n",
      "INFO:cmdstanpy:Chain [3] start processing\n",
      "INFO:cmdstanpy:Chain [4] start processing\n"
     ]
    },
    {
     "name": "stdout",
     "output_type": "stream",
     "text": [
      "Fitting toy MC bin no.261\n",
      "0.9498714652956298\n",
      "389 300\n"
     ]
    },
    {
     "name": "stderr",
     "output_type": "stream",
     "text": [
      "INFO:cmdstanpy:Chain [4] done processing\n",
      "INFO:cmdstanpy:Chain [2] done processing\n",
      "INFO:cmdstanpy:Chain [1] done processing\n",
      "INFO:cmdstanpy:Chain [3] done processing\n",
      "INFO:cmdstanpy:found newer exe file, not recompiling\n",
      "INFO:cmdstanpy:found newer exe file, not recompiling\n",
      "INFO:cmdstanpy:CmdStan start procesing\n",
      "INFO:cmdstanpy:Chain [1] start processing\n",
      "INFO:cmdstanpy:Chain [2] start processing\n",
      "INFO:cmdstanpy:Chain [3] start processing\n",
      "INFO:cmdstanpy:Chain [4] start processing\n"
     ]
    },
    {
     "name": "stdout",
     "output_type": "stream",
     "text": [
      "Fitting toy MC bin no.262\n",
      "0.9497803617571059\n",
      "387 299\n"
     ]
    },
    {
     "name": "stderr",
     "output_type": "stream",
     "text": [
      "INFO:cmdstanpy:Chain [2] done processing\n",
      "INFO:cmdstanpy:Chain [4] done processing\n",
      "INFO:cmdstanpy:Chain [3] done processing\n",
      "INFO:cmdstanpy:Chain [1] done processing\n",
      "INFO:cmdstanpy:found newer exe file, not recompiling\n",
      "INFO:cmdstanpy:found newer exe file, not recompiling\n",
      "INFO:cmdstanpy:CmdStan start procesing\n",
      "INFO:cmdstanpy:Chain [1] start processing\n",
      "INFO:cmdstanpy:Chain [2] start processing\n",
      "INFO:cmdstanpy:Chain [3] start processing\n",
      "INFO:cmdstanpy:Chain [4] start processing\n"
     ]
    },
    {
     "name": "stdout",
     "output_type": "stream",
     "text": [
      "Fitting toy MC bin no.263\n",
      "0.9497727272727273\n",
      "396 306\n"
     ]
    },
    {
     "name": "stderr",
     "output_type": "stream",
     "text": [
      "INFO:cmdstanpy:Chain [2] done processing\n",
      "INFO:cmdstanpy:Chain [3] done processing\n",
      "INFO:cmdstanpy:Chain [4] done processing\n",
      "INFO:cmdstanpy:Chain [1] done processing\n",
      "INFO:cmdstanpy:found newer exe file, not recompiling\n",
      "INFO:cmdstanpy:found newer exe file, not recompiling\n",
      "INFO:cmdstanpy:CmdStan start procesing\n",
      "INFO:cmdstanpy:Chain [1] start processing\n",
      "INFO:cmdstanpy:Chain [2] start processing\n",
      "INFO:cmdstanpy:Chain [3] start processing\n",
      "INFO:cmdstanpy:Chain [4] start processing\n"
     ]
    },
    {
     "name": "stdout",
     "output_type": "stream",
     "text": [
      "Fitting toy MC bin no.264\n",
      "0.9499769585253457\n",
      "434 334\n"
     ]
    },
    {
     "name": "stderr",
     "output_type": "stream",
     "text": [
      "INFO:cmdstanpy:Chain [1] done processing\n",
      "INFO:cmdstanpy:Chain [2] done processing\n",
      "INFO:cmdstanpy:Chain [4] done processing\n",
      "INFO:cmdstanpy:Chain [3] done processing\n",
      "INFO:cmdstanpy:found newer exe file, not recompiling\n",
      "INFO:cmdstanpy:found newer exe file, not recompiling\n",
      "INFO:cmdstanpy:CmdStan start procesing\n",
      "INFO:cmdstanpy:Chain [1] start processing\n",
      "INFO:cmdstanpy:Chain [2] start processing\n",
      "INFO:cmdstanpy:Chain [3] start processing\n",
      "INFO:cmdstanpy:Chain [4] start processing\n"
     ]
    },
    {
     "name": "stdout",
     "output_type": "stream",
     "text": [
      "Fitting toy MC bin no.265\n",
      "0.9498194130925508\n",
      "443 342\n"
     ]
    },
    {
     "name": "stderr",
     "output_type": "stream",
     "text": [
      "INFO:cmdstanpy:Chain [3] done processing\n",
      "INFO:cmdstanpy:Chain [2] done processing\n",
      "INFO:cmdstanpy:Chain [1] done processing\n",
      "INFO:cmdstanpy:Chain [4] done processing\n",
      "INFO:cmdstanpy:found newer exe file, not recompiling\n",
      "INFO:cmdstanpy:found newer exe file, not recompiling\n",
      "INFO:cmdstanpy:CmdStan start procesing\n",
      "INFO:cmdstanpy:Chain [1] start processing\n",
      "INFO:cmdstanpy:Chain [2] start processing\n",
      "INFO:cmdstanpy:Chain [3] start processing\n",
      "INFO:cmdstanpy:Chain [4] start processing\n"
     ]
    },
    {
     "name": "stdout",
     "output_type": "stream",
     "text": [
      "Fitting toy MC bin no.266\n",
      "0.9499865951742628\n",
      "373 287\n"
     ]
    },
    {
     "name": "stderr",
     "output_type": "stream",
     "text": [
      "INFO:cmdstanpy:Chain [2] done processing\n",
      "INFO:cmdstanpy:Chain [4] done processing\n",
      "INFO:cmdstanpy:Chain [3] done processing\n",
      "INFO:cmdstanpy:Chain [1] done processing\n",
      "INFO:cmdstanpy:found newer exe file, not recompiling\n",
      "INFO:cmdstanpy:found newer exe file, not recompiling\n",
      "INFO:cmdstanpy:CmdStan start procesing\n",
      "INFO:cmdstanpy:Chain [1] start processing\n",
      "INFO:cmdstanpy:Chain [2] start processing\n",
      "INFO:cmdstanpy:Chain [3] start processing\n",
      "INFO:cmdstanpy:Chain [4] start processing\n"
     ]
    },
    {
     "name": "stdout",
     "output_type": "stream",
     "text": [
      "Fitting toy MC bin no.267\n",
      "0.9499234693877551\n",
      "392 302\n"
     ]
    },
    {
     "name": "stderr",
     "output_type": "stream",
     "text": [
      "INFO:cmdstanpy:Chain [3] done processing\n",
      "INFO:cmdstanpy:Chain [1] done processing\n",
      "INFO:cmdstanpy:Chain [4] done processing\n",
      "INFO:cmdstanpy:Chain [2] done processing\n",
      "INFO:cmdstanpy:found newer exe file, not recompiling\n",
      "INFO:cmdstanpy:found newer exe file, not recompiling\n",
      "INFO:cmdstanpy:CmdStan start procesing\n",
      "INFO:cmdstanpy:Chain [1] start processing\n",
      "INFO:cmdstanpy:Chain [2] start processing\n",
      "INFO:cmdstanpy:Chain [3] start processing\n",
      "INFO:cmdstanpy:Chain [4] start processing\n"
     ]
    },
    {
     "name": "stdout",
     "output_type": "stream",
     "text": [
      "Fitting toy MC bin no.268\n",
      "0.9498992443324937\n",
      "397 306\n"
     ]
    },
    {
     "name": "stderr",
     "output_type": "stream",
     "text": [
      "INFO:cmdstanpy:Chain [4] done processing\n",
      "INFO:cmdstanpy:Chain [1] done processing\n",
      "INFO:cmdstanpy:Chain [3] done processing\n",
      "INFO:cmdstanpy:Chain [2] done processing\n",
      "INFO:cmdstanpy:found newer exe file, not recompiling\n",
      "INFO:cmdstanpy:found newer exe file, not recompiling\n",
      "INFO:cmdstanpy:CmdStan start procesing\n",
      "INFO:cmdstanpy:Chain [1] start processing\n",
      "INFO:cmdstanpy:Chain [2] start processing\n",
      "INFO:cmdstanpy:Chain [3] start processing\n",
      "INFO:cmdstanpy:Chain [4] start processing\n"
     ]
    },
    {
     "name": "stdout",
     "output_type": "stream",
     "text": [
      "Fitting toy MC bin no.269\n",
      "0.9499033149171271\n",
      "362 279\n"
     ]
    },
    {
     "name": "stderr",
     "output_type": "stream",
     "text": [
      "INFO:cmdstanpy:Chain [4] done processing\n",
      "INFO:cmdstanpy:Chain [1] done processing\n",
      "INFO:cmdstanpy:Chain [3] done processing\n",
      "INFO:cmdstanpy:Chain [2] done processing\n",
      "INFO:cmdstanpy:found newer exe file, not recompiling\n",
      "INFO:cmdstanpy:found newer exe file, not recompiling\n",
      "INFO:cmdstanpy:CmdStan start procesing\n",
      "INFO:cmdstanpy:Chain [1] start processing\n",
      "INFO:cmdstanpy:Chain [2] start processing\n",
      "INFO:cmdstanpy:Chain [3] start processing\n",
      "INFO:cmdstanpy:Chain [4] start processing\n"
     ]
    },
    {
     "name": "stdout",
     "output_type": "stream",
     "text": [
      "Fitting toy MC bin no.270\n",
      "0.9498218527315915\n",
      "421 325\n"
     ]
    },
    {
     "name": "stderr",
     "output_type": "stream",
     "text": [
      "INFO:cmdstanpy:Chain [2] done processing\n",
      "INFO:cmdstanpy:Chain [3] done processing\n",
      "INFO:cmdstanpy:Chain [1] done processing\n",
      "INFO:cmdstanpy:Chain [4] done processing\n",
      "INFO:cmdstanpy:found newer exe file, not recompiling\n",
      "INFO:cmdstanpy:found newer exe file, not recompiling\n",
      "INFO:cmdstanpy:CmdStan start procesing\n",
      "INFO:cmdstanpy:Chain [1] start processing\n",
      "INFO:cmdstanpy:Chain [2] start processing\n",
      "INFO:cmdstanpy:Chain [3] start processing\n",
      "INFO:cmdstanpy:Chain [4] start processing\n"
     ]
    },
    {
     "name": "stdout",
     "output_type": "stream",
     "text": [
      "Fitting toy MC bin no.271\n",
      "0.9498161764705881\n",
      "408 315\n"
     ]
    },
    {
     "name": "stderr",
     "output_type": "stream",
     "text": [
      "INFO:cmdstanpy:Chain [1] done processing\n",
      "INFO:cmdstanpy:Chain [4] done processing\n",
      "INFO:cmdstanpy:Chain [2] done processing\n",
      "INFO:cmdstanpy:Chain [3] done processing\n",
      "INFO:cmdstanpy:found newer exe file, not recompiling\n",
      "INFO:cmdstanpy:found newer exe file, not recompiling\n",
      "INFO:cmdstanpy:CmdStan start procesing\n",
      "INFO:cmdstanpy:Chain [1] start processing\n",
      "INFO:cmdstanpy:Chain [2] start processing\n",
      "INFO:cmdstanpy:Chain [3] start processing\n",
      "INFO:cmdstanpy:Chain [4] start processing\n"
     ]
    },
    {
     "name": "stdout",
     "output_type": "stream",
     "text": [
      "Fitting toy MC bin no.272\n",
      "0.9498525798525798\n",
      "407 314\n"
     ]
    },
    {
     "name": "stderr",
     "output_type": "stream",
     "text": [
      "INFO:cmdstanpy:Chain [3] done processing\n",
      "INFO:cmdstanpy:Chain [2] done processing\n",
      "INFO:cmdstanpy:Chain [4] done processing\n",
      "INFO:cmdstanpy:Chain [1] done processing\n",
      "INFO:cmdstanpy:found newer exe file, not recompiling\n",
      "INFO:cmdstanpy:found newer exe file, not recompiling\n",
      "INFO:cmdstanpy:CmdStan start procesing\n",
      "INFO:cmdstanpy:Chain [1] start processing\n",
      "INFO:cmdstanpy:Chain [2] start processing\n",
      "INFO:cmdstanpy:Chain [3] start processing\n",
      "INFO:cmdstanpy:Chain [4] start processing\n"
     ]
    },
    {
     "name": "stdout",
     "output_type": "stream",
     "text": [
      "Fitting toy MC bin no.273\n",
      "0.9501392405063291\n",
      "395 303\n"
     ]
    },
    {
     "name": "stderr",
     "output_type": "stream",
     "text": [
      "INFO:cmdstanpy:Chain [3] done processing\n",
      "INFO:cmdstanpy:Chain [4] done processing\n",
      "INFO:cmdstanpy:Chain [1] done processing\n",
      "INFO:cmdstanpy:Chain [2] done processing\n",
      "INFO:cmdstanpy:found newer exe file, not recompiling\n",
      "INFO:cmdstanpy:found newer exe file, not recompiling\n",
      "INFO:cmdstanpy:CmdStan start procesing\n",
      "INFO:cmdstanpy:Chain [1] start processing\n",
      "INFO:cmdstanpy:Chain [2] start processing\n",
      "INFO:cmdstanpy:Chain [3] start processing\n",
      "INFO:cmdstanpy:Chain [4] start processing\n"
     ]
    },
    {
     "name": "stdout",
     "output_type": "stream",
     "text": [
      "Fitting toy MC bin no.274\n",
      "0.9499204545454545\n",
      "440 339\n"
     ]
    },
    {
     "name": "stderr",
     "output_type": "stream",
     "text": [
      "INFO:cmdstanpy:Chain [4] done processing\n",
      "INFO:cmdstanpy:Chain [2] done processing\n",
      "INFO:cmdstanpy:Chain [1] done processing\n",
      "INFO:cmdstanpy:Chain [3] done processing\n",
      "INFO:cmdstanpy:found newer exe file, not recompiling\n",
      "INFO:cmdstanpy:found newer exe file, not recompiling\n",
      "INFO:cmdstanpy:CmdStan start procesing\n",
      "INFO:cmdstanpy:Chain [1] start processing\n",
      "INFO:cmdstanpy:Chain [2] start processing\n",
      "INFO:cmdstanpy:Chain [3] start processing\n",
      "INFO:cmdstanpy:Chain [4] start processing\n"
     ]
    },
    {
     "name": "stdout",
     "output_type": "stream",
     "text": [
      "Fitting toy MC bin no.275\n",
      "0.9499544419134396\n",
      "439 338\n"
     ]
    },
    {
     "name": "stderr",
     "output_type": "stream",
     "text": [
      "INFO:cmdstanpy:Chain [1] done processing\n",
      "INFO:cmdstanpy:Chain [4] done processing\n",
      "INFO:cmdstanpy:Chain [3] done processing\n",
      "INFO:cmdstanpy:Chain [2] done processing\n",
      "INFO:cmdstanpy:found newer exe file, not recompiling\n",
      "INFO:cmdstanpy:found newer exe file, not recompiling\n",
      "INFO:cmdstanpy:CmdStan start procesing\n",
      "INFO:cmdstanpy:Chain [1] start processing\n",
      "INFO:cmdstanpy:Chain [2] start processing\n",
      "INFO:cmdstanpy:Chain [3] start processing\n",
      "INFO:cmdstanpy:Chain [4] start processing\n"
     ]
    },
    {
     "name": "stdout",
     "output_type": "stream",
     "text": [
      "Fitting toy MC bin no.276\n",
      "0.9499651162790698\n",
      "430 331\n"
     ]
    },
    {
     "name": "stderr",
     "output_type": "stream",
     "text": [
      "INFO:cmdstanpy:Chain [2] done processing\n",
      "INFO:cmdstanpy:Chain [3] done processing\n",
      "INFO:cmdstanpy:Chain [4] done processing\n",
      "INFO:cmdstanpy:Chain [1] done processing\n",
      "INFO:cmdstanpy:found newer exe file, not recompiling\n",
      "INFO:cmdstanpy:found newer exe file, not recompiling\n",
      "INFO:cmdstanpy:CmdStan start procesing\n",
      "INFO:cmdstanpy:Chain [1] start processing\n",
      "INFO:cmdstanpy:Chain [2] start processing\n",
      "INFO:cmdstanpy:Chain [3] start processing\n",
      "INFO:cmdstanpy:Chain [4] start processing\n"
     ]
    },
    {
     "name": "stdout",
     "output_type": "stream",
     "text": [
      "Fitting toy MC bin no.277\n",
      "0.949925925925926\n",
      "405 312\n"
     ]
    },
    {
     "name": "stderr",
     "output_type": "stream",
     "text": [
      "INFO:cmdstanpy:Chain [1] done processing\n",
      "INFO:cmdstanpy:Chain [3] done processing\n",
      "INFO:cmdstanpy:Chain [4] done processing\n",
      "INFO:cmdstanpy:Chain [2] done processing\n",
      "INFO:cmdstanpy:found newer exe file, not recompiling\n",
      "INFO:cmdstanpy:found newer exe file, not recompiling\n",
      "INFO:cmdstanpy:CmdStan start procesing\n",
      "INFO:cmdstanpy:Chain [1] start processing\n",
      "INFO:cmdstanpy:Chain [2] start processing\n",
      "INFO:cmdstanpy:Chain [3] start processing\n",
      "INFO:cmdstanpy:Chain [4] start processing\n"
     ]
    },
    {
     "name": "stdout",
     "output_type": "stream",
     "text": [
      "Fitting toy MC bin no.278\n",
      "0.9500892857142857\n",
      "392 301\n"
     ]
    },
    {
     "name": "stderr",
     "output_type": "stream",
     "text": [
      "INFO:cmdstanpy:Chain [4] done processing\n",
      "INFO:cmdstanpy:Chain [1] done processing\n",
      "INFO:cmdstanpy:Chain [3] done processing\n",
      "INFO:cmdstanpy:Chain [2] done processing\n",
      "INFO:cmdstanpy:found newer exe file, not recompiling\n",
      "INFO:cmdstanpy:found newer exe file, not recompiling\n",
      "INFO:cmdstanpy:CmdStan start procesing\n",
      "INFO:cmdstanpy:Chain [1] start processing\n",
      "INFO:cmdstanpy:Chain [2] start processing\n",
      "INFO:cmdstanpy:Chain [3] start processing\n",
      "INFO:cmdstanpy:Chain [4] start processing\n"
     ]
    },
    {
     "name": "stdout",
     "output_type": "stream",
     "text": [
      "Fitting toy MC bin no.279\n",
      "0.9499500000000001\n",
      "400 308\n"
     ]
    },
    {
     "name": "stderr",
     "output_type": "stream",
     "text": [
      "INFO:cmdstanpy:Chain [4] done processing\n",
      "INFO:cmdstanpy:Chain [1] done processing\n",
      "INFO:cmdstanpy:Chain [2] done processing\n",
      "INFO:cmdstanpy:Chain [3] done processing\n",
      "INFO:cmdstanpy:found newer exe file, not recompiling\n",
      "INFO:cmdstanpy:found newer exe file, not recompiling\n",
      "INFO:cmdstanpy:CmdStan start procesing\n",
      "INFO:cmdstanpy:Chain [1] start processing\n",
      "INFO:cmdstanpy:Chain [2] start processing\n",
      "INFO:cmdstanpy:Chain [3] start processing\n",
      "INFO:cmdstanpy:Chain [4] start processing\n"
     ]
    },
    {
     "name": "stdout",
     "output_type": "stream",
     "text": [
      "Fitting toy MC bin no.280\n",
      "0.9498101265822785\n",
      "395 305\n"
     ]
    },
    {
     "name": "stderr",
     "output_type": "stream",
     "text": [
      "INFO:cmdstanpy:Chain [1] done processing\n",
      "INFO:cmdstanpy:Chain [3] done processing\n",
      "INFO:cmdstanpy:Chain [4] done processing\n",
      "INFO:cmdstanpy:Chain [2] done processing\n",
      "INFO:cmdstanpy:found newer exe file, not recompiling\n",
      "INFO:cmdstanpy:found newer exe file, not recompiling\n",
      "INFO:cmdstanpy:CmdStan start procesing\n",
      "INFO:cmdstanpy:Chain [1] start processing\n",
      "INFO:cmdstanpy:Chain [2] start processing\n",
      "INFO:cmdstanpy:Chain [3] start processing\n",
      "INFO:cmdstanpy:Chain [4] start processing\n"
     ]
    },
    {
     "name": "stdout",
     "output_type": "stream",
     "text": [
      "Fitting toy MC bin no.281\n",
      "0.9499299719887955\n",
      "357 275\n"
     ]
    },
    {
     "name": "stderr",
     "output_type": "stream",
     "text": [
      "INFO:cmdstanpy:Chain [2] done processing\n",
      "INFO:cmdstanpy:Chain [3] done processing\n",
      "INFO:cmdstanpy:Chain [4] done processing\n",
      "INFO:cmdstanpy:Chain [1] done processing\n",
      "INFO:cmdstanpy:found newer exe file, not recompiling\n",
      "INFO:cmdstanpy:found newer exe file, not recompiling\n",
      "INFO:cmdstanpy:CmdStan start procesing\n",
      "INFO:cmdstanpy:Chain [1] start processing\n",
      "INFO:cmdstanpy:Chain [2] start processing\n",
      "INFO:cmdstanpy:Chain [3] start processing\n",
      "INFO:cmdstanpy:Chain [4] start processing\n"
     ]
    },
    {
     "name": "stdout",
     "output_type": "stream",
     "text": [
      "Fitting toy MC bin no.282\n",
      "0.9498333333333333\n",
      "390 301\n"
     ]
    },
    {
     "name": "stderr",
     "output_type": "stream",
     "text": [
      "INFO:cmdstanpy:Chain [2] done processing\n",
      "INFO:cmdstanpy:Chain [3] done processing\n",
      "INFO:cmdstanpy:Chain [1] done processing\n",
      "INFO:cmdstanpy:Chain [4] done processing\n",
      "INFO:cmdstanpy:found newer exe file, not recompiling\n",
      "INFO:cmdstanpy:found newer exe file, not recompiling\n",
      "INFO:cmdstanpy:CmdStan start procesing\n",
      "INFO:cmdstanpy:Chain [1] start processing\n",
      "INFO:cmdstanpy:Chain [2] start processing\n",
      "INFO:cmdstanpy:Chain [3] start processing\n",
      "INFO:cmdstanpy:Chain [4] start processing\n"
     ]
    },
    {
     "name": "stdout",
     "output_type": "stream",
     "text": [
      "Fitting toy MC bin no.283\n",
      "0.9497953964194373\n",
      "391 302\n"
     ]
    },
    {
     "name": "stderr",
     "output_type": "stream",
     "text": [
      "INFO:cmdstanpy:Chain [2] done processing\n",
      "INFO:cmdstanpy:Chain [1] done processing\n",
      "INFO:cmdstanpy:Chain [3] done processing\n",
      "INFO:cmdstanpy:Chain [4] done processing\n",
      "INFO:cmdstanpy:found newer exe file, not recompiling\n",
      "INFO:cmdstanpy:found newer exe file, not recompiling\n",
      "INFO:cmdstanpy:CmdStan start procesing\n",
      "INFO:cmdstanpy:Chain [1] start processing\n",
      "INFO:cmdstanpy:Chain [2] start processing\n",
      "INFO:cmdstanpy:Chain [3] start processing\n",
      "INFO:cmdstanpy:Chain [4] start processing\n"
     ]
    },
    {
     "name": "stdout",
     "output_type": "stream",
     "text": [
      "Fitting toy MC bin no.284\n",
      "0.9498161764705881\n",
      "408 315\n"
     ]
    },
    {
     "name": "stderr",
     "output_type": "stream",
     "text": [
      "INFO:cmdstanpy:Chain [4] done processing\n",
      "INFO:cmdstanpy:Chain [2] done processing\n",
      "INFO:cmdstanpy:Chain [1] done processing\n",
      "INFO:cmdstanpy:Chain [3] done processing\n",
      "INFO:cmdstanpy:found newer exe file, not recompiling\n",
      "INFO:cmdstanpy:found newer exe file, not recompiling\n",
      "INFO:cmdstanpy:CmdStan start procesing\n",
      "INFO:cmdstanpy:Chain [1] start processing\n",
      "INFO:cmdstanpy:Chain [2] start processing\n",
      "INFO:cmdstanpy:Chain [3] start processing\n",
      "INFO:cmdstanpy:Chain [4] start processing\n"
     ]
    },
    {
     "name": "stdout",
     "output_type": "stream",
     "text": [
      "Fitting toy MC bin no.285\n",
      "0.9500373134328358\n",
      "402 309\n"
     ]
    },
    {
     "name": "stderr",
     "output_type": "stream",
     "text": [
      "INFO:cmdstanpy:Chain [4] done processing\n",
      "INFO:cmdstanpy:Chain [3] done processing\n",
      "INFO:cmdstanpy:Chain [1] done processing\n",
      "INFO:cmdstanpy:Chain [2] done processing\n",
      "INFO:cmdstanpy:found newer exe file, not recompiling\n",
      "INFO:cmdstanpy:found newer exe file, not recompiling\n",
      "INFO:cmdstanpy:CmdStan start procesing\n",
      "INFO:cmdstanpy:Chain [1] start processing\n",
      "INFO:cmdstanpy:Chain [2] start processing\n",
      "INFO:cmdstanpy:Chain [3] start processing\n",
      "INFO:cmdstanpy:Chain [4] start processing\n"
     ]
    },
    {
     "name": "stdout",
     "output_type": "stream",
     "text": [
      "Fitting toy MC bin no.286\n",
      "0.9499865951742628\n",
      "373 287\n"
     ]
    },
    {
     "name": "stderr",
     "output_type": "stream",
     "text": [
      "INFO:cmdstanpy:Chain [3] done processing\n",
      "INFO:cmdstanpy:Chain [1] done processing\n",
      "INFO:cmdstanpy:Chain [2] done processing\n",
      "INFO:cmdstanpy:Chain [4] done processing\n",
      "INFO:cmdstanpy:found newer exe file, not recompiling\n",
      "INFO:cmdstanpy:found newer exe file, not recompiling\n",
      "INFO:cmdstanpy:CmdStan start procesing\n",
      "INFO:cmdstanpy:Chain [1] start processing\n",
      "INFO:cmdstanpy:Chain [2] start processing\n",
      "INFO:cmdstanpy:Chain [3] start processing\n",
      "INFO:cmdstanpy:Chain [4] start processing\n"
     ]
    },
    {
     "name": "stdout",
     "output_type": "stream",
     "text": [
      "Fitting toy MC bin no.287\n",
      "0.949909793814433\n",
      "388 299\n"
     ]
    },
    {
     "name": "stderr",
     "output_type": "stream",
     "text": [
      "INFO:cmdstanpy:Chain [3] done processing\n",
      "INFO:cmdstanpy:Chain [1] done processing\n",
      "INFO:cmdstanpy:Chain [4] done processing\n",
      "INFO:cmdstanpy:Chain [2] done processing\n",
      "INFO:cmdstanpy:found newer exe file, not recompiling\n",
      "INFO:cmdstanpy:found newer exe file, not recompiling\n",
      "INFO:cmdstanpy:CmdStan start procesing\n",
      "INFO:cmdstanpy:Chain [1] start processing\n",
      "INFO:cmdstanpy:Chain [2] start processing\n",
      "INFO:cmdstanpy:Chain [3] start processing\n",
      "INFO:cmdstanpy:Chain [4] start processing\n"
     ]
    },
    {
     "name": "stdout",
     "output_type": "stream",
     "text": [
      "Fitting toy MC bin no.288\n",
      "0.9499445983379502\n",
      "361 278\n"
     ]
    },
    {
     "name": "stderr",
     "output_type": "stream",
     "text": [
      "INFO:cmdstanpy:Chain [2] done processing\n",
      "INFO:cmdstanpy:Chain [3] done processing\n",
      "INFO:cmdstanpy:Chain [1] done processing\n",
      "INFO:cmdstanpy:Chain [4] done processing\n",
      "INFO:cmdstanpy:found newer exe file, not recompiling\n",
      "INFO:cmdstanpy:found newer exe file, not recompiling\n",
      "INFO:cmdstanpy:CmdStan start procesing\n",
      "INFO:cmdstanpy:Chain [1] start processing\n",
      "INFO:cmdstanpy:Chain [2] start processing\n",
      "INFO:cmdstanpy:Chain [3] start processing\n",
      "INFO:cmdstanpy:Chain [4] start processing\n"
     ]
    },
    {
     "name": "stdout",
     "output_type": "stream",
     "text": [
      "Fitting toy MC bin no.289\n",
      "0.9498101265822785\n",
      "395 305\n"
     ]
    },
    {
     "name": "stderr",
     "output_type": "stream",
     "text": [
      "INFO:cmdstanpy:Chain [2] done processing\n",
      "INFO:cmdstanpy:Chain [3] done processing\n",
      "INFO:cmdstanpy:Chain [1] done processing\n",
      "INFO:cmdstanpy:Chain [4] done processing\n",
      "INFO:cmdstanpy:found newer exe file, not recompiling\n",
      "INFO:cmdstanpy:found newer exe file, not recompiling\n",
      "INFO:cmdstanpy:CmdStan start procesing\n",
      "INFO:cmdstanpy:Chain [1] start processing\n",
      "INFO:cmdstanpy:Chain [2] start processing\n",
      "INFO:cmdstanpy:Chain [3] start processing\n",
      "INFO:cmdstanpy:Chain [4] start processing\n"
     ]
    },
    {
     "name": "stdout",
     "output_type": "stream",
     "text": [
      "Fitting toy MC bin no.290\n",
      "0.9499865951742628\n",
      "373 287\n"
     ]
    },
    {
     "name": "stderr",
     "output_type": "stream",
     "text": [
      "INFO:cmdstanpy:Chain [3] done processing\n",
      "INFO:cmdstanpy:Chain [1] done processing\n",
      "INFO:cmdstanpy:Chain [2] done processing\n",
      "INFO:cmdstanpy:Chain [4] done processing\n",
      "INFO:cmdstanpy:found newer exe file, not recompiling\n",
      "INFO:cmdstanpy:found newer exe file, not recompiling\n",
      "INFO:cmdstanpy:CmdStan start procesing\n",
      "INFO:cmdstanpy:Chain [1] start processing\n",
      "INFO:cmdstanpy:Chain [2] start processing\n",
      "INFO:cmdstanpy:Chain [3] start processing\n",
      "INFO:cmdstanpy:Chain [4] start processing\n"
     ]
    },
    {
     "name": "stdout",
     "output_type": "stream",
     "text": [
      "Fitting toy MC bin no.291\n",
      "0.9498854961832062\n",
      "393 303\n"
     ]
    },
    {
     "name": "stderr",
     "output_type": "stream",
     "text": [
      "INFO:cmdstanpy:Chain [3] done processing\n",
      "INFO:cmdstanpy:Chain [4] done processing\n",
      "INFO:cmdstanpy:Chain [1] done processing\n",
      "INFO:cmdstanpy:Chain [2] done processing\n",
      "INFO:cmdstanpy:found newer exe file, not recompiling\n",
      "INFO:cmdstanpy:found newer exe file, not recompiling\n",
      "INFO:cmdstanpy:CmdStan start procesing\n",
      "INFO:cmdstanpy:Chain [1] start processing\n",
      "INFO:cmdstanpy:Chain [2] start processing\n",
      "INFO:cmdstanpy:Chain [3] start processing\n",
      "INFO:cmdstanpy:Chain [4] start processing\n"
     ]
    },
    {
     "name": "stdout",
     "output_type": "stream",
     "text": [
      "Fitting toy MC bin no.292\n",
      "0.9498926014319808\n",
      "419 323\n"
     ]
    },
    {
     "name": "stderr",
     "output_type": "stream",
     "text": [
      "INFO:cmdstanpy:Chain [3] done processing\n",
      "INFO:cmdstanpy:Chain [1] done processing\n",
      "INFO:cmdstanpy:Chain [4] done processing\n",
      "INFO:cmdstanpy:Chain [2] done processing\n",
      "INFO:cmdstanpy:found newer exe file, not recompiling\n",
      "INFO:cmdstanpy:found newer exe file, not recompiling\n",
      "INFO:cmdstanpy:CmdStan start procesing\n",
      "INFO:cmdstanpy:Chain [1] start processing\n",
      "INFO:cmdstanpy:Chain [2] start processing\n",
      "INFO:cmdstanpy:Chain [3] start processing\n",
      "INFO:cmdstanpy:Chain [4] start processing\n"
     ]
    },
    {
     "name": "stdout",
     "output_type": "stream",
     "text": [
      "Fitting toy MC bin no.293\n",
      "0.94984375\n",
      "416 321\n"
     ]
    },
    {
     "name": "stderr",
     "output_type": "stream",
     "text": [
      "INFO:cmdstanpy:Chain [3] done processing\n",
      "INFO:cmdstanpy:Chain [1] done processing\n",
      "INFO:cmdstanpy:Chain [4] done processing\n",
      "INFO:cmdstanpy:Chain [2] done processing\n",
      "INFO:cmdstanpy:found newer exe file, not recompiling\n",
      "INFO:cmdstanpy:found newer exe file, not recompiling\n",
      "INFO:cmdstanpy:CmdStan start procesing\n",
      "INFO:cmdstanpy:Chain [1] start processing\n",
      "INFO:cmdstanpy:Chain [2] start processing\n",
      "INFO:cmdstanpy:Chain [3] start processing\n",
      "INFO:cmdstanpy:Chain [4] start processing\n"
     ]
    },
    {
     "name": "stdout",
     "output_type": "stream",
     "text": [
      "Fitting toy MC bin no.294\n",
      "0.9498958333333333\n",
      "384 296\n"
     ]
    },
    {
     "name": "stderr",
     "output_type": "stream",
     "text": [
      "INFO:cmdstanpy:Chain [1] done processing\n",
      "INFO:cmdstanpy:Chain [2] done processing\n",
      "INFO:cmdstanpy:Chain [3] done processing\n",
      "INFO:cmdstanpy:Chain [4] done processing\n",
      "INFO:cmdstanpy:found newer exe file, not recompiling\n",
      "INFO:cmdstanpy:found newer exe file, not recompiling\n",
      "INFO:cmdstanpy:CmdStan start procesing\n",
      "INFO:cmdstanpy:Chain [1] start processing\n",
      "INFO:cmdstanpy:Chain [2] start processing\n",
      "INFO:cmdstanpy:Chain [3] start processing\n",
      "INFO:cmdstanpy:Chain [4] start processing\n"
     ]
    },
    {
     "name": "stdout",
     "output_type": "stream",
     "text": [
      "Fitting toy MC bin no.295\n",
      "0.9499127182044889\n",
      "401 309\n"
     ]
    },
    {
     "name": "stderr",
     "output_type": "stream",
     "text": [
      "INFO:cmdstanpy:Chain [1] done processing\n",
      "INFO:cmdstanpy:Chain [3] done processing\n",
      "INFO:cmdstanpy:Chain [4] done processing\n",
      "INFO:cmdstanpy:Chain [2] done processing\n",
      "INFO:cmdstanpy:found newer exe file, not recompiling\n",
      "INFO:cmdstanpy:found newer exe file, not recompiling\n",
      "INFO:cmdstanpy:CmdStan start procesing\n",
      "INFO:cmdstanpy:Chain [1] start processing\n",
      "INFO:cmdstanpy:Chain [2] start processing\n",
      "INFO:cmdstanpy:Chain [3] start processing\n",
      "INFO:cmdstanpy:Chain [4] start processing\n"
     ]
    },
    {
     "name": "stdout",
     "output_type": "stream",
     "text": [
      "Fitting toy MC bin no.296\n",
      "0.9498333333333333\n",
      "390 301\n"
     ]
    },
    {
     "name": "stderr",
     "output_type": "stream",
     "text": [
      "INFO:cmdstanpy:Chain [2] done processing\n",
      "INFO:cmdstanpy:Chain [1] done processing\n",
      "INFO:cmdstanpy:Chain [4] done processing\n",
      "INFO:cmdstanpy:Chain [3] done processing\n",
      "INFO:cmdstanpy:found newer exe file, not recompiling\n",
      "INFO:cmdstanpy:found newer exe file, not recompiling\n",
      "INFO:cmdstanpy:CmdStan start procesing\n",
      "INFO:cmdstanpy:Chain [1] start processing\n",
      "INFO:cmdstanpy:Chain [2] start processing\n",
      "INFO:cmdstanpy:Chain [3] start processing\n",
      "INFO:cmdstanpy:Chain [4] start processing\n"
     ]
    },
    {
     "name": "stdout",
     "output_type": "stream",
     "text": [
      "Fitting toy MC bin no.297\n",
      "0.95\n",
      "416 320\n"
     ]
    },
    {
     "name": "stderr",
     "output_type": "stream",
     "text": [
      "INFO:cmdstanpy:Chain [2] done processing\n",
      "INFO:cmdstanpy:Chain [3] done processing\n",
      "INFO:cmdstanpy:Chain [4] done processing\n",
      "INFO:cmdstanpy:Chain [1] done processing\n",
      "INFO:cmdstanpy:found newer exe file, not recompiling\n",
      "INFO:cmdstanpy:found newer exe file, not recompiling\n",
      "INFO:cmdstanpy:CmdStan start procesing\n",
      "INFO:cmdstanpy:Chain [1] start processing\n",
      "INFO:cmdstanpy:Chain [2] start processing\n",
      "INFO:cmdstanpy:Chain [3] start processing\n",
      "INFO:cmdstanpy:Chain [4] start processing\n"
     ]
    },
    {
     "name": "stdout",
     "output_type": "stream",
     "text": [
      "Fitting toy MC bin no.298\n",
      "0.9498831775700934\n",
      "428 330\n"
     ]
    },
    {
     "name": "stderr",
     "output_type": "stream",
     "text": [
      "INFO:cmdstanpy:Chain [3] done processing\n",
      "INFO:cmdstanpy:Chain [1] done processing\n",
      "INFO:cmdstanpy:Chain [4] done processing\n",
      "INFO:cmdstanpy:Chain [2] done processing\n",
      "INFO:cmdstanpy:found newer exe file, not recompiling\n",
      "INFO:cmdstanpy:found newer exe file, not recompiling\n",
      "INFO:cmdstanpy:CmdStan start procesing\n",
      "INFO:cmdstanpy:Chain [1] start processing\n",
      "INFO:cmdstanpy:Chain [2] start processing\n",
      "INFO:cmdstanpy:Chain [3] start processing\n",
      "INFO:cmdstanpy:Chain [4] start processing\n"
     ]
    },
    {
     "name": "stdout",
     "output_type": "stream",
     "text": [
      "Fitting toy MC bin no.299\n",
      "0.9498529411764706\n",
      "442 341\n"
     ]
    },
    {
     "name": "stderr",
     "output_type": "stream",
     "text": [
      "INFO:cmdstanpy:Chain [1] done processing\n",
      "INFO:cmdstanpy:Chain [4] done processing\n",
      "INFO:cmdstanpy:Chain [2] done processing\n",
      "INFO:cmdstanpy:Chain [3] done processing\n",
      "INFO:cmdstanpy:found newer exe file, not recompiling\n",
      "INFO:cmdstanpy:found newer exe file, not recompiling\n",
      "INFO:cmdstanpy:CmdStan start procesing\n",
      "INFO:cmdstanpy:Chain [1] start processing\n",
      "INFO:cmdstanpy:Chain [2] start processing\n",
      "INFO:cmdstanpy:Chain [3] start processing\n",
      "INFO:cmdstanpy:Chain [4] start processing\n"
     ]
    },
    {
     "name": "stdout",
     "output_type": "stream",
     "text": [
      "Fitting toy MC bin no.300\n",
      "0.9498661800486617\n",
      "411 317\n"
     ]
    },
    {
     "name": "stderr",
     "output_type": "stream",
     "text": [
      "INFO:cmdstanpy:Chain [2] done processing\n",
      "INFO:cmdstanpy:Chain [1] done processing\n",
      "INFO:cmdstanpy:Chain [4] done processing\n",
      "INFO:cmdstanpy:Chain [3] done processing\n",
      "INFO:cmdstanpy:found newer exe file, not recompiling\n",
      "INFO:cmdstanpy:found newer exe file, not recompiling\n",
      "INFO:cmdstanpy:CmdStan start procesing\n",
      "INFO:cmdstanpy:Chain [1] start processing\n",
      "INFO:cmdstanpy:Chain [2] start processing\n",
      "INFO:cmdstanpy:Chain [3] start processing\n",
      "INFO:cmdstanpy:Chain [4] start processing\n"
     ]
    },
    {
     "name": "stdout",
     "output_type": "stream",
     "text": [
      "Fitting toy MC bin no.301\n",
      "0.949909793814433\n",
      "388 299\n"
     ]
    },
    {
     "name": "stderr",
     "output_type": "stream",
     "text": [
      "INFO:cmdstanpy:Chain [1] done processing\n",
      "INFO:cmdstanpy:Chain [4] done processing\n",
      "INFO:cmdstanpy:Chain [3] done processing\n",
      "INFO:cmdstanpy:Chain [2] done processing\n",
      "INFO:cmdstanpy:found newer exe file, not recompiling\n",
      "INFO:cmdstanpy:found newer exe file, not recompiling\n",
      "INFO:cmdstanpy:CmdStan start procesing\n",
      "INFO:cmdstanpy:Chain [1] start processing\n",
      "INFO:cmdstanpy:Chain [2] start processing\n",
      "INFO:cmdstanpy:Chain [3] start processing\n",
      "INFO:cmdstanpy:Chain [4] start processing\n"
     ]
    },
    {
     "name": "stdout",
     "output_type": "stream",
     "text": [
      "Fitting toy MC bin no.302\n",
      "0.9499878640776699\n",
      "412 317\n"
     ]
    },
    {
     "name": "stderr",
     "output_type": "stream",
     "text": [
      "INFO:cmdstanpy:Chain [3] done processing\n",
      "INFO:cmdstanpy:Chain [4] done processing\n",
      "INFO:cmdstanpy:Chain [1] done processing\n",
      "INFO:cmdstanpy:Chain [2] done processing\n",
      "INFO:cmdstanpy:found newer exe file, not recompiling\n",
      "INFO:cmdstanpy:found newer exe file, not recompiling\n",
      "INFO:cmdstanpy:CmdStan start procesing\n",
      "INFO:cmdstanpy:Chain [1] start processing\n",
      "INFO:cmdstanpy:Chain [2] start processing\n",
      "INFO:cmdstanpy:Chain [3] start processing\n",
      "INFO:cmdstanpy:Chain [4] start processing\n"
     ]
    },
    {
     "name": "stdout",
     "output_type": "stream",
     "text": [
      "Fitting toy MC bin no.303\n",
      "0.950012285012285\n",
      "407 313\n"
     ]
    },
    {
     "name": "stderr",
     "output_type": "stream",
     "text": [
      "INFO:cmdstanpy:Chain [3] done processing\n",
      "INFO:cmdstanpy:Chain [4] done processing\n",
      "INFO:cmdstanpy:Chain [2] done processing\n",
      "INFO:cmdstanpy:Chain [1] done processing\n",
      "INFO:cmdstanpy:found newer exe file, not recompiling\n",
      "INFO:cmdstanpy:found newer exe file, not recompiling\n",
      "INFO:cmdstanpy:CmdStan start procesing\n",
      "INFO:cmdstanpy:Chain [1] start processing\n",
      "INFO:cmdstanpy:Chain [2] start processing\n",
      "INFO:cmdstanpy:Chain [3] start processing\n",
      "INFO:cmdstanpy:Chain [4] start processing\n"
     ]
    },
    {
     "name": "stdout",
     "output_type": "stream",
     "text": [
      "Fitting toy MC bin no.304\n",
      "0.9498702830188679\n",
      "424 327\n"
     ]
    },
    {
     "name": "stderr",
     "output_type": "stream",
     "text": [
      "INFO:cmdstanpy:Chain [1] done processing\n",
      "INFO:cmdstanpy:Chain [3] done processing\n",
      "INFO:cmdstanpy:Chain [4] done processing\n",
      "INFO:cmdstanpy:Chain [2] done processing\n",
      "INFO:cmdstanpy:found newer exe file, not recompiling\n",
      "INFO:cmdstanpy:found newer exe file, not recompiling\n",
      "INFO:cmdstanpy:CmdStan start procesing\n",
      "INFO:cmdstanpy:Chain [1] start processing\n",
      "INFO:cmdstanpy:Chain [2] start processing\n",
      "INFO:cmdstanpy:Chain [3] start processing\n",
      "INFO:cmdstanpy:Chain [4] start processing\n"
     ]
    },
    {
     "name": "stdout",
     "output_type": "stream",
     "text": [
      "Fitting toy MC bin no.305\n",
      "0.9500000000000001\n",
      "429 330\n"
     ]
    },
    {
     "name": "stderr",
     "output_type": "stream",
     "text": [
      "INFO:cmdstanpy:Chain [3] done processing\n",
      "INFO:cmdstanpy:Chain [1] done processing\n",
      "INFO:cmdstanpy:Chain [2] done processing\n",
      "INFO:cmdstanpy:Chain [4] done processing\n",
      "INFO:cmdstanpy:found newer exe file, not recompiling\n",
      "INFO:cmdstanpy:found newer exe file, not recompiling\n",
      "INFO:cmdstanpy:CmdStan start procesing\n",
      "INFO:cmdstanpy:Chain [1] start processing\n",
      "INFO:cmdstanpy:Chain [2] start processing\n",
      "INFO:cmdstanpy:Chain [3] start processing\n",
      "INFO:cmdstanpy:Chain [4] start processing\n"
     ]
    },
    {
     "name": "stdout",
     "output_type": "stream",
     "text": [
      "Fitting toy MC bin no.306\n",
      "0.9499324324324325\n",
      "370 285\n"
     ]
    },
    {
     "name": "stderr",
     "output_type": "stream",
     "text": [
      "INFO:cmdstanpy:Chain [2] done processing\n",
      "INFO:cmdstanpy:Chain [3] done processing\n",
      "INFO:cmdstanpy:Chain [1] done processing\n",
      "INFO:cmdstanpy:Chain [4] done processing\n",
      "INFO:cmdstanpy:found newer exe file, not recompiling\n",
      "INFO:cmdstanpy:found newer exe file, not recompiling\n",
      "INFO:cmdstanpy:CmdStan start procesing\n",
      "INFO:cmdstanpy:Chain [1] start processing\n",
      "INFO:cmdstanpy:Chain [2] start processing\n",
      "INFO:cmdstanpy:Chain [3] start processing\n",
      "INFO:cmdstanpy:Chain [4] start processing\n"
     ]
    },
    {
     "name": "stdout",
     "output_type": "stream",
     "text": [
      "Fitting toy MC bin no.307\n",
      "0.9497333333333333\n",
      "375 290\n"
     ]
    },
    {
     "name": "stderr",
     "output_type": "stream",
     "text": [
      "INFO:cmdstanpy:Chain [1] done processing\n",
      "INFO:cmdstanpy:Chain [2] done processing\n",
      "INFO:cmdstanpy:Chain [4] done processing\n",
      "INFO:cmdstanpy:Chain [3] done processing\n",
      "INFO:cmdstanpy:found newer exe file, not recompiling\n",
      "INFO:cmdstanpy:found newer exe file, not recompiling\n",
      "INFO:cmdstanpy:CmdStan start procesing\n",
      "INFO:cmdstanpy:Chain [1] start processing\n",
      "INFO:cmdstanpy:Chain [2] start processing\n",
      "INFO:cmdstanpy:Chain [3] start processing\n",
      "INFO:cmdstanpy:Chain [4] start processing\n"
     ]
    },
    {
     "name": "stdout",
     "output_type": "stream",
     "text": [
      "Fitting toy MC bin no.308\n",
      "0.9500508905852417\n",
      "393 302\n"
     ]
    },
    {
     "name": "stderr",
     "output_type": "stream",
     "text": [
      "INFO:cmdstanpy:Chain [3] done processing\n",
      "INFO:cmdstanpy:Chain [4] done processing\n",
      "INFO:cmdstanpy:Chain [1] done processing\n",
      "INFO:cmdstanpy:Chain [2] done processing\n",
      "INFO:cmdstanpy:found newer exe file, not recompiling\n",
      "INFO:cmdstanpy:found newer exe file, not recompiling\n",
      "INFO:cmdstanpy:CmdStan start procesing\n",
      "INFO:cmdstanpy:Chain [1] start processing\n",
      "INFO:cmdstanpy:Chain [2] start processing\n",
      "INFO:cmdstanpy:Chain [3] start processing\n",
      "INFO:cmdstanpy:Chain [4] start processing\n"
     ]
    },
    {
     "name": "stdout",
     "output_type": "stream",
     "text": [
      "Fitting toy MC bin no.309\n",
      "0.9498300970873786\n",
      "412 318\n"
     ]
    },
    {
     "name": "stderr",
     "output_type": "stream",
     "text": [
      "INFO:cmdstanpy:Chain [3] done processing\n",
      "INFO:cmdstanpy:Chain [2] done processing\n",
      "INFO:cmdstanpy:Chain [4] done processing\n",
      "INFO:cmdstanpy:Chain [1] done processing\n",
      "INFO:cmdstanpy:found newer exe file, not recompiling\n",
      "INFO:cmdstanpy:found newer exe file, not recompiling\n",
      "INFO:cmdstanpy:CmdStan start procesing\n",
      "INFO:cmdstanpy:Chain [1] start processing\n",
      "INFO:cmdstanpy:Chain [2] start processing\n",
      "INFO:cmdstanpy:Chain [3] start processing\n",
      "INFO:cmdstanpy:Chain [4] start processing\n"
     ]
    },
    {
     "name": "stdout",
     "output_type": "stream",
     "text": [
      "Fitting toy MC bin no.310\n",
      "0.9498521505376345\n",
      "372 287\n"
     ]
    },
    {
     "name": "stderr",
     "output_type": "stream",
     "text": [
      "INFO:cmdstanpy:Chain [1] done processing\n",
      "INFO:cmdstanpy:Chain [2] done processing\n",
      "INFO:cmdstanpy:Chain [4] done processing\n",
      "INFO:cmdstanpy:Chain [3] done processing\n",
      "INFO:cmdstanpy:found newer exe file, not recompiling\n",
      "INFO:cmdstanpy:found newer exe file, not recompiling\n",
      "INFO:cmdstanpy:CmdStan start procesing\n",
      "INFO:cmdstanpy:Chain [1] start processing\n",
      "INFO:cmdstanpy:Chain [2] start processing\n",
      "INFO:cmdstanpy:Chain [3] start processing\n",
      "INFO:cmdstanpy:Chain [4] start processing\n"
     ]
    },
    {
     "name": "stdout",
     "output_type": "stream",
     "text": [
      "Fitting toy MC bin no.311\n",
      "0.9499208443271767\n",
      "379 292\n"
     ]
    },
    {
     "name": "stderr",
     "output_type": "stream",
     "text": [
      "INFO:cmdstanpy:Chain [1] done processing\n",
      "INFO:cmdstanpy:Chain [3] done processing\n",
      "INFO:cmdstanpy:Chain [4] done processing\n",
      "INFO:cmdstanpy:Chain [2] done processing\n",
      "INFO:cmdstanpy:found newer exe file, not recompiling\n",
      "INFO:cmdstanpy:found newer exe file, not recompiling\n",
      "INFO:cmdstanpy:CmdStan start procesing\n",
      "INFO:cmdstanpy:Chain [1] start processing\n",
      "INFO:cmdstanpy:Chain [2] start processing\n",
      "INFO:cmdstanpy:Chain [3] start processing\n",
      "INFO:cmdstanpy:Chain [4] start processing\n"
     ]
    },
    {
     "name": "stdout",
     "output_type": "stream",
     "text": [
      "Fitting toy MC bin no.312\n",
      "0.9498618090452262\n",
      "398 307\n"
     ]
    },
    {
     "name": "stderr",
     "output_type": "stream",
     "text": [
      "INFO:cmdstanpy:Chain [1] done processing\n",
      "INFO:cmdstanpy:Chain [4] done processing\n",
      "INFO:cmdstanpy:Chain [2] done processing\n",
      "INFO:cmdstanpy:Chain [3] done processing\n",
      "INFO:cmdstanpy:found newer exe file, not recompiling\n",
      "INFO:cmdstanpy:found newer exe file, not recompiling\n",
      "INFO:cmdstanpy:CmdStan start procesing\n",
      "INFO:cmdstanpy:Chain [1] start processing\n",
      "INFO:cmdstanpy:Chain [2] start processing\n",
      "INFO:cmdstanpy:Chain [3] start processing\n",
      "INFO:cmdstanpy:Chain [4] start processing\n"
     ]
    },
    {
     "name": "stdout",
     "output_type": "stream",
     "text": [
      "Fitting toy MC bin no.313\n",
      "0.9498300970873786\n",
      "412 318\n"
     ]
    },
    {
     "name": "stderr",
     "output_type": "stream",
     "text": [
      "INFO:cmdstanpy:Chain [4] done processing\n",
      "INFO:cmdstanpy:Chain [1] done processing\n",
      "INFO:cmdstanpy:Chain [2] done processing\n",
      "INFO:cmdstanpy:Chain [3] done processing\n",
      "INFO:cmdstanpy:found newer exe file, not recompiling\n",
      "INFO:cmdstanpy:found newer exe file, not recompiling\n",
      "INFO:cmdstanpy:CmdStan start procesing\n",
      "INFO:cmdstanpy:Chain [1] start processing\n",
      "INFO:cmdstanpy:Chain [2] start processing\n",
      "INFO:cmdstanpy:Chain [3] start processing\n",
      "INFO:cmdstanpy:Chain [4] start processing\n"
     ]
    },
    {
     "name": "stdout",
     "output_type": "stream",
     "text": [
      "Fitting toy MC bin no.314\n",
      "0.9499154589371981\n",
      "414 319\n"
     ]
    },
    {
     "name": "stderr",
     "output_type": "stream",
     "text": [
      "INFO:cmdstanpy:Chain [2] done processing\n",
      "INFO:cmdstanpy:Chain [4] done processing\n",
      "INFO:cmdstanpy:Chain [3] done processing\n",
      "INFO:cmdstanpy:Chain [1] done processing\n",
      "INFO:cmdstanpy:found newer exe file, not recompiling\n",
      "INFO:cmdstanpy:found newer exe file, not recompiling\n",
      "INFO:cmdstanpy:CmdStan start procesing\n",
      "INFO:cmdstanpy:Chain [1] start processing\n",
      "INFO:cmdstanpy:Chain [2] start processing\n",
      "INFO:cmdstanpy:Chain [3] start processing\n",
      "INFO:cmdstanpy:Chain [4] start processing\n"
     ]
    },
    {
     "name": "stdout",
     "output_type": "stream",
     "text": [
      "Fitting toy MC bin no.315\n",
      "0.95\n",
      "377 290\n"
     ]
    },
    {
     "name": "stderr",
     "output_type": "stream",
     "text": [
      "INFO:cmdstanpy:Chain [1] done processing\n",
      "INFO:cmdstanpy:Chain [3] done processing\n",
      "INFO:cmdstanpy:Chain [4] done processing\n",
      "INFO:cmdstanpy:Chain [2] done processing\n",
      "INFO:cmdstanpy:found newer exe file, not recompiling\n",
      "INFO:cmdstanpy:found newer exe file, not recompiling\n",
      "INFO:cmdstanpy:CmdStan start procesing\n",
      "INFO:cmdstanpy:Chain [1] start processing\n",
      "INFO:cmdstanpy:Chain [2] start processing\n",
      "INFO:cmdstanpy:Chain [3] start processing\n",
      "INFO:cmdstanpy:Chain [4] start processing\n"
     ]
    },
    {
     "name": "stdout",
     "output_type": "stream",
     "text": [
      "Fitting toy MC bin no.316\n",
      "0.9499154589371981\n",
      "414 319\n"
     ]
    },
    {
     "name": "stderr",
     "output_type": "stream",
     "text": [
      "INFO:cmdstanpy:Chain [4] done processing\n",
      "INFO:cmdstanpy:Chain [2] done processing\n",
      "INFO:cmdstanpy:Chain [3] done processing\n",
      "INFO:cmdstanpy:Chain [1] done processing\n",
      "INFO:cmdstanpy:found newer exe file, not recompiling\n",
      "INFO:cmdstanpy:found newer exe file, not recompiling\n",
      "INFO:cmdstanpy:CmdStan start procesing\n",
      "INFO:cmdstanpy:Chain [1] start processing\n",
      "INFO:cmdstanpy:Chain [2] start processing\n",
      "INFO:cmdstanpy:Chain [3] start processing\n",
      "INFO:cmdstanpy:Chain [4] start processing\n"
     ]
    },
    {
     "name": "stdout",
     "output_type": "stream",
     "text": [
      "Fitting toy MC bin no.317\n",
      "0.950025974025974\n",
      "385 296\n"
     ]
    },
    {
     "name": "stderr",
     "output_type": "stream",
     "text": [
      "INFO:cmdstanpy:Chain [3] done processing\n",
      "INFO:cmdstanpy:Chain [1] done processing\n",
      "INFO:cmdstanpy:Chain [4] done processing\n",
      "INFO:cmdstanpy:Chain [2] done processing\n",
      "INFO:cmdstanpy:found newer exe file, not recompiling\n",
      "INFO:cmdstanpy:found newer exe file, not recompiling\n",
      "INFO:cmdstanpy:CmdStan start procesing\n",
      "INFO:cmdstanpy:Chain [1] start processing\n",
      "INFO:cmdstanpy:Chain [2] start processing\n",
      "INFO:cmdstanpy:Chain [3] start processing\n",
      "INFO:cmdstanpy:Chain [4] start processing\n"
     ]
    },
    {
     "name": "stdout",
     "output_type": "stream",
     "text": [
      "Fitting toy MC bin no.318\n",
      "0.950012285012285\n",
      "407 313\n"
     ]
    },
    {
     "name": "stderr",
     "output_type": "stream",
     "text": [
      "INFO:cmdstanpy:Chain [3] done processing\n",
      "INFO:cmdstanpy:Chain [1] done processing\n",
      "INFO:cmdstanpy:Chain [4] done processing\n",
      "INFO:cmdstanpy:Chain [2] done processing\n",
      "INFO:cmdstanpy:found newer exe file, not recompiling\n",
      "INFO:cmdstanpy:found newer exe file, not recompiling\n",
      "INFO:cmdstanpy:CmdStan start procesing\n",
      "INFO:cmdstanpy:Chain [1] start processing\n",
      "INFO:cmdstanpy:Chain [2] start processing\n",
      "INFO:cmdstanpy:Chain [3] start processing\n",
      "INFO:cmdstanpy:Chain [4] start processing\n"
     ]
    },
    {
     "name": "stdout",
     "output_type": "stream",
     "text": [
      "Fitting toy MC bin no.319\n",
      "0.9500119047619048\n",
      "420 323\n"
     ]
    },
    {
     "name": "stderr",
     "output_type": "stream",
     "text": [
      "INFO:cmdstanpy:Chain [1] done processing\n",
      "INFO:cmdstanpy:Chain [2] done processing\n",
      "INFO:cmdstanpy:Chain [3] done processing\n",
      "INFO:cmdstanpy:Chain [4] done processing\n",
      "INFO:cmdstanpy:found newer exe file, not recompiling\n",
      "INFO:cmdstanpy:found newer exe file, not recompiling\n",
      "INFO:cmdstanpy:CmdStan start procesing\n",
      "INFO:cmdstanpy:Chain [1] start processing\n",
      "INFO:cmdstanpy:Chain [2] start processing\n",
      "INFO:cmdstanpy:Chain [3] start processing\n",
      "INFO:cmdstanpy:Chain [4] start processing\n"
     ]
    },
    {
     "name": "stdout",
     "output_type": "stream",
     "text": [
      "Fitting toy MC bin no.320\n",
      "0.9498891625615763\n",
      "406 313\n"
     ]
    },
    {
     "name": "stderr",
     "output_type": "stream",
     "text": [
      "INFO:cmdstanpy:Chain [1] done processing\n",
      "INFO:cmdstanpy:Chain [2] done processing\n",
      "INFO:cmdstanpy:Chain [3] done processing\n",
      "INFO:cmdstanpy:Chain [4] done processing\n",
      "INFO:cmdstanpy:found newer exe file, not recompiling\n",
      "INFO:cmdstanpy:found newer exe file, not recompiling\n",
      "INFO:cmdstanpy:CmdStan start procesing\n",
      "INFO:cmdstanpy:Chain [1] start processing\n",
      "INFO:cmdstanpy:Chain [2] start processing\n",
      "INFO:cmdstanpy:Chain [3] start processing\n",
      "INFO:cmdstanpy:Chain [4] start processing\n"
     ]
    },
    {
     "name": "stdout",
     "output_type": "stream",
     "text": [
      "Fitting toy MC bin no.321\n",
      "0.9498795180722891\n",
      "415 320\n"
     ]
    },
    {
     "name": "stderr",
     "output_type": "stream",
     "text": [
      "INFO:cmdstanpy:Chain [2] done processing\n",
      "INFO:cmdstanpy:Chain [3] done processing\n",
      "INFO:cmdstanpy:Chain [4] done processing\n",
      "INFO:cmdstanpy:Chain [1] done processing\n",
      "INFO:cmdstanpy:found newer exe file, not recompiling\n",
      "INFO:cmdstanpy:found newer exe file, not recompiling\n",
      "INFO:cmdstanpy:CmdStan start procesing\n",
      "INFO:cmdstanpy:Chain [1] start processing\n",
      "INFO:cmdstanpy:Chain [2] start processing\n",
      "INFO:cmdstanpy:Chain [3] start processing\n",
      "INFO:cmdstanpy:Chain [4] start processing\n"
     ]
    },
    {
     "name": "stdout",
     "output_type": "stream",
     "text": [
      "Fitting toy MC bin no.322\n",
      "0.949934725848564\n",
      "383 295\n"
     ]
    },
    {
     "name": "stderr",
     "output_type": "stream",
     "text": [
      "INFO:cmdstanpy:Chain [1] done processing\n",
      "INFO:cmdstanpy:Chain [3] done processing\n",
      "INFO:cmdstanpy:Chain [2] done processing\n",
      "INFO:cmdstanpy:Chain [4] done processing\n",
      "INFO:cmdstanpy:found newer exe file, not recompiling\n",
      "INFO:cmdstanpy:found newer exe file, not recompiling\n",
      "INFO:cmdstanpy:CmdStan start procesing\n",
      "INFO:cmdstanpy:Chain [1] start processing\n",
      "INFO:cmdstanpy:Chain [2] start processing\n",
      "INFO:cmdstanpy:Chain [3] start processing\n",
      "INFO:cmdstanpy:Chain [4] start processing\n"
     ]
    },
    {
     "name": "stdout",
     "output_type": "stream",
     "text": [
      "Fitting toy MC bin no.323\n",
      "0.9498571428571428\n",
      "385 297\n"
     ]
    },
    {
     "name": "stderr",
     "output_type": "stream",
     "text": [
      "INFO:cmdstanpy:Chain [4] done processing\n",
      "INFO:cmdstanpy:Chain [2] done processing\n",
      "INFO:cmdstanpy:Chain [3] done processing\n",
      "INFO:cmdstanpy:Chain [1] done processing\n",
      "INFO:cmdstanpy:found newer exe file, not recompiling\n",
      "INFO:cmdstanpy:found newer exe file, not recompiling\n",
      "INFO:cmdstanpy:CmdStan start procesing\n",
      "INFO:cmdstanpy:Chain [1] start processing\n",
      "INFO:cmdstanpy:Chain [2] start processing\n",
      "INFO:cmdstanpy:Chain [3] start processing\n",
      "INFO:cmdstanpy:Chain [4] start processing\n"
     ]
    },
    {
     "name": "stdout",
     "output_type": "stream",
     "text": [
      "Fitting toy MC bin no.324\n",
      "0.9499870466321243\n",
      "386 297\n"
     ]
    },
    {
     "name": "stderr",
     "output_type": "stream",
     "text": [
      "INFO:cmdstanpy:Chain [2] done processing\n",
      "INFO:cmdstanpy:Chain [1] done processing\n",
      "INFO:cmdstanpy:Chain [3] done processing\n",
      "INFO:cmdstanpy:Chain [4] done processing\n",
      "INFO:cmdstanpy:found newer exe file, not recompiling\n",
      "INFO:cmdstanpy:found newer exe file, not recompiling\n",
      "INFO:cmdstanpy:CmdStan start procesing\n",
      "INFO:cmdstanpy:Chain [1] start processing\n",
      "INFO:cmdstanpy:Chain [2] start processing\n",
      "INFO:cmdstanpy:Chain [3] start processing\n",
      "INFO:cmdstanpy:Chain [4] start processing\n"
     ]
    },
    {
     "name": "stdout",
     "output_type": "stream",
     "text": [
      "Fitting toy MC bin no.325\n",
      "0.9498866213151927\n",
      "441 340\n"
     ]
    },
    {
     "name": "stderr",
     "output_type": "stream",
     "text": [
      "INFO:cmdstanpy:Chain [2] done processing\n",
      "INFO:cmdstanpy:Chain [4] done processing\n",
      "INFO:cmdstanpy:Chain [1] done processing\n",
      "INFO:cmdstanpy:Chain [3] done processing\n",
      "INFO:cmdstanpy:found newer exe file, not recompiling\n",
      "INFO:cmdstanpy:found newer exe file, not recompiling\n",
      "INFO:cmdstanpy:CmdStan start procesing\n",
      "INFO:cmdstanpy:Chain [1] start processing\n",
      "INFO:cmdstanpy:Chain [2] start processing\n",
      "INFO:cmdstanpy:Chain [3] start processing\n",
      "INFO:cmdstanpy:Chain [4] start processing\n"
     ]
    },
    {
     "name": "stdout",
     "output_type": "stream",
     "text": [
      "Fitting toy MC bin no.326\n",
      "0.9500373134328358\n",
      "402 309\n"
     ]
    },
    {
     "name": "stderr",
     "output_type": "stream",
     "text": [
      "INFO:cmdstanpy:Chain [3] done processing\n",
      "INFO:cmdstanpy:Chain [1] done processing\n",
      "INFO:cmdstanpy:Chain [2] done processing\n",
      "INFO:cmdstanpy:Chain [4] done processing\n",
      "INFO:cmdstanpy:found newer exe file, not recompiling\n",
      "INFO:cmdstanpy:found newer exe file, not recompiling\n",
      "INFO:cmdstanpy:CmdStan start procesing\n",
      "INFO:cmdstanpy:Chain [1] start processing\n",
      "INFO:cmdstanpy:Chain [2] start processing\n",
      "INFO:cmdstanpy:Chain [3] start processing\n",
      "INFO:cmdstanpy:Chain [4] start processing\n"
     ]
    },
    {
     "name": "stdout",
     "output_type": "stream",
     "text": [
      "Fitting toy MC bin no.327\n",
      "0.9499054373522459\n",
      "423 326\n"
     ]
    },
    {
     "name": "stderr",
     "output_type": "stream",
     "text": [
      "INFO:cmdstanpy:Chain [3] done processing\n",
      "INFO:cmdstanpy:Chain [4] done processing\n",
      "INFO:cmdstanpy:Chain [2] done processing\n",
      "INFO:cmdstanpy:Chain [1] done processing\n",
      "INFO:cmdstanpy:found newer exe file, not recompiling\n",
      "INFO:cmdstanpy:found newer exe file, not recompiling\n",
      "INFO:cmdstanpy:CmdStan start procesing\n",
      "INFO:cmdstanpy:Chain [1] start processing\n",
      "INFO:cmdstanpy:Chain [2] start processing\n",
      "INFO:cmdstanpy:Chain [3] start processing\n",
      "INFO:cmdstanpy:Chain [4] start processing\n"
     ]
    },
    {
     "name": "stdout",
     "output_type": "stream",
     "text": [
      "Fitting toy MC bin no.328\n",
      "0.9498661800486617\n",
      "411 317\n"
     ]
    },
    {
     "name": "stderr",
     "output_type": "stream",
     "text": [
      "INFO:cmdstanpy:Chain [2] done processing\n",
      "INFO:cmdstanpy:Chain [1] done processing\n",
      "INFO:cmdstanpy:Chain [3] done processing\n",
      "INFO:cmdstanpy:Chain [4] done processing\n",
      "INFO:cmdstanpy:found newer exe file, not recompiling\n",
      "INFO:cmdstanpy:found newer exe file, not recompiling\n",
      "INFO:cmdstanpy:CmdStan start procesing\n",
      "INFO:cmdstanpy:Chain [1] start processing\n",
      "INFO:cmdstanpy:Chain [2] start processing\n",
      "INFO:cmdstanpy:Chain [3] start processing\n",
      "INFO:cmdstanpy:Chain [4] start processing\n"
     ]
    },
    {
     "name": "stdout",
     "output_type": "stream",
     "text": [
      "Fitting toy MC bin no.329\n",
      "0.9499180327868852\n",
      "427 329\n"
     ]
    },
    {
     "name": "stderr",
     "output_type": "stream",
     "text": [
      "INFO:cmdstanpy:Chain [3] done processing\n",
      "INFO:cmdstanpy:Chain [1] done processing\n",
      "INFO:cmdstanpy:Chain [4] done processing\n",
      "INFO:cmdstanpy:Chain [2] done processing\n",
      "INFO:cmdstanpy:found newer exe file, not recompiling\n",
      "INFO:cmdstanpy:found newer exe file, not recompiling\n",
      "INFO:cmdstanpy:CmdStan start procesing\n",
      "INFO:cmdstanpy:Chain [1] start processing\n",
      "INFO:cmdstanpy:Chain [2] start processing\n",
      "INFO:cmdstanpy:Chain [3] start processing\n",
      "INFO:cmdstanpy:Chain [4] start processing\n"
     ]
    },
    {
     "name": "stdout",
     "output_type": "stream",
     "text": [
      "Fitting toy MC bin no.330\n",
      "0.9499746835443038\n",
      "395 304\n"
     ]
    },
    {
     "name": "stderr",
     "output_type": "stream",
     "text": [
      "INFO:cmdstanpy:Chain [2] done processing\n",
      "INFO:cmdstanpy:Chain [1] done processing\n",
      "INFO:cmdstanpy:Chain [3] done processing\n",
      "INFO:cmdstanpy:Chain [4] done processing\n",
      "INFO:cmdstanpy:found newer exe file, not recompiling\n",
      "INFO:cmdstanpy:found newer exe file, not recompiling\n",
      "INFO:cmdstanpy:CmdStan start procesing\n",
      "INFO:cmdstanpy:Chain [1] start processing\n",
      "INFO:cmdstanpy:Chain [2] start processing\n",
      "INFO:cmdstanpy:Chain [3] start processing\n",
      "INFO:cmdstanpy:Chain [4] start processing\n"
     ]
    },
    {
     "name": "stdout",
     "output_type": "stream",
     "text": [
      "Fitting toy MC bin no.331\n",
      "0.9498333333333333\n",
      "390 301\n"
     ]
    },
    {
     "name": "stderr",
     "output_type": "stream",
     "text": [
      "INFO:cmdstanpy:Chain [1] done processing\n",
      "INFO:cmdstanpy:Chain [2] done processing\n",
      "INFO:cmdstanpy:Chain [4] done processing\n",
      "INFO:cmdstanpy:Chain [3] done processing\n",
      "INFO:cmdstanpy:found newer exe file, not recompiling\n",
      "INFO:cmdstanpy:found newer exe file, not recompiling\n",
      "INFO:cmdstanpy:CmdStan start procesing\n",
      "INFO:cmdstanpy:Chain [1] start processing\n",
      "INFO:cmdstanpy:Chain [2] start processing\n",
      "INFO:cmdstanpy:Chain [3] start processing\n",
      "INFO:cmdstanpy:Chain [4] start processing\n"
     ]
    },
    {
     "name": "stdout",
     "output_type": "stream",
     "text": [
      "Fitting toy MC bin no.332\n",
      "0.9498714652956298\n",
      "389 300\n"
     ]
    },
    {
     "name": "stderr",
     "output_type": "stream",
     "text": [
      "INFO:cmdstanpy:Chain [1] done processing\n",
      "INFO:cmdstanpy:Chain [4] done processing\n",
      "INFO:cmdstanpy:Chain [3] done processing\n",
      "INFO:cmdstanpy:Chain [2] done processing\n",
      "INFO:cmdstanpy:found newer exe file, not recompiling\n",
      "INFO:cmdstanpy:found newer exe file, not recompiling\n",
      "INFO:cmdstanpy:CmdStan start procesing\n",
      "INFO:cmdstanpy:Chain [1] start processing\n",
      "INFO:cmdstanpy:Chain [2] start processing\n",
      "INFO:cmdstanpy:Chain [3] start processing\n",
      "INFO:cmdstanpy:Chain [4] start processing\n"
     ]
    },
    {
     "name": "stdout",
     "output_type": "stream",
     "text": [
      "Fitting toy MC bin no.333\n",
      "0.9500000000000001\n",
      "403 310\n"
     ]
    },
    {
     "name": "stderr",
     "output_type": "stream",
     "text": [
      "INFO:cmdstanpy:Chain [2] done processing\n",
      "INFO:cmdstanpy:Chain [4] done processing\n",
      "INFO:cmdstanpy:Chain [3] done processing\n",
      "INFO:cmdstanpy:Chain [1] done processing\n",
      "INFO:cmdstanpy:found newer exe file, not recompiling\n",
      "INFO:cmdstanpy:found newer exe file, not recompiling\n",
      "INFO:cmdstanpy:CmdStan start procesing\n",
      "INFO:cmdstanpy:Chain [1] start processing\n",
      "INFO:cmdstanpy:Chain [2] start processing\n",
      "INFO:cmdstanpy:Chain [3] start processing\n",
      "INFO:cmdstanpy:Chain [4] start processing\n"
     ]
    },
    {
     "name": "stdout",
     "output_type": "stream",
     "text": [
      "Fitting toy MC bin no.334\n",
      "0.9499154589371981\n",
      "414 319\n"
     ]
    },
    {
     "name": "stderr",
     "output_type": "stream",
     "text": [
      "INFO:cmdstanpy:Chain [3] done processing\n",
      "INFO:cmdstanpy:Chain [4] done processing\n",
      "INFO:cmdstanpy:Chain [1] done processing\n",
      "INFO:cmdstanpy:Chain [2] done processing\n",
      "INFO:cmdstanpy:found newer exe file, not recompiling\n",
      "INFO:cmdstanpy:found newer exe file, not recompiling\n",
      "INFO:cmdstanpy:CmdStan start procesing\n",
      "INFO:cmdstanpy:Chain [1] start processing\n",
      "INFO:cmdstanpy:Chain [2] start processing\n",
      "INFO:cmdstanpy:Chain [3] start processing\n",
      "INFO:cmdstanpy:Chain [4] start processing\n"
     ]
    },
    {
     "name": "stdout",
     "output_type": "stream",
     "text": [
      "Fitting toy MC bin no.335\n",
      "0.9498369565217392\n",
      "368 284\n"
     ]
    },
    {
     "name": "stderr",
     "output_type": "stream",
     "text": [
      "INFO:cmdstanpy:Chain [1] done processing\n",
      "INFO:cmdstanpy:Chain [2] done processing\n",
      "INFO:cmdstanpy:Chain [4] done processing\n",
      "INFO:cmdstanpy:Chain [3] done processing\n",
      "INFO:cmdstanpy:found newer exe file, not recompiling\n",
      "INFO:cmdstanpy:found newer exe file, not recompiling\n",
      "INFO:cmdstanpy:CmdStan start procesing\n",
      "INFO:cmdstanpy:Chain [1] start processing\n",
      "INFO:cmdstanpy:Chain [2] start processing\n",
      "INFO:cmdstanpy:Chain [3] start processing\n",
      "INFO:cmdstanpy:Chain [4] start processing\n"
     ]
    },
    {
     "name": "stdout",
     "output_type": "stream",
     "text": [
      "Fitting toy MC bin no.336\n",
      "0.9500977995110024\n",
      "409 314\n"
     ]
    },
    {
     "name": "stderr",
     "output_type": "stream",
     "text": [
      "INFO:cmdstanpy:Chain [4] done processing\n",
      "INFO:cmdstanpy:Chain [3] done processing\n",
      "INFO:cmdstanpy:Chain [2] done processing\n",
      "INFO:cmdstanpy:Chain [1] done processing\n",
      "INFO:cmdstanpy:found newer exe file, not recompiling\n",
      "INFO:cmdstanpy:found newer exe file, not recompiling\n",
      "INFO:cmdstanpy:CmdStan start procesing\n",
      "INFO:cmdstanpy:Chain [1] start processing\n",
      "INFO:cmdstanpy:Chain [2] start processing\n",
      "INFO:cmdstanpy:Chain [3] start processing\n",
      "INFO:cmdstanpy:Chain [4] start processing\n"
     ]
    },
    {
     "name": "stdout",
     "output_type": "stream",
     "text": [
      "Fitting toy MC bin no.337\n",
      "0.9498992443324937\n",
      "397 306\n"
     ]
    },
    {
     "name": "stderr",
     "output_type": "stream",
     "text": [
      "INFO:cmdstanpy:Chain [2] done processing\n",
      "INFO:cmdstanpy:Chain [4] done processing\n",
      "INFO:cmdstanpy:Chain [3] done processing\n",
      "INFO:cmdstanpy:Chain [1] done processing\n",
      "INFO:cmdstanpy:found newer exe file, not recompiling\n",
      "INFO:cmdstanpy:found newer exe file, not recompiling\n",
      "INFO:cmdstanpy:CmdStan start procesing\n",
      "INFO:cmdstanpy:Chain [1] start processing\n",
      "INFO:cmdstanpy:Chain [2] start processing\n",
      "INFO:cmdstanpy:Chain [3] start processing\n",
      "INFO:cmdstanpy:Chain [4] start processing\n"
     ]
    },
    {
     "name": "stdout",
     "output_type": "stream",
     "text": [
      "Fitting toy MC bin no.338\n",
      "0.9499878640776699\n",
      "412 317\n"
     ]
    },
    {
     "name": "stderr",
     "output_type": "stream",
     "text": [
      "INFO:cmdstanpy:Chain [2] done processing\n",
      "INFO:cmdstanpy:Chain [4] done processing\n",
      "INFO:cmdstanpy:Chain [1] done processing\n",
      "INFO:cmdstanpy:Chain [3] done processing\n",
      "INFO:cmdstanpy:found newer exe file, not recompiling\n",
      "INFO:cmdstanpy:found newer exe file, not recompiling\n",
      "INFO:cmdstanpy:CmdStan start procesing\n",
      "INFO:cmdstanpy:Chain [1] start processing\n",
      "INFO:cmdstanpy:Chain [2] start processing\n",
      "INFO:cmdstanpy:Chain [3] start processing\n",
      "INFO:cmdstanpy:Chain [4] start processing\n"
     ]
    },
    {
     "name": "stdout",
     "output_type": "stream",
     "text": [
      "Fitting toy MC bin no.339\n",
      "0.9498019801980199\n",
      "404 312\n"
     ]
    },
    {
     "name": "stderr",
     "output_type": "stream",
     "text": [
      "INFO:cmdstanpy:Chain [2] done processing\n",
      "INFO:cmdstanpy:Chain [1] done processing\n",
      "INFO:cmdstanpy:Chain [3] done processing\n",
      "INFO:cmdstanpy:Chain [4] done processing\n",
      "INFO:cmdstanpy:found newer exe file, not recompiling\n",
      "INFO:cmdstanpy:found newer exe file, not recompiling\n",
      "INFO:cmdstanpy:CmdStan start procesing\n",
      "INFO:cmdstanpy:Chain [1] start processing\n",
      "INFO:cmdstanpy:Chain [2] start processing\n",
      "INFO:cmdstanpy:Chain [3] start processing\n",
      "INFO:cmdstanpy:Chain [4] start processing\n"
     ]
    },
    {
     "name": "stdout",
     "output_type": "stream",
     "text": [
      "Fitting toy MC bin no.340\n",
      "0.9498525798525798\n",
      "407 314\n"
     ]
    },
    {
     "name": "stderr",
     "output_type": "stream",
     "text": [
      "INFO:cmdstanpy:Chain [2] done processing\n",
      "INFO:cmdstanpy:Chain [4] done processing\n",
      "INFO:cmdstanpy:Chain [3] done processing\n",
      "INFO:cmdstanpy:Chain [1] done processing\n",
      "INFO:cmdstanpy:found newer exe file, not recompiling\n",
      "INFO:cmdstanpy:found newer exe file, not recompiling\n",
      "INFO:cmdstanpy:CmdStan start procesing\n",
      "INFO:cmdstanpy:Chain [1] start processing\n",
      "INFO:cmdstanpy:Chain [2] start processing\n",
      "INFO:cmdstanpy:Chain [3] start processing\n",
      "INFO:cmdstanpy:Chain [4] start processing\n"
     ]
    },
    {
     "name": "stdout",
     "output_type": "stream",
     "text": [
      "Fitting toy MC bin no.341\n",
      "0.9500235849056604\n",
      "424 326\n"
     ]
    },
    {
     "name": "stderr",
     "output_type": "stream",
     "text": [
      "INFO:cmdstanpy:Chain [2] done processing\n",
      "INFO:cmdstanpy:Chain [4] done processing\n",
      "INFO:cmdstanpy:Chain [3] done processing\n",
      "INFO:cmdstanpy:Chain [1] done processing\n",
      "INFO:cmdstanpy:found newer exe file, not recompiling\n",
      "INFO:cmdstanpy:found newer exe file, not recompiling\n",
      "INFO:cmdstanpy:CmdStan start procesing\n",
      "INFO:cmdstanpy:Chain [1] start processing\n",
      "INFO:cmdstanpy:Chain [2] start processing\n",
      "INFO:cmdstanpy:Chain [3] start processing\n",
      "INFO:cmdstanpy:Chain [4] start processing\n"
     ]
    },
    {
     "name": "stdout",
     "output_type": "stream",
     "text": [
      "Fitting toy MC bin no.342\n",
      "0.9498387096774195\n",
      "403 311\n"
     ]
    },
    {
     "name": "stderr",
     "output_type": "stream",
     "text": [
      "INFO:cmdstanpy:Chain [1] done processing\n",
      "INFO:cmdstanpy:Chain [3] done processing\n",
      "INFO:cmdstanpy:Chain [4] done processing\n",
      "INFO:cmdstanpy:Chain [2] done processing\n",
      "INFO:cmdstanpy:found newer exe file, not recompiling\n",
      "INFO:cmdstanpy:found newer exe file, not recompiling\n",
      "INFO:cmdstanpy:CmdStan start procesing\n",
      "INFO:cmdstanpy:Chain [1] start processing\n",
      "INFO:cmdstanpy:Chain [2] start processing\n",
      "INFO:cmdstanpy:Chain [3] start processing\n",
      "INFO:cmdstanpy:Chain [4] start processing\n"
     ]
    },
    {
     "name": "stdout",
     "output_type": "stream",
     "text": [
      "Fitting toy MC bin no.343\n",
      "0.949925925925926\n",
      "405 312\n"
     ]
    },
    {
     "name": "stderr",
     "output_type": "stream",
     "text": [
      "INFO:cmdstanpy:Chain [2] done processing\n",
      "INFO:cmdstanpy:Chain [4] done processing\n",
      "INFO:cmdstanpy:Chain [1] done processing\n",
      "INFO:cmdstanpy:Chain [3] done processing\n",
      "INFO:cmdstanpy:found newer exe file, not recompiling\n",
      "INFO:cmdstanpy:found newer exe file, not recompiling\n",
      "INFO:cmdstanpy:CmdStan start procesing\n",
      "INFO:cmdstanpy:Chain [1] start processing\n",
      "INFO:cmdstanpy:Chain [2] start processing\n",
      "INFO:cmdstanpy:Chain [3] start processing\n",
      "INFO:cmdstanpy:Chain [4] start processing\n"
     ]
    },
    {
     "name": "stdout",
     "output_type": "stream",
     "text": [
      "Fitting toy MC bin no.344\n",
      "0.9499628712871288\n",
      "404 311\n"
     ]
    },
    {
     "name": "stderr",
     "output_type": "stream",
     "text": [
      "INFO:cmdstanpy:Chain [1] done processing\n",
      "INFO:cmdstanpy:Chain [3] done processing\n",
      "INFO:cmdstanpy:Chain [4] done processing\n",
      "INFO:cmdstanpy:Chain [2] done processing\n",
      "INFO:cmdstanpy:found newer exe file, not recompiling\n",
      "INFO:cmdstanpy:found newer exe file, not recompiling\n",
      "INFO:cmdstanpy:CmdStan start procesing\n",
      "INFO:cmdstanpy:Chain [1] start processing\n",
      "INFO:cmdstanpy:Chain [2] start processing\n",
      "INFO:cmdstanpy:Chain [3] start processing\n",
      "INFO:cmdstanpy:Chain [4] start processing\n"
     ]
    },
    {
     "name": "stdout",
     "output_type": "stream",
     "text": [
      "Fitting toy MC bin no.345\n",
      "0.9500373134328358\n",
      "402 309\n"
     ]
    },
    {
     "name": "stderr",
     "output_type": "stream",
     "text": [
      "INFO:cmdstanpy:Chain [1] done processing\n",
      "INFO:cmdstanpy:Chain [3] done processing\n",
      "INFO:cmdstanpy:Chain [4] done processing\n",
      "INFO:cmdstanpy:Chain [2] done processing\n",
      "INFO:cmdstanpy:found newer exe file, not recompiling\n",
      "INFO:cmdstanpy:found newer exe file, not recompiling\n",
      "INFO:cmdstanpy:CmdStan start procesing\n",
      "INFO:cmdstanpy:Chain [1] start processing\n",
      "INFO:cmdstanpy:Chain [2] start processing\n",
      "INFO:cmdstanpy:Chain [3] start processing\n",
      "INFO:cmdstanpy:Chain [4] start processing\n"
     ]
    },
    {
     "name": "stdout",
     "output_type": "stream",
     "text": [
      "Fitting toy MC bin no.346\n",
      "0.95\n",
      "377 290\n"
     ]
    },
    {
     "name": "stderr",
     "output_type": "stream",
     "text": [
      "INFO:cmdstanpy:Chain [1] done processing\n",
      "INFO:cmdstanpy:Chain [4] done processing\n",
      "INFO:cmdstanpy:Chain [2] done processing\n",
      "INFO:cmdstanpy:Chain [3] done processing\n",
      "INFO:cmdstanpy:found newer exe file, not recompiling\n",
      "INFO:cmdstanpy:found newer exe file, not recompiling\n",
      "INFO:cmdstanpy:CmdStan start procesing\n",
      "INFO:cmdstanpy:Chain [1] start processing\n",
      "INFO:cmdstanpy:Chain [2] start processing\n",
      "INFO:cmdstanpy:Chain [3] start processing\n",
      "INFO:cmdstanpy:Chain [4] start processing\n"
     ]
    },
    {
     "name": "stdout",
     "output_type": "stream",
     "text": [
      "Fitting toy MC bin no.347\n",
      "0.9499208443271767\n",
      "379 292\n"
     ]
    },
    {
     "name": "stderr",
     "output_type": "stream",
     "text": [
      "INFO:cmdstanpy:Chain [3] done processing\n",
      "INFO:cmdstanpy:Chain [2] done processing\n",
      "INFO:cmdstanpy:Chain [4] done processing\n",
      "INFO:cmdstanpy:Chain [1] done processing\n",
      "INFO:cmdstanpy:found newer exe file, not recompiling\n",
      "INFO:cmdstanpy:found newer exe file, not recompiling\n",
      "INFO:cmdstanpy:CmdStan start procesing\n",
      "INFO:cmdstanpy:Chain [1] start processing\n",
      "INFO:cmdstanpy:Chain [2] start processing\n",
      "INFO:cmdstanpy:Chain [3] start processing\n",
      "INFO:cmdstanpy:Chain [4] start processing\n"
     ]
    },
    {
     "name": "stdout",
     "output_type": "stream",
     "text": [
      "Fitting toy MC bin no.348\n",
      "0.95\n",
      "416 320\n"
     ]
    },
    {
     "name": "stderr",
     "output_type": "stream",
     "text": [
      "INFO:cmdstanpy:Chain [1] done processing\n",
      "INFO:cmdstanpy:Chain [3] done processing\n",
      "INFO:cmdstanpy:Chain [4] done processing\n",
      "INFO:cmdstanpy:Chain [2] done processing\n",
      "INFO:cmdstanpy:found newer exe file, not recompiling\n",
      "INFO:cmdstanpy:found newer exe file, not recompiling\n",
      "INFO:cmdstanpy:CmdStan start procesing\n",
      "INFO:cmdstanpy:Chain [1] start processing\n",
      "INFO:cmdstanpy:Chain [2] start processing\n",
      "INFO:cmdstanpy:Chain [3] start processing\n",
      "INFO:cmdstanpy:Chain [4] start processing\n"
     ]
    },
    {
     "name": "stdout",
     "output_type": "stream",
     "text": [
      "Fitting toy MC bin no.349\n",
      "0.9498926014319808\n",
      "419 323\n"
     ]
    },
    {
     "name": "stderr",
     "output_type": "stream",
     "text": [
      "INFO:cmdstanpy:Chain [1] done processing\n",
      "INFO:cmdstanpy:Chain [3] done processing\n",
      "INFO:cmdstanpy:Chain [2] done processing\n",
      "INFO:cmdstanpy:Chain [4] done processing\n",
      "INFO:cmdstanpy:found newer exe file, not recompiling\n",
      "INFO:cmdstanpy:found newer exe file, not recompiling\n",
      "INFO:cmdstanpy:CmdStan start procesing\n",
      "INFO:cmdstanpy:Chain [1] start processing\n",
      "INFO:cmdstanpy:Chain [2] start processing\n",
      "INFO:cmdstanpy:Chain [3] start processing\n",
      "INFO:cmdstanpy:Chain [4] start processing\n"
     ]
    },
    {
     "name": "stdout",
     "output_type": "stream",
     "text": [
      "Fitting toy MC bin no.350\n",
      "0.9501348039215686\n",
      "408 313\n"
     ]
    },
    {
     "name": "stderr",
     "output_type": "stream",
     "text": [
      "INFO:cmdstanpy:Chain [3] done processing\n",
      "INFO:cmdstanpy:Chain [2] done processing\n",
      "INFO:cmdstanpy:Chain [4] done processing\n",
      "INFO:cmdstanpy:Chain [1] done processing\n",
      "INFO:cmdstanpy:found newer exe file, not recompiling\n",
      "INFO:cmdstanpy:found newer exe file, not recompiling\n",
      "INFO:cmdstanpy:CmdStan start procesing\n",
      "INFO:cmdstanpy:Chain [1] start processing\n",
      "INFO:cmdstanpy:Chain [2] start processing\n",
      "INFO:cmdstanpy:Chain [3] start processing\n",
      "INFO:cmdstanpy:Chain [4] start processing\n"
     ]
    },
    {
     "name": "stdout",
     "output_type": "stream",
     "text": [
      "Fitting toy MC bin no.351\n",
      "0.9499388753056234\n",
      "409 315\n"
     ]
    },
    {
     "name": "stderr",
     "output_type": "stream",
     "text": [
      "INFO:cmdstanpy:Chain [4] done processing\n",
      "INFO:cmdstanpy:Chain [1] done processing\n",
      "INFO:cmdstanpy:Chain [2] done processing\n",
      "INFO:cmdstanpy:Chain [3] done processing\n",
      "INFO:cmdstanpy:found newer exe file, not recompiling\n",
      "INFO:cmdstanpy:found newer exe file, not recompiling\n",
      "INFO:cmdstanpy:CmdStan start procesing\n",
      "INFO:cmdstanpy:Chain [1] start processing\n",
      "INFO:cmdstanpy:Chain [2] start processing\n",
      "INFO:cmdstanpy:Chain [3] start processing\n",
      "INFO:cmdstanpy:Chain [4] start processing\n"
     ]
    },
    {
     "name": "stdout",
     "output_type": "stream",
     "text": [
      "Fitting toy MC bin no.352\n",
      "0.9501010101010101\n",
      "396 304\n"
     ]
    },
    {
     "name": "stderr",
     "output_type": "stream",
     "text": [
      "INFO:cmdstanpy:Chain [1] done processing\n",
      "INFO:cmdstanpy:Chain [4] done processing\n",
      "INFO:cmdstanpy:Chain [2] done processing\n",
      "INFO:cmdstanpy:Chain [3] done processing\n",
      "INFO:cmdstanpy:found newer exe file, not recompiling\n",
      "INFO:cmdstanpy:found newer exe file, not recompiling\n",
      "INFO:cmdstanpy:CmdStan start procesing\n",
      "INFO:cmdstanpy:Chain [1] start processing\n",
      "INFO:cmdstanpy:Chain [2] start processing\n",
      "INFO:cmdstanpy:Chain [3] start processing\n",
      "INFO:cmdstanpy:Chain [4] start processing\n"
     ]
    },
    {
     "name": "stdout",
     "output_type": "stream",
     "text": [
      "Fitting toy MC bin no.353\n",
      "0.9498245614035088\n",
      "399 308\n"
     ]
    },
    {
     "name": "stderr",
     "output_type": "stream",
     "text": [
      "INFO:cmdstanpy:Chain [4] done processing\n",
      "INFO:cmdstanpy:Chain [2] done processing\n",
      "INFO:cmdstanpy:Chain [1] done processing\n",
      "INFO:cmdstanpy:Chain [3] done processing\n",
      "INFO:cmdstanpy:found newer exe file, not recompiling\n",
      "INFO:cmdstanpy:found newer exe file, not recompiling\n",
      "INFO:cmdstanpy:CmdStan start procesing\n",
      "INFO:cmdstanpy:Chain [1] start processing\n",
      "INFO:cmdstanpy:Chain [2] start processing\n",
      "INFO:cmdstanpy:Chain [3] start processing\n",
      "INFO:cmdstanpy:Chain [4] start processing\n"
     ]
    },
    {
     "name": "stdout",
     "output_type": "stream",
     "text": [
      "Fitting toy MC bin no.354\n",
      "0.9499033149171271\n",
      "362 279\n"
     ]
    },
    {
     "name": "stderr",
     "output_type": "stream",
     "text": [
      "INFO:cmdstanpy:Chain [2] done processing\n",
      "INFO:cmdstanpy:Chain [4] done processing\n",
      "INFO:cmdstanpy:Chain [1] done processing\n",
      "INFO:cmdstanpy:Chain [3] done processing\n",
      "INFO:cmdstanpy:found newer exe file, not recompiling\n",
      "INFO:cmdstanpy:found newer exe file, not recompiling\n",
      "INFO:cmdstanpy:CmdStan start procesing\n",
      "INFO:cmdstanpy:Chain [1] start processing\n",
      "INFO:cmdstanpy:Chain [2] start processing\n",
      "INFO:cmdstanpy:Chain [3] start processing\n",
      "INFO:cmdstanpy:Chain [4] start processing\n"
     ]
    },
    {
     "name": "stdout",
     "output_type": "stream",
     "text": [
      "Fitting toy MC bin no.355\n",
      "0.9499368686868687\n",
      "396 305\n"
     ]
    },
    {
     "name": "stderr",
     "output_type": "stream",
     "text": [
      "INFO:cmdstanpy:Chain [1] done processing\n",
      "INFO:cmdstanpy:Chain [4] done processing\n",
      "INFO:cmdstanpy:Chain [3] done processing\n",
      "INFO:cmdstanpy:Chain [2] done processing\n",
      "INFO:cmdstanpy:found newer exe file, not recompiling\n",
      "INFO:cmdstanpy:found newer exe file, not recompiling\n",
      "INFO:cmdstanpy:CmdStan start procesing\n",
      "INFO:cmdstanpy:Chain [1] start processing\n",
      "INFO:cmdstanpy:Chain [2] start processing\n",
      "INFO:cmdstanpy:Chain [3] start processing\n",
      "INFO:cmdstanpy:Chain [4] start processing\n"
     ]
    },
    {
     "name": "stdout",
     "output_type": "stream",
     "text": [
      "Fitting toy MC bin no.356\n",
      "0.9501278772378516\n",
      "391 300\n"
     ]
    },
    {
     "name": "stderr",
     "output_type": "stream",
     "text": [
      "INFO:cmdstanpy:Chain [3] done processing\n",
      "INFO:cmdstanpy:Chain [4] done processing\n",
      "INFO:cmdstanpy:Chain [1] done processing\n",
      "INFO:cmdstanpy:Chain [2] done processing\n",
      "INFO:cmdstanpy:found newer exe file, not recompiling\n",
      "INFO:cmdstanpy:found newer exe file, not recompiling\n",
      "INFO:cmdstanpy:CmdStan start procesing\n",
      "INFO:cmdstanpy:Chain [1] start processing\n",
      "INFO:cmdstanpy:Chain [2] start processing\n",
      "INFO:cmdstanpy:Chain [3] start processing\n",
      "INFO:cmdstanpy:Chain [4] start processing\n"
     ]
    },
    {
     "name": "stdout",
     "output_type": "stream",
     "text": [
      "Fitting toy MC bin no.357\n",
      "0.9498728813559322\n",
      "354 273\n"
     ]
    },
    {
     "name": "stderr",
     "output_type": "stream",
     "text": [
      "INFO:cmdstanpy:Chain [1] done processing\n",
      "INFO:cmdstanpy:Chain [4] done processing\n",
      "INFO:cmdstanpy:Chain [3] done processing\n",
      "INFO:cmdstanpy:Chain [2] done processing\n",
      "INFO:cmdstanpy:found newer exe file, not recompiling\n",
      "INFO:cmdstanpy:found newer exe file, not recompiling\n",
      "INFO:cmdstanpy:CmdStan start procesing\n",
      "INFO:cmdstanpy:Chain [1] start processing\n",
      "INFO:cmdstanpy:Chain [2] start processing\n",
      "INFO:cmdstanpy:Chain [3] start processing\n",
      "INFO:cmdstanpy:Chain [4] start processing\n"
     ]
    },
    {
     "name": "stdout",
     "output_type": "stream",
     "text": [
      "Fitting toy MC bin no.358\n",
      "0.94984375\n",
      "416 321\n"
     ]
    },
    {
     "name": "stderr",
     "output_type": "stream",
     "text": [
      "INFO:cmdstanpy:Chain [2] done processing\n",
      "INFO:cmdstanpy:Chain [1] done processing\n",
      "INFO:cmdstanpy:Chain [4] done processing\n",
      "INFO:cmdstanpy:Chain [3] done processing\n",
      "INFO:cmdstanpy:found newer exe file, not recompiling\n",
      "INFO:cmdstanpy:found newer exe file, not recompiling\n",
      "INFO:cmdstanpy:CmdStan start procesing\n",
      "INFO:cmdstanpy:Chain [1] start processing\n",
      "INFO:cmdstanpy:Chain [2] start processing\n",
      "INFO:cmdstanpy:Chain [3] start processing\n",
      "INFO:cmdstanpy:Chain [4] start processing\n"
     ]
    },
    {
     "name": "stdout",
     "output_type": "stream",
     "text": [
      "Fitting toy MC bin no.359\n",
      "0.9497967479674797\n",
      "369 285\n"
     ]
    },
    {
     "name": "stderr",
     "output_type": "stream",
     "text": [
      "INFO:cmdstanpy:Chain [1] done processing\n",
      "INFO:cmdstanpy:Chain [3] done processing\n",
      "INFO:cmdstanpy:Chain [4] done processing\n",
      "INFO:cmdstanpy:Chain [2] done processing\n",
      "INFO:cmdstanpy:found newer exe file, not recompiling\n",
      "INFO:cmdstanpy:found newer exe file, not recompiling\n",
      "INFO:cmdstanpy:CmdStan start procesing\n",
      "INFO:cmdstanpy:Chain [1] start processing\n",
      "INFO:cmdstanpy:Chain [2] start processing\n",
      "INFO:cmdstanpy:Chain [3] start processing\n",
      "INFO:cmdstanpy:Chain [4] start processing\n"
     ]
    },
    {
     "name": "stdout",
     "output_type": "stream",
     "text": [
      "Fitting toy MC bin no.360\n",
      "0.9498714652956298\n",
      "389 300\n"
     ]
    },
    {
     "name": "stderr",
     "output_type": "stream",
     "text": [
      "INFO:cmdstanpy:Chain [1] done processing\n",
      "INFO:cmdstanpy:Chain [4] done processing\n",
      "INFO:cmdstanpy:Chain [3] done processing\n",
      "INFO:cmdstanpy:Chain [2] done processing\n",
      "INFO:cmdstanpy:found newer exe file, not recompiling\n",
      "INFO:cmdstanpy:found newer exe file, not recompiling\n",
      "INFO:cmdstanpy:CmdStan start procesing\n",
      "INFO:cmdstanpy:Chain [1] start processing\n",
      "INFO:cmdstanpy:Chain [2] start processing\n",
      "INFO:cmdstanpy:Chain [3] start processing\n",
      "INFO:cmdstanpy:Chain [4] start processing\n"
     ]
    },
    {
     "name": "stdout",
     "output_type": "stream",
     "text": [
      "Fitting toy MC bin no.361\n",
      "0.9498333333333333\n",
      "390 301\n"
     ]
    },
    {
     "name": "stderr",
     "output_type": "stream",
     "text": [
      "INFO:cmdstanpy:Chain [3] done processing\n",
      "INFO:cmdstanpy:Chain [2] done processing\n",
      "INFO:cmdstanpy:Chain [4] done processing\n",
      "INFO:cmdstanpy:Chain [1] done processing\n",
      "INFO:cmdstanpy:found newer exe file, not recompiling\n",
      "INFO:cmdstanpy:found newer exe file, not recompiling\n",
      "INFO:cmdstanpy:CmdStan start procesing\n",
      "INFO:cmdstanpy:Chain [1] start processing\n",
      "INFO:cmdstanpy:Chain [2] start processing\n",
      "INFO:cmdstanpy:Chain [3] start processing\n",
      "INFO:cmdstanpy:Chain [4] start processing\n"
     ]
    },
    {
     "name": "stdout",
     "output_type": "stream",
     "text": [
      "Fitting toy MC bin no.362\n",
      "0.9499603174603174\n",
      "378 291\n"
     ]
    },
    {
     "name": "stderr",
     "output_type": "stream",
     "text": [
      "INFO:cmdstanpy:Chain [1] done processing\n",
      "INFO:cmdstanpy:Chain [4] done processing\n",
      "INFO:cmdstanpy:Chain [2] done processing\n",
      "INFO:cmdstanpy:Chain [3] done processing\n",
      "INFO:cmdstanpy:found newer exe file, not recompiling\n",
      "INFO:cmdstanpy:found newer exe file, not recompiling\n",
      "INFO:cmdstanpy:CmdStan start procesing\n",
      "INFO:cmdstanpy:Chain [1] start processing\n",
      "INFO:cmdstanpy:Chain [2] start processing\n",
      "INFO:cmdstanpy:Chain [3] start processing\n",
      "INFO:cmdstanpy:Chain [4] start processing\n"
     ]
    },
    {
     "name": "stdout",
     "output_type": "stream",
     "text": [
      "Fitting toy MC bin no.363\n",
      "0.9498815789473684\n",
      "380 293\n"
     ]
    },
    {
     "name": "stderr",
     "output_type": "stream",
     "text": [
      "INFO:cmdstanpy:Chain [3] done processing\n",
      "INFO:cmdstanpy:Chain [2] done processing\n",
      "INFO:cmdstanpy:Chain [4] done processing\n",
      "INFO:cmdstanpy:Chain [1] done processing\n",
      "INFO:cmdstanpy:found newer exe file, not recompiling\n",
      "INFO:cmdstanpy:found newer exe file, not recompiling\n",
      "INFO:cmdstanpy:CmdStan start procesing\n",
      "INFO:cmdstanpy:Chain [1] start processing\n",
      "INFO:cmdstanpy:Chain [2] start processing\n",
      "INFO:cmdstanpy:Chain [3] start processing\n",
      "INFO:cmdstanpy:Chain [4] start processing\n"
     ]
    },
    {
     "name": "stdout",
     "output_type": "stream",
     "text": [
      "Fitting toy MC bin no.364\n",
      "0.9499368686868687\n",
      "396 305\n"
     ]
    },
    {
     "name": "stderr",
     "output_type": "stream",
     "text": [
      "INFO:cmdstanpy:Chain [3] done processing\n",
      "INFO:cmdstanpy:Chain [1] done processing\n",
      "INFO:cmdstanpy:Chain [4] done processing\n",
      "INFO:cmdstanpy:Chain [2] done processing\n",
      "INFO:cmdstanpy:found newer exe file, not recompiling\n",
      "INFO:cmdstanpy:found newer exe file, not recompiling\n",
      "INFO:cmdstanpy:CmdStan start procesing\n",
      "INFO:cmdstanpy:Chain [1] start processing\n",
      "INFO:cmdstanpy:Chain [2] start processing\n",
      "INFO:cmdstanpy:Chain [3] start processing\n",
      "INFO:cmdstanpy:Chain [4] start processing\n"
     ]
    },
    {
     "name": "stdout",
     "output_type": "stream",
     "text": [
      "Fitting toy MC bin no.365\n",
      "0.9500398936170212\n",
      "376 289\n"
     ]
    },
    {
     "name": "stderr",
     "output_type": "stream",
     "text": [
      "INFO:cmdstanpy:Chain [3] done processing\n",
      "INFO:cmdstanpy:Chain [2] done processing\n",
      "INFO:cmdstanpy:Chain [4] done processing\n",
      "INFO:cmdstanpy:Chain [1] done processing\n",
      "INFO:cmdstanpy:found newer exe file, not recompiling\n",
      "INFO:cmdstanpy:found newer exe file, not recompiling\n",
      "INFO:cmdstanpy:CmdStan start procesing\n",
      "INFO:cmdstanpy:Chain [1] start processing\n",
      "INFO:cmdstanpy:Chain [2] start processing\n",
      "INFO:cmdstanpy:Chain [3] start processing\n",
      "INFO:cmdstanpy:Chain [4] start processing\n"
     ]
    },
    {
     "name": "stdout",
     "output_type": "stream",
     "text": [
      "Fitting toy MC bin no.366\n",
      "0.9499273255813953\n",
      "344 265\n"
     ]
    },
    {
     "name": "stderr",
     "output_type": "stream",
     "text": [
      "INFO:cmdstanpy:Chain [1] done processing\n",
      "INFO:cmdstanpy:Chain [2] done processing\n",
      "INFO:cmdstanpy:Chain [3] done processing\n",
      "INFO:cmdstanpy:Chain [4] done processing\n",
      "INFO:cmdstanpy:found newer exe file, not recompiling\n",
      "INFO:cmdstanpy:found newer exe file, not recompiling\n",
      "INFO:cmdstanpy:CmdStan start procesing\n",
      "INFO:cmdstanpy:Chain [1] start processing\n",
      "INFO:cmdstanpy:Chain [2] start processing\n",
      "INFO:cmdstanpy:Chain [3] start processing\n",
      "INFO:cmdstanpy:Chain [4] start processing\n"
     ]
    },
    {
     "name": "stdout",
     "output_type": "stream",
     "text": [
      "Fitting toy MC bin no.367\n",
      "0.9499754901960784\n",
      "408 314\n"
     ]
    },
    {
     "name": "stderr",
     "output_type": "stream",
     "text": [
      "INFO:cmdstanpy:Chain [2] done processing\n",
      "INFO:cmdstanpy:Chain [3] done processing\n",
      "INFO:cmdstanpy:Chain [1] done processing\n",
      "INFO:cmdstanpy:Chain [4] done processing\n",
      "INFO:cmdstanpy:found newer exe file, not recompiling\n",
      "INFO:cmdstanpy:found newer exe file, not recompiling\n",
      "INFO:cmdstanpy:CmdStan start procesing\n",
      "INFO:cmdstanpy:Chain [1] start processing\n",
      "INFO:cmdstanpy:Chain [2] start processing\n",
      "INFO:cmdstanpy:Chain [3] start processing\n",
      "INFO:cmdstanpy:Chain [4] start processing\n"
     ]
    },
    {
     "name": "stdout",
     "output_type": "stream",
     "text": [
      "Fitting toy MC bin no.368\n",
      "0.9499054373522459\n",
      "423 326\n"
     ]
    },
    {
     "name": "stderr",
     "output_type": "stream",
     "text": [
      "INFO:cmdstanpy:Chain [4] done processing\n",
      "INFO:cmdstanpy:Chain [3] done processing\n",
      "INFO:cmdstanpy:Chain [2] done processing\n",
      "INFO:cmdstanpy:Chain [1] done processing\n",
      "INFO:cmdstanpy:found newer exe file, not recompiling\n",
      "INFO:cmdstanpy:found newer exe file, not recompiling\n",
      "INFO:cmdstanpy:CmdStan start procesing\n",
      "INFO:cmdstanpy:Chain [1] start processing\n",
      "INFO:cmdstanpy:Chain [2] start processing\n",
      "INFO:cmdstanpy:Chain [3] start processing\n",
      "INFO:cmdstanpy:Chain [4] start processing\n"
     ]
    },
    {
     "name": "stdout",
     "output_type": "stream",
     "text": [
      "Fitting toy MC bin no.369\n",
      "0.9499500000000001\n",
      "400 308\n"
     ]
    },
    {
     "name": "stderr",
     "output_type": "stream",
     "text": [
      "INFO:cmdstanpy:Chain [3] done processing\n",
      "INFO:cmdstanpy:Chain [1] done processing\n",
      "INFO:cmdstanpy:Chain [2] done processing\n",
      "INFO:cmdstanpy:Chain [4] done processing\n",
      "INFO:cmdstanpy:found newer exe file, not recompiling\n",
      "INFO:cmdstanpy:found newer exe file, not recompiling\n",
      "INFO:cmdstanpy:CmdStan start procesing\n",
      "INFO:cmdstanpy:Chain [1] start processing\n",
      "INFO:cmdstanpy:Chain [2] start processing\n",
      "INFO:cmdstanpy:Chain [3] start processing\n",
      "INFO:cmdstanpy:Chain [4] start processing\n"
     ]
    },
    {
     "name": "stdout",
     "output_type": "stream",
     "text": [
      "Fitting toy MC bin no.370\n",
      "0.9498467966573816\n",
      "359 277\n"
     ]
    },
    {
     "name": "stderr",
     "output_type": "stream",
     "text": [
      "INFO:cmdstanpy:Chain [2] done processing\n",
      "INFO:cmdstanpy:Chain [3] done processing\n",
      "INFO:cmdstanpy:Chain [4] done processing\n",
      "INFO:cmdstanpy:Chain [1] done processing\n",
      "INFO:cmdstanpy:found newer exe file, not recompiling\n",
      "INFO:cmdstanpy:found newer exe file, not recompiling\n",
      "INFO:cmdstanpy:CmdStan start procesing\n",
      "INFO:cmdstanpy:Chain [1] start processing\n",
      "INFO:cmdstanpy:Chain [2] start processing\n",
      "INFO:cmdstanpy:Chain [3] start processing\n",
      "INFO:cmdstanpy:Chain [4] start processing\n"
     ]
    },
    {
     "name": "stdout",
     "output_type": "stream",
     "text": [
      "Fitting toy MC bin no.371\n",
      "0.950012285012285\n",
      "407 313\n"
     ]
    },
    {
     "name": "stderr",
     "output_type": "stream",
     "text": [
      "INFO:cmdstanpy:Chain [4] done processing\n",
      "INFO:cmdstanpy:Chain [1] done processing\n",
      "INFO:cmdstanpy:Chain [3] done processing\n",
      "INFO:cmdstanpy:Chain [2] done processing\n",
      "INFO:cmdstanpy:found newer exe file, not recompiling\n",
      "INFO:cmdstanpy:found newer exe file, not recompiling\n",
      "INFO:cmdstanpy:CmdStan start procesing\n",
      "INFO:cmdstanpy:Chain [1] start processing\n",
      "INFO:cmdstanpy:Chain [2] start processing\n",
      "INFO:cmdstanpy:Chain [3] start processing\n",
      "INFO:cmdstanpy:Chain [4] start processing\n"
     ]
    },
    {
     "name": "stdout",
     "output_type": "stream",
     "text": [
      "Fitting toy MC bin no.372\n",
      "0.9499874686716793\n",
      "399 307\n"
     ]
    },
    {
     "name": "stderr",
     "output_type": "stream",
     "text": [
      "INFO:cmdstanpy:Chain [2] done processing\n",
      "INFO:cmdstanpy:Chain [3] done processing\n",
      "INFO:cmdstanpy:Chain [1] done processing\n",
      "INFO:cmdstanpy:Chain [4] done processing\n",
      "INFO:cmdstanpy:found newer exe file, not recompiling\n",
      "INFO:cmdstanpy:found newer exe file, not recompiling\n",
      "INFO:cmdstanpy:CmdStan start procesing\n",
      "INFO:cmdstanpy:Chain [1] start processing\n",
      "INFO:cmdstanpy:Chain [2] start processing\n",
      "INFO:cmdstanpy:Chain [3] start processing\n",
      "INFO:cmdstanpy:Chain [4] start processing\n"
     ]
    },
    {
     "name": "stdout",
     "output_type": "stream",
     "text": [
      "Fitting toy MC bin no.373\n",
      "0.9499180327868852\n",
      "427 329\n"
     ]
    },
    {
     "name": "stderr",
     "output_type": "stream",
     "text": [
      "INFO:cmdstanpy:Chain [3] done processing\n",
      "INFO:cmdstanpy:Chain [2] done processing\n",
      "INFO:cmdstanpy:Chain [1] done processing\n",
      "INFO:cmdstanpy:Chain [4] done processing\n",
      "INFO:cmdstanpy:found newer exe file, not recompiling\n",
      "INFO:cmdstanpy:found newer exe file, not recompiling\n",
      "INFO:cmdstanpy:CmdStan start procesing\n",
      "INFO:cmdstanpy:Chain [1] start processing\n",
      "INFO:cmdstanpy:Chain [2] start processing\n",
      "INFO:cmdstanpy:Chain [3] start processing\n",
      "INFO:cmdstanpy:Chain [4] start processing\n"
     ]
    },
    {
     "name": "stdout",
     "output_type": "stream",
     "text": [
      "Fitting toy MC bin no.374\n",
      "0.9498019801980199\n",
      "404 312\n"
     ]
    },
    {
     "name": "stderr",
     "output_type": "stream",
     "text": [
      "INFO:cmdstanpy:Chain [2] done processing\n",
      "INFO:cmdstanpy:Chain [3] done processing\n",
      "INFO:cmdstanpy:Chain [4] done processing\n",
      "INFO:cmdstanpy:Chain [1] done processing\n",
      "INFO:cmdstanpy:found newer exe file, not recompiling\n",
      "INFO:cmdstanpy:found newer exe file, not recompiling\n",
      "INFO:cmdstanpy:CmdStan start procesing\n",
      "INFO:cmdstanpy:Chain [1] start processing\n",
      "INFO:cmdstanpy:Chain [2] start processing\n",
      "INFO:cmdstanpy:Chain [3] start processing\n",
      "INFO:cmdstanpy:Chain [4] start processing\n"
     ]
    },
    {
     "name": "stdout",
     "output_type": "stream",
     "text": [
      "Fitting toy MC bin no.375\n",
      "0.9498333333333333\n",
      "390 301\n"
     ]
    },
    {
     "name": "stderr",
     "output_type": "stream",
     "text": [
      "INFO:cmdstanpy:Chain [3] done processing\n",
      "INFO:cmdstanpy:Chain [1] done processing\n",
      "INFO:cmdstanpy:Chain [4] done processing\n",
      "INFO:cmdstanpy:Chain [2] done processing\n",
      "INFO:cmdstanpy:found newer exe file, not recompiling\n",
      "INFO:cmdstanpy:found newer exe file, not recompiling\n",
      "INFO:cmdstanpy:CmdStan start procesing\n",
      "INFO:cmdstanpy:Chain [1] start processing\n",
      "INFO:cmdstanpy:Chain [2] start processing\n",
      "INFO:cmdstanpy:Chain [3] start processing\n",
      "INFO:cmdstanpy:Chain [4] start processing\n"
     ]
    },
    {
     "name": "stdout",
     "output_type": "stream",
     "text": [
      "Fitting toy MC bin no.376\n",
      "0.9499483204134367\n",
      "387 298\n"
     ]
    },
    {
     "name": "stderr",
     "output_type": "stream",
     "text": [
      "INFO:cmdstanpy:Chain [4] done processing\n",
      "INFO:cmdstanpy:Chain [2] done processing\n",
      "INFO:cmdstanpy:Chain [1] done processing\n",
      "INFO:cmdstanpy:Chain [3] done processing\n",
      "INFO:cmdstanpy:found newer exe file, not recompiling\n",
      "INFO:cmdstanpy:found newer exe file, not recompiling\n",
      "INFO:cmdstanpy:CmdStan start procesing\n",
      "INFO:cmdstanpy:Chain [1] start processing\n",
      "INFO:cmdstanpy:Chain [2] start processing\n",
      "INFO:cmdstanpy:Chain [3] start processing\n",
      "INFO:cmdstanpy:Chain [4] start processing\n"
     ]
    },
    {
     "name": "stdout",
     "output_type": "stream",
     "text": [
      "Fitting toy MC bin no.377\n",
      "0.9498795180722891\n",
      "415 320\n"
     ]
    },
    {
     "name": "stderr",
     "output_type": "stream",
     "text": [
      "INFO:cmdstanpy:Chain [4] done processing\n",
      "INFO:cmdstanpy:Chain [3] done processing\n",
      "INFO:cmdstanpy:Chain [2] done processing\n",
      "INFO:cmdstanpy:Chain [1] done processing\n",
      "INFO:cmdstanpy:found newer exe file, not recompiling\n",
      "INFO:cmdstanpy:found newer exe file, not recompiling\n",
      "INFO:cmdstanpy:CmdStan start procesing\n",
      "INFO:cmdstanpy:Chain [1] start processing\n",
      "INFO:cmdstanpy:Chain [2] start processing\n",
      "INFO:cmdstanpy:Chain [3] start processing\n",
      "INFO:cmdstanpy:Chain [4] start processing\n"
     ]
    },
    {
     "name": "stdout",
     "output_type": "stream",
     "text": [
      "Fitting toy MC bin no.378\n",
      "0.9497654320987654\n",
      "405 313\n"
     ]
    },
    {
     "name": "stderr",
     "output_type": "stream",
     "text": [
      "INFO:cmdstanpy:Chain [3] done processing\n",
      "INFO:cmdstanpy:Chain [4] done processing\n",
      "INFO:cmdstanpy:Chain [1] done processing\n",
      "INFO:cmdstanpy:Chain [2] done processing\n",
      "INFO:cmdstanpy:found newer exe file, not recompiling\n",
      "INFO:cmdstanpy:found newer exe file, not recompiling\n",
      "INFO:cmdstanpy:CmdStan start procesing\n",
      "INFO:cmdstanpy:Chain [1] start processing\n",
      "INFO:cmdstanpy:Chain [2] start processing\n",
      "INFO:cmdstanpy:Chain [3] start processing\n",
      "INFO:cmdstanpy:Chain [4] start processing\n"
     ]
    },
    {
     "name": "stdout",
     "output_type": "stream",
     "text": [
      "Fitting toy MC bin no.379\n",
      "0.9498815789473684\n",
      "380 293\n"
     ]
    },
    {
     "name": "stderr",
     "output_type": "stream",
     "text": [
      "INFO:cmdstanpy:Chain [4] done processing\n",
      "INFO:cmdstanpy:Chain [1] done processing\n",
      "INFO:cmdstanpy:Chain [3] done processing\n",
      "INFO:cmdstanpy:Chain [2] done processing\n",
      "INFO:cmdstanpy:found newer exe file, not recompiling\n",
      "INFO:cmdstanpy:found newer exe file, not recompiling\n",
      "INFO:cmdstanpy:CmdStan start procesing\n",
      "INFO:cmdstanpy:Chain [1] start processing\n",
      "INFO:cmdstanpy:Chain [2] start processing\n",
      "INFO:cmdstanpy:Chain [3] start processing\n",
      "INFO:cmdstanpy:Chain [4] start processing\n"
     ]
    },
    {
     "name": "stdout",
     "output_type": "stream",
     "text": [
      "Fitting toy MC bin no.380\n",
      "0.9498815789473684\n",
      "380 293\n"
     ]
    },
    {
     "name": "stderr",
     "output_type": "stream",
     "text": [
      "INFO:cmdstanpy:Chain [2] done processing\n",
      "INFO:cmdstanpy:Chain [4] done processing\n",
      "INFO:cmdstanpy:Chain [3] done processing\n",
      "INFO:cmdstanpy:Chain [1] done processing\n",
      "INFO:cmdstanpy:found newer exe file, not recompiling\n",
      "INFO:cmdstanpy:found newer exe file, not recompiling\n",
      "INFO:cmdstanpy:CmdStan start procesing\n",
      "INFO:cmdstanpy:Chain [1] start processing\n",
      "INFO:cmdstanpy:Chain [2] start processing\n",
      "INFO:cmdstanpy:Chain [3] start processing\n",
      "INFO:cmdstanpy:Chain [4] start processing\n"
     ]
    },
    {
     "name": "stdout",
     "output_type": "stream",
     "text": [
      "Fitting toy MC bin no.381\n",
      "0.9498161764705881\n",
      "408 315\n"
     ]
    },
    {
     "name": "stderr",
     "output_type": "stream",
     "text": [
      "INFO:cmdstanpy:Chain [1] done processing\n",
      "INFO:cmdstanpy:Chain [2] done processing\n",
      "INFO:cmdstanpy:Chain [4] done processing\n",
      "INFO:cmdstanpy:Chain [3] done processing\n",
      "INFO:cmdstanpy:found newer exe file, not recompiling\n",
      "INFO:cmdstanpy:found newer exe file, not recompiling\n",
      "INFO:cmdstanpy:CmdStan start procesing\n",
      "INFO:cmdstanpy:Chain [1] start processing\n",
      "INFO:cmdstanpy:Chain [2] start processing\n",
      "INFO:cmdstanpy:Chain [3] start processing\n",
      "INFO:cmdstanpy:Chain [4] start processing\n"
     ]
    },
    {
     "name": "stdout",
     "output_type": "stream",
     "text": [
      "Fitting toy MC bin no.382\n",
      "0.949925925925926\n",
      "405 312\n"
     ]
    },
    {
     "name": "stderr",
     "output_type": "stream",
     "text": [
      "INFO:cmdstanpy:Chain [4] done processing\n",
      "INFO:cmdstanpy:Chain [2] done processing\n",
      "INFO:cmdstanpy:Chain [1] done processing\n",
      "INFO:cmdstanpy:Chain [3] done processing\n",
      "INFO:cmdstanpy:found newer exe file, not recompiling\n",
      "INFO:cmdstanpy:found newer exe file, not recompiling\n",
      "INFO:cmdstanpy:CmdStan start procesing\n",
      "INFO:cmdstanpy:Chain [1] start processing\n",
      "INFO:cmdstanpy:Chain [2] start processing\n",
      "INFO:cmdstanpy:Chain [3] start processing\n",
      "INFO:cmdstanpy:Chain [4] start processing\n"
     ]
    },
    {
     "name": "stdout",
     "output_type": "stream",
     "text": [
      "Fitting toy MC bin no.383\n",
      "0.9499616368286445\n",
      "391 301\n"
     ]
    },
    {
     "name": "stderr",
     "output_type": "stream",
     "text": [
      "INFO:cmdstanpy:Chain [1] done processing\n",
      "INFO:cmdstanpy:Chain [2] done processing\n",
      "INFO:cmdstanpy:Chain [3] done processing\n",
      "INFO:cmdstanpy:Chain [4] done processing\n",
      "INFO:cmdstanpy:found newer exe file, not recompiling\n",
      "INFO:cmdstanpy:found newer exe file, not recompiling\n",
      "INFO:cmdstanpy:CmdStan start procesing\n",
      "INFO:cmdstanpy:Chain [1] start processing\n",
      "INFO:cmdstanpy:Chain [2] start processing\n",
      "INFO:cmdstanpy:Chain [3] start processing\n",
      "INFO:cmdstanpy:Chain [4] start processing\n"
     ]
    },
    {
     "name": "stdout",
     "output_type": "stream",
     "text": [
      "Fitting toy MC bin no.384\n",
      "0.9498958333333333\n",
      "384 296\n"
     ]
    },
    {
     "name": "stderr",
     "output_type": "stream",
     "text": [
      "INFO:cmdstanpy:Chain [1] done processing\n",
      "INFO:cmdstanpy:Chain [2] done processing\n",
      "INFO:cmdstanpy:Chain [4] done processing\n",
      "INFO:cmdstanpy:Chain [3] done processing\n",
      "INFO:cmdstanpy:found newer exe file, not recompiling\n",
      "INFO:cmdstanpy:found newer exe file, not recompiling\n",
      "INFO:cmdstanpy:CmdStan start procesing\n",
      "INFO:cmdstanpy:Chain [1] start processing\n",
      "INFO:cmdstanpy:Chain [2] start processing\n",
      "INFO:cmdstanpy:Chain [3] start processing\n",
      "INFO:cmdstanpy:Chain [4] start processing\n"
     ]
    },
    {
     "name": "stdout",
     "output_type": "stream",
     "text": [
      "Fitting toy MC bin no.385\n",
      "0.9497576530612245\n",
      "392 303\n"
     ]
    },
    {
     "name": "stderr",
     "output_type": "stream",
     "text": [
      "INFO:cmdstanpy:Chain [1] done processing\n",
      "INFO:cmdstanpy:Chain [4] done processing\n",
      "INFO:cmdstanpy:Chain [2] done processing\n",
      "INFO:cmdstanpy:Chain [3] done processing\n",
      "INFO:cmdstanpy:found newer exe file, not recompiling\n",
      "INFO:cmdstanpy:found newer exe file, not recompiling\n",
      "INFO:cmdstanpy:CmdStan start procesing\n",
      "INFO:cmdstanpy:Chain [1] start processing\n",
      "INFO:cmdstanpy:Chain [2] start processing\n",
      "INFO:cmdstanpy:Chain [3] start processing\n",
      "INFO:cmdstanpy:Chain [4] start processing\n"
     ]
    },
    {
     "name": "stdout",
     "output_type": "stream",
     "text": [
      "Fitting toy MC bin no.386\n",
      "0.9498854961832062\n",
      "393 303\n"
     ]
    },
    {
     "name": "stderr",
     "output_type": "stream",
     "text": [
      "INFO:cmdstanpy:Chain [1] done processing\n",
      "INFO:cmdstanpy:Chain [2] done processing\n",
      "INFO:cmdstanpy:Chain [3] done processing\n",
      "INFO:cmdstanpy:Chain [4] done processing\n",
      "INFO:cmdstanpy:found newer exe file, not recompiling\n",
      "INFO:cmdstanpy:found newer exe file, not recompiling\n",
      "INFO:cmdstanpy:CmdStan start procesing\n",
      "INFO:cmdstanpy:Chain [1] start processing\n",
      "INFO:cmdstanpy:Chain [2] start processing\n",
      "INFO:cmdstanpy:Chain [3] start processing\n",
      "INFO:cmdstanpy:Chain [4] start processing\n"
     ]
    },
    {
     "name": "stdout",
     "output_type": "stream",
     "text": [
      "Fitting toy MC bin no.387\n",
      "0.9499299719887955\n",
      "357 275\n"
     ]
    },
    {
     "name": "stderr",
     "output_type": "stream",
     "text": [
      "INFO:cmdstanpy:Chain [3] done processing\n",
      "INFO:cmdstanpy:Chain [1] done processing\n",
      "INFO:cmdstanpy:Chain [4] done processing\n",
      "INFO:cmdstanpy:Chain [2] done processing\n",
      "INFO:cmdstanpy:found newer exe file, not recompiling\n",
      "INFO:cmdstanpy:found newer exe file, not recompiling\n",
      "INFO:cmdstanpy:CmdStan start procesing\n",
      "INFO:cmdstanpy:Chain [1] start processing\n",
      "INFO:cmdstanpy:Chain [2] start processing\n",
      "INFO:cmdstanpy:Chain [3] start processing\n",
      "INFO:cmdstanpy:Chain [4] start processing\n"
     ]
    },
    {
     "name": "stdout",
     "output_type": "stream",
     "text": [
      "Fitting toy MC bin no.388\n",
      "0.9500492610837439\n",
      "406 312\n"
     ]
    },
    {
     "name": "stderr",
     "output_type": "stream",
     "text": [
      "INFO:cmdstanpy:Chain [3] done processing\n",
      "INFO:cmdstanpy:Chain [1] done processing\n",
      "INFO:cmdstanpy:Chain [2] done processing\n",
      "INFO:cmdstanpy:Chain [4] done processing\n",
      "INFO:cmdstanpy:found newer exe file, not recompiling\n",
      "INFO:cmdstanpy:found newer exe file, not recompiling\n",
      "INFO:cmdstanpy:CmdStan start procesing\n",
      "INFO:cmdstanpy:Chain [1] start processing\n",
      "INFO:cmdstanpy:Chain [2] start processing\n",
      "INFO:cmdstanpy:Chain [3] start processing\n",
      "INFO:cmdstanpy:Chain [4] start processing\n"
     ]
    },
    {
     "name": "stdout",
     "output_type": "stream",
     "text": [
      "Fitting toy MC bin no.389\n",
      "0.9499024390243902\n",
      "410 316\n"
     ]
    },
    {
     "name": "stderr",
     "output_type": "stream",
     "text": [
      "INFO:cmdstanpy:Chain [3] done processing\n",
      "INFO:cmdstanpy:Chain [2] done processing\n",
      "INFO:cmdstanpy:Chain [1] done processing\n",
      "INFO:cmdstanpy:Chain [4] done processing\n",
      "INFO:cmdstanpy:found newer exe file, not recompiling\n",
      "INFO:cmdstanpy:found newer exe file, not recompiling\n",
      "INFO:cmdstanpy:CmdStan start procesing\n",
      "INFO:cmdstanpy:Chain [1] start processing\n",
      "INFO:cmdstanpy:Chain [2] start processing\n",
      "INFO:cmdstanpy:Chain [3] start processing\n",
      "INFO:cmdstanpy:Chain [4] start processing\n"
     ]
    },
    {
     "name": "stdout",
     "output_type": "stream",
     "text": [
      "Fitting toy MC bin no.390\n",
      "0.9498756218905473\n",
      "402 310\n"
     ]
    },
    {
     "name": "stderr",
     "output_type": "stream",
     "text": [
      "INFO:cmdstanpy:Chain [2] done processing\n",
      "INFO:cmdstanpy:Chain [3] done processing\n",
      "INFO:cmdstanpy:Chain [1] done processing\n",
      "INFO:cmdstanpy:Chain [4] done processing\n",
      "INFO:cmdstanpy:found newer exe file, not recompiling\n",
      "INFO:cmdstanpy:found newer exe file, not recompiling\n",
      "INFO:cmdstanpy:CmdStan start procesing\n",
      "INFO:cmdstanpy:Chain [1] start processing\n",
      "INFO:cmdstanpy:Chain [2] start processing\n",
      "INFO:cmdstanpy:Chain [3] start processing\n",
      "INFO:cmdstanpy:Chain [4] start processing\n"
     ]
    },
    {
     "name": "stdout",
     "output_type": "stream",
     "text": [
      "Fitting toy MC bin no.391\n",
      "0.949925925925926\n",
      "405 312\n"
     ]
    },
    {
     "name": "stderr",
     "output_type": "stream",
     "text": [
      "INFO:cmdstanpy:Chain [3] done processing\n",
      "INFO:cmdstanpy:Chain [4] done processing\n",
      "INFO:cmdstanpy:Chain [2] done processing\n",
      "INFO:cmdstanpy:Chain [1] done processing\n",
      "INFO:cmdstanpy:found newer exe file, not recompiling\n",
      "INFO:cmdstanpy:found newer exe file, not recompiling\n",
      "INFO:cmdstanpy:CmdStan start procesing\n",
      "INFO:cmdstanpy:Chain [1] start processing\n",
      "INFO:cmdstanpy:Chain [2] start processing\n",
      "INFO:cmdstanpy:Chain [3] start processing\n",
      "INFO:cmdstanpy:Chain [4] start processing\n"
     ]
    },
    {
     "name": "stdout",
     "output_type": "stream",
     "text": [
      "Fitting toy MC bin no.392\n",
      "0.9499515738498789\n",
      "413 318\n"
     ]
    },
    {
     "name": "stderr",
     "output_type": "stream",
     "text": [
      "INFO:cmdstanpy:Chain [3] done processing\n",
      "INFO:cmdstanpy:Chain [2] done processing\n",
      "INFO:cmdstanpy:Chain [4] done processing\n",
      "INFO:cmdstanpy:Chain [1] done processing\n",
      "INFO:cmdstanpy:found newer exe file, not recompiling\n",
      "INFO:cmdstanpy:found newer exe file, not recompiling\n",
      "INFO:cmdstanpy:CmdStan start procesing\n",
      "INFO:cmdstanpy:Chain [1] start processing\n",
      "INFO:cmdstanpy:Chain [2] start processing\n",
      "INFO:cmdstanpy:Chain [3] start processing\n",
      "INFO:cmdstanpy:Chain [4] start processing\n"
     ]
    },
    {
     "name": "stdout",
     "output_type": "stream",
     "text": [
      "Fitting toy MC bin no.393\n",
      "0.9498670212765957\n",
      "376 290\n"
     ]
    },
    {
     "name": "stderr",
     "output_type": "stream",
     "text": [
      "INFO:cmdstanpy:Chain [3] done processing\n",
      "INFO:cmdstanpy:Chain [2] done processing\n",
      "INFO:cmdstanpy:Chain [4] done processing\n",
      "INFO:cmdstanpy:Chain [1] done processing\n",
      "INFO:cmdstanpy:found newer exe file, not recompiling\n",
      "INFO:cmdstanpy:found newer exe file, not recompiling\n",
      "INFO:cmdstanpy:CmdStan start procesing\n",
      "INFO:cmdstanpy:Chain [1] start processing\n",
      "INFO:cmdstanpy:Chain [2] start processing\n",
      "INFO:cmdstanpy:Chain [3] start processing\n",
      "INFO:cmdstanpy:Chain [4] start processing\n"
     ]
    },
    {
     "name": "stdout",
     "output_type": "stream",
     "text": [
      "Fitting toy MC bin no.394\n",
      "0.9498387096774195\n",
      "403 311\n"
     ]
    },
    {
     "name": "stderr",
     "output_type": "stream",
     "text": [
      "INFO:cmdstanpy:Chain [2] done processing\n",
      "INFO:cmdstanpy:Chain [4] done processing\n",
      "INFO:cmdstanpy:Chain [1] done processing\n",
      "INFO:cmdstanpy:Chain [3] done processing\n",
      "INFO:cmdstanpy:found newer exe file, not recompiling\n",
      "INFO:cmdstanpy:found newer exe file, not recompiling\n",
      "INFO:cmdstanpy:CmdStan start procesing\n",
      "INFO:cmdstanpy:Chain [1] start processing\n",
      "INFO:cmdstanpy:Chain [2] start processing\n",
      "INFO:cmdstanpy:Chain [3] start processing\n",
      "INFO:cmdstanpy:Chain [4] start processing\n"
     ]
    },
    {
     "name": "stdout",
     "output_type": "stream",
     "text": [
      "Fitting toy MC bin no.395\n",
      "0.9499754901960784\n",
      "408 314\n"
     ]
    },
    {
     "name": "stderr",
     "output_type": "stream",
     "text": [
      "INFO:cmdstanpy:Chain [4] done processing\n",
      "INFO:cmdstanpy:Chain [2] done processing\n",
      "INFO:cmdstanpy:Chain [3] done processing\n",
      "INFO:cmdstanpy:Chain [1] done processing\n",
      "INFO:cmdstanpy:found newer exe file, not recompiling\n",
      "INFO:cmdstanpy:found newer exe file, not recompiling\n",
      "INFO:cmdstanpy:CmdStan start procesing\n",
      "INFO:cmdstanpy:Chain [1] start processing\n",
      "INFO:cmdstanpy:Chain [2] start processing\n",
      "INFO:cmdstanpy:Chain [3] start processing\n",
      "INFO:cmdstanpy:Chain [4] start processing\n"
     ]
    },
    {
     "name": "stdout",
     "output_type": "stream",
     "text": [
      "Fitting toy MC bin no.396\n",
      "0.9500629722921915\n",
      "397 305\n"
     ]
    },
    {
     "name": "stderr",
     "output_type": "stream",
     "text": [
      "INFO:cmdstanpy:Chain [3] done processing\n",
      "INFO:cmdstanpy:Chain [1] done processing\n",
      "INFO:cmdstanpy:Chain [2] done processing\n",
      "INFO:cmdstanpy:Chain [4] done processing\n",
      "INFO:cmdstanpy:found newer exe file, not recompiling\n",
      "INFO:cmdstanpy:found newer exe file, not recompiling\n",
      "INFO:cmdstanpy:CmdStan start procesing\n",
      "INFO:cmdstanpy:Chain [1] start processing\n",
      "INFO:cmdstanpy:Chain [2] start processing\n",
      "INFO:cmdstanpy:Chain [3] start processing\n",
      "INFO:cmdstanpy:Chain [4] start processing\n"
     ]
    },
    {
     "name": "stdout",
     "output_type": "stream",
     "text": [
      "Fitting toy MC bin no.397\n",
      "0.9498333333333333\n",
      "390 301\n"
     ]
    },
    {
     "name": "stderr",
     "output_type": "stream",
     "text": [
      "INFO:cmdstanpy:Chain [1] done processing\n",
      "INFO:cmdstanpy:Chain [4] done processing\n",
      "INFO:cmdstanpy:Chain [3] done processing\n",
      "INFO:cmdstanpy:Chain [2] done processing\n",
      "INFO:cmdstanpy:found newer exe file, not recompiling\n",
      "INFO:cmdstanpy:found newer exe file, not recompiling\n",
      "INFO:cmdstanpy:CmdStan start procesing\n",
      "INFO:cmdstanpy:Chain [1] start processing\n",
      "INFO:cmdstanpy:Chain [2] start processing\n",
      "INFO:cmdstanpy:Chain [3] start processing\n",
      "INFO:cmdstanpy:Chain [4] start processing\n"
     ]
    },
    {
     "name": "stdout",
     "output_type": "stream",
     "text": [
      "Fitting toy MC bin no.398\n",
      "0.9499024390243902\n",
      "410 316\n"
     ]
    },
    {
     "name": "stderr",
     "output_type": "stream",
     "text": [
      "INFO:cmdstanpy:Chain [2] done processing\n",
      "INFO:cmdstanpy:Chain [3] done processing\n",
      "INFO:cmdstanpy:Chain [4] done processing\n",
      "INFO:cmdstanpy:Chain [1] done processing\n",
      "INFO:cmdstanpy:found newer exe file, not recompiling\n",
      "INFO:cmdstanpy:found newer exe file, not recompiling\n",
      "INFO:cmdstanpy:CmdStan start procesing\n",
      "INFO:cmdstanpy:Chain [1] start processing\n",
      "INFO:cmdstanpy:Chain [2] start processing\n",
      "INFO:cmdstanpy:Chain [3] start processing\n",
      "INFO:cmdstanpy:Chain [4] start processing\n"
     ]
    },
    {
     "name": "stdout",
     "output_type": "stream",
     "text": [
      "Fitting toy MC bin no.399\n",
      "0.9498186528497409\n",
      "386 298\n"
     ]
    },
    {
     "name": "stderr",
     "output_type": "stream",
     "text": [
      "INFO:cmdstanpy:Chain [3] done processing\n",
      "INFO:cmdstanpy:Chain [2] done processing\n",
      "INFO:cmdstanpy:Chain [4] done processing\n",
      "INFO:cmdstanpy:Chain [1] done processing\n",
      "INFO:cmdstanpy:found newer exe file, not recompiling\n",
      "INFO:cmdstanpy:found newer exe file, not recompiling\n",
      "INFO:cmdstanpy:CmdStan start procesing\n",
      "INFO:cmdstanpy:Chain [1] start processing\n",
      "INFO:cmdstanpy:Chain [2] start processing\n",
      "INFO:cmdstanpy:Chain [3] start processing\n",
      "INFO:cmdstanpy:Chain [4] start processing\n"
     ]
    },
    {
     "name": "stdout",
     "output_type": "stream",
     "text": [
      "Fitting toy MC bin no.400\n",
      "0.9499870466321243\n",
      "386 297\n"
     ]
    },
    {
     "name": "stderr",
     "output_type": "stream",
     "text": [
      "INFO:cmdstanpy:Chain [2] done processing\n",
      "INFO:cmdstanpy:Chain [3] done processing\n",
      "INFO:cmdstanpy:Chain [4] done processing\n",
      "INFO:cmdstanpy:Chain [1] done processing\n",
      "INFO:cmdstanpy:found newer exe file, not recompiling\n",
      "INFO:cmdstanpy:found newer exe file, not recompiling\n",
      "INFO:cmdstanpy:CmdStan start procesing\n",
      "INFO:cmdstanpy:Chain [1] start processing\n",
      "INFO:cmdstanpy:Chain [2] start processing\n",
      "INFO:cmdstanpy:Chain [3] start processing\n",
      "INFO:cmdstanpy:Chain [4] start processing\n"
     ]
    },
    {
     "name": "stdout",
     "output_type": "stream",
     "text": [
      "Fitting toy MC bin no.401\n",
      "0.9498815789473684\n",
      "380 293\n"
     ]
    },
    {
     "name": "stderr",
     "output_type": "stream",
     "text": [
      "INFO:cmdstanpy:Chain [3] done processing\n",
      "INFO:cmdstanpy:Chain [2] done processing\n",
      "INFO:cmdstanpy:Chain [4] done processing\n",
      "INFO:cmdstanpy:Chain [1] done processing\n",
      "INFO:cmdstanpy:found newer exe file, not recompiling\n",
      "INFO:cmdstanpy:found newer exe file, not recompiling\n",
      "INFO:cmdstanpy:CmdStan start procesing\n",
      "INFO:cmdstanpy:Chain [1] start processing\n",
      "INFO:cmdstanpy:Chain [2] start processing\n",
      "INFO:cmdstanpy:Chain [3] start processing\n",
      "INFO:cmdstanpy:Chain [4] start processing\n"
     ]
    },
    {
     "name": "stdout",
     "output_type": "stream",
     "text": [
      "Fitting toy MC bin no.402\n",
      "0.9499746835443038\n",
      "395 304\n"
     ]
    },
    {
     "name": "stderr",
     "output_type": "stream",
     "text": [
      "INFO:cmdstanpy:Chain [3] done processing\n",
      "INFO:cmdstanpy:Chain [2] done processing\n",
      "INFO:cmdstanpy:Chain [1] done processing\n",
      "INFO:cmdstanpy:Chain [4] done processing\n",
      "INFO:cmdstanpy:found newer exe file, not recompiling\n",
      "INFO:cmdstanpy:found newer exe file, not recompiling\n",
      "INFO:cmdstanpy:CmdStan start procesing\n",
      "INFO:cmdstanpy:Chain [1] start processing\n",
      "INFO:cmdstanpy:Chain [2] start processing\n",
      "INFO:cmdstanpy:Chain [3] start processing\n",
      "INFO:cmdstanpy:Chain [4] start processing\n"
     ]
    },
    {
     "name": "stdout",
     "output_type": "stream",
     "text": [
      "Fitting toy MC bin no.403\n",
      "0.9499208443271767\n",
      "379 292\n"
     ]
    },
    {
     "name": "stderr",
     "output_type": "stream",
     "text": [
      "INFO:cmdstanpy:Chain [4] done processing\n",
      "INFO:cmdstanpy:Chain [3] done processing\n",
      "INFO:cmdstanpy:Chain [2] done processing\n",
      "INFO:cmdstanpy:Chain [1] done processing\n",
      "INFO:cmdstanpy:found newer exe file, not recompiling\n",
      "INFO:cmdstanpy:found newer exe file, not recompiling\n",
      "INFO:cmdstanpy:CmdStan start procesing\n",
      "INFO:cmdstanpy:Chain [1] start processing\n",
      "INFO:cmdstanpy:Chain [2] start processing\n",
      "INFO:cmdstanpy:Chain [3] start processing\n",
      "INFO:cmdstanpy:Chain [4] start processing\n"
     ]
    },
    {
     "name": "stdout",
     "output_type": "stream",
     "text": [
      "Fitting toy MC bin no.404\n",
      "0.9500000000000001\n",
      "364 280\n"
     ]
    },
    {
     "name": "stderr",
     "output_type": "stream",
     "text": [
      "INFO:cmdstanpy:Chain [1] done processing\n",
      "INFO:cmdstanpy:Chain [2] done processing\n",
      "INFO:cmdstanpy:Chain [3] done processing\n",
      "INFO:cmdstanpy:Chain [4] done processing\n",
      "INFO:cmdstanpy:found newer exe file, not recompiling\n",
      "INFO:cmdstanpy:found newer exe file, not recompiling\n",
      "INFO:cmdstanpy:CmdStan start procesing\n",
      "INFO:cmdstanpy:Chain [1] start processing\n",
      "INFO:cmdstanpy:Chain [2] start processing\n",
      "INFO:cmdstanpy:Chain [3] start processing\n",
      "INFO:cmdstanpy:Chain [4] start processing\n"
     ]
    },
    {
     "name": "stdout",
     "output_type": "stream",
     "text": [
      "Fitting toy MC bin no.405\n",
      "0.9499878640776699\n",
      "412 317\n"
     ]
    },
    {
     "name": "stderr",
     "output_type": "stream",
     "text": [
      "INFO:cmdstanpy:Chain [4] done processing\n",
      "INFO:cmdstanpy:Chain [2] done processing\n",
      "INFO:cmdstanpy:Chain [3] done processing\n",
      "INFO:cmdstanpy:Chain [1] done processing\n",
      "INFO:cmdstanpy:found newer exe file, not recompiling\n",
      "INFO:cmdstanpy:found newer exe file, not recompiling\n",
      "INFO:cmdstanpy:CmdStan start procesing\n",
      "INFO:cmdstanpy:Chain [1] start processing\n",
      "INFO:cmdstanpy:Chain [2] start processing\n",
      "INFO:cmdstanpy:Chain [3] start processing\n",
      "INFO:cmdstanpy:Chain [4] start processing\n"
     ]
    },
    {
     "name": "stdout",
     "output_type": "stream",
     "text": [
      "Fitting toy MC bin no.406\n",
      "0.9499282296650717\n",
      "418 322\n"
     ]
    },
    {
     "name": "stderr",
     "output_type": "stream",
     "text": [
      "INFO:cmdstanpy:Chain [3] done processing\n",
      "INFO:cmdstanpy:Chain [1] done processing\n",
      "INFO:cmdstanpy:Chain [4] done processing\n",
      "INFO:cmdstanpy:Chain [2] done processing\n",
      "INFO:cmdstanpy:found newer exe file, not recompiling\n",
      "INFO:cmdstanpy:found newer exe file, not recompiling\n",
      "INFO:cmdstanpy:CmdStan start procesing\n",
      "INFO:cmdstanpy:Chain [1] start processing\n",
      "INFO:cmdstanpy:Chain [2] start processing\n",
      "INFO:cmdstanpy:Chain [3] start processing\n",
      "INFO:cmdstanpy:Chain [4] start processing\n"
     ]
    },
    {
     "name": "stdout",
     "output_type": "stream",
     "text": [
      "Fitting toy MC bin no.407\n",
      "0.9499530516431925\n",
      "426 328\n"
     ]
    },
    {
     "name": "stderr",
     "output_type": "stream",
     "text": [
      "INFO:cmdstanpy:Chain [3] done processing\n",
      "INFO:cmdstanpy:Chain [4] done processing\n",
      "INFO:cmdstanpy:Chain [1] done processing\n",
      "INFO:cmdstanpy:Chain [2] done processing\n",
      "INFO:cmdstanpy:found newer exe file, not recompiling\n",
      "INFO:cmdstanpy:found newer exe file, not recompiling\n",
      "INFO:cmdstanpy:CmdStan start procesing\n",
      "INFO:cmdstanpy:Chain [1] start processing\n",
      "INFO:cmdstanpy:Chain [2] start processing\n",
      "INFO:cmdstanpy:Chain [3] start processing\n",
      "INFO:cmdstanpy:Chain [4] start processing\n"
     ]
    },
    {
     "name": "stdout",
     "output_type": "stream",
     "text": [
      "Fitting toy MC bin no.408\n",
      "0.9499628712871288\n",
      "404 311\n"
     ]
    },
    {
     "name": "stderr",
     "output_type": "stream",
     "text": [
      "INFO:cmdstanpy:Chain [3] done processing\n",
      "INFO:cmdstanpy:Chain [1] done processing\n",
      "INFO:cmdstanpy:Chain [4] done processing\n",
      "INFO:cmdstanpy:Chain [2] done processing\n",
      "INFO:cmdstanpy:found newer exe file, not recompiling\n",
      "INFO:cmdstanpy:found newer exe file, not recompiling\n",
      "INFO:cmdstanpy:CmdStan start procesing\n",
      "INFO:cmdstanpy:Chain [1] start processing\n",
      "INFO:cmdstanpy:Chain [2] start processing\n",
      "INFO:cmdstanpy:Chain [3] start processing\n",
      "INFO:cmdstanpy:Chain [4] start processing\n"
     ]
    },
    {
     "name": "stdout",
     "output_type": "stream",
     "text": [
      "Fitting toy MC bin no.409\n",
      "0.9498728813559322\n",
      "354 273\n"
     ]
    },
    {
     "name": "stderr",
     "output_type": "stream",
     "text": [
      "INFO:cmdstanpy:Chain [1] done processing\n",
      "INFO:cmdstanpy:Chain [2] done processing\n",
      "INFO:cmdstanpy:Chain [3] done processing\n",
      "INFO:cmdstanpy:Chain [4] done processing\n",
      "INFO:cmdstanpy:found newer exe file, not recompiling\n",
      "INFO:cmdstanpy:found newer exe file, not recompiling\n",
      "INFO:cmdstanpy:CmdStan start procesing\n",
      "INFO:cmdstanpy:Chain [1] start processing\n",
      "INFO:cmdstanpy:Chain [2] start processing\n",
      "INFO:cmdstanpy:Chain [3] start processing\n",
      "INFO:cmdstanpy:Chain [4] start processing\n"
     ]
    },
    {
     "name": "stdout",
     "output_type": "stream",
     "text": [
      "Fitting toy MC bin no.410\n",
      "0.94984375\n",
      "416 321\n"
     ]
    },
    {
     "name": "stderr",
     "output_type": "stream",
     "text": [
      "INFO:cmdstanpy:Chain [2] done processing\n",
      "INFO:cmdstanpy:Chain [3] done processing\n",
      "INFO:cmdstanpy:Chain [1] done processing\n",
      "INFO:cmdstanpy:Chain [4] done processing\n",
      "INFO:cmdstanpy:found newer exe file, not recompiling\n",
      "INFO:cmdstanpy:found newer exe file, not recompiling\n",
      "INFO:cmdstanpy:CmdStan start procesing\n",
      "INFO:cmdstanpy:Chain [1] start processing\n",
      "INFO:cmdstanpy:Chain [2] start processing\n",
      "INFO:cmdstanpy:Chain [3] start processing\n",
      "INFO:cmdstanpy:Chain [4] start processing\n"
     ]
    },
    {
     "name": "stdout",
     "output_type": "stream",
     "text": [
      "Fitting toy MC bin no.411\n",
      "0.9498571428571428\n",
      "420 324\n"
     ]
    },
    {
     "name": "stderr",
     "output_type": "stream",
     "text": [
      "INFO:cmdstanpy:Chain [3] done processing\n",
      "INFO:cmdstanpy:Chain [4] done processing\n",
      "INFO:cmdstanpy:Chain [1] done processing\n",
      "INFO:cmdstanpy:Chain [2] done processing\n",
      "INFO:cmdstanpy:found newer exe file, not recompiling\n",
      "INFO:cmdstanpy:found newer exe file, not recompiling\n",
      "INFO:cmdstanpy:CmdStan start procesing\n",
      "INFO:cmdstanpy:Chain [1] start processing\n",
      "INFO:cmdstanpy:Chain [2] start processing\n",
      "INFO:cmdstanpy:Chain [3] start processing\n",
      "INFO:cmdstanpy:Chain [4] start processing\n"
     ]
    },
    {
     "name": "stdout",
     "output_type": "stream",
     "text": [
      "Fitting toy MC bin no.412\n",
      "0.9499407582938388\n",
      "422 325\n"
     ]
    },
    {
     "name": "stderr",
     "output_type": "stream",
     "text": [
      "INFO:cmdstanpy:Chain [1] done processing\n",
      "INFO:cmdstanpy:Chain [4] done processing\n",
      "INFO:cmdstanpy:Chain [3] done processing\n",
      "INFO:cmdstanpy:Chain [2] done processing\n",
      "INFO:cmdstanpy:found newer exe file, not recompiling\n",
      "INFO:cmdstanpy:found newer exe file, not recompiling\n",
      "INFO:cmdstanpy:CmdStan start procesing\n",
      "INFO:cmdstanpy:Chain [1] start processing\n",
      "INFO:cmdstanpy:Chain [2] start processing\n",
      "INFO:cmdstanpy:Chain [3] start processing\n",
      "INFO:cmdstanpy:Chain [4] start processing\n"
     ]
    },
    {
     "name": "stdout",
     "output_type": "stream",
     "text": [
      "Fitting toy MC bin no.413\n",
      "0.9499754901960784\n",
      "408 314\n"
     ]
    },
    {
     "name": "stderr",
     "output_type": "stream",
     "text": [
      "INFO:cmdstanpy:Chain [3] done processing\n",
      "INFO:cmdstanpy:Chain [4] done processing\n",
      "INFO:cmdstanpy:Chain [1] done processing\n",
      "INFO:cmdstanpy:Chain [2] done processing\n",
      "INFO:cmdstanpy:found newer exe file, not recompiling\n",
      "INFO:cmdstanpy:found newer exe file, not recompiling\n",
      "INFO:cmdstanpy:CmdStan start procesing\n",
      "INFO:cmdstanpy:Chain [1] start processing\n",
      "INFO:cmdstanpy:Chain [2] start processing\n",
      "INFO:cmdstanpy:Chain [3] start processing\n",
      "INFO:cmdstanpy:Chain [4] start processing\n"
     ]
    },
    {
     "name": "stdout",
     "output_type": "stream",
     "text": [
      "Fitting toy MC bin no.414\n",
      "0.949925925925926\n",
      "405 312\n"
     ]
    },
    {
     "name": "stderr",
     "output_type": "stream",
     "text": [
      "INFO:cmdstanpy:Chain [1] done processing\n",
      "INFO:cmdstanpy:Chain [4] done processing\n",
      "INFO:cmdstanpy:Chain [3] done processing\n",
      "INFO:cmdstanpy:Chain [2] done processing\n",
      "INFO:cmdstanpy:found newer exe file, not recompiling\n",
      "INFO:cmdstanpy:found newer exe file, not recompiling\n",
      "INFO:cmdstanpy:CmdStan start procesing\n",
      "INFO:cmdstanpy:Chain [1] start processing\n",
      "INFO:cmdstanpy:Chain [2] start processing\n",
      "INFO:cmdstanpy:Chain [3] start processing\n",
      "INFO:cmdstanpy:Chain [4] start processing\n"
     ]
    },
    {
     "name": "stdout",
     "output_type": "stream",
     "text": [
      "Fitting toy MC bin no.415\n",
      "0.9498756218905473\n",
      "402 310\n"
     ]
    },
    {
     "name": "stderr",
     "output_type": "stream",
     "text": [
      "INFO:cmdstanpy:Chain [2] done processing\n",
      "INFO:cmdstanpy:Chain [1] done processing\n",
      "INFO:cmdstanpy:Chain [4] done processing\n",
      "INFO:cmdstanpy:Chain [3] done processing\n",
      "INFO:cmdstanpy:found newer exe file, not recompiling\n",
      "INFO:cmdstanpy:found newer exe file, not recompiling\n",
      "INFO:cmdstanpy:CmdStan start procesing\n",
      "INFO:cmdstanpy:Chain [1] start processing\n",
      "INFO:cmdstanpy:Chain [2] start processing\n",
      "INFO:cmdstanpy:Chain [3] start processing\n",
      "INFO:cmdstanpy:Chain [4] start processing\n"
     ]
    },
    {
     "name": "stdout",
     "output_type": "stream",
     "text": [
      "Fitting toy MC bin no.416\n",
      "0.9499530516431925\n",
      "426 328\n"
     ]
    },
    {
     "name": "stderr",
     "output_type": "stream",
     "text": [
      "INFO:cmdstanpy:Chain [2] done processing\n",
      "INFO:cmdstanpy:Chain [4] done processing\n",
      "INFO:cmdstanpy:Chain [1] done processing\n",
      "INFO:cmdstanpy:Chain [3] done processing\n",
      "INFO:cmdstanpy:found newer exe file, not recompiling\n",
      "INFO:cmdstanpy:found newer exe file, not recompiling\n",
      "INFO:cmdstanpy:CmdStan start procesing\n",
      "INFO:cmdstanpy:Chain [1] start processing\n",
      "INFO:cmdstanpy:Chain [2] start processing\n",
      "INFO:cmdstanpy:Chain [3] start processing\n",
      "INFO:cmdstanpy:Chain [4] start processing\n"
     ]
    },
    {
     "name": "stdout",
     "output_type": "stream",
     "text": [
      "Fitting toy MC bin no.417\n",
      "0.9498854961832062\n",
      "393 303\n"
     ]
    },
    {
     "name": "stderr",
     "output_type": "stream",
     "text": [
      "INFO:cmdstanpy:Chain [1] done processing\n",
      "INFO:cmdstanpy:Chain [2] done processing\n",
      "INFO:cmdstanpy:Chain [4] done processing\n",
      "INFO:cmdstanpy:Chain [3] done processing\n",
      "INFO:cmdstanpy:found newer exe file, not recompiling\n",
      "INFO:cmdstanpy:found newer exe file, not recompiling\n",
      "INFO:cmdstanpy:CmdStan start procesing\n",
      "INFO:cmdstanpy:Chain [1] start processing\n",
      "INFO:cmdstanpy:Chain [2] start processing\n",
      "INFO:cmdstanpy:Chain [3] start processing\n",
      "INFO:cmdstanpy:Chain [4] start processing\n"
     ]
    },
    {
     "name": "stdout",
     "output_type": "stream",
     "text": [
      "Fitting toy MC bin no.418\n",
      "0.9500428571428571\n",
      "350 269\n"
     ]
    },
    {
     "name": "stderr",
     "output_type": "stream",
     "text": [
      "INFO:cmdstanpy:Chain [1] done processing\n",
      "INFO:cmdstanpy:Chain [2] done processing\n",
      "INFO:cmdstanpy:Chain [4] done processing\n",
      "INFO:cmdstanpy:Chain [3] done processing\n",
      "INFO:cmdstanpy:found newer exe file, not recompiling\n",
      "INFO:cmdstanpy:found newer exe file, not recompiling\n",
      "INFO:cmdstanpy:CmdStan start procesing\n",
      "INFO:cmdstanpy:Chain [1] start processing\n",
      "INFO:cmdstanpy:Chain [2] start processing\n",
      "INFO:cmdstanpy:Chain [3] start processing\n",
      "INFO:cmdstanpy:Chain [4] start processing\n"
     ]
    },
    {
     "name": "stdout",
     "output_type": "stream",
     "text": [
      "Fitting toy MC bin no.419\n",
      "0.9499234693877551\n",
      "392 302\n"
     ]
    },
    {
     "name": "stderr",
     "output_type": "stream",
     "text": [
      "INFO:cmdstanpy:Chain [2] done processing\n",
      "INFO:cmdstanpy:Chain [4] done processing\n",
      "INFO:cmdstanpy:Chain [1] done processing\n",
      "INFO:cmdstanpy:Chain [3] done processing\n",
      "INFO:cmdstanpy:found newer exe file, not recompiling\n",
      "INFO:cmdstanpy:found newer exe file, not recompiling\n",
      "INFO:cmdstanpy:CmdStan start procesing\n",
      "INFO:cmdstanpy:Chain [1] start processing\n",
      "INFO:cmdstanpy:Chain [2] start processing\n",
      "INFO:cmdstanpy:Chain [3] start processing\n",
      "INFO:cmdstanpy:Chain [4] start processing\n"
     ]
    },
    {
     "name": "stdout",
     "output_type": "stream",
     "text": [
      "Fitting toy MC bin no.420\n",
      "0.9497808219178082\n",
      "365 282\n"
     ]
    },
    {
     "name": "stderr",
     "output_type": "stream",
     "text": [
      "INFO:cmdstanpy:Chain [1] done processing\n",
      "INFO:cmdstanpy:Chain [2] done processing\n",
      "INFO:cmdstanpy:Chain [4] done processing\n",
      "INFO:cmdstanpy:Chain [3] done processing\n",
      "INFO:cmdstanpy:found newer exe file, not recompiling\n",
      "INFO:cmdstanpy:found newer exe file, not recompiling\n",
      "INFO:cmdstanpy:CmdStan start procesing\n",
      "INFO:cmdstanpy:Chain [1] start processing\n",
      "INFO:cmdstanpy:Chain [2] start processing\n",
      "INFO:cmdstanpy:Chain [3] start processing\n",
      "INFO:cmdstanpy:Chain [4] start processing\n"
     ]
    },
    {
     "name": "stdout",
     "output_type": "stream",
     "text": [
      "Fitting toy MC bin no.421\n",
      "0.9499500000000001\n",
      "400 308\n"
     ]
    },
    {
     "name": "stderr",
     "output_type": "stream",
     "text": [
      "INFO:cmdstanpy:Chain [2] done processing\n",
      "INFO:cmdstanpy:Chain [3] done processing\n",
      "INFO:cmdstanpy:Chain [1] done processing\n",
      "INFO:cmdstanpy:Chain [4] done processing\n",
      "INFO:cmdstanpy:found newer exe file, not recompiling\n",
      "INFO:cmdstanpy:found newer exe file, not recompiling\n",
      "INFO:cmdstanpy:CmdStan start procesing\n",
      "INFO:cmdstanpy:Chain [1] start processing\n",
      "INFO:cmdstanpy:Chain [2] start processing\n",
      "INFO:cmdstanpy:Chain [3] start processing\n",
      "INFO:cmdstanpy:Chain [4] start processing\n"
     ]
    },
    {
     "name": "stdout",
     "output_type": "stream",
     "text": [
      "Fitting toy MC bin no.422\n",
      "0.9500385604113111\n",
      "389 299\n"
     ]
    },
    {
     "name": "stderr",
     "output_type": "stream",
     "text": [
      "INFO:cmdstanpy:Chain [1] done processing\n",
      "INFO:cmdstanpy:Chain [4] done processing\n",
      "INFO:cmdstanpy:Chain [2] done processing\n",
      "INFO:cmdstanpy:Chain [3] done processing\n",
      "INFO:cmdstanpy:found newer exe file, not recompiling\n",
      "INFO:cmdstanpy:found newer exe file, not recompiling\n",
      "INFO:cmdstanpy:CmdStan start procesing\n",
      "INFO:cmdstanpy:Chain [1] start processing\n",
      "INFO:cmdstanpy:Chain [2] start processing\n",
      "INFO:cmdstanpy:Chain [3] start processing\n",
      "INFO:cmdstanpy:Chain [4] start processing\n"
     ]
    },
    {
     "name": "stdout",
     "output_type": "stream",
     "text": [
      "Fitting toy MC bin no.423\n",
      "0.9499324324324325\n",
      "370 285\n"
     ]
    },
    {
     "name": "stderr",
     "output_type": "stream",
     "text": [
      "INFO:cmdstanpy:Chain [2] done processing\n",
      "INFO:cmdstanpy:Chain [1] done processing\n",
      "INFO:cmdstanpy:Chain [4] done processing\n",
      "INFO:cmdstanpy:Chain [3] done processing\n",
      "INFO:cmdstanpy:found newer exe file, not recompiling\n",
      "INFO:cmdstanpy:found newer exe file, not recompiling\n",
      "INFO:cmdstanpy:CmdStan start procesing\n",
      "INFO:cmdstanpy:Chain [1] start processing\n",
      "INFO:cmdstanpy:Chain [2] start processing\n",
      "INFO:cmdstanpy:Chain [3] start processing\n",
      "INFO:cmdstanpy:Chain [4] start processing\n"
     ]
    },
    {
     "name": "stdout",
     "output_type": "stream",
     "text": [
      "Fitting toy MC bin no.424\n",
      "0.9498661800486617\n",
      "411 317\n"
     ]
    },
    {
     "name": "stderr",
     "output_type": "stream",
     "text": [
      "INFO:cmdstanpy:Chain [4] done processing\n",
      "INFO:cmdstanpy:Chain [2] done processing\n",
      "INFO:cmdstanpy:Chain [1] done processing\n",
      "INFO:cmdstanpy:Chain [3] done processing\n",
      "INFO:cmdstanpy:found newer exe file, not recompiling\n",
      "INFO:cmdstanpy:found newer exe file, not recompiling\n",
      "INFO:cmdstanpy:CmdStan start procesing\n",
      "INFO:cmdstanpy:Chain [1] start processing\n",
      "INFO:cmdstanpy:Chain [2] start processing\n",
      "INFO:cmdstanpy:Chain [3] start processing\n",
      "INFO:cmdstanpy:Chain [4] start processing\n"
     ]
    },
    {
     "name": "stdout",
     "output_type": "stream",
     "text": [
      "Fitting toy MC bin no.425\n",
      "0.9498714652956298\n",
      "389 300\n"
     ]
    },
    {
     "name": "stderr",
     "output_type": "stream",
     "text": [
      "INFO:cmdstanpy:Chain [4] done processing\n",
      "INFO:cmdstanpy:Chain [3] done processing\n",
      "INFO:cmdstanpy:Chain [2] done processing\n",
      "INFO:cmdstanpy:Chain [1] done processing\n",
      "INFO:cmdstanpy:found newer exe file, not recompiling\n",
      "INFO:cmdstanpy:found newer exe file, not recompiling\n",
      "INFO:cmdstanpy:CmdStan start procesing\n",
      "INFO:cmdstanpy:Chain [1] start processing\n",
      "INFO:cmdstanpy:Chain [2] start processing\n",
      "INFO:cmdstanpy:Chain [3] start processing\n",
      "INFO:cmdstanpy:Chain [4] start processing\n"
     ]
    },
    {
     "name": "stdout",
     "output_type": "stream",
     "text": [
      "Fitting toy MC bin no.426\n",
      "0.94984375\n",
      "416 321\n"
     ]
    },
    {
     "name": "stderr",
     "output_type": "stream",
     "text": [
      "INFO:cmdstanpy:Chain [1] done processing\n",
      "INFO:cmdstanpy:Chain [3] done processing\n",
      "INFO:cmdstanpy:Chain [4] done processing\n",
      "INFO:cmdstanpy:Chain [2] done processing\n",
      "INFO:cmdstanpy:found newer exe file, not recompiling\n",
      "INFO:cmdstanpy:found newer exe file, not recompiling\n",
      "INFO:cmdstanpy:CmdStan start procesing\n",
      "INFO:cmdstanpy:Chain [1] start processing\n",
      "INFO:cmdstanpy:Chain [2] start processing\n",
      "INFO:cmdstanpy:Chain [3] start processing\n",
      "INFO:cmdstanpy:Chain [4] start processing\n"
     ]
    },
    {
     "name": "stdout",
     "output_type": "stream",
     "text": [
      "Fitting toy MC bin no.427\n",
      "0.949958904109589\n",
      "365 281\n"
     ]
    },
    {
     "name": "stderr",
     "output_type": "stream",
     "text": [
      "INFO:cmdstanpy:Chain [2] done processing\n",
      "INFO:cmdstanpy:Chain [1] done processing\n",
      "INFO:cmdstanpy:Chain [4] done processing\n",
      "INFO:cmdstanpy:Chain [3] done processing\n",
      "INFO:cmdstanpy:found newer exe file, not recompiling\n",
      "INFO:cmdstanpy:found newer exe file, not recompiling\n",
      "INFO:cmdstanpy:CmdStan start procesing\n",
      "INFO:cmdstanpy:Chain [1] start processing\n",
      "INFO:cmdstanpy:Chain [2] start processing\n",
      "INFO:cmdstanpy:Chain [3] start processing\n",
      "INFO:cmdstanpy:Chain [4] start processing\n"
     ]
    },
    {
     "name": "stdout",
     "output_type": "stream",
     "text": [
      "Fitting toy MC bin no.428\n",
      "0.9499234693877551\n",
      "392 302\n"
     ]
    },
    {
     "name": "stderr",
     "output_type": "stream",
     "text": [
      "INFO:cmdstanpy:Chain [4] done processing\n",
      "INFO:cmdstanpy:Chain [1] done processing\n",
      "INFO:cmdstanpy:Chain [2] done processing\n",
      "INFO:cmdstanpy:Chain [3] done processing\n",
      "INFO:cmdstanpy:found newer exe file, not recompiling\n",
      "INFO:cmdstanpy:found newer exe file, not recompiling\n",
      "INFO:cmdstanpy:CmdStan start procesing\n",
      "INFO:cmdstanpy:Chain [1] start processing\n",
      "INFO:cmdstanpy:Chain [2] start processing\n",
      "INFO:cmdstanpy:Chain [3] start processing\n",
      "INFO:cmdstanpy:Chain [4] start processing\n"
     ]
    },
    {
     "name": "stdout",
     "output_type": "stream",
     "text": [
      "Fitting toy MC bin no.429\n",
      "0.9497576530612245\n",
      "392 303\n"
     ]
    },
    {
     "name": "stderr",
     "output_type": "stream",
     "text": [
      "INFO:cmdstanpy:Chain [4] done processing\n",
      "INFO:cmdstanpy:Chain [2] done processing\n",
      "INFO:cmdstanpy:Chain [1] done processing\n",
      "INFO:cmdstanpy:Chain [3] done processing\n",
      "INFO:cmdstanpy:found newer exe file, not recompiling\n",
      "INFO:cmdstanpy:found newer exe file, not recompiling\n",
      "INFO:cmdstanpy:CmdStan start procesing\n",
      "INFO:cmdstanpy:Chain [1] start processing\n",
      "INFO:cmdstanpy:Chain [2] start processing\n",
      "INFO:cmdstanpy:Chain [3] start processing\n",
      "INFO:cmdstanpy:Chain [4] start processing\n"
     ]
    },
    {
     "name": "stdout",
     "output_type": "stream",
     "text": [
      "Fitting toy MC bin no.430\n",
      "0.9498618090452262\n",
      "398 307\n"
     ]
    },
    {
     "name": "stderr",
     "output_type": "stream",
     "text": [
      "INFO:cmdstanpy:Chain [3] done processing\n",
      "INFO:cmdstanpy:Chain [2] done processing\n",
      "INFO:cmdstanpy:Chain [1] done processing\n",
      "INFO:cmdstanpy:Chain [4] done processing\n",
      "INFO:cmdstanpy:found newer exe file, not recompiling\n",
      "INFO:cmdstanpy:found newer exe file, not recompiling\n",
      "INFO:cmdstanpy:CmdStan start procesing\n",
      "INFO:cmdstanpy:Chain [1] start processing\n",
      "INFO:cmdstanpy:Chain [2] start processing\n",
      "INFO:cmdstanpy:Chain [3] start processing\n",
      "INFO:cmdstanpy:Chain [4] start processing\n"
     ]
    },
    {
     "name": "stdout",
     "output_type": "stream",
     "text": [
      "Fitting toy MC bin no.431\n",
      "0.9498898678414097\n",
      "454 350\n"
     ]
    },
    {
     "name": "stderr",
     "output_type": "stream",
     "text": [
      "INFO:cmdstanpy:Chain [4] done processing\n",
      "INFO:cmdstanpy:Chain [3] done processing\n",
      "INFO:cmdstanpy:Chain [2] done processing\n",
      "INFO:cmdstanpy:Chain [1] done processing\n",
      "INFO:cmdstanpy:found newer exe file, not recompiling\n",
      "INFO:cmdstanpy:found newer exe file, not recompiling\n",
      "INFO:cmdstanpy:CmdStan start procesing\n",
      "INFO:cmdstanpy:Chain [1] start processing\n",
      "INFO:cmdstanpy:Chain [2] start processing\n",
      "INFO:cmdstanpy:Chain [3] start processing\n",
      "INFO:cmdstanpy:Chain [4] start processing\n"
     ]
    },
    {
     "name": "stdout",
     "output_type": "stream",
     "text": [
      "Fitting toy MC bin no.432\n",
      "0.95\n",
      "390 300\n"
     ]
    },
    {
     "name": "stderr",
     "output_type": "stream",
     "text": [
      "INFO:cmdstanpy:Chain [2] done processing\n",
      "INFO:cmdstanpy:Chain [1] done processing\n",
      "INFO:cmdstanpy:Chain [3] done processing\n",
      "INFO:cmdstanpy:Chain [4] done processing\n",
      "INFO:cmdstanpy:found newer exe file, not recompiling\n",
      "INFO:cmdstanpy:found newer exe file, not recompiling\n",
      "INFO:cmdstanpy:CmdStan start procesing\n",
      "INFO:cmdstanpy:Chain [1] start processing\n",
      "INFO:cmdstanpy:Chain [2] start processing\n",
      "INFO:cmdstanpy:Chain [3] start processing\n",
      "INFO:cmdstanpy:Chain [4] start processing\n"
     ]
    },
    {
     "name": "stdout",
     "output_type": "stream",
     "text": [
      "Fitting toy MC bin no.433\n",
      "0.9499874686716793\n",
      "399 307\n"
     ]
    },
    {
     "name": "stderr",
     "output_type": "stream",
     "text": [
      "INFO:cmdstanpy:Chain [4] done processing\n",
      "INFO:cmdstanpy:Chain [3] done processing\n",
      "INFO:cmdstanpy:Chain [1] done processing\n",
      "INFO:cmdstanpy:Chain [2] done processing\n",
      "INFO:cmdstanpy:found newer exe file, not recompiling\n",
      "INFO:cmdstanpy:found newer exe file, not recompiling\n",
      "INFO:cmdstanpy:CmdStan start procesing\n",
      "INFO:cmdstanpy:Chain [1] start processing\n",
      "INFO:cmdstanpy:Chain [2] start processing\n",
      "INFO:cmdstanpy:Chain [3] start processing\n",
      "INFO:cmdstanpy:Chain [4] start processing\n"
     ]
    },
    {
     "name": "stdout",
     "output_type": "stream",
     "text": [
      "Fitting toy MC bin no.434\n",
      "0.9498525798525798\n",
      "407 314\n"
     ]
    },
    {
     "name": "stderr",
     "output_type": "stream",
     "text": [
      "INFO:cmdstanpy:Chain [1] done processing\n",
      "INFO:cmdstanpy:Chain [2] done processing\n",
      "INFO:cmdstanpy:Chain [4] done processing\n",
      "INFO:cmdstanpy:Chain [3] done processing\n",
      "INFO:cmdstanpy:found newer exe file, not recompiling\n",
      "INFO:cmdstanpy:found newer exe file, not recompiling\n",
      "INFO:cmdstanpy:CmdStan start procesing\n",
      "INFO:cmdstanpy:Chain [1] start processing\n",
      "INFO:cmdstanpy:Chain [2] start processing\n",
      "INFO:cmdstanpy:Chain [3] start processing\n",
      "INFO:cmdstanpy:Chain [4] start processing\n"
     ]
    },
    {
     "name": "stdout",
     "output_type": "stream",
     "text": [
      "Fitting toy MC bin no.435\n",
      "0.9499154589371981\n",
      "414 319\n"
     ]
    },
    {
     "name": "stderr",
     "output_type": "stream",
     "text": [
      "INFO:cmdstanpy:Chain [3] done processing\n",
      "INFO:cmdstanpy:Chain [1] done processing\n",
      "INFO:cmdstanpy:Chain [4] done processing\n",
      "INFO:cmdstanpy:Chain [2] done processing\n",
      "INFO:cmdstanpy:found newer exe file, not recompiling\n",
      "INFO:cmdstanpy:found newer exe file, not recompiling\n",
      "INFO:cmdstanpy:CmdStan start procesing\n",
      "INFO:cmdstanpy:Chain [1] start processing\n",
      "INFO:cmdstanpy:Chain [2] start processing\n",
      "INFO:cmdstanpy:Chain [3] start processing\n",
      "INFO:cmdstanpy:Chain [4] start processing\n"
     ]
    },
    {
     "name": "stdout",
     "output_type": "stream",
     "text": [
      "Fitting toy MC bin no.436\n",
      "0.9497727272727272\n",
      "374 289\n"
     ]
    },
    {
     "name": "stderr",
     "output_type": "stream",
     "text": [
      "INFO:cmdstanpy:Chain [4] done processing\n",
      "INFO:cmdstanpy:Chain [3] done processing\n",
      "INFO:cmdstanpy:Chain [1] done processing\n",
      "INFO:cmdstanpy:Chain [2] done processing\n",
      "INFO:cmdstanpy:found newer exe file, not recompiling\n",
      "INFO:cmdstanpy:found newer exe file, not recompiling\n",
      "INFO:cmdstanpy:CmdStan start procesing\n",
      "INFO:cmdstanpy:Chain [1] start processing\n",
      "INFO:cmdstanpy:Chain [2] start processing\n",
      "INFO:cmdstanpy:Chain [3] start processing\n",
      "INFO:cmdstanpy:Chain [4] start processing\n"
     ]
    },
    {
     "name": "stdout",
     "output_type": "stream",
     "text": [
      "Fitting toy MC bin no.437\n",
      "0.9498618090452262\n",
      "398 307\n"
     ]
    },
    {
     "name": "stderr",
     "output_type": "stream",
     "text": [
      "INFO:cmdstanpy:Chain [1] done processing\n",
      "INFO:cmdstanpy:Chain [2] done processing\n",
      "INFO:cmdstanpy:Chain [4] done processing\n",
      "INFO:cmdstanpy:Chain [3] done processing\n",
      "INFO:cmdstanpy:found newer exe file, not recompiling\n",
      "INFO:cmdstanpy:found newer exe file, not recompiling\n",
      "INFO:cmdstanpy:CmdStan start procesing\n",
      "INFO:cmdstanpy:Chain [1] start processing\n",
      "INFO:cmdstanpy:Chain [2] start processing\n",
      "INFO:cmdstanpy:Chain [3] start processing\n",
      "INFO:cmdstanpy:Chain [4] start processing\n"
     ]
    },
    {
     "name": "stdout",
     "output_type": "stream",
     "text": [
      "Fitting toy MC bin no.438\n",
      "0.95001269035533\n",
      "394 303\n"
     ]
    },
    {
     "name": "stderr",
     "output_type": "stream",
     "text": [
      "INFO:cmdstanpy:Chain [2] done processing\n",
      "INFO:cmdstanpy:Chain [3] done processing\n",
      "INFO:cmdstanpy:Chain [1] done processing\n",
      "INFO:cmdstanpy:Chain [4] done processing\n",
      "INFO:cmdstanpy:found newer exe file, not recompiling\n",
      "INFO:cmdstanpy:found newer exe file, not recompiling\n",
      "INFO:cmdstanpy:CmdStan start procesing\n",
      "INFO:cmdstanpy:Chain [1] start processing\n",
      "INFO:cmdstanpy:Chain [2] start processing\n",
      "INFO:cmdstanpy:Chain [3] start processing\n",
      "INFO:cmdstanpy:Chain [4] start processing\n"
     ]
    },
    {
     "name": "stdout",
     "output_type": "stream",
     "text": [
      "Fitting toy MC bin no.439\n",
      "0.9499500000000001\n",
      "400 308\n"
     ]
    },
    {
     "name": "stderr",
     "output_type": "stream",
     "text": [
      "INFO:cmdstanpy:Chain [2] done processing\n",
      "INFO:cmdstanpy:Chain [4] done processing\n",
      "INFO:cmdstanpy:Chain [3] done processing\n",
      "INFO:cmdstanpy:Chain [1] done processing\n",
      "INFO:cmdstanpy:found newer exe file, not recompiling\n",
      "INFO:cmdstanpy:found newer exe file, not recompiling\n",
      "INFO:cmdstanpy:CmdStan start procesing\n",
      "INFO:cmdstanpy:Chain [1] start processing\n",
      "INFO:cmdstanpy:Chain [2] start processing\n",
      "INFO:cmdstanpy:Chain [3] start processing\n",
      "INFO:cmdstanpy:Chain [4] start processing\n"
     ]
    },
    {
     "name": "stdout",
     "output_type": "stream",
     "text": [
      "Fitting toy MC bin no.440\n",
      "0.9499368686868687\n",
      "396 305\n"
     ]
    },
    {
     "name": "stderr",
     "output_type": "stream",
     "text": [
      "INFO:cmdstanpy:Chain [1] done processing\n",
      "INFO:cmdstanpy:Chain [2] done processing\n",
      "INFO:cmdstanpy:Chain [4] done processing\n",
      "INFO:cmdstanpy:Chain [3] done processing\n",
      "INFO:cmdstanpy:found newer exe file, not recompiling\n",
      "INFO:cmdstanpy:found newer exe file, not recompiling\n",
      "INFO:cmdstanpy:CmdStan start procesing\n",
      "INFO:cmdstanpy:Chain [1] start processing\n",
      "INFO:cmdstanpy:Chain [2] start processing\n",
      "INFO:cmdstanpy:Chain [3] start processing\n",
      "INFO:cmdstanpy:Chain [4] start processing\n"
     ]
    },
    {
     "name": "stdout",
     "output_type": "stream",
     "text": [
      "Fitting toy MC bin no.441\n",
      "0.9498815789473684\n",
      "380 293\n"
     ]
    },
    {
     "name": "stderr",
     "output_type": "stream",
     "text": [
      "INFO:cmdstanpy:Chain [2] done processing\n",
      "INFO:cmdstanpy:Chain [3] done processing\n",
      "INFO:cmdstanpy:Chain [4] done processing\n",
      "INFO:cmdstanpy:Chain [1] done processing\n",
      "INFO:cmdstanpy:found newer exe file, not recompiling\n",
      "INFO:cmdstanpy:found newer exe file, not recompiling\n",
      "INFO:cmdstanpy:CmdStan start procesing\n",
      "INFO:cmdstanpy:Chain [1] start processing\n",
      "INFO:cmdstanpy:Chain [2] start processing\n",
      "INFO:cmdstanpy:Chain [3] start processing\n",
      "INFO:cmdstanpy:Chain [4] start processing\n"
     ]
    },
    {
     "name": "stdout",
     "output_type": "stream",
     "text": [
      "Fitting toy MC bin no.442\n",
      "0.9498618090452262\n",
      "398 307\n"
     ]
    },
    {
     "name": "stderr",
     "output_type": "stream",
     "text": [
      "INFO:cmdstanpy:Chain [4] done processing\n",
      "INFO:cmdstanpy:Chain [3] done processing\n",
      "INFO:cmdstanpy:Chain [1] done processing\n",
      "INFO:cmdstanpy:Chain [2] done processing\n",
      "INFO:cmdstanpy:found newer exe file, not recompiling\n",
      "INFO:cmdstanpy:found newer exe file, not recompiling\n",
      "INFO:cmdstanpy:CmdStan start procesing\n",
      "INFO:cmdstanpy:Chain [1] start processing\n",
      "INFO:cmdstanpy:Chain [2] start processing\n",
      "INFO:cmdstanpy:Chain [3] start processing\n",
      "INFO:cmdstanpy:Chain [4] start processing\n"
     ]
    },
    {
     "name": "stdout",
     "output_type": "stream",
     "text": [
      "Fitting toy MC bin no.443\n",
      "0.9499388753056234\n",
      "409 315\n"
     ]
    },
    {
     "name": "stderr",
     "output_type": "stream",
     "text": [
      "INFO:cmdstanpy:Chain [3] done processing\n",
      "INFO:cmdstanpy:Chain [2] done processing\n",
      "INFO:cmdstanpy:Chain [1] done processing\n",
      "INFO:cmdstanpy:Chain [4] done processing\n",
      "INFO:cmdstanpy:found newer exe file, not recompiling\n",
      "INFO:cmdstanpy:found newer exe file, not recompiling\n",
      "INFO:cmdstanpy:CmdStan start procesing\n",
      "INFO:cmdstanpy:Chain [1] start processing\n",
      "INFO:cmdstanpy:Chain [2] start processing\n",
      "INFO:cmdstanpy:Chain [3] start processing\n",
      "INFO:cmdstanpy:Chain [4] start processing\n"
     ]
    },
    {
     "name": "stdout",
     "output_type": "stream",
     "text": [
      "Fitting toy MC bin no.444\n",
      "0.949803664921466\n",
      "382 295\n"
     ]
    },
    {
     "name": "stderr",
     "output_type": "stream",
     "text": [
      "INFO:cmdstanpy:Chain [2] done processing\n",
      "INFO:cmdstanpy:Chain [3] done processing\n",
      "INFO:cmdstanpy:Chain [4] done processing\n",
      "INFO:cmdstanpy:Chain [1] done processing\n",
      "INFO:cmdstanpy:found newer exe file, not recompiling\n",
      "INFO:cmdstanpy:found newer exe file, not recompiling\n",
      "INFO:cmdstanpy:CmdStan start procesing\n",
      "INFO:cmdstanpy:Chain [1] start processing\n",
      "INFO:cmdstanpy:Chain [2] start processing\n",
      "INFO:cmdstanpy:Chain [3] start processing\n",
      "INFO:cmdstanpy:Chain [4] start processing\n"
     ]
    },
    {
     "name": "stdout",
     "output_type": "stream",
     "text": [
      "Fitting toy MC bin no.445\n",
      "0.9497493403693931\n",
      "379 293\n"
     ]
    },
    {
     "name": "stderr",
     "output_type": "stream",
     "text": [
      "INFO:cmdstanpy:Chain [2] done processing\n",
      "INFO:cmdstanpy:Chain [1] done processing\n",
      "INFO:cmdstanpy:Chain [3] done processing\n",
      "INFO:cmdstanpy:Chain [4] done processing\n",
      "INFO:cmdstanpy:found newer exe file, not recompiling\n",
      "INFO:cmdstanpy:found newer exe file, not recompiling\n",
      "INFO:cmdstanpy:CmdStan start procesing\n",
      "INFO:cmdstanpy:Chain [1] start processing\n",
      "INFO:cmdstanpy:Chain [2] start processing\n",
      "INFO:cmdstanpy:Chain [3] start processing\n",
      "INFO:cmdstanpy:Chain [4] start processing\n"
     ]
    },
    {
     "name": "stdout",
     "output_type": "stream",
     "text": [
      "Fitting toy MC bin no.446\n",
      "0.9499407582938388\n",
      "422 325\n"
     ]
    },
    {
     "name": "stderr",
     "output_type": "stream",
     "text": [
      "INFO:cmdstanpy:Chain [2] done processing\n",
      "INFO:cmdstanpy:Chain [3] done processing\n",
      "INFO:cmdstanpy:Chain [1] done processing\n",
      "INFO:cmdstanpy:Chain [4] done processing\n",
      "INFO:cmdstanpy:found newer exe file, not recompiling\n",
      "INFO:cmdstanpy:found newer exe file, not recompiling\n",
      "INFO:cmdstanpy:CmdStan start procesing\n",
      "INFO:cmdstanpy:Chain [1] start processing\n",
      "INFO:cmdstanpy:Chain [2] start processing\n",
      "INFO:cmdstanpy:Chain [3] start processing\n",
      "INFO:cmdstanpy:Chain [4] start processing\n"
     ]
    },
    {
     "name": "stdout",
     "output_type": "stream",
     "text": [
      "Fitting toy MC bin no.447\n",
      "0.9499441964285714\n",
      "448 345\n"
     ]
    },
    {
     "name": "stderr",
     "output_type": "stream",
     "text": [
      "INFO:cmdstanpy:Chain [4] done processing\n",
      "INFO:cmdstanpy:Chain [2] done processing\n",
      "INFO:cmdstanpy:Chain [1] done processing\n",
      "INFO:cmdstanpy:Chain [3] done processing\n",
      "INFO:cmdstanpy:found newer exe file, not recompiling\n",
      "INFO:cmdstanpy:found newer exe file, not recompiling\n",
      "INFO:cmdstanpy:CmdStan start procesing\n",
      "INFO:cmdstanpy:Chain [1] start processing\n",
      "INFO:cmdstanpy:Chain [2] start processing\n",
      "INFO:cmdstanpy:Chain [3] start processing\n",
      "INFO:cmdstanpy:Chain [4] start processing\n"
     ]
    },
    {
     "name": "stdout",
     "output_type": "stream",
     "text": [
      "Fitting toy MC bin no.448\n",
      "0.9500956284153006\n",
      "366 281\n"
     ]
    },
    {
     "name": "stderr",
     "output_type": "stream",
     "text": [
      "INFO:cmdstanpy:Chain [1] done processing\n",
      "INFO:cmdstanpy:Chain [3] done processing\n",
      "INFO:cmdstanpy:Chain [4] done processing\n",
      "INFO:cmdstanpy:Chain [2] done processing\n",
      "INFO:cmdstanpy:found newer exe file, not recompiling\n",
      "INFO:cmdstanpy:found newer exe file, not recompiling\n",
      "INFO:cmdstanpy:CmdStan start procesing\n",
      "INFO:cmdstanpy:Chain [1] start processing\n",
      "INFO:cmdstanpy:Chain [2] start processing\n",
      "INFO:cmdstanpy:Chain [3] start processing\n",
      "INFO:cmdstanpy:Chain [4] start processing\n"
     ]
    },
    {
     "name": "stdout",
     "output_type": "stream",
     "text": [
      "Fitting toy MC bin no.449\n",
      "0.9499154589371981\n",
      "414 319\n"
     ]
    },
    {
     "name": "stderr",
     "output_type": "stream",
     "text": [
      "INFO:cmdstanpy:Chain [1] done processing\n",
      "INFO:cmdstanpy:Chain [3] done processing\n",
      "INFO:cmdstanpy:Chain [2] done processing\n",
      "INFO:cmdstanpy:Chain [4] done processing\n",
      "INFO:cmdstanpy:found newer exe file, not recompiling\n",
      "INFO:cmdstanpy:found newer exe file, not recompiling\n",
      "INFO:cmdstanpy:CmdStan start procesing\n",
      "INFO:cmdstanpy:Chain [1] start processing\n",
      "INFO:cmdstanpy:Chain [2] start processing\n",
      "INFO:cmdstanpy:Chain [3] start processing\n",
      "INFO:cmdstanpy:Chain [4] start processing\n"
     ]
    },
    {
     "name": "stdout",
     "output_type": "stream",
     "text": [
      "Fitting toy MC bin no.450\n",
      "0.9499719101123596\n",
      "356 274\n"
     ]
    },
    {
     "name": "stderr",
     "output_type": "stream",
     "text": [
      "INFO:cmdstanpy:Chain [3] done processing\n",
      "INFO:cmdstanpy:Chain [2] done processing\n",
      "INFO:cmdstanpy:Chain [1] done processing\n",
      "INFO:cmdstanpy:Chain [4] done processing\n",
      "INFO:cmdstanpy:found newer exe file, not recompiling\n",
      "INFO:cmdstanpy:found newer exe file, not recompiling\n",
      "INFO:cmdstanpy:CmdStan start procesing\n",
      "INFO:cmdstanpy:Chain [1] start processing\n",
      "INFO:cmdstanpy:Chain [2] start processing\n",
      "INFO:cmdstanpy:Chain [3] start processing\n",
      "INFO:cmdstanpy:Chain [4] start processing\n"
     ]
    },
    {
     "name": "stdout",
     "output_type": "stream",
     "text": [
      "Fitting toy MC bin no.451\n",
      "0.9498661800486617\n",
      "411 317\n"
     ]
    },
    {
     "name": "stderr",
     "output_type": "stream",
     "text": [
      "INFO:cmdstanpy:Chain [2] done processing\n",
      "INFO:cmdstanpy:Chain [3] done processing\n",
      "INFO:cmdstanpy:Chain [4] done processing\n",
      "INFO:cmdstanpy:Chain [1] done processing\n",
      "INFO:cmdstanpy:found newer exe file, not recompiling\n",
      "INFO:cmdstanpy:found newer exe file, not recompiling\n",
      "INFO:cmdstanpy:CmdStan start procesing\n",
      "INFO:cmdstanpy:Chain [1] start processing\n",
      "INFO:cmdstanpy:Chain [2] start processing\n",
      "INFO:cmdstanpy:Chain [3] start processing\n",
      "INFO:cmdstanpy:Chain [4] start processing\n"
     ]
    },
    {
     "name": "stdout",
     "output_type": "stream",
     "text": [
      "Fitting toy MC bin no.452\n",
      "0.9497727272727272\n",
      "352 272\n"
     ]
    },
    {
     "name": "stderr",
     "output_type": "stream",
     "text": [
      "INFO:cmdstanpy:Chain [1] done processing\n",
      "INFO:cmdstanpy:Chain [3] done processing\n",
      "INFO:cmdstanpy:Chain [4] done processing\n",
      "INFO:cmdstanpy:Chain [2] done processing\n",
      "INFO:cmdstanpy:found newer exe file, not recompiling\n",
      "INFO:cmdstanpy:found newer exe file, not recompiling\n",
      "INFO:cmdstanpy:CmdStan start procesing\n",
      "INFO:cmdstanpy:Chain [1] start processing\n",
      "INFO:cmdstanpy:Chain [2] start processing\n",
      "INFO:cmdstanpy:Chain [3] start processing\n",
      "INFO:cmdstanpy:Chain [4] start processing\n"
     ]
    },
    {
     "name": "stdout",
     "output_type": "stream",
     "text": [
      "Fitting toy MC bin no.453\n",
      "0.94984375\n",
      "416 321\n"
     ]
    },
    {
     "name": "stderr",
     "output_type": "stream",
     "text": [
      "INFO:cmdstanpy:Chain [1] done processing\n",
      "INFO:cmdstanpy:Chain [3] done processing\n",
      "INFO:cmdstanpy:Chain [4] done processing\n",
      "INFO:cmdstanpy:Chain [2] done processing\n",
      "INFO:cmdstanpy:found newer exe file, not recompiling\n",
      "INFO:cmdstanpy:found newer exe file, not recompiling\n",
      "INFO:cmdstanpy:CmdStan start procesing\n",
      "INFO:cmdstanpy:Chain [1] start processing\n",
      "INFO:cmdstanpy:Chain [2] start processing\n",
      "INFO:cmdstanpy:Chain [3] start processing\n",
      "INFO:cmdstanpy:Chain [4] start processing\n"
     ]
    },
    {
     "name": "stdout",
     "output_type": "stream",
     "text": [
      "Fitting toy MC bin no.454\n",
      "0.9498477157360407\n",
      "394 304\n"
     ]
    },
    {
     "name": "stderr",
     "output_type": "stream",
     "text": [
      "INFO:cmdstanpy:Chain [2] done processing\n",
      "INFO:cmdstanpy:Chain [4] done processing\n",
      "INFO:cmdstanpy:Chain [3] done processing\n",
      "INFO:cmdstanpy:Chain [1] done processing\n",
      "INFO:cmdstanpy:found newer exe file, not recompiling\n",
      "INFO:cmdstanpy:found newer exe file, not recompiling\n",
      "INFO:cmdstanpy:CmdStan start procesing\n",
      "INFO:cmdstanpy:Chain [1] start processing\n",
      "INFO:cmdstanpy:Chain [2] start processing\n",
      "INFO:cmdstanpy:Chain [3] start processing\n",
      "INFO:cmdstanpy:Chain [4] start processing\n"
     ]
    },
    {
     "name": "stdout",
     "output_type": "stream",
     "text": [
      "Fitting toy MC bin no.455\n",
      "0.9498571428571428\n",
      "385 297\n"
     ]
    },
    {
     "name": "stderr",
     "output_type": "stream",
     "text": [
      "INFO:cmdstanpy:Chain [3] done processing\n",
      "INFO:cmdstanpy:Chain [4] done processing\n",
      "INFO:cmdstanpy:Chain [1] done processing\n",
      "INFO:cmdstanpy:Chain [2] done processing\n",
      "INFO:cmdstanpy:found newer exe file, not recompiling\n",
      "INFO:cmdstanpy:found newer exe file, not recompiling\n",
      "INFO:cmdstanpy:CmdStan start procesing\n",
      "INFO:cmdstanpy:Chain [1] start processing\n",
      "INFO:cmdstanpy:Chain [2] start processing\n",
      "INFO:cmdstanpy:Chain [3] start processing\n",
      "INFO:cmdstanpy:Chain [4] start processing\n"
     ]
    },
    {
     "name": "stdout",
     "output_type": "stream",
     "text": [
      "Fitting toy MC bin no.456\n",
      "0.9499515738498789\n",
      "413 318\n"
     ]
    },
    {
     "name": "stderr",
     "output_type": "stream",
     "text": [
      "INFO:cmdstanpy:Chain [3] done processing\n",
      "INFO:cmdstanpy:Chain [2] done processing\n",
      "INFO:cmdstanpy:Chain [4] done processing\n",
      "INFO:cmdstanpy:Chain [1] done processing\n",
      "INFO:cmdstanpy:found newer exe file, not recompiling\n",
      "INFO:cmdstanpy:found newer exe file, not recompiling\n",
      "INFO:cmdstanpy:CmdStan start procesing\n",
      "INFO:cmdstanpy:Chain [1] start processing\n",
      "INFO:cmdstanpy:Chain [2] start processing\n",
      "INFO:cmdstanpy:Chain [3] start processing\n",
      "INFO:cmdstanpy:Chain [4] start processing\n"
     ]
    },
    {
     "name": "stdout",
     "output_type": "stream",
     "text": [
      "Fitting toy MC bin no.457\n",
      "0.9499865951742628\n",
      "373 287\n"
     ]
    },
    {
     "name": "stderr",
     "output_type": "stream",
     "text": [
      "INFO:cmdstanpy:Chain [4] done processing\n",
      "INFO:cmdstanpy:Chain [2] done processing\n",
      "INFO:cmdstanpy:Chain [1] done processing\n",
      "INFO:cmdstanpy:Chain [3] done processing\n",
      "INFO:cmdstanpy:found newer exe file, not recompiling\n",
      "INFO:cmdstanpy:found newer exe file, not recompiling\n",
      "INFO:cmdstanpy:CmdStan start procesing\n",
      "INFO:cmdstanpy:Chain [1] start processing\n",
      "INFO:cmdstanpy:Chain [2] start processing\n",
      "INFO:cmdstanpy:Chain [3] start processing\n",
      "INFO:cmdstanpy:Chain [4] start processing\n"
     ]
    },
    {
     "name": "stdout",
     "output_type": "stream",
     "text": [
      "Fitting toy MC bin no.458\n",
      "0.9498525798525798\n",
      "407 314\n"
     ]
    },
    {
     "name": "stderr",
     "output_type": "stream",
     "text": [
      "INFO:cmdstanpy:Chain [4] done processing\n",
      "INFO:cmdstanpy:Chain [2] done processing\n",
      "INFO:cmdstanpy:Chain [3] done processing\n",
      "INFO:cmdstanpy:Chain [1] done processing\n",
      "INFO:cmdstanpy:found newer exe file, not recompiling\n",
      "INFO:cmdstanpy:found newer exe file, not recompiling\n",
      "INFO:cmdstanpy:CmdStan start procesing\n",
      "INFO:cmdstanpy:Chain [1] start processing\n",
      "INFO:cmdstanpy:Chain [2] start processing\n",
      "INFO:cmdstanpy:Chain [3] start processing\n",
      "INFO:cmdstanpy:Chain [4] start processing\n"
     ]
    },
    {
     "name": "stdout",
     "output_type": "stream",
     "text": [
      "Fitting toy MC bin no.459\n",
      "0.9498333333333333\n",
      "390 301\n"
     ]
    },
    {
     "name": "stderr",
     "output_type": "stream",
     "text": [
      "INFO:cmdstanpy:Chain [4] done processing\n",
      "INFO:cmdstanpy:Chain [3] done processing\n",
      "INFO:cmdstanpy:Chain [2] done processing\n",
      "INFO:cmdstanpy:Chain [1] done processing\n",
      "INFO:cmdstanpy:found newer exe file, not recompiling\n",
      "INFO:cmdstanpy:found newer exe file, not recompiling\n",
      "INFO:cmdstanpy:CmdStan start procesing\n",
      "INFO:cmdstanpy:Chain [1] start processing\n",
      "INFO:cmdstanpy:Chain [2] start processing\n",
      "INFO:cmdstanpy:Chain [3] start processing\n",
      "INFO:cmdstanpy:Chain [4] start processing\n"
     ]
    },
    {
     "name": "stdout",
     "output_type": "stream",
     "text": [
      "Fitting toy MC bin no.460\n",
      "0.9498387096774195\n",
      "403 311\n"
     ]
    },
    {
     "name": "stderr",
     "output_type": "stream",
     "text": [
      "INFO:cmdstanpy:Chain [1] done processing\n",
      "INFO:cmdstanpy:Chain [2] done processing\n",
      "INFO:cmdstanpy:Chain [3] done processing\n",
      "INFO:cmdstanpy:Chain [4] done processing\n",
      "INFO:cmdstanpy:found newer exe file, not recompiling\n",
      "INFO:cmdstanpy:found newer exe file, not recompiling\n",
      "INFO:cmdstanpy:CmdStan start procesing\n",
      "INFO:cmdstanpy:Chain [1] start processing\n",
      "INFO:cmdstanpy:Chain [2] start processing\n",
      "INFO:cmdstanpy:Chain [3] start processing\n",
      "INFO:cmdstanpy:Chain [4] start processing\n"
     ]
    },
    {
     "name": "stdout",
     "output_type": "stream",
     "text": [
      "Fitting toy MC bin no.461\n",
      "0.9498333333333333\n",
      "390 301\n"
     ]
    },
    {
     "name": "stderr",
     "output_type": "stream",
     "text": [
      "INFO:cmdstanpy:Chain [4] done processing\n",
      "INFO:cmdstanpy:Chain [1] done processing\n",
      "INFO:cmdstanpy:Chain [2] done processing\n",
      "INFO:cmdstanpy:Chain [3] done processing\n",
      "INFO:cmdstanpy:found newer exe file, not recompiling\n",
      "INFO:cmdstanpy:found newer exe file, not recompiling\n",
      "INFO:cmdstanpy:CmdStan start procesing\n",
      "INFO:cmdstanpy:Chain [1] start processing\n",
      "INFO:cmdstanpy:Chain [2] start processing\n",
      "INFO:cmdstanpy:Chain [3] start processing\n",
      "INFO:cmdstanpy:Chain [4] start processing\n"
     ]
    },
    {
     "name": "stdout",
     "output_type": "stream",
     "text": [
      "Fitting toy MC bin no.462\n",
      "0.9501125\n",
      "400 307\n"
     ]
    },
    {
     "name": "stderr",
     "output_type": "stream",
     "text": [
      "INFO:cmdstanpy:Chain [4] done processing\n",
      "INFO:cmdstanpy:Chain [1] done processing\n",
      "INFO:cmdstanpy:Chain [3] done processing\n",
      "INFO:cmdstanpy:Chain [2] done processing\n",
      "INFO:cmdstanpy:found newer exe file, not recompiling\n",
      "INFO:cmdstanpy:found newer exe file, not recompiling\n",
      "INFO:cmdstanpy:CmdStan start procesing\n",
      "INFO:cmdstanpy:Chain [1] start processing\n",
      "INFO:cmdstanpy:Chain [2] start processing\n",
      "INFO:cmdstanpy:Chain [3] start processing\n",
      "INFO:cmdstanpy:Chain [4] start processing\n"
     ]
    },
    {
     "name": "stdout",
     "output_type": "stream",
     "text": [
      "Fitting toy MC bin no.463\n",
      "0.9499762470308789\n",
      "421 324\n"
     ]
    },
    {
     "name": "stderr",
     "output_type": "stream",
     "text": [
      "INFO:cmdstanpy:Chain [3] done processing\n",
      "INFO:cmdstanpy:Chain [1] done processing\n",
      "INFO:cmdstanpy:Chain [2] done processing\n",
      "INFO:cmdstanpy:Chain [4] done processing\n",
      "INFO:cmdstanpy:found newer exe file, not recompiling\n",
      "INFO:cmdstanpy:found newer exe file, not recompiling\n",
      "INFO:cmdstanpy:CmdStan start procesing\n",
      "INFO:cmdstanpy:Chain [1] start processing\n",
      "INFO:cmdstanpy:Chain [2] start processing\n",
      "INFO:cmdstanpy:Chain [3] start processing\n",
      "INFO:cmdstanpy:Chain [4] start processing\n"
     ]
    },
    {
     "name": "stdout",
     "output_type": "stream",
     "text": [
      "Fitting toy MC bin no.464\n",
      "0.9499368686868687\n",
      "396 305\n"
     ]
    },
    {
     "name": "stderr",
     "output_type": "stream",
     "text": [
      "INFO:cmdstanpy:Chain [2] done processing\n",
      "INFO:cmdstanpy:Chain [3] done processing\n",
      "INFO:cmdstanpy:Chain [4] done processing\n",
      "INFO:cmdstanpy:Chain [1] done processing\n",
      "INFO:cmdstanpy:found newer exe file, not recompiling\n",
      "INFO:cmdstanpy:found newer exe file, not recompiling\n",
      "INFO:cmdstanpy:CmdStan start procesing\n",
      "INFO:cmdstanpy:Chain [1] start processing\n",
      "INFO:cmdstanpy:Chain [2] start processing\n",
      "INFO:cmdstanpy:Chain [3] start processing\n",
      "INFO:cmdstanpy:Chain [4] start processing\n"
     ]
    },
    {
     "name": "stdout",
     "output_type": "stream",
     "text": [
      "Fitting toy MC bin no.465\n",
      "0.9497799511002445\n",
      "409 316\n"
     ]
    },
    {
     "name": "stderr",
     "output_type": "stream",
     "text": [
      "INFO:cmdstanpy:Chain [3] done processing\n",
      "INFO:cmdstanpy:Chain [4] done processing\n",
      "INFO:cmdstanpy:Chain [1] done processing\n",
      "INFO:cmdstanpy:Chain [2] done processing\n",
      "INFO:cmdstanpy:found newer exe file, not recompiling\n",
      "INFO:cmdstanpy:found newer exe file, not recompiling\n",
      "INFO:cmdstanpy:CmdStan start procesing\n",
      "INFO:cmdstanpy:Chain [1] start processing\n",
      "INFO:cmdstanpy:Chain [2] start processing\n",
      "INFO:cmdstanpy:Chain [3] start processing\n",
      "INFO:cmdstanpy:Chain [4] start processing\n"
     ]
    },
    {
     "name": "stdout",
     "output_type": "stream",
     "text": [
      "Fitting toy MC bin no.466\n",
      "0.9500000000000001\n",
      "429 330\n"
     ]
    },
    {
     "name": "stderr",
     "output_type": "stream",
     "text": [
      "INFO:cmdstanpy:Chain [1] done processing\n",
      "INFO:cmdstanpy:Chain [3] done processing\n",
      "INFO:cmdstanpy:Chain [4] done processing\n",
      "INFO:cmdstanpy:Chain [2] done processing\n",
      "INFO:cmdstanpy:found newer exe file, not recompiling\n",
      "INFO:cmdstanpy:found newer exe file, not recompiling\n",
      "INFO:cmdstanpy:CmdStan start procesing\n",
      "INFO:cmdstanpy:Chain [1] start processing\n",
      "INFO:cmdstanpy:Chain [2] start processing\n",
      "INFO:cmdstanpy:Chain [3] start processing\n",
      "INFO:cmdstanpy:Chain [4] start processing\n"
     ]
    },
    {
     "name": "stdout",
     "output_type": "stream",
     "text": [
      "Fitting toy MC bin no.467\n",
      "0.9498661800486617\n",
      "411 317\n"
     ]
    },
    {
     "name": "stderr",
     "output_type": "stream",
     "text": [
      "INFO:cmdstanpy:Chain [1] done processing\n",
      "INFO:cmdstanpy:Chain [3] done processing\n",
      "INFO:cmdstanpy:Chain [2] done processing\n",
      "INFO:cmdstanpy:Chain [4] done processing\n",
      "INFO:cmdstanpy:found newer exe file, not recompiling\n",
      "INFO:cmdstanpy:found newer exe file, not recompiling\n",
      "INFO:cmdstanpy:CmdStan start procesing\n",
      "INFO:cmdstanpy:Chain [1] start processing\n",
      "INFO:cmdstanpy:Chain [2] start processing\n",
      "INFO:cmdstanpy:Chain [3] start processing\n",
      "INFO:cmdstanpy:Chain [4] start processing\n"
     ]
    },
    {
     "name": "stdout",
     "output_type": "stream",
     "text": [
      "Fitting toy MC bin no.468\n",
      "0.9498618090452262\n",
      "398 307\n"
     ]
    },
    {
     "name": "stderr",
     "output_type": "stream",
     "text": [
      "INFO:cmdstanpy:Chain [3] done processing\n",
      "INFO:cmdstanpy:Chain [4] done processing\n",
      "INFO:cmdstanpy:Chain [2] done processing\n",
      "INFO:cmdstanpy:Chain [1] done processing\n",
      "INFO:cmdstanpy:found newer exe file, not recompiling\n",
      "INFO:cmdstanpy:found newer exe file, not recompiling\n",
      "INFO:cmdstanpy:CmdStan start procesing\n",
      "INFO:cmdstanpy:Chain [1] start processing\n",
      "INFO:cmdstanpy:Chain [2] start processing\n",
      "INFO:cmdstanpy:Chain [3] start processing\n",
      "INFO:cmdstanpy:Chain [4] start processing\n"
     ]
    },
    {
     "name": "stdout",
     "output_type": "stream",
     "text": [
      "Fitting toy MC bin no.469\n",
      "0.949925925925926\n",
      "405 312\n"
     ]
    },
    {
     "name": "stderr",
     "output_type": "stream",
     "text": [
      "INFO:cmdstanpy:Chain [3] done processing\n",
      "INFO:cmdstanpy:Chain [1] done processing\n",
      "INFO:cmdstanpy:Chain [2] done processing\n",
      "INFO:cmdstanpy:Chain [4] done processing\n",
      "INFO:cmdstanpy:found newer exe file, not recompiling\n",
      "INFO:cmdstanpy:found newer exe file, not recompiling\n",
      "INFO:cmdstanpy:CmdStan start procesing\n",
      "INFO:cmdstanpy:Chain [1] start processing\n",
      "INFO:cmdstanpy:Chain [2] start processing\n",
      "INFO:cmdstanpy:Chain [3] start processing\n",
      "INFO:cmdstanpy:Chain [4] start processing\n"
     ]
    },
    {
     "name": "stdout",
     "output_type": "stream",
     "text": [
      "Fitting toy MC bin no.470\n",
      "0.9499874686716793\n",
      "399 307\n"
     ]
    },
    {
     "name": "stderr",
     "output_type": "stream",
     "text": [
      "INFO:cmdstanpy:Chain [3] done processing\n",
      "INFO:cmdstanpy:Chain [1] done processing\n",
      "INFO:cmdstanpy:Chain [4] done processing\n",
      "INFO:cmdstanpy:Chain [2] done processing\n",
      "INFO:cmdstanpy:found newer exe file, not recompiling\n",
      "INFO:cmdstanpy:found newer exe file, not recompiling\n",
      "INFO:cmdstanpy:CmdStan start procesing\n",
      "INFO:cmdstanpy:Chain [1] start processing\n",
      "INFO:cmdstanpy:Chain [2] start processing\n",
      "INFO:cmdstanpy:Chain [3] start processing\n",
      "INFO:cmdstanpy:Chain [4] start processing\n"
     ]
    },
    {
     "name": "stdout",
     "output_type": "stream",
     "text": [
      "Fitting toy MC bin no.471\n",
      "0.9497727272727273\n",
      "396 306\n"
     ]
    },
    {
     "name": "stderr",
     "output_type": "stream",
     "text": [
      "INFO:cmdstanpy:Chain [3] done processing\n",
      "INFO:cmdstanpy:Chain [1] done processing\n",
      "INFO:cmdstanpy:Chain [2] done processing\n",
      "INFO:cmdstanpy:Chain [4] done processing\n",
      "INFO:cmdstanpy:found newer exe file, not recompiling\n",
      "INFO:cmdstanpy:found newer exe file, not recompiling\n",
      "INFO:cmdstanpy:CmdStan start procesing\n",
      "INFO:cmdstanpy:Chain [1] start processing\n",
      "INFO:cmdstanpy:Chain [2] start processing\n",
      "INFO:cmdstanpy:Chain [3] start processing\n",
      "INFO:cmdstanpy:Chain [4] start processing\n"
     ]
    },
    {
     "name": "stdout",
     "output_type": "stream",
     "text": [
      "Fitting toy MC bin no.472\n",
      "0.9498795180722891\n",
      "415 320\n"
     ]
    },
    {
     "name": "stderr",
     "output_type": "stream",
     "text": [
      "INFO:cmdstanpy:Chain [3] done processing\n",
      "INFO:cmdstanpy:Chain [1] done processing\n",
      "INFO:cmdstanpy:Chain [2] done processing\n",
      "INFO:cmdstanpy:Chain [4] done processing\n",
      "INFO:cmdstanpy:found newer exe file, not recompiling\n",
      "INFO:cmdstanpy:found newer exe file, not recompiling\n",
      "INFO:cmdstanpy:CmdStan start procesing\n",
      "INFO:cmdstanpy:Chain [1] start processing\n",
      "INFO:cmdstanpy:Chain [2] start processing\n",
      "INFO:cmdstanpy:Chain [3] start processing\n",
      "INFO:cmdstanpy:Chain [4] start processing\n"
     ]
    },
    {
     "name": "stdout",
     "output_type": "stream",
     "text": [
      "Fitting toy MC bin no.473\n",
      "0.9498622589531681\n",
      "363 280\n"
     ]
    },
    {
     "name": "stderr",
     "output_type": "stream",
     "text": [
      "INFO:cmdstanpy:Chain [2] done processing\n",
      "INFO:cmdstanpy:Chain [4] done processing\n",
      "INFO:cmdstanpy:Chain [1] done processing\n",
      "INFO:cmdstanpy:Chain [3] done processing\n",
      "INFO:cmdstanpy:found newer exe file, not recompiling\n",
      "INFO:cmdstanpy:found newer exe file, not recompiling\n",
      "INFO:cmdstanpy:CmdStan start procesing\n",
      "INFO:cmdstanpy:Chain [1] start processing\n",
      "INFO:cmdstanpy:Chain [2] start processing\n",
      "INFO:cmdstanpy:Chain [3] start processing\n",
      "INFO:cmdstanpy:Chain [4] start processing\n"
     ]
    },
    {
     "name": "stdout",
     "output_type": "stream",
     "text": [
      "Fitting toy MC bin no.474\n",
      "0.9498521505376345\n",
      "372 287\n"
     ]
    },
    {
     "name": "stderr",
     "output_type": "stream",
     "text": [
      "INFO:cmdstanpy:Chain [4] done processing\n",
      "INFO:cmdstanpy:Chain [2] done processing\n",
      "INFO:cmdstanpy:Chain [3] done processing\n",
      "INFO:cmdstanpy:Chain [1] done processing\n",
      "INFO:cmdstanpy:found newer exe file, not recompiling\n",
      "INFO:cmdstanpy:found newer exe file, not recompiling\n",
      "INFO:cmdstanpy:CmdStan start procesing\n",
      "INFO:cmdstanpy:Chain [1] start processing\n",
      "INFO:cmdstanpy:Chain [2] start processing\n",
      "INFO:cmdstanpy:Chain [3] start processing\n",
      "INFO:cmdstanpy:Chain [4] start processing\n"
     ]
    },
    {
     "name": "stdout",
     "output_type": "stream",
     "text": [
      "Fitting toy MC bin no.475\n",
      "0.9498926014319808\n",
      "419 323\n"
     ]
    },
    {
     "name": "stderr",
     "output_type": "stream",
     "text": [
      "INFO:cmdstanpy:Chain [3] done processing\n",
      "INFO:cmdstanpy:Chain [1] done processing\n",
      "INFO:cmdstanpy:Chain [4] done processing\n",
      "INFO:cmdstanpy:Chain [2] done processing\n",
      "INFO:cmdstanpy:found newer exe file, not recompiling\n",
      "INFO:cmdstanpy:found newer exe file, not recompiling\n",
      "INFO:cmdstanpy:CmdStan start procesing\n",
      "INFO:cmdstanpy:Chain [1] start processing\n",
      "INFO:cmdstanpy:Chain [2] start processing\n",
      "INFO:cmdstanpy:Chain [3] start processing\n",
      "INFO:cmdstanpy:Chain [4] start processing\n"
     ]
    },
    {
     "name": "stdout",
     "output_type": "stream",
     "text": [
      "Fitting toy MC bin no.476\n",
      "0.9498521505376345\n",
      "372 287\n"
     ]
    },
    {
     "name": "stderr",
     "output_type": "stream",
     "text": [
      "INFO:cmdstanpy:Chain [2] done processing\n",
      "INFO:cmdstanpy:Chain [3] done processing\n",
      "INFO:cmdstanpy:Chain [1] done processing\n",
      "INFO:cmdstanpy:Chain [4] done processing\n",
      "INFO:cmdstanpy:found newer exe file, not recompiling\n",
      "INFO:cmdstanpy:found newer exe file, not recompiling\n",
      "INFO:cmdstanpy:CmdStan start procesing\n",
      "INFO:cmdstanpy:Chain [1] start processing\n",
      "INFO:cmdstanpy:Chain [2] start processing\n",
      "INFO:cmdstanpy:Chain [3] start processing\n",
      "INFO:cmdstanpy:Chain [4] start processing\n"
     ]
    },
    {
     "name": "stdout",
     "output_type": "stream",
     "text": [
      "Fitting toy MC bin no.477\n",
      "0.949925925925926\n",
      "405 312\n"
     ]
    },
    {
     "name": "stderr",
     "output_type": "stream",
     "text": [
      "INFO:cmdstanpy:Chain [4] done processing\n",
      "INFO:cmdstanpy:Chain [1] done processing\n",
      "INFO:cmdstanpy:Chain [2] done processing\n",
      "INFO:cmdstanpy:Chain [3] done processing\n",
      "INFO:cmdstanpy:found newer exe file, not recompiling\n",
      "INFO:cmdstanpy:found newer exe file, not recompiling\n",
      "INFO:cmdstanpy:CmdStan start procesing\n",
      "INFO:cmdstanpy:Chain [1] start processing\n",
      "INFO:cmdstanpy:Chain [2] start processing\n",
      "INFO:cmdstanpy:Chain [3] start processing\n",
      "INFO:cmdstanpy:Chain [4] start processing\n"
     ]
    },
    {
     "name": "stdout",
     "output_type": "stream",
     "text": [
      "Fitting toy MC bin no.478\n",
      "0.949934725848564\n",
      "383 295\n"
     ]
    },
    {
     "name": "stderr",
     "output_type": "stream",
     "text": [
      "INFO:cmdstanpy:Chain [2] done processing\n",
      "INFO:cmdstanpy:Chain [3] done processing\n",
      "INFO:cmdstanpy:Chain [4] done processing\n",
      "INFO:cmdstanpy:Chain [1] done processing\n",
      "INFO:cmdstanpy:found newer exe file, not recompiling\n",
      "INFO:cmdstanpy:found newer exe file, not recompiling\n",
      "INFO:cmdstanpy:CmdStan start procesing\n",
      "INFO:cmdstanpy:Chain [1] start processing\n",
      "INFO:cmdstanpy:Chain [2] start processing\n",
      "INFO:cmdstanpy:Chain [3] start processing\n",
      "INFO:cmdstanpy:Chain [4] start processing\n"
     ]
    },
    {
     "name": "stdout",
     "output_type": "stream",
     "text": [
      "Fitting toy MC bin no.479\n",
      "0.9498714652956298\n",
      "389 300\n"
     ]
    },
    {
     "name": "stderr",
     "output_type": "stream",
     "text": [
      "INFO:cmdstanpy:Chain [4] done processing\n",
      "INFO:cmdstanpy:Chain [1] done processing\n",
      "INFO:cmdstanpy:Chain [2] done processing\n",
      "INFO:cmdstanpy:Chain [3] done processing\n",
      "INFO:cmdstanpy:found newer exe file, not recompiling\n",
      "INFO:cmdstanpy:found newer exe file, not recompiling\n",
      "INFO:cmdstanpy:CmdStan start procesing\n",
      "INFO:cmdstanpy:Chain [1] start processing\n",
      "INFO:cmdstanpy:Chain [2] start processing\n",
      "INFO:cmdstanpy:Chain [3] start processing\n",
      "INFO:cmdstanpy:Chain [4] start processing\n"
     ]
    },
    {
     "name": "stdout",
     "output_type": "stream",
     "text": [
      "Fitting toy MC bin no.480\n",
      "0.9499500000000001\n",
      "400 308\n"
     ]
    },
    {
     "name": "stderr",
     "output_type": "stream",
     "text": [
      "INFO:cmdstanpy:Chain [1] done processing\n",
      "INFO:cmdstanpy:Chain [3] done processing\n",
      "INFO:cmdstanpy:Chain [4] done processing\n",
      "INFO:cmdstanpy:Chain [2] done processing\n",
      "INFO:cmdstanpy:found newer exe file, not recompiling\n",
      "INFO:cmdstanpy:found newer exe file, not recompiling\n",
      "INFO:cmdstanpy:CmdStan start procesing\n",
      "INFO:cmdstanpy:Chain [1] start processing\n",
      "INFO:cmdstanpy:Chain [2] start processing\n",
      "INFO:cmdstanpy:Chain [3] start processing\n",
      "INFO:cmdstanpy:Chain [4] start processing\n"
     ]
    },
    {
     "name": "stdout",
     "output_type": "stream",
     "text": [
      "Fitting toy MC bin no.481\n",
      "0.9501044386422977\n",
      "383 294\n"
     ]
    },
    {
     "name": "stderr",
     "output_type": "stream",
     "text": [
      "INFO:cmdstanpy:Chain [1] done processing\n",
      "INFO:cmdstanpy:Chain [3] done processing\n",
      "INFO:cmdstanpy:Chain [2] done processing\n",
      "INFO:cmdstanpy:Chain [4] done processing\n",
      "INFO:cmdstanpy:found newer exe file, not recompiling\n",
      "INFO:cmdstanpy:found newer exe file, not recompiling\n",
      "INFO:cmdstanpy:CmdStan start procesing\n",
      "INFO:cmdstanpy:Chain [1] start processing\n",
      "INFO:cmdstanpy:Chain [2] start processing\n",
      "INFO:cmdstanpy:Chain [3] start processing\n",
      "INFO:cmdstanpy:Chain [4] start processing\n"
     ]
    },
    {
     "name": "stdout",
     "output_type": "stream",
     "text": [
      "Fitting toy MC bin no.482\n",
      "0.94984375\n",
      "416 321\n"
     ]
    },
    {
     "name": "stderr",
     "output_type": "stream",
     "text": [
      "INFO:cmdstanpy:Chain [3] done processing\n",
      "INFO:cmdstanpy:Chain [4] done processing\n",
      "INFO:cmdstanpy:Chain [1] done processing\n",
      "INFO:cmdstanpy:Chain [2] done processing\n",
      "INFO:cmdstanpy:found newer exe file, not recompiling\n",
      "INFO:cmdstanpy:found newer exe file, not recompiling\n",
      "INFO:cmdstanpy:CmdStan start procesing\n",
      "INFO:cmdstanpy:Chain [1] start processing\n",
      "INFO:cmdstanpy:Chain [2] start processing\n",
      "INFO:cmdstanpy:Chain [3] start processing\n",
      "INFO:cmdstanpy:Chain [4] start processing\n"
     ]
    },
    {
     "name": "stdout",
     "output_type": "stream",
     "text": [
      "Fitting toy MC bin no.483\n",
      "0.9499154589371981\n",
      "414 319\n"
     ]
    },
    {
     "name": "stderr",
     "output_type": "stream",
     "text": [
      "INFO:cmdstanpy:Chain [2] done processing\n",
      "INFO:cmdstanpy:Chain [1] done processing\n",
      "INFO:cmdstanpy:Chain [4] done processing\n",
      "INFO:cmdstanpy:Chain [3] done processing\n",
      "INFO:cmdstanpy:found newer exe file, not recompiling\n",
      "INFO:cmdstanpy:found newer exe file, not recompiling\n",
      "INFO:cmdstanpy:CmdStan start procesing\n",
      "INFO:cmdstanpy:Chain [1] start processing\n",
      "INFO:cmdstanpy:Chain [2] start processing\n",
      "INFO:cmdstanpy:Chain [3] start processing\n",
      "INFO:cmdstanpy:Chain [4] start processing\n"
     ]
    },
    {
     "name": "stdout",
     "output_type": "stream",
     "text": [
      "Fitting toy MC bin no.484\n",
      "0.9499874686716793\n",
      "399 307\n"
     ]
    },
    {
     "name": "stderr",
     "output_type": "stream",
     "text": [
      "INFO:cmdstanpy:Chain [2] done processing\n",
      "INFO:cmdstanpy:Chain [3] done processing\n",
      "INFO:cmdstanpy:Chain [1] done processing\n",
      "INFO:cmdstanpy:Chain [4] done processing\n",
      "INFO:cmdstanpy:found newer exe file, not recompiling\n",
      "INFO:cmdstanpy:found newer exe file, not recompiling\n",
      "INFO:cmdstanpy:CmdStan start procesing\n",
      "INFO:cmdstanpy:Chain [1] start processing\n",
      "INFO:cmdstanpy:Chain [2] start processing\n",
      "INFO:cmdstanpy:Chain [3] start processing\n",
      "INFO:cmdstanpy:Chain [4] start processing\n"
     ]
    },
    {
     "name": "stdout",
     "output_type": "stream",
     "text": [
      "Fitting toy MC bin no.485\n",
      "0.9497967479674797\n",
      "369 285\n"
     ]
    },
    {
     "name": "stderr",
     "output_type": "stream",
     "text": [
      "INFO:cmdstanpy:Chain [3] done processing\n",
      "INFO:cmdstanpy:Chain [2] done processing\n",
      "INFO:cmdstanpy:Chain [4] done processing\n",
      "INFO:cmdstanpy:Chain [1] done processing\n",
      "INFO:cmdstanpy:found newer exe file, not recompiling\n",
      "INFO:cmdstanpy:found newer exe file, not recompiling\n",
      "INFO:cmdstanpy:CmdStan start procesing\n",
      "INFO:cmdstanpy:Chain [1] start processing\n",
      "INFO:cmdstanpy:Chain [2] start processing\n",
      "INFO:cmdstanpy:Chain [3] start processing\n",
      "INFO:cmdstanpy:Chain [4] start processing\n"
     ]
    },
    {
     "name": "stdout",
     "output_type": "stream",
     "text": [
      "Fitting toy MC bin no.486\n",
      "0.9497584541062801\n",
      "414 320\n"
     ]
    },
    {
     "name": "stderr",
     "output_type": "stream",
     "text": [
      "INFO:cmdstanpy:Chain [3] done processing\n",
      "INFO:cmdstanpy:Chain [1] done processing\n",
      "INFO:cmdstanpy:Chain [2] done processing\n",
      "INFO:cmdstanpy:Chain [4] done processing\n",
      "INFO:cmdstanpy:found newer exe file, not recompiling\n",
      "INFO:cmdstanpy:found newer exe file, not recompiling\n",
      "INFO:cmdstanpy:CmdStan start procesing\n",
      "INFO:cmdstanpy:Chain [1] start processing\n",
      "INFO:cmdstanpy:Chain [2] start processing\n",
      "INFO:cmdstanpy:Chain [3] start processing\n",
      "INFO:cmdstanpy:Chain [4] start processing\n"
     ]
    },
    {
     "name": "stdout",
     "output_type": "stream",
     "text": [
      "Fitting toy MC bin no.487\n",
      "0.949803664921466\n",
      "382 295\n"
     ]
    },
    {
     "name": "stderr",
     "output_type": "stream",
     "text": [
      "INFO:cmdstanpy:Chain [4] done processing\n",
      "INFO:cmdstanpy:Chain [3] done processing\n",
      "INFO:cmdstanpy:Chain [1] done processing\n",
      "INFO:cmdstanpy:Chain [2] done processing\n",
      "INFO:cmdstanpy:found newer exe file, not recompiling\n",
      "INFO:cmdstanpy:found newer exe file, not recompiling\n",
      "INFO:cmdstanpy:CmdStan start procesing\n",
      "INFO:cmdstanpy:Chain [1] start processing\n",
      "INFO:cmdstanpy:Chain [2] start processing\n",
      "INFO:cmdstanpy:Chain [3] start processing\n",
      "INFO:cmdstanpy:Chain [4] start processing\n"
     ]
    },
    {
     "name": "stdout",
     "output_type": "stream",
     "text": [
      "Fitting toy MC bin no.488\n",
      "0.95\n",
      "377 290\n"
     ]
    },
    {
     "name": "stderr",
     "output_type": "stream",
     "text": [
      "INFO:cmdstanpy:Chain [3] done processing\n",
      "INFO:cmdstanpy:Chain [2] done processing\n",
      "INFO:cmdstanpy:Chain [4] done processing\n",
      "INFO:cmdstanpy:Chain [1] done processing\n",
      "INFO:cmdstanpy:found newer exe file, not recompiling\n",
      "INFO:cmdstanpy:found newer exe file, not recompiling\n",
      "INFO:cmdstanpy:CmdStan start procesing\n",
      "INFO:cmdstanpy:Chain [1] start processing\n",
      "INFO:cmdstanpy:Chain [2] start processing\n",
      "INFO:cmdstanpy:Chain [3] start processing\n",
      "INFO:cmdstanpy:Chain [4] start processing\n"
     ]
    },
    {
     "name": "stdout",
     "output_type": "stream",
     "text": [
      "Fitting toy MC bin no.489\n",
      "0.9500243309002433\n",
      "411 316\n"
     ]
    },
    {
     "name": "stderr",
     "output_type": "stream",
     "text": [
      "INFO:cmdstanpy:Chain [3] done processing\n",
      "INFO:cmdstanpy:Chain [4] done processing\n",
      "INFO:cmdstanpy:Chain [2] done processing\n",
      "INFO:cmdstanpy:Chain [1] done processing\n",
      "INFO:cmdstanpy:found newer exe file, not recompiling\n",
      "INFO:cmdstanpy:found newer exe file, not recompiling\n",
      "INFO:cmdstanpy:CmdStan start procesing\n",
      "INFO:cmdstanpy:Chain [1] start processing\n",
      "INFO:cmdstanpy:Chain [2] start processing\n",
      "INFO:cmdstanpy:Chain [3] start processing\n",
      "INFO:cmdstanpy:Chain [4] start processing\n"
     ]
    },
    {
     "name": "stdout",
     "output_type": "stream",
     "text": [
      "Fitting toy MC bin no.490\n",
      "0.9498245614035088\n",
      "399 308\n"
     ]
    },
    {
     "name": "stderr",
     "output_type": "stream",
     "text": [
      "INFO:cmdstanpy:Chain [2] done processing\n",
      "INFO:cmdstanpy:Chain [4] done processing\n",
      "INFO:cmdstanpy:Chain [3] done processing\n",
      "INFO:cmdstanpy:Chain [1] done processing\n",
      "INFO:cmdstanpy:found newer exe file, not recompiling\n",
      "INFO:cmdstanpy:found newer exe file, not recompiling\n",
      "INFO:cmdstanpy:CmdStan start procesing\n",
      "INFO:cmdstanpy:Chain [1] start processing\n",
      "INFO:cmdstanpy:Chain [2] start processing\n",
      "INFO:cmdstanpy:Chain [3] start processing\n",
      "INFO:cmdstanpy:Chain [4] start processing\n"
     ]
    },
    {
     "name": "stdout",
     "output_type": "stream",
     "text": [
      "Fitting toy MC bin no.491\n",
      "0.9499865951742628\n",
      "373 287\n"
     ]
    },
    {
     "name": "stderr",
     "output_type": "stream",
     "text": [
      "INFO:cmdstanpy:Chain [4] done processing\n",
      "INFO:cmdstanpy:Chain [3] done processing\n",
      "INFO:cmdstanpy:Chain [2] done processing\n",
      "INFO:cmdstanpy:Chain [1] done processing\n",
      "INFO:cmdstanpy:found newer exe file, not recompiling\n",
      "INFO:cmdstanpy:found newer exe file, not recompiling\n",
      "INFO:cmdstanpy:CmdStan start procesing\n",
      "INFO:cmdstanpy:Chain [1] start processing\n",
      "INFO:cmdstanpy:Chain [2] start processing\n",
      "INFO:cmdstanpy:Chain [3] start processing\n",
      "INFO:cmdstanpy:Chain [4] start processing\n"
     ]
    },
    {
     "name": "stdout",
     "output_type": "stream",
     "text": [
      "Fitting toy MC bin no.492\n",
      "0.949934725848564\n",
      "383 295\n"
     ]
    },
    {
     "name": "stderr",
     "output_type": "stream",
     "text": [
      "INFO:cmdstanpy:Chain [2] done processing\n",
      "INFO:cmdstanpy:Chain [1] done processing\n",
      "INFO:cmdstanpy:Chain [3] done processing\n",
      "INFO:cmdstanpy:Chain [4] done processing\n",
      "INFO:cmdstanpy:found newer exe file, not recompiling\n",
      "INFO:cmdstanpy:found newer exe file, not recompiling\n",
      "INFO:cmdstanpy:CmdStan start procesing\n",
      "INFO:cmdstanpy:Chain [1] start processing\n",
      "INFO:cmdstanpy:Chain [2] start processing\n",
      "INFO:cmdstanpy:Chain [3] start processing\n",
      "INFO:cmdstanpy:Chain [4] start processing\n"
     ]
    },
    {
     "name": "stdout",
     "output_type": "stream",
     "text": [
      "Fitting toy MC bin no.493\n",
      "0.9499154589371981\n",
      "414 319\n"
     ]
    },
    {
     "name": "stderr",
     "output_type": "stream",
     "text": [
      "INFO:cmdstanpy:Chain [3] done processing\n",
      "INFO:cmdstanpy:Chain [2] done processing\n",
      "INFO:cmdstanpy:Chain [1] done processing\n",
      "INFO:cmdstanpy:Chain [4] done processing\n",
      "INFO:cmdstanpy:found newer exe file, not recompiling\n",
      "INFO:cmdstanpy:found newer exe file, not recompiling\n",
      "INFO:cmdstanpy:CmdStan start procesing\n",
      "INFO:cmdstanpy:Chain [1] start processing\n",
      "INFO:cmdstanpy:Chain [2] start processing\n",
      "INFO:cmdstanpy:Chain [3] start processing\n",
      "INFO:cmdstanpy:Chain [4] start processing\n"
     ]
    },
    {
     "name": "stdout",
     "output_type": "stream",
     "text": [
      "Fitting toy MC bin no.494\n",
      "0.9499024390243902\n",
      "410 316\n"
     ]
    },
    {
     "name": "stderr",
     "output_type": "stream",
     "text": [
      "INFO:cmdstanpy:Chain [4] done processing\n",
      "INFO:cmdstanpy:Chain [1] done processing\n",
      "INFO:cmdstanpy:Chain [3] done processing\n",
      "INFO:cmdstanpy:Chain [2] done processing\n",
      "INFO:cmdstanpy:found newer exe file, not recompiling\n",
      "INFO:cmdstanpy:found newer exe file, not recompiling\n",
      "INFO:cmdstanpy:CmdStan start procesing\n",
      "INFO:cmdstanpy:Chain [1] start processing\n",
      "INFO:cmdstanpy:Chain [2] start processing\n",
      "INFO:cmdstanpy:Chain [3] start processing\n",
      "INFO:cmdstanpy:Chain [4] start processing\n"
     ]
    },
    {
     "name": "stdout",
     "output_type": "stream",
     "text": [
      "Fitting toy MC bin no.495\n",
      "0.9498218527315915\n",
      "421 325\n"
     ]
    },
    {
     "name": "stderr",
     "output_type": "stream",
     "text": [
      "INFO:cmdstanpy:Chain [3] done processing\n",
      "INFO:cmdstanpy:Chain [2] done processing\n",
      "INFO:cmdstanpy:Chain [4] done processing\n",
      "INFO:cmdstanpy:Chain [1] done processing\n",
      "INFO:cmdstanpy:found newer exe file, not recompiling\n",
      "INFO:cmdstanpy:found newer exe file, not recompiling\n",
      "INFO:cmdstanpy:CmdStan start procesing\n",
      "INFO:cmdstanpy:Chain [1] start processing\n",
      "INFO:cmdstanpy:Chain [2] start processing\n",
      "INFO:cmdstanpy:Chain [3] start processing\n",
      "INFO:cmdstanpy:Chain [4] start processing\n"
     ]
    },
    {
     "name": "stdout",
     "output_type": "stream",
     "text": [
      "Fitting toy MC bin no.496\n",
      "0.9498831775700934\n",
      "428 330\n"
     ]
    },
    {
     "name": "stderr",
     "output_type": "stream",
     "text": [
      "INFO:cmdstanpy:Chain [3] done processing\n",
      "INFO:cmdstanpy:Chain [1] done processing\n",
      "INFO:cmdstanpy:Chain [4] done processing\n",
      "INFO:cmdstanpy:Chain [2] done processing\n",
      "INFO:cmdstanpy:found newer exe file, not recompiling\n",
      "INFO:cmdstanpy:found newer exe file, not recompiling\n",
      "INFO:cmdstanpy:CmdStan start procesing\n",
      "INFO:cmdstanpy:Chain [1] start processing\n",
      "INFO:cmdstanpy:Chain [2] start processing\n",
      "INFO:cmdstanpy:Chain [3] start processing\n",
      "INFO:cmdstanpy:Chain [4] start processing\n"
     ]
    },
    {
     "name": "stdout",
     "output_type": "stream",
     "text": [
      "Fitting toy MC bin no.497\n",
      "0.9498218527315915\n",
      "421 325\n"
     ]
    },
    {
     "name": "stderr",
     "output_type": "stream",
     "text": [
      "INFO:cmdstanpy:Chain [4] done processing\n",
      "INFO:cmdstanpy:Chain [1] done processing\n",
      "INFO:cmdstanpy:Chain [3] done processing\n",
      "INFO:cmdstanpy:Chain [2] done processing\n",
      "INFO:cmdstanpy:found newer exe file, not recompiling\n",
      "INFO:cmdstanpy:found newer exe file, not recompiling\n",
      "INFO:cmdstanpy:CmdStan start procesing\n",
      "INFO:cmdstanpy:Chain [1] start processing\n",
      "INFO:cmdstanpy:Chain [2] start processing\n",
      "INFO:cmdstanpy:Chain [3] start processing\n",
      "INFO:cmdstanpy:Chain [4] start processing\n"
     ]
    },
    {
     "name": "stdout",
     "output_type": "stream",
     "text": [
      "Fitting toy MC bin no.498\n",
      "0.9497803617571059\n",
      "387 299\n"
     ]
    },
    {
     "name": "stderr",
     "output_type": "stream",
     "text": [
      "INFO:cmdstanpy:Chain [3] done processing\n",
      "INFO:cmdstanpy:Chain [1] done processing\n",
      "INFO:cmdstanpy:Chain [2] done processing\n",
      "INFO:cmdstanpy:Chain [4] done processing\n",
      "INFO:cmdstanpy:found newer exe file, not recompiling\n",
      "INFO:cmdstanpy:found newer exe file, not recompiling\n",
      "INFO:cmdstanpy:CmdStan start procesing\n",
      "INFO:cmdstanpy:Chain [1] start processing\n",
      "INFO:cmdstanpy:Chain [2] start processing\n",
      "INFO:cmdstanpy:Chain [3] start processing\n",
      "INFO:cmdstanpy:Chain [4] start processing\n"
     ]
    },
    {
     "name": "stdout",
     "output_type": "stream",
     "text": [
      "Fitting toy MC bin no.499\n",
      "0.9498692810457516\n",
      "459 354\n"
     ]
    },
    {
     "name": "stderr",
     "output_type": "stream",
     "text": [
      "INFO:cmdstanpy:Chain [2] done processing\n",
      "INFO:cmdstanpy:Chain [4] done processing\n",
      "INFO:cmdstanpy:Chain [3] done processing\n",
      "INFO:cmdstanpy:Chain [1] done processing\n",
      "INFO:cmdstanpy:found newer exe file, not recompiling\n",
      "INFO:cmdstanpy:found newer exe file, not recompiling\n",
      "INFO:cmdstanpy:CmdStan start procesing\n",
      "INFO:cmdstanpy:Chain [1] start processing\n",
      "INFO:cmdstanpy:Chain [2] start processing\n",
      "INFO:cmdstanpy:Chain [3] start processing\n",
      "INFO:cmdstanpy:Chain [4] start processing\n"
     ]
    },
    {
     "name": "stdout",
     "output_type": "stream",
     "text": [
      "Fitting toy MC bin no.500\n",
      "0.9499746835443038\n",
      "395 304\n"
     ]
    },
    {
     "name": "stderr",
     "output_type": "stream",
     "text": [
      "INFO:cmdstanpy:Chain [2] done processing\n",
      "INFO:cmdstanpy:Chain [4] done processing\n",
      "INFO:cmdstanpy:Chain [1] done processing\n",
      "INFO:cmdstanpy:Chain [3] done processing\n",
      "INFO:cmdstanpy:found newer exe file, not recompiling\n",
      "INFO:cmdstanpy:found newer exe file, not recompiling\n",
      "INFO:cmdstanpy:CmdStan start procesing\n",
      "INFO:cmdstanpy:Chain [1] start processing\n",
      "INFO:cmdstanpy:Chain [2] start processing\n",
      "INFO:cmdstanpy:Chain [3] start processing\n",
      "INFO:cmdstanpy:Chain [4] start processing\n"
     ]
    },
    {
     "name": "stdout",
     "output_type": "stream",
     "text": [
      "Fitting toy MC bin no.501\n",
      "0.9501562499999999\n",
      "416 319\n"
     ]
    },
    {
     "name": "stderr",
     "output_type": "stream",
     "text": [
      "INFO:cmdstanpy:Chain [2] done processing\n",
      "INFO:cmdstanpy:Chain [3] done processing\n",
      "INFO:cmdstanpy:Chain [1] done processing\n",
      "INFO:cmdstanpy:Chain [4] done processing\n",
      "INFO:cmdstanpy:found newer exe file, not recompiling\n",
      "INFO:cmdstanpy:found newer exe file, not recompiling\n",
      "INFO:cmdstanpy:CmdStan start procesing\n",
      "INFO:cmdstanpy:Chain [1] start processing\n",
      "INFO:cmdstanpy:Chain [2] start processing\n",
      "INFO:cmdstanpy:Chain [3] start processing\n",
      "INFO:cmdstanpy:Chain [4] start processing\n"
     ]
    },
    {
     "name": "stdout",
     "output_type": "stream",
     "text": [
      "Fitting toy MC bin no.502\n",
      "0.9498571428571428\n",
      "420 324\n"
     ]
    },
    {
     "name": "stderr",
     "output_type": "stream",
     "text": [
      "INFO:cmdstanpy:Chain [4] done processing\n",
      "INFO:cmdstanpy:Chain [1] done processing\n",
      "INFO:cmdstanpy:Chain [2] done processing\n",
      "INFO:cmdstanpy:Chain [3] done processing\n",
      "INFO:cmdstanpy:found newer exe file, not recompiling\n",
      "INFO:cmdstanpy:found newer exe file, not recompiling\n",
      "INFO:cmdstanpy:CmdStan start procesing\n",
      "INFO:cmdstanpy:Chain [1] start processing\n",
      "INFO:cmdstanpy:Chain [2] start processing\n",
      "INFO:cmdstanpy:Chain [3] start processing\n",
      "INFO:cmdstanpy:Chain [4] start processing\n"
     ]
    },
    {
     "name": "stdout",
     "output_type": "stream",
     "text": [
      "Fitting toy MC bin no.503\n",
      "0.9499661399548532\n",
      "443 341\n"
     ]
    },
    {
     "name": "stderr",
     "output_type": "stream",
     "text": [
      "INFO:cmdstanpy:Chain [3] done processing\n",
      "INFO:cmdstanpy:Chain [4] done processing\n",
      "INFO:cmdstanpy:Chain [2] done processing\n",
      "INFO:cmdstanpy:Chain [1] done processing\n",
      "INFO:cmdstanpy:found newer exe file, not recompiling\n",
      "INFO:cmdstanpy:found newer exe file, not recompiling\n",
      "INFO:cmdstanpy:CmdStan start procesing\n",
      "INFO:cmdstanpy:Chain [1] start processing\n",
      "INFO:cmdstanpy:Chain [2] start processing\n",
      "INFO:cmdstanpy:Chain [3] start processing\n",
      "INFO:cmdstanpy:Chain [4] start processing\n"
     ]
    },
    {
     "name": "stdout",
     "output_type": "stream",
     "text": [
      "Fitting toy MC bin no.504\n",
      "0.9498891625615763\n",
      "406 313\n"
     ]
    },
    {
     "name": "stderr",
     "output_type": "stream",
     "text": [
      "INFO:cmdstanpy:Chain [3] done processing\n",
      "INFO:cmdstanpy:Chain [1] done processing\n",
      "INFO:cmdstanpy:Chain [2] done processing\n",
      "INFO:cmdstanpy:Chain [4] done processing\n",
      "INFO:cmdstanpy:found newer exe file, not recompiling\n",
      "INFO:cmdstanpy:found newer exe file, not recompiling\n",
      "INFO:cmdstanpy:CmdStan start procesing\n",
      "INFO:cmdstanpy:Chain [1] start processing\n",
      "INFO:cmdstanpy:Chain [2] start processing\n",
      "INFO:cmdstanpy:Chain [3] start processing\n",
      "INFO:cmdstanpy:Chain [4] start processing\n"
     ]
    },
    {
     "name": "stdout",
     "output_type": "stream",
     "text": [
      "Fitting toy MC bin no.505\n",
      "0.9499127182044889\n",
      "401 309\n"
     ]
    },
    {
     "name": "stderr",
     "output_type": "stream",
     "text": [
      "INFO:cmdstanpy:Chain [4] done processing\n",
      "INFO:cmdstanpy:Chain [1] done processing\n",
      "INFO:cmdstanpy:Chain [3] done processing\n",
      "INFO:cmdstanpy:Chain [2] done processing\n",
      "INFO:cmdstanpy:found newer exe file, not recompiling\n",
      "INFO:cmdstanpy:found newer exe file, not recompiling\n",
      "INFO:cmdstanpy:CmdStan start procesing\n",
      "INFO:cmdstanpy:Chain [1] start processing\n",
      "INFO:cmdstanpy:Chain [2] start processing\n",
      "INFO:cmdstanpy:Chain [3] start processing\n",
      "INFO:cmdstanpy:Chain [4] start processing\n"
     ]
    },
    {
     "name": "stdout",
     "output_type": "stream",
     "text": [
      "Fitting toy MC bin no.506\n",
      "0.950120320855615\n",
      "374 287\n"
     ]
    },
    {
     "name": "stderr",
     "output_type": "stream",
     "text": [
      "INFO:cmdstanpy:Chain [1] done processing\n",
      "INFO:cmdstanpy:Chain [2] done processing\n",
      "INFO:cmdstanpy:Chain [4] done processing\n",
      "INFO:cmdstanpy:Chain [3] done processing\n",
      "INFO:cmdstanpy:found newer exe file, not recompiling\n",
      "INFO:cmdstanpy:found newer exe file, not recompiling\n",
      "INFO:cmdstanpy:CmdStan start procesing\n",
      "INFO:cmdstanpy:Chain [1] start processing\n",
      "INFO:cmdstanpy:Chain [2] start processing\n",
      "INFO:cmdstanpy:Chain [3] start processing\n",
      "INFO:cmdstanpy:Chain [4] start processing\n"
     ]
    },
    {
     "name": "stdout",
     "output_type": "stream",
     "text": [
      "Fitting toy MC bin no.507\n",
      "0.9497883597883597\n",
      "378 292\n"
     ]
    },
    {
     "name": "stderr",
     "output_type": "stream",
     "text": [
      "INFO:cmdstanpy:Chain [1] done processing\n",
      "INFO:cmdstanpy:Chain [4] done processing\n",
      "INFO:cmdstanpy:Chain [3] done processing\n",
      "INFO:cmdstanpy:Chain [2] done processing\n",
      "INFO:cmdstanpy:found newer exe file, not recompiling\n",
      "INFO:cmdstanpy:found newer exe file, not recompiling\n",
      "INFO:cmdstanpy:CmdStan start procesing\n",
      "INFO:cmdstanpy:Chain [1] start processing\n",
      "INFO:cmdstanpy:Chain [2] start processing\n",
      "INFO:cmdstanpy:Chain [3] start processing\n",
      "INFO:cmdstanpy:Chain [4] start processing\n"
     ]
    },
    {
     "name": "stdout",
     "output_type": "stream",
     "text": [
      "Fitting toy MC bin no.508\n",
      "0.9499024390243902\n",
      "410 316\n"
     ]
    },
    {
     "name": "stderr",
     "output_type": "stream",
     "text": [
      "INFO:cmdstanpy:Chain [2] done processing\n",
      "INFO:cmdstanpy:Chain [4] done processing\n",
      "INFO:cmdstanpy:Chain [3] done processing\n",
      "INFO:cmdstanpy:Chain [1] done processing\n",
      "INFO:cmdstanpy:found newer exe file, not recompiling\n",
      "INFO:cmdstanpy:found newer exe file, not recompiling\n",
      "INFO:cmdstanpy:CmdStan start procesing\n",
      "INFO:cmdstanpy:Chain [1] start processing\n",
      "INFO:cmdstanpy:Chain [2] start processing\n",
      "INFO:cmdstanpy:Chain [3] start processing\n",
      "INFO:cmdstanpy:Chain [4] start processing\n"
     ]
    },
    {
     "name": "stdout",
     "output_type": "stream",
     "text": [
      "Fitting toy MC bin no.509\n",
      "0.9497875\n",
      "400 309\n"
     ]
    },
    {
     "name": "stderr",
     "output_type": "stream",
     "text": [
      "INFO:cmdstanpy:Chain [2] done processing\n",
      "INFO:cmdstanpy:Chain [3] done processing\n",
      "INFO:cmdstanpy:Chain [1] done processing\n",
      "INFO:cmdstanpy:Chain [4] done processing\n",
      "INFO:cmdstanpy:found newer exe file, not recompiling\n",
      "INFO:cmdstanpy:found newer exe file, not recompiling\n",
      "INFO:cmdstanpy:CmdStan start procesing\n",
      "INFO:cmdstanpy:Chain [1] start processing\n",
      "INFO:cmdstanpy:Chain [2] start processing\n",
      "INFO:cmdstanpy:Chain [3] start processing\n",
      "INFO:cmdstanpy:Chain [4] start processing\n"
     ]
    },
    {
     "name": "stdout",
     "output_type": "stream",
     "text": [
      "Fitting toy MC bin no.510\n",
      "0.9498467966573816\n",
      "359 277\n"
     ]
    },
    {
     "name": "stderr",
     "output_type": "stream",
     "text": [
      "INFO:cmdstanpy:Chain [1] done processing\n",
      "INFO:cmdstanpy:Chain [4] done processing\n",
      "INFO:cmdstanpy:Chain [2] done processing\n",
      "INFO:cmdstanpy:Chain [3] done processing\n",
      "INFO:cmdstanpy:found newer exe file, not recompiling\n",
      "INFO:cmdstanpy:found newer exe file, not recompiling\n",
      "INFO:cmdstanpy:CmdStan start procesing\n",
      "INFO:cmdstanpy:Chain [1] start processing\n",
      "INFO:cmdstanpy:Chain [2] start processing\n",
      "INFO:cmdstanpy:Chain [3] start processing\n",
      "INFO:cmdstanpy:Chain [4] start processing\n"
     ]
    },
    {
     "name": "stdout",
     "output_type": "stream",
     "text": [
      "Fitting toy MC bin no.511\n",
      "0.949934725848564\n",
      "383 295\n"
     ]
    },
    {
     "name": "stderr",
     "output_type": "stream",
     "text": [
      "INFO:cmdstanpy:Chain [3] done processing\n",
      "INFO:cmdstanpy:Chain [4] done processing\n",
      "INFO:cmdstanpy:Chain [2] done processing\n",
      "INFO:cmdstanpy:Chain [1] done processing\n",
      "INFO:cmdstanpy:found newer exe file, not recompiling\n",
      "INFO:cmdstanpy:found newer exe file, not recompiling\n",
      "INFO:cmdstanpy:CmdStan start procesing\n",
      "INFO:cmdstanpy:Chain [1] start processing\n",
      "INFO:cmdstanpy:Chain [2] start processing\n",
      "INFO:cmdstanpy:Chain [3] start processing\n",
      "INFO:cmdstanpy:Chain [4] start processing\n"
     ]
    },
    {
     "name": "stdout",
     "output_type": "stream",
     "text": [
      "Fitting toy MC bin no.512\n",
      "0.9497658079625293\n",
      "427 330\n"
     ]
    },
    {
     "name": "stderr",
     "output_type": "stream",
     "text": [
      "INFO:cmdstanpy:Chain [4] done processing\n",
      "INFO:cmdstanpy:Chain [3] done processing\n",
      "INFO:cmdstanpy:Chain [1] done processing\n",
      "INFO:cmdstanpy:Chain [2] done processing\n",
      "INFO:cmdstanpy:found newer exe file, not recompiling\n",
      "INFO:cmdstanpy:found newer exe file, not recompiling\n",
      "INFO:cmdstanpy:CmdStan start procesing\n",
      "INFO:cmdstanpy:Chain [1] start processing\n",
      "INFO:cmdstanpy:Chain [2] start processing\n",
      "INFO:cmdstanpy:Chain [3] start processing\n",
      "INFO:cmdstanpy:Chain [4] start processing\n"
     ]
    },
    {
     "name": "stdout",
     "output_type": "stream",
     "text": [
      "Fitting toy MC bin no.513\n",
      "0.9498214285714286\n",
      "364 281\n"
     ]
    },
    {
     "name": "stderr",
     "output_type": "stream",
     "text": [
      "INFO:cmdstanpy:Chain [3] done processing\n",
      "INFO:cmdstanpy:Chain [2] done processing\n",
      "INFO:cmdstanpy:Chain [4] done processing\n",
      "INFO:cmdstanpy:Chain [1] done processing\n",
      "INFO:cmdstanpy:found newer exe file, not recompiling\n",
      "INFO:cmdstanpy:found newer exe file, not recompiling\n",
      "INFO:cmdstanpy:CmdStan start procesing\n",
      "INFO:cmdstanpy:Chain [1] start processing\n",
      "INFO:cmdstanpy:Chain [2] start processing\n",
      "INFO:cmdstanpy:Chain [3] start processing\n",
      "INFO:cmdstanpy:Chain [4] start processing\n"
     ]
    },
    {
     "name": "stdout",
     "output_type": "stream",
     "text": [
      "Fitting toy MC bin no.514\n",
      "0.9498477157360407\n",
      "394 304\n"
     ]
    },
    {
     "name": "stderr",
     "output_type": "stream",
     "text": [
      "INFO:cmdstanpy:Chain [4] done processing\n",
      "INFO:cmdstanpy:Chain [1] done processing\n",
      "INFO:cmdstanpy:Chain [3] done processing\n",
      "INFO:cmdstanpy:Chain [2] done processing\n",
      "INFO:cmdstanpy:found newer exe file, not recompiling\n",
      "INFO:cmdstanpy:found newer exe file, not recompiling\n",
      "INFO:cmdstanpy:CmdStan start procesing\n",
      "INFO:cmdstanpy:Chain [1] start processing\n",
      "INFO:cmdstanpy:Chain [2] start processing\n",
      "INFO:cmdstanpy:Chain [3] start processing\n",
      "INFO:cmdstanpy:Chain [4] start processing\n"
     ]
    },
    {
     "name": "stdout",
     "output_type": "stream",
     "text": [
      "Fitting toy MC bin no.515\n",
      "0.9499628712871288\n",
      "404 311\n"
     ]
    },
    {
     "name": "stderr",
     "output_type": "stream",
     "text": [
      "INFO:cmdstanpy:Chain [3] done processing\n",
      "INFO:cmdstanpy:Chain [1] done processing\n",
      "INFO:cmdstanpy:Chain [4] done processing\n",
      "INFO:cmdstanpy:Chain [2] done processing\n",
      "INFO:cmdstanpy:found newer exe file, not recompiling\n",
      "INFO:cmdstanpy:found newer exe file, not recompiling\n",
      "INFO:cmdstanpy:CmdStan start procesing\n",
      "INFO:cmdstanpy:Chain [1] start processing\n",
      "INFO:cmdstanpy:Chain [2] start processing\n",
      "INFO:cmdstanpy:Chain [3] start processing\n",
      "INFO:cmdstanpy:Chain [4] start processing\n"
     ]
    },
    {
     "name": "stdout",
     "output_type": "stream",
     "text": [
      "Fitting toy MC bin no.516\n",
      "0.9498571428571428\n",
      "385 297\n"
     ]
    },
    {
     "name": "stderr",
     "output_type": "stream",
     "text": [
      "INFO:cmdstanpy:Chain [3] done processing\n",
      "INFO:cmdstanpy:Chain [2] done processing\n",
      "INFO:cmdstanpy:Chain [1] done processing\n",
      "INFO:cmdstanpy:Chain [4] done processing\n",
      "INFO:cmdstanpy:found newer exe file, not recompiling\n",
      "INFO:cmdstanpy:found newer exe file, not recompiling\n",
      "INFO:cmdstanpy:CmdStan start procesing\n",
      "INFO:cmdstanpy:Chain [1] start processing\n",
      "INFO:cmdstanpy:Chain [2] start processing\n",
      "INFO:cmdstanpy:Chain [3] start processing\n",
      "INFO:cmdstanpy:Chain [4] start processing\n"
     ]
    },
    {
     "name": "stdout",
     "output_type": "stream",
     "text": [
      "Fitting toy MC bin no.517\n",
      "0.9499746835443038\n",
      "395 304\n"
     ]
    },
    {
     "name": "stderr",
     "output_type": "stream",
     "text": [
      "INFO:cmdstanpy:Chain [1] done processing\n",
      "INFO:cmdstanpy:Chain [3] done processing\n",
      "INFO:cmdstanpy:Chain [4] done processing\n",
      "INFO:cmdstanpy:Chain [2] done processing\n",
      "INFO:cmdstanpy:found newer exe file, not recompiling\n",
      "INFO:cmdstanpy:found newer exe file, not recompiling\n",
      "INFO:cmdstanpy:CmdStan start procesing\n",
      "INFO:cmdstanpy:Chain [1] start processing\n",
      "INFO:cmdstanpy:Chain [2] start processing\n",
      "INFO:cmdstanpy:Chain [3] start processing\n",
      "INFO:cmdstanpy:Chain [4] start processing\n"
     ]
    },
    {
     "name": "stdout",
     "output_type": "stream",
     "text": [
      "Fitting toy MC bin no.518\n",
      "0.9499882352941177\n",
      "425 327\n"
     ]
    },
    {
     "name": "stderr",
     "output_type": "stream",
     "text": [
      "INFO:cmdstanpy:Chain [2] done processing\n",
      "INFO:cmdstanpy:Chain [4] done processing\n",
      "INFO:cmdstanpy:Chain [1] done processing\n",
      "INFO:cmdstanpy:Chain [3] done processing\n",
      "INFO:cmdstanpy:found newer exe file, not recompiling\n",
      "INFO:cmdstanpy:found newer exe file, not recompiling\n",
      "INFO:cmdstanpy:CmdStan start procesing\n",
      "INFO:cmdstanpy:Chain [1] start processing\n",
      "INFO:cmdstanpy:Chain [2] start processing\n",
      "INFO:cmdstanpy:Chain [3] start processing\n",
      "INFO:cmdstanpy:Chain [4] start processing\n"
     ]
    },
    {
     "name": "stdout",
     "output_type": "stream",
     "text": [
      "Fitting toy MC bin no.519\n",
      "0.9499870466321243\n",
      "386 297\n"
     ]
    },
    {
     "name": "stderr",
     "output_type": "stream",
     "text": [
      "INFO:cmdstanpy:Chain [1] done processing\n",
      "INFO:cmdstanpy:Chain [2] done processing\n",
      "INFO:cmdstanpy:Chain [4] done processing\n",
      "INFO:cmdstanpy:Chain [3] done processing\n",
      "INFO:cmdstanpy:found newer exe file, not recompiling\n",
      "INFO:cmdstanpy:found newer exe file, not recompiling\n",
      "INFO:cmdstanpy:CmdStan start procesing\n",
      "INFO:cmdstanpy:Chain [1] start processing\n",
      "INFO:cmdstanpy:Chain [2] start processing\n",
      "INFO:cmdstanpy:Chain [3] start processing\n",
      "INFO:cmdstanpy:Chain [4] start processing\n"
     ]
    },
    {
     "name": "stdout",
     "output_type": "stream",
     "text": [
      "Fitting toy MC bin no.520\n",
      "0.9499530516431925\n",
      "426 328\n"
     ]
    },
    {
     "name": "stderr",
     "output_type": "stream",
     "text": [
      "INFO:cmdstanpy:Chain [4] done processing\n",
      "INFO:cmdstanpy:Chain [1] done processing\n",
      "INFO:cmdstanpy:Chain [2] done processing\n",
      "INFO:cmdstanpy:Chain [3] done processing\n",
      "INFO:cmdstanpy:found newer exe file, not recompiling\n",
      "INFO:cmdstanpy:found newer exe file, not recompiling\n",
      "INFO:cmdstanpy:CmdStan start procesing\n",
      "INFO:cmdstanpy:Chain [1] start processing\n",
      "INFO:cmdstanpy:Chain [2] start processing\n",
      "INFO:cmdstanpy:Chain [3] start processing\n",
      "INFO:cmdstanpy:Chain [4] start processing\n"
     ]
    },
    {
     "name": "stdout",
     "output_type": "stream",
     "text": [
      "Fitting toy MC bin no.521\n",
      "0.9498571428571428\n",
      "385 297\n"
     ]
    },
    {
     "name": "stderr",
     "output_type": "stream",
     "text": [
      "INFO:cmdstanpy:Chain [1] done processing\n",
      "INFO:cmdstanpy:Chain [2] done processing\n",
      "INFO:cmdstanpy:Chain [4] done processing\n",
      "INFO:cmdstanpy:Chain [3] done processing\n",
      "INFO:cmdstanpy:found newer exe file, not recompiling\n",
      "INFO:cmdstanpy:found newer exe file, not recompiling\n",
      "INFO:cmdstanpy:CmdStan start procesing\n",
      "INFO:cmdstanpy:Chain [1] start processing\n",
      "INFO:cmdstanpy:Chain [2] start processing\n",
      "INFO:cmdstanpy:Chain [3] start processing\n",
      "INFO:cmdstanpy:Chain [4] start processing\n"
     ]
    },
    {
     "name": "stdout",
     "output_type": "stream",
     "text": [
      "Fitting toy MC bin no.522\n",
      "0.9498921832884097\n",
      "371 286\n"
     ]
    },
    {
     "name": "stderr",
     "output_type": "stream",
     "text": [
      "INFO:cmdstanpy:Chain [1] done processing\n",
      "INFO:cmdstanpy:Chain [3] done processing\n",
      "INFO:cmdstanpy:Chain [4] done processing\n",
      "INFO:cmdstanpy:Chain [2] done processing\n",
      "INFO:cmdstanpy:found newer exe file, not recompiling\n",
      "INFO:cmdstanpy:found newer exe file, not recompiling\n",
      "INFO:cmdstanpy:CmdStan start procesing\n",
      "INFO:cmdstanpy:Chain [1] start processing\n",
      "INFO:cmdstanpy:Chain [2] start processing\n",
      "INFO:cmdstanpy:Chain [3] start processing\n",
      "INFO:cmdstanpy:Chain [4] start processing\n"
     ]
    },
    {
     "name": "stdout",
     "output_type": "stream",
     "text": [
      "Fitting toy MC bin no.523\n",
      "0.949909793814433\n",
      "388 299\n"
     ]
    },
    {
     "name": "stderr",
     "output_type": "stream",
     "text": [
      "INFO:cmdstanpy:Chain [4] done processing\n",
      "INFO:cmdstanpy:Chain [3] done processing\n",
      "INFO:cmdstanpy:Chain [2] done processing\n",
      "INFO:cmdstanpy:Chain [1] done processing\n",
      "INFO:cmdstanpy:found newer exe file, not recompiling\n",
      "INFO:cmdstanpy:found newer exe file, not recompiling\n",
      "INFO:cmdstanpy:CmdStan start procesing\n",
      "INFO:cmdstanpy:Chain [1] start processing\n",
      "INFO:cmdstanpy:Chain [2] start processing\n",
      "INFO:cmdstanpy:Chain [3] start processing\n",
      "INFO:cmdstanpy:Chain [4] start processing\n"
     ]
    },
    {
     "name": "stdout",
     "output_type": "stream",
     "text": [
      "Fitting toy MC bin no.524\n",
      "0.9499483204134367\n",
      "387 298\n"
     ]
    },
    {
     "name": "stderr",
     "output_type": "stream",
     "text": [
      "INFO:cmdstanpy:Chain [3] done processing\n",
      "INFO:cmdstanpy:Chain [2] done processing\n",
      "INFO:cmdstanpy:Chain [4] done processing\n",
      "INFO:cmdstanpy:Chain [1] done processing\n",
      "INFO:cmdstanpy:found newer exe file, not recompiling\n",
      "INFO:cmdstanpy:found newer exe file, not recompiling\n",
      "INFO:cmdstanpy:CmdStan start procesing\n",
      "INFO:cmdstanpy:Chain [1] start processing\n",
      "INFO:cmdstanpy:Chain [2] start processing\n",
      "INFO:cmdstanpy:Chain [3] start processing\n",
      "INFO:cmdstanpy:Chain [4] start processing\n"
     ]
    },
    {
     "name": "stdout",
     "output_type": "stream",
     "text": [
      "Fitting toy MC bin no.525\n",
      "0.9498101265822785\n",
      "395 305\n"
     ]
    },
    {
     "name": "stderr",
     "output_type": "stream",
     "text": [
      "INFO:cmdstanpy:Chain [3] done processing\n",
      "INFO:cmdstanpy:Chain [2] done processing\n",
      "INFO:cmdstanpy:Chain [4] done processing\n",
      "INFO:cmdstanpy:Chain [1] done processing\n",
      "INFO:cmdstanpy:found newer exe file, not recompiling\n",
      "INFO:cmdstanpy:found newer exe file, not recompiling\n",
      "INFO:cmdstanpy:CmdStan start procesing\n",
      "INFO:cmdstanpy:Chain [1] start processing\n",
      "INFO:cmdstanpy:Chain [2] start processing\n",
      "INFO:cmdstanpy:Chain [3] start processing\n",
      "INFO:cmdstanpy:Chain [4] start processing\n"
     ]
    },
    {
     "name": "stdout",
     "output_type": "stream",
     "text": [
      "Fitting toy MC bin no.526\n",
      "0.9499530516431925\n",
      "426 328\n"
     ]
    },
    {
     "name": "stderr",
     "output_type": "stream",
     "text": [
      "INFO:cmdstanpy:Chain [4] done processing\n",
      "INFO:cmdstanpy:Chain [1] done processing\n",
      "INFO:cmdstanpy:Chain [2] done processing\n",
      "INFO:cmdstanpy:Chain [3] done processing\n",
      "INFO:cmdstanpy:found newer exe file, not recompiling\n",
      "INFO:cmdstanpy:found newer exe file, not recompiling\n",
      "INFO:cmdstanpy:CmdStan start procesing\n",
      "INFO:cmdstanpy:Chain [1] start processing\n",
      "INFO:cmdstanpy:Chain [2] start processing\n",
      "INFO:cmdstanpy:Chain [3] start processing\n",
      "INFO:cmdstanpy:Chain [4] start processing\n"
     ]
    },
    {
     "name": "stdout",
     "output_type": "stream",
     "text": [
      "Fitting toy MC bin no.527\n",
      "0.95\n",
      "390 300\n"
     ]
    },
    {
     "name": "stderr",
     "output_type": "stream",
     "text": [
      "INFO:cmdstanpy:Chain [4] done processing\n",
      "INFO:cmdstanpy:Chain [2] done processing\n",
      "INFO:cmdstanpy:Chain [3] done processing\n",
      "INFO:cmdstanpy:Chain [1] done processing\n",
      "INFO:cmdstanpy:found newer exe file, not recompiling\n",
      "INFO:cmdstanpy:found newer exe file, not recompiling\n",
      "INFO:cmdstanpy:CmdStan start procesing\n",
      "INFO:cmdstanpy:Chain [1] start processing\n",
      "INFO:cmdstanpy:Chain [2] start processing\n",
      "INFO:cmdstanpy:Chain [3] start processing\n",
      "INFO:cmdstanpy:Chain [4] start processing\n"
     ]
    },
    {
     "name": "stdout",
     "output_type": "stream",
     "text": [
      "Fitting toy MC bin no.528\n",
      "0.9500361445783132\n",
      "415 319\n"
     ]
    },
    {
     "name": "stderr",
     "output_type": "stream",
     "text": [
      "INFO:cmdstanpy:Chain [4] done processing\n",
      "INFO:cmdstanpy:Chain [2] done processing\n",
      "INFO:cmdstanpy:Chain [3] done processing\n",
      "INFO:cmdstanpy:Chain [1] done processing\n",
      "INFO:cmdstanpy:found newer exe file, not recompiling\n",
      "INFO:cmdstanpy:found newer exe file, not recompiling\n",
      "INFO:cmdstanpy:CmdStan start procesing\n",
      "INFO:cmdstanpy:Chain [1] start processing\n",
      "INFO:cmdstanpy:Chain [2] start processing\n",
      "INFO:cmdstanpy:Chain [3] start processing\n",
      "INFO:cmdstanpy:Chain [4] start processing\n"
     ]
    },
    {
     "name": "stdout",
     "output_type": "stream",
     "text": [
      "Fitting toy MC bin no.529\n",
      "0.9498958333333333\n",
      "384 296\n"
     ]
    },
    {
     "name": "stderr",
     "output_type": "stream",
     "text": [
      "INFO:cmdstanpy:Chain [4] done processing\n",
      "INFO:cmdstanpy:Chain [2] done processing\n",
      "INFO:cmdstanpy:Chain [3] done processing\n",
      "INFO:cmdstanpy:Chain [1] done processing\n",
      "INFO:cmdstanpy:found newer exe file, not recompiling\n",
      "INFO:cmdstanpy:found newer exe file, not recompiling\n",
      "INFO:cmdstanpy:CmdStan start procesing\n",
      "INFO:cmdstanpy:Chain [1] start processing\n",
      "INFO:cmdstanpy:Chain [2] start processing\n",
      "INFO:cmdstanpy:Chain [3] start processing\n",
      "INFO:cmdstanpy:Chain [4] start processing\n"
     ]
    },
    {
     "name": "stdout",
     "output_type": "stream",
     "text": [
      "Fitting toy MC bin no.530\n",
      "0.9497875\n",
      "400 309\n"
     ]
    },
    {
     "name": "stderr",
     "output_type": "stream",
     "text": [
      "INFO:cmdstanpy:Chain [2] done processing\n",
      "INFO:cmdstanpy:Chain [4] done processing\n",
      "INFO:cmdstanpy:Chain [3] done processing\n",
      "INFO:cmdstanpy:Chain [1] done processing\n",
      "INFO:cmdstanpy:found newer exe file, not recompiling\n",
      "INFO:cmdstanpy:found newer exe file, not recompiling\n",
      "INFO:cmdstanpy:CmdStan start procesing\n",
      "INFO:cmdstanpy:Chain [1] start processing\n",
      "INFO:cmdstanpy:Chain [2] start processing\n",
      "INFO:cmdstanpy:Chain [3] start processing\n",
      "INFO:cmdstanpy:Chain [4] start processing\n"
     ]
    },
    {
     "name": "stdout",
     "output_type": "stream",
     "text": [
      "Fitting toy MC bin no.531\n",
      "0.9498333333333333\n",
      "390 301\n"
     ]
    },
    {
     "name": "stderr",
     "output_type": "stream",
     "text": [
      "INFO:cmdstanpy:Chain [2] done processing\n",
      "INFO:cmdstanpy:Chain [1] done processing\n",
      "INFO:cmdstanpy:Chain [4] done processing\n",
      "INFO:cmdstanpy:Chain [3] done processing\n",
      "INFO:cmdstanpy:found newer exe file, not recompiling\n",
      "INFO:cmdstanpy:found newer exe file, not recompiling\n",
      "INFO:cmdstanpy:CmdStan start procesing\n",
      "INFO:cmdstanpy:Chain [1] start processing\n",
      "INFO:cmdstanpy:Chain [2] start processing\n",
      "INFO:cmdstanpy:Chain [3] start processing\n",
      "INFO:cmdstanpy:Chain [4] start processing\n"
     ]
    },
    {
     "name": "stdout",
     "output_type": "stream",
     "text": [
      "Fitting toy MC bin no.532\n",
      "0.95001312335958\n",
      "381 293\n"
     ]
    },
    {
     "name": "stderr",
     "output_type": "stream",
     "text": [
      "INFO:cmdstanpy:Chain [3] done processing\n",
      "INFO:cmdstanpy:Chain [1] done processing\n",
      "INFO:cmdstanpy:Chain [2] done processing\n",
      "INFO:cmdstanpy:Chain [4] done processing\n",
      "INFO:cmdstanpy:found newer exe file, not recompiling\n",
      "INFO:cmdstanpy:found newer exe file, not recompiling\n",
      "INFO:cmdstanpy:CmdStan start procesing\n",
      "INFO:cmdstanpy:Chain [1] start processing\n",
      "INFO:cmdstanpy:Chain [2] start processing\n",
      "INFO:cmdstanpy:Chain [3] start processing\n",
      "INFO:cmdstanpy:Chain [4] start processing\n"
     ]
    },
    {
     "name": "stdout",
     "output_type": "stream",
     "text": [
      "Fitting toy MC bin no.533\n",
      "0.9498571428571428\n",
      "385 297\n"
     ]
    },
    {
     "name": "stderr",
     "output_type": "stream",
     "text": [
      "INFO:cmdstanpy:Chain [3] done processing\n",
      "INFO:cmdstanpy:Chain [4] done processing\n",
      "INFO:cmdstanpy:Chain [2] done processing\n",
      "INFO:cmdstanpy:Chain [1] done processing\n",
      "INFO:cmdstanpy:found newer exe file, not recompiling\n",
      "INFO:cmdstanpy:found newer exe file, not recompiling\n",
      "INFO:cmdstanpy:CmdStan start procesing\n",
      "INFO:cmdstanpy:Chain [1] start processing\n",
      "INFO:cmdstanpy:Chain [2] start processing\n",
      "INFO:cmdstanpy:Chain [3] start processing\n",
      "INFO:cmdstanpy:Chain [4] start processing\n"
     ]
    },
    {
     "name": "stdout",
     "output_type": "stream",
     "text": [
      "Fitting toy MC bin no.534\n",
      "0.9500724637681158\n",
      "345 265\n"
     ]
    },
    {
     "name": "stderr",
     "output_type": "stream",
     "text": [
      "INFO:cmdstanpy:Chain [3] done processing\n",
      "INFO:cmdstanpy:Chain [1] done processing\n",
      "INFO:cmdstanpy:Chain [2] done processing\n",
      "INFO:cmdstanpy:Chain [4] done processing\n",
      "INFO:cmdstanpy:found newer exe file, not recompiling\n",
      "INFO:cmdstanpy:found newer exe file, not recompiling\n",
      "INFO:cmdstanpy:CmdStan start procesing\n",
      "INFO:cmdstanpy:Chain [1] start processing\n",
      "INFO:cmdstanpy:Chain [2] start processing\n",
      "INFO:cmdstanpy:Chain [3] start processing\n",
      "INFO:cmdstanpy:Chain [4] start processing\n"
     ]
    },
    {
     "name": "stdout",
     "output_type": "stream",
     "text": [
      "Fitting toy MC bin no.535\n",
      "0.9498618090452262\n",
      "398 307\n"
     ]
    },
    {
     "name": "stderr",
     "output_type": "stream",
     "text": [
      "INFO:cmdstanpy:Chain [1] done processing\n",
      "INFO:cmdstanpy:Chain [2] done processing\n",
      "INFO:cmdstanpy:Chain [3] done processing\n",
      "INFO:cmdstanpy:Chain [4] done processing\n",
      "INFO:cmdstanpy:found newer exe file, not recompiling\n",
      "INFO:cmdstanpy:found newer exe file, not recompiling\n",
      "INFO:cmdstanpy:CmdStan start procesing\n",
      "INFO:cmdstanpy:Chain [1] start processing\n",
      "INFO:cmdstanpy:Chain [2] start processing\n",
      "INFO:cmdstanpy:Chain [3] start processing\n",
      "INFO:cmdstanpy:Chain [4] start processing\n"
     ]
    },
    {
     "name": "stdout",
     "output_type": "stream",
     "text": [
      "Fitting toy MC bin no.536\n",
      "0.9499483204134367\n",
      "387 298\n"
     ]
    },
    {
     "name": "stderr",
     "output_type": "stream",
     "text": [
      "INFO:cmdstanpy:Chain [2] done processing\n",
      "INFO:cmdstanpy:Chain [1] done processing\n",
      "INFO:cmdstanpy:Chain [3] done processing\n",
      "INFO:cmdstanpy:Chain [4] done processing\n",
      "INFO:cmdstanpy:found newer exe file, not recompiling\n",
      "INFO:cmdstanpy:found newer exe file, not recompiling\n",
      "INFO:cmdstanpy:CmdStan start procesing\n",
      "INFO:cmdstanpy:Chain [1] start processing\n",
      "INFO:cmdstanpy:Chain [2] start processing\n",
      "INFO:cmdstanpy:Chain [3] start processing\n",
      "INFO:cmdstanpy:Chain [4] start processing\n"
     ]
    },
    {
     "name": "stdout",
     "output_type": "stream",
     "text": [
      "Fitting toy MC bin no.537\n",
      "0.9499628712871288\n",
      "404 311\n"
     ]
    },
    {
     "name": "stderr",
     "output_type": "stream",
     "text": [
      "INFO:cmdstanpy:Chain [1] done processing\n",
      "INFO:cmdstanpy:Chain [4] done processing\n",
      "INFO:cmdstanpy:Chain [2] done processing\n",
      "INFO:cmdstanpy:Chain [3] done processing\n",
      "INFO:cmdstanpy:found newer exe file, not recompiling\n",
      "INFO:cmdstanpy:found newer exe file, not recompiling\n",
      "INFO:cmdstanpy:CmdStan start procesing\n",
      "INFO:cmdstanpy:Chain [1] start processing\n",
      "INFO:cmdstanpy:Chain [2] start processing\n",
      "INFO:cmdstanpy:Chain [3] start processing\n",
      "INFO:cmdstanpy:Chain [4] start processing\n"
     ]
    },
    {
     "name": "stdout",
     "output_type": "stream",
     "text": [
      "Fitting toy MC bin no.538\n",
      "0.9499738219895287\n",
      "382 294\n"
     ]
    },
    {
     "name": "stderr",
     "output_type": "stream",
     "text": [
      "INFO:cmdstanpy:Chain [2] done processing\n",
      "INFO:cmdstanpy:Chain [4] done processing\n",
      "INFO:cmdstanpy:Chain [1] done processing\n",
      "INFO:cmdstanpy:Chain [3] done processing\n",
      "INFO:cmdstanpy:found newer exe file, not recompiling\n",
      "INFO:cmdstanpy:found newer exe file, not recompiling\n",
      "INFO:cmdstanpy:CmdStan start procesing\n",
      "INFO:cmdstanpy:Chain [1] start processing\n",
      "INFO:cmdstanpy:Chain [2] start processing\n",
      "INFO:cmdstanpy:Chain [3] start processing\n",
      "INFO:cmdstanpy:Chain [4] start processing\n"
     ]
    },
    {
     "name": "stdout",
     "output_type": "stream",
     "text": [
      "Fitting toy MC bin no.539\n",
      "0.9497799511002445\n",
      "409 316\n"
     ]
    },
    {
     "name": "stderr",
     "output_type": "stream",
     "text": [
      "INFO:cmdstanpy:Chain [2] done processing\n",
      "INFO:cmdstanpy:Chain [1] done processing\n",
      "INFO:cmdstanpy:Chain [3] done processing\n",
      "INFO:cmdstanpy:Chain [4] done processing\n",
      "INFO:cmdstanpy:found newer exe file, not recompiling\n",
      "INFO:cmdstanpy:found newer exe file, not recompiling\n",
      "INFO:cmdstanpy:CmdStan start procesing\n",
      "INFO:cmdstanpy:Chain [1] start processing\n",
      "INFO:cmdstanpy:Chain [2] start processing\n",
      "INFO:cmdstanpy:Chain [3] start processing\n",
      "INFO:cmdstanpy:Chain [4] start processing\n"
     ]
    },
    {
     "name": "stdout",
     "output_type": "stream",
     "text": [
      "Fitting toy MC bin no.540\n",
      "0.9499208443271767\n",
      "379 292\n"
     ]
    },
    {
     "name": "stderr",
     "output_type": "stream",
     "text": [
      "INFO:cmdstanpy:Chain [4] done processing\n",
      "INFO:cmdstanpy:Chain [1] done processing\n",
      "INFO:cmdstanpy:Chain [2] done processing\n",
      "INFO:cmdstanpy:Chain [3] done processing\n",
      "INFO:cmdstanpy:found newer exe file, not recompiling\n",
      "INFO:cmdstanpy:found newer exe file, not recompiling\n",
      "INFO:cmdstanpy:CmdStan start procesing\n",
      "INFO:cmdstanpy:Chain [1] start processing\n",
      "INFO:cmdstanpy:Chain [2] start processing\n",
      "INFO:cmdstanpy:Chain [3] start processing\n",
      "INFO:cmdstanpy:Chain [4] start processing\n"
     ]
    },
    {
     "name": "stdout",
     "output_type": "stream",
     "text": [
      "Fitting toy MC bin no.541\n",
      "0.9499628712871288\n",
      "404 311\n"
     ]
    },
    {
     "name": "stderr",
     "output_type": "stream",
     "text": [
      "INFO:cmdstanpy:Chain [4] done processing\n",
      "INFO:cmdstanpy:Chain [2] done processing\n",
      "INFO:cmdstanpy:Chain [3] done processing\n",
      "INFO:cmdstanpy:Chain [1] done processing\n",
      "INFO:cmdstanpy:found newer exe file, not recompiling\n",
      "INFO:cmdstanpy:found newer exe file, not recompiling\n",
      "INFO:cmdstanpy:CmdStan start procesing\n",
      "INFO:cmdstanpy:Chain [1] start processing\n",
      "INFO:cmdstanpy:Chain [2] start processing\n",
      "INFO:cmdstanpy:Chain [3] start processing\n",
      "INFO:cmdstanpy:Chain [4] start processing\n"
     ]
    },
    {
     "name": "stdout",
     "output_type": "stream",
     "text": [
      "Fitting toy MC bin no.542\n",
      "0.9497803617571059\n",
      "387 299\n"
     ]
    },
    {
     "name": "stderr",
     "output_type": "stream",
     "text": [
      "INFO:cmdstanpy:Chain [1] done processing\n",
      "INFO:cmdstanpy:Chain [2] done processing\n",
      "INFO:cmdstanpy:Chain [4] done processing\n",
      "INFO:cmdstanpy:Chain [3] done processing\n",
      "INFO:cmdstanpy:found newer exe file, not recompiling\n",
      "INFO:cmdstanpy:found newer exe file, not recompiling\n",
      "INFO:cmdstanpy:CmdStan start procesing\n",
      "INFO:cmdstanpy:Chain [1] start processing\n",
      "INFO:cmdstanpy:Chain [2] start processing\n",
      "INFO:cmdstanpy:Chain [3] start processing\n",
      "INFO:cmdstanpy:Chain [4] start processing\n"
     ]
    },
    {
     "name": "stdout",
     "output_type": "stream",
     "text": [
      "Fitting toy MC bin no.543\n",
      "0.9500278551532033\n",
      "359 276\n"
     ]
    },
    {
     "name": "stderr",
     "output_type": "stream",
     "text": [
      "INFO:cmdstanpy:Chain [2] done processing\n",
      "INFO:cmdstanpy:Chain [4] done processing\n",
      "INFO:cmdstanpy:Chain [3] done processing\n",
      "INFO:cmdstanpy:Chain [1] done processing\n",
      "INFO:cmdstanpy:found newer exe file, not recompiling\n",
      "INFO:cmdstanpy:found newer exe file, not recompiling\n",
      "INFO:cmdstanpy:CmdStan start procesing\n",
      "INFO:cmdstanpy:Chain [1] start processing\n",
      "INFO:cmdstanpy:Chain [2] start processing\n",
      "INFO:cmdstanpy:Chain [3] start processing\n",
      "INFO:cmdstanpy:Chain [4] start processing\n"
     ]
    },
    {
     "name": "stdout",
     "output_type": "stream",
     "text": [
      "Fitting toy MC bin no.544\n",
      "0.9499628712871288\n",
      "404 311\n"
     ]
    },
    {
     "name": "stderr",
     "output_type": "stream",
     "text": [
      "INFO:cmdstanpy:Chain [2] done processing\n",
      "INFO:cmdstanpy:Chain [1] done processing\n",
      "INFO:cmdstanpy:Chain [4] done processing\n",
      "INFO:cmdstanpy:Chain [3] done processing\n",
      "INFO:cmdstanpy:found newer exe file, not recompiling\n",
      "INFO:cmdstanpy:found newer exe file, not recompiling\n",
      "INFO:cmdstanpy:CmdStan start procesing\n",
      "INFO:cmdstanpy:Chain [1] start processing\n",
      "INFO:cmdstanpy:Chain [2] start processing\n",
      "INFO:cmdstanpy:Chain [3] start processing\n",
      "INFO:cmdstanpy:Chain [4] start processing\n"
     ]
    },
    {
     "name": "stdout",
     "output_type": "stream",
     "text": [
      "Fitting toy MC bin no.545\n",
      "0.9498333333333333\n",
      "390 301\n"
     ]
    },
    {
     "name": "stderr",
     "output_type": "stream",
     "text": [
      "INFO:cmdstanpy:Chain [3] done processing\n",
      "INFO:cmdstanpy:Chain [1] done processing\n",
      "INFO:cmdstanpy:Chain [2] done processing\n",
      "INFO:cmdstanpy:Chain [4] done processing\n",
      "INFO:cmdstanpy:found newer exe file, not recompiling\n",
      "INFO:cmdstanpy:found newer exe file, not recompiling\n",
      "INFO:cmdstanpy:CmdStan start procesing\n",
      "INFO:cmdstanpy:Chain [1] start processing\n",
      "INFO:cmdstanpy:Chain [2] start processing\n",
      "INFO:cmdstanpy:Chain [3] start processing\n",
      "INFO:cmdstanpy:Chain [4] start processing\n"
     ]
    },
    {
     "name": "stdout",
     "output_type": "stream",
     "text": [
      "Fitting toy MC bin no.546\n",
      "0.9499208443271767\n",
      "379 292\n"
     ]
    },
    {
     "name": "stderr",
     "output_type": "stream",
     "text": [
      "INFO:cmdstanpy:Chain [2] done processing\n",
      "INFO:cmdstanpy:Chain [3] done processing\n",
      "INFO:cmdstanpy:Chain [4] done processing\n",
      "INFO:cmdstanpy:Chain [1] done processing\n",
      "INFO:cmdstanpy:found newer exe file, not recompiling\n",
      "INFO:cmdstanpy:found newer exe file, not recompiling\n",
      "INFO:cmdstanpy:CmdStan start procesing\n",
      "INFO:cmdstanpy:Chain [1] start processing\n",
      "INFO:cmdstanpy:Chain [2] start processing\n",
      "INFO:cmdstanpy:Chain [3] start processing\n",
      "INFO:cmdstanpy:Chain [4] start processing\n"
     ]
    },
    {
     "name": "stdout",
     "output_type": "stream",
     "text": [
      "Fitting toy MC bin no.547\n",
      "0.9498795180722891\n",
      "415 320\n"
     ]
    },
    {
     "name": "stderr",
     "output_type": "stream",
     "text": [
      "INFO:cmdstanpy:Chain [1] done processing\n",
      "INFO:cmdstanpy:Chain [4] done processing\n",
      "INFO:cmdstanpy:Chain [2] done processing\n",
      "INFO:cmdstanpy:Chain [3] done processing\n",
      "INFO:cmdstanpy:found newer exe file, not recompiling\n",
      "INFO:cmdstanpy:found newer exe file, not recompiling\n",
      "INFO:cmdstanpy:CmdStan start procesing\n",
      "INFO:cmdstanpy:Chain [1] start processing\n",
      "INFO:cmdstanpy:Chain [2] start processing\n",
      "INFO:cmdstanpy:Chain [3] start processing\n",
      "INFO:cmdstanpy:Chain [4] start processing\n"
     ]
    },
    {
     "name": "stdout",
     "output_type": "stream",
     "text": [
      "Fitting toy MC bin no.548\n",
      "0.9500135869565218\n",
      "368 283\n"
     ]
    },
    {
     "name": "stderr",
     "output_type": "stream",
     "text": [
      "INFO:cmdstanpy:Chain [2] done processing\n",
      "INFO:cmdstanpy:Chain [4] done processing\n",
      "INFO:cmdstanpy:Chain [3] done processing\n",
      "INFO:cmdstanpy:Chain [1] done processing\n",
      "INFO:cmdstanpy:found newer exe file, not recompiling\n",
      "INFO:cmdstanpy:found newer exe file, not recompiling\n",
      "INFO:cmdstanpy:CmdStan start procesing\n",
      "INFO:cmdstanpy:Chain [1] start processing\n",
      "INFO:cmdstanpy:Chain [2] start processing\n",
      "INFO:cmdstanpy:Chain [3] start processing\n",
      "INFO:cmdstanpy:Chain [4] start processing\n"
     ]
    },
    {
     "name": "stdout",
     "output_type": "stream",
     "text": [
      "Fitting toy MC bin no.549\n",
      "0.949925925925926\n",
      "405 312\n"
     ]
    },
    {
     "name": "stderr",
     "output_type": "stream",
     "text": [
      "INFO:cmdstanpy:Chain [3] done processing\n",
      "INFO:cmdstanpy:Chain [1] done processing\n",
      "INFO:cmdstanpy:Chain [2] done processing\n",
      "INFO:cmdstanpy:Chain [4] done processing\n",
      "INFO:cmdstanpy:found newer exe file, not recompiling\n",
      "INFO:cmdstanpy:found newer exe file, not recompiling\n",
      "INFO:cmdstanpy:CmdStan start procesing\n",
      "INFO:cmdstanpy:Chain [1] start processing\n",
      "INFO:cmdstanpy:Chain [2] start processing\n",
      "INFO:cmdstanpy:Chain [3] start processing\n",
      "INFO:cmdstanpy:Chain [4] start processing\n"
     ]
    },
    {
     "name": "stdout",
     "output_type": "stream",
     "text": [
      "Fitting toy MC bin no.550\n",
      "0.949925925925926\n",
      "405 312\n"
     ]
    },
    {
     "name": "stderr",
     "output_type": "stream",
     "text": [
      "INFO:cmdstanpy:Chain [4] done processing\n",
      "INFO:cmdstanpy:Chain [1] done processing\n",
      "INFO:cmdstanpy:Chain [2] done processing\n",
      "INFO:cmdstanpy:Chain [3] done processing\n",
      "INFO:cmdstanpy:found newer exe file, not recompiling\n",
      "INFO:cmdstanpy:found newer exe file, not recompiling\n",
      "INFO:cmdstanpy:CmdStan start procesing\n",
      "INFO:cmdstanpy:Chain [1] start processing\n",
      "INFO:cmdstanpy:Chain [2] start processing\n",
      "INFO:cmdstanpy:Chain [3] start processing\n",
      "INFO:cmdstanpy:Chain [4] start processing\n"
     ]
    },
    {
     "name": "stdout",
     "output_type": "stream",
     "text": [
      "Fitting toy MC bin no.551\n",
      "0.9499515738498789\n",
      "413 318\n"
     ]
    },
    {
     "name": "stderr",
     "output_type": "stream",
     "text": [
      "INFO:cmdstanpy:Chain [1] done processing\n",
      "INFO:cmdstanpy:Chain [2] done processing\n",
      "INFO:cmdstanpy:Chain [3] done processing\n",
      "INFO:cmdstanpy:Chain [4] done processing\n",
      "INFO:cmdstanpy:found newer exe file, not recompiling\n",
      "INFO:cmdstanpy:found newer exe file, not recompiling\n",
      "INFO:cmdstanpy:CmdStan start procesing\n",
      "INFO:cmdstanpy:Chain [1] start processing\n",
      "INFO:cmdstanpy:Chain [2] start processing\n",
      "INFO:cmdstanpy:Chain [3] start processing\n",
      "INFO:cmdstanpy:Chain [4] start processing\n"
     ]
    },
    {
     "name": "stdout",
     "output_type": "stream",
     "text": [
      "Fitting toy MC bin no.552\n",
      "0.9498921832884097\n",
      "371 286\n"
     ]
    },
    {
     "name": "stderr",
     "output_type": "stream",
     "text": [
      "INFO:cmdstanpy:Chain [4] done processing\n",
      "INFO:cmdstanpy:Chain [2] done processing\n",
      "INFO:cmdstanpy:Chain [1] done processing\n",
      "INFO:cmdstanpy:Chain [3] done processing\n",
      "INFO:cmdstanpy:found newer exe file, not recompiling\n",
      "INFO:cmdstanpy:found newer exe file, not recompiling\n",
      "INFO:cmdstanpy:CmdStan start procesing\n",
      "INFO:cmdstanpy:Chain [1] start processing\n",
      "INFO:cmdstanpy:Chain [2] start processing\n",
      "INFO:cmdstanpy:Chain [3] start processing\n",
      "INFO:cmdstanpy:Chain [4] start processing\n"
     ]
    },
    {
     "name": "stdout",
     "output_type": "stream",
     "text": [
      "Fitting toy MC bin no.553\n",
      "0.94984375\n",
      "416 321\n"
     ]
    },
    {
     "name": "stderr",
     "output_type": "stream",
     "text": [
      "INFO:cmdstanpy:Chain [3] done processing\n",
      "INFO:cmdstanpy:Chain [4] done processing\n",
      "INFO:cmdstanpy:Chain [1] done processing\n",
      "INFO:cmdstanpy:Chain [2] done processing\n",
      "INFO:cmdstanpy:found newer exe file, not recompiling\n",
      "INFO:cmdstanpy:found newer exe file, not recompiling\n",
      "INFO:cmdstanpy:CmdStan start procesing\n",
      "INFO:cmdstanpy:Chain [1] start processing\n",
      "INFO:cmdstanpy:Chain [2] start processing\n",
      "INFO:cmdstanpy:Chain [3] start processing\n",
      "INFO:cmdstanpy:Chain [4] start processing\n"
     ]
    },
    {
     "name": "stdout",
     "output_type": "stream",
     "text": [
      "Fitting toy MC bin no.554\n",
      "0.9498992443324937\n",
      "397 306\n"
     ]
    },
    {
     "name": "stderr",
     "output_type": "stream",
     "text": [
      "INFO:cmdstanpy:Chain [1] done processing\n",
      "INFO:cmdstanpy:Chain [4] done processing\n",
      "INFO:cmdstanpy:Chain [3] done processing\n",
      "INFO:cmdstanpy:Chain [2] done processing\n",
      "INFO:cmdstanpy:found newer exe file, not recompiling\n",
      "INFO:cmdstanpy:found newer exe file, not recompiling\n",
      "INFO:cmdstanpy:CmdStan start procesing\n",
      "INFO:cmdstanpy:Chain [1] start processing\n",
      "INFO:cmdstanpy:Chain [2] start processing\n",
      "INFO:cmdstanpy:Chain [3] start processing\n",
      "INFO:cmdstanpy:Chain [4] start processing\n"
     ]
    },
    {
     "name": "stdout",
     "output_type": "stream",
     "text": [
      "Fitting toy MC bin no.555\n",
      "0.95\n",
      "416 320\n"
     ]
    },
    {
     "name": "stderr",
     "output_type": "stream",
     "text": [
      "INFO:cmdstanpy:Chain [1] done processing\n",
      "INFO:cmdstanpy:Chain [2] done processing\n",
      "INFO:cmdstanpy:Chain [3] done processing\n",
      "INFO:cmdstanpy:Chain [4] done processing\n",
      "INFO:cmdstanpy:found newer exe file, not recompiling\n",
      "INFO:cmdstanpy:found newer exe file, not recompiling\n",
      "INFO:cmdstanpy:CmdStan start procesing\n",
      "INFO:cmdstanpy:Chain [1] start processing\n",
      "INFO:cmdstanpy:Chain [2] start processing\n",
      "INFO:cmdstanpy:Chain [3] start processing\n",
      "INFO:cmdstanpy:Chain [4] start processing\n"
     ]
    },
    {
     "name": "stdout",
     "output_type": "stream",
     "text": [
      "Fitting toy MC bin no.556\n",
      "0.9499878640776699\n",
      "412 317\n"
     ]
    },
    {
     "name": "stderr",
     "output_type": "stream",
     "text": [
      "INFO:cmdstanpy:Chain [3] done processing\n",
      "INFO:cmdstanpy:Chain [4] done processing\n",
      "INFO:cmdstanpy:Chain [2] done processing\n",
      "INFO:cmdstanpy:Chain [1] done processing\n",
      "INFO:cmdstanpy:found newer exe file, not recompiling\n",
      "INFO:cmdstanpy:found newer exe file, not recompiling\n",
      "INFO:cmdstanpy:CmdStan start procesing\n",
      "INFO:cmdstanpy:Chain [1] start processing\n",
      "INFO:cmdstanpy:Chain [2] start processing\n",
      "INFO:cmdstanpy:Chain [3] start processing\n",
      "INFO:cmdstanpy:Chain [4] start processing\n"
     ]
    },
    {
     "name": "stdout",
     "output_type": "stream",
     "text": [
      "Fitting toy MC bin no.557\n",
      "0.9499154589371981\n",
      "414 319\n"
     ]
    },
    {
     "name": "stderr",
     "output_type": "stream",
     "text": [
      "INFO:cmdstanpy:Chain [2] done processing\n",
      "INFO:cmdstanpy:Chain [1] done processing\n",
      "INFO:cmdstanpy:Chain [3] done processing\n",
      "INFO:cmdstanpy:Chain [4] done processing\n",
      "INFO:cmdstanpy:found newer exe file, not recompiling\n",
      "INFO:cmdstanpy:found newer exe file, not recompiling\n",
      "INFO:cmdstanpy:CmdStan start procesing\n",
      "INFO:cmdstanpy:Chain [1] start processing\n",
      "INFO:cmdstanpy:Chain [2] start processing\n",
      "INFO:cmdstanpy:Chain [3] start processing\n",
      "INFO:cmdstanpy:Chain [4] start processing\n"
     ]
    },
    {
     "name": "stdout",
     "output_type": "stream",
     "text": [
      "Fitting toy MC bin no.558\n",
      "0.9498661800486617\n",
      "411 317\n"
     ]
    },
    {
     "name": "stderr",
     "output_type": "stream",
     "text": [
      "INFO:cmdstanpy:Chain [2] done processing\n",
      "INFO:cmdstanpy:Chain [1] done processing\n",
      "INFO:cmdstanpy:Chain [4] done processing\n",
      "INFO:cmdstanpy:Chain [3] done processing\n",
      "INFO:cmdstanpy:found newer exe file, not recompiling\n",
      "INFO:cmdstanpy:found newer exe file, not recompiling\n",
      "INFO:cmdstanpy:CmdStan start procesing\n",
      "INFO:cmdstanpy:Chain [1] start processing\n",
      "INFO:cmdstanpy:Chain [2] start processing\n",
      "INFO:cmdstanpy:Chain [3] start processing\n",
      "INFO:cmdstanpy:Chain [4] start processing\n"
     ]
    },
    {
     "name": "stdout",
     "output_type": "stream",
     "text": [
      "Fitting toy MC bin no.559\n",
      "0.9499878640776699\n",
      "412 317\n"
     ]
    },
    {
     "name": "stderr",
     "output_type": "stream",
     "text": [
      "INFO:cmdstanpy:Chain [4] done processing\n",
      "INFO:cmdstanpy:Chain [3] done processing\n",
      "INFO:cmdstanpy:Chain [1] done processing\n",
      "INFO:cmdstanpy:Chain [2] done processing\n",
      "INFO:cmdstanpy:found newer exe file, not recompiling\n",
      "INFO:cmdstanpy:found newer exe file, not recompiling\n",
      "INFO:cmdstanpy:CmdStan start procesing\n",
      "INFO:cmdstanpy:Chain [1] start processing\n",
      "INFO:cmdstanpy:Chain [2] start processing\n",
      "INFO:cmdstanpy:Chain [3] start processing\n",
      "INFO:cmdstanpy:Chain [4] start processing\n"
     ]
    },
    {
     "name": "stdout",
     "output_type": "stream",
     "text": [
      "Fitting toy MC bin no.560\n",
      "0.9498214285714286\n",
      "364 281\n"
     ]
    },
    {
     "name": "stderr",
     "output_type": "stream",
     "text": [
      "INFO:cmdstanpy:Chain [1] done processing\n",
      "INFO:cmdstanpy:Chain [3] done processing\n",
      "INFO:cmdstanpy:Chain [2] done processing\n",
      "INFO:cmdstanpy:Chain [4] done processing\n",
      "INFO:cmdstanpy:found newer exe file, not recompiling\n",
      "INFO:cmdstanpy:found newer exe file, not recompiling\n",
      "INFO:cmdstanpy:CmdStan start procesing\n",
      "INFO:cmdstanpy:Chain [1] start processing\n",
      "INFO:cmdstanpy:Chain [2] start processing\n",
      "INFO:cmdstanpy:Chain [3] start processing\n",
      "INFO:cmdstanpy:Chain [4] start processing\n"
     ]
    },
    {
     "name": "stdout",
     "output_type": "stream",
     "text": [
      "Fitting toy MC bin no.561\n",
      "0.9501089588377724\n",
      "413 317\n"
     ]
    },
    {
     "name": "stderr",
     "output_type": "stream",
     "text": [
      "INFO:cmdstanpy:Chain [3] done processing\n",
      "INFO:cmdstanpy:Chain [4] done processing\n",
      "INFO:cmdstanpy:Chain [2] done processing\n",
      "INFO:cmdstanpy:Chain [1] done processing\n",
      "INFO:cmdstanpy:found newer exe file, not recompiling\n",
      "INFO:cmdstanpy:found newer exe file, not recompiling\n",
      "INFO:cmdstanpy:CmdStan start procesing\n",
      "INFO:cmdstanpy:Chain [1] start processing\n",
      "INFO:cmdstanpy:Chain [2] start processing\n",
      "INFO:cmdstanpy:Chain [3] start processing\n",
      "INFO:cmdstanpy:Chain [4] start processing\n"
     ]
    },
    {
     "name": "stdout",
     "output_type": "stream",
     "text": [
      "Fitting toy MC bin no.562\n",
      "0.9499204545454545\n",
      "440 339\n"
     ]
    },
    {
     "name": "stderr",
     "output_type": "stream",
     "text": [
      "INFO:cmdstanpy:Chain [1] done processing\n",
      "INFO:cmdstanpy:Chain [2] done processing\n",
      "INFO:cmdstanpy:Chain [4] done processing\n",
      "INFO:cmdstanpy:Chain [3] done processing\n",
      "INFO:cmdstanpy:found newer exe file, not recompiling\n",
      "INFO:cmdstanpy:found newer exe file, not recompiling\n",
      "INFO:cmdstanpy:CmdStan start procesing\n",
      "INFO:cmdstanpy:Chain [1] start processing\n",
      "INFO:cmdstanpy:Chain [2] start processing\n",
      "INFO:cmdstanpy:Chain [3] start processing\n",
      "INFO:cmdstanpy:Chain [4] start processing\n"
     ]
    },
    {
     "name": "stdout",
     "output_type": "stream",
     "text": [
      "Fitting toy MC bin no.563\n",
      "0.9500492610837439\n",
      "406 312\n"
     ]
    },
    {
     "name": "stderr",
     "output_type": "stream",
     "text": [
      "INFO:cmdstanpy:Chain [3] done processing\n",
      "INFO:cmdstanpy:Chain [2] done processing\n",
      "INFO:cmdstanpy:Chain [4] done processing\n",
      "INFO:cmdstanpy:Chain [1] done processing\n",
      "INFO:cmdstanpy:found newer exe file, not recompiling\n",
      "INFO:cmdstanpy:found newer exe file, not recompiling\n",
      "INFO:cmdstanpy:CmdStan start procesing\n",
      "INFO:cmdstanpy:Chain [1] start processing\n",
      "INFO:cmdstanpy:Chain [2] start processing\n",
      "INFO:cmdstanpy:Chain [3] start processing\n",
      "INFO:cmdstanpy:Chain [4] start processing\n"
     ]
    },
    {
     "name": "stdout",
     "output_type": "stream",
     "text": [
      "Fitting toy MC bin no.564\n",
      "0.9499530516431925\n",
      "426 328\n"
     ]
    },
    {
     "name": "stderr",
     "output_type": "stream",
     "text": [
      "INFO:cmdstanpy:Chain [3] done processing\n",
      "INFO:cmdstanpy:Chain [4] done processing\n",
      "INFO:cmdstanpy:Chain [2] done processing\n",
      "INFO:cmdstanpy:Chain [1] done processing\n",
      "INFO:cmdstanpy:found newer exe file, not recompiling\n",
      "INFO:cmdstanpy:found newer exe file, not recompiling\n",
      "INFO:cmdstanpy:CmdStan start procesing\n",
      "INFO:cmdstanpy:Chain [1] start processing\n",
      "INFO:cmdstanpy:Chain [2] start processing\n",
      "INFO:cmdstanpy:Chain [3] start processing\n",
      "INFO:cmdstanpy:Chain [4] start processing\n"
     ]
    },
    {
     "name": "stdout",
     "output_type": "stream",
     "text": [
      "Fitting toy MC bin no.565\n",
      "0.9497237569060774\n",
      "362 280\n"
     ]
    },
    {
     "name": "stderr",
     "output_type": "stream",
     "text": [
      "INFO:cmdstanpy:Chain [3] done processing\n",
      "INFO:cmdstanpy:Chain [4] done processing\n",
      "INFO:cmdstanpy:Chain [1] done processing\n",
      "INFO:cmdstanpy:Chain [2] done processing\n",
      "INFO:cmdstanpy:found newer exe file, not recompiling\n",
      "INFO:cmdstanpy:found newer exe file, not recompiling\n",
      "INFO:cmdstanpy:CmdStan start procesing\n",
      "INFO:cmdstanpy:Chain [1] start processing\n",
      "INFO:cmdstanpy:Chain [2] start processing\n",
      "INFO:cmdstanpy:Chain [3] start processing\n",
      "INFO:cmdstanpy:Chain [4] start processing\n"
     ]
    },
    {
     "name": "stdout",
     "output_type": "stream",
     "text": [
      "Fitting toy MC bin no.566\n",
      "0.9498477157360407\n",
      "394 304\n"
     ]
    },
    {
     "name": "stderr",
     "output_type": "stream",
     "text": [
      "INFO:cmdstanpy:Chain [4] done processing\n",
      "INFO:cmdstanpy:Chain [2] done processing\n",
      "INFO:cmdstanpy:Chain [3] done processing\n",
      "INFO:cmdstanpy:Chain [1] done processing\n",
      "INFO:cmdstanpy:found newer exe file, not recompiling\n",
      "INFO:cmdstanpy:found newer exe file, not recompiling\n",
      "INFO:cmdstanpy:CmdStan start procesing\n",
      "INFO:cmdstanpy:Chain [1] start processing\n",
      "INFO:cmdstanpy:Chain [2] start processing\n",
      "INFO:cmdstanpy:Chain [3] start processing\n",
      "INFO:cmdstanpy:Chain [4] start processing\n"
     ]
    },
    {
     "name": "stdout",
     "output_type": "stream",
     "text": [
      "Fitting toy MC bin no.567\n",
      "0.9499407582938388\n",
      "422 325\n"
     ]
    },
    {
     "name": "stderr",
     "output_type": "stream",
     "text": [
      "INFO:cmdstanpy:Chain [2] done processing\n",
      "INFO:cmdstanpy:Chain [3] done processing\n",
      "INFO:cmdstanpy:Chain [4] done processing\n",
      "INFO:cmdstanpy:Chain [1] done processing\n",
      "INFO:cmdstanpy:found newer exe file, not recompiling\n",
      "INFO:cmdstanpy:found newer exe file, not recompiling\n",
      "INFO:cmdstanpy:CmdStan start procesing\n",
      "INFO:cmdstanpy:Chain [1] start processing\n",
      "INFO:cmdstanpy:Chain [2] start processing\n",
      "INFO:cmdstanpy:Chain [3] start processing\n",
      "INFO:cmdstanpy:Chain [4] start processing\n"
     ]
    },
    {
     "name": "stdout",
     "output_type": "stream",
     "text": [
      "Fitting toy MC bin no.568\n",
      "0.9497875\n",
      "400 309\n"
     ]
    },
    {
     "name": "stderr",
     "output_type": "stream",
     "text": [
      "INFO:cmdstanpy:Chain [2] done processing\n",
      "INFO:cmdstanpy:Chain [4] done processing\n",
      "INFO:cmdstanpy:Chain [1] done processing\n",
      "INFO:cmdstanpy:Chain [3] done processing\n",
      "INFO:cmdstanpy:found newer exe file, not recompiling\n",
      "INFO:cmdstanpy:found newer exe file, not recompiling\n",
      "INFO:cmdstanpy:CmdStan start procesing\n",
      "INFO:cmdstanpy:Chain [1] start processing\n",
      "INFO:cmdstanpy:Chain [2] start processing\n",
      "INFO:cmdstanpy:Chain [3] start processing\n",
      "INFO:cmdstanpy:Chain [4] start processing\n"
     ]
    },
    {
     "name": "stdout",
     "output_type": "stream",
     "text": [
      "Fitting toy MC bin no.569\n",
      "0.9498387096774195\n",
      "403 311\n"
     ]
    },
    {
     "name": "stderr",
     "output_type": "stream",
     "text": [
      "INFO:cmdstanpy:Chain [1] done processing\n",
      "INFO:cmdstanpy:Chain [2] done processing\n",
      "INFO:cmdstanpy:Chain [4] done processing\n",
      "INFO:cmdstanpy:Chain [3] done processing\n",
      "INFO:cmdstanpy:found newer exe file, not recompiling\n",
      "INFO:cmdstanpy:found newer exe file, not recompiling\n",
      "INFO:cmdstanpy:CmdStan start procesing\n",
      "INFO:cmdstanpy:Chain [1] start processing\n",
      "INFO:cmdstanpy:Chain [2] start processing\n",
      "INFO:cmdstanpy:Chain [3] start processing\n",
      "INFO:cmdstanpy:Chain [4] start processing\n"
     ]
    },
    {
     "name": "stdout",
     "output_type": "stream",
     "text": [
      "Fitting toy MC bin no.570\n",
      "0.9499127182044889\n",
      "401 309\n"
     ]
    },
    {
     "name": "stderr",
     "output_type": "stream",
     "text": [
      "INFO:cmdstanpy:Chain [4] done processing\n",
      "INFO:cmdstanpy:Chain [3] done processing\n",
      "INFO:cmdstanpy:Chain [2] done processing\n",
      "INFO:cmdstanpy:Chain [1] done processing\n",
      "INFO:cmdstanpy:found newer exe file, not recompiling\n",
      "INFO:cmdstanpy:found newer exe file, not recompiling\n",
      "INFO:cmdstanpy:CmdStan start procesing\n",
      "INFO:cmdstanpy:Chain [1] start processing\n",
      "INFO:cmdstanpy:Chain [2] start processing\n",
      "INFO:cmdstanpy:Chain [3] start processing\n",
      "INFO:cmdstanpy:Chain [4] start processing\n"
     ]
    },
    {
     "name": "stdout",
     "output_type": "stream",
     "text": [
      "Fitting toy MC bin no.571\n",
      "0.9498891625615763\n",
      "406 313\n"
     ]
    },
    {
     "name": "stderr",
     "output_type": "stream",
     "text": [
      "INFO:cmdstanpy:Chain [2] done processing\n",
      "INFO:cmdstanpy:Chain [4] done processing\n",
      "INFO:cmdstanpy:Chain [3] done processing\n",
      "INFO:cmdstanpy:Chain [1] done processing\n",
      "INFO:cmdstanpy:found newer exe file, not recompiling\n",
      "INFO:cmdstanpy:found newer exe file, not recompiling\n",
      "INFO:cmdstanpy:CmdStan start procesing\n",
      "INFO:cmdstanpy:Chain [1] start processing\n",
      "INFO:cmdstanpy:Chain [2] start processing\n",
      "INFO:cmdstanpy:Chain [3] start processing\n",
      "INFO:cmdstanpy:Chain [4] start processing\n"
     ]
    },
    {
     "name": "stdout",
     "output_type": "stream",
     "text": [
      "Fitting toy MC bin no.572\n",
      "0.949925925925926\n",
      "405 312\n"
     ]
    },
    {
     "name": "stderr",
     "output_type": "stream",
     "text": [
      "INFO:cmdstanpy:Chain [4] done processing\n",
      "INFO:cmdstanpy:Chain [3] done processing\n",
      "INFO:cmdstanpy:Chain [1] done processing\n",
      "INFO:cmdstanpy:Chain [2] done processing\n",
      "INFO:cmdstanpy:found newer exe file, not recompiling\n",
      "INFO:cmdstanpy:found newer exe file, not recompiling\n",
      "INFO:cmdstanpy:CmdStan start procesing\n",
      "INFO:cmdstanpy:Chain [1] start processing\n",
      "INFO:cmdstanpy:Chain [2] start processing\n",
      "INFO:cmdstanpy:Chain [3] start processing\n",
      "INFO:cmdstanpy:Chain [4] start processing\n"
     ]
    },
    {
     "name": "stdout",
     "output_type": "stream",
     "text": [
      "Fitting toy MC bin no.573\n",
      "0.9499603174603174\n",
      "378 291\n"
     ]
    },
    {
     "name": "stderr",
     "output_type": "stream",
     "text": [
      "INFO:cmdstanpy:Chain [2] done processing\n",
      "INFO:cmdstanpy:Chain [3] done processing\n",
      "INFO:cmdstanpy:Chain [4] done processing\n",
      "INFO:cmdstanpy:Chain [1] done processing\n",
      "INFO:cmdstanpy:found newer exe file, not recompiling\n",
      "INFO:cmdstanpy:found newer exe file, not recompiling\n",
      "INFO:cmdstanpy:CmdStan start procesing\n",
      "INFO:cmdstanpy:Chain [1] start processing\n",
      "INFO:cmdstanpy:Chain [2] start processing\n",
      "INFO:cmdstanpy:Chain [3] start processing\n",
      "INFO:cmdstanpy:Chain [4] start processing\n"
     ]
    },
    {
     "name": "stdout",
     "output_type": "stream",
     "text": [
      "Fitting toy MC bin no.574\n",
      "0.9498661800486617\n",
      "411 317\n"
     ]
    },
    {
     "name": "stderr",
     "output_type": "stream",
     "text": [
      "INFO:cmdstanpy:Chain [4] done processing\n",
      "INFO:cmdstanpy:Chain [3] done processing\n",
      "INFO:cmdstanpy:Chain [1] done processing\n",
      "INFO:cmdstanpy:Chain [2] done processing\n",
      "INFO:cmdstanpy:found newer exe file, not recompiling\n",
      "INFO:cmdstanpy:found newer exe file, not recompiling\n",
      "INFO:cmdstanpy:CmdStan start procesing\n",
      "INFO:cmdstanpy:Chain [1] start processing\n",
      "INFO:cmdstanpy:Chain [2] start processing\n",
      "INFO:cmdstanpy:Chain [3] start processing\n",
      "INFO:cmdstanpy:Chain [4] start processing\n"
     ]
    },
    {
     "name": "stdout",
     "output_type": "stream",
     "text": [
      "Fitting toy MC bin no.575\n",
      "0.949958904109589\n",
      "365 281\n"
     ]
    },
    {
     "name": "stderr",
     "output_type": "stream",
     "text": [
      "INFO:cmdstanpy:Chain [1] done processing\n",
      "INFO:cmdstanpy:Chain [3] done processing\n",
      "INFO:cmdstanpy:Chain [4] done processing\n",
      "INFO:cmdstanpy:Chain [2] done processing\n",
      "INFO:cmdstanpy:found newer exe file, not recompiling\n",
      "INFO:cmdstanpy:found newer exe file, not recompiling\n",
      "INFO:cmdstanpy:CmdStan start procesing\n",
      "INFO:cmdstanpy:Chain [1] start processing\n",
      "INFO:cmdstanpy:Chain [2] start processing\n",
      "INFO:cmdstanpy:Chain [3] start processing\n",
      "INFO:cmdstanpy:Chain [4] start processing\n"
     ]
    },
    {
     "name": "stdout",
     "output_type": "stream",
     "text": [
      "Fitting toy MC bin no.576\n",
      "0.9499603174603174\n",
      "378 291\n"
     ]
    },
    {
     "name": "stderr",
     "output_type": "stream",
     "text": [
      "INFO:cmdstanpy:Chain [1] done processing\n",
      "INFO:cmdstanpy:Chain [3] done processing\n",
      "INFO:cmdstanpy:Chain [4] done processing\n",
      "INFO:cmdstanpy:Chain [2] done processing\n",
      "INFO:cmdstanpy:found newer exe file, not recompiling\n",
      "INFO:cmdstanpy:found newer exe file, not recompiling\n",
      "INFO:cmdstanpy:CmdStan start procesing\n",
      "INFO:cmdstanpy:Chain [1] start processing\n",
      "INFO:cmdstanpy:Chain [2] start processing\n",
      "INFO:cmdstanpy:Chain [3] start processing\n",
      "INFO:cmdstanpy:Chain [4] start processing\n"
     ]
    },
    {
     "name": "stdout",
     "output_type": "stream",
     "text": [
      "Fitting toy MC bin no.577\n",
      "0.9500508905852417\n",
      "393 302\n"
     ]
    },
    {
     "name": "stderr",
     "output_type": "stream",
     "text": [
      "INFO:cmdstanpy:Chain [3] done processing\n",
      "INFO:cmdstanpy:Chain [1] done processing\n",
      "INFO:cmdstanpy:Chain [4] done processing\n",
      "INFO:cmdstanpy:Chain [2] done processing\n",
      "INFO:cmdstanpy:found newer exe file, not recompiling\n",
      "INFO:cmdstanpy:found newer exe file, not recompiling\n",
      "INFO:cmdstanpy:CmdStan start procesing\n",
      "INFO:cmdstanpy:Chain [1] start processing\n",
      "INFO:cmdstanpy:Chain [2] start processing\n",
      "INFO:cmdstanpy:Chain [3] start processing\n",
      "INFO:cmdstanpy:Chain [4] start processing\n"
     ]
    },
    {
     "name": "stdout",
     "output_type": "stream",
     "text": [
      "Fitting toy MC bin no.578\n",
      "0.9499024390243902\n",
      "410 316\n"
     ]
    },
    {
     "name": "stderr",
     "output_type": "stream",
     "text": [
      "INFO:cmdstanpy:Chain [3] done processing\n",
      "INFO:cmdstanpy:Chain [2] done processing\n",
      "INFO:cmdstanpy:Chain [4] done processing\n",
      "INFO:cmdstanpy:Chain [1] done processing\n",
      "INFO:cmdstanpy:found newer exe file, not recompiling\n",
      "INFO:cmdstanpy:found newer exe file, not recompiling\n",
      "INFO:cmdstanpy:CmdStan start procesing\n",
      "INFO:cmdstanpy:Chain [1] start processing\n",
      "INFO:cmdstanpy:Chain [2] start processing\n",
      "INFO:cmdstanpy:Chain [3] start processing\n",
      "INFO:cmdstanpy:Chain [4] start processing\n"
     ]
    },
    {
     "name": "stdout",
     "output_type": "stream",
     "text": [
      "Fitting toy MC bin no.579\n",
      "0.9498926014319808\n",
      "419 323\n"
     ]
    },
    {
     "name": "stderr",
     "output_type": "stream",
     "text": [
      "INFO:cmdstanpy:Chain [4] done processing\n",
      "INFO:cmdstanpy:Chain [3] done processing\n",
      "INFO:cmdstanpy:Chain [2] done processing\n",
      "INFO:cmdstanpy:Chain [1] done processing\n",
      "INFO:cmdstanpy:found newer exe file, not recompiling\n",
      "INFO:cmdstanpy:found newer exe file, not recompiling\n",
      "INFO:cmdstanpy:CmdStan start procesing\n",
      "INFO:cmdstanpy:Chain [1] start processing\n",
      "INFO:cmdstanpy:Chain [2] start processing\n",
      "INFO:cmdstanpy:Chain [3] start processing\n",
      "INFO:cmdstanpy:Chain [4] start processing\n"
     ]
    },
    {
     "name": "stdout",
     "output_type": "stream",
     "text": [
      "Fitting toy MC bin no.580\n",
      "0.9498854961832062\n",
      "393 303\n"
     ]
    },
    {
     "name": "stderr",
     "output_type": "stream",
     "text": [
      "INFO:cmdstanpy:Chain [3] done processing\n",
      "INFO:cmdstanpy:Chain [4] done processing\n",
      "INFO:cmdstanpy:Chain [2] done processing\n",
      "INFO:cmdstanpy:Chain [1] done processing\n",
      "INFO:cmdstanpy:found newer exe file, not recompiling\n",
      "INFO:cmdstanpy:found newer exe file, not recompiling\n",
      "INFO:cmdstanpy:CmdStan start procesing\n",
      "INFO:cmdstanpy:Chain [1] start processing\n",
      "INFO:cmdstanpy:Chain [2] start processing\n",
      "INFO:cmdstanpy:Chain [3] start processing\n",
      "INFO:cmdstanpy:Chain [4] start processing\n"
     ]
    },
    {
     "name": "stdout",
     "output_type": "stream",
     "text": [
      "Fitting toy MC bin no.581\n",
      "0.9497941888619854\n",
      "413 319\n"
     ]
    },
    {
     "name": "stderr",
     "output_type": "stream",
     "text": [
      "INFO:cmdstanpy:Chain [1] done processing\n",
      "INFO:cmdstanpy:Chain [3] done processing\n",
      "INFO:cmdstanpy:Chain [2] done processing\n",
      "INFO:cmdstanpy:Chain [4] done processing\n",
      "INFO:cmdstanpy:found newer exe file, not recompiling\n",
      "INFO:cmdstanpy:found newer exe file, not recompiling\n",
      "INFO:cmdstanpy:CmdStan start procesing\n",
      "INFO:cmdstanpy:Chain [1] start processing\n",
      "INFO:cmdstanpy:Chain [2] start processing\n",
      "INFO:cmdstanpy:Chain [3] start processing\n",
      "INFO:cmdstanpy:Chain [4] start processing\n"
     ]
    },
    {
     "name": "stdout",
     "output_type": "stream",
     "text": [
      "Fitting toy MC bin no.582\n",
      "0.9498186528497409\n",
      "386 298\n"
     ]
    },
    {
     "name": "stderr",
     "output_type": "stream",
     "text": [
      "INFO:cmdstanpy:Chain [3] done processing\n",
      "INFO:cmdstanpy:Chain [1] done processing\n",
      "INFO:cmdstanpy:Chain [2] done processing\n",
      "INFO:cmdstanpy:Chain [4] done processing\n",
      "INFO:cmdstanpy:found newer exe file, not recompiling\n",
      "INFO:cmdstanpy:found newer exe file, not recompiling\n",
      "INFO:cmdstanpy:CmdStan start procesing\n",
      "INFO:cmdstanpy:Chain [1] start processing\n",
      "INFO:cmdstanpy:Chain [2] start processing\n",
      "INFO:cmdstanpy:Chain [3] start processing\n",
      "INFO:cmdstanpy:Chain [4] start processing\n"
     ]
    },
    {
     "name": "stdout",
     "output_type": "stream",
     "text": [
      "Fitting toy MC bin no.583\n",
      "0.9499628712871288\n",
      "404 311\n"
     ]
    },
    {
     "name": "stderr",
     "output_type": "stream",
     "text": [
      "INFO:cmdstanpy:Chain [2] done processing\n",
      "INFO:cmdstanpy:Chain [4] done processing\n",
      "INFO:cmdstanpy:Chain [3] done processing\n",
      "INFO:cmdstanpy:Chain [1] done processing\n",
      "INFO:cmdstanpy:found newer exe file, not recompiling\n",
      "INFO:cmdstanpy:found newer exe file, not recompiling\n",
      "INFO:cmdstanpy:CmdStan start procesing\n",
      "INFO:cmdstanpy:Chain [1] start processing\n",
      "INFO:cmdstanpy:Chain [2] start processing\n",
      "INFO:cmdstanpy:Chain [3] start processing\n",
      "INFO:cmdstanpy:Chain [4] start processing\n"
     ]
    },
    {
     "name": "stdout",
     "output_type": "stream",
     "text": [
      "Fitting toy MC bin no.584\n",
      "0.9499024390243902\n",
      "410 316\n"
     ]
    },
    {
     "name": "stderr",
     "output_type": "stream",
     "text": [
      "INFO:cmdstanpy:Chain [3] done processing\n",
      "INFO:cmdstanpy:Chain [4] done processing\n",
      "INFO:cmdstanpy:Chain [2] done processing\n",
      "INFO:cmdstanpy:Chain [1] done processing\n",
      "INFO:cmdstanpy:found newer exe file, not recompiling\n",
      "INFO:cmdstanpy:found newer exe file, not recompiling\n",
      "INFO:cmdstanpy:CmdStan start procesing\n",
      "INFO:cmdstanpy:Chain [1] start processing\n",
      "INFO:cmdstanpy:Chain [2] start processing\n",
      "INFO:cmdstanpy:Chain [3] start processing\n",
      "INFO:cmdstanpy:Chain [4] start processing\n"
     ]
    },
    {
     "name": "stdout",
     "output_type": "stream",
     "text": [
      "Fitting toy MC bin no.585\n",
      "0.949946524064171\n",
      "374 288\n"
     ]
    },
    {
     "name": "stderr",
     "output_type": "stream",
     "text": [
      "INFO:cmdstanpy:Chain [4] done processing\n",
      "INFO:cmdstanpy:Chain [3] done processing\n",
      "INFO:cmdstanpy:Chain [1] done processing\n",
      "INFO:cmdstanpy:Chain [2] done processing\n",
      "INFO:cmdstanpy:found newer exe file, not recompiling\n",
      "INFO:cmdstanpy:found newer exe file, not recompiling\n",
      "INFO:cmdstanpy:CmdStan start procesing\n",
      "INFO:cmdstanpy:Chain [1] start processing\n",
      "INFO:cmdstanpy:Chain [2] start processing\n",
      "INFO:cmdstanpy:Chain [3] start processing\n",
      "INFO:cmdstanpy:Chain [4] start processing\n"
     ]
    },
    {
     "name": "stdout",
     "output_type": "stream",
     "text": [
      "Fitting toy MC bin no.586\n",
      "0.9499874686716793\n",
      "399 307\n"
     ]
    },
    {
     "name": "stderr",
     "output_type": "stream",
     "text": [
      "INFO:cmdstanpy:Chain [1] done processing\n",
      "INFO:cmdstanpy:Chain [2] done processing\n",
      "INFO:cmdstanpy:Chain [3] done processing\n",
      "INFO:cmdstanpy:Chain [4] done processing\n",
      "INFO:cmdstanpy:found newer exe file, not recompiling\n",
      "INFO:cmdstanpy:found newer exe file, not recompiling\n",
      "INFO:cmdstanpy:CmdStan start procesing\n",
      "INFO:cmdstanpy:Chain [1] start processing\n",
      "INFO:cmdstanpy:Chain [2] start processing\n",
      "INFO:cmdstanpy:Chain [3] start processing\n",
      "INFO:cmdstanpy:Chain [4] start processing\n"
     ]
    },
    {
     "name": "stdout",
     "output_type": "stream",
     "text": [
      "Fitting toy MC bin no.587\n",
      "0.9498854961832062\n",
      "393 303\n"
     ]
    },
    {
     "name": "stderr",
     "output_type": "stream",
     "text": [
      "INFO:cmdstanpy:Chain [3] done processing\n",
      "INFO:cmdstanpy:Chain [2] done processing\n",
      "INFO:cmdstanpy:Chain [4] done processing\n",
      "INFO:cmdstanpy:Chain [1] done processing\n",
      "INFO:cmdstanpy:found newer exe file, not recompiling\n",
      "INFO:cmdstanpy:found newer exe file, not recompiling\n",
      "INFO:cmdstanpy:CmdStan start procesing\n",
      "INFO:cmdstanpy:Chain [1] start processing\n",
      "INFO:cmdstanpy:Chain [2] start processing\n",
      "INFO:cmdstanpy:Chain [3] start processing\n",
      "INFO:cmdstanpy:Chain [4] start processing\n"
     ]
    },
    {
     "name": "stdout",
     "output_type": "stream",
     "text": [
      "Fitting toy MC bin no.588\n",
      "0.9498714652956298\n",
      "389 300\n"
     ]
    },
    {
     "name": "stderr",
     "output_type": "stream",
     "text": [
      "INFO:cmdstanpy:Chain [1] done processing\n",
      "INFO:cmdstanpy:Chain [2] done processing\n",
      "INFO:cmdstanpy:Chain [3] done processing\n",
      "INFO:cmdstanpy:Chain [4] done processing\n",
      "INFO:cmdstanpy:found newer exe file, not recompiling\n",
      "INFO:cmdstanpy:found newer exe file, not recompiling\n",
      "INFO:cmdstanpy:CmdStan start procesing\n",
      "INFO:cmdstanpy:Chain [1] start processing\n",
      "INFO:cmdstanpy:Chain [2] start processing\n",
      "INFO:cmdstanpy:Chain [3] start processing\n",
      "INFO:cmdstanpy:Chain [4] start processing\n"
     ]
    },
    {
     "name": "stdout",
     "output_type": "stream",
     "text": [
      "Fitting toy MC bin no.589\n",
      "0.9498815789473684\n",
      "380 293\n"
     ]
    },
    {
     "name": "stderr",
     "output_type": "stream",
     "text": [
      "INFO:cmdstanpy:Chain [3] done processing\n",
      "INFO:cmdstanpy:Chain [1] done processing\n",
      "INFO:cmdstanpy:Chain [4] done processing\n",
      "INFO:cmdstanpy:Chain [2] done processing\n",
      "INFO:cmdstanpy:found newer exe file, not recompiling\n",
      "INFO:cmdstanpy:found newer exe file, not recompiling\n",
      "INFO:cmdstanpy:CmdStan start procesing\n",
      "INFO:cmdstanpy:Chain [1] start processing\n",
      "INFO:cmdstanpy:Chain [2] start processing\n",
      "INFO:cmdstanpy:Chain [3] start processing\n",
      "INFO:cmdstanpy:Chain [4] start processing\n"
     ]
    },
    {
     "name": "stdout",
     "output_type": "stream",
     "text": [
      "Fitting toy MC bin no.590\n",
      "0.9498525798525798\n",
      "407 314\n"
     ]
    },
    {
     "name": "stderr",
     "output_type": "stream",
     "text": [
      "INFO:cmdstanpy:Chain [1] done processing\n",
      "INFO:cmdstanpy:Chain [2] done processing\n",
      "INFO:cmdstanpy:Chain [3] done processing\n",
      "INFO:cmdstanpy:Chain [4] done processing\n",
      "INFO:cmdstanpy:found newer exe file, not recompiling\n",
      "INFO:cmdstanpy:found newer exe file, not recompiling\n",
      "INFO:cmdstanpy:CmdStan start procesing\n",
      "INFO:cmdstanpy:Chain [1] start processing\n",
      "INFO:cmdstanpy:Chain [2] start processing\n",
      "INFO:cmdstanpy:Chain [3] start processing\n",
      "INFO:cmdstanpy:Chain [4] start processing\n"
     ]
    },
    {
     "name": "stdout",
     "output_type": "stream",
     "text": [
      "Fitting toy MC bin no.591\n",
      "0.9497953964194373\n",
      "391 302\n"
     ]
    },
    {
     "name": "stderr",
     "output_type": "stream",
     "text": [
      "INFO:cmdstanpy:Chain [4] done processing\n",
      "INFO:cmdstanpy:Chain [2] done processing\n",
      "INFO:cmdstanpy:Chain [3] done processing\n",
      "INFO:cmdstanpy:Chain [1] done processing\n",
      "INFO:cmdstanpy:found newer exe file, not recompiling\n",
      "INFO:cmdstanpy:found newer exe file, not recompiling\n",
      "INFO:cmdstanpy:CmdStan start procesing\n",
      "INFO:cmdstanpy:Chain [1] start processing\n",
      "INFO:cmdstanpy:Chain [2] start processing\n",
      "INFO:cmdstanpy:Chain [3] start processing\n",
      "INFO:cmdstanpy:Chain [4] start processing\n"
     ]
    },
    {
     "name": "stdout",
     "output_type": "stream",
     "text": [
      "Fitting toy MC bin no.592\n",
      "0.949934725848564\n",
      "383 295\n"
     ]
    },
    {
     "name": "stderr",
     "output_type": "stream",
     "text": [
      "INFO:cmdstanpy:Chain [3] done processing\n",
      "INFO:cmdstanpy:Chain [4] done processing\n",
      "INFO:cmdstanpy:Chain [1] done processing\n",
      "INFO:cmdstanpy:Chain [2] done processing\n",
      "INFO:cmdstanpy:found newer exe file, not recompiling\n",
      "INFO:cmdstanpy:found newer exe file, not recompiling\n",
      "INFO:cmdstanpy:CmdStan start procesing\n",
      "INFO:cmdstanpy:Chain [1] start processing\n",
      "INFO:cmdstanpy:Chain [2] start processing\n",
      "INFO:cmdstanpy:Chain [3] start processing\n",
      "INFO:cmdstanpy:Chain [4] start processing\n"
     ]
    },
    {
     "name": "stdout",
     "output_type": "stream",
     "text": [
      "Fitting toy MC bin no.593\n",
      "0.9499746835443038\n",
      "395 304\n"
     ]
    },
    {
     "name": "stderr",
     "output_type": "stream",
     "text": [
      "INFO:cmdstanpy:Chain [2] done processing\n",
      "INFO:cmdstanpy:Chain [3] done processing\n",
      "INFO:cmdstanpy:Chain [1] done processing\n",
      "INFO:cmdstanpy:Chain [4] done processing\n",
      "INFO:cmdstanpy:found newer exe file, not recompiling\n",
      "INFO:cmdstanpy:found newer exe file, not recompiling\n",
      "INFO:cmdstanpy:CmdStan start procesing\n",
      "INFO:cmdstanpy:Chain [1] start processing\n",
      "INFO:cmdstanpy:Chain [2] start processing\n",
      "INFO:cmdstanpy:Chain [3] start processing\n",
      "INFO:cmdstanpy:Chain [4] start processing\n"
     ]
    },
    {
     "name": "stdout",
     "output_type": "stream",
     "text": [
      "Fitting toy MC bin no.594\n",
      "0.9497727272727272\n",
      "418 323\n"
     ]
    },
    {
     "name": "stderr",
     "output_type": "stream",
     "text": [
      "INFO:cmdstanpy:Chain [3] done processing\n",
      "INFO:cmdstanpy:Chain [2] done processing\n",
      "INFO:cmdstanpy:Chain [1] done processing\n",
      "INFO:cmdstanpy:Chain [4] done processing\n",
      "INFO:cmdstanpy:found newer exe file, not recompiling\n",
      "INFO:cmdstanpy:found newer exe file, not recompiling\n",
      "INFO:cmdstanpy:CmdStan start procesing\n",
      "INFO:cmdstanpy:Chain [1] start processing\n",
      "INFO:cmdstanpy:Chain [2] start processing\n",
      "INFO:cmdstanpy:Chain [3] start processing\n",
      "INFO:cmdstanpy:Chain [4] start processing\n"
     ]
    },
    {
     "name": "stdout",
     "output_type": "stream",
     "text": [
      "Fitting toy MC bin no.595\n",
      "0.9499033149171271\n",
      "362 279\n"
     ]
    },
    {
     "name": "stderr",
     "output_type": "stream",
     "text": [
      "INFO:cmdstanpy:Chain [3] done processing\n",
      "INFO:cmdstanpy:Chain [4] done processing\n",
      "INFO:cmdstanpy:Chain [2] done processing\n",
      "INFO:cmdstanpy:Chain [1] done processing\n",
      "INFO:cmdstanpy:found newer exe file, not recompiling\n",
      "INFO:cmdstanpy:found newer exe file, not recompiling\n",
      "INFO:cmdstanpy:CmdStan start procesing\n",
      "INFO:cmdstanpy:Chain [1] start processing\n",
      "INFO:cmdstanpy:Chain [2] start processing\n",
      "INFO:cmdstanpy:Chain [3] start processing\n",
      "INFO:cmdstanpy:Chain [4] start processing\n"
     ]
    },
    {
     "name": "stdout",
     "output_type": "stream",
     "text": [
      "Fitting toy MC bin no.596\n",
      "0.9499878640776699\n",
      "412 317\n"
     ]
    },
    {
     "name": "stderr",
     "output_type": "stream",
     "text": [
      "INFO:cmdstanpy:Chain [4] done processing\n",
      "INFO:cmdstanpy:Chain [1] done processing\n",
      "INFO:cmdstanpy:Chain [3] done processing\n",
      "INFO:cmdstanpy:Chain [2] done processing\n",
      "INFO:cmdstanpy:found newer exe file, not recompiling\n",
      "INFO:cmdstanpy:found newer exe file, not recompiling\n",
      "INFO:cmdstanpy:CmdStan start procesing\n",
      "INFO:cmdstanpy:Chain [1] start processing\n",
      "INFO:cmdstanpy:Chain [2] start processing\n",
      "INFO:cmdstanpy:Chain [3] start processing\n",
      "INFO:cmdstanpy:Chain [4] start processing\n"
     ]
    },
    {
     "name": "stdout",
     "output_type": "stream",
     "text": [
      "Fitting toy MC bin no.597\n",
      "0.9499154589371981\n",
      "414 319\n"
     ]
    },
    {
     "name": "stderr",
     "output_type": "stream",
     "text": [
      "INFO:cmdstanpy:Chain [1] done processing\n",
      "INFO:cmdstanpy:Chain [3] done processing\n",
      "INFO:cmdstanpy:Chain [2] done processing\n",
      "INFO:cmdstanpy:Chain [4] done processing\n",
      "INFO:cmdstanpy:found newer exe file, not recompiling\n",
      "INFO:cmdstanpy:found newer exe file, not recompiling\n",
      "INFO:cmdstanpy:CmdStan start procesing\n",
      "INFO:cmdstanpy:Chain [1] start processing\n",
      "INFO:cmdstanpy:Chain [2] start processing\n",
      "INFO:cmdstanpy:Chain [3] start processing\n",
      "INFO:cmdstanpy:Chain [4] start processing\n"
     ]
    },
    {
     "name": "stdout",
     "output_type": "stream",
     "text": [
      "Fitting toy MC bin no.598\n",
      "0.9498891625615763\n",
      "406 313\n"
     ]
    },
    {
     "name": "stderr",
     "output_type": "stream",
     "text": [
      "INFO:cmdstanpy:Chain [2] done processing\n",
      "INFO:cmdstanpy:Chain [3] done processing\n",
      "INFO:cmdstanpy:Chain [1] done processing\n",
      "INFO:cmdstanpy:Chain [4] done processing\n",
      "INFO:cmdstanpy:found newer exe file, not recompiling\n",
      "INFO:cmdstanpy:found newer exe file, not recompiling\n",
      "INFO:cmdstanpy:CmdStan start procesing\n",
      "INFO:cmdstanpy:Chain [1] start processing\n",
      "INFO:cmdstanpy:Chain [2] start processing\n",
      "INFO:cmdstanpy:Chain [3] start processing\n",
      "INFO:cmdstanpy:Chain [4] start processing\n"
     ]
    },
    {
     "name": "stdout",
     "output_type": "stream",
     "text": [
      "Fitting toy MC bin no.599\n",
      "0.95\n",
      "377 290\n"
     ]
    },
    {
     "name": "stderr",
     "output_type": "stream",
     "text": [
      "INFO:cmdstanpy:Chain [3] done processing\n",
      "INFO:cmdstanpy:Chain [4] done processing\n",
      "INFO:cmdstanpy:Chain [1] done processing\n",
      "INFO:cmdstanpy:Chain [2] done processing\n",
      "INFO:cmdstanpy:found newer exe file, not recompiling\n",
      "INFO:cmdstanpy:found newer exe file, not recompiling\n",
      "INFO:cmdstanpy:CmdStan start procesing\n",
      "INFO:cmdstanpy:Chain [1] start processing\n",
      "INFO:cmdstanpy:Chain [2] start processing\n",
      "INFO:cmdstanpy:Chain [3] start processing\n",
      "INFO:cmdstanpy:Chain [4] start processing\n"
     ]
    },
    {
     "name": "stdout",
     "output_type": "stream",
     "text": [
      "Fitting toy MC bin no.600\n",
      "0.9497953964194373\n",
      "391 302\n"
     ]
    },
    {
     "name": "stderr",
     "output_type": "stream",
     "text": [
      "INFO:cmdstanpy:Chain [4] done processing\n",
      "INFO:cmdstanpy:Chain [3] done processing\n",
      "INFO:cmdstanpy:Chain [2] done processing\n",
      "INFO:cmdstanpy:Chain [1] done processing\n",
      "INFO:cmdstanpy:found newer exe file, not recompiling\n",
      "INFO:cmdstanpy:found newer exe file, not recompiling\n",
      "INFO:cmdstanpy:CmdStan start procesing\n",
      "INFO:cmdstanpy:Chain [1] start processing\n",
      "INFO:cmdstanpy:Chain [2] start processing\n",
      "INFO:cmdstanpy:Chain [3] start processing\n",
      "INFO:cmdstanpy:Chain [4] start processing\n"
     ]
    },
    {
     "name": "stdout",
     "output_type": "stream",
     "text": [
      "Fitting toy MC bin no.601\n",
      "0.9499651162790698\n",
      "430 331\n"
     ]
    },
    {
     "name": "stderr",
     "output_type": "stream",
     "text": [
      "INFO:cmdstanpy:Chain [4] done processing\n",
      "INFO:cmdstanpy:Chain [1] done processing\n",
      "INFO:cmdstanpy:Chain [3] done processing\n",
      "INFO:cmdstanpy:Chain [2] done processing\n",
      "INFO:cmdstanpy:found newer exe file, not recompiling\n",
      "INFO:cmdstanpy:found newer exe file, not recompiling\n",
      "INFO:cmdstanpy:CmdStan start procesing\n",
      "INFO:cmdstanpy:Chain [1] start processing\n",
      "INFO:cmdstanpy:Chain [2] start processing\n",
      "INFO:cmdstanpy:Chain [3] start processing\n",
      "INFO:cmdstanpy:Chain [4] start processing\n"
     ]
    },
    {
     "name": "stdout",
     "output_type": "stream",
     "text": [
      "Fitting toy MC bin no.602\n",
      "0.9500748129675811\n",
      "401 308\n"
     ]
    },
    {
     "name": "stderr",
     "output_type": "stream",
     "text": [
      "INFO:cmdstanpy:Chain [3] done processing\n",
      "INFO:cmdstanpy:Chain [2] done processing\n",
      "INFO:cmdstanpy:Chain [4] done processing\n",
      "INFO:cmdstanpy:Chain [1] done processing\n",
      "INFO:cmdstanpy:found newer exe file, not recompiling\n",
      "INFO:cmdstanpy:found newer exe file, not recompiling\n",
      "INFO:cmdstanpy:CmdStan start procesing\n",
      "INFO:cmdstanpy:Chain [1] start processing\n",
      "INFO:cmdstanpy:Chain [2] start processing\n",
      "INFO:cmdstanpy:Chain [3] start processing\n",
      "INFO:cmdstanpy:Chain [4] start processing\n"
     ]
    },
    {
     "name": "stdout",
     "output_type": "stream",
     "text": [
      "Fitting toy MC bin no.603\n",
      "0.949934725848564\n",
      "383 295\n"
     ]
    },
    {
     "name": "stderr",
     "output_type": "stream",
     "text": [
      "INFO:cmdstanpy:Chain [3] done processing\n",
      "INFO:cmdstanpy:Chain [2] done processing\n",
      "INFO:cmdstanpy:Chain [1] done processing\n",
      "INFO:cmdstanpy:Chain [4] done processing\n",
      "INFO:cmdstanpy:found newer exe file, not recompiling\n",
      "INFO:cmdstanpy:found newer exe file, not recompiling\n",
      "INFO:cmdstanpy:CmdStan start procesing\n",
      "INFO:cmdstanpy:Chain [1] start processing\n",
      "INFO:cmdstanpy:Chain [2] start processing\n",
      "INFO:cmdstanpy:Chain [3] start processing\n",
      "INFO:cmdstanpy:Chain [4] start processing\n"
     ]
    },
    {
     "name": "stdout",
     "output_type": "stream",
     "text": [
      "Fitting toy MC bin no.604\n",
      "0.9498275862068964\n",
      "377 291\n"
     ]
    },
    {
     "name": "stderr",
     "output_type": "stream",
     "text": [
      "INFO:cmdstanpy:Chain [3] done processing\n",
      "INFO:cmdstanpy:Chain [1] done processing\n",
      "INFO:cmdstanpy:Chain [4] done processing\n",
      "INFO:cmdstanpy:Chain [2] done processing\n",
      "INFO:cmdstanpy:found newer exe file, not recompiling\n",
      "INFO:cmdstanpy:found newer exe file, not recompiling\n",
      "INFO:cmdstanpy:CmdStan start procesing\n",
      "INFO:cmdstanpy:Chain [1] start processing\n",
      "INFO:cmdstanpy:Chain [2] start processing\n",
      "INFO:cmdstanpy:Chain [3] start processing\n",
      "INFO:cmdstanpy:Chain [4] start processing\n"
     ]
    },
    {
     "name": "stdout",
     "output_type": "stream",
     "text": [
      "Fitting toy MC bin no.605\n",
      "0.9498815789473684\n",
      "380 293\n"
     ]
    },
    {
     "name": "stderr",
     "output_type": "stream",
     "text": [
      "INFO:cmdstanpy:Chain [1] done processing\n",
      "INFO:cmdstanpy:Chain [4] done processing\n",
      "INFO:cmdstanpy:Chain [3] done processing\n",
      "INFO:cmdstanpy:Chain [2] done processing\n",
      "INFO:cmdstanpy:found newer exe file, not recompiling\n",
      "INFO:cmdstanpy:found newer exe file, not recompiling\n",
      "INFO:cmdstanpy:CmdStan start procesing\n",
      "INFO:cmdstanpy:Chain [1] start processing\n",
      "INFO:cmdstanpy:Chain [2] start processing\n",
      "INFO:cmdstanpy:Chain [3] start processing\n",
      "INFO:cmdstanpy:Chain [4] start processing\n"
     ]
    },
    {
     "name": "stdout",
     "output_type": "stream",
     "text": [
      "Fitting toy MC bin no.606\n",
      "0.9499738219895287\n",
      "382 294\n"
     ]
    },
    {
     "name": "stderr",
     "output_type": "stream",
     "text": [
      "INFO:cmdstanpy:Chain [2] done processing\n",
      "INFO:cmdstanpy:Chain [4] done processing\n",
      "INFO:cmdstanpy:Chain [1] done processing\n",
      "INFO:cmdstanpy:Chain [3] done processing\n",
      "INFO:cmdstanpy:found newer exe file, not recompiling\n",
      "INFO:cmdstanpy:found newer exe file, not recompiling\n",
      "INFO:cmdstanpy:CmdStan start procesing\n",
      "INFO:cmdstanpy:Chain [1] start processing\n",
      "INFO:cmdstanpy:Chain [2] start processing\n",
      "INFO:cmdstanpy:Chain [3] start processing\n",
      "INFO:cmdstanpy:Chain [4] start processing\n"
     ]
    },
    {
     "name": "stdout",
     "output_type": "stream",
     "text": [
      "Fitting toy MC bin no.607\n",
      "0.9499180327868852\n",
      "366 282\n"
     ]
    },
    {
     "name": "stderr",
     "output_type": "stream",
     "text": [
      "INFO:cmdstanpy:Chain [1] done processing\n",
      "INFO:cmdstanpy:Chain [4] done processing\n",
      "INFO:cmdstanpy:Chain [3] done processing\n",
      "INFO:cmdstanpy:Chain [2] done processing\n",
      "INFO:cmdstanpy:found newer exe file, not recompiling\n",
      "INFO:cmdstanpy:found newer exe file, not recompiling\n",
      "INFO:cmdstanpy:CmdStan start procesing\n",
      "INFO:cmdstanpy:Chain [1] start processing\n",
      "INFO:cmdstanpy:Chain [2] start processing\n",
      "INFO:cmdstanpy:Chain [3] start processing\n",
      "INFO:cmdstanpy:Chain [4] start processing\n"
     ]
    },
    {
     "name": "stdout",
     "output_type": "stream",
     "text": [
      "Fitting toy MC bin no.608\n",
      "0.9499127182044889\n",
      "401 309\n"
     ]
    },
    {
     "name": "stderr",
     "output_type": "stream",
     "text": [
      "INFO:cmdstanpy:Chain [3] done processing\n",
      "INFO:cmdstanpy:Chain [1] done processing\n",
      "INFO:cmdstanpy:Chain [4] done processing\n",
      "INFO:cmdstanpy:Chain [2] done processing\n",
      "INFO:cmdstanpy:found newer exe file, not recompiling\n",
      "INFO:cmdstanpy:found newer exe file, not recompiling\n",
      "INFO:cmdstanpy:CmdStan start procesing\n",
      "INFO:cmdstanpy:Chain [1] start processing\n",
      "INFO:cmdstanpy:Chain [2] start processing\n",
      "INFO:cmdstanpy:Chain [3] start processing\n",
      "INFO:cmdstanpy:Chain [4] start processing\n"
     ]
    },
    {
     "name": "stdout",
     "output_type": "stream",
     "text": [
      "Fitting toy MC bin no.609\n",
      "0.9499024390243902\n",
      "410 316\n"
     ]
    },
    {
     "name": "stderr",
     "output_type": "stream",
     "text": [
      "INFO:cmdstanpy:Chain [2] done processing\n",
      "INFO:cmdstanpy:Chain [4] done processing\n",
      "INFO:cmdstanpy:Chain [3] done processing\n",
      "INFO:cmdstanpy:Chain [1] done processing\n",
      "INFO:cmdstanpy:found newer exe file, not recompiling\n",
      "INFO:cmdstanpy:found newer exe file, not recompiling\n",
      "INFO:cmdstanpy:CmdStan start procesing\n",
      "INFO:cmdstanpy:Chain [1] start processing\n",
      "INFO:cmdstanpy:Chain [2] start processing\n",
      "INFO:cmdstanpy:Chain [3] start processing\n",
      "INFO:cmdstanpy:Chain [4] start processing\n"
     ]
    },
    {
     "name": "stdout",
     "output_type": "stream",
     "text": [
      "Fitting toy MC bin no.610\n",
      "0.9499483204134367\n",
      "387 298\n"
     ]
    },
    {
     "name": "stderr",
     "output_type": "stream",
     "text": [
      "INFO:cmdstanpy:Chain [1] done processing\n",
      "INFO:cmdstanpy:Chain [4] done processing\n",
      "INFO:cmdstanpy:Chain [3] done processing\n",
      "INFO:cmdstanpy:Chain [2] done processing\n",
      "INFO:cmdstanpy:found newer exe file, not recompiling\n",
      "INFO:cmdstanpy:found newer exe file, not recompiling\n",
      "INFO:cmdstanpy:CmdStan start procesing\n",
      "INFO:cmdstanpy:Chain [1] start processing\n",
      "INFO:cmdstanpy:Chain [2] start processing\n",
      "INFO:cmdstanpy:Chain [3] start processing\n",
      "INFO:cmdstanpy:Chain [4] start processing\n"
     ]
    },
    {
     "name": "stdout",
     "output_type": "stream",
     "text": [
      "Fitting toy MC bin no.611\n",
      "0.9497953964194373\n",
      "391 302\n"
     ]
    },
    {
     "name": "stderr",
     "output_type": "stream",
     "text": [
      "INFO:cmdstanpy:Chain [2] done processing\n",
      "INFO:cmdstanpy:Chain [3] done processing\n",
      "INFO:cmdstanpy:Chain [4] done processing\n",
      "INFO:cmdstanpy:Chain [1] done processing\n",
      "INFO:cmdstanpy:found newer exe file, not recompiling\n",
      "INFO:cmdstanpy:found newer exe file, not recompiling\n",
      "INFO:cmdstanpy:CmdStan start procesing\n",
      "INFO:cmdstanpy:Chain [1] start processing\n",
      "INFO:cmdstanpy:Chain [2] start processing\n",
      "INFO:cmdstanpy:Chain [3] start processing\n",
      "INFO:cmdstanpy:Chain [4] start processing\n"
     ]
    },
    {
     "name": "stdout",
     "output_type": "stream",
     "text": [
      "Fitting toy MC bin no.612\n",
      "0.9498101265822785\n",
      "395 305\n"
     ]
    },
    {
     "name": "stderr",
     "output_type": "stream",
     "text": [
      "INFO:cmdstanpy:Chain [1] done processing\n",
      "INFO:cmdstanpy:Chain [2] done processing\n",
      "INFO:cmdstanpy:Chain [3] done processing\n",
      "INFO:cmdstanpy:Chain [4] done processing\n",
      "INFO:cmdstanpy:found newer exe file, not recompiling\n",
      "INFO:cmdstanpy:found newer exe file, not recompiling\n",
      "INFO:cmdstanpy:CmdStan start procesing\n",
      "INFO:cmdstanpy:Chain [1] start processing\n",
      "INFO:cmdstanpy:Chain [2] start processing\n",
      "INFO:cmdstanpy:Chain [3] start processing\n",
      "INFO:cmdstanpy:Chain [4] start processing\n"
     ]
    },
    {
     "name": "stdout",
     "output_type": "stream",
     "text": [
      "Fitting toy MC bin no.613\n",
      "0.9498997134670487\n",
      "349 269\n"
     ]
    },
    {
     "name": "stderr",
     "output_type": "stream",
     "text": [
      "INFO:cmdstanpy:Chain [1] done processing\n",
      "INFO:cmdstanpy:Chain [4] done processing\n",
      "INFO:cmdstanpy:Chain [2] done processing\n",
      "INFO:cmdstanpy:Chain [3] done processing\n",
      "INFO:cmdstanpy:found newer exe file, not recompiling\n",
      "INFO:cmdstanpy:found newer exe file, not recompiling\n",
      "INFO:cmdstanpy:CmdStan start procesing\n",
      "INFO:cmdstanpy:Chain [1] start processing\n",
      "INFO:cmdstanpy:Chain [2] start processing\n",
      "INFO:cmdstanpy:Chain [3] start processing\n",
      "INFO:cmdstanpy:Chain [4] start processing\n"
     ]
    },
    {
     "name": "stdout",
     "output_type": "stream",
     "text": [
      "Fitting toy MC bin no.614\n",
      "0.9499865951742628\n",
      "373 287\n"
     ]
    },
    {
     "name": "stderr",
     "output_type": "stream",
     "text": [
      "INFO:cmdstanpy:Chain [3] done processing\n",
      "INFO:cmdstanpy:Chain [1] done processing\n",
      "INFO:cmdstanpy:Chain [2] done processing\n",
      "INFO:cmdstanpy:Chain [4] done processing\n",
      "INFO:cmdstanpy:found newer exe file, not recompiling\n",
      "INFO:cmdstanpy:found newer exe file, not recompiling\n",
      "INFO:cmdstanpy:CmdStan start procesing\n",
      "INFO:cmdstanpy:Chain [1] start processing\n",
      "INFO:cmdstanpy:Chain [2] start processing\n",
      "INFO:cmdstanpy:Chain [3] start processing\n",
      "INFO:cmdstanpy:Chain [4] start processing\n"
     ]
    },
    {
     "name": "stdout",
     "output_type": "stream",
     "text": [
      "Fitting toy MC bin no.615\n",
      "0.9498529411764706\n",
      "442 341\n"
     ]
    },
    {
     "name": "stderr",
     "output_type": "stream",
     "text": [
      "INFO:cmdstanpy:Chain [2] done processing\n",
      "INFO:cmdstanpy:Chain [4] done processing\n",
      "INFO:cmdstanpy:Chain [3] done processing\n",
      "INFO:cmdstanpy:Chain [1] done processing\n",
      "INFO:cmdstanpy:found newer exe file, not recompiling\n",
      "INFO:cmdstanpy:found newer exe file, not recompiling\n",
      "INFO:cmdstanpy:CmdStan start procesing\n",
      "INFO:cmdstanpy:Chain [1] start processing\n",
      "INFO:cmdstanpy:Chain [2] start processing\n",
      "INFO:cmdstanpy:Chain [3] start processing\n",
      "INFO:cmdstanpy:Chain [4] start processing\n"
     ]
    },
    {
     "name": "stdout",
     "output_type": "stream",
     "text": [
      "Fitting toy MC bin no.616\n",
      "0.9499324324324325\n",
      "370 285\n"
     ]
    },
    {
     "name": "stderr",
     "output_type": "stream",
     "text": [
      "INFO:cmdstanpy:Chain [1] done processing\n",
      "INFO:cmdstanpy:Chain [4] done processing\n",
      "INFO:cmdstanpy:Chain [3] done processing\n",
      "INFO:cmdstanpy:Chain [2] done processing\n",
      "INFO:cmdstanpy:found newer exe file, not recompiling\n",
      "INFO:cmdstanpy:found newer exe file, not recompiling\n",
      "INFO:cmdstanpy:CmdStan start procesing\n",
      "INFO:cmdstanpy:Chain [1] start processing\n",
      "INFO:cmdstanpy:Chain [2] start processing\n",
      "INFO:cmdstanpy:Chain [3] start processing\n",
      "INFO:cmdstanpy:Chain [4] start processing\n"
     ]
    },
    {
     "name": "stdout",
     "output_type": "stream",
     "text": [
      "Fitting toy MC bin no.617\n",
      "0.9498571428571428\n",
      "385 297\n"
     ]
    },
    {
     "name": "stderr",
     "output_type": "stream",
     "text": [
      "INFO:cmdstanpy:Chain [3] done processing\n",
      "INFO:cmdstanpy:Chain [1] done processing\n",
      "INFO:cmdstanpy:Chain [2] done processing\n",
      "INFO:cmdstanpy:Chain [4] done processing\n",
      "INFO:cmdstanpy:found newer exe file, not recompiling\n",
      "INFO:cmdstanpy:found newer exe file, not recompiling\n",
      "INFO:cmdstanpy:CmdStan start procesing\n",
      "INFO:cmdstanpy:Chain [1] start processing\n",
      "INFO:cmdstanpy:Chain [2] start processing\n",
      "INFO:cmdstanpy:Chain [3] start processing\n",
      "INFO:cmdstanpy:Chain [4] start processing\n"
     ]
    },
    {
     "name": "stdout",
     "output_type": "stream",
     "text": [
      "Fitting toy MC bin no.618\n",
      "0.9498958333333334\n",
      "432 333\n"
     ]
    },
    {
     "name": "stderr",
     "output_type": "stream",
     "text": [
      "INFO:cmdstanpy:Chain [4] done processing\n",
      "INFO:cmdstanpy:Chain [1] done processing\n",
      "INFO:cmdstanpy:Chain [3] done processing\n",
      "INFO:cmdstanpy:Chain [2] done processing\n",
      "INFO:cmdstanpy:found newer exe file, not recompiling\n",
      "INFO:cmdstanpy:found newer exe file, not recompiling\n",
      "INFO:cmdstanpy:CmdStan start procesing\n",
      "INFO:cmdstanpy:Chain [1] start processing\n",
      "INFO:cmdstanpy:Chain [2] start processing\n",
      "INFO:cmdstanpy:Chain [3] start processing\n",
      "INFO:cmdstanpy:Chain [4] start processing\n"
     ]
    },
    {
     "name": "stdout",
     "output_type": "stream",
     "text": [
      "Fitting toy MC bin no.619\n",
      "0.9500837320574163\n",
      "418 321\n"
     ]
    },
    {
     "name": "stderr",
     "output_type": "stream",
     "text": [
      "INFO:cmdstanpy:Chain [1] done processing\n",
      "INFO:cmdstanpy:Chain [2] done processing\n",
      "INFO:cmdstanpy:Chain [4] done processing\n",
      "INFO:cmdstanpy:Chain [3] done processing\n",
      "INFO:cmdstanpy:found newer exe file, not recompiling\n",
      "INFO:cmdstanpy:found newer exe file, not recompiling\n",
      "INFO:cmdstanpy:CmdStan start procesing\n",
      "INFO:cmdstanpy:Chain [1] start processing\n",
      "INFO:cmdstanpy:Chain [2] start processing\n",
      "INFO:cmdstanpy:Chain [3] start processing\n",
      "INFO:cmdstanpy:Chain [4] start processing\n"
     ]
    },
    {
     "name": "stdout",
     "output_type": "stream",
     "text": [
      "Fitting toy MC bin no.620\n",
      "0.9500000000000001\n",
      "429 330\n"
     ]
    },
    {
     "name": "stderr",
     "output_type": "stream",
     "text": [
      "INFO:cmdstanpy:Chain [4] done processing\n",
      "INFO:cmdstanpy:Chain [1] done processing\n",
      "INFO:cmdstanpy:Chain [3] done processing\n",
      "INFO:cmdstanpy:Chain [2] done processing\n",
      "INFO:cmdstanpy:found newer exe file, not recompiling\n",
      "INFO:cmdstanpy:found newer exe file, not recompiling\n",
      "INFO:cmdstanpy:CmdStan start procesing\n",
      "INFO:cmdstanpy:Chain [1] start processing\n",
      "INFO:cmdstanpy:Chain [2] start processing\n",
      "INFO:cmdstanpy:Chain [3] start processing\n",
      "INFO:cmdstanpy:Chain [4] start processing\n"
     ]
    },
    {
     "name": "stdout",
     "output_type": "stream",
     "text": [
      "Fitting toy MC bin no.621\n",
      "0.949934725848564\n",
      "383 295\n"
     ]
    },
    {
     "name": "stderr",
     "output_type": "stream",
     "text": [
      "INFO:cmdstanpy:Chain [1] done processing\n",
      "INFO:cmdstanpy:Chain [3] done processing\n",
      "INFO:cmdstanpy:Chain [2] done processing\n",
      "INFO:cmdstanpy:Chain [4] done processing\n",
      "INFO:cmdstanpy:found newer exe file, not recompiling\n",
      "INFO:cmdstanpy:found newer exe file, not recompiling\n",
      "INFO:cmdstanpy:CmdStan start procesing\n",
      "INFO:cmdstanpy:Chain [1] start processing\n",
      "INFO:cmdstanpy:Chain [2] start processing\n",
      "INFO:cmdstanpy:Chain [3] start processing\n",
      "INFO:cmdstanpy:Chain [4] start processing\n"
     ]
    },
    {
     "name": "stdout",
     "output_type": "stream",
     "text": [
      "Fitting toy MC bin no.622\n",
      "0.94984375\n",
      "416 321\n"
     ]
    },
    {
     "name": "stderr",
     "output_type": "stream",
     "text": [
      "INFO:cmdstanpy:Chain [1] done processing\n",
      "INFO:cmdstanpy:Chain [2] done processing\n",
      "INFO:cmdstanpy:Chain [4] done processing\n",
      "INFO:cmdstanpy:Chain [3] done processing\n",
      "INFO:cmdstanpy:found newer exe file, not recompiling\n",
      "INFO:cmdstanpy:found newer exe file, not recompiling\n",
      "INFO:cmdstanpy:CmdStan start procesing\n",
      "INFO:cmdstanpy:Chain [1] start processing\n",
      "INFO:cmdstanpy:Chain [2] start processing\n",
      "INFO:cmdstanpy:Chain [3] start processing\n",
      "INFO:cmdstanpy:Chain [4] start processing\n"
     ]
    },
    {
     "name": "stdout",
     "output_type": "stream",
     "text": [
      "Fitting toy MC bin no.623\n",
      "0.9498815789473684\n",
      "380 293\n"
     ]
    },
    {
     "name": "stderr",
     "output_type": "stream",
     "text": [
      "INFO:cmdstanpy:Chain [4] done processing\n",
      "INFO:cmdstanpy:Chain [1] done processing\n",
      "INFO:cmdstanpy:Chain [3] done processing\n",
      "INFO:cmdstanpy:Chain [2] done processing\n",
      "INFO:cmdstanpy:found newer exe file, not recompiling\n",
      "INFO:cmdstanpy:found newer exe file, not recompiling\n",
      "INFO:cmdstanpy:CmdStan start procesing\n",
      "INFO:cmdstanpy:Chain [1] start processing\n",
      "INFO:cmdstanpy:Chain [2] start processing\n",
      "INFO:cmdstanpy:Chain [3] start processing\n",
      "INFO:cmdstanpy:Chain [4] start processing\n"
     ]
    },
    {
     "name": "stdout",
     "output_type": "stream",
     "text": [
      "Fitting toy MC bin no.624\n",
      "0.9499127182044889\n",
      "401 309\n"
     ]
    },
    {
     "name": "stderr",
     "output_type": "stream",
     "text": [
      "INFO:cmdstanpy:Chain [2] done processing\n",
      "INFO:cmdstanpy:Chain [4] done processing\n",
      "INFO:cmdstanpy:Chain [1] done processing\n",
      "INFO:cmdstanpy:Chain [3] done processing\n",
      "INFO:cmdstanpy:found newer exe file, not recompiling\n",
      "INFO:cmdstanpy:found newer exe file, not recompiling\n",
      "INFO:cmdstanpy:CmdStan start procesing\n",
      "INFO:cmdstanpy:Chain [1] start processing\n",
      "INFO:cmdstanpy:Chain [2] start processing\n",
      "INFO:cmdstanpy:Chain [3] start processing\n",
      "INFO:cmdstanpy:Chain [4] start processing\n"
     ]
    },
    {
     "name": "stdout",
     "output_type": "stream",
     "text": [
      "Fitting toy MC bin no.625\n",
      "0.9499054373522459\n",
      "423 326\n"
     ]
    },
    {
     "name": "stderr",
     "output_type": "stream",
     "text": [
      "INFO:cmdstanpy:Chain [2] done processing\n",
      "INFO:cmdstanpy:Chain [4] done processing\n",
      "INFO:cmdstanpy:Chain [1] done processing\n",
      "INFO:cmdstanpy:Chain [3] done processing\n",
      "INFO:cmdstanpy:found newer exe file, not recompiling\n",
      "INFO:cmdstanpy:found newer exe file, not recompiling\n",
      "INFO:cmdstanpy:CmdStan start procesing\n",
      "INFO:cmdstanpy:Chain [1] start processing\n",
      "INFO:cmdstanpy:Chain [2] start processing\n",
      "INFO:cmdstanpy:Chain [3] start processing\n",
      "INFO:cmdstanpy:Chain [4] start processing\n"
     ]
    },
    {
     "name": "stdout",
     "output_type": "stream",
     "text": [
      "Fitting toy MC bin no.626\n",
      "0.9498425196850393\n",
      "381 294\n"
     ]
    },
    {
     "name": "stderr",
     "output_type": "stream",
     "text": [
      "INFO:cmdstanpy:Chain [1] done processing\n",
      "INFO:cmdstanpy:Chain [2] done processing\n",
      "INFO:cmdstanpy:Chain [3] done processing\n",
      "INFO:cmdstanpy:Chain [4] done processing\n",
      "INFO:cmdstanpy:found newer exe file, not recompiling\n",
      "INFO:cmdstanpy:found newer exe file, not recompiling\n",
      "INFO:cmdstanpy:CmdStan start procesing\n",
      "INFO:cmdstanpy:Chain [1] start processing\n",
      "INFO:cmdstanpy:Chain [2] start processing\n",
      "INFO:cmdstanpy:Chain [3] start processing\n",
      "INFO:cmdstanpy:Chain [4] start processing\n"
     ]
    },
    {
     "name": "stdout",
     "output_type": "stream",
     "text": [
      "Fitting toy MC bin no.627\n",
      "0.9498101265822785\n",
      "395 305\n"
     ]
    },
    {
     "name": "stderr",
     "output_type": "stream",
     "text": [
      "INFO:cmdstanpy:Chain [1] done processing\n",
      "INFO:cmdstanpy:Chain [2] done processing\n",
      "INFO:cmdstanpy:Chain [4] done processing\n",
      "INFO:cmdstanpy:Chain [3] done processing\n",
      "INFO:cmdstanpy:found newer exe file, not recompiling\n",
      "INFO:cmdstanpy:found newer exe file, not recompiling\n",
      "INFO:cmdstanpy:CmdStan start procesing\n",
      "INFO:cmdstanpy:Chain [1] start processing\n",
      "INFO:cmdstanpy:Chain [2] start processing\n",
      "INFO:cmdstanpy:Chain [3] start processing\n",
      "INFO:cmdstanpy:Chain [4] start processing\n"
     ]
    },
    {
     "name": "stdout",
     "output_type": "stream",
     "text": [
      "Fitting toy MC bin no.628\n",
      "0.9499127182044889\n",
      "401 309\n"
     ]
    },
    {
     "name": "stderr",
     "output_type": "stream",
     "text": [
      "INFO:cmdstanpy:Chain [4] done processing\n",
      "INFO:cmdstanpy:Chain [1] done processing\n",
      "INFO:cmdstanpy:Chain [2] done processing\n",
      "INFO:cmdstanpy:Chain [3] done processing\n",
      "INFO:cmdstanpy:found newer exe file, not recompiling\n",
      "INFO:cmdstanpy:found newer exe file, not recompiling\n",
      "INFO:cmdstanpy:CmdStan start procesing\n",
      "INFO:cmdstanpy:Chain [1] start processing\n",
      "INFO:cmdstanpy:Chain [2] start processing\n",
      "INFO:cmdstanpy:Chain [3] start processing\n",
      "INFO:cmdstanpy:Chain [4] start processing\n"
     ]
    },
    {
     "name": "stdout",
     "output_type": "stream",
     "text": [
      "Fitting toy MC bin no.629\n",
      "0.949925925925926\n",
      "405 312\n"
     ]
    },
    {
     "name": "stderr",
     "output_type": "stream",
     "text": [
      "INFO:cmdstanpy:Chain [1] done processing\n",
      "INFO:cmdstanpy:Chain [2] done processing\n",
      "INFO:cmdstanpy:Chain [4] done processing\n",
      "INFO:cmdstanpy:Chain [3] done processing\n",
      "INFO:cmdstanpy:found newer exe file, not recompiling\n",
      "INFO:cmdstanpy:found newer exe file, not recompiling\n",
      "INFO:cmdstanpy:CmdStan start procesing\n",
      "INFO:cmdstanpy:Chain [1] start processing\n",
      "INFO:cmdstanpy:Chain [2] start processing\n",
      "INFO:cmdstanpy:Chain [3] start processing\n",
      "INFO:cmdstanpy:Chain [4] start processing\n"
     ]
    },
    {
     "name": "stdout",
     "output_type": "stream",
     "text": [
      "Fitting toy MC bin no.630\n",
      "0.9499154589371981\n",
      "414 319\n"
     ]
    },
    {
     "name": "stderr",
     "output_type": "stream",
     "text": [
      "INFO:cmdstanpy:Chain [1] done processing\n",
      "INFO:cmdstanpy:Chain [2] done processing\n",
      "INFO:cmdstanpy:Chain [3] done processing\n",
      "INFO:cmdstanpy:Chain [4] done processing\n",
      "INFO:cmdstanpy:found newer exe file, not recompiling\n",
      "INFO:cmdstanpy:found newer exe file, not recompiling\n",
      "INFO:cmdstanpy:CmdStan start procesing\n",
      "INFO:cmdstanpy:Chain [1] start processing\n",
      "INFO:cmdstanpy:Chain [2] start processing\n",
      "INFO:cmdstanpy:Chain [3] start processing\n",
      "INFO:cmdstanpy:Chain [4] start processing\n"
     ]
    },
    {
     "name": "stdout",
     "output_type": "stream",
     "text": [
      "Fitting toy MC bin no.631\n",
      "0.9498661800486617\n",
      "411 317\n"
     ]
    },
    {
     "name": "stderr",
     "output_type": "stream",
     "text": [
      "INFO:cmdstanpy:Chain [3] done processing\n",
      "INFO:cmdstanpy:Chain [4] done processing\n",
      "INFO:cmdstanpy:Chain [2] done processing\n",
      "INFO:cmdstanpy:Chain [1] done processing\n",
      "INFO:cmdstanpy:found newer exe file, not recompiling\n",
      "INFO:cmdstanpy:found newer exe file, not recompiling\n",
      "INFO:cmdstanpy:CmdStan start procesing\n",
      "INFO:cmdstanpy:Chain [1] start processing\n",
      "INFO:cmdstanpy:Chain [2] start processing\n",
      "INFO:cmdstanpy:Chain [3] start processing\n",
      "INFO:cmdstanpy:Chain [4] start processing\n"
     ]
    },
    {
     "name": "stdout",
     "output_type": "stream",
     "text": [
      "Fitting toy MC bin no.632\n",
      "0.9499024390243902\n",
      "410 316\n"
     ]
    },
    {
     "name": "stderr",
     "output_type": "stream",
     "text": [
      "INFO:cmdstanpy:Chain [3] done processing\n",
      "INFO:cmdstanpy:Chain [2] done processing\n",
      "INFO:cmdstanpy:Chain [1] done processing\n",
      "INFO:cmdstanpy:Chain [4] done processing\n",
      "INFO:cmdstanpy:found newer exe file, not recompiling\n",
      "INFO:cmdstanpy:found newer exe file, not recompiling\n",
      "INFO:cmdstanpy:CmdStan start procesing\n",
      "INFO:cmdstanpy:Chain [1] start processing\n",
      "INFO:cmdstanpy:Chain [2] start processing\n",
      "INFO:cmdstanpy:Chain [3] start processing\n",
      "INFO:cmdstanpy:Chain [4] start processing\n"
     ]
    },
    {
     "name": "stdout",
     "output_type": "stream",
     "text": [
      "Fitting toy MC bin no.633\n",
      "0.950012285012285\n",
      "407 313\n"
     ]
    },
    {
     "name": "stderr",
     "output_type": "stream",
     "text": [
      "INFO:cmdstanpy:Chain [4] done processing\n",
      "INFO:cmdstanpy:Chain [3] done processing\n",
      "INFO:cmdstanpy:Chain [2] done processing\n",
      "INFO:cmdstanpy:Chain [1] done processing\n",
      "INFO:cmdstanpy:found newer exe file, not recompiling\n",
      "INFO:cmdstanpy:found newer exe file, not recompiling\n",
      "INFO:cmdstanpy:CmdStan start procesing\n",
      "INFO:cmdstanpy:Chain [1] start processing\n",
      "INFO:cmdstanpy:Chain [2] start processing\n",
      "INFO:cmdstanpy:Chain [3] start processing\n",
      "INFO:cmdstanpy:Chain [4] start processing\n"
     ]
    },
    {
     "name": "stdout",
     "output_type": "stream",
     "text": [
      "Fitting toy MC bin no.634\n",
      "0.9498773841961853\n",
      "367 283\n"
     ]
    },
    {
     "name": "stderr",
     "output_type": "stream",
     "text": [
      "INFO:cmdstanpy:Chain [2] done processing\n",
      "INFO:cmdstanpy:Chain [1] done processing\n",
      "INFO:cmdstanpy:Chain [4] done processing\n",
      "INFO:cmdstanpy:Chain [3] done processing\n",
      "INFO:cmdstanpy:found newer exe file, not recompiling\n",
      "INFO:cmdstanpy:found newer exe file, not recompiling\n",
      "INFO:cmdstanpy:CmdStan start procesing\n",
      "INFO:cmdstanpy:Chain [1] start processing\n",
      "INFO:cmdstanpy:Chain [2] start processing\n",
      "INFO:cmdstanpy:Chain [3] start processing\n",
      "INFO:cmdstanpy:Chain [4] start processing\n"
     ]
    },
    {
     "name": "stdout",
     "output_type": "stream",
     "text": [
      "Fitting toy MC bin no.635\n",
      "0.9500119047619048\n",
      "420 323\n"
     ]
    },
    {
     "name": "stderr",
     "output_type": "stream",
     "text": [
      "INFO:cmdstanpy:Chain [4] done processing\n",
      "INFO:cmdstanpy:Chain [1] done processing\n",
      "INFO:cmdstanpy:Chain [3] done processing\n",
      "INFO:cmdstanpy:Chain [2] done processing\n",
      "INFO:cmdstanpy:found newer exe file, not recompiling\n",
      "INFO:cmdstanpy:found newer exe file, not recompiling\n",
      "INFO:cmdstanpy:CmdStan start procesing\n",
      "INFO:cmdstanpy:Chain [1] start processing\n",
      "INFO:cmdstanpy:Chain [2] start processing\n",
      "INFO:cmdstanpy:Chain [3] start processing\n",
      "INFO:cmdstanpy:Chain [4] start processing\n"
     ]
    },
    {
     "name": "stdout",
     "output_type": "stream",
     "text": [
      "Fitting toy MC bin no.636\n",
      "0.9498019801980199\n",
      "404 312\n"
     ]
    },
    {
     "name": "stderr",
     "output_type": "stream",
     "text": [
      "INFO:cmdstanpy:Chain [4] done processing\n",
      "INFO:cmdstanpy:Chain [2] done processing\n",
      "INFO:cmdstanpy:Chain [1] done processing\n",
      "INFO:cmdstanpy:Chain [3] done processing\n",
      "INFO:cmdstanpy:found newer exe file, not recompiling\n",
      "INFO:cmdstanpy:found newer exe file, not recompiling\n",
      "INFO:cmdstanpy:CmdStan start procesing\n",
      "INFO:cmdstanpy:Chain [1] start processing\n",
      "INFO:cmdstanpy:Chain [2] start processing\n",
      "INFO:cmdstanpy:Chain [3] start processing\n",
      "INFO:cmdstanpy:Chain [4] start processing\n"
     ]
    },
    {
     "name": "stdout",
     "output_type": "stream",
     "text": [
      "Fitting toy MC bin no.637\n",
      "0.949946524064171\n",
      "374 288\n"
     ]
    },
    {
     "name": "stderr",
     "output_type": "stream",
     "text": [
      "INFO:cmdstanpy:Chain [3] done processing\n",
      "INFO:cmdstanpy:Chain [4] done processing\n",
      "INFO:cmdstanpy:Chain [2] done processing\n",
      "INFO:cmdstanpy:Chain [1] done processing\n",
      "INFO:cmdstanpy:found newer exe file, not recompiling\n",
      "INFO:cmdstanpy:found newer exe file, not recompiling\n",
      "INFO:cmdstanpy:CmdStan start procesing\n",
      "INFO:cmdstanpy:Chain [1] start processing\n",
      "INFO:cmdstanpy:Chain [2] start processing\n",
      "INFO:cmdstanpy:Chain [3] start processing\n",
      "INFO:cmdstanpy:Chain [4] start processing\n"
     ]
    },
    {
     "name": "stdout",
     "output_type": "stream",
     "text": [
      "Fitting toy MC bin no.638\n",
      "0.9498019801980199\n",
      "404 312\n"
     ]
    },
    {
     "name": "stderr",
     "output_type": "stream",
     "text": [
      "INFO:cmdstanpy:Chain [3] done processing\n",
      "INFO:cmdstanpy:Chain [2] done processing\n",
      "INFO:cmdstanpy:Chain [4] done processing\n",
      "INFO:cmdstanpy:Chain [1] done processing\n",
      "INFO:cmdstanpy:found newer exe file, not recompiling\n",
      "INFO:cmdstanpy:found newer exe file, not recompiling\n",
      "INFO:cmdstanpy:CmdStan start procesing\n",
      "INFO:cmdstanpy:Chain [1] start processing\n",
      "INFO:cmdstanpy:Chain [2] start processing\n",
      "INFO:cmdstanpy:Chain [3] start processing\n",
      "INFO:cmdstanpy:Chain [4] start processing\n"
     ]
    },
    {
     "name": "stdout",
     "output_type": "stream",
     "text": [
      "Fitting toy MC bin no.639\n",
      "0.9498401826484018\n",
      "438 338\n"
     ]
    },
    {
     "name": "stderr",
     "output_type": "stream",
     "text": [
      "INFO:cmdstanpy:Chain [3] done processing\n",
      "INFO:cmdstanpy:Chain [2] done processing\n",
      "INFO:cmdstanpy:Chain [1] done processing\n",
      "INFO:cmdstanpy:Chain [4] done processing\n",
      "INFO:cmdstanpy:found newer exe file, not recompiling\n",
      "INFO:cmdstanpy:found newer exe file, not recompiling\n",
      "INFO:cmdstanpy:CmdStan start procesing\n",
      "INFO:cmdstanpy:Chain [1] start processing\n",
      "INFO:cmdstanpy:Chain [2] start processing\n",
      "INFO:cmdstanpy:Chain [3] start processing\n",
      "INFO:cmdstanpy:Chain [4] start processing\n"
     ]
    },
    {
     "name": "stdout",
     "output_type": "stream",
     "text": [
      "Fitting toy MC bin no.640\n",
      "0.949908256880734\n",
      "436 336\n"
     ]
    },
    {
     "name": "stderr",
     "output_type": "stream",
     "text": [
      "INFO:cmdstanpy:Chain [4] done processing\n",
      "INFO:cmdstanpy:Chain [2] done processing\n",
      "INFO:cmdstanpy:Chain [3] done processing\n",
      "INFO:cmdstanpy:Chain [1] done processing\n",
      "INFO:cmdstanpy:found newer exe file, not recompiling\n",
      "INFO:cmdstanpy:found newer exe file, not recompiling\n",
      "INFO:cmdstanpy:CmdStan start procesing\n",
      "INFO:cmdstanpy:Chain [1] start processing\n",
      "INFO:cmdstanpy:Chain [2] start processing\n",
      "INFO:cmdstanpy:Chain [3] start processing\n",
      "INFO:cmdstanpy:Chain [4] start processing\n"
     ]
    },
    {
     "name": "stdout",
     "output_type": "stream",
     "text": [
      "Fitting toy MC bin no.641\n",
      "0.9498300970873786\n",
      "412 318\n"
     ]
    },
    {
     "name": "stderr",
     "output_type": "stream",
     "text": [
      "INFO:cmdstanpy:Chain [3] done processing\n",
      "INFO:cmdstanpy:Chain [2] done processing\n",
      "INFO:cmdstanpy:Chain [4] done processing\n",
      "INFO:cmdstanpy:Chain [1] done processing\n",
      "INFO:cmdstanpy:found newer exe file, not recompiling\n",
      "INFO:cmdstanpy:found newer exe file, not recompiling\n",
      "INFO:cmdstanpy:CmdStan start procesing\n",
      "INFO:cmdstanpy:Chain [1] start processing\n",
      "INFO:cmdstanpy:Chain [2] start processing\n",
      "INFO:cmdstanpy:Chain [3] start processing\n",
      "INFO:cmdstanpy:Chain [4] start processing\n"
     ]
    },
    {
     "name": "stdout",
     "output_type": "stream",
     "text": [
      "Fitting toy MC bin no.642\n",
      "0.9499640287769784\n",
      "417 321\n"
     ]
    },
    {
     "name": "stderr",
     "output_type": "stream",
     "text": [
      "INFO:cmdstanpy:Chain [3] done processing\n",
      "INFO:cmdstanpy:Chain [2] done processing\n",
      "INFO:cmdstanpy:Chain [4] done processing\n",
      "INFO:cmdstanpy:Chain [1] done processing\n",
      "INFO:cmdstanpy:found newer exe file, not recompiling\n",
      "INFO:cmdstanpy:found newer exe file, not recompiling\n",
      "INFO:cmdstanpy:CmdStan start procesing\n",
      "INFO:cmdstanpy:Chain [1] start processing\n",
      "INFO:cmdstanpy:Chain [2] start processing\n",
      "INFO:cmdstanpy:Chain [3] start processing\n",
      "INFO:cmdstanpy:Chain [4] start processing\n"
     ]
    },
    {
     "name": "stdout",
     "output_type": "stream",
     "text": [
      "Fitting toy MC bin no.643\n",
      "0.9498891625615763\n",
      "406 313\n"
     ]
    },
    {
     "name": "stderr",
     "output_type": "stream",
     "text": [
      "INFO:cmdstanpy:Chain [3] done processing\n",
      "INFO:cmdstanpy:Chain [2] done processing\n",
      "INFO:cmdstanpy:Chain [4] done processing\n",
      "INFO:cmdstanpy:Chain [1] done processing\n",
      "INFO:cmdstanpy:found newer exe file, not recompiling\n",
      "INFO:cmdstanpy:found newer exe file, not recompiling\n",
      "INFO:cmdstanpy:CmdStan start procesing\n",
      "INFO:cmdstanpy:Chain [1] start processing\n",
      "INFO:cmdstanpy:Chain [2] start processing\n",
      "INFO:cmdstanpy:Chain [3] start processing\n",
      "INFO:cmdstanpy:Chain [4] start processing\n"
     ]
    },
    {
     "name": "stdout",
     "output_type": "stream",
     "text": [
      "Fitting toy MC bin no.644\n",
      "0.9499483204134367\n",
      "387 298\n"
     ]
    },
    {
     "name": "stderr",
     "output_type": "stream",
     "text": [
      "INFO:cmdstanpy:Chain [4] done processing\n",
      "INFO:cmdstanpy:Chain [3] done processing\n",
      "INFO:cmdstanpy:Chain [2] done processing\n",
      "INFO:cmdstanpy:Chain [1] done processing\n",
      "INFO:cmdstanpy:found newer exe file, not recompiling\n",
      "INFO:cmdstanpy:found newer exe file, not recompiling\n",
      "INFO:cmdstanpy:CmdStan start procesing\n",
      "INFO:cmdstanpy:Chain [1] start processing\n",
      "INFO:cmdstanpy:Chain [2] start processing\n",
      "INFO:cmdstanpy:Chain [3] start processing\n",
      "INFO:cmdstanpy:Chain [4] start processing\n"
     ]
    },
    {
     "name": "stdout",
     "output_type": "stream",
     "text": [
      "Fitting toy MC bin no.645\n",
      "0.9499603174603174\n",
      "378 291\n"
     ]
    },
    {
     "name": "stderr",
     "output_type": "stream",
     "text": [
      "INFO:cmdstanpy:Chain [1] done processing\n",
      "INFO:cmdstanpy:Chain [3] done processing\n",
      "INFO:cmdstanpy:Chain [2] done processing\n",
      "INFO:cmdstanpy:Chain [4] done processing\n",
      "INFO:cmdstanpy:found newer exe file, not recompiling\n",
      "INFO:cmdstanpy:found newer exe file, not recompiling\n",
      "INFO:cmdstanpy:CmdStan start procesing\n",
      "INFO:cmdstanpy:Chain [1] start processing\n",
      "INFO:cmdstanpy:Chain [2] start processing\n",
      "INFO:cmdstanpy:Chain [3] start processing\n",
      "INFO:cmdstanpy:Chain [4] start processing\n"
     ]
    },
    {
     "name": "stdout",
     "output_type": "stream",
     "text": [
      "Fitting toy MC bin no.646\n",
      "0.9497875\n",
      "400 309\n"
     ]
    },
    {
     "name": "stderr",
     "output_type": "stream",
     "text": [
      "INFO:cmdstanpy:Chain [1] done processing\n",
      "INFO:cmdstanpy:Chain [4] done processing\n",
      "INFO:cmdstanpy:Chain [2] done processing\n",
      "INFO:cmdstanpy:Chain [3] done processing\n",
      "INFO:cmdstanpy:found newer exe file, not recompiling\n",
      "INFO:cmdstanpy:found newer exe file, not recompiling\n",
      "INFO:cmdstanpy:CmdStan start procesing\n",
      "INFO:cmdstanpy:Chain [1] start processing\n",
      "INFO:cmdstanpy:Chain [2] start processing\n",
      "INFO:cmdstanpy:Chain [3] start processing\n",
      "INFO:cmdstanpy:Chain [4] start processing\n"
     ]
    },
    {
     "name": "stdout",
     "output_type": "stream",
     "text": [
      "Fitting toy MC bin no.647\n",
      "0.9497576530612245\n",
      "392 303\n"
     ]
    },
    {
     "name": "stderr",
     "output_type": "stream",
     "text": [
      "INFO:cmdstanpy:Chain [1] done processing\n",
      "INFO:cmdstanpy:Chain [4] done processing\n",
      "INFO:cmdstanpy:Chain [3] done processing\n",
      "INFO:cmdstanpy:Chain [2] done processing\n",
      "INFO:cmdstanpy:found newer exe file, not recompiling\n",
      "INFO:cmdstanpy:found newer exe file, not recompiling\n",
      "INFO:cmdstanpy:CmdStan start procesing\n",
      "INFO:cmdstanpy:Chain [1] start processing\n",
      "INFO:cmdstanpy:Chain [2] start processing\n",
      "INFO:cmdstanpy:Chain [3] start processing\n",
      "INFO:cmdstanpy:Chain [4] start processing\n"
     ]
    },
    {
     "name": "stdout",
     "output_type": "stream",
     "text": [
      "Fitting toy MC bin no.648\n",
      "0.9499603174603174\n",
      "378 291\n"
     ]
    },
    {
     "name": "stderr",
     "output_type": "stream",
     "text": [
      "INFO:cmdstanpy:Chain [2] done processing\n",
      "INFO:cmdstanpy:Chain [1] done processing\n",
      "INFO:cmdstanpy:Chain [3] done processing\n",
      "INFO:cmdstanpy:Chain [4] done processing\n",
      "INFO:cmdstanpy:found newer exe file, not recompiling\n",
      "INFO:cmdstanpy:found newer exe file, not recompiling\n",
      "INFO:cmdstanpy:CmdStan start procesing\n",
      "INFO:cmdstanpy:Chain [1] start processing\n",
      "INFO:cmdstanpy:Chain [2] start processing\n",
      "INFO:cmdstanpy:Chain [3] start processing\n",
      "INFO:cmdstanpy:Chain [4] start processing\n"
     ]
    },
    {
     "name": "stdout",
     "output_type": "stream",
     "text": [
      "Fitting toy MC bin no.649\n",
      "0.9500235849056604\n",
      "424 326\n"
     ]
    },
    {
     "name": "stderr",
     "output_type": "stream",
     "text": [
      "INFO:cmdstanpy:Chain [4] done processing\n",
      "INFO:cmdstanpy:Chain [3] done processing\n",
      "INFO:cmdstanpy:Chain [1] done processing\n",
      "INFO:cmdstanpy:Chain [2] done processing\n",
      "INFO:cmdstanpy:found newer exe file, not recompiling\n",
      "INFO:cmdstanpy:found newer exe file, not recompiling\n",
      "INFO:cmdstanpy:CmdStan start procesing\n",
      "INFO:cmdstanpy:Chain [1] start processing\n",
      "INFO:cmdstanpy:Chain [2] start processing\n",
      "INFO:cmdstanpy:Chain [3] start processing\n",
      "INFO:cmdstanpy:Chain [4] start processing\n"
     ]
    },
    {
     "name": "stdout",
     "output_type": "stream",
     "text": [
      "Fitting toy MC bin no.650\n",
      "0.9498854961832062\n",
      "393 303\n"
     ]
    },
    {
     "name": "stderr",
     "output_type": "stream",
     "text": [
      "INFO:cmdstanpy:Chain [1] done processing\n",
      "INFO:cmdstanpy:Chain [4] done processing\n",
      "INFO:cmdstanpy:Chain [3] done processing\n",
      "INFO:cmdstanpy:Chain [2] done processing\n",
      "INFO:cmdstanpy:found newer exe file, not recompiling\n",
      "INFO:cmdstanpy:found newer exe file, not recompiling\n",
      "INFO:cmdstanpy:CmdStan start procesing\n",
      "INFO:cmdstanpy:Chain [1] start processing\n",
      "INFO:cmdstanpy:Chain [2] start processing\n",
      "INFO:cmdstanpy:Chain [3] start processing\n",
      "INFO:cmdstanpy:Chain [4] start processing\n"
     ]
    },
    {
     "name": "stdout",
     "output_type": "stream",
     "text": [
      "Fitting toy MC bin no.651\n",
      "0.9497727272727272\n",
      "374 289\n"
     ]
    },
    {
     "name": "stderr",
     "output_type": "stream",
     "text": [
      "INFO:cmdstanpy:Chain [3] done processing\n",
      "INFO:cmdstanpy:Chain [2] done processing\n",
      "INFO:cmdstanpy:Chain [1] done processing\n",
      "INFO:cmdstanpy:Chain [4] done processing\n",
      "INFO:cmdstanpy:found newer exe file, not recompiling\n",
      "INFO:cmdstanpy:found newer exe file, not recompiling\n",
      "INFO:cmdstanpy:CmdStan start procesing\n",
      "INFO:cmdstanpy:Chain [1] start processing\n",
      "INFO:cmdstanpy:Chain [2] start processing\n",
      "INFO:cmdstanpy:Chain [3] start processing\n",
      "INFO:cmdstanpy:Chain [4] start processing\n"
     ]
    },
    {
     "name": "stdout",
     "output_type": "stream",
     "text": [
      "Fitting toy MC bin no.652\n",
      "0.949925925925926\n",
      "405 312\n"
     ]
    },
    {
     "name": "stderr",
     "output_type": "stream",
     "text": [
      "INFO:cmdstanpy:Chain [2] done processing\n",
      "INFO:cmdstanpy:Chain [1] done processing\n",
      "INFO:cmdstanpy:Chain [4] done processing\n",
      "INFO:cmdstanpy:Chain [3] done processing\n",
      "INFO:cmdstanpy:found newer exe file, not recompiling\n",
      "INFO:cmdstanpy:found newer exe file, not recompiling\n",
      "INFO:cmdstanpy:CmdStan start procesing\n",
      "INFO:cmdstanpy:Chain [1] start processing\n",
      "INFO:cmdstanpy:Chain [2] start processing\n",
      "INFO:cmdstanpy:Chain [3] start processing\n",
      "INFO:cmdstanpy:Chain [4] start processing\n"
     ]
    },
    {
     "name": "stdout",
     "output_type": "stream",
     "text": [
      "Fitting toy MC bin no.653\n",
      "0.9498387096774195\n",
      "403 311\n"
     ]
    },
    {
     "name": "stderr",
     "output_type": "stream",
     "text": [
      "INFO:cmdstanpy:Chain [4] done processing\n",
      "INFO:cmdstanpy:Chain [2] done processing\n",
      "INFO:cmdstanpy:Chain [3] done processing\n",
      "INFO:cmdstanpy:Chain [1] done processing\n",
      "INFO:cmdstanpy:found newer exe file, not recompiling\n",
      "INFO:cmdstanpy:found newer exe file, not recompiling\n",
      "INFO:cmdstanpy:CmdStan start procesing\n",
      "INFO:cmdstanpy:Chain [1] start processing\n",
      "INFO:cmdstanpy:Chain [2] start processing\n",
      "INFO:cmdstanpy:Chain [3] start processing\n",
      "INFO:cmdstanpy:Chain [4] start processing\n"
     ]
    },
    {
     "name": "stdout",
     "output_type": "stream",
     "text": [
      "Fitting toy MC bin no.654\n",
      "0.9499024390243902\n",
      "410 316\n"
     ]
    },
    {
     "name": "stderr",
     "output_type": "stream",
     "text": [
      "INFO:cmdstanpy:Chain [4] done processing\n",
      "INFO:cmdstanpy:Chain [1] done processing\n",
      "INFO:cmdstanpy:Chain [3] done processing\n",
      "INFO:cmdstanpy:Chain [2] done processing\n",
      "INFO:cmdstanpy:found newer exe file, not recompiling\n",
      "INFO:cmdstanpy:found newer exe file, not recompiling\n",
      "INFO:cmdstanpy:CmdStan start procesing\n",
      "INFO:cmdstanpy:Chain [1] start processing\n",
      "INFO:cmdstanpy:Chain [2] start processing\n",
      "INFO:cmdstanpy:Chain [3] start processing\n",
      "INFO:cmdstanpy:Chain [4] start processing\n"
     ]
    },
    {
     "name": "stdout",
     "output_type": "stream",
     "text": [
      "Fitting toy MC bin no.655\n",
      "0.9498521505376345\n",
      "372 287\n"
     ]
    },
    {
     "name": "stderr",
     "output_type": "stream",
     "text": [
      "INFO:cmdstanpy:Chain [3] done processing\n",
      "INFO:cmdstanpy:Chain [1] done processing\n",
      "INFO:cmdstanpy:Chain [4] done processing\n",
      "INFO:cmdstanpy:Chain [2] done processing\n",
      "INFO:cmdstanpy:found newer exe file, not recompiling\n",
      "INFO:cmdstanpy:found newer exe file, not recompiling\n",
      "INFO:cmdstanpy:CmdStan start procesing\n",
      "INFO:cmdstanpy:Chain [1] start processing\n",
      "INFO:cmdstanpy:Chain [2] start processing\n",
      "INFO:cmdstanpy:Chain [3] start processing\n",
      "INFO:cmdstanpy:Chain [4] start processing\n"
     ]
    },
    {
     "name": "stdout",
     "output_type": "stream",
     "text": [
      "Fitting toy MC bin no.656\n",
      "0.9498004694835681\n",
      "426 329\n"
     ]
    },
    {
     "name": "stderr",
     "output_type": "stream",
     "text": [
      "INFO:cmdstanpy:Chain [2] done processing\n",
      "INFO:cmdstanpy:Chain [4] done processing\n",
      "INFO:cmdstanpy:Chain [3] done processing\n",
      "INFO:cmdstanpy:Chain [1] done processing\n",
      "INFO:cmdstanpy:found newer exe file, not recompiling\n",
      "INFO:cmdstanpy:found newer exe file, not recompiling\n",
      "INFO:cmdstanpy:CmdStan start procesing\n",
      "INFO:cmdstanpy:Chain [1] start processing\n",
      "INFO:cmdstanpy:Chain [2] start processing\n",
      "INFO:cmdstanpy:Chain [3] start processing\n",
      "INFO:cmdstanpy:Chain [4] start processing\n"
     ]
    },
    {
     "name": "stdout",
     "output_type": "stream",
     "text": [
      "Fitting toy MC bin no.657\n",
      "0.9499180327868852\n",
      "366 282\n"
     ]
    },
    {
     "name": "stderr",
     "output_type": "stream",
     "text": [
      "INFO:cmdstanpy:Chain [2] done processing\n",
      "INFO:cmdstanpy:Chain [3] done processing\n",
      "INFO:cmdstanpy:Chain [1] done processing\n",
      "INFO:cmdstanpy:Chain [4] done processing\n",
      "INFO:cmdstanpy:found newer exe file, not recompiling\n",
      "INFO:cmdstanpy:found newer exe file, not recompiling\n",
      "INFO:cmdstanpy:CmdStan start procesing\n",
      "INFO:cmdstanpy:Chain [1] start processing\n",
      "INFO:cmdstanpy:Chain [2] start processing\n",
      "INFO:cmdstanpy:Chain [3] start processing\n",
      "INFO:cmdstanpy:Chain [4] start processing\n"
     ]
    },
    {
     "name": "stdout",
     "output_type": "stream",
     "text": [
      "Fitting toy MC bin no.658\n",
      "0.9498161764705881\n",
      "408 315\n"
     ]
    },
    {
     "name": "stderr",
     "output_type": "stream",
     "text": [
      "INFO:cmdstanpy:Chain [3] done processing\n",
      "INFO:cmdstanpy:Chain [4] done processing\n",
      "INFO:cmdstanpy:Chain [1] done processing\n",
      "INFO:cmdstanpy:Chain [2] done processing\n",
      "INFO:cmdstanpy:found newer exe file, not recompiling\n",
      "INFO:cmdstanpy:found newer exe file, not recompiling\n",
      "INFO:cmdstanpy:CmdStan start procesing\n",
      "INFO:cmdstanpy:Chain [1] start processing\n",
      "INFO:cmdstanpy:Chain [2] start processing\n",
      "INFO:cmdstanpy:Chain [3] start processing\n",
      "INFO:cmdstanpy:Chain [4] start processing\n"
     ]
    },
    {
     "name": "stdout",
     "output_type": "stream",
     "text": [
      "Fitting toy MC bin no.659\n",
      "0.9498369565217392\n",
      "368 284\n"
     ]
    },
    {
     "name": "stderr",
     "output_type": "stream",
     "text": [
      "INFO:cmdstanpy:Chain [1] done processing\n",
      "INFO:cmdstanpy:Chain [3] done processing\n",
      "INFO:cmdstanpy:Chain [2] done processing\n",
      "INFO:cmdstanpy:Chain [4] done processing\n",
      "INFO:cmdstanpy:found newer exe file, not recompiling\n",
      "INFO:cmdstanpy:found newer exe file, not recompiling\n",
      "INFO:cmdstanpy:CmdStan start procesing\n",
      "INFO:cmdstanpy:Chain [1] start processing\n",
      "INFO:cmdstanpy:Chain [2] start processing\n",
      "INFO:cmdstanpy:Chain [3] start processing\n",
      "INFO:cmdstanpy:Chain [4] start processing\n"
     ]
    },
    {
     "name": "stdout",
     "output_type": "stream",
     "text": [
      "Fitting toy MC bin no.660\n",
      "0.949803664921466\n",
      "382 295\n"
     ]
    },
    {
     "name": "stderr",
     "output_type": "stream",
     "text": [
      "INFO:cmdstanpy:Chain [2] done processing\n",
      "INFO:cmdstanpy:Chain [4] done processing\n",
      "INFO:cmdstanpy:Chain [3] done processing\n",
      "INFO:cmdstanpy:Chain [1] done processing\n",
      "INFO:cmdstanpy:found newer exe file, not recompiling\n",
      "INFO:cmdstanpy:found newer exe file, not recompiling\n",
      "INFO:cmdstanpy:CmdStan start procesing\n",
      "INFO:cmdstanpy:Chain [1] start processing\n",
      "INFO:cmdstanpy:Chain [2] start processing\n",
      "INFO:cmdstanpy:Chain [3] start processing\n",
      "INFO:cmdstanpy:Chain [4] start processing\n"
     ]
    },
    {
     "name": "stdout",
     "output_type": "stream",
     "text": [
      "Fitting toy MC bin no.661\n",
      "0.9498387096774195\n",
      "403 311\n"
     ]
    },
    {
     "name": "stderr",
     "output_type": "stream",
     "text": [
      "INFO:cmdstanpy:Chain [2] done processing\n",
      "INFO:cmdstanpy:Chain [3] done processing\n",
      "INFO:cmdstanpy:Chain [1] done processing\n",
      "INFO:cmdstanpy:Chain [4] done processing\n",
      "INFO:cmdstanpy:found newer exe file, not recompiling\n",
      "INFO:cmdstanpy:found newer exe file, not recompiling\n",
      "INFO:cmdstanpy:CmdStan start procesing\n",
      "INFO:cmdstanpy:Chain [1] start processing\n",
      "INFO:cmdstanpy:Chain [2] start processing\n",
      "INFO:cmdstanpy:Chain [3] start processing\n",
      "INFO:cmdstanpy:Chain [4] start processing\n"
     ]
    },
    {
     "name": "stdout",
     "output_type": "stream",
     "text": [
      "Fitting toy MC bin no.662\n",
      "0.9499483204134367\n",
      "387 298\n"
     ]
    },
    {
     "name": "stderr",
     "output_type": "stream",
     "text": [
      "INFO:cmdstanpy:Chain [1] done processing\n",
      "INFO:cmdstanpy:Chain [3] done processing\n",
      "INFO:cmdstanpy:Chain [4] done processing\n",
      "INFO:cmdstanpy:Chain [2] done processing\n",
      "INFO:cmdstanpy:found newer exe file, not recompiling\n",
      "INFO:cmdstanpy:found newer exe file, not recompiling\n",
      "INFO:cmdstanpy:CmdStan start procesing\n",
      "INFO:cmdstanpy:Chain [1] start processing\n",
      "INFO:cmdstanpy:Chain [2] start processing\n",
      "INFO:cmdstanpy:Chain [3] start processing\n",
      "INFO:cmdstanpy:Chain [4] start processing\n"
     ]
    },
    {
     "name": "stdout",
     "output_type": "stream",
     "text": [
      "Fitting toy MC bin no.663\n",
      "0.9499127182044889\n",
      "401 309\n"
     ]
    },
    {
     "name": "stderr",
     "output_type": "stream",
     "text": [
      "INFO:cmdstanpy:Chain [3] done processing\n",
      "INFO:cmdstanpy:Chain [2] done processing\n",
      "INFO:cmdstanpy:Chain [1] done processing\n",
      "INFO:cmdstanpy:Chain [4] done processing\n",
      "INFO:cmdstanpy:found newer exe file, not recompiling\n",
      "INFO:cmdstanpy:found newer exe file, not recompiling\n",
      "INFO:cmdstanpy:CmdStan start procesing\n",
      "INFO:cmdstanpy:Chain [1] start processing\n",
      "INFO:cmdstanpy:Chain [2] start processing\n",
      "INFO:cmdstanpy:Chain [3] start processing\n",
      "INFO:cmdstanpy:Chain [4] start processing\n"
     ]
    },
    {
     "name": "stdout",
     "output_type": "stream",
     "text": [
      "Fitting toy MC bin no.664\n",
      "0.9500222222222222\n",
      "450 346\n"
     ]
    },
    {
     "name": "stderr",
     "output_type": "stream",
     "text": [
      "INFO:cmdstanpy:Chain [1] done processing\n",
      "INFO:cmdstanpy:Chain [3] done processing\n",
      "INFO:cmdstanpy:Chain [4] done processing\n",
      "INFO:cmdstanpy:Chain [2] done processing\n",
      "INFO:cmdstanpy:found newer exe file, not recompiling\n",
      "INFO:cmdstanpy:found newer exe file, not recompiling\n",
      "INFO:cmdstanpy:CmdStan start procesing\n",
      "INFO:cmdstanpy:Chain [1] start processing\n",
      "INFO:cmdstanpy:Chain [2] start processing\n",
      "INFO:cmdstanpy:Chain [3] start processing\n",
      "INFO:cmdstanpy:Chain [4] start processing\n"
     ]
    },
    {
     "name": "stdout",
     "output_type": "stream",
     "text": [
      "Fitting toy MC bin no.665\n",
      "0.9500235849056604\n",
      "424 326\n"
     ]
    },
    {
     "name": "stderr",
     "output_type": "stream",
     "text": [
      "INFO:cmdstanpy:Chain [4] done processing\n",
      "INFO:cmdstanpy:Chain [1] done processing\n",
      "INFO:cmdstanpy:Chain [3] done processing\n",
      "INFO:cmdstanpy:Chain [2] done processing\n",
      "INFO:cmdstanpy:found newer exe file, not recompiling\n",
      "INFO:cmdstanpy:found newer exe file, not recompiling\n",
      "INFO:cmdstanpy:CmdStan start procesing\n",
      "INFO:cmdstanpy:Chain [1] start processing\n",
      "INFO:cmdstanpy:Chain [2] start processing\n",
      "INFO:cmdstanpy:Chain [3] start processing\n",
      "INFO:cmdstanpy:Chain [4] start processing\n"
     ]
    },
    {
     "name": "stdout",
     "output_type": "stream",
     "text": [
      "Fitting toy MC bin no.666\n",
      "0.9499388753056234\n",
      "409 315\n"
     ]
    },
    {
     "name": "stderr",
     "output_type": "stream",
     "text": [
      "INFO:cmdstanpy:Chain [3] done processing\n",
      "INFO:cmdstanpy:Chain [1] done processing\n",
      "INFO:cmdstanpy:Chain [2] done processing\n",
      "INFO:cmdstanpy:Chain [4] done processing\n",
      "INFO:cmdstanpy:found newer exe file, not recompiling\n",
      "INFO:cmdstanpy:found newer exe file, not recompiling\n",
      "INFO:cmdstanpy:CmdStan start procesing\n",
      "INFO:cmdstanpy:Chain [1] start processing\n",
      "INFO:cmdstanpy:Chain [2] start processing\n",
      "INFO:cmdstanpy:Chain [3] start processing\n",
      "INFO:cmdstanpy:Chain [4] start processing\n"
     ]
    },
    {
     "name": "stdout",
     "output_type": "stream",
     "text": [
      "Fitting toy MC bin no.667\n",
      "0.9497506234413966\n",
      "401 310\n"
     ]
    },
    {
     "name": "stderr",
     "output_type": "stream",
     "text": [
      "INFO:cmdstanpy:Chain [3] done processing\n",
      "INFO:cmdstanpy:Chain [4] done processing\n",
      "INFO:cmdstanpy:Chain [2] done processing\n",
      "INFO:cmdstanpy:Chain [1] done processing\n",
      "INFO:cmdstanpy:found newer exe file, not recompiling\n",
      "INFO:cmdstanpy:found newer exe file, not recompiling\n",
      "INFO:cmdstanpy:CmdStan start procesing\n",
      "INFO:cmdstanpy:Chain [1] start processing\n",
      "INFO:cmdstanpy:Chain [2] start processing\n",
      "INFO:cmdstanpy:Chain [3] start processing\n",
      "INFO:cmdstanpy:Chain [4] start processing\n"
     ]
    },
    {
     "name": "stdout",
     "output_type": "stream",
     "text": [
      "Fitting toy MC bin no.668\n",
      "0.9499066666666666\n",
      "375 289\n"
     ]
    },
    {
     "name": "stderr",
     "output_type": "stream",
     "text": [
      "INFO:cmdstanpy:Chain [4] done processing\n",
      "INFO:cmdstanpy:Chain [2] done processing\n",
      "INFO:cmdstanpy:Chain [1] done processing\n",
      "INFO:cmdstanpy:Chain [3] done processing\n",
      "INFO:cmdstanpy:found newer exe file, not recompiling\n",
      "INFO:cmdstanpy:found newer exe file, not recompiling\n",
      "INFO:cmdstanpy:CmdStan start procesing\n",
      "INFO:cmdstanpy:Chain [1] start processing\n",
      "INFO:cmdstanpy:Chain [2] start processing\n",
      "INFO:cmdstanpy:Chain [3] start processing\n",
      "INFO:cmdstanpy:Chain [4] start processing\n"
     ]
    },
    {
     "name": "stdout",
     "output_type": "stream",
     "text": [
      "Fitting toy MC bin no.669\n",
      "0.9498702830188679\n",
      "424 327\n"
     ]
    },
    {
     "name": "stderr",
     "output_type": "stream",
     "text": [
      "INFO:cmdstanpy:Chain [2] done processing\n",
      "INFO:cmdstanpy:Chain [4] done processing\n",
      "INFO:cmdstanpy:Chain [1] done processing\n",
      "INFO:cmdstanpy:Chain [3] done processing\n",
      "INFO:cmdstanpy:found newer exe file, not recompiling\n",
      "INFO:cmdstanpy:found newer exe file, not recompiling\n",
      "INFO:cmdstanpy:CmdStan start procesing\n",
      "INFO:cmdstanpy:Chain [1] start processing\n",
      "INFO:cmdstanpy:Chain [2] start processing\n",
      "INFO:cmdstanpy:Chain [3] start processing\n",
      "INFO:cmdstanpy:Chain [4] start processing\n"
     ]
    },
    {
     "name": "stdout",
     "output_type": "stream",
     "text": [
      "Fitting toy MC bin no.670\n",
      "0.9498773841961853\n",
      "367 283\n"
     ]
    },
    {
     "name": "stderr",
     "output_type": "stream",
     "text": [
      "INFO:cmdstanpy:Chain [3] done processing\n",
      "INFO:cmdstanpy:Chain [1] done processing\n",
      "INFO:cmdstanpy:Chain [2] done processing\n",
      "INFO:cmdstanpy:Chain [4] done processing\n",
      "INFO:cmdstanpy:found newer exe file, not recompiling\n",
      "INFO:cmdstanpy:found newer exe file, not recompiling\n",
      "INFO:cmdstanpy:CmdStan start procesing\n",
      "INFO:cmdstanpy:Chain [1] start processing\n",
      "INFO:cmdstanpy:Chain [2] start processing\n",
      "INFO:cmdstanpy:Chain [3] start processing\n",
      "INFO:cmdstanpy:Chain [4] start processing\n"
     ]
    },
    {
     "name": "stdout",
     "output_type": "stream",
     "text": [
      "Fitting toy MC bin no.671\n",
      "0.9499616368286445\n",
      "391 301\n"
     ]
    },
    {
     "name": "stderr",
     "output_type": "stream",
     "text": [
      "INFO:cmdstanpy:Chain [4] done processing\n",
      "INFO:cmdstanpy:Chain [3] done processing\n",
      "INFO:cmdstanpy:Chain [2] done processing\n",
      "INFO:cmdstanpy:Chain [1] done processing\n",
      "INFO:cmdstanpy:found newer exe file, not recompiling\n",
      "INFO:cmdstanpy:found newer exe file, not recompiling\n",
      "INFO:cmdstanpy:CmdStan start procesing\n",
      "INFO:cmdstanpy:Chain [1] start processing\n",
      "INFO:cmdstanpy:Chain [2] start processing\n",
      "INFO:cmdstanpy:Chain [3] start processing\n",
      "INFO:cmdstanpy:Chain [4] start processing\n"
     ]
    },
    {
     "name": "stdout",
     "output_type": "stream",
     "text": [
      "Fitting toy MC bin no.672\n",
      "0.9499483204134367\n",
      "387 298\n"
     ]
    },
    {
     "name": "stderr",
     "output_type": "stream",
     "text": [
      "INFO:cmdstanpy:Chain [1] done processing\n",
      "INFO:cmdstanpy:Chain [2] done processing\n",
      "INFO:cmdstanpy:Chain [3] done processing\n",
      "INFO:cmdstanpy:Chain [4] done processing\n",
      "INFO:cmdstanpy:found newer exe file, not recompiling\n",
      "INFO:cmdstanpy:found newer exe file, not recompiling\n",
      "INFO:cmdstanpy:CmdStan start procesing\n",
      "INFO:cmdstanpy:Chain [1] start processing\n",
      "INFO:cmdstanpy:Chain [2] start processing\n",
      "INFO:cmdstanpy:Chain [3] start processing\n",
      "INFO:cmdstanpy:Chain [4] start processing\n"
     ]
    },
    {
     "name": "stdout",
     "output_type": "stream",
     "text": [
      "Fitting toy MC bin no.673\n",
      "0.9498921832884097\n",
      "371 286\n"
     ]
    },
    {
     "name": "stderr",
     "output_type": "stream",
     "text": [
      "INFO:cmdstanpy:Chain [2] done processing\n",
      "INFO:cmdstanpy:Chain [3] done processing\n",
      "INFO:cmdstanpy:Chain [4] done processing\n",
      "INFO:cmdstanpy:Chain [1] done processing\n",
      "INFO:cmdstanpy:found newer exe file, not recompiling\n",
      "INFO:cmdstanpy:found newer exe file, not recompiling\n",
      "INFO:cmdstanpy:CmdStan start procesing\n",
      "INFO:cmdstanpy:Chain [1] start processing\n",
      "INFO:cmdstanpy:Chain [2] start processing\n",
      "INFO:cmdstanpy:Chain [3] start processing\n",
      "INFO:cmdstanpy:Chain [4] start processing\n"
     ]
    },
    {
     "name": "stdout",
     "output_type": "stream",
     "text": [
      "Fitting toy MC bin no.674\n",
      "0.9498245614035088\n",
      "399 308\n"
     ]
    },
    {
     "name": "stderr",
     "output_type": "stream",
     "text": [
      "INFO:cmdstanpy:Chain [2] done processing\n",
      "INFO:cmdstanpy:Chain [4] done processing\n",
      "INFO:cmdstanpy:Chain [3] done processing\n",
      "INFO:cmdstanpy:Chain [1] done processing\n",
      "INFO:cmdstanpy:found newer exe file, not recompiling\n",
      "INFO:cmdstanpy:found newer exe file, not recompiling\n",
      "INFO:cmdstanpy:CmdStan start procesing\n",
      "INFO:cmdstanpy:Chain [1] start processing\n",
      "INFO:cmdstanpy:Chain [2] start processing\n",
      "INFO:cmdstanpy:Chain [3] start processing\n",
      "INFO:cmdstanpy:Chain [4] start processing\n"
     ]
    },
    {
     "name": "stdout",
     "output_type": "stream",
     "text": [
      "Fitting toy MC bin no.675\n",
      "0.9499234693877551\n",
      "392 302\n"
     ]
    },
    {
     "name": "stderr",
     "output_type": "stream",
     "text": [
      "INFO:cmdstanpy:Chain [1] done processing\n",
      "INFO:cmdstanpy:Chain [3] done processing\n",
      "INFO:cmdstanpy:Chain [4] done processing\n",
      "INFO:cmdstanpy:Chain [2] done processing\n",
      "INFO:cmdstanpy:found newer exe file, not recompiling\n",
      "INFO:cmdstanpy:found newer exe file, not recompiling\n",
      "INFO:cmdstanpy:CmdStan start procesing\n",
      "INFO:cmdstanpy:Chain [1] start processing\n",
      "INFO:cmdstanpy:Chain [2] start processing\n",
      "INFO:cmdstanpy:Chain [3] start processing\n",
      "INFO:cmdstanpy:Chain [4] start processing\n"
     ]
    },
    {
     "name": "stdout",
     "output_type": "stream",
     "text": [
      "Fitting toy MC bin no.676\n",
      "0.95001312335958\n",
      "381 293\n"
     ]
    },
    {
     "name": "stderr",
     "output_type": "stream",
     "text": [
      "INFO:cmdstanpy:Chain [1] done processing\n",
      "INFO:cmdstanpy:Chain [4] done processing\n",
      "INFO:cmdstanpy:Chain [3] done processing\n",
      "INFO:cmdstanpy:Chain [2] done processing\n",
      "INFO:cmdstanpy:found newer exe file, not recompiling\n",
      "INFO:cmdstanpy:found newer exe file, not recompiling\n",
      "INFO:cmdstanpy:CmdStan start procesing\n",
      "INFO:cmdstanpy:Chain [1] start processing\n",
      "INFO:cmdstanpy:Chain [2] start processing\n",
      "INFO:cmdstanpy:Chain [3] start processing\n",
      "INFO:cmdstanpy:Chain [4] start processing\n"
     ]
    },
    {
     "name": "stdout",
     "output_type": "stream",
     "text": [
      "Fitting toy MC bin no.677\n",
      "0.95\n",
      "416 320\n"
     ]
    },
    {
     "name": "stderr",
     "output_type": "stream",
     "text": [
      "INFO:cmdstanpy:Chain [1] done processing\n",
      "INFO:cmdstanpy:Chain [2] done processing\n",
      "INFO:cmdstanpy:Chain [3] done processing\n",
      "INFO:cmdstanpy:Chain [4] done processing\n",
      "INFO:cmdstanpy:found newer exe file, not recompiling\n",
      "INFO:cmdstanpy:found newer exe file, not recompiling\n",
      "INFO:cmdstanpy:CmdStan start procesing\n",
      "INFO:cmdstanpy:Chain [1] start processing\n",
      "INFO:cmdstanpy:Chain [2] start processing\n",
      "INFO:cmdstanpy:Chain [3] start processing\n",
      "INFO:cmdstanpy:Chain [4] start processing\n"
     ]
    },
    {
     "name": "stdout",
     "output_type": "stream",
     "text": [
      "Fitting toy MC bin no.678\n",
      "0.9498988764044943\n",
      "445 343\n"
     ]
    },
    {
     "name": "stderr",
     "output_type": "stream",
     "text": [
      "INFO:cmdstanpy:Chain [2] done processing\n",
      "INFO:cmdstanpy:Chain [3] done processing\n",
      "INFO:cmdstanpy:Chain [4] done processing\n",
      "INFO:cmdstanpy:Chain [1] done processing\n",
      "INFO:cmdstanpy:found newer exe file, not recompiling\n",
      "INFO:cmdstanpy:found newer exe file, not recompiling\n",
      "INFO:cmdstanpy:CmdStan start procesing\n",
      "INFO:cmdstanpy:Chain [1] start processing\n",
      "INFO:cmdstanpy:Chain [2] start processing\n",
      "INFO:cmdstanpy:Chain [3] start processing\n",
      "INFO:cmdstanpy:Chain [4] start processing\n"
     ]
    },
    {
     "name": "stdout",
     "output_type": "stream",
     "text": [
      "Fitting toy MC bin no.679\n",
      "0.949803664921466\n",
      "382 295\n"
     ]
    },
    {
     "name": "stderr",
     "output_type": "stream",
     "text": [
      "INFO:cmdstanpy:Chain [1] done processing\n",
      "INFO:cmdstanpy:Chain [3] done processing\n",
      "INFO:cmdstanpy:Chain [4] done processing\n",
      "INFO:cmdstanpy:Chain [2] done processing\n",
      "INFO:cmdstanpy:found newer exe file, not recompiling\n",
      "INFO:cmdstanpy:found newer exe file, not recompiling\n",
      "INFO:cmdstanpy:CmdStan start procesing\n",
      "INFO:cmdstanpy:Chain [1] start processing\n",
      "INFO:cmdstanpy:Chain [2] start processing\n",
      "INFO:cmdstanpy:Chain [3] start processing\n",
      "INFO:cmdstanpy:Chain [4] start processing\n"
     ]
    },
    {
     "name": "stdout",
     "output_type": "stream",
     "text": [
      "Fitting toy MC bin no.680\n",
      "0.9499628712871288\n",
      "404 311\n"
     ]
    },
    {
     "name": "stderr",
     "output_type": "stream",
     "text": [
      "INFO:cmdstanpy:Chain [2] done processing\n",
      "INFO:cmdstanpy:Chain [3] done processing\n",
      "INFO:cmdstanpy:Chain [1] done processing\n",
      "INFO:cmdstanpy:Chain [4] done processing\n",
      "INFO:cmdstanpy:found newer exe file, not recompiling\n",
      "INFO:cmdstanpy:found newer exe file, not recompiling\n",
      "INFO:cmdstanpy:CmdStan start procesing\n",
      "INFO:cmdstanpy:Chain [1] start processing\n",
      "INFO:cmdstanpy:Chain [2] start processing\n",
      "INFO:cmdstanpy:Chain [3] start processing\n",
      "INFO:cmdstanpy:Chain [4] start processing\n"
     ]
    },
    {
     "name": "stdout",
     "output_type": "stream",
     "text": [
      "Fitting toy MC bin no.681\n",
      "0.95\n",
      "377 290\n"
     ]
    },
    {
     "name": "stderr",
     "output_type": "stream",
     "text": [
      "INFO:cmdstanpy:Chain [2] done processing\n",
      "INFO:cmdstanpy:Chain [1] done processing\n",
      "INFO:cmdstanpy:Chain [4] done processing\n",
      "INFO:cmdstanpy:Chain [3] done processing\n",
      "INFO:cmdstanpy:found newer exe file, not recompiling\n",
      "INFO:cmdstanpy:found newer exe file, not recompiling\n",
      "INFO:cmdstanpy:CmdStan start procesing\n",
      "INFO:cmdstanpy:Chain [1] start processing\n",
      "INFO:cmdstanpy:Chain [2] start processing\n",
      "INFO:cmdstanpy:Chain [3] start processing\n",
      "INFO:cmdstanpy:Chain [4] start processing\n"
     ]
    },
    {
     "name": "stdout",
     "output_type": "stream",
     "text": [
      "Fitting toy MC bin no.682\n",
      "0.9499754901960784\n",
      "408 314\n"
     ]
    },
    {
     "name": "stderr",
     "output_type": "stream",
     "text": [
      "INFO:cmdstanpy:Chain [2] done processing\n",
      "INFO:cmdstanpy:Chain [1] done processing\n",
      "INFO:cmdstanpy:Chain [3] done processing\n",
      "INFO:cmdstanpy:Chain [4] done processing\n",
      "INFO:cmdstanpy:found newer exe file, not recompiling\n",
      "INFO:cmdstanpy:found newer exe file, not recompiling\n",
      "INFO:cmdstanpy:CmdStan start procesing\n",
      "INFO:cmdstanpy:Chain [1] start processing\n",
      "INFO:cmdstanpy:Chain [2] start processing\n",
      "INFO:cmdstanpy:Chain [3] start processing\n",
      "INFO:cmdstanpy:Chain [4] start processing\n"
     ]
    },
    {
     "name": "stdout",
     "output_type": "stream",
     "text": [
      "Fitting toy MC bin no.683\n",
      "0.9498756218905473\n",
      "402 310\n"
     ]
    },
    {
     "name": "stderr",
     "output_type": "stream",
     "text": [
      "INFO:cmdstanpy:Chain [3] done processing\n",
      "INFO:cmdstanpy:Chain [4] done processing\n",
      "INFO:cmdstanpy:Chain [1] done processing\n",
      "INFO:cmdstanpy:Chain [2] done processing\n",
      "INFO:cmdstanpy:found newer exe file, not recompiling\n",
      "INFO:cmdstanpy:found newer exe file, not recompiling\n",
      "INFO:cmdstanpy:CmdStan start procesing\n",
      "INFO:cmdstanpy:Chain [1] start processing\n",
      "INFO:cmdstanpy:Chain [2] start processing\n",
      "INFO:cmdstanpy:Chain [3] start processing\n",
      "INFO:cmdstanpy:Chain [4] start processing\n"
     ]
    },
    {
     "name": "stdout",
     "output_type": "stream",
     "text": [
      "Fitting toy MC bin no.684\n",
      "0.9497727272727272\n",
      "374 289\n"
     ]
    },
    {
     "name": "stderr",
     "output_type": "stream",
     "text": [
      "INFO:cmdstanpy:Chain [2] done processing\n",
      "INFO:cmdstanpy:Chain [3] done processing\n",
      "INFO:cmdstanpy:Chain [4] done processing\n",
      "INFO:cmdstanpy:Chain [1] done processing\n",
      "INFO:cmdstanpy:found newer exe file, not recompiling\n",
      "INFO:cmdstanpy:found newer exe file, not recompiling\n",
      "INFO:cmdstanpy:CmdStan start procesing\n",
      "INFO:cmdstanpy:Chain [1] start processing\n",
      "INFO:cmdstanpy:Chain [2] start processing\n",
      "INFO:cmdstanpy:Chain [3] start processing\n",
      "INFO:cmdstanpy:Chain [4] start processing\n"
     ]
    },
    {
     "name": "stdout",
     "output_type": "stream",
     "text": [
      "Fitting toy MC bin no.685\n",
      "0.9498714652956298\n",
      "389 300\n"
     ]
    },
    {
     "name": "stderr",
     "output_type": "stream",
     "text": [
      "INFO:cmdstanpy:Chain [4] done processing\n",
      "INFO:cmdstanpy:Chain [1] done processing\n",
      "INFO:cmdstanpy:Chain [2] done processing\n",
      "INFO:cmdstanpy:Chain [3] done processing\n",
      "INFO:cmdstanpy:found newer exe file, not recompiling\n",
      "INFO:cmdstanpy:found newer exe file, not recompiling\n",
      "INFO:cmdstanpy:CmdStan start procesing\n",
      "INFO:cmdstanpy:Chain [1] start processing\n",
      "INFO:cmdstanpy:Chain [2] start processing\n",
      "INFO:cmdstanpy:Chain [3] start processing\n",
      "INFO:cmdstanpy:Chain [4] start processing\n"
     ]
    },
    {
     "name": "stdout",
     "output_type": "stream",
     "text": [
      "Fitting toy MC bin no.686\n",
      "0.9500000000000001\n",
      "403 310\n"
     ]
    },
    {
     "name": "stderr",
     "output_type": "stream",
     "text": [
      "INFO:cmdstanpy:Chain [2] done processing\n",
      "INFO:cmdstanpy:Chain [1] done processing\n",
      "INFO:cmdstanpy:Chain [3] done processing\n",
      "INFO:cmdstanpy:Chain [4] done processing\n",
      "INFO:cmdstanpy:found newer exe file, not recompiling\n",
      "INFO:cmdstanpy:found newer exe file, not recompiling\n",
      "INFO:cmdstanpy:CmdStan start procesing\n",
      "INFO:cmdstanpy:Chain [1] start processing\n",
      "INFO:cmdstanpy:Chain [2] start processing\n",
      "INFO:cmdstanpy:Chain [3] start processing\n",
      "INFO:cmdstanpy:Chain [4] start processing\n"
     ]
    },
    {
     "name": "stdout",
     "output_type": "stream",
     "text": [
      "Fitting toy MC bin no.687\n",
      "0.9499127182044889\n",
      "401 309\n"
     ]
    },
    {
     "name": "stderr",
     "output_type": "stream",
     "text": [
      "INFO:cmdstanpy:Chain [1] done processing\n",
      "INFO:cmdstanpy:Chain [3] done processing\n",
      "INFO:cmdstanpy:Chain [4] done processing\n",
      "INFO:cmdstanpy:Chain [2] done processing\n",
      "INFO:cmdstanpy:found newer exe file, not recompiling\n",
      "INFO:cmdstanpy:found newer exe file, not recompiling\n",
      "INFO:cmdstanpy:CmdStan start procesing\n",
      "INFO:cmdstanpy:Chain [1] start processing\n",
      "INFO:cmdstanpy:Chain [2] start processing\n",
      "INFO:cmdstanpy:Chain [3] start processing\n",
      "INFO:cmdstanpy:Chain [4] start processing\n"
     ]
    },
    {
     "name": "stdout",
     "output_type": "stream",
     "text": [
      "Fitting toy MC bin no.688\n",
      "0.9499738219895287\n",
      "382 294\n"
     ]
    },
    {
     "name": "stderr",
     "output_type": "stream",
     "text": [
      "INFO:cmdstanpy:Chain [2] done processing\n",
      "INFO:cmdstanpy:Chain [3] done processing\n",
      "INFO:cmdstanpy:Chain [1] done processing\n",
      "INFO:cmdstanpy:Chain [4] done processing\n",
      "INFO:cmdstanpy:found newer exe file, not recompiling\n",
      "INFO:cmdstanpy:found newer exe file, not recompiling\n",
      "INFO:cmdstanpy:CmdStan start procesing\n",
      "INFO:cmdstanpy:Chain [1] start processing\n",
      "INFO:cmdstanpy:Chain [2] start processing\n",
      "INFO:cmdstanpy:Chain [3] start processing\n",
      "INFO:cmdstanpy:Chain [4] start processing\n"
     ]
    },
    {
     "name": "stdout",
     "output_type": "stream",
     "text": [
      "Fitting toy MC bin no.689\n",
      "0.950025974025974\n",
      "385 296\n"
     ]
    },
    {
     "name": "stderr",
     "output_type": "stream",
     "text": [
      "INFO:cmdstanpy:Chain [3] done processing\n",
      "INFO:cmdstanpy:Chain [4] done processing\n",
      "INFO:cmdstanpy:Chain [2] done processing\n",
      "INFO:cmdstanpy:Chain [1] done processing\n",
      "INFO:cmdstanpy:found newer exe file, not recompiling\n",
      "INFO:cmdstanpy:found newer exe file, not recompiling\n",
      "INFO:cmdstanpy:CmdStan start procesing\n",
      "INFO:cmdstanpy:Chain [1] start processing\n",
      "INFO:cmdstanpy:Chain [2] start processing\n",
      "INFO:cmdstanpy:Chain [3] start processing\n",
      "INFO:cmdstanpy:Chain [4] start processing\n"
     ]
    },
    {
     "name": "stdout",
     "output_type": "stream",
     "text": [
      "Fitting toy MC bin no.690\n",
      "0.9499754901960784\n",
      "408 314\n"
     ]
    },
    {
     "name": "stderr",
     "output_type": "stream",
     "text": [
      "INFO:cmdstanpy:Chain [4] done processing\n",
      "INFO:cmdstanpy:Chain [1] done processing\n",
      "INFO:cmdstanpy:Chain [3] done processing\n",
      "INFO:cmdstanpy:Chain [2] done processing\n",
      "INFO:cmdstanpy:found newer exe file, not recompiling\n",
      "INFO:cmdstanpy:found newer exe file, not recompiling\n",
      "INFO:cmdstanpy:CmdStan start procesing\n",
      "INFO:cmdstanpy:Chain [1] start processing\n",
      "INFO:cmdstanpy:Chain [2] start processing\n",
      "INFO:cmdstanpy:Chain [3] start processing\n",
      "INFO:cmdstanpy:Chain [4] start processing\n"
     ]
    },
    {
     "name": "stdout",
     "output_type": "stream",
     "text": [
      "Fitting toy MC bin no.691\n",
      "0.9498161764705881\n",
      "408 315\n"
     ]
    },
    {
     "name": "stderr",
     "output_type": "stream",
     "text": [
      "INFO:cmdstanpy:Chain [1] done processing\n",
      "INFO:cmdstanpy:Chain [3] done processing\n",
      "INFO:cmdstanpy:Chain [2] done processing\n",
      "INFO:cmdstanpy:Chain [4] done processing\n",
      "INFO:cmdstanpy:found newer exe file, not recompiling\n",
      "INFO:cmdstanpy:found newer exe file, not recompiling\n",
      "INFO:cmdstanpy:CmdStan start procesing\n",
      "INFO:cmdstanpy:Chain [1] start processing\n",
      "INFO:cmdstanpy:Chain [2] start processing\n",
      "INFO:cmdstanpy:Chain [3] start processing\n",
      "INFO:cmdstanpy:Chain [4] start processing\n"
     ]
    },
    {
     "name": "stdout",
     "output_type": "stream",
     "text": [
      "Fitting toy MC bin no.692\n",
      "0.9499154589371981\n",
      "414 319\n"
     ]
    },
    {
     "name": "stderr",
     "output_type": "stream",
     "text": [
      "INFO:cmdstanpy:Chain [1] done processing\n",
      "INFO:cmdstanpy:Chain [3] done processing\n",
      "INFO:cmdstanpy:Chain [4] done processing\n",
      "INFO:cmdstanpy:Chain [2] done processing\n",
      "INFO:cmdstanpy:found newer exe file, not recompiling\n",
      "INFO:cmdstanpy:found newer exe file, not recompiling\n",
      "INFO:cmdstanpy:CmdStan start procesing\n",
      "INFO:cmdstanpy:Chain [1] start processing\n",
      "INFO:cmdstanpy:Chain [2] start processing\n",
      "INFO:cmdstanpy:Chain [3] start processing\n",
      "INFO:cmdstanpy:Chain [4] start processing\n"
     ]
    },
    {
     "name": "stdout",
     "output_type": "stream",
     "text": [
      "Fitting toy MC bin no.693\n",
      "0.9498275862068964\n",
      "377 291\n"
     ]
    },
    {
     "name": "stderr",
     "output_type": "stream",
     "text": [
      "INFO:cmdstanpy:Chain [1] done processing\n",
      "INFO:cmdstanpy:Chain [4] done processing\n",
      "INFO:cmdstanpy:Chain [3] done processing\n",
      "INFO:cmdstanpy:Chain [2] done processing\n",
      "INFO:cmdstanpy:found newer exe file, not recompiling\n",
      "INFO:cmdstanpy:found newer exe file, not recompiling\n",
      "INFO:cmdstanpy:CmdStan start procesing\n",
      "INFO:cmdstanpy:Chain [1] start processing\n",
      "INFO:cmdstanpy:Chain [2] start processing\n",
      "INFO:cmdstanpy:Chain [3] start processing\n",
      "INFO:cmdstanpy:Chain [4] start processing\n"
     ]
    },
    {
     "name": "stdout",
     "output_type": "stream",
     "text": [
      "Fitting toy MC bin no.694\n",
      "0.949946524064171\n",
      "374 288\n"
     ]
    },
    {
     "name": "stderr",
     "output_type": "stream",
     "text": [
      "INFO:cmdstanpy:Chain [1] done processing\n",
      "INFO:cmdstanpy:Chain [3] done processing\n",
      "INFO:cmdstanpy:Chain [4] done processing\n",
      "INFO:cmdstanpy:Chain [2] done processing\n",
      "INFO:cmdstanpy:found newer exe file, not recompiling\n",
      "INFO:cmdstanpy:found newer exe file, not recompiling\n",
      "INFO:cmdstanpy:CmdStan start procesing\n",
      "INFO:cmdstanpy:Chain [1] start processing\n",
      "INFO:cmdstanpy:Chain [2] start processing\n",
      "INFO:cmdstanpy:Chain [3] start processing\n",
      "INFO:cmdstanpy:Chain [4] start processing\n"
     ]
    },
    {
     "name": "stdout",
     "output_type": "stream",
     "text": [
      "Fitting toy MC bin no.695\n",
      "0.9499109131403117\n",
      "449 346\n"
     ]
    },
    {
     "name": "stderr",
     "output_type": "stream",
     "text": [
      "INFO:cmdstanpy:Chain [3] done processing\n",
      "INFO:cmdstanpy:Chain [2] done processing\n",
      "INFO:cmdstanpy:Chain [4] done processing\n",
      "INFO:cmdstanpy:Chain [1] done processing\n",
      "INFO:cmdstanpy:found newer exe file, not recompiling\n",
      "INFO:cmdstanpy:found newer exe file, not recompiling\n",
      "INFO:cmdstanpy:CmdStan start procesing\n",
      "INFO:cmdstanpy:Chain [1] start processing\n",
      "INFO:cmdstanpy:Chain [2] start processing\n",
      "INFO:cmdstanpy:Chain [3] start processing\n",
      "INFO:cmdstanpy:Chain [4] start processing\n"
     ]
    },
    {
     "name": "stdout",
     "output_type": "stream",
     "text": [
      "Fitting toy MC bin no.696\n",
      "0.9500115473441109\n",
      "433 333\n"
     ]
    },
    {
     "name": "stderr",
     "output_type": "stream",
     "text": [
      "INFO:cmdstanpy:Chain [2] done processing\n",
      "INFO:cmdstanpy:Chain [3] done processing\n",
      "INFO:cmdstanpy:Chain [1] done processing\n",
      "INFO:cmdstanpy:Chain [4] done processing\n",
      "INFO:cmdstanpy:found newer exe file, not recompiling\n",
      "INFO:cmdstanpy:found newer exe file, not recompiling\n",
      "INFO:cmdstanpy:CmdStan start procesing\n",
      "INFO:cmdstanpy:Chain [1] start processing\n",
      "INFO:cmdstanpy:Chain [2] start processing\n",
      "INFO:cmdstanpy:Chain [3] start processing\n",
      "INFO:cmdstanpy:Chain [4] start processing\n"
     ]
    },
    {
     "name": "stdout",
     "output_type": "stream",
     "text": [
      "Fitting toy MC bin no.697\n",
      "0.9499180327868852\n",
      "427 329\n"
     ]
    },
    {
     "name": "stderr",
     "output_type": "stream",
     "text": [
      "INFO:cmdstanpy:Chain [3] done processing\n",
      "INFO:cmdstanpy:Chain [4] done processing\n",
      "INFO:cmdstanpy:Chain [1] done processing\n",
      "INFO:cmdstanpy:Chain [2] done processing\n",
      "INFO:cmdstanpy:found newer exe file, not recompiling\n",
      "INFO:cmdstanpy:found newer exe file, not recompiling\n",
      "INFO:cmdstanpy:CmdStan start procesing\n",
      "INFO:cmdstanpy:Chain [1] start processing\n",
      "INFO:cmdstanpy:Chain [2] start processing\n",
      "INFO:cmdstanpy:Chain [3] start processing\n",
      "INFO:cmdstanpy:Chain [4] start processing\n"
     ]
    },
    {
     "name": "stdout",
     "output_type": "stream",
     "text": [
      "Fitting toy MC bin no.698\n",
      "0.9498333333333333\n",
      "390 301\n"
     ]
    },
    {
     "name": "stderr",
     "output_type": "stream",
     "text": [
      "INFO:cmdstanpy:Chain [2] done processing\n",
      "INFO:cmdstanpy:Chain [3] done processing\n",
      "INFO:cmdstanpy:Chain [4] done processing\n",
      "INFO:cmdstanpy:Chain [1] done processing\n",
      "INFO:cmdstanpy:found newer exe file, not recompiling\n",
      "INFO:cmdstanpy:found newer exe file, not recompiling\n",
      "INFO:cmdstanpy:CmdStan start procesing\n",
      "INFO:cmdstanpy:Chain [1] start processing\n",
      "INFO:cmdstanpy:Chain [2] start processing\n",
      "INFO:cmdstanpy:Chain [3] start processing\n",
      "INFO:cmdstanpy:Chain [4] start processing\n"
     ]
    },
    {
     "name": "stdout",
     "output_type": "stream",
     "text": [
      "Fitting toy MC bin no.699\n",
      "0.9499746835443038\n",
      "395 304\n"
     ]
    },
    {
     "name": "stderr",
     "output_type": "stream",
     "text": [
      "INFO:cmdstanpy:Chain [2] done processing\n",
      "INFO:cmdstanpy:Chain [1] done processing\n",
      "INFO:cmdstanpy:Chain [3] done processing\n",
      "INFO:cmdstanpy:Chain [4] done processing\n",
      "INFO:cmdstanpy:found newer exe file, not recompiling\n",
      "INFO:cmdstanpy:found newer exe file, not recompiling\n",
      "INFO:cmdstanpy:CmdStan start procesing\n",
      "INFO:cmdstanpy:Chain [1] start processing\n",
      "INFO:cmdstanpy:Chain [2] start processing\n",
      "INFO:cmdstanpy:Chain [3] start processing\n",
      "INFO:cmdstanpy:Chain [4] start processing\n"
     ]
    },
    {
     "name": "stdout",
     "output_type": "stream",
     "text": [
      "Fitting toy MC bin no.700\n",
      "0.9500115473441109\n",
      "433 333\n"
     ]
    },
    {
     "name": "stderr",
     "output_type": "stream",
     "text": [
      "INFO:cmdstanpy:Chain [2] done processing\n",
      "INFO:cmdstanpy:Chain [4] done processing\n",
      "INFO:cmdstanpy:Chain [3] done processing\n",
      "INFO:cmdstanpy:Chain [1] done processing\n",
      "INFO:cmdstanpy:found newer exe file, not recompiling\n",
      "INFO:cmdstanpy:found newer exe file, not recompiling\n",
      "INFO:cmdstanpy:CmdStan start procesing\n",
      "INFO:cmdstanpy:Chain [1] start processing\n",
      "INFO:cmdstanpy:Chain [2] start processing\n",
      "INFO:cmdstanpy:Chain [3] start processing\n",
      "INFO:cmdstanpy:Chain [4] start processing\n"
     ]
    },
    {
     "name": "stdout",
     "output_type": "stream",
     "text": [
      "Fitting toy MC bin no.701\n",
      "0.9500000000000001\n",
      "403 310\n"
     ]
    },
    {
     "name": "stderr",
     "output_type": "stream",
     "text": [
      "INFO:cmdstanpy:Chain [4] done processing\n",
      "INFO:cmdstanpy:Chain [1] done processing\n",
      "INFO:cmdstanpy:Chain [3] done processing\n",
      "INFO:cmdstanpy:Chain [2] done processing\n",
      "INFO:cmdstanpy:found newer exe file, not recompiling\n",
      "INFO:cmdstanpy:found newer exe file, not recompiling\n",
      "INFO:cmdstanpy:CmdStan start procesing\n",
      "INFO:cmdstanpy:Chain [1] start processing\n",
      "INFO:cmdstanpy:Chain [2] start processing\n",
      "INFO:cmdstanpy:Chain [3] start processing\n",
      "INFO:cmdstanpy:Chain [4] start processing\n"
     ]
    },
    {
     "name": "stdout",
     "output_type": "stream",
     "text": [
      "Fitting toy MC bin no.702\n",
      "0.9498275862068964\n",
      "377 291\n"
     ]
    },
    {
     "name": "stderr",
     "output_type": "stream",
     "text": [
      "INFO:cmdstanpy:Chain [3] done processing\n",
      "INFO:cmdstanpy:Chain [4] done processing\n",
      "INFO:cmdstanpy:Chain [1] done processing\n",
      "INFO:cmdstanpy:Chain [2] done processing\n",
      "INFO:cmdstanpy:found newer exe file, not recompiling\n",
      "INFO:cmdstanpy:found newer exe file, not recompiling\n",
      "INFO:cmdstanpy:CmdStan start procesing\n",
      "INFO:cmdstanpy:Chain [1] start processing\n",
      "INFO:cmdstanpy:Chain [2] start processing\n",
      "INFO:cmdstanpy:Chain [3] start processing\n",
      "INFO:cmdstanpy:Chain [4] start processing\n"
     ]
    },
    {
     "name": "stdout",
     "output_type": "stream",
     "text": [
      "Fitting toy MC bin no.703\n",
      "0.9498218527315915\n",
      "421 325\n"
     ]
    },
    {
     "name": "stderr",
     "output_type": "stream",
     "text": [
      "INFO:cmdstanpy:Chain [1] done processing\n",
      "INFO:cmdstanpy:Chain [4] done processing\n",
      "INFO:cmdstanpy:Chain [2] done processing\n",
      "INFO:cmdstanpy:Chain [3] done processing\n",
      "INFO:cmdstanpy:found newer exe file, not recompiling\n",
      "INFO:cmdstanpy:found newer exe file, not recompiling\n",
      "INFO:cmdstanpy:CmdStan start procesing\n",
      "INFO:cmdstanpy:Chain [1] start processing\n",
      "INFO:cmdstanpy:Chain [2] start processing\n",
      "INFO:cmdstanpy:Chain [3] start processing\n",
      "INFO:cmdstanpy:Chain [4] start processing\n"
     ]
    },
    {
     "name": "stdout",
     "output_type": "stream",
     "text": [
      "Fitting toy MC bin no.704\n",
      "0.9499388753056234\n",
      "409 315\n"
     ]
    },
    {
     "name": "stderr",
     "output_type": "stream",
     "text": [
      "INFO:cmdstanpy:Chain [3] done processing\n",
      "INFO:cmdstanpy:Chain [1] done processing\n",
      "INFO:cmdstanpy:Chain [4] done processing\n",
      "INFO:cmdstanpy:Chain [2] done processing\n",
      "INFO:cmdstanpy:found newer exe file, not recompiling\n",
      "INFO:cmdstanpy:found newer exe file, not recompiling\n",
      "INFO:cmdstanpy:CmdStan start procesing\n",
      "INFO:cmdstanpy:Chain [1] start processing\n",
      "INFO:cmdstanpy:Chain [2] start processing\n",
      "INFO:cmdstanpy:Chain [3] start processing\n",
      "INFO:cmdstanpy:Chain [4] start processing\n"
     ]
    },
    {
     "name": "stdout",
     "output_type": "stream",
     "text": [
      "Fitting toy MC bin no.705\n",
      "0.950035046728972\n",
      "428 329\n"
     ]
    },
    {
     "name": "stderr",
     "output_type": "stream",
     "text": [
      "INFO:cmdstanpy:Chain [3] done processing\n",
      "INFO:cmdstanpy:Chain [2] done processing\n",
      "INFO:cmdstanpy:Chain [4] done processing\n",
      "INFO:cmdstanpy:Chain [1] done processing\n",
      "INFO:cmdstanpy:found newer exe file, not recompiling\n",
      "INFO:cmdstanpy:found newer exe file, not recompiling\n",
      "INFO:cmdstanpy:CmdStan start procesing\n",
      "INFO:cmdstanpy:Chain [1] start processing\n",
      "INFO:cmdstanpy:Chain [2] start processing\n",
      "INFO:cmdstanpy:Chain [3] start processing\n",
      "INFO:cmdstanpy:Chain [4] start processing\n"
     ]
    },
    {
     "name": "stdout",
     "output_type": "stream",
     "text": [
      "Fitting toy MC bin no.706\n",
      "0.9499746835443038\n",
      "395 304\n"
     ]
    },
    {
     "name": "stderr",
     "output_type": "stream",
     "text": [
      "INFO:cmdstanpy:Chain [2] done processing\n",
      "INFO:cmdstanpy:Chain [3] done processing\n",
      "INFO:cmdstanpy:Chain [1] done processing\n",
      "INFO:cmdstanpy:Chain [4] done processing\n",
      "INFO:cmdstanpy:found newer exe file, not recompiling\n",
      "INFO:cmdstanpy:found newer exe file, not recompiling\n",
      "INFO:cmdstanpy:CmdStan start procesing\n",
      "INFO:cmdstanpy:Chain [1] start processing\n",
      "INFO:cmdstanpy:Chain [2] start processing\n",
      "INFO:cmdstanpy:Chain [3] start processing\n",
      "INFO:cmdstanpy:Chain [4] start processing\n"
     ]
    },
    {
     "name": "stdout",
     "output_type": "stream",
     "text": [
      "Fitting toy MC bin no.707\n",
      "0.9498756218905473\n",
      "402 310\n"
     ]
    },
    {
     "name": "stderr",
     "output_type": "stream",
     "text": [
      "INFO:cmdstanpy:Chain [3] done processing\n",
      "INFO:cmdstanpy:Chain [4] done processing\n",
      "INFO:cmdstanpy:Chain [2] done processing\n",
      "INFO:cmdstanpy:Chain [1] done processing\n",
      "INFO:cmdstanpy:found newer exe file, not recompiling\n",
      "INFO:cmdstanpy:found newer exe file, not recompiling\n",
      "INFO:cmdstanpy:CmdStan start procesing\n",
      "INFO:cmdstanpy:Chain [1] start processing\n",
      "INFO:cmdstanpy:Chain [2] start processing\n",
      "INFO:cmdstanpy:Chain [3] start processing\n",
      "INFO:cmdstanpy:Chain [4] start processing\n"
     ]
    },
    {
     "name": "stdout",
     "output_type": "stream",
     "text": [
      "Fitting toy MC bin no.708\n",
      "0.9499024390243902\n",
      "410 316\n"
     ]
    },
    {
     "name": "stderr",
     "output_type": "stream",
     "text": [
      "INFO:cmdstanpy:Chain [2] done processing\n",
      "INFO:cmdstanpy:Chain [4] done processing\n",
      "INFO:cmdstanpy:Chain [1] done processing\n",
      "INFO:cmdstanpy:Chain [3] done processing\n",
      "INFO:cmdstanpy:found newer exe file, not recompiling\n",
      "INFO:cmdstanpy:found newer exe file, not recompiling\n",
      "INFO:cmdstanpy:CmdStan start procesing\n",
      "INFO:cmdstanpy:Chain [1] start processing\n",
      "INFO:cmdstanpy:Chain [2] start processing\n",
      "INFO:cmdstanpy:Chain [3] start processing\n",
      "INFO:cmdstanpy:Chain [4] start processing\n"
     ]
    },
    {
     "name": "stdout",
     "output_type": "stream",
     "text": [
      "Fitting toy MC bin no.709\n",
      "0.9499033149171271\n",
      "362 279\n"
     ]
    },
    {
     "name": "stderr",
     "output_type": "stream",
     "text": [
      "INFO:cmdstanpy:Chain [3] done processing\n",
      "INFO:cmdstanpy:Chain [2] done processing\n",
      "INFO:cmdstanpy:Chain [1] done processing\n",
      "INFO:cmdstanpy:Chain [4] done processing\n",
      "INFO:cmdstanpy:found newer exe file, not recompiling\n",
      "INFO:cmdstanpy:found newer exe file, not recompiling\n",
      "INFO:cmdstanpy:CmdStan start procesing\n",
      "INFO:cmdstanpy:Chain [1] start processing\n",
      "INFO:cmdstanpy:Chain [2] start processing\n",
      "INFO:cmdstanpy:Chain [3] start processing\n",
      "INFO:cmdstanpy:Chain [4] start processing\n"
     ]
    },
    {
     "name": "stdout",
     "output_type": "stream",
     "text": [
      "Fitting toy MC bin no.710\n",
      "0.9500591016548463\n",
      "423 325\n"
     ]
    },
    {
     "name": "stderr",
     "output_type": "stream",
     "text": [
      "INFO:cmdstanpy:Chain [1] done processing\n",
      "INFO:cmdstanpy:Chain [3] done processing\n",
      "INFO:cmdstanpy:Chain [2] done processing\n",
      "INFO:cmdstanpy:Chain [4] done processing\n",
      "INFO:cmdstanpy:found newer exe file, not recompiling\n",
      "INFO:cmdstanpy:found newer exe file, not recompiling\n",
      "INFO:cmdstanpy:CmdStan start procesing\n",
      "INFO:cmdstanpy:Chain [1] start processing\n",
      "INFO:cmdstanpy:Chain [2] start processing\n",
      "INFO:cmdstanpy:Chain [3] start processing\n",
      "INFO:cmdstanpy:Chain [4] start processing\n"
     ]
    },
    {
     "name": "stdout",
     "output_type": "stream",
     "text": [
      "Fitting toy MC bin no.711\n",
      "0.950025974025974\n",
      "385 296\n"
     ]
    },
    {
     "name": "stderr",
     "output_type": "stream",
     "text": [
      "INFO:cmdstanpy:Chain [1] done processing\n",
      "INFO:cmdstanpy:Chain [2] done processing\n",
      "INFO:cmdstanpy:Chain [3] done processing\n",
      "INFO:cmdstanpy:Chain [4] done processing\n",
      "INFO:cmdstanpy:found newer exe file, not recompiling\n",
      "INFO:cmdstanpy:found newer exe file, not recompiling\n",
      "INFO:cmdstanpy:CmdStan start procesing\n",
      "INFO:cmdstanpy:Chain [1] start processing\n",
      "INFO:cmdstanpy:Chain [2] start processing\n",
      "INFO:cmdstanpy:Chain [3] start processing\n",
      "INFO:cmdstanpy:Chain [4] start processing\n"
     ]
    },
    {
     "name": "stdout",
     "output_type": "stream",
     "text": [
      "Fitting toy MC bin no.712\n",
      "0.9499150141643059\n",
      "353 272\n"
     ]
    },
    {
     "name": "stderr",
     "output_type": "stream",
     "text": [
      "INFO:cmdstanpy:Chain [3] done processing\n",
      "INFO:cmdstanpy:Chain [2] done processing\n",
      "INFO:cmdstanpy:Chain [1] done processing\n",
      "INFO:cmdstanpy:Chain [4] done processing\n",
      "INFO:cmdstanpy:found newer exe file, not recompiling\n",
      "INFO:cmdstanpy:found newer exe file, not recompiling\n",
      "INFO:cmdstanpy:CmdStan start procesing\n",
      "INFO:cmdstanpy:Chain [1] start processing\n",
      "INFO:cmdstanpy:Chain [2] start processing\n",
      "INFO:cmdstanpy:Chain [3] start processing\n",
      "INFO:cmdstanpy:Chain [4] start processing\n"
     ]
    },
    {
     "name": "stdout",
     "output_type": "stream",
     "text": [
      "Fitting toy MC bin no.713\n",
      "0.9498245614035088\n",
      "399 308\n"
     ]
    },
    {
     "name": "stderr",
     "output_type": "stream",
     "text": [
      "INFO:cmdstanpy:Chain [1] done processing\n",
      "INFO:cmdstanpy:Chain [4] done processing\n",
      "INFO:cmdstanpy:Chain [3] done processing\n",
      "INFO:cmdstanpy:Chain [2] done processing\n",
      "INFO:cmdstanpy:found newer exe file, not recompiling\n",
      "INFO:cmdstanpy:found newer exe file, not recompiling\n",
      "INFO:cmdstanpy:CmdStan start procesing\n",
      "INFO:cmdstanpy:Chain [1] start processing\n",
      "INFO:cmdstanpy:Chain [2] start processing\n",
      "INFO:cmdstanpy:Chain [3] start processing\n",
      "INFO:cmdstanpy:Chain [4] start processing\n"
     ]
    },
    {
     "name": "stdout",
     "output_type": "stream",
     "text": [
      "Fitting toy MC bin no.714\n",
      "0.9499651162790698\n",
      "430 331\n"
     ]
    },
    {
     "name": "stderr",
     "output_type": "stream",
     "text": [
      "INFO:cmdstanpy:Chain [2] done processing\n",
      "INFO:cmdstanpy:Chain [4] done processing\n",
      "INFO:cmdstanpy:Chain [1] done processing\n",
      "INFO:cmdstanpy:Chain [3] done processing\n",
      "INFO:cmdstanpy:found newer exe file, not recompiling\n",
      "INFO:cmdstanpy:found newer exe file, not recompiling\n",
      "INFO:cmdstanpy:CmdStan start procesing\n",
      "INFO:cmdstanpy:Chain [1] start processing\n",
      "INFO:cmdstanpy:Chain [2] start processing\n",
      "INFO:cmdstanpy:Chain [3] start processing\n",
      "INFO:cmdstanpy:Chain [4] start processing\n"
     ]
    },
    {
     "name": "stdout",
     "output_type": "stream",
     "text": [
      "Fitting toy MC bin no.715\n",
      "0.9498795180722891\n",
      "415 320\n"
     ]
    },
    {
     "name": "stderr",
     "output_type": "stream",
     "text": [
      "INFO:cmdstanpy:Chain [2] done processing\n",
      "INFO:cmdstanpy:Chain [4] done processing\n",
      "INFO:cmdstanpy:Chain [3] done processing\n",
      "INFO:cmdstanpy:Chain [1] done processing\n",
      "INFO:cmdstanpy:found newer exe file, not recompiling\n",
      "INFO:cmdstanpy:found newer exe file, not recompiling\n",
      "INFO:cmdstanpy:CmdStan start procesing\n",
      "INFO:cmdstanpy:Chain [1] start processing\n",
      "INFO:cmdstanpy:Chain [2] start processing\n",
      "INFO:cmdstanpy:Chain [3] start processing\n",
      "INFO:cmdstanpy:Chain [4] start processing\n"
     ]
    },
    {
     "name": "stdout",
     "output_type": "stream",
     "text": [
      "Fitting toy MC bin no.716\n",
      "0.9499616368286445\n",
      "391 301\n"
     ]
    },
    {
     "name": "stderr",
     "output_type": "stream",
     "text": [
      "INFO:cmdstanpy:Chain [1] done processing\n",
      "INFO:cmdstanpy:Chain [3] done processing\n",
      "INFO:cmdstanpy:Chain [4] done processing\n",
      "INFO:cmdstanpy:Chain [2] done processing\n",
      "INFO:cmdstanpy:found newer exe file, not recompiling\n",
      "INFO:cmdstanpy:found newer exe file, not recompiling\n",
      "INFO:cmdstanpy:CmdStan start procesing\n",
      "INFO:cmdstanpy:Chain [1] start processing\n",
      "INFO:cmdstanpy:Chain [2] start processing\n",
      "INFO:cmdstanpy:Chain [3] start processing\n",
      "INFO:cmdstanpy:Chain [4] start processing\n"
     ]
    },
    {
     "name": "stdout",
     "output_type": "stream",
     "text": [
      "Fitting toy MC bin no.717\n",
      "0.9499603174603174\n",
      "378 291\n"
     ]
    },
    {
     "name": "stderr",
     "output_type": "stream",
     "text": [
      "INFO:cmdstanpy:Chain [4] done processing\n",
      "INFO:cmdstanpy:Chain [2] done processing\n",
      "INFO:cmdstanpy:Chain [3] done processing\n",
      "INFO:cmdstanpy:Chain [1] done processing\n",
      "INFO:cmdstanpy:found newer exe file, not recompiling\n",
      "INFO:cmdstanpy:found newer exe file, not recompiling\n",
      "INFO:cmdstanpy:CmdStan start procesing\n",
      "INFO:cmdstanpy:Chain [1] start processing\n",
      "INFO:cmdstanpy:Chain [2] start processing\n",
      "INFO:cmdstanpy:Chain [3] start processing\n",
      "INFO:cmdstanpy:Chain [4] start processing\n"
     ]
    },
    {
     "name": "stdout",
     "output_type": "stream",
     "text": [
      "Fitting toy MC bin no.718\n",
      "0.9499054373522459\n",
      "423 326\n"
     ]
    },
    {
     "name": "stderr",
     "output_type": "stream",
     "text": [
      "INFO:cmdstanpy:Chain [3] done processing\n",
      "INFO:cmdstanpy:Chain [4] done processing\n",
      "INFO:cmdstanpy:Chain [1] done processing\n",
      "INFO:cmdstanpy:Chain [2] done processing\n",
      "INFO:cmdstanpy:found newer exe file, not recompiling\n",
      "INFO:cmdstanpy:found newer exe file, not recompiling\n",
      "INFO:cmdstanpy:CmdStan start procesing\n",
      "INFO:cmdstanpy:Chain [1] start processing\n",
      "INFO:cmdstanpy:Chain [2] start processing\n",
      "INFO:cmdstanpy:Chain [3] start processing\n",
      "INFO:cmdstanpy:Chain [4] start processing\n"
     ]
    },
    {
     "name": "stdout",
     "output_type": "stream",
     "text": [
      "Fitting toy MC bin no.719\n",
      "0.9498756218905473\n",
      "402 310\n"
     ]
    },
    {
     "name": "stderr",
     "output_type": "stream",
     "text": [
      "INFO:cmdstanpy:Chain [4] done processing\n",
      "INFO:cmdstanpy:Chain [2] done processing\n",
      "INFO:cmdstanpy:Chain [1] done processing\n",
      "INFO:cmdstanpy:Chain [3] done processing\n",
      "INFO:cmdstanpy:found newer exe file, not recompiling\n",
      "INFO:cmdstanpy:found newer exe file, not recompiling\n",
      "INFO:cmdstanpy:CmdStan start procesing\n",
      "INFO:cmdstanpy:Chain [1] start processing\n",
      "INFO:cmdstanpy:Chain [2] start processing\n",
      "INFO:cmdstanpy:Chain [3] start processing\n",
      "INFO:cmdstanpy:Chain [4] start processing\n"
     ]
    },
    {
     "name": "stdout",
     "output_type": "stream",
     "text": [
      "Fitting toy MC bin no.720\n",
      "0.9498571428571428\n",
      "385 297\n"
     ]
    },
    {
     "name": "stderr",
     "output_type": "stream",
     "text": [
      "INFO:cmdstanpy:Chain [4] done processing\n",
      "INFO:cmdstanpy:Chain [1] done processing\n",
      "INFO:cmdstanpy:Chain [2] done processing\n",
      "INFO:cmdstanpy:Chain [3] done processing\n",
      "INFO:cmdstanpy:found newer exe file, not recompiling\n",
      "INFO:cmdstanpy:found newer exe file, not recompiling\n",
      "INFO:cmdstanpy:CmdStan start procesing\n",
      "INFO:cmdstanpy:Chain [1] start processing\n",
      "INFO:cmdstanpy:Chain [2] start processing\n",
      "INFO:cmdstanpy:Chain [3] start processing\n",
      "INFO:cmdstanpy:Chain [4] start processing\n"
     ]
    },
    {
     "name": "stdout",
     "output_type": "stream",
     "text": [
      "Fitting toy MC bin no.721\n",
      "0.95001312335958\n",
      "381 293\n"
     ]
    },
    {
     "name": "stderr",
     "output_type": "stream",
     "text": [
      "INFO:cmdstanpy:Chain [3] done processing\n",
      "INFO:cmdstanpy:Chain [1] done processing\n",
      "INFO:cmdstanpy:Chain [2] done processing\n",
      "INFO:cmdstanpy:Chain [4] done processing\n",
      "INFO:cmdstanpy:found newer exe file, not recompiling\n",
      "INFO:cmdstanpy:found newer exe file, not recompiling\n",
      "INFO:cmdstanpy:CmdStan start procesing\n",
      "INFO:cmdstanpy:Chain [1] start processing\n",
      "INFO:cmdstanpy:Chain [2] start processing\n",
      "INFO:cmdstanpy:Chain [3] start processing\n",
      "INFO:cmdstanpy:Chain [4] start processing\n"
     ]
    },
    {
     "name": "stdout",
     "output_type": "stream",
     "text": [
      "Fitting toy MC bin no.722\n",
      "0.949925925925926\n",
      "405 312\n"
     ]
    },
    {
     "name": "stderr",
     "output_type": "stream",
     "text": [
      "INFO:cmdstanpy:Chain [3] done processing\n",
      "INFO:cmdstanpy:Chain [4] done processing\n",
      "INFO:cmdstanpy:Chain [2] done processing\n",
      "INFO:cmdstanpy:Chain [1] done processing\n",
      "INFO:cmdstanpy:found newer exe file, not recompiling\n",
      "INFO:cmdstanpy:found newer exe file, not recompiling\n",
      "INFO:cmdstanpy:CmdStan start procesing\n",
      "INFO:cmdstanpy:Chain [1] start processing\n",
      "INFO:cmdstanpy:Chain [2] start processing\n",
      "INFO:cmdstanpy:Chain [3] start processing\n",
      "INFO:cmdstanpy:Chain [4] start processing\n"
     ]
    },
    {
     "name": "stdout",
     "output_type": "stream",
     "text": [
      "Fitting toy MC bin no.723\n",
      "0.949909793814433\n",
      "388 299\n"
     ]
    },
    {
     "name": "stderr",
     "output_type": "stream",
     "text": [
      "INFO:cmdstanpy:Chain [3] done processing\n",
      "INFO:cmdstanpy:Chain [2] done processing\n",
      "INFO:cmdstanpy:Chain [4] done processing\n",
      "INFO:cmdstanpy:Chain [1] done processing\n",
      "INFO:cmdstanpy:found newer exe file, not recompiling\n",
      "INFO:cmdstanpy:found newer exe file, not recompiling\n",
      "INFO:cmdstanpy:CmdStan start procesing\n",
      "INFO:cmdstanpy:Chain [1] start processing\n",
      "INFO:cmdstanpy:Chain [2] start processing\n",
      "INFO:cmdstanpy:Chain [3] start processing\n",
      "INFO:cmdstanpy:Chain [4] start processing\n"
     ]
    },
    {
     "name": "stdout",
     "output_type": "stream",
     "text": [
      "Fitting toy MC bin no.724\n",
      "0.9497875\n",
      "400 309\n"
     ]
    },
    {
     "name": "stderr",
     "output_type": "stream",
     "text": [
      "INFO:cmdstanpy:Chain [2] done processing\n",
      "INFO:cmdstanpy:Chain [4] done processing\n",
      "INFO:cmdstanpy:Chain [3] done processing\n",
      "INFO:cmdstanpy:Chain [1] done processing\n",
      "INFO:cmdstanpy:found newer exe file, not recompiling\n",
      "INFO:cmdstanpy:found newer exe file, not recompiling\n",
      "INFO:cmdstanpy:CmdStan start procesing\n",
      "INFO:cmdstanpy:Chain [1] start processing\n",
      "INFO:cmdstanpy:Chain [2] start processing\n",
      "INFO:cmdstanpy:Chain [3] start processing\n",
      "INFO:cmdstanpy:Chain [4] start processing\n"
     ]
    },
    {
     "name": "stdout",
     "output_type": "stream",
     "text": [
      "Fitting toy MC bin no.725\n",
      "0.9499483204134367\n",
      "387 298\n"
     ]
    },
    {
     "name": "stderr",
     "output_type": "stream",
     "text": [
      "INFO:cmdstanpy:Chain [2] done processing\n",
      "INFO:cmdstanpy:Chain [1] done processing\n",
      "INFO:cmdstanpy:Chain [3] done processing\n",
      "INFO:cmdstanpy:Chain [4] done processing\n",
      "INFO:cmdstanpy:found newer exe file, not recompiling\n",
      "INFO:cmdstanpy:found newer exe file, not recompiling\n",
      "INFO:cmdstanpy:CmdStan start procesing\n",
      "INFO:cmdstanpy:Chain [1] start processing\n",
      "INFO:cmdstanpy:Chain [2] start processing\n",
      "INFO:cmdstanpy:Chain [3] start processing\n",
      "INFO:cmdstanpy:Chain [4] start processing\n"
     ]
    },
    {
     "name": "stdout",
     "output_type": "stream",
     "text": [
      "Fitting toy MC bin no.726\n",
      "0.9498525798525798\n",
      "407 314\n"
     ]
    },
    {
     "name": "stderr",
     "output_type": "stream",
     "text": [
      "INFO:cmdstanpy:Chain [3] done processing\n",
      "INFO:cmdstanpy:Chain [1] done processing\n",
      "INFO:cmdstanpy:Chain [2] done processing\n",
      "INFO:cmdstanpy:Chain [4] done processing\n",
      "INFO:cmdstanpy:found newer exe file, not recompiling\n",
      "INFO:cmdstanpy:found newer exe file, not recompiling\n",
      "INFO:cmdstanpy:CmdStan start procesing\n",
      "INFO:cmdstanpy:Chain [1] start processing\n",
      "INFO:cmdstanpy:Chain [2] start processing\n",
      "INFO:cmdstanpy:Chain [3] start processing\n",
      "INFO:cmdstanpy:Chain [4] start processing\n"
     ]
    },
    {
     "name": "stdout",
     "output_type": "stream",
     "text": [
      "Fitting toy MC bin no.727\n",
      "0.9500000000000001\n",
      "403 310\n"
     ]
    },
    {
     "name": "stderr",
     "output_type": "stream",
     "text": [
      "INFO:cmdstanpy:Chain [1] done processing\n",
      "INFO:cmdstanpy:Chain [2] done processing\n",
      "INFO:cmdstanpy:Chain [3] done processing\n",
      "INFO:cmdstanpy:Chain [4] done processing\n",
      "INFO:cmdstanpy:found newer exe file, not recompiling\n",
      "INFO:cmdstanpy:found newer exe file, not recompiling\n",
      "INFO:cmdstanpy:CmdStan start procesing\n",
      "INFO:cmdstanpy:Chain [1] start processing\n",
      "INFO:cmdstanpy:Chain [2] start processing\n",
      "INFO:cmdstanpy:Chain [3] start processing\n",
      "INFO:cmdstanpy:Chain [4] start processing\n"
     ]
    },
    {
     "name": "stdout",
     "output_type": "stream",
     "text": [
      "Fitting toy MC bin no.728\n",
      "0.9499407582938388\n",
      "422 325\n"
     ]
    },
    {
     "name": "stderr",
     "output_type": "stream",
     "text": [
      "INFO:cmdstanpy:Chain [4] done processing\n",
      "INFO:cmdstanpy:Chain [3] done processing\n",
      "INFO:cmdstanpy:Chain [1] done processing\n",
      "INFO:cmdstanpy:Chain [2] done processing\n",
      "INFO:cmdstanpy:found newer exe file, not recompiling\n",
      "INFO:cmdstanpy:found newer exe file, not recompiling\n",
      "INFO:cmdstanpy:CmdStan start procesing\n",
      "INFO:cmdstanpy:Chain [1] start processing\n",
      "INFO:cmdstanpy:Chain [2] start processing\n",
      "INFO:cmdstanpy:Chain [3] start processing\n",
      "INFO:cmdstanpy:Chain [4] start processing\n"
     ]
    },
    {
     "name": "stdout",
     "output_type": "stream",
     "text": [
      "Fitting toy MC bin no.729\n",
      "0.9501044386422977\n",
      "383 294\n"
     ]
    },
    {
     "name": "stderr",
     "output_type": "stream",
     "text": [
      "INFO:cmdstanpy:Chain [1] done processing\n",
      "INFO:cmdstanpy:Chain [4] done processing\n",
      "INFO:cmdstanpy:Chain [3] done processing\n",
      "INFO:cmdstanpy:Chain [2] done processing\n",
      "INFO:cmdstanpy:found newer exe file, not recompiling\n",
      "INFO:cmdstanpy:found newer exe file, not recompiling\n",
      "INFO:cmdstanpy:CmdStan start procesing\n",
      "INFO:cmdstanpy:Chain [1] start processing\n",
      "INFO:cmdstanpy:Chain [2] start processing\n",
      "INFO:cmdstanpy:Chain [3] start processing\n",
      "INFO:cmdstanpy:Chain [4] start processing\n"
     ]
    },
    {
     "name": "stdout",
     "output_type": "stream",
     "text": [
      "Fitting toy MC bin no.730\n",
      "0.9497654320987654\n",
      "405 313\n"
     ]
    },
    {
     "name": "stderr",
     "output_type": "stream",
     "text": [
      "INFO:cmdstanpy:Chain [1] done processing\n",
      "INFO:cmdstanpy:Chain [3] done processing\n",
      "INFO:cmdstanpy:Chain [2] done processing\n",
      "INFO:cmdstanpy:Chain [4] done processing\n",
      "INFO:cmdstanpy:found newer exe file, not recompiling\n",
      "INFO:cmdstanpy:found newer exe file, not recompiling\n",
      "INFO:cmdstanpy:CmdStan start procesing\n",
      "INFO:cmdstanpy:Chain [1] start processing\n",
      "INFO:cmdstanpy:Chain [2] start processing\n",
      "INFO:cmdstanpy:Chain [3] start processing\n",
      "INFO:cmdstanpy:Chain [4] start processing\n"
     ]
    },
    {
     "name": "stdout",
     "output_type": "stream",
     "text": [
      "Fitting toy MC bin no.731\n",
      "0.9499870466321243\n",
      "386 297\n"
     ]
    },
    {
     "name": "stderr",
     "output_type": "stream",
     "text": [
      "INFO:cmdstanpy:Chain [2] done processing\n",
      "INFO:cmdstanpy:Chain [3] done processing\n",
      "INFO:cmdstanpy:Chain [1] done processing\n",
      "INFO:cmdstanpy:Chain [4] done processing\n",
      "INFO:cmdstanpy:found newer exe file, not recompiling\n",
      "INFO:cmdstanpy:found newer exe file, not recompiling\n",
      "INFO:cmdstanpy:CmdStan start procesing\n",
      "INFO:cmdstanpy:Chain [1] start processing\n",
      "INFO:cmdstanpy:Chain [2] start processing\n",
      "INFO:cmdstanpy:Chain [3] start processing\n",
      "INFO:cmdstanpy:Chain [4] start processing\n"
     ]
    },
    {
     "name": "stdout",
     "output_type": "stream",
     "text": [
      "Fitting toy MC bin no.732\n",
      "0.9499066666666666\n",
      "375 289\n"
     ]
    },
    {
     "name": "stderr",
     "output_type": "stream",
     "text": [
      "INFO:cmdstanpy:Chain [3] done processing\n",
      "INFO:cmdstanpy:Chain [2] done processing\n",
      "INFO:cmdstanpy:Chain [1] done processing\n",
      "INFO:cmdstanpy:Chain [4] done processing\n",
      "INFO:cmdstanpy:found newer exe file, not recompiling\n",
      "INFO:cmdstanpy:found newer exe file, not recompiling\n",
      "INFO:cmdstanpy:CmdStan start procesing\n",
      "INFO:cmdstanpy:Chain [1] start processing\n",
      "INFO:cmdstanpy:Chain [2] start processing\n",
      "INFO:cmdstanpy:Chain [3] start processing\n",
      "INFO:cmdstanpy:Chain [4] start processing\n"
     ]
    },
    {
     "name": "stdout",
     "output_type": "stream",
     "text": [
      "Fitting toy MC bin no.733\n",
      "0.9499234693877551\n",
      "392 302\n"
     ]
    },
    {
     "name": "stderr",
     "output_type": "stream",
     "text": [
      "INFO:cmdstanpy:Chain [1] done processing\n",
      "INFO:cmdstanpy:Chain [3] done processing\n",
      "INFO:cmdstanpy:Chain [2] done processing\n",
      "INFO:cmdstanpy:Chain [4] done processing\n",
      "INFO:cmdstanpy:found newer exe file, not recompiling\n",
      "INFO:cmdstanpy:found newer exe file, not recompiling\n",
      "INFO:cmdstanpy:CmdStan start procesing\n",
      "INFO:cmdstanpy:Chain [1] start processing\n",
      "INFO:cmdstanpy:Chain [2] start processing\n",
      "INFO:cmdstanpy:Chain [3] start processing\n",
      "INFO:cmdstanpy:Chain [4] start processing\n"
     ]
    },
    {
     "name": "stdout",
     "output_type": "stream",
     "text": [
      "Fitting toy MC bin no.734\n",
      "0.9498702830188679\n",
      "424 327\n"
     ]
    },
    {
     "name": "stderr",
     "output_type": "stream",
     "text": [
      "INFO:cmdstanpy:Chain [2] done processing\n",
      "INFO:cmdstanpy:Chain [4] done processing\n",
      "INFO:cmdstanpy:Chain [1] done processing\n",
      "INFO:cmdstanpy:Chain [3] done processing\n",
      "INFO:cmdstanpy:found newer exe file, not recompiling\n",
      "INFO:cmdstanpy:found newer exe file, not recompiling\n",
      "INFO:cmdstanpy:CmdStan start procesing\n",
      "INFO:cmdstanpy:Chain [1] start processing\n",
      "INFO:cmdstanpy:Chain [2] start processing\n",
      "INFO:cmdstanpy:Chain [3] start processing\n",
      "INFO:cmdstanpy:Chain [4] start processing\n"
     ]
    },
    {
     "name": "stdout",
     "output_type": "stream",
     "text": [
      "Fitting toy MC bin no.735\n",
      "0.9499640287769784\n",
      "417 321\n"
     ]
    },
    {
     "name": "stderr",
     "output_type": "stream",
     "text": [
      "INFO:cmdstanpy:Chain [3] done processing\n",
      "INFO:cmdstanpy:Chain [4] done processing\n",
      "INFO:cmdstanpy:Chain [1] done processing\n",
      "INFO:cmdstanpy:Chain [2] done processing\n",
      "INFO:cmdstanpy:found newer exe file, not recompiling\n",
      "INFO:cmdstanpy:found newer exe file, not recompiling\n",
      "INFO:cmdstanpy:CmdStan start procesing\n",
      "INFO:cmdstanpy:Chain [1] start processing\n",
      "INFO:cmdstanpy:Chain [2] start processing\n",
      "INFO:cmdstanpy:Chain [3] start processing\n",
      "INFO:cmdstanpy:Chain [4] start processing\n"
     ]
    },
    {
     "name": "stdout",
     "output_type": "stream",
     "text": [
      "Fitting toy MC bin no.736\n",
      "0.9498921832884097\n",
      "371 286\n"
     ]
    },
    {
     "name": "stderr",
     "output_type": "stream",
     "text": [
      "INFO:cmdstanpy:Chain [1] done processing\n",
      "INFO:cmdstanpy:Chain [2] done processing\n",
      "INFO:cmdstanpy:Chain [4] done processing\n",
      "INFO:cmdstanpy:Chain [3] done processing\n",
      "INFO:cmdstanpy:found newer exe file, not recompiling\n",
      "INFO:cmdstanpy:found newer exe file, not recompiling\n",
      "INFO:cmdstanpy:CmdStan start procesing\n",
      "INFO:cmdstanpy:Chain [1] start processing\n",
      "INFO:cmdstanpy:Chain [2] start processing\n",
      "INFO:cmdstanpy:Chain [3] start processing\n",
      "INFO:cmdstanpy:Chain [4] start processing\n"
     ]
    },
    {
     "name": "stdout",
     "output_type": "stream",
     "text": [
      "Fitting toy MC bin no.737\n",
      "0.9498425196850393\n",
      "381 294\n"
     ]
    },
    {
     "name": "stderr",
     "output_type": "stream",
     "text": [
      "INFO:cmdstanpy:Chain [1] done processing\n",
      "INFO:cmdstanpy:Chain [4] done processing\n",
      "INFO:cmdstanpy:Chain [3] done processing\n",
      "INFO:cmdstanpy:Chain [2] done processing\n",
      "INFO:cmdstanpy:found newer exe file, not recompiling\n",
      "INFO:cmdstanpy:found newer exe file, not recompiling\n",
      "INFO:cmdstanpy:CmdStan start procesing\n",
      "INFO:cmdstanpy:Chain [1] start processing\n",
      "INFO:cmdstanpy:Chain [2] start processing\n",
      "INFO:cmdstanpy:Chain [3] start processing\n",
      "INFO:cmdstanpy:Chain [4] start processing\n"
     ]
    },
    {
     "name": "stdout",
     "output_type": "stream",
     "text": [
      "Fitting toy MC bin no.738\n",
      "0.9499874686716793\n",
      "399 307\n"
     ]
    },
    {
     "name": "stderr",
     "output_type": "stream",
     "text": [
      "INFO:cmdstanpy:Chain [4] done processing\n",
      "INFO:cmdstanpy:Chain [2] done processing\n",
      "INFO:cmdstanpy:Chain [1] done processing\n",
      "INFO:cmdstanpy:Chain [3] done processing\n",
      "INFO:cmdstanpy:found newer exe file, not recompiling\n",
      "INFO:cmdstanpy:found newer exe file, not recompiling\n",
      "INFO:cmdstanpy:CmdStan start procesing\n",
      "INFO:cmdstanpy:Chain [1] start processing\n",
      "INFO:cmdstanpy:Chain [2] start processing\n",
      "INFO:cmdstanpy:Chain [3] start processing\n",
      "INFO:cmdstanpy:Chain [4] start processing\n"
     ]
    },
    {
     "name": "stdout",
     "output_type": "stream",
     "text": [
      "Fitting toy MC bin no.739\n",
      "0.9498401826484018\n",
      "438 338\n"
     ]
    },
    {
     "name": "stderr",
     "output_type": "stream",
     "text": [
      "INFO:cmdstanpy:Chain [2] done processing\n",
      "INFO:cmdstanpy:Chain [4] done processing\n",
      "INFO:cmdstanpy:Chain [3] done processing\n",
      "INFO:cmdstanpy:Chain [1] done processing\n",
      "INFO:cmdstanpy:found newer exe file, not recompiling\n",
      "INFO:cmdstanpy:found newer exe file, not recompiling\n",
      "INFO:cmdstanpy:CmdStan start procesing\n",
      "INFO:cmdstanpy:Chain [1] start processing\n",
      "INFO:cmdstanpy:Chain [2] start processing\n",
      "INFO:cmdstanpy:Chain [3] start processing\n",
      "INFO:cmdstanpy:Chain [4] start processing\n"
     ]
    },
    {
     "name": "stdout",
     "output_type": "stream",
     "text": [
      "Fitting toy MC bin no.740\n",
      "0.9499746835443038\n",
      "395 304\n"
     ]
    },
    {
     "name": "stderr",
     "output_type": "stream",
     "text": [
      "INFO:cmdstanpy:Chain [4] done processing\n",
      "INFO:cmdstanpy:Chain [1] done processing\n",
      "INFO:cmdstanpy:Chain [3] done processing\n",
      "INFO:cmdstanpy:Chain [2] done processing\n",
      "INFO:cmdstanpy:found newer exe file, not recompiling\n",
      "INFO:cmdstanpy:found newer exe file, not recompiling\n",
      "INFO:cmdstanpy:CmdStan start procesing\n",
      "INFO:cmdstanpy:Chain [1] start processing\n",
      "INFO:cmdstanpy:Chain [2] start processing\n",
      "INFO:cmdstanpy:Chain [3] start processing\n",
      "INFO:cmdstanpy:Chain [4] start processing\n"
     ]
    },
    {
     "name": "stdout",
     "output_type": "stream",
     "text": [
      "Fitting toy MC bin no.741\n",
      "0.9498815789473684\n",
      "380 293\n"
     ]
    },
    {
     "name": "stderr",
     "output_type": "stream",
     "text": [
      "INFO:cmdstanpy:Chain [4] done processing\n",
      "INFO:cmdstanpy:Chain [2] done processing\n",
      "INFO:cmdstanpy:Chain [1] done processing\n",
      "INFO:cmdstanpy:Chain [3] done processing\n",
      "INFO:cmdstanpy:found newer exe file, not recompiling\n",
      "INFO:cmdstanpy:found newer exe file, not recompiling\n",
      "INFO:cmdstanpy:CmdStan start procesing\n",
      "INFO:cmdstanpy:Chain [1] start processing\n",
      "INFO:cmdstanpy:Chain [2] start processing\n",
      "INFO:cmdstanpy:Chain [3] start processing\n",
      "INFO:cmdstanpy:Chain [4] start processing\n"
     ]
    },
    {
     "name": "stdout",
     "output_type": "stream",
     "text": [
      "Fitting toy MC bin no.742\n",
      "0.9497506234413966\n",
      "401 310\n"
     ]
    },
    {
     "name": "stderr",
     "output_type": "stream",
     "text": [
      "INFO:cmdstanpy:Chain [3] done processing\n",
      "INFO:cmdstanpy:Chain [1] done processing\n",
      "INFO:cmdstanpy:Chain [2] done processing\n",
      "INFO:cmdstanpy:Chain [4] done processing\n",
      "INFO:cmdstanpy:found newer exe file, not recompiling\n",
      "INFO:cmdstanpy:found newer exe file, not recompiling\n",
      "INFO:cmdstanpy:CmdStan start procesing\n",
      "INFO:cmdstanpy:Chain [1] start processing\n",
      "INFO:cmdstanpy:Chain [2] start processing\n",
      "INFO:cmdstanpy:Chain [3] start processing\n",
      "INFO:cmdstanpy:Chain [4] start processing\n"
     ]
    },
    {
     "name": "stdout",
     "output_type": "stream",
     "text": [
      "Fitting toy MC bin no.743\n",
      "0.95\n",
      "351 270\n"
     ]
    },
    {
     "name": "stderr",
     "output_type": "stream",
     "text": [
      "INFO:cmdstanpy:Chain [1] done processing\n",
      "INFO:cmdstanpy:Chain [3] done processing\n",
      "INFO:cmdstanpy:Chain [4] done processing\n",
      "INFO:cmdstanpy:Chain [2] done processing\n",
      "INFO:cmdstanpy:found newer exe file, not recompiling\n",
      "INFO:cmdstanpy:found newer exe file, not recompiling\n",
      "INFO:cmdstanpy:CmdStan start procesing\n",
      "INFO:cmdstanpy:Chain [1] start processing\n",
      "INFO:cmdstanpy:Chain [2] start processing\n",
      "INFO:cmdstanpy:Chain [3] start processing\n",
      "INFO:cmdstanpy:Chain [4] start processing\n"
     ]
    },
    {
     "name": "stdout",
     "output_type": "stream",
     "text": [
      "Fitting toy MC bin no.744\n",
      "0.95001269035533\n",
      "394 303\n"
     ]
    },
    {
     "name": "stderr",
     "output_type": "stream",
     "text": [
      "INFO:cmdstanpy:Chain [4] done processing\n",
      "INFO:cmdstanpy:Chain [3] done processing\n",
      "INFO:cmdstanpy:Chain [1] done processing\n",
      "INFO:cmdstanpy:Chain [2] done processing\n",
      "INFO:cmdstanpy:found newer exe file, not recompiling\n",
      "INFO:cmdstanpy:found newer exe file, not recompiling\n",
      "INFO:cmdstanpy:CmdStan start procesing\n",
      "INFO:cmdstanpy:Chain [1] start processing\n",
      "INFO:cmdstanpy:Chain [2] start processing\n",
      "INFO:cmdstanpy:Chain [3] start processing\n",
      "INFO:cmdstanpy:Chain [4] start processing\n"
     ]
    },
    {
     "name": "stdout",
     "output_type": "stream",
     "text": [
      "Fitting toy MC bin no.745\n",
      "0.94984375\n",
      "416 321\n"
     ]
    },
    {
     "name": "stderr",
     "output_type": "stream",
     "text": [
      "INFO:cmdstanpy:Chain [1] done processing\n",
      "INFO:cmdstanpy:Chain [4] done processing\n",
      "INFO:cmdstanpy:Chain [2] done processing\n",
      "INFO:cmdstanpy:Chain [3] done processing\n",
      "INFO:cmdstanpy:found newer exe file, not recompiling\n",
      "INFO:cmdstanpy:found newer exe file, not recompiling\n",
      "INFO:cmdstanpy:CmdStan start procesing\n",
      "INFO:cmdstanpy:Chain [1] start processing\n",
      "INFO:cmdstanpy:Chain [2] start processing\n",
      "INFO:cmdstanpy:Chain [3] start processing\n",
      "INFO:cmdstanpy:Chain [4] start processing\n"
     ]
    },
    {
     "name": "stdout",
     "output_type": "stream",
     "text": [
      "Fitting toy MC bin no.746\n",
      "0.9498123324396782\n",
      "373 288\n"
     ]
    },
    {
     "name": "stderr",
     "output_type": "stream",
     "text": [
      "INFO:cmdstanpy:Chain [4] done processing\n",
      "INFO:cmdstanpy:Chain [1] done processing\n",
      "INFO:cmdstanpy:Chain [3] done processing\n",
      "INFO:cmdstanpy:Chain [2] done processing\n",
      "INFO:cmdstanpy:found newer exe file, not recompiling\n",
      "INFO:cmdstanpy:found newer exe file, not recompiling\n",
      "INFO:cmdstanpy:CmdStan start procesing\n",
      "INFO:cmdstanpy:Chain [1] start processing\n",
      "INFO:cmdstanpy:Chain [2] start processing\n",
      "INFO:cmdstanpy:Chain [3] start processing\n",
      "INFO:cmdstanpy:Chain [4] start processing\n"
     ]
    },
    {
     "name": "stdout",
     "output_type": "stream",
     "text": [
      "Fitting toy MC bin no.747\n",
      "0.95\n",
      "377 290\n"
     ]
    },
    {
     "name": "stderr",
     "output_type": "stream",
     "text": [
      "INFO:cmdstanpy:Chain [4] done processing\n",
      "INFO:cmdstanpy:Chain [3] done processing\n",
      "INFO:cmdstanpy:Chain [2] done processing\n",
      "INFO:cmdstanpy:Chain [1] done processing\n",
      "INFO:cmdstanpy:found newer exe file, not recompiling\n",
      "INFO:cmdstanpy:found newer exe file, not recompiling\n",
      "INFO:cmdstanpy:CmdStan start procesing\n",
      "INFO:cmdstanpy:Chain [1] start processing\n",
      "INFO:cmdstanpy:Chain [2] start processing\n",
      "INFO:cmdstanpy:Chain [3] start processing\n",
      "INFO:cmdstanpy:Chain [4] start processing\n"
     ]
    },
    {
     "name": "stdout",
     "output_type": "stream",
     "text": [
      "Fitting toy MC bin no.748\n",
      "0.9498186528497409\n",
      "386 298\n"
     ]
    },
    {
     "name": "stderr",
     "output_type": "stream",
     "text": [
      "INFO:cmdstanpy:Chain [1] done processing\n",
      "INFO:cmdstanpy:Chain [3] done processing\n",
      "INFO:cmdstanpy:Chain [4] done processing\n",
      "INFO:cmdstanpy:Chain [2] done processing\n",
      "INFO:cmdstanpy:found newer exe file, not recompiling\n",
      "INFO:cmdstanpy:found newer exe file, not recompiling\n",
      "INFO:cmdstanpy:CmdStan start procesing\n",
      "INFO:cmdstanpy:Chain [1] start processing\n",
      "INFO:cmdstanpy:Chain [2] start processing\n",
      "INFO:cmdstanpy:Chain [3] start processing\n",
      "INFO:cmdstanpy:Chain [4] start processing\n"
     ]
    },
    {
     "name": "stdout",
     "output_type": "stream",
     "text": [
      "Fitting toy MC bin no.749\n",
      "0.9498958333333333\n",
      "384 296\n"
     ]
    },
    {
     "name": "stderr",
     "output_type": "stream",
     "text": [
      "INFO:cmdstanpy:Chain [1] done processing\n",
      "INFO:cmdstanpy:Chain [4] done processing\n",
      "INFO:cmdstanpy:Chain [2] done processing\n",
      "INFO:cmdstanpy:Chain [3] done processing\n",
      "INFO:cmdstanpy:found newer exe file, not recompiling\n",
      "INFO:cmdstanpy:found newer exe file, not recompiling\n",
      "INFO:cmdstanpy:CmdStan start procesing\n",
      "INFO:cmdstanpy:Chain [1] start processing\n",
      "INFO:cmdstanpy:Chain [2] start processing\n",
      "INFO:cmdstanpy:Chain [3] start processing\n",
      "INFO:cmdstanpy:Chain [4] start processing\n"
     ]
    },
    {
     "name": "stdout",
     "output_type": "stream",
     "text": [
      "Fitting toy MC bin no.750\n",
      "0.950012285012285\n",
      "407 313\n"
     ]
    },
    {
     "name": "stderr",
     "output_type": "stream",
     "text": [
      "INFO:cmdstanpy:Chain [4] done processing\n",
      "INFO:cmdstanpy:Chain [3] done processing\n",
      "INFO:cmdstanpy:Chain [2] done processing\n",
      "INFO:cmdstanpy:Chain [1] done processing\n",
      "INFO:cmdstanpy:found newer exe file, not recompiling\n",
      "INFO:cmdstanpy:found newer exe file, not recompiling\n",
      "INFO:cmdstanpy:CmdStan start procesing\n",
      "INFO:cmdstanpy:Chain [1] start processing\n",
      "INFO:cmdstanpy:Chain [2] start processing\n",
      "INFO:cmdstanpy:Chain [3] start processing\n",
      "INFO:cmdstanpy:Chain [4] start processing\n"
     ]
    },
    {
     "name": "stdout",
     "output_type": "stream",
     "text": [
      "Fitting toy MC bin no.751\n",
      "0.9498992443324937\n",
      "397 306\n"
     ]
    },
    {
     "name": "stderr",
     "output_type": "stream",
     "text": [
      "INFO:cmdstanpy:Chain [3] done processing\n",
      "INFO:cmdstanpy:Chain [4] done processing\n",
      "INFO:cmdstanpy:Chain [2] done processing\n",
      "INFO:cmdstanpy:Chain [1] done processing\n",
      "INFO:cmdstanpy:found newer exe file, not recompiling\n",
      "INFO:cmdstanpy:found newer exe file, not recompiling\n",
      "INFO:cmdstanpy:CmdStan start procesing\n",
      "INFO:cmdstanpy:Chain [1] start processing\n",
      "INFO:cmdstanpy:Chain [2] start processing\n",
      "INFO:cmdstanpy:Chain [3] start processing\n",
      "INFO:cmdstanpy:Chain [4] start processing\n"
     ]
    },
    {
     "name": "stdout",
     "output_type": "stream",
     "text": [
      "Fitting toy MC bin no.752\n",
      "0.9497953964194373\n",
      "391 302\n"
     ]
    },
    {
     "name": "stderr",
     "output_type": "stream",
     "text": [
      "INFO:cmdstanpy:Chain [3] done processing\n",
      "INFO:cmdstanpy:Chain [4] done processing\n",
      "INFO:cmdstanpy:Chain [2] done processing\n",
      "INFO:cmdstanpy:Chain [1] done processing\n",
      "INFO:cmdstanpy:found newer exe file, not recompiling\n",
      "INFO:cmdstanpy:found newer exe file, not recompiling\n",
      "INFO:cmdstanpy:CmdStan start procesing\n",
      "INFO:cmdstanpy:Chain [1] start processing\n",
      "INFO:cmdstanpy:Chain [2] start processing\n",
      "INFO:cmdstanpy:Chain [3] start processing\n",
      "INFO:cmdstanpy:Chain [4] start processing\n"
     ]
    },
    {
     "name": "stdout",
     "output_type": "stream",
     "text": [
      "Fitting toy MC bin no.753\n",
      "0.9498218527315915\n",
      "421 325\n"
     ]
    },
    {
     "name": "stderr",
     "output_type": "stream",
     "text": [
      "INFO:cmdstanpy:Chain [1] done processing\n",
      "INFO:cmdstanpy:Chain [2] done processing\n",
      "INFO:cmdstanpy:Chain [4] done processing\n",
      "INFO:cmdstanpy:Chain [3] done processing\n",
      "INFO:cmdstanpy:found newer exe file, not recompiling\n",
      "INFO:cmdstanpy:found newer exe file, not recompiling\n",
      "INFO:cmdstanpy:CmdStan start procesing\n",
      "INFO:cmdstanpy:Chain [1] start processing\n",
      "INFO:cmdstanpy:Chain [2] start processing\n",
      "INFO:cmdstanpy:Chain [3] start processing\n",
      "INFO:cmdstanpy:Chain [4] start processing\n"
     ]
    },
    {
     "name": "stdout",
     "output_type": "stream",
     "text": [
      "Fitting toy MC bin no.754\n",
      "0.949925925925926\n",
      "405 312\n"
     ]
    },
    {
     "name": "stderr",
     "output_type": "stream",
     "text": [
      "INFO:cmdstanpy:Chain [2] done processing\n",
      "INFO:cmdstanpy:Chain [3] done processing\n",
      "INFO:cmdstanpy:Chain [1] done processing\n",
      "INFO:cmdstanpy:Chain [4] done processing\n",
      "INFO:cmdstanpy:found newer exe file, not recompiling\n",
      "INFO:cmdstanpy:found newer exe file, not recompiling\n",
      "INFO:cmdstanpy:CmdStan start procesing\n",
      "INFO:cmdstanpy:Chain [1] start processing\n",
      "INFO:cmdstanpy:Chain [2] start processing\n",
      "INFO:cmdstanpy:Chain [3] start processing\n",
      "INFO:cmdstanpy:Chain [4] start processing\n"
     ]
    },
    {
     "name": "stdout",
     "output_type": "stream",
     "text": [
      "Fitting toy MC bin no.755\n",
      "0.9498702830188679\n",
      "424 327\n"
     ]
    },
    {
     "name": "stderr",
     "output_type": "stream",
     "text": [
      "INFO:cmdstanpy:Chain [3] done processing\n",
      "INFO:cmdstanpy:Chain [2] done processing\n",
      "INFO:cmdstanpy:Chain [4] done processing\n",
      "INFO:cmdstanpy:Chain [1] done processing\n",
      "INFO:cmdstanpy:found newer exe file, not recompiling\n",
      "INFO:cmdstanpy:found newer exe file, not recompiling\n",
      "INFO:cmdstanpy:CmdStan start procesing\n",
      "INFO:cmdstanpy:Chain [1] start processing\n",
      "INFO:cmdstanpy:Chain [2] start processing\n",
      "INFO:cmdstanpy:Chain [3] start processing\n",
      "INFO:cmdstanpy:Chain [4] start processing\n"
     ]
    },
    {
     "name": "stdout",
     "output_type": "stream",
     "text": [
      "Fitting toy MC bin no.756\n",
      "0.9498958333333333\n",
      "384 296\n"
     ]
    },
    {
     "name": "stderr",
     "output_type": "stream",
     "text": [
      "INFO:cmdstanpy:Chain [3] done processing\n",
      "INFO:cmdstanpy:Chain [2] done processing\n",
      "INFO:cmdstanpy:Chain [1] done processing\n",
      "INFO:cmdstanpy:Chain [4] done processing\n",
      "INFO:cmdstanpy:found newer exe file, not recompiling\n",
      "INFO:cmdstanpy:found newer exe file, not recompiling\n",
      "INFO:cmdstanpy:CmdStan start procesing\n",
      "INFO:cmdstanpy:Chain [1] start processing\n",
      "INFO:cmdstanpy:Chain [2] start processing\n",
      "INFO:cmdstanpy:Chain [3] start processing\n",
      "INFO:cmdstanpy:Chain [4] start processing\n"
     ]
    },
    {
     "name": "stdout",
     "output_type": "stream",
     "text": [
      "Fitting toy MC bin no.757\n",
      "0.9497650130548303\n",
      "383 296\n"
     ]
    },
    {
     "name": "stderr",
     "output_type": "stream",
     "text": [
      "INFO:cmdstanpy:Chain [3] done processing\n",
      "INFO:cmdstanpy:Chain [4] done processing\n",
      "INFO:cmdstanpy:Chain [1] done processing\n",
      "INFO:cmdstanpy:Chain [2] done processing\n",
      "INFO:cmdstanpy:found newer exe file, not recompiling\n",
      "INFO:cmdstanpy:found newer exe file, not recompiling\n",
      "INFO:cmdstanpy:CmdStan start procesing\n",
      "INFO:cmdstanpy:Chain [1] start processing\n",
      "INFO:cmdstanpy:Chain [2] start processing\n",
      "INFO:cmdstanpy:Chain [3] start processing\n",
      "INFO:cmdstanpy:Chain [4] start processing\n"
     ]
    },
    {
     "name": "stdout",
     "output_type": "stream",
     "text": [
      "Fitting toy MC bin no.758\n",
      "0.950035046728972\n",
      "428 329\n"
     ]
    },
    {
     "name": "stderr",
     "output_type": "stream",
     "text": [
      "INFO:cmdstanpy:Chain [2] done processing\n",
      "INFO:cmdstanpy:Chain [1] done processing\n",
      "INFO:cmdstanpy:Chain [3] done processing\n",
      "INFO:cmdstanpy:Chain [4] done processing\n",
      "INFO:cmdstanpy:found newer exe file, not recompiling\n",
      "INFO:cmdstanpy:found newer exe file, not recompiling\n",
      "INFO:cmdstanpy:CmdStan start procesing\n",
      "INFO:cmdstanpy:Chain [1] start processing\n",
      "INFO:cmdstanpy:Chain [2] start processing\n",
      "INFO:cmdstanpy:Chain [3] start processing\n",
      "INFO:cmdstanpy:Chain [4] start processing\n"
     ]
    },
    {
     "name": "stdout",
     "output_type": "stream",
     "text": [
      "Fitting toy MC bin no.759\n",
      "0.9498186528497409\n",
      "386 298\n"
     ]
    },
    {
     "name": "stderr",
     "output_type": "stream",
     "text": [
      "INFO:cmdstanpy:Chain [2] done processing\n",
      "INFO:cmdstanpy:Chain [1] done processing\n",
      "INFO:cmdstanpy:Chain [4] done processing\n",
      "INFO:cmdstanpy:Chain [3] done processing\n",
      "INFO:cmdstanpy:found newer exe file, not recompiling\n",
      "INFO:cmdstanpy:found newer exe file, not recompiling\n",
      "INFO:cmdstanpy:CmdStan start procesing\n",
      "INFO:cmdstanpy:Chain [1] start processing\n",
      "INFO:cmdstanpy:Chain [2] start processing\n",
      "INFO:cmdstanpy:Chain [3] start processing\n",
      "INFO:cmdstanpy:Chain [4] start processing\n"
     ]
    },
    {
     "name": "stdout",
     "output_type": "stream",
     "text": [
      "Fitting toy MC bin no.760\n",
      "0.9499154589371981\n",
      "414 319\n"
     ]
    },
    {
     "name": "stderr",
     "output_type": "stream",
     "text": [
      "INFO:cmdstanpy:Chain [2] done processing\n",
      "INFO:cmdstanpy:Chain [1] done processing\n",
      "INFO:cmdstanpy:Chain [3] done processing\n",
      "INFO:cmdstanpy:Chain [4] done processing\n",
      "INFO:cmdstanpy:found newer exe file, not recompiling\n",
      "INFO:cmdstanpy:found newer exe file, not recompiling\n",
      "INFO:cmdstanpy:CmdStan start procesing\n",
      "INFO:cmdstanpy:Chain [1] start processing\n",
      "INFO:cmdstanpy:Chain [2] start processing\n",
      "INFO:cmdstanpy:Chain [3] start processing\n",
      "INFO:cmdstanpy:Chain [4] start processing\n"
     ]
    },
    {
     "name": "stdout",
     "output_type": "stream",
     "text": [
      "Fitting toy MC bin no.761\n",
      "0.95001312335958\n",
      "381 293\n"
     ]
    },
    {
     "name": "stderr",
     "output_type": "stream",
     "text": [
      "INFO:cmdstanpy:Chain [1] done processing\n",
      "INFO:cmdstanpy:Chain [4] done processing\n",
      "INFO:cmdstanpy:Chain [2] done processing\n",
      "INFO:cmdstanpy:Chain [3] done processing\n",
      "INFO:cmdstanpy:found newer exe file, not recompiling\n",
      "INFO:cmdstanpy:found newer exe file, not recompiling\n",
      "INFO:cmdstanpy:CmdStan start procesing\n",
      "INFO:cmdstanpy:Chain [1] start processing\n",
      "INFO:cmdstanpy:Chain [2] start processing\n",
      "INFO:cmdstanpy:Chain [3] start processing\n",
      "INFO:cmdstanpy:Chain [4] start processing\n"
     ]
    },
    {
     "name": "stdout",
     "output_type": "stream",
     "text": [
      "Fitting toy MC bin no.762\n",
      "0.9498958333333333\n",
      "384 296\n"
     ]
    },
    {
     "name": "stderr",
     "output_type": "stream",
     "text": [
      "INFO:cmdstanpy:Chain [2] done processing\n",
      "INFO:cmdstanpy:Chain [4] done processing\n",
      "INFO:cmdstanpy:Chain [3] done processing\n",
      "INFO:cmdstanpy:Chain [1] done processing\n",
      "INFO:cmdstanpy:found newer exe file, not recompiling\n",
      "INFO:cmdstanpy:found newer exe file, not recompiling\n",
      "INFO:cmdstanpy:CmdStan start procesing\n",
      "INFO:cmdstanpy:Chain [1] start processing\n",
      "INFO:cmdstanpy:Chain [2] start processing\n",
      "INFO:cmdstanpy:Chain [3] start processing\n",
      "INFO:cmdstanpy:Chain [4] start processing\n"
     ]
    },
    {
     "name": "stdout",
     "output_type": "stream",
     "text": [
      "Fitting toy MC bin no.763\n",
      "0.9499870466321243\n",
      "386 297\n"
     ]
    },
    {
     "name": "stderr",
     "output_type": "stream",
     "text": [
      "INFO:cmdstanpy:Chain [2] done processing\n",
      "INFO:cmdstanpy:Chain [4] done processing\n",
      "INFO:cmdstanpy:Chain [1] done processing\n",
      "INFO:cmdstanpy:Chain [3] done processing\n",
      "INFO:cmdstanpy:found newer exe file, not recompiling\n",
      "INFO:cmdstanpy:found newer exe file, not recompiling\n",
      "INFO:cmdstanpy:CmdStan start procesing\n",
      "INFO:cmdstanpy:Chain [1] start processing\n",
      "INFO:cmdstanpy:Chain [2] start processing\n",
      "INFO:cmdstanpy:Chain [3] start processing\n",
      "INFO:cmdstanpy:Chain [4] start processing\n"
     ]
    },
    {
     "name": "stdout",
     "output_type": "stream",
     "text": [
      "Fitting toy MC bin no.764\n",
      "0.9499407582938388\n",
      "422 325\n"
     ]
    },
    {
     "name": "stderr",
     "output_type": "stream",
     "text": [
      "INFO:cmdstanpy:Chain [2] done processing\n",
      "INFO:cmdstanpy:Chain [1] done processing\n",
      "INFO:cmdstanpy:Chain [3] done processing\n",
      "INFO:cmdstanpy:Chain [4] done processing\n",
      "INFO:cmdstanpy:found newer exe file, not recompiling\n",
      "INFO:cmdstanpy:found newer exe file, not recompiling\n",
      "INFO:cmdstanpy:CmdStan start procesing\n",
      "INFO:cmdstanpy:Chain [1] start processing\n",
      "INFO:cmdstanpy:Chain [2] start processing\n",
      "INFO:cmdstanpy:Chain [3] start processing\n",
      "INFO:cmdstanpy:Chain [4] start processing\n"
     ]
    },
    {
     "name": "stdout",
     "output_type": "stream",
     "text": [
      "Fitting toy MC bin no.765\n",
      "0.9499628712871288\n",
      "404 311\n"
     ]
    },
    {
     "name": "stderr",
     "output_type": "stream",
     "text": [
      "INFO:cmdstanpy:Chain [1] done processing\n",
      "INFO:cmdstanpy:Chain [3] done processing\n",
      "INFO:cmdstanpy:Chain [2] done processing\n",
      "INFO:cmdstanpy:Chain [4] done processing\n",
      "INFO:cmdstanpy:found newer exe file, not recompiling\n",
      "INFO:cmdstanpy:found newer exe file, not recompiling\n",
      "INFO:cmdstanpy:CmdStan start procesing\n",
      "INFO:cmdstanpy:Chain [1] start processing\n",
      "INFO:cmdstanpy:Chain [2] start processing\n",
      "INFO:cmdstanpy:Chain [3] start processing\n",
      "INFO:cmdstanpy:Chain [4] start processing\n"
     ]
    },
    {
     "name": "stdout",
     "output_type": "stream",
     "text": [
      "Fitting toy MC bin no.766\n",
      "0.9498622589531681\n",
      "363 280\n"
     ]
    },
    {
     "name": "stderr",
     "output_type": "stream",
     "text": [
      "INFO:cmdstanpy:Chain [3] done processing\n",
      "INFO:cmdstanpy:Chain [4] done processing\n",
      "INFO:cmdstanpy:Chain [1] done processing\n",
      "INFO:cmdstanpy:Chain [2] done processing\n",
      "INFO:cmdstanpy:found newer exe file, not recompiling\n",
      "INFO:cmdstanpy:found newer exe file, not recompiling\n",
      "INFO:cmdstanpy:CmdStan start procesing\n",
      "INFO:cmdstanpy:Chain [1] start processing\n",
      "INFO:cmdstanpy:Chain [2] start processing\n",
      "INFO:cmdstanpy:Chain [3] start processing\n",
      "INFO:cmdstanpy:Chain [4] start processing\n"
     ]
    },
    {
     "name": "stdout",
     "output_type": "stream",
     "text": [
      "Fitting toy MC bin no.767\n",
      "0.9498467966573816\n",
      "359 277\n"
     ]
    },
    {
     "name": "stderr",
     "output_type": "stream",
     "text": [
      "INFO:cmdstanpy:Chain [2] done processing\n",
      "INFO:cmdstanpy:Chain [1] done processing\n",
      "INFO:cmdstanpy:Chain [4] done processing\n",
      "INFO:cmdstanpy:Chain [3] done processing\n",
      "INFO:cmdstanpy:found newer exe file, not recompiling\n",
      "INFO:cmdstanpy:found newer exe file, not recompiling\n",
      "INFO:cmdstanpy:CmdStan start procesing\n",
      "INFO:cmdstanpy:Chain [1] start processing\n",
      "INFO:cmdstanpy:Chain [2] start processing\n",
      "INFO:cmdstanpy:Chain [3] start processing\n",
      "INFO:cmdstanpy:Chain [4] start processing\n"
     ]
    },
    {
     "name": "stdout",
     "output_type": "stream",
     "text": [
      "Fitting toy MC bin no.768\n",
      "0.9499483204134367\n",
      "387 298\n"
     ]
    },
    {
     "name": "stderr",
     "output_type": "stream",
     "text": [
      "INFO:cmdstanpy:Chain [3] done processing\n",
      "INFO:cmdstanpy:Chain [4] done processing\n",
      "INFO:cmdstanpy:Chain [1] done processing\n",
      "INFO:cmdstanpy:Chain [2] done processing\n",
      "INFO:cmdstanpy:found newer exe file, not recompiling\n",
      "INFO:cmdstanpy:found newer exe file, not recompiling\n",
      "INFO:cmdstanpy:CmdStan start procesing\n",
      "INFO:cmdstanpy:Chain [1] start processing\n",
      "INFO:cmdstanpy:Chain [2] start processing\n",
      "INFO:cmdstanpy:Chain [3] start processing\n",
      "INFO:cmdstanpy:Chain [4] start processing\n"
     ]
    },
    {
     "name": "stdout",
     "output_type": "stream",
     "text": [
      "Fitting toy MC bin no.769\n",
      "0.9498571428571428\n",
      "350 270\n"
     ]
    },
    {
     "name": "stderr",
     "output_type": "stream",
     "text": [
      "INFO:cmdstanpy:Chain [3] done processing\n",
      "INFO:cmdstanpy:Chain [1] done processing\n",
      "INFO:cmdstanpy:Chain [4] done processing\n",
      "INFO:cmdstanpy:Chain [2] done processing\n",
      "INFO:cmdstanpy:found newer exe file, not recompiling\n",
      "INFO:cmdstanpy:found newer exe file, not recompiling\n",
      "INFO:cmdstanpy:CmdStan start procesing\n",
      "INFO:cmdstanpy:Chain [1] start processing\n",
      "INFO:cmdstanpy:Chain [2] start processing\n",
      "INFO:cmdstanpy:Chain [3] start processing\n",
      "INFO:cmdstanpy:Chain [4] start processing\n"
     ]
    },
    {
     "name": "stdout",
     "output_type": "stream",
     "text": [
      "Fitting toy MC bin no.770\n",
      "0.9501392405063291\n",
      "395 303\n"
     ]
    },
    {
     "name": "stderr",
     "output_type": "stream",
     "text": [
      "INFO:cmdstanpy:Chain [1] done processing\n",
      "INFO:cmdstanpy:Chain [2] done processing\n",
      "INFO:cmdstanpy:Chain [3] done processing\n",
      "INFO:cmdstanpy:Chain [4] done processing\n",
      "INFO:cmdstanpy:found newer exe file, not recompiling\n",
      "INFO:cmdstanpy:found newer exe file, not recompiling\n",
      "INFO:cmdstanpy:CmdStan start procesing\n",
      "INFO:cmdstanpy:Chain [1] start processing\n",
      "INFO:cmdstanpy:Chain [2] start processing\n",
      "INFO:cmdstanpy:Chain [3] start processing\n",
      "INFO:cmdstanpy:Chain [4] start processing\n"
     ]
    },
    {
     "name": "stdout",
     "output_type": "stream",
     "text": [
      "Fitting toy MC bin no.771\n",
      "0.9497645429362881\n",
      "361 279\n"
     ]
    },
    {
     "name": "stderr",
     "output_type": "stream",
     "text": [
      "INFO:cmdstanpy:Chain [1] done processing\n",
      "INFO:cmdstanpy:Chain [3] done processing\n",
      "INFO:cmdstanpy:Chain [4] done processing\n",
      "INFO:cmdstanpy:Chain [2] done processing\n",
      "INFO:cmdstanpy:found newer exe file, not recompiling\n",
      "INFO:cmdstanpy:found newer exe file, not recompiling\n",
      "INFO:cmdstanpy:CmdStan start procesing\n",
      "INFO:cmdstanpy:Chain [1] start processing\n",
      "INFO:cmdstanpy:Chain [2] start processing\n",
      "INFO:cmdstanpy:Chain [3] start processing\n",
      "INFO:cmdstanpy:Chain [4] start processing\n"
     ]
    },
    {
     "name": "stdout",
     "output_type": "stream",
     "text": [
      "Fitting toy MC bin no.772\n",
      "0.9499889135254989\n",
      "451 347\n"
     ]
    },
    {
     "name": "stderr",
     "output_type": "stream",
     "text": [
      "INFO:cmdstanpy:Chain [2] done processing\n",
      "INFO:cmdstanpy:Chain [4] done processing\n",
      "INFO:cmdstanpy:Chain [3] done processing\n",
      "INFO:cmdstanpy:Chain [1] done processing\n",
      "INFO:cmdstanpy:found newer exe file, not recompiling\n",
      "INFO:cmdstanpy:found newer exe file, not recompiling\n",
      "INFO:cmdstanpy:CmdStan start procesing\n",
      "INFO:cmdstanpy:Chain [1] start processing\n",
      "INFO:cmdstanpy:Chain [2] start processing\n",
      "INFO:cmdstanpy:Chain [3] start processing\n",
      "INFO:cmdstanpy:Chain [4] start processing\n"
     ]
    },
    {
     "name": "stdout",
     "output_type": "stream",
     "text": [
      "Fitting toy MC bin no.773\n",
      "0.9500235849056604\n",
      "424 326\n"
     ]
    },
    {
     "name": "stderr",
     "output_type": "stream",
     "text": [
      "INFO:cmdstanpy:Chain [3] done processing\n",
      "INFO:cmdstanpy:Chain [4] done processing\n",
      "INFO:cmdstanpy:Chain [2] done processing\n",
      "INFO:cmdstanpy:Chain [1] done processing\n",
      "INFO:cmdstanpy:found newer exe file, not recompiling\n",
      "INFO:cmdstanpy:found newer exe file, not recompiling\n",
      "INFO:cmdstanpy:CmdStan start procesing\n",
      "INFO:cmdstanpy:Chain [1] start processing\n",
      "INFO:cmdstanpy:Chain [2] start processing\n",
      "INFO:cmdstanpy:Chain [3] start processing\n",
      "INFO:cmdstanpy:Chain [4] start processing\n"
     ]
    },
    {
     "name": "stdout",
     "output_type": "stream",
     "text": [
      "Fitting toy MC bin no.774\n",
      "0.949908256880734\n",
      "436 336\n"
     ]
    },
    {
     "name": "stderr",
     "output_type": "stream",
     "text": [
      "INFO:cmdstanpy:Chain [4] done processing\n",
      "INFO:cmdstanpy:Chain [3] done processing\n",
      "INFO:cmdstanpy:Chain [2] done processing\n",
      "INFO:cmdstanpy:Chain [1] done processing\n",
      "INFO:cmdstanpy:found newer exe file, not recompiling\n",
      "INFO:cmdstanpy:found newer exe file, not recompiling\n",
      "INFO:cmdstanpy:CmdStan start procesing\n",
      "INFO:cmdstanpy:Chain [1] start processing\n",
      "INFO:cmdstanpy:Chain [2] start processing\n",
      "INFO:cmdstanpy:Chain [3] start processing\n",
      "INFO:cmdstanpy:Chain [4] start processing\n"
     ]
    },
    {
     "name": "stdout",
     "output_type": "stream",
     "text": [
      "Fitting toy MC bin no.775\n",
      "0.9499746835443038\n",
      "395 304\n"
     ]
    },
    {
     "name": "stderr",
     "output_type": "stream",
     "text": [
      "INFO:cmdstanpy:Chain [1] done processing\n",
      "INFO:cmdstanpy:Chain [4] done processing\n",
      "INFO:cmdstanpy:Chain [2] done processing\n",
      "INFO:cmdstanpy:Chain [3] done processing\n",
      "INFO:cmdstanpy:found newer exe file, not recompiling\n",
      "INFO:cmdstanpy:found newer exe file, not recompiling\n",
      "INFO:cmdstanpy:CmdStan start procesing\n",
      "INFO:cmdstanpy:Chain [1] start processing\n",
      "INFO:cmdstanpy:Chain [2] start processing\n",
      "INFO:cmdstanpy:Chain [3] start processing\n",
      "INFO:cmdstanpy:Chain [4] start processing\n"
     ]
    },
    {
     "name": "stdout",
     "output_type": "stream",
     "text": [
      "Fitting toy MC bin no.776\n",
      "0.9498661800486617\n",
      "411 317\n"
     ]
    },
    {
     "name": "stderr",
     "output_type": "stream",
     "text": [
      "INFO:cmdstanpy:Chain [2] done processing\n",
      "INFO:cmdstanpy:Chain [4] done processing\n",
      "INFO:cmdstanpy:Chain [1] done processing\n",
      "INFO:cmdstanpy:Chain [3] done processing\n",
      "INFO:cmdstanpy:found newer exe file, not recompiling\n",
      "INFO:cmdstanpy:found newer exe file, not recompiling\n",
      "INFO:cmdstanpy:CmdStan start procesing\n",
      "INFO:cmdstanpy:Chain [1] start processing\n",
      "INFO:cmdstanpy:Chain [2] start processing\n",
      "INFO:cmdstanpy:Chain [3] start processing\n",
      "INFO:cmdstanpy:Chain [4] start processing\n"
     ]
    },
    {
     "name": "stdout",
     "output_type": "stream",
     "text": [
      "Fitting toy MC bin no.777\n",
      "0.9499154589371981\n",
      "414 319\n"
     ]
    },
    {
     "name": "stderr",
     "output_type": "stream",
     "text": [
      "INFO:cmdstanpy:Chain [1] done processing\n",
      "INFO:cmdstanpy:Chain [4] done processing\n",
      "INFO:cmdstanpy:Chain [2] done processing\n",
      "INFO:cmdstanpy:Chain [3] done processing\n",
      "INFO:cmdstanpy:found newer exe file, not recompiling\n",
      "INFO:cmdstanpy:found newer exe file, not recompiling\n",
      "INFO:cmdstanpy:CmdStan start procesing\n",
      "INFO:cmdstanpy:Chain [1] start processing\n",
      "INFO:cmdstanpy:Chain [2] start processing\n",
      "INFO:cmdstanpy:Chain [3] start processing\n",
      "INFO:cmdstanpy:Chain [4] start processing\n"
     ]
    },
    {
     "name": "stdout",
     "output_type": "stream",
     "text": [
      "Fitting toy MC bin no.778\n",
      "0.94984375\n",
      "416 321\n"
     ]
    },
    {
     "name": "stderr",
     "output_type": "stream",
     "text": [
      "INFO:cmdstanpy:Chain [4] done processing\n",
      "INFO:cmdstanpy:Chain [3] done processing\n",
      "INFO:cmdstanpy:Chain [1] done processing\n",
      "INFO:cmdstanpy:Chain [2] done processing\n",
      "INFO:cmdstanpy:found newer exe file, not recompiling\n",
      "INFO:cmdstanpy:found newer exe file, not recompiling\n",
      "INFO:cmdstanpy:CmdStan start procesing\n",
      "INFO:cmdstanpy:Chain [1] start processing\n",
      "INFO:cmdstanpy:Chain [2] start processing\n",
      "INFO:cmdstanpy:Chain [3] start processing\n",
      "INFO:cmdstanpy:Chain [4] start processing\n"
     ]
    },
    {
     "name": "stdout",
     "output_type": "stream",
     "text": [
      "Fitting toy MC bin no.779\n",
      "0.9499500000000001\n",
      "400 308\n"
     ]
    },
    {
     "name": "stderr",
     "output_type": "stream",
     "text": [
      "INFO:cmdstanpy:Chain [3] done processing\n",
      "INFO:cmdstanpy:Chain [1] done processing\n",
      "INFO:cmdstanpy:Chain [2] done processing\n",
      "INFO:cmdstanpy:Chain [4] done processing\n",
      "INFO:cmdstanpy:found newer exe file, not recompiling\n",
      "INFO:cmdstanpy:found newer exe file, not recompiling\n",
      "INFO:cmdstanpy:CmdStan start procesing\n",
      "INFO:cmdstanpy:Chain [1] start processing\n",
      "INFO:cmdstanpy:Chain [2] start processing\n",
      "INFO:cmdstanpy:Chain [3] start processing\n",
      "INFO:cmdstanpy:Chain [4] start processing\n"
     ]
    },
    {
     "name": "stdout",
     "output_type": "stream",
     "text": [
      "Fitting toy MC bin no.780\n",
      "0.9499407582938388\n",
      "422 325\n"
     ]
    },
    {
     "name": "stderr",
     "output_type": "stream",
     "text": [
      "INFO:cmdstanpy:Chain [2] done processing\n",
      "INFO:cmdstanpy:Chain [3] done processing\n",
      "INFO:cmdstanpy:Chain [1] done processing\n",
      "INFO:cmdstanpy:Chain [4] done processing\n",
      "INFO:cmdstanpy:found newer exe file, not recompiling\n",
      "INFO:cmdstanpy:found newer exe file, not recompiling\n",
      "INFO:cmdstanpy:CmdStan start procesing\n",
      "INFO:cmdstanpy:Chain [1] start processing\n",
      "INFO:cmdstanpy:Chain [2] start processing\n",
      "INFO:cmdstanpy:Chain [3] start processing\n",
      "INFO:cmdstanpy:Chain [4] start processing\n"
     ]
    },
    {
     "name": "stdout",
     "output_type": "stream",
     "text": [
      "Fitting toy MC bin no.781\n",
      "0.9499234693877551\n",
      "392 302\n"
     ]
    },
    {
     "name": "stderr",
     "output_type": "stream",
     "text": [
      "INFO:cmdstanpy:Chain [3] done processing\n",
      "INFO:cmdstanpy:Chain [1] done processing\n",
      "INFO:cmdstanpy:Chain [4] done processing\n",
      "INFO:cmdstanpy:Chain [2] done processing\n",
      "INFO:cmdstanpy:found newer exe file, not recompiling\n",
      "INFO:cmdstanpy:found newer exe file, not recompiling\n",
      "INFO:cmdstanpy:CmdStan start procesing\n",
      "INFO:cmdstanpy:Chain [1] start processing\n",
      "INFO:cmdstanpy:Chain [2] start processing\n",
      "INFO:cmdstanpy:Chain [3] start processing\n",
      "INFO:cmdstanpy:Chain [4] start processing\n"
     ]
    },
    {
     "name": "stdout",
     "output_type": "stream",
     "text": [
      "Fitting toy MC bin no.782\n",
      "0.9498714652956298\n",
      "389 300\n"
     ]
    },
    {
     "name": "stderr",
     "output_type": "stream",
     "text": [
      "INFO:cmdstanpy:Chain [2] done processing\n",
      "INFO:cmdstanpy:Chain [1] done processing\n",
      "INFO:cmdstanpy:Chain [4] done processing\n",
      "INFO:cmdstanpy:Chain [3] done processing\n",
      "INFO:cmdstanpy:found newer exe file, not recompiling\n",
      "INFO:cmdstanpy:found newer exe file, not recompiling\n",
      "INFO:cmdstanpy:CmdStan start procesing\n",
      "INFO:cmdstanpy:Chain [1] start processing\n",
      "INFO:cmdstanpy:Chain [2] start processing\n",
      "INFO:cmdstanpy:Chain [3] start processing\n",
      "INFO:cmdstanpy:Chain [4] start processing\n"
     ]
    },
    {
     "name": "stdout",
     "output_type": "stream",
     "text": [
      "Fitting toy MC bin no.783\n",
      "0.9498992443324937\n",
      "397 306\n"
     ]
    },
    {
     "name": "stderr",
     "output_type": "stream",
     "text": [
      "INFO:cmdstanpy:Chain [1] done processing\n",
      "INFO:cmdstanpy:Chain [2] done processing\n",
      "INFO:cmdstanpy:Chain [4] done processing\n",
      "INFO:cmdstanpy:Chain [3] done processing\n",
      "INFO:cmdstanpy:found newer exe file, not recompiling\n",
      "INFO:cmdstanpy:found newer exe file, not recompiling\n",
      "INFO:cmdstanpy:CmdStan start procesing\n",
      "INFO:cmdstanpy:Chain [1] start processing\n",
      "INFO:cmdstanpy:Chain [2] start processing\n",
      "INFO:cmdstanpy:Chain [3] start processing\n",
      "INFO:cmdstanpy:Chain [4] start processing\n"
     ]
    },
    {
     "name": "stdout",
     "output_type": "stream",
     "text": [
      "Fitting toy MC bin no.784\n",
      "0.9499874686716793\n",
      "399 307\n"
     ]
    },
    {
     "name": "stderr",
     "output_type": "stream",
     "text": [
      "INFO:cmdstanpy:Chain [3] done processing\n",
      "INFO:cmdstanpy:Chain [1] done processing\n",
      "INFO:cmdstanpy:Chain [4] done processing\n",
      "INFO:cmdstanpy:Chain [2] done processing\n",
      "INFO:cmdstanpy:found newer exe file, not recompiling\n",
      "INFO:cmdstanpy:found newer exe file, not recompiling\n",
      "INFO:cmdstanpy:CmdStan start procesing\n",
      "INFO:cmdstanpy:Chain [1] start processing\n",
      "INFO:cmdstanpy:Chain [2] start processing\n",
      "INFO:cmdstanpy:Chain [3] start processing\n",
      "INFO:cmdstanpy:Chain [4] start processing\n"
     ]
    },
    {
     "name": "stdout",
     "output_type": "stream",
     "text": [
      "Fitting toy MC bin no.785\n",
      "0.9499368686868687\n",
      "396 305\n"
     ]
    },
    {
     "name": "stderr",
     "output_type": "stream",
     "text": [
      "INFO:cmdstanpy:Chain [2] done processing\n",
      "INFO:cmdstanpy:Chain [1] done processing\n",
      "INFO:cmdstanpy:Chain [3] done processing\n",
      "INFO:cmdstanpy:Chain [4] done processing\n",
      "INFO:cmdstanpy:found newer exe file, not recompiling\n",
      "INFO:cmdstanpy:found newer exe file, not recompiling\n",
      "INFO:cmdstanpy:CmdStan start procesing\n",
      "INFO:cmdstanpy:Chain [1] start processing\n",
      "INFO:cmdstanpy:Chain [2] start processing\n",
      "INFO:cmdstanpy:Chain [3] start processing\n",
      "INFO:cmdstanpy:Chain [4] start processing\n"
     ]
    },
    {
     "name": "stdout",
     "output_type": "stream",
     "text": [
      "Fitting toy MC bin no.786\n",
      "0.9499425287356322\n",
      "435 335\n"
     ]
    },
    {
     "name": "stderr",
     "output_type": "stream",
     "text": [
      "INFO:cmdstanpy:Chain [2] done processing\n",
      "INFO:cmdstanpy:Chain [3] done processing\n",
      "INFO:cmdstanpy:Chain [1] done processing\n",
      "INFO:cmdstanpy:Chain [4] done processing\n",
      "INFO:cmdstanpy:found newer exe file, not recompiling\n",
      "INFO:cmdstanpy:found newer exe file, not recompiling\n",
      "INFO:cmdstanpy:CmdStan start procesing\n",
      "INFO:cmdstanpy:Chain [1] start processing\n",
      "INFO:cmdstanpy:Chain [2] start processing\n",
      "INFO:cmdstanpy:Chain [3] start processing\n",
      "INFO:cmdstanpy:Chain [4] start processing\n"
     ]
    },
    {
     "name": "stdout",
     "output_type": "stream",
     "text": [
      "Fitting toy MC bin no.787\n",
      "0.9499388753056234\n",
      "409 315\n"
     ]
    },
    {
     "name": "stderr",
     "output_type": "stream",
     "text": [
      "INFO:cmdstanpy:Chain [3] done processing\n",
      "INFO:cmdstanpy:Chain [4] done processing\n",
      "INFO:cmdstanpy:Chain [1] done processing\n",
      "INFO:cmdstanpy:Chain [2] done processing\n",
      "INFO:cmdstanpy:found newer exe file, not recompiling\n",
      "INFO:cmdstanpy:found newer exe file, not recompiling\n",
      "INFO:cmdstanpy:CmdStan start procesing\n",
      "INFO:cmdstanpy:Chain [1] start processing\n",
      "INFO:cmdstanpy:Chain [2] start processing\n",
      "INFO:cmdstanpy:Chain [3] start processing\n",
      "INFO:cmdstanpy:Chain [4] start processing\n"
     ]
    },
    {
     "name": "stdout",
     "output_type": "stream",
     "text": [
      "Fitting toy MC bin no.788\n",
      "0.9498756218905473\n",
      "402 310\n"
     ]
    },
    {
     "name": "stderr",
     "output_type": "stream",
     "text": [
      "INFO:cmdstanpy:Chain [2] done processing\n",
      "INFO:cmdstanpy:Chain [4] done processing\n",
      "INFO:cmdstanpy:Chain [3] done processing\n",
      "INFO:cmdstanpy:Chain [1] done processing\n",
      "INFO:cmdstanpy:found newer exe file, not recompiling\n",
      "INFO:cmdstanpy:found newer exe file, not recompiling\n",
      "INFO:cmdstanpy:CmdStan start procesing\n",
      "INFO:cmdstanpy:Chain [1] start processing\n",
      "INFO:cmdstanpy:Chain [2] start processing\n",
      "INFO:cmdstanpy:Chain [3] start processing\n",
      "INFO:cmdstanpy:Chain [4] start processing\n"
     ]
    },
    {
     "name": "stdout",
     "output_type": "stream",
     "text": [
      "Fitting toy MC bin no.789\n",
      "0.9498702830188679\n",
      "424 327\n"
     ]
    },
    {
     "name": "stderr",
     "output_type": "stream",
     "text": [
      "INFO:cmdstanpy:Chain [3] done processing\n",
      "INFO:cmdstanpy:Chain [2] done processing\n",
      "INFO:cmdstanpy:Chain [1] done processing\n",
      "INFO:cmdstanpy:Chain [4] done processing\n",
      "INFO:cmdstanpy:found newer exe file, not recompiling\n",
      "INFO:cmdstanpy:found newer exe file, not recompiling\n",
      "INFO:cmdstanpy:CmdStan start procesing\n",
      "INFO:cmdstanpy:Chain [1] start processing\n",
      "INFO:cmdstanpy:Chain [2] start processing\n",
      "INFO:cmdstanpy:Chain [3] start processing\n",
      "INFO:cmdstanpy:Chain [4] start processing\n"
     ]
    },
    {
     "name": "stdout",
     "output_type": "stream",
     "text": [
      "Fitting toy MC bin no.790\n",
      "0.949934725848564\n",
      "383 295\n"
     ]
    },
    {
     "name": "stderr",
     "output_type": "stream",
     "text": [
      "INFO:cmdstanpy:Chain [2] done processing\n",
      "INFO:cmdstanpy:Chain [3] done processing\n",
      "INFO:cmdstanpy:Chain [4] done processing\n",
      "INFO:cmdstanpy:Chain [1] done processing\n",
      "INFO:cmdstanpy:found newer exe file, not recompiling\n",
      "INFO:cmdstanpy:found newer exe file, not recompiling\n",
      "INFO:cmdstanpy:CmdStan start procesing\n",
      "INFO:cmdstanpy:Chain [1] start processing\n",
      "INFO:cmdstanpy:Chain [2] start processing\n",
      "INFO:cmdstanpy:Chain [3] start processing\n",
      "INFO:cmdstanpy:Chain [4] start processing\n"
     ]
    },
    {
     "name": "stdout",
     "output_type": "stream",
     "text": [
      "Fitting toy MC bin no.791\n",
      "0.9498369565217392\n",
      "368 284\n"
     ]
    },
    {
     "name": "stderr",
     "output_type": "stream",
     "text": [
      "INFO:cmdstanpy:Chain [4] done processing\n",
      "INFO:cmdstanpy:Chain [3] done processing\n",
      "INFO:cmdstanpy:Chain [1] done processing\n",
      "INFO:cmdstanpy:Chain [2] done processing\n",
      "INFO:cmdstanpy:found newer exe file, not recompiling\n",
      "INFO:cmdstanpy:found newer exe file, not recompiling\n",
      "INFO:cmdstanpy:CmdStan start procesing\n",
      "INFO:cmdstanpy:Chain [1] start processing\n",
      "INFO:cmdstanpy:Chain [2] start processing\n",
      "INFO:cmdstanpy:Chain [3] start processing\n",
      "INFO:cmdstanpy:Chain [4] start processing\n"
     ]
    },
    {
     "name": "stdout",
     "output_type": "stream",
     "text": [
      "Fitting toy MC bin no.792\n",
      "0.9498333333333333\n",
      "390 301\n"
     ]
    },
    {
     "name": "stderr",
     "output_type": "stream",
     "text": [
      "INFO:cmdstanpy:Chain [2] done processing\n",
      "INFO:cmdstanpy:Chain [4] done processing\n",
      "INFO:cmdstanpy:Chain [3] done processing\n",
      "INFO:cmdstanpy:Chain [1] done processing\n",
      "INFO:cmdstanpy:found newer exe file, not recompiling\n",
      "INFO:cmdstanpy:found newer exe file, not recompiling\n",
      "INFO:cmdstanpy:CmdStan start procesing\n",
      "INFO:cmdstanpy:Chain [1] start processing\n",
      "INFO:cmdstanpy:Chain [2] start processing\n",
      "INFO:cmdstanpy:Chain [3] start processing\n",
      "INFO:cmdstanpy:Chain [4] start processing\n"
     ]
    },
    {
     "name": "stdout",
     "output_type": "stream",
     "text": [
      "Fitting toy MC bin no.793\n",
      "0.9500544959128066\n",
      "367 282\n"
     ]
    },
    {
     "name": "stderr",
     "output_type": "stream",
     "text": [
      "INFO:cmdstanpy:Chain [1] done processing\n",
      "INFO:cmdstanpy:Chain [3] done processing\n",
      "INFO:cmdstanpy:Chain [2] done processing\n",
      "INFO:cmdstanpy:Chain [4] done processing\n",
      "INFO:cmdstanpy:found newer exe file, not recompiling\n",
      "INFO:cmdstanpy:found newer exe file, not recompiling\n",
      "INFO:cmdstanpy:CmdStan start procesing\n",
      "INFO:cmdstanpy:Chain [1] start processing\n",
      "INFO:cmdstanpy:Chain [2] start processing\n",
      "INFO:cmdstanpy:Chain [3] start processing\n",
      "INFO:cmdstanpy:Chain [4] start processing\n"
     ]
    },
    {
     "name": "stdout",
     "output_type": "stream",
     "text": [
      "Fitting toy MC bin no.794\n",
      "0.9499515738498789\n",
      "413 318\n"
     ]
    },
    {
     "name": "stderr",
     "output_type": "stream",
     "text": [
      "INFO:cmdstanpy:Chain [2] done processing\n",
      "INFO:cmdstanpy:Chain [1] done processing\n",
      "INFO:cmdstanpy:Chain [3] done processing\n",
      "INFO:cmdstanpy:Chain [4] done processing\n",
      "INFO:cmdstanpy:found newer exe file, not recompiling\n",
      "INFO:cmdstanpy:found newer exe file, not recompiling\n",
      "INFO:cmdstanpy:CmdStan start procesing\n",
      "INFO:cmdstanpy:Chain [1] start processing\n",
      "INFO:cmdstanpy:Chain [2] start processing\n",
      "INFO:cmdstanpy:Chain [3] start processing\n",
      "INFO:cmdstanpy:Chain [4] start processing\n"
     ]
    },
    {
     "name": "stdout",
     "output_type": "stream",
     "text": [
      "Fitting toy MC bin no.795\n",
      "0.9499388753056234\n",
      "409 315\n"
     ]
    },
    {
     "name": "stderr",
     "output_type": "stream",
     "text": [
      "INFO:cmdstanpy:Chain [3] done processing\n",
      "INFO:cmdstanpy:Chain [1] done processing\n",
      "INFO:cmdstanpy:Chain [4] done processing\n",
      "INFO:cmdstanpy:Chain [2] done processing\n",
      "INFO:cmdstanpy:found newer exe file, not recompiling\n",
      "INFO:cmdstanpy:found newer exe file, not recompiling\n",
      "INFO:cmdstanpy:CmdStan start procesing\n",
      "INFO:cmdstanpy:Chain [1] start processing\n",
      "INFO:cmdstanpy:Chain [2] start processing\n",
      "INFO:cmdstanpy:Chain [3] start processing\n",
      "INFO:cmdstanpy:Chain [4] start processing\n"
     ]
    },
    {
     "name": "stdout",
     "output_type": "stream",
     "text": [
      "Fitting toy MC bin no.796\n",
      "0.9498958333333333\n",
      "384 296\n"
     ]
    },
    {
     "name": "stderr",
     "output_type": "stream",
     "text": [
      "INFO:cmdstanpy:Chain [4] done processing\n",
      "INFO:cmdstanpy:Chain [3] done processing\n",
      "INFO:cmdstanpy:Chain [2] done processing\n",
      "INFO:cmdstanpy:Chain [1] done processing\n",
      "INFO:cmdstanpy:found newer exe file, not recompiling\n",
      "INFO:cmdstanpy:found newer exe file, not recompiling\n",
      "INFO:cmdstanpy:CmdStan start procesing\n",
      "INFO:cmdstanpy:Chain [1] start processing\n",
      "INFO:cmdstanpy:Chain [2] start processing\n",
      "INFO:cmdstanpy:Chain [3] start processing\n",
      "INFO:cmdstanpy:Chain [4] start processing\n"
     ]
    },
    {
     "name": "stdout",
     "output_type": "stream",
     "text": [
      "Fitting toy MC bin no.797\n",
      "0.9498756218905473\n",
      "402 310\n"
     ]
    },
    {
     "name": "stderr",
     "output_type": "stream",
     "text": [
      "INFO:cmdstanpy:Chain [1] done processing\n",
      "INFO:cmdstanpy:Chain [4] done processing\n",
      "INFO:cmdstanpy:Chain [2] done processing\n",
      "INFO:cmdstanpy:Chain [3] done processing\n",
      "INFO:cmdstanpy:found newer exe file, not recompiling\n",
      "INFO:cmdstanpy:found newer exe file, not recompiling\n",
      "INFO:cmdstanpy:CmdStan start procesing\n",
      "INFO:cmdstanpy:Chain [1] start processing\n",
      "INFO:cmdstanpy:Chain [2] start processing\n",
      "INFO:cmdstanpy:Chain [3] start processing\n",
      "INFO:cmdstanpy:Chain [4] start processing\n"
     ]
    },
    {
     "name": "stdout",
     "output_type": "stream",
     "text": [
      "Fitting toy MC bin no.798\n",
      "0.95001269035533\n",
      "394 303\n"
     ]
    },
    {
     "name": "stderr",
     "output_type": "stream",
     "text": [
      "INFO:cmdstanpy:Chain [4] done processing\n",
      "INFO:cmdstanpy:Chain [3] done processing\n",
      "INFO:cmdstanpy:Chain [2] done processing\n",
      "INFO:cmdstanpy:Chain [1] done processing\n",
      "INFO:cmdstanpy:found newer exe file, not recompiling\n",
      "INFO:cmdstanpy:found newer exe file, not recompiling\n",
      "INFO:cmdstanpy:CmdStan start procesing\n",
      "INFO:cmdstanpy:Chain [1] start processing\n",
      "INFO:cmdstanpy:Chain [2] start processing\n",
      "INFO:cmdstanpy:Chain [3] start processing\n",
      "INFO:cmdstanpy:Chain [4] start processing\n"
     ]
    },
    {
     "name": "stdout",
     "output_type": "stream",
     "text": [
      "Fitting toy MC bin no.799\n",
      "0.9498101265822785\n",
      "395 305\n"
     ]
    },
    {
     "name": "stderr",
     "output_type": "stream",
     "text": [
      "INFO:cmdstanpy:Chain [4] done processing\n",
      "INFO:cmdstanpy:Chain [2] done processing\n",
      "INFO:cmdstanpy:Chain [1] done processing\n",
      "INFO:cmdstanpy:Chain [3] done processing\n",
      "INFO:cmdstanpy:found newer exe file, not recompiling\n",
      "INFO:cmdstanpy:found newer exe file, not recompiling\n",
      "INFO:cmdstanpy:CmdStan start procesing\n",
      "INFO:cmdstanpy:Chain [1] start processing\n",
      "INFO:cmdstanpy:Chain [2] start processing\n",
      "INFO:cmdstanpy:Chain [3] start processing\n",
      "INFO:cmdstanpy:Chain [4] start processing\n"
     ]
    },
    {
     "name": "stdout",
     "output_type": "stream",
     "text": [
      "Fitting toy MC bin no.800\n",
      "0.949925925925926\n",
      "405 312\n"
     ]
    },
    {
     "name": "stderr",
     "output_type": "stream",
     "text": [
      "INFO:cmdstanpy:Chain [1] done processing\n",
      "INFO:cmdstanpy:Chain [3] done processing\n",
      "INFO:cmdstanpy:Chain [4] done processing\n",
      "INFO:cmdstanpy:Chain [2] done processing\n",
      "INFO:cmdstanpy:found newer exe file, not recompiling\n",
      "INFO:cmdstanpy:found newer exe file, not recompiling\n",
      "INFO:cmdstanpy:CmdStan start procesing\n",
      "INFO:cmdstanpy:Chain [1] start processing\n",
      "INFO:cmdstanpy:Chain [2] start processing\n",
      "INFO:cmdstanpy:Chain [3] start processing\n",
      "INFO:cmdstanpy:Chain [4] start processing\n"
     ]
    },
    {
     "name": "stdout",
     "output_type": "stream",
     "text": [
      "Fitting toy MC bin no.801\n",
      "0.9500629722921915\n",
      "397 305\n"
     ]
    },
    {
     "name": "stderr",
     "output_type": "stream",
     "text": [
      "INFO:cmdstanpy:Chain [2] done processing\n",
      "INFO:cmdstanpy:Chain [1] done processing\n",
      "INFO:cmdstanpy:Chain [4] done processing\n",
      "INFO:cmdstanpy:Chain [3] done processing\n",
      "INFO:cmdstanpy:found newer exe file, not recompiling\n",
      "INFO:cmdstanpy:found newer exe file, not recompiling\n",
      "INFO:cmdstanpy:CmdStan start procesing\n",
      "INFO:cmdstanpy:Chain [1] start processing\n",
      "INFO:cmdstanpy:Chain [2] start processing\n",
      "INFO:cmdstanpy:Chain [3] start processing\n",
      "INFO:cmdstanpy:Chain [4] start processing\n"
     ]
    },
    {
     "name": "stdout",
     "output_type": "stream",
     "text": [
      "Fitting toy MC bin no.802\n",
      "0.9499878640776699\n",
      "412 317\n"
     ]
    },
    {
     "name": "stderr",
     "output_type": "stream",
     "text": [
      "INFO:cmdstanpy:Chain [1] done processing\n",
      "INFO:cmdstanpy:Chain [2] done processing\n",
      "INFO:cmdstanpy:Chain [4] done processing\n",
      "INFO:cmdstanpy:Chain [3] done processing\n",
      "INFO:cmdstanpy:found newer exe file, not recompiling\n",
      "INFO:cmdstanpy:found newer exe file, not recompiling\n",
      "INFO:cmdstanpy:CmdStan start procesing\n",
      "INFO:cmdstanpy:Chain [1] start processing\n",
      "INFO:cmdstanpy:Chain [2] start processing\n",
      "INFO:cmdstanpy:Chain [3] start processing\n",
      "INFO:cmdstanpy:Chain [4] start processing\n"
     ]
    },
    {
     "name": "stdout",
     "output_type": "stream",
     "text": [
      "Fitting toy MC bin no.803\n",
      "0.9499303944315546\n",
      "431 332\n"
     ]
    },
    {
     "name": "stderr",
     "output_type": "stream",
     "text": [
      "INFO:cmdstanpy:Chain [2] done processing\n",
      "INFO:cmdstanpy:Chain [3] done processing\n",
      "INFO:cmdstanpy:Chain [1] done processing\n",
      "INFO:cmdstanpy:Chain [4] done processing\n",
      "INFO:cmdstanpy:found newer exe file, not recompiling\n",
      "INFO:cmdstanpy:found newer exe file, not recompiling\n",
      "INFO:cmdstanpy:CmdStan start procesing\n",
      "INFO:cmdstanpy:Chain [1] start processing\n",
      "INFO:cmdstanpy:Chain [2] start processing\n",
      "INFO:cmdstanpy:Chain [3] start processing\n",
      "INFO:cmdstanpy:Chain [4] start processing\n"
     ]
    },
    {
     "name": "stdout",
     "output_type": "stream",
     "text": [
      "Fitting toy MC bin no.804\n",
      "0.9497941888619854\n",
      "413 319\n"
     ]
    },
    {
     "name": "stderr",
     "output_type": "stream",
     "text": [
      "INFO:cmdstanpy:Chain [1] done processing\n",
      "INFO:cmdstanpy:Chain [4] done processing\n",
      "INFO:cmdstanpy:Chain [3] done processing\n",
      "INFO:cmdstanpy:Chain [2] done processing\n",
      "INFO:cmdstanpy:found newer exe file, not recompiling\n",
      "INFO:cmdstanpy:found newer exe file, not recompiling\n",
      "INFO:cmdstanpy:CmdStan start procesing\n",
      "INFO:cmdstanpy:Chain [1] start processing\n",
      "INFO:cmdstanpy:Chain [2] start processing\n",
      "INFO:cmdstanpy:Chain [3] start processing\n",
      "INFO:cmdstanpy:Chain [4] start processing\n"
     ]
    },
    {
     "name": "stdout",
     "output_type": "stream",
     "text": [
      "Fitting toy MC bin no.805\n",
      "0.950012285012285\n",
      "407 313\n"
     ]
    },
    {
     "name": "stderr",
     "output_type": "stream",
     "text": [
      "INFO:cmdstanpy:Chain [1] done processing\n",
      "INFO:cmdstanpy:Chain [4] done processing\n",
      "INFO:cmdstanpy:Chain [2] done processing\n",
      "INFO:cmdstanpy:Chain [3] done processing\n",
      "INFO:cmdstanpy:found newer exe file, not recompiling\n",
      "INFO:cmdstanpy:found newer exe file, not recompiling\n",
      "INFO:cmdstanpy:CmdStan start procesing\n",
      "INFO:cmdstanpy:Chain [1] start processing\n",
      "INFO:cmdstanpy:Chain [2] start processing\n",
      "INFO:cmdstanpy:Chain [3] start processing\n",
      "INFO:cmdstanpy:Chain [4] start processing\n"
     ]
    },
    {
     "name": "stdout",
     "output_type": "stream",
     "text": [
      "Fitting toy MC bin no.806\n",
      "0.9499282296650717\n",
      "418 322\n"
     ]
    },
    {
     "name": "stderr",
     "output_type": "stream",
     "text": [
      "INFO:cmdstanpy:Chain [2] done processing\n",
      "INFO:cmdstanpy:Chain [1] done processing\n",
      "INFO:cmdstanpy:Chain [4] done processing\n",
      "INFO:cmdstanpy:Chain [3] done processing\n",
      "INFO:cmdstanpy:found newer exe file, not recompiling\n",
      "INFO:cmdstanpy:found newer exe file, not recompiling\n",
      "INFO:cmdstanpy:CmdStan start procesing\n",
      "INFO:cmdstanpy:Chain [1] start processing\n",
      "INFO:cmdstanpy:Chain [2] start processing\n",
      "INFO:cmdstanpy:Chain [3] start processing\n",
      "INFO:cmdstanpy:Chain [4] start processing\n"
     ]
    },
    {
     "name": "stdout",
     "output_type": "stream",
     "text": [
      "Fitting toy MC bin no.807\n",
      "0.949946524064171\n",
      "374 288\n"
     ]
    },
    {
     "name": "stderr",
     "output_type": "stream",
     "text": [
      "INFO:cmdstanpy:Chain [1] done processing\n",
      "INFO:cmdstanpy:Chain [2] done processing\n",
      "INFO:cmdstanpy:Chain [4] done processing\n",
      "INFO:cmdstanpy:Chain [3] done processing\n",
      "INFO:cmdstanpy:found newer exe file, not recompiling\n",
      "INFO:cmdstanpy:found newer exe file, not recompiling\n",
      "INFO:cmdstanpy:CmdStan start procesing\n",
      "INFO:cmdstanpy:Chain [1] start processing\n",
      "INFO:cmdstanpy:Chain [2] start processing\n",
      "INFO:cmdstanpy:Chain [3] start processing\n",
      "INFO:cmdstanpy:Chain [4] start processing\n"
     ]
    },
    {
     "name": "stdout",
     "output_type": "stream",
     "text": [
      "Fitting toy MC bin no.808\n",
      "0.950132275132275\n",
      "378 290\n"
     ]
    },
    {
     "name": "stderr",
     "output_type": "stream",
     "text": [
      "INFO:cmdstanpy:Chain [3] done processing\n",
      "INFO:cmdstanpy:Chain [2] done processing\n",
      "INFO:cmdstanpy:Chain [4] done processing\n",
      "INFO:cmdstanpy:Chain [1] done processing\n",
      "INFO:cmdstanpy:found newer exe file, not recompiling\n",
      "INFO:cmdstanpy:found newer exe file, not recompiling\n",
      "INFO:cmdstanpy:CmdStan start procesing\n",
      "INFO:cmdstanpy:Chain [1] start processing\n",
      "INFO:cmdstanpy:Chain [2] start processing\n",
      "INFO:cmdstanpy:Chain [3] start processing\n",
      "INFO:cmdstanpy:Chain [4] start processing\n"
     ]
    },
    {
     "name": "stdout",
     "output_type": "stream",
     "text": [
      "Fitting toy MC bin no.809\n",
      "0.9498300970873786\n",
      "412 318\n"
     ]
    },
    {
     "name": "stderr",
     "output_type": "stream",
     "text": [
      "INFO:cmdstanpy:Chain [3] done processing\n",
      "INFO:cmdstanpy:Chain [2] done processing\n",
      "INFO:cmdstanpy:Chain [4] done processing\n",
      "INFO:cmdstanpy:Chain [1] done processing\n",
      "INFO:cmdstanpy:found newer exe file, not recompiling\n",
      "INFO:cmdstanpy:found newer exe file, not recompiling\n",
      "INFO:cmdstanpy:CmdStan start procesing\n",
      "INFO:cmdstanpy:Chain [1] start processing\n",
      "INFO:cmdstanpy:Chain [2] start processing\n",
      "INFO:cmdstanpy:Chain [3] start processing\n",
      "INFO:cmdstanpy:Chain [4] start processing\n"
     ]
    },
    {
     "name": "stdout",
     "output_type": "stream",
     "text": [
      "Fitting toy MC bin no.810\n",
      "0.9498958333333334\n",
      "432 333\n"
     ]
    },
    {
     "name": "stderr",
     "output_type": "stream",
     "text": [
      "INFO:cmdstanpy:Chain [3] done processing\n",
      "INFO:cmdstanpy:Chain [2] done processing\n",
      "INFO:cmdstanpy:Chain [4] done processing\n",
      "INFO:cmdstanpy:Chain [1] done processing\n",
      "INFO:cmdstanpy:found newer exe file, not recompiling\n",
      "INFO:cmdstanpy:found newer exe file, not recompiling\n",
      "INFO:cmdstanpy:CmdStan start procesing\n",
      "INFO:cmdstanpy:Chain [1] start processing\n",
      "INFO:cmdstanpy:Chain [2] start processing\n",
      "INFO:cmdstanpy:Chain [3] start processing\n",
      "INFO:cmdstanpy:Chain [4] start processing\n"
     ]
    },
    {
     "name": "stdout",
     "output_type": "stream",
     "text": [
      "Fitting toy MC bin no.811\n",
      "0.9501369863013699\n",
      "438 336\n"
     ]
    },
    {
     "name": "stderr",
     "output_type": "stream",
     "text": [
      "INFO:cmdstanpy:Chain [2] done processing\n",
      "INFO:cmdstanpy:Chain [3] done processing\n",
      "INFO:cmdstanpy:Chain [4] done processing\n",
      "INFO:cmdstanpy:Chain [1] done processing\n",
      "INFO:cmdstanpy:found newer exe file, not recompiling\n",
      "INFO:cmdstanpy:found newer exe file, not recompiling\n",
      "INFO:cmdstanpy:CmdStan start procesing\n",
      "INFO:cmdstanpy:Chain [1] start processing\n",
      "INFO:cmdstanpy:Chain [2] start processing\n",
      "INFO:cmdstanpy:Chain [3] start processing\n",
      "INFO:cmdstanpy:Chain [4] start processing\n"
     ]
    },
    {
     "name": "stdout",
     "output_type": "stream",
     "text": [
      "Fitting toy MC bin no.812\n",
      "0.9498271889400922\n",
      "434 335\n"
     ]
    },
    {
     "name": "stderr",
     "output_type": "stream",
     "text": [
      "INFO:cmdstanpy:Chain [1] done processing\n",
      "INFO:cmdstanpy:Chain [3] done processing\n",
      "INFO:cmdstanpy:Chain [4] done processing\n",
      "INFO:cmdstanpy:Chain [2] done processing\n",
      "INFO:cmdstanpy:found newer exe file, not recompiling\n",
      "INFO:cmdstanpy:found newer exe file, not recompiling\n",
      "INFO:cmdstanpy:CmdStan start procesing\n",
      "INFO:cmdstanpy:Chain [1] start processing\n",
      "INFO:cmdstanpy:Chain [2] start processing\n",
      "INFO:cmdstanpy:Chain [3] start processing\n",
      "INFO:cmdstanpy:Chain [4] start processing\n"
     ]
    },
    {
     "name": "stdout",
     "output_type": "stream",
     "text": [
      "Fitting toy MC bin no.813\n",
      "0.9500492610837439\n",
      "406 312\n"
     ]
    },
    {
     "name": "stderr",
     "output_type": "stream",
     "text": [
      "INFO:cmdstanpy:Chain [2] done processing\n",
      "INFO:cmdstanpy:Chain [1] done processing\n",
      "INFO:cmdstanpy:Chain [3] done processing\n",
      "INFO:cmdstanpy:Chain [4] done processing\n",
      "INFO:cmdstanpy:found newer exe file, not recompiling\n",
      "INFO:cmdstanpy:found newer exe file, not recompiling\n",
      "INFO:cmdstanpy:CmdStan start procesing\n",
      "INFO:cmdstanpy:Chain [1] start processing\n",
      "INFO:cmdstanpy:Chain [2] start processing\n",
      "INFO:cmdstanpy:Chain [3] start processing\n",
      "INFO:cmdstanpy:Chain [4] start processing\n"
     ]
    },
    {
     "name": "stdout",
     "output_type": "stream",
     "text": [
      "Fitting toy MC bin no.814\n",
      "0.9498702830188679\n",
      "424 327\n"
     ]
    },
    {
     "name": "stderr",
     "output_type": "stream",
     "text": [
      "INFO:cmdstanpy:Chain [4] done processing\n",
      "INFO:cmdstanpy:Chain [3] done processing\n",
      "INFO:cmdstanpy:Chain [2] done processing\n",
      "INFO:cmdstanpy:Chain [1] done processing\n",
      "INFO:cmdstanpy:found newer exe file, not recompiling\n",
      "INFO:cmdstanpy:found newer exe file, not recompiling\n",
      "INFO:cmdstanpy:CmdStan start procesing\n",
      "INFO:cmdstanpy:Chain [1] start processing\n",
      "INFO:cmdstanpy:Chain [2] start processing\n",
      "INFO:cmdstanpy:Chain [3] start processing\n",
      "INFO:cmdstanpy:Chain [4] start processing\n"
     ]
    },
    {
     "name": "stdout",
     "output_type": "stream",
     "text": [
      "Fitting toy MC bin no.815\n",
      "0.9499728997289973\n",
      "369 284\n"
     ]
    },
    {
     "name": "stderr",
     "output_type": "stream",
     "text": [
      "INFO:cmdstanpy:Chain [2] done processing\n",
      "INFO:cmdstanpy:Chain [1] done processing\n",
      "INFO:cmdstanpy:Chain [3] done processing\n",
      "INFO:cmdstanpy:Chain [4] done processing\n",
      "INFO:cmdstanpy:found newer exe file, not recompiling\n",
      "INFO:cmdstanpy:found newer exe file, not recompiling\n",
      "INFO:cmdstanpy:CmdStan start procesing\n",
      "INFO:cmdstanpy:Chain [1] start processing\n",
      "INFO:cmdstanpy:Chain [2] start processing\n",
      "INFO:cmdstanpy:Chain [3] start processing\n",
      "INFO:cmdstanpy:Chain [4] start processing\n"
     ]
    },
    {
     "name": "stdout",
     "output_type": "stream",
     "text": [
      "Fitting toy MC bin no.816\n",
      "0.9499603174603174\n",
      "378 291\n"
     ]
    },
    {
     "name": "stderr",
     "output_type": "stream",
     "text": [
      "INFO:cmdstanpy:Chain [1] done processing\n",
      "INFO:cmdstanpy:Chain [2] done processing\n",
      "INFO:cmdstanpy:Chain [3] done processing\n",
      "INFO:cmdstanpy:Chain [4] done processing\n",
      "INFO:cmdstanpy:found newer exe file, not recompiling\n",
      "INFO:cmdstanpy:found newer exe file, not recompiling\n",
      "INFO:cmdstanpy:CmdStan start procesing\n",
      "INFO:cmdstanpy:Chain [1] start processing\n",
      "INFO:cmdstanpy:Chain [2] start processing\n",
      "INFO:cmdstanpy:Chain [3] start processing\n",
      "INFO:cmdstanpy:Chain [4] start processing\n"
     ]
    },
    {
     "name": "stdout",
     "output_type": "stream",
     "text": [
      "Fitting toy MC bin no.817\n",
      "0.9498387096774195\n",
      "403 311\n"
     ]
    },
    {
     "name": "stderr",
     "output_type": "stream",
     "text": [
      "INFO:cmdstanpy:Chain [2] done processing\n",
      "INFO:cmdstanpy:Chain [3] done processing\n",
      "INFO:cmdstanpy:Chain [1] done processing\n",
      "INFO:cmdstanpy:Chain [4] done processing\n",
      "INFO:cmdstanpy:found newer exe file, not recompiling\n",
      "INFO:cmdstanpy:found newer exe file, not recompiling\n",
      "INFO:cmdstanpy:CmdStan start procesing\n",
      "INFO:cmdstanpy:Chain [1] start processing\n",
      "INFO:cmdstanpy:Chain [2] start processing\n",
      "INFO:cmdstanpy:Chain [3] start processing\n",
      "INFO:cmdstanpy:Chain [4] start processing\n"
     ]
    },
    {
     "name": "stdout",
     "output_type": "stream",
     "text": [
      "Fitting toy MC bin no.818\n",
      "0.9499282296650717\n",
      "418 322\n"
     ]
    },
    {
     "name": "stderr",
     "output_type": "stream",
     "text": [
      "INFO:cmdstanpy:Chain [4] done processing\n",
      "INFO:cmdstanpy:Chain [2] done processing\n",
      "INFO:cmdstanpy:Chain [1] done processing\n",
      "INFO:cmdstanpy:Chain [3] done processing\n",
      "INFO:cmdstanpy:found newer exe file, not recompiling\n",
      "INFO:cmdstanpy:found newer exe file, not recompiling\n",
      "INFO:cmdstanpy:CmdStan start procesing\n",
      "INFO:cmdstanpy:Chain [1] start processing\n",
      "INFO:cmdstanpy:Chain [2] start processing\n",
      "INFO:cmdstanpy:Chain [3] start processing\n",
      "INFO:cmdstanpy:Chain [4] start processing\n"
     ]
    },
    {
     "name": "stdout",
     "output_type": "stream",
     "text": [
      "Fitting toy MC bin no.819\n",
      "0.9499024390243902\n",
      "410 316\n"
     ]
    },
    {
     "name": "stderr",
     "output_type": "stream",
     "text": [
      "INFO:cmdstanpy:Chain [2] done processing\n",
      "INFO:cmdstanpy:Chain [3] done processing\n",
      "INFO:cmdstanpy:Chain [1] done processing\n",
      "INFO:cmdstanpy:Chain [4] done processing\n",
      "INFO:cmdstanpy:found newer exe file, not recompiling\n",
      "INFO:cmdstanpy:found newer exe file, not recompiling\n",
      "INFO:cmdstanpy:CmdStan start procesing\n",
      "INFO:cmdstanpy:Chain [1] start processing\n",
      "INFO:cmdstanpy:Chain [2] start processing\n",
      "INFO:cmdstanpy:Chain [3] start processing\n",
      "INFO:cmdstanpy:Chain [4] start processing\n"
     ]
    },
    {
     "name": "stdout",
     "output_type": "stream",
     "text": [
      "Fitting toy MC bin no.820\n",
      "0.9498477157360407\n",
      "394 304\n"
     ]
    },
    {
     "name": "stderr",
     "output_type": "stream",
     "text": [
      "INFO:cmdstanpy:Chain [2] done processing\n",
      "INFO:cmdstanpy:Chain [3] done processing\n",
      "INFO:cmdstanpy:Chain [1] done processing\n",
      "INFO:cmdstanpy:Chain [4] done processing\n",
      "INFO:cmdstanpy:found newer exe file, not recompiling\n",
      "INFO:cmdstanpy:found newer exe file, not recompiling\n",
      "INFO:cmdstanpy:CmdStan start procesing\n",
      "INFO:cmdstanpy:Chain [1] start processing\n",
      "INFO:cmdstanpy:Chain [2] start processing\n",
      "INFO:cmdstanpy:Chain [3] start processing\n",
      "INFO:cmdstanpy:Chain [4] start processing\n"
     ]
    },
    {
     "name": "stdout",
     "output_type": "stream",
     "text": [
      "Fitting toy MC bin no.821\n",
      "0.9499388753056234\n",
      "409 315\n"
     ]
    },
    {
     "name": "stderr",
     "output_type": "stream",
     "text": [
      "INFO:cmdstanpy:Chain [4] done processing\n",
      "INFO:cmdstanpy:Chain [2] done processing\n",
      "INFO:cmdstanpy:Chain [3] done processing\n",
      "INFO:cmdstanpy:Chain [1] done processing\n",
      "INFO:cmdstanpy:found newer exe file, not recompiling\n",
      "INFO:cmdstanpy:found newer exe file, not recompiling\n",
      "INFO:cmdstanpy:CmdStan start procesing\n",
      "INFO:cmdstanpy:Chain [1] start processing\n",
      "INFO:cmdstanpy:Chain [2] start processing\n",
      "INFO:cmdstanpy:Chain [3] start processing\n",
      "INFO:cmdstanpy:Chain [4] start processing\n"
     ]
    },
    {
     "name": "stdout",
     "output_type": "stream",
     "text": [
      "Fitting toy MC bin no.822\n",
      "0.9498245614035088\n",
      "399 308\n"
     ]
    },
    {
     "name": "stderr",
     "output_type": "stream",
     "text": [
      "INFO:cmdstanpy:Chain [1] done processing\n",
      "INFO:cmdstanpy:Chain [4] done processing\n",
      "INFO:cmdstanpy:Chain [2] done processing\n",
      "INFO:cmdstanpy:Chain [3] done processing\n",
      "INFO:cmdstanpy:found newer exe file, not recompiling\n",
      "INFO:cmdstanpy:found newer exe file, not recompiling\n",
      "INFO:cmdstanpy:CmdStan start procesing\n",
      "INFO:cmdstanpy:Chain [1] start processing\n",
      "INFO:cmdstanpy:Chain [2] start processing\n",
      "INFO:cmdstanpy:Chain [3] start processing\n",
      "INFO:cmdstanpy:Chain [4] start processing\n"
     ]
    },
    {
     "name": "stdout",
     "output_type": "stream",
     "text": [
      "Fitting toy MC bin no.823\n",
      "0.9499033149171271\n",
      "362 279\n"
     ]
    },
    {
     "name": "stderr",
     "output_type": "stream",
     "text": [
      "INFO:cmdstanpy:Chain [4] done processing\n",
      "INFO:cmdstanpy:Chain [2] done processing\n",
      "INFO:cmdstanpy:Chain [1] done processing\n",
      "INFO:cmdstanpy:Chain [3] done processing\n",
      "INFO:cmdstanpy:found newer exe file, not recompiling\n",
      "INFO:cmdstanpy:found newer exe file, not recompiling\n",
      "INFO:cmdstanpy:CmdStan start procesing\n",
      "INFO:cmdstanpy:Chain [1] start processing\n",
      "INFO:cmdstanpy:Chain [2] start processing\n",
      "INFO:cmdstanpy:Chain [3] start processing\n",
      "INFO:cmdstanpy:Chain [4] start processing\n"
     ]
    },
    {
     "name": "stdout",
     "output_type": "stream",
     "text": [
      "Fitting toy MC bin no.824\n",
      "0.9498161764705881\n",
      "408 315\n"
     ]
    },
    {
     "name": "stderr",
     "output_type": "stream",
     "text": [
      "INFO:cmdstanpy:Chain [2] done processing\n",
      "INFO:cmdstanpy:Chain [4] done processing\n",
      "INFO:cmdstanpy:Chain [1] done processing\n",
      "INFO:cmdstanpy:Chain [3] done processing\n",
      "INFO:cmdstanpy:found newer exe file, not recompiling\n",
      "INFO:cmdstanpy:found newer exe file, not recompiling\n",
      "INFO:cmdstanpy:CmdStan start procesing\n",
      "INFO:cmdstanpy:Chain [1] start processing\n",
      "INFO:cmdstanpy:Chain [2] start processing\n",
      "INFO:cmdstanpy:Chain [3] start processing\n",
      "INFO:cmdstanpy:Chain [4] start processing\n"
     ]
    },
    {
     "name": "stdout",
     "output_type": "stream",
     "text": [
      "Fitting toy MC bin no.825\n",
      "0.9498921832884097\n",
      "371 286\n"
     ]
    },
    {
     "name": "stderr",
     "output_type": "stream",
     "text": [
      "INFO:cmdstanpy:Chain [1] done processing\n",
      "INFO:cmdstanpy:Chain [2] done processing\n",
      "INFO:cmdstanpy:Chain [4] done processing\n",
      "INFO:cmdstanpy:Chain [3] done processing\n",
      "INFO:cmdstanpy:found newer exe file, not recompiling\n",
      "INFO:cmdstanpy:found newer exe file, not recompiling\n",
      "INFO:cmdstanpy:CmdStan start procesing\n",
      "INFO:cmdstanpy:Chain [1] start processing\n",
      "INFO:cmdstanpy:Chain [2] start processing\n",
      "INFO:cmdstanpy:Chain [3] start processing\n",
      "INFO:cmdstanpy:Chain [4] start processing\n"
     ]
    },
    {
     "name": "stdout",
     "output_type": "stream",
     "text": [
      "Fitting toy MC bin no.826\n",
      "0.9498854961832062\n",
      "393 303\n"
     ]
    },
    {
     "name": "stderr",
     "output_type": "stream",
     "text": [
      "INFO:cmdstanpy:Chain [1] done processing\n",
      "INFO:cmdstanpy:Chain [4] done processing\n",
      "INFO:cmdstanpy:Chain [3] done processing\n",
      "INFO:cmdstanpy:Chain [2] done processing\n",
      "INFO:cmdstanpy:found newer exe file, not recompiling\n",
      "INFO:cmdstanpy:found newer exe file, not recompiling\n",
      "INFO:cmdstanpy:CmdStan start procesing\n",
      "INFO:cmdstanpy:Chain [1] start processing\n",
      "INFO:cmdstanpy:Chain [2] start processing\n",
      "INFO:cmdstanpy:Chain [3] start processing\n",
      "INFO:cmdstanpy:Chain [4] start processing\n"
     ]
    },
    {
     "name": "stdout",
     "output_type": "stream",
     "text": [
      "Fitting toy MC bin no.827\n",
      "0.9499754901960784\n",
      "408 314\n"
     ]
    },
    {
     "name": "stderr",
     "output_type": "stream",
     "text": [
      "INFO:cmdstanpy:Chain [3] done processing\n",
      "INFO:cmdstanpy:Chain [4] done processing\n",
      "INFO:cmdstanpy:Chain [1] done processing\n",
      "INFO:cmdstanpy:Chain [2] done processing\n",
      "INFO:cmdstanpy:found newer exe file, not recompiling\n",
      "INFO:cmdstanpy:found newer exe file, not recompiling\n",
      "INFO:cmdstanpy:CmdStan start procesing\n",
      "INFO:cmdstanpy:Chain [1] start processing\n",
      "INFO:cmdstanpy:Chain [2] start processing\n",
      "INFO:cmdstanpy:Chain [3] start processing\n",
      "INFO:cmdstanpy:Chain [4] start processing\n"
     ]
    },
    {
     "name": "stdout",
     "output_type": "stream",
     "text": [
      "Fitting toy MC bin no.828\n",
      "0.9498618090452262\n",
      "398 307\n"
     ]
    },
    {
     "name": "stderr",
     "output_type": "stream",
     "text": [
      "INFO:cmdstanpy:Chain [1] done processing\n",
      "INFO:cmdstanpy:Chain [4] done processing\n",
      "INFO:cmdstanpy:Chain [2] done processing\n",
      "INFO:cmdstanpy:Chain [3] done processing\n",
      "INFO:cmdstanpy:found newer exe file, not recompiling\n",
      "INFO:cmdstanpy:found newer exe file, not recompiling\n",
      "INFO:cmdstanpy:CmdStan start procesing\n",
      "INFO:cmdstanpy:Chain [1] start processing\n",
      "INFO:cmdstanpy:Chain [2] start processing\n",
      "INFO:cmdstanpy:Chain [3] start processing\n",
      "INFO:cmdstanpy:Chain [4] start processing\n"
     ]
    },
    {
     "name": "stdout",
     "output_type": "stream",
     "text": [
      "Fitting toy MC bin no.829\n",
      "0.9499483204134367\n",
      "387 298\n"
     ]
    },
    {
     "name": "stderr",
     "output_type": "stream",
     "text": [
      "INFO:cmdstanpy:Chain [4] done processing\n",
      "INFO:cmdstanpy:Chain [1] done processing\n",
      "INFO:cmdstanpy:Chain [3] done processing\n",
      "INFO:cmdstanpy:Chain [2] done processing\n",
      "INFO:cmdstanpy:found newer exe file, not recompiling\n",
      "INFO:cmdstanpy:found newer exe file, not recompiling\n",
      "INFO:cmdstanpy:CmdStan start procesing\n",
      "INFO:cmdstanpy:Chain [1] start processing\n",
      "INFO:cmdstanpy:Chain [2] start processing\n",
      "INFO:cmdstanpy:Chain [3] start processing\n",
      "INFO:cmdstanpy:Chain [4] start processing\n"
     ]
    },
    {
     "name": "stdout",
     "output_type": "stream",
     "text": [
      "Fitting toy MC bin no.830\n",
      "0.9498186528497409\n",
      "386 298\n"
     ]
    },
    {
     "name": "stderr",
     "output_type": "stream",
     "text": [
      "INFO:cmdstanpy:Chain [2] done processing\n",
      "INFO:cmdstanpy:Chain [4] done processing\n",
      "INFO:cmdstanpy:Chain [1] done processing\n",
      "INFO:cmdstanpy:Chain [3] done processing\n",
      "INFO:cmdstanpy:found newer exe file, not recompiling\n",
      "INFO:cmdstanpy:found newer exe file, not recompiling\n",
      "INFO:cmdstanpy:CmdStan start procesing\n",
      "INFO:cmdstanpy:Chain [1] start processing\n",
      "INFO:cmdstanpy:Chain [2] start processing\n",
      "INFO:cmdstanpy:Chain [3] start processing\n",
      "INFO:cmdstanpy:Chain [4] start processing\n"
     ]
    },
    {
     "name": "stdout",
     "output_type": "stream",
     "text": [
      "Fitting toy MC bin no.831\n",
      "0.9500119047619048\n",
      "420 323\n"
     ]
    },
    {
     "name": "stderr",
     "output_type": "stream",
     "text": [
      "INFO:cmdstanpy:Chain [3] done processing\n",
      "INFO:cmdstanpy:Chain [4] done processing\n",
      "INFO:cmdstanpy:Chain [2] done processing\n",
      "INFO:cmdstanpy:Chain [1] done processing\n",
      "INFO:cmdstanpy:found newer exe file, not recompiling\n",
      "INFO:cmdstanpy:found newer exe file, not recompiling\n",
      "INFO:cmdstanpy:CmdStan start procesing\n",
      "INFO:cmdstanpy:Chain [1] start processing\n",
      "INFO:cmdstanpy:Chain [2] start processing\n",
      "INFO:cmdstanpy:Chain [3] start processing\n",
      "INFO:cmdstanpy:Chain [4] start processing\n"
     ]
    },
    {
     "name": "stdout",
     "output_type": "stream",
     "text": [
      "Fitting toy MC bin no.832\n",
      "0.9499628712871288\n",
      "404 311\n"
     ]
    },
    {
     "name": "stderr",
     "output_type": "stream",
     "text": [
      "INFO:cmdstanpy:Chain [2] done processing\n",
      "INFO:cmdstanpy:Chain [3] done processing\n",
      "INFO:cmdstanpy:Chain [4] done processing\n",
      "INFO:cmdstanpy:Chain [1] done processing\n",
      "INFO:cmdstanpy:found newer exe file, not recompiling\n",
      "INFO:cmdstanpy:found newer exe file, not recompiling\n",
      "INFO:cmdstanpy:CmdStan start procesing\n",
      "INFO:cmdstanpy:Chain [1] start processing\n",
      "INFO:cmdstanpy:Chain [2] start processing\n",
      "INFO:cmdstanpy:Chain [3] start processing\n",
      "INFO:cmdstanpy:Chain [4] start processing\n"
     ]
    },
    {
     "name": "stdout",
     "output_type": "stream",
     "text": [
      "Fitting toy MC bin no.833\n",
      "0.9500385604113111\n",
      "389 299\n"
     ]
    },
    {
     "name": "stderr",
     "output_type": "stream",
     "text": [
      "INFO:cmdstanpy:Chain [1] done processing\n",
      "INFO:cmdstanpy:Chain [3] done processing\n",
      "INFO:cmdstanpy:Chain [4] done processing\n",
      "INFO:cmdstanpy:Chain [2] done processing\n",
      "INFO:cmdstanpy:found newer exe file, not recompiling\n",
      "INFO:cmdstanpy:found newer exe file, not recompiling\n",
      "INFO:cmdstanpy:CmdStan start procesing\n",
      "INFO:cmdstanpy:Chain [1] start processing\n",
      "INFO:cmdstanpy:Chain [2] start processing\n",
      "INFO:cmdstanpy:Chain [3] start processing\n",
      "INFO:cmdstanpy:Chain [4] start processing\n"
     ]
    },
    {
     "name": "stdout",
     "output_type": "stream",
     "text": [
      "Fitting toy MC bin no.834\n",
      "0.9497727272727273\n",
      "396 306\n"
     ]
    },
    {
     "name": "stderr",
     "output_type": "stream",
     "text": [
      "INFO:cmdstanpy:Chain [3] done processing\n",
      "INFO:cmdstanpy:Chain [2] done processing\n",
      "INFO:cmdstanpy:Chain [4] done processing\n",
      "INFO:cmdstanpy:Chain [1] done processing\n",
      "INFO:cmdstanpy:found newer exe file, not recompiling\n",
      "INFO:cmdstanpy:found newer exe file, not recompiling\n",
      "INFO:cmdstanpy:CmdStan start procesing\n",
      "INFO:cmdstanpy:Chain [1] start processing\n",
      "INFO:cmdstanpy:Chain [2] start processing\n",
      "INFO:cmdstanpy:Chain [3] start processing\n",
      "INFO:cmdstanpy:Chain [4] start processing\n"
     ]
    },
    {
     "name": "stdout",
     "output_type": "stream",
     "text": [
      "Fitting toy MC bin no.835\n",
      "0.9500361445783132\n",
      "415 319\n"
     ]
    },
    {
     "name": "stderr",
     "output_type": "stream",
     "text": [
      "INFO:cmdstanpy:Chain [1] done processing\n",
      "INFO:cmdstanpy:Chain [4] done processing\n",
      "INFO:cmdstanpy:Chain [2] done processing\n",
      "INFO:cmdstanpy:Chain [3] done processing\n",
      "INFO:cmdstanpy:found newer exe file, not recompiling\n",
      "INFO:cmdstanpy:found newer exe file, not recompiling\n",
      "INFO:cmdstanpy:CmdStan start procesing\n",
      "INFO:cmdstanpy:Chain [1] start processing\n",
      "INFO:cmdstanpy:Chain [2] start processing\n",
      "INFO:cmdstanpy:Chain [3] start processing\n",
      "INFO:cmdstanpy:Chain [4] start processing\n"
     ]
    },
    {
     "name": "stdout",
     "output_type": "stream",
     "text": [
      "Fitting toy MC bin no.836\n",
      "0.9497867298578199\n",
      "422 326\n"
     ]
    },
    {
     "name": "stderr",
     "output_type": "stream",
     "text": [
      "INFO:cmdstanpy:Chain [4] done processing\n",
      "INFO:cmdstanpy:Chain [2] done processing\n",
      "INFO:cmdstanpy:Chain [1] done processing\n",
      "INFO:cmdstanpy:Chain [3] done processing\n",
      "INFO:cmdstanpy:found newer exe file, not recompiling\n",
      "INFO:cmdstanpy:found newer exe file, not recompiling\n",
      "INFO:cmdstanpy:CmdStan start procesing\n",
      "INFO:cmdstanpy:Chain [1] start processing\n",
      "INFO:cmdstanpy:Chain [2] start processing\n",
      "INFO:cmdstanpy:Chain [3] start processing\n",
      "INFO:cmdstanpy:Chain [4] start processing\n"
     ]
    },
    {
     "name": "stdout",
     "output_type": "stream",
     "text": [
      "Fitting toy MC bin no.837\n",
      "0.9498958333333333\n",
      "384 296\n"
     ]
    },
    {
     "name": "stderr",
     "output_type": "stream",
     "text": [
      "INFO:cmdstanpy:Chain [4] done processing\n",
      "INFO:cmdstanpy:Chain [1] done processing\n",
      "INFO:cmdstanpy:Chain [3] done processing\n",
      "INFO:cmdstanpy:Chain [2] done processing\n",
      "INFO:cmdstanpy:found newer exe file, not recompiling\n",
      "INFO:cmdstanpy:found newer exe file, not recompiling\n",
      "INFO:cmdstanpy:CmdStan start procesing\n",
      "INFO:cmdstanpy:Chain [1] start processing\n",
      "INFO:cmdstanpy:Chain [2] start processing\n",
      "INFO:cmdstanpy:Chain [3] start processing\n",
      "INFO:cmdstanpy:Chain [4] start processing\n"
     ]
    },
    {
     "name": "stdout",
     "output_type": "stream",
     "text": [
      "Fitting toy MC bin no.838\n",
      "0.94974043715847\n",
      "366 283\n"
     ]
    },
    {
     "name": "stderr",
     "output_type": "stream",
     "text": [
      "INFO:cmdstanpy:Chain [1] done processing\n",
      "INFO:cmdstanpy:Chain [2] done processing\n",
      "INFO:cmdstanpy:Chain [4] done processing\n",
      "INFO:cmdstanpy:Chain [3] done processing\n",
      "INFO:cmdstanpy:found newer exe file, not recompiling\n",
      "INFO:cmdstanpy:found newer exe file, not recompiling\n",
      "INFO:cmdstanpy:CmdStan start procesing\n",
      "INFO:cmdstanpy:Chain [1] start processing\n",
      "INFO:cmdstanpy:Chain [2] start processing\n",
      "INFO:cmdstanpy:Chain [3] start processing\n",
      "INFO:cmdstanpy:Chain [4] start processing\n"
     ]
    },
    {
     "name": "stdout",
     "output_type": "stream",
     "text": [
      "Fitting toy MC bin no.839\n",
      "0.9500651041666667\n",
      "384 295\n"
     ]
    },
    {
     "name": "stderr",
     "output_type": "stream",
     "text": [
      "INFO:cmdstanpy:Chain [1] done processing\n",
      "INFO:cmdstanpy:Chain [2] done processing\n",
      "INFO:cmdstanpy:Chain [3] done processing\n",
      "INFO:cmdstanpy:Chain [4] done processing\n",
      "INFO:cmdstanpy:found newer exe file, not recompiling\n",
      "INFO:cmdstanpy:found newer exe file, not recompiling\n",
      "INFO:cmdstanpy:CmdStan start procesing\n",
      "INFO:cmdstanpy:Chain [1] start processing\n",
      "INFO:cmdstanpy:Chain [2] start processing\n",
      "INFO:cmdstanpy:Chain [3] start processing\n",
      "INFO:cmdstanpy:Chain [4] start processing\n"
     ]
    },
    {
     "name": "stdout",
     "output_type": "stream",
     "text": [
      "Fitting toy MC bin no.840\n",
      "0.9498670212765957\n",
      "376 290\n"
     ]
    },
    {
     "name": "stderr",
     "output_type": "stream",
     "text": [
      "INFO:cmdstanpy:Chain [1] done processing\n",
      "INFO:cmdstanpy:Chain [4] done processing\n",
      "INFO:cmdstanpy:Chain [3] done processing\n",
      "INFO:cmdstanpy:Chain [2] done processing\n",
      "INFO:cmdstanpy:found newer exe file, not recompiling\n",
      "INFO:cmdstanpy:found newer exe file, not recompiling\n",
      "INFO:cmdstanpy:CmdStan start procesing\n",
      "INFO:cmdstanpy:Chain [1] start processing\n",
      "INFO:cmdstanpy:Chain [2] start processing\n",
      "INFO:cmdstanpy:Chain [3] start processing\n",
      "INFO:cmdstanpy:Chain [4] start processing\n"
     ]
    },
    {
     "name": "stdout",
     "output_type": "stream",
     "text": [
      "Fitting toy MC bin no.841\n",
      "0.9500251256281408\n",
      "398 306\n"
     ]
    },
    {
     "name": "stderr",
     "output_type": "stream",
     "text": [
      "INFO:cmdstanpy:Chain [3] done processing\n",
      "INFO:cmdstanpy:Chain [2] done processing\n",
      "INFO:cmdstanpy:Chain [4] done processing\n",
      "INFO:cmdstanpy:Chain [1] done processing\n",
      "INFO:cmdstanpy:found newer exe file, not recompiling\n",
      "INFO:cmdstanpy:found newer exe file, not recompiling\n",
      "INFO:cmdstanpy:CmdStan start procesing\n",
      "INFO:cmdstanpy:Chain [1] start processing\n",
      "INFO:cmdstanpy:Chain [2] start processing\n",
      "INFO:cmdstanpy:Chain [3] start processing\n",
      "INFO:cmdstanpy:Chain [4] start processing\n"
     ]
    },
    {
     "name": "stdout",
     "output_type": "stream",
     "text": [
      "Fitting toy MC bin no.842\n",
      "0.9498854961832062\n",
      "393 303\n"
     ]
    },
    {
     "name": "stderr",
     "output_type": "stream",
     "text": [
      "INFO:cmdstanpy:Chain [2] done processing\n",
      "INFO:cmdstanpy:Chain [1] done processing\n",
      "INFO:cmdstanpy:Chain [3] done processing\n",
      "INFO:cmdstanpy:Chain [4] done processing\n",
      "INFO:cmdstanpy:found newer exe file, not recompiling\n",
      "INFO:cmdstanpy:found newer exe file, not recompiling\n",
      "INFO:cmdstanpy:CmdStan start procesing\n",
      "INFO:cmdstanpy:Chain [1] start processing\n",
      "INFO:cmdstanpy:Chain [2] start processing\n",
      "INFO:cmdstanpy:Chain [3] start processing\n",
      "INFO:cmdstanpy:Chain [4] start processing\n"
     ]
    },
    {
     "name": "stdout",
     "output_type": "stream",
     "text": [
      "Fitting toy MC bin no.843\n",
      "0.949925925925926\n",
      "405 312\n"
     ]
    },
    {
     "name": "stderr",
     "output_type": "stream",
     "text": [
      "INFO:cmdstanpy:Chain [1] done processing\n",
      "INFO:cmdstanpy:Chain [2] done processing\n",
      "INFO:cmdstanpy:Chain [4] done processing\n",
      "INFO:cmdstanpy:Chain [3] done processing\n",
      "INFO:cmdstanpy:found newer exe file, not recompiling\n",
      "INFO:cmdstanpy:found newer exe file, not recompiling\n",
      "INFO:cmdstanpy:CmdStan start procesing\n",
      "INFO:cmdstanpy:Chain [1] start processing\n",
      "INFO:cmdstanpy:Chain [2] start processing\n",
      "INFO:cmdstanpy:Chain [3] start processing\n",
      "INFO:cmdstanpy:Chain [4] start processing\n"
     ]
    },
    {
     "name": "stdout",
     "output_type": "stream",
     "text": [
      "Fitting toy MC bin no.844\n",
      "0.9499769585253457\n",
      "434 334\n"
     ]
    },
    {
     "name": "stderr",
     "output_type": "stream",
     "text": [
      "INFO:cmdstanpy:Chain [2] done processing\n",
      "INFO:cmdstanpy:Chain [3] done processing\n",
      "INFO:cmdstanpy:Chain [4] done processing\n",
      "INFO:cmdstanpy:Chain [1] done processing\n",
      "INFO:cmdstanpy:found newer exe file, not recompiling\n",
      "INFO:cmdstanpy:found newer exe file, not recompiling\n",
      "INFO:cmdstanpy:CmdStan start procesing\n",
      "INFO:cmdstanpy:Chain [1] start processing\n",
      "INFO:cmdstanpy:Chain [2] start processing\n",
      "INFO:cmdstanpy:Chain [3] start processing\n",
      "INFO:cmdstanpy:Chain [4] start processing\n"
     ]
    },
    {
     "name": "stdout",
     "output_type": "stream",
     "text": [
      "Fitting toy MC bin no.845\n",
      "0.9498245614035088\n",
      "399 308\n"
     ]
    },
    {
     "name": "stderr",
     "output_type": "stream",
     "text": [
      "INFO:cmdstanpy:Chain [4] done processing\n",
      "INFO:cmdstanpy:Chain [2] done processing\n",
      "INFO:cmdstanpy:Chain [3] done processing\n",
      "INFO:cmdstanpy:Chain [1] done processing\n",
      "INFO:cmdstanpy:found newer exe file, not recompiling\n",
      "INFO:cmdstanpy:found newer exe file, not recompiling\n",
      "INFO:cmdstanpy:CmdStan start procesing\n",
      "INFO:cmdstanpy:Chain [1] start processing\n",
      "INFO:cmdstanpy:Chain [2] start processing\n",
      "INFO:cmdstanpy:Chain [3] start processing\n",
      "INFO:cmdstanpy:Chain [4] start processing\n"
     ]
    },
    {
     "name": "stdout",
     "output_type": "stream",
     "text": [
      "Fitting toy MC bin no.846\n",
      "0.9498714652956298\n",
      "389 300\n"
     ]
    },
    {
     "name": "stderr",
     "output_type": "stream",
     "text": [
      "INFO:cmdstanpy:Chain [1] done processing\n",
      "INFO:cmdstanpy:Chain [4] done processing\n",
      "INFO:cmdstanpy:Chain [2] done processing\n",
      "INFO:cmdstanpy:Chain [3] done processing\n",
      "INFO:cmdstanpy:found newer exe file, not recompiling\n",
      "INFO:cmdstanpy:found newer exe file, not recompiling\n",
      "INFO:cmdstanpy:CmdStan start procesing\n",
      "INFO:cmdstanpy:Chain [1] start processing\n",
      "INFO:cmdstanpy:Chain [2] start processing\n",
      "INFO:cmdstanpy:Chain [3] start processing\n",
      "INFO:cmdstanpy:Chain [4] start processing\n"
     ]
    },
    {
     "name": "stdout",
     "output_type": "stream",
     "text": [
      "Fitting toy MC bin no.847\n",
      "0.9499127182044889\n",
      "401 309\n"
     ]
    },
    {
     "name": "stderr",
     "output_type": "stream",
     "text": [
      "INFO:cmdstanpy:Chain [1] done processing\n",
      "INFO:cmdstanpy:Chain [3] done processing\n",
      "INFO:cmdstanpy:Chain [2] done processing\n",
      "INFO:cmdstanpy:Chain [4] done processing\n",
      "INFO:cmdstanpy:found newer exe file, not recompiling\n",
      "INFO:cmdstanpy:found newer exe file, not recompiling\n",
      "INFO:cmdstanpy:CmdStan start procesing\n",
      "INFO:cmdstanpy:Chain [1] start processing\n",
      "INFO:cmdstanpy:Chain [2] start processing\n",
      "INFO:cmdstanpy:Chain [3] start processing\n",
      "INFO:cmdstanpy:Chain [4] start processing\n"
     ]
    },
    {
     "name": "stdout",
     "output_type": "stream",
     "text": [
      "Fitting toy MC bin no.848\n",
      "0.9500000000000001\n",
      "364 280\n"
     ]
    },
    {
     "name": "stderr",
     "output_type": "stream",
     "text": [
      "INFO:cmdstanpy:Chain [2] done processing\n",
      "INFO:cmdstanpy:Chain [4] done processing\n",
      "INFO:cmdstanpy:Chain [3] done processing\n",
      "INFO:cmdstanpy:Chain [1] done processing\n",
      "INFO:cmdstanpy:found newer exe file, not recompiling\n",
      "INFO:cmdstanpy:found newer exe file, not recompiling\n",
      "INFO:cmdstanpy:CmdStan start procesing\n",
      "INFO:cmdstanpy:Chain [1] start processing\n",
      "INFO:cmdstanpy:Chain [2] start processing\n",
      "INFO:cmdstanpy:Chain [3] start processing\n",
      "INFO:cmdstanpy:Chain [4] start processing\n"
     ]
    },
    {
     "name": "stdout",
     "output_type": "stream",
     "text": [
      "Fitting toy MC bin no.849\n",
      "0.9499483204134367\n",
      "387 298\n"
     ]
    },
    {
     "name": "stderr",
     "output_type": "stream",
     "text": [
      "INFO:cmdstanpy:Chain [4] done processing\n",
      "INFO:cmdstanpy:Chain [3] done processing\n",
      "INFO:cmdstanpy:Chain [2] done processing\n",
      "INFO:cmdstanpy:Chain [1] done processing\n",
      "INFO:cmdstanpy:found newer exe file, not recompiling\n",
      "INFO:cmdstanpy:found newer exe file, not recompiling\n",
      "INFO:cmdstanpy:CmdStan start procesing\n",
      "INFO:cmdstanpy:Chain [1] start processing\n",
      "INFO:cmdstanpy:Chain [2] start processing\n",
      "INFO:cmdstanpy:Chain [3] start processing\n",
      "INFO:cmdstanpy:Chain [4] start processing\n"
     ]
    },
    {
     "name": "stdout",
     "output_type": "stream",
     "text": [
      "Fitting toy MC bin no.850\n",
      "0.9499640287769784\n",
      "417 321\n"
     ]
    },
    {
     "name": "stderr",
     "output_type": "stream",
     "text": [
      "INFO:cmdstanpy:Chain [4] done processing\n",
      "INFO:cmdstanpy:Chain [1] done processing\n",
      "INFO:cmdstanpy:Chain [3] done processing\n",
      "INFO:cmdstanpy:Chain [2] done processing\n",
      "INFO:cmdstanpy:found newer exe file, not recompiling\n",
      "INFO:cmdstanpy:found newer exe file, not recompiling\n",
      "INFO:cmdstanpy:CmdStan start procesing\n",
      "INFO:cmdstanpy:Chain [1] start processing\n",
      "INFO:cmdstanpy:Chain [2] start processing\n",
      "INFO:cmdstanpy:Chain [3] start processing\n",
      "INFO:cmdstanpy:Chain [4] start processing\n"
     ]
    },
    {
     "name": "stdout",
     "output_type": "stream",
     "text": [
      "Fitting toy MC bin no.851\n",
      "0.9499154589371981\n",
      "414 319\n"
     ]
    },
    {
     "name": "stderr",
     "output_type": "stream",
     "text": [
      "INFO:cmdstanpy:Chain [3] done processing\n",
      "INFO:cmdstanpy:Chain [1] done processing\n",
      "INFO:cmdstanpy:Chain [2] done processing\n",
      "INFO:cmdstanpy:Chain [4] done processing\n",
      "INFO:cmdstanpy:found newer exe file, not recompiling\n",
      "INFO:cmdstanpy:found newer exe file, not recompiling\n",
      "INFO:cmdstanpy:CmdStan start procesing\n",
      "INFO:cmdstanpy:Chain [1] start processing\n",
      "INFO:cmdstanpy:Chain [2] start processing\n",
      "INFO:cmdstanpy:Chain [3] start processing\n",
      "INFO:cmdstanpy:Chain [4] start processing\n"
     ]
    },
    {
     "name": "stdout",
     "output_type": "stream",
     "text": [
      "Fitting toy MC bin no.852\n",
      "0.9498425196850393\n",
      "381 294\n"
     ]
    },
    {
     "name": "stderr",
     "output_type": "stream",
     "text": [
      "INFO:cmdstanpy:Chain [1] done processing\n",
      "INFO:cmdstanpy:Chain [3] done processing\n",
      "INFO:cmdstanpy:Chain [2] done processing\n",
      "INFO:cmdstanpy:Chain [4] done processing\n",
      "INFO:cmdstanpy:found newer exe file, not recompiling\n",
      "INFO:cmdstanpy:found newer exe file, not recompiling\n",
      "INFO:cmdstanpy:CmdStan start procesing\n",
      "INFO:cmdstanpy:Chain [1] start processing\n",
      "INFO:cmdstanpy:Chain [2] start processing\n",
      "INFO:cmdstanpy:Chain [3] start processing\n",
      "INFO:cmdstanpy:Chain [4] start processing\n"
     ]
    },
    {
     "name": "stdout",
     "output_type": "stream",
     "text": [
      "Fitting toy MC bin no.853\n",
      "0.95\n",
      "390 300\n"
     ]
    },
    {
     "name": "stderr",
     "output_type": "stream",
     "text": [
      "INFO:cmdstanpy:Chain [4] done processing\n",
      "INFO:cmdstanpy:Chain [2] done processing\n",
      "INFO:cmdstanpy:Chain [1] done processing\n",
      "INFO:cmdstanpy:Chain [3] done processing\n",
      "INFO:cmdstanpy:found newer exe file, not recompiling\n",
      "INFO:cmdstanpy:found newer exe file, not recompiling\n",
      "INFO:cmdstanpy:CmdStan start procesing\n",
      "INFO:cmdstanpy:Chain [1] start processing\n",
      "INFO:cmdstanpy:Chain [2] start processing\n",
      "INFO:cmdstanpy:Chain [3] start processing\n",
      "INFO:cmdstanpy:Chain [4] start processing\n"
     ]
    },
    {
     "name": "stdout",
     "output_type": "stream",
     "text": [
      "Fitting toy MC bin no.854\n",
      "0.9499234693877551\n",
      "392 302\n"
     ]
    },
    {
     "name": "stderr",
     "output_type": "stream",
     "text": [
      "INFO:cmdstanpy:Chain [2] done processing\n",
      "INFO:cmdstanpy:Chain [4] done processing\n",
      "INFO:cmdstanpy:Chain [1] done processing\n",
      "INFO:cmdstanpy:Chain [3] done processing\n",
      "INFO:cmdstanpy:found newer exe file, not recompiling\n",
      "INFO:cmdstanpy:found newer exe file, not recompiling\n",
      "INFO:cmdstanpy:CmdStan start procesing\n",
      "INFO:cmdstanpy:Chain [1] start processing\n",
      "INFO:cmdstanpy:Chain [2] start processing\n",
      "INFO:cmdstanpy:Chain [3] start processing\n",
      "INFO:cmdstanpy:Chain [4] start processing\n"
     ]
    },
    {
     "name": "stdout",
     "output_type": "stream",
     "text": [
      "Fitting toy MC bin no.855\n",
      "0.9498101265822785\n",
      "395 305\n"
     ]
    },
    {
     "name": "stderr",
     "output_type": "stream",
     "text": [
      "INFO:cmdstanpy:Chain [3] done processing\n",
      "INFO:cmdstanpy:Chain [4] done processing\n",
      "INFO:cmdstanpy:Chain [1] done processing\n",
      "INFO:cmdstanpy:Chain [2] done processing\n",
      "INFO:cmdstanpy:found newer exe file, not recompiling\n",
      "INFO:cmdstanpy:found newer exe file, not recompiling\n",
      "INFO:cmdstanpy:CmdStan start procesing\n",
      "INFO:cmdstanpy:Chain [1] start processing\n",
      "INFO:cmdstanpy:Chain [2] start processing\n",
      "INFO:cmdstanpy:Chain [3] start processing\n",
      "INFO:cmdstanpy:Chain [4] start processing\n"
     ]
    },
    {
     "name": "stdout",
     "output_type": "stream",
     "text": [
      "Fitting toy MC bin no.856\n",
      "0.9500361445783132\n",
      "415 319\n"
     ]
    },
    {
     "name": "stderr",
     "output_type": "stream",
     "text": [
      "INFO:cmdstanpy:Chain [2] done processing\n",
      "INFO:cmdstanpy:Chain [1] done processing\n",
      "INFO:cmdstanpy:Chain [4] done processing\n",
      "INFO:cmdstanpy:Chain [3] done processing\n",
      "INFO:cmdstanpy:found newer exe file, not recompiling\n",
      "INFO:cmdstanpy:found newer exe file, not recompiling\n",
      "INFO:cmdstanpy:CmdStan start procesing\n",
      "INFO:cmdstanpy:Chain [1] start processing\n",
      "INFO:cmdstanpy:Chain [2] start processing\n",
      "INFO:cmdstanpy:Chain [3] start processing\n",
      "INFO:cmdstanpy:Chain [4] start processing\n"
     ]
    },
    {
     "name": "stdout",
     "output_type": "stream",
     "text": [
      "Fitting toy MC bin no.857\n",
      "0.9500268817204301\n",
      "372 286\n"
     ]
    },
    {
     "name": "stderr",
     "output_type": "stream",
     "text": [
      "INFO:cmdstanpy:Chain [3] done processing\n",
      "INFO:cmdstanpy:Chain [1] done processing\n",
      "INFO:cmdstanpy:Chain [2] done processing\n",
      "INFO:cmdstanpy:Chain [4] done processing\n",
      "INFO:cmdstanpy:found newer exe file, not recompiling\n",
      "INFO:cmdstanpy:found newer exe file, not recompiling\n",
      "INFO:cmdstanpy:CmdStan start procesing\n",
      "INFO:cmdstanpy:Chain [1] start processing\n",
      "INFO:cmdstanpy:Chain [2] start processing\n",
      "INFO:cmdstanpy:Chain [3] start processing\n",
      "INFO:cmdstanpy:Chain [4] start processing\n"
     ]
    },
    {
     "name": "stdout",
     "output_type": "stream",
     "text": [
      "Fitting toy MC bin no.858\n",
      "0.9499024390243902\n",
      "410 316\n"
     ]
    },
    {
     "name": "stderr",
     "output_type": "stream",
     "text": [
      "INFO:cmdstanpy:Chain [3] done processing\n",
      "INFO:cmdstanpy:Chain [1] done processing\n",
      "INFO:cmdstanpy:Chain [4] done processing\n",
      "INFO:cmdstanpy:Chain [2] done processing\n",
      "INFO:cmdstanpy:found newer exe file, not recompiling\n",
      "INFO:cmdstanpy:found newer exe file, not recompiling\n",
      "INFO:cmdstanpy:CmdStan start procesing\n",
      "INFO:cmdstanpy:Chain [1] start processing\n",
      "INFO:cmdstanpy:Chain [2] start processing\n",
      "INFO:cmdstanpy:Chain [3] start processing\n",
      "INFO:cmdstanpy:Chain [4] start processing\n"
     ]
    },
    {
     "name": "stdout",
     "output_type": "stream",
     "text": [
      "Fitting toy MC bin no.859\n",
      "0.9499738219895287\n",
      "382 294\n"
     ]
    },
    {
     "name": "stderr",
     "output_type": "stream",
     "text": [
      "INFO:cmdstanpy:Chain [4] done processing\n",
      "INFO:cmdstanpy:Chain [1] done processing\n",
      "INFO:cmdstanpy:Chain [2] done processing\n",
      "INFO:cmdstanpy:Chain [3] done processing\n",
      "INFO:cmdstanpy:found newer exe file, not recompiling\n",
      "INFO:cmdstanpy:found newer exe file, not recompiling\n",
      "INFO:cmdstanpy:CmdStan start procesing\n",
      "INFO:cmdstanpy:Chain [1] start processing\n",
      "INFO:cmdstanpy:Chain [2] start processing\n",
      "INFO:cmdstanpy:Chain [3] start processing\n",
      "INFO:cmdstanpy:Chain [4] start processing\n"
     ]
    },
    {
     "name": "stdout",
     "output_type": "stream",
     "text": [
      "Fitting toy MC bin no.860\n",
      "0.9499746835443038\n",
      "395 304\n"
     ]
    },
    {
     "name": "stderr",
     "output_type": "stream",
     "text": [
      "INFO:cmdstanpy:Chain [4] done processing\n",
      "INFO:cmdstanpy:Chain [2] done processing\n",
      "INFO:cmdstanpy:Chain [1] done processing\n",
      "INFO:cmdstanpy:Chain [3] done processing\n",
      "INFO:cmdstanpy:found newer exe file, not recompiling\n",
      "INFO:cmdstanpy:found newer exe file, not recompiling\n",
      "INFO:cmdstanpy:CmdStan start procesing\n",
      "INFO:cmdstanpy:Chain [1] start processing\n",
      "INFO:cmdstanpy:Chain [2] start processing\n",
      "INFO:cmdstanpy:Chain [3] start processing\n",
      "INFO:cmdstanpy:Chain [4] start processing\n"
     ]
    },
    {
     "name": "stdout",
     "output_type": "stream",
     "text": [
      "Fitting toy MC bin no.861\n",
      "0.9499066666666666\n",
      "375 289\n"
     ]
    },
    {
     "name": "stderr",
     "output_type": "stream",
     "text": [
      "INFO:cmdstanpy:Chain [3] done processing\n",
      "INFO:cmdstanpy:Chain [1] done processing\n",
      "INFO:cmdstanpy:Chain [2] done processing\n",
      "INFO:cmdstanpy:Chain [4] done processing\n",
      "INFO:cmdstanpy:found newer exe file, not recompiling\n",
      "INFO:cmdstanpy:found newer exe file, not recompiling\n",
      "INFO:cmdstanpy:CmdStan start procesing\n",
      "INFO:cmdstanpy:Chain [1] start processing\n",
      "INFO:cmdstanpy:Chain [2] start processing\n",
      "INFO:cmdstanpy:Chain [3] start processing\n",
      "INFO:cmdstanpy:Chain [4] start processing\n"
     ]
    },
    {
     "name": "stdout",
     "output_type": "stream",
     "text": [
      "Fitting toy MC bin no.862\n",
      "0.9499388753056234\n",
      "409 315\n"
     ]
    },
    {
     "name": "stderr",
     "output_type": "stream",
     "text": [
      "INFO:cmdstanpy:Chain [4] done processing\n",
      "INFO:cmdstanpy:Chain [3] done processing\n",
      "INFO:cmdstanpy:Chain [1] done processing\n",
      "INFO:cmdstanpy:Chain [2] done processing\n",
      "INFO:cmdstanpy:found newer exe file, not recompiling\n",
      "INFO:cmdstanpy:found newer exe file, not recompiling\n",
      "INFO:cmdstanpy:CmdStan start procesing\n",
      "INFO:cmdstanpy:Chain [1] start processing\n",
      "INFO:cmdstanpy:Chain [2] start processing\n",
      "INFO:cmdstanpy:Chain [3] start processing\n",
      "INFO:cmdstanpy:Chain [4] start processing\n"
     ]
    },
    {
     "name": "stdout",
     "output_type": "stream",
     "text": [
      "Fitting toy MC bin no.863\n",
      "0.9498854961832062\n",
      "393 303\n"
     ]
    },
    {
     "name": "stderr",
     "output_type": "stream",
     "text": [
      "INFO:cmdstanpy:Chain [1] done processing\n",
      "INFO:cmdstanpy:Chain [4] done processing\n",
      "INFO:cmdstanpy:Chain [3] done processing\n",
      "INFO:cmdstanpy:Chain [2] done processing\n",
      "INFO:cmdstanpy:found newer exe file, not recompiling\n",
      "INFO:cmdstanpy:found newer exe file, not recompiling\n",
      "INFO:cmdstanpy:CmdStan start procesing\n",
      "INFO:cmdstanpy:Chain [1] start processing\n",
      "INFO:cmdstanpy:Chain [2] start processing\n",
      "INFO:cmdstanpy:Chain [3] start processing\n",
      "INFO:cmdstanpy:Chain [4] start processing\n"
     ]
    },
    {
     "name": "stdout",
     "output_type": "stream",
     "text": [
      "Fitting toy MC bin no.864\n",
      "0.9497727272727273\n",
      "396 306\n"
     ]
    },
    {
     "name": "stderr",
     "output_type": "stream",
     "text": [
      "INFO:cmdstanpy:Chain [3] done processing\n",
      "INFO:cmdstanpy:Chain [4] done processing\n",
      "INFO:cmdstanpy:Chain [2] done processing\n",
      "INFO:cmdstanpy:Chain [1] done processing\n",
      "INFO:cmdstanpy:found newer exe file, not recompiling\n",
      "INFO:cmdstanpy:found newer exe file, not recompiling\n",
      "INFO:cmdstanpy:CmdStan start procesing\n",
      "INFO:cmdstanpy:Chain [1] start processing\n",
      "INFO:cmdstanpy:Chain [2] start processing\n",
      "INFO:cmdstanpy:Chain [3] start processing\n",
      "INFO:cmdstanpy:Chain [4] start processing\n"
     ]
    },
    {
     "name": "stdout",
     "output_type": "stream",
     "text": [
      "Fitting toy MC bin no.865\n",
      "0.9499388753056234\n",
      "409 315\n"
     ]
    },
    {
     "name": "stderr",
     "output_type": "stream",
     "text": [
      "INFO:cmdstanpy:Chain [1] done processing\n",
      "INFO:cmdstanpy:Chain [4] done processing\n",
      "INFO:cmdstanpy:Chain [3] done processing\n",
      "INFO:cmdstanpy:Chain [2] done processing\n",
      "INFO:cmdstanpy:found newer exe file, not recompiling\n",
      "INFO:cmdstanpy:found newer exe file, not recompiling\n",
      "INFO:cmdstanpy:CmdStan start procesing\n",
      "INFO:cmdstanpy:Chain [1] start processing\n",
      "INFO:cmdstanpy:Chain [2] start processing\n",
      "INFO:cmdstanpy:Chain [3] start processing\n",
      "INFO:cmdstanpy:Chain [4] start processing\n"
     ]
    },
    {
     "name": "stdout",
     "output_type": "stream",
     "text": [
      "Fitting toy MC bin no.866\n",
      "0.949958904109589\n",
      "365 281\n"
     ]
    },
    {
     "name": "stderr",
     "output_type": "stream",
     "text": [
      "INFO:cmdstanpy:Chain [3] done processing\n",
      "INFO:cmdstanpy:Chain [4] done processing\n",
      "INFO:cmdstanpy:Chain [1] done processing\n",
      "INFO:cmdstanpy:Chain [2] done processing\n",
      "INFO:cmdstanpy:found newer exe file, not recompiling\n",
      "INFO:cmdstanpy:found newer exe file, not recompiling\n",
      "INFO:cmdstanpy:CmdStan start procesing\n",
      "INFO:cmdstanpy:Chain [1] start processing\n",
      "INFO:cmdstanpy:Chain [2] start processing\n",
      "INFO:cmdstanpy:Chain [3] start processing\n",
      "INFO:cmdstanpy:Chain [4] start processing\n"
     ]
    },
    {
     "name": "stdout",
     "output_type": "stream",
     "text": [
      "Fitting toy MC bin no.867\n",
      "0.9499368686868687\n",
      "396 305\n"
     ]
    },
    {
     "name": "stderr",
     "output_type": "stream",
     "text": [
      "INFO:cmdstanpy:Chain [3] done processing\n",
      "INFO:cmdstanpy:Chain [2] done processing\n",
      "INFO:cmdstanpy:Chain [1] done processing\n",
      "INFO:cmdstanpy:Chain [4] done processing\n",
      "INFO:cmdstanpy:found newer exe file, not recompiling\n",
      "INFO:cmdstanpy:found newer exe file, not recompiling\n",
      "INFO:cmdstanpy:CmdStan start procesing\n",
      "INFO:cmdstanpy:Chain [1] start processing\n",
      "INFO:cmdstanpy:Chain [2] start processing\n",
      "INFO:cmdstanpy:Chain [3] start processing\n",
      "INFO:cmdstanpy:Chain [4] start processing\n"
     ]
    },
    {
     "name": "stdout",
     "output_type": "stream",
     "text": [
      "Fitting toy MC bin no.868\n",
      "0.9498425196850393\n",
      "381 294\n"
     ]
    },
    {
     "name": "stderr",
     "output_type": "stream",
     "text": [
      "INFO:cmdstanpy:Chain [4] done processing\n",
      "INFO:cmdstanpy:Chain [1] done processing\n",
      "INFO:cmdstanpy:Chain [3] done processing\n",
      "INFO:cmdstanpy:Chain [2] done processing\n",
      "INFO:cmdstanpy:found newer exe file, not recompiling\n",
      "INFO:cmdstanpy:found newer exe file, not recompiling\n",
      "INFO:cmdstanpy:CmdStan start procesing\n",
      "INFO:cmdstanpy:Chain [1] start processing\n",
      "INFO:cmdstanpy:Chain [2] start processing\n",
      "INFO:cmdstanpy:Chain [3] start processing\n",
      "INFO:cmdstanpy:Chain [4] start processing\n"
     ]
    },
    {
     "name": "stdout",
     "output_type": "stream",
     "text": [
      "Fitting toy MC bin no.869\n",
      "0.9499878640776699\n",
      "412 317\n"
     ]
    },
    {
     "name": "stderr",
     "output_type": "stream",
     "text": [
      "INFO:cmdstanpy:Chain [1] done processing\n",
      "INFO:cmdstanpy:Chain [2] done processing\n",
      "INFO:cmdstanpy:Chain [3] done processing\n",
      "INFO:cmdstanpy:Chain [4] done processing\n",
      "INFO:cmdstanpy:found newer exe file, not recompiling\n",
      "INFO:cmdstanpy:found newer exe file, not recompiling\n",
      "INFO:cmdstanpy:CmdStan start procesing\n",
      "INFO:cmdstanpy:Chain [1] start processing\n",
      "INFO:cmdstanpy:Chain [2] start processing\n",
      "INFO:cmdstanpy:Chain [3] start processing\n",
      "INFO:cmdstanpy:Chain [4] start processing\n"
     ]
    },
    {
     "name": "stdout",
     "output_type": "stream",
     "text": [
      "Fitting toy MC bin no.870\n",
      "0.9499054373522459\n",
      "423 326\n"
     ]
    },
    {
     "name": "stderr",
     "output_type": "stream",
     "text": [
      "INFO:cmdstanpy:Chain [3] done processing\n",
      "INFO:cmdstanpy:Chain [2] done processing\n",
      "INFO:cmdstanpy:Chain [1] done processing\n",
      "INFO:cmdstanpy:Chain [4] done processing\n",
      "INFO:cmdstanpy:found newer exe file, not recompiling\n",
      "INFO:cmdstanpy:found newer exe file, not recompiling\n",
      "INFO:cmdstanpy:CmdStan start procesing\n",
      "INFO:cmdstanpy:Chain [1] start processing\n",
      "INFO:cmdstanpy:Chain [2] start processing\n",
      "INFO:cmdstanpy:Chain [3] start processing\n",
      "INFO:cmdstanpy:Chain [4] start processing\n"
     ]
    },
    {
     "name": "stdout",
     "output_type": "stream",
     "text": [
      "Fitting toy MC bin no.871\n",
      "0.9499603174603174\n",
      "378 291\n"
     ]
    },
    {
     "name": "stderr",
     "output_type": "stream",
     "text": [
      "INFO:cmdstanpy:Chain [2] done processing\n",
      "INFO:cmdstanpy:Chain [1] done processing\n",
      "INFO:cmdstanpy:Chain [3] done processing\n",
      "INFO:cmdstanpy:Chain [4] done processing\n",
      "INFO:cmdstanpy:found newer exe file, not recompiling\n",
      "INFO:cmdstanpy:found newer exe file, not recompiling\n",
      "INFO:cmdstanpy:CmdStan start procesing\n",
      "INFO:cmdstanpy:Chain [1] start processing\n",
      "INFO:cmdstanpy:Chain [2] start processing\n",
      "INFO:cmdstanpy:Chain [3] start processing\n",
      "INFO:cmdstanpy:Chain [4] start processing\n"
     ]
    },
    {
     "name": "stdout",
     "output_type": "stream",
     "text": [
      "Fitting toy MC bin no.872\n",
      "0.9500462962962963\n",
      "432 332\n"
     ]
    },
    {
     "name": "stderr",
     "output_type": "stream",
     "text": [
      "INFO:cmdstanpy:Chain [4] done processing\n",
      "INFO:cmdstanpy:Chain [3] done processing\n",
      "INFO:cmdstanpy:Chain [1] done processing\n",
      "INFO:cmdstanpy:Chain [2] done processing\n",
      "INFO:cmdstanpy:found newer exe file, not recompiling\n",
      "INFO:cmdstanpy:found newer exe file, not recompiling\n",
      "INFO:cmdstanpy:CmdStan start procesing\n",
      "INFO:cmdstanpy:Chain [1] start processing\n",
      "INFO:cmdstanpy:Chain [2] start processing\n",
      "INFO:cmdstanpy:Chain [3] start processing\n",
      "INFO:cmdstanpy:Chain [4] start processing\n"
     ]
    },
    {
     "name": "stdout",
     "output_type": "stream",
     "text": [
      "Fitting toy MC bin no.873\n",
      "0.9498333333333333\n",
      "390 301\n"
     ]
    },
    {
     "name": "stderr",
     "output_type": "stream",
     "text": [
      "INFO:cmdstanpy:Chain [2] done processing\n",
      "INFO:cmdstanpy:Chain [1] done processing\n",
      "INFO:cmdstanpy:Chain [3] done processing\n",
      "INFO:cmdstanpy:Chain [4] done processing\n",
      "INFO:cmdstanpy:found newer exe file, not recompiling\n",
      "INFO:cmdstanpy:found newer exe file, not recompiling\n",
      "INFO:cmdstanpy:CmdStan start procesing\n",
      "INFO:cmdstanpy:Chain [1] start processing\n",
      "INFO:cmdstanpy:Chain [2] start processing\n",
      "INFO:cmdstanpy:Chain [3] start processing\n",
      "INFO:cmdstanpy:Chain [4] start processing\n"
     ]
    },
    {
     "name": "stdout",
     "output_type": "stream",
     "text": [
      "Fitting toy MC bin no.874\n",
      "0.9499746835443038\n",
      "395 304\n"
     ]
    },
    {
     "name": "stderr",
     "output_type": "stream",
     "text": [
      "INFO:cmdstanpy:Chain [1] done processing\n",
      "INFO:cmdstanpy:Chain [2] done processing\n",
      "INFO:cmdstanpy:Chain [4] done processing\n",
      "INFO:cmdstanpy:Chain [3] done processing\n",
      "INFO:cmdstanpy:found newer exe file, not recompiling\n",
      "INFO:cmdstanpy:found newer exe file, not recompiling\n",
      "INFO:cmdstanpy:CmdStan start procesing\n",
      "INFO:cmdstanpy:Chain [1] start processing\n",
      "INFO:cmdstanpy:Chain [2] start processing\n",
      "INFO:cmdstanpy:Chain [3] start processing\n",
      "INFO:cmdstanpy:Chain [4] start processing\n"
     ]
    },
    {
     "name": "stdout",
     "output_type": "stream",
     "text": [
      "Fitting toy MC bin no.875\n",
      "0.9498521505376345\n",
      "372 287\n"
     ]
    },
    {
     "name": "stderr",
     "output_type": "stream",
     "text": [
      "INFO:cmdstanpy:Chain [1] done processing\n",
      "INFO:cmdstanpy:Chain [2] done processing\n",
      "INFO:cmdstanpy:Chain [4] done processing\n",
      "INFO:cmdstanpy:Chain [3] done processing\n",
      "INFO:cmdstanpy:found newer exe file, not recompiling\n",
      "INFO:cmdstanpy:found newer exe file, not recompiling\n",
      "INFO:cmdstanpy:CmdStan start procesing\n",
      "INFO:cmdstanpy:Chain [1] start processing\n",
      "INFO:cmdstanpy:Chain [2] start processing\n",
      "INFO:cmdstanpy:Chain [3] start processing\n",
      "INFO:cmdstanpy:Chain [4] start processing\n"
     ]
    },
    {
     "name": "stdout",
     "output_type": "stream",
     "text": [
      "Fitting toy MC bin no.876\n",
      "0.9499483204134367\n",
      "387 298\n"
     ]
    },
    {
     "name": "stderr",
     "output_type": "stream",
     "text": [
      "INFO:cmdstanpy:Chain [4] done processing\n",
      "INFO:cmdstanpy:Chain [2] done processing\n",
      "INFO:cmdstanpy:Chain [3] done processing\n",
      "INFO:cmdstanpy:Chain [1] done processing\n",
      "INFO:cmdstanpy:found newer exe file, not recompiling\n",
      "INFO:cmdstanpy:found newer exe file, not recompiling\n",
      "INFO:cmdstanpy:CmdStan start procesing\n",
      "INFO:cmdstanpy:Chain [1] start processing\n",
      "INFO:cmdstanpy:Chain [2] start processing\n",
      "INFO:cmdstanpy:Chain [3] start processing\n",
      "INFO:cmdstanpy:Chain [4] start processing\n"
     ]
    },
    {
     "name": "stdout",
     "output_type": "stream",
     "text": [
      "Fitting toy MC bin no.877\n",
      "0.9499150141643059\n",
      "353 272\n"
     ]
    },
    {
     "name": "stderr",
     "output_type": "stream",
     "text": [
      "INFO:cmdstanpy:Chain [1] done processing\n",
      "INFO:cmdstanpy:Chain [3] done processing\n",
      "INFO:cmdstanpy:Chain [4] done processing\n",
      "INFO:cmdstanpy:Chain [2] done processing\n",
      "INFO:cmdstanpy:found newer exe file, not recompiling\n",
      "INFO:cmdstanpy:found newer exe file, not recompiling\n",
      "INFO:cmdstanpy:CmdStan start procesing\n",
      "INFO:cmdstanpy:Chain [1] start processing\n",
      "INFO:cmdstanpy:Chain [2] start processing\n",
      "INFO:cmdstanpy:Chain [3] start processing\n",
      "INFO:cmdstanpy:Chain [4] start processing\n"
     ]
    },
    {
     "name": "stdout",
     "output_type": "stream",
     "text": [
      "Fitting toy MC bin no.878\n",
      "0.9499033149171271\n",
      "362 279\n"
     ]
    },
    {
     "name": "stderr",
     "output_type": "stream",
     "text": [
      "INFO:cmdstanpy:Chain [2] done processing\n",
      "INFO:cmdstanpy:Chain [1] done processing\n",
      "INFO:cmdstanpy:Chain [4] done processing\n",
      "INFO:cmdstanpy:Chain [3] done processing\n",
      "INFO:cmdstanpy:found newer exe file, not recompiling\n",
      "INFO:cmdstanpy:found newer exe file, not recompiling\n",
      "INFO:cmdstanpy:CmdStan start procesing\n",
      "INFO:cmdstanpy:Chain [1] start processing\n",
      "INFO:cmdstanpy:Chain [2] start processing\n",
      "INFO:cmdstanpy:Chain [3] start processing\n",
      "INFO:cmdstanpy:Chain [4] start processing\n"
     ]
    },
    {
     "name": "stdout",
     "output_type": "stream",
     "text": [
      "Fitting toy MC bin no.879\n",
      "0.9499024390243902\n",
      "410 316\n"
     ]
    },
    {
     "name": "stderr",
     "output_type": "stream",
     "text": [
      "INFO:cmdstanpy:Chain [3] done processing\n",
      "INFO:cmdstanpy:Chain [2] done processing\n",
      "INFO:cmdstanpy:Chain [4] done processing\n",
      "INFO:cmdstanpy:Chain [1] done processing\n",
      "INFO:cmdstanpy:found newer exe file, not recompiling\n",
      "INFO:cmdstanpy:found newer exe file, not recompiling\n",
      "INFO:cmdstanpy:CmdStan start procesing\n",
      "INFO:cmdstanpy:Chain [1] start processing\n",
      "INFO:cmdstanpy:Chain [2] start processing\n",
      "INFO:cmdstanpy:Chain [3] start processing\n",
      "INFO:cmdstanpy:Chain [4] start processing\n"
     ]
    },
    {
     "name": "stdout",
     "output_type": "stream",
     "text": [
      "Fitting toy MC bin no.880\n",
      "0.9497567567567569\n",
      "370 286\n"
     ]
    },
    {
     "name": "stderr",
     "output_type": "stream",
     "text": [
      "INFO:cmdstanpy:Chain [4] done processing\n",
      "INFO:cmdstanpy:Chain [2] done processing\n",
      "INFO:cmdstanpy:Chain [3] done processing\n",
      "INFO:cmdstanpy:Chain [1] done processing\n",
      "INFO:cmdstanpy:found newer exe file, not recompiling\n",
      "INFO:cmdstanpy:found newer exe file, not recompiling\n",
      "INFO:cmdstanpy:CmdStan start procesing\n",
      "INFO:cmdstanpy:Chain [1] start processing\n",
      "INFO:cmdstanpy:Chain [2] start processing\n",
      "INFO:cmdstanpy:Chain [3] start processing\n",
      "INFO:cmdstanpy:Chain [4] start processing\n"
     ]
    },
    {
     "name": "stdout",
     "output_type": "stream",
     "text": [
      "Fitting toy MC bin no.881\n",
      "0.9498387096774195\n",
      "403 311\n"
     ]
    },
    {
     "name": "stderr",
     "output_type": "stream",
     "text": [
      "INFO:cmdstanpy:Chain [4] done processing\n",
      "INFO:cmdstanpy:Chain [3] done processing\n",
      "INFO:cmdstanpy:Chain [1] done processing\n",
      "INFO:cmdstanpy:Chain [2] done processing\n",
      "INFO:cmdstanpy:found newer exe file, not recompiling\n",
      "INFO:cmdstanpy:found newer exe file, not recompiling\n",
      "INFO:cmdstanpy:CmdStan start procesing\n",
      "INFO:cmdstanpy:Chain [1] start processing\n",
      "INFO:cmdstanpy:Chain [2] start processing\n",
      "INFO:cmdstanpy:Chain [3] start processing\n",
      "INFO:cmdstanpy:Chain [4] start processing\n"
     ]
    },
    {
     "name": "stdout",
     "output_type": "stream",
     "text": [
      "Fitting toy MC bin no.882\n",
      "0.9498773841961853\n",
      "367 283\n"
     ]
    },
    {
     "name": "stderr",
     "output_type": "stream",
     "text": [
      "INFO:cmdstanpy:Chain [4] done processing\n",
      "INFO:cmdstanpy:Chain [3] done processing\n",
      "INFO:cmdstanpy:Chain [1] done processing\n",
      "INFO:cmdstanpy:Chain [2] done processing\n",
      "INFO:cmdstanpy:found newer exe file, not recompiling\n",
      "INFO:cmdstanpy:found newer exe file, not recompiling\n",
      "INFO:cmdstanpy:CmdStan start procesing\n",
      "INFO:cmdstanpy:Chain [1] start processing\n",
      "INFO:cmdstanpy:Chain [2] start processing\n",
      "INFO:cmdstanpy:Chain [3] start processing\n",
      "INFO:cmdstanpy:Chain [4] start processing\n"
     ]
    },
    {
     "name": "stdout",
     "output_type": "stream",
     "text": [
      "Fitting toy MC bin no.883\n",
      "0.9498275862068964\n",
      "377 291\n"
     ]
    },
    {
     "name": "stderr",
     "output_type": "stream",
     "text": [
      "INFO:cmdstanpy:Chain [4] done processing\n",
      "INFO:cmdstanpy:Chain [1] done processing\n",
      "INFO:cmdstanpy:Chain [3] done processing\n",
      "INFO:cmdstanpy:Chain [2] done processing\n",
      "INFO:cmdstanpy:found newer exe file, not recompiling\n",
      "INFO:cmdstanpy:found newer exe file, not recompiling\n",
      "INFO:cmdstanpy:CmdStan start procesing\n",
      "INFO:cmdstanpy:Chain [1] start processing\n",
      "INFO:cmdstanpy:Chain [2] start processing\n",
      "INFO:cmdstanpy:Chain [3] start processing\n",
      "INFO:cmdstanpy:Chain [4] start processing\n"
     ]
    },
    {
     "name": "stdout",
     "output_type": "stream",
     "text": [
      "Fitting toy MC bin no.884\n",
      "0.9497953964194373\n",
      "391 302\n"
     ]
    },
    {
     "name": "stderr",
     "output_type": "stream",
     "text": [
      "INFO:cmdstanpy:Chain [1] done processing\n",
      "INFO:cmdstanpy:Chain [2] done processing\n",
      "INFO:cmdstanpy:Chain [3] done processing\n",
      "INFO:cmdstanpy:Chain [4] done processing\n",
      "INFO:cmdstanpy:found newer exe file, not recompiling\n",
      "INFO:cmdstanpy:found newer exe file, not recompiling\n",
      "INFO:cmdstanpy:CmdStan start procesing\n",
      "INFO:cmdstanpy:Chain [1] start processing\n",
      "INFO:cmdstanpy:Chain [2] start processing\n",
      "INFO:cmdstanpy:Chain [3] start processing\n",
      "INFO:cmdstanpy:Chain [4] start processing\n"
     ]
    },
    {
     "name": "stdout",
     "output_type": "stream",
     "text": [
      "Fitting toy MC bin no.885\n",
      "0.9498139534883722\n",
      "430 332\n"
     ]
    },
    {
     "name": "stderr",
     "output_type": "stream",
     "text": [
      "INFO:cmdstanpy:Chain [3] done processing\n",
      "INFO:cmdstanpy:Chain [2] done processing\n",
      "INFO:cmdstanpy:Chain [1] done processing\n",
      "INFO:cmdstanpy:Chain [4] done processing\n",
      "INFO:cmdstanpy:found newer exe file, not recompiling\n",
      "INFO:cmdstanpy:found newer exe file, not recompiling\n",
      "INFO:cmdstanpy:CmdStan start procesing\n",
      "INFO:cmdstanpy:Chain [1] start processing\n",
      "INFO:cmdstanpy:Chain [2] start processing\n",
      "INFO:cmdstanpy:Chain [3] start processing\n",
      "INFO:cmdstanpy:Chain [4] start processing\n"
     ]
    },
    {
     "name": "stdout",
     "output_type": "stream",
     "text": [
      "Fitting toy MC bin no.886\n",
      "0.9500268817204301\n",
      "372 286\n"
     ]
    },
    {
     "name": "stderr",
     "output_type": "stream",
     "text": [
      "INFO:cmdstanpy:Chain [3] done processing\n",
      "INFO:cmdstanpy:Chain [1] done processing\n",
      "INFO:cmdstanpy:Chain [4] done processing\n",
      "INFO:cmdstanpy:Chain [2] done processing\n",
      "INFO:cmdstanpy:found newer exe file, not recompiling\n",
      "INFO:cmdstanpy:found newer exe file, not recompiling\n",
      "INFO:cmdstanpy:CmdStan start procesing\n",
      "INFO:cmdstanpy:Chain [1] start processing\n",
      "INFO:cmdstanpy:Chain [2] start processing\n",
      "INFO:cmdstanpy:Chain [3] start processing\n",
      "INFO:cmdstanpy:Chain [4] start processing\n"
     ]
    },
    {
     "name": "stdout",
     "output_type": "stream",
     "text": [
      "Fitting toy MC bin no.887\n",
      "0.9498992443324937\n",
      "397 306\n"
     ]
    },
    {
     "name": "stderr",
     "output_type": "stream",
     "text": [
      "INFO:cmdstanpy:Chain [1] done processing\n",
      "INFO:cmdstanpy:Chain [4] done processing\n",
      "INFO:cmdstanpy:Chain [2] done processing\n",
      "INFO:cmdstanpy:Chain [3] done processing\n",
      "INFO:cmdstanpy:found newer exe file, not recompiling\n",
      "INFO:cmdstanpy:found newer exe file, not recompiling\n",
      "INFO:cmdstanpy:CmdStan start procesing\n",
      "INFO:cmdstanpy:Chain [1] start processing\n",
      "INFO:cmdstanpy:Chain [2] start processing\n",
      "INFO:cmdstanpy:Chain [3] start processing\n",
      "INFO:cmdstanpy:Chain [4] start processing\n"
     ]
    },
    {
     "name": "stdout",
     "output_type": "stream",
     "text": [
      "Fitting toy MC bin no.888\n",
      "0.9498756218905473\n",
      "402 310\n"
     ]
    },
    {
     "name": "stderr",
     "output_type": "stream",
     "text": [
      "INFO:cmdstanpy:Chain [4] done processing\n",
      "INFO:cmdstanpy:Chain [1] done processing\n",
      "INFO:cmdstanpy:Chain [3] done processing\n",
      "INFO:cmdstanpy:Chain [2] done processing\n",
      "INFO:cmdstanpy:found newer exe file, not recompiling\n",
      "INFO:cmdstanpy:found newer exe file, not recompiling\n",
      "INFO:cmdstanpy:CmdStan start procesing\n",
      "INFO:cmdstanpy:Chain [1] start processing\n",
      "INFO:cmdstanpy:Chain [2] start processing\n",
      "INFO:cmdstanpy:Chain [3] start processing\n",
      "INFO:cmdstanpy:Chain [4] start processing\n"
     ]
    },
    {
     "name": "stdout",
     "output_type": "stream",
     "text": [
      "Fitting toy MC bin no.889\n",
      "0.950275\n",
      "400 306\n"
     ]
    },
    {
     "name": "stderr",
     "output_type": "stream",
     "text": [
      "INFO:cmdstanpy:Chain [4] done processing\n",
      "INFO:cmdstanpy:Chain [2] done processing\n",
      "INFO:cmdstanpy:Chain [1] done processing\n",
      "INFO:cmdstanpy:Chain [3] done processing\n",
      "INFO:cmdstanpy:found newer exe file, not recompiling\n",
      "INFO:cmdstanpy:found newer exe file, not recompiling\n",
      "INFO:cmdstanpy:CmdStan start procesing\n",
      "INFO:cmdstanpy:Chain [1] start processing\n",
      "INFO:cmdstanpy:Chain [2] start processing\n",
      "INFO:cmdstanpy:Chain [3] start processing\n",
      "INFO:cmdstanpy:Chain [4] start processing\n"
     ]
    },
    {
     "name": "stdout",
     "output_type": "stream",
     "text": [
      "Fitting toy MC bin no.890\n",
      "0.9498958333333333\n",
      "384 296\n"
     ]
    },
    {
     "name": "stderr",
     "output_type": "stream",
     "text": [
      "INFO:cmdstanpy:Chain [3] done processing\n",
      "INFO:cmdstanpy:Chain [2] done processing\n",
      "INFO:cmdstanpy:Chain [4] done processing\n",
      "INFO:cmdstanpy:Chain [1] done processing\n",
      "INFO:cmdstanpy:found newer exe file, not recompiling\n",
      "INFO:cmdstanpy:found newer exe file, not recompiling\n",
      "INFO:cmdstanpy:CmdStan start procesing\n",
      "INFO:cmdstanpy:Chain [1] start processing\n",
      "INFO:cmdstanpy:Chain [2] start processing\n",
      "INFO:cmdstanpy:Chain [3] start processing\n",
      "INFO:cmdstanpy:Chain [4] start processing\n"
     ]
    },
    {
     "name": "stdout",
     "output_type": "stream",
     "text": [
      "Fitting toy MC bin no.891\n",
      "0.9498425196850393\n",
      "381 294\n"
     ]
    },
    {
     "name": "stderr",
     "output_type": "stream",
     "text": [
      "INFO:cmdstanpy:Chain [3] done processing\n",
      "INFO:cmdstanpy:Chain [1] done processing\n",
      "INFO:cmdstanpy:Chain [4] done processing\n",
      "INFO:cmdstanpy:Chain [2] done processing\n",
      "INFO:cmdstanpy:found newer exe file, not recompiling\n",
      "INFO:cmdstanpy:found newer exe file, not recompiling\n",
      "INFO:cmdstanpy:CmdStan start procesing\n",
      "INFO:cmdstanpy:Chain [1] start processing\n",
      "INFO:cmdstanpy:Chain [2] start processing\n",
      "INFO:cmdstanpy:Chain [3] start processing\n",
      "INFO:cmdstanpy:Chain [4] start processing\n"
     ]
    },
    {
     "name": "stdout",
     "output_type": "stream",
     "text": [
      "Fitting toy MC bin no.892\n",
      "0.9498425196850393\n",
      "381 294\n"
     ]
    },
    {
     "name": "stderr",
     "output_type": "stream",
     "text": [
      "INFO:cmdstanpy:Chain [3] done processing\n",
      "INFO:cmdstanpy:Chain [4] done processing\n",
      "INFO:cmdstanpy:Chain [1] done processing\n",
      "INFO:cmdstanpy:Chain [2] done processing\n",
      "INFO:cmdstanpy:found newer exe file, not recompiling\n",
      "INFO:cmdstanpy:found newer exe file, not recompiling\n",
      "INFO:cmdstanpy:CmdStan start procesing\n",
      "INFO:cmdstanpy:Chain [1] start processing\n",
      "INFO:cmdstanpy:Chain [2] start processing\n",
      "INFO:cmdstanpy:Chain [3] start processing\n",
      "INFO:cmdstanpy:Chain [4] start processing\n"
     ]
    },
    {
     "name": "stdout",
     "output_type": "stream",
     "text": [
      "Fitting toy MC bin no.893\n",
      "0.9498756218905473\n",
      "402 310\n"
     ]
    },
    {
     "name": "stderr",
     "output_type": "stream",
     "text": [
      "INFO:cmdstanpy:Chain [2] done processing\n",
      "INFO:cmdstanpy:Chain [4] done processing\n",
      "INFO:cmdstanpy:Chain [1] done processing\n",
      "INFO:cmdstanpy:Chain [3] done processing\n",
      "INFO:cmdstanpy:found newer exe file, not recompiling\n",
      "INFO:cmdstanpy:found newer exe file, not recompiling\n",
      "INFO:cmdstanpy:CmdStan start procesing\n",
      "INFO:cmdstanpy:Chain [1] start processing\n",
      "INFO:cmdstanpy:Chain [2] start processing\n",
      "INFO:cmdstanpy:Chain [3] start processing\n",
      "INFO:cmdstanpy:Chain [4] start processing\n"
     ]
    },
    {
     "name": "stdout",
     "output_type": "stream",
     "text": [
      "Fitting toy MC bin no.894\n",
      "0.9498214285714286\n",
      "364 281\n"
     ]
    },
    {
     "name": "stderr",
     "output_type": "stream",
     "text": [
      "INFO:cmdstanpy:Chain [3] done processing\n",
      "INFO:cmdstanpy:Chain [4] done processing\n",
      "INFO:cmdstanpy:Chain [2] done processing\n",
      "INFO:cmdstanpy:Chain [1] done processing\n",
      "INFO:cmdstanpy:found newer exe file, not recompiling\n",
      "INFO:cmdstanpy:found newer exe file, not recompiling\n",
      "INFO:cmdstanpy:CmdStan start procesing\n",
      "INFO:cmdstanpy:Chain [1] start processing\n",
      "INFO:cmdstanpy:Chain [2] start processing\n",
      "INFO:cmdstanpy:Chain [3] start processing\n",
      "INFO:cmdstanpy:Chain [4] start processing\n"
     ]
    },
    {
     "name": "stdout",
     "output_type": "stream",
     "text": [
      "Fitting toy MC bin no.895\n",
      "0.9498425196850393\n",
      "381 294\n"
     ]
    },
    {
     "name": "stderr",
     "output_type": "stream",
     "text": [
      "INFO:cmdstanpy:Chain [3] done processing\n",
      "INFO:cmdstanpy:Chain [4] done processing\n",
      "INFO:cmdstanpy:Chain [1] done processing\n",
      "INFO:cmdstanpy:Chain [2] done processing\n",
      "INFO:cmdstanpy:found newer exe file, not recompiling\n",
      "INFO:cmdstanpy:found newer exe file, not recompiling\n",
      "INFO:cmdstanpy:CmdStan start procesing\n",
      "INFO:cmdstanpy:Chain [1] start processing\n",
      "INFO:cmdstanpy:Chain [2] start processing\n",
      "INFO:cmdstanpy:Chain [3] start processing\n",
      "INFO:cmdstanpy:Chain [4] start processing\n"
     ]
    },
    {
     "name": "stdout",
     "output_type": "stream",
     "text": [
      "Fitting toy MC bin no.896\n",
      "0.9498670212765957\n",
      "376 290\n"
     ]
    },
    {
     "name": "stderr",
     "output_type": "stream",
     "text": [
      "INFO:cmdstanpy:Chain [3] done processing\n",
      "INFO:cmdstanpy:Chain [4] done processing\n",
      "INFO:cmdstanpy:Chain [2] done processing\n",
      "INFO:cmdstanpy:Chain [1] done processing\n",
      "INFO:cmdstanpy:found newer exe file, not recompiling\n",
      "INFO:cmdstanpy:found newer exe file, not recompiling\n",
      "INFO:cmdstanpy:CmdStan start procesing\n",
      "INFO:cmdstanpy:Chain [1] start processing\n",
      "INFO:cmdstanpy:Chain [2] start processing\n",
      "INFO:cmdstanpy:Chain [3] start processing\n",
      "INFO:cmdstanpy:Chain [4] start processing\n"
     ]
    },
    {
     "name": "stdout",
     "output_type": "stream",
     "text": [
      "Fitting toy MC bin no.897\n",
      "0.9498081534772183\n",
      "417 322\n"
     ]
    },
    {
     "name": "stderr",
     "output_type": "stream",
     "text": [
      "INFO:cmdstanpy:Chain [4] done processing\n",
      "INFO:cmdstanpy:Chain [1] done processing\n",
      "INFO:cmdstanpy:Chain [3] done processing\n",
      "INFO:cmdstanpy:Chain [2] done processing\n",
      "INFO:cmdstanpy:found newer exe file, not recompiling\n",
      "INFO:cmdstanpy:found newer exe file, not recompiling\n",
      "INFO:cmdstanpy:CmdStan start procesing\n",
      "INFO:cmdstanpy:Chain [1] start processing\n",
      "INFO:cmdstanpy:Chain [2] start processing\n",
      "INFO:cmdstanpy:Chain [3] start processing\n",
      "INFO:cmdstanpy:Chain [4] start processing\n"
     ]
    },
    {
     "name": "stdout",
     "output_type": "stream",
     "text": [
      "Fitting toy MC bin no.898\n",
      "0.9499738219895287\n",
      "382 294\n"
     ]
    },
    {
     "name": "stderr",
     "output_type": "stream",
     "text": [
      "INFO:cmdstanpy:Chain [3] done processing\n",
      "INFO:cmdstanpy:Chain [2] done processing\n",
      "INFO:cmdstanpy:Chain [1] done processing\n",
      "INFO:cmdstanpy:Chain [4] done processing\n",
      "INFO:cmdstanpy:found newer exe file, not recompiling\n",
      "INFO:cmdstanpy:found newer exe file, not recompiling\n",
      "INFO:cmdstanpy:CmdStan start procesing\n",
      "INFO:cmdstanpy:Chain [1] start processing\n",
      "INFO:cmdstanpy:Chain [2] start processing\n",
      "INFO:cmdstanpy:Chain [3] start processing\n",
      "INFO:cmdstanpy:Chain [4] start processing\n"
     ]
    },
    {
     "name": "stdout",
     "output_type": "stream",
     "text": [
      "Fitting toy MC bin no.899\n",
      "0.9499180327868852\n",
      "427 329\n"
     ]
    },
    {
     "name": "stderr",
     "output_type": "stream",
     "text": [
      "INFO:cmdstanpy:Chain [3] done processing\n",
      "INFO:cmdstanpy:Chain [2] done processing\n",
      "INFO:cmdstanpy:Chain [4] done processing\n",
      "INFO:cmdstanpy:Chain [1] done processing\n",
      "INFO:cmdstanpy:found newer exe file, not recompiling\n",
      "INFO:cmdstanpy:found newer exe file, not recompiling\n",
      "INFO:cmdstanpy:CmdStan start procesing\n",
      "INFO:cmdstanpy:Chain [1] start processing\n",
      "INFO:cmdstanpy:Chain [2] start processing\n",
      "INFO:cmdstanpy:Chain [3] start processing\n",
      "INFO:cmdstanpy:Chain [4] start processing\n"
     ]
    },
    {
     "name": "stdout",
     "output_type": "stream",
     "text": [
      "Fitting toy MC bin no.900\n",
      "0.9498661800486617\n",
      "411 317\n"
     ]
    },
    {
     "name": "stderr",
     "output_type": "stream",
     "text": [
      "INFO:cmdstanpy:Chain [3] done processing\n",
      "INFO:cmdstanpy:Chain [1] done processing\n",
      "INFO:cmdstanpy:Chain [4] done processing\n",
      "INFO:cmdstanpy:Chain [2] done processing\n",
      "INFO:cmdstanpy:found newer exe file, not recompiling\n",
      "INFO:cmdstanpy:found newer exe file, not recompiling\n",
      "INFO:cmdstanpy:CmdStan start procesing\n",
      "INFO:cmdstanpy:Chain [1] start processing\n",
      "INFO:cmdstanpy:Chain [2] start processing\n",
      "INFO:cmdstanpy:Chain [3] start processing\n",
      "INFO:cmdstanpy:Chain [4] start processing\n"
     ]
    },
    {
     "name": "stdout",
     "output_type": "stream",
     "text": [
      "Fitting toy MC bin no.901\n",
      "0.9498854961832062\n",
      "393 303\n"
     ]
    },
    {
     "name": "stderr",
     "output_type": "stream",
     "text": [
      "INFO:cmdstanpy:Chain [3] done processing\n",
      "INFO:cmdstanpy:Chain [1] done processing\n",
      "INFO:cmdstanpy:Chain [4] done processing\n",
      "INFO:cmdstanpy:Chain [2] done processing\n",
      "INFO:cmdstanpy:found newer exe file, not recompiling\n",
      "INFO:cmdstanpy:found newer exe file, not recompiling\n",
      "INFO:cmdstanpy:CmdStan start procesing\n",
      "INFO:cmdstanpy:Chain [1] start processing\n",
      "INFO:cmdstanpy:Chain [2] start processing\n",
      "INFO:cmdstanpy:Chain [3] start processing\n",
      "INFO:cmdstanpy:Chain [4] start processing\n"
     ]
    },
    {
     "name": "stdout",
     "output_type": "stream",
     "text": [
      "Fitting toy MC bin no.902\n",
      "0.949925925925926\n",
      "405 312\n"
     ]
    },
    {
     "name": "stderr",
     "output_type": "stream",
     "text": [
      "INFO:cmdstanpy:Chain [2] done processing\n",
      "INFO:cmdstanpy:Chain [1] done processing\n",
      "INFO:cmdstanpy:Chain [3] done processing\n",
      "INFO:cmdstanpy:Chain [4] done processing\n",
      "INFO:cmdstanpy:found newer exe file, not recompiling\n",
      "INFO:cmdstanpy:found newer exe file, not recompiling\n",
      "INFO:cmdstanpy:CmdStan start procesing\n",
      "INFO:cmdstanpy:Chain [1] start processing\n",
      "INFO:cmdstanpy:Chain [2] start processing\n",
      "INFO:cmdstanpy:Chain [3] start processing\n",
      "INFO:cmdstanpy:Chain [4] start processing\n"
     ]
    },
    {
     "name": "stdout",
     "output_type": "stream",
     "text": [
      "Fitting toy MC bin no.903\n",
      "0.9497875\n",
      "400 309\n"
     ]
    },
    {
     "name": "stderr",
     "output_type": "stream",
     "text": [
      "INFO:cmdstanpy:Chain [4] done processing\n",
      "INFO:cmdstanpy:Chain [1] done processing\n",
      "INFO:cmdstanpy:Chain [3] done processing\n",
      "INFO:cmdstanpy:Chain [2] done processing\n",
      "INFO:cmdstanpy:found newer exe file, not recompiling\n",
      "INFO:cmdstanpy:found newer exe file, not recompiling\n",
      "INFO:cmdstanpy:CmdStan start procesing\n",
      "INFO:cmdstanpy:Chain [1] start processing\n",
      "INFO:cmdstanpy:Chain [2] start processing\n",
      "INFO:cmdstanpy:Chain [3] start processing\n",
      "INFO:cmdstanpy:Chain [4] start processing\n"
     ]
    },
    {
     "name": "stdout",
     "output_type": "stream",
     "text": [
      "Fitting toy MC bin no.904\n",
      "0.9499616368286445\n",
      "391 301\n"
     ]
    },
    {
     "name": "stderr",
     "output_type": "stream",
     "text": [
      "INFO:cmdstanpy:Chain [4] done processing\n",
      "INFO:cmdstanpy:Chain [2] done processing\n",
      "INFO:cmdstanpy:Chain [3] done processing\n",
      "INFO:cmdstanpy:Chain [1] done processing\n",
      "INFO:cmdstanpy:found newer exe file, not recompiling\n",
      "INFO:cmdstanpy:found newer exe file, not recompiling\n",
      "INFO:cmdstanpy:CmdStan start procesing\n",
      "INFO:cmdstanpy:Chain [1] start processing\n",
      "INFO:cmdstanpy:Chain [2] start processing\n",
      "INFO:cmdstanpy:Chain [3] start processing\n",
      "INFO:cmdstanpy:Chain [4] start processing\n"
     ]
    },
    {
     "name": "stdout",
     "output_type": "stream",
     "text": [
      "Fitting toy MC bin no.905\n",
      "0.9500629722921915\n",
      "397 305\n"
     ]
    },
    {
     "name": "stderr",
     "output_type": "stream",
     "text": [
      "INFO:cmdstanpy:Chain [4] done processing\n",
      "INFO:cmdstanpy:Chain [2] done processing\n",
      "INFO:cmdstanpy:Chain [3] done processing\n",
      "INFO:cmdstanpy:Chain [1] done processing\n",
      "INFO:cmdstanpy:found newer exe file, not recompiling\n",
      "INFO:cmdstanpy:found newer exe file, not recompiling\n",
      "INFO:cmdstanpy:CmdStan start procesing\n",
      "INFO:cmdstanpy:Chain [1] start processing\n",
      "INFO:cmdstanpy:Chain [2] start processing\n",
      "INFO:cmdstanpy:Chain [3] start processing\n",
      "INFO:cmdstanpy:Chain [4] start processing\n"
     ]
    },
    {
     "name": "stdout",
     "output_type": "stream",
     "text": [
      "Fitting toy MC bin no.906\n",
      "0.9497727272727272\n",
      "418 323\n"
     ]
    },
    {
     "name": "stderr",
     "output_type": "stream",
     "text": [
      "INFO:cmdstanpy:Chain [4] done processing\n",
      "INFO:cmdstanpy:Chain [1] done processing\n",
      "INFO:cmdstanpy:Chain [2] done processing\n",
      "INFO:cmdstanpy:Chain [3] done processing\n",
      "INFO:cmdstanpy:found newer exe file, not recompiling\n",
      "INFO:cmdstanpy:found newer exe file, not recompiling\n",
      "INFO:cmdstanpy:CmdStan start procesing\n",
      "INFO:cmdstanpy:Chain [1] start processing\n",
      "INFO:cmdstanpy:Chain [2] start processing\n",
      "INFO:cmdstanpy:Chain [3] start processing\n",
      "INFO:cmdstanpy:Chain [4] start processing\n"
     ]
    },
    {
     "name": "stdout",
     "output_type": "stream",
     "text": [
      "Fitting toy MC bin no.907\n",
      "0.9497867298578199\n",
      "422 326\n"
     ]
    },
    {
     "name": "stderr",
     "output_type": "stream",
     "text": [
      "INFO:cmdstanpy:Chain [3] done processing\n",
      "INFO:cmdstanpy:Chain [2] done processing\n",
      "INFO:cmdstanpy:Chain [1] done processing\n",
      "INFO:cmdstanpy:Chain [4] done processing\n",
      "INFO:cmdstanpy:found newer exe file, not recompiling\n",
      "INFO:cmdstanpy:found newer exe file, not recompiling\n",
      "INFO:cmdstanpy:CmdStan start procesing\n",
      "INFO:cmdstanpy:Chain [1] start processing\n",
      "INFO:cmdstanpy:Chain [2] start processing\n",
      "INFO:cmdstanpy:Chain [3] start processing\n",
      "INFO:cmdstanpy:Chain [4] start processing\n"
     ]
    },
    {
     "name": "stdout",
     "output_type": "stream",
     "text": [
      "Fitting toy MC bin no.908\n",
      "0.9499208443271767\n",
      "379 292\n"
     ]
    },
    {
     "name": "stderr",
     "output_type": "stream",
     "text": [
      "INFO:cmdstanpy:Chain [2] done processing\n",
      "INFO:cmdstanpy:Chain [1] done processing\n",
      "INFO:cmdstanpy:Chain [3] done processing\n",
      "INFO:cmdstanpy:Chain [4] done processing\n",
      "INFO:cmdstanpy:found newer exe file, not recompiling\n",
      "INFO:cmdstanpy:found newer exe file, not recompiling\n",
      "INFO:cmdstanpy:CmdStan start procesing\n",
      "INFO:cmdstanpy:Chain [1] start processing\n",
      "INFO:cmdstanpy:Chain [2] start processing\n",
      "INFO:cmdstanpy:Chain [3] start processing\n",
      "INFO:cmdstanpy:Chain [4] start processing\n"
     ]
    },
    {
     "name": "stdout",
     "output_type": "stream",
     "text": [
      "Fitting toy MC bin no.909\n",
      "0.9498618090452262\n",
      "398 307\n"
     ]
    },
    {
     "name": "stderr",
     "output_type": "stream",
     "text": [
      "INFO:cmdstanpy:Chain [1] done processing\n",
      "INFO:cmdstanpy:Chain [2] done processing\n",
      "INFO:cmdstanpy:Chain [3] done processing\n",
      "INFO:cmdstanpy:Chain [4] done processing\n",
      "INFO:cmdstanpy:found newer exe file, not recompiling\n",
      "INFO:cmdstanpy:found newer exe file, not recompiling\n",
      "INFO:cmdstanpy:CmdStan start procesing\n",
      "INFO:cmdstanpy:Chain [1] start processing\n",
      "INFO:cmdstanpy:Chain [2] start processing\n",
      "INFO:cmdstanpy:Chain [3] start processing\n",
      "INFO:cmdstanpy:Chain [4] start processing\n"
     ]
    },
    {
     "name": "stdout",
     "output_type": "stream",
     "text": [
      "Fitting toy MC bin no.910\n",
      "0.9498300970873786\n",
      "412 318\n"
     ]
    },
    {
     "name": "stderr",
     "output_type": "stream",
     "text": [
      "INFO:cmdstanpy:Chain [2] done processing\n",
      "INFO:cmdstanpy:Chain [4] done processing\n",
      "INFO:cmdstanpy:Chain [1] done processing\n",
      "INFO:cmdstanpy:Chain [3] done processing\n",
      "INFO:cmdstanpy:found newer exe file, not recompiling\n",
      "INFO:cmdstanpy:found newer exe file, not recompiling\n",
      "INFO:cmdstanpy:CmdStan start procesing\n",
      "INFO:cmdstanpy:Chain [1] start processing\n",
      "INFO:cmdstanpy:Chain [2] start processing\n",
      "INFO:cmdstanpy:Chain [3] start processing\n",
      "INFO:cmdstanpy:Chain [4] start processing\n"
     ]
    },
    {
     "name": "stdout",
     "output_type": "stream",
     "text": [
      "Fitting toy MC bin no.911\n",
      "0.949925925925926\n",
      "405 312\n"
     ]
    },
    {
     "name": "stderr",
     "output_type": "stream",
     "text": [
      "INFO:cmdstanpy:Chain [4] done processing\n",
      "INFO:cmdstanpy:Chain [1] done processing\n",
      "INFO:cmdstanpy:Chain [2] done processing\n",
      "INFO:cmdstanpy:Chain [3] done processing\n",
      "INFO:cmdstanpy:found newer exe file, not recompiling\n",
      "INFO:cmdstanpy:found newer exe file, not recompiling\n",
      "INFO:cmdstanpy:CmdStan start procesing\n",
      "INFO:cmdstanpy:Chain [1] start processing\n",
      "INFO:cmdstanpy:Chain [2] start processing\n",
      "INFO:cmdstanpy:Chain [3] start processing\n",
      "INFO:cmdstanpy:Chain [4] start processing\n"
     ]
    },
    {
     "name": "stdout",
     "output_type": "stream",
     "text": [
      "Fitting toy MC bin no.912\n",
      "0.9499208443271767\n",
      "379 292\n"
     ]
    },
    {
     "name": "stderr",
     "output_type": "stream",
     "text": [
      "INFO:cmdstanpy:Chain [1] done processing\n",
      "INFO:cmdstanpy:Chain [3] done processing\n",
      "INFO:cmdstanpy:Chain [2] done processing\n",
      "INFO:cmdstanpy:Chain [4] done processing\n",
      "INFO:cmdstanpy:found newer exe file, not recompiling\n",
      "INFO:cmdstanpy:found newer exe file, not recompiling\n",
      "INFO:cmdstanpy:CmdStan start procesing\n",
      "INFO:cmdstanpy:Chain [1] start processing\n",
      "INFO:cmdstanpy:Chain [2] start processing\n",
      "INFO:cmdstanpy:Chain [3] start processing\n",
      "INFO:cmdstanpy:Chain [4] start processing\n"
     ]
    },
    {
     "name": "stdout",
     "output_type": "stream",
     "text": [
      "Fitting toy MC bin no.913\n",
      "0.9498854961832062\n",
      "393 303\n"
     ]
    },
    {
     "name": "stderr",
     "output_type": "stream",
     "text": [
      "INFO:cmdstanpy:Chain [4] done processing\n",
      "INFO:cmdstanpy:Chain [2] done processing\n",
      "INFO:cmdstanpy:Chain [1] done processing\n",
      "INFO:cmdstanpy:Chain [3] done processing\n",
      "INFO:cmdstanpy:found newer exe file, not recompiling\n",
      "INFO:cmdstanpy:found newer exe file, not recompiling\n",
      "INFO:cmdstanpy:CmdStan start procesing\n",
      "INFO:cmdstanpy:Chain [1] start processing\n",
      "INFO:cmdstanpy:Chain [2] start processing\n",
      "INFO:cmdstanpy:Chain [3] start processing\n",
      "INFO:cmdstanpy:Chain [4] start processing\n"
     ]
    },
    {
     "name": "stdout",
     "output_type": "stream",
     "text": [
      "Fitting toy MC bin no.914\n",
      "0.9498525798525798\n",
      "407 314\n"
     ]
    },
    {
     "name": "stderr",
     "output_type": "stream",
     "text": [
      "INFO:cmdstanpy:Chain [3] done processing\n",
      "INFO:cmdstanpy:Chain [1] done processing\n",
      "INFO:cmdstanpy:Chain [4] done processing\n",
      "INFO:cmdstanpy:Chain [2] done processing\n",
      "INFO:cmdstanpy:found newer exe file, not recompiling\n",
      "INFO:cmdstanpy:found newer exe file, not recompiling\n",
      "INFO:cmdstanpy:CmdStan start procesing\n",
      "INFO:cmdstanpy:Chain [1] start processing\n",
      "INFO:cmdstanpy:Chain [2] start processing\n",
      "INFO:cmdstanpy:Chain [3] start processing\n",
      "INFO:cmdstanpy:Chain [4] start processing\n"
     ]
    },
    {
     "name": "stdout",
     "output_type": "stream",
     "text": [
      "Fitting toy MC bin no.915\n",
      "0.9498670212765957\n",
      "376 290\n"
     ]
    },
    {
     "name": "stderr",
     "output_type": "stream",
     "text": [
      "INFO:cmdstanpy:Chain [1] done processing\n",
      "INFO:cmdstanpy:Chain [4] done processing\n",
      "INFO:cmdstanpy:Chain [2] done processing\n",
      "INFO:cmdstanpy:Chain [3] done processing\n",
      "INFO:cmdstanpy:found newer exe file, not recompiling\n",
      "INFO:cmdstanpy:found newer exe file, not recompiling\n",
      "INFO:cmdstanpy:CmdStan start procesing\n",
      "INFO:cmdstanpy:Chain [1] start processing\n",
      "INFO:cmdstanpy:Chain [2] start processing\n",
      "INFO:cmdstanpy:Chain [3] start processing\n",
      "INFO:cmdstanpy:Chain [4] start processing\n"
     ]
    },
    {
     "name": "stdout",
     "output_type": "stream",
     "text": [
      "Fitting toy MC bin no.916\n",
      "0.9499388753056234\n",
      "409 315\n"
     ]
    },
    {
     "name": "stderr",
     "output_type": "stream",
     "text": [
      "INFO:cmdstanpy:Chain [2] done processing\n",
      "INFO:cmdstanpy:Chain [1] done processing\n",
      "INFO:cmdstanpy:Chain [4] done processing\n",
      "INFO:cmdstanpy:Chain [3] done processing\n",
      "INFO:cmdstanpy:found newer exe file, not recompiling\n",
      "INFO:cmdstanpy:found newer exe file, not recompiling\n",
      "INFO:cmdstanpy:CmdStan start procesing\n",
      "INFO:cmdstanpy:Chain [1] start processing\n",
      "INFO:cmdstanpy:Chain [2] start processing\n",
      "INFO:cmdstanpy:Chain [3] start processing\n",
      "INFO:cmdstanpy:Chain [4] start processing\n"
     ]
    },
    {
     "name": "stdout",
     "output_type": "stream",
     "text": [
      "Fitting toy MC bin no.917\n",
      "0.9499640287769784\n",
      "417 321\n"
     ]
    },
    {
     "name": "stderr",
     "output_type": "stream",
     "text": [
      "INFO:cmdstanpy:Chain [4] done processing\n",
      "INFO:cmdstanpy:Chain [3] done processing\n",
      "INFO:cmdstanpy:Chain [2] done processing\n",
      "INFO:cmdstanpy:Chain [1] done processing\n",
      "INFO:cmdstanpy:found newer exe file, not recompiling\n",
      "INFO:cmdstanpy:found newer exe file, not recompiling\n",
      "INFO:cmdstanpy:CmdStan start procesing\n",
      "INFO:cmdstanpy:Chain [1] start processing\n",
      "INFO:cmdstanpy:Chain [2] start processing\n",
      "INFO:cmdstanpy:Chain [3] start processing\n",
      "INFO:cmdstanpy:Chain [4] start processing\n"
     ]
    },
    {
     "name": "stdout",
     "output_type": "stream",
     "text": [
      "Fitting toy MC bin no.918\n",
      "0.9498484848484848\n",
      "429 331\n"
     ]
    },
    {
     "name": "stderr",
     "output_type": "stream",
     "text": [
      "INFO:cmdstanpy:Chain [3] done processing\n",
      "INFO:cmdstanpy:Chain [2] done processing\n",
      "INFO:cmdstanpy:Chain [1] done processing\n",
      "INFO:cmdstanpy:Chain [4] done processing\n",
      "INFO:cmdstanpy:found newer exe file, not recompiling\n",
      "INFO:cmdstanpy:found newer exe file, not recompiling\n",
      "INFO:cmdstanpy:CmdStan start procesing\n",
      "INFO:cmdstanpy:Chain [1] start processing\n",
      "INFO:cmdstanpy:Chain [2] start processing\n",
      "INFO:cmdstanpy:Chain [3] start processing\n",
      "INFO:cmdstanpy:Chain [4] start processing\n"
     ]
    },
    {
     "name": "stdout",
     "output_type": "stream",
     "text": [
      "Fitting toy MC bin no.919\n",
      "0.949909793814433\n",
      "388 299\n"
     ]
    },
    {
     "name": "stderr",
     "output_type": "stream",
     "text": [
      "INFO:cmdstanpy:Chain [1] done processing\n",
      "INFO:cmdstanpy:Chain [2] done processing\n",
      "INFO:cmdstanpy:Chain [4] done processing\n",
      "INFO:cmdstanpy:Chain [3] done processing\n",
      "INFO:cmdstanpy:found newer exe file, not recompiling\n",
      "INFO:cmdstanpy:found newer exe file, not recompiling\n",
      "INFO:cmdstanpy:CmdStan start procesing\n",
      "INFO:cmdstanpy:Chain [1] start processing\n",
      "INFO:cmdstanpy:Chain [2] start processing\n",
      "INFO:cmdstanpy:Chain [3] start processing\n",
      "INFO:cmdstanpy:Chain [4] start processing\n"
     ]
    },
    {
     "name": "stdout",
     "output_type": "stream",
     "text": [
      "Fitting toy MC bin no.920\n",
      "0.9499746835443038\n",
      "395 304\n"
     ]
    },
    {
     "name": "stderr",
     "output_type": "stream",
     "text": [
      "INFO:cmdstanpy:Chain [4] done processing\n",
      "INFO:cmdstanpy:Chain [3] done processing\n",
      "INFO:cmdstanpy:Chain [1] done processing\n",
      "INFO:cmdstanpy:Chain [2] done processing\n",
      "INFO:cmdstanpy:found newer exe file, not recompiling\n",
      "INFO:cmdstanpy:found newer exe file, not recompiling\n",
      "INFO:cmdstanpy:CmdStan start procesing\n",
      "INFO:cmdstanpy:Chain [1] start processing\n",
      "INFO:cmdstanpy:Chain [2] start processing\n",
      "INFO:cmdstanpy:Chain [3] start processing\n",
      "INFO:cmdstanpy:Chain [4] start processing\n"
     ]
    },
    {
     "name": "stdout",
     "output_type": "stream",
     "text": [
      "Fitting toy MC bin no.921\n",
      "0.9499234693877551\n",
      "392 302\n"
     ]
    },
    {
     "name": "stderr",
     "output_type": "stream",
     "text": [
      "INFO:cmdstanpy:Chain [2] done processing\n",
      "INFO:cmdstanpy:Chain [3] done processing\n",
      "INFO:cmdstanpy:Chain [1] done processing\n",
      "INFO:cmdstanpy:Chain [4] done processing\n",
      "INFO:cmdstanpy:found newer exe file, not recompiling\n",
      "INFO:cmdstanpy:found newer exe file, not recompiling\n",
      "INFO:cmdstanpy:CmdStan start procesing\n",
      "INFO:cmdstanpy:Chain [1] start processing\n",
      "INFO:cmdstanpy:Chain [2] start processing\n",
      "INFO:cmdstanpy:Chain [3] start processing\n",
      "INFO:cmdstanpy:Chain [4] start processing\n"
     ]
    },
    {
     "name": "stdout",
     "output_type": "stream",
     "text": [
      "Fitting toy MC bin no.922\n",
      "0.9500629722921915\n",
      "397 305\n"
     ]
    },
    {
     "name": "stderr",
     "output_type": "stream",
     "text": [
      "INFO:cmdstanpy:Chain [2] done processing\n",
      "INFO:cmdstanpy:Chain [3] done processing\n",
      "INFO:cmdstanpy:Chain [4] done processing\n",
      "INFO:cmdstanpy:Chain [1] done processing\n",
      "INFO:cmdstanpy:found newer exe file, not recompiling\n",
      "INFO:cmdstanpy:found newer exe file, not recompiling\n",
      "INFO:cmdstanpy:CmdStan start procesing\n",
      "INFO:cmdstanpy:Chain [1] start processing\n",
      "INFO:cmdstanpy:Chain [2] start processing\n",
      "INFO:cmdstanpy:Chain [3] start processing\n",
      "INFO:cmdstanpy:Chain [4] start processing\n"
     ]
    },
    {
     "name": "stdout",
     "output_type": "stream",
     "text": [
      "Fitting toy MC bin no.923\n",
      "0.9497650130548303\n",
      "383 296\n"
     ]
    },
    {
     "name": "stderr",
     "output_type": "stream",
     "text": [
      "INFO:cmdstanpy:Chain [1] done processing\n",
      "INFO:cmdstanpy:Chain [2] done processing\n",
      "INFO:cmdstanpy:Chain [4] done processing\n",
      "INFO:cmdstanpy:Chain [3] done processing\n",
      "INFO:cmdstanpy:found newer exe file, not recompiling\n",
      "INFO:cmdstanpy:found newer exe file, not recompiling\n",
      "INFO:cmdstanpy:CmdStan start procesing\n",
      "INFO:cmdstanpy:Chain [1] start processing\n",
      "INFO:cmdstanpy:Chain [2] start processing\n",
      "INFO:cmdstanpy:Chain [3] start processing\n",
      "INFO:cmdstanpy:Chain [4] start processing\n"
     ]
    },
    {
     "name": "stdout",
     "output_type": "stream",
     "text": [
      "Fitting toy MC bin no.924\n",
      "0.9497803617571059\n",
      "387 299\n"
     ]
    },
    {
     "name": "stderr",
     "output_type": "stream",
     "text": [
      "INFO:cmdstanpy:Chain [1] done processing\n",
      "INFO:cmdstanpy:Chain [2] done processing\n",
      "INFO:cmdstanpy:Chain [3] done processing\n",
      "INFO:cmdstanpy:Chain [4] done processing\n",
      "INFO:cmdstanpy:found newer exe file, not recompiling\n",
      "INFO:cmdstanpy:found newer exe file, not recompiling\n",
      "INFO:cmdstanpy:CmdStan start procesing\n",
      "INFO:cmdstanpy:Chain [1] start processing\n",
      "INFO:cmdstanpy:Chain [2] start processing\n",
      "INFO:cmdstanpy:Chain [3] start processing\n",
      "INFO:cmdstanpy:Chain [4] start processing\n"
     ]
    },
    {
     "name": "stdout",
     "output_type": "stream",
     "text": [
      "Fitting toy MC bin no.925\n",
      "0.9497654320987654\n",
      "405 313\n"
     ]
    },
    {
     "name": "stderr",
     "output_type": "stream",
     "text": [
      "INFO:cmdstanpy:Chain [1] done processing\n",
      "INFO:cmdstanpy:Chain [4] done processing\n",
      "INFO:cmdstanpy:Chain [3] done processing\n",
      "INFO:cmdstanpy:Chain [2] done processing\n",
      "INFO:cmdstanpy:found newer exe file, not recompiling\n",
      "INFO:cmdstanpy:found newer exe file, not recompiling\n",
      "INFO:cmdstanpy:CmdStan start procesing\n",
      "INFO:cmdstanpy:Chain [1] start processing\n",
      "INFO:cmdstanpy:Chain [2] start processing\n",
      "INFO:cmdstanpy:Chain [3] start processing\n",
      "INFO:cmdstanpy:Chain [4] start processing\n"
     ]
    },
    {
     "name": "stdout",
     "output_type": "stream",
     "text": [
      "Fitting toy MC bin no.926\n",
      "0.9498300970873786\n",
      "412 318\n"
     ]
    },
    {
     "name": "stderr",
     "output_type": "stream",
     "text": [
      "INFO:cmdstanpy:Chain [1] done processing\n",
      "INFO:cmdstanpy:Chain [4] done processing\n",
      "INFO:cmdstanpy:Chain [3] done processing\n",
      "INFO:cmdstanpy:Chain [2] done processing\n",
      "INFO:cmdstanpy:found newer exe file, not recompiling\n",
      "INFO:cmdstanpy:found newer exe file, not recompiling\n",
      "INFO:cmdstanpy:CmdStan start procesing\n",
      "INFO:cmdstanpy:Chain [1] start processing\n",
      "INFO:cmdstanpy:Chain [2] start processing\n",
      "INFO:cmdstanpy:Chain [3] start processing\n",
      "INFO:cmdstanpy:Chain [4] start processing\n"
     ]
    },
    {
     "name": "stdout",
     "output_type": "stream",
     "text": [
      "Fitting toy MC bin no.927\n",
      "0.9498300970873786\n",
      "412 318\n"
     ]
    },
    {
     "name": "stderr",
     "output_type": "stream",
     "text": [
      "INFO:cmdstanpy:Chain [1] done processing\n",
      "INFO:cmdstanpy:Chain [2] done processing\n",
      "INFO:cmdstanpy:Chain [3] done processing\n",
      "INFO:cmdstanpy:Chain [4] done processing\n",
      "INFO:cmdstanpy:found newer exe file, not recompiling\n",
      "INFO:cmdstanpy:found newer exe file, not recompiling\n",
      "INFO:cmdstanpy:CmdStan start procesing\n",
      "INFO:cmdstanpy:Chain [1] start processing\n",
      "INFO:cmdstanpy:Chain [2] start processing\n",
      "INFO:cmdstanpy:Chain [3] start processing\n",
      "INFO:cmdstanpy:Chain [4] start processing\n"
     ]
    },
    {
     "name": "stdout",
     "output_type": "stream",
     "text": [
      "Fitting toy MC bin no.928\n",
      "0.9499616368286445\n",
      "391 301\n"
     ]
    },
    {
     "name": "stderr",
     "output_type": "stream",
     "text": [
      "INFO:cmdstanpy:Chain [2] done processing\n",
      "INFO:cmdstanpy:Chain [1] done processing\n",
      "INFO:cmdstanpy:Chain [3] done processing\n",
      "INFO:cmdstanpy:Chain [4] done processing\n",
      "INFO:cmdstanpy:found newer exe file, not recompiling\n",
      "INFO:cmdstanpy:found newer exe file, not recompiling\n",
      "INFO:cmdstanpy:CmdStan start procesing\n",
      "INFO:cmdstanpy:Chain [1] start processing\n",
      "INFO:cmdstanpy:Chain [2] start processing\n",
      "INFO:cmdstanpy:Chain [3] start processing\n",
      "INFO:cmdstanpy:Chain [4] start processing\n"
     ]
    },
    {
     "name": "stdout",
     "output_type": "stream",
     "text": [
      "Fitting toy MC bin no.929\n",
      "0.9499628712871288\n",
      "404 311\n"
     ]
    },
    {
     "name": "stderr",
     "output_type": "stream",
     "text": [
      "INFO:cmdstanpy:Chain [1] done processing\n",
      "INFO:cmdstanpy:Chain [2] done processing\n",
      "INFO:cmdstanpy:Chain [4] done processing\n",
      "INFO:cmdstanpy:Chain [3] done processing\n",
      "INFO:cmdstanpy:found newer exe file, not recompiling\n",
      "INFO:cmdstanpy:found newer exe file, not recompiling\n",
      "INFO:cmdstanpy:CmdStan start procesing\n",
      "INFO:cmdstanpy:Chain [1] start processing\n",
      "INFO:cmdstanpy:Chain [2] start processing\n",
      "INFO:cmdstanpy:Chain [3] start processing\n",
      "INFO:cmdstanpy:Chain [4] start processing\n"
     ]
    },
    {
     "name": "stdout",
     "output_type": "stream",
     "text": [
      "Fitting toy MC bin no.930\n",
      "0.9499754901960784\n",
      "408 314\n"
     ]
    },
    {
     "name": "stderr",
     "output_type": "stream",
     "text": [
      "INFO:cmdstanpy:Chain [3] done processing\n",
      "INFO:cmdstanpy:Chain [1] done processing\n",
      "INFO:cmdstanpy:Chain [4] done processing\n",
      "INFO:cmdstanpy:Chain [2] done processing\n",
      "INFO:cmdstanpy:found newer exe file, not recompiling\n",
      "INFO:cmdstanpy:found newer exe file, not recompiling\n",
      "INFO:cmdstanpy:CmdStan start procesing\n",
      "INFO:cmdstanpy:Chain [1] start processing\n",
      "INFO:cmdstanpy:Chain [2] start processing\n",
      "INFO:cmdstanpy:Chain [3] start processing\n",
      "INFO:cmdstanpy:Chain [4] start processing\n"
     ]
    },
    {
     "name": "stdout",
     "output_type": "stream",
     "text": [
      "Fitting toy MC bin no.931\n",
      "0.950132275132275\n",
      "378 290\n"
     ]
    },
    {
     "name": "stderr",
     "output_type": "stream",
     "text": [
      "INFO:cmdstanpy:Chain [1] done processing\n",
      "INFO:cmdstanpy:Chain [2] done processing\n",
      "INFO:cmdstanpy:Chain [4] done processing\n",
      "INFO:cmdstanpy:Chain [3] done processing\n",
      "INFO:cmdstanpy:found newer exe file, not recompiling\n",
      "INFO:cmdstanpy:found newer exe file, not recompiling\n",
      "INFO:cmdstanpy:CmdStan start procesing\n",
      "INFO:cmdstanpy:Chain [1] start processing\n",
      "INFO:cmdstanpy:Chain [2] start processing\n",
      "INFO:cmdstanpy:Chain [3] start processing\n",
      "INFO:cmdstanpy:Chain [4] start processing\n"
     ]
    },
    {
     "name": "stdout",
     "output_type": "stream",
     "text": [
      "Fitting toy MC bin no.932\n",
      "0.9499515738498789\n",
      "413 318\n"
     ]
    },
    {
     "name": "stderr",
     "output_type": "stream",
     "text": [
      "INFO:cmdstanpy:Chain [1] done processing\n",
      "INFO:cmdstanpy:Chain [4] done processing\n",
      "INFO:cmdstanpy:Chain [3] done processing\n",
      "INFO:cmdstanpy:Chain [2] done processing\n",
      "INFO:cmdstanpy:found newer exe file, not recompiling\n",
      "INFO:cmdstanpy:found newer exe file, not recompiling\n",
      "INFO:cmdstanpy:CmdStan start procesing\n",
      "INFO:cmdstanpy:Chain [1] start processing\n",
      "INFO:cmdstanpy:Chain [2] start processing\n",
      "INFO:cmdstanpy:Chain [3] start processing\n",
      "INFO:cmdstanpy:Chain [4] start processing\n"
     ]
    },
    {
     "name": "stdout",
     "output_type": "stream",
     "text": [
      "Fitting toy MC bin no.933\n",
      "0.9500228832951946\n",
      "437 336\n"
     ]
    },
    {
     "name": "stderr",
     "output_type": "stream",
     "text": [
      "INFO:cmdstanpy:Chain [4] done processing\n",
      "INFO:cmdstanpy:Chain [2] done processing\n",
      "INFO:cmdstanpy:Chain [1] done processing\n",
      "INFO:cmdstanpy:Chain [3] done processing\n",
      "INFO:cmdstanpy:found newer exe file, not recompiling\n",
      "INFO:cmdstanpy:found newer exe file, not recompiling\n",
      "INFO:cmdstanpy:CmdStan start procesing\n",
      "INFO:cmdstanpy:Chain [1] start processing\n",
      "INFO:cmdstanpy:Chain [2] start processing\n",
      "INFO:cmdstanpy:Chain [3] start processing\n",
      "INFO:cmdstanpy:Chain [4] start processing\n"
     ]
    },
    {
     "name": "stdout",
     "output_type": "stream",
     "text": [
      "Fitting toy MC bin no.934\n",
      "0.9497567567567569\n",
      "370 286\n"
     ]
    },
    {
     "name": "stderr",
     "output_type": "stream",
     "text": [
      "INFO:cmdstanpy:Chain [1] done processing\n",
      "INFO:cmdstanpy:Chain [2] done processing\n",
      "INFO:cmdstanpy:Chain [4] done processing\n",
      "INFO:cmdstanpy:Chain [3] done processing\n",
      "INFO:cmdstanpy:found newer exe file, not recompiling\n",
      "INFO:cmdstanpy:found newer exe file, not recompiling\n",
      "INFO:cmdstanpy:CmdStan start procesing\n",
      "INFO:cmdstanpy:Chain [1] start processing\n",
      "INFO:cmdstanpy:Chain [2] start processing\n",
      "INFO:cmdstanpy:Chain [3] start processing\n",
      "INFO:cmdstanpy:Chain [4] start processing\n"
     ]
    },
    {
     "name": "stdout",
     "output_type": "stream",
     "text": [
      "Fitting toy MC bin no.935\n",
      "0.949934725848564\n",
      "383 295\n"
     ]
    },
    {
     "name": "stderr",
     "output_type": "stream",
     "text": [
      "INFO:cmdstanpy:Chain [2] done processing\n",
      "INFO:cmdstanpy:Chain [3] done processing\n",
      "INFO:cmdstanpy:Chain [1] done processing\n",
      "INFO:cmdstanpy:Chain [4] done processing\n",
      "INFO:cmdstanpy:found newer exe file, not recompiling\n",
      "INFO:cmdstanpy:found newer exe file, not recompiling\n",
      "INFO:cmdstanpy:CmdStan start procesing\n",
      "INFO:cmdstanpy:Chain [1] start processing\n",
      "INFO:cmdstanpy:Chain [2] start processing\n",
      "INFO:cmdstanpy:Chain [3] start processing\n",
      "INFO:cmdstanpy:Chain [4] start processing\n"
     ]
    },
    {
     "name": "stdout",
     "output_type": "stream",
     "text": [
      "Fitting toy MC bin no.936\n",
      "0.9498958333333334\n",
      "432 333\n"
     ]
    },
    {
     "name": "stderr",
     "output_type": "stream",
     "text": [
      "INFO:cmdstanpy:Chain [3] done processing\n",
      "INFO:cmdstanpy:Chain [1] done processing\n",
      "INFO:cmdstanpy:Chain [4] done processing\n",
      "INFO:cmdstanpy:Chain [2] done processing\n",
      "INFO:cmdstanpy:found newer exe file, not recompiling\n",
      "INFO:cmdstanpy:found newer exe file, not recompiling\n",
      "INFO:cmdstanpy:CmdStan start procesing\n",
      "INFO:cmdstanpy:Chain [1] start processing\n",
      "INFO:cmdstanpy:Chain [2] start processing\n",
      "INFO:cmdstanpy:Chain [3] start processing\n",
      "INFO:cmdstanpy:Chain [4] start processing\n"
     ]
    },
    {
     "name": "stdout",
     "output_type": "stream",
     "text": [
      "Fitting toy MC bin no.937\n",
      "0.9499865951742628\n",
      "373 287\n"
     ]
    },
    {
     "name": "stderr",
     "output_type": "stream",
     "text": [
      "INFO:cmdstanpy:Chain [1] done processing\n",
      "INFO:cmdstanpy:Chain [2] done processing\n",
      "INFO:cmdstanpy:Chain [4] done processing\n",
      "INFO:cmdstanpy:Chain [3] done processing\n",
      "INFO:cmdstanpy:found newer exe file, not recompiling\n",
      "INFO:cmdstanpy:found newer exe file, not recompiling\n",
      "INFO:cmdstanpy:CmdStan start procesing\n",
      "INFO:cmdstanpy:Chain [1] start processing\n",
      "INFO:cmdstanpy:Chain [2] start processing\n",
      "INFO:cmdstanpy:Chain [3] start processing\n",
      "INFO:cmdstanpy:Chain [4] start processing\n"
     ]
    },
    {
     "name": "stdout",
     "output_type": "stream",
     "text": [
      "Fitting toy MC bin no.938\n",
      "0.9498702830188679\n",
      "424 327\n"
     ]
    },
    {
     "name": "stderr",
     "output_type": "stream",
     "text": [
      "INFO:cmdstanpy:Chain [2] done processing\n",
      "INFO:cmdstanpy:Chain [3] done processing\n",
      "INFO:cmdstanpy:Chain [4] done processing\n",
      "INFO:cmdstanpy:Chain [1] done processing\n",
      "INFO:cmdstanpy:found newer exe file, not recompiling\n",
      "INFO:cmdstanpy:found newer exe file, not recompiling\n",
      "INFO:cmdstanpy:CmdStan start procesing\n",
      "INFO:cmdstanpy:Chain [1] start processing\n",
      "INFO:cmdstanpy:Chain [2] start processing\n",
      "INFO:cmdstanpy:Chain [3] start processing\n",
      "INFO:cmdstanpy:Chain [4] start processing\n"
     ]
    },
    {
     "name": "stdout",
     "output_type": "stream",
     "text": [
      "Fitting toy MC bin no.939\n",
      "0.95\n",
      "377 290\n"
     ]
    },
    {
     "name": "stderr",
     "output_type": "stream",
     "text": [
      "INFO:cmdstanpy:Chain [1] done processing\n",
      "INFO:cmdstanpy:Chain [2] done processing\n",
      "INFO:cmdstanpy:Chain [3] done processing\n",
      "INFO:cmdstanpy:Chain [4] done processing\n",
      "INFO:cmdstanpy:found newer exe file, not recompiling\n",
      "INFO:cmdstanpy:found newer exe file, not recompiling\n",
      "INFO:cmdstanpy:CmdStan start procesing\n",
      "INFO:cmdstanpy:Chain [1] start processing\n",
      "INFO:cmdstanpy:Chain [2] start processing\n",
      "INFO:cmdstanpy:Chain [3] start processing\n",
      "INFO:cmdstanpy:Chain [4] start processing\n"
     ]
    },
    {
     "name": "stdout",
     "output_type": "stream",
     "text": [
      "Fitting toy MC bin no.940\n",
      "0.9499483204134367\n",
      "387 298\n"
     ]
    },
    {
     "name": "stderr",
     "output_type": "stream",
     "text": [
      "INFO:cmdstanpy:Chain [1] done processing\n",
      "INFO:cmdstanpy:Chain [4] done processing\n",
      "INFO:cmdstanpy:Chain [2] done processing\n",
      "INFO:cmdstanpy:Chain [3] done processing\n",
      "INFO:cmdstanpy:found newer exe file, not recompiling\n",
      "INFO:cmdstanpy:found newer exe file, not recompiling\n",
      "INFO:cmdstanpy:CmdStan start procesing\n",
      "INFO:cmdstanpy:Chain [1] start processing\n",
      "INFO:cmdstanpy:Chain [2] start processing\n",
      "INFO:cmdstanpy:Chain [3] start processing\n",
      "INFO:cmdstanpy:Chain [4] start processing\n"
     ]
    },
    {
     "name": "stdout",
     "output_type": "stream",
     "text": [
      "Fitting toy MC bin no.941\n",
      "0.9498186528497409\n",
      "386 298\n"
     ]
    },
    {
     "name": "stderr",
     "output_type": "stream",
     "text": [
      "INFO:cmdstanpy:Chain [1] done processing\n",
      "INFO:cmdstanpy:Chain [3] done processing\n",
      "INFO:cmdstanpy:Chain [4] done processing\n",
      "INFO:cmdstanpy:Chain [2] done processing\n",
      "INFO:cmdstanpy:found newer exe file, not recompiling\n",
      "INFO:cmdstanpy:found newer exe file, not recompiling\n",
      "INFO:cmdstanpy:CmdStan start procesing\n",
      "INFO:cmdstanpy:Chain [1] start processing\n",
      "INFO:cmdstanpy:Chain [2] start processing\n",
      "INFO:cmdstanpy:Chain [3] start processing\n",
      "INFO:cmdstanpy:Chain [4] start processing\n"
     ]
    },
    {
     "name": "stdout",
     "output_type": "stream",
     "text": [
      "Fitting toy MC bin no.942\n",
      "0.9501392405063291\n",
      "395 303\n"
     ]
    },
    {
     "name": "stderr",
     "output_type": "stream",
     "text": [
      "INFO:cmdstanpy:Chain [3] done processing\n",
      "INFO:cmdstanpy:Chain [2] done processing\n",
      "INFO:cmdstanpy:Chain [4] done processing\n",
      "INFO:cmdstanpy:Chain [1] done processing\n",
      "INFO:cmdstanpy:found newer exe file, not recompiling\n",
      "INFO:cmdstanpy:found newer exe file, not recompiling\n",
      "INFO:cmdstanpy:CmdStan start procesing\n",
      "INFO:cmdstanpy:Chain [1] start processing\n",
      "INFO:cmdstanpy:Chain [2] start processing\n",
      "INFO:cmdstanpy:Chain [3] start processing\n",
      "INFO:cmdstanpy:Chain [4] start processing\n"
     ]
    },
    {
     "name": "stdout",
     "output_type": "stream",
     "text": [
      "Fitting toy MC bin no.943\n",
      "0.9498275862068964\n",
      "377 291\n"
     ]
    },
    {
     "name": "stderr",
     "output_type": "stream",
     "text": [
      "INFO:cmdstanpy:Chain [2] done processing\n",
      "INFO:cmdstanpy:Chain [3] done processing\n",
      "INFO:cmdstanpy:Chain [4] done processing\n",
      "INFO:cmdstanpy:Chain [1] done processing\n",
      "INFO:cmdstanpy:found newer exe file, not recompiling\n",
      "INFO:cmdstanpy:found newer exe file, not recompiling\n",
      "INFO:cmdstanpy:CmdStan start procesing\n",
      "INFO:cmdstanpy:Chain [1] start processing\n",
      "INFO:cmdstanpy:Chain [2] start processing\n",
      "INFO:cmdstanpy:Chain [3] start processing\n",
      "INFO:cmdstanpy:Chain [4] start processing\n"
     ]
    },
    {
     "name": "stdout",
     "output_type": "stream",
     "text": [
      "Fitting toy MC bin no.944\n",
      "0.9497727272727272\n",
      "374 289\n"
     ]
    },
    {
     "name": "stderr",
     "output_type": "stream",
     "text": [
      "INFO:cmdstanpy:Chain [1] done processing\n",
      "INFO:cmdstanpy:Chain [4] done processing\n",
      "INFO:cmdstanpy:Chain [3] done processing\n",
      "INFO:cmdstanpy:Chain [2] done processing\n",
      "INFO:cmdstanpy:found newer exe file, not recompiling\n",
      "INFO:cmdstanpy:found newer exe file, not recompiling\n",
      "INFO:cmdstanpy:CmdStan start procesing\n",
      "INFO:cmdstanpy:Chain [1] start processing\n",
      "INFO:cmdstanpy:Chain [2] start processing\n",
      "INFO:cmdstanpy:Chain [3] start processing\n",
      "INFO:cmdstanpy:Chain [4] start processing\n"
     ]
    },
    {
     "name": "stdout",
     "output_type": "stream",
     "text": [
      "Fitting toy MC bin no.945\n",
      "0.949925925925926\n",
      "405 312\n"
     ]
    },
    {
     "name": "stderr",
     "output_type": "stream",
     "text": [
      "INFO:cmdstanpy:Chain [3] done processing\n",
      "INFO:cmdstanpy:Chain [1] done processing\n",
      "INFO:cmdstanpy:Chain [2] done processing\n",
      "INFO:cmdstanpy:Chain [4] done processing\n",
      "INFO:cmdstanpy:found newer exe file, not recompiling\n",
      "INFO:cmdstanpy:found newer exe file, not recompiling\n",
      "INFO:cmdstanpy:CmdStan start procesing\n",
      "INFO:cmdstanpy:Chain [1] start processing\n",
      "INFO:cmdstanpy:Chain [2] start processing\n",
      "INFO:cmdstanpy:Chain [3] start processing\n",
      "INFO:cmdstanpy:Chain [4] start processing\n"
     ]
    },
    {
     "name": "stdout",
     "output_type": "stream",
     "text": [
      "Fitting toy MC bin no.946\n",
      "0.9498756218905473\n",
      "402 310\n"
     ]
    },
    {
     "name": "stderr",
     "output_type": "stream",
     "text": [
      "INFO:cmdstanpy:Chain [2] done processing\n",
      "INFO:cmdstanpy:Chain [1] done processing\n",
      "INFO:cmdstanpy:Chain [4] done processing\n",
      "INFO:cmdstanpy:Chain [3] done processing\n",
      "INFO:cmdstanpy:found newer exe file, not recompiling\n",
      "INFO:cmdstanpy:found newer exe file, not recompiling\n",
      "INFO:cmdstanpy:CmdStan start procesing\n",
      "INFO:cmdstanpy:Chain [1] start processing\n",
      "INFO:cmdstanpy:Chain [2] start processing\n",
      "INFO:cmdstanpy:Chain [3] start processing\n",
      "INFO:cmdstanpy:Chain [4] start processing\n"
     ]
    },
    {
     "name": "stdout",
     "output_type": "stream",
     "text": [
      "Fitting toy MC bin no.947\n",
      "0.9499754901960784\n",
      "408 314\n"
     ]
    },
    {
     "name": "stderr",
     "output_type": "stream",
     "text": [
      "INFO:cmdstanpy:Chain [4] done processing\n",
      "INFO:cmdstanpy:Chain [2] done processing\n",
      "INFO:cmdstanpy:Chain [1] done processing\n",
      "INFO:cmdstanpy:Chain [3] done processing\n",
      "INFO:cmdstanpy:found newer exe file, not recompiling\n",
      "INFO:cmdstanpy:found newer exe file, not recompiling\n",
      "INFO:cmdstanpy:CmdStan start procesing\n",
      "INFO:cmdstanpy:Chain [1] start processing\n",
      "INFO:cmdstanpy:Chain [2] start processing\n",
      "INFO:cmdstanpy:Chain [3] start processing\n",
      "INFO:cmdstanpy:Chain [4] start processing\n"
     ]
    },
    {
     "name": "stdout",
     "output_type": "stream",
     "text": [
      "Fitting toy MC bin no.948\n",
      "0.9498992443324937\n",
      "397 306\n"
     ]
    },
    {
     "name": "stderr",
     "output_type": "stream",
     "text": [
      "INFO:cmdstanpy:Chain [3] done processing\n",
      "INFO:cmdstanpy:Chain [4] done processing\n",
      "INFO:cmdstanpy:Chain [2] done processing\n",
      "INFO:cmdstanpy:Chain [1] done processing\n",
      "INFO:cmdstanpy:found newer exe file, not recompiling\n",
      "INFO:cmdstanpy:found newer exe file, not recompiling\n",
      "INFO:cmdstanpy:CmdStan start procesing\n",
      "INFO:cmdstanpy:Chain [1] start processing\n",
      "INFO:cmdstanpy:Chain [2] start processing\n",
      "INFO:cmdstanpy:Chain [3] start processing\n",
      "INFO:cmdstanpy:Chain [4] start processing\n"
     ]
    },
    {
     "name": "stdout",
     "output_type": "stream",
     "text": [
      "Fitting toy MC bin no.949\n",
      "0.9499368686868687\n",
      "396 305\n"
     ]
    },
    {
     "name": "stderr",
     "output_type": "stream",
     "text": [
      "INFO:cmdstanpy:Chain [4] done processing\n",
      "INFO:cmdstanpy:Chain [3] done processing\n",
      "INFO:cmdstanpy:Chain [1] done processing\n",
      "INFO:cmdstanpy:Chain [2] done processing\n",
      "INFO:cmdstanpy:found newer exe file, not recompiling\n",
      "INFO:cmdstanpy:found newer exe file, not recompiling\n",
      "INFO:cmdstanpy:CmdStan start procesing\n",
      "INFO:cmdstanpy:Chain [1] start processing\n",
      "INFO:cmdstanpy:Chain [2] start processing\n",
      "INFO:cmdstanpy:Chain [3] start processing\n",
      "INFO:cmdstanpy:Chain [4] start processing\n"
     ]
    },
    {
     "name": "stdout",
     "output_type": "stream",
     "text": [
      "Fitting toy MC bin no.950\n",
      "0.9499033149171271\n",
      "362 279\n"
     ]
    },
    {
     "name": "stderr",
     "output_type": "stream",
     "text": [
      "INFO:cmdstanpy:Chain [4] done processing\n",
      "INFO:cmdstanpy:Chain [2] done processing\n",
      "INFO:cmdstanpy:Chain [3] done processing\n",
      "INFO:cmdstanpy:Chain [1] done processing\n",
      "INFO:cmdstanpy:found newer exe file, not recompiling\n",
      "INFO:cmdstanpy:found newer exe file, not recompiling\n",
      "INFO:cmdstanpy:CmdStan start procesing\n",
      "INFO:cmdstanpy:Chain [1] start processing\n",
      "INFO:cmdstanpy:Chain [2] start processing\n",
      "INFO:cmdstanpy:Chain [3] start processing\n",
      "INFO:cmdstanpy:Chain [4] start processing\n"
     ]
    },
    {
     "name": "stdout",
     "output_type": "stream",
     "text": [
      "Fitting toy MC bin no.951\n",
      "0.9498714652956298\n",
      "389 300\n"
     ]
    },
    {
     "name": "stderr",
     "output_type": "stream",
     "text": [
      "INFO:cmdstanpy:Chain [1] done processing\n",
      "INFO:cmdstanpy:Chain [4] done processing\n",
      "INFO:cmdstanpy:Chain [3] done processing\n",
      "INFO:cmdstanpy:Chain [2] done processing\n",
      "INFO:cmdstanpy:found newer exe file, not recompiling\n",
      "INFO:cmdstanpy:found newer exe file, not recompiling\n",
      "INFO:cmdstanpy:CmdStan start procesing\n",
      "INFO:cmdstanpy:Chain [1] start processing\n",
      "INFO:cmdstanpy:Chain [2] start processing\n",
      "INFO:cmdstanpy:Chain [3] start processing\n",
      "INFO:cmdstanpy:Chain [4] start processing\n"
     ]
    },
    {
     "name": "stdout",
     "output_type": "stream",
     "text": [
      "Fitting toy MC bin no.952\n",
      "0.9498275862068964\n",
      "377 291\n"
     ]
    },
    {
     "name": "stderr",
     "output_type": "stream",
     "text": [
      "INFO:cmdstanpy:Chain [3] done processing\n",
      "INFO:cmdstanpy:Chain [4] done processing\n",
      "INFO:cmdstanpy:Chain [2] done processing\n",
      "INFO:cmdstanpy:Chain [1] done processing\n",
      "INFO:cmdstanpy:found newer exe file, not recompiling\n",
      "INFO:cmdstanpy:found newer exe file, not recompiling\n",
      "INFO:cmdstanpy:CmdStan start procesing\n",
      "INFO:cmdstanpy:Chain [1] start processing\n",
      "INFO:cmdstanpy:Chain [2] start processing\n",
      "INFO:cmdstanpy:Chain [3] start processing\n",
      "INFO:cmdstanpy:Chain [4] start processing\n"
     ]
    },
    {
     "name": "stdout",
     "output_type": "stream",
     "text": [
      "Fitting toy MC bin no.953\n",
      "0.9499054373522459\n",
      "423 326\n"
     ]
    },
    {
     "name": "stderr",
     "output_type": "stream",
     "text": [
      "INFO:cmdstanpy:Chain [1] done processing\n",
      "INFO:cmdstanpy:Chain [3] done processing\n",
      "INFO:cmdstanpy:Chain [4] done processing\n",
      "INFO:cmdstanpy:Chain [2] done processing\n",
      "INFO:cmdstanpy:found newer exe file, not recompiling\n",
      "INFO:cmdstanpy:found newer exe file, not recompiling\n",
      "INFO:cmdstanpy:CmdStan start procesing\n",
      "INFO:cmdstanpy:Chain [1] start processing\n",
      "INFO:cmdstanpy:Chain [2] start processing\n",
      "INFO:cmdstanpy:Chain [3] start processing\n",
      "INFO:cmdstanpy:Chain [4] start processing\n"
     ]
    },
    {
     "name": "stdout",
     "output_type": "stream",
     "text": [
      "Fitting toy MC bin no.954\n",
      "0.9498352941176471\n",
      "425 328\n"
     ]
    },
    {
     "name": "stderr",
     "output_type": "stream",
     "text": [
      "INFO:cmdstanpy:Chain [2] done processing\n",
      "INFO:cmdstanpy:Chain [1] done processing\n",
      "INFO:cmdstanpy:Chain [4] done processing\n",
      "INFO:cmdstanpy:Chain [3] done processing\n",
      "INFO:cmdstanpy:found newer exe file, not recompiling\n",
      "INFO:cmdstanpy:found newer exe file, not recompiling\n",
      "INFO:cmdstanpy:CmdStan start procesing\n",
      "INFO:cmdstanpy:Chain [1] start processing\n",
      "INFO:cmdstanpy:Chain [2] start processing\n",
      "INFO:cmdstanpy:Chain [3] start processing\n",
      "INFO:cmdstanpy:Chain [4] start processing\n"
     ]
    },
    {
     "name": "stdout",
     "output_type": "stream",
     "text": [
      "Fitting toy MC bin no.955\n",
      "0.9498756218905473\n",
      "402 310\n"
     ]
    },
    {
     "name": "stderr",
     "output_type": "stream",
     "text": [
      "INFO:cmdstanpy:Chain [2] done processing\n",
      "INFO:cmdstanpy:Chain [1] done processing\n",
      "INFO:cmdstanpy:Chain [4] done processing\n",
      "INFO:cmdstanpy:Chain [3] done processing\n",
      "INFO:cmdstanpy:found newer exe file, not recompiling\n",
      "INFO:cmdstanpy:found newer exe file, not recompiling\n",
      "INFO:cmdstanpy:CmdStan start procesing\n",
      "INFO:cmdstanpy:Chain [1] start processing\n",
      "INFO:cmdstanpy:Chain [2] start processing\n",
      "INFO:cmdstanpy:Chain [3] start processing\n",
      "INFO:cmdstanpy:Chain [4] start processing\n"
     ]
    },
    {
     "name": "stdout",
     "output_type": "stream",
     "text": [
      "Fitting toy MC bin no.956\n",
      "0.94984375\n",
      "416 321\n"
     ]
    },
    {
     "name": "stderr",
     "output_type": "stream",
     "text": [
      "INFO:cmdstanpy:Chain [1] done processing\n",
      "INFO:cmdstanpy:Chain [3] done processing\n",
      "INFO:cmdstanpy:Chain [4] done processing\n",
      "INFO:cmdstanpy:Chain [2] done processing\n",
      "INFO:cmdstanpy:found newer exe file, not recompiling\n",
      "INFO:cmdstanpy:found newer exe file, not recompiling\n",
      "INFO:cmdstanpy:CmdStan start procesing\n",
      "INFO:cmdstanpy:Chain [1] start processing\n",
      "INFO:cmdstanpy:Chain [2] start processing\n",
      "INFO:cmdstanpy:Chain [3] start processing\n",
      "INFO:cmdstanpy:Chain [4] start processing\n"
     ]
    },
    {
     "name": "stdout",
     "output_type": "stream",
     "text": [
      "Fitting toy MC bin no.957\n",
      "0.9498815789473684\n",
      "380 293\n"
     ]
    },
    {
     "name": "stderr",
     "output_type": "stream",
     "text": [
      "INFO:cmdstanpy:Chain [2] done processing\n",
      "INFO:cmdstanpy:Chain [1] done processing\n",
      "INFO:cmdstanpy:Chain [3] done processing\n",
      "INFO:cmdstanpy:Chain [4] done processing\n",
      "INFO:cmdstanpy:found newer exe file, not recompiling\n",
      "INFO:cmdstanpy:found newer exe file, not recompiling\n",
      "INFO:cmdstanpy:CmdStan start procesing\n",
      "INFO:cmdstanpy:Chain [1] start processing\n",
      "INFO:cmdstanpy:Chain [2] start processing\n",
      "INFO:cmdstanpy:Chain [3] start processing\n",
      "INFO:cmdstanpy:Chain [4] start processing\n"
     ]
    },
    {
     "name": "stdout",
     "output_type": "stream",
     "text": [
      "Fitting toy MC bin no.958\n",
      "0.9499769585253457\n",
      "434 334\n"
     ]
    },
    {
     "name": "stderr",
     "output_type": "stream",
     "text": [
      "INFO:cmdstanpy:Chain [3] done processing\n",
      "INFO:cmdstanpy:Chain [1] done processing\n",
      "INFO:cmdstanpy:Chain [4] done processing\n",
      "INFO:cmdstanpy:Chain [2] done processing\n",
      "INFO:cmdstanpy:found newer exe file, not recompiling\n",
      "INFO:cmdstanpy:found newer exe file, not recompiling\n",
      "INFO:cmdstanpy:CmdStan start procesing\n",
      "INFO:cmdstanpy:Chain [1] start processing\n",
      "INFO:cmdstanpy:Chain [2] start processing\n",
      "INFO:cmdstanpy:Chain [3] start processing\n",
      "INFO:cmdstanpy:Chain [4] start processing\n"
     ]
    },
    {
     "name": "stdout",
     "output_type": "stream",
     "text": [
      "Fitting toy MC bin no.959\n",
      "0.9499762470308789\n",
      "421 324\n"
     ]
    },
    {
     "name": "stderr",
     "output_type": "stream",
     "text": [
      "INFO:cmdstanpy:Chain [4] done processing\n",
      "INFO:cmdstanpy:Chain [3] done processing\n",
      "INFO:cmdstanpy:Chain [1] done processing\n",
      "INFO:cmdstanpy:Chain [2] done processing\n",
      "INFO:cmdstanpy:found newer exe file, not recompiling\n",
      "INFO:cmdstanpy:found newer exe file, not recompiling\n",
      "INFO:cmdstanpy:CmdStan start procesing\n",
      "INFO:cmdstanpy:Chain [1] start processing\n",
      "INFO:cmdstanpy:Chain [2] start processing\n",
      "INFO:cmdstanpy:Chain [3] start processing\n",
      "INFO:cmdstanpy:Chain [4] start processing\n"
     ]
    },
    {
     "name": "stdout",
     "output_type": "stream",
     "text": [
      "Fitting toy MC bin no.960\n",
      "0.9499368686868687\n",
      "396 305\n"
     ]
    },
    {
     "name": "stderr",
     "output_type": "stream",
     "text": [
      "INFO:cmdstanpy:Chain [2] done processing\n",
      "INFO:cmdstanpy:Chain [3] done processing\n",
      "INFO:cmdstanpy:Chain [4] done processing\n",
      "INFO:cmdstanpy:Chain [1] done processing\n",
      "INFO:cmdstanpy:found newer exe file, not recompiling\n",
      "INFO:cmdstanpy:found newer exe file, not recompiling\n",
      "INFO:cmdstanpy:CmdStan start procesing\n",
      "INFO:cmdstanpy:Chain [1] start processing\n",
      "INFO:cmdstanpy:Chain [2] start processing\n",
      "INFO:cmdstanpy:Chain [3] start processing\n",
      "INFO:cmdstanpy:Chain [4] start processing\n"
     ]
    },
    {
     "name": "stdout",
     "output_type": "stream",
     "text": [
      "Fitting toy MC bin no.961\n",
      "0.9498840579710144\n",
      "345 266\n"
     ]
    },
    {
     "name": "stderr",
     "output_type": "stream",
     "text": [
      "INFO:cmdstanpy:Chain [1] done processing\n",
      "INFO:cmdstanpy:Chain [2] done processing\n",
      "INFO:cmdstanpy:Chain [3] done processing\n",
      "INFO:cmdstanpy:Chain [4] done processing\n",
      "INFO:cmdstanpy:found newer exe file, not recompiling\n",
      "INFO:cmdstanpy:found newer exe file, not recompiling\n",
      "INFO:cmdstanpy:CmdStan start procesing\n",
      "INFO:cmdstanpy:Chain [1] start processing\n",
      "INFO:cmdstanpy:Chain [2] start processing\n",
      "INFO:cmdstanpy:Chain [3] start processing\n",
      "INFO:cmdstanpy:Chain [4] start processing\n"
     ]
    },
    {
     "name": "stdout",
     "output_type": "stream",
     "text": [
      "Fitting toy MC bin no.962\n",
      "0.9500000000000001\n",
      "403 310\n"
     ]
    },
    {
     "name": "stderr",
     "output_type": "stream",
     "text": [
      "INFO:cmdstanpy:Chain [4] done processing\n",
      "INFO:cmdstanpy:Chain [2] done processing\n",
      "INFO:cmdstanpy:Chain [1] done processing\n",
      "INFO:cmdstanpy:Chain [3] done processing\n",
      "INFO:cmdstanpy:found newer exe file, not recompiling\n",
      "INFO:cmdstanpy:found newer exe file, not recompiling\n",
      "INFO:cmdstanpy:CmdStan start procesing\n",
      "INFO:cmdstanpy:Chain [1] start processing\n",
      "INFO:cmdstanpy:Chain [2] start processing\n",
      "INFO:cmdstanpy:Chain [3] start processing\n",
      "INFO:cmdstanpy:Chain [4] start processing\n"
     ]
    },
    {
     "name": "stdout",
     "output_type": "stream",
     "text": [
      "Fitting toy MC bin no.963\n",
      "0.9498756218905473\n",
      "402 310\n"
     ]
    },
    {
     "name": "stderr",
     "output_type": "stream",
     "text": [
      "INFO:cmdstanpy:Chain [3] done processing\n",
      "INFO:cmdstanpy:Chain [2] done processing\n",
      "INFO:cmdstanpy:Chain [1] done processing\n",
      "INFO:cmdstanpy:Chain [4] done processing\n",
      "INFO:cmdstanpy:found newer exe file, not recompiling\n",
      "INFO:cmdstanpy:found newer exe file, not recompiling\n",
      "INFO:cmdstanpy:CmdStan start procesing\n",
      "INFO:cmdstanpy:Chain [1] start processing\n",
      "INFO:cmdstanpy:Chain [2] start processing\n",
      "INFO:cmdstanpy:Chain [3] start processing\n",
      "INFO:cmdstanpy:Chain [4] start processing\n"
     ]
    },
    {
     "name": "stdout",
     "output_type": "stream",
     "text": [
      "Fitting toy MC bin no.964\n",
      "0.94974043715847\n",
      "366 283\n"
     ]
    },
    {
     "name": "stderr",
     "output_type": "stream",
     "text": [
      "INFO:cmdstanpy:Chain [2] done processing\n",
      "INFO:cmdstanpy:Chain [4] done processing\n",
      "INFO:cmdstanpy:Chain [1] done processing\n",
      "INFO:cmdstanpy:Chain [3] done processing\n",
      "INFO:cmdstanpy:found newer exe file, not recompiling\n",
      "INFO:cmdstanpy:found newer exe file, not recompiling\n",
      "INFO:cmdstanpy:CmdStan start procesing\n",
      "INFO:cmdstanpy:Chain [1] start processing\n",
      "INFO:cmdstanpy:Chain [2] start processing\n",
      "INFO:cmdstanpy:Chain [3] start processing\n",
      "INFO:cmdstanpy:Chain [4] start processing\n"
     ]
    },
    {
     "name": "stdout",
     "output_type": "stream",
     "text": [
      "Fitting toy MC bin no.965\n",
      "0.9498571428571428\n",
      "420 324\n"
     ]
    },
    {
     "name": "stderr",
     "output_type": "stream",
     "text": [
      "INFO:cmdstanpy:Chain [3] done processing\n",
      "INFO:cmdstanpy:Chain [1] done processing\n",
      "INFO:cmdstanpy:Chain [4] done processing\n",
      "INFO:cmdstanpy:Chain [2] done processing\n",
      "INFO:cmdstanpy:found newer exe file, not recompiling\n",
      "INFO:cmdstanpy:found newer exe file, not recompiling\n",
      "INFO:cmdstanpy:CmdStan start procesing\n",
      "INFO:cmdstanpy:Chain [1] start processing\n",
      "INFO:cmdstanpy:Chain [2] start processing\n",
      "INFO:cmdstanpy:Chain [3] start processing\n",
      "INFO:cmdstanpy:Chain [4] start processing\n"
     ]
    },
    {
     "name": "stdout",
     "output_type": "stream",
     "text": [
      "Fitting toy MC bin no.966\n",
      "0.9500119047619048\n",
      "420 323\n"
     ]
    },
    {
     "name": "stderr",
     "output_type": "stream",
     "text": [
      "INFO:cmdstanpy:Chain [4] done processing\n",
      "INFO:cmdstanpy:Chain [2] done processing\n",
      "INFO:cmdstanpy:Chain [3] done processing\n",
      "INFO:cmdstanpy:Chain [1] done processing\n",
      "INFO:cmdstanpy:found newer exe file, not recompiling\n",
      "INFO:cmdstanpy:found newer exe file, not recompiling\n",
      "INFO:cmdstanpy:CmdStan start procesing\n",
      "INFO:cmdstanpy:Chain [1] start processing\n",
      "INFO:cmdstanpy:Chain [2] start processing\n",
      "INFO:cmdstanpy:Chain [3] start processing\n",
      "INFO:cmdstanpy:Chain [4] start processing\n"
     ]
    },
    {
     "name": "stdout",
     "output_type": "stream",
     "text": [
      "Fitting toy MC bin no.967\n",
      "0.9498958333333333\n",
      "384 296\n"
     ]
    },
    {
     "name": "stderr",
     "output_type": "stream",
     "text": [
      "INFO:cmdstanpy:Chain [4] done processing\n",
      "INFO:cmdstanpy:Chain [2] done processing\n",
      "INFO:cmdstanpy:Chain [3] done processing\n",
      "INFO:cmdstanpy:Chain [1] done processing\n",
      "INFO:cmdstanpy:found newer exe file, not recompiling\n",
      "INFO:cmdstanpy:found newer exe file, not recompiling\n",
      "INFO:cmdstanpy:CmdStan start procesing\n",
      "INFO:cmdstanpy:Chain [1] start processing\n",
      "INFO:cmdstanpy:Chain [2] start processing\n",
      "INFO:cmdstanpy:Chain [3] start processing\n",
      "INFO:cmdstanpy:Chain [4] start processing\n"
     ]
    },
    {
     "name": "stdout",
     "output_type": "stream",
     "text": [
      "Fitting toy MC bin no.968\n",
      "0.9498921832884097\n",
      "371 286\n"
     ]
    },
    {
     "name": "stderr",
     "output_type": "stream",
     "text": [
      "INFO:cmdstanpy:Chain [3] done processing\n",
      "INFO:cmdstanpy:Chain [4] done processing\n",
      "INFO:cmdstanpy:Chain [2] done processing\n",
      "INFO:cmdstanpy:Chain [1] done processing\n",
      "INFO:cmdstanpy:found newer exe file, not recompiling\n",
      "INFO:cmdstanpy:found newer exe file, not recompiling\n",
      "INFO:cmdstanpy:CmdStan start procesing\n",
      "INFO:cmdstanpy:Chain [1] start processing\n",
      "INFO:cmdstanpy:Chain [2] start processing\n",
      "INFO:cmdstanpy:Chain [3] start processing\n",
      "INFO:cmdstanpy:Chain [4] start processing\n"
     ]
    },
    {
     "name": "stdout",
     "output_type": "stream",
     "text": [
      "Fitting toy MC bin no.969\n",
      "0.9498756218905473\n",
      "402 310\n"
     ]
    },
    {
     "name": "stderr",
     "output_type": "stream",
     "text": [
      "INFO:cmdstanpy:Chain [2] done processing\n",
      "INFO:cmdstanpy:Chain [4] done processing\n",
      "INFO:cmdstanpy:Chain [1] done processing\n",
      "INFO:cmdstanpy:Chain [3] done processing\n",
      "INFO:cmdstanpy:found newer exe file, not recompiling\n",
      "INFO:cmdstanpy:found newer exe file, not recompiling\n",
      "INFO:cmdstanpy:CmdStan start procesing\n",
      "INFO:cmdstanpy:Chain [1] start processing\n",
      "INFO:cmdstanpy:Chain [2] start processing\n",
      "INFO:cmdstanpy:Chain [3] start processing\n",
      "INFO:cmdstanpy:Chain [4] start processing\n"
     ]
    },
    {
     "name": "stdout",
     "output_type": "stream",
     "text": [
      "Fitting toy MC bin no.970\n",
      "0.9498161764705881\n",
      "408 315\n"
     ]
    },
    {
     "name": "stderr",
     "output_type": "stream",
     "text": [
      "INFO:cmdstanpy:Chain [3] done processing\n",
      "INFO:cmdstanpy:Chain [2] done processing\n",
      "INFO:cmdstanpy:Chain [1] done processing\n",
      "INFO:cmdstanpy:Chain [4] done processing\n",
      "INFO:cmdstanpy:found newer exe file, not recompiling\n",
      "INFO:cmdstanpy:found newer exe file, not recompiling\n",
      "INFO:cmdstanpy:CmdStan start procesing\n",
      "INFO:cmdstanpy:Chain [1] start processing\n",
      "INFO:cmdstanpy:Chain [2] start processing\n",
      "INFO:cmdstanpy:Chain [3] start processing\n",
      "INFO:cmdstanpy:Chain [4] start processing\n"
     ]
    },
    {
     "name": "stdout",
     "output_type": "stream",
     "text": [
      "Fitting toy MC bin no.971\n",
      "0.9499234693877551\n",
      "392 302\n"
     ]
    },
    {
     "name": "stderr",
     "output_type": "stream",
     "text": [
      "INFO:cmdstanpy:Chain [1] done processing\n",
      "INFO:cmdstanpy:Chain [4] done processing\n",
      "INFO:cmdstanpy:Chain [2] done processing\n",
      "INFO:cmdstanpy:Chain [3] done processing\n",
      "INFO:cmdstanpy:found newer exe file, not recompiling\n",
      "INFO:cmdstanpy:found newer exe file, not recompiling\n",
      "INFO:cmdstanpy:CmdStan start procesing\n",
      "INFO:cmdstanpy:Chain [1] start processing\n",
      "INFO:cmdstanpy:Chain [2] start processing\n",
      "INFO:cmdstanpy:Chain [3] start processing\n",
      "INFO:cmdstanpy:Chain [4] start processing\n"
     ]
    },
    {
     "name": "stdout",
     "output_type": "stream",
     "text": [
      "Fitting toy MC bin no.972\n",
      "0.9499368686868687\n",
      "396 305\n"
     ]
    },
    {
     "name": "stderr",
     "output_type": "stream",
     "text": [
      "INFO:cmdstanpy:Chain [3] done processing\n",
      "INFO:cmdstanpy:Chain [1] done processing\n",
      "INFO:cmdstanpy:Chain [4] done processing\n",
      "INFO:cmdstanpy:Chain [2] done processing\n",
      "INFO:cmdstanpy:found newer exe file, not recompiling\n",
      "INFO:cmdstanpy:found newer exe file, not recompiling\n",
      "INFO:cmdstanpy:CmdStan start procesing\n",
      "INFO:cmdstanpy:Chain [1] start processing\n",
      "INFO:cmdstanpy:Chain [2] start processing\n",
      "INFO:cmdstanpy:Chain [3] start processing\n",
      "INFO:cmdstanpy:Chain [4] start processing\n"
     ]
    },
    {
     "name": "stdout",
     "output_type": "stream",
     "text": [
      "Fitting toy MC bin no.973\n",
      "0.9499024390243902\n",
      "410 316\n"
     ]
    },
    {
     "name": "stderr",
     "output_type": "stream",
     "text": [
      "INFO:cmdstanpy:Chain [3] done processing\n",
      "INFO:cmdstanpy:Chain [2] done processing\n",
      "INFO:cmdstanpy:Chain [4] done processing\n",
      "INFO:cmdstanpy:Chain [1] done processing\n",
      "INFO:cmdstanpy:found newer exe file, not recompiling\n",
      "INFO:cmdstanpy:found newer exe file, not recompiling\n",
      "INFO:cmdstanpy:CmdStan start procesing\n",
      "INFO:cmdstanpy:Chain [1] start processing\n",
      "INFO:cmdstanpy:Chain [2] start processing\n",
      "INFO:cmdstanpy:Chain [3] start processing\n",
      "INFO:cmdstanpy:Chain [4] start processing\n"
     ]
    },
    {
     "name": "stdout",
     "output_type": "stream",
     "text": [
      "Fitting toy MC bin no.974\n",
      "0.9499762470308789\n",
      "421 324\n"
     ]
    },
    {
     "name": "stderr",
     "output_type": "stream",
     "text": [
      "INFO:cmdstanpy:Chain [4] done processing\n",
      "INFO:cmdstanpy:Chain [2] done processing\n",
      "INFO:cmdstanpy:Chain [3] done processing\n",
      "INFO:cmdstanpy:Chain [1] done processing\n",
      "INFO:cmdstanpy:found newer exe file, not recompiling\n",
      "INFO:cmdstanpy:found newer exe file, not recompiling\n",
      "INFO:cmdstanpy:CmdStan start procesing\n",
      "INFO:cmdstanpy:Chain [1] start processing\n",
      "INFO:cmdstanpy:Chain [2] start processing\n",
      "INFO:cmdstanpy:Chain [3] start processing\n",
      "INFO:cmdstanpy:Chain [4] start processing\n"
     ]
    },
    {
     "name": "stdout",
     "output_type": "stream",
     "text": [
      "Fitting toy MC bin no.975\n",
      "0.9500724637681159\n",
      "414 318\n"
     ]
    },
    {
     "name": "stderr",
     "output_type": "stream",
     "text": [
      "INFO:cmdstanpy:Chain [2] done processing\n",
      "INFO:cmdstanpy:Chain [1] done processing\n",
      "INFO:cmdstanpy:Chain [3] done processing\n",
      "INFO:cmdstanpy:Chain [4] done processing\n",
      "INFO:cmdstanpy:found newer exe file, not recompiling\n",
      "INFO:cmdstanpy:found newer exe file, not recompiling\n",
      "INFO:cmdstanpy:CmdStan start procesing\n",
      "INFO:cmdstanpy:Chain [1] start processing\n",
      "INFO:cmdstanpy:Chain [2] start processing\n",
      "INFO:cmdstanpy:Chain [3] start processing\n",
      "INFO:cmdstanpy:Chain [4] start processing\n"
     ]
    },
    {
     "name": "stdout",
     "output_type": "stream",
     "text": [
      "Fitting toy MC bin no.976\n",
      "0.9499150141643059\n",
      "353 272\n"
     ]
    },
    {
     "name": "stderr",
     "output_type": "stream",
     "text": [
      "INFO:cmdstanpy:Chain [2] done processing\n",
      "INFO:cmdstanpy:Chain [4] done processing\n",
      "INFO:cmdstanpy:Chain [1] done processing\n",
      "INFO:cmdstanpy:Chain [3] done processing\n",
      "INFO:cmdstanpy:found newer exe file, not recompiling\n",
      "INFO:cmdstanpy:found newer exe file, not recompiling\n",
      "INFO:cmdstanpy:CmdStan start procesing\n",
      "INFO:cmdstanpy:Chain [1] start processing\n",
      "INFO:cmdstanpy:Chain [2] start processing\n",
      "INFO:cmdstanpy:Chain [3] start processing\n",
      "INFO:cmdstanpy:Chain [4] start processing\n"
     ]
    },
    {
     "name": "stdout",
     "output_type": "stream",
     "text": [
      "Fitting toy MC bin no.977\n",
      "0.9500508905852417\n",
      "393 302\n"
     ]
    },
    {
     "name": "stderr",
     "output_type": "stream",
     "text": [
      "INFO:cmdstanpy:Chain [4] done processing\n",
      "INFO:cmdstanpy:Chain [1] done processing\n",
      "INFO:cmdstanpy:Chain [2] done processing\n",
      "INFO:cmdstanpy:Chain [3] done processing\n",
      "INFO:cmdstanpy:found newer exe file, not recompiling\n",
      "INFO:cmdstanpy:found newer exe file, not recompiling\n",
      "INFO:cmdstanpy:CmdStan start procesing\n",
      "INFO:cmdstanpy:Chain [1] start processing\n",
      "INFO:cmdstanpy:Chain [2] start processing\n",
      "INFO:cmdstanpy:Chain [3] start processing\n",
      "INFO:cmdstanpy:Chain [4] start processing\n"
     ]
    },
    {
     "name": "stdout",
     "output_type": "stream",
     "text": [
      "Fitting toy MC bin no.978\n",
      "0.9498245614035088\n",
      "399 308\n"
     ]
    },
    {
     "name": "stderr",
     "output_type": "stream",
     "text": [
      "INFO:cmdstanpy:Chain [2] done processing\n",
      "INFO:cmdstanpy:Chain [4] done processing\n",
      "INFO:cmdstanpy:Chain [3] done processing\n",
      "INFO:cmdstanpy:Chain [1] done processing\n",
      "INFO:cmdstanpy:found newer exe file, not recompiling\n",
      "INFO:cmdstanpy:found newer exe file, not recompiling\n",
      "INFO:cmdstanpy:CmdStan start procesing\n",
      "INFO:cmdstanpy:Chain [1] start processing\n",
      "INFO:cmdstanpy:Chain [2] start processing\n",
      "INFO:cmdstanpy:Chain [3] start processing\n",
      "INFO:cmdstanpy:Chain [4] start processing\n"
     ]
    },
    {
     "name": "stdout",
     "output_type": "stream",
     "text": [
      "Fitting toy MC bin no.979\n",
      "0.9499640287769784\n",
      "417 321\n"
     ]
    },
    {
     "name": "stderr",
     "output_type": "stream",
     "text": [
      "INFO:cmdstanpy:Chain [4] done processing\n",
      "INFO:cmdstanpy:Chain [3] done processing\n",
      "INFO:cmdstanpy:Chain [1] done processing\n",
      "INFO:cmdstanpy:Chain [2] done processing\n",
      "INFO:cmdstanpy:found newer exe file, not recompiling\n",
      "INFO:cmdstanpy:found newer exe file, not recompiling\n",
      "INFO:cmdstanpy:CmdStan start procesing\n",
      "INFO:cmdstanpy:Chain [1] start processing\n",
      "INFO:cmdstanpy:Chain [2] start processing\n",
      "INFO:cmdstanpy:Chain [3] start processing\n",
      "INFO:cmdstanpy:Chain [4] start processing\n"
     ]
    },
    {
     "name": "stdout",
     "output_type": "stream",
     "text": [
      "Fitting toy MC bin no.980\n",
      "0.9498101265822785\n",
      "395 305\n"
     ]
    },
    {
     "name": "stderr",
     "output_type": "stream",
     "text": [
      "INFO:cmdstanpy:Chain [4] done processing\n",
      "INFO:cmdstanpy:Chain [3] done processing\n",
      "INFO:cmdstanpy:Chain [2] done processing\n",
      "INFO:cmdstanpy:Chain [1] done processing\n",
      "INFO:cmdstanpy:found newer exe file, not recompiling\n",
      "INFO:cmdstanpy:found newer exe file, not recompiling\n",
      "INFO:cmdstanpy:CmdStan start procesing\n",
      "INFO:cmdstanpy:Chain [1] start processing\n",
      "INFO:cmdstanpy:Chain [2] start processing\n",
      "INFO:cmdstanpy:Chain [3] start processing\n",
      "INFO:cmdstanpy:Chain [4] start processing\n"
     ]
    },
    {
     "name": "stdout",
     "output_type": "stream",
     "text": [
      "Fitting toy MC bin no.981\n",
      "0.949925925925926\n",
      "405 312\n"
     ]
    },
    {
     "name": "stderr",
     "output_type": "stream",
     "text": [
      "INFO:cmdstanpy:Chain [2] done processing\n",
      "INFO:cmdstanpy:Chain [4] done processing\n",
      "INFO:cmdstanpy:Chain [3] done processing\n",
      "INFO:cmdstanpy:Chain [1] done processing\n",
      "INFO:cmdstanpy:found newer exe file, not recompiling\n",
      "INFO:cmdstanpy:found newer exe file, not recompiling\n",
      "INFO:cmdstanpy:CmdStan start procesing\n",
      "INFO:cmdstanpy:Chain [1] start processing\n",
      "INFO:cmdstanpy:Chain [2] start processing\n",
      "INFO:cmdstanpy:Chain [3] start processing\n",
      "INFO:cmdstanpy:Chain [4] start processing\n"
     ]
    },
    {
     "name": "stdout",
     "output_type": "stream",
     "text": [
      "Fitting toy MC bin no.982\n",
      "0.9498756218905473\n",
      "402 310\n"
     ]
    },
    {
     "name": "stderr",
     "output_type": "stream",
     "text": [
      "INFO:cmdstanpy:Chain [1] done processing\n",
      "INFO:cmdstanpy:Chain [3] done processing\n",
      "INFO:cmdstanpy:Chain [2] done processing\n",
      "INFO:cmdstanpy:Chain [4] done processing\n",
      "INFO:cmdstanpy:found newer exe file, not recompiling\n",
      "INFO:cmdstanpy:found newer exe file, not recompiling\n",
      "INFO:cmdstanpy:CmdStan start procesing\n",
      "INFO:cmdstanpy:Chain [1] start processing\n",
      "INFO:cmdstanpy:Chain [2] start processing\n",
      "INFO:cmdstanpy:Chain [3] start processing\n",
      "INFO:cmdstanpy:Chain [4] start processing\n"
     ]
    },
    {
     "name": "stdout",
     "output_type": "stream",
     "text": [
      "Fitting toy MC bin no.983\n",
      "0.9498926014319808\n",
      "419 323\n"
     ]
    },
    {
     "name": "stderr",
     "output_type": "stream",
     "text": [
      "INFO:cmdstanpy:Chain [4] done processing\n",
      "INFO:cmdstanpy:Chain [3] done processing\n",
      "INFO:cmdstanpy:Chain [2] done processing\n",
      "INFO:cmdstanpy:Chain [1] done processing\n",
      "INFO:cmdstanpy:found newer exe file, not recompiling\n",
      "INFO:cmdstanpy:found newer exe file, not recompiling\n",
      "INFO:cmdstanpy:CmdStan start procesing\n",
      "INFO:cmdstanpy:Chain [1] start processing\n",
      "INFO:cmdstanpy:Chain [2] start processing\n",
      "INFO:cmdstanpy:Chain [3] start processing\n",
      "INFO:cmdstanpy:Chain [4] start processing\n"
     ]
    },
    {
     "name": "stdout",
     "output_type": "stream",
     "text": [
      "Fitting toy MC bin no.984\n",
      "0.95001269035533\n",
      "394 303\n"
     ]
    },
    {
     "name": "stderr",
     "output_type": "stream",
     "text": [
      "INFO:cmdstanpy:Chain [4] done processing\n",
      "INFO:cmdstanpy:Chain [2] done processing\n",
      "INFO:cmdstanpy:Chain [3] done processing\n",
      "INFO:cmdstanpy:Chain [1] done processing\n",
      "INFO:cmdstanpy:found newer exe file, not recompiling\n",
      "INFO:cmdstanpy:found newer exe file, not recompiling\n",
      "INFO:cmdstanpy:CmdStan start procesing\n",
      "INFO:cmdstanpy:Chain [1] start processing\n",
      "INFO:cmdstanpy:Chain [2] start processing\n",
      "INFO:cmdstanpy:Chain [3] start processing\n",
      "INFO:cmdstanpy:Chain [4] start processing\n"
     ]
    },
    {
     "name": "stdout",
     "output_type": "stream",
     "text": [
      "Fitting toy MC bin no.985\n",
      "0.9497237569060774\n",
      "362 280\n"
     ]
    },
    {
     "name": "stderr",
     "output_type": "stream",
     "text": [
      "INFO:cmdstanpy:Chain [2] done processing\n",
      "INFO:cmdstanpy:Chain [4] done processing\n",
      "INFO:cmdstanpy:Chain [1] done processing\n",
      "INFO:cmdstanpy:Chain [3] done processing\n",
      "INFO:cmdstanpy:found newer exe file, not recompiling\n",
      "INFO:cmdstanpy:found newer exe file, not recompiling\n",
      "INFO:cmdstanpy:CmdStan start procesing\n",
      "INFO:cmdstanpy:Chain [1] start processing\n",
      "INFO:cmdstanpy:Chain [2] start processing\n",
      "INFO:cmdstanpy:Chain [3] start processing\n",
      "INFO:cmdstanpy:Chain [4] start processing\n"
     ]
    },
    {
     "name": "stdout",
     "output_type": "stream",
     "text": [
      "Fitting toy MC bin no.986\n",
      "0.9498958333333334\n",
      "336 259\n"
     ]
    },
    {
     "name": "stderr",
     "output_type": "stream",
     "text": [
      "INFO:cmdstanpy:Chain [1] done processing\n",
      "INFO:cmdstanpy:Chain [3] done processing\n",
      "INFO:cmdstanpy:Chain [2] done processing\n",
      "INFO:cmdstanpy:Chain [4] done processing\n",
      "INFO:cmdstanpy:found newer exe file, not recompiling\n",
      "INFO:cmdstanpy:found newer exe file, not recompiling\n",
      "INFO:cmdstanpy:CmdStan start procesing\n",
      "INFO:cmdstanpy:Chain [1] start processing\n",
      "INFO:cmdstanpy:Chain [2] start processing\n",
      "INFO:cmdstanpy:Chain [3] start processing\n",
      "INFO:cmdstanpy:Chain [4] start processing\n"
     ]
    },
    {
     "name": "stdout",
     "output_type": "stream",
     "text": [
      "Fitting toy MC bin no.987\n",
      "0.9499282296650717\n",
      "418 322\n"
     ]
    },
    {
     "name": "stderr",
     "output_type": "stream",
     "text": [
      "INFO:cmdstanpy:Chain [2] done processing\n",
      "INFO:cmdstanpy:Chain [4] done processing\n",
      "INFO:cmdstanpy:Chain [1] done processing\n",
      "INFO:cmdstanpy:Chain [3] done processing\n",
      "INFO:cmdstanpy:found newer exe file, not recompiling\n",
      "INFO:cmdstanpy:found newer exe file, not recompiling\n",
      "INFO:cmdstanpy:CmdStan start procesing\n",
      "INFO:cmdstanpy:Chain [1] start processing\n",
      "INFO:cmdstanpy:Chain [2] start processing\n",
      "INFO:cmdstanpy:Chain [3] start processing\n",
      "INFO:cmdstanpy:Chain [4] start processing\n"
     ]
    },
    {
     "name": "stdout",
     "output_type": "stream",
     "text": [
      "Fitting toy MC bin no.988\n",
      "0.9499738219895287\n",
      "382 294\n"
     ]
    },
    {
     "name": "stderr",
     "output_type": "stream",
     "text": [
      "INFO:cmdstanpy:Chain [2] done processing\n",
      "INFO:cmdstanpy:Chain [1] done processing\n",
      "INFO:cmdstanpy:Chain [4] done processing\n",
      "INFO:cmdstanpy:Chain [3] done processing\n",
      "INFO:cmdstanpy:found newer exe file, not recompiling\n",
      "INFO:cmdstanpy:found newer exe file, not recompiling\n",
      "INFO:cmdstanpy:CmdStan start procesing\n",
      "INFO:cmdstanpy:Chain [1] start processing\n",
      "INFO:cmdstanpy:Chain [2] start processing\n",
      "INFO:cmdstanpy:Chain [3] start processing\n",
      "INFO:cmdstanpy:Chain [4] start processing\n"
     ]
    },
    {
     "name": "stdout",
     "output_type": "stream",
     "text": [
      "Fitting toy MC bin no.989\n",
      "0.95001269035533\n",
      "394 303\n"
     ]
    },
    {
     "name": "stderr",
     "output_type": "stream",
     "text": [
      "INFO:cmdstanpy:Chain [2] done processing\n",
      "INFO:cmdstanpy:Chain [3] done processing\n",
      "INFO:cmdstanpy:Chain [1] done processing\n",
      "INFO:cmdstanpy:Chain [4] done processing\n",
      "INFO:cmdstanpy:found newer exe file, not recompiling\n",
      "INFO:cmdstanpy:found newer exe file, not recompiling\n",
      "INFO:cmdstanpy:CmdStan start procesing\n",
      "INFO:cmdstanpy:Chain [1] start processing\n",
      "INFO:cmdstanpy:Chain [2] start processing\n",
      "INFO:cmdstanpy:Chain [3] start processing\n",
      "INFO:cmdstanpy:Chain [4] start processing\n"
     ]
    },
    {
     "name": "stdout",
     "output_type": "stream",
     "text": [
      "Fitting toy MC bin no.990\n",
      "0.9498854961832062\n",
      "393 303\n"
     ]
    },
    {
     "name": "stderr",
     "output_type": "stream",
     "text": [
      "INFO:cmdstanpy:Chain [2] done processing\n",
      "INFO:cmdstanpy:Chain [3] done processing\n",
      "INFO:cmdstanpy:Chain [1] done processing\n",
      "INFO:cmdstanpy:Chain [4] done processing\n",
      "INFO:cmdstanpy:found newer exe file, not recompiling\n",
      "INFO:cmdstanpy:found newer exe file, not recompiling\n",
      "INFO:cmdstanpy:CmdStan start procesing\n",
      "INFO:cmdstanpy:Chain [1] start processing\n",
      "INFO:cmdstanpy:Chain [2] start processing\n",
      "INFO:cmdstanpy:Chain [3] start processing\n",
      "INFO:cmdstanpy:Chain [4] start processing\n"
     ]
    },
    {
     "name": "stdout",
     "output_type": "stream",
     "text": [
      "Fitting toy MC bin no.991\n",
      "0.9497883597883597\n",
      "378 292\n"
     ]
    },
    {
     "name": "stderr",
     "output_type": "stream",
     "text": [
      "INFO:cmdstanpy:Chain [2] done processing\n",
      "INFO:cmdstanpy:Chain [4] done processing\n",
      "INFO:cmdstanpy:Chain [1] done processing\n",
      "INFO:cmdstanpy:Chain [3] done processing\n",
      "INFO:cmdstanpy:found newer exe file, not recompiling\n",
      "INFO:cmdstanpy:found newer exe file, not recompiling\n",
      "INFO:cmdstanpy:CmdStan start procesing\n",
      "INFO:cmdstanpy:Chain [1] start processing\n",
      "INFO:cmdstanpy:Chain [2] start processing\n",
      "INFO:cmdstanpy:Chain [3] start processing\n",
      "INFO:cmdstanpy:Chain [4] start processing\n"
     ]
    },
    {
     "name": "stdout",
     "output_type": "stream",
     "text": [
      "Fitting toy MC bin no.992\n",
      "0.9497493403693931\n",
      "379 293\n"
     ]
    },
    {
     "name": "stderr",
     "output_type": "stream",
     "text": [
      "INFO:cmdstanpy:Chain [2] done processing\n",
      "INFO:cmdstanpy:Chain [4] done processing\n",
      "INFO:cmdstanpy:Chain [1] done processing\n",
      "INFO:cmdstanpy:Chain [3] done processing\n",
      "INFO:cmdstanpy:found newer exe file, not recompiling\n",
      "INFO:cmdstanpy:found newer exe file, not recompiling\n",
      "INFO:cmdstanpy:CmdStan start procesing\n",
      "INFO:cmdstanpy:Chain [1] start processing\n",
      "INFO:cmdstanpy:Chain [2] start processing\n",
      "INFO:cmdstanpy:Chain [3] start processing\n",
      "INFO:cmdstanpy:Chain [4] start processing\n"
     ]
    },
    {
     "name": "stdout",
     "output_type": "stream",
     "text": [
      "Fitting toy MC bin no.993\n",
      "0.9499282296650717\n",
      "418 322\n"
     ]
    },
    {
     "name": "stderr",
     "output_type": "stream",
     "text": [
      "INFO:cmdstanpy:Chain [3] done processing\n",
      "INFO:cmdstanpy:Chain [1] done processing\n",
      "INFO:cmdstanpy:Chain [4] done processing\n",
      "INFO:cmdstanpy:Chain [2] done processing\n",
      "INFO:cmdstanpy:found newer exe file, not recompiling\n",
      "INFO:cmdstanpy:found newer exe file, not recompiling\n",
      "INFO:cmdstanpy:CmdStan start procesing\n",
      "INFO:cmdstanpy:Chain [1] start processing\n",
      "INFO:cmdstanpy:Chain [2] start processing\n",
      "INFO:cmdstanpy:Chain [3] start processing\n",
      "INFO:cmdstanpy:Chain [4] start processing\n"
     ]
    },
    {
     "name": "stdout",
     "output_type": "stream",
     "text": [
      "Fitting toy MC bin no.994\n",
      "0.9498300970873786\n",
      "412 318\n"
     ]
    },
    {
     "name": "stderr",
     "output_type": "stream",
     "text": [
      "INFO:cmdstanpy:Chain [4] done processing\n",
      "INFO:cmdstanpy:Chain [1] done processing\n",
      "INFO:cmdstanpy:Chain [3] done processing\n",
      "INFO:cmdstanpy:Chain [2] done processing\n",
      "INFO:cmdstanpy:found newer exe file, not recompiling\n",
      "INFO:cmdstanpy:found newer exe file, not recompiling\n",
      "INFO:cmdstanpy:CmdStan start procesing\n",
      "INFO:cmdstanpy:Chain [1] start processing\n",
      "INFO:cmdstanpy:Chain [2] start processing\n",
      "INFO:cmdstanpy:Chain [3] start processing\n",
      "INFO:cmdstanpy:Chain [4] start processing\n"
     ]
    },
    {
     "name": "stdout",
     "output_type": "stream",
     "text": [
      "Fitting toy MC bin no.995\n",
      "0.9498333333333333\n",
      "390 301\n"
     ]
    },
    {
     "name": "stderr",
     "output_type": "stream",
     "text": [
      "INFO:cmdstanpy:Chain [2] done processing\n",
      "INFO:cmdstanpy:Chain [1] done processing\n",
      "INFO:cmdstanpy:Chain [4] done processing\n",
      "INFO:cmdstanpy:Chain [3] done processing\n",
      "INFO:cmdstanpy:found newer exe file, not recompiling\n",
      "INFO:cmdstanpy:found newer exe file, not recompiling\n",
      "INFO:cmdstanpy:CmdStan start procesing\n",
      "INFO:cmdstanpy:Chain [1] start processing\n",
      "INFO:cmdstanpy:Chain [2] start processing\n",
      "INFO:cmdstanpy:Chain [3] start processing\n",
      "INFO:cmdstanpy:Chain [4] start processing\n"
     ]
    },
    {
     "name": "stdout",
     "output_type": "stream",
     "text": [
      "Fitting toy MC bin no.996\n",
      "0.9498992443324937\n",
      "397 306\n"
     ]
    },
    {
     "name": "stderr",
     "output_type": "stream",
     "text": [
      "INFO:cmdstanpy:Chain [4] done processing\n",
      "INFO:cmdstanpy:Chain [3] done processing\n",
      "INFO:cmdstanpy:Chain [2] done processing\n",
      "INFO:cmdstanpy:Chain [1] done processing\n",
      "INFO:cmdstanpy:found newer exe file, not recompiling\n",
      "INFO:cmdstanpy:found newer exe file, not recompiling\n",
      "INFO:cmdstanpy:CmdStan start procesing\n",
      "INFO:cmdstanpy:Chain [1] start processing\n",
      "INFO:cmdstanpy:Chain [2] start processing\n",
      "INFO:cmdstanpy:Chain [3] start processing\n",
      "INFO:cmdstanpy:Chain [4] start processing\n"
     ]
    },
    {
     "name": "stdout",
     "output_type": "stream",
     "text": [
      "Fitting toy MC bin no.997\n",
      "0.9499738219895287\n",
      "382 294\n"
     ]
    },
    {
     "name": "stderr",
     "output_type": "stream",
     "text": [
      "INFO:cmdstanpy:Chain [2] done processing\n",
      "INFO:cmdstanpy:Chain [1] done processing\n",
      "INFO:cmdstanpy:Chain [3] done processing\n",
      "INFO:cmdstanpy:Chain [4] done processing\n",
      "INFO:cmdstanpy:found newer exe file, not recompiling\n",
      "INFO:cmdstanpy:found newer exe file, not recompiling\n",
      "INFO:cmdstanpy:CmdStan start procesing\n",
      "INFO:cmdstanpy:Chain [1] start processing\n",
      "INFO:cmdstanpy:Chain [2] start processing\n",
      "INFO:cmdstanpy:Chain [3] start processing\n",
      "INFO:cmdstanpy:Chain [4] start processing\n"
     ]
    },
    {
     "name": "stdout",
     "output_type": "stream",
     "text": [
      "Fitting toy MC bin no.998\n",
      "0.9499303944315546\n",
      "431 332\n"
     ]
    },
    {
     "name": "stderr",
     "output_type": "stream",
     "text": [
      "INFO:cmdstanpy:Chain [3] done processing\n",
      "INFO:cmdstanpy:Chain [1] done processing\n",
      "INFO:cmdstanpy:Chain [4] done processing\n",
      "INFO:cmdstanpy:Chain [2] done processing\n",
      "INFO:cmdstanpy:found newer exe file, not recompiling\n",
      "INFO:cmdstanpy:found newer exe file, not recompiling\n",
      "INFO:cmdstanpy:CmdStan start procesing\n",
      "INFO:cmdstanpy:Chain [1] start processing\n",
      "INFO:cmdstanpy:Chain [2] start processing\n",
      "INFO:cmdstanpy:Chain [3] start processing\n",
      "INFO:cmdstanpy:Chain [4] start processing\n"
     ]
    },
    {
     "name": "stdout",
     "output_type": "stream",
     "text": [
      "Fitting toy MC bin no.999\n",
      "0.9499066666666666\n",
      "375 289\n"
     ]
    },
    {
     "name": "stderr",
     "output_type": "stream",
     "text": [
      "INFO:cmdstanpy:Chain [1] done processing\n",
      "INFO:cmdstanpy:Chain [4] done processing\n",
      "INFO:cmdstanpy:Chain [3] done processing\n",
      "INFO:cmdstanpy:Chain [2] done processing\n"
     ]
    }
   ],
   "source": [
    "dfs=fit(nsamples=5000,nbins=1000,start=0)\n",
    "diagnostics=dfs[0]\n",
    "sigma=dfs[1]\n",
    "diagnostics.to_csv('toy_diagnostics.csv')\n",
    "sigma.to_csv('toy_sigma.csv')"
   ]
  },
  {
   "cell_type": "code",
   "execution_count": 5,
   "id": "043e5a83",
   "metadata": {},
   "outputs": [],
   "source": [
    "sigma_df=pd.read_csv('toy_sigma.csv',index_col=0)\n",
    "diagnostics_df=pd.read_csv('toy_diagnostics.csv',index_col=0)"
   ]
  },
  {
   "cell_type": "code",
   "execution_count": 6,
   "id": "4d387aef",
   "metadata": {},
   "outputs": [
    {
     "data": {
      "image/png": "[encoded data removed]",
      "text/plain": [
       "<Figure size 432x288 with 1 Axes>"
      ]
     },
     "metadata": {
      "needs_background": "light"
     },
     "output_type": "display_data"
    }
   ],
   "source": [
    "rel_err=[(diagnostics_df[f'toybin{i:04d}']['mcse']/diagnostics_df[f'toybin{i:04d}']['sigma_median']) for i in range(len(diagnostics_df.columns))]\n",
    "plt.hist(rel_err,histtype='step',color='midnightblue')\n",
    "plt.xlabel('$\\\\frac{\\Delta M(p(\\Sigma|y))}{M(p(\\Sigma|y)}$')\n",
    "plt.grid(False)\n",
    "#plt.savefig('./plots/toyMC_mcse_hist.pdf',format='pdf',dpi=1000,bbox_inches='tight')\n",
    "plt.show()"
   ]
  },
  {
   "cell_type": "code",
   "execution_count": 7,
   "id": "bb969880",
   "metadata": {},
   "outputs": [],
   "source": [
    "all_sigmas=[]\n",
    "for i in range(len(sigma_df.columns)):\n",
    "    all_sigmas.extend((np.array(sigma_df[f'toybin{i:04d}'].values)))"
   ]
  },
  {
   "cell_type": "code",
   "execution_count": 8,
   "id": "49ae4ef8",
   "metadata": {},
   "outputs": [
    {
     "data": {
      "image/png": "[encoded data removed]",
      "text/plain": [
       "<Figure size 432x288 with 1 Axes>"
      ]
     },
     "metadata": {
      "needs_background": "light"
     },
     "output_type": "display_data"
    }
   ],
   "source": [
    "plt.hist(all_sigmas,bins=20)\n",
    "plt.show()"
   ]
  },
  {
   "cell_type": "code",
   "execution_count": null,
   "id": "a6efedaf",
   "metadata": {},
   "outputs": [],
   "source": []
  }
 ],
 "metadata": {
  "kernelspec": {
   "display_name": "Python 3 (ipykernel)",
   "language": "python",
   "name": "python3"
  },
  "language_info": {
   "codemirror_mode": {
    "name": "ipython",
    "version": 3
   },
   "file_extension": ".py",
   "mimetype": "text/x-python",
   "name": "python",
   "nbconvert_exporter": "python",
   "pygments_lexer": "ipython3",
   "version": "3.10.4"
  }
 },
 "nbformat": 4,
 "nbformat_minor": 5
}
