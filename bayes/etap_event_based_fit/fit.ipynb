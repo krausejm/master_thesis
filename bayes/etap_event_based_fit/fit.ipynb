{
 "cells": [
  {
   "cell_type": "code",
   "execution_count": 1,
   "id": "220f6e44",
   "metadata": {},
   "outputs": [
    {
     "name": "stdout",
     "output_type": "stream",
     "text": [
      "Welcome to JupyROOT 6.26/00\n"
     ]
    }
   ],
   "source": [
    "import nest_asyncio\n",
    "nest_asyncio.apply()\n",
    "import cmdstanpy as sp\n",
    "import numpy as np\n",
    "from scipy.optimize import curve_fit\n",
    "import pandas as pd\n",
    "import matplotlib.pyplot as plt\n",
    "plt.ioff()\n",
    "from cycler import cycler\n",
    "import matplotlib.patches as mpatches\n",
    "import seaborn as sns\n",
    "import arviz as az\n",
    "import scipy.stats as stats\n",
    "import ROOT as r\n",
    "import time\n",
    "plt.rcParams[\"xtick.minor.visible\"] =  True\n",
    "plt.rcParams[\"ytick.minor.visible\"] =  True\n",
    "plt.rcParams[\"mathtext.fontset\"]=\"cm\"\n",
    "plt.rcParams['errorbar.capsize'] = 3\n",
    "plt.rcParams['mathtext.rm'] = 'serif'\n",
    "plt.rcParams['font.family']='serif'\n",
    "plt.rcParams['font.size']=22\n",
    "plt.rcParams['axes.grid'] = True\n",
    "plt.rcParams['grid.linestyle']=':'\n",
    "plt.rcParams['grid.color']='black'\n",
    "plt.rcParams['axes.prop_cycle'] = cycler(color=['black', 'red', 'blue', 'green'])\n",
    "\n",
    "import arviz as az\n",
    "import warnings\n",
    "warnings.filterwarnings('ignore')\n",
    "%jsroot on"
   ]
  },
  {
   "cell_type": "code",
   "execution_count": 31,
   "id": "dac45585",
   "metadata": {},
   "outputs": [],
   "source": [
    "np45=[]\n",
    "nm45=[]\n",
    "for i in range(3):\n",
    "    for j in range(6):\n",
    "        #read data\n",
    "        df=pd.read_csv(f\"ebin{i:02d}/ebin{i:02d}costbin{j:02d}.txt\",sep=\"\\t\")\n",
    "        df.columns=['pol','phi','weight']\n",
    "        np45.append(len(df.loc[(df['pol']>0) & (df['weight']==1)]))\n",
    "        nm45.append(len(df.loc[(df['pol']<0) & (df['weight']==1)]))"
   ]
  },
  {
   "cell_type": "code",
   "execution_count": 32,
   "id": "05938087",
   "metadata": {},
   "outputs": [
    {
     "name": "stdout",
     "output_type": "stream",
     "text": [
      "174.22222222222223 177.11111111111111\n"
     ]
    }
   ],
   "source": [
    "print(np.mean(np45),np.mean(nm45))"
   ]
  },
  {
   "cell_type": "code",
   "execution_count": 34,
   "id": "23d6698c",
   "metadata": {},
   "outputs": [
    {
     "data": {
      "text/plain": [
       "0.3294567424242424"
      ]
     },
     "execution_count": 34,
     "metadata": {},
     "output_type": "execute_result"
    }
   ],
   "source": [
    "df.loc[(df['pol']>0)&(df['weight']==1)]['pol'].mean()"
   ]
  },
  {
   "cell_type": "code",
   "execution_count": 36,
   "id": "7b937ee6",
   "metadata": {},
   "outputs": [
    {
     "data": {
      "text/plain": [
       "0      1.000\n",
       "1      1.000\n",
       "2     -0.065\n",
       "3      1.000\n",
       "4      1.000\n",
       "       ...  \n",
       "522   -0.065\n",
       "523    1.000\n",
       "524    1.000\n",
       "525    1.000\n",
       "526   -0.065\n",
       "Name: weight, Length: 527, dtype: float64"
      ]
     },
     "execution_count": 36,
     "metadata": {},
     "output_type": "execute_result"
    }
   ],
   "source": [
    "df['weight']"
   ]
  },
  {
   "cell_type": "code",
   "execution_count": null,
   "id": "50029a8e",
   "metadata": {},
   "outputs": [],
   "source": []
  }
 ],
 "metadata": {
  "kernelspec": {
   "display_name": "Python 3 (ipykernel)",
   "language": "python",
   "name": "python3"
  },
  "language_info": {
   "codemirror_mode": {
    "name": "ipython",
    "version": 3
   },
   "file_extension": ".py",
   "mimetype": "text/x-python",
   "name": "python",
   "nbconvert_exporter": "python",
   "pygments_lexer": "ipython3",
   "version": "3.10.4"
  }
 },
 "nbformat": 4,
 "nbformat_minor": 5
}
