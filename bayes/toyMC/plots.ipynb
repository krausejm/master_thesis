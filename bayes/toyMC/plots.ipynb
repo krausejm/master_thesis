{
 "cells": [
  {
   "cell_type": "code",
   "execution_count": 12,
   "id": "cce01dc1",
   "metadata": {},
   "outputs": [],
   "source": [
    "import nest_asyncio\n",
    "nest_asyncio.apply()\n",
    "import cmdstanpy as sp\n",
    "import numpy as np\n",
    "from scipy.optimize import curve_fit\n",
    "import pandas as pd\n",
    "import matplotlib.pyplot as plt\n",
    "plt.ioff()\n",
    "from cycler import cycler\n",
    "import matplotlib.patches as mpatches\n",
    "import seaborn as sns\n",
    "import arviz as az\n",
    "import scipy.stats as stats\n",
    "import ROOT as r\n",
    "import time\n",
    "import ctypes\n",
    "plt.rcParams[\"xtick.minor.visible\"] =  True\n",
    "plt.rcParams[\"ytick.minor.visible\"] =  True\n",
    "plt.rcParams[\"mathtext.fontset\"]=\"cm\"\n",
    "plt.rcParams['errorbar.capsize'] = 3\n",
    "plt.rcParams['mathtext.rm'] = 'serif'\n",
    "plt.rcParams['font.family']='serif'\n",
    "plt.rcParams['font.size']=22\n",
    "plt.rcParams['axes.grid'] = True\n",
    "plt.rcParams['grid.linestyle']=':'\n",
    "plt.rcParams['grid.color']='black'\n",
    "plt.rcParams['axes.prop_cycle'] = cycler(color=['black', 'red', 'blue', 'green'])\n",
    "\n",
    "import arviz as az\n",
    "import warnings\n",
    "warnings.filterwarnings('ignore')\n",
    "%jsroot on"
   ]
  },
  {
   "cell_type": "code",
   "execution_count": 13,
   "id": "40cc296c",
   "metadata": {},
   "outputs": [],
   "source": [
    "diagnostics_df=pd.read_csv(\"./diagnostics.csv\",index_col=0)\n",
    "sigma_df=pd.read_csv('./sigma.csv',index_col=0)"
   ]
  },
  {
   "cell_type": "code",
   "execution_count": 14,
   "id": "3bb21a6a",
   "metadata": {},
   "outputs": [
    {
     "data": {
      "text/html": [
       "<div>\n",
       "<style scoped>\n",
       "    .dataframe tbody tr th:only-of-type {\n",
       "        vertical-align: middle;\n",
       "    }\n",
       "\n",
       "    .dataframe tbody tr th {\n",
       "        vertical-align: top;\n",
       "    }\n",
       "\n",
       "    .dataframe thead th {\n",
       "        text-align: right;\n",
       "    }\n",
       "</style>\n",
       "<table border=\"1\" class=\"dataframe\">\n",
       "  <thead>\n",
       "    <tr style=\"text-align: right;\">\n",
       "      <th></th>\n",
       "      <th>toybin0000</th>\n",
       "      <th>toybin0001</th>\n",
       "      <th>toybin0002</th>\n",
       "      <th>toybin0003</th>\n",
       "      <th>toybin0004</th>\n",
       "      <th>toybin0005</th>\n",
       "      <th>toybin0006</th>\n",
       "      <th>toybin0007</th>\n",
       "      <th>toybin0008</th>\n",
       "      <th>toybin0009</th>\n",
       "      <th>...</th>\n",
       "      <th>toybin0990</th>\n",
       "      <th>toybin0991</th>\n",
       "      <th>toybin0992</th>\n",
       "      <th>toybin0993</th>\n",
       "      <th>toybin0994</th>\n",
       "      <th>toybin0995</th>\n",
       "      <th>toybin0996</th>\n",
       "      <th>toybin0997</th>\n",
       "      <th>toybin0998</th>\n",
       "      <th>toybin0999</th>\n",
       "    </tr>\n",
       "  </thead>\n",
       "  <tbody>\n",
       "    <tr>\n",
       "      <th>0</th>\n",
       "      <td>0.318669</td>\n",
       "      <td>0.173268</td>\n",
       "      <td>0.484915</td>\n",
       "      <td>0.493358</td>\n",
       "      <td>0.257683</td>\n",
       "      <td>0.502372</td>\n",
       "      <td>0.129897</td>\n",
       "      <td>0.543552</td>\n",
       "      <td>0.650947</td>\n",
       "      <td>0.052901</td>\n",
       "      <td>...</td>\n",
       "      <td>0.213725</td>\n",
       "      <td>0.469816</td>\n",
       "      <td>0.277143</td>\n",
       "      <td>0.332844</td>\n",
       "      <td>0.208962</td>\n",
       "      <td>0.110700</td>\n",
       "      <td>0.382362</td>\n",
       "      <td>0.039696</td>\n",
       "      <td>0.370198</td>\n",
       "      <td>0.194700</td>\n",
       "    </tr>\n",
       "    <tr>\n",
       "      <th>1</th>\n",
       "      <td>0.565739</td>\n",
       "      <td>0.232461</td>\n",
       "      <td>0.333831</td>\n",
       "      <td>0.388477</td>\n",
       "      <td>0.197906</td>\n",
       "      <td>0.293606</td>\n",
       "      <td>0.050277</td>\n",
       "      <td>0.792635</td>\n",
       "      <td>0.593706</td>\n",
       "      <td>0.049570</td>\n",
       "      <td>...</td>\n",
       "      <td>0.288239</td>\n",
       "      <td>0.289898</td>\n",
       "      <td>0.376142</td>\n",
       "      <td>0.495575</td>\n",
       "      <td>0.200322</td>\n",
       "      <td>0.329111</td>\n",
       "      <td>0.496588</td>\n",
       "      <td>-0.063200</td>\n",
       "      <td>0.351068</td>\n",
       "      <td>-0.011370</td>\n",
       "    </tr>\n",
       "    <tr>\n",
       "      <th>2</th>\n",
       "      <td>0.379561</td>\n",
       "      <td>0.248384</td>\n",
       "      <td>0.418090</td>\n",
       "      <td>0.193282</td>\n",
       "      <td>0.178629</td>\n",
       "      <td>0.322059</td>\n",
       "      <td>0.062577</td>\n",
       "      <td>0.770122</td>\n",
       "      <td>0.177075</td>\n",
       "      <td>-0.007977</td>\n",
       "      <td>...</td>\n",
       "      <td>0.428542</td>\n",
       "      <td>0.125432</td>\n",
       "      <td>0.263358</td>\n",
       "      <td>0.328467</td>\n",
       "      <td>0.170796</td>\n",
       "      <td>0.328614</td>\n",
       "      <td>0.343729</td>\n",
       "      <td>-0.004421</td>\n",
       "      <td>0.360313</td>\n",
       "      <td>-0.011370</td>\n",
       "    </tr>\n",
       "    <tr>\n",
       "      <th>3</th>\n",
       "      <td>0.331216</td>\n",
       "      <td>0.400690</td>\n",
       "      <td>0.295764</td>\n",
       "      <td>0.167993</td>\n",
       "      <td>0.249085</td>\n",
       "      <td>0.357798</td>\n",
       "      <td>0.066046</td>\n",
       "      <td>0.775153</td>\n",
       "      <td>0.177075</td>\n",
       "      <td>-0.049196</td>\n",
       "      <td>...</td>\n",
       "      <td>0.358424</td>\n",
       "      <td>0.307648</td>\n",
       "      <td>0.338435</td>\n",
       "      <td>0.598901</td>\n",
       "      <td>0.250131</td>\n",
       "      <td>0.258062</td>\n",
       "      <td>0.247368</td>\n",
       "      <td>0.063806</td>\n",
       "      <td>0.277744</td>\n",
       "      <td>0.175239</td>\n",
       "    </tr>\n",
       "    <tr>\n",
       "      <th>4</th>\n",
       "      <td>0.295791</td>\n",
       "      <td>0.357078</td>\n",
       "      <td>0.467589</td>\n",
       "      <td>0.422953</td>\n",
       "      <td>0.458651</td>\n",
       "      <td>0.390341</td>\n",
       "      <td>0.118646</td>\n",
       "      <td>0.788583</td>\n",
       "      <td>0.187278</td>\n",
       "      <td>0.396879</td>\n",
       "      <td>...</td>\n",
       "      <td>0.406892</td>\n",
       "      <td>0.336966</td>\n",
       "      <td>0.389153</td>\n",
       "      <td>0.593535</td>\n",
       "      <td>0.244954</td>\n",
       "      <td>0.191395</td>\n",
       "      <td>0.566855</td>\n",
       "      <td>0.112806</td>\n",
       "      <td>0.310150</td>\n",
       "      <td>0.138229</td>\n",
       "    </tr>\n",
       "    <tr>\n",
       "      <th>...</th>\n",
       "      <td>...</td>\n",
       "      <td>...</td>\n",
       "      <td>...</td>\n",
       "      <td>...</td>\n",
       "      <td>...</td>\n",
       "      <td>...</td>\n",
       "      <td>...</td>\n",
       "      <td>...</td>\n",
       "      <td>...</td>\n",
       "      <td>...</td>\n",
       "      <td>...</td>\n",
       "      <td>...</td>\n",
       "      <td>...</td>\n",
       "      <td>...</td>\n",
       "      <td>...</td>\n",
       "      <td>...</td>\n",
       "      <td>...</td>\n",
       "      <td>...</td>\n",
       "      <td>...</td>\n",
       "      <td>...</td>\n",
       "      <td>...</td>\n",
       "    </tr>\n",
       "    <tr>\n",
       "      <th>3995</th>\n",
       "      <td>0.581976</td>\n",
       "      <td>0.171085</td>\n",
       "      <td>0.631538</td>\n",
       "      <td>0.342243</td>\n",
       "      <td>0.127015</td>\n",
       "      <td>0.500412</td>\n",
       "      <td>-0.077736</td>\n",
       "      <td>0.391268</td>\n",
       "      <td>0.298571</td>\n",
       "      <td>0.111110</td>\n",
       "      <td>...</td>\n",
       "      <td>0.141978</td>\n",
       "      <td>0.103099</td>\n",
       "      <td>0.150371</td>\n",
       "      <td>0.596281</td>\n",
       "      <td>0.364718</td>\n",
       "      <td>0.170632</td>\n",
       "      <td>0.169040</td>\n",
       "      <td>0.237921</td>\n",
       "      <td>0.267568</td>\n",
       "      <td>0.196096</td>\n",
       "    </tr>\n",
       "    <tr>\n",
       "      <th>3996</th>\n",
       "      <td>0.353464</td>\n",
       "      <td>0.171085</td>\n",
       "      <td>0.422801</td>\n",
       "      <td>0.076832</td>\n",
       "      <td>0.075018</td>\n",
       "      <td>0.282905</td>\n",
       "      <td>0.218647</td>\n",
       "      <td>0.404949</td>\n",
       "      <td>0.084409</td>\n",
       "      <td>0.238267</td>\n",
       "      <td>...</td>\n",
       "      <td>0.351740</td>\n",
       "      <td>0.105002</td>\n",
       "      <td>0.085903</td>\n",
       "      <td>0.581932</td>\n",
       "      <td>0.231049</td>\n",
       "      <td>0.192769</td>\n",
       "      <td>0.347177</td>\n",
       "      <td>0.270300</td>\n",
       "      <td>0.316022</td>\n",
       "      <td>0.176328</td>\n",
       "    </tr>\n",
       "    <tr>\n",
       "      <th>3997</th>\n",
       "      <td>0.330978</td>\n",
       "      <td>0.151907</td>\n",
       "      <td>0.385011</td>\n",
       "      <td>0.189598</td>\n",
       "      <td>0.086239</td>\n",
       "      <td>0.280650</td>\n",
       "      <td>0.133284</td>\n",
       "      <td>0.301594</td>\n",
       "      <td>0.214551</td>\n",
       "      <td>0.208781</td>\n",
       "      <td>...</td>\n",
       "      <td>0.506260</td>\n",
       "      <td>0.271307</td>\n",
       "      <td>0.130807</td>\n",
       "      <td>0.581824</td>\n",
       "      <td>0.220066</td>\n",
       "      <td>0.240617</td>\n",
       "      <td>0.260679</td>\n",
       "      <td>0.224917</td>\n",
       "      <td>0.403658</td>\n",
       "      <td>0.186285</td>\n",
       "    </tr>\n",
       "    <tr>\n",
       "      <th>3998</th>\n",
       "      <td>0.275345</td>\n",
       "      <td>0.158785</td>\n",
       "      <td>0.385011</td>\n",
       "      <td>0.307608</td>\n",
       "      <td>0.044545</td>\n",
       "      <td>0.280650</td>\n",
       "      <td>0.088553</td>\n",
       "      <td>0.560855</td>\n",
       "      <td>0.199800</td>\n",
       "      <td>0.254903</td>\n",
       "      <td>...</td>\n",
       "      <td>0.516705</td>\n",
       "      <td>0.179554</td>\n",
       "      <td>0.124849</td>\n",
       "      <td>0.613571</td>\n",
       "      <td>0.296504</td>\n",
       "      <td>0.337258</td>\n",
       "      <td>0.284391</td>\n",
       "      <td>0.164286</td>\n",
       "      <td>0.359146</td>\n",
       "      <td>0.169762</td>\n",
       "    </tr>\n",
       "    <tr>\n",
       "      <th>3999</th>\n",
       "      <td>0.405649</td>\n",
       "      <td>0.302616</td>\n",
       "      <td>0.406379</td>\n",
       "      <td>0.307608</td>\n",
       "      <td>0.117072</td>\n",
       "      <td>0.302309</td>\n",
       "      <td>0.195488</td>\n",
       "      <td>0.573981</td>\n",
       "      <td>0.321503</td>\n",
       "      <td>0.254903</td>\n",
       "      <td>...</td>\n",
       "      <td>0.427495</td>\n",
       "      <td>0.178511</td>\n",
       "      <td>0.186456</td>\n",
       "      <td>0.643504</td>\n",
       "      <td>0.288771</td>\n",
       "      <td>0.337258</td>\n",
       "      <td>0.287928</td>\n",
       "      <td>0.237219</td>\n",
       "      <td>-0.050515</td>\n",
       "      <td>0.179043</td>\n",
       "    </tr>\n",
       "  </tbody>\n",
       "</table>\n",
       "<p>4000 rows × 1000 columns</p>\n",
       "</div>"
      ],
      "text/plain": [
       "      toybin0000  toybin0001  toybin0002  toybin0003  toybin0004  toybin0005  \\\n",
       "0       0.318669    0.173268    0.484915    0.493358    0.257683    0.502372   \n",
       "1       0.565739    0.232461    0.333831    0.388477    0.197906    0.293606   \n",
       "2       0.379561    0.248384    0.418090    0.193282    0.178629    0.322059   \n",
       "3       0.331216    0.400690    0.295764    0.167993    0.249085    0.357798   \n",
       "4       0.295791    0.357078    0.467589    0.422953    0.458651    0.390341   \n",
       "...          ...         ...         ...         ...         ...         ...   \n",
       "3995    0.581976    0.171085    0.631538    0.342243    0.127015    0.500412   \n",
       "3996    0.353464    0.171085    0.422801    0.076832    0.075018    0.282905   \n",
       "3997    0.330978    0.151907    0.385011    0.189598    0.086239    0.280650   \n",
       "3998    0.275345    0.158785    0.385011    0.307608    0.044545    0.280650   \n",
       "3999    0.405649    0.302616    0.406379    0.307608    0.117072    0.302309   \n",
       "\n",
       "      toybin0006  toybin0007  toybin0008  toybin0009  ...  toybin0990  \\\n",
       "0       0.129897    0.543552    0.650947    0.052901  ...    0.213725   \n",
       "1       0.050277    0.792635    0.593706    0.049570  ...    0.288239   \n",
       "2       0.062577    0.770122    0.177075   -0.007977  ...    0.428542   \n",
       "3       0.066046    0.775153    0.177075   -0.049196  ...    0.358424   \n",
       "4       0.118646    0.788583    0.187278    0.396879  ...    0.406892   \n",
       "...          ...         ...         ...         ...  ...         ...   \n",
       "3995   -0.077736    0.391268    0.298571    0.111110  ...    0.141978   \n",
       "3996    0.218647    0.404949    0.084409    0.238267  ...    0.351740   \n",
       "3997    0.133284    0.301594    0.214551    0.208781  ...    0.506260   \n",
       "3998    0.088553    0.560855    0.199800    0.254903  ...    0.516705   \n",
       "3999    0.195488    0.573981    0.321503    0.254903  ...    0.427495   \n",
       "\n",
       "      toybin0991  toybin0992  toybin0993  toybin0994  toybin0995  toybin0996  \\\n",
       "0       0.469816    0.277143    0.332844    0.208962    0.110700    0.382362   \n",
       "1       0.289898    0.376142    0.495575    0.200322    0.329111    0.496588   \n",
       "2       0.125432    0.263358    0.328467    0.170796    0.328614    0.343729   \n",
       "3       0.307648    0.338435    0.598901    0.250131    0.258062    0.247368   \n",
       "4       0.336966    0.389153    0.593535    0.244954    0.191395    0.566855   \n",
       "...          ...         ...         ...         ...         ...         ...   \n",
       "3995    0.103099    0.150371    0.596281    0.364718    0.170632    0.169040   \n",
       "3996    0.105002    0.085903    0.581932    0.231049    0.192769    0.347177   \n",
       "3997    0.271307    0.130807    0.581824    0.220066    0.240617    0.260679   \n",
       "3998    0.179554    0.124849    0.613571    0.296504    0.337258    0.284391   \n",
       "3999    0.178511    0.186456    0.643504    0.288771    0.337258    0.287928   \n",
       "\n",
       "      toybin0997  toybin0998  toybin0999  \n",
       "0       0.039696    0.370198    0.194700  \n",
       "1      -0.063200    0.351068   -0.011370  \n",
       "2      -0.004421    0.360313   -0.011370  \n",
       "3       0.063806    0.277744    0.175239  \n",
       "4       0.112806    0.310150    0.138229  \n",
       "...          ...         ...         ...  \n",
       "3995    0.237921    0.267568    0.196096  \n",
       "3996    0.270300    0.316022    0.176328  \n",
       "3997    0.224917    0.403658    0.186285  \n",
       "3998    0.164286    0.359146    0.169762  \n",
       "3999    0.237219   -0.050515    0.179043  \n",
       "\n",
       "[4000 rows x 1000 columns]"
      ]
     },
     "execution_count": 14,
     "metadata": {},
     "output_type": "execute_result"
    }
   ],
   "source": [
    "sigma_df"
   ]
  },
  {
   "cell_type": "code",
   "execution_count": 17,
   "id": "94ec6f79",
   "metadata": {},
   "outputs": [
    {
     "data": {
      "image/png": "[encoded data removed]",
      "text/plain": [
       "<Figure size 432x288 with 1 Axes>"
      ]
     },
     "metadata": {
      "needs_background": "light"
     },
     "output_type": "display_data"
    }
   ],
   "source": [
    "plt.hist(np.abs(diagnostics_df.loc['mcse']/diagnostics_df.loc['sigma_median']),histtype='step',bins=20)\n",
    "plt.xlabel('$\\\\frac{\\Delta M(p(\\Sigma|y))}{M(p(\\Sigma|y)}$')\n",
    "plt.grid(False)\n",
    "plt.savefig('./plots/toyMC_mcse_hist.pdf',format='pdf',dpi=1000,bbox_inches='tight')\n",
    "plt.show()"
   ]
  },
  {
   "cell_type": "code",
   "execution_count": 18,
   "id": "9510a9c1",
   "metadata": {},
   "outputs": [
    {
     "data": {
      "text/plain": [
       "12000"
      ]
     },
     "execution_count": 18,
     "metadata": {},
     "output_type": "execute_result"
    }
   ],
   "source": [
    "pvals=diagnostics_df.loc[[f'pval{i:02d}' for i in range(12)]]\n",
    "len(pvals.values.ravel())"
   ]
  },
  {
   "cell_type": "code",
   "execution_count": 22,
   "id": "0ae1c738",
   "metadata": {},
   "outputs": [],
   "source": [
    "all_sigmas=[]\n",
    "for i in range(len(sigma_df.columns)):\n",
    "    all_sigmas.extend((np.array(sigma_df[f'toybin{i:04d}'].values)-0.3)/np.std(sigma_df[f'toybin{i:04d}'].values))\n"
   ]
  },
  {
   "cell_type": "code",
   "execution_count": 23,
   "id": "8fd4c203",
   "metadata": {},
   "outputs": [
    {
     "name": "stderr",
     "output_type": "stream",
     "text": [
      "Warning in <TROOT::Append>: Replacing existing TH1: h (Potential memory leak).\n"
     ]
    }
   ],
   "source": [
    "h=r.TH1D(\"h\",\"h\",100,-5,5)\n",
    "for i in range(len(all_sigmas)):\n",
    "    h.Fill(all_sigmas[i])\n"
   ]
  },
  {
   "cell_type": "code",
   "execution_count": 24,
   "id": "386e82b2",
   "metadata": {},
   "outputs": [
    {
     "data": {
      "text/plain": [
       "<cppyy.gbl.TLatex object at 0x55745aef2460>"
      ]
     },
     "execution_count": 24,
     "metadata": {},
     "output_type": "execute_result"
    },
    {
     "name": "stdout",
     "output_type": "stream",
     "text": [
      " FCN=346.612 FROM MIGRAD    STATUS=CONVERGED      56 CALLS          57 TOTAL\n",
      "                     EDM=4.07845e-07    STRATEGY= 1      ERROR MATRIX ACCURATE \n",
      "  EXT PARAMETER                                   STEP         FIRST   \n",
      "  NO.   NAME      VALUE            ERROR          SIZE      DERIVATIVE \n",
      "   1  Constant     1.13753e+05   6.97550e+01   5.17965e-01  -1.49126e-05\n",
      "   2  Mean        -1.42387e-01   7.03427e-04   6.40279e-06  -2.05889e-02\n",
      "   3  Sigma        1.40251e+00   5.00191e-04   8.83878e-07  -7.65649e+00\n"
     ]
    },
    {
     "name": "stderr",
     "output_type": "stream",
     "text": [
      "Warning in <TCanvas::Constructor>: Deleting canvas with same name: c\n"
     ]
    },
    {
     "data": {
      "text/html": [
       "\n",
       "\n",
       "<div id=\"root_plot_1649775461333\"\n",
       "     style=\"width: 696px; height: 472px\">\n",
       "</div>\n",
       "<script>\n",
       "\n",
       "function display_root_plot_1649775461333(Core) {\n",
       "   let obj = Core.parse({\"_typename\":\"TCanvas\",\"fUniqueID\":0,\"fBits\":3342344,\"fLineColor\":1,\"fLineStyle\":1,\"fLineWidth\":1,\"fFillColor\":0,\"fFillStyle\":1001,\"fLeftMargin\":0.1,\"fRightMargin\":0.1,\"fBottomMargin\":0.15,\"fTopMargin\":0.1,\"fXfile\":2,\"fYfile\":2,\"fAfile\":1,\"fXstat\":0.99,\"fYstat\":0.99,\"fAstat\":2,\"fFrameFillColor\":0,\"fFrameLineColor\":1,\"fFrameFillStyle\":1001,\"fFrameLineStyle\":1,\"fFrameLineWidth\":1,\"fFrameBorderSize\":1,\"fFrameBorderMode\":0,\"fX1\":-6.25000009313226,\"fY1\":-23803.5009458661,\"fX2\":6.25000009313226,\"fY2\":134886.500236467,\"fXtoAbsPixelk\":348.00005,\"fXtoPixelk\":348.00005,\"fXtoPixel\":55.6799991703033,\"fYtoAbsPixelk\":401.200047714162,\"fYtoPixelk\":401.200047714162,\"fYtoPixel\":-0.00297435248902468,\"fUtoAbsPixelk\":5e-5,\"fUtoPixelk\":5e-5,\"fUtoPixel\":696,\"fVtoAbsPixelk\":472.00005,\"fVtoPixelk\":472,\"fVtoPixel\":-472,\"fAbsPixeltoXk\":-6.25000009313226,\"fPixeltoXk\":-6.25000009313226,\"fPixeltoX\":0.017959770382564,\"fAbsPixeltoYk\":134886.500236467,\"fPixeltoYk\":-23803.5009458661,\"fPixeltoY\":-336.207629623586,\"fXlowNDC\":0,\"fYlowNDC\":0,\"fXUpNDC\":1,\"fYUpNDC\":1,\"fWNDC\":1,\"fHNDC\":1,\"fAbsXlowNDC\":0,\"fAbsYlowNDC\":0,\"fAbsWNDC\":1,\"fAbsHNDC\":1,\"fUxmin\":-5,\"fUymin\":0,\"fUxmax\":5,\"fUymax\":119017.5,\"fTheta\":30,\"fPhi\":30,\"fAspectRatio\":0,\"fNumber\":0,\"fTickx\":0,\"fTicky\":0,\"fLogx\":0,\"fLogy\":0,\"fLogz\":0,\"fPadPaint\":0,\"fCrosshair\":0,\"fCrosshairPos\":0,\"fBorderSize\":2,\"fBorderMode\":0,\"fModified\":true,\"fGridx\":false,\"fGridy\":false,\"fAbsCoord\":false,\"fEditable\":true,\"fFixedAspectRatio\":false,\"fPrimitives\":{\"_typename\":\"TList\",\"name\":\"TList\",\"arr\":[{\"_typename\":\"TFrame\",\"fUniqueID\":0,\"fBits\":8,\"fLineColor\":1,\"fLineStyle\":1,\"fLineWidth\":1,\"fFillColor\":0,\"fFillStyle\":1001,\"fX1\":-5,\"fY1\":0,\"fX2\":5,\"fY2\":119017.5,\"fBorderSize\":1,\"fBorderMode\":0},{\"_typename\":\"TH1D\",\"fUniqueID\":0,\"fBits\":520,\"fName\":\"h\",\"fTitle\":\"\",\"fLineColor\":602,\"fLineStyle\":1,\"fLineWidth\":1,\"fFillColor\":0,\"fFillStyle\":1001,\"fMarkerColor\":1,\"fMarkerStyle\":1,\"fMarkerSize\":1,\"fNcells\":102,\"fXaxis\":{\"_typename\":\"TAxis\",\"fUniqueID\":0,\"fBits\":0,\"fName\":\"xaxis\",\"fTitle\":\"#font[132]{#frac{p(#Sigma|D_{#it{i}})-#Sigma_{true}}{std(p(#Sigma|D_{#it{i}}))}}\",\"fNdivisions\":510,\"fAxisColor\":1,\"fLabelColor\":1,\"fLabelFont\":132,\"fLabelOffset\":0.005,\"fLabelSize\":0.035,\"fTickLength\":0.03,\"fTitleOffset\":1.5,\"fTitleSize\":0.035,\"fTitleColor\":1,\"fTitleFont\":42,\"fNbins\":100,\"fXmin\":-5,\"fXmax\":5,\"fXbins\":[],\"fFirst\":0,\"fLast\":0,\"fBits2\":0,\"fTimeDisplay\":false,\"fTimeFormat\":\"\",\"fLabels\":null,\"fModLabs\":null},\"fYaxis\":{\"_typename\":\"TAxis\",\"fUniqueID\":0,\"fBits\":0,\"fName\":\"yaxis\",\"fTitle\":\"#font[132]{counts}\",\"fNdivisions\":0,\"fAxisColor\":1,\"fLabelColor\":1,\"fLabelFont\":132,\"fLabelOffset\":0.005,\"fLabelSize\":0,\"fTickLength\":0.03,\"fTitleOffset\":0,\"fTitleSize\":0.035,\"fTitleColor\":1,\"fTitleFont\":42,\"fNbins\":1,\"fXmin\":0,\"fXmax\":1,\"fXbins\":[],\"fFirst\":0,\"fLast\":0,\"fBits2\":0,\"fTimeDisplay\":false,\"fTimeFormat\":\"\",\"fLabels\":null,\"fModLabs\":null},\"fZaxis\":{\"_typename\":\"TAxis\",\"fUniqueID\":0,\"fBits\":0,\"fName\":\"zaxis\",\"fTitle\":\"\",\"fNdivisions\":510,\"fAxisColor\":1,\"fLabelColor\":1,\"fLabelFont\":42,\"fLabelOffset\":0.005,\"fLabelSize\":0.035,\"fTickLength\":0.03,\"fTitleOffset\":1,\"fTitleSize\":0.035,\"fTitleColor\":1,\"fTitleFont\":42,\"fNbins\":1,\"fXmin\":0,\"fXmax\":1,\"fXbins\":[],\"fFirst\":0,\"fLast\":0,\"fBits2\":0,\"fTimeDisplay\":false,\"fTimeFormat\":\"\",\"fLabels\":null,\"fModLabs\":null},\"fBarOffset\":0,\"fBarWidth\":1000,\"fEntries\":4000000,\"fTsumw\":3997866,\"fTsumw2\":3997866,\"fTsumwx\":-565968.092921036,\"fTsumwx2\":7904167.22614697,\"fMaximum\":-1111,\"fMinimum\":-1111,\"fNormFactor\":0,\"fContour\":[],\"fSumw2\":[],\"fOption\":\"\",\"fFunctions\":{\"_typename\":\"TList\",\"name\":\"TList\",\"arr\":[{\"_typename\":\"TF1\",\"fUniqueID\":0,\"fBits\":1024,\"fName\":\"f\",\"fTitle\":\"gaus\",\"fLineColor\":2,\"fLineStyle\":1,\"fLineWidth\":2,\"fFillColor\":19,\"fFillStyle\":0,\"fMarkerColor\":1,\"fMarkerStyle\":1,\"fMarkerSize\":1,\"fXmin\":-5,\"fXmax\":5,\"fNpar\":3,\"fNdim\":1,\"fNpx\":100,\"fType\":0,\"fNpfits\":100,\"fNDF\":97,\"fChisquare\":346.612155195746,\"fMinimum\":-1111,\"fMaximum\":-1111,\"fParErrors\":[69.7550323000196,7.03427356638208e-4,5.00191355301216e-4],\"fParMin\":[0,0,0],\"fParMax\":[0,0,13.9923868871107],\"fSave\":{\"$arr\":\"Float64\",\"len\":103,\"v\":[282.539724856693,360.765608425776,458.313739123714,579.285633627862,728.475205128152,911.441765442951,1134.58022959555,1405.18541165988,1731.50674640517,2122.7892441385,2589.29601963632,3142.30736839056,3794.09113631019,4557.83908603152,5447.56414711473,6477.95388841392,7664.17630219723,9021.6350648092,10565.6728482854,12311.2229954225,14272.4119122672,16462.1168304906,18891.4860791024,21569.4315899178,24502.1059333669,27692.3786130439,31139.3284993158,34837.7710094929,38777.8398020589,42944.6432140266,47318.0153228047,51872.3802757143,56576.7463580551,61394.8431657095,66285.4112616436,71202.6489300578,76096.8152510731,80914.9829031879,85601.9281001011,90101.1391513549,94355.9195865666,98310.5568850434,101911.52387461,105108.677041635,107856.414517167,110114.756500092,111850.312404927,113037.102060907,113657.202743513,113701.199518479,113168.423083041,112066.966706917,110413.481673698,108232.758448793,105557.10829786,102425.566913085,98882.9474735249,94978.7752226034,90766.1389084884,86300.4961932213,81638.4703636395,76836.6744177212,71950.5959720759,67033.5726201414,62135.8825960504,57303.970130537,52579.8190055432,48000.4818083882,43597.7665262188,39398.0766519068,35422.3961006015,31686.4061229953,28200.7181576361,24971.2042491017,21999.4052801615,19282.9967871721,16816.2924728297,14590.7665921266,12595.5780372008,10818.0810434063,9244.30983733917,7859.42710695722,6648.12876455165,5594.99998160759,4684.81980676855,3902.81376225354,3234.85560048558,2667.62086315055,2188.69601073199,1786.64768993842,1451.05720121689,1172.52545086018,942.653661077473,754.004909519854,600.051220730392,475.110477960014,374.276903601371,293.348304399151,228.752722464516,177.476598086094,136.996052820564,-5,5]},\"fNormalized\":false,\"fNormIntegral\":0,\"fFormula\":{\"_typename\":\"TFormula\",\"fUniqueID\":0,\"fBits\":1024,\"fName\":\"f\",\"fTitle\":\"gaus\",\"fClingParameters\":[113753.138011475,-0.142387074214724,1.40250972143763],\"fAllParametersSetted\":true,\"fParams\":[{\"$pair\":\"pair<TString,int,TFormulaParamOrder>\",\"first\":\"Constant\",\"second\":0},{\"$pair\":\"pair<TString,int,TFormulaParamOrder>\",\"first\":\"Mean\",\"second\":1},{\"$pair\":\"pair<TString,int,TFormulaParamOrder>\",\"first\":\"Sigma\",\"second\":2}],\"fFormula\":\"[Constant]*exp(-0.5*((x-[Mean])\\/[Sigma])*((x-[Mean])\\/[Sigma]))\",\"fNdim\":1,\"fLinearParts\":[],\"fVectorized\":false},\"fParams\":null,\"fComposition\":null}],\"opt\":[\"\"]},\"fBufferSize\":0,\"fBuffer\":[],\"fBinStatErrOpt\":0,\"fStatOverflows\":2,\"fArray\":{\"$arr\":\"Float64\",\"len\":102,\"v\":[1807,382,459,570,751,824,1129,1276,1575,1948,2360,2893,3485,4123,4978,5869,6996,8372,9525,11385,13052,15376,17834,20279,22900,25996,29102,33298,37101,41105,45258,49515,54463,59133,63994,69230,74072,78424,82494,88026,92201,96699,100081,103340,106211,108145,110119,112201,112877,113350,113309,112606,111126,108884,106788,104220,100227,96667,92933,88814,84328,79436,74813,69834,64870,59706,55391,50446,46005,41625,37996,33827,30328,26915,23937,20875,18256,15866,13571,11673,9926,8433,7024,5987,4961,4265,3478,3007,2279,1869,1585,1189,873,761,589,443,385,263,220,162,119,327]}},{\"_typename\":\"TLatex\",\"fUniqueID\":0,\"fBits\":9,\"fName\":\"\",\"fTitle\":\"#color[2]{#font[132]{#mu=-0.1424#pm0.0007, #sigma=1.4025#pm0.0005}}\",\"fTextAngle\":0,\"fTextSize\":0.05,\"fTextAlign\":22,\"fTextColor\":1,\"fTextFont\":62,\"fX\":0,\"fY\":5000,\"fLineColor\":1,\"fLineStyle\":1,\"fLineWidth\":2,\"fLimitFactorSize\":3,\"fOriginSize\":0.04},{\"_typename\":\"TStyle\",\"fUniqueID\":0,\"fBits\":0,\"fName\":\"Modern\",\"fTitle\":\"Modern Style\",\"fLineColor\":1,\"fLineStyle\":1,\"fLineWidth\":1,\"fFillColor\":19,\"fFillStyle\":1001,\"fMarkerColor\":1,\"fMarkerStyle\":1,\"fMarkerSize\":1,\"fTextAngle\":0,\"fTextSize\":0.05,\"fTextAlign\":11,\"fTextColor\":1,\"fTextFont\":62,\"fXaxis\":{\"_typename\":\"TAttAxis\",\"fNdivisions\":510,\"fAxisColor\":1,\"fLabelColor\":1,\"fLabelFont\":42,\"fLabelOffset\":0.005,\"fLabelSize\":0.035,\"fTickLength\":0.03,\"fTitleOffset\":1,\"fTitleSize\":0.035,\"fTitleColor\":1,\"fTitleFont\":42},\"fYaxis\":{\"_typename\":\"TAttAxis\",\"fNdivisions\":510,\"fAxisColor\":1,\"fLabelColor\":1,\"fLabelFont\":42,\"fLabelOffset\":0.005,\"fLabelSize\":0.035,\"fTickLength\":0.03,\"fTitleOffset\":0,\"fTitleSize\":0.035,\"fTitleColor\":1,\"fTitleFont\":42},\"fZaxis\":{\"_typename\":\"TAttAxis\",\"fNdivisions\":510,\"fAxisColor\":1,\"fLabelColor\":1,\"fLabelFont\":42,\"fLabelOffset\":0.005,\"fLabelSize\":0.035,\"fTickLength\":0.03,\"fTitleOffset\":1,\"fTitleSize\":0.035,\"fTitleColor\":1,\"fTitleFont\":42},\"fBarWidth\":1,\"fBarOffset\":0,\"fColorModelPS\":0,\"fDrawBorder\":0,\"fOptLogx\":0,\"fOptLogy\":0,\"fOptLogz\":0,\"fOptDate\":0,\"fOptStat\":0,\"fOptTitle\":1,\"fOptFile\":0,\"fOptFit\":0,\"fShowEventStatus\":0,\"fShowEditor\":0,\"fShowToolBar\":0,\"fNumberContours\":20,\"fAttDate\":{\"_typename\":\"TAttText\",\"fTextAngle\":0,\"fTextSize\":0.025,\"fTextAlign\":11,\"fTextColor\":1,\"fTextFont\":62},\"fDateX\":0.01,\"fDateY\":0.01,\"fEndErrorSize\":2,\"fErrorX\":0.5,\"fFuncColor\":2,\"fFuncStyle\":1,\"fFuncWidth\":2,\"fGridColor\":0,\"fGridStyle\":3,\"fGridWidth\":1,\"fLegendBorderSize\":1,\"fLegendFillColor\":0,\"fLegendFont\":42,\"fLegendTextSize\":0,\"fHatchesLineWidth\":1,\"fHatchesSpacing\":1,\"fFrameFillColor\":0,\"fFrameLineColor\":1,\"fFrameFillStyle\":1001,\"fFrameLineStyle\":1,\"fFrameLineWidth\":1,\"fFrameBorderSize\":1,\"fFrameBorderMode\":0,\"fHistFillColor\":0,\"fHistLineColor\":602,\"fHistFillStyle\":1001,\"fHistLineStyle\":1,\"fHistLineWidth\":1,\"fHistMinimumZero\":false,\"fHistTopMargin\":0.05,\"fCanvasPreferGL\":false,\"fCanvasColor\":0,\"fCanvasBorderSize\":2,\"fCanvasBorderMode\":0,\"fCanvasDefH\":500,\"fCanvasDefW\":700,\"fCanvasDefX\":10,\"fCanvasDefY\":10,\"fPadColor\":0,\"fPadBorderSize\":2,\"fPadBorderMode\":0,\"fPadBottomMargin\":0.1,\"fPadTopMargin\":0.1,\"fPadLeftMargin\":0.1,\"fPadRightMargin\":0.1,\"fPadGridX\":false,\"fPadGridY\":false,\"fPadTickX\":0,\"fPadTickY\":0,\"fPaperSizeX\":20,\"fPaperSizeY\":26,\"fScreenFactor\":1,\"fStatColor\":0,\"fStatTextColor\":1,\"fStatBorderSize\":1,\"fStatFont\":42,\"fStatFontSize\":0,\"fStatStyle\":1001,\"fStatFormat\":\"6.4g\",\"fStatX\":0.98,\"fStatY\":0.935,\"fStatW\":0.2,\"fStatH\":0.16,\"fStripDecimals\":true,\"fTitleAlign\":23,\"fTitleColor\":0,\"fTitleTextColor\":1,\"fTitleBorderSize\":0,\"fTitleFont\":42,\"fTitleFontSize\":0.05,\"fTitleStyle\":0,\"fTitleX\":0.5,\"fTitleY\":0.995,\"fTitleW\":0,\"fTitleH\":0,\"fLegoInnerR\":0.5,\"fLineStyles\":[\"\",\"  \",\" 12 12\",\" 4 8\",\" 12 16 4 16\",\" 20 12 4 12\",\" 20 12 4 12 4 12 4 12\",\" 20 20\",\" 20 12 4 12 4 12\",\" 80 20\",\" 80 40 4 40\",\"  \",\"  \",\"  \",\"  \",\"  \",\"  \",\"  \",\"  \",\"  \",\"  \",\"  \",\"  \",\"  \",\"  \",\"  \",\"  \",\"  \",\"  \",\"  \"],\"fHeaderPS\":\"\",\"fTitlePS\":\"\",\"fFitFormat\":\"5.4g\",\"fPaintTextFormat\":\"g\",\"fLineScalePS\":3,\"fJoinLinePS\":0,\"fCapLinePS\":0,\"fTimeOffset\":788918400,\"fImageScaling\":1}],\"opt\":[\"\",\"\",\"\",\"\"]},\"fExecs\":null,\"fName\":\"c\",\"fTitle\":\"c\",\"fNumPaletteColor\":0,\"fNextPaletteColor\":0,\"fDISPLAY\":\"$DISPLAY\",\"fDoubleBuffer\":0,\"fRetained\":true,\"fXsizeUser\":0,\"fYsizeUser\":0,\"fXsizeReal\":20,\"fYsizeReal\":14.28571,\"fWindowTopX\":0,\"fWindowTopY\":0,\"fWindowWidth\":0,\"fWindowHeight\":0,\"fCw\":696,\"fCh\":472,\"fCatt\":{\"_typename\":\"TAttCanvas\",\"fXBetween\":2,\"fYBetween\":2,\"fTitleFromTop\":1.2,\"fXdate\":0.2,\"fYdate\":0.3,\"fAdate\":1},\"kMoveOpaque\":true,\"kResizeOpaque\":true,\"fHighLightColor\":2,\"fBatch\":true,\"kShowEventStatus\":false,\"kAutoExec\":true,\"kMenuBar\":true});\n",
       "   Core.settings.HandleKeys = false;\n",
       "   Core.draw(\"root_plot_1649775461333\", obj, \"\");\n",
       "}\n",
       "\n",
       "function script_load_root_plot_1649775461333(src, on_error) {\n",
       "    let script = document.createElement('script');\n",
       "    script.src = src;\n",
       "    script.onload = function() { display_root_plot_1649775461333(JSROOT); };\n",
       "    script.onerror = function() { script.remove(); on_error(); };\n",
       "    document.head.appendChild(script);\n",
       "}\n",
       "\n",
       "if (typeof requirejs !== 'undefined') {\n",
       "\n",
       "    // We are in jupyter notebooks, use require.js which should be configured already\n",
       "    requirejs.config({\n",
       "       paths: { 'JSRootCore' : [ 'scripts/JSRoot.core', 'https://root.cern/js/6.1.1/scripts/JSRoot.core.min', 'https://jsroot.gsi.de/6.1.1/scripts/JSRoot.core.min' ] }\n",
       "    })(['JSRootCore'],  function(Core) {\n",
       "       display_root_plot_1649775461333(Core);\n",
       "    });\n",
       "\n",
       "} else if (typeof JSROOT !== 'undefined') {\n",
       "\n",
       "   // JSROOT already loaded, just use it\n",
       "   display_root_plot_1649775461333(JSROOT);\n",
       "\n",
       "} else {\n",
       "\n",
       "    // We are in jupyterlab without require.js, directly loading jsroot\n",
       "    // Jupyterlab might be installed in a different base_url so we need to know it.\n",
       "    try {\n",
       "        var base_url = JSON.parse(document.getElementById('jupyter-config-data').innerHTML).baseUrl;\n",
       "    } catch(_) {\n",
       "        var base_url = '/';\n",
       "    }\n",
       "\n",
       "    // Try loading a local version of requirejs and fallback to cdn if not possible.\n",
       "    script_load_root_plot_1649775461333(base_url + 'static/scripts/JSRoot.core.js', function(){\n",
       "        console.error('Fail to load JSROOT locally, please check your jupyter_notebook_config.py file');\n",
       "        script_load_root_plot_1649775461333('https://root.cern/js/6.1.1/scripts/JSRoot.core.min.js', function(){\n",
       "            document.getElementById(\"root_plot_1649775461333\").innerHTML = \"Failed to load JSROOT\";\n",
       "        });\n",
       "    });\n",
       "}\n",
       "\n",
       "</script>\n"
      ],
      "text/plain": [
       "<IPython.core.display.HTML object>"
      ]
     },
     "metadata": {},
     "output_type": "display_data"
    }
   ],
   "source": [
    "c=r.TCanvas(\"c\",\"c\")\n",
    "c.Draw(\"\")\n",
    "c.SetBottomMargin(0.15)\n",
    "h.Draw(\"\")\n",
    "h.GetXaxis().SetLabelFont(132)\n",
    "h.GetYaxis().SetLabelFont(132)\n",
    "h.GetYaxis().SetTitle(\"#font[132]{counts}\")\n",
    "h.GetXaxis().SetTitle(\"#font[132]{#frac{p(#Sigma|D_{#it{i}})-#Sigma_{true}}{std(p(#Sigma|D_{#it{i}}))}}\")\n",
    "h.SetTitle(\"\")\n",
    "h.GetYaxis().SetNdivisions(0)\n",
    "h.GetYaxis().SetLabelSize(0)\n",
    "r.gStyle.SetOptStat(0)\n",
    "h.GetXaxis().SetTitleOffset(1.5)\n",
    "f=r.TF1(\"f\",\"gaus\",-5,5)\n",
    "h.Fit(f,\"S\")\n",
    "t=r.TLatex()\n",
    "t.SetTextAlign(22)\n",
    "mu = f.GetParameter(1)\n",
    "mu_err = f.GetParError(1)\n",
    "sigma=f.GetParameter(2)\n",
    "sigma_err=f.GetParError(2)\n",
    "t.DrawLatex(0,5e3,f\"#color[2]{{#font[132]{{#mu={mu:.4f}#pm{mu_err:.4f}, #sigma={sigma:.4f}#pm{sigma_err:.4f}}}}}\")"
   ]
  },
  {
   "cell_type": "code",
   "execution_count": 25,
   "id": "6175eb23",
   "metadata": {},
   "outputs": [],
   "source": [
    "sigma_chi2_df=pd.read_csv('./sigma_chi2.csv',index_col=0)"
   ]
  },
  {
   "cell_type": "code",
   "execution_count": 30,
   "id": "e66f53eb",
   "metadata": {},
   "outputs": [
    {
     "name": "stderr",
     "output_type": "stream",
     "text": [
      "Warning in <TROOT::Append>: Replacing existing TH1: h1 (Potential memory leak).\n"
     ]
    }
   ],
   "source": [
    "h1=r.TH1D(\"h1\",\"h1\",25,-5,5)\n",
    "for i in range(len(sigma_chi2_df.columns)):\n",
    "    h1.Fill((sigma_chi2_df[f'toybin{i:04d}']['sigma']-0.3)/sigma_chi2_df[f'toybin{i:04d}']['error'])"
   ]
  },
  {
   "cell_type": "code",
   "execution_count": 31,
   "id": "a099af69",
   "metadata": {},
   "outputs": [
    {
     "data": {
      "text/plain": [
       "<cppyy.gbl.TFitResultPtr object at 0x55745a775f20>"
      ]
     },
     "execution_count": 31,
     "metadata": {},
     "output_type": "execute_result"
    },
    {
     "name": "stdout",
     "output_type": "stream",
     "text": [
      " FCN=10.9532 FROM MIGRAD    STATUS=CONVERGED      60 CALLS          61 TOTAL\n",
      "                     EDM=5.91664e-09    STRATEGY= 1      ERROR MATRIX ACCURATE \n",
      "  EXT PARAMETER                                   STEP         FIRST   \n",
      "  NO.   NAME      VALUE            ERROR          SIZE      DERIVATIVE \n",
      "   1  Constant     1.35633e+02   5.46997e+00   7.28449e-03   5.10337e-06\n",
      "   2  Mean        -1.05717e-01   3.72283e-02   6.28093e-05   2.12601e-03\n",
      "   3  Sigma        1.16350e+00   2.91258e-02   1.09370e-05  -6.23420e-03\n"
     ]
    },
    {
     "name": "stderr",
     "output_type": "stream",
     "text": [
      "Warning in <TCanvas::Constructor>: Deleting canvas with same name: c1\n"
     ]
    },
    {
     "data": {
      "text/html": [
       "\n",
       "\n",
       "<div id=\"root_plot_1649775588363\"\n",
       "     style=\"width: 696px; height: 472px\">\n",
       "</div>\n",
       "<script>\n",
       "\n",
       "function display_root_plot_1649775588363(Core) {\n",
       "   let obj = Core.parse({\"_typename\":\"TCanvas\",\"fUniqueID\":0,\"fBits\":3342344,\"fLineColor\":1,\"fLineStyle\":1,\"fLineWidth\":1,\"fFillColor\":0,\"fFillStyle\":1001,\"fLeftMargin\":0.1,\"fRightMargin\":0.1,\"fBottomMargin\":0.15,\"fTopMargin\":0.1,\"fXfile\":2,\"fYfile\":2,\"fAfile\":1,\"fXstat\":0.99,\"fYstat\":0.99,\"fAstat\":2,\"fFrameFillColor\":0,\"fFrameLineColor\":1,\"fFrameFillStyle\":1001,\"fFrameLineStyle\":1,\"fFrameLineWidth\":1,\"fFrameBorderSize\":1,\"fFrameBorderMode\":0,\"fX1\":0,\"fY1\":0,\"fX2\":1,\"fY2\":1,\"fXtoAbsPixelk\":5e-5,\"fXtoPixelk\":5e-5,\"fXtoPixel\":696,\"fYtoAbsPixelk\":472.00005,\"fYtoPixelk\":472.00005,\"fYtoPixel\":-472,\"fUtoAbsPixelk\":5e-5,\"fUtoPixelk\":5e-5,\"fUtoPixel\":696,\"fVtoAbsPixelk\":472.00005,\"fVtoPixelk\":472,\"fVtoPixel\":-472,\"fAbsPixeltoXk\":0,\"fPixeltoXk\":0,\"fPixeltoX\":0.0014367816091954,\"fAbsPixeltoYk\":1,\"fPixeltoYk\":0,\"fPixeltoY\":-0.00211864406779661,\"fXlowNDC\":0,\"fYlowNDC\":0,\"fXUpNDC\":1,\"fYUpNDC\":1,\"fWNDC\":1,\"fHNDC\":1,\"fAbsXlowNDC\":0,\"fAbsYlowNDC\":0,\"fAbsWNDC\":1,\"fAbsHNDC\":1,\"fUxmin\":0,\"fUymin\":0,\"fUxmax\":1,\"fUymax\":1,\"fTheta\":30,\"fPhi\":30,\"fAspectRatio\":0,\"fNumber\":0,\"fTickx\":0,\"fTicky\":0,\"fLogx\":0,\"fLogy\":0,\"fLogz\":0,\"fPadPaint\":0,\"fCrosshair\":0,\"fCrosshairPos\":0,\"fBorderSize\":2,\"fBorderMode\":0,\"fModified\":true,\"fGridx\":false,\"fGridy\":false,\"fAbsCoord\":false,\"fEditable\":true,\"fFixedAspectRatio\":false,\"fPrimitives\":{\"_typename\":\"TList\",\"name\":\"TList\",\"arr\":[{\"_typename\":\"TH1D\",\"fUniqueID\":0,\"fBits\":520,\"fName\":\"h1\",\"fTitle\":\"h1\",\"fLineColor\":602,\"fLineStyle\":1,\"fLineWidth\":1,\"fFillColor\":0,\"fFillStyle\":1001,\"fMarkerColor\":1,\"fMarkerStyle\":1,\"fMarkerSize\":1,\"fNcells\":27,\"fXaxis\":{\"_typename\":\"TAxis\",\"fUniqueID\":0,\"fBits\":0,\"fName\":\"xaxis\",\"fTitle\":\"\",\"fNdivisions\":510,\"fAxisColor\":1,\"fLabelColor\":1,\"fLabelFont\":42,\"fLabelOffset\":0.005,\"fLabelSize\":0.035,\"fTickLength\":0.03,\"fTitleOffset\":1,\"fTitleSize\":0.035,\"fTitleColor\":1,\"fTitleFont\":42,\"fNbins\":25,\"fXmin\":-5,\"fXmax\":5,\"fXbins\":[],\"fFirst\":0,\"fLast\":0,\"fBits2\":0,\"fTimeDisplay\":false,\"fTimeFormat\":\"\",\"fLabels\":null,\"fModLabs\":null},\"fYaxis\":{\"_typename\":\"TAxis\",\"fUniqueID\":0,\"fBits\":0,\"fName\":\"yaxis\",\"fTitle\":\"\",\"fNdivisions\":510,\"fAxisColor\":1,\"fLabelColor\":1,\"fLabelFont\":42,\"fLabelOffset\":0.005,\"fLabelSize\":0.035,\"fTickLength\":0.03,\"fTitleOffset\":0,\"fTitleSize\":0.035,\"fTitleColor\":1,\"fTitleFont\":42,\"fNbins\":1,\"fXmin\":0,\"fXmax\":1,\"fXbins\":[],\"fFirst\":0,\"fLast\":0,\"fBits2\":0,\"fTimeDisplay\":false,\"fTimeFormat\":\"\",\"fLabels\":null,\"fModLabs\":null},\"fZaxis\":{\"_typename\":\"TAxis\",\"fUniqueID\":0,\"fBits\":0,\"fName\":\"zaxis\",\"fTitle\":\"\",\"fNdivisions\":510,\"fAxisColor\":1,\"fLabelColor\":1,\"fLabelFont\":42,\"fLabelOffset\":0.005,\"fLabelSize\":0.035,\"fTickLength\":0.03,\"fTitleOffset\":1,\"fTitleSize\":0.035,\"fTitleColor\":1,\"fTitleFont\":42,\"fNbins\":1,\"fXmin\":0,\"fXmax\":1,\"fXbins\":[],\"fFirst\":0,\"fLast\":0,\"fBits2\":0,\"fTimeDisplay\":false,\"fTimeFormat\":\"\",\"fLabels\":null,\"fModLabs\":null},\"fBarOffset\":0,\"fBarWidth\":1000,\"fEntries\":1000,\"fTsumw\":999,\"fTsumw2\":999,\"fTsumwx\":-118.844431208298,\"fTsumwx2\":1440.62694918132,\"fMaximum\":-1111,\"fMinimum\":-1111,\"fNormFactor\":0,\"fContour\":[],\"fSumw2\":[],\"fOption\":\"\",\"fFunctions\":{\"_typename\":\"TList\",\"name\":\"TList\",\"arr\":[{\"_typename\":\"TF1\",\"fUniqueID\":0,\"fBits\":1024,\"fName\":\"gaus\",\"fTitle\":\"gaus\",\"fLineColor\":2,\"fLineStyle\":1,\"fLineWidth\":2,\"fFillColor\":19,\"fFillStyle\":0,\"fMarkerColor\":1,\"fMarkerStyle\":1,\"fMarkerSize\":1,\"fXmin\":-5,\"fXmax\":5,\"fNpar\":3,\"fNdim\":1,\"fNpx\":100,\"fType\":0,\"fNpfits\":21,\"fNDF\":18,\"fChisquare\":10.953232548113,\"fMinimum\":-1111,\"fMaximum\":-1111,\"fParErrors\":[5.46997493819299,0.0372283348908401,0.0291257578390413],\"fParMin\":[0,0,0],\"fParMax\":[0,0,11.9663878292877],\"fSave\":{\"$arr\":\"Float64\",\"len\":103,\"v\":[0.0194992643723103,0.0278886764551576,0.0395940088267661,0.0557985537271141,0.0780563616872721,0.108389087862929,0.149401416084485,0.204416412169076,0.277631477423851,0.374294583280504,0.50089912754816,0.66539403543227,0.877403630405827,1.1484493484882,1.4921626311715,1.92447542047408,2.46377175930719,3.13098128931817,3.94959320374286,4.94556776138933,6.14712212980635,7.5843684309277,9.28878471088944,11.2925043820261,13.6274166211577,16.3240792461534,19.4104565520549,22.9105070929416,26.8426598654591,31.2182310071494,36.0398460222356,41.2999436269766,46.9794454577255,53.0466800413531,59.4566486653271,66.1507144228054,73.0567834045456,80.090028837685,87.1541854692237,94.1434136732036,100.944702084496,107.440745858496,113.513207008091,119.046235862485,123.930110640756,128.064837297763,131.363545618631,133.755520880067,135.188723462742,135.631671074075,135.074588510442,133.529766316184,131.031109961308,127.632902632079,123.407844683725,118.444468638527,112.844058050431,106.717219828264,100.180271576286,93.3516077405398,86.3482011228578,79.2823805817603,72.2590029749523,65.3731095107245,58.7081257967273,52.3346331865134,46.3097085882931,40.6768025090541,35.4661021719751,30.6953090260475,26.3707483472738,22.4887229335933,19.0370227356739,15.9965069293459,13.3426834769384,11.0472225683261,9.07935337079453,7.40710719767098,5.99838360093772,4.82182824676151,3.84752218769073,3.04749094847006,2.39604853475723,1.86999606523193,1.44869736323989,1.11405476828103,0.850407945329961,0.644376912554297,0.484668203987045,0.361860336100313,0.268181817865231,0.197292044601893,0.144072705591827,0.10443492174549,0.0751452743686075,0.0536722125181042,0.0380530277381212,0.0267806326344683,0.0187087314748619,0.0129735773770524,0.00893032051617352,-5,5]},\"fNormalized\":false,\"fNormIntegral\":0,\"fFormula\":{\"_typename\":\"TFormula\",\"fUniqueID\":0,\"fBits\":1024,\"fName\":\"gaus\",\"fTitle\":\"gaus\",\"fClingParameters\":[135.633308390757,-0.105716988984062,1.16350400149934],\"fAllParametersSetted\":true,\"fParams\":[{\"$pair\":\"pair<TString,int,TFormulaParamOrder>\",\"first\":\"Constant\",\"second\":0},{\"$pair\":\"pair<TString,int,TFormulaParamOrder>\",\"first\":\"Mean\",\"second\":1},{\"$pair\":\"pair<TString,int,TFormulaParamOrder>\",\"first\":\"Sigma\",\"second\":2}],\"fFormula\":\"[Constant]*exp(-0.5*((x-[Mean])\\/[Sigma])*((x-[Mean])\\/[Sigma]))\",\"fNdim\":1,\"fLinearParts\":[],\"fVectorized\":false},\"fParams\":null,\"fComposition\":null}],\"opt\":[\"\"]},\"fBufferSize\":0,\"fBuffer\":[],\"fBinStatErrOpt\":0,\"fStatOverflows\":2,\"fArray\":{\"$arr\":\"Float64\",\"len\":27,\"v\":[1,2,1,0,2,7,11,16,37,51,92,120,126,147,120,97,74,44,26,16,5,2,3]}},{\"_typename\":\"TStyle\",\"fUniqueID\":0,\"fBits\":0,\"fName\":\"Modern\",\"fTitle\":\"Modern Style\",\"fLineColor\":1,\"fLineStyle\":1,\"fLineWidth\":1,\"fFillColor\":19,\"fFillStyle\":1001,\"fMarkerColor\":1,\"fMarkerStyle\":1,\"fMarkerSize\":1,\"fTextAngle\":0,\"fTextSize\":0.05,\"fTextAlign\":11,\"fTextColor\":1,\"fTextFont\":62,\"fXaxis\":{\"_typename\":\"TAttAxis\",\"fNdivisions\":510,\"fAxisColor\":1,\"fLabelColor\":1,\"fLabelFont\":42,\"fLabelOffset\":0.005,\"fLabelSize\":0.035,\"fTickLength\":0.03,\"fTitleOffset\":1,\"fTitleSize\":0.035,\"fTitleColor\":1,\"fTitleFont\":42},\"fYaxis\":{\"_typename\":\"TAttAxis\",\"fNdivisions\":510,\"fAxisColor\":1,\"fLabelColor\":1,\"fLabelFont\":42,\"fLabelOffset\":0.005,\"fLabelSize\":0.035,\"fTickLength\":0.03,\"fTitleOffset\":0,\"fTitleSize\":0.035,\"fTitleColor\":1,\"fTitleFont\":42},\"fZaxis\":{\"_typename\":\"TAttAxis\",\"fNdivisions\":510,\"fAxisColor\":1,\"fLabelColor\":1,\"fLabelFont\":42,\"fLabelOffset\":0.005,\"fLabelSize\":0.035,\"fTickLength\":0.03,\"fTitleOffset\":1,\"fTitleSize\":0.035,\"fTitleColor\":1,\"fTitleFont\":42},\"fBarWidth\":1,\"fBarOffset\":0,\"fColorModelPS\":0,\"fDrawBorder\":0,\"fOptLogx\":0,\"fOptLogy\":0,\"fOptLogz\":0,\"fOptDate\":0,\"fOptStat\":0,\"fOptTitle\":1,\"fOptFile\":0,\"fOptFit\":0,\"fShowEventStatus\":0,\"fShowEditor\":0,\"fShowToolBar\":0,\"fNumberContours\":20,\"fAttDate\":{\"_typename\":\"TAttText\",\"fTextAngle\":0,\"fTextSize\":0.025,\"fTextAlign\":11,\"fTextColor\":1,\"fTextFont\":62},\"fDateX\":0.01,\"fDateY\":0.01,\"fEndErrorSize\":2,\"fErrorX\":0.5,\"fFuncColor\":2,\"fFuncStyle\":1,\"fFuncWidth\":2,\"fGridColor\":0,\"fGridStyle\":3,\"fGridWidth\":1,\"fLegendBorderSize\":1,\"fLegendFillColor\":0,\"fLegendFont\":42,\"fLegendTextSize\":0,\"fHatchesLineWidth\":1,\"fHatchesSpacing\":1,\"fFrameFillColor\":0,\"fFrameLineColor\":1,\"fFrameFillStyle\":1001,\"fFrameLineStyle\":1,\"fFrameLineWidth\":1,\"fFrameBorderSize\":1,\"fFrameBorderMode\":0,\"fHistFillColor\":0,\"fHistLineColor\":602,\"fHistFillStyle\":1001,\"fHistLineStyle\":1,\"fHistLineWidth\":1,\"fHistMinimumZero\":false,\"fHistTopMargin\":0.05,\"fCanvasPreferGL\":false,\"fCanvasColor\":0,\"fCanvasBorderSize\":2,\"fCanvasBorderMode\":0,\"fCanvasDefH\":500,\"fCanvasDefW\":700,\"fCanvasDefX\":10,\"fCanvasDefY\":10,\"fPadColor\":0,\"fPadBorderSize\":2,\"fPadBorderMode\":0,\"fPadBottomMargin\":0.1,\"fPadTopMargin\":0.1,\"fPadLeftMargin\":0.1,\"fPadRightMargin\":0.1,\"fPadGridX\":false,\"fPadGridY\":false,\"fPadTickX\":0,\"fPadTickY\":0,\"fPaperSizeX\":20,\"fPaperSizeY\":26,\"fScreenFactor\":1,\"fStatColor\":0,\"fStatTextColor\":1,\"fStatBorderSize\":1,\"fStatFont\":42,\"fStatFontSize\":0,\"fStatStyle\":1001,\"fStatFormat\":\"6.4g\",\"fStatX\":0.98,\"fStatY\":0.935,\"fStatW\":0.2,\"fStatH\":0.16,\"fStripDecimals\":true,\"fTitleAlign\":23,\"fTitleColor\":0,\"fTitleTextColor\":1,\"fTitleBorderSize\":0,\"fTitleFont\":42,\"fTitleFontSize\":0.05,\"fTitleStyle\":0,\"fTitleX\":0.5,\"fTitleY\":0.995,\"fTitleW\":0,\"fTitleH\":0,\"fLegoInnerR\":0.5,\"fLineStyles\":[\"\",\"  \",\" 12 12\",\" 4 8\",\" 12 16 4 16\",\" 20 12 4 12\",\" 20 12 4 12 4 12 4 12\",\" 20 20\",\" 20 12 4 12 4 12\",\" 80 20\",\" 80 40 4 40\",\"  \",\"  \",\"  \",\"  \",\"  \",\"  \",\"  \",\"  \",\"  \",\"  \",\"  \",\"  \",\"  \",\"  \",\"  \",\"  \",\"  \",\"  \",\"  \"],\"fHeaderPS\":\"\",\"fTitlePS\":\"\",\"fFitFormat\":\"5.4g\",\"fPaintTextFormat\":\"g\",\"fLineScalePS\":3,\"fJoinLinePS\":0,\"fCapLinePS\":0,\"fTimeOffset\":788918400,\"fImageScaling\":1}],\"opt\":[\"\",\"\"]},\"fExecs\":null,\"fName\":\"c1\",\"fTitle\":\"c\",\"fNumPaletteColor\":0,\"fNextPaletteColor\":0,\"fDISPLAY\":\"$DISPLAY\",\"fDoubleBuffer\":0,\"fRetained\":true,\"fXsizeUser\":0,\"fYsizeUser\":0,\"fXsizeReal\":20,\"fYsizeReal\":14.28571,\"fWindowTopX\":0,\"fWindowTopY\":0,\"fWindowWidth\":0,\"fWindowHeight\":0,\"fCw\":696,\"fCh\":472,\"fCatt\":{\"_typename\":\"TAttCanvas\",\"fXBetween\":2,\"fYBetween\":2,\"fTitleFromTop\":1.2,\"fXdate\":0.2,\"fYdate\":0.3,\"fAdate\":1},\"kMoveOpaque\":true,\"kResizeOpaque\":true,\"fHighLightColor\":2,\"fBatch\":true,\"kShowEventStatus\":false,\"kAutoExec\":true,\"kMenuBar\":true});\n",
       "   Core.settings.HandleKeys = false;\n",
       "   Core.draw(\"root_plot_1649775588363\", obj, \"\");\n",
       "}\n",
       "\n",
       "function script_load_root_plot_1649775588363(src, on_error) {\n",
       "    let script = document.createElement('script');\n",
       "    script.src = src;\n",
       "    script.onload = function() { display_root_plot_1649775588363(JSROOT); };\n",
       "    script.onerror = function() { script.remove(); on_error(); };\n",
       "    document.head.appendChild(script);\n",
       "}\n",
       "\n",
       "if (typeof requirejs !== 'undefined') {\n",
       "\n",
       "    // We are in jupyter notebooks, use require.js which should be configured already\n",
       "    requirejs.config({\n",
       "       paths: { 'JSRootCore' : [ 'scripts/JSRoot.core', 'https://root.cern/js/6.1.1/scripts/JSRoot.core.min', 'https://jsroot.gsi.de/6.1.1/scripts/JSRoot.core.min' ] }\n",
       "    })(['JSRootCore'],  function(Core) {\n",
       "       display_root_plot_1649775588363(Core);\n",
       "    });\n",
       "\n",
       "} else if (typeof JSROOT !== 'undefined') {\n",
       "\n",
       "   // JSROOT already loaded, just use it\n",
       "   display_root_plot_1649775588363(JSROOT);\n",
       "\n",
       "} else {\n",
       "\n",
       "    // We are in jupyterlab without require.js, directly loading jsroot\n",
       "    // Jupyterlab might be installed in a different base_url so we need to know it.\n",
       "    try {\n",
       "        var base_url = JSON.parse(document.getElementById('jupyter-config-data').innerHTML).baseUrl;\n",
       "    } catch(_) {\n",
       "        var base_url = '/';\n",
       "    }\n",
       "\n",
       "    // Try loading a local version of requirejs and fallback to cdn if not possible.\n",
       "    script_load_root_plot_1649775588363(base_url + 'static/scripts/JSRoot.core.js', function(){\n",
       "        console.error('Fail to load JSROOT locally, please check your jupyter_notebook_config.py file');\n",
       "        script_load_root_plot_1649775588363('https://root.cern/js/6.1.1/scripts/JSRoot.core.min.js', function(){\n",
       "            document.getElementById(\"root_plot_1649775588363\").innerHTML = \"Failed to load JSROOT\";\n",
       "        });\n",
       "    });\n",
       "}\n",
       "\n",
       "</script>\n"
      ],
      "text/plain": [
       "<IPython.core.display.HTML object>"
      ]
     },
     "metadata": {},
     "output_type": "display_data"
    }
   ],
   "source": [
    "c1=r.TCanvas(\"c1\",\"c\")\n",
    "c1.Draw(\"\")\n",
    "c1.SetBottomMargin(0.15)\n",
    "h1.Draw(\"\")\n",
    "h1.Fit(\"gaus\",\"S\")\n",
    "\n"
   ]
  },
  {
   "cell_type": "code",
   "execution_count": 27,
   "id": "5700c3b2",
   "metadata": {},
   "outputs": [
    {
     "name": "stderr",
     "output_type": "stream",
     "text": [
      "Info in <TCanvas::Print>: pdf file ./plots/combined_post_add.pdf has been created\n",
      "Info in <TCanvas::SaveAs>: ROOT file ./plots/combined_post_add.root has been created\n"
     ]
    }
   ],
   "source": [
    "c.SaveAs(\"./plots/combined_post_add.pdf\")\n",
    "c.SaveAs(\"./plots/combined_post_add.root\")"
   ]
  },
  {
   "cell_type": "code",
   "execution_count": 28,
   "id": "45337dff",
   "metadata": {},
   "outputs": [
    {
     "data": {
      "image/png": "[encoded data removed]",
      "text/plain": [
       "<Figure size 432x288 with 1 Axes>"
      ]
     },
     "metadata": {
      "needs_background": "light"
     },
     "output_type": "display_data"
    }
   ],
   "source": [
    "plt.hist(diagnostics_df.loc[[f'pval{i:02d}' for i in range(12)]].values.ravel(),histtype='step',bins=20)\n",
    "plt.xlabel(r'$T(A_{rep}>A)$')\n",
    "plt.grid(False)\n",
    "plt.savefig('./plots/toyMC_pval_hist.pdf',format='pdf',dpi=1000,bbox_inches='tight')\n",
    "plt.show()"
   ]
  },
  {
   "cell_type": "code",
   "execution_count": 32,
   "id": "79a2d2cd",
   "metadata": {},
   "outputs": [
    {
     "data": {
      "text/plain": [
       "1000.0"
      ]
     },
     "execution_count": 32,
     "metadata": {},
     "output_type": "execute_result"
    }
   ],
   "source": [
    "h1.GetEntries()"
   ]
  },
  {
   "cell_type": "code",
   "execution_count": 33,
   "id": "fc416743",
   "metadata": {},
   "outputs": [
    {
     "data": {
      "text/plain": [
       "4000000.0"
      ]
     },
     "execution_count": 33,
     "metadata": {},
     "output_type": "execute_result"
    }
   ],
   "source": [
    "h.GetEntries()"
   ]
  },
  {
   "cell_type": "code",
   "execution_count": null,
   "id": "5f88a401",
   "metadata": {},
   "outputs": [],
   "source": []
  }
 ],
 "metadata": {
  "kernelspec": {
   "display_name": "Python 3 (ipykernel)",
   "language": "python",
   "name": "python3"
  },
  "language_info": {
   "codemirror_mode": {
    "name": "ipython",
    "version": 3
   },
   "file_extension": ".py",
   "mimetype": "text/x-python",
   "name": "python",
   "nbconvert_exporter": "python",
   "pygments_lexer": "ipython3",
   "version": "3.10.2"
  }
 },
 "nbformat": 4,
 "nbformat_minor": 5
}
