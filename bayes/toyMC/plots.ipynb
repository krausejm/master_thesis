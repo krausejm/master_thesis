{
 "cells": [
  {
   "cell_type": "code",
   "execution_count": 12,
   "id": "cce01dc1",
   "metadata": {},
   "outputs": [],
   "source": [
    "import nest_asyncio\n",
    "nest_asyncio.apply()\n",
    "import cmdstanpy as sp\n",
    "import numpy as np\n",
    "from scipy.optimize import curve_fit\n",
    "import pandas as pd\n",
    "import matplotlib.pyplot as plt\n",
    "plt.ioff()\n",
    "from cycler import cycler\n",
    "import matplotlib.patches as mpatches\n",
    "import seaborn as sns\n",
    "import arviz as az\n",
    "import scipy.stats as stats\n",
    "import ROOT as r\n",
    "import time\n",
    "import ctypes\n",
    "plt.rcParams[\"xtick.minor.visible\"] =  True\n",
    "plt.rcParams[\"ytick.minor.visible\"] =  True\n",
    "plt.rcParams[\"mathtext.fontset\"]=\"cm\"\n",
    "plt.rcParams['errorbar.capsize'] = 3\n",
    "plt.rcParams['mathtext.rm'] = 'serif'\n",
    "plt.rcParams['font.family']='serif'\n",
    "plt.rcParams['font.size']=22\n",
    "plt.rcParams['axes.grid'] = True\n",
    "plt.rcParams['grid.linestyle']=':'\n",
    "plt.rcParams['grid.color']='black'\n",
    "plt.rcParams['axes.prop_cycle'] = cycler(color=['black', 'red', 'blue', 'green'])\n",
    "\n",
    "import arviz as az\n",
    "import warnings\n",
    "warnings.filterwarnings('ignore')\n",
    "%jsroot on"
   ]
  },
  {
   "cell_type": "code",
   "execution_count": 16,
   "id": "40cc296c",
   "metadata": {},
   "outputs": [],
   "source": [
    "diagnostics_df=pd.read_csv(\"./diagnostics.csv\",index_col=0)\n",
    "sigma_df=pd.read_csv('./sigma.csv',index_col=0)\n",
    "diagnostics_df1=pd.read_csv(\"./diagnostics_1.csv\",index_col=0)\n",
    "sigma_df1=pd.read_csv('./sigma_1.csv',index_col=0)\n",
    "sigma_df=sigma_df.join(sigma_df1)\n",
    "diagnostics_df=diagnostics_df.join(diagnostics_df1)"
   ]
  },
  {
   "cell_type": "code",
   "execution_count": 18,
   "id": "3bb21a6a",
   "metadata": {},
   "outputs": [
    {
     "data": {
      "text/html": [
       "<div>\n",
       "<style scoped>\n",
       "    .dataframe tbody tr th:only-of-type {\n",
       "        vertical-align: middle;\n",
       "    }\n",
       "\n",
       "    .dataframe tbody tr th {\n",
       "        vertical-align: top;\n",
       "    }\n",
       "\n",
       "    .dataframe thead th {\n",
       "        text-align: right;\n",
       "    }\n",
       "</style>\n",
       "<table border=\"1\" class=\"dataframe\">\n",
       "  <thead>\n",
       "    <tr style=\"text-align: right;\">\n",
       "      <th></th>\n",
       "      <th>toybin0000</th>\n",
       "      <th>toybin0001</th>\n",
       "      <th>toybin0002</th>\n",
       "      <th>toybin0003</th>\n",
       "      <th>toybin0004</th>\n",
       "      <th>toybin0005</th>\n",
       "      <th>toybin0006</th>\n",
       "      <th>toybin0007</th>\n",
       "      <th>toybin0008</th>\n",
       "      <th>toybin0009</th>\n",
       "      <th>...</th>\n",
       "      <th>toybin9990</th>\n",
       "      <th>toybin9991</th>\n",
       "      <th>toybin9992</th>\n",
       "      <th>toybin9993</th>\n",
       "      <th>toybin9994</th>\n",
       "      <th>toybin9995</th>\n",
       "      <th>toybin9996</th>\n",
       "      <th>toybin9997</th>\n",
       "      <th>toybin9998</th>\n",
       "      <th>toybin9999</th>\n",
       "    </tr>\n",
       "  </thead>\n",
       "  <tbody>\n",
       "    <tr>\n",
       "      <th>0</th>\n",
       "      <td>0.360872</td>\n",
       "      <td>0.157471</td>\n",
       "      <td>0.399535</td>\n",
       "      <td>0.359232</td>\n",
       "      <td>0.045215</td>\n",
       "      <td>0.593074</td>\n",
       "      <td>0.116676</td>\n",
       "      <td>0.585016</td>\n",
       "      <td>0.444513</td>\n",
       "      <td>0.345688</td>\n",
       "      <td>...</td>\n",
       "      <td>0.397076</td>\n",
       "      <td>0.238349</td>\n",
       "      <td>0.239683</td>\n",
       "      <td>0.373095</td>\n",
       "      <td>0.041542</td>\n",
       "      <td>0.289273</td>\n",
       "      <td>0.185409</td>\n",
       "      <td>0.231186</td>\n",
       "      <td>0.425516</td>\n",
       "      <td>0.315653</td>\n",
       "    </tr>\n",
       "    <tr>\n",
       "      <th>1</th>\n",
       "      <td>0.415323</td>\n",
       "      <td>0.181994</td>\n",
       "      <td>0.367870</td>\n",
       "      <td>0.483443</td>\n",
       "      <td>-0.012639</td>\n",
       "      <td>0.239567</td>\n",
       "      <td>-0.088756</td>\n",
       "      <td>0.538212</td>\n",
       "      <td>0.099990</td>\n",
       "      <td>0.302664</td>\n",
       "      <td>...</td>\n",
       "      <td>0.363556</td>\n",
       "      <td>0.409687</td>\n",
       "      <td>0.361726</td>\n",
       "      <td>0.364450</td>\n",
       "      <td>0.164975</td>\n",
       "      <td>0.386008</td>\n",
       "      <td>0.309472</td>\n",
       "      <td>0.022813</td>\n",
       "      <td>0.351409</td>\n",
       "      <td>0.441754</td>\n",
       "    </tr>\n",
       "    <tr>\n",
       "      <th>2</th>\n",
       "      <td>0.476971</td>\n",
       "      <td>0.192912</td>\n",
       "      <td>0.365099</td>\n",
       "      <td>0.222839</td>\n",
       "      <td>0.091339</td>\n",
       "      <td>0.229557</td>\n",
       "      <td>-0.088756</td>\n",
       "      <td>0.576043</td>\n",
       "      <td>0.173054</td>\n",
       "      <td>0.294227</td>\n",
       "      <td>...</td>\n",
       "      <td>0.307136</td>\n",
       "      <td>0.411647</td>\n",
       "      <td>0.296056</td>\n",
       "      <td>0.497874</td>\n",
       "      <td>0.164975</td>\n",
       "      <td>0.290951</td>\n",
       "      <td>0.395906</td>\n",
       "      <td>0.062991</td>\n",
       "      <td>0.293593</td>\n",
       "      <td>0.466043</td>\n",
       "    </tr>\n",
       "    <tr>\n",
       "      <th>3</th>\n",
       "      <td>0.579798</td>\n",
       "      <td>0.343464</td>\n",
       "      <td>0.495066</td>\n",
       "      <td>0.189321</td>\n",
       "      <td>0.182541</td>\n",
       "      <td>0.229557</td>\n",
       "      <td>0.158755</td>\n",
       "      <td>0.586515</td>\n",
       "      <td>0.276672</td>\n",
       "      <td>0.304440</td>\n",
       "      <td>...</td>\n",
       "      <td>0.279766</td>\n",
       "      <td>0.364564</td>\n",
       "      <td>0.312055</td>\n",
       "      <td>0.495564</td>\n",
       "      <td>0.058792</td>\n",
       "      <td>0.074503</td>\n",
       "      <td>0.354974</td>\n",
       "      <td>0.267958</td>\n",
       "      <td>0.139092</td>\n",
       "      <td>0.393898</td>\n",
       "    </tr>\n",
       "    <tr>\n",
       "      <th>4</th>\n",
       "      <td>0.451412</td>\n",
       "      <td>0.293286</td>\n",
       "      <td>0.567079</td>\n",
       "      <td>0.173020</td>\n",
       "      <td>0.196910</td>\n",
       "      <td>0.266175</td>\n",
       "      <td>0.153554</td>\n",
       "      <td>0.570071</td>\n",
       "      <td>0.248399</td>\n",
       "      <td>0.352343</td>\n",
       "      <td>...</td>\n",
       "      <td>0.470921</td>\n",
       "      <td>0.381190</td>\n",
       "      <td>0.356995</td>\n",
       "      <td>0.238979</td>\n",
       "      <td>0.058792</td>\n",
       "      <td>0.046751</td>\n",
       "      <td>0.366439</td>\n",
       "      <td>0.265435</td>\n",
       "      <td>0.110438</td>\n",
       "      <td>0.168461</td>\n",
       "    </tr>\n",
       "    <tr>\n",
       "      <th>...</th>\n",
       "      <td>...</td>\n",
       "      <td>...</td>\n",
       "      <td>...</td>\n",
       "      <td>...</td>\n",
       "      <td>...</td>\n",
       "      <td>...</td>\n",
       "      <td>...</td>\n",
       "      <td>...</td>\n",
       "      <td>...</td>\n",
       "      <td>...</td>\n",
       "      <td>...</td>\n",
       "      <td>...</td>\n",
       "      <td>...</td>\n",
       "      <td>...</td>\n",
       "      <td>...</td>\n",
       "      <td>...</td>\n",
       "      <td>...</td>\n",
       "      <td>...</td>\n",
       "      <td>...</td>\n",
       "      <td>...</td>\n",
       "      <td>...</td>\n",
       "    </tr>\n",
       "    <tr>\n",
       "      <th>3995</th>\n",
       "      <td>0.486300</td>\n",
       "      <td>0.127187</td>\n",
       "      <td>0.323958</td>\n",
       "      <td>0.131880</td>\n",
       "      <td>0.181147</td>\n",
       "      <td>0.490268</td>\n",
       "      <td>-0.004187</td>\n",
       "      <td>0.235928</td>\n",
       "      <td>0.296957</td>\n",
       "      <td>-0.081962</td>\n",
       "      <td>...</td>\n",
       "      <td>0.286448</td>\n",
       "      <td>0.334480</td>\n",
       "      <td>0.433973</td>\n",
       "      <td>0.595749</td>\n",
       "      <td>0.180520</td>\n",
       "      <td>0.286427</td>\n",
       "      <td>0.371605</td>\n",
       "      <td>0.144628</td>\n",
       "      <td>0.386204</td>\n",
       "      <td>0.509550</td>\n",
       "    </tr>\n",
       "    <tr>\n",
       "      <th>3996</th>\n",
       "      <td>0.388491</td>\n",
       "      <td>0.183629</td>\n",
       "      <td>0.317690</td>\n",
       "      <td>0.321868</td>\n",
       "      <td>0.227071</td>\n",
       "      <td>0.491050</td>\n",
       "      <td>0.127285</td>\n",
       "      <td>0.235928</td>\n",
       "      <td>0.233752</td>\n",
       "      <td>-0.081962</td>\n",
       "      <td>...</td>\n",
       "      <td>0.285315</td>\n",
       "      <td>0.117387</td>\n",
       "      <td>0.118560</td>\n",
       "      <td>0.592843</td>\n",
       "      <td>0.326231</td>\n",
       "      <td>0.355823</td>\n",
       "      <td>0.404274</td>\n",
       "      <td>0.008860</td>\n",
       "      <td>0.310786</td>\n",
       "      <td>0.547535</td>\n",
       "    </tr>\n",
       "    <tr>\n",
       "      <th>3997</th>\n",
       "      <td>0.426388</td>\n",
       "      <td>0.101927</td>\n",
       "      <td>0.489245</td>\n",
       "      <td>0.288398</td>\n",
       "      <td>0.113881</td>\n",
       "      <td>0.418266</td>\n",
       "      <td>0.152709</td>\n",
       "      <td>0.566176</td>\n",
       "      <td>0.360202</td>\n",
       "      <td>-0.076834</td>\n",
       "      <td>...</td>\n",
       "      <td>0.314758</td>\n",
       "      <td>0.355284</td>\n",
       "      <td>0.236511</td>\n",
       "      <td>0.610549</td>\n",
       "      <td>-0.041829</td>\n",
       "      <td>0.287138</td>\n",
       "      <td>0.444434</td>\n",
       "      <td>0.148129</td>\n",
       "      <td>0.215336</td>\n",
       "      <td>0.538522</td>\n",
       "    </tr>\n",
       "    <tr>\n",
       "      <th>3998</th>\n",
       "      <td>0.468164</td>\n",
       "      <td>0.179761</td>\n",
       "      <td>0.406251</td>\n",
       "      <td>0.269837</td>\n",
       "      <td>0.113881</td>\n",
       "      <td>0.418266</td>\n",
       "      <td>0.183361</td>\n",
       "      <td>0.414475</td>\n",
       "      <td>0.373756</td>\n",
       "      <td>0.009876</td>\n",
       "      <td>...</td>\n",
       "      <td>0.397359</td>\n",
       "      <td>0.214197</td>\n",
       "      <td>0.414529</td>\n",
       "      <td>0.478336</td>\n",
       "      <td>0.041147</td>\n",
       "      <td>0.005769</td>\n",
       "      <td>0.174627</td>\n",
       "      <td>0.298830</td>\n",
       "      <td>0.219144</td>\n",
       "      <td>0.541495</td>\n",
       "    </tr>\n",
       "    <tr>\n",
       "      <th>3999</th>\n",
       "      <td>0.461663</td>\n",
       "      <td>0.453624</td>\n",
       "      <td>0.363083</td>\n",
       "      <td>0.254520</td>\n",
       "      <td>0.177298</td>\n",
       "      <td>0.431377</td>\n",
       "      <td>0.165886</td>\n",
       "      <td>0.448088</td>\n",
       "      <td>0.175938</td>\n",
       "      <td>0.044339</td>\n",
       "      <td>...</td>\n",
       "      <td>0.162724</td>\n",
       "      <td>0.058825</td>\n",
       "      <td>0.485626</td>\n",
       "      <td>0.519220</td>\n",
       "      <td>0.039037</td>\n",
       "      <td>-0.010782</td>\n",
       "      <td>0.327011</td>\n",
       "      <td>0.264337</td>\n",
       "      <td>0.278911</td>\n",
       "      <td>0.490497</td>\n",
       "    </tr>\n",
       "  </tbody>\n",
       "</table>\n",
       "<p>4000 rows × 10000 columns</p>\n",
       "</div>"
      ],
      "text/plain": [
       "      toybin0000  toybin0001  toybin0002  toybin0003  toybin0004  toybin0005  \\\n",
       "0       0.360872    0.157471    0.399535    0.359232    0.045215    0.593074   \n",
       "1       0.415323    0.181994    0.367870    0.483443   -0.012639    0.239567   \n",
       "2       0.476971    0.192912    0.365099    0.222839    0.091339    0.229557   \n",
       "3       0.579798    0.343464    0.495066    0.189321    0.182541    0.229557   \n",
       "4       0.451412    0.293286    0.567079    0.173020    0.196910    0.266175   \n",
       "...          ...         ...         ...         ...         ...         ...   \n",
       "3995    0.486300    0.127187    0.323958    0.131880    0.181147    0.490268   \n",
       "3996    0.388491    0.183629    0.317690    0.321868    0.227071    0.491050   \n",
       "3997    0.426388    0.101927    0.489245    0.288398    0.113881    0.418266   \n",
       "3998    0.468164    0.179761    0.406251    0.269837    0.113881    0.418266   \n",
       "3999    0.461663    0.453624    0.363083    0.254520    0.177298    0.431377   \n",
       "\n",
       "      toybin0006  toybin0007  toybin0008  toybin0009  ...  toybin9990  \\\n",
       "0       0.116676    0.585016    0.444513    0.345688  ...    0.397076   \n",
       "1      -0.088756    0.538212    0.099990    0.302664  ...    0.363556   \n",
       "2      -0.088756    0.576043    0.173054    0.294227  ...    0.307136   \n",
       "3       0.158755    0.586515    0.276672    0.304440  ...    0.279766   \n",
       "4       0.153554    0.570071    0.248399    0.352343  ...    0.470921   \n",
       "...          ...         ...         ...         ...  ...         ...   \n",
       "3995   -0.004187    0.235928    0.296957   -0.081962  ...    0.286448   \n",
       "3996    0.127285    0.235928    0.233752   -0.081962  ...    0.285315   \n",
       "3997    0.152709    0.566176    0.360202   -0.076834  ...    0.314758   \n",
       "3998    0.183361    0.414475    0.373756    0.009876  ...    0.397359   \n",
       "3999    0.165886    0.448088    0.175938    0.044339  ...    0.162724   \n",
       "\n",
       "      toybin9991  toybin9992  toybin9993  toybin9994  toybin9995  toybin9996  \\\n",
       "0       0.238349    0.239683    0.373095    0.041542    0.289273    0.185409   \n",
       "1       0.409687    0.361726    0.364450    0.164975    0.386008    0.309472   \n",
       "2       0.411647    0.296056    0.497874    0.164975    0.290951    0.395906   \n",
       "3       0.364564    0.312055    0.495564    0.058792    0.074503    0.354974   \n",
       "4       0.381190    0.356995    0.238979    0.058792    0.046751    0.366439   \n",
       "...          ...         ...         ...         ...         ...         ...   \n",
       "3995    0.334480    0.433973    0.595749    0.180520    0.286427    0.371605   \n",
       "3996    0.117387    0.118560    0.592843    0.326231    0.355823    0.404274   \n",
       "3997    0.355284    0.236511    0.610549   -0.041829    0.287138    0.444434   \n",
       "3998    0.214197    0.414529    0.478336    0.041147    0.005769    0.174627   \n",
       "3999    0.058825    0.485626    0.519220    0.039037   -0.010782    0.327011   \n",
       "\n",
       "      toybin9997  toybin9998  toybin9999  \n",
       "0       0.231186    0.425516    0.315653  \n",
       "1       0.022813    0.351409    0.441754  \n",
       "2       0.062991    0.293593    0.466043  \n",
       "3       0.267958    0.139092    0.393898  \n",
       "4       0.265435    0.110438    0.168461  \n",
       "...          ...         ...         ...  \n",
       "3995    0.144628    0.386204    0.509550  \n",
       "3996    0.008860    0.310786    0.547535  \n",
       "3997    0.148129    0.215336    0.538522  \n",
       "3998    0.298830    0.219144    0.541495  \n",
       "3999    0.264337    0.278911    0.490497  \n",
       "\n",
       "[4000 rows x 10000 columns]"
      ]
     },
     "execution_count": 18,
     "metadata": {},
     "output_type": "execute_result"
    }
   ],
   "source": [
    "sigma_df"
   ]
  },
  {
   "cell_type": "code",
   "execution_count": 19,
   "id": "94ec6f79",
   "metadata": {},
   "outputs": [
    {
     "data": {
      "image/png": "[encoded data removed]",
      "text/plain": [
       "<Figure size 432x288 with 1 Axes>"
      ]
     },
     "metadata": {
      "needs_background": "light"
     },
     "output_type": "display_data"
    }
   ],
   "source": [
    "plt.hist(np.abs(diagnostics_df.loc['mcse']/diagnostics_df.loc['sigma_median']),histtype='step',bins=20)\n",
    "plt.xlabel('$\\\\frac{\\Delta M(p(\\Sigma|y))}{M(p(\\Sigma|y)}$')\n",
    "plt.grid(False)\n",
    "plt.savefig('./plots/toyMC_mcse_hist.pdf',format='pdf',dpi=1000,bbox_inches='tight')\n",
    "plt.show()"
   ]
  },
  {
   "cell_type": "code",
   "execution_count": 20,
   "id": "9510a9c1",
   "metadata": {},
   "outputs": [
    {
     "data": {
      "text/plain": [
       "120000"
      ]
     },
     "execution_count": 20,
     "metadata": {},
     "output_type": "execute_result"
    }
   ],
   "source": [
    "pvals=diagnostics_df.loc[[f'pval{i:02d}' for i in range(12)]]\n",
    "len(pvals.values.ravel())"
   ]
  },
  {
   "cell_type": "code",
   "execution_count": 21,
   "id": "0ae1c738",
   "metadata": {},
   "outputs": [],
   "source": [
    "all_sigmas=[]\n",
    "for i in range(len(sigma_df.columns)):\n",
    "    all_sigmas.extend((np.array(sigma_df[f'toybin{i:04d}'].values)-0.3)/np.std(sigma_df[f'toybin{i:04d}'].values))\n"
   ]
  },
  {
   "cell_type": "code",
   "execution_count": 22,
   "id": "8fd4c203",
   "metadata": {},
   "outputs": [
    {
     "name": "stderr",
     "output_type": "stream",
     "text": [
      "Warning in <TROOT::Append>: Replacing existing TH1: h (Potential memory leak).\n"
     ]
    }
   ],
   "source": [
    "h=r.TH1D(\"h\",\"h\",100,-5,5)\n",
    "for i in range(len(all_sigmas)):\n",
    "    h.Fill(all_sigmas[i])\n"
   ]
  },
  {
   "cell_type": "code",
   "execution_count": 23,
   "id": "386e82b2",
   "metadata": {},
   "outputs": [
    {
     "data": {
      "text/plain": [
       "<cppyy.gbl.TLatex object at 0x559e76b9ace0>"
      ]
     },
     "execution_count": 23,
     "metadata": {},
     "output_type": "execute_result"
    },
    {
     "name": "stdout",
     "output_type": "stream",
     "text": [
      " FCN=432.92 FROM MIGRAD    STATUS=CONVERGED      64 CALLS          65 TOTAL\n",
      "                     EDM=3.98425e-11    STRATEGY= 1      ERROR MATRIX ACCURATE \n",
      "  EXT PARAMETER                                   STEP         FIRST   \n",
      "  NO.   NAME      VALUE            ERROR          SIZE      DERIVATIVE \n",
      "   1  Constant     1.14618e+06   2.22838e+02   1.84272e+00   3.89081e-08\n",
      "   2  Mean        -1.07245e-01   2.20691e-04   2.24466e-06   2.09112e-03\n",
      "   3  Sigma        1.39225e+00   1.58189e-04   4.41802e-07   2.76716e-01\n"
     ]
    },
    {
     "name": "stderr",
     "output_type": "stream",
     "text": [
      "Warning in <TCanvas::Constructor>: Deleting canvas with same name: c\n"
     ]
    },
    {
     "data": {
      "text/html": [
       "\n",
       "\n",
       "<div id=\"root_plot_1649853601446\"\n",
       "     style=\"width: 696px; height: 472px\">\n",
       "</div>\n",
       "<script>\n",
       "\n",
       "function display_root_plot_1649853601446(Core) {\n",
       "   let obj = Core.parse({\"_typename\":\"TCanvas\",\"fUniqueID\":0,\"fBits\":3342344,\"fLineColor\":1,\"fLineStyle\":1,\"fLineWidth\":1,\"fFillColor\":0,\"fFillStyle\":1001,\"fLeftMargin\":0.1,\"fRightMargin\":0.1,\"fBottomMargin\":0.15,\"fTopMargin\":0.1,\"fXfile\":2,\"fYfile\":2,\"fAfile\":1,\"fXstat\":0.99,\"fYstat\":0.99,\"fAstat\":2,\"fFrameFillColor\":0,\"fFrameLineColor\":1,\"fFrameFillStyle\":1001,\"fFrameLineStyle\":1,\"fFrameLineWidth\":1,\"fFrameBorderSize\":1,\"fFrameBorderMode\":0,\"fX1\":-6.25000009313226,\"fY1\":-241039.26957804,\"fX2\":6.25000009313226,\"fY2\":1365889.14239451,\"fXtoAbsPixelk\":348.00005,\"fXtoPixelk\":348.00005,\"fXtoPixel\":55.6799991703033,\"fYtoAbsPixelk\":401.200047714162,\"fYtoPixelk\":401.200047714162,\"fYtoPixel\":-2.93728081775968e-4,\"fUtoAbsPixelk\":5e-5,\"fUtoPixelk\":5e-5,\"fUtoPixel\":696,\"fVtoAbsPixelk\":472.00005,\"fVtoPixelk\":472,\"fVtoPixel\":-472,\"fAbsPixeltoXk\":-6.25000009313226,\"fPixeltoXk\":-6.25000009313226,\"fPixeltoX\":0.017959770382564,\"fAbsPixeltoYk\":1365889.14239451,\"fPixeltoYk\":-241039.26957804,\"fPixeltoY\":-3404.50934739947,\"fXlowNDC\":0,\"fYlowNDC\":0,\"fXUpNDC\":1,\"fYUpNDC\":1,\"fWNDC\":1,\"fHNDC\":1,\"fAbsXlowNDC\":0,\"fAbsYlowNDC\":0,\"fAbsWNDC\":1,\"fAbsHNDC\":1,\"fUxmin\":-5,\"fUymin\":0,\"fUxmax\":5,\"fUymax\":1205196.3,\"fTheta\":30,\"fPhi\":30,\"fAspectRatio\":0,\"fNumber\":0,\"fTickx\":0,\"fTicky\":0,\"fLogx\":0,\"fLogy\":0,\"fLogz\":0,\"fPadPaint\":0,\"fCrosshair\":0,\"fCrosshairPos\":0,\"fBorderSize\":2,\"fBorderMode\":0,\"fModified\":true,\"fGridx\":false,\"fGridy\":false,\"fAbsCoord\":false,\"fEditable\":true,\"fFixedAspectRatio\":false,\"fPrimitives\":{\"_typename\":\"TList\",\"name\":\"TList\",\"arr\":[{\"_typename\":\"TFrame\",\"fUniqueID\":0,\"fBits\":8,\"fLineColor\":1,\"fLineStyle\":1,\"fLineWidth\":1,\"fFillColor\":0,\"fFillStyle\":1001,\"fX1\":-5,\"fY1\":0,\"fX2\":5,\"fY2\":1205196.3,\"fBorderSize\":1,\"fBorderMode\":0},{\"_typename\":\"TH1D\",\"fUniqueID\":0,\"fBits\":520,\"fName\":\"h\",\"fTitle\":\"\",\"fLineColor\":602,\"fLineStyle\":1,\"fLineWidth\":1,\"fFillColor\":0,\"fFillStyle\":1001,\"fMarkerColor\":1,\"fMarkerStyle\":1,\"fMarkerSize\":1,\"fNcells\":102,\"fXaxis\":{\"_typename\":\"TAxis\",\"fUniqueID\":0,\"fBits\":0,\"fName\":\"xaxis\",\"fTitle\":\"#font[132]{#frac{p(#Sigma|D_{#it{i}})-#Sigma_{true}}{std(p(#Sigma|D_{#it{i}}))}}\",\"fNdivisions\":510,\"fAxisColor\":1,\"fLabelColor\":1,\"fLabelFont\":132,\"fLabelOffset\":0.005,\"fLabelSize\":0.035,\"fTickLength\":0.03,\"fTitleOffset\":1.5,\"fTitleSize\":0.035,\"fTitleColor\":1,\"fTitleFont\":42,\"fNbins\":100,\"fXmin\":-5,\"fXmax\":5,\"fXbins\":[],\"fFirst\":0,\"fLast\":0,\"fBits2\":0,\"fTimeDisplay\":false,\"fTimeFormat\":\"\",\"fLabels\":null,\"fModLabs\":null},\"fYaxis\":{\"_typename\":\"TAxis\",\"fUniqueID\":0,\"fBits\":0,\"fName\":\"yaxis\",\"fTitle\":\"#font[132]{counts}\",\"fNdivisions\":0,\"fAxisColor\":1,\"fLabelColor\":1,\"fLabelFont\":132,\"fLabelOffset\":0.005,\"fLabelSize\":0,\"fTickLength\":0.03,\"fTitleOffset\":0,\"fTitleSize\":0.035,\"fTitleColor\":1,\"fTitleFont\":42,\"fNbins\":1,\"fXmin\":0,\"fXmax\":1,\"fXbins\":[],\"fFirst\":0,\"fLast\":0,\"fBits2\":0,\"fTimeDisplay\":false,\"fTimeFormat\":\"\",\"fLabels\":null,\"fModLabs\":null},\"fZaxis\":{\"_typename\":\"TAxis\",\"fUniqueID\":0,\"fBits\":0,\"fName\":\"zaxis\",\"fTitle\":\"\",\"fNdivisions\":510,\"fAxisColor\":1,\"fLabelColor\":1,\"fLabelFont\":42,\"fLabelOffset\":0.005,\"fLabelSize\":0.035,\"fTickLength\":0.03,\"fTitleOffset\":1,\"fTitleSize\":0.035,\"fTitleColor\":1,\"fTitleFont\":42,\"fNbins\":1,\"fXmin\":0,\"fXmax\":1,\"fXbins\":[],\"fFirst\":0,\"fLast\":0,\"fBits2\":0,\"fTimeDisplay\":false,\"fTimeFormat\":\"\",\"fLabels\":null,\"fModLabs\":null},\"fBarOffset\":0,\"fBarWidth\":1000,\"fEntries\":40000000,\"fTsumw\":39986527,\"fTsumw2\":39986527,\"fTsumwx\":-4268914.16821145,\"fTsumwx2\":77574226.8386285,\"fMaximum\":-1111,\"fMinimum\":-1111,\"fNormFactor\":0,\"fContour\":[],\"fSumw2\":[],\"fOption\":\"\",\"fFunctions\":{\"_typename\":\"TList\",\"name\":\"TList\",\"arr\":[{\"_typename\":\"TF1\",\"fUniqueID\":0,\"fBits\":1024,\"fName\":\"f\",\"fTitle\":\"gaus\",\"fLineColor\":2,\"fLineStyle\":1,\"fLineWidth\":2,\"fFillColor\":19,\"fFillStyle\":0,\"fMarkerColor\":1,\"fMarkerStyle\":1,\"fMarkerSize\":1,\"fXmin\":-5,\"fXmax\":5,\"fNpar\":3,\"fNdim\":1,\"fNpx\":100,\"fType\":0,\"fNpfits\":100,\"fNDF\":97,\"fChisquare\":432.92034714242,\"fMinimum\":-1111,\"fMaximum\":-1111,\"fParErrors\":[222.838386259565,2.20690968149524e-4,1.58188667704895e-4],\"fParMin\":[0,0,0],\"fParMax\":[0,0,13.8904113195143],\"fSave\":{\"$arr\":\"Float64\",\"len\":103,\"v\":[2384.68149425972,3061.50012179749,3910.18801341779,4968.44467871257,6280.62316118808,7898.4972952011,9882.01868104218,12300.0344206007,15230.9307119361,18763.161538167,22995.6162278577,28037.7749916873,34009.5980827086,41041.0924465491,49271.5000963786,58848.0554225987,69924.2646386915,82657.6698989905,97207.0735070395,113729.214112479,132374.906725967,153284.68140185,176583.98094575,202378.005154159,230746.316806994,261737.351626012,295362.999234113,331593.443254456,370352.464504711,411513.420270576,454896.113553515,500264.757920751,547327.225449146,595735.737009951,645089.116068161,694936.680105874,744783.78912637,794099.010394684,842322.795033386,888877.498102413,933178.51237054,974646.23023478,1012718.50116884,1046863.21641422,1076590.63064952,1101465.02376445,1121115.31557298,1135244.2724635,1143635.98688605,1146161.3666683,1142781.43911258,1133548.35168146,1118604.03336164,1098176.5647322,1072574.38648749,1042178.55193728,1007433.29541725,968835.242705693,926921.629240844,882257.915736091,835425.198106261,787007.799704737,737581.409789986,687702.09466583,637896.459429882,588653.181501255,540416.075113156,493578.781848544,448481.11906385,405407.058424027,364584.253110948,326184.986431906,290328.377867367,257083.655812526,226474.289587208,198482.76640401,173055.80114482,150109.776895654,129536.230867874,111207.222074206,94980.4423587578,80703.9595633244,68220.5093195306,57371.2789298232,47999.1519939997,39951.4050421597,33081.8668834085,27252.5673418856,22334.914413345,18210.4477094758,14771.2215889902,11919.8739450762,9569.43664682225,7642.94157905893,6072.87256351913,4800.50863237377,3775.19858600316,2953.60087359215,2298.91690241899,1780.14016159765,1371.33822827648,-5,5]},\"fNormalized\":false,\"fNormIntegral\":0,\"fFormula\":{\"_typename\":\"TFormula\",\"fUniqueID\":0,\"fBits\":1024,\"fName\":\"f\",\"fTitle\":\"gaus\",\"fClingParameters\":[1146176.88381632,-0.107244565567879,1.39224526918883],\"fAllParametersSetted\":true,\"fParams\":[{\"$pair\":\"pair<TString,int,TFormulaParamOrder>\",\"first\":\"Constant\",\"second\":0},{\"$pair\":\"pair<TString,int,TFormulaParamOrder>\",\"first\":\"Mean\",\"second\":1},{\"$pair\":\"pair<TString,int,TFormulaParamOrder>\",\"first\":\"Sigma\",\"second\":2}],\"fFormula\":\"[Constant]*exp(-0.5*((x-[Mean])\\/[Sigma])*((x-[Mean])\\/[Sigma]))\",\"fNdim\":1,\"fLinearParts\":[],\"fVectorized\":false},\"fParams\":null,\"fComposition\":null}],\"opt\":[\"\"]},\"fBufferSize\":0,\"fBuffer\":[],\"fBinStatErrOpt\":0,\"fStatOverflows\":2,\"fArray\":{\"$arr\":\"Float64\",\"len\":102,\"v\":[8846,2526,3266,4201,5219,6838,8543,10607,13299,16542,20191,24857,30195,37058,44361,53520,63979,76035,89361,104617,122683,142843,164629,189077,216867,246264,279230,313835,351270,391161,433071,477703,524342,572474,621045,671294,721478,770007,819481,866665,913371,956839,994542,1031330,1063050,1089774,1112722,1129224,1140979,1147404,1147806,1139359,1126800,1106265,1084076,1058086,1023578,987647,946091,904788,856543,809710,758964,711443,661323,611521,563032,516238,468990,426754,383768,344997,307635,272596,242074,211956,186161,161469,139669,120824,103250,87736,74886,63162,53081,44033,37007,30538,25149,20423,16761,13720,10901,8791,7055,5645,4534,3497,2667,2067,1592,4627]}},{\"_typename\":\"TLatex\",\"fUniqueID\":0,\"fBits\":9,\"fName\":\"\",\"fTitle\":\"#color[2]{#font[132]{#mu=-0.1072#pm0.0002, #sigma=1.3922#pm0.0002}}\",\"fTextAngle\":0,\"fTextSize\":0.05,\"fTextAlign\":22,\"fTextColor\":1,\"fTextFont\":62,\"fX\":0,\"fY\":5000,\"fLineColor\":1,\"fLineStyle\":1,\"fLineWidth\":2,\"fLimitFactorSize\":3,\"fOriginSize\":0.04},{\"_typename\":\"TStyle\",\"fUniqueID\":0,\"fBits\":0,\"fName\":\"Modern\",\"fTitle\":\"Modern Style\",\"fLineColor\":1,\"fLineStyle\":1,\"fLineWidth\":1,\"fFillColor\":19,\"fFillStyle\":1001,\"fMarkerColor\":1,\"fMarkerStyle\":1,\"fMarkerSize\":1,\"fTextAngle\":0,\"fTextSize\":0.05,\"fTextAlign\":11,\"fTextColor\":1,\"fTextFont\":62,\"fXaxis\":{\"_typename\":\"TAttAxis\",\"fNdivisions\":510,\"fAxisColor\":1,\"fLabelColor\":1,\"fLabelFont\":42,\"fLabelOffset\":0.005,\"fLabelSize\":0.035,\"fTickLength\":0.03,\"fTitleOffset\":1,\"fTitleSize\":0.035,\"fTitleColor\":1,\"fTitleFont\":42},\"fYaxis\":{\"_typename\":\"TAttAxis\",\"fNdivisions\":510,\"fAxisColor\":1,\"fLabelColor\":1,\"fLabelFont\":42,\"fLabelOffset\":0.005,\"fLabelSize\":0.035,\"fTickLength\":0.03,\"fTitleOffset\":0,\"fTitleSize\":0.035,\"fTitleColor\":1,\"fTitleFont\":42},\"fZaxis\":{\"_typename\":\"TAttAxis\",\"fNdivisions\":510,\"fAxisColor\":1,\"fLabelColor\":1,\"fLabelFont\":42,\"fLabelOffset\":0.005,\"fLabelSize\":0.035,\"fTickLength\":0.03,\"fTitleOffset\":1,\"fTitleSize\":0.035,\"fTitleColor\":1,\"fTitleFont\":42},\"fBarWidth\":1,\"fBarOffset\":0,\"fColorModelPS\":0,\"fDrawBorder\":0,\"fOptLogx\":0,\"fOptLogy\":0,\"fOptLogz\":0,\"fOptDate\":0,\"fOptStat\":0,\"fOptTitle\":1,\"fOptFile\":0,\"fOptFit\":0,\"fShowEventStatus\":0,\"fShowEditor\":0,\"fShowToolBar\":0,\"fNumberContours\":20,\"fAttDate\":{\"_typename\":\"TAttText\",\"fTextAngle\":0,\"fTextSize\":0.025,\"fTextAlign\":11,\"fTextColor\":1,\"fTextFont\":62},\"fDateX\":0.01,\"fDateY\":0.01,\"fEndErrorSize\":2,\"fErrorX\":0.5,\"fFuncColor\":2,\"fFuncStyle\":1,\"fFuncWidth\":2,\"fGridColor\":0,\"fGridStyle\":3,\"fGridWidth\":1,\"fLegendBorderSize\":1,\"fLegendFillColor\":0,\"fLegendFont\":42,\"fLegendTextSize\":0,\"fHatchesLineWidth\":1,\"fHatchesSpacing\":1,\"fFrameFillColor\":0,\"fFrameLineColor\":1,\"fFrameFillStyle\":1001,\"fFrameLineStyle\":1,\"fFrameLineWidth\":1,\"fFrameBorderSize\":1,\"fFrameBorderMode\":0,\"fHistFillColor\":0,\"fHistLineColor\":602,\"fHistFillStyle\":1001,\"fHistLineStyle\":1,\"fHistLineWidth\":1,\"fHistMinimumZero\":false,\"fHistTopMargin\":0.05,\"fCanvasPreferGL\":false,\"fCanvasColor\":0,\"fCanvasBorderSize\":2,\"fCanvasBorderMode\":0,\"fCanvasDefH\":500,\"fCanvasDefW\":700,\"fCanvasDefX\":10,\"fCanvasDefY\":10,\"fPadColor\":0,\"fPadBorderSize\":2,\"fPadBorderMode\":0,\"fPadBottomMargin\":0.1,\"fPadTopMargin\":0.1,\"fPadLeftMargin\":0.1,\"fPadRightMargin\":0.1,\"fPadGridX\":false,\"fPadGridY\":false,\"fPadTickX\":0,\"fPadTickY\":0,\"fPaperSizeX\":20,\"fPaperSizeY\":26,\"fScreenFactor\":1,\"fStatColor\":0,\"fStatTextColor\":1,\"fStatBorderSize\":1,\"fStatFont\":42,\"fStatFontSize\":0,\"fStatStyle\":1001,\"fStatFormat\":\"6.4g\",\"fStatX\":0.98,\"fStatY\":0.935,\"fStatW\":0.2,\"fStatH\":0.16,\"fStripDecimals\":true,\"fTitleAlign\":23,\"fTitleColor\":0,\"fTitleTextColor\":1,\"fTitleBorderSize\":0,\"fTitleFont\":42,\"fTitleFontSize\":0.05,\"fTitleStyle\":0,\"fTitleX\":0.5,\"fTitleY\":0.995,\"fTitleW\":0,\"fTitleH\":0,\"fLegoInnerR\":0.5,\"fLineStyles\":[\"\",\"  \",\" 12 12\",\" 4 8\",\" 12 16 4 16\",\" 20 12 4 12\",\" 20 12 4 12 4 12 4 12\",\" 20 20\",\" 20 12 4 12 4 12\",\" 80 20\",\" 80 40 4 40\",\"  \",\"  \",\"  \",\"  \",\"  \",\"  \",\"  \",\"  \",\"  \",\"  \",\"  \",\"  \",\"  \",\"  \",\"  \",\"  \",\"  \",\"  \",\"  \"],\"fHeaderPS\":\"\",\"fTitlePS\":\"\",\"fFitFormat\":\"5.4g\",\"fPaintTextFormat\":\"g\",\"fLineScalePS\":3,\"fJoinLinePS\":0,\"fCapLinePS\":0,\"fTimeOffset\":788918400,\"fImageScaling\":1}],\"opt\":[\"\",\"\",\"\",\"\"]},\"fExecs\":null,\"fName\":\"c\",\"fTitle\":\"c\",\"fNumPaletteColor\":0,\"fNextPaletteColor\":0,\"fDISPLAY\":\"$DISPLAY\",\"fDoubleBuffer\":0,\"fRetained\":true,\"fXsizeUser\":0,\"fYsizeUser\":0,\"fXsizeReal\":20,\"fYsizeReal\":14.28571,\"fWindowTopX\":0,\"fWindowTopY\":0,\"fWindowWidth\":0,\"fWindowHeight\":0,\"fCw\":696,\"fCh\":472,\"fCatt\":{\"_typename\":\"TAttCanvas\",\"fXBetween\":2,\"fYBetween\":2,\"fTitleFromTop\":1.2,\"fXdate\":0.2,\"fYdate\":0.3,\"fAdate\":1},\"kMoveOpaque\":true,\"kResizeOpaque\":true,\"fHighLightColor\":2,\"fBatch\":true,\"kShowEventStatus\":false,\"kAutoExec\":true,\"kMenuBar\":true});\n",
       "   Core.settings.HandleKeys = false;\n",
       "   Core.draw(\"root_plot_1649853601446\", obj, \"\");\n",
       "}\n",
       "\n",
       "function script_load_root_plot_1649853601446(src, on_error) {\n",
       "    let script = document.createElement('script');\n",
       "    script.src = src;\n",
       "    script.onload = function() { display_root_plot_1649853601446(JSROOT); };\n",
       "    script.onerror = function() { script.remove(); on_error(); };\n",
       "    document.head.appendChild(script);\n",
       "}\n",
       "\n",
       "if (typeof requirejs !== 'undefined') {\n",
       "\n",
       "    // We are in jupyter notebooks, use require.js which should be configured already\n",
       "    requirejs.config({\n",
       "       paths: { 'JSRootCore' : [ 'scripts/JSRoot.core', 'https://root.cern/js/6.1.1/scripts/JSRoot.core.min', 'https://jsroot.gsi.de/6.1.1/scripts/JSRoot.core.min' ] }\n",
       "    })(['JSRootCore'],  function(Core) {\n",
       "       display_root_plot_1649853601446(Core);\n",
       "    });\n",
       "\n",
       "} else if (typeof JSROOT !== 'undefined') {\n",
       "\n",
       "   // JSROOT already loaded, just use it\n",
       "   display_root_plot_1649853601446(JSROOT);\n",
       "\n",
       "} else {\n",
       "\n",
       "    // We are in jupyterlab without require.js, directly loading jsroot\n",
       "    // Jupyterlab might be installed in a different base_url so we need to know it.\n",
       "    try {\n",
       "        var base_url = JSON.parse(document.getElementById('jupyter-config-data').innerHTML).baseUrl;\n",
       "    } catch(_) {\n",
       "        var base_url = '/';\n",
       "    }\n",
       "\n",
       "    // Try loading a local version of requirejs and fallback to cdn if not possible.\n",
       "    script_load_root_plot_1649853601446(base_url + 'static/scripts/JSRoot.core.js', function(){\n",
       "        console.error('Fail to load JSROOT locally, please check your jupyter_notebook_config.py file');\n",
       "        script_load_root_plot_1649853601446('https://root.cern/js/6.1.1/scripts/JSRoot.core.min.js', function(){\n",
       "            document.getElementById(\"root_plot_1649853601446\").innerHTML = \"Failed to load JSROOT\";\n",
       "        });\n",
       "    });\n",
       "}\n",
       "\n",
       "</script>\n"
      ],
      "text/plain": [
       "<IPython.core.display.HTML object>"
      ]
     },
     "metadata": {},
     "output_type": "display_data"
    }
   ],
   "source": [
    "c=r.TCanvas(\"c\",\"c\")\n",
    "c.Draw(\"\")\n",
    "c.SetBottomMargin(0.15)\n",
    "h.Draw(\"\")\n",
    "h.GetXaxis().SetLabelFont(132)\n",
    "h.GetYaxis().SetLabelFont(132)\n",
    "h.GetYaxis().SetTitle(\"#font[132]{counts}\")\n",
    "h.GetXaxis().SetTitle(\"#font[132]{#frac{p(#Sigma|D_{#it{i}})-#Sigma_{true}}{std(p(#Sigma|D_{#it{i}}))}}\")\n",
    "h.SetTitle(\"\")\n",
    "h.GetYaxis().SetNdivisions(0)\n",
    "h.GetYaxis().SetLabelSize(0)\n",
    "r.gStyle.SetOptStat(0)\n",
    "h.GetXaxis().SetTitleOffset(1.5)\n",
    "f=r.TF1(\"f\",\"gaus\",-5,5)\n",
    "h.Fit(f,\"S\")\n",
    "t=r.TLatex()\n",
    "t.SetTextAlign(22)\n",
    "mu = f.GetParameter(1)\n",
    "mu_err = f.GetParError(1)\n",
    "sigma=f.GetParameter(2)\n",
    "sigma_err=f.GetParError(2)\n",
    "t.DrawLatex(0,5e3,f\"#color[2]{{#font[132]{{#mu={mu:.4f}#pm{mu_err:.4f}, #sigma={sigma:.4f}#pm{sigma_err:.4f}}}}}\")"
   ]
  },
  {
   "cell_type": "code",
   "execution_count": 24,
   "id": "6175eb23",
   "metadata": {},
   "outputs": [],
   "source": [
    "sigma_chi2_df=pd.read_csv('./sigma_chi2.csv',index_col=0).join(pd.read_csv('./sigma_chi2_1.csv',index_col=0))\n"
   ]
  },
  {
   "cell_type": "code",
   "execution_count": 25,
   "id": "e66f53eb",
   "metadata": {},
   "outputs": [
    {
     "name": "stderr",
     "output_type": "stream",
     "text": [
      "Warning in <TROOT::Append>: Replacing existing TH1: h1 (Potential memory leak).\n"
     ]
    }
   ],
   "source": [
    "h1=r.TH1D(\"h1\",\"h1\",25,-5,5)\n",
    "for i in range(len(sigma_chi2_df.columns)):\n",
    "    h1.Fill((sigma_chi2_df[f'toybin{i:04d}']['sigma']-0.3)/sigma_chi2_df[f'toybin{i:04d}']['error'])"
   ]
  },
  {
   "cell_type": "code",
   "execution_count": 26,
   "id": "a099af69",
   "metadata": {},
   "outputs": [
    {
     "data": {
      "text/plain": [
       "<cppyy.gbl.TFitResultPtr object at 0x559e73552960>"
      ]
     },
     "execution_count": 26,
     "metadata": {},
     "output_type": "execute_result"
    },
    {
     "name": "stdout",
     "output_type": "stream",
     "text": [
      " FCN=73.7807 FROM MIGRAD    STATUS=CONVERGED      60 CALLS          61 TOTAL\n",
      "                     EDM=2.89407e-10    STRATEGY= 1      ERROR MATRIX ACCURATE \n",
      "  EXT PARAMETER                                   STEP         FIRST   \n",
      "  NO.   NAME      VALUE            ERROR          SIZE      DERIVATIVE \n",
      "   1  Constant     1.38272e+03   1.80258e+01   5.86252e-02  -5.95465e-07\n",
      "   2  Mean        -7.81613e-02   1.14969e-02   4.85453e-05  -1.96489e-03\n",
      "   3  Sigma        1.14467e+00   9.52072e-03   8.89506e-06  -2.68454e-03\n"
     ]
    },
    {
     "name": "stderr",
     "output_type": "stream",
     "text": [
      "Warning in <TCanvas::Constructor>: Deleting canvas with same name: c1\n"
     ]
    },
    {
     "data": {
      "text/html": [
       "\n",
       "\n",
       "<div id=\"root_plot_1649853729153\"\n",
       "     style=\"width: 696px; height: 472px\">\n",
       "</div>\n",
       "<script>\n",
       "\n",
       "function display_root_plot_1649853729153(Core) {\n",
       "   let obj = Core.parse({\"_typename\":\"TCanvas\",\"fUniqueID\":0,\"fBits\":3342344,\"fLineColor\":1,\"fLineStyle\":1,\"fLineWidth\":1,\"fFillColor\":0,\"fFillStyle\":1001,\"fLeftMargin\":0.1,\"fRightMargin\":0.1,\"fBottomMargin\":0.15,\"fTopMargin\":0.1,\"fXfile\":2,\"fYfile\":2,\"fAfile\":1,\"fXstat\":0.99,\"fYstat\":0.99,\"fAstat\":2,\"fFrameFillColor\":0,\"fFrameLineColor\":1,\"fFrameFillStyle\":1001,\"fFrameLineStyle\":1,\"fFrameLineWidth\":1,\"fFrameBorderSize\":1,\"fFrameBorderMode\":0,\"fX1\":0,\"fY1\":0,\"fX2\":1,\"fY2\":1,\"fXtoAbsPixelk\":5e-5,\"fXtoPixelk\":5e-5,\"fXtoPixel\":696,\"fYtoAbsPixelk\":472.00005,\"fYtoPixelk\":472.00005,\"fYtoPixel\":-472,\"fUtoAbsPixelk\":5e-5,\"fUtoPixelk\":5e-5,\"fUtoPixel\":696,\"fVtoAbsPixelk\":472.00005,\"fVtoPixelk\":472,\"fVtoPixel\":-472,\"fAbsPixeltoXk\":0,\"fPixeltoXk\":0,\"fPixeltoX\":0.0014367816091954,\"fAbsPixeltoYk\":1,\"fPixeltoYk\":0,\"fPixeltoY\":-0.00211864406779661,\"fXlowNDC\":0,\"fYlowNDC\":0,\"fXUpNDC\":1,\"fYUpNDC\":1,\"fWNDC\":1,\"fHNDC\":1,\"fAbsXlowNDC\":0,\"fAbsYlowNDC\":0,\"fAbsWNDC\":1,\"fAbsHNDC\":1,\"fUxmin\":0,\"fUymin\":0,\"fUxmax\":1,\"fUymax\":1,\"fTheta\":30,\"fPhi\":30,\"fAspectRatio\":0,\"fNumber\":0,\"fTickx\":0,\"fTicky\":0,\"fLogx\":0,\"fLogy\":0,\"fLogz\":0,\"fPadPaint\":0,\"fCrosshair\":0,\"fCrosshairPos\":0,\"fBorderSize\":2,\"fBorderMode\":0,\"fModified\":true,\"fGridx\":false,\"fGridy\":false,\"fAbsCoord\":false,\"fEditable\":true,\"fFixedAspectRatio\":false,\"fPrimitives\":{\"_typename\":\"TList\",\"name\":\"TList\",\"arr\":[{\"_typename\":\"TH1D\",\"fUniqueID\":0,\"fBits\":520,\"fName\":\"h1\",\"fTitle\":\"h1\",\"fLineColor\":602,\"fLineStyle\":1,\"fLineWidth\":1,\"fFillColor\":0,\"fFillStyle\":1001,\"fMarkerColor\":1,\"fMarkerStyle\":1,\"fMarkerSize\":1,\"fNcells\":27,\"fXaxis\":{\"_typename\":\"TAxis\",\"fUniqueID\":0,\"fBits\":0,\"fName\":\"xaxis\",\"fTitle\":\"\",\"fNdivisions\":510,\"fAxisColor\":1,\"fLabelColor\":1,\"fLabelFont\":42,\"fLabelOffset\":0.005,\"fLabelSize\":0.035,\"fTickLength\":0.03,\"fTitleOffset\":1,\"fTitleSize\":0.035,\"fTitleColor\":1,\"fTitleFont\":42,\"fNbins\":25,\"fXmin\":-5,\"fXmax\":5,\"fXbins\":[],\"fFirst\":0,\"fLast\":0,\"fBits2\":0,\"fTimeDisplay\":false,\"fTimeFormat\":\"\",\"fLabels\":null,\"fModLabs\":null},\"fYaxis\":{\"_typename\":\"TAxis\",\"fUniqueID\":0,\"fBits\":0,\"fName\":\"yaxis\",\"fTitle\":\"\",\"fNdivisions\":510,\"fAxisColor\":1,\"fLabelColor\":1,\"fLabelFont\":42,\"fLabelOffset\":0.005,\"fLabelSize\":0.035,\"fTickLength\":0.03,\"fTitleOffset\":0,\"fTitleSize\":0.035,\"fTitleColor\":1,\"fTitleFont\":42,\"fNbins\":1,\"fXmin\":0,\"fXmax\":1,\"fXbins\":[],\"fFirst\":0,\"fLast\":0,\"fBits2\":0,\"fTimeDisplay\":false,\"fTimeFormat\":\"\",\"fLabels\":null,\"fModLabs\":null},\"fZaxis\":{\"_typename\":\"TAxis\",\"fUniqueID\":0,\"fBits\":0,\"fName\":\"zaxis\",\"fTitle\":\"\",\"fNdivisions\":510,\"fAxisColor\":1,\"fLabelColor\":1,\"fLabelFont\":42,\"fLabelOffset\":0.005,\"fLabelSize\":0.035,\"fTickLength\":0.03,\"fTitleOffset\":1,\"fTitleSize\":0.035,\"fTitleColor\":1,\"fTitleFont\":42,\"fNbins\":1,\"fXmin\":0,\"fXmax\":1,\"fXbins\":[],\"fFirst\":0,\"fLast\":0,\"fBits2\":0,\"fTimeDisplay\":false,\"fTimeFormat\":\"\",\"fLabels\":null,\"fModLabs\":null},\"fBarOffset\":0,\"fBarWidth\":1000,\"fEntries\":10000,\"fTsumw\":9992,\"fTsumw2\":9992,\"fTsumwx\":-842.369423749296,\"fTsumwx2\":13695.9181708015,\"fMaximum\":-1111,\"fMinimum\":-1111,\"fNormFactor\":0,\"fContour\":[],\"fSumw2\":[],\"fOption\":\"\",\"fFunctions\":{\"_typename\":\"TList\",\"name\":\"TList\",\"arr\":[{\"_typename\":\"TF1\",\"fUniqueID\":0,\"fBits\":1024,\"fName\":\"gaus\",\"fTitle\":\"gaus\",\"fLineColor\":2,\"fLineStyle\":1,\"fLineWidth\":2,\"fFillColor\":19,\"fFillStyle\":0,\"fMarkerColor\":1,\"fMarkerStyle\":1,\"fMarkerSize\":1,\"fXmin\":-5,\"fXmax\":5,\"fNpar\":3,\"fNdim\":1,\"fNpx\":100,\"fType\":0,\"fNpfits\":24,\"fNDF\":21,\"fChisquare\":73.7806719991291,\"fMinimum\":-1111,\"fMaximum\":-1111,\"fParErrors\":[18.0258052087342,0.0114968707089609,0.00952072196192844],\"fParMin\":[0,0,0],\"fParMax\":[0,0,11.7311829722781],\"fSave\":{\"$arr\":\"Float64\",\"len\":103,\"v\":[0.133686683839604,0.193895146566711,0.27908159172741,0.398640032474821,0.565088010629207,0.794944377140515,1.10979523504022,1.53756836550455,2.11403162364915,2.88452288826995,3.90590759278942,5.24874416294055,6.99961753109174,9.26357625798316,12.1665800252964,15.8578322099032,20.5118383310922,26.3299974262463,33.5415025515552,42.4033019046247,53.1988572655327,66.2354355324588,81.8396860025503,100.351294182774,122.11456487965,147.467874318264,176.731042474151,210.190809871561,248.084752579079,290.584127298987,337.776295269106,389.647517278367,446.067029394413,506.773386783907,571.364089016192,639.289464449387,709.8516871472,782.209625273611,855.389978450213,928.304862310637,999.775656309615,1068.56256563806,1133.39898359331,1193.02940283852,1246.24933864615,1291.94551832529,1329.13447812888,1356.99770530456,1374.91157412595,1382.47054765852,1379.50243994003,1366.0749364748,1342.49302822216,1309.28749492588,1267.19504507454,1217.13115015746,1160.15697172638,1097.44204831063,1030.2245701078,959.771115698297,887.337658650207,814.133482837222,741.289390611407,669.831269897937,600.659730149178,534.536149107342,472.075117382608,413.742947708037,359.861647558176,310.617549316627,266.073657242432,226.184705396269,190.8139207608,159.750542364821,132.72724885712,109.436780717782,89.5471958846878,72.7153565088232,58.598398916855,46.8630798868099,37.1930137096477,29.293912378179,22.8970140930852,17.7609335715755,13.6721934202049,10.444702220681,7.91843574580809,5.95755686658671,4.44818110810823,3.29596196461811,2.42363595432895,1.7686343157074,1.28083790888207,0.920525373419492,0.656542463222847,0.464702856167762,0.326417420565061,0.227539490139503,0.157407600232955,0.108063761501509,0.0736240880264424,-5,5]},\"fNormalized\":false,\"fNormIntegral\":0,\"fFormula\":{\"_typename\":\"TFormula\",\"fUniqueID\":0,\"fBits\":1024,\"fName\":\"gaus\",\"fTitle\":\"gaus\",\"fClingParameters\":[1382.72217551127,-0.0781612630618868,1.14467149385353],\"fAllParametersSetted\":true,\"fParams\":[{\"$pair\":\"pair<TString,int,TFormulaParamOrder>\",\"first\":\"Constant\",\"second\":0},{\"$pair\":\"pair<TString,int,TFormulaParamOrder>\",\"first\":\"Mean\",\"second\":1},{\"$pair\":\"pair<TString,int,TFormulaParamOrder>\",\"first\":\"Sigma\",\"second\":2}],\"fFormula\":\"[Constant]*exp(-0.5*((x-[Mean])\\/[Sigma])*((x-[Mean])\\/[Sigma]))\",\"fNdim\":1,\"fLinearParts\":[],\"fVectorized\":false},\"fParams\":null,\"fComposition\":null}],\"opt\":[\"\"]},\"fBufferSize\":0,\"fBuffer\":[],\"fBinStatErrOpt\":0,\"fStatOverflows\":2,\"fArray\":{\"$arr\":\"Float64\",\"len\":27,\"v\":[5,2,6,17,26,52,88,158,312,554,804,1160,1392,1422,1315,1027,708,417,271,126,70,31,23,5,6,0,3]}},{\"_typename\":\"TStyle\",\"fUniqueID\":0,\"fBits\":0,\"fName\":\"Modern\",\"fTitle\":\"Modern Style\",\"fLineColor\":1,\"fLineStyle\":1,\"fLineWidth\":1,\"fFillColor\":19,\"fFillStyle\":1001,\"fMarkerColor\":1,\"fMarkerStyle\":1,\"fMarkerSize\":1,\"fTextAngle\":0,\"fTextSize\":0.05,\"fTextAlign\":11,\"fTextColor\":1,\"fTextFont\":62,\"fXaxis\":{\"_typename\":\"TAttAxis\",\"fNdivisions\":510,\"fAxisColor\":1,\"fLabelColor\":1,\"fLabelFont\":42,\"fLabelOffset\":0.005,\"fLabelSize\":0.035,\"fTickLength\":0.03,\"fTitleOffset\":1,\"fTitleSize\":0.035,\"fTitleColor\":1,\"fTitleFont\":42},\"fYaxis\":{\"_typename\":\"TAttAxis\",\"fNdivisions\":510,\"fAxisColor\":1,\"fLabelColor\":1,\"fLabelFont\":42,\"fLabelOffset\":0.005,\"fLabelSize\":0.035,\"fTickLength\":0.03,\"fTitleOffset\":0,\"fTitleSize\":0.035,\"fTitleColor\":1,\"fTitleFont\":42},\"fZaxis\":{\"_typename\":\"TAttAxis\",\"fNdivisions\":510,\"fAxisColor\":1,\"fLabelColor\":1,\"fLabelFont\":42,\"fLabelOffset\":0.005,\"fLabelSize\":0.035,\"fTickLength\":0.03,\"fTitleOffset\":1,\"fTitleSize\":0.035,\"fTitleColor\":1,\"fTitleFont\":42},\"fBarWidth\":1,\"fBarOffset\":0,\"fColorModelPS\":0,\"fDrawBorder\":0,\"fOptLogx\":0,\"fOptLogy\":0,\"fOptLogz\":0,\"fOptDate\":0,\"fOptStat\":0,\"fOptTitle\":1,\"fOptFile\":0,\"fOptFit\":0,\"fShowEventStatus\":0,\"fShowEditor\":0,\"fShowToolBar\":0,\"fNumberContours\":20,\"fAttDate\":{\"_typename\":\"TAttText\",\"fTextAngle\":0,\"fTextSize\":0.025,\"fTextAlign\":11,\"fTextColor\":1,\"fTextFont\":62},\"fDateX\":0.01,\"fDateY\":0.01,\"fEndErrorSize\":2,\"fErrorX\":0.5,\"fFuncColor\":2,\"fFuncStyle\":1,\"fFuncWidth\":2,\"fGridColor\":0,\"fGridStyle\":3,\"fGridWidth\":1,\"fLegendBorderSize\":1,\"fLegendFillColor\":0,\"fLegendFont\":42,\"fLegendTextSize\":0,\"fHatchesLineWidth\":1,\"fHatchesSpacing\":1,\"fFrameFillColor\":0,\"fFrameLineColor\":1,\"fFrameFillStyle\":1001,\"fFrameLineStyle\":1,\"fFrameLineWidth\":1,\"fFrameBorderSize\":1,\"fFrameBorderMode\":0,\"fHistFillColor\":0,\"fHistLineColor\":602,\"fHistFillStyle\":1001,\"fHistLineStyle\":1,\"fHistLineWidth\":1,\"fHistMinimumZero\":false,\"fHistTopMargin\":0.05,\"fCanvasPreferGL\":false,\"fCanvasColor\":0,\"fCanvasBorderSize\":2,\"fCanvasBorderMode\":0,\"fCanvasDefH\":500,\"fCanvasDefW\":700,\"fCanvasDefX\":10,\"fCanvasDefY\":10,\"fPadColor\":0,\"fPadBorderSize\":2,\"fPadBorderMode\":0,\"fPadBottomMargin\":0.1,\"fPadTopMargin\":0.1,\"fPadLeftMargin\":0.1,\"fPadRightMargin\":0.1,\"fPadGridX\":false,\"fPadGridY\":false,\"fPadTickX\":0,\"fPadTickY\":0,\"fPaperSizeX\":20,\"fPaperSizeY\":26,\"fScreenFactor\":1,\"fStatColor\":0,\"fStatTextColor\":1,\"fStatBorderSize\":1,\"fStatFont\":42,\"fStatFontSize\":0,\"fStatStyle\":1001,\"fStatFormat\":\"6.4g\",\"fStatX\":0.98,\"fStatY\":0.935,\"fStatW\":0.2,\"fStatH\":0.16,\"fStripDecimals\":true,\"fTitleAlign\":23,\"fTitleColor\":0,\"fTitleTextColor\":1,\"fTitleBorderSize\":0,\"fTitleFont\":42,\"fTitleFontSize\":0.05,\"fTitleStyle\":0,\"fTitleX\":0.5,\"fTitleY\":0.995,\"fTitleW\":0,\"fTitleH\":0,\"fLegoInnerR\":0.5,\"fLineStyles\":[\"\",\"  \",\" 12 12\",\" 4 8\",\" 12 16 4 16\",\" 20 12 4 12\",\" 20 12 4 12 4 12 4 12\",\" 20 20\",\" 20 12 4 12 4 12\",\" 80 20\",\" 80 40 4 40\",\"  \",\"  \",\"  \",\"  \",\"  \",\"  \",\"  \",\"  \",\"  \",\"  \",\"  \",\"  \",\"  \",\"  \",\"  \",\"  \",\"  \",\"  \",\"  \"],\"fHeaderPS\":\"\",\"fTitlePS\":\"\",\"fFitFormat\":\"5.4g\",\"fPaintTextFormat\":\"g\",\"fLineScalePS\":3,\"fJoinLinePS\":0,\"fCapLinePS\":0,\"fTimeOffset\":788918400,\"fImageScaling\":1}],\"opt\":[\"\",\"\"]},\"fExecs\":null,\"fName\":\"c1\",\"fTitle\":\"c\",\"fNumPaletteColor\":0,\"fNextPaletteColor\":0,\"fDISPLAY\":\"$DISPLAY\",\"fDoubleBuffer\":0,\"fRetained\":true,\"fXsizeUser\":0,\"fYsizeUser\":0,\"fXsizeReal\":20,\"fYsizeReal\":14.28571,\"fWindowTopX\":0,\"fWindowTopY\":0,\"fWindowWidth\":0,\"fWindowHeight\":0,\"fCw\":696,\"fCh\":472,\"fCatt\":{\"_typename\":\"TAttCanvas\",\"fXBetween\":2,\"fYBetween\":2,\"fTitleFromTop\":1.2,\"fXdate\":0.2,\"fYdate\":0.3,\"fAdate\":1},\"kMoveOpaque\":true,\"kResizeOpaque\":true,\"fHighLightColor\":2,\"fBatch\":true,\"kShowEventStatus\":false,\"kAutoExec\":true,\"kMenuBar\":true});\n",
       "   Core.settings.HandleKeys = false;\n",
       "   Core.draw(\"root_plot_1649853729153\", obj, \"\");\n",
       "}\n",
       "\n",
       "function script_load_root_plot_1649853729153(src, on_error) {\n",
       "    let script = document.createElement('script');\n",
       "    script.src = src;\n",
       "    script.onload = function() { display_root_plot_1649853729153(JSROOT); };\n",
       "    script.onerror = function() { script.remove(); on_error(); };\n",
       "    document.head.appendChild(script);\n",
       "}\n",
       "\n",
       "if (typeof requirejs !== 'undefined') {\n",
       "\n",
       "    // We are in jupyter notebooks, use require.js which should be configured already\n",
       "    requirejs.config({\n",
       "       paths: { 'JSRootCore' : [ 'scripts/JSRoot.core', 'https://root.cern/js/6.1.1/scripts/JSRoot.core.min', 'https://jsroot.gsi.de/6.1.1/scripts/JSRoot.core.min' ] }\n",
       "    })(['JSRootCore'],  function(Core) {\n",
       "       display_root_plot_1649853729153(Core);\n",
       "    });\n",
       "\n",
       "} else if (typeof JSROOT !== 'undefined') {\n",
       "\n",
       "   // JSROOT already loaded, just use it\n",
       "   display_root_plot_1649853729153(JSROOT);\n",
       "\n",
       "} else {\n",
       "\n",
       "    // We are in jupyterlab without require.js, directly loading jsroot\n",
       "    // Jupyterlab might be installed in a different base_url so we need to know it.\n",
       "    try {\n",
       "        var base_url = JSON.parse(document.getElementById('jupyter-config-data').innerHTML).baseUrl;\n",
       "    } catch(_) {\n",
       "        var base_url = '/';\n",
       "    }\n",
       "\n",
       "    // Try loading a local version of requirejs and fallback to cdn if not possible.\n",
       "    script_load_root_plot_1649853729153(base_url + 'static/scripts/JSRoot.core.js', function(){\n",
       "        console.error('Fail to load JSROOT locally, please check your jupyter_notebook_config.py file');\n",
       "        script_load_root_plot_1649853729153('https://root.cern/js/6.1.1/scripts/JSRoot.core.min.js', function(){\n",
       "            document.getElementById(\"root_plot_1649853729153\").innerHTML = \"Failed to load JSROOT\";\n",
       "        });\n",
       "    });\n",
       "}\n",
       "\n",
       "</script>\n"
      ],
      "text/plain": [
       "<IPython.core.display.HTML object>"
      ]
     },
     "metadata": {},
     "output_type": "display_data"
    }
   ],
   "source": [
    "c1=r.TCanvas(\"c1\",\"c\")\n",
    "c1.Draw(\"\")\n",
    "c1.SetBottomMargin(0.15)\n",
    "h1.Draw(\"\")\n",
    "h1.Fit(\"gaus\",\"S\")\n",
    "\n"
   ]
  },
  {
   "cell_type": "code",
   "execution_count": 27,
   "id": "5700c3b2",
   "metadata": {},
   "outputs": [
    {
     "name": "stderr",
     "output_type": "stream",
     "text": [
      "Info in <TCanvas::Print>: pdf file ./plots/combined_post_add.pdf has been created\n",
      "Info in <TCanvas::SaveAs>: ROOT file ./plots/combined_post_add.root has been created\n"
     ]
    }
   ],
   "source": [
    "c.SaveAs(\"./plots/combined_post_add.pdf\")\n",
    "c.SaveAs(\"./plots/combined_post_add.root\")"
   ]
  },
  {
   "cell_type": "code",
   "execution_count": 28,
   "id": "45337dff",
   "metadata": {},
   "outputs": [
    {
     "data": {
      "image/png": "[encoded data removed]",
      "text/plain": [
       "<Figure size 432x288 with 1 Axes>"
      ]
     },
     "metadata": {
      "needs_background": "light"
     },
     "output_type": "display_data"
    }
   ],
   "source": [
    "plt.hist(diagnostics_df.loc[[f'pval{i:02d}' for i in range(12)]].values.ravel(),histtype='step',bins=20)\n",
    "plt.xlabel(r'$T(A_{rep}>A)$')\n",
    "plt.grid(False)\n",
    "plt.savefig('./plots/toyMC_pval_hist.pdf',format='pdf',dpi=1000,bbox_inches='tight')\n",
    "plt.show()"
   ]
  },
  {
   "cell_type": "code",
   "execution_count": 32,
   "id": "79a2d2cd",
   "metadata": {},
   "outputs": [
    {
     "data": {
      "text/plain": [
       "1000.0"
      ]
     },
     "execution_count": 32,
     "metadata": {},
     "output_type": "execute_result"
    }
   ],
   "source": [
    "h1.GetEntries()"
   ]
  },
  {
   "cell_type": "code",
   "execution_count": 33,
   "id": "fc416743",
   "metadata": {},
   "outputs": [
    {
     "data": {
      "text/plain": [
       "4000000.0"
      ]
     },
     "execution_count": 33,
     "metadata": {},
     "output_type": "execute_result"
    }
   ],
   "source": [
    "h.GetEntries()"
   ]
  },
  {
   "cell_type": "code",
   "execution_count": null,
   "id": "5f88a401",
   "metadata": {},
   "outputs": [],
   "source": []
  }
 ],
 "metadata": {
  "kernelspec": {
   "display_name": "Python 3 (ipykernel)",
   "language": "python",
   "name": "python3"
  },
  "language_info": {
   "codemirror_mode": {
    "name": "ipython",
    "version": 3
   },
   "file_extension": ".py",
   "mimetype": "text/x-python",
   "name": "python",
   "nbconvert_exporter": "python",
   "pygments_lexer": "ipython3",
   "version": "3.10.2"
  }
 },
 "nbformat": 4,
 "nbformat_minor": 5
}
