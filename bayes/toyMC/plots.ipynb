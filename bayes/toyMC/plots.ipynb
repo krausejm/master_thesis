{
 "cells": [
  {
   "cell_type": "code",
   "execution_count": 2,
   "id": "cce01dc1",
   "metadata": {},
   "outputs": [
    {
     "name": "stdout",
     "output_type": "stream",
     "text": [
      "Welcome to JupyROOT 6.26/00\n"
     ]
    }
   ],
   "source": [
    "import nest_asyncio\n",
    "nest_asyncio.apply()\n",
    "import cmdstanpy as sp\n",
    "import numpy as np\n",
    "from scipy.optimize import curve_fit\n",
    "import pandas as pd\n",
    "import matplotlib.pyplot as plt\n",
    "plt.ioff()\n",
    "from cycler import cycler\n",
    "import matplotlib.patches as mpatches\n",
    "import seaborn as sns\n",
    "import arviz as az\n",
    "import scipy.stats as stats\n",
    "import ROOT as r\n",
    "import time\n",
    "import ctypes\n",
    "plt.rcParams[\"xtick.minor.visible\"] =  True\n",
    "plt.rcParams[\"ytick.minor.visible\"] =  True\n",
    "plt.rcParams[\"mathtext.fontset\"]=\"cm\"\n",
    "plt.rcParams['errorbar.capsize'] = 3\n",
    "plt.rcParams['mathtext.rm'] = 'serif'\n",
    "plt.rcParams['font.family']='serif'\n",
    "plt.rcParams['font.size']=22\n",
    "plt.rcParams['axes.grid'] = True\n",
    "plt.rcParams['grid.linestyle']=':'\n",
    "plt.rcParams['grid.color']='black'\n",
    "plt.rcParams['axes.prop_cycle'] = cycler(color=['black', 'red', 'blue', 'green'])\n",
    "\n",
    "import arviz as az\n",
    "import warnings\n",
    "warnings.filterwarnings('ignore')\n",
    "%jsroot on"
   ]
  },
  {
   "cell_type": "code",
   "execution_count": 50,
   "id": "40cc296c",
   "metadata": {},
   "outputs": [],
   "source": [
    "diagnostics_df=pd.read_csv(\"./diagnostics.csv\",index_col=0)\n",
    "sigma_df=pd.read_csv('./sigma.csv',index_col=0)\n",
    "#diagnostics_df1=pd.read_csv(\"./diagnostics_1.csv\",index_col=0)\n",
    "#sigma_df1=pd.read_csv('./sigma_1.csv',index_col=0)\n",
    "#sigma_df=sigma_df.join(sigma_df1)\n",
    "#diagnostics_df=diagnostics_df.join(diagnostics_df1)"
   ]
  },
  {
   "cell_type": "code",
   "execution_count": 51,
   "id": "3bb21a6a",
   "metadata": {},
   "outputs": [
    {
     "data": {
      "text/html": [
       "<div>\n",
       "<style scoped>\n",
       "    .dataframe tbody tr th:only-of-type {\n",
       "        vertical-align: middle;\n",
       "    }\n",
       "\n",
       "    .dataframe tbody tr th {\n",
       "        vertical-align: top;\n",
       "    }\n",
       "\n",
       "    .dataframe thead th {\n",
       "        text-align: right;\n",
       "    }\n",
       "</style>\n",
       "<table border=\"1\" class=\"dataframe\">\n",
       "  <thead>\n",
       "    <tr style=\"text-align: right;\">\n",
       "      <th></th>\n",
       "      <th>toybin0000</th>\n",
       "      <th>toybin0001</th>\n",
       "      <th>toybin0002</th>\n",
       "      <th>toybin0003</th>\n",
       "      <th>toybin0004</th>\n",
       "      <th>toybin0005</th>\n",
       "      <th>toybin0006</th>\n",
       "      <th>toybin0007</th>\n",
       "      <th>toybin0008</th>\n",
       "      <th>toybin0009</th>\n",
       "      <th>...</th>\n",
       "      <th>toybin9990</th>\n",
       "      <th>toybin9991</th>\n",
       "      <th>toybin9992</th>\n",
       "      <th>toybin9993</th>\n",
       "      <th>toybin9994</th>\n",
       "      <th>toybin9995</th>\n",
       "      <th>toybin9996</th>\n",
       "      <th>toybin9997</th>\n",
       "      <th>toybin9998</th>\n",
       "      <th>toybin9999</th>\n",
       "    </tr>\n",
       "  </thead>\n",
       "  <tbody>\n",
       "    <tr>\n",
       "      <th>0</th>\n",
       "      <td>0.195856</td>\n",
       "      <td>0.180944</td>\n",
       "      <td>0.273940</td>\n",
       "      <td>0.269786</td>\n",
       "      <td>0.417997</td>\n",
       "      <td>0.352500</td>\n",
       "      <td>0.242260</td>\n",
       "      <td>0.222714</td>\n",
       "      <td>0.316006</td>\n",
       "      <td>0.256378</td>\n",
       "      <td>...</td>\n",
       "      <td>0.435548</td>\n",
       "      <td>0.280275</td>\n",
       "      <td>0.322280</td>\n",
       "      <td>0.262607</td>\n",
       "      <td>0.126104</td>\n",
       "      <td>0.128008</td>\n",
       "      <td>0.202240</td>\n",
       "      <td>0.359272</td>\n",
       "      <td>0.308171</td>\n",
       "      <td>0.236027</td>\n",
       "    </tr>\n",
       "    <tr>\n",
       "      <th>1</th>\n",
       "      <td>0.282428</td>\n",
       "      <td>0.153572</td>\n",
       "      <td>0.273940</td>\n",
       "      <td>0.253091</td>\n",
       "      <td>0.384699</td>\n",
       "      <td>0.392137</td>\n",
       "      <td>0.274383</td>\n",
       "      <td>0.223073</td>\n",
       "      <td>0.341221</td>\n",
       "      <td>0.244016</td>\n",
       "      <td>...</td>\n",
       "      <td>0.317442</td>\n",
       "      <td>0.254013</td>\n",
       "      <td>0.295688</td>\n",
       "      <td>0.327460</td>\n",
       "      <td>0.312719</td>\n",
       "      <td>0.204256</td>\n",
       "      <td>0.197624</td>\n",
       "      <td>0.364779</td>\n",
       "      <td>0.287638</td>\n",
       "      <td>0.289581</td>\n",
       "    </tr>\n",
       "    <tr>\n",
       "      <th>2</th>\n",
       "      <td>0.164928</td>\n",
       "      <td>0.167737</td>\n",
       "      <td>0.234994</td>\n",
       "      <td>0.219968</td>\n",
       "      <td>0.379782</td>\n",
       "      <td>0.430325</td>\n",
       "      <td>0.236363</td>\n",
       "      <td>0.222405</td>\n",
       "      <td>0.353916</td>\n",
       "      <td>0.236717</td>\n",
       "      <td>...</td>\n",
       "      <td>0.373040</td>\n",
       "      <td>0.318370</td>\n",
       "      <td>0.305718</td>\n",
       "      <td>0.322419</td>\n",
       "      <td>0.124335</td>\n",
       "      <td>0.204256</td>\n",
       "      <td>0.173404</td>\n",
       "      <td>0.302082</td>\n",
       "      <td>0.287244</td>\n",
       "      <td>0.321271</td>\n",
       "    </tr>\n",
       "    <tr>\n",
       "      <th>3</th>\n",
       "      <td>0.161454</td>\n",
       "      <td>0.097302</td>\n",
       "      <td>0.237969</td>\n",
       "      <td>0.237486</td>\n",
       "      <td>0.405349</td>\n",
       "      <td>0.538379</td>\n",
       "      <td>0.338712</td>\n",
       "      <td>0.222405</td>\n",
       "      <td>0.357382</td>\n",
       "      <td>0.258025</td>\n",
       "      <td>...</td>\n",
       "      <td>0.367293</td>\n",
       "      <td>0.229104</td>\n",
       "      <td>0.288612</td>\n",
       "      <td>0.237341</td>\n",
       "      <td>0.263491</td>\n",
       "      <td>0.195925</td>\n",
       "      <td>0.168532</td>\n",
       "      <td>0.239658</td>\n",
       "      <td>0.418626</td>\n",
       "      <td>0.152673</td>\n",
       "    </tr>\n",
       "    <tr>\n",
       "      <th>4</th>\n",
       "      <td>0.161454</td>\n",
       "      <td>0.146438</td>\n",
       "      <td>0.254341</td>\n",
       "      <td>0.242309</td>\n",
       "      <td>0.409683</td>\n",
       "      <td>0.527853</td>\n",
       "      <td>0.368093</td>\n",
       "      <td>0.223025</td>\n",
       "      <td>0.375256</td>\n",
       "      <td>0.258025</td>\n",
       "      <td>...</td>\n",
       "      <td>0.337071</td>\n",
       "      <td>0.228857</td>\n",
       "      <td>0.318575</td>\n",
       "      <td>0.388545</td>\n",
       "      <td>0.222500</td>\n",
       "      <td>0.182695</td>\n",
       "      <td>0.152963</td>\n",
       "      <td>0.239658</td>\n",
       "      <td>0.318014</td>\n",
       "      <td>0.114861</td>\n",
       "    </tr>\n",
       "    <tr>\n",
       "      <th>...</th>\n",
       "      <td>...</td>\n",
       "      <td>...</td>\n",
       "      <td>...</td>\n",
       "      <td>...</td>\n",
       "      <td>...</td>\n",
       "      <td>...</td>\n",
       "      <td>...</td>\n",
       "      <td>...</td>\n",
       "      <td>...</td>\n",
       "      <td>...</td>\n",
       "      <td>...</td>\n",
       "      <td>...</td>\n",
       "      <td>...</td>\n",
       "      <td>...</td>\n",
       "      <td>...</td>\n",
       "      <td>...</td>\n",
       "      <td>...</td>\n",
       "      <td>...</td>\n",
       "      <td>...</td>\n",
       "      <td>...</td>\n",
       "      <td>...</td>\n",
       "    </tr>\n",
       "    <tr>\n",
       "      <th>3995</th>\n",
       "      <td>0.198364</td>\n",
       "      <td>0.064705</td>\n",
       "      <td>0.315651</td>\n",
       "      <td>0.247710</td>\n",
       "      <td>0.339312</td>\n",
       "      <td>0.341679</td>\n",
       "      <td>0.285097</td>\n",
       "      <td>0.135372</td>\n",
       "      <td>0.260851</td>\n",
       "      <td>0.361350</td>\n",
       "      <td>...</td>\n",
       "      <td>0.382711</td>\n",
       "      <td>0.296772</td>\n",
       "      <td>0.358968</td>\n",
       "      <td>0.358899</td>\n",
       "      <td>0.202688</td>\n",
       "      <td>0.271595</td>\n",
       "      <td>0.162871</td>\n",
       "      <td>0.264239</td>\n",
       "      <td>0.347385</td>\n",
       "      <td>0.365982</td>\n",
       "    </tr>\n",
       "    <tr>\n",
       "      <th>3996</th>\n",
       "      <td>0.226533</td>\n",
       "      <td>0.105131</td>\n",
       "      <td>0.337912</td>\n",
       "      <td>0.264102</td>\n",
       "      <td>0.317401</td>\n",
       "      <td>0.414723</td>\n",
       "      <td>0.303991</td>\n",
       "      <td>0.120068</td>\n",
       "      <td>0.305858</td>\n",
       "      <td>0.405756</td>\n",
       "      <td>...</td>\n",
       "      <td>0.399387</td>\n",
       "      <td>0.287304</td>\n",
       "      <td>0.313947</td>\n",
       "      <td>0.248169</td>\n",
       "      <td>0.244308</td>\n",
       "      <td>0.275027</td>\n",
       "      <td>0.159090</td>\n",
       "      <td>0.267579</td>\n",
       "      <td>0.298683</td>\n",
       "      <td>0.271690</td>\n",
       "    </tr>\n",
       "    <tr>\n",
       "      <th>3997</th>\n",
       "      <td>0.296685</td>\n",
       "      <td>0.120684</td>\n",
       "      <td>0.204237</td>\n",
       "      <td>0.234973</td>\n",
       "      <td>0.435488</td>\n",
       "      <td>0.399197</td>\n",
       "      <td>0.354665</td>\n",
       "      <td>0.139932</td>\n",
       "      <td>0.296808</td>\n",
       "      <td>0.331648</td>\n",
       "      <td>...</td>\n",
       "      <td>0.430084</td>\n",
       "      <td>0.243736</td>\n",
       "      <td>0.290757</td>\n",
       "      <td>0.280232</td>\n",
       "      <td>0.262361</td>\n",
       "      <td>0.179968</td>\n",
       "      <td>0.158551</td>\n",
       "      <td>0.336382</td>\n",
       "      <td>0.310781</td>\n",
       "      <td>0.271690</td>\n",
       "    </tr>\n",
       "    <tr>\n",
       "      <th>3998</th>\n",
       "      <td>0.300635</td>\n",
       "      <td>0.200580</td>\n",
       "      <td>0.204237</td>\n",
       "      <td>0.308578</td>\n",
       "      <td>0.337400</td>\n",
       "      <td>0.358855</td>\n",
       "      <td>0.351904</td>\n",
       "      <td>0.151702</td>\n",
       "      <td>0.296621</td>\n",
       "      <td>0.254438</td>\n",
       "      <td>...</td>\n",
       "      <td>0.438386</td>\n",
       "      <td>0.242251</td>\n",
       "      <td>0.359183</td>\n",
       "      <td>0.401889</td>\n",
       "      <td>0.268010</td>\n",
       "      <td>0.239115</td>\n",
       "      <td>0.149337</td>\n",
       "      <td>0.258058</td>\n",
       "      <td>0.297775</td>\n",
       "      <td>0.267439</td>\n",
       "    </tr>\n",
       "    <tr>\n",
       "      <th>3999</th>\n",
       "      <td>0.238077</td>\n",
       "      <td>0.197034</td>\n",
       "      <td>0.272358</td>\n",
       "      <td>0.313197</td>\n",
       "      <td>0.393860</td>\n",
       "      <td>0.298780</td>\n",
       "      <td>0.444925</td>\n",
       "      <td>0.151702</td>\n",
       "      <td>0.317412</td>\n",
       "      <td>0.285756</td>\n",
       "      <td>...</td>\n",
       "      <td>0.228173</td>\n",
       "      <td>0.284724</td>\n",
       "      <td>0.240770</td>\n",
       "      <td>0.260315</td>\n",
       "      <td>0.282521</td>\n",
       "      <td>0.227418</td>\n",
       "      <td>0.090754</td>\n",
       "      <td>0.228888</td>\n",
       "      <td>0.397537</td>\n",
       "      <td>0.267439</td>\n",
       "    </tr>\n",
       "  </tbody>\n",
       "</table>\n",
       "<p>4000 rows × 10000 columns</p>\n",
       "</div>"
      ],
      "text/plain": [
       "      toybin0000  toybin0001  toybin0002  toybin0003  toybin0004  toybin0005  \\\n",
       "0       0.195856    0.180944    0.273940    0.269786    0.417997    0.352500   \n",
       "1       0.282428    0.153572    0.273940    0.253091    0.384699    0.392137   \n",
       "2       0.164928    0.167737    0.234994    0.219968    0.379782    0.430325   \n",
       "3       0.161454    0.097302    0.237969    0.237486    0.405349    0.538379   \n",
       "4       0.161454    0.146438    0.254341    0.242309    0.409683    0.527853   \n",
       "...          ...         ...         ...         ...         ...         ...   \n",
       "3995    0.198364    0.064705    0.315651    0.247710    0.339312    0.341679   \n",
       "3996    0.226533    0.105131    0.337912    0.264102    0.317401    0.414723   \n",
       "3997    0.296685    0.120684    0.204237    0.234973    0.435488    0.399197   \n",
       "3998    0.300635    0.200580    0.204237    0.308578    0.337400    0.358855   \n",
       "3999    0.238077    0.197034    0.272358    0.313197    0.393860    0.298780   \n",
       "\n",
       "      toybin0006  toybin0007  toybin0008  toybin0009  ...  toybin9990  \\\n",
       "0       0.242260    0.222714    0.316006    0.256378  ...    0.435548   \n",
       "1       0.274383    0.223073    0.341221    0.244016  ...    0.317442   \n",
       "2       0.236363    0.222405    0.353916    0.236717  ...    0.373040   \n",
       "3       0.338712    0.222405    0.357382    0.258025  ...    0.367293   \n",
       "4       0.368093    0.223025    0.375256    0.258025  ...    0.337071   \n",
       "...          ...         ...         ...         ...  ...         ...   \n",
       "3995    0.285097    0.135372    0.260851    0.361350  ...    0.382711   \n",
       "3996    0.303991    0.120068    0.305858    0.405756  ...    0.399387   \n",
       "3997    0.354665    0.139932    0.296808    0.331648  ...    0.430084   \n",
       "3998    0.351904    0.151702    0.296621    0.254438  ...    0.438386   \n",
       "3999    0.444925    0.151702    0.317412    0.285756  ...    0.228173   \n",
       "\n",
       "      toybin9991  toybin9992  toybin9993  toybin9994  toybin9995  toybin9996  \\\n",
       "0       0.280275    0.322280    0.262607    0.126104    0.128008    0.202240   \n",
       "1       0.254013    0.295688    0.327460    0.312719    0.204256    0.197624   \n",
       "2       0.318370    0.305718    0.322419    0.124335    0.204256    0.173404   \n",
       "3       0.229104    0.288612    0.237341    0.263491    0.195925    0.168532   \n",
       "4       0.228857    0.318575    0.388545    0.222500    0.182695    0.152963   \n",
       "...          ...         ...         ...         ...         ...         ...   \n",
       "3995    0.296772    0.358968    0.358899    0.202688    0.271595    0.162871   \n",
       "3996    0.287304    0.313947    0.248169    0.244308    0.275027    0.159090   \n",
       "3997    0.243736    0.290757    0.280232    0.262361    0.179968    0.158551   \n",
       "3998    0.242251    0.359183    0.401889    0.268010    0.239115    0.149337   \n",
       "3999    0.284724    0.240770    0.260315    0.282521    0.227418    0.090754   \n",
       "\n",
       "      toybin9997  toybin9998  toybin9999  \n",
       "0       0.359272    0.308171    0.236027  \n",
       "1       0.364779    0.287638    0.289581  \n",
       "2       0.302082    0.287244    0.321271  \n",
       "3       0.239658    0.418626    0.152673  \n",
       "4       0.239658    0.318014    0.114861  \n",
       "...          ...         ...         ...  \n",
       "3995    0.264239    0.347385    0.365982  \n",
       "3996    0.267579    0.298683    0.271690  \n",
       "3997    0.336382    0.310781    0.271690  \n",
       "3998    0.258058    0.297775    0.267439  \n",
       "3999    0.228888    0.397537    0.267439  \n",
       "\n",
       "[4000 rows x 10000 columns]"
      ]
     },
     "execution_count": 51,
     "metadata": {},
     "output_type": "execute_result"
    }
   ],
   "source": [
    "sigma_df"
   ]
  },
  {
   "cell_type": "code",
   "execution_count": 52,
   "id": "94ec6f79",
   "metadata": {},
   "outputs": [
    {
     "data": {
      "image/png": "[encoded data removed]",
      "text/plain": [
       "<Figure size 432x288 with 1 Axes>"
      ]
     },
     "metadata": {
      "needs_background": "light"
     },
     "output_type": "display_data"
    }
   ],
   "source": [
    "plt.hist(np.abs(diagnostics_df.loc['mcse']/diagnostics_df.loc['sigma_median']),histtype='step',bins=20)\n",
    "plt.xlabel('$\\\\frac{\\Delta M(p(\\Sigma|y))}{M(p(\\Sigma|y)}$')\n",
    "plt.grid(False)\n",
    "plt.savefig('./plots/toyMC_mcse_hist.pdf',format='pdf',dpi=1000,bbox_inches='tight')\n",
    "plt.show()"
   ]
  },
  {
   "cell_type": "code",
   "execution_count": 53,
   "id": "9510a9c1",
   "metadata": {},
   "outputs": [
    {
     "data": {
      "text/plain": [
       "120000"
      ]
     },
     "execution_count": 53,
     "metadata": {},
     "output_type": "execute_result"
    }
   ],
   "source": [
    "pvals=diagnostics_df.loc[[f'pval{i:02d}' for i in range(12)]]\n",
    "len(pvals.values.ravel())"
   ]
  },
  {
   "cell_type": "code",
   "execution_count": 63,
   "id": "0ae1c738",
   "metadata": {},
   "outputs": [],
   "source": [
    "all_sigmas=[]\n",
    "for i in range(len(sigma_df.columns)):\n",
    "    all_sigmas.extend((np.array(sigma_df[f'toybin{i:04d}'].values)-0.3))\n"
   ]
  },
  {
   "cell_type": "code",
   "execution_count": 66,
   "id": "8fd4c203",
   "metadata": {},
   "outputs": [
    {
     "name": "stderr",
     "output_type": "stream",
     "text": [
      "Warning in <TROOT::Append>: Replacing existing TH1: h (Potential memory leak).\n"
     ]
    }
   ],
   "source": [
    "h=r.TH1D(\"h\",\"h\",100,-1,1)\n",
    "for i in range(len(all_sigmas)):\n",
    "    h.Fill(all_sigmas[i])\n"
   ]
  },
  {
   "cell_type": "code",
   "execution_count": 67,
   "id": "386e82b2",
   "metadata": {},
   "outputs": [
    {
     "data": {
      "text/plain": [
       "<cppyy.gbl.TLatex object at 0x5590cf4f51a0>"
      ]
     },
     "execution_count": 67,
     "metadata": {},
     "output_type": "execute_result"
    },
    {
     "name": "stdout",
     "output_type": "stream",
     "text": [
      " FCN=338.439 FROM MIGRAD    STATUS=CONVERGED      61 CALLS          62 TOTAL\n",
      "                     EDM=1.1897e-08    STRATEGY= 1      ERROR MATRIX ACCURATE \n",
      "  EXT PARAMETER                                   STEP         FIRST   \n",
      "  NO.   NAME      VALUE            ERROR          SIZE      DERIVATIVE \n",
      "   1  Constant     4.06205e+06   7.87312e+02   5.74268e+00  -1.65609e-08\n",
      "   2  Mean        -1.38065e-02   1.24230e-05   1.11757e-07  -1.23729e+01\n",
      "   3  Sigma        7.85690e-02   8.80756e-06   4.42173e-07  -1.94889e-02\n"
     ]
    },
    {
     "name": "stderr",
     "output_type": "stream",
     "text": [
      "Warning in <TCanvas::Constructor>: Deleting canvas with same name: c\n"
     ]
    },
    {
     "data": {
      "text/html": [
       "\n",
       "\n",
       "<div id=\"root_plot_1650470008137\"\n",
       "     style=\"width: 696px; height: 472px\">\n",
       "</div>\n",
       "<script>\n",
       "\n",
       "function display_root_plot_1650470008137(Core) {\n",
       "   let obj = Core.parse({\"_typename\":\"TCanvas\",\"fUniqueID\":0,\"fBits\":3342344,\"fLineColor\":1,\"fLineStyle\":1,\"fLineWidth\":1,\"fFillColor\":0,\"fFillStyle\":1001,\"fLeftMargin\":0.1,\"fRightMargin\":0.1,\"fBottomMargin\":0.15,\"fTopMargin\":0.1,\"fXfile\":2,\"fYfile\":2,\"fAfile\":1,\"fXstat\":0.99,\"fYstat\":0.99,\"fAstat\":2,\"fFrameFillColor\":0,\"fFrameLineColor\":1,\"fFrameFillStyle\":1001,\"fFrameLineStyle\":1,\"fFrameLineWidth\":1,\"fFrameBorderSize\":1,\"fFrameBorderMode\":0,\"fX1\":-1.25000001862645,\"fY1\":-852124.593860388,\"fX2\":1.25000001862645,\"fY2\":4828705.8484651,\"fXtoAbsPixelk\":348.00005,\"fXtoPixelk\":348.00005,\"fXtoPixel\":278.399995851517,\"fYtoAbsPixelk\":401.200047714162,\"fYtoPixelk\":401.200047714162,\"fYtoPixel\":-8.30864439261074e-5,\"fUtoAbsPixelk\":5e-5,\"fUtoPixelk\":5e-5,\"fUtoPixel\":696,\"fVtoAbsPixelk\":472.00005,\"fVtoPixelk\":472,\"fVtoPixel\":-472,\"fAbsPixeltoXk\":-1.25000001862645,\"fPixeltoXk\":-1.25000001862645,\"fPixeltoX\":0.00359195407651279,\"fAbsPixeltoYk\":4828705.8484651,\"fPixeltoYk\":-852124.593860388,\"fPixeltoY\":-12035.6577167913,\"fXlowNDC\":0,\"fYlowNDC\":0,\"fXUpNDC\":1,\"fYUpNDC\":1,\"fWNDC\":1,\"fHNDC\":1,\"fAbsXlowNDC\":0,\"fAbsYlowNDC\":0,\"fAbsWNDC\":1,\"fAbsHNDC\":1,\"fUxmin\":-1,\"fUymin\":0,\"fUxmax\":1,\"fUymax\":4260622.8,\"fTheta\":30,\"fPhi\":30,\"fAspectRatio\":0,\"fNumber\":0,\"fTickx\":0,\"fTicky\":0,\"fLogx\":0,\"fLogy\":0,\"fLogz\":0,\"fPadPaint\":0,\"fCrosshair\":0,\"fCrosshairPos\":0,\"fBorderSize\":2,\"fBorderMode\":0,\"fModified\":true,\"fGridx\":false,\"fGridy\":false,\"fAbsCoord\":false,\"fEditable\":true,\"fFixedAspectRatio\":false,\"fPrimitives\":{\"_typename\":\"TList\",\"name\":\"TList\",\"arr\":[{\"_typename\":\"TFrame\",\"fUniqueID\":0,\"fBits\":8,\"fLineColor\":1,\"fLineStyle\":1,\"fLineWidth\":1,\"fFillColor\":0,\"fFillStyle\":1001,\"fX1\":-1,\"fY1\":0,\"fX2\":1,\"fY2\":4260622.8,\"fBorderSize\":1,\"fBorderMode\":0},{\"_typename\":\"TH1D\",\"fUniqueID\":0,\"fBits\":520,\"fName\":\"h\",\"fTitle\":\"\",\"fLineColor\":602,\"fLineStyle\":1,\"fLineWidth\":1,\"fFillColor\":0,\"fFillStyle\":1001,\"fMarkerColor\":1,\"fMarkerStyle\":1,\"fMarkerSize\":1,\"fNcells\":102,\"fXaxis\":{\"_typename\":\"TAxis\",\"fUniqueID\":0,\"fBits\":0,\"fName\":\"xaxis\",\"fTitle\":\"#font[132]{p(#Sigma|D_{#it{i}})}\",\"fNdivisions\":510,\"fAxisColor\":1,\"fLabelColor\":1,\"fLabelFont\":132,\"fLabelOffset\":0.005,\"fLabelSize\":0.035,\"fTickLength\":0.03,\"fTitleOffset\":1.5,\"fTitleSize\":0.035,\"fTitleColor\":1,\"fTitleFont\":42,\"fNbins\":100,\"fXmin\":-1,\"fXmax\":1,\"fXbins\":[],\"fFirst\":0,\"fLast\":0,\"fBits2\":0,\"fTimeDisplay\":false,\"fTimeFormat\":\"\",\"fLabels\":null,\"fModLabs\":null},\"fYaxis\":{\"_typename\":\"TAxis\",\"fUniqueID\":0,\"fBits\":0,\"fName\":\"yaxis\",\"fTitle\":\"#font[132]{counts}\",\"fNdivisions\":0,\"fAxisColor\":1,\"fLabelColor\":1,\"fLabelFont\":132,\"fLabelOffset\":0.005,\"fLabelSize\":0,\"fTickLength\":0.03,\"fTitleOffset\":0,\"fTitleSize\":0.035,\"fTitleColor\":1,\"fTitleFont\":42,\"fNbins\":1,\"fXmin\":0,\"fXmax\":1,\"fXbins\":[],\"fFirst\":0,\"fLast\":0,\"fBits2\":0,\"fTimeDisplay\":false,\"fTimeFormat\":\"\",\"fLabels\":null,\"fModLabs\":null},\"fZaxis\":{\"_typename\":\"TAxis\",\"fUniqueID\":0,\"fBits\":0,\"fName\":\"zaxis\",\"fTitle\":\"\",\"fNdivisions\":510,\"fAxisColor\":1,\"fLabelColor\":1,\"fLabelFont\":42,\"fLabelOffset\":0.005,\"fLabelSize\":0.035,\"fTickLength\":0.03,\"fTitleOffset\":1,\"fTitleSize\":0.035,\"fTitleColor\":1,\"fTitleFont\":42,\"fNbins\":1,\"fXmin\":0,\"fXmax\":1,\"fXbins\":[],\"fFirst\":0,\"fLast\":0,\"fBits2\":0,\"fTimeDisplay\":false,\"fTimeFormat\":\"\",\"fLabels\":null,\"fModLabs\":null},\"fBarOffset\":0,\"fBarWidth\":1000,\"fEntries\":40000000,\"fTsumw\":40000000,\"fTsumw2\":40000000,\"fTsumwx\":-552213.488108653,\"fTsumwx2\":253220.697748596,\"fMaximum\":-1111,\"fMinimum\":-1111,\"fNormFactor\":0,\"fContour\":[],\"fSumw2\":[],\"fOption\":\"\",\"fFunctions\":{\"_typename\":\"TList\",\"name\":\"TList\",\"arr\":[{\"_typename\":\"TF1\",\"fUniqueID\":0,\"fBits\":1024,\"fName\":\"f\",\"fTitle\":\"gaus\",\"fLineColor\":2,\"fLineStyle\":1,\"fLineWidth\":2,\"fFillColor\":19,\"fFillStyle\":0,\"fMarkerColor\":1,\"fMarkerStyle\":1,\"fMarkerSize\":1,\"fXmin\":-1,\"fXmax\":1,\"fNpar\":3,\"fNdim\":1,\"fNpx\":100,\"fType\":0,\"fNpfits\":45,\"fNDF\":42,\"fChisquare\":338.438772497086,\"fMinimum\":-1111,\"fMaximum\":-1111,\"fParErrors\":[787.311510566378,1.24229951218657e-5,8.80756262396781e-6],\"fParMin\":[0,0,0],\"fParMax\":[0,0,0.785711472039335],\"fSave\":{\"$arr\":\"Float64\",\"len\":103,\"v\":[2.49414059732805e-28,5.89497003941442e-27,1.30587352795581e-25,2.71131189501398e-24,5.2761445566942e-23,9.62304989708908e-22,1.64500656209093e-20,2.63561139805048e-19,3.95780109771728e-18,5.57038736992581e-17,7.34811044970733e-16,9.08499722432689e-15,1.05276822295249e-13,1.14340366913981e-12,1.16392565439595e-11,1.11047745307554e-10,9.93008794610923e-10,8.32252847675985e-9,6.53756966944204e-8,4.81322557435745e-7,3.32135231662219e-6,2.1480902427576e-5,1.30211380626992e-4,7.39782766949117e-4,0.0039392933432355,0.0196603515510847,0.0919651072508504,0.40319369236711,1.65677381587902,6.38074752086953,23.0323761135031,77.9228399972259,247.086857828451,734.333541946905,2045.48326325888,5340.19775806524,13067.0512716088,29967.9265416851,64416.1316892954,129775.117842164,245045.689845976,433672.166312522,719341.102272632,1118322.46200695,1629513.88407603,2225399.20017147,2848502.69931881,3417308.51188826,3842470.89485576,4049448.03403456,3999815.1302673,3702907.41127147,3212954.92090585,2612914.84840571,1991611.96492182,1422797.33098501,952664.983033566,597855.47103047,351650.353873085,193858.458469914,100165.300077664,48507.4766344654,22017.0391741412,9366.29845582122,3734.52967656305,1395.60553343639,488.819244842412,160.469594101681,49.3737436319278,14.2383022060793,3.84839109168678,0.974897687120405,0.23147160590989,0.0515104394091155,0.0107436445110435,0.00210022996409025,3.84805185685751e-4,6.60805770793934e-5,1.063568786615e-5,1.60441304629657e-6,2.26843130261005e-7,3.00603424393665e-8,3.73354216970493e-9,4.34617334112187e-10,4.74189432610455e-11,4.84903752022272e-12,4.64748570852073e-13,4.17483606570674e-14,3.51495391688046e-15,2.77369491118569e-16,2.05142946560719e-17,1.42204498116776e-18,9.23908417585446e-20,5.62604704194746e-21,3.21097289621943e-22,1.71762663293809e-23,8.61151845347996e-25,4.04659325128391e-26,1.78220728468549e-27,7.35674531504634e-29,2.84624364199283e-30,-1,1]},\"fNormalized\":false,\"fNormIntegral\":0,\"fFormula\":{\"_typename\":\"TFormula\",\"fUniqueID\":0,\"fBits\":1024,\"fName\":\"f\",\"fTitle\":\"gaus\",\"fClingParameters\":[4062049.35215677,-0.0138064615784611,0.0785689943234],\"fAllParametersSetted\":true,\"fParams\":[{\"$pair\":\"pair<TString,int,TFormulaParamOrder>\",\"first\":\"Constant\",\"second\":0},{\"$pair\":\"pair<TString,int,TFormulaParamOrder>\",\"first\":\"Mean\",\"second\":1},{\"$pair\":\"pair<TString,int,TFormulaParamOrder>\",\"first\":\"Sigma\",\"second\":2}],\"fFormula\":\"[Constant]*exp(-0.5*((x-[Mean])\\/[Sigma])*((x-[Mean])\\/[Sigma]))\",\"fNdim\":1,\"fLinearParts\":[],\"fVectorized\":false},\"fParams\":null,\"fComposition\":null}],\"opt\":[\"\"]},\"fBufferSize\":0,\"fBuffer\":[],\"fBinStatErrOpt\":0,\"fStatOverflows\":2,\"fArray\":{\"$arr\":\"Float64\",\"len\":102,\"p\":29,\"v\":[4,13,42,130,431,1196,3392,8395,20445,44812,92778,180151,330439,563445,906519,1361362,1917999,2531972,3138539,3646250,3973213,4057736,3888089,3486291,2928743,2303075,1697346,1171448,758037,459179,260828,139396,69924,32968,15050,6350,2503,987,353,129,28,7,2,1,3]}},{\"_typename\":\"TLatex\",\"fUniqueID\":0,\"fBits\":9,\"fName\":\"\",\"fTitle\":\"#color[2]{#font[132]{#mu=-0.0138#pm0.0000, #sigma=0.0786#pm0.0000}}\",\"fTextAngle\":0,\"fTextSize\":0.05,\"fTextAlign\":22,\"fTextColor\":1,\"fTextFont\":62,\"fX\":0,\"fY\":5000,\"fLineColor\":1,\"fLineStyle\":1,\"fLineWidth\":2,\"fLimitFactorSize\":3,\"fOriginSize\":0.04},{\"_typename\":\"TStyle\",\"fUniqueID\":0,\"fBits\":0,\"fName\":\"Modern\",\"fTitle\":\"Modern Style\",\"fLineColor\":1,\"fLineStyle\":1,\"fLineWidth\":1,\"fFillColor\":19,\"fFillStyle\":1001,\"fMarkerColor\":1,\"fMarkerStyle\":1,\"fMarkerSize\":1,\"fTextAngle\":0,\"fTextSize\":0.05,\"fTextAlign\":11,\"fTextColor\":1,\"fTextFont\":62,\"fXaxis\":{\"_typename\":\"TAttAxis\",\"fNdivisions\":510,\"fAxisColor\":1,\"fLabelColor\":1,\"fLabelFont\":42,\"fLabelOffset\":0.005,\"fLabelSize\":0.035,\"fTickLength\":0.03,\"fTitleOffset\":1,\"fTitleSize\":0.035,\"fTitleColor\":1,\"fTitleFont\":42},\"fYaxis\":{\"_typename\":\"TAttAxis\",\"fNdivisions\":510,\"fAxisColor\":1,\"fLabelColor\":1,\"fLabelFont\":42,\"fLabelOffset\":0.005,\"fLabelSize\":0.035,\"fTickLength\":0.03,\"fTitleOffset\":0,\"fTitleSize\":0.035,\"fTitleColor\":1,\"fTitleFont\":42},\"fZaxis\":{\"_typename\":\"TAttAxis\",\"fNdivisions\":510,\"fAxisColor\":1,\"fLabelColor\":1,\"fLabelFont\":42,\"fLabelOffset\":0.005,\"fLabelSize\":0.035,\"fTickLength\":0.03,\"fTitleOffset\":1,\"fTitleSize\":0.035,\"fTitleColor\":1,\"fTitleFont\":42},\"fBarWidth\":1,\"fBarOffset\":0,\"fColorModelPS\":0,\"fDrawBorder\":0,\"fOptLogx\":0,\"fOptLogy\":0,\"fOptLogz\":0,\"fOptDate\":0,\"fOptStat\":0,\"fOptTitle\":1,\"fOptFile\":0,\"fOptFit\":0,\"fShowEventStatus\":0,\"fShowEditor\":0,\"fShowToolBar\":0,\"fNumberContours\":20,\"fAttDate\":{\"_typename\":\"TAttText\",\"fTextAngle\":0,\"fTextSize\":0.025,\"fTextAlign\":11,\"fTextColor\":1,\"fTextFont\":62},\"fDateX\":0.01,\"fDateY\":0.01,\"fEndErrorSize\":2,\"fErrorX\":0.5,\"fFuncColor\":2,\"fFuncStyle\":1,\"fFuncWidth\":2,\"fGridColor\":0,\"fGridStyle\":3,\"fGridWidth\":1,\"fLegendBorderSize\":1,\"fLegendFillColor\":0,\"fLegendFont\":42,\"fLegendTextSize\":0,\"fHatchesLineWidth\":1,\"fHatchesSpacing\":1,\"fFrameFillColor\":0,\"fFrameLineColor\":1,\"fFrameFillStyle\":1001,\"fFrameLineStyle\":1,\"fFrameLineWidth\":1,\"fFrameBorderSize\":1,\"fFrameBorderMode\":0,\"fHistFillColor\":0,\"fHistLineColor\":602,\"fHistFillStyle\":1001,\"fHistLineStyle\":1,\"fHistLineWidth\":1,\"fHistMinimumZero\":false,\"fHistTopMargin\":0.05,\"fCanvasPreferGL\":false,\"fCanvasColor\":0,\"fCanvasBorderSize\":2,\"fCanvasBorderMode\":0,\"fCanvasDefH\":500,\"fCanvasDefW\":700,\"fCanvasDefX\":10,\"fCanvasDefY\":10,\"fPadColor\":0,\"fPadBorderSize\":2,\"fPadBorderMode\":0,\"fPadBottomMargin\":0.1,\"fPadTopMargin\":0.1,\"fPadLeftMargin\":0.1,\"fPadRightMargin\":0.1,\"fPadGridX\":false,\"fPadGridY\":false,\"fPadTickX\":0,\"fPadTickY\":0,\"fPaperSizeX\":20,\"fPaperSizeY\":26,\"fScreenFactor\":1,\"fStatColor\":0,\"fStatTextColor\":1,\"fStatBorderSize\":1,\"fStatFont\":42,\"fStatFontSize\":0,\"fStatStyle\":1001,\"fStatFormat\":\"6.4g\",\"fStatX\":0.98,\"fStatY\":0.935,\"fStatW\":0.2,\"fStatH\":0.16,\"fStripDecimals\":true,\"fTitleAlign\":23,\"fTitleColor\":0,\"fTitleTextColor\":1,\"fTitleBorderSize\":0,\"fTitleFont\":42,\"fTitleFontSize\":0.05,\"fTitleStyle\":0,\"fTitleX\":0.5,\"fTitleY\":0.995,\"fTitleW\":0,\"fTitleH\":0,\"fLegoInnerR\":0.5,\"fLineStyles\":[\"\",\"  \",\" 12 12\",\" 4 8\",\" 12 16 4 16\",\" 20 12 4 12\",\" 20 12 4 12 4 12 4 12\",\" 20 20\",\" 20 12 4 12 4 12\",\" 80 20\",\" 80 40 4 40\",\"  \",\"  \",\"  \",\"  \",\"  \",\"  \",\"  \",\"  \",\"  \",\"  \",\"  \",\"  \",\"  \",\"  \",\"  \",\"  \",\"  \",\"  \",\"  \"],\"fHeaderPS\":\"\",\"fTitlePS\":\"\",\"fFitFormat\":\"5.4g\",\"fPaintTextFormat\":\"g\",\"fLineScalePS\":3,\"fJoinLinePS\":0,\"fCapLinePS\":0,\"fTimeOffset\":788918400,\"fImageScaling\":1}],\"opt\":[\"\",\"\",\"\",\"\"]},\"fExecs\":null,\"fName\":\"c\",\"fTitle\":\"c\",\"fNumPaletteColor\":0,\"fNextPaletteColor\":0,\"fDISPLAY\":\"$DISPLAY\",\"fDoubleBuffer\":0,\"fRetained\":true,\"fXsizeUser\":0,\"fYsizeUser\":0,\"fXsizeReal\":20,\"fYsizeReal\":14.28571,\"fWindowTopX\":0,\"fWindowTopY\":0,\"fWindowWidth\":0,\"fWindowHeight\":0,\"fCw\":696,\"fCh\":472,\"fCatt\":{\"_typename\":\"TAttCanvas\",\"fXBetween\":2,\"fYBetween\":2,\"fTitleFromTop\":1.2,\"fXdate\":0.2,\"fYdate\":0.3,\"fAdate\":1},\"kMoveOpaque\":true,\"kResizeOpaque\":true,\"fHighLightColor\":2,\"fBatch\":true,\"kShowEventStatus\":false,\"kAutoExec\":true,\"kMenuBar\":true});\n",
       "   Core.settings.HandleKeys = false;\n",
       "   Core.draw(\"root_plot_1650470008137\", obj, \"\");\n",
       "}\n",
       "\n",
       "function script_load_root_plot_1650470008137(src, on_error) {\n",
       "    let script = document.createElement('script');\n",
       "    script.src = src;\n",
       "    script.onload = function() { display_root_plot_1650470008137(JSROOT); };\n",
       "    script.onerror = function() { script.remove(); on_error(); };\n",
       "    document.head.appendChild(script);\n",
       "}\n",
       "\n",
       "if (typeof requirejs !== 'undefined') {\n",
       "\n",
       "    // We are in jupyter notebooks, use require.js which should be configured already\n",
       "    requirejs.config({\n",
       "       paths: { 'JSRootCore' : [ 'scripts/JSRoot.core', 'https://root.cern/js/6.1.1/scripts/JSRoot.core.min', 'https://jsroot.gsi.de/6.1.1/scripts/JSRoot.core.min' ] }\n",
       "    })(['JSRootCore'],  function(Core) {\n",
       "       display_root_plot_1650470008137(Core);\n",
       "    });\n",
       "\n",
       "} else if (typeof JSROOT !== 'undefined') {\n",
       "\n",
       "   // JSROOT already loaded, just use it\n",
       "   display_root_plot_1650470008137(JSROOT);\n",
       "\n",
       "} else {\n",
       "\n",
       "    // We are in jupyterlab without require.js, directly loading jsroot\n",
       "    // Jupyterlab might be installed in a different base_url so we need to know it.\n",
       "    try {\n",
       "        var base_url = JSON.parse(document.getElementById('jupyter-config-data').innerHTML).baseUrl;\n",
       "    } catch(_) {\n",
       "        var base_url = '/';\n",
       "    }\n",
       "\n",
       "    // Try loading a local version of requirejs and fallback to cdn if not possible.\n",
       "    script_load_root_plot_1650470008137(base_url + 'static/scripts/JSRoot.core.js', function(){\n",
       "        console.error('Fail to load JSROOT locally, please check your jupyter_notebook_config.py file');\n",
       "        script_load_root_plot_1650470008137('https://root.cern/js/6.1.1/scripts/JSRoot.core.min.js', function(){\n",
       "            document.getElementById(\"root_plot_1650470008137\").innerHTML = \"Failed to load JSROOT\";\n",
       "        });\n",
       "    });\n",
       "}\n",
       "\n",
       "</script>\n"
      ],
      "text/plain": [
       "<IPython.core.display.HTML object>"
      ]
     },
     "metadata": {},
     "output_type": "display_data"
    }
   ],
   "source": [
    "c=r.TCanvas(\"c\",\"c\")\n",
    "c.Draw(\"\")\n",
    "c.SetBottomMargin(0.15)\n",
    "h.Draw(\"\")\n",
    "h.GetXaxis().SetLabelFont(132)\n",
    "h.GetYaxis().SetLabelFont(132)\n",
    "h.GetYaxis().SetTitle(\"#font[132]{counts}\")\n",
    "#h.GetXaxis().SetTitle(\"#font[132]{#frac{p(#Sigma|D_{#it{i}})-#Sigma_{true}}{std(p(#Sigma|D_{#it{i}}))}}\")\n",
    "h.GetXaxis().SetTitle(\"#font[132]{p(#Sigma|D_{#it{i}})}\")\n",
    "h.SetTitle(\"\")\n",
    "h.GetYaxis().SetNdivisions(0)\n",
    "h.GetYaxis().SetLabelSize(0)\n",
    "r.gStyle.SetOptStat(0)\n",
    "h.GetXaxis().SetTitleOffset(1.5)\n",
    "f=r.TF1(\"f\",\"gaus\",-5,5)\n",
    "h.Fit(f,\"S\")\n",
    "t=r.TLatex()\n",
    "t.SetTextAlign(22)\n",
    "mu = f.GetParameter(1)\n",
    "mu_err = f.GetParError(1)\n",
    "sigma=f.GetParameter(2)\n",
    "sigma_err=f.GetParError(2)\n",
    "t.DrawLatex(0,5e3,f\"#color[2]{{#font[132]{{#mu={mu:.4f}#pm{mu_err:.4f}, #sigma={sigma:.4f}#pm{sigma_err:.4f}}}}}\")"
   ]
  },
  {
   "cell_type": "code",
   "execution_count": 36,
   "id": "6175eb23",
   "metadata": {},
   "outputs": [],
   "source": [
    "sigma_chi2_df=pd.read_csv('./sigma_chi2.csv',index_col=0).join(pd.read_csv('./sigma_chi2_1.csv',index_col=0))\n"
   ]
  },
  {
   "cell_type": "code",
   "execution_count": 37,
   "id": "e66f53eb",
   "metadata": {},
   "outputs": [
    {
     "name": "stderr",
     "output_type": "stream",
     "text": [
      "Warning in <TROOT::Append>: Replacing existing TH1: h1 (Potential memory leak).\n"
     ]
    }
   ],
   "source": [
    "h1=r.TH1D(\"h1\",\"h1\",25,-5,5)\n",
    "for i in range(len(sigma_chi2_df.columns)):\n",
    "    h1.Fill((sigma_chi2_df[f'toybin{i:04d}']['sigma']-0.3)/sigma_chi2_df[f'toybin{i:04d}']['error'])"
   ]
  },
  {
   "cell_type": "code",
   "execution_count": 38,
   "id": "a099af69",
   "metadata": {},
   "outputs": [
    {
     "data": {
      "text/plain": [
       "<cppyy.gbl.TFitResultPtr object at 0x5590ba9532f0>"
      ]
     },
     "execution_count": 38,
     "metadata": {},
     "output_type": "execute_result"
    },
    {
     "name": "stdout",
     "output_type": "stream",
     "text": [
      " FCN=73.7807 FROM MIGRAD    STATUS=CONVERGED      60 CALLS          61 TOTAL\n",
      "                     EDM=2.89406e-10    STRATEGY= 1      ERROR MATRIX ACCURATE \n",
      "  EXT PARAMETER                                   STEP         FIRST   \n",
      "  NO.   NAME      VALUE            ERROR          SIZE      DERIVATIVE \n",
      "   1  Constant     1.38272e+03   1.80258e+01   5.86252e-02  -5.95467e-07\n",
      "   2  Mean        -7.81613e-02   1.14969e-02   4.85453e-05  -1.96489e-03\n",
      "   3  Sigma        1.14467e+00   9.52072e-03   8.89506e-06  -2.68460e-03\n"
     ]
    },
    {
     "name": "stderr",
     "output_type": "stream",
     "text": [
      "Warning in <TCanvas::Constructor>: Deleting canvas with same name: c1\n"
     ]
    },
    {
     "data": {
      "text/html": [
       "\n",
       "\n",
       "<div id=\"root_plot_1650463790217\"\n",
       "     style=\"width: 696px; height: 472px\">\n",
       "</div>\n",
       "<script>\n",
       "\n",
       "function display_root_plot_1650463790217(Core) {\n",
       "   let obj = Core.parse({\"_typename\":\"TCanvas\",\"fUniqueID\":0,\"fBits\":3342344,\"fLineColor\":1,\"fLineStyle\":1,\"fLineWidth\":1,\"fFillColor\":0,\"fFillStyle\":1001,\"fLeftMargin\":0.1,\"fRightMargin\":0.1,\"fBottomMargin\":0.15,\"fTopMargin\":0.1,\"fXfile\":2,\"fYfile\":2,\"fAfile\":1,\"fXstat\":0.99,\"fYstat\":0.99,\"fAstat\":2,\"fFrameFillColor\":0,\"fFrameLineColor\":1,\"fFrameFillStyle\":1001,\"fFrameLineStyle\":1,\"fFrameLineWidth\":1,\"fFrameBorderSize\":1,\"fFrameBorderMode\":0,\"fX1\":0,\"fY1\":0,\"fX2\":1,\"fY2\":1,\"fXtoAbsPixelk\":5e-5,\"fXtoPixelk\":5e-5,\"fXtoPixel\":696,\"fYtoAbsPixelk\":472.00005,\"fYtoPixelk\":472.00005,\"fYtoPixel\":-472,\"fUtoAbsPixelk\":5e-5,\"fUtoPixelk\":5e-5,\"fUtoPixel\":696,\"fVtoAbsPixelk\":472.00005,\"fVtoPixelk\":472,\"fVtoPixel\":-472,\"fAbsPixeltoXk\":0,\"fPixeltoXk\":0,\"fPixeltoX\":0.0014367816091954,\"fAbsPixeltoYk\":1,\"fPixeltoYk\":0,\"fPixeltoY\":-0.00211864406779661,\"fXlowNDC\":0,\"fYlowNDC\":0,\"fXUpNDC\":1,\"fYUpNDC\":1,\"fWNDC\":1,\"fHNDC\":1,\"fAbsXlowNDC\":0,\"fAbsYlowNDC\":0,\"fAbsWNDC\":1,\"fAbsHNDC\":1,\"fUxmin\":0,\"fUymin\":0,\"fUxmax\":1,\"fUymax\":1,\"fTheta\":30,\"fPhi\":30,\"fAspectRatio\":0,\"fNumber\":0,\"fTickx\":0,\"fTicky\":0,\"fLogx\":0,\"fLogy\":0,\"fLogz\":0,\"fPadPaint\":0,\"fCrosshair\":0,\"fCrosshairPos\":0,\"fBorderSize\":2,\"fBorderMode\":0,\"fModified\":true,\"fGridx\":false,\"fGridy\":false,\"fAbsCoord\":false,\"fEditable\":true,\"fFixedAspectRatio\":false,\"fPrimitives\":{\"_typename\":\"TList\",\"name\":\"TList\",\"arr\":[{\"_typename\":\"TH1D\",\"fUniqueID\":0,\"fBits\":520,\"fName\":\"h1\",\"fTitle\":\"h1\",\"fLineColor\":602,\"fLineStyle\":1,\"fLineWidth\":1,\"fFillColor\":0,\"fFillStyle\":1001,\"fMarkerColor\":1,\"fMarkerStyle\":1,\"fMarkerSize\":1,\"fNcells\":27,\"fXaxis\":{\"_typename\":\"TAxis\",\"fUniqueID\":0,\"fBits\":0,\"fName\":\"xaxis\",\"fTitle\":\"\",\"fNdivisions\":510,\"fAxisColor\":1,\"fLabelColor\":1,\"fLabelFont\":42,\"fLabelOffset\":0.005,\"fLabelSize\":0.035,\"fTickLength\":0.03,\"fTitleOffset\":1,\"fTitleSize\":0.035,\"fTitleColor\":1,\"fTitleFont\":42,\"fNbins\":25,\"fXmin\":-5,\"fXmax\":5,\"fXbins\":[],\"fFirst\":0,\"fLast\":0,\"fBits2\":0,\"fTimeDisplay\":false,\"fTimeFormat\":\"\",\"fLabels\":null,\"fModLabs\":null},\"fYaxis\":{\"_typename\":\"TAxis\",\"fUniqueID\":0,\"fBits\":0,\"fName\":\"yaxis\",\"fTitle\":\"\",\"fNdivisions\":510,\"fAxisColor\":1,\"fLabelColor\":1,\"fLabelFont\":42,\"fLabelOffset\":0.005,\"fLabelSize\":0.035,\"fTickLength\":0.03,\"fTitleOffset\":0,\"fTitleSize\":0.035,\"fTitleColor\":1,\"fTitleFont\":42,\"fNbins\":1,\"fXmin\":0,\"fXmax\":1,\"fXbins\":[],\"fFirst\":0,\"fLast\":0,\"fBits2\":0,\"fTimeDisplay\":false,\"fTimeFormat\":\"\",\"fLabels\":null,\"fModLabs\":null},\"fZaxis\":{\"_typename\":\"TAxis\",\"fUniqueID\":0,\"fBits\":0,\"fName\":\"zaxis\",\"fTitle\":\"\",\"fNdivisions\":510,\"fAxisColor\":1,\"fLabelColor\":1,\"fLabelFont\":42,\"fLabelOffset\":0.005,\"fLabelSize\":0.035,\"fTickLength\":0.03,\"fTitleOffset\":1,\"fTitleSize\":0.035,\"fTitleColor\":1,\"fTitleFont\":42,\"fNbins\":1,\"fXmin\":0,\"fXmax\":1,\"fXbins\":[],\"fFirst\":0,\"fLast\":0,\"fBits2\":0,\"fTimeDisplay\":false,\"fTimeFormat\":\"\",\"fLabels\":null,\"fModLabs\":null},\"fBarOffset\":0,\"fBarWidth\":1000,\"fEntries\":10000,\"fTsumw\":9992,\"fTsumw2\":9992,\"fTsumwx\":-842.369423749296,\"fTsumwx2\":13695.9181708015,\"fMaximum\":-1111,\"fMinimum\":-1111,\"fNormFactor\":0,\"fContour\":[],\"fSumw2\":[],\"fOption\":\"\",\"fFunctions\":{\"_typename\":\"TList\",\"name\":\"TList\",\"arr\":[{\"_typename\":\"TF1\",\"fUniqueID\":0,\"fBits\":1024,\"fName\":\"gaus\",\"fTitle\":\"gaus\",\"fLineColor\":2,\"fLineStyle\":1,\"fLineWidth\":2,\"fFillColor\":19,\"fFillStyle\":0,\"fMarkerColor\":1,\"fMarkerStyle\":1,\"fMarkerSize\":1,\"fXmin\":-5,\"fXmax\":5,\"fNpar\":3,\"fNdim\":1,\"fNpx\":100,\"fType\":0,\"fNpfits\":24,\"fNDF\":21,\"fChisquare\":73.7806719991291,\"fMinimum\":-1111,\"fMaximum\":-1111,\"fParErrors\":[18.0258050992897,0.0114968706924304,0.00952072193383158],\"fParMin\":[0,0,0],\"fParMax\":[0,0,11.7311829722781],\"fSave\":{\"$arr\":\"Float64\",\"len\":103,\"v\":[0.133686683839215,0.193895146566168,0.279081591726656,0.398640032473782,0.565088010627791,0.794944377138596,1.10979523503764,1.53756836550112,2.11403162364463,2.88452288826403,3.90590759278174,5.24874416293065,6.9996175310791,9.26357625796717,12.1665800252763,15.8578322098783,20.5118383310615,26.3299974262087,33.5415025515096,42.4033019045699,53.1988572654674,66.2354355323816,81.83968600246,100.351294182669,122.11456487953,147.467874318127,176.731042473996,210.190809871387,248.084752578886,290.584127298774,337.776295268874,389.647517278117,446.067029394145,506.773386783623,571.364089015892,639.289464449075,709.851687146876,782.209625273279,855.389978449874,928.304862310295,999.775656309272,1068.56256563772,1133.39898359297,1193.02940283819,1246.24933864582,1291.94551832498,1329.13447812857,1356.99770530426,1374.91157412566,1382.47054765824,1379.50243993975,1366.07493647453,1342.4930282219,1309.28749492563,1267.19504507429,1217.13115015722,1160.15697172614,1097.44204831039,1030.22457010757,959.771115698067,887.337658649982,814.133482837002,741.289390611192,669.831269897729,600.659730148978,534.536149107151,472.075117382428,413.742947707867,359.861647558017,310.617549316479,266.073657242296,226.184705396145,190.813920760688,159.750542364721,132.727248857032,109.436780717704,89.5471958846201,72.7153565087646,58.598398916805,46.8630798867674,37.193013709612,29.2939123781491,22.8970140930606,17.7609335715553,13.6721934201885,10.4447022206679,7.91843574579757,5.95755686657838,4.4481811081017,3.29596196461304,2.42363595432504,1.76863431570441,1.2808379088798,0.92052537341779,0.656542463221579,0.464702856166826,0.326417420564376,0.227539490139005,0.157407600232597,0.108063761501253,0.073624088026261,-5,5]},\"fNormalized\":false,\"fNormIntegral\":0,\"fFormula\":{\"_typename\":\"TFormula\",\"fUniqueID\":0,\"fBits\":1024,\"fName\":\"gaus\",\"fTitle\":\"gaus\",\"fClingParameters\":[1382.72217551099,-0.0781612630618082,1.14467149385338],\"fAllParametersSetted\":true,\"fParams\":[{\"$pair\":\"pair<TString,int,TFormulaParamOrder>\",\"first\":\"Constant\",\"second\":0},{\"$pair\":\"pair<TString,int,TFormulaParamOrder>\",\"first\":\"Mean\",\"second\":1},{\"$pair\":\"pair<TString,int,TFormulaParamOrder>\",\"first\":\"Sigma\",\"second\":2}],\"fFormula\":\"[Constant]*exp(-0.5*((x-[Mean])\\/[Sigma])*((x-[Mean])\\/[Sigma]))\",\"fNdim\":1,\"fLinearParts\":[],\"fVectorized\":false},\"fParams\":null,\"fComposition\":null}],\"opt\":[\"\"]},\"fBufferSize\":0,\"fBuffer\":[],\"fBinStatErrOpt\":0,\"fStatOverflows\":2,\"fArray\":{\"$arr\":\"Float64\",\"len\":27,\"v\":[5,2,6,17,26,52,88,158,312,554,804,1160,1392,1422,1315,1027,708,417,271,126,70,31,23,5,6,0,3]}},{\"_typename\":\"TStyle\",\"fUniqueID\":0,\"fBits\":0,\"fName\":\"Modern\",\"fTitle\":\"Modern Style\",\"fLineColor\":1,\"fLineStyle\":1,\"fLineWidth\":1,\"fFillColor\":19,\"fFillStyle\":1001,\"fMarkerColor\":1,\"fMarkerStyle\":1,\"fMarkerSize\":1,\"fTextAngle\":0,\"fTextSize\":0.05,\"fTextAlign\":11,\"fTextColor\":1,\"fTextFont\":62,\"fXaxis\":{\"_typename\":\"TAttAxis\",\"fNdivisions\":510,\"fAxisColor\":1,\"fLabelColor\":1,\"fLabelFont\":42,\"fLabelOffset\":0.005,\"fLabelSize\":0.035,\"fTickLength\":0.03,\"fTitleOffset\":1,\"fTitleSize\":0.035,\"fTitleColor\":1,\"fTitleFont\":42},\"fYaxis\":{\"_typename\":\"TAttAxis\",\"fNdivisions\":510,\"fAxisColor\":1,\"fLabelColor\":1,\"fLabelFont\":42,\"fLabelOffset\":0.005,\"fLabelSize\":0.035,\"fTickLength\":0.03,\"fTitleOffset\":0,\"fTitleSize\":0.035,\"fTitleColor\":1,\"fTitleFont\":42},\"fZaxis\":{\"_typename\":\"TAttAxis\",\"fNdivisions\":510,\"fAxisColor\":1,\"fLabelColor\":1,\"fLabelFont\":42,\"fLabelOffset\":0.005,\"fLabelSize\":0.035,\"fTickLength\":0.03,\"fTitleOffset\":1,\"fTitleSize\":0.035,\"fTitleColor\":1,\"fTitleFont\":42},\"fBarWidth\":1,\"fBarOffset\":0,\"fColorModelPS\":0,\"fDrawBorder\":0,\"fOptLogx\":0,\"fOptLogy\":0,\"fOptLogz\":0,\"fOptDate\":0,\"fOptStat\":0,\"fOptTitle\":1,\"fOptFile\":0,\"fOptFit\":0,\"fShowEventStatus\":0,\"fShowEditor\":0,\"fShowToolBar\":0,\"fNumberContours\":20,\"fAttDate\":{\"_typename\":\"TAttText\",\"fTextAngle\":0,\"fTextSize\":0.025,\"fTextAlign\":11,\"fTextColor\":1,\"fTextFont\":62},\"fDateX\":0.01,\"fDateY\":0.01,\"fEndErrorSize\":2,\"fErrorX\":0.5,\"fFuncColor\":2,\"fFuncStyle\":1,\"fFuncWidth\":2,\"fGridColor\":0,\"fGridStyle\":3,\"fGridWidth\":1,\"fLegendBorderSize\":1,\"fLegendFillColor\":0,\"fLegendFont\":42,\"fLegendTextSize\":0,\"fHatchesLineWidth\":1,\"fHatchesSpacing\":1,\"fFrameFillColor\":0,\"fFrameLineColor\":1,\"fFrameFillStyle\":1001,\"fFrameLineStyle\":1,\"fFrameLineWidth\":1,\"fFrameBorderSize\":1,\"fFrameBorderMode\":0,\"fHistFillColor\":0,\"fHistLineColor\":602,\"fHistFillStyle\":1001,\"fHistLineStyle\":1,\"fHistLineWidth\":1,\"fHistMinimumZero\":false,\"fHistTopMargin\":0.05,\"fCanvasPreferGL\":false,\"fCanvasColor\":0,\"fCanvasBorderSize\":2,\"fCanvasBorderMode\":0,\"fCanvasDefH\":500,\"fCanvasDefW\":700,\"fCanvasDefX\":10,\"fCanvasDefY\":10,\"fPadColor\":0,\"fPadBorderSize\":2,\"fPadBorderMode\":0,\"fPadBottomMargin\":0.1,\"fPadTopMargin\":0.1,\"fPadLeftMargin\":0.1,\"fPadRightMargin\":0.1,\"fPadGridX\":false,\"fPadGridY\":false,\"fPadTickX\":0,\"fPadTickY\":0,\"fPaperSizeX\":20,\"fPaperSizeY\":26,\"fScreenFactor\":1,\"fStatColor\":0,\"fStatTextColor\":1,\"fStatBorderSize\":1,\"fStatFont\":42,\"fStatFontSize\":0,\"fStatStyle\":1001,\"fStatFormat\":\"6.4g\",\"fStatX\":0.98,\"fStatY\":0.935,\"fStatW\":0.2,\"fStatH\":0.16,\"fStripDecimals\":true,\"fTitleAlign\":23,\"fTitleColor\":0,\"fTitleTextColor\":1,\"fTitleBorderSize\":0,\"fTitleFont\":42,\"fTitleFontSize\":0.05,\"fTitleStyle\":0,\"fTitleX\":0.5,\"fTitleY\":0.995,\"fTitleW\":0,\"fTitleH\":0,\"fLegoInnerR\":0.5,\"fLineStyles\":[\"\",\"  \",\" 12 12\",\" 4 8\",\" 12 16 4 16\",\" 20 12 4 12\",\" 20 12 4 12 4 12 4 12\",\" 20 20\",\" 20 12 4 12 4 12\",\" 80 20\",\" 80 40 4 40\",\"  \",\"  \",\"  \",\"  \",\"  \",\"  \",\"  \",\"  \",\"  \",\"  \",\"  \",\"  \",\"  \",\"  \",\"  \",\"  \",\"  \",\"  \",\"  \"],\"fHeaderPS\":\"\",\"fTitlePS\":\"\",\"fFitFormat\":\"5.4g\",\"fPaintTextFormat\":\"g\",\"fLineScalePS\":3,\"fJoinLinePS\":0,\"fCapLinePS\":0,\"fTimeOffset\":788918400,\"fImageScaling\":1}],\"opt\":[\"\",\"\"]},\"fExecs\":null,\"fName\":\"c1\",\"fTitle\":\"c\",\"fNumPaletteColor\":0,\"fNextPaletteColor\":0,\"fDISPLAY\":\"$DISPLAY\",\"fDoubleBuffer\":0,\"fRetained\":true,\"fXsizeUser\":0,\"fYsizeUser\":0,\"fXsizeReal\":20,\"fYsizeReal\":14.28571,\"fWindowTopX\":0,\"fWindowTopY\":0,\"fWindowWidth\":0,\"fWindowHeight\":0,\"fCw\":696,\"fCh\":472,\"fCatt\":{\"_typename\":\"TAttCanvas\",\"fXBetween\":2,\"fYBetween\":2,\"fTitleFromTop\":1.2,\"fXdate\":0.2,\"fYdate\":0.3,\"fAdate\":1},\"kMoveOpaque\":true,\"kResizeOpaque\":true,\"fHighLightColor\":2,\"fBatch\":true,\"kShowEventStatus\":false,\"kAutoExec\":true,\"kMenuBar\":true});\n",
       "   Core.settings.HandleKeys = false;\n",
       "   Core.draw(\"root_plot_1650463790217\", obj, \"\");\n",
       "}\n",
       "\n",
       "function script_load_root_plot_1650463790217(src, on_error) {\n",
       "    let script = document.createElement('script');\n",
       "    script.src = src;\n",
       "    script.onload = function() { display_root_plot_1650463790217(JSROOT); };\n",
       "    script.onerror = function() { script.remove(); on_error(); };\n",
       "    document.head.appendChild(script);\n",
       "}\n",
       "\n",
       "if (typeof requirejs !== 'undefined') {\n",
       "\n",
       "    // We are in jupyter notebooks, use require.js which should be configured already\n",
       "    requirejs.config({\n",
       "       paths: { 'JSRootCore' : [ 'scripts/JSRoot.core', 'https://root.cern/js/6.1.1/scripts/JSRoot.core.min', 'https://jsroot.gsi.de/6.1.1/scripts/JSRoot.core.min' ] }\n",
       "    })(['JSRootCore'],  function(Core) {\n",
       "       display_root_plot_1650463790217(Core);\n",
       "    });\n",
       "\n",
       "} else if (typeof JSROOT !== 'undefined') {\n",
       "\n",
       "   // JSROOT already loaded, just use it\n",
       "   display_root_plot_1650463790217(JSROOT);\n",
       "\n",
       "} else {\n",
       "\n",
       "    // We are in jupyterlab without require.js, directly loading jsroot\n",
       "    // Jupyterlab might be installed in a different base_url so we need to know it.\n",
       "    try {\n",
       "        var base_url = JSON.parse(document.getElementById('jupyter-config-data').innerHTML).baseUrl;\n",
       "    } catch(_) {\n",
       "        var base_url = '/';\n",
       "    }\n",
       "\n",
       "    // Try loading a local version of requirejs and fallback to cdn if not possible.\n",
       "    script_load_root_plot_1650463790217(base_url + 'static/scripts/JSRoot.core.js', function(){\n",
       "        console.error('Fail to load JSROOT locally, please check your jupyter_notebook_config.py file');\n",
       "        script_load_root_plot_1650463790217('https://root.cern/js/6.1.1/scripts/JSRoot.core.min.js', function(){\n",
       "            document.getElementById(\"root_plot_1650463790217\").innerHTML = \"Failed to load JSROOT\";\n",
       "        });\n",
       "    });\n",
       "}\n",
       "\n",
       "</script>\n"
      ],
      "text/plain": [
       "<IPython.core.display.HTML object>"
      ]
     },
     "metadata": {},
     "output_type": "display_data"
    }
   ],
   "source": [
    "c1=r.TCanvas(\"c1\",\"c\")\n",
    "c1.Draw(\"\")\n",
    "c1.SetBottomMargin(0.15)\n",
    "h1.Draw(\"\")\n",
    "h1.Fit(\"gaus\",\"S\")\n",
    "\n"
   ]
  },
  {
   "cell_type": "code",
   "execution_count": 68,
   "id": "5700c3b2",
   "metadata": {},
   "outputs": [
    {
     "name": "stderr",
     "output_type": "stream",
     "text": [
      "Info in <TCanvas::Print>: pdf file ./plots/combined_post_add_raw.pdf has been created\n",
      "Info in <TCanvas::SaveAs>: ROOT file ./plots/combined_post_add_raw.root has been created\n"
     ]
    }
   ],
   "source": [
    "#c.SaveAs(\"./plots/combined_post_add.pdf\")\n",
    "#c.SaveAs(\"./plots/combined_post_add.root\")\n",
    "c.SaveAs(\"./plots/combined_post_add_raw.pdf\")\n",
    "c.SaveAs(\"./plots/combined_post_add_raw.root\")"
   ]
  },
  {
   "cell_type": "code",
   "execution_count": 62,
   "id": "45337dff",
   "metadata": {},
   "outputs": [
    {
     "data": {
      "image/png": "[encoded data removed]",
      "text/plain": [
       "<Figure size 432x288 with 1 Axes>"
      ]
     },
     "metadata": {
      "needs_background": "light"
     },
     "output_type": "display_data"
    }
   ],
   "source": [
    "plt.hist(diagnostics_df.loc[[f'pval{i:02d}' for i in range(12)]].values.ravel(),histtype='step',bins=20)\n",
    "plt.xlabel(r'$T(A_{rep}>A)$')\n",
    "plt.grid(False)\n",
    "plt.savefig('./plots/toyMC_pval_hist.pdf',format='pdf',dpi=1000,bbox_inches='tight')\n",
    "plt.show()"
   ]
  },
  {
   "cell_type": "code",
   "execution_count": null,
   "id": "79a2d2cd",
   "metadata": {},
   "outputs": [],
   "source": [
    "h1.GetEntries()"
   ]
  },
  {
   "cell_type": "code",
   "execution_count": null,
   "id": "fc416743",
   "metadata": {},
   "outputs": [],
   "source": [
    "h.GetEntries()"
   ]
  },
  {
   "cell_type": "code",
   "execution_count": 11,
   "id": "5f88a401",
   "metadata": {},
   "outputs": [],
   "source": [
    "x=np.linspace(-180,180,360)"
   ]
  },
  {
   "cell_type": "code",
   "execution_count": 12,
   "id": "72fda802",
   "metadata": {},
   "outputs": [
    {
     "data": {
      "image/png": "[encoded data removed]",
      "text/plain": [
       "<Figure size 432x288 with 1 Axes>"
      ]
     },
     "metadata": {
      "needs_background": "light"
     },
     "output_type": "display_data"
    }
   ],
   "source": [
    "plt.plot(x,1-0.3*0.25*np.cos(2*(-45-x)*np.pi/180.),'.')\n",
    "plt.show()"
   ]
  },
  {
   "cell_type": "code",
   "execution_count": 15,
   "id": "3125396f",
   "metadata": {},
   "outputs": [],
   "source": [
    "import random"
   ]
  },
  {
   "cell_type": "code",
   "execution_count": 16,
   "id": "e1f8f0e7",
   "metadata": {},
   "outputs": [],
   "source": [
    "x=np.linspace(-180,180,10000)\n",
    "fx=1-0.5*0.25*np.cos(2*(-45-x)*np.pi/180.)"
   ]
  },
  {
   "cell_type": "code",
   "execution_count": 17,
   "id": "ed20af0d",
   "metadata": {},
   "outputs": [],
   "source": [
    "hx=random.choices(x,fx,k=10000)"
   ]
  },
  {
   "cell_type": "code",
   "execution_count": 18,
   "id": "7e70b18b",
   "metadata": {},
   "outputs": [
    {
     "data": {
      "image/png": "[encoded data removed]",
      "text/plain": [
       "<Figure size 432x288 with 1 Axes>"
      ]
     },
     "metadata": {
      "needs_background": "light"
     },
     "output_type": "display_data"
    }
   ],
   "source": [
    "plt.hist(hx,histtype='step',bins=48)\n",
    "plt.show()"
   ]
  },
  {
   "cell_type": "code",
   "execution_count": 26,
   "id": "8e3375aa",
   "metadata": {},
   "outputs": [
    {
     "name": "stderr",
     "output_type": "stream",
     "text": [
      "Warning in <TROOT::Append>: Replacing existing TH1: h (Potential memory leak).\n"
     ]
    }
   ],
   "source": [
    "h=r.TH1F(\"h\",\";#phi;\",48,-180,180)\n",
    "f=r.TF1(\"f\",\"[0]*(1-0.25*[1]*cos(2*(-45-x)*TMath::Pi()/180.))\")"
   ]
  },
  {
   "cell_type": "code",
   "execution_count": 27,
   "id": "298133b7",
   "metadata": {},
   "outputs": [],
   "source": [
    "for i in range(4000):\n",
    "    h.Fill(hx[i])"
   ]
  },
  {
   "cell_type": "code",
   "execution_count": 28,
   "id": "f833b469",
   "metadata": {},
   "outputs": [
    {
     "data": {
      "text/plain": [
       "<cppyy.gbl.TFitResultPtr object at 0x5590bab4abd0>"
      ]
     },
     "execution_count": 28,
     "metadata": {},
     "output_type": "execute_result"
    },
    {
     "name": "stdout",
     "output_type": "stream",
     "text": [
      " FCN=54.6112 FROM MIGRAD    STATUS=CONVERGED      91 CALLS          92 TOTAL\n",
      "                     EDM=3.50039e-07    STRATEGY= 1      ERROR MATRIX ACCURATE \n",
      "  EXT PARAMETER                                   STEP         FIRST   \n",
      "  NO.   NAME      VALUE            ERROR          SIZE      DERIVATIVE \n",
      "   1  p0           8.21753e+01   1.30842e+00   4.76431e-03   6.14765e-04\n",
      "   2  p1           4.33303e-01   8.92470e-02   3.24894e-04  -2.58056e-03\n"
     ]
    },
    {
     "data": {
      "text/html": [
       "\n",
       "\n",
       "<div id=\"root_plot_1650461970282\"\n",
       "     style=\"width: 696px; height: 472px\">\n",
       "</div>\n",
       "<script>\n",
       "\n",
       "function display_root_plot_1650461970282(Core) {\n",
       "   let obj = Core.parse({\"_typename\":\"TCanvas\",\"fUniqueID\":0,\"fBits\":3342344,\"fLineColor\":1,\"fLineStyle\":1,\"fLineWidth\":1,\"fFillColor\":0,\"fFillStyle\":1001,\"fLeftMargin\":0.1,\"fRightMargin\":0.1,\"fBottomMargin\":0.1,\"fTopMargin\":0.1,\"fXfile\":2,\"fYfile\":2,\"fAfile\":1,\"fXstat\":0.99,\"fYstat\":0.99,\"fAstat\":2,\"fFrameFillColor\":0,\"fFrameLineColor\":1,\"fFrameFillStyle\":1001,\"fFrameLineStyle\":1,\"fFrameLineWidth\":1,\"fFrameBorderSize\":1,\"fFrameBorderMode\":0,\"fX1\":0,\"fY1\":0,\"fX2\":1,\"fY2\":1,\"fXtoAbsPixelk\":5e-5,\"fXtoPixelk\":5e-5,\"fXtoPixel\":696,\"fYtoAbsPixelk\":472.00005,\"fYtoPixelk\":472.00005,\"fYtoPixel\":-472,\"fUtoAbsPixelk\":5e-5,\"fUtoPixelk\":5e-5,\"fUtoPixel\":696,\"fVtoAbsPixelk\":472.00005,\"fVtoPixelk\":472,\"fVtoPixel\":-472,\"fAbsPixeltoXk\":0,\"fPixeltoXk\":0,\"fPixeltoX\":0.0014367816091954,\"fAbsPixeltoYk\":1,\"fPixeltoYk\":0,\"fPixeltoY\":-0.00211864406779661,\"fXlowNDC\":0,\"fYlowNDC\":0,\"fXUpNDC\":1,\"fYUpNDC\":1,\"fWNDC\":1,\"fHNDC\":1,\"fAbsXlowNDC\":0,\"fAbsYlowNDC\":0,\"fAbsWNDC\":1,\"fAbsHNDC\":1,\"fUxmin\":0,\"fUymin\":0,\"fUxmax\":1,\"fUymax\":1,\"fTheta\":30,\"fPhi\":30,\"fAspectRatio\":0,\"fNumber\":0,\"fTickx\":0,\"fTicky\":0,\"fLogx\":0,\"fLogy\":0,\"fLogz\":0,\"fPadPaint\":0,\"fCrosshair\":0,\"fCrosshairPos\":0,\"fBorderSize\":2,\"fBorderMode\":0,\"fModified\":true,\"fGridx\":false,\"fGridy\":false,\"fAbsCoord\":false,\"fEditable\":true,\"fFixedAspectRatio\":false,\"fPrimitives\":{\"_typename\":\"TList\",\"name\":\"TList\",\"arr\":[{\"_typename\":\"TH1F\",\"fUniqueID\":0,\"fBits\":520,\"fName\":\"h\",\"fTitle\":\"\",\"fLineColor\":602,\"fLineStyle\":1,\"fLineWidth\":1,\"fFillColor\":0,\"fFillStyle\":1001,\"fMarkerColor\":1,\"fMarkerStyle\":1,\"fMarkerSize\":1,\"fNcells\":50,\"fXaxis\":{\"_typename\":\"TAxis\",\"fUniqueID\":0,\"fBits\":0,\"fName\":\"xaxis\",\"fTitle\":\"#phi\",\"fNdivisions\":510,\"fAxisColor\":1,\"fLabelColor\":1,\"fLabelFont\":42,\"fLabelOffset\":0.005,\"fLabelSize\":0.035,\"fTickLength\":0.03,\"fTitleOffset\":1,\"fTitleSize\":0.035,\"fTitleColor\":1,\"fTitleFont\":42,\"fNbins\":48,\"fXmin\":-180,\"fXmax\":180,\"fXbins\":[],\"fFirst\":0,\"fLast\":0,\"fBits2\":0,\"fTimeDisplay\":false,\"fTimeFormat\":\"\",\"fLabels\":null,\"fModLabs\":null},\"fYaxis\":{\"_typename\":\"TAxis\",\"fUniqueID\":0,\"fBits\":0,\"fName\":\"yaxis\",\"fTitle\":\"\",\"fNdivisions\":510,\"fAxisColor\":1,\"fLabelColor\":1,\"fLabelFont\":42,\"fLabelOffset\":0.005,\"fLabelSize\":0.035,\"fTickLength\":0.03,\"fTitleOffset\":0,\"fTitleSize\":0.035,\"fTitleColor\":1,\"fTitleFont\":42,\"fNbins\":1,\"fXmin\":0,\"fXmax\":1,\"fXbins\":[],\"fFirst\":0,\"fLast\":0,\"fBits2\":0,\"fTimeDisplay\":false,\"fTimeFormat\":\"\",\"fLabels\":null,\"fModLabs\":null},\"fZaxis\":{\"_typename\":\"TAxis\",\"fUniqueID\":0,\"fBits\":0,\"fName\":\"zaxis\",\"fTitle\":\"\",\"fNdivisions\":510,\"fAxisColor\":1,\"fLabelColor\":1,\"fLabelFont\":42,\"fLabelOffset\":0.005,\"fLabelSize\":0.035,\"fTickLength\":0.03,\"fTitleOffset\":1,\"fTitleSize\":0.035,\"fTitleColor\":1,\"fTitleFont\":42,\"fNbins\":1,\"fXmin\":0,\"fXmax\":1,\"fXbins\":[],\"fFirst\":0,\"fLast\":0,\"fBits2\":0,\"fTimeDisplay\":false,\"fTimeFormat\":\"\",\"fLabels\":null,\"fModLabs\":null},\"fBarOffset\":0,\"fBarWidth\":1000,\"fEntries\":4000,\"fTsumw\":3999,\"fTsumw2\":3999,\"fTsumwx\":-10440.7380738074,\"fTsumwx2\":43232899.2639678,\"fMaximum\":-1111,\"fMinimum\":-1111,\"fNormFactor\":0,\"fContour\":[],\"fSumw2\":[],\"fOption\":\"\",\"fFunctions\":{\"_typename\":\"TList\",\"name\":\"TList\",\"arr\":[{\"_typename\":\"TF1\",\"fUniqueID\":0,\"fBits\":1024,\"fName\":\"f\",\"fTitle\":\"[0]*(1-0.25*[1]*cos(2*(-45-x)*TMath::Pi()\\/180.))\",\"fLineColor\":2,\"fLineStyle\":1,\"fLineWidth\":2,\"fFillColor\":19,\"fFillStyle\":0,\"fMarkerColor\":1,\"fMarkerStyle\":1,\"fMarkerSize\":1,\"fXmin\":-180,\"fXmax\":180,\"fNpar\":2,\"fNdim\":1,\"fNpx\":100,\"fType\":0,\"fNpfits\":48,\"fNDF\":46,\"fChisquare\":54.6112254316873,\"fMinimum\":-1111,\"fMaximum\":-1111,\"fParErrors\":[1.3084243578889,0.0892469531315202],\"fParMin\":[0,0],\"fParMax\":[0,0],\"fSave\":{\"$arr\":\"Float64\",\"len\":103,\"v\":[82.1752923708425,83.2909701507676,84.3890530256297,85.4522235725292,86.4637149568344,87.407575355179,88.2689195252462,89.0341635549321,89.6912390887539,90.2297836530253,90.6413040782567,90.919310441512,91.0594184163696,91.0594184163696,90.919310441512,90.6413040782567,90.2297836530252,89.6912390887539,89.0341635549321,88.2689195252462,87.407575355179,86.4637149568344,85.4522235725292,84.3890530256297,83.2909701507676,82.1752923708425,81.0596145909174,79.9615317160553,78.8983611691557,77.8868697848505,76.9430093865059,76.0816652164387,75.3164211867528,74.659345652931,74.1208010886597,73.7092806634282,73.431274300173,73.2911663253153,73.2911663253153,73.431274300173,73.7092806634282,74.1208010886597,74.6593456529311,75.3164211867528,76.0816652164387,76.9430093865059,77.8868697848505,78.8983611691557,79.9615317160553,81.0596145909174,82.1752923708425,83.2909701507676,84.3890530256297,85.4522235725292,86.4637149568344,87.407575355179,88.2689195252462,89.0341635549321,89.6912390887539,90.2297836530252,90.6413040782567,90.919310441512,91.0594184163696,91.0594184163696,90.919310441512,90.6413040782567,90.2297836530253,89.6912390887539,89.0341635549321,88.2689195252462,87.407575355179,86.4637149568344,85.4522235725292,84.3890530256297,83.2909701507676,82.1752923708425,81.0596145909174,79.9615317160553,78.8983611691557,77.8868697848505,76.9430093865059,76.0816652164387,75.3164211867528,74.6593456529311,74.1208010886597,73.7092806634282,73.4312743001729,73.2911663253153,73.2911663253153,73.431274300173,73.7092806634282,74.1208010886597,74.659345652931,75.3164211867528,76.0816652164387,76.9430093865059,77.8868697848505,78.8983611691557,79.9615317160553,81.0596145909174,82.1752923708425,-180,180]},\"fNormalized\":false,\"fNormIntegral\":0,\"fFormula\":{\"_typename\":\"TFormula\",\"fUniqueID\":0,\"fBits\":1024,\"fName\":\"f\",\"fTitle\":\"[0]*(1-0.25*[1]*cos(2*(-45-x)*TMath::Pi()\\/180.))\",\"fClingParameters\":[82.1752923708425,0.433302577623125],\"fAllParametersSetted\":true,\"fParams\":[{\"$pair\":\"pair<TString,int,TFormulaParamOrder>\",\"first\":\"p0\",\"second\":0},{\"$pair\":\"pair<TString,int,TFormulaParamOrder>\",\"first\":\"p1\",\"second\":1}],\"fFormula\":\"[p0]*(1-0.25*[p1]*cos(2*(-45-x)*TMath::Pi()\\/180.))\",\"fNdim\":1,\"fLinearParts\":[],\"fVectorized\":false},\"fParams\":null,\"fComposition\":null}],\"opt\":[\"\"]},\"fBufferSize\":0,\"fBuffer\":[],\"fBinStatErrOpt\":0,\"fStatOverflows\":2,\"fArray\":{\"$arr\":\"Float32\",\"len\":50,\"p\":1,\"v\":[70,96,95,86,95,97,76,99,96,73,87,94,90,82,77,82,77,73,61,80,67,86,78,89,66,96,86,67,91,91,89,95,106,79,114,87,89,71,71,77,81,77,68,75,65,89,69,94,1]}},{\"_typename\":\"TStyle\",\"fUniqueID\":0,\"fBits\":0,\"fName\":\"Modern\",\"fTitle\":\"Modern Style\",\"fLineColor\":1,\"fLineStyle\":1,\"fLineWidth\":1,\"fFillColor\":19,\"fFillStyle\":1001,\"fMarkerColor\":1,\"fMarkerStyle\":1,\"fMarkerSize\":1,\"fTextAngle\":0,\"fTextSize\":0.05,\"fTextAlign\":11,\"fTextColor\":1,\"fTextFont\":62,\"fXaxis\":{\"_typename\":\"TAttAxis\",\"fNdivisions\":510,\"fAxisColor\":1,\"fLabelColor\":1,\"fLabelFont\":42,\"fLabelOffset\":0.005,\"fLabelSize\":0.035,\"fTickLength\":0.03,\"fTitleOffset\":1,\"fTitleSize\":0.035,\"fTitleColor\":1,\"fTitleFont\":42},\"fYaxis\":{\"_typename\":\"TAttAxis\",\"fNdivisions\":510,\"fAxisColor\":1,\"fLabelColor\":1,\"fLabelFont\":42,\"fLabelOffset\":0.005,\"fLabelSize\":0.035,\"fTickLength\":0.03,\"fTitleOffset\":0,\"fTitleSize\":0.035,\"fTitleColor\":1,\"fTitleFont\":42},\"fZaxis\":{\"_typename\":\"TAttAxis\",\"fNdivisions\":510,\"fAxisColor\":1,\"fLabelColor\":1,\"fLabelFont\":42,\"fLabelOffset\":0.005,\"fLabelSize\":0.035,\"fTickLength\":0.03,\"fTitleOffset\":1,\"fTitleSize\":0.035,\"fTitleColor\":1,\"fTitleFont\":42},\"fBarWidth\":1,\"fBarOffset\":0,\"fColorModelPS\":0,\"fDrawBorder\":0,\"fOptLogx\":0,\"fOptLogy\":0,\"fOptLogz\":0,\"fOptDate\":0,\"fOptStat\":0,\"fOptTitle\":1,\"fOptFile\":0,\"fOptFit\":0,\"fShowEventStatus\":0,\"fShowEditor\":0,\"fShowToolBar\":0,\"fNumberContours\":20,\"fAttDate\":{\"_typename\":\"TAttText\",\"fTextAngle\":0,\"fTextSize\":0.025,\"fTextAlign\":11,\"fTextColor\":1,\"fTextFont\":62},\"fDateX\":0.01,\"fDateY\":0.01,\"fEndErrorSize\":2,\"fErrorX\":0.5,\"fFuncColor\":2,\"fFuncStyle\":1,\"fFuncWidth\":2,\"fGridColor\":0,\"fGridStyle\":3,\"fGridWidth\":1,\"fLegendBorderSize\":1,\"fLegendFillColor\":0,\"fLegendFont\":42,\"fLegendTextSize\":0,\"fHatchesLineWidth\":1,\"fHatchesSpacing\":1,\"fFrameFillColor\":0,\"fFrameLineColor\":1,\"fFrameFillStyle\":1001,\"fFrameLineStyle\":1,\"fFrameLineWidth\":1,\"fFrameBorderSize\":1,\"fFrameBorderMode\":0,\"fHistFillColor\":0,\"fHistLineColor\":602,\"fHistFillStyle\":1001,\"fHistLineStyle\":1,\"fHistLineWidth\":1,\"fHistMinimumZero\":false,\"fHistTopMargin\":0.05,\"fCanvasPreferGL\":false,\"fCanvasColor\":0,\"fCanvasBorderSize\":2,\"fCanvasBorderMode\":0,\"fCanvasDefH\":500,\"fCanvasDefW\":700,\"fCanvasDefX\":10,\"fCanvasDefY\":10,\"fPadColor\":0,\"fPadBorderSize\":2,\"fPadBorderMode\":0,\"fPadBottomMargin\":0.1,\"fPadTopMargin\":0.1,\"fPadLeftMargin\":0.1,\"fPadRightMargin\":0.1,\"fPadGridX\":false,\"fPadGridY\":false,\"fPadTickX\":0,\"fPadTickY\":0,\"fPaperSizeX\":20,\"fPaperSizeY\":26,\"fScreenFactor\":1,\"fStatColor\":0,\"fStatTextColor\":1,\"fStatBorderSize\":1,\"fStatFont\":42,\"fStatFontSize\":0,\"fStatStyle\":1001,\"fStatFormat\":\"6.4g\",\"fStatX\":0.98,\"fStatY\":0.935,\"fStatW\":0.2,\"fStatH\":0.16,\"fStripDecimals\":true,\"fTitleAlign\":23,\"fTitleColor\":0,\"fTitleTextColor\":1,\"fTitleBorderSize\":0,\"fTitleFont\":42,\"fTitleFontSize\":0.05,\"fTitleStyle\":0,\"fTitleX\":0.5,\"fTitleY\":0.995,\"fTitleW\":0,\"fTitleH\":0,\"fLegoInnerR\":0.5,\"fLineStyles\":[\"\",\"  \",\" 12 12\",\" 4 8\",\" 12 16 4 16\",\" 20 12 4 12\",\" 20 12 4 12 4 12 4 12\",\" 20 20\",\" 20 12 4 12 4 12\",\" 80 20\",\" 80 40 4 40\",\"  \",\"  \",\"  \",\"  \",\"  \",\"  \",\"  \",\"  \",\"  \",\"  \",\"  \",\"  \",\"  \",\"  \",\"  \",\"  \",\"  \",\"  \",\"  \"],\"fHeaderPS\":\"\",\"fTitlePS\":\"\",\"fFitFormat\":\"5.4g\",\"fPaintTextFormat\":\"g\",\"fLineScalePS\":3,\"fJoinLinePS\":0,\"fCapLinePS\":0,\"fTimeOffset\":788918400,\"fImageScaling\":1}],\"opt\":[\"ep\",\"\"]},\"fExecs\":null,\"fName\":\"c1_n3\",\"fTitle\":\"c1_n3\",\"fNumPaletteColor\":0,\"fNextPaletteColor\":0,\"fDISPLAY\":\"$DISPLAY\",\"fDoubleBuffer\":0,\"fRetained\":true,\"fXsizeUser\":0,\"fYsizeUser\":0,\"fXsizeReal\":20,\"fYsizeReal\":14.28571,\"fWindowTopX\":0,\"fWindowTopY\":0,\"fWindowWidth\":0,\"fWindowHeight\":0,\"fCw\":696,\"fCh\":472,\"fCatt\":{\"_typename\":\"TAttCanvas\",\"fXBetween\":2,\"fYBetween\":2,\"fTitleFromTop\":1.2,\"fXdate\":0.2,\"fYdate\":0.3,\"fAdate\":1},\"kMoveOpaque\":true,\"kResizeOpaque\":true,\"fHighLightColor\":2,\"fBatch\":true,\"kShowEventStatus\":false,\"kAutoExec\":true,\"kMenuBar\":true});\n",
       "   Core.settings.HandleKeys = false;\n",
       "   Core.draw(\"root_plot_1650461970282\", obj, \"\");\n",
       "}\n",
       "\n",
       "function script_load_root_plot_1650461970282(src, on_error) {\n",
       "    let script = document.createElement('script');\n",
       "    script.src = src;\n",
       "    script.onload = function() { display_root_plot_1650461970282(JSROOT); };\n",
       "    script.onerror = function() { script.remove(); on_error(); };\n",
       "    document.head.appendChild(script);\n",
       "}\n",
       "\n",
       "if (typeof requirejs !== 'undefined') {\n",
       "\n",
       "    // We are in jupyter notebooks, use require.js which should be configured already\n",
       "    requirejs.config({\n",
       "       paths: { 'JSRootCore' : [ 'scripts/JSRoot.core', 'https://root.cern/js/6.1.1/scripts/JSRoot.core.min', 'https://jsroot.gsi.de/6.1.1/scripts/JSRoot.core.min' ] }\n",
       "    })(['JSRootCore'],  function(Core) {\n",
       "       display_root_plot_1650461970282(Core);\n",
       "    });\n",
       "\n",
       "} else if (typeof JSROOT !== 'undefined') {\n",
       "\n",
       "   // JSROOT already loaded, just use it\n",
       "   display_root_plot_1650461970282(JSROOT);\n",
       "\n",
       "} else {\n",
       "\n",
       "    // We are in jupyterlab without require.js, directly loading jsroot\n",
       "    // Jupyterlab might be installed in a different base_url so we need to know it.\n",
       "    try {\n",
       "        var base_url = JSON.parse(document.getElementById('jupyter-config-data').innerHTML).baseUrl;\n",
       "    } catch(_) {\n",
       "        var base_url = '/';\n",
       "    }\n",
       "\n",
       "    // Try loading a local version of requirejs and fallback to cdn if not possible.\n",
       "    script_load_root_plot_1650461970282(base_url + 'static/scripts/JSRoot.core.js', function(){\n",
       "        console.error('Fail to load JSROOT locally, please check your jupyter_notebook_config.py file');\n",
       "        script_load_root_plot_1650461970282('https://root.cern/js/6.1.1/scripts/JSRoot.core.min.js', function(){\n",
       "            document.getElementById(\"root_plot_1650461970282\").innerHTML = \"Failed to load JSROOT\";\n",
       "        });\n",
       "    });\n",
       "}\n",
       "\n",
       "</script>\n"
      ],
      "text/plain": [
       "<IPython.core.display.HTML object>"
      ]
     },
     "metadata": {},
     "output_type": "display_data"
    }
   ],
   "source": [
    "c=r.TCanvas()\n",
    "c.Draw()\n",
    "h.Draw(\"ep\")\n",
    "h.Fit(f,\"S\")"
   ]
  },
  {
   "cell_type": "code",
   "execution_count": null,
   "id": "24a1a29b",
   "metadata": {},
   "outputs": [],
   "source": []
  }
 ],
 "metadata": {
  "kernelspec": {
   "display_name": "Python 3 (ipykernel)",
   "language": "python",
   "name": "python3"
  },
  "language_info": {
   "codemirror_mode": {
    "name": "ipython",
    "version": 3
   },
   "file_extension": ".py",
   "mimetype": "text/x-python",
   "name": "python",
   "nbconvert_exporter": "python",
   "pygments_lexer": "ipython3",
   "version": "3.10.2"
  }
 },
 "nbformat": 4,
 "nbformat_minor": 5
}
