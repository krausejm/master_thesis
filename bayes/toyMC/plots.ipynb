{
 "cells": [
  {
   "cell_type": "code",
   "execution_count": 1,
   "id": "cce01dc1",
   "metadata": {},
   "outputs": [
    {
     "name": "stdout",
     "output_type": "stream",
     "text": [
      "Welcome to JupyROOT 6.26/04\n"
     ]
    }
   ],
   "source": [
    "import nest_asyncio\n",
    "nest_asyncio.apply()\n",
    "import cmdstanpy as sp\n",
    "import numpy as np\n",
    "from scipy.optimize import curve_fit\n",
    "import pandas as pd\n",
    "import matplotlib.pyplot as plt\n",
    "plt.ioff()\n",
    "from cycler import cycler\n",
    "import matplotlib.patches as mpatches\n",
    "import seaborn as sns\n",
    "import arviz as az\n",
    "import scipy.stats as stats\n",
    "import ROOT as r\n",
    "import time\n",
    "import ctypes\n",
    "plt.rcParams[\"xtick.minor.visible\"] =  True\n",
    "plt.rcParams[\"ytick.minor.visible\"] =  True\n",
    "plt.rcParams[\"mathtext.fontset\"]=\"cm\"\n",
    "plt.rcParams['errorbar.capsize'] = 3\n",
    "plt.rcParams['mathtext.rm'] = 'serif'\n",
    "plt.rcParams['font.family']='serif'\n",
    "plt.rcParams['font.size']=22\n",
    "plt.rcParams['axes.grid'] = True\n",
    "plt.rcParams['grid.linestyle']=':'\n",
    "plt.rcParams['grid.color']='black'\n",
    "plt.rcParams['axes.prop_cycle'] = cycler(color=['black', 'red', 'blue', 'green'])\n",
    "\n",
    "import arviz as az\n",
    "import warnings\n",
    "warnings.filterwarnings('ignore')\n",
    "%jsroot on"
   ]
  },
  {
   "cell_type": "code",
   "execution_count": 2,
   "id": "40cc296c",
   "metadata": {},
   "outputs": [],
   "source": [
    "diagnostics_df=pd.read_csv(\"./diagnostics.csv\",index_col=0)\n",
    "sigma_df=pd.read_csv('./sigma.csv',index_col=0)\n",
    "#diagnostics_df1=pd.read_csv(\"./diagnostics_1.csv\",index_col=0)\n",
    "#sigma_df1=pd.read_csv('./sigma_1.csv',index_col=0)\n",
    "#sigma_df=sigma_df.join(sigma_df1)\n",
    "#diagnostics_df=diagnostics_df.join(diagnostics_df1)"
   ]
  },
  {
   "cell_type": "code",
   "execution_count": 3,
   "id": "3bb21a6a",
   "metadata": {},
   "outputs": [
    {
     "data": {
      "text/html": [
       "<div>\n",
       "<style scoped>\n",
       "    .dataframe tbody tr th:only-of-type {\n",
       "        vertical-align: middle;\n",
       "    }\n",
       "\n",
       "    .dataframe tbody tr th {\n",
       "        vertical-align: top;\n",
       "    }\n",
       "\n",
       "    .dataframe thead th {\n",
       "        text-align: right;\n",
       "    }\n",
       "</style>\n",
       "<table border=\"1\" class=\"dataframe\">\n",
       "  <thead>\n",
       "    <tr style=\"text-align: right;\">\n",
       "      <th></th>\n",
       "      <th>toybin0000</th>\n",
       "      <th>toybin0001</th>\n",
       "      <th>toybin0002</th>\n",
       "      <th>toybin0003</th>\n",
       "      <th>toybin0004</th>\n",
       "      <th>toybin0005</th>\n",
       "      <th>toybin0006</th>\n",
       "      <th>toybin0007</th>\n",
       "      <th>toybin0008</th>\n",
       "      <th>toybin0009</th>\n",
       "      <th>...</th>\n",
       "      <th>toybin9990</th>\n",
       "      <th>toybin9991</th>\n",
       "      <th>toybin9992</th>\n",
       "      <th>toybin9993</th>\n",
       "      <th>toybin9994</th>\n",
       "      <th>toybin9995</th>\n",
       "      <th>toybin9996</th>\n",
       "      <th>toybin9997</th>\n",
       "      <th>toybin9998</th>\n",
       "      <th>toybin9999</th>\n",
       "    </tr>\n",
       "  </thead>\n",
       "  <tbody>\n",
       "    <tr>\n",
       "      <th>sigma_median</th>\n",
       "      <td>0.37000</td>\n",
       "      <td>0.250000</td>\n",
       "      <td>0.470000</td>\n",
       "      <td>0.300000</td>\n",
       "      <td>0.500000</td>\n",
       "      <td>0.500000</td>\n",
       "      <td>0.170000</td>\n",
       "      <td>0.190000</td>\n",
       "      <td>0.130000</td>\n",
       "      <td>0.250000</td>\n",
       "      <td>...</td>\n",
       "      <td>0.340000</td>\n",
       "      <td>0.160000</td>\n",
       "      <td>0.270000</td>\n",
       "      <td>0.260000</td>\n",
       "      <td>0.170000</td>\n",
       "      <td>0.190000</td>\n",
       "      <td>0.400000</td>\n",
       "      <td>0.31000</td>\n",
       "      <td>0.300000</td>\n",
       "      <td>0.210000</td>\n",
       "    </tr>\n",
       "    <tr>\n",
       "      <th>mcse</th>\n",
       "      <td>0.00326</td>\n",
       "      <td>0.003117</td>\n",
       "      <td>0.003496</td>\n",
       "      <td>0.003254</td>\n",
       "      <td>0.003676</td>\n",
       "      <td>0.003414</td>\n",
       "      <td>0.002913</td>\n",
       "      <td>0.002893</td>\n",
       "      <td>0.003724</td>\n",
       "      <td>0.003057</td>\n",
       "      <td>...</td>\n",
       "      <td>0.003691</td>\n",
       "      <td>0.003208</td>\n",
       "      <td>0.002497</td>\n",
       "      <td>0.003639</td>\n",
       "      <td>0.002842</td>\n",
       "      <td>0.003099</td>\n",
       "      <td>0.003189</td>\n",
       "      <td>0.00320</td>\n",
       "      <td>0.003277</td>\n",
       "      <td>0.003482</td>\n",
       "    </tr>\n",
       "    <tr>\n",
       "      <th>rhat</th>\n",
       "      <td>1.00000</td>\n",
       "      <td>1.000000</td>\n",
       "      <td>1.000000</td>\n",
       "      <td>1.000000</td>\n",
       "      <td>1.000000</td>\n",
       "      <td>1.000000</td>\n",
       "      <td>1.000000</td>\n",
       "      <td>1.000000</td>\n",
       "      <td>1.000000</td>\n",
       "      <td>1.000000</td>\n",
       "      <td>...</td>\n",
       "      <td>1.000000</td>\n",
       "      <td>1.000000</td>\n",
       "      <td>1.000000</td>\n",
       "      <td>1.000000</td>\n",
       "      <td>1.000000</td>\n",
       "      <td>1.000000</td>\n",
       "      <td>1.000000</td>\n",
       "      <td>1.00000</td>\n",
       "      <td>1.000000</td>\n",
       "      <td>1.000000</td>\n",
       "    </tr>\n",
       "    <tr>\n",
       "      <th>pval00</th>\n",
       "      <td>0.78775</td>\n",
       "      <td>0.164250</td>\n",
       "      <td>0.712000</td>\n",
       "      <td>0.595000</td>\n",
       "      <td>0.702250</td>\n",
       "      <td>0.945500</td>\n",
       "      <td>0.943250</td>\n",
       "      <td>0.886250</td>\n",
       "      <td>0.681000</td>\n",
       "      <td>0.002500</td>\n",
       "      <td>...</td>\n",
       "      <td>0.859250</td>\n",
       "      <td>0.147750</td>\n",
       "      <td>0.496500</td>\n",
       "      <td>0.875500</td>\n",
       "      <td>0.598000</td>\n",
       "      <td>0.449250</td>\n",
       "      <td>0.697250</td>\n",
       "      <td>0.39500</td>\n",
       "      <td>0.959750</td>\n",
       "      <td>0.599750</td>\n",
       "    </tr>\n",
       "    <tr>\n",
       "      <th>pval01</th>\n",
       "      <td>0.70000</td>\n",
       "      <td>0.629500</td>\n",
       "      <td>0.060250</td>\n",
       "      <td>0.855750</td>\n",
       "      <td>0.520750</td>\n",
       "      <td>0.123250</td>\n",
       "      <td>0.092750</td>\n",
       "      <td>0.443750</td>\n",
       "      <td>0.876000</td>\n",
       "      <td>0.904000</td>\n",
       "      <td>...</td>\n",
       "      <td>0.864750</td>\n",
       "      <td>0.694500</td>\n",
       "      <td>0.102750</td>\n",
       "      <td>0.524750</td>\n",
       "      <td>0.297250</td>\n",
       "      <td>0.159750</td>\n",
       "      <td>0.487250</td>\n",
       "      <td>0.56975</td>\n",
       "      <td>0.395500</td>\n",
       "      <td>0.018000</td>\n",
       "    </tr>\n",
       "    <tr>\n",
       "      <th>pval02</th>\n",
       "      <td>0.83950</td>\n",
       "      <td>0.764500</td>\n",
       "      <td>0.492000</td>\n",
       "      <td>0.484500</td>\n",
       "      <td>0.656000</td>\n",
       "      <td>0.737750</td>\n",
       "      <td>0.077750</td>\n",
       "      <td>0.557500</td>\n",
       "      <td>0.375750</td>\n",
       "      <td>0.565750</td>\n",
       "      <td>...</td>\n",
       "      <td>0.511750</td>\n",
       "      <td>0.053750</td>\n",
       "      <td>0.560250</td>\n",
       "      <td>0.025750</td>\n",
       "      <td>0.369000</td>\n",
       "      <td>0.589250</td>\n",
       "      <td>0.605750</td>\n",
       "      <td>0.26850</td>\n",
       "      <td>0.077000</td>\n",
       "      <td>0.736500</td>\n",
       "    </tr>\n",
       "    <tr>\n",
       "      <th>pval03</th>\n",
       "      <td>0.83550</td>\n",
       "      <td>0.651250</td>\n",
       "      <td>0.944500</td>\n",
       "      <td>0.582750</td>\n",
       "      <td>0.142250</td>\n",
       "      <td>0.299000</td>\n",
       "      <td>0.732500</td>\n",
       "      <td>0.677750</td>\n",
       "      <td>0.261000</td>\n",
       "      <td>0.506000</td>\n",
       "      <td>...</td>\n",
       "      <td>0.965000</td>\n",
       "      <td>0.900500</td>\n",
       "      <td>0.245500</td>\n",
       "      <td>0.669250</td>\n",
       "      <td>0.343500</td>\n",
       "      <td>0.732250</td>\n",
       "      <td>0.974250</td>\n",
       "      <td>0.50350</td>\n",
       "      <td>0.308500</td>\n",
       "      <td>0.193500</td>\n",
       "    </tr>\n",
       "    <tr>\n",
       "      <th>pval04</th>\n",
       "      <td>0.43000</td>\n",
       "      <td>0.327500</td>\n",
       "      <td>0.310750</td>\n",
       "      <td>0.863750</td>\n",
       "      <td>0.430250</td>\n",
       "      <td>0.158750</td>\n",
       "      <td>0.361000</td>\n",
       "      <td>0.929000</td>\n",
       "      <td>0.986250</td>\n",
       "      <td>0.332250</td>\n",
       "      <td>...</td>\n",
       "      <td>0.928750</td>\n",
       "      <td>0.290000</td>\n",
       "      <td>0.353750</td>\n",
       "      <td>0.092250</td>\n",
       "      <td>0.187000</td>\n",
       "      <td>0.404500</td>\n",
       "      <td>0.816250</td>\n",
       "      <td>0.22425</td>\n",
       "      <td>0.389750</td>\n",
       "      <td>0.560250</td>\n",
       "    </tr>\n",
       "    <tr>\n",
       "      <th>pval05</th>\n",
       "      <td>0.15675</td>\n",
       "      <td>0.068500</td>\n",
       "      <td>0.565750</td>\n",
       "      <td>0.164250</td>\n",
       "      <td>0.986250</td>\n",
       "      <td>0.733250</td>\n",
       "      <td>0.693000</td>\n",
       "      <td>0.662750</td>\n",
       "      <td>0.519750</td>\n",
       "      <td>0.632750</td>\n",
       "      <td>...</td>\n",
       "      <td>0.675500</td>\n",
       "      <td>0.692250</td>\n",
       "      <td>0.738500</td>\n",
       "      <td>0.486250</td>\n",
       "      <td>0.681750</td>\n",
       "      <td>0.335000</td>\n",
       "      <td>0.100500</td>\n",
       "      <td>0.71725</td>\n",
       "      <td>0.280750</td>\n",
       "      <td>0.435000</td>\n",
       "    </tr>\n",
       "    <tr>\n",
       "      <th>pval06</th>\n",
       "      <td>0.07725</td>\n",
       "      <td>0.308500</td>\n",
       "      <td>0.634250</td>\n",
       "      <td>0.534250</td>\n",
       "      <td>0.835500</td>\n",
       "      <td>0.155000</td>\n",
       "      <td>0.637250</td>\n",
       "      <td>0.233750</td>\n",
       "      <td>0.685000</td>\n",
       "      <td>0.366750</td>\n",
       "      <td>...</td>\n",
       "      <td>0.807250</td>\n",
       "      <td>0.660500</td>\n",
       "      <td>0.302750</td>\n",
       "      <td>0.798500</td>\n",
       "      <td>0.730750</td>\n",
       "      <td>0.893000</td>\n",
       "      <td>0.462500</td>\n",
       "      <td>0.92375</td>\n",
       "      <td>0.877500</td>\n",
       "      <td>0.367500</td>\n",
       "    </tr>\n",
       "    <tr>\n",
       "      <th>pval07</th>\n",
       "      <td>0.68075</td>\n",
       "      <td>0.544250</td>\n",
       "      <td>0.704750</td>\n",
       "      <td>0.411750</td>\n",
       "      <td>0.064250</td>\n",
       "      <td>0.373000</td>\n",
       "      <td>0.613500</td>\n",
       "      <td>0.689500</td>\n",
       "      <td>0.324250</td>\n",
       "      <td>0.525000</td>\n",
       "      <td>...</td>\n",
       "      <td>0.076000</td>\n",
       "      <td>0.750750</td>\n",
       "      <td>0.767250</td>\n",
       "      <td>0.664000</td>\n",
       "      <td>0.434750</td>\n",
       "      <td>0.656250</td>\n",
       "      <td>0.207000</td>\n",
       "      <td>0.51050</td>\n",
       "      <td>0.582000</td>\n",
       "      <td>0.931750</td>\n",
       "    </tr>\n",
       "    <tr>\n",
       "      <th>pval08</th>\n",
       "      <td>0.13075</td>\n",
       "      <td>0.874750</td>\n",
       "      <td>0.582500</td>\n",
       "      <td>0.154000</td>\n",
       "      <td>0.304500</td>\n",
       "      <td>0.899500</td>\n",
       "      <td>0.638250</td>\n",
       "      <td>0.074000</td>\n",
       "      <td>0.336000</td>\n",
       "      <td>0.662750</td>\n",
       "      <td>...</td>\n",
       "      <td>0.028250</td>\n",
       "      <td>0.549000</td>\n",
       "      <td>0.658250</td>\n",
       "      <td>0.137000</td>\n",
       "      <td>0.519750</td>\n",
       "      <td>0.327250</td>\n",
       "      <td>0.789500</td>\n",
       "      <td>0.21675</td>\n",
       "      <td>0.177000</td>\n",
       "      <td>0.699750</td>\n",
       "    </tr>\n",
       "    <tr>\n",
       "      <th>pval09</th>\n",
       "      <td>0.03450</td>\n",
       "      <td>0.169750</td>\n",
       "      <td>0.034000</td>\n",
       "      <td>0.636000</td>\n",
       "      <td>0.772250</td>\n",
       "      <td>0.169750</td>\n",
       "      <td>0.358500</td>\n",
       "      <td>0.627000</td>\n",
       "      <td>0.344500</td>\n",
       "      <td>0.954250</td>\n",
       "      <td>...</td>\n",
       "      <td>0.669250</td>\n",
       "      <td>0.030000</td>\n",
       "      <td>0.483250</td>\n",
       "      <td>0.817500</td>\n",
       "      <td>0.878000</td>\n",
       "      <td>0.333750</td>\n",
       "      <td>0.430500</td>\n",
       "      <td>0.47575</td>\n",
       "      <td>0.514750</td>\n",
       "      <td>0.403000</td>\n",
       "    </tr>\n",
       "    <tr>\n",
       "      <th>pval10</th>\n",
       "      <td>0.82725</td>\n",
       "      <td>0.928750</td>\n",
       "      <td>0.459250</td>\n",
       "      <td>0.438500</td>\n",
       "      <td>0.046250</td>\n",
       "      <td>0.676250</td>\n",
       "      <td>0.205000</td>\n",
       "      <td>0.013750</td>\n",
       "      <td>0.267250</td>\n",
       "      <td>0.513750</td>\n",
       "      <td>...</td>\n",
       "      <td>0.012750</td>\n",
       "      <td>0.685250</td>\n",
       "      <td>0.255250</td>\n",
       "      <td>0.677000</td>\n",
       "      <td>0.324000</td>\n",
       "      <td>0.530000</td>\n",
       "      <td>0.206500</td>\n",
       "      <td>0.63950</td>\n",
       "      <td>0.629750</td>\n",
       "      <td>0.443500</td>\n",
       "    </tr>\n",
       "    <tr>\n",
       "      <th>pval11</th>\n",
       "      <td>0.81900</td>\n",
       "      <td>0.769750</td>\n",
       "      <td>0.433250</td>\n",
       "      <td>0.240250</td>\n",
       "      <td>0.536750</td>\n",
       "      <td>0.760000</td>\n",
       "      <td>0.779750</td>\n",
       "      <td>0.618000</td>\n",
       "      <td>0.126000</td>\n",
       "      <td>0.262750</td>\n",
       "      <td>...</td>\n",
       "      <td>0.042000</td>\n",
       "      <td>0.850750</td>\n",
       "      <td>0.952250</td>\n",
       "      <td>0.512500</td>\n",
       "      <td>0.653750</td>\n",
       "      <td>0.578750</td>\n",
       "      <td>0.085500</td>\n",
       "      <td>0.58150</td>\n",
       "      <td>0.843500</td>\n",
       "      <td>0.865500</td>\n",
       "    </tr>\n",
       "  </tbody>\n",
       "</table>\n",
       "<p>15 rows × 10000 columns</p>\n",
       "</div>"
      ],
      "text/plain": [
       "              toybin0000  toybin0001  toybin0002  toybin0003  toybin0004  \\\n",
       "sigma_median     0.37000    0.250000    0.470000    0.300000    0.500000   \n",
       "mcse             0.00326    0.003117    0.003496    0.003254    0.003676   \n",
       "rhat             1.00000    1.000000    1.000000    1.000000    1.000000   \n",
       "pval00           0.78775    0.164250    0.712000    0.595000    0.702250   \n",
       "pval01           0.70000    0.629500    0.060250    0.855750    0.520750   \n",
       "pval02           0.83950    0.764500    0.492000    0.484500    0.656000   \n",
       "pval03           0.83550    0.651250    0.944500    0.582750    0.142250   \n",
       "pval04           0.43000    0.327500    0.310750    0.863750    0.430250   \n",
       "pval05           0.15675    0.068500    0.565750    0.164250    0.986250   \n",
       "pval06           0.07725    0.308500    0.634250    0.534250    0.835500   \n",
       "pval07           0.68075    0.544250    0.704750    0.411750    0.064250   \n",
       "pval08           0.13075    0.874750    0.582500    0.154000    0.304500   \n",
       "pval09           0.03450    0.169750    0.034000    0.636000    0.772250   \n",
       "pval10           0.82725    0.928750    0.459250    0.438500    0.046250   \n",
       "pval11           0.81900    0.769750    0.433250    0.240250    0.536750   \n",
       "\n",
       "              toybin0005  toybin0006  toybin0007  toybin0008  toybin0009  ...  \\\n",
       "sigma_median    0.500000    0.170000    0.190000    0.130000    0.250000  ...   \n",
       "mcse            0.003414    0.002913    0.002893    0.003724    0.003057  ...   \n",
       "rhat            1.000000    1.000000    1.000000    1.000000    1.000000  ...   \n",
       "pval00          0.945500    0.943250    0.886250    0.681000    0.002500  ...   \n",
       "pval01          0.123250    0.092750    0.443750    0.876000    0.904000  ...   \n",
       "pval02          0.737750    0.077750    0.557500    0.375750    0.565750  ...   \n",
       "pval03          0.299000    0.732500    0.677750    0.261000    0.506000  ...   \n",
       "pval04          0.158750    0.361000    0.929000    0.986250    0.332250  ...   \n",
       "pval05          0.733250    0.693000    0.662750    0.519750    0.632750  ...   \n",
       "pval06          0.155000    0.637250    0.233750    0.685000    0.366750  ...   \n",
       "pval07          0.373000    0.613500    0.689500    0.324250    0.525000  ...   \n",
       "pval08          0.899500    0.638250    0.074000    0.336000    0.662750  ...   \n",
       "pval09          0.169750    0.358500    0.627000    0.344500    0.954250  ...   \n",
       "pval10          0.676250    0.205000    0.013750    0.267250    0.513750  ...   \n",
       "pval11          0.760000    0.779750    0.618000    0.126000    0.262750  ...   \n",
       "\n",
       "              toybin9990  toybin9991  toybin9992  toybin9993  toybin9994  \\\n",
       "sigma_median    0.340000    0.160000    0.270000    0.260000    0.170000   \n",
       "mcse            0.003691    0.003208    0.002497    0.003639    0.002842   \n",
       "rhat            1.000000    1.000000    1.000000    1.000000    1.000000   \n",
       "pval00          0.859250    0.147750    0.496500    0.875500    0.598000   \n",
       "pval01          0.864750    0.694500    0.102750    0.524750    0.297250   \n",
       "pval02          0.511750    0.053750    0.560250    0.025750    0.369000   \n",
       "pval03          0.965000    0.900500    0.245500    0.669250    0.343500   \n",
       "pval04          0.928750    0.290000    0.353750    0.092250    0.187000   \n",
       "pval05          0.675500    0.692250    0.738500    0.486250    0.681750   \n",
       "pval06          0.807250    0.660500    0.302750    0.798500    0.730750   \n",
       "pval07          0.076000    0.750750    0.767250    0.664000    0.434750   \n",
       "pval08          0.028250    0.549000    0.658250    0.137000    0.519750   \n",
       "pval09          0.669250    0.030000    0.483250    0.817500    0.878000   \n",
       "pval10          0.012750    0.685250    0.255250    0.677000    0.324000   \n",
       "pval11          0.042000    0.850750    0.952250    0.512500    0.653750   \n",
       "\n",
       "              toybin9995  toybin9996  toybin9997  toybin9998  toybin9999  \n",
       "sigma_median    0.190000    0.400000     0.31000    0.300000    0.210000  \n",
       "mcse            0.003099    0.003189     0.00320    0.003277    0.003482  \n",
       "rhat            1.000000    1.000000     1.00000    1.000000    1.000000  \n",
       "pval00          0.449250    0.697250     0.39500    0.959750    0.599750  \n",
       "pval01          0.159750    0.487250     0.56975    0.395500    0.018000  \n",
       "pval02          0.589250    0.605750     0.26850    0.077000    0.736500  \n",
       "pval03          0.732250    0.974250     0.50350    0.308500    0.193500  \n",
       "pval04          0.404500    0.816250     0.22425    0.389750    0.560250  \n",
       "pval05          0.335000    0.100500     0.71725    0.280750    0.435000  \n",
       "pval06          0.893000    0.462500     0.92375    0.877500    0.367500  \n",
       "pval07          0.656250    0.207000     0.51050    0.582000    0.931750  \n",
       "pval08          0.327250    0.789500     0.21675    0.177000    0.699750  \n",
       "pval09          0.333750    0.430500     0.47575    0.514750    0.403000  \n",
       "pval10          0.530000    0.206500     0.63950    0.629750    0.443500  \n",
       "pval11          0.578750    0.085500     0.58150    0.843500    0.865500  \n",
       "\n",
       "[15 rows x 10000 columns]"
      ]
     },
     "execution_count": 3,
     "metadata": {},
     "output_type": "execute_result"
    }
   ],
   "source": [
    "diagnostics_df"
   ]
  },
  {
   "cell_type": "code",
   "execution_count": 5,
   "id": "94ec6f79",
   "metadata": {},
   "outputs": [
    {
     "data": {
      "image/png": "[encoded data removed]",
      "text/plain": [
       "<Figure size 432x288 with 1 Axes>"
      ]
     },
     "metadata": {
      "needs_background": "light"
     },
     "output_type": "display_data"
    }
   ],
   "source": [
    "plt.hist(np.abs(np.array(diagnostics_df.loc['mcse'].values)/np.array(diagnostics_df.loc['sigma_median'].values)),histtype='step',log=True,bins=20)\n",
    "#plt.hist(np.abs(np.array(diagnostics_df.loc['mcse'].values)),histtype='step',bins=20)\n",
    "plt.xlabel('$\\Delta M(p(\\Sigma|y))$')\n",
    "plt.grid(False)\n",
    "#plt.xscale('log')\n",
    "#plt.savefig('./plots/toyMC_mcse_hist_raw.pdf',format='pdf',dpi=1000,bbox_inches='tight')\n",
    "plt.show()"
   ]
  },
  {
   "cell_type": "code",
   "execution_count": 20,
   "id": "210d6a73",
   "metadata": {},
   "outputs": [
    {
     "data": {
      "text/plain": [
       "1.0"
      ]
     },
     "execution_count": 20,
     "metadata": {},
     "output_type": "execute_result"
    }
   ],
   "source": [
    "rel_err=np.abs(np.array(diagnostics_df.loc['mcse'].values)/np.array(diagnostics_df.loc['sigma_median'].values))\n",
    "len(rel_err[rel_err<=0.05])/len(rel_err)"
   ]
  },
  {
   "cell_type": "code",
   "execution_count": 21,
   "id": "c53105cd",
   "metadata": {},
   "outputs": [
    {
     "data": {
      "text/plain": [
       "array([], dtype=float64)"
      ]
     },
     "execution_count": 21,
     "metadata": {},
     "output_type": "execute_result"
    }
   ],
   "source": [
    "index=np.where(rel_err>=0.05)\n",
    "np.array(diagnostics_df.loc['sigma_median'].values)[index]"
   ]
  },
  {
   "cell_type": "code",
   "execution_count": 22,
   "id": "9510a9c1",
   "metadata": {},
   "outputs": [
    {
     "data": {
      "text/plain": [
       "120000"
      ]
     },
     "execution_count": 22,
     "metadata": {},
     "output_type": "execute_result"
    }
   ],
   "source": [
    "pvals=diagnostics_df.loc[[f'pval{i:02d}' for i in range(12)]]\n",
    "len(pvals.values.ravel())"
   ]
  },
  {
   "cell_type": "code",
   "execution_count": 29,
   "id": "0ae1c738",
   "metadata": {},
   "outputs": [],
   "source": [
    "all_sigmas=[]\n",
    "for i in range(len(sigma_df.columns)):\n",
    "    all_sigmas.extend((np.array(sigma_df[f'toybin{i:04d}'].values)-0.3)/np.std(sigma_df[f'toybin{i:04d}'].values))\n"
   ]
  },
  {
   "cell_type": "code",
   "execution_count": 30,
   "id": "8fd4c203",
   "metadata": {},
   "outputs": [
    {
     "name": "stderr",
     "output_type": "stream",
     "text": [
      "Warning in <TROOT::Append>: Replacing existing TH1: h (Potential memory leak).\n"
     ]
    }
   ],
   "source": [
    "h=r.TH1D(\"h\",\"h\",100,-5,5)\n",
    "for i in range(len(all_sigmas)):\n",
    "    h.Fill(all_sigmas[i])\n"
   ]
  },
  {
   "cell_type": "code",
   "execution_count": 31,
   "id": "386e82b2",
   "metadata": {},
   "outputs": [
    {
     "data": {
      "text/plain": [
       "<cppyy.gbl.TLatex object at 0x563c65f76090>"
      ]
     },
     "execution_count": 31,
     "metadata": {},
     "output_type": "execute_result"
    },
    {
     "name": "stdout",
     "output_type": "stream",
     "text": [
      " FCN=185.62 FROM MIGRAD    STATUS=CONVERGED      62 CALLS          63 TOTAL\n",
      "                     EDM=4.1045e-12    STRATEGY= 1      ERROR MATRIX ACCURATE \n",
      "  EXT PARAMETER                                   STEP         FIRST   \n",
      "  NO.   NAME      VALUE            ERROR          SIZE      DERIVATIVE \n",
      "   1  Constant     1.11419e+06   2.17049e+02   1.17488e+00   1.32680e-08\n",
      "   2  Mean        -5.30354e-02   2.27222e-04   1.51565e-06  -3.42274e-04\n",
      "   3  Sigma        1.43215e+00   1.63919e-04   4.41667e-07   8.72721e-02\n"
     ]
    },
    {
     "name": "stderr",
     "output_type": "stream",
     "text": [
      "Warning in <TCanvas::Constructor>: Deleting canvas with same name: c\n"
     ]
    },
    {
     "data": {
      "text/html": [
       "\n",
       "\n",
       "<div id=\"root_plot_1651043535322\"\n",
       "     style=\"width: 696px; height: 472px\">\n",
       "</div>\n",
       "<script>\n",
       "\n",
       "function display_root_plot_1651043535322(Core) {\n",
       "   let obj = Core.parse({\"_typename\":\"TCanvas\",\"fUniqueID\":0,\"fBits\":3342344,\"fLineColor\":1,\"fLineStyle\":1,\"fLineWidth\":1,\"fFillColor\":0,\"fFillStyle\":1001,\"fLeftMargin\":0.1,\"fRightMargin\":0.1,\"fBottomMargin\":0.15,\"fTopMargin\":0.1,\"fXfile\":2,\"fYfile\":2,\"fAfile\":1,\"fXstat\":0.99,\"fYstat\":0.99,\"fAstat\":2,\"fFrameFillColor\":0,\"fFrameLineColor\":1,\"fFrameFillStyle\":1001,\"fFrameLineStyle\":1,\"fFrameLineWidth\":1,\"fFrameBorderSize\":1,\"fFrameBorderMode\":0,\"fX1\":-6.25000009313226,\"fY1\":-234094.77930209,\"fX2\":6.25000009313226,\"fY2\":1326537.03232552,\"fXtoAbsPixelk\":348.00005,\"fXtoPixelk\":348.00005,\"fXtoPixel\":55.6799991703033,\"fYtoAbsPixelk\":401.200047714162,\"fYtoPixelk\":401.200047714162,\"fYtoPixel\":-3.02441611457184e-4,\"fUtoAbsPixelk\":5e-5,\"fUtoPixelk\":5e-5,\"fUtoPixel\":696,\"fVtoAbsPixelk\":472.00005,\"fVtoPixelk\":472,\"fVtoPixel\":-472,\"fAbsPixeltoXk\":-6.25000009313226,\"fPixeltoXk\":-6.25000009313226,\"fPixeltoX\":0.017959770382564,\"fAbsPixeltoYk\":1326537.03232552,\"fPixeltoYk\":-234094.77930209,\"fPixeltoY\":-3306.42332971952,\"fXlowNDC\":0,\"fYlowNDC\":0,\"fXUpNDC\":1,\"fYUpNDC\":1,\"fWNDC\":1,\"fHNDC\":1,\"fAbsXlowNDC\":0,\"fAbsYlowNDC\":0,\"fAbsWNDC\":1,\"fAbsHNDC\":1,\"fUxmin\":-5,\"fUymin\":0,\"fUxmax\":5,\"fUymax\":1170473.85,\"fTheta\":30,\"fPhi\":30,\"fAspectRatio\":0,\"fNumber\":0,\"fTickx\":0,\"fTicky\":0,\"fLogx\":0,\"fLogy\":0,\"fLogz\":0,\"fPadPaint\":0,\"fCrosshair\":0,\"fCrosshairPos\":0,\"fBorderSize\":2,\"fBorderMode\":0,\"fModified\":true,\"fGridx\":false,\"fGridy\":false,\"fAbsCoord\":false,\"fEditable\":true,\"fFixedAspectRatio\":false,\"fPrimitives\":{\"_typename\":\"TList\",\"name\":\"TList\",\"arr\":[{\"_typename\":\"TFrame\",\"fUniqueID\":0,\"fBits\":8,\"fLineColor\":1,\"fLineStyle\":1,\"fLineWidth\":1,\"fFillColor\":0,\"fFillStyle\":1001,\"fX1\":-5,\"fY1\":0,\"fX2\":5,\"fY2\":1170473.85,\"fBorderSize\":1,\"fBorderMode\":0},{\"_typename\":\"TH1D\",\"fUniqueID\":0,\"fBits\":520,\"fName\":\"h\",\"fTitle\":\"\",\"fLineColor\":602,\"fLineStyle\":1,\"fLineWidth\":1,\"fFillColor\":0,\"fFillStyle\":1001,\"fMarkerColor\":1,\"fMarkerStyle\":1,\"fMarkerSize\":1,\"fNcells\":102,\"fXaxis\":{\"_typename\":\"TAxis\",\"fUniqueID\":0,\"fBits\":0,\"fName\":\"xaxis\",\"fTitle\":\"#font[132]{#frac{p(#Sigma|D_{#it{i}})-#Sigma_{true}}{std(p(#Sigma|D_{#it{i}}))}}\",\"fNdivisions\":510,\"fAxisColor\":1,\"fLabelColor\":1,\"fLabelFont\":132,\"fLabelOffset\":0.005,\"fLabelSize\":0.035,\"fTickLength\":0.03,\"fTitleOffset\":1.5,\"fTitleSize\":0.035,\"fTitleColor\":1,\"fTitleFont\":42,\"fNbins\":100,\"fXmin\":-5,\"fXmax\":5,\"fXbins\":[],\"fFirst\":0,\"fLast\":0,\"fBits2\":0,\"fTimeDisplay\":false,\"fTimeFormat\":\"\",\"fLabels\":null,\"fModLabs\":null},\"fYaxis\":{\"_typename\":\"TAxis\",\"fUniqueID\":0,\"fBits\":0,\"fName\":\"yaxis\",\"fTitle\":\"#font[132]{counts}\",\"fNdivisions\":0,\"fAxisColor\":1,\"fLabelColor\":1,\"fLabelFont\":132,\"fLabelOffset\":0.005,\"fLabelSize\":0,\"fTickLength\":0.03,\"fTitleOffset\":0,\"fTitleSize\":0.035,\"fTitleColor\":1,\"fTitleFont\":42,\"fNbins\":1,\"fXmin\":0,\"fXmax\":1,\"fXbins\":[],\"fFirst\":0,\"fLast\":0,\"fBits2\":0,\"fTimeDisplay\":false,\"fTimeFormat\":\"\",\"fLabels\":null,\"fModLabs\":null},\"fZaxis\":{\"_typename\":\"TAxis\",\"fUniqueID\":0,\"fBits\":0,\"fName\":\"zaxis\",\"fTitle\":\"\",\"fNdivisions\":510,\"fAxisColor\":1,\"fLabelColor\":1,\"fLabelFont\":42,\"fLabelOffset\":0.005,\"fLabelSize\":0.035,\"fTickLength\":0.03,\"fTitleOffset\":1,\"fTitleSize\":0.035,\"fTitleColor\":1,\"fTitleFont\":42,\"fNbins\":1,\"fXmin\":0,\"fXmax\":1,\"fXbins\":[],\"fFirst\":0,\"fLast\":0,\"fBits2\":0,\"fTimeDisplay\":false,\"fTimeFormat\":\"\",\"fLabels\":null,\"fModLabs\":null},\"fBarOffset\":0,\"fBarWidth\":1000,\"fEntries\":40000000,\"fTsumw\":39978937,\"fTsumw2\":39978937,\"fTsumwx\":-2106788.01399488,\"fTsumwx2\":81562250.1615984,\"fMaximum\":-1111,\"fMinimum\":-1111,\"fNormFactor\":0,\"fContour\":[],\"fSumw2\":[],\"fOption\":\"\",\"fFunctions\":{\"_typename\":\"TList\",\"name\":\"TList\",\"arr\":[{\"_typename\":\"TF1\",\"fUniqueID\":0,\"fBits\":1024,\"fName\":\"f\",\"fTitle\":\"gaus\",\"fLineColor\":2,\"fLineStyle\":1,\"fLineWidth\":2,\"fFillColor\":19,\"fFillStyle\":0,\"fMarkerColor\":1,\"fMarkerStyle\":1,\"fMarkerSize\":1,\"fXmin\":-5,\"fXmax\":5,\"fNpar\":3,\"fNdim\":1,\"fNpx\":100,\"fType\":0,\"fNpfits\":100,\"fNDF\":97,\"fChisquare\":185.619967317558,\"fMinimum\":-1111,\"fMaximum\":-1111,\"fParErrors\":[217.049405120232,2.2722214351801e-4,1.63918695294196e-4],\"fParMin\":[0,0,0],\"fParMax\":[0,0,14.276405239327],\"fSave\":{\"$arr\":\"Float64\",\"len\":103,\"v\":[2857.88924740791,3628.56027509482,4584.64672497059,5764.4781611117,7212.68071244045,8980.82024964999,11128.0197584298,13721.5243120239,16837.1824554488,20559.8084519439,24983.3859766409,30211.0707770768,36354.9478866433,43535.4985212289,51880.7331541193,61524.950768968,72607.0902072352,85268.6480538421,99651.1487427063,115893.166487961,134126.915086654,154474.440261411,177043.469511518,201922.995740076,229178.692383157,258848.2784042,290936.970247638,325413.173525461,362204.578691619,401194.831156951,442220.946258097,485071.632466282,529486.671723317,575157.483666779,621728.970969631,668802.706685345,715941.482375,762675.189299752,808507.955833495,852926.41450236,895408.923888961,935435.526324369,972498.384059522,1006112.40652078,1035825.7610804,1061229.95087753,1081969.14647794,1097748.47386596,1108340.9891225,1113593.10925692,1113428.31755266,1107849.01847699,1096936.47930331,1080848.86042731,1059817.40110398,1034140.88917682,1004178.59965208,970341.935321005,933085.041100439,892894.690904345,850279.760810336,805760.60478584,759858.639628462,713086.424955872,665938.49344516,618883.147859928,572355.396789886,526751.152698424,482422.766101737,439675.920679361,398767.867842206,359906.937484203,323253.225697202,288920.331128575,256977.989996356,227455.445739777,200345.382696488,175608.253560982,153176.836926114,132960.872977619,114851.641309407,98726.3637062561,84452.3354577476,71890.7102425573,60899.8848831998,51338.4504870592,43067.6949923793,35953.658432941,29868.7559995086,24692.9950488132,20314.8205757258,16631.6294279074,13549.9969086973,10985.6606588365,8863.30615216982,7116.19612843651,5685.68316308192,4520.64066997931,3576.84325008686,2816.32270214238,2206.72142255976,-5,5]},\"fNormalized\":false,\"fNormIntegral\":0,\"fFormula\":{\"_typename\":\"TFormula\",\"fUniqueID\":0,\"fBits\":1024,\"fName\":\"f\",\"fTitle\":\"gaus\",\"fClingParameters\":[1114192.03813707,-0.0530354267323013,1.43215295760455],\"fAllParametersSetted\":true,\"fParams\":[{\"$pair\":\"pair<TString,int,TFormulaParamOrder>\",\"first\":\"Constant\",\"second\":0},{\"$pair\":\"pair<TString,int,TFormulaParamOrder>\",\"first\":\"Mean\",\"second\":1},{\"$pair\":\"pair<TString,int,TFormulaParamOrder>\",\"first\":\"Sigma\",\"second\":2}],\"fFormula\":\"[Constant]*exp(-0.5*((x-[Mean])\\/[Sigma])*((x-[Mean])\\/[Sigma]))\",\"fNdim\":1,\"fLinearParts\":[],\"fVectorized\":false},\"fParams\":null,\"fComposition\":null}],\"opt\":[\"\"]},\"fBufferSize\":0,\"fBuffer\":[],\"fBinStatErrOpt\":0,\"fStatOverflows\":2,\"fArray\":{\"$arr\":\"Float64\",\"len\":102,\"v\":[11600,3312,4138,5146,6529,8297,10022,12449,15045,18563,22875,27422,33231,40179,47315,56239,66939,78826,91938,107571,124404,143693,165091,189352,215241,243071,274878,308969,343695,381738,421354,463089,507191,551992,598275,645574,692342,739214,784132,830826,874452,916855,953539,989257,1020812,1050217,1069936,1089498,1106190,1109063,1114737,1112930,1101435,1089757,1072653,1047772,1019587,990431,953680,915507,871833,829909,781621,736909,689425,642436,595594,549182,504059,460996,418383,378294,341651,305231,272722,240697,212742,186337,163945,142823,123161,105764,91184,77996,66102,56279,46900,39526,32698,27210,22472,18736,15205,12248,10121,8068,6467,5235,4253,3470,2588,9463]}},{\"_typename\":\"TLatex\",\"fUniqueID\":0,\"fBits\":9,\"fName\":\"\",\"fTitle\":\"#color[2]{#font[132]{#mu=-0.0530#pm0.0002, #sigma=1.4322#pm0.0002}}\",\"fTextAngle\":0,\"fTextSize\":0.05,\"fTextAlign\":22,\"fTextColor\":1,\"fTextFont\":62,\"fX\":0,\"fY\":5000,\"fLineColor\":1,\"fLineStyle\":1,\"fLineWidth\":2,\"fLimitFactorSize\":3,\"fOriginSize\":0.04},{\"_typename\":\"TStyle\",\"fUniqueID\":0,\"fBits\":0,\"fName\":\"Modern\",\"fTitle\":\"Modern Style\",\"fLineColor\":1,\"fLineStyle\":1,\"fLineWidth\":1,\"fFillColor\":19,\"fFillStyle\":1001,\"fMarkerColor\":1,\"fMarkerStyle\":1,\"fMarkerSize\":1,\"fTextAngle\":0,\"fTextSize\":0.05,\"fTextAlign\":11,\"fTextColor\":1,\"fTextFont\":62,\"fXaxis\":{\"_typename\":\"TAttAxis\",\"fNdivisions\":510,\"fAxisColor\":1,\"fLabelColor\":1,\"fLabelFont\":42,\"fLabelOffset\":0.005,\"fLabelSize\":0.035,\"fTickLength\":0.03,\"fTitleOffset\":1,\"fTitleSize\":0.035,\"fTitleColor\":1,\"fTitleFont\":42},\"fYaxis\":{\"_typename\":\"TAttAxis\",\"fNdivisions\":510,\"fAxisColor\":1,\"fLabelColor\":1,\"fLabelFont\":42,\"fLabelOffset\":0.005,\"fLabelSize\":0.035,\"fTickLength\":0.03,\"fTitleOffset\":0,\"fTitleSize\":0.035,\"fTitleColor\":1,\"fTitleFont\":42},\"fZaxis\":{\"_typename\":\"TAttAxis\",\"fNdivisions\":510,\"fAxisColor\":1,\"fLabelColor\":1,\"fLabelFont\":42,\"fLabelOffset\":0.005,\"fLabelSize\":0.035,\"fTickLength\":0.03,\"fTitleOffset\":1,\"fTitleSize\":0.035,\"fTitleColor\":1,\"fTitleFont\":42},\"fBarWidth\":1,\"fBarOffset\":0,\"fColorModelPS\":0,\"fDrawBorder\":0,\"fOptLogx\":0,\"fOptLogy\":0,\"fOptLogz\":0,\"fOptDate\":0,\"fOptStat\":0,\"fOptTitle\":1,\"fOptFile\":0,\"fOptFit\":0,\"fShowEventStatus\":0,\"fShowEditor\":0,\"fShowToolBar\":0,\"fNumberContours\":20,\"fAttDate\":{\"_typename\":\"TAttText\",\"fTextAngle\":0,\"fTextSize\":0.025,\"fTextAlign\":11,\"fTextColor\":1,\"fTextFont\":62},\"fDateX\":0.01,\"fDateY\":0.01,\"fEndErrorSize\":2,\"fErrorX\":0.5,\"fFuncColor\":2,\"fFuncStyle\":1,\"fFuncWidth\":2,\"fGridColor\":0,\"fGridStyle\":3,\"fGridWidth\":1,\"fLegendBorderSize\":1,\"fLegendFillColor\":0,\"fLegendFont\":42,\"fLegendTextSize\":0,\"fHatchesLineWidth\":1,\"fHatchesSpacing\":1,\"fFrameFillColor\":0,\"fFrameLineColor\":1,\"fFrameFillStyle\":1001,\"fFrameLineStyle\":1,\"fFrameLineWidth\":1,\"fFrameBorderSize\":1,\"fFrameBorderMode\":0,\"fHistFillColor\":0,\"fHistLineColor\":602,\"fHistFillStyle\":1001,\"fHistLineStyle\":1,\"fHistLineWidth\":1,\"fHistMinimumZero\":false,\"fHistTopMargin\":0.05,\"fCanvasPreferGL\":false,\"fCanvasColor\":0,\"fCanvasBorderSize\":2,\"fCanvasBorderMode\":0,\"fCanvasDefH\":500,\"fCanvasDefW\":700,\"fCanvasDefX\":10,\"fCanvasDefY\":10,\"fPadColor\":0,\"fPadBorderSize\":2,\"fPadBorderMode\":0,\"fPadBottomMargin\":0.1,\"fPadTopMargin\":0.1,\"fPadLeftMargin\":0.1,\"fPadRightMargin\":0.1,\"fPadGridX\":false,\"fPadGridY\":false,\"fPadTickX\":0,\"fPadTickY\":0,\"fPaperSizeX\":20,\"fPaperSizeY\":26,\"fScreenFactor\":1,\"fStatColor\":0,\"fStatTextColor\":1,\"fStatBorderSize\":1,\"fStatFont\":42,\"fStatFontSize\":0,\"fStatStyle\":1001,\"fStatFormat\":\"6.4g\",\"fStatX\":0.98,\"fStatY\":0.935,\"fStatW\":0.2,\"fStatH\":0.16,\"fStripDecimals\":true,\"fTitleAlign\":23,\"fTitleColor\":0,\"fTitleTextColor\":1,\"fTitleBorderSize\":0,\"fTitleFont\":42,\"fTitleFontSize\":0.05,\"fTitleStyle\":0,\"fTitleX\":0.5,\"fTitleY\":0.995,\"fTitleW\":0,\"fTitleH\":0,\"fLegoInnerR\":0.5,\"fLineStyles\":[\"\",\"  \",\" 12 12\",\" 4 8\",\" 12 16 4 16\",\" 20 12 4 12\",\" 20 12 4 12 4 12 4 12\",\" 20 20\",\" 20 12 4 12 4 12\",\" 80 20\",\" 80 40 4 40\",\"  \",\"  \",\"  \",\"  \",\"  \",\"  \",\"  \",\"  \",\"  \",\"  \",\"  \",\"  \",\"  \",\"  \",\"  \",\"  \",\"  \",\"  \",\"  \"],\"fHeaderPS\":\"\",\"fTitlePS\":\"\",\"fFitFormat\":\"5.4g\",\"fPaintTextFormat\":\"g\",\"fLineScalePS\":3,\"fJoinLinePS\":0,\"fCapLinePS\":0,\"fTimeOffset\":788918400,\"fImageScaling\":1}],\"opt\":[\"\",\"\",\"\",\"\"]},\"fExecs\":null,\"fName\":\"c\",\"fTitle\":\"c\",\"fNumPaletteColor\":0,\"fNextPaletteColor\":0,\"fDISPLAY\":\"$DISPLAY\",\"fDoubleBuffer\":0,\"fRetained\":true,\"fXsizeUser\":0,\"fYsizeUser\":0,\"fXsizeReal\":20,\"fYsizeReal\":14.28571,\"fWindowTopX\":0,\"fWindowTopY\":0,\"fWindowWidth\":0,\"fWindowHeight\":0,\"fCw\":696,\"fCh\":472,\"fCatt\":{\"_typename\":\"TAttCanvas\",\"fXBetween\":2,\"fYBetween\":2,\"fTitleFromTop\":1.2,\"fXdate\":0.2,\"fYdate\":0.3,\"fAdate\":1},\"kMoveOpaque\":true,\"kResizeOpaque\":true,\"fHighLightColor\":2,\"fBatch\":true,\"kShowEventStatus\":false,\"kAutoExec\":true,\"kMenuBar\":true});\n",
       "   Core.settings.HandleKeys = false;\n",
       "   Core.draw(\"root_plot_1651043535322\", obj, \"\");\n",
       "}\n",
       "\n",
       "function script_load_root_plot_1651043535322(src, on_error) {\n",
       "    let script = document.createElement('script');\n",
       "    script.src = src;\n",
       "    script.onload = function() { display_root_plot_1651043535322(JSROOT); };\n",
       "    script.onerror = function() { script.remove(); on_error(); };\n",
       "    document.head.appendChild(script);\n",
       "}\n",
       "\n",
       "if (typeof requirejs !== 'undefined') {\n",
       "\n",
       "    // We are in jupyter notebooks, use require.js which should be configured already\n",
       "    requirejs.config({\n",
       "       paths: { 'JSRootCore' : [ 'scripts/JSRoot.core', 'https://root.cern/js/6.1.1/scripts/JSRoot.core.min', 'https://jsroot.gsi.de/6.1.1/scripts/JSRoot.core.min' ] }\n",
       "    })(['JSRootCore'],  function(Core) {\n",
       "       display_root_plot_1651043535322(Core);\n",
       "    });\n",
       "\n",
       "} else if (typeof JSROOT !== 'undefined') {\n",
       "\n",
       "   // JSROOT already loaded, just use it\n",
       "   display_root_plot_1651043535322(JSROOT);\n",
       "\n",
       "} else {\n",
       "\n",
       "    // We are in jupyterlab without require.js, directly loading jsroot\n",
       "    // Jupyterlab might be installed in a different base_url so we need to know it.\n",
       "    try {\n",
       "        var base_url = JSON.parse(document.getElementById('jupyter-config-data').innerHTML).baseUrl;\n",
       "    } catch(_) {\n",
       "        var base_url = '/';\n",
       "    }\n",
       "\n",
       "    // Try loading a local version of requirejs and fallback to cdn if not possible.\n",
       "    script_load_root_plot_1651043535322(base_url + 'static/scripts/JSRoot.core.js', function(){\n",
       "        console.error('Fail to load JSROOT locally, please check your jupyter_notebook_config.py file');\n",
       "        script_load_root_plot_1651043535322('https://root.cern/js/6.1.1/scripts/JSRoot.core.min.js', function(){\n",
       "            document.getElementById(\"root_plot_1651043535322\").innerHTML = \"Failed to load JSROOT\";\n",
       "        });\n",
       "    });\n",
       "}\n",
       "\n",
       "</script>\n"
      ],
      "text/plain": [
       "<IPython.core.display.HTML object>"
      ]
     },
     "metadata": {},
     "output_type": "display_data"
    }
   ],
   "source": [
    "c=r.TCanvas(\"c\",\"c\")\n",
    "c.Draw(\"\")\n",
    "c.SetBottomMargin(0.15)\n",
    "h.Draw(\"\")\n",
    "h.GetXaxis().SetLabelFont(132)\n",
    "h.GetYaxis().SetLabelFont(132)\n",
    "h.GetYaxis().SetTitle(\"#font[132]{counts}\")\n",
    "h.GetXaxis().SetTitle(\"#font[132]{#frac{p(#Sigma|D_{#it{i}})-#Sigma_{true}}{std(p(#Sigma|D_{#it{i}}))}}\")\n",
    "#h.GetXaxis().SetTitle(\"#font[132]{p(#Sigma|D_{#it{i}})}\")\n",
    "h.SetTitle(\"\")\n",
    "h.GetYaxis().SetNdivisions(0)\n",
    "h.GetYaxis().SetLabelSize(0)\n",
    "r.gStyle.SetOptStat(0)\n",
    "h.GetXaxis().SetTitleOffset(1.5)\n",
    "f=r.TF1(\"f\",\"gaus\",-5,5)\n",
    "h.Fit(f,\"S\")\n",
    "t=r.TLatex()\n",
    "t.SetTextAlign(22)\n",
    "mu = f.GetParameter(1)\n",
    "mu_err = f.GetParError(1)\n",
    "sigma=f.GetParameter(2)\n",
    "sigma_err=f.GetParError(2)\n",
    "t.DrawLatex(0,5e3,f\"#color[2]{{#font[132]{{#mu={mu:.4f}#pm{mu_err:.4f}, #sigma={sigma:.4f}#pm{sigma_err:.4f}}}}}\")"
   ]
  },
  {
   "cell_type": "code",
   "execution_count": 36,
   "id": "6175eb23",
   "metadata": {},
   "outputs": [],
   "source": [
    "sigma_chi2_df=pd.read_csv('./sigma_chi2.csv',index_col=0).join(pd.read_csv('./sigma_chi2_1.csv',index_col=0))\n"
   ]
  },
  {
   "cell_type": "code",
   "execution_count": 37,
   "id": "e66f53eb",
   "metadata": {},
   "outputs": [
    {
     "name": "stderr",
     "output_type": "stream",
     "text": [
      "Warning in <TROOT::Append>: Replacing existing TH1: h1 (Potential memory leak).\n"
     ]
    }
   ],
   "source": [
    "h1=r.TH1D(\"h1\",\"h1\",25,-5,5)\n",
    "for i in range(len(sigma_chi2_df.columns)):\n",
    "    h1.Fill((sigma_chi2_df[f'toybin{i:04d}']['sigma']-0.3)/sigma_chi2_df[f'toybin{i:04d}']['error'])"
   ]
  },
  {
   "cell_type": "code",
   "execution_count": 38,
   "id": "a099af69",
   "metadata": {},
   "outputs": [
    {
     "data": {
      "text/plain": [
       "<cppyy.gbl.TFitResultPtr object at 0x5590ba9532f0>"
      ]
     },
     "execution_count": 38,
     "metadata": {},
     "output_type": "execute_result"
    },
    {
     "name": "stdout",
     "output_type": "stream",
     "text": [
      " FCN=73.7807 FROM MIGRAD    STATUS=CONVERGED      60 CALLS          61 TOTAL\n",
      "                     EDM=2.89406e-10    STRATEGY= 1      ERROR MATRIX ACCURATE \n",
      "  EXT PARAMETER                                   STEP         FIRST   \n",
      "  NO.   NAME      VALUE            ERROR          SIZE      DERIVATIVE \n",
      "   1  Constant     1.38272e+03   1.80258e+01   5.86252e-02  -5.95467e-07\n",
      "   2  Mean        -7.81613e-02   1.14969e-02   4.85453e-05  -1.96489e-03\n",
      "   3  Sigma        1.14467e+00   9.52072e-03   8.89506e-06  -2.68460e-03\n"
     ]
    },
    {
     "name": "stderr",
     "output_type": "stream",
     "text": [
      "Warning in <TCanvas::Constructor>: Deleting canvas with same name: c1\n"
     ]
    },
    {
     "data": {
      "text/html": [
       "\n",
       "\n",
       "<div id=\"root_plot_1650463790217\"\n",
       "     style=\"width: 696px; height: 472px\">\n",
       "</div>\n",
       "<script>\n",
       "\n",
       "function display_root_plot_1650463790217(Core) {\n",
       "   let obj = Core.parse({\"_typename\":\"TCanvas\",\"fUniqueID\":0,\"fBits\":3342344,\"fLineColor\":1,\"fLineStyle\":1,\"fLineWidth\":1,\"fFillColor\":0,\"fFillStyle\":1001,\"fLeftMargin\":0.1,\"fRightMargin\":0.1,\"fBottomMargin\":0.15,\"fTopMargin\":0.1,\"fXfile\":2,\"fYfile\":2,\"fAfile\":1,\"fXstat\":0.99,\"fYstat\":0.99,\"fAstat\":2,\"fFrameFillColor\":0,\"fFrameLineColor\":1,\"fFrameFillStyle\":1001,\"fFrameLineStyle\":1,\"fFrameLineWidth\":1,\"fFrameBorderSize\":1,\"fFrameBorderMode\":0,\"fX1\":0,\"fY1\":0,\"fX2\":1,\"fY2\":1,\"fXtoAbsPixelk\":5e-5,\"fXtoPixelk\":5e-5,\"fXtoPixel\":696,\"fYtoAbsPixelk\":472.00005,\"fYtoPixelk\":472.00005,\"fYtoPixel\":-472,\"fUtoAbsPixelk\":5e-5,\"fUtoPixelk\":5e-5,\"fUtoPixel\":696,\"fVtoAbsPixelk\":472.00005,\"fVtoPixelk\":472,\"fVtoPixel\":-472,\"fAbsPixeltoXk\":0,\"fPixeltoXk\":0,\"fPixeltoX\":0.0014367816091954,\"fAbsPixeltoYk\":1,\"fPixeltoYk\":0,\"fPixeltoY\":-0.00211864406779661,\"fXlowNDC\":0,\"fYlowNDC\":0,\"fXUpNDC\":1,\"fYUpNDC\":1,\"fWNDC\":1,\"fHNDC\":1,\"fAbsXlowNDC\":0,\"fAbsYlowNDC\":0,\"fAbsWNDC\":1,\"fAbsHNDC\":1,\"fUxmin\":0,\"fUymin\":0,\"fUxmax\":1,\"fUymax\":1,\"fTheta\":30,\"fPhi\":30,\"fAspectRatio\":0,\"fNumber\":0,\"fTickx\":0,\"fTicky\":0,\"fLogx\":0,\"fLogy\":0,\"fLogz\":0,\"fPadPaint\":0,\"fCrosshair\":0,\"fCrosshairPos\":0,\"fBorderSize\":2,\"fBorderMode\":0,\"fModified\":true,\"fGridx\":false,\"fGridy\":false,\"fAbsCoord\":false,\"fEditable\":true,\"fFixedAspectRatio\":false,\"fPrimitives\":{\"_typename\":\"TList\",\"name\":\"TList\",\"arr\":[{\"_typename\":\"TH1D\",\"fUniqueID\":0,\"fBits\":520,\"fName\":\"h1\",\"fTitle\":\"h1\",\"fLineColor\":602,\"fLineStyle\":1,\"fLineWidth\":1,\"fFillColor\":0,\"fFillStyle\":1001,\"fMarkerColor\":1,\"fMarkerStyle\":1,\"fMarkerSize\":1,\"fNcells\":27,\"fXaxis\":{\"_typename\":\"TAxis\",\"fUniqueID\":0,\"fBits\":0,\"fName\":\"xaxis\",\"fTitle\":\"\",\"fNdivisions\":510,\"fAxisColor\":1,\"fLabelColor\":1,\"fLabelFont\":42,\"fLabelOffset\":0.005,\"fLabelSize\":0.035,\"fTickLength\":0.03,\"fTitleOffset\":1,\"fTitleSize\":0.035,\"fTitleColor\":1,\"fTitleFont\":42,\"fNbins\":25,\"fXmin\":-5,\"fXmax\":5,\"fXbins\":[],\"fFirst\":0,\"fLast\":0,\"fBits2\":0,\"fTimeDisplay\":false,\"fTimeFormat\":\"\",\"fLabels\":null,\"fModLabs\":null},\"fYaxis\":{\"_typename\":\"TAxis\",\"fUniqueID\":0,\"fBits\":0,\"fName\":\"yaxis\",\"fTitle\":\"\",\"fNdivisions\":510,\"fAxisColor\":1,\"fLabelColor\":1,\"fLabelFont\":42,\"fLabelOffset\":0.005,\"fLabelSize\":0.035,\"fTickLength\":0.03,\"fTitleOffset\":0,\"fTitleSize\":0.035,\"fTitleColor\":1,\"fTitleFont\":42,\"fNbins\":1,\"fXmin\":0,\"fXmax\":1,\"fXbins\":[],\"fFirst\":0,\"fLast\":0,\"fBits2\":0,\"fTimeDisplay\":false,\"fTimeFormat\":\"\",\"fLabels\":null,\"fModLabs\":null},\"fZaxis\":{\"_typename\":\"TAxis\",\"fUniqueID\":0,\"fBits\":0,\"fName\":\"zaxis\",\"fTitle\":\"\",\"fNdivisions\":510,\"fAxisColor\":1,\"fLabelColor\":1,\"fLabelFont\":42,\"fLabelOffset\":0.005,\"fLabelSize\":0.035,\"fTickLength\":0.03,\"fTitleOffset\":1,\"fTitleSize\":0.035,\"fTitleColor\":1,\"fTitleFont\":42,\"fNbins\":1,\"fXmin\":0,\"fXmax\":1,\"fXbins\":[],\"fFirst\":0,\"fLast\":0,\"fBits2\":0,\"fTimeDisplay\":false,\"fTimeFormat\":\"\",\"fLabels\":null,\"fModLabs\":null},\"fBarOffset\":0,\"fBarWidth\":1000,\"fEntries\":10000,\"fTsumw\":9992,\"fTsumw2\":9992,\"fTsumwx\":-842.369423749296,\"fTsumwx2\":13695.9181708015,\"fMaximum\":-1111,\"fMinimum\":-1111,\"fNormFactor\":0,\"fContour\":[],\"fSumw2\":[],\"fOption\":\"\",\"fFunctions\":{\"_typename\":\"TList\",\"name\":\"TList\",\"arr\":[{\"_typename\":\"TF1\",\"fUniqueID\":0,\"fBits\":1024,\"fName\":\"gaus\",\"fTitle\":\"gaus\",\"fLineColor\":2,\"fLineStyle\":1,\"fLineWidth\":2,\"fFillColor\":19,\"fFillStyle\":0,\"fMarkerColor\":1,\"fMarkerStyle\":1,\"fMarkerSize\":1,\"fXmin\":-5,\"fXmax\":5,\"fNpar\":3,\"fNdim\":1,\"fNpx\":100,\"fType\":0,\"fNpfits\":24,\"fNDF\":21,\"fChisquare\":73.7806719991291,\"fMinimum\":-1111,\"fMaximum\":-1111,\"fParErrors\":[18.0258050992897,0.0114968706924304,0.00952072193383158],\"fParMin\":[0,0,0],\"fParMax\":[0,0,11.7311829722781],\"fSave\":{\"$arr\":\"Float64\",\"len\":103,\"v\":[0.133686683839215,0.193895146566168,0.279081591726656,0.398640032473782,0.565088010627791,0.794944377138596,1.10979523503764,1.53756836550112,2.11403162364463,2.88452288826403,3.90590759278174,5.24874416293065,6.9996175310791,9.26357625796717,12.1665800252763,15.8578322098783,20.5118383310615,26.3299974262087,33.5415025515096,42.4033019045699,53.1988572654674,66.2354355323816,81.83968600246,100.351294182669,122.11456487953,147.467874318127,176.731042473996,210.190809871387,248.084752578886,290.584127298774,337.776295268874,389.647517278117,446.067029394145,506.773386783623,571.364089015892,639.289464449075,709.851687146876,782.209625273279,855.389978449874,928.304862310295,999.775656309272,1068.56256563772,1133.39898359297,1193.02940283819,1246.24933864582,1291.94551832498,1329.13447812857,1356.99770530426,1374.91157412566,1382.47054765824,1379.50243993975,1366.07493647453,1342.4930282219,1309.28749492563,1267.19504507429,1217.13115015722,1160.15697172614,1097.44204831039,1030.22457010757,959.771115698067,887.337658649982,814.133482837002,741.289390611192,669.831269897729,600.659730148978,534.536149107151,472.075117382428,413.742947707867,359.861647558017,310.617549316479,266.073657242296,226.184705396145,190.813920760688,159.750542364721,132.727248857032,109.436780717704,89.5471958846201,72.7153565087646,58.598398916805,46.8630798867674,37.193013709612,29.2939123781491,22.8970140930606,17.7609335715553,13.6721934201885,10.4447022206679,7.91843574579757,5.95755686657838,4.4481811081017,3.29596196461304,2.42363595432504,1.76863431570441,1.2808379088798,0.92052537341779,0.656542463221579,0.464702856166826,0.326417420564376,0.227539490139005,0.157407600232597,0.108063761501253,0.073624088026261,-5,5]},\"fNormalized\":false,\"fNormIntegral\":0,\"fFormula\":{\"_typename\":\"TFormula\",\"fUniqueID\":0,\"fBits\":1024,\"fName\":\"gaus\",\"fTitle\":\"gaus\",\"fClingParameters\":[1382.72217551099,-0.0781612630618082,1.14467149385338],\"fAllParametersSetted\":true,\"fParams\":[{\"$pair\":\"pair<TString,int,TFormulaParamOrder>\",\"first\":\"Constant\",\"second\":0},{\"$pair\":\"pair<TString,int,TFormulaParamOrder>\",\"first\":\"Mean\",\"second\":1},{\"$pair\":\"pair<TString,int,TFormulaParamOrder>\",\"first\":\"Sigma\",\"second\":2}],\"fFormula\":\"[Constant]*exp(-0.5*((x-[Mean])\\/[Sigma])*((x-[Mean])\\/[Sigma]))\",\"fNdim\":1,\"fLinearParts\":[],\"fVectorized\":false},\"fParams\":null,\"fComposition\":null}],\"opt\":[\"\"]},\"fBufferSize\":0,\"fBuffer\":[],\"fBinStatErrOpt\":0,\"fStatOverflows\":2,\"fArray\":{\"$arr\":\"Float64\",\"len\":27,\"v\":[5,2,6,17,26,52,88,158,312,554,804,1160,1392,1422,1315,1027,708,417,271,126,70,31,23,5,6,0,3]}},{\"_typename\":\"TStyle\",\"fUniqueID\":0,\"fBits\":0,\"fName\":\"Modern\",\"fTitle\":\"Modern Style\",\"fLineColor\":1,\"fLineStyle\":1,\"fLineWidth\":1,\"fFillColor\":19,\"fFillStyle\":1001,\"fMarkerColor\":1,\"fMarkerStyle\":1,\"fMarkerSize\":1,\"fTextAngle\":0,\"fTextSize\":0.05,\"fTextAlign\":11,\"fTextColor\":1,\"fTextFont\":62,\"fXaxis\":{\"_typename\":\"TAttAxis\",\"fNdivisions\":510,\"fAxisColor\":1,\"fLabelColor\":1,\"fLabelFont\":42,\"fLabelOffset\":0.005,\"fLabelSize\":0.035,\"fTickLength\":0.03,\"fTitleOffset\":1,\"fTitleSize\":0.035,\"fTitleColor\":1,\"fTitleFont\":42},\"fYaxis\":{\"_typename\":\"TAttAxis\",\"fNdivisions\":510,\"fAxisColor\":1,\"fLabelColor\":1,\"fLabelFont\":42,\"fLabelOffset\":0.005,\"fLabelSize\":0.035,\"fTickLength\":0.03,\"fTitleOffset\":0,\"fTitleSize\":0.035,\"fTitleColor\":1,\"fTitleFont\":42},\"fZaxis\":{\"_typename\":\"TAttAxis\",\"fNdivisions\":510,\"fAxisColor\":1,\"fLabelColor\":1,\"fLabelFont\":42,\"fLabelOffset\":0.005,\"fLabelSize\":0.035,\"fTickLength\":0.03,\"fTitleOffset\":1,\"fTitleSize\":0.035,\"fTitleColor\":1,\"fTitleFont\":42},\"fBarWidth\":1,\"fBarOffset\":0,\"fColorModelPS\":0,\"fDrawBorder\":0,\"fOptLogx\":0,\"fOptLogy\":0,\"fOptLogz\":0,\"fOptDate\":0,\"fOptStat\":0,\"fOptTitle\":1,\"fOptFile\":0,\"fOptFit\":0,\"fShowEventStatus\":0,\"fShowEditor\":0,\"fShowToolBar\":0,\"fNumberContours\":20,\"fAttDate\":{\"_typename\":\"TAttText\",\"fTextAngle\":0,\"fTextSize\":0.025,\"fTextAlign\":11,\"fTextColor\":1,\"fTextFont\":62},\"fDateX\":0.01,\"fDateY\":0.01,\"fEndErrorSize\":2,\"fErrorX\":0.5,\"fFuncColor\":2,\"fFuncStyle\":1,\"fFuncWidth\":2,\"fGridColor\":0,\"fGridStyle\":3,\"fGridWidth\":1,\"fLegendBorderSize\":1,\"fLegendFillColor\":0,\"fLegendFont\":42,\"fLegendTextSize\":0,\"fHatchesLineWidth\":1,\"fHatchesSpacing\":1,\"fFrameFillColor\":0,\"fFrameLineColor\":1,\"fFrameFillStyle\":1001,\"fFrameLineStyle\":1,\"fFrameLineWidth\":1,\"fFrameBorderSize\":1,\"fFrameBorderMode\":0,\"fHistFillColor\":0,\"fHistLineColor\":602,\"fHistFillStyle\":1001,\"fHistLineStyle\":1,\"fHistLineWidth\":1,\"fHistMinimumZero\":false,\"fHistTopMargin\":0.05,\"fCanvasPreferGL\":false,\"fCanvasColor\":0,\"fCanvasBorderSize\":2,\"fCanvasBorderMode\":0,\"fCanvasDefH\":500,\"fCanvasDefW\":700,\"fCanvasDefX\":10,\"fCanvasDefY\":10,\"fPadColor\":0,\"fPadBorderSize\":2,\"fPadBorderMode\":0,\"fPadBottomMargin\":0.1,\"fPadTopMargin\":0.1,\"fPadLeftMargin\":0.1,\"fPadRightMargin\":0.1,\"fPadGridX\":false,\"fPadGridY\":false,\"fPadTickX\":0,\"fPadTickY\":0,\"fPaperSizeX\":20,\"fPaperSizeY\":26,\"fScreenFactor\":1,\"fStatColor\":0,\"fStatTextColor\":1,\"fStatBorderSize\":1,\"fStatFont\":42,\"fStatFontSize\":0,\"fStatStyle\":1001,\"fStatFormat\":\"6.4g\",\"fStatX\":0.98,\"fStatY\":0.935,\"fStatW\":0.2,\"fStatH\":0.16,\"fStripDecimals\":true,\"fTitleAlign\":23,\"fTitleColor\":0,\"fTitleTextColor\":1,\"fTitleBorderSize\":0,\"fTitleFont\":42,\"fTitleFontSize\":0.05,\"fTitleStyle\":0,\"fTitleX\":0.5,\"fTitleY\":0.995,\"fTitleW\":0,\"fTitleH\":0,\"fLegoInnerR\":0.5,\"fLineStyles\":[\"\",\"  \",\" 12 12\",\" 4 8\",\" 12 16 4 16\",\" 20 12 4 12\",\" 20 12 4 12 4 12 4 12\",\" 20 20\",\" 20 12 4 12 4 12\",\" 80 20\",\" 80 40 4 40\",\"  \",\"  \",\"  \",\"  \",\"  \",\"  \",\"  \",\"  \",\"  \",\"  \",\"  \",\"  \",\"  \",\"  \",\"  \",\"  \",\"  \",\"  \",\"  \"],\"fHeaderPS\":\"\",\"fTitlePS\":\"\",\"fFitFormat\":\"5.4g\",\"fPaintTextFormat\":\"g\",\"fLineScalePS\":3,\"fJoinLinePS\":0,\"fCapLinePS\":0,\"fTimeOffset\":788918400,\"fImageScaling\":1}],\"opt\":[\"\",\"\"]},\"fExecs\":null,\"fName\":\"c1\",\"fTitle\":\"c\",\"fNumPaletteColor\":0,\"fNextPaletteColor\":0,\"fDISPLAY\":\"$DISPLAY\",\"fDoubleBuffer\":0,\"fRetained\":true,\"fXsizeUser\":0,\"fYsizeUser\":0,\"fXsizeReal\":20,\"fYsizeReal\":14.28571,\"fWindowTopX\":0,\"fWindowTopY\":0,\"fWindowWidth\":0,\"fWindowHeight\":0,\"fCw\":696,\"fCh\":472,\"fCatt\":{\"_typename\":\"TAttCanvas\",\"fXBetween\":2,\"fYBetween\":2,\"fTitleFromTop\":1.2,\"fXdate\":0.2,\"fYdate\":0.3,\"fAdate\":1},\"kMoveOpaque\":true,\"kResizeOpaque\":true,\"fHighLightColor\":2,\"fBatch\":true,\"kShowEventStatus\":false,\"kAutoExec\":true,\"kMenuBar\":true});\n",
       "   Core.settings.HandleKeys = false;\n",
       "   Core.draw(\"root_plot_1650463790217\", obj, \"\");\n",
       "}\n",
       "\n",
       "function script_load_root_plot_1650463790217(src, on_error) {\n",
       "    let script = document.createElement('script');\n",
       "    script.src = src;\n",
       "    script.onload = function() { display_root_plot_1650463790217(JSROOT); };\n",
       "    script.onerror = function() { script.remove(); on_error(); };\n",
       "    document.head.appendChild(script);\n",
       "}\n",
       "\n",
       "if (typeof requirejs !== 'undefined') {\n",
       "\n",
       "    // We are in jupyter notebooks, use require.js which should be configured already\n",
       "    requirejs.config({\n",
       "       paths: { 'JSRootCore' : [ 'scripts/JSRoot.core', 'https://root.cern/js/6.1.1/scripts/JSRoot.core.min', 'https://jsroot.gsi.de/6.1.1/scripts/JSRoot.core.min' ] }\n",
       "    })(['JSRootCore'],  function(Core) {\n",
       "       display_root_plot_1650463790217(Core);\n",
       "    });\n",
       "\n",
       "} else if (typeof JSROOT !== 'undefined') {\n",
       "\n",
       "   // JSROOT already loaded, just use it\n",
       "   display_root_plot_1650463790217(JSROOT);\n",
       "\n",
       "} else {\n",
       "\n",
       "    // We are in jupyterlab without require.js, directly loading jsroot\n",
       "    // Jupyterlab might be installed in a different base_url so we need to know it.\n",
       "    try {\n",
       "        var base_url = JSON.parse(document.getElementById('jupyter-config-data').innerHTML).baseUrl;\n",
       "    } catch(_) {\n",
       "        var base_url = '/';\n",
       "    }\n",
       "\n",
       "    // Try loading a local version of requirejs and fallback to cdn if not possible.\n",
       "    script_load_root_plot_1650463790217(base_url + 'static/scripts/JSRoot.core.js', function(){\n",
       "        console.error('Fail to load JSROOT locally, please check your jupyter_notebook_config.py file');\n",
       "        script_load_root_plot_1650463790217('https://root.cern/js/6.1.1/scripts/JSRoot.core.min.js', function(){\n",
       "            document.getElementById(\"root_plot_1650463790217\").innerHTML = \"Failed to load JSROOT\";\n",
       "        });\n",
       "    });\n",
       "}\n",
       "\n",
       "</script>\n"
      ],
      "text/plain": [
       "<IPython.core.display.HTML object>"
      ]
     },
     "metadata": {},
     "output_type": "display_data"
    }
   ],
   "source": [
    "c1=r.TCanvas(\"c1\",\"c\")\n",
    "c1.Draw(\"\")\n",
    "c1.SetBottomMargin(0.15)\n",
    "h1.Draw(\"\")\n",
    "h1.Fit(\"gaus\",\"S\")\n",
    "\n"
   ]
  },
  {
   "cell_type": "code",
   "execution_count": 24,
   "id": "5700c3b2",
   "metadata": {},
   "outputs": [
    {
     "name": "stderr",
     "output_type": "stream",
     "text": [
      "Info in <TCanvas::Print>: pdf file ./plots/combined_post_add.pdf has been created\n",
      "Info in <TCanvas::SaveAs>: ROOT file ./plots/combined_post_add.root has been created\n"
     ]
    }
   ],
   "source": [
    "c.SaveAs(\"./plots/combined_post_add.pdf\")\n",
    "c.SaveAs(\"./plots/combined_post_add.root\")\n",
    "#c.SaveAs(\"./plots/combined_post_add_raw.pdf\")\n",
    "#c.SaveAs(\"./plots/combined_post_add_raw.root\")"
   ]
  },
  {
   "cell_type": "code",
   "execution_count": 25,
   "id": "45337dff",
   "metadata": {},
   "outputs": [
    {
     "data": {
      "image/png": "[encoded data removed]",
      "text/plain": [
       "<Figure size 432x288 with 1 Axes>"
      ]
     },
     "metadata": {
      "needs_background": "light"
     },
     "output_type": "display_data"
    }
   ],
   "source": [
    "plt.hist(diagnostics_df.loc[[f'pval{i:02d}' for i in range(12)]].values.ravel(),histtype='step',bins=20)\n",
    "plt.xlabel(r'$T(A_{rep}>A)$')\n",
    "plt.grid(False)\n",
    "plt.savefig('./plots/toyMC_pval_hist.pdf',format='pdf',dpi=1000,bbox_inches='tight')\n",
    "plt.show()"
   ]
  },
  {
   "cell_type": "code",
   "execution_count": null,
   "id": "79a2d2cd",
   "metadata": {},
   "outputs": [],
   "source": [
    "h1.GetEntries()"
   ]
  },
  {
   "cell_type": "code",
   "execution_count": null,
   "id": "fc416743",
   "metadata": {},
   "outputs": [],
   "source": [
    "h.GetEntries()"
   ]
  },
  {
   "cell_type": "code",
   "execution_count": 11,
   "id": "5f88a401",
   "metadata": {},
   "outputs": [],
   "source": [
    "x=np.linspace(-180,180,360)"
   ]
  },
  {
   "cell_type": "code",
   "execution_count": 12,
   "id": "72fda802",
   "metadata": {},
   "outputs": [
    {
     "data": {
      "image/png": "[encoded data removed]",
      "text/plain": [
       "<Figure size 432x288 with 1 Axes>"
      ]
     },
     "metadata": {
      "needs_background": "light"
     },
     "output_type": "display_data"
    }
   ],
   "source": [
    "plt.plot(x,1-0.3*0.25*np.cos(2*(-45-x)*np.pi/180.),'.')\n",
    "plt.show()"
   ]
  },
  {
   "cell_type": "code",
   "execution_count": 15,
   "id": "3125396f",
   "metadata": {},
   "outputs": [],
   "source": [
    "import random"
   ]
  },
  {
   "cell_type": "code",
   "execution_count": 16,
   "id": "e1f8f0e7",
   "metadata": {},
   "outputs": [],
   "source": [
    "x=np.linspace(-180,180,10000)\n",
    "fx=1-0.5*0.25*np.cos(2*(-45-x)*np.pi/180.)"
   ]
  },
  {
   "cell_type": "code",
   "execution_count": 17,
   "id": "ed20af0d",
   "metadata": {},
   "outputs": [],
   "source": [
    "hx=random.choices(x,fx,k=10000)"
   ]
  },
  {
   "cell_type": "code",
   "execution_count": 18,
   "id": "7e70b18b",
   "metadata": {},
   "outputs": [
    {
     "data": {
      "image/png": "[encoded data removed]",
      "text/plain": [
       "<Figure size 432x288 with 1 Axes>"
      ]
     },
     "metadata": {
      "needs_background": "light"
     },
     "output_type": "display_data"
    }
   ],
   "source": [
    "plt.hist(hx,histtype='step',bins=48)\n",
    "plt.show()"
   ]
  },
  {
   "cell_type": "code",
   "execution_count": 26,
   "id": "8e3375aa",
   "metadata": {},
   "outputs": [
    {
     "name": "stderr",
     "output_type": "stream",
     "text": [
      "Warning in <TROOT::Append>: Replacing existing TH1: h (Potential memory leak).\n"
     ]
    }
   ],
   "source": [
    "h=r.TH1F(\"h\",\";#phi;\",48,-180,180)\n",
    "f=r.TF1(\"f\",\"[0]*(1-0.25*[1]*cos(2*(-45-x)*TMath::Pi()/180.))\")"
   ]
  },
  {
   "cell_type": "code",
   "execution_count": 27,
   "id": "298133b7",
   "metadata": {},
   "outputs": [],
   "source": [
    "for i in range(4000):\n",
    "    h.Fill(hx[i])"
   ]
  },
  {
   "cell_type": "code",
   "execution_count": 28,
   "id": "f833b469",
   "metadata": {},
   "outputs": [
    {
     "data": {
      "text/plain": [
       "<cppyy.gbl.TFitResultPtr object at 0x5590bab4abd0>"
      ]
     },
     "execution_count": 28,
     "metadata": {},
     "output_type": "execute_result"
    },
    {
     "name": "stdout",
     "output_type": "stream",
     "text": [
      " FCN=54.6112 FROM MIGRAD    STATUS=CONVERGED      91 CALLS          92 TOTAL\n",
      "                     EDM=3.50039e-07    STRATEGY= 1      ERROR MATRIX ACCURATE \n",
      "  EXT PARAMETER                                   STEP         FIRST   \n",
      "  NO.   NAME      VALUE            ERROR          SIZE      DERIVATIVE \n",
      "   1  p0           8.21753e+01   1.30842e+00   4.76431e-03   6.14765e-04\n",
      "   2  p1           4.33303e-01   8.92470e-02   3.24894e-04  -2.58056e-03\n"
     ]
    },
    {
     "data": {
      "text/html": [
       "\n",
       "\n",
       "<div id=\"root_plot_1650461970282\"\n",
       "     style=\"width: 696px; height: 472px\">\n",
       "</div>\n",
       "<script>\n",
       "\n",
       "function display_root_plot_1650461970282(Core) {\n",
       "   let obj = Core.parse({\"_typename\":\"TCanvas\",\"fUniqueID\":0,\"fBits\":3342344,\"fLineColor\":1,\"fLineStyle\":1,\"fLineWidth\":1,\"fFillColor\":0,\"fFillStyle\":1001,\"fLeftMargin\":0.1,\"fRightMargin\":0.1,\"fBottomMargin\":0.1,\"fTopMargin\":0.1,\"fXfile\":2,\"fYfile\":2,\"fAfile\":1,\"fXstat\":0.99,\"fYstat\":0.99,\"fAstat\":2,\"fFrameFillColor\":0,\"fFrameLineColor\":1,\"fFrameFillStyle\":1001,\"fFrameLineStyle\":1,\"fFrameLineWidth\":1,\"fFrameBorderSize\":1,\"fFrameBorderMode\":0,\"fX1\":0,\"fY1\":0,\"fX2\":1,\"fY2\":1,\"fXtoAbsPixelk\":5e-5,\"fXtoPixelk\":5e-5,\"fXtoPixel\":696,\"fYtoAbsPixelk\":472.00005,\"fYtoPixelk\":472.00005,\"fYtoPixel\":-472,\"fUtoAbsPixelk\":5e-5,\"fUtoPixelk\":5e-5,\"fUtoPixel\":696,\"fVtoAbsPixelk\":472.00005,\"fVtoPixelk\":472,\"fVtoPixel\":-472,\"fAbsPixeltoXk\":0,\"fPixeltoXk\":0,\"fPixeltoX\":0.0014367816091954,\"fAbsPixeltoYk\":1,\"fPixeltoYk\":0,\"fPixeltoY\":-0.00211864406779661,\"fXlowNDC\":0,\"fYlowNDC\":0,\"fXUpNDC\":1,\"fYUpNDC\":1,\"fWNDC\":1,\"fHNDC\":1,\"fAbsXlowNDC\":0,\"fAbsYlowNDC\":0,\"fAbsWNDC\":1,\"fAbsHNDC\":1,\"fUxmin\":0,\"fUymin\":0,\"fUxmax\":1,\"fUymax\":1,\"fTheta\":30,\"fPhi\":30,\"fAspectRatio\":0,\"fNumber\":0,\"fTickx\":0,\"fTicky\":0,\"fLogx\":0,\"fLogy\":0,\"fLogz\":0,\"fPadPaint\":0,\"fCrosshair\":0,\"fCrosshairPos\":0,\"fBorderSize\":2,\"fBorderMode\":0,\"fModified\":true,\"fGridx\":false,\"fGridy\":false,\"fAbsCoord\":false,\"fEditable\":true,\"fFixedAspectRatio\":false,\"fPrimitives\":{\"_typename\":\"TList\",\"name\":\"TList\",\"arr\":[{\"_typename\":\"TH1F\",\"fUniqueID\":0,\"fBits\":520,\"fName\":\"h\",\"fTitle\":\"\",\"fLineColor\":602,\"fLineStyle\":1,\"fLineWidth\":1,\"fFillColor\":0,\"fFillStyle\":1001,\"fMarkerColor\":1,\"fMarkerStyle\":1,\"fMarkerSize\":1,\"fNcells\":50,\"fXaxis\":{\"_typename\":\"TAxis\",\"fUniqueID\":0,\"fBits\":0,\"fName\":\"xaxis\",\"fTitle\":\"#phi\",\"fNdivisions\":510,\"fAxisColor\":1,\"fLabelColor\":1,\"fLabelFont\":42,\"fLabelOffset\":0.005,\"fLabelSize\":0.035,\"fTickLength\":0.03,\"fTitleOffset\":1,\"fTitleSize\":0.035,\"fTitleColor\":1,\"fTitleFont\":42,\"fNbins\":48,\"fXmin\":-180,\"fXmax\":180,\"fXbins\":[],\"fFirst\":0,\"fLast\":0,\"fBits2\":0,\"fTimeDisplay\":false,\"fTimeFormat\":\"\",\"fLabels\":null,\"fModLabs\":null},\"fYaxis\":{\"_typename\":\"TAxis\",\"fUniqueID\":0,\"fBits\":0,\"fName\":\"yaxis\",\"fTitle\":\"\",\"fNdivisions\":510,\"fAxisColor\":1,\"fLabelColor\":1,\"fLabelFont\":42,\"fLabelOffset\":0.005,\"fLabelSize\":0.035,\"fTickLength\":0.03,\"fTitleOffset\":0,\"fTitleSize\":0.035,\"fTitleColor\":1,\"fTitleFont\":42,\"fNbins\":1,\"fXmin\":0,\"fXmax\":1,\"fXbins\":[],\"fFirst\":0,\"fLast\":0,\"fBits2\":0,\"fTimeDisplay\":false,\"fTimeFormat\":\"\",\"fLabels\":null,\"fModLabs\":null},\"fZaxis\":{\"_typename\":\"TAxis\",\"fUniqueID\":0,\"fBits\":0,\"fName\":\"zaxis\",\"fTitle\":\"\",\"fNdivisions\":510,\"fAxisColor\":1,\"fLabelColor\":1,\"fLabelFont\":42,\"fLabelOffset\":0.005,\"fLabelSize\":0.035,\"fTickLength\":0.03,\"fTitleOffset\":1,\"fTitleSize\":0.035,\"fTitleColor\":1,\"fTitleFont\":42,\"fNbins\":1,\"fXmin\":0,\"fXmax\":1,\"fXbins\":[],\"fFirst\":0,\"fLast\":0,\"fBits2\":0,\"fTimeDisplay\":false,\"fTimeFormat\":\"\",\"fLabels\":null,\"fModLabs\":null},\"fBarOffset\":0,\"fBarWidth\":1000,\"fEntries\":4000,\"fTsumw\":3999,\"fTsumw2\":3999,\"fTsumwx\":-10440.7380738074,\"fTsumwx2\":43232899.2639678,\"fMaximum\":-1111,\"fMinimum\":-1111,\"fNormFactor\":0,\"fContour\":[],\"fSumw2\":[],\"fOption\":\"\",\"fFunctions\":{\"_typename\":\"TList\",\"name\":\"TList\",\"arr\":[{\"_typename\":\"TF1\",\"fUniqueID\":0,\"fBits\":1024,\"fName\":\"f\",\"fTitle\":\"[0]*(1-0.25*[1]*cos(2*(-45-x)*TMath::Pi()\\/180.))\",\"fLineColor\":2,\"fLineStyle\":1,\"fLineWidth\":2,\"fFillColor\":19,\"fFillStyle\":0,\"fMarkerColor\":1,\"fMarkerStyle\":1,\"fMarkerSize\":1,\"fXmin\":-180,\"fXmax\":180,\"fNpar\":2,\"fNdim\":1,\"fNpx\":100,\"fType\":0,\"fNpfits\":48,\"fNDF\":46,\"fChisquare\":54.6112254316873,\"fMinimum\":-1111,\"fMaximum\":-1111,\"fParErrors\":[1.3084243578889,0.0892469531315202],\"fParMin\":[0,0],\"fParMax\":[0,0],\"fSave\":{\"$arr\":\"Float64\",\"len\":103,\"v\":[82.1752923708425,83.2909701507676,84.3890530256297,85.4522235725292,86.4637149568344,87.407575355179,88.2689195252462,89.0341635549321,89.6912390887539,90.2297836530253,90.6413040782567,90.919310441512,91.0594184163696,91.0594184163696,90.919310441512,90.6413040782567,90.2297836530252,89.6912390887539,89.0341635549321,88.2689195252462,87.407575355179,86.4637149568344,85.4522235725292,84.3890530256297,83.2909701507676,82.1752923708425,81.0596145909174,79.9615317160553,78.8983611691557,77.8868697848505,76.9430093865059,76.0816652164387,75.3164211867528,74.659345652931,74.1208010886597,73.7092806634282,73.431274300173,73.2911663253153,73.2911663253153,73.431274300173,73.7092806634282,74.1208010886597,74.6593456529311,75.3164211867528,76.0816652164387,76.9430093865059,77.8868697848505,78.8983611691557,79.9615317160553,81.0596145909174,82.1752923708425,83.2909701507676,84.3890530256297,85.4522235725292,86.4637149568344,87.407575355179,88.2689195252462,89.0341635549321,89.6912390887539,90.2297836530252,90.6413040782567,90.919310441512,91.0594184163696,91.0594184163696,90.919310441512,90.6413040782567,90.2297836530253,89.6912390887539,89.0341635549321,88.2689195252462,87.407575355179,86.4637149568344,85.4522235725292,84.3890530256297,83.2909701507676,82.1752923708425,81.0596145909174,79.9615317160553,78.8983611691557,77.8868697848505,76.9430093865059,76.0816652164387,75.3164211867528,74.6593456529311,74.1208010886597,73.7092806634282,73.4312743001729,73.2911663253153,73.2911663253153,73.431274300173,73.7092806634282,74.1208010886597,74.659345652931,75.3164211867528,76.0816652164387,76.9430093865059,77.8868697848505,78.8983611691557,79.9615317160553,81.0596145909174,82.1752923708425,-180,180]},\"fNormalized\":false,\"fNormIntegral\":0,\"fFormula\":{\"_typename\":\"TFormula\",\"fUniqueID\":0,\"fBits\":1024,\"fName\":\"f\",\"fTitle\":\"[0]*(1-0.25*[1]*cos(2*(-45-x)*TMath::Pi()\\/180.))\",\"fClingParameters\":[82.1752923708425,0.433302577623125],\"fAllParametersSetted\":true,\"fParams\":[{\"$pair\":\"pair<TString,int,TFormulaParamOrder>\",\"first\":\"p0\",\"second\":0},{\"$pair\":\"pair<TString,int,TFormulaParamOrder>\",\"first\":\"p1\",\"second\":1}],\"fFormula\":\"[p0]*(1-0.25*[p1]*cos(2*(-45-x)*TMath::Pi()\\/180.))\",\"fNdim\":1,\"fLinearParts\":[],\"fVectorized\":false},\"fParams\":null,\"fComposition\":null}],\"opt\":[\"\"]},\"fBufferSize\":0,\"fBuffer\":[],\"fBinStatErrOpt\":0,\"fStatOverflows\":2,\"fArray\":{\"$arr\":\"Float32\",\"len\":50,\"p\":1,\"v\":[70,96,95,86,95,97,76,99,96,73,87,94,90,82,77,82,77,73,61,80,67,86,78,89,66,96,86,67,91,91,89,95,106,79,114,87,89,71,71,77,81,77,68,75,65,89,69,94,1]}},{\"_typename\":\"TStyle\",\"fUniqueID\":0,\"fBits\":0,\"fName\":\"Modern\",\"fTitle\":\"Modern Style\",\"fLineColor\":1,\"fLineStyle\":1,\"fLineWidth\":1,\"fFillColor\":19,\"fFillStyle\":1001,\"fMarkerColor\":1,\"fMarkerStyle\":1,\"fMarkerSize\":1,\"fTextAngle\":0,\"fTextSize\":0.05,\"fTextAlign\":11,\"fTextColor\":1,\"fTextFont\":62,\"fXaxis\":{\"_typename\":\"TAttAxis\",\"fNdivisions\":510,\"fAxisColor\":1,\"fLabelColor\":1,\"fLabelFont\":42,\"fLabelOffset\":0.005,\"fLabelSize\":0.035,\"fTickLength\":0.03,\"fTitleOffset\":1,\"fTitleSize\":0.035,\"fTitleColor\":1,\"fTitleFont\":42},\"fYaxis\":{\"_typename\":\"TAttAxis\",\"fNdivisions\":510,\"fAxisColor\":1,\"fLabelColor\":1,\"fLabelFont\":42,\"fLabelOffset\":0.005,\"fLabelSize\":0.035,\"fTickLength\":0.03,\"fTitleOffset\":0,\"fTitleSize\":0.035,\"fTitleColor\":1,\"fTitleFont\":42},\"fZaxis\":{\"_typename\":\"TAttAxis\",\"fNdivisions\":510,\"fAxisColor\":1,\"fLabelColor\":1,\"fLabelFont\":42,\"fLabelOffset\":0.005,\"fLabelSize\":0.035,\"fTickLength\":0.03,\"fTitleOffset\":1,\"fTitleSize\":0.035,\"fTitleColor\":1,\"fTitleFont\":42},\"fBarWidth\":1,\"fBarOffset\":0,\"fColorModelPS\":0,\"fDrawBorder\":0,\"fOptLogx\":0,\"fOptLogy\":0,\"fOptLogz\":0,\"fOptDate\":0,\"fOptStat\":0,\"fOptTitle\":1,\"fOptFile\":0,\"fOptFit\":0,\"fShowEventStatus\":0,\"fShowEditor\":0,\"fShowToolBar\":0,\"fNumberContours\":20,\"fAttDate\":{\"_typename\":\"TAttText\",\"fTextAngle\":0,\"fTextSize\":0.025,\"fTextAlign\":11,\"fTextColor\":1,\"fTextFont\":62},\"fDateX\":0.01,\"fDateY\":0.01,\"fEndErrorSize\":2,\"fErrorX\":0.5,\"fFuncColor\":2,\"fFuncStyle\":1,\"fFuncWidth\":2,\"fGridColor\":0,\"fGridStyle\":3,\"fGridWidth\":1,\"fLegendBorderSize\":1,\"fLegendFillColor\":0,\"fLegendFont\":42,\"fLegendTextSize\":0,\"fHatchesLineWidth\":1,\"fHatchesSpacing\":1,\"fFrameFillColor\":0,\"fFrameLineColor\":1,\"fFrameFillStyle\":1001,\"fFrameLineStyle\":1,\"fFrameLineWidth\":1,\"fFrameBorderSize\":1,\"fFrameBorderMode\":0,\"fHistFillColor\":0,\"fHistLineColor\":602,\"fHistFillStyle\":1001,\"fHistLineStyle\":1,\"fHistLineWidth\":1,\"fHistMinimumZero\":false,\"fHistTopMargin\":0.05,\"fCanvasPreferGL\":false,\"fCanvasColor\":0,\"fCanvasBorderSize\":2,\"fCanvasBorderMode\":0,\"fCanvasDefH\":500,\"fCanvasDefW\":700,\"fCanvasDefX\":10,\"fCanvasDefY\":10,\"fPadColor\":0,\"fPadBorderSize\":2,\"fPadBorderMode\":0,\"fPadBottomMargin\":0.1,\"fPadTopMargin\":0.1,\"fPadLeftMargin\":0.1,\"fPadRightMargin\":0.1,\"fPadGridX\":false,\"fPadGridY\":false,\"fPadTickX\":0,\"fPadTickY\":0,\"fPaperSizeX\":20,\"fPaperSizeY\":26,\"fScreenFactor\":1,\"fStatColor\":0,\"fStatTextColor\":1,\"fStatBorderSize\":1,\"fStatFont\":42,\"fStatFontSize\":0,\"fStatStyle\":1001,\"fStatFormat\":\"6.4g\",\"fStatX\":0.98,\"fStatY\":0.935,\"fStatW\":0.2,\"fStatH\":0.16,\"fStripDecimals\":true,\"fTitleAlign\":23,\"fTitleColor\":0,\"fTitleTextColor\":1,\"fTitleBorderSize\":0,\"fTitleFont\":42,\"fTitleFontSize\":0.05,\"fTitleStyle\":0,\"fTitleX\":0.5,\"fTitleY\":0.995,\"fTitleW\":0,\"fTitleH\":0,\"fLegoInnerR\":0.5,\"fLineStyles\":[\"\",\"  \",\" 12 12\",\" 4 8\",\" 12 16 4 16\",\" 20 12 4 12\",\" 20 12 4 12 4 12 4 12\",\" 20 20\",\" 20 12 4 12 4 12\",\" 80 20\",\" 80 40 4 40\",\"  \",\"  \",\"  \",\"  \",\"  \",\"  \",\"  \",\"  \",\"  \",\"  \",\"  \",\"  \",\"  \",\"  \",\"  \",\"  \",\"  \",\"  \",\"  \"],\"fHeaderPS\":\"\",\"fTitlePS\":\"\",\"fFitFormat\":\"5.4g\",\"fPaintTextFormat\":\"g\",\"fLineScalePS\":3,\"fJoinLinePS\":0,\"fCapLinePS\":0,\"fTimeOffset\":788918400,\"fImageScaling\":1}],\"opt\":[\"ep\",\"\"]},\"fExecs\":null,\"fName\":\"c1_n3\",\"fTitle\":\"c1_n3\",\"fNumPaletteColor\":0,\"fNextPaletteColor\":0,\"fDISPLAY\":\"$DISPLAY\",\"fDoubleBuffer\":0,\"fRetained\":true,\"fXsizeUser\":0,\"fYsizeUser\":0,\"fXsizeReal\":20,\"fYsizeReal\":14.28571,\"fWindowTopX\":0,\"fWindowTopY\":0,\"fWindowWidth\":0,\"fWindowHeight\":0,\"fCw\":696,\"fCh\":472,\"fCatt\":{\"_typename\":\"TAttCanvas\",\"fXBetween\":2,\"fYBetween\":2,\"fTitleFromTop\":1.2,\"fXdate\":0.2,\"fYdate\":0.3,\"fAdate\":1},\"kMoveOpaque\":true,\"kResizeOpaque\":true,\"fHighLightColor\":2,\"fBatch\":true,\"kShowEventStatus\":false,\"kAutoExec\":true,\"kMenuBar\":true});\n",
       "   Core.settings.HandleKeys = false;\n",
       "   Core.draw(\"root_plot_1650461970282\", obj, \"\");\n",
       "}\n",
       "\n",
       "function script_load_root_plot_1650461970282(src, on_error) {\n",
       "    let script = document.createElement('script');\n",
       "    script.src = src;\n",
       "    script.onload = function() { display_root_plot_1650461970282(JSROOT); };\n",
       "    script.onerror = function() { script.remove(); on_error(); };\n",
       "    document.head.appendChild(script);\n",
       "}\n",
       "\n",
       "if (typeof requirejs !== 'undefined') {\n",
       "\n",
       "    // We are in jupyter notebooks, use require.js which should be configured already\n",
       "    requirejs.config({\n",
       "       paths: { 'JSRootCore' : [ 'scripts/JSRoot.core', 'https://root.cern/js/6.1.1/scripts/JSRoot.core.min', 'https://jsroot.gsi.de/6.1.1/scripts/JSRoot.core.min' ] }\n",
       "    })(['JSRootCore'],  function(Core) {\n",
       "       display_root_plot_1650461970282(Core);\n",
       "    });\n",
       "\n",
       "} else if (typeof JSROOT !== 'undefined') {\n",
       "\n",
       "   // JSROOT already loaded, just use it\n",
       "   display_root_plot_1650461970282(JSROOT);\n",
       "\n",
       "} else {\n",
       "\n",
       "    // We are in jupyterlab without require.js, directly loading jsroot\n",
       "    // Jupyterlab might be installed in a different base_url so we need to know it.\n",
       "    try {\n",
       "        var base_url = JSON.parse(document.getElementById('jupyter-config-data').innerHTML).baseUrl;\n",
       "    } catch(_) {\n",
       "        var base_url = '/';\n",
       "    }\n",
       "\n",
       "    // Try loading a local version of requirejs and fallback to cdn if not possible.\n",
       "    script_load_root_plot_1650461970282(base_url + 'static/scripts/JSRoot.core.js', function(){\n",
       "        console.error('Fail to load JSROOT locally, please check your jupyter_notebook_config.py file');\n",
       "        script_load_root_plot_1650461970282('https://root.cern/js/6.1.1/scripts/JSRoot.core.min.js', function(){\n",
       "            document.getElementById(\"root_plot_1650461970282\").innerHTML = \"Failed to load JSROOT\";\n",
       "        });\n",
       "    });\n",
       "}\n",
       "\n",
       "</script>\n"
      ],
      "text/plain": [
       "<IPython.core.display.HTML object>"
      ]
     },
     "metadata": {},
     "output_type": "display_data"
    }
   ],
   "source": [
    "c=r.TCanvas()\n",
    "c.Draw()\n",
    "h.Draw(\"ep\")\n",
    "h.Fit(f,\"S\")"
   ]
  },
  {
   "cell_type": "code",
   "execution_count": null,
   "id": "24a1a29b",
   "metadata": {},
   "outputs": [],
   "source": []
  }
 ],
 "metadata": {
  "kernelspec": {
   "display_name": "Python 3 (ipykernel)",
   "language": "python",
   "name": "python3"
  },
  "language_info": {
   "codemirror_mode": {
    "name": "ipython",
    "version": 3
   },
   "file_extension": ".py",
   "mimetype": "text/x-python",
   "name": "python",
   "nbconvert_exporter": "python",
   "pygments_lexer": "ipython3",
   "version": "3.10.5"
  }
 },
 "nbformat": 4,
 "nbformat_minor": 5
}
