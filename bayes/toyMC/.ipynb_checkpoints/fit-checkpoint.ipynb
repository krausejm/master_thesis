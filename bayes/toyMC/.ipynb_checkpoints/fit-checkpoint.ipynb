{
 "cells": [
  {
   "cell_type": "code",
   "execution_count": 2,
   "id": "f6ed3e75",
   "metadata": {},
   "outputs": [
    {
     "name": "stdout",
     "output_type": "stream",
     "text": [
      "Welcome to JupyROOT 6.26/00\n"
     ]
    }
   ],
   "source": [
    "import nest_asyncio\n",
    "nest_asyncio.apply()\n",
    "import cmdstanpy as sp\n",
    "import numpy as np\n",
    "from scipy.optimize import curve_fit\n",
    "import pandas as pd\n",
    "import matplotlib.pyplot as plt\n",
    "plt.ioff()\n",
    "from cycler import cycler\n",
    "import matplotlib.patches as mpatches\n",
    "import seaborn as sns\n",
    "import arviz as az\n",
    "import scipy.stats as stats\n",
    "import ROOT as r\n",
    "import time\n",
    "import ctypes\n",
    "plt.rcParams[\"xtick.minor.visible\"] =  True\n",
    "plt.rcParams[\"ytick.minor.visible\"] =  True\n",
    "plt.rcParams[\"mathtext.fontset\"]=\"cm\"\n",
    "plt.rcParams['errorbar.capsize'] = 3\n",
    "plt.rcParams['mathtext.rm'] = 'serif'\n",
    "plt.rcParams['font.family']='serif'\n",
    "plt.rcParams['font.size']=22\n",
    "plt.rcParams['axes.grid'] = True\n",
    "plt.rcParams['grid.linestyle']=':'\n",
    "plt.rcParams['grid.color']='black'\n",
    "plt.rcParams['axes.prop_cycle'] = cycler(color=['black', 'red', 'blue', 'green'])\n",
    "\n",
    "import arviz as az\n",
    "import warnings\n",
    "warnings.filterwarnings('ignore')\n",
    "%jsroot on"
   ]
  },
  {
   "cell_type": "code",
   "execution_count": 3,
   "id": "2910962c",
   "metadata": {},
   "outputs": [],
   "source": [
    "#this is my framework for bayesian fits and pretty plots\n",
    "class bayesian_fit():\n",
    "    def __init__(self,data,stanfile,nsamples=1000):\n",
    "        self.data=data\n",
    "        self.stan_data={'n':len(self.data['n'].values),\n",
    "             'phi':list(self.data['phi'].values),\n",
    "             'asym':list(self.data['asym'].values),\n",
    "           'dasym':list(self.data['dasym'].values)}\n",
    "        self.stanfile=stanfile\n",
    "        self.x=self.data['phi']\n",
    "        self.y=self.data['asym']\n",
    "        self.dy=self.data['dasym']\n",
    "        self.model = sp.CmdStanModel(stan_file=stanfile)\n",
    "        self.fitobj = self.model.sample(data=self.stan_data,iter_sampling=nsamples)\n",
    "    #funtion w/o phase\n",
    "    def f(self,x,a):\n",
    "            return a*np.cos(2*np.pi/180.*(-45-x))\n",
    "    #function with phase\n",
    "    def f1(self,x,a,b,c):\n",
    "            return a*np.cos(x+c)+b\n",
    "    #chi2 parameters of fitted data\n",
    "    def get_chisqpars(self,function):\n",
    "            popt, pcov = curve_fit(function,self.data['phi'].values,self.data['asym'].values,\n",
    "                                   sigma=self.data['dasym'].values)\n",
    "            return popt,pcov\n",
    "    #print stan code\n",
    "    def stan_code(self):\n",
    "        return self.model.code()\n",
    "    #get pd dataframe of samples\n",
    "    def samples_df(self):\n",
    "        return self.fitobj.draws_pd()\n",
    "    #calculate waic for given samples and log likelihoods\n",
    "    def waic(self):\n",
    "        samples=self.fitobj.draws_pd()\n",
    "        pwaic=np.array([np.var(samples[f'log_lik[{i+1}]'], ddof=1)for i in range(len(self.data['phi']))])\n",
    "        lpd=np.array([np.log(np.mean(np.exp(samples[f'log_lik[{i+1}]'])))for i in range(len(self.data['phi']))])\n",
    "        elpd=lpd-pwaic\n",
    "        se=np.sqrt(len(self.x)*np.var(elpd,ddof=1))\n",
    "        return sum(elpd), se, elpd\n",
    "    #single method for pvalue\n",
    "    def pval(self):\n",
    "        samples=self.fitobj.draws_pd()\n",
    "        y_arr=[samples[f'y_tilde[{i+1}]']for i in range(len(self.data['phi']))]\n",
    "        pvalue=[len([y for y in y_arr[i] if y>=self.data['asym'][i]])/len(y_arr[i])for i in range(len(self.data['phi']))]\n",
    "        return pvalue\n",
    "    #plot posterior predictive distributions\n",
    "    def plot_ppd(self,save,i,display,fitfunc,width=.5):\n",
    "        samples=self.fitobj.draws_pd()\n",
    "        #cosmetics\n",
    "        fig, (ax, ax1)=plt.subplots(nrows=2,sharex=True,dpi=1000,gridspec_kw={'height_ratios': [4, 1]},num=1,clear=True)\n",
    "        ax.set_ylabel('$p(A_{rep}|A)$')\n",
    "        ax.set_xlim([-180,180])\n",
    "        ax.xaxis.set_ticks_position(\"top\")\n",
    "        ax.grid(which='minor',color='grey',lw='.4')\n",
    "        #get results from chisq fit and plot them\n",
    "        xx=np.linspace(np.min(self.data['phi']),np.max(self.data['phi']),200)\n",
    "        params=self.get_chisqpars(fitfunc)[0]\n",
    "        yfit=fitfunc(xx,*params)\n",
    "        ax.errorbar(x=self.data['phi'],y=self.data['asym'],yerr=self.data['dasym'],fmt='.',label='Data points',color='darkorange')\n",
    "        #ax.plot(data['x'],data['y'],'x',label='Data points')\n",
    "        ax.plot(xx,yfit,'r-',label='$\\chi^2$ fit',color='darkorange')\n",
    "        #violinplot for the replicated samples\n",
    "        vp=ax.violinplot([samples[f'y_tilde[{i+1}]']for i in range(len(self.data['phi']))],np.array(self.x),\n",
    "                         showmeans=False, showextrema=False, showmedians=False,widths=width)\n",
    "        #cosmetics\n",
    "        for b in vp['bodies']:\n",
    "            # get the center\n",
    "            m = np.mean(b.get_paths()[0].vertices[:, 0])\n",
    "            # modify the paths to not go further right than the center\n",
    "            b.get_paths()[0].vertices[:, 0] = np.clip(b.get_paths()[0].vertices[:, 0], m, np.inf)\n",
    "            b.set_alpha(.5)\n",
    "            b.set_color('midnightblue')\n",
    "\n",
    "        #compute p value as measure of goodness of fit\n",
    "        y_arr=[samples[f'y_tilde[{i+1}]']for i in range(len(self.data['phi']))]\n",
    "        pvalue=[len([y for y in y_arr[i] if y>=self.data['asym'][i]])/len(y_arr[i])\n",
    "                for i in range(len(self.data['phi']))]\n",
    "        pvalue_lower=[len([y for y in y_arr[i] if y-self.data['dasym'][i]>=self.data['asym'][i]])/len(y_arr[i])\n",
    "                for i in range(len(self.data['phi']))]\n",
    "        pvalue_upper=[len([y for y in y_arr[i] if y+self.data['dasym'][i]>=self.data['asym'][i]])/len(y_arr[i])\n",
    "                for i in range(len(self.data['phi']))]\n",
    "        pval_errors=[np.abs(np.array(pvalue_lower)-np.array(pvalue)),np.abs(np.array(pvalue_upper)-np.array(pvalue))]\n",
    "        #plot pvalue\n",
    "        #ax1.grid(which='minor',color='grey',lw='.4')\n",
    "        ax1.errorbar(x=self.data['phi'],y=pvalue,yerr=pval_errors,fmt='.',color='midnightblue')\n",
    "        ax1.axhline(y=0.5, color='darkorange', linestyle='--',label='optimal value')\n",
    "        ax1.set_xlabel('$\\phi$ / deg')\n",
    "        ax1.set_ylabel('$T(A_{rep}>A)$')\n",
    "        ax1.set_ylim([-0.1,1.1])\n",
    "        #cosmetics and legend\n",
    "        plt.subplots_adjust(wspace=0, hspace=0)\n",
    "        lines,labels = ax.get_legend_handles_labels() \n",
    "        patch = mpatches.Patch(color='midnightblue', label='$A_{rep}$',alpha=.5)\n",
    "        lines.append(patch)\n",
    "        lines1,labels1=ax1.get_legend_handles_labels()\n",
    "        lines+=lines1\n",
    "        tmp=lines[0]\n",
    "        lines[0]=lines[1]\n",
    "        lines[1]=tmp\n",
    "        plt.legend(handles=lines,bbox_to_anchor=(1,2))\n",
    "        fig.suptitle(f'toybin{i:04d}',y=1.1)\n",
    "        if (save==True):\n",
    "            plt.savefig(f'./ppd_checks/toybin{i:04d}.pdf',format='pdf',bbox_inches='tight',dpi=1000)\n",
    "        if (display==True):\n",
    "            plt.show()\n",
    "    # plot posterior distributions of desired parameters, indicate chi2 fit value(s) and error(s)\n",
    "    def plot_posterior(self,params,func,save=False):\n",
    "        samples=self.fitobj.draws_pd()\n",
    "        chi2pars=self.get_chisqpars(function=func)\n",
    "        fig, (ax)=plt.subplots(ncols=1,nrows=len(params),dpi=1000)\n",
    "        #print(len(params))\n",
    "        \n",
    "        #plot data\n",
    "        ax.grid(False)\n",
    "        ax.errorbar(x=chi2pars[0][i],y=0,xerr=np.sqrt(chi2pars[1][i,i]),label='$\\chi^2$-fit',color='blue')\n",
    "        #plot posterior kde distribution bc pretty\n",
    "        sns.distplot(samples[params[i]],hist=True,kde=True,ax=ax,kde_kws={'bw':0.35})\n",
    "        kde_curve = ax.lines[0]\n",
    "        x = np.array(kde_curve.get_xdata())\n",
    "        y = np.array(kde_curve.get_ydata())\n",
    "        maxpos = y.argmax()\n",
    "        maxx=x[maxpos]\n",
    "        counts, bins = np.histogram(samples[params[i]],bins=20)\n",
    "        mean=np.mean(samples[params[i]])\n",
    "        sd=np.std(samples[params[i]],ddof=1)\n",
    "        #mids = 0.5*(bins[1:] + bins[:-1])\n",
    "        #probs = counts / np.sum(counts)\n",
    "    \n",
    "        #mean = np.sum(probs * mids)  \n",
    "        #sd = np.sqrt(np.sum(probs * (mids - mean)**2))\n",
    "        #indicate chi2 values\n",
    "        #ax.axvline(x=maxx,ymin=0,ymax=1,linewidth='.5',label='MPV',color='red')\n",
    "        ax.axvline(x=mean,ymin=0,ymax=1,linewidth='.5',label='$\\mu\\pm 1\\sigma$',color='red',linestyle='dashed')\n",
    "        ax.axvline(x=mean-sd,ymin=0,ymax=1,linewidth='.5',color='red',linestyle='dashed')\n",
    "        ax.axvline(x=mean+sd,ymin=0,ymax=1,linewidth='.5',color='red',linestyle='dashed')\n",
    "        #cosmetics and legend\n",
    "        ax.legend(bbox_to_anchor=(1,1.2),fontsize=10)\n",
    "        #cosmetics\n",
    "        ax.set_xlabel('$\\Sigma$',fontsize=10)\n",
    "        ax.set_ylabel('Frequency',fontsize=10)\n",
    "        ax.tick_params(axis='y', which='both',left=False,right=False,labelleft=False)\n",
    "        ax.tick_params(axis='x', which='both',labelsize=10)\n",
    "        ax.set_xlim([-1,1])\n",
    "        #plt.subplots_adjust(hspace=1)\n",
    "        if(save):\n",
    "            fig.savefig(f'./posterior_{len(params)}_params.pdf',format='pdf',dpi=1000)\n",
    "\n",
    "    # function to plot the posterior distributions as is     \n",
    "    def plot_trace(self,params,save=False):\n",
    "        samples=self.fitobj.draws_pd()\n",
    "        fig, (ax)=plt.subplots(ncols=2,nrows=len(params),dpi=1000)\n",
    "        #print(ax.shape)\n",
    "        ls=['solid','dotted','dashed','dashdot']\n",
    "        for i in range(len(params)):\n",
    "            ax[i][0].grid(visible=False,axis='y')\n",
    "            ax[i][0].set_xlabel(params[i],fontsize=10)\n",
    "            ax[i][0].set_ylabel('Frequency',fontsize=10)\n",
    "            ax[i][1].set_xlabel('iteration',fontsize=10)\n",
    "            ax[i][1].set_ylabel(params[i],fontsize=10)\n",
    "            for k in range(4):\n",
    "                sns.kdeplot(samples[params[i]][k*1000:(k+1)*1000],ax=ax[i][0],linestyle=ls[k],color='black',\n",
    "                            linewidth=.5,bw=0.35)\n",
    "                ax[i][1].plot(np.arange(0,len(samples[params[i]])/4),\n",
    "                              samples[params[i]][k*1000:(k+1)*1000],ls=ls[k],color='black',alpha=.7,linewidth=.5)\n",
    "                for j in (0,1):\n",
    "                    ax[i][j].tick_params(axis='y', which='both',left=False,right=False,labelleft=False)\n",
    "                    #ax[i][j].set_title(params[i])\n",
    "                    ax[i][j].tick_params(axis='both', which='major', labelsize=10)\n",
    "        plt.subplots_adjust(hspace=1)\n",
    "        #fig.set_size_inches(8.29,1*len(params))\n",
    "def find_y_for_x(x, y, value):\n",
    "    for i in range(len(x)):\n",
    "        if x[i]<= value and x[i+1]>= value:\n",
    "            return y[i]\n",
    "            break\n",
    "        \n",
    "#calculate savage dickey density ratio = Bayes factor\n",
    "def plot_sddr(samples,fixpar,saveas):#this is the model with one parameter more\n",
    "    fig, ax =plt.subplots(dpi=1000)\n",
    "    #define prior data and get posterior using kde\n",
    "    x=np.linspace(-.5,.5,1000)\n",
    "    def prior(x):\n",
    "        return stats.norm.pdf(x,0,np.pi)\n",
    "    priorval=prior(fixpar)\n",
    "    sns.distplot(samples,hist=True,kde=True,ax=ax,kde_kws={'bw':0.35},label='$p(c|y,M_1)$')\n",
    "    kde_curve = ax.lines[0]\n",
    "    xx = kde_curve.get_xdata()\n",
    "    y = kde_curve.get_ydata()\n",
    "    postval=find_y_for_x(xx,y,fixpar)\n",
    "    #plot\n",
    "    ax.plot(x,prior(x),label='$\\pi(c|M_1)$')\n",
    "    ax.vlines(fixpar,0,np.max(y),linestyle='--',color='peachpuff',label='BF={:.2f}'.format(postval/priorval))\n",
    "    ax.legend(bbox_to_anchor=(1,1))\n",
    "    fig.savefig(saveas,format='pdf',dpi=1000,bbox_inches='tight')\n",
    "def elpd_diff(fit,fit1):\n",
    "    elpd=np.array(fit.waic()[2])\n",
    "    elpd1=np.array(fit1.waic()[2])\n",
    "    return np.abs(sum(elpd)-sum(elpd1)),np.sqrt(len(fit.x)*np.var(elpd-elpd1))"
   ]
  },
  {
   "cell_type": "code",
   "execution_count": 6,
   "id": "9ec1d0bd",
   "metadata": {},
   "outputs": [],
   "source": [
    "def fit(nsamples,nbins,start): #define starting index\n",
    "    cols=[f'toybin{i:04d}' for i in range(start,start+nbins)]\n",
    "    index=['sigma_median','mcse','rhat']\n",
    "    for i in range(12):\n",
    "        index.append(f'pval{i:02d}')\n",
    "    \n",
    "    diagnostics_df=pd.DataFrame(columns=cols,index=index)\n",
    "    sigma_df=pd.DataFrame(columns=cols)\n",
    "    sigma_chi2_df=pd.DataFrame(columns=cols,index=['sigma','error'])\n",
    "\n",
    "    for i in range(start,start+nbins):#no. of toy bins\n",
    "        #read data\n",
    "        df=pd.read_csv(f\"toybins/toybin{i:04d}.txt\",sep=\"\\t\")\n",
    "        #df=pd.read_csv(f\"new_toy_MC.txt\",sep=\"\\t\")\n",
    "        df.columns=['pol','phi']\n",
    "        #now write data to histo\n",
    "        p45=df.loc[df['pol']==0.3]\n",
    "        m45=df.loc[df['pol']==0.25]\n",
    "        \n",
    "        hp45=r.TH1F(f\"hp45_{i}\",\";#phi;\",12,-180,180)\n",
    "        hm45=r.TH1F(f\"hm45_{i}\",\";#phi;\",12,-180,180)\n",
    "\n",
    "        for k in p45['phi']:\n",
    "            hp45.Fill(k)\n",
    "        for k in m45['phi']:\n",
    "            hm45.Fill(k)\n",
    "\n",
    "        #now build event yield asymmetry\n",
    "        #write histos to arrays\n",
    "        p45_arr=[]\n",
    "        m45_arr=[]\n",
    "        for k in range(12):\n",
    "            p45_arr.append(hp45.GetBinContent(k+1))\n",
    "            m45_arr.append(hm45.GetBinContent(k+1))\n",
    "            \n",
    "        p45_arr=np.array(p45_arr)\n",
    "        m45_arr=np.array(m45_arr)\n",
    "        \n",
    "        \n",
    "        \n",
    "        #first, normalize event yields\n",
    "        norm_p_err=ctypes.c_double(0.)\n",
    "        norm_m_err=ctypes.c_double(0.)\n",
    "        \n",
    "        norm_p=hp45.IntegralAndError(0,-1,norm_p_err,\"\")\n",
    "        norm_m=hm45.IntegralAndError(0,-1,norm_m_err,\"\")\n",
    "        \n",
    "        p45_arr*=1./norm_p\n",
    "        m45_arr*=1./norm_m\n",
    "        #c=r.TCanvas()\n",
    "\n",
    "        \n",
    "\n",
    "        #enumerator of asymmetry\n",
    "        enum=p45_arr-m45_arr\n",
    "        #nominator of asymmetry\n",
    "        nom=0.25*p45_arr+0.3*m45_arr\n",
    "        final_e=[]\n",
    "        for k in range(12):\n",
    "            n_bot=hp45.GetBinContent(k+1)\n",
    "            n_bot_err=hp45.GetBinError(k+1)\n",
    "            #print(n_bot,n_bot_err)\n",
    "            n_par=hm45.GetBinContent(k+1)\n",
    "            n_par_err=hm45.GetBinError(k+1)\n",
    "            pol_bot=0.3\n",
    "            pol_par=0.25\n",
    "            tmp_enum=((n_bot*n_par*norm_m*(pol_bot+pol_par)*norm_p_err.value)**2\n",
    "                    +(n_bot*n_par*norm_p*(pol_bot+pol_par)*norm_m_err.value)**2\n",
    "                    +(n_par*norm_p*norm_m*(pol_bot+pol_par)*n_bot_err)**2\n",
    "                    +(n_bot*norm_p*norm_m*(pol_bot+pol_par)*n_par_err)**2)\n",
    "            tmp_nom=np.power(pol_par*n_bot*norm_m+pol_bot*n_par*norm_p,4)\n",
    "            final_e.append(np.sqrt(tmp_enum/tmp_nom))\n",
    "        \n",
    "        #enum.Divide(nom)\n",
    "        #set error\n",
    "        #save the data in a dataframe!\n",
    "        #create arrays with y,dy\n",
    "        asym=enum/nom\n",
    "        phibins=[]\n",
    "        for k in range(12):\n",
    "            enum.SetBinError(k+1,final_e[k])\n",
    "            phibins.append(enum.GetXaxis().GetBinCenter(k+1))\n",
    "        \n",
    "        stan_data={\n",
    "            'n':len(asym), #no. of bins\n",
    "            'phi':phibins, # bin centres of phi\n",
    "            'asym':asym, #value of asymmetry \n",
    "            'dasym':final_e,#error of asymmetry\n",
    "        }\n",
    "        df_stan=pd.DataFrame(stan_data)\n",
    "        \n",
    "        #fit with mcmc and get samples\n",
    "        fit=bayesian_fit(data=df_stan,stanfile='stan_file.stan',nsamples=nsamples)\n",
    "        sigma=fit.samples_df()['sigma']\n",
    "        #write results\n",
    "        currbin=f\"toybin{i:04d}\"\n",
    "        sigma_df[currbin]=sigma\n",
    "        #write chi2 results\n",
    "        popt, pcov = fit.get_chisqpars(fit.f)\n",
    "        sigma_chi2_df[currbin]=[popt[0],np.sqrt(pcov[0][0])]\n",
    "        #get fit diagnostics, i.e. pvalue\n",
    "        pvalue=fit.pval()\n",
    "        #get mcmc diagnostics, i.e. r_hat and median+mcse\n",
    "        summary=fit.fitobj.summary()\n",
    "        median=(summary['50%']['sigma'])\n",
    "        mcse=(az.mcse(np.transpose(fit.fitobj.draws(concat_chains=False)[:,:,7]),method='median'))\n",
    "        #print(fit.fitobj.draws_pd())\n",
    "        rhat=(summary['R_hat']['sigma'])\n",
    "        dlist=[median,mcse,rhat]\n",
    "        dlist.extend(pvalue)\n",
    "        #write diagnostics\n",
    "        diagnostics_df[currbin]=dlist\n",
    "        #make ppd plots\n",
    "        #fit.plot_ppd(save=True,i=i,display=False,fitfunc=fit.f,width=50)\n",
    "        print(f'fitted toyMC exp. no. {i}')\n",
    "\n",
    "    return diagnostics_df, sigma_df, sigma_chi2_df\n"
   ]
  },
  {
   "cell_type": "code",
   "execution_count": 7,
   "id": "451bac5e",
   "metadata": {},
   "outputs": [
    {
     "name": "stdout",
     "output_type": "stream",
     "text": [
      "78.0 8.831760866327848\n",
      "58.0 7.615773105863909\n",
      "68.0 8.246211251235321\n",
      "90.0 9.486832980505138\n",
      "101.0 10.04987562112089\n",
      "93.0 9.643650760992955\n",
      "77.0 8.774964387392123\n",
      "68.0 8.246211251235321\n",
      "74.0 8.602325267042627\n",
      "96.0 9.797958971132712\n",
      "101.0 10.04987562112089\n",
      "96.0 9.797958971132712\n"
     ]
    },
    {
     "ename": "AttributeError",
     "evalue": "'numpy.ndarray' object has no attribute 'Divide'",
     "output_type": "error",
     "traceback": [
      "\u001b[0;31m---------------------------------------------------------------------------\u001b[0m",
      "\u001b[0;31mAttributeError\u001b[0m                            Traceback (most recent call last)",
      "Input \u001b[0;32mIn [7]\u001b[0m, in \u001b[0;36m<cell line: 1>\u001b[0;34m()\u001b[0m\n\u001b[0;32m----> 1\u001b[0m res\u001b[38;5;241m=\u001b[39m\u001b[43mfit\u001b[49m\u001b[43m(\u001b[49m\u001b[43mnsamples\u001b[49m\u001b[38;5;241;43m=\u001b[39;49m\u001b[38;5;241;43m1000\u001b[39;49m\u001b[43m,\u001b[49m\u001b[43mnbins\u001b[49m\u001b[38;5;241;43m=\u001b[39;49m\u001b[38;5;241;43m1\u001b[39;49m\u001b[43m,\u001b[49m\u001b[43mstart\u001b[49m\u001b[38;5;241;43m=\u001b[39;49m\u001b[38;5;241;43m0\u001b[39;49m\u001b[43m)\u001b[49m\n",
      "Input \u001b[0;32mIn [6]\u001b[0m, in \u001b[0;36mfit\u001b[0;34m(nsamples, nbins, start)\u001b[0m\n\u001b[1;32m     71\u001b[0m     tmp_nom\u001b[38;5;241m=\u001b[39mnp\u001b[38;5;241m.\u001b[39mpower(pol_par\u001b[38;5;241m*\u001b[39mn_bot\u001b[38;5;241m*\u001b[39mnorm_m\u001b[38;5;241m+\u001b[39mpol_bot\u001b[38;5;241m*\u001b[39mn_par\u001b[38;5;241m*\u001b[39mnorm_p,\u001b[38;5;241m4\u001b[39m)\n\u001b[1;32m     72\u001b[0m     final_e\u001b[38;5;241m.\u001b[39mappend(np\u001b[38;5;241m.\u001b[39msqrt(tmp_enum\u001b[38;5;241m/\u001b[39mtmp_nom))\n\u001b[0;32m---> 74\u001b[0m \u001b[43menum\u001b[49m\u001b[38;5;241;43m.\u001b[39;49m\u001b[43mDivide\u001b[49m(nom)\n\u001b[1;32m     75\u001b[0m \u001b[38;5;66;03m#set error\u001b[39;00m\n\u001b[1;32m     76\u001b[0m \u001b[38;5;66;03m#save the data in a dataframe!\u001b[39;00m\n\u001b[1;32m     77\u001b[0m \u001b[38;5;66;03m#create arrays with y,dy\u001b[39;00m\n\u001b[1;32m     78\u001b[0m asym\u001b[38;5;241m=\u001b[39menum\u001b[38;5;241m/\u001b[39mnom\n",
      "\u001b[0;31mAttributeError\u001b[0m: 'numpy.ndarray' object has no attribute 'Divide'"
     ]
    },
    {
     "name": "stderr",
     "output_type": "stream",
     "text": [
      "Warning in <TROOT::Append>: Replacing existing TH1: hp45_0 (Potential memory leak).\n",
      "Warning in <TROOT::Append>: Replacing existing TH1: hm45_0 (Potential memory leak).\n"
     ]
    }
   ],
   "source": [
    "res=fit(nsamples=1000,nbins=1,start=0)"
   ]
  },
  {
   "cell_type": "code",
   "execution_count": 13,
   "id": "60c28ca7",
   "metadata": {},
   "outputs": [
    {
     "data": {
      "image/png": "[encoded data removed]",
      "text/plain": [
       "<Figure size 432x288 with 1 Axes>"
      ]
     },
     "metadata": {
      "needs_background": "light"
     },
     "output_type": "display_data"
    }
   ],
   "source": [
    "plt.hist(res[1].values.ravel(),histtype='step',bins=100)\n",
    "#plt.hist(res[2].loc['sigma'].values.ravel(),histtype='step',bins=20)\n",
    "plt.show()"
   ]
  },
  {
   "cell_type": "code",
   "execution_count": 9,
   "id": "ba41051f",
   "metadata": {},
   "outputs": [],
   "source": [
    "res[0].to_csv('diagnostics.csv')\n",
    "res[1].to_csv('sigma.csv')\n",
    "res[2].to_csv('sigma_chi2.csv')"
   ]
  },
  {
   "cell_type": "code",
   "execution_count": 41,
   "id": "4d3db551",
   "metadata": {},
   "outputs": [
    {
     "name": "stderr",
     "output_type": "stream",
     "text": [
      "INFO:cmdstanpy:found newer exe file, not recompiling\n",
      "INFO:cmdstanpy:CmdStan start processing\n"
     ]
    },
    {
     "data": {
      "application/vnd.jupyter.widget-view+json": {
       "model_id": "a0512c960e2442d68b17300b6ca15aa5",
       "version_major": 2,
       "version_minor": 0
      },
      "text/plain": [
       "chain 1 |          | 00:00 Status"
      ]
     },
     "metadata": {},
     "output_type": "display_data"
    },
    {
     "data": {
      "application/vnd.jupyter.widget-view+json": {
       "model_id": "ed316146e92f4c418686c592b4732966",
       "version_major": 2,
       "version_minor": 0
      },
      "text/plain": [
       "chain 2 |          | 00:00 Status"
      ]
     },
     "metadata": {},
     "output_type": "display_data"
    },
    {
     "data": {
      "application/vnd.jupyter.widget-view+json": {
       "model_id": "6ae96d818743474a827c10984c2c4292",
       "version_major": 2,
       "version_minor": 0
      },
      "text/plain": [
       "chain 3 |          | 00:00 Status"
      ]
     },
     "metadata": {},
     "output_type": "display_data"
    },
    {
     "data": {
      "application/vnd.jupyter.widget-view+json": {
       "model_id": "c4b7f139f5064816a24b308a1edf0158",
       "version_major": 2,
       "version_minor": 0
      },
      "text/plain": [
       "chain 4 |          | 00:00 Status"
      ]
     },
     "metadata": {},
     "output_type": "display_data"
    },
    {
     "name": "stdout",
     "output_type": "stream",
     "text": [
      "                                                                                                                                                                                                                                                                                                                                "
     ]
    },
    {
     "name": "stderr",
     "output_type": "stream",
     "text": [
      "INFO:cmdstanpy:CmdStan done processing.\n"
     ]
    },
    {
     "name": "stdout",
     "output_type": "stream",
     "text": [
      "\n",
      "fitted toyMC exp. no. 0\n"
     ]
    },
    {
     "name": "stderr",
     "output_type": "stream",
     "text": [
      "Warning in <TROOT::Append>: Replacing existing TH1: hp45_0 (Potential memory leak).\n"
     ]
    }
   ],
   "source": [
    "hp45=fit(nsamples=1000,nbins=1,start=0)"
   ]
  },
  {
   "cell_type": "code",
   "execution_count": 42,
   "id": "8429d9e1",
   "metadata": {},
   "outputs": [
    {
     "data": {
      "text/plain": [
       "<cppyy.gbl.TFitResultPtr object at 0x600000a44e40>"
      ]
     },
     "execution_count": 42,
     "metadata": {},
     "output_type": "execute_result"
    },
    {
     "name": "stdout",
     "output_type": "stream",
     "text": [
      " FCN=10.1617 FROM MIGRAD    STATUS=CONVERGED      12 CALLS          13 TOTAL\n",
      "                     EDM=2.56182e-13    STRATEGY= 1      ERROR MATRIX ACCURATE \n",
      "  EXT PARAMETER                                   STEP         FIRST   \n",
      "  NO.   NAME      VALUE            ERROR          SIZE      DERIVATIVE \n",
      "   1  p0           4.15820e+02   5.88657e+00   1.03590e-02  -1.21598e-07\n"
     ]
    },
    {
     "name": "stderr",
     "output_type": "stream",
     "text": [
      "Warning in <TCanvas::Constructor>: Deleting canvas with same name: c\n"
     ]
    },
    {
     "data": {
      "text/html": [
       "\n",
       "\n",
       "<div id=\"root_plot_1649694775708\"\n",
       "     style=\"width: 696px; height: 472px\">\n",
       "</div>\n",
       "<script>\n",
       "\n",
       "function display_root_plot_1649694775708(Core) {\n",
       "   let obj = Core.parse({\"_typename\":\"TCanvas\",\"fUniqueID\":0,\"fBits\":3342344,\"fLineColor\":1,\"fLineStyle\":1,\"fLineWidth\":1,\"fFillColor\":0,\"fFillStyle\":1001,\"fLeftMargin\":0.1,\"fRightMargin\":0.1,\"fBottomMargin\":0.1,\"fTopMargin\":0.1,\"fXfile\":2,\"fYfile\":2,\"fAfile\":1,\"fXstat\":0.99,\"fYstat\":0.99,\"fAstat\":2,\"fFrameFillColor\":0,\"fFrameLineColor\":1,\"fFrameFillStyle\":1001,\"fFrameLineStyle\":1,\"fFrameLineWidth\":1,\"fFrameBorderSize\":1,\"fFrameBorderMode\":0,\"fX1\":0,\"fY1\":0,\"fX2\":1,\"fY2\":1,\"fXtoAbsPixelk\":5e-5,\"fXtoPixelk\":5e-5,\"fXtoPixel\":696,\"fYtoAbsPixelk\":472.00005,\"fYtoPixelk\":472.00005,\"fYtoPixel\":-472,\"fUtoAbsPixelk\":5e-5,\"fUtoPixelk\":5e-5,\"fUtoPixel\":696,\"fVtoAbsPixelk\":472.00005,\"fVtoPixelk\":472,\"fVtoPixel\":-472,\"fAbsPixeltoXk\":0,\"fPixeltoXk\":0,\"fPixeltoX\":0.0014367816091954,\"fAbsPixeltoYk\":1,\"fPixeltoYk\":0,\"fPixeltoY\":-0.00211864406779661,\"fXlowNDC\":0,\"fYlowNDC\":0,\"fXUpNDC\":1,\"fYUpNDC\":1,\"fWNDC\":1,\"fHNDC\":1,\"fAbsXlowNDC\":0,\"fAbsYlowNDC\":0,\"fAbsWNDC\":1,\"fAbsHNDC\":1,\"fUxmin\":0,\"fUymin\":0,\"fUxmax\":1,\"fUymax\":1,\"fTheta\":30,\"fPhi\":30,\"fAspectRatio\":0,\"fNumber\":0,\"fTickx\":0,\"fTicky\":0,\"fLogx\":0,\"fLogy\":0,\"fLogz\":0,\"fPadPaint\":0,\"fCrosshair\":0,\"fCrosshairPos\":0,\"fBorderSize\":2,\"fBorderMode\":0,\"fModified\":true,\"fGridx\":false,\"fGridy\":false,\"fAbsCoord\":false,\"fEditable\":true,\"fFixedAspectRatio\":false,\"fPrimitives\":{\"_typename\":\"TList\",\"name\":\"TList\",\"arr\":[{\"_typename\":\"TH1F\",\"fUniqueID\":0,\"fBits\":8,\"fName\":\"hp45_0\",\"fTitle\":\"\",\"fLineColor\":602,\"fLineStyle\":1,\"fLineWidth\":1,\"fFillColor\":0,\"fFillStyle\":1001,\"fMarkerColor\":1,\"fMarkerStyle\":1,\"fMarkerSize\":1,\"fNcells\":14,\"fXaxis\":{\"_typename\":\"TAxis\",\"fUniqueID\":0,\"fBits\":0,\"fName\":\"xaxis\",\"fTitle\":\"#phi\",\"fNdivisions\":510,\"fAxisColor\":1,\"fLabelColor\":1,\"fLabelFont\":42,\"fLabelOffset\":0.005,\"fLabelSize\":0.035,\"fTickLength\":0.03,\"fTitleOffset\":1,\"fTitleSize\":0.035,\"fTitleColor\":1,\"fTitleFont\":42,\"fNbins\":12,\"fXmin\":-180,\"fXmax\":180,\"fXbins\":[],\"fFirst\":0,\"fLast\":0,\"fBits2\":0,\"fTimeDisplay\":false,\"fTimeFormat\":\"\",\"fLabels\":null,\"fModLabs\":null},\"fYaxis\":{\"_typename\":\"TAxis\",\"fUniqueID\":0,\"fBits\":0,\"fName\":\"yaxis\",\"fTitle\":\"\",\"fNdivisions\":510,\"fAxisColor\":1,\"fLabelColor\":1,\"fLabelFont\":42,\"fLabelOffset\":0.005,\"fLabelSize\":0.035,\"fTickLength\":0.03,\"fTitleOffset\":0,\"fTitleSize\":0.035,\"fTitleColor\":1,\"fTitleFont\":42,\"fNbins\":1,\"fXmin\":0,\"fXmax\":1,\"fXbins\":[],\"fFirst\":0,\"fLast\":0,\"fBits2\":0,\"fTimeDisplay\":false,\"fTimeFormat\":\"\",\"fLabels\":null,\"fModLabs\":null},\"fZaxis\":{\"_typename\":\"TAxis\",\"fUniqueID\":0,\"fBits\":0,\"fName\":\"zaxis\",\"fTitle\":\"\",\"fNdivisions\":510,\"fAxisColor\":1,\"fLabelColor\":1,\"fLabelFont\":42,\"fLabelOffset\":0.005,\"fLabelSize\":0.035,\"fTickLength\":0.03,\"fTitleOffset\":1,\"fTitleSize\":0.035,\"fTitleColor\":1,\"fTitleFont\":42,\"fNbins\":1,\"fXmin\":0,\"fXmax\":1,\"fXbins\":[],\"fFirst\":0,\"fLast\":0,\"fBits2\":0,\"fTimeDisplay\":false,\"fTimeFormat\":\"\",\"fLabels\":null,\"fModLabs\":null},\"fBarOffset\":0,\"fBarWidth\":1000,\"fEntries\":5000,\"fTsumw\":5000,\"fTsumw2\":5000,\"fTsumwx\":19386.87762386,\"fTsumwx2\":54018024.5995106,\"fMaximum\":-1111,\"fMinimum\":-1111,\"fNormFactor\":0,\"fContour\":[],\"fSumw2\":[],\"fOption\":\"\",\"fFunctions\":{\"_typename\":\"TList\",\"name\":\"TList\",\"arr\":[{\"_typename\":\"TF1\",\"fUniqueID\":0,\"fBits\":1024,\"fName\":\"f\",\"fTitle\":\"[0]*(1-0.3*0.5*TMath::Cos(2*(45-x)*TMath::Pi()\\/180))\",\"fLineColor\":2,\"fLineStyle\":1,\"fLineWidth\":2,\"fFillColor\":19,\"fFillStyle\":0,\"fMarkerColor\":1,\"fMarkerStyle\":1,\"fMarkerSize\":1,\"fXmin\":-180,\"fXmax\":180,\"fNpar\":1,\"fNdim\":1,\"fNpx\":100,\"fType\":0,\"fNpfits\":12,\"fNDF\":11,\"fChisquare\":10.1617390786651,\"fMinimum\":-1111,\"fMaximum\":-1111,\"fParErrors\":[5.88656560315237],\"fParMin\":[0],\"fParMax\":[0],\"fSave\":{\"$arr\":\"Float64\",\"len\":103,\"v\":[415.81985297004,408.002445957094,400.308324122636,392.858828364239,385.771441680127,379.157936392108,373.12261142929,367.760647471665,363.156605893928,359.38309518208,356.499625854232,354.551671944188,353.569953848758,353.569953848758,354.551671944188,356.499625854232,359.38309518208,363.156605893928,367.760647471665,373.12261142929,379.157936392108,385.771441680127,392.858828364239,400.308324122636,408.002445957094,415.81985297004,423.637259982985,431.331381817444,438.78087757584,445.868264259953,452.481769547972,458.51709451079,463.879058468414,468.483100046152,472.256610758,475.140080085847,477.088033995892,478.069752091322,478.069752091322,477.088033995892,475.140080085847,472.256610758,468.483100046152,463.879058468414,458.51709451079,452.481769547972,445.868264259953,438.78087757584,431.331381817444,423.637259982985,415.81985297004,408.002445957094,400.308324122636,392.858828364239,385.771441680127,379.157936392108,373.12261142929,367.760647471665,363.156605893928,359.38309518208,356.499625854232,354.551671944188,353.569953848758,353.569953848758,354.551671944188,356.499625854232,359.38309518208,363.156605893928,367.760647471665,373.12261142929,379.157936392108,385.771441680127,392.858828364239,400.308324122636,408.002445957095,415.81985297004,423.637259982985,431.331381817444,438.78087757584,445.868264259953,452.481769547972,458.51709451079,463.879058468414,468.483100046152,472.256610758,475.140080085847,477.088033995892,478.069752091322,478.069752091322,477.088033995892,475.140080085847,472.256610758,468.483100046152,463.879058468414,458.51709451079,452.481769547972,445.868264259952,438.78087757584,431.331381817444,423.637259982985,415.81985297004,-180,180]},\"fNormalized\":false,\"fNormIntegral\":0,\"fFormula\":{\"_typename\":\"TFormula\",\"fUniqueID\":0,\"fBits\":1024,\"fName\":\"f\",\"fTitle\":\"[0]*(1-0.3*0.5*TMath::Cos(2*(45-x)*TMath::Pi()\\/180))\",\"fClingParameters\":[415.81985297004],\"fAllParametersSetted\":true,\"fParams\":[{\"$pair\":\"pair<TString,int,TFormulaParamOrder>\",\"first\":\"p0\",\"second\":0}],\"fFormula\":\"[p0]*(1-0.3*0.5*TMath::Cos(2*(45-x)*TMath::Pi()\\/180))\",\"fNdim\":1,\"fLinearParts\":[],\"fVectorized\":false},\"fParams\":null,\"fComposition\":null}],\"opt\":[\"\"]},\"fBufferSize\":0,\"fBuffer\":[],\"fBinStatErrOpt\":0,\"fStatOverflows\":2,\"fArray\":{\"$arr\":\"Float32\",\"len\":14,\"p\":1,\"v\":[407,333,407,430,494,425,383,383,390,420,482,446]}},{\"_typename\":\"TStyle\",\"fUniqueID\":0,\"fBits\":0,\"fName\":\"Modern\",\"fTitle\":\"Modern Style\",\"fLineColor\":1,\"fLineStyle\":1,\"fLineWidth\":1,\"fFillColor\":19,\"fFillStyle\":1001,\"fMarkerColor\":1,\"fMarkerStyle\":1,\"fMarkerSize\":1,\"fTextAngle\":0,\"fTextSize\":0.05,\"fTextAlign\":11,\"fTextColor\":1,\"fTextFont\":62,\"fXaxis\":{\"_typename\":\"TAttAxis\",\"fNdivisions\":510,\"fAxisColor\":1,\"fLabelColor\":1,\"fLabelFont\":42,\"fLabelOffset\":0.005,\"fLabelSize\":0.035,\"fTickLength\":0.03,\"fTitleOffset\":1,\"fTitleSize\":0.035,\"fTitleColor\":1,\"fTitleFont\":42},\"fYaxis\":{\"_typename\":\"TAttAxis\",\"fNdivisions\":510,\"fAxisColor\":1,\"fLabelColor\":1,\"fLabelFont\":42,\"fLabelOffset\":0.005,\"fLabelSize\":0.035,\"fTickLength\":0.03,\"fTitleOffset\":0,\"fTitleSize\":0.035,\"fTitleColor\":1,\"fTitleFont\":42},\"fZaxis\":{\"_typename\":\"TAttAxis\",\"fNdivisions\":510,\"fAxisColor\":1,\"fLabelColor\":1,\"fLabelFont\":42,\"fLabelOffset\":0.005,\"fLabelSize\":0.035,\"fTickLength\":0.03,\"fTitleOffset\":1,\"fTitleSize\":0.035,\"fTitleColor\":1,\"fTitleFont\":42},\"fBarWidth\":1,\"fBarOffset\":0,\"fColorModelPS\":0,\"fDrawBorder\":0,\"fOptLogx\":0,\"fOptLogy\":0,\"fOptLogz\":0,\"fOptDate\":0,\"fOptStat\":1111,\"fOptTitle\":1,\"fOptFile\":0,\"fOptFit\":0,\"fShowEventStatus\":0,\"fShowEditor\":0,\"fShowToolBar\":0,\"fNumberContours\":20,\"fAttDate\":{\"_typename\":\"TAttText\",\"fTextAngle\":0,\"fTextSize\":0.025,\"fTextAlign\":11,\"fTextColor\":1,\"fTextFont\":62},\"fDateX\":0.01,\"fDateY\":0.01,\"fEndErrorSize\":2,\"fErrorX\":0.5,\"fFuncColor\":2,\"fFuncStyle\":1,\"fFuncWidth\":2,\"fGridColor\":0,\"fGridStyle\":3,\"fGridWidth\":1,\"fLegendBorderSize\":1,\"fLegendFillColor\":0,\"fLegendFont\":42,\"fLegendTextSize\":0,\"fHatchesLineWidth\":1,\"fHatchesSpacing\":1,\"fFrameFillColor\":0,\"fFrameLineColor\":1,\"fFrameFillStyle\":1001,\"fFrameLineStyle\":1,\"fFrameLineWidth\":1,\"fFrameBorderSize\":1,\"fFrameBorderMode\":0,\"fHistFillColor\":0,\"fHistLineColor\":602,\"fHistFillStyle\":1001,\"fHistLineStyle\":1,\"fHistLineWidth\":1,\"fHistMinimumZero\":false,\"fHistTopMargin\":0.05,\"fCanvasPreferGL\":false,\"fCanvasColor\":0,\"fCanvasBorderSize\":2,\"fCanvasBorderMode\":0,\"fCanvasDefH\":500,\"fCanvasDefW\":700,\"fCanvasDefX\":10,\"fCanvasDefY\":10,\"fPadColor\":0,\"fPadBorderSize\":2,\"fPadBorderMode\":0,\"fPadBottomMargin\":0.1,\"fPadTopMargin\":0.1,\"fPadLeftMargin\":0.1,\"fPadRightMargin\":0.1,\"fPadGridX\":false,\"fPadGridY\":false,\"fPadTickX\":0,\"fPadTickY\":0,\"fPaperSizeX\":20,\"fPaperSizeY\":26,\"fScreenFactor\":1,\"fStatColor\":0,\"fStatTextColor\":1,\"fStatBorderSize\":1,\"fStatFont\":42,\"fStatFontSize\":0,\"fStatStyle\":1001,\"fStatFormat\":\"6.4g\",\"fStatX\":0.98,\"fStatY\":0.935,\"fStatW\":0.2,\"fStatH\":0.16,\"fStripDecimals\":true,\"fTitleAlign\":23,\"fTitleColor\":0,\"fTitleTextColor\":1,\"fTitleBorderSize\":0,\"fTitleFont\":42,\"fTitleFontSize\":0.05,\"fTitleStyle\":0,\"fTitleX\":0.5,\"fTitleY\":0.995,\"fTitleW\":0,\"fTitleH\":0,\"fLegoInnerR\":0.5,\"fLineStyles\":[\"\",\"  \",\" 12 12\",\" 4 8\",\" 12 16 4 16\",\" 20 12 4 12\",\" 20 12 4 12 4 12 4 12\",\" 20 20\",\" 20 12 4 12 4 12\",\" 80 20\",\" 80 40 4 40\",\"  \",\"  \",\"  \",\"  \",\"  \",\"  \",\"  \",\"  \",\"  \",\"  \",\"  \",\"  \",\"  \",\"  \",\"  \",\"  \",\"  \",\"  \",\"  \"],\"fHeaderPS\":\"\",\"fTitlePS\":\"\",\"fFitFormat\":\"5.4g\",\"fPaintTextFormat\":\"g\",\"fLineScalePS\":3,\"fJoinLinePS\":0,\"fCapLinePS\":0,\"fTimeOffset\":788918400,\"fImageScaling\":1}],\"opt\":[\"ep\",\"\"]},\"fExecs\":null,\"fName\":\"c\",\"fTitle\":\"c\",\"fNumPaletteColor\":0,\"fNextPaletteColor\":0,\"fDISPLAY\":\"$DISPLAY\",\"fDoubleBuffer\":0,\"fRetained\":true,\"fXsizeUser\":0,\"fYsizeUser\":0,\"fXsizeReal\":20,\"fYsizeReal\":14.28571,\"fWindowTopX\":0,\"fWindowTopY\":0,\"fWindowWidth\":0,\"fWindowHeight\":0,\"fCw\":696,\"fCh\":472,\"fCatt\":{\"_typename\":\"TAttCanvas\",\"fXBetween\":2,\"fYBetween\":2,\"fTitleFromTop\":1.2,\"fXdate\":0.2,\"fYdate\":0.3,\"fAdate\":1},\"kMoveOpaque\":true,\"kResizeOpaque\":true,\"fHighLightColor\":2,\"fBatch\":true,\"kShowEventStatus\":false,\"kAutoExec\":true,\"kMenuBar\":true});\n",
       "   Core.settings.HandleKeys = false;\n",
       "   Core.draw(\"root_plot_1649694775708\", obj, \"\");\n",
       "}\n",
       "\n",
       "function script_load_root_plot_1649694775708(src, on_error) {\n",
       "    let script = document.createElement('script');\n",
       "    script.src = src;\n",
       "    script.onload = function() { display_root_plot_1649694775708(JSROOT); };\n",
       "    script.onerror = function() { script.remove(); on_error(); };\n",
       "    document.head.appendChild(script);\n",
       "}\n",
       "\n",
       "if (typeof requirejs !== 'undefined') {\n",
       "\n",
       "    // We are in jupyter notebooks, use require.js which should be configured already\n",
       "    requirejs.config({\n",
       "       paths: { 'JSRootCore' : [ 'scripts/JSRoot.core', 'https://root.cern/js/6.1.1/scripts/JSRoot.core.min', 'https://jsroot.gsi.de/6.1.1/scripts/JSRoot.core.min' ] }\n",
       "    })(['JSRootCore'],  function(Core) {\n",
       "       display_root_plot_1649694775708(Core);\n",
       "    });\n",
       "\n",
       "} else if (typeof JSROOT !== 'undefined') {\n",
       "\n",
       "   // JSROOT already loaded, just use it\n",
       "   display_root_plot_1649694775708(JSROOT);\n",
       "\n",
       "} else {\n",
       "\n",
       "    // We are in jupyterlab without require.js, directly loading jsroot\n",
       "    // Jupyterlab might be installed in a different base_url so we need to know it.\n",
       "    try {\n",
       "        var base_url = JSON.parse(document.getElementById('jupyter-config-data').innerHTML).baseUrl;\n",
       "    } catch(_) {\n",
       "        var base_url = '/';\n",
       "    }\n",
       "\n",
       "    // Try loading a local version of requirejs and fallback to cdn if not possible.\n",
       "    script_load_root_plot_1649694775708(base_url + 'static/scripts/JSRoot.core.js', function(){\n",
       "        console.error('Fail to load JSROOT locally, please check your jupyter_notebook_config.py file');\n",
       "        script_load_root_plot_1649694775708('https://root.cern/js/6.1.1/scripts/JSRoot.core.min.js', function(){\n",
       "            document.getElementById(\"root_plot_1649694775708\").innerHTML = \"Failed to load JSROOT\";\n",
       "        });\n",
       "    });\n",
       "}\n",
       "\n",
       "</script>\n"
      ],
      "text/plain": [
       "<IPython.core.display.HTML object>"
      ]
     },
     "metadata": {},
     "output_type": "display_data"
    }
   ],
   "source": [
    "c=r.TCanvas(\"c\",\"c\")\n",
    "c.Draw(\"\")\n",
    "hp45.Draw(\"ep\")\n",
    "\n",
    "\n",
    "f=r.TF1(\"f\",\"[0]*(1-0.3*0.5*TMath::Cos(2*(45-x)*TMath::Pi()/180))\")\n",
    "hp45.Fit(f,\"S\")"
   ]
  },
  {
   "cell_type": "code",
   "execution_count": null,
   "id": "01ac7b13",
   "metadata": {},
   "outputs": [],
   "source": []
  }
 ],
 "metadata": {
  "kernelspec": {
   "display_name": "Python 3 (ipykernel)",
   "language": "python",
   "name": "python3"
  },
  "language_info": {
   "codemirror_mode": {
    "name": "ipython",
    "version": 3
   },
   "file_extension": ".py",
   "mimetype": "text/x-python",
   "name": "python",
   "nbconvert_exporter": "python",
   "pygments_lexer": "ipython3",
   "version": "3.10.4"
  }
 },
 "nbformat": 4,
 "nbformat_minor": 5
}
