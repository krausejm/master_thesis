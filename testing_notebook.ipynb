{
 "cells": [
  {
   "cell_type": "code",
   "execution_count": 11,
   "id": "9c83eb0e",
   "metadata": {},
   "outputs": [],
   "source": [
    "def get_weight(prompt_min,prompt_max,side_min,side_max, t_reaction):\n",
    "    if (prompt_min<t_reaction&t_reaction<prompt_max):\n",
    "        return 1.\n",
    "    elif ((side_min<t_reaction&t_reaction<side_max)):\n",
    "        return -1*(prompt_max-prompt_min)/(side_max-side_min)/2\n",
    "    elif ((-side_max<t_reaction&t_reaction<-side_min)):\n",
    "        return -1*(prompt_max-prompt_min)/(side_max-side_min)/2\n",
    "    else:\n",
    "        return 0\n"
   ]
  },
  {
   "cell_type": "code",
   "execution_count": 19,
   "id": "dfbe83c5",
   "metadata": {},
   "outputs": [
    {
     "data": {
      "text/plain": [
       "0"
      ]
     },
     "execution_count": 19,
     "metadata": {},
     "output_type": "execute_result"
    }
   ],
   "source": [
    "get_weight(-15,15,100,200,-300)"
   ]
  },
  {
   "cell_type": "code",
   "execution_count": 20,
   "id": "1237c659",
   "metadata": {},
   "outputs": [],
   "source": [
    "def get_weight(prompt_min,prompt_max,side_min,side_max, t_reaction):\n",
    "    if (prompt_min<t_reaction&t_reaction<prompt_max):\n",
    "        return 1.\n",
    "    elif ((side_min<t_reaction&t_reaction<side_max)&(-side_max<t_reaction&t_reaction<-side_min)):\n",
    "        return -1*(prompt_max-prompt_min)/(side_max-side_min)/2\n",
    "\n",
    "    else:\n",
    "        return 0\n"
   ]
  },
  {
   "cell_type": "code",
   "execution_count": 24,
   "id": "e29ff8da",
   "metadata": {},
   "outputs": [
    {
     "data": {
      "text/plain": [
       "0"
      ]
     },
     "execution_count": 24,
     "metadata": {},
     "output_type": "execute_result"
    }
   ],
   "source": [
    "get_weight(-15,15,100,200,-130)"
   ]
  },
  {
   "cell_type": "code",
   "execution_count": 3,
   "id": "1841c869",
   "metadata": {},
   "outputs": [
    {
     "name": "stdout",
     "output_type": "stream",
     "text": [
      "0 1 2 3 4 5\n",
      "0 1 2 4 3 5\n",
      "0 1 2 5 3 4\n",
      "0 2 1 3 4 5\n",
      "0 2 1 4 3 5\n",
      "0 2 1 5 3 4\n",
      "0 3 1 2 4 5\n",
      "0 3 1 4 2 5\n",
      "0 3 1 5 2 4\n",
      "0 4 1 2 3 5\n",
      "0 4 1 3 2 5\n",
      "0 4 1 5 2 3\n",
      "0 5 1 2 3 4\n",
      "0 5 1 3 2 4\n",
      "0 5 1 4 2 3\n",
      "15\n"
     ]
    }
   ],
   "source": [
    "count=0\n",
    "for i in range(5):\n",
    "    for j in range(i+1,6):\n",
    "        for k in range(5):\n",
    "            if(k==i or k==j):\n",
    "                continue\n",
    "            for l in range(k+1,6):\n",
    "                if(l==i or l==j):\n",
    "                    continue\n",
    "                count+=1\n",
    "                for m in range(5):\n",
    "                    if(m==k or m==l or m==i or m==j):\n",
    "                        continue\n",
    "                    for n in range(m+1,6):\n",
    "                        if(n==k or n==l or n==i or n==j):\n",
    "                            continue\n",
    "                        print(i,j,k,l,m,n)\n",
    "            break\n",
    "    break\n",
    "print(count)\n",
    "                    \n",
    "        "
   ]
  },
  {
   "cell_type": "code",
   "execution_count": null,
   "id": "bdc97160",
   "metadata": {},
   "outputs": [],
   "source": []
  },
  {
   "cell_type": "code",
   "execution_count": 19,
   "id": "1befe4ec",
   "metadata": {},
   "outputs": [
    {
     "name": "stdout",
     "output_type": "stream",
     "text": [
      "315\n"
     ]
    }
   ],
   "source": [
    "for i in range(5):\n",
    "    for j in range(i+1,6):\n",
    "        for k in range(5):\n",
    "            for l in range(k+1,6):\n",
    "                count+=1\n",
    "print(count)"
   ]
  },
  {
   "cell_type": "code",
   "execution_count": null,
   "id": "7dda0fe2",
   "metadata": {},
   "outputs": [],
   "source": []
  }
 ],
 "metadata": {
  "kernelspec": {
   "display_name": "Python 3 (ipykernel)",
   "language": "python",
   "name": "python3"
  },
  "language_info": {
   "codemirror_mode": {
    "name": "ipython",
    "version": 3
   },
   "file_extension": ".py",
   "mimetype": "text/x-python",
   "name": "python",
   "nbconvert_exporter": "python",
   "pygments_lexer": "ipython3",
   "version": "3.9.7"
  }
 },
 "nbformat": 4,
 "nbformat_minor": 5
}
